{
 "cells": [
  {
   "cell_type": "markdown",
   "id": "afcf284f",
   "metadata": {},
   "source": [
    "# CRISP DM\n"
   ]
  },
  {
   "cell_type": "markdown",
   "id": "ba15c3be",
   "metadata": {},
   "source": [
    "## Problem Understanding:\n",
    "A central step in the ORCA pipeline is the automated mapping of natural language threat\n",
    "descriptions to structured attack patterns from the Common Attack Pattern Enumeration\n",
    "and Classification (CAPEC) framework. This process—referred to as Threat-to-CAPEC\n",
    "Mapping—aims to translate unstructured textual threat inputs into standardized, machine-\n",
    "readable representations that describe how an attacker might exploit a given vulnerability.\n",
    "This mapping is critical for enabling further steps in the security analysis process, such\n",
    "as correlating threats with known vulnerabilities (CWEs, CVEs), assessing risk using\n",
    "scoring systems like CVSS, and informing mitigation strategies. However, the task poses\n",
    "several inherent challenges:\n",
    "Ambiguity: Threat descriptions are often informal, incomplete, or context-dependent.\n",
    "Terminology mismatch: Natural language inputs may not directly align with the technical\n",
    "vocabulary used in CAPEC definitions.\n",
    "Granularity: A single threat may correspond to multiple CAPECs at varying levels of\n",
    "abstraction, requiring semantic reasoning to determine relevance.\n",
    "Solving this problem involves designing a system capable of understanding the semantics\n",
    "of threat descriptions and reliably identifying the most appropriate CAPEC entries. This\n",
    "step must balance accuracy, scalability, and interpretability to support reliable, automated\n",
    "security assessments within the broader ORCA framework."
   ]
  },
  {
   "cell_type": "markdown",
   "id": "28377b02",
   "metadata": {},
   "source": [
    "## Data Understanding"
   ]
  },
  {
   "cell_type": "code",
   "execution_count": 2,
   "id": "92b7bdae",
   "metadata": {},
   "outputs": [],
   "source": [
    "# imports\n",
    "import pandas as pd\n",
    "import json\n",
    "import re"
   ]
  },
  {
   "cell_type": "code",
   "execution_count": 3,
   "id": "5ce09cf6",
   "metadata": {},
   "outputs": [],
   "source": [
    "# setting display options for pandas\n",
    "pd.set_option('display.max_columns', None)\n",
    "pd.set_option('display.width', None)\n",
    "pd.set_option('display.max_colwidth', None)"
   ]
  },
  {
   "cell_type": "markdown",
   "id": "88e0f901",
   "metadata": {},
   "source": [
    "Import threat data from json file"
   ]
  },
  {
   "cell_type": "code",
   "execution_count": null,
   "id": "852276b1",
   "metadata": {},
   "outputs": [
    {
     "data": {
      "text/html": [
       "<div>\n",
       "<style scoped>\n",
       "    .dataframe tbody tr th:only-of-type {\n",
       "        vertical-align: middle;\n",
       "    }\n",
       "\n",
       "    .dataframe tbody tr th {\n",
       "        vertical-align: top;\n",
       "    }\n",
       "\n",
       "    .dataframe thead th {\n",
       "        text-align: right;\n",
       "    }\n",
       "</style>\n",
       "<table border=\"1\" class=\"dataframe\">\n",
       "  <thead>\n",
       "    <tr style=\"text-align: right;\">\n",
       "      <th></th>\n",
       "      <th>Threat ID</th>\n",
       "      <th>Threat title</th>\n",
       "      <th>Threat Description</th>\n",
       "      <th>Threat type</th>\n",
       "      <th>Impact type</th>\n",
       "      <th>Threat agent</th>\n",
       "      <th>Vulnerability</th>\n",
       "      <th>Threatened Asset</th>\n",
       "      <th>Affected Components</th>\n",
       "    </tr>\n",
       "  </thead>\n",
       "  <tbody>\n",
       "    <tr>\n",
       "      <th>0</th>\n",
       "      <td>T-O-RAN-01</td>\n",
       "      <td>An attacker exploits insecure designs or lack of adaption in O-RAN components</td>\n",
       "      <td>Unauthenticated/unauthorized access to O-RAN components could possibly be achieved via the different O-RAN interfaces, depending upon the design of the hardware-software O-RAN system and how different functions are segregated within the O-RAN system. \\nO-RAN components might be vulnerable if: \\n• Outdated component from the lack of update or patch management,\\n• Poorly design architecture,\\n• Missing appropriate security hardening,\\n• Unnecessary or insecure function/protocol/component.\\nAn attacker could, in such case, either inject malwares and/or manipulate existing software, harm the O-RAN components, create a performance issue by manipulation of parameters, or reconfigure the O-RAN components and disable the security features with the purpose of eavesdropping or wiretapping on various CUS &amp; M planes, reaching northbound systems, attack broader network to cause denial-of-service, steal unprotected private keys, certificates, hash values, or other type of breaches.\\nIn addition, O-RAN components could be software providing network functions, so they are likely to be vulnerable to software flaws: it could be possible to bypass firewall restrictions or to take advantage of a buffer overflow to execute arbitrary commands, etc.</td>\n",
       "      <td>None</td>\n",
       "      <td>None</td>\n",
       "      <td>All</td>\n",
       "      <td>[Outdated component from the lack of update or patch management, Poorly design architecture, Missing appropriate security hardening, Unnecessary or insecure function/protocol/component]</td>\n",
       "      <td>All</td>\n",
       "      <td>All</td>\n",
       "    </tr>\n",
       "    <tr>\n",
       "      <th>1</th>\n",
       "      <td>T-O-RAN-02</td>\n",
       "      <td>An attacker exploits misconfigured or poorly configured O-RAN components</td>\n",
       "      <td>Unauthenticated/unauthorized access to O-RAN components could possibly be achieved via the different O-RAN interfaces, depending upon the configuration of the hardware-software O-RAN system. \\nO-RAN components might be vulnerable if: \\n• Errors from the lack of configuration change management,\\n• Misconfigured or poorly configured O-RAN components,\\n• Improperly configured permissions,\\n• Unnecessary features are enabled (e.g. unnecessary ports, services, accounts, or privileges),\\n• Default accounts and their passwords still enabled and unchanged,\\n• Security features are disabled or not configured securely.\\nAn attacker could, in such case, either inject malwares and/or manipulate existing software, harm the O-RAN components, create a performance issue by manipulation of parameters, or reconfigure the O-RAN components and disable the security features with the purpose of eavesdropping or wiretapping on various CUS &amp; M planes, reaching northbound systems, attack broader network to cause denial-of-service, steal unprotected private keys, certificates, hash values, or other type of breaches.</td>\n",
       "      <td>None</td>\n",
       "      <td>None</td>\n",
       "      <td>All</td>\n",
       "      <td>[Errors from the lack of configuration change management, Misconfigured or poorly configured O-RAN components, Improperly configured permissions, Unnecessary features are enabled (e.g. unnecessary ports, services, accounts, or privileges), Default accounts and their passwords still enabled and unchanged, Security features are disabled or not configured securely]</td>\n",
       "      <td>All</td>\n",
       "      <td>All</td>\n",
       "    </tr>\n",
       "    <tr>\n",
       "      <th>2</th>\n",
       "      <td>T-O-RAN-03</td>\n",
       "      <td>Attacks from the internet to penetrate O-RAN network boundary</td>\n",
       "      <td>Web servers serving O-RAN functional and management services should provide adequate protection. \\nAn attacker that have access to the uncontrolled O-RAN network could:\\n• Bypass the information flow control policy implemented by the firewall,\\n• And/or attack O-RAN components in the trusted networks by taking advantage of particularities and errors in the design and implementation of the network protocols (IP, TCP, UDP, application protocols),\\n• Use of incorrect or exceeded TCP sequence numbers,\\n• Perform brute force attacks on FTP passwords,\\n• Use of improper HTTP user sessions,\\n• Etc.\\nThe effects of such attacks may include:\\n• An intrusion, meaning unauthorized access to O-RAN components,\\n• Blocking, flooding or restarting an O-RAN component causing a denial of service,\\n• Flooding of network equipment, causing a denial of service,\\n• Etc.</td>\n",
       "      <td>None</td>\n",
       "      <td>None</td>\n",
       "      <td>All</td>\n",
       "      <td>[Errors in the design and implementation of the network protocols (HTTP, P, TCP, UDP, application protocols)]</td>\n",
       "      <td>All</td>\n",
       "      <td>All</td>\n",
       "    </tr>\n",
       "    <tr>\n",
       "      <th>3</th>\n",
       "      <td>T-O-RAN-04</td>\n",
       "      <td>An attacker attempts to jam the airlink signal through IoT devices</td>\n",
       "      <td>DDoS attacks on O-RAN systems: The 5G evolution means billions of things, collectively referred to as IoT, will be using the 5G O-RAN. Thus, IoT could increase the risk of O-RAN resource overload by way of DDoS attacks. Attackers create a botnet army by infecting many (millions/billions) IoT devices with a “remote-reboot” malware. Attackers instruct the malware to reboot all devices in a specific or targeted 5G coverage area at the same time.</td>\n",
       "      <td>None</td>\n",
       "      <td>None</td>\n",
       "      <td>All</td>\n",
       "      <td>[Failure to address overload situations]</td>\n",
       "      <td>ASSET-D-06, ASSET-D-18</td>\n",
       "      <td>O-RU, airlink with UE, O-DU</td>\n",
       "    </tr>\n",
       "    <tr>\n",
       "      <th>4</th>\n",
       "      <td>T-O-RAN-05</td>\n",
       "      <td>An attacker penetrates and compromises the O-RAN system through the open O-RAN’s Fronthaul, O1, O2, A1, and E2</td>\n",
       "      <td>O-RAN’s Fronthaul, O1, O2, A1, and E2 management interfaces are the new open interfaces that allow software programmability of RAN. These interfaces may not be secured to industry best practices.\\nO-RAN components might be vulnerable if: \\n• Improper or missing authentication and authorization processes,\\n• Improper or missing ciphering and integrity checks of sensitive data exchanged over O-RAN interfaces,\\n• Improper or missing replay protection of sensitive data exchanged over O-RAN interfaces,\\n• Improper prevention of key reuse,\\n• Improper implementation,\\n• Improperly validate inputs, respond to error conditions in both the submitted data as well as out of sequence protocol steps.\\nAn attacker could, in such case, cause denial-of-service, data tampering or information disclosure, etc.\\nNOTE: O-RAN interfaces allow use of TLS or SSH. Industry best practices mandate the use of TLS (v1.2 or higher) or SSH certificate-based authentication. An implementation that implements TLS version lower than 1.2 or a SSH password authentication, may become the key source of vulnerability that a malicious code will exploit to compromise the O-RAN system.</td>\n",
       "      <td>None</td>\n",
       "      <td>None</td>\n",
       "      <td>All</td>\n",
       "      <td>[Improper or missing authentication and authorization processes, Improper prevention of key reuse, Improper or missing replay protection of sensitive data exchanged over O-RAN interfaces, Improper or missing ciphering and integrity checks of sensitive data exchanged over O-RAN interfaces]</td>\n",
       "      <td>All</td>\n",
       "      <td>rApps, xApps, O-RU, O-DU, O-CU, Near-RT RIC, Non-RT RIC</td>\n",
       "    </tr>\n",
       "  </tbody>\n",
       "</table>\n",
       "</div>"
      ],
      "text/plain": [
       "    Threat ID  \\\n",
       "0  T-O-RAN-01   \n",
       "1  T-O-RAN-02   \n",
       "2  T-O-RAN-03   \n",
       "3  T-O-RAN-04   \n",
       "4  T-O-RAN-05   \n",
       "\n",
       "                                                                                                     Threat title  \\\n",
       "0                                   An attacker exploits insecure designs or lack of adaption in O-RAN components   \n",
       "1                                        An attacker exploits misconfigured or poorly configured O-RAN components   \n",
       "2                                                   Attacks from the internet to penetrate O-RAN network boundary   \n",
       "3                                              An attacker attempts to jam the airlink signal through IoT devices   \n",
       "4  An attacker penetrates and compromises the O-RAN system through the open O-RAN’s Fronthaul, O1, O2, A1, and E2   \n",
       "\n",
       "                                                                                                                                                                                                                                                                                                                                                                                                                                                                                                                                                                                                                                                                                                                                                                                                                                                                                                                                                                                                                                                                                                                                                                                                                                                                               Threat Description  \\\n",
       "0  Unauthenticated/unauthorized access to O-RAN components could possibly be achieved via the different O-RAN interfaces, depending upon the design of the hardware-software O-RAN system and how different functions are segregated within the O-RAN system. \\nO-RAN components might be vulnerable if: \\n• Outdated component from the lack of update or patch management,\\n• Poorly design architecture,\\n• Missing appropriate security hardening,\\n• Unnecessary or insecure function/protocol/component.\\nAn attacker could, in such case, either inject malwares and/or manipulate existing software, harm the O-RAN components, create a performance issue by manipulation of parameters, or reconfigure the O-RAN components and disable the security features with the purpose of eavesdropping or wiretapping on various CUS & M planes, reaching northbound systems, attack broader network to cause denial-of-service, steal unprotected private keys, certificates, hash values, or other type of breaches.\\nIn addition, O-RAN components could be software providing network functions, so they are likely to be vulnerable to software flaws: it could be possible to bypass firewall restrictions or to take advantage of a buffer overflow to execute arbitrary commands, etc.   \n",
       "1                                                                                                                                             Unauthenticated/unauthorized access to O-RAN components could possibly be achieved via the different O-RAN interfaces, depending upon the configuration of the hardware-software O-RAN system. \\nO-RAN components might be vulnerable if: \\n• Errors from the lack of configuration change management,\\n• Misconfigured or poorly configured O-RAN components,\\n• Improperly configured permissions,\\n• Unnecessary features are enabled (e.g. unnecessary ports, services, accounts, or privileges),\\n• Default accounts and their passwords still enabled and unchanged,\\n• Security features are disabled or not configured securely.\\nAn attacker could, in such case, either inject malwares and/or manipulate existing software, harm the O-RAN components, create a performance issue by manipulation of parameters, or reconfigure the O-RAN components and disable the security features with the purpose of eavesdropping or wiretapping on various CUS & M planes, reaching northbound systems, attack broader network to cause denial-of-service, steal unprotected private keys, certificates, hash values, or other type of breaches.   \n",
       "2                                                                                                                                                                                                                                                                                                                                                                                                   Web servers serving O-RAN functional and management services should provide adequate protection. \\nAn attacker that have access to the uncontrolled O-RAN network could:\\n• Bypass the information flow control policy implemented by the firewall,\\n• And/or attack O-RAN components in the trusted networks by taking advantage of particularities and errors in the design and implementation of the network protocols (IP, TCP, UDP, application protocols),\\n• Use of incorrect or exceeded TCP sequence numbers,\\n• Perform brute force attacks on FTP passwords,\\n• Use of improper HTTP user sessions,\\n• Etc.\\nThe effects of such attacks may include:\\n• An intrusion, meaning unauthorized access to O-RAN components,\\n• Blocking, flooding or restarting an O-RAN component causing a denial of service,\\n• Flooding of network equipment, causing a denial of service,\\n• Etc.   \n",
       "3                                                                                                                                                                                                                                                                                                                                                                                                                                                                                                                                                                                                                                                                                                                                                                                                                                  DDoS attacks on O-RAN systems: The 5G evolution means billions of things, collectively referred to as IoT, will be using the 5G O-RAN. Thus, IoT could increase the risk of O-RAN resource overload by way of DDoS attacks. Attackers create a botnet army by infecting many (millions/billions) IoT devices with a “remote-reboot” malware. Attackers instruct the malware to reboot all devices in a specific or targeted 5G coverage area at the same time.   \n",
       "4                                                                                       O-RAN’s Fronthaul, O1, O2, A1, and E2 management interfaces are the new open interfaces that allow software programmability of RAN. These interfaces may not be secured to industry best practices.\\nO-RAN components might be vulnerable if: \\n• Improper or missing authentication and authorization processes,\\n• Improper or missing ciphering and integrity checks of sensitive data exchanged over O-RAN interfaces,\\n• Improper or missing replay protection of sensitive data exchanged over O-RAN interfaces,\\n• Improper prevention of key reuse,\\n• Improper implementation,\\n• Improperly validate inputs, respond to error conditions in both the submitted data as well as out of sequence protocol steps.\\nAn attacker could, in such case, cause denial-of-service, data tampering or information disclosure, etc.\\nNOTE: O-RAN interfaces allow use of TLS or SSH. Industry best practices mandate the use of TLS (v1.2 or higher) or SSH certificate-based authentication. An implementation that implements TLS version lower than 1.2 or a SSH password authentication, may become the key source of vulnerability that a malicious code will exploit to compromise the O-RAN system.   \n",
       "\n",
       "  Threat type Impact type Threat agent  \\\n",
       "0        None        None          All   \n",
       "1        None        None          All   \n",
       "2        None        None          All   \n",
       "3        None        None          All   \n",
       "4        None        None          All   \n",
       "\n",
       "                                                                                                                                                                                                                                                                                                                                                                  Vulnerability  \\\n",
       "0                                                                                                                                                                                     [Outdated component from the lack of update or patch management, Poorly design architecture, Missing appropriate security hardening, Unnecessary or insecure function/protocol/component]   \n",
       "1  [Errors from the lack of configuration change management, Misconfigured or poorly configured O-RAN components, Improperly configured permissions, Unnecessary features are enabled (e.g. unnecessary ports, services, accounts, or privileges), Default accounts and their passwords still enabled and unchanged, Security features are disabled or not configured securely]   \n",
       "2                                                                                                                                                                                                                                                                 [Errors in the design and implementation of the network protocols (HTTP, P, TCP, UDP, application protocols)]   \n",
       "3                                                                                                                                                                                                                                                                                                                                      [Failure to address overload situations]   \n",
       "4                                                                             [Improper or missing authentication and authorization processes, Improper prevention of key reuse, Improper or missing replay protection of sensitive data exchanged over O-RAN interfaces, Improper or missing ciphering and integrity checks of sensitive data exchanged over O-RAN interfaces]   \n",
       "\n",
       "         Threatened Asset  \\\n",
       "0                     All   \n",
       "1                     All   \n",
       "2                     All   \n",
       "3  ASSET-D-06, ASSET-D-18   \n",
       "4                     All   \n",
       "\n",
       "                                       Affected Components  \n",
       "0                                                      All  \n",
       "1                                                      All  \n",
       "2                                                      All  \n",
       "3                              O-RU, airlink with UE, O-DU  \n",
       "4  rApps, xApps, O-RU, O-DU, O-CU, Near-RT RIC, Non-RT RIC  "
      ]
     },
     "execution_count": 4,
     "metadata": {},
     "output_type": "execute_result"
    }
   ],
   "source": [
    "# Load threat data from JSON file into a DataFrame\n",
    "df_threats = pd.read_json('threat_data/all_threats.json')\n",
    "df_threats.head(5)"
   ]
  },
  {
   "cell_type": "code",
   "execution_count": 5,
   "id": "0fde54f2",
   "metadata": {},
   "outputs": [
    {
     "name": "stdout",
     "output_type": "stream",
     "text": [
      "<class 'pandas.core.frame.DataFrame'>\n",
      "RangeIndex: 182 entries, 0 to 181\n",
      "Data columns (total 9 columns):\n",
      " #   Column               Non-Null Count  Dtype \n",
      "---  ------               --------------  ----- \n",
      " 0   Threat ID            182 non-null    object\n",
      " 1   Threat title         182 non-null    object\n",
      " 2   Threat Description   182 non-null    object\n",
      " 3   Threat type          82 non-null     object\n",
      " 4   Impact type          82 non-null     object\n",
      " 5   Threat agent         182 non-null    object\n",
      " 6   Vulnerability        182 non-null    object\n",
      " 7   Threatened Asset     182 non-null    object\n",
      " 8   Affected Components  182 non-null    object\n",
      "dtypes: object(9)\n",
      "memory usage: 12.9+ KB\n"
     ]
    }
   ],
   "source": [
    "# Display DataFrame information\n",
    "df_threats.info()"
   ]
  },
  {
   "cell_type": "markdown",
   "id": "1be67c75",
   "metadata": {},
   "source": [
    "There a 182 threats in 9 columns, each threat has a unique ID, a title, a description, a threat type, an impact type, a threat agent, one or more vulnerabilities (safed in a list), a threatened asset and a affected component"
   ]
  },
  {
   "cell_type": "code",
   "execution_count": 6,
   "id": "a797c421",
   "metadata": {},
   "outputs": [
    {
     "data": {
      "text/html": [
       "<div>\n",
       "<style scoped>\n",
       "    .dataframe tbody tr th:only-of-type {\n",
       "        vertical-align: middle;\n",
       "    }\n",
       "\n",
       "    .dataframe tbody tr th {\n",
       "        vertical-align: top;\n",
       "    }\n",
       "\n",
       "    .dataframe thead th {\n",
       "        text-align: right;\n",
       "    }\n",
       "</style>\n",
       "<table border=\"1\" class=\"dataframe\">\n",
       "  <thead>\n",
       "    <tr style=\"text-align: right;\">\n",
       "      <th></th>\n",
       "      <th>Threat ID</th>\n",
       "      <th>Threat title</th>\n",
       "      <th>Threat Description</th>\n",
       "      <th>Threat type</th>\n",
       "      <th>Impact type</th>\n",
       "      <th>Threat agent</th>\n",
       "      <th>Vulnerability</th>\n",
       "      <th>Threatened Asset</th>\n",
       "      <th>Affected Components</th>\n",
       "    </tr>\n",
       "  </thead>\n",
       "  <tbody>\n",
       "    <tr>\n",
       "      <th>count</th>\n",
       "      <td>182</td>\n",
       "      <td>182</td>\n",
       "      <td>182</td>\n",
       "      <td>82</td>\n",
       "      <td>82</td>\n",
       "      <td>182</td>\n",
       "      <td>182</td>\n",
       "      <td>182</td>\n",
       "      <td>182</td>\n",
       "    </tr>\n",
       "    <tr>\n",
       "      <th>unique</th>\n",
       "      <td>182</td>\n",
       "      <td>181</td>\n",
       "      <td>182</td>\n",
       "      <td>16</td>\n",
       "      <td>17</td>\n",
       "      <td>2</td>\n",
       "      <td>116</td>\n",
       "      <td>58</td>\n",
       "      <td>55</td>\n",
       "    </tr>\n",
       "    <tr>\n",
       "      <th>top</th>\n",
       "      <td>T-O-RAN-01</td>\n",
       "      <td>External attacker exploits authentication weakness on SMO</td>\n",
       "      <td>Unauthenticated/unauthorized access to O-RAN components could possibly be achieved via the different O-RAN interfaces, depending upon the design of the hardware-software O-RAN system and how different functions are segregated within the O-RAN system. \\nO-RAN components might be vulnerable if: \\n• Outdated component from the lack of update or patch management,\\n• Poorly design architecture,\\n• Missing appropriate security hardening,\\n• Unnecessary or insecure function/protocol/component.\\nAn attacker could, in such case, either inject malwares and/or manipulate existing software, harm the O-RAN components, create a performance issue by manipulation of parameters, or reconfigure the O-RAN components and disable the security features with the purpose of eavesdropping or wiretapping on various CUS &amp; M planes, reaching northbound systems, attack broader network to cause denial-of-service, steal unprotected private keys, certificates, hash values, or other type of breaches.\\nIn addition, O-RAN components could be software providing network functions, so they are likely to be vulnerable to software flaws: it could be possible to bypass firewall restrictions or to take advantage of a buffer overflow to execute arbitrary commands, etc.</td>\n",
       "      <td>Spoofing</td>\n",
       "      <td>Authenticity</td>\n",
       "      <td>All</td>\n",
       "      <td>[weak mutual authentication]</td>\n",
       "      <td>ASSET-D-12, ASSET-D-13, ASSET-D-14, ASSET-D-15, ASSET-D-16, ASSET-D-17, ASSET-D-18, ASSET-D-19, ASSET-D-20, ASSET-D-29, ASSET-D-31, ASSET-D-32</td>\n",
       "      <td>All</td>\n",
       "    </tr>\n",
       "    <tr>\n",
       "      <th>freq</th>\n",
       "      <td>1</td>\n",
       "      <td>2</td>\n",
       "      <td>1</td>\n",
       "      <td>28</td>\n",
       "      <td>26</td>\n",
       "      <td>178</td>\n",
       "      <td>12</td>\n",
       "      <td>24</td>\n",
       "      <td>19</td>\n",
       "    </tr>\n",
       "  </tbody>\n",
       "</table>\n",
       "</div>"
      ],
      "text/plain": [
       "         Threat ID                                               Threat title  \\\n",
       "count          182                                                        182   \n",
       "unique         182                                                        181   \n",
       "top     T-O-RAN-01  External attacker exploits authentication weakness on SMO   \n",
       "freq             1                                                          2   \n",
       "\n",
       "                                                                                                                                                                                                                                                                                                                                                                                                                                                                                                                                                                                                                                                                                                                                                                                                                                                                                                                                                                                                                                                                                                                                                                                                                                                                                    Threat Description  \\\n",
       "count                                                                                                                                                                                                                                                                                                                                                                                                                                                                                                                                                                                                                                                                                                                                                                                                                                                                                                                                                                                                                                                                                                                                                                                                                                                                                              182   \n",
       "unique                                                                                                                                                                                                                                                                                                                                                                                                                                                                                                                                                                                                                                                                                                                                                                                                                                                                                                                                                                                                                                                                                                                                                                                                                                                                                             182   \n",
       "top     Unauthenticated/unauthorized access to O-RAN components could possibly be achieved via the different O-RAN interfaces, depending upon the design of the hardware-software O-RAN system and how different functions are segregated within the O-RAN system. \\nO-RAN components might be vulnerable if: \\n• Outdated component from the lack of update or patch management,\\n• Poorly design architecture,\\n• Missing appropriate security hardening,\\n• Unnecessary or insecure function/protocol/component.\\nAn attacker could, in such case, either inject malwares and/or manipulate existing software, harm the O-RAN components, create a performance issue by manipulation of parameters, or reconfigure the O-RAN components and disable the security features with the purpose of eavesdropping or wiretapping on various CUS & M planes, reaching northbound systems, attack broader network to cause denial-of-service, steal unprotected private keys, certificates, hash values, or other type of breaches.\\nIn addition, O-RAN components could be software providing network functions, so they are likely to be vulnerable to software flaws: it could be possible to bypass firewall restrictions or to take advantage of a buffer overflow to execute arbitrary commands, etc.   \n",
       "freq                                                                                                                                                                                                                                                                                                                                                                                                                                                                                                                                                                                                                                                                                                                                                                                                                                                                                                                                                                                                                                                                                                                                                                                                                                                                                                 1   \n",
       "\n",
       "       Threat type   Impact type Threat agent                 Vulnerability  \\\n",
       "count           82            82          182                           182   \n",
       "unique          16            17            2                           116   \n",
       "top       Spoofing  Authenticity          All  [weak mutual authentication]   \n",
       "freq            28            26          178                            12   \n",
       "\n",
       "                                                                                                                                      Threatened Asset  \\\n",
       "count                                                                                                                                              182   \n",
       "unique                                                                                                                                              58   \n",
       "top     ASSET-D-12, ASSET-D-13, ASSET-D-14, ASSET-D-15, ASSET-D-16, ASSET-D-17, ASSET-D-18, ASSET-D-19, ASSET-D-20, ASSET-D-29, ASSET-D-31, ASSET-D-32   \n",
       "freq                                                                                                                                                24   \n",
       "\n",
       "       Affected Components  \n",
       "count                  182  \n",
       "unique                  55  \n",
       "top                    All  \n",
       "freq                    19  "
      ]
     },
     "execution_count": 6,
     "metadata": {},
     "output_type": "execute_result"
    }
   ],
   "source": [
    "df_threats.describe()"
   ]
  },
  {
   "cell_type": "code",
   "execution_count": 7,
   "id": "612b55a0",
   "metadata": {},
   "outputs": [
    {
     "data": {
      "text/html": [
       "\n",
       "<style>\n",
       "/* White background for output area */\n",
       ".output_area {\n",
       "    background: white !important;\n",
       "    color: black !important;\n",
       "}\n",
       "\n",
       "/* Optional: White background for DataFrame cells */\n",
       ".dataframe {\n",
       "    background-color: white !important;\n",
       "    color: black !important;\n",
       "}\n",
       "</style>\n"
      ],
      "text/plain": [
       "<IPython.core.display.HTML object>"
      ]
     },
     "metadata": {},
     "output_type": "display_data"
    }
   ],
   "source": [
    "from IPython.display import HTML, display\n",
    "\n",
    "display(HTML('''\n",
    "<style>\n",
    "/* White background for output area */\n",
    ".output_area {\n",
    "    background: white !important;\n",
    "    color: black !important;\n",
    "}\n",
    "\n",
    "/* Optional: White background for DataFrame cells */\n",
    ".dataframe {\n",
    "    background-color: white !important;\n",
    "    color: black !important;\n",
    "}\n",
    "</style>\n",
    "'''))\n",
    "\n"
   ]
  },
  {
   "cell_type": "code",
   "execution_count": 8,
   "id": "ec02ea7c",
   "metadata": {},
   "outputs": [
    {
     "data": {
      "text/plain": [
       "Threat ID                0\n",
       "Threat title             0\n",
       "Threat Description       0\n",
       "Threat type            100\n",
       "Impact type            100\n",
       "Threat agent             0\n",
       "Vulnerability            0\n",
       "Threatened Asset         0\n",
       "Affected Components      0\n",
       "dtype: int64"
      ]
     },
     "execution_count": 8,
     "metadata": {},
     "output_type": "execute_result"
    }
   ],
   "source": [
    "df_threats.isnull().sum()"
   ]
  },
  {
   "cell_type": "code",
   "execution_count": 9,
   "id": "6bbf2588",
   "metadata": {},
   "outputs": [
    {
     "data": {
      "text/plain": [
       "Index(['Threat ID', 'Threat title', 'Threat Description', 'Threat type',\n",
       "       'Impact type', 'Threat agent', 'Vulnerability', 'Threatened Asset',\n",
       "       'Affected Components'],\n",
       "      dtype='object')"
      ]
     },
     "execution_count": 9,
     "metadata": {},
     "output_type": "execute_result"
    }
   ],
   "source": [
    "df_threats.columns"
   ]
  },
  {
   "cell_type": "code",
   "execution_count": 10,
   "id": "631fabe7",
   "metadata": {},
   "outputs": [
    {
     "data": {
      "text/html": [
       "<div>\n",
       "<style scoped>\n",
       "    .dataframe tbody tr th:only-of-type {\n",
       "        vertical-align: middle;\n",
       "    }\n",
       "\n",
       "    .dataframe tbody tr th {\n",
       "        vertical-align: top;\n",
       "    }\n",
       "\n",
       "    .dataframe thead th {\n",
       "        text-align: right;\n",
       "    }\n",
       "</style>\n",
       "<table border=\"1\" class=\"dataframe\">\n",
       "  <thead>\n",
       "    <tr style=\"text-align: right;\">\n",
       "      <th></th>\n",
       "      <th>Threat type</th>\n",
       "      <th>count</th>\n",
       "    </tr>\n",
       "  </thead>\n",
       "  <tbody>\n",
       "    <tr>\n",
       "      <th>0</th>\n",
       "      <td>Spoofing</td>\n",
       "      <td>28</td>\n",
       "    </tr>\n",
       "    <tr>\n",
       "      <th>1</th>\n",
       "      <td>Denial of Service</td>\n",
       "      <td>11</td>\n",
       "    </tr>\n",
       "    <tr>\n",
       "      <th>2</th>\n",
       "      <td>Elevation of Privilege</td>\n",
       "      <td>10</td>\n",
       "    </tr>\n",
       "    <tr>\n",
       "      <th>3</th>\n",
       "      <td>Information Disclosure</td>\n",
       "      <td>9</td>\n",
       "    </tr>\n",
       "    <tr>\n",
       "      <th>4</th>\n",
       "      <td>Tampering</td>\n",
       "      <td>8</td>\n",
       "    </tr>\n",
       "    <tr>\n",
       "      <th>5</th>\n",
       "      <td>Information disclosure</td>\n",
       "      <td>4</td>\n",
       "    </tr>\n",
       "    <tr>\n",
       "      <th>6</th>\n",
       "      <td>Tampering; Denial of Service</td>\n",
       "      <td>2</td>\n",
       "    </tr>\n",
       "    <tr>\n",
       "      <th>7</th>\n",
       "      <td>Elevation of Privilege, Information Disclosure</td>\n",
       "      <td>2</td>\n",
       "    </tr>\n",
       "    <tr>\n",
       "      <th>8</th>\n",
       "      <td>Elevation of Privilege; Denial of Service</td>\n",
       "      <td>1</td>\n",
       "    </tr>\n",
       "    <tr>\n",
       "      <th>9</th>\n",
       "      <td>Denial of Service, Escalation of Privilege</td>\n",
       "      <td>1</td>\n",
       "    </tr>\n",
       "    <tr>\n",
       "      <th>10</th>\n",
       "      <td>Denial of Service, Information Disclosure</td>\n",
       "      <td>1</td>\n",
       "    </tr>\n",
       "    <tr>\n",
       "      <th>11</th>\n",
       "      <td>Denial of Service; Tampering</td>\n",
       "      <td>1</td>\n",
       "    </tr>\n",
       "    <tr>\n",
       "      <th>12</th>\n",
       "      <td>Information disclosure, Tampering</td>\n",
       "      <td>1</td>\n",
       "    </tr>\n",
       "    <tr>\n",
       "      <th>13</th>\n",
       "      <td>Information Disclosure, Denial of Service</td>\n",
       "      <td>1</td>\n",
       "    </tr>\n",
       "    <tr>\n",
       "      <th>14</th>\n",
       "      <td>Tampering, Information Disclosure, Escalation of Privilege</td>\n",
       "      <td>1</td>\n",
       "    </tr>\n",
       "    <tr>\n",
       "      <th>15</th>\n",
       "      <td>Tampering; Elevation of Privilege; Denial of Service</td>\n",
       "      <td>1</td>\n",
       "    </tr>\n",
       "  </tbody>\n",
       "</table>\n",
       "</div>"
      ],
      "text/plain": [
       "                                                   Threat type  count\n",
       "0                                                     Spoofing     28\n",
       "1                                            Denial of Service     11\n",
       "2                                       Elevation of Privilege     10\n",
       "3                                       Information Disclosure      9\n",
       "4                                                    Tampering      8\n",
       "5                                       Information disclosure      4\n",
       "6                                 Tampering; Denial of Service      2\n",
       "7               Elevation of Privilege, Information Disclosure      2\n",
       "8                    Elevation of Privilege; Denial of Service      1\n",
       "9                   Denial of Service, Escalation of Privilege      1\n",
       "10                   Denial of Service, Information Disclosure      1\n",
       "11                                Denial of Service; Tampering      1\n",
       "12                           Information disclosure, Tampering      1\n",
       "13                   Information Disclosure, Denial of Service      1\n",
       "14  Tampering, Information Disclosure, Escalation of Privilege      1\n",
       "15        Tampering; Elevation of Privilege; Denial of Service      1"
      ]
     },
     "execution_count": 10,
     "metadata": {},
     "output_type": "execute_result"
    }
   ],
   "source": [
    "df_threats.groupby('Threat type').size().reset_index(name='count').sort_values(by='count', ascending=False).reset_index(drop=True)"
   ]
  },
  {
   "cell_type": "code",
   "execution_count": 11,
   "id": "31b6e9b3",
   "metadata": {},
   "outputs": [
    {
     "data": {
      "text/plain": [
       "np.True_"
      ]
     },
     "execution_count": 11,
     "metadata": {},
     "output_type": "execute_result"
    }
   ],
   "source": [
    "(df_threats['Threat type'].isnull() == df_threats['Impact type'].isnull()).all()\n"
   ]
  },
  {
   "cell_type": "code",
   "execution_count": 12,
   "id": "d9c8d7d8",
   "metadata": {},
   "outputs": [
    {
     "data": {
      "text/plain": [
       "Threat type\n",
       "None                                                          52\n",
       "NaN                                                           48\n",
       "Spoofing                                                      28\n",
       "Denial of Service                                             11\n",
       "Elevation of Privilege                                        10\n",
       "Information Disclosure                                         9\n",
       "Tampering                                                      8\n",
       "Information disclosure                                         4\n",
       "Elevation of Privilege, Information Disclosure                 2\n",
       "Tampering; Denial of Service                                   2\n",
       "Information disclosure, Tampering                              1\n",
       "Tampering, Information Disclosure, Escalation of Privilege     1\n",
       "Denial of Service, Escalation of Privilege                     1\n",
       "Denial of Service; Tampering                                   1\n",
       "Elevation of Privilege; Denial of Service                      1\n",
       "Tampering; Elevation of Privilege; Denial of Service           1\n",
       "Denial of Service, Information Disclosure                      1\n",
       "Information Disclosure, Denial of Service                      1\n",
       "Name: count, dtype: int64"
      ]
     },
     "execution_count": 12,
     "metadata": {},
     "output_type": "execute_result"
    }
   ],
   "source": [
    "df_threats['Threat type'].value_counts(dropna=False)"
   ]
  },
  {
   "cell_type": "code",
   "execution_count": 13,
   "id": "2ac5ec87",
   "metadata": {},
   "outputs": [
    {
     "data": {
      "text/plain": [
       "Impact type\n",
       "None                                         52\n",
       "NaN                                          48\n",
       "Authenticity                                 26\n",
       "Confidentiality                              14\n",
       "Availability                                 12\n",
       "Authorization                                 9\n",
       "Integrity                                     7\n",
       "Authentication                                2\n",
       "Integrity; Availability                       2\n",
       "Authorization. Confidentiality                1\n",
       "Integrity, Confidentiality, Authorization     1\n",
       "Availability; Integrity                       1\n",
       "Confidentiality, Integrity                    1\n",
       "Authorization; Availability                   1\n",
       "Integrity; Authorization; Availability        1\n",
       "Integrity, Availability                       1\n",
       "Availability, Confidentiality                 1\n",
       "Confidentiality, Availability                 1\n",
       "Authorization, Availability                   1\n",
       "Name: count, dtype: int64"
      ]
     },
     "execution_count": 13,
     "metadata": {},
     "output_type": "execute_result"
    }
   ],
   "source": [
    "df_threats['Impact type'].value_counts(dropna=False)"
   ]
  },
  {
   "cell_type": "code",
   "execution_count": 14,
   "id": "d64cb17d",
   "metadata": {},
   "outputs": [
    {
     "data": {
      "text/plain": [
       "Vulnerability\n",
       "[weak mutual authentication]                                                                                                                                                                                                                                                     12\n",
       "[Weak authentication can be exploited by a tenant to move laterally across the deployment.]                                                                                                                                                                                       9\n",
       "[Lack of integrity verification]                                                                                                                                                                                                                                                  5\n",
       "[Lack of overload protection and rate-limiting]                                                                                                                                                                                                                                   5\n",
       "[Weak confidentiality protection exploited to view sensitive data]                                                                                                                                                                                                                5\n",
       "                                                                                                                                                                                                                                                                                 ..\n",
       "[Inaccurate inventories of open-source software, Lack of consistent Supply Chain traceability and security, Lack of coding best practices, Modules with known vulnerabilities and untrusted libraries]                                                                            1\n",
       "[Improper physical security protection of data centres, PNFs, operation areas, etc., Improper protection to power outages (power supply), Improper protection against environmental disasters, Improper maintenance and monitoring of hardware parameters, Hardware backdoor]     1\n",
       "[Bugs in open source software caused by mistakes and human error]                                                                                                                                                                                                                 1\n",
       "[Physical access to the open Fronthaul cable network]                                                                                                                                                                                                                             1\n",
       "[Use of pretrained public ML model]                                                                                                                                                                                                                                               1\n",
       "Name: count, Length: 116, dtype: int64"
      ]
     },
     "execution_count": 14,
     "metadata": {},
     "output_type": "execute_result"
    }
   ],
   "source": [
    "df_threats['Vulnerability'].value_counts(dropna=False)"
   ]
  },
  {
   "cell_type": "markdown",
   "id": "027323c9",
   "metadata": {},
   "source": [
    "### Distribution Analysis\n"
   ]
  },
  {
   "cell_type": "code",
   "execution_count": 15,
   "id": "ec629f4c",
   "metadata": {},
   "outputs": [],
   "source": [
    "# some threat types as well as impact types are seperated by a comma, while others are seperated by a semicolon or a point\n",
    "# Replace all semicolons with commas\n",
    "df_threats['Threat type'] = df_threats['Threat type'].str.replace(';', ',', regex=False)\n",
    "df_threats['Threat type'] = df_threats['Threat type'].str.replace('.', ',', regex=False)\n",
    "df_threats['Impact type'] = df_threats['Impact type'].str.replace(';', ',', regex=False)\n",
    "df_threats['Impact type'] = df_threats['Impact type'].str.replace('.', ',', regex=False)\n",
    "# in the Threatened asssets column, some values have a underscore instead of a dash\n",
    "df_threats['Threatened Asset'] = df_threats['Threatened Asset'].str.replace('_', '-', regex=False)"
   ]
  },
  {
   "cell_type": "code",
   "execution_count": 16,
   "id": "e72a3e57",
   "metadata": {},
   "outputs": [],
   "source": [
    "# removing leading and trailing whitespace from the 'Threat type','Impact type','Threatened asset' and 'Affected components' columns\n",
    "df_threats['Threat type'] = df_threats['Threat type'].apply(\n",
    "    lambda x: [t.strip() for t in x.split(',')] if isinstance(x, str) else x\n",
    ")\n",
    "df_threats['Impact type'] = df_threats['Impact type'].apply(\n",
    "    lambda x: [t.strip() for t in x.split(',')] if isinstance(x, str) else x\n",
    ")\n",
    "df_threats['Threatened Asset'] = df_threats['Threatened Asset'].apply(\n",
    "    lambda x: [t.strip() for t in x.split(',')] if isinstance(x, str) else x\n",
    ")\n",
    "df_threats['Affected Components'] = df_threats['Affected Components'].apply(\n",
    "    lambda x: [t.strip() for t in x.split(',')] if isinstance(x, str) else x\n",
    ")\n",
    "# the vulnerability column contains a list with only one string element\n",
    "# this string contains multpile vulnerabilities separated by commas\n",
    "# we convert the list to this one string element and then split the string by commas\n",
    "df_threats['Vulnerability'] = df_threats['Vulnerability'].apply(lambda x: x[0] if isinstance(x, list) else x)\n",
    "df_threats['Vulnerability'] = df_threats['Vulnerability'].apply(\n",
    "    lambda x: [t.strip() for t in x.split(',')] if isinstance(x, str) else x\n",
    ")"
   ]
  },
  {
   "cell_type": "code",
   "execution_count": 17,
   "id": "70860c6b",
   "metadata": {},
   "outputs": [
    {
     "name": "stdout",
     "output_type": "stream",
     "text": [
      "['ASSET D-11', 'ASSET D-20', 'ASSET D-21', 'ASSET-C-02', 'ASSET-C-03', 'ASSET-C-07', 'ASSET-C-08', 'ASSET-C-09', 'ASSET-C-1', 'ASSET-C-10', 'ASSET-C-11', 'ASSET-C-12', 'ASSET-C-14', 'ASSET-C-16', 'ASSET-C-17', 'ASSET-C-18', 'ASSET-C-19', 'ASSET-C-2', 'ASSET-C-20', 'ASSET-C-21', 'ASSET-C-22', 'ASSET-C-23', 'ASSET-C-24', 'ASSET-C-25', 'ASSET-C-26', 'ASSET-C-27', 'ASSET-C-28', 'ASSET-C-3', 'ASSET-C-31', 'ASSET-C-32', 'ASSET-C-33', 'ASSET-C-34', 'ASSET-C-35', 'ASSET-C-36', 'ASSET-C-37', 'ASSET-C-38', 'ASSET-C-39', 'ASSET-C-4', 'ASSET-C-40', 'ASSET-C-42', 'ASSET-C-5', 'ASSET-C-6', 'ASSET-C-7', 'ASSET-C-8', 'ASSET-C-9', 'ASSET-D-01', 'ASSET-D-02', 'ASSET-D-03', 'ASSET-D-04', 'ASSET-D-05', 'ASSET-D-06', 'ASSET-D-07', 'ASSET-D-08', 'ASSET-D-09', 'ASSET-D-1', 'ASSET-D-10', 'ASSET-D-11', 'ASSET-D-12', 'ASSET-D-13', 'ASSET-D-14', 'ASSET-D-15', 'ASSET-D-16', 'ASSET-D-17', 'ASSET-D-18', 'ASSET-D-19', 'ASSET-D-2', 'ASSET-D-20', 'ASSET-D-21', 'ASSET-D-22', 'ASSET-D-23', 'ASSET-D-24', 'ASSET-D-25', 'ASSET-D-26', 'ASSET-D-27', 'ASSET-D-28', 'ASSET-D-29', 'ASSET-D-3', 'ASSET-D-30', 'ASSET-D-31', 'ASSET-D-32', 'ASSET-D-33', 'ASSET-D-34', 'ASSET-D-35', 'ASSET-D-36', 'ASSET-D-37', 'ASSET-D-38', 'ASSET-D-39', 'ASSET-D-4', 'ASSET-D-41', 'ASSET-D-43', 'ASSET-D-5', 'ASSET-D-6', 'ASSET-D-7', 'ASSET-D-8', 'ASSET-D-9']\n"
     ]
    }
   ],
   "source": [
    "# the 'Threatened Asset' column contains values like 'All' or 'ASSET-D-33 to ASSET-D-38', we solve this by manually turning this into the correct list\n",
    "\n",
    "\n",
    "# Example: start from your DataFrame\n",
    "# df_threats = pd.read_json(...)  # or however you're loading it\n",
    "\n",
    "# Step 1: Drop NaNs\n",
    "asset_entries = df_threats['Threatened Asset'].dropna()\n",
    "\n",
    "# Step 2: Function to expand ranges like 'ASSET-D-33 to ASSET-D-38'\n",
    "def expand_range(entry):\n",
    "    match = re.match(r\"(ASSET-[A-Z]-)(\\d+)\\s+to\\s+ASSET-[A-Z]-(\\d+)\", entry.strip())\n",
    "    if match:\n",
    "        prefix, start, end = match.groups()\n",
    "        return [f\"{prefix}{i}\" for i in range(int(start), int(end) + 1)]\n",
    "    return [entry.strip()]\n",
    "\n",
    "# Step 3: Build the set of unique assets\n",
    "all_assets = set()\n",
    "\n",
    "for entry in asset_entries:\n",
    "    # If entry is a list, turn it into a string\n",
    "    if isinstance(entry, list):\n",
    "        entry = ', '.join(entry)\n",
    "    \n",
    "    # Ensure it's a string before splitting\n",
    "    if isinstance(entry, str):\n",
    "        parts = [p.strip() for p in entry.split(',')]\n",
    "        for part in parts:\n",
    "            if part.lower() == 'all':\n",
    "                continue  # or expand to full known asset list if desired\n",
    "            elif 'to' in part:\n",
    "                expanded = expand_range(part)\n",
    "                all_assets.update(expanded)\n",
    "            else:\n",
    "                all_assets.add(part.strip())\n",
    "\n",
    "# Step 4: Show all unique asset names sorted\n",
    "all_assets = sorted(all_assets)\n",
    "print(all_assets)\n",
    "\n",
    "\n"
   ]
  },
  {
   "cell_type": "code",
   "execution_count": 18,
   "id": "0be8fa62",
   "metadata": {},
   "outputs": [],
   "source": [
    "def normalize_assets(value):\n",
    "    # Convert list to string if needed\n",
    "    if isinstance(value, list):\n",
    "        value = ', '.join(value)\n",
    "    \n",
    "    if isinstance(value, str):\n",
    "        value = value.strip()\n",
    "        if value.lower() == 'all':\n",
    "            return all_assets\n",
    "        elif 'to' in value:\n",
    "            return expand_range(value)\n",
    "        else:\n",
    "            # handle comma-separated list like 'ASSET-D-15, ASSET-C-17'\n",
    "            return [v.strip() for v in value.split(',')]\n",
    "    \n",
    "    return value  # leave as-is if unexpected\n",
    "\n",
    "df_threats['Threatened Asset'] = df_threats['Threatened Asset'].apply(normalize_assets)\n",
    "\n"
   ]
  },
  {
   "cell_type": "code",
   "execution_count": 19,
   "id": "659cdc4d",
   "metadata": {},
   "outputs": [
    {
     "data": {
      "text/plain": [
       "0     [ASSET D-11, ASSET D-20, ASSET D-21, ASSET-C-02, ASSET-C-03, ASSET-C-07, ASSET-C-08, ASSET-C-09, ASSET-C-1, ASSET-C-10, ASSET-C-11, ASSET-C-12, ASSET-C-14, ASSET-C-16, ASSET-C-17, ASSET-C-18, ASSET-C-19, ASSET-C-2, ASSET-C-20, ASSET-C-21, ASSET-C-22, ASSET-C-23, ASSET-C-24, ASSET-C-25, ASSET-C-26, ASSET-C-27, ASSET-C-28, ASSET-C-3, ASSET-C-31, ASSET-C-32, ASSET-C-33, ASSET-C-34, ASSET-C-35, ASSET-C-36, ASSET-C-37, ASSET-C-38, ASSET-C-39, ASSET-C-4, ASSET-C-40, ASSET-C-42, ASSET-C-5, ASSET-C-6, ASSET-C-7, ASSET-C-8, ASSET-C-9, ASSET-D-01, ASSET-D-02, ASSET-D-03, ASSET-D-04, ASSET-D-05, ASSET-D-06, ASSET-D-07, ASSET-D-08, ASSET-D-09, ASSET-D-1, ASSET-D-10, ASSET-D-11, ASSET-D-12, ASSET-D-13, ASSET-D-14, ASSET-D-15, ASSET-D-16, ASSET-D-17, ASSET-D-18, ASSET-D-19, ASSET-D-2, ASSET-D-20, ASSET-D-21, ASSET-D-22, ASSET-D-23, ASSET-D-24, ASSET-D-25, ASSET-D-26, ASSET-D-27, ASSET-D-28, ASSET-D-29, ASSET-D-3, ASSET-D-30, ASSET-D-31, ASSET-D-32, ASSET-D-33, ASSET-D-34, ASSET-D-35, ASSET-D-36, ASSET-D-37, ASSET-D-38, ASSET-D-39, ASSET-D-4, ASSET-D-41, ASSET-D-43, ASSET-D-5, ASSET-D-6, ASSET-D-7, ASSET-D-8, ASSET-D-9]\n",
       "1     [ASSET D-11, ASSET D-20, ASSET D-21, ASSET-C-02, ASSET-C-03, ASSET-C-07, ASSET-C-08, ASSET-C-09, ASSET-C-1, ASSET-C-10, ASSET-C-11, ASSET-C-12, ASSET-C-14, ASSET-C-16, ASSET-C-17, ASSET-C-18, ASSET-C-19, ASSET-C-2, ASSET-C-20, ASSET-C-21, ASSET-C-22, ASSET-C-23, ASSET-C-24, ASSET-C-25, ASSET-C-26, ASSET-C-27, ASSET-C-28, ASSET-C-3, ASSET-C-31, ASSET-C-32, ASSET-C-33, ASSET-C-34, ASSET-C-35, ASSET-C-36, ASSET-C-37, ASSET-C-38, ASSET-C-39, ASSET-C-4, ASSET-C-40, ASSET-C-42, ASSET-C-5, ASSET-C-6, ASSET-C-7, ASSET-C-8, ASSET-C-9, ASSET-D-01, ASSET-D-02, ASSET-D-03, ASSET-D-04, ASSET-D-05, ASSET-D-06, ASSET-D-07, ASSET-D-08, ASSET-D-09, ASSET-D-1, ASSET-D-10, ASSET-D-11, ASSET-D-12, ASSET-D-13, ASSET-D-14, ASSET-D-15, ASSET-D-16, ASSET-D-17, ASSET-D-18, ASSET-D-19, ASSET-D-2, ASSET-D-20, ASSET-D-21, ASSET-D-22, ASSET-D-23, ASSET-D-24, ASSET-D-25, ASSET-D-26, ASSET-D-27, ASSET-D-28, ASSET-D-29, ASSET-D-3, ASSET-D-30, ASSET-D-31, ASSET-D-32, ASSET-D-33, ASSET-D-34, ASSET-D-35, ASSET-D-36, ASSET-D-37, ASSET-D-38, ASSET-D-39, ASSET-D-4, ASSET-D-41, ASSET-D-43, ASSET-D-5, ASSET-D-6, ASSET-D-7, ASSET-D-8, ASSET-D-9]\n",
       "2     [ASSET D-11, ASSET D-20, ASSET D-21, ASSET-C-02, ASSET-C-03, ASSET-C-07, ASSET-C-08, ASSET-C-09, ASSET-C-1, ASSET-C-10, ASSET-C-11, ASSET-C-12, ASSET-C-14, ASSET-C-16, ASSET-C-17, ASSET-C-18, ASSET-C-19, ASSET-C-2, ASSET-C-20, ASSET-C-21, ASSET-C-22, ASSET-C-23, ASSET-C-24, ASSET-C-25, ASSET-C-26, ASSET-C-27, ASSET-C-28, ASSET-C-3, ASSET-C-31, ASSET-C-32, ASSET-C-33, ASSET-C-34, ASSET-C-35, ASSET-C-36, ASSET-C-37, ASSET-C-38, ASSET-C-39, ASSET-C-4, ASSET-C-40, ASSET-C-42, ASSET-C-5, ASSET-C-6, ASSET-C-7, ASSET-C-8, ASSET-C-9, ASSET-D-01, ASSET-D-02, ASSET-D-03, ASSET-D-04, ASSET-D-05, ASSET-D-06, ASSET-D-07, ASSET-D-08, ASSET-D-09, ASSET-D-1, ASSET-D-10, ASSET-D-11, ASSET-D-12, ASSET-D-13, ASSET-D-14, ASSET-D-15, ASSET-D-16, ASSET-D-17, ASSET-D-18, ASSET-D-19, ASSET-D-2, ASSET-D-20, ASSET-D-21, ASSET-D-22, ASSET-D-23, ASSET-D-24, ASSET-D-25, ASSET-D-26, ASSET-D-27, ASSET-D-28, ASSET-D-29, ASSET-D-3, ASSET-D-30, ASSET-D-31, ASSET-D-32, ASSET-D-33, ASSET-D-34, ASSET-D-35, ASSET-D-36, ASSET-D-37, ASSET-D-38, ASSET-D-39, ASSET-D-4, ASSET-D-41, ASSET-D-43, ASSET-D-5, ASSET-D-6, ASSET-D-7, ASSET-D-8, ASSET-D-9]\n",
       "3                                                                                                                                                                                                                                                                                                                                                                                                                                                                                                                                                                                                                                                                                                                                                                                                                                                                                                                                                                                                                                                                                                                                               [ASSET-D-06, ASSET-D-18]\n",
       "4     [ASSET D-11, ASSET D-20, ASSET D-21, ASSET-C-02, ASSET-C-03, ASSET-C-07, ASSET-C-08, ASSET-C-09, ASSET-C-1, ASSET-C-10, ASSET-C-11, ASSET-C-12, ASSET-C-14, ASSET-C-16, ASSET-C-17, ASSET-C-18, ASSET-C-19, ASSET-C-2, ASSET-C-20, ASSET-C-21, ASSET-C-22, ASSET-C-23, ASSET-C-24, ASSET-C-25, ASSET-C-26, ASSET-C-27, ASSET-C-28, ASSET-C-3, ASSET-C-31, ASSET-C-32, ASSET-C-33, ASSET-C-34, ASSET-C-35, ASSET-C-36, ASSET-C-37, ASSET-C-38, ASSET-C-39, ASSET-C-4, ASSET-C-40, ASSET-C-42, ASSET-C-5, ASSET-C-6, ASSET-C-7, ASSET-C-8, ASSET-C-9, ASSET-D-01, ASSET-D-02, ASSET-D-03, ASSET-D-04, ASSET-D-05, ASSET-D-06, ASSET-D-07, ASSET-D-08, ASSET-D-09, ASSET-D-1, ASSET-D-10, ASSET-D-11, ASSET-D-12, ASSET-D-13, ASSET-D-14, ASSET-D-15, ASSET-D-16, ASSET-D-17, ASSET-D-18, ASSET-D-19, ASSET-D-2, ASSET-D-20, ASSET-D-21, ASSET-D-22, ASSET-D-23, ASSET-D-24, ASSET-D-25, ASSET-D-26, ASSET-D-27, ASSET-D-28, ASSET-D-29, ASSET-D-3, ASSET-D-30, ASSET-D-31, ASSET-D-32, ASSET-D-33, ASSET-D-34, ASSET-D-35, ASSET-D-36, ASSET-D-37, ASSET-D-38, ASSET-D-39, ASSET-D-4, ASSET-D-41, ASSET-D-43, ASSET-D-5, ASSET-D-6, ASSET-D-7, ASSET-D-8, ASSET-D-9]\n",
       "5     [ASSET D-11, ASSET D-20, ASSET D-21, ASSET-C-02, ASSET-C-03, ASSET-C-07, ASSET-C-08, ASSET-C-09, ASSET-C-1, ASSET-C-10, ASSET-C-11, ASSET-C-12, ASSET-C-14, ASSET-C-16, ASSET-C-17, ASSET-C-18, ASSET-C-19, ASSET-C-2, ASSET-C-20, ASSET-C-21, ASSET-C-22, ASSET-C-23, ASSET-C-24, ASSET-C-25, ASSET-C-26, ASSET-C-27, ASSET-C-28, ASSET-C-3, ASSET-C-31, ASSET-C-32, ASSET-C-33, ASSET-C-34, ASSET-C-35, ASSET-C-36, ASSET-C-37, ASSET-C-38, ASSET-C-39, ASSET-C-4, ASSET-C-40, ASSET-C-42, ASSET-C-5, ASSET-C-6, ASSET-C-7, ASSET-C-8, ASSET-C-9, ASSET-D-01, ASSET-D-02, ASSET-D-03, ASSET-D-04, ASSET-D-05, ASSET-D-06, ASSET-D-07, ASSET-D-08, ASSET-D-09, ASSET-D-1, ASSET-D-10, ASSET-D-11, ASSET-D-12, ASSET-D-13, ASSET-D-14, ASSET-D-15, ASSET-D-16, ASSET-D-17, ASSET-D-18, ASSET-D-19, ASSET-D-2, ASSET-D-20, ASSET-D-21, ASSET-D-22, ASSET-D-23, ASSET-D-24, ASSET-D-25, ASSET-D-26, ASSET-D-27, ASSET-D-28, ASSET-D-29, ASSET-D-3, ASSET-D-30, ASSET-D-31, ASSET-D-32, ASSET-D-33, ASSET-D-34, ASSET-D-35, ASSET-D-36, ASSET-D-37, ASSET-D-38, ASSET-D-39, ASSET-D-4, ASSET-D-41, ASSET-D-43, ASSET-D-5, ASSET-D-6, ASSET-D-7, ASSET-D-8, ASSET-D-9]\n",
       "6                                                                                                                                                                                                                                                                                                                                                                                                                                                                                                                                                                                                                                                                                                                                                                                                                                                                                                                                                                                                                                                                                                                                                           [ASSET-D-29]\n",
       "7                                                                                                                                                                                                                                                                                                                                                                                                                                                                                                                                                                                                                                                                                                                                                                                                                    [ASSET-D-1, ASSET-D-2, ASSET-D-3, ASSET-D-4, ASSET-D-5, ASSET-D-6, ASSET-D-7, ASSET-D-8, ASSET-D-9, ASSET-D-10, ASSET-D-11, ASSET-D-12, ASSET-D-13, ASSET-D-14, ASSET-D-15, ASSET-D-16, ASSET-D-17, ASSET-D-18, ASSET-D-19, ASSET-D-20, ASSET-D-21, ASSET-D-22, ASSET-D-23, ASSET-D-24, ASSET-D-25, ASSET-D-26, ASSET-D-27, ASSET-D-28, ASSET-D-29]\n",
       "8                                                                                                                                                                                                                                                                                                                                                                                                                                                                                                                                                                                                                                                                                                                                                                                                                                                                                                                                                                                                                                [ASSET-C-1, ASSET-C-2, ASSET-C-3, ASSET-C-4, ASSET-C-5, ASSET-C-6, ASSET-C-7, ASSET-C-8, ASSET-C-9, ASSET-C-10, ASSET-C-11, ASSET-C-12]\n",
       "9                                                                                                                                                                                                                                                                                                                                                                                                                                                                                                                                                                                                                                                                                                                                                                                                                                                                                                                                                                                                                                                                                                                       [ASSET-D-01, ASSET-D-02, ASSET-D-04, ASSET-D-05]\n",
       "10                                                                                                                                                                                                                                                                                                                                                                                                                                                                                                                                                                                                                                                                                                                                                                                                                                                                                                                                                                                                                                                                                                                      [ASSET-D-01, ASSET-D-02, ASSET-D-04, ASSET-D-05]\n",
       "11                                                                                                                                                                                                                                                                                                                                                                                                                                                                                                                                                                                                                                                                                                                                                                                                                                                                                                                                                                                                                                                                                                                                              [ASSET-D-02, ASSET-D-03]\n",
       "12                                                                                                                                                                                                                                                                                                                                                                                                                                                                                                                                                                                                                                                                                                                                                                                                                                                                                                                                                                                                                                                                                                                                                          [ASSET-D-01]\n",
       "13                                                                                                                                                                                                                                                                                                                                                                                                                                                                                                                                                                                                                                                                                                                                                                                                                                                                                                                                                                                                                                                                                                                                                          [ASSET-D-01]\n",
       "14                                                                                                                                                                                                                                                                                                                                                                                                                                                                                                                                                                                                                                                                                                                                                                                                                                                                                                                                                                                                                                                                                                                                                          [ASSET-D-01]\n",
       "15                                                                                                                                                                                                                                                                                                                                                                                                                                                                                                                                                                                                                                                                                                                                                                                                                                                                                                                                                                                                                                                                                                                                                          [ASSET-D-01]\n",
       "16                                                                                                                                                                                                                                                                                                                                                                                                                                                                                                                                                                                                                                                                                                                                                                                                                                                                                                                                                                                                                                                                                                                                                          [ASSET-D-01]\n",
       "17                                                                                                                                                                                                                                                                                                                                                                                                                                                                                                                                                                                                                                                                                                                                                                                                                                                                                                                                                                                                                                                                                                                                                          [ASSET-D-04]\n",
       "18                                                                                                                                                                                                                                                                                                                                                                                                                                                                                                                                                                                                                                                                                                                                                                                                                                                                                                                                                                                                                                                                                                                                                          [ASSET-D-04]\n",
       "19                                                                                                                                                                                                                                                                                                                                                                                                                                                                                                                                                                                                                                                                                                                                                                                                                                                                                                                                                                                                                                                                                                                                                          [ASSET-D-05]\n",
       "Name: Threatened Asset, dtype: object"
      ]
     },
     "execution_count": 19,
     "metadata": {},
     "output_type": "execute_result"
    }
   ],
   "source": [
    "df_threats['Threatened Asset'].head(20)"
   ]
  },
  {
   "cell_type": "code",
   "execution_count": 20,
   "id": "a5b4f2ce",
   "metadata": {},
   "outputs": [
    {
     "data": {
      "text/plain": [
       "Threat type\n",
       "Spoofing                   28\n",
       "Denial of Service          19\n",
       "Elevation of Privilege     14\n",
       "Information Disclosure     14\n",
       "Tampering                  14\n",
       "Information disclosure      5\n",
       "Escalation of Privilege     2\n",
       "Name: count, dtype: int64"
      ]
     },
     "execution_count": 20,
     "metadata": {},
     "output_type": "execute_result"
    }
   ],
   "source": [
    "df_threats['Threat type'].explode().value_counts()\n",
    "# The most common threat type is Spoofing, which occurs 28 times"
   ]
  },
  {
   "cell_type": "code",
   "execution_count": 21,
   "id": "045de193",
   "metadata": {},
   "outputs": [
    {
     "data": {
      "text/plain": [
       "Vulnerability\n",
       "lack of authentication                                                                       17\n",
       "weak mutual authentication                                                                   12\n",
       "weak authentication can be exploited by a tenant to move laterally across the deployment.     9\n",
       "missing or improperly configured authorization                                                6\n",
       "lack of integrity verification                                                                6\n",
       "                                                                                             ..\n",
       "pnfs                                                                                          1\n",
       "etc.                                                                                          1\n",
       "operation areas                                                                               1\n",
       "physical access to the open fronthaul cable network                                           1\n",
       "use of pretrained public ml model                                                             1\n",
       "Name: count, Length: 139, dtype: int64"
      ]
     },
     "execution_count": 21,
     "metadata": {},
     "output_type": "execute_result"
    }
   ],
   "source": [
    "df_threats['Vulnerability'].explode().str.lower().value_counts()\n",
    "# The most common vulnerability is 'lack of authentication', which occurs 17 times,\n",
    "# followed by 'lack of authentication' with 12 occurences."
   ]
  },
  {
   "cell_type": "code",
   "execution_count": 22,
   "id": "94047f2a",
   "metadata": {},
   "outputs": [
    {
     "data": {
      "text/plain": [
       "Threatened Asset\n",
       "ASSET-D-15    43\n",
       "ASSET-C-17    41\n",
       "ASSET-D-29    40\n",
       "ASSET-D-18    38\n",
       "ASSET-D-14    37\n",
       "ASSET-C-31    35\n",
       "ASSET-D-17    35\n",
       "ASSET-D-16    35\n",
       "ASSET-D-12    34\n",
       "ASSET-D-13    34\n",
       "ASSET-D-19    34\n",
       "ASSET-D-20    34\n",
       "ASSET-D-32    34\n",
       "ASSET-D-31    33\n",
       "ASSET-C-11    33\n",
       "ASSET-C-18    22\n",
       "ASSET-C-10    21\n",
       "ASSET-C-08    19\n",
       "ASSET-C-35    18\n",
       "ASSET-D-01    18\n",
       "ASSET-C-34    17\n",
       "ASSET-C-26    17\n",
       "ASSET-C-19    16\n",
       "ASSET-C-16    16\n",
       "ASSET-C-20    16\n",
       "ASSET-C-21    16\n",
       "ASSET-C-23    16\n",
       "ASSET-C-09    16\n",
       "ASSET-D-04    15\n",
       "ASSET-D-26    15\n",
       "ASSET-D-25    15\n",
       "ASSET-C-37    15\n",
       "ASSET-D-37    15\n",
       "ASSET-D-34    15\n",
       "ASSET-D-33    15\n",
       "ASSET-D-36    15\n",
       "ASSET-D-35    15\n",
       "ASSET-D-38    15\n",
       "ASSET-C-25    14\n",
       "ASSET-C-36    14\n",
       "ASSET-D-21    14\n",
       "ASSET-D-02    14\n",
       "ASSET-D-05    14\n",
       "ASSET-D-27    13\n",
       "ASSET-D-28    13\n",
       "ASSET-D-06    13\n",
       "ASSET-D-10    13\n",
       "ASSET-D-22    13\n",
       "ASSET-C-02    12\n",
       "ASSET-D-43    12\n",
       "Name: count, dtype: int64"
      ]
     },
     "execution_count": 22,
     "metadata": {},
     "output_type": "execute_result"
    }
   ],
   "source": [
    "# Step 3: Explode the list so each asset appears in its own row\n",
    "asset_flat = df_threats.explode('Threatened Asset')\n",
    "\n",
    "# Step 4: Count how often each asset appears\n",
    "asset_counts = asset_flat['Threatened Asset'].value_counts()\n",
    "asset_counts.head(50)"
   ]
  },
  {
   "cell_type": "code",
   "execution_count": 23,
   "id": "bbca85d8",
   "metadata": {},
   "outputs": [
    {
     "data": {
      "text/plain": [
       "Impact type\n",
       "Authenticity       26\n",
       "Availability       21\n",
       "Confidentiality    19\n",
       "Authorization      14\n",
       "Integrity          14\n",
       "Authentication      2\n",
       "Name: count, dtype: int64"
      ]
     },
     "execution_count": 23,
     "metadata": {},
     "output_type": "execute_result"
    }
   ],
   "source": [
    "df_threats['Impact type'].explode().value_counts()"
   ]
  },
  {
   "cell_type": "code",
   "execution_count": 24,
   "id": "d8d4f0d6",
   "metadata": {},
   "outputs": [
    {
     "data": {
      "text/plain": [
       "Threat type\n",
       "Spoofing                   28\n",
       "Denial of Service          19\n",
       "Elevation of Privilege     14\n",
       "Information Disclosure     14\n",
       "Tampering                  14\n",
       "Information disclosure      5\n",
       "Escalation of Privilege     2\n",
       "Name: count, dtype: int64"
      ]
     },
     "execution_count": 24,
     "metadata": {},
     "output_type": "execute_result"
    }
   ],
   "source": [
    "df_threats['Threat type'].explode().value_counts()"
   ]
  },
  {
   "cell_type": "code",
   "execution_count": 25,
   "id": "21e4860d",
   "metadata": {},
   "outputs": [
    {
     "name": "stdout",
     "output_type": "stream",
     "text": [
      "{'All except Script kiddies', 'All'}\n"
     ]
    }
   ],
   "source": [
    "print(set(df_threats['Threat agent']))"
   ]
  },
  {
   "cell_type": "code",
   "execution_count": 26,
   "id": "c2471d40",
   "metadata": {},
   "outputs": [
    {
     "data": {
      "text/plain": [
       "Threat agent\n",
       "All                          178\n",
       "All except Script kiddies      4\n",
       "Name: count, dtype: int64"
      ]
     },
     "execution_count": 26,
     "metadata": {},
     "output_type": "execute_result"
    }
   ],
   "source": [
    "df_threats['Threat agent'].value_counts()"
   ]
  },
  {
   "cell_type": "code",
   "execution_count": 27,
   "id": "c66e47c7",
   "metadata": {},
   "outputs": [
    {
     "data": {
      "text/plain": [
       "Affected Components\n",
       "O-Cloud                  30\n",
       "Non-RT RIC               29\n",
       "Shared O-RU              26\n",
       "Apps/VNFs/CNFs           22\n",
       "All                      19\n",
       "O-DU                     17\n",
       "O-RU                     16\n",
       "rApps                    16\n",
       "Near-RT RIC              16\n",
       "SMO                      14\n",
       "xApps                    12\n",
       "O-DU Tenant              10\n",
       "SMO Framework            10\n",
       "O-DU Host                 9\n",
       "O-CU                      8\n",
       "O2 interface              7\n",
       "External interfaces       7\n",
       "R1 interface              7\n",
       "UE                        7\n",
       "SMO Functions             6\n",
       "ASSET-C-29                6\n",
       "ASSET-C-30                6\n",
       "O-CU Tenant               6\n",
       "CUS-Plane                 5\n",
       "Apps/VNFs/CNFs images     5\n",
       "O-CU Host                 5\n",
       "ASSET-C-08                3\n",
       "A1 interface              3\n",
       "E2 interface              3\n",
       "M-Plane                   3\n",
       "SMO Host                  3\n",
       "SMO Tenant                3\n",
       "xAPPs                     3\n",
       "Y1 interface              2\n",
       "O2                        2\n",
       "O1                        2\n",
       "NFO/FOCOM                 2\n",
       "airlink with UE           1\n",
       "SMO Froamework            1\n",
       "Y1interface               1\n",
       "Name: count, dtype: int64"
      ]
     },
     "execution_count": 27,
     "metadata": {},
     "output_type": "execute_result"
    }
   ],
   "source": [
    "df_threats['Affected Components'].explode().value_counts() "
   ]
  },
  {
   "cell_type": "code",
   "execution_count": 28,
   "id": "f45b5c85",
   "metadata": {},
   "outputs": [
    {
     "data": {
      "text/plain": [
       "Index(['Threat ID', 'Threat title', 'Threat Description', 'Threat type',\n",
       "       'Impact type', 'Threat agent', 'Vulnerability', 'Threatened Asset',\n",
       "       'Affected Components'],\n",
       "      dtype='object')"
      ]
     },
     "execution_count": 28,
     "metadata": {},
     "output_type": "execute_result"
    }
   ],
   "source": [
    "df_threats.columns"
   ]
  },
  {
   "cell_type": "markdown",
   "id": "a9be188a",
   "metadata": {},
   "source": [
    "### Text analysis"
   ]
  },
  {
   "cell_type": "code",
   "execution_count": 46,
   "id": "f6229cff",
   "metadata": {},
   "outputs": [
    {
     "name": "stdout",
     "output_type": "stream",
     "text": [
      "count     182.000000\n",
      "mean      528.818681\n",
      "std       491.740145\n",
      "min        76.000000\n",
      "25%       187.250000\n",
      "50%       319.000000\n",
      "75%       756.250000\n",
      "max      2668.000000\n",
      "Name: Threat Description, dtype: float64\n",
      "The average character length of the threat descriptions is 528.8186813186813\n",
      "The standard deviation of the character length of the threat descriptions is 491.74014505307065\n"
     ]
    }
   ],
   "source": [
    "length_of_threat_descriptions = df_threats['Threat Description'].str.len()\n",
    "print(length_of_threat_descriptions.describe())\n",
    "print(\"The average character length of the threat descriptions is\", length_of_threat_descriptions.mean())\n",
    "# the average length og the threat descriptions is 528.2 characters\n",
    "\n",
    "standard_deviation = length_of_threat_descriptions.std()\n",
    "print(\"The standard deviation of the character length of the threat descriptions is\", standard_deviation)"
   ]
  },
  {
   "cell_type": "code",
   "execution_count": 47,
   "id": "aa3ec36c",
   "metadata": {},
   "outputs": [
    {
     "name": "stdout",
     "output_type": "stream",
     "text": [
      "count    182.00000\n",
      "mean      57.10989\n",
      "std       27.82580\n",
      "min       14.00000\n",
      "25%       34.00000\n",
      "50%       54.00000\n",
      "75%       70.00000\n",
      "max      148.00000\n",
      "Name: Threat title, dtype: float64\n",
      "The average character length of the threat titles is 57.10989010989011\n",
      "The standard deviation of the character length of the threat titles is 27.825800083090165\n"
     ]
    }
   ],
   "source": [
    "length_of_threat_titles = df_threats['Threat title'].str.len()\n",
    "print(length_of_threat_titles.describe())\n",
    "print(\"The average character length of the threat titles is\", length_of_threat_titles.mean())\n",
    "print(\"The standard deviation of the character length of the threat titles is\", length_of_threat_titles.std())"
   ]
  },
  {
   "cell_type": "code",
   "execution_count": 42,
   "id": "70fbafca",
   "metadata": {},
   "outputs": [
    {
     "name": "stdout",
     "output_type": "stream",
     "text": [
      "Threat Description\n",
      "Unauthenticated/unauthorized access to O-RAN components could possibly be achieved via the different O-RAN interfaces, depending upon the design of the hardware-software O-RAN system and how different functions are segregated within the O-RAN system. \\nO-RAN components might be vulnerable if: \\n• Outdated component from the lack of update or patch management,\\n• Poorly design architecture,\\n• Missing appropriate security hardening,\\n• Unnecessary or insecure function/protocol/component.\\nAn attacker could, in such case, either inject malwares and/or manipulate existing software, harm the O-RAN components, create a performance issue by manipulation of parameters, or reconfigure the O-RAN components and disable the security features with the purpose of eavesdropping or wiretapping on various CUS & M planes, reaching northbound systems, attack broader network to cause denial-of-service, steal unprotected private keys, certificates, hash values, or other type of breaches.\\nIn addition, O-RAN components could be software providing network functions, so they are likely to be vulnerable to software flaws: it could be possible to bypass firewall restrictions or to take advantage of a buffer overflow to execute arbitrary commands, etc.    1\n",
      "Unauthenticated/unauthorized access to O-RAN components could possibly be achieved via the different O-RAN interfaces, depending upon the configuration of the hardware-software O-RAN system. \\nO-RAN components might be vulnerable if: \\n• Errors from the lack of configuration change management,\\n• Misconfigured or poorly configured O-RAN components,\\n• Improperly configured permissions,\\n• Unnecessary features are enabled (e.g. unnecessary ports, services, accounts, or privileges),\\n• Default accounts and their passwords still enabled and unchanged,\\n• Security features are disabled or not configured securely.\\nAn attacker could, in such case, either inject malwares and/or manipulate existing software, harm the O-RAN components, create a performance issue by manipulation of parameters, or reconfigure the O-RAN components and disable the security features with the purpose of eavesdropping or wiretapping on various CUS & M planes, reaching northbound systems, attack broader network to cause denial-of-service, steal unprotected private keys, certificates, hash values, or other type of breaches.                                                                                                                                               1\n",
      "Name: count, dtype: int64\n",
      "Threat title\n",
      "External attacker exploits authentication weakness on SMO                   2\n",
      "An attacker exploits misconfigured or poorly configured O-RAN components    1\n",
      "Name: count, dtype: int64\n"
     ]
    }
   ],
   "source": [
    "\n",
    "print(df_threats['Threat Description'].value_counts().head(2))\n",
    "print(df_threats['Threat title'].value_counts().head(2))"
   ]
  },
  {
   "cell_type": "code",
   "execution_count": 43,
   "id": "e32f93bc",
   "metadata": {},
   "outputs": [
    {
     "data": {
      "text/html": [
       "<div>\n",
       "<style scoped>\n",
       "    .dataframe tbody tr th:only-of-type {\n",
       "        vertical-align: middle;\n",
       "    }\n",
       "\n",
       "    .dataframe tbody tr th {\n",
       "        vertical-align: top;\n",
       "    }\n",
       "\n",
       "    .dataframe thead th {\n",
       "        text-align: right;\n",
       "    }\n",
       "</style>\n",
       "<table border=\"1\" class=\"dataframe\">\n",
       "  <thead>\n",
       "    <tr style=\"text-align: right;\">\n",
       "      <th></th>\n",
       "      <th>Threat ID</th>\n",
       "      <th>Threat title</th>\n",
       "      <th>Threat Description</th>\n",
       "      <th>Threat type</th>\n",
       "      <th>Impact type</th>\n",
       "      <th>Threat agent</th>\n",
       "      <th>Vulnerability</th>\n",
       "      <th>Threatened Asset</th>\n",
       "      <th>Affected Components</th>\n",
       "    </tr>\n",
       "  </thead>\n",
       "  <tbody>\n",
       "    <tr>\n",
       "      <th>42</th>\n",
       "      <td>T-SMO-01</td>\n",
       "      <td>External attacker exploits authentication weakness on SMO</td>\n",
       "      <td>An external attacker can exploit the improper/missing authentication weakness on SMO functions. If the authentication of O-RAN subjects on A1, O1, O2, and External interfaces on SMO is not supported or not properly implemented, those interfaces without proper credentials could be exploited to gain access to the SMO.</td>\n",
       "      <td>[Spoofing]</td>\n",
       "      <td>[Authenticity]</td>\n",
       "      <td>All</td>\n",
       "      <td>[Missing or improperly configured authentication]</td>\n",
       "      <td>[ASSET-C-11, ASSET-C-17]</td>\n",
       "      <td>[Non-RT RIC, SMO Framework]</td>\n",
       "    </tr>\n",
       "    <tr>\n",
       "      <th>43</th>\n",
       "      <td>T-SMO-02</td>\n",
       "      <td>External attacker exploits authentication weakness on SMO</td>\n",
       "      <td>An external attacker can exploit the improper/missing authorization weakness on SMO functions.  A malicious external entity on A1, O1, O2, and External interfaces without authorization or with an incorrect access token may invoke the SMO functions. The data at rest related to that function will be leaked to the attacker. In addition, an attacker can be able to perform certain actions, e.g.  disclose O-RAN sensitive information or alter O-RAN components.</td>\n",
       "      <td>[Elevation of Privilege, Information Disclosure]</td>\n",
       "      <td>[Authorization, Confidentiality]</td>\n",
       "      <td>All</td>\n",
       "      <td>[Missing or improperly configured authorization]</td>\n",
       "      <td>[ASSET-C-11, ASSET-C-17]</td>\n",
       "      <td>[Non-RT RIC, SMO Framework]</td>\n",
       "    </tr>\n",
       "  </tbody>\n",
       "</table>\n",
       "</div>"
      ],
      "text/plain": [
       "   Threat ID                                               Threat title  \\\n",
       "42  T-SMO-01  External attacker exploits authentication weakness on SMO   \n",
       "43  T-SMO-02  External attacker exploits authentication weakness on SMO   \n",
       "\n",
       "                                                                                                                                                                                                                                                                                                                                                                                                                                                           Threat Description  \\\n",
       "42                                                                                                                                              An external attacker can exploit the improper/missing authentication weakness on SMO functions. If the authentication of O-RAN subjects on A1, O1, O2, and External interfaces on SMO is not supported or not properly implemented, those interfaces without proper credentials could be exploited to gain access to the SMO.   \n",
       "43  An external attacker can exploit the improper/missing authorization weakness on SMO functions.  A malicious external entity on A1, O1, O2, and External interfaces without authorization or with an incorrect access token may invoke the SMO functions. The data at rest related to that function will be leaked to the attacker. In addition, an attacker can be able to perform certain actions, e.g.  disclose O-RAN sensitive information or alter O-RAN components.   \n",
       "\n",
       "                                         Threat type  \\\n",
       "42                                        [Spoofing]   \n",
       "43  [Elevation of Privilege, Information Disclosure]   \n",
       "\n",
       "                         Impact type Threat agent  \\\n",
       "42                    [Authenticity]          All   \n",
       "43  [Authorization, Confidentiality]          All   \n",
       "\n",
       "                                        Vulnerability  \\\n",
       "42  [Missing or improperly configured authentication]   \n",
       "43   [Missing or improperly configured authorization]   \n",
       "\n",
       "            Threatened Asset          Affected Components  \n",
       "42  [ASSET-C-11, ASSET-C-17]  [Non-RT RIC, SMO Framework]  \n",
       "43  [ASSET-C-11, ASSET-C-17]  [Non-RT RIC, SMO Framework]  "
      ]
     },
     "execution_count": 43,
     "metadata": {},
     "output_type": "execute_result"
    }
   ],
   "source": [
    "df_threats[df_threats['Threat title'] == 'External attacker exploits authentication weakness on SMO']\n"
   ]
  },
  {
   "cell_type": "markdown",
   "id": "8a145a5f",
   "metadata": {},
   "source": [
    "### Data understanding of CAPEC data"
   ]
  },
  {
   "cell_type": "code",
   "execution_count": 63,
   "id": "abaf4734",
   "metadata": {},
   "outputs": [],
   "source": [
    "from git import Repo, InvalidGitRepositoryError\n",
    "import os\n",
    "import shutil\n",
    "\n",
    "from stix2 import FileSystemSource\n",
    "from stix2 import Filter"
   ]
  },
  {
   "cell_type": "code",
   "execution_count": 64,
   "id": "f738c8ef",
   "metadata": {},
   "outputs": [],
   "source": [
    "def pull_clone_gitrepo(directory, repo):\n",
    "    # Check if the data direcory exists\n",
    "    if not os.path.isdir(directory):\n",
    "        Repo.clone_from(repo, directory)\n",
    "    else:\n",
    "        try:\n",
    "            # Check if the data directory is actually a repositry then pull the canges\n",
    "            repo = Repo(directory)\n",
    "            repo.remotes.origin.pull()\n",
    "        except InvalidGitRepositoryError:\n",
    "            # If not then remove the folder\n",
    "            shutil.rmtree(directory)\n",
    "            Repo.clone_from(repo, directory)\n",
    "\n",
    "def prepare_capecs_df():\n",
    "    pull_clone_gitrepo('./data', 'https://github.com/mitre/cti')\n",
    "    fs = FileSystemSource('./data/capec/2.1')\n",
    "    filt = Filter('type', '=', 'attack-pattern')\n",
    "\n",
    "    attack_patterns = fs.query([filt])\n",
    "\n",
    "    data_array = []\n",
    "    for pattern in attack_patterns:\n",
    "        if not pattern.x_capec_status == \"Deprecated\":\n",
    "            info = []\n",
    "            result = [obj for obj in pattern.external_references if obj['source_name'] == \"capec\"]\n",
    "            info.append(result[0].external_id)\n",
    "            info.append(pattern.name)\n",
    "            info.append(pattern.description)\n",
    "            if \"x_capec_domains\" in pattern:\n",
    "                info.append(pattern.x_capec_domains)\n",
    "            else:\n",
    "                info.append(\"not given\")\n",
    "            data_array.append(info)\n",
    "\n",
    "    columns = ['CAPEC ID', 'capec_name', 'capec_description', 'capec_domain']\n",
    "    df = pd.DataFrame(data_array, columns=columns)\n",
    "\n",
    "    df['summary'] = ''\n",
    "    for index, row in df.iterrows():\n",
    "        if len(row['capec_domain']) > 1:\n",
    "            domains_string = \". The Domains of this are: \"+', '.join(row['capec_domain'])\n",
    "        else:\n",
    "            domains_string = \". The Domain of this is: \"+row['capec_domain'][0]\n",
    "\n",
    "        summary = 'A CAPEC with the title '+row['capec_name']+\\\n",
    "                    '. The description of this CAPEC is:'+row['capec_description']+\\\n",
    "                    domains_string\n",
    "        \n",
    "        df.at[index, 'summary'] = summary\n",
    "    return df\n"
   ]
  },
  {
   "cell_type": "code",
   "execution_count": null,
   "id": "49cd6111",
   "metadata": {},
   "outputs": [],
   "source": []
  },
  {
   "cell_type": "code",
   "execution_count": 70,
   "id": "4ef09d5b",
   "metadata": {},
   "outputs": [],
   "source": [
    "#generate the capecs_df\n",
    "#capecs_df = prepare_capecs_df()\n",
    "#safe capecs data to csv\n",
    "#capecs_df.to_csv('capec_data/capecs.csv', index=False)\n",
    "#load capecs data from csv\n",
    "capecs_df = pd.read_csv('capec_data/capecs.csv')"
   ]
  },
  {
   "cell_type": "code",
   "execution_count": 71,
   "id": "666c0f71",
   "metadata": {},
   "outputs": [
    {
     "data": {
      "text/html": [
       "<div>\n",
       "<style scoped>\n",
       "    .dataframe tbody tr th:only-of-type {\n",
       "        vertical-align: middle;\n",
       "    }\n",
       "\n",
       "    .dataframe tbody tr th {\n",
       "        vertical-align: top;\n",
       "    }\n",
       "\n",
       "    .dataframe thead th {\n",
       "        text-align: right;\n",
       "    }\n",
       "</style>\n",
       "<table border=\"1\" class=\"dataframe\">\n",
       "  <thead>\n",
       "    <tr style=\"text-align: right;\">\n",
       "      <th></th>\n",
       "      <th>CAPEC ID</th>\n",
       "      <th>capec_name</th>\n",
       "      <th>capec_description</th>\n",
       "      <th>capec_domain</th>\n",
       "      <th>summary</th>\n",
       "    </tr>\n",
       "  </thead>\n",
       "  <tbody>\n",
       "    <tr>\n",
       "      <th>0</th>\n",
       "      <td>CAPEC-87</td>\n",
       "      <td>Forceful Browsing</td>\n",
       "      <td>An attacker employs forceful browsing (direct URL entry) to access portions of a website that are otherwise unreachable. Usually, a front controller or similar design pattern is employed to protect access to portions of a web application. Forceful browsing enables an attacker to access information, perform privileged operations and otherwise reach sections of the web application that have been improperly protected.</td>\n",
       "      <td>['Software']</td>\n",
       "      <td>A CAPEC with the title Forceful Browsing. The description of this CAPEC is:An attacker employs forceful browsing (direct URL entry) to access portions of a website that are otherwise unreachable. Usually, a front controller or similar design pattern is employed to protect access to portions of a web application. Forceful browsing enables an attacker to access information, perform privileged operations and otherwise reach sections of the web application that have been improperly protected.. The Domain of this is: Software</td>\n",
       "    </tr>\n",
       "    <tr>\n",
       "      <th>1</th>\n",
       "      <td>CAPEC-391</td>\n",
       "      <td>Bypassing Physical Locks</td>\n",
       "      <td>An attacker uses techniques and methods to bypass physical security measures of a building or facility. Physical locks may range from traditional lock and key mechanisms, cable locks used to secure laptops or servers, locks on server cases, or other such devices. Techniques such as lock bumping, lock forcing via snap guns, or lock picking can be employed to bypass those locks and gain access to the facilities or devices they protect, although stealth, evidence of tampering, and the integrity of the lock following an attack, are considerations that may determine the method employed. Physical locks are limited by the complexity of the locking mechanism. While some locks may offer protections such as shock resistant foam to prevent bumping or lock forcing methods, many commonly employed locks offer no such countermeasures.</td>\n",
       "      <td>['Physical Security']</td>\n",
       "      <td>A CAPEC with the title Bypassing Physical Locks. The description of this CAPEC is:An attacker uses techniques and methods to bypass physical security measures of a building or facility. Physical locks may range from traditional lock and key mechanisms, cable locks used to secure laptops or servers, locks on server cases, or other such devices. Techniques such as lock bumping, lock forcing via snap guns, or lock picking can be employed to bypass those locks and gain access to the facilities or devices they protect, although stealth, evidence of tampering, and the integrity of the lock following an attack, are considerations that may determine the method employed. Physical locks are limited by the complexity of the locking mechanism. While some locks may offer protections such as shock resistant foam to prevent bumping or lock forcing methods, many commonly employed locks offer no such countermeasures.. The Domain of this is: Physical Security</td>\n",
       "    </tr>\n",
       "  </tbody>\n",
       "</table>\n",
       "</div>"
      ],
      "text/plain": [
       "    CAPEC ID                capec_name  \\\n",
       "0   CAPEC-87         Forceful Browsing   \n",
       "1  CAPEC-391  Bypassing Physical Locks   \n",
       "\n",
       "                                                                                                                                                                                                                                                                                                                                                                                                                                                                                                                                                                                                                                                                                                                                                                                                                                                 capec_description  \\\n",
       "0                                                                                                                                                                                                                                                                                                                                                                                                                               An attacker employs forceful browsing (direct URL entry) to access portions of a website that are otherwise unreachable. Usually, a front controller or similar design pattern is employed to protect access to portions of a web application. Forceful browsing enables an attacker to access information, perform privileged operations and otherwise reach sections of the web application that have been improperly protected.   \n",
       "1  An attacker uses techniques and methods to bypass physical security measures of a building or facility. Physical locks may range from traditional lock and key mechanisms, cable locks used to secure laptops or servers, locks on server cases, or other such devices. Techniques such as lock bumping, lock forcing via snap guns, or lock picking can be employed to bypass those locks and gain access to the facilities or devices they protect, although stealth, evidence of tampering, and the integrity of the lock following an attack, are considerations that may determine the method employed. Physical locks are limited by the complexity of the locking mechanism. While some locks may offer protections such as shock resistant foam to prevent bumping or lock forcing methods, many commonly employed locks offer no such countermeasures.   \n",
       "\n",
       "            capec_domain  \\\n",
       "0           ['Software']   \n",
       "1  ['Physical Security']   \n",
       "\n",
       "                                                                                                                                                                                                                                                                                                                                                                                                                                                                                                                                                                                                                                                                                                                                                                                                                                                                                                                                                                                       summary  \n",
       "0                                                                                                                                                                                                                                                                                                                                                                                                                                               A CAPEC with the title Forceful Browsing. The description of this CAPEC is:An attacker employs forceful browsing (direct URL entry) to access portions of a website that are otherwise unreachable. Usually, a front controller or similar design pattern is employed to protect access to portions of a web application. Forceful browsing enables an attacker to access information, perform privileged operations and otherwise reach sections of the web application that have been improperly protected.. The Domain of this is: Software  \n",
       "1  A CAPEC with the title Bypassing Physical Locks. The description of this CAPEC is:An attacker uses techniques and methods to bypass physical security measures of a building or facility. Physical locks may range from traditional lock and key mechanisms, cable locks used to secure laptops or servers, locks on server cases, or other such devices. Techniques such as lock bumping, lock forcing via snap guns, or lock picking can be employed to bypass those locks and gain access to the facilities or devices they protect, although stealth, evidence of tampering, and the integrity of the lock following an attack, are considerations that may determine the method employed. Physical locks are limited by the complexity of the locking mechanism. While some locks may offer protections such as shock resistant foam to prevent bumping or lock forcing methods, many commonly employed locks offer no such countermeasures.. The Domain of this is: Physical Security  "
      ]
     },
     "execution_count": 71,
     "metadata": {},
     "output_type": "execute_result"
    }
   ],
   "source": [
    "capecs_df.head(2)"
   ]
  },
  {
   "cell_type": "markdown",
   "id": "e6c210c8",
   "metadata": {},
   "source": [
    "## Data Preparation"
   ]
  },
  {
   "cell_type": "markdown",
   "id": "8cc0941a",
   "metadata": {},
   "source": [
    "Merging title and description to match the form of the original orca pipeline."
   ]
  },
  {
   "cell_type": "code",
   "execution_count": 55,
   "id": "2021c11a",
   "metadata": {},
   "outputs": [],
   "source": [
    "threats_summary_context = {'Threat title': 'A Threat with the title ', 'Threat Description': ' and the description '}\n"
   ]
  },
  {
   "cell_type": "code",
   "execution_count": 56,
   "id": "da9f8c42",
   "metadata": {},
   "outputs": [],
   "source": [
    "def add_summary_to_df(input_df, coll_context, ):\n",
    "    input_df['summary'] = ''\n",
    "    for key, value in coll_context.items():\n",
    "        input_df['summary'] +=  value + input_df[key]"
   ]
  },
  {
   "cell_type": "code",
   "execution_count": 57,
   "id": "b07ccc06",
   "metadata": {},
   "outputs": [
    {
     "data": {
      "text/plain": [
       "'A Threat with the title An attacker exploits insecure designs or lack of adaption in O-RAN components and the description Unauthenticated/unauthorized access to O-RAN components could possibly be achieved via the different O-RAN interfaces, depending upon the design of the hardware-software O-RAN system and how different functions are segregated within the O-RAN system. \\nO-RAN components might be vulnerable if: \\n• Outdated component from the lack of update or patch management,\\n• Poorly design architecture,\\n• Missing appropriate security hardening,\\n• Unnecessary or insecure function/protocol/component.\\nAn attacker could, in such case, either inject malwares and/or manipulate existing software, harm the O-RAN components, create a performance issue by manipulation of parameters, or reconfigure the O-RAN components and disable the security features with the purpose of eavesdropping or wiretapping on various CUS & M planes, reaching northbound systems, attack broader network to cause denial-of-service, steal unprotected private keys, certificates, hash values, or other type of breaches.\\nIn addition, O-RAN components could be software providing network functions, so they are likely to be vulnerable to software flaws: it could be possible to bypass firewall restrictions or to take advantage of a buffer overflow to execute arbitrary commands, etc.'"
      ]
     },
     "execution_count": 57,
     "metadata": {},
     "output_type": "execute_result"
    }
   ],
   "source": [
    "add_summary_to_df(df_threats, threats_summary_context)\n",
    "df_threats.loc[0, 'summary']  "
   ]
  },
  {
   "cell_type": "code",
   "execution_count": null,
   "id": "01026f48",
   "metadata": {},
   "outputs": [],
   "source": []
  },
  {
   "cell_type": "markdown",
   "id": "ae2613cc",
   "metadata": {},
   "source": [
    "## Modeling"
   ]
  },
  {
   "cell_type": "markdown",
   "id": "f1788469",
   "metadata": {},
   "source": [
    "## Evaluation"
   ]
  },
  {
   "cell_type": "code",
   "execution_count": null,
   "id": "35848faf",
   "metadata": {},
   "outputs": [],
   "source": []
  }
 ],
 "metadata": {
  "kernelspec": {
   "display_name": "MasterThesis_LLM_optimization_ORCA",
   "language": "python",
   "name": "python3"
  },
  "language_info": {
   "codemirror_mode": {
    "name": "ipython",
    "version": 3
   },
   "file_extension": ".py",
   "mimetype": "text/x-python",
   "name": "python",
   "nbconvert_exporter": "python",
   "pygments_lexer": "ipython3",
   "version": "3.13.3"
  }
 },
 "nbformat": 4,
 "nbformat_minor": 5
}
