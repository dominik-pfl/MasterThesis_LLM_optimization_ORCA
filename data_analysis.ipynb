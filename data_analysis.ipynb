{
 "cells": [
  {
   "cell_type": "markdown",
   "id": "afcf284f",
   "metadata": {},
   "source": [
    "# CRISP DM\n"
   ]
  },
  {
   "cell_type": "markdown",
   "id": "ba15c3be",
   "metadata": {},
   "source": [
    "## Problem Understanding:\n",
    "A central step in the ORCA pipeline is the automated mapping of natural language threat\n",
    "descriptions to structured attack patterns from the Common Attack Pattern Enumeration\n",
    "and Classification (CAPEC) framework. This process—referred to as Threat-to-CAPEC\n",
    "Mapping—aims to translate unstructured textual threat inputs into standardized, machine-\n",
    "readable representations that describe how an attacker might exploit a given vulnerability.\n",
    "This mapping is critical for enabling further steps in the security analysis process, such\n",
    "as correlating threats with known vulnerabilities (CWEs, CVEs), assessing risk using\n",
    "scoring systems like CVSS, and informing mitigation strategies. However, the task poses\n",
    "several inherent challenges:\n",
    "Ambiguity: Threat descriptions are often informal, incomplete, or context-dependent.\n",
    "Terminology mismatch: Natural language inputs may not directly align with the technical\n",
    "vocabulary used in CAPEC definitions.\n",
    "Granularity: A single threat may correspond to multiple CAPECs at varying levels of\n",
    "abstraction, requiring semantic reasoning to determine relevance.\n",
    "Solving this problem involves designing a system capable of understanding the semantics\n",
    "of threat descriptions and reliably identifying the most appropriate CAPEC entries. This\n",
    "step must balance accuracy, scalability, and interpretability to support reliable, automated\n",
    "security assessments within the broader ORCA framework."
   ]
  },
  {
   "cell_type": "markdown",
   "id": "28377b02",
   "metadata": {},
   "source": [
    "## Data Understanding"
   ]
  },
  {
   "cell_type": "code",
   "execution_count": 153,
   "id": "92b7bdae",
   "metadata": {},
   "outputs": [],
   "source": [
    "# imports\n",
    "import pandas as pd\n",
    "import json\n",
    "import re"
   ]
  },
  {
   "cell_type": "code",
   "execution_count": 154,
   "id": "5ce09cf6",
   "metadata": {},
   "outputs": [],
   "source": [
    "# setting display options for pandas\n",
    "pd.set_option('display.max_columns', None)\n",
    "pd.set_option('display.width', None)\n",
    "pd.set_option('display.max_colwidth', None)"
   ]
  },
  {
   "cell_type": "markdown",
   "id": "88e0f901",
   "metadata": {},
   "source": [
    "Import threat data from json file"
   ]
  },
  {
   "cell_type": "code",
   "execution_count": 155,
   "id": "852276b1",
   "metadata": {},
   "outputs": [
    {
     "data": {
      "text/html": [
       "<div>\n",
       "<style scoped>\n",
       "    .dataframe tbody tr th:only-of-type {\n",
       "        vertical-align: middle;\n",
       "    }\n",
       "\n",
       "    .dataframe tbody tr th {\n",
       "        vertical-align: top;\n",
       "    }\n",
       "\n",
       "    .dataframe thead th {\n",
       "        text-align: right;\n",
       "    }\n",
       "</style>\n",
       "<table border=\"1\" class=\"dataframe\">\n",
       "  <thead>\n",
       "    <tr style=\"text-align: right;\">\n",
       "      <th></th>\n",
       "      <th>Threat ID</th>\n",
       "      <th>Threat title</th>\n",
       "      <th>Threat Description</th>\n",
       "      <th>Threat type</th>\n",
       "      <th>Impact type</th>\n",
       "      <th>Threat agent</th>\n",
       "      <th>Vulnerability</th>\n",
       "      <th>Threatened Asset</th>\n",
       "      <th>Affected Components</th>\n",
       "    </tr>\n",
       "  </thead>\n",
       "  <tbody>\n",
       "    <tr>\n",
       "      <th>0</th>\n",
       "      <td>T-O-RAN-01</td>\n",
       "      <td>An attacker exploits insecure designs or lack of adaption in O-RAN components</td>\n",
       "      <td>Unauthenticated/unauthorized access to O-RAN components could possibly be achieved via the different O-RAN interfaces, depending upon the design of the hardware-software O-RAN system and how different functions are segregated within the O-RAN system. \\nO-RAN components might be vulnerable if: \\n• Outdated component from the lack of update or patch management,\\n• Poorly design architecture,\\n• Missing appropriate security hardening,\\n• Unnecessary or insecure function/protocol/component.\\nAn attacker could, in such case, either inject malwares and/or manipulate existing software, harm the O-RAN components, create a performance issue by manipulation of parameters, or reconfigure the O-RAN components and disable the security features with the purpose of eavesdropping or wiretapping on various CUS &amp; M planes, reaching northbound systems, attack broader network to cause denial-of-service, steal unprotected private keys, certificates, hash values, or other type of breaches.\\nIn addition, O-RAN components could be software providing network functions, so they are likely to be vulnerable to software flaws: it could be possible to bypass firewall restrictions or to take advantage of a buffer overflow to execute arbitrary commands, etc.</td>\n",
       "      <td>None</td>\n",
       "      <td>None</td>\n",
       "      <td>All</td>\n",
       "      <td>[Outdated component from the lack of update or patch management, Poorly design architecture, Missing appropriate security hardening, Unnecessary or insecure function/protocol/component]</td>\n",
       "      <td>All</td>\n",
       "      <td>All</td>\n",
       "    </tr>\n",
       "    <tr>\n",
       "      <th>1</th>\n",
       "      <td>T-O-RAN-02</td>\n",
       "      <td>An attacker exploits misconfigured or poorly configured O-RAN components</td>\n",
       "      <td>Unauthenticated/unauthorized access to O-RAN components could possibly be achieved via the different O-RAN interfaces, depending upon the configuration of the hardware-software O-RAN system. \\nO-RAN components might be vulnerable if: \\n• Errors from the lack of configuration change management,\\n• Misconfigured or poorly configured O-RAN components,\\n• Improperly configured permissions,\\n• Unnecessary features are enabled (e.g. unnecessary ports, services, accounts, or privileges),\\n• Default accounts and their passwords still enabled and unchanged,\\n• Security features are disabled or not configured securely.\\nAn attacker could, in such case, either inject malwares and/or manipulate existing software, harm the O-RAN components, create a performance issue by manipulation of parameters, or reconfigure the O-RAN components and disable the security features with the purpose of eavesdropping or wiretapping on various CUS &amp; M planes, reaching northbound systems, attack broader network to cause denial-of-service, steal unprotected private keys, certificates, hash values, or other type of breaches.</td>\n",
       "      <td>None</td>\n",
       "      <td>None</td>\n",
       "      <td>All</td>\n",
       "      <td>[Errors from the lack of configuration change management, Misconfigured or poorly configured O-RAN components, Improperly configured permissions, Unnecessary features are enabled (e.g. unnecessary ports, services, accounts, or privileges), Default accounts and their passwords still enabled and unchanged, Security features are disabled or not configured securely]</td>\n",
       "      <td>All</td>\n",
       "      <td>All</td>\n",
       "    </tr>\n",
       "    <tr>\n",
       "      <th>2</th>\n",
       "      <td>T-O-RAN-03</td>\n",
       "      <td>Attacks from the internet to penetrate O-RAN network boundary</td>\n",
       "      <td>Web servers serving O-RAN functional and management services should provide adequate protection. \\nAn attacker that have access to the uncontrolled O-RAN network could:\\n• Bypass the information flow control policy implemented by the firewall,\\n• And/or attack O-RAN components in the trusted networks by taking advantage of particularities and errors in the design and implementation of the network protocols (IP, TCP, UDP, application protocols),\\n• Use of incorrect or exceeded TCP sequence numbers,\\n• Perform brute force attacks on FTP passwords,\\n• Use of improper HTTP user sessions,\\n• Etc.\\nThe effects of such attacks may include:\\n• An intrusion, meaning unauthorized access to O-RAN components,\\n• Blocking, flooding or restarting an O-RAN component causing a denial of service,\\n• Flooding of network equipment, causing a denial of service,\\n• Etc.</td>\n",
       "      <td>None</td>\n",
       "      <td>None</td>\n",
       "      <td>All</td>\n",
       "      <td>[Errors in the design and implementation of the network protocols (HTTP, P, TCP, UDP, application protocols)]</td>\n",
       "      <td>All</td>\n",
       "      <td>All</td>\n",
       "    </tr>\n",
       "    <tr>\n",
       "      <th>3</th>\n",
       "      <td>T-O-RAN-04</td>\n",
       "      <td>An attacker attempts to jam the airlink signal through IoT devices</td>\n",
       "      <td>DDoS attacks on O-RAN systems: The 5G evolution means billions of things, collectively referred to as IoT, will be using the 5G O-RAN. Thus, IoT could increase the risk of O-RAN resource overload by way of DDoS attacks. Attackers create a botnet army by infecting many (millions/billions) IoT devices with a “remote-reboot” malware. Attackers instruct the malware to reboot all devices in a specific or targeted 5G coverage area at the same time.</td>\n",
       "      <td>None</td>\n",
       "      <td>None</td>\n",
       "      <td>All</td>\n",
       "      <td>[Failure to address overload situations]</td>\n",
       "      <td>ASSET-D-06, ASSET-D-18</td>\n",
       "      <td>O-RU, airlink with UE, O-DU</td>\n",
       "    </tr>\n",
       "    <tr>\n",
       "      <th>4</th>\n",
       "      <td>T-O-RAN-05</td>\n",
       "      <td>An attacker penetrates and compromises the O-RAN system through the open O-RAN’s Fronthaul, O1, O2, A1, and E2</td>\n",
       "      <td>O-RAN’s Fronthaul, O1, O2, A1, and E2 management interfaces are the new open interfaces that allow software programmability of RAN. These interfaces may not be secured to industry best practices.\\nO-RAN components might be vulnerable if: \\n• Improper or missing authentication and authorization processes,\\n• Improper or missing ciphering and integrity checks of sensitive data exchanged over O-RAN interfaces,\\n• Improper or missing replay protection of sensitive data exchanged over O-RAN interfaces,\\n• Improper prevention of key reuse,\\n• Improper implementation,\\n• Improperly validate inputs, respond to error conditions in both the submitted data as well as out of sequence protocol steps.\\nAn attacker could, in such case, cause denial-of-service, data tampering or information disclosure, etc.\\nNOTE: O-RAN interfaces allow use of TLS or SSH. Industry best practices mandate the use of TLS (v1.2 or higher) or SSH certificate-based authentication. An implementation that implements TLS version lower than 1.2 or a SSH password authentication, may become the key source of vulnerability that a malicious code will exploit to compromise the O-RAN system.</td>\n",
       "      <td>None</td>\n",
       "      <td>None</td>\n",
       "      <td>All</td>\n",
       "      <td>[Improper or missing authentication and authorization processes, Improper prevention of key reuse, Improper or missing replay protection of sensitive data exchanged over O-RAN interfaces, Improper or missing ciphering and integrity checks of sensitive data exchanged over O-RAN interfaces]</td>\n",
       "      <td>All</td>\n",
       "      <td>rApps, xApps, O-RU, O-DU, O-CU, Near-RT RIC, Non-RT RIC</td>\n",
       "    </tr>\n",
       "  </tbody>\n",
       "</table>\n",
       "</div>"
      ],
      "text/plain": [
       "    Threat ID  \\\n",
       "0  T-O-RAN-01   \n",
       "1  T-O-RAN-02   \n",
       "2  T-O-RAN-03   \n",
       "3  T-O-RAN-04   \n",
       "4  T-O-RAN-05   \n",
       "\n",
       "                                                                                                     Threat title  \\\n",
       "0                                   An attacker exploits insecure designs or lack of adaption in O-RAN components   \n",
       "1                                        An attacker exploits misconfigured or poorly configured O-RAN components   \n",
       "2                                                   Attacks from the internet to penetrate O-RAN network boundary   \n",
       "3                                              An attacker attempts to jam the airlink signal through IoT devices   \n",
       "4  An attacker penetrates and compromises the O-RAN system through the open O-RAN’s Fronthaul, O1, O2, A1, and E2   \n",
       "\n",
       "                                                                                                                                                                                                                                                                                                                                                                                                                                                                                                                                                                                                                                                                                                                                                                                                                                                                                                                                                                                                                                                                                                                                                                                                                                                                               Threat Description  \\\n",
       "0  Unauthenticated/unauthorized access to O-RAN components could possibly be achieved via the different O-RAN interfaces, depending upon the design of the hardware-software O-RAN system and how different functions are segregated within the O-RAN system. \\nO-RAN components might be vulnerable if: \\n• Outdated component from the lack of update or patch management,\\n• Poorly design architecture,\\n• Missing appropriate security hardening,\\n• Unnecessary or insecure function/protocol/component.\\nAn attacker could, in such case, either inject malwares and/or manipulate existing software, harm the O-RAN components, create a performance issue by manipulation of parameters, or reconfigure the O-RAN components and disable the security features with the purpose of eavesdropping or wiretapping on various CUS & M planes, reaching northbound systems, attack broader network to cause denial-of-service, steal unprotected private keys, certificates, hash values, or other type of breaches.\\nIn addition, O-RAN components could be software providing network functions, so they are likely to be vulnerable to software flaws: it could be possible to bypass firewall restrictions or to take advantage of a buffer overflow to execute arbitrary commands, etc.   \n",
       "1                                                                                                                                             Unauthenticated/unauthorized access to O-RAN components could possibly be achieved via the different O-RAN interfaces, depending upon the configuration of the hardware-software O-RAN system. \\nO-RAN components might be vulnerable if: \\n• Errors from the lack of configuration change management,\\n• Misconfigured or poorly configured O-RAN components,\\n• Improperly configured permissions,\\n• Unnecessary features are enabled (e.g. unnecessary ports, services, accounts, or privileges),\\n• Default accounts and their passwords still enabled and unchanged,\\n• Security features are disabled or not configured securely.\\nAn attacker could, in such case, either inject malwares and/or manipulate existing software, harm the O-RAN components, create a performance issue by manipulation of parameters, or reconfigure the O-RAN components and disable the security features with the purpose of eavesdropping or wiretapping on various CUS & M planes, reaching northbound systems, attack broader network to cause denial-of-service, steal unprotected private keys, certificates, hash values, or other type of breaches.   \n",
       "2                                                                                                                                                                                                                                                                                                                                                                                                   Web servers serving O-RAN functional and management services should provide adequate protection. \\nAn attacker that have access to the uncontrolled O-RAN network could:\\n• Bypass the information flow control policy implemented by the firewall,\\n• And/or attack O-RAN components in the trusted networks by taking advantage of particularities and errors in the design and implementation of the network protocols (IP, TCP, UDP, application protocols),\\n• Use of incorrect or exceeded TCP sequence numbers,\\n• Perform brute force attacks on FTP passwords,\\n• Use of improper HTTP user sessions,\\n• Etc.\\nThe effects of such attacks may include:\\n• An intrusion, meaning unauthorized access to O-RAN components,\\n• Blocking, flooding or restarting an O-RAN component causing a denial of service,\\n• Flooding of network equipment, causing a denial of service,\\n• Etc.   \n",
       "3                                                                                                                                                                                                                                                                                                                                                                                                                                                                                                                                                                                                                                                                                                                                                                                                                                  DDoS attacks on O-RAN systems: The 5G evolution means billions of things, collectively referred to as IoT, will be using the 5G O-RAN. Thus, IoT could increase the risk of O-RAN resource overload by way of DDoS attacks. Attackers create a botnet army by infecting many (millions/billions) IoT devices with a “remote-reboot” malware. Attackers instruct the malware to reboot all devices in a specific or targeted 5G coverage area at the same time.   \n",
       "4                                                                                       O-RAN’s Fronthaul, O1, O2, A1, and E2 management interfaces are the new open interfaces that allow software programmability of RAN. These interfaces may not be secured to industry best practices.\\nO-RAN components might be vulnerable if: \\n• Improper or missing authentication and authorization processes,\\n• Improper or missing ciphering and integrity checks of sensitive data exchanged over O-RAN interfaces,\\n• Improper or missing replay protection of sensitive data exchanged over O-RAN interfaces,\\n• Improper prevention of key reuse,\\n• Improper implementation,\\n• Improperly validate inputs, respond to error conditions in both the submitted data as well as out of sequence protocol steps.\\nAn attacker could, in such case, cause denial-of-service, data tampering or information disclosure, etc.\\nNOTE: O-RAN interfaces allow use of TLS or SSH. Industry best practices mandate the use of TLS (v1.2 or higher) or SSH certificate-based authentication. An implementation that implements TLS version lower than 1.2 or a SSH password authentication, may become the key source of vulnerability that a malicious code will exploit to compromise the O-RAN system.   \n",
       "\n",
       "  Threat type Impact type Threat agent  \\\n",
       "0        None        None          All   \n",
       "1        None        None          All   \n",
       "2        None        None          All   \n",
       "3        None        None          All   \n",
       "4        None        None          All   \n",
       "\n",
       "                                                                                                                                                                                                                                                                                                                                                                  Vulnerability  \\\n",
       "0                                                                                                                                                                                     [Outdated component from the lack of update or patch management, Poorly design architecture, Missing appropriate security hardening, Unnecessary or insecure function/protocol/component]   \n",
       "1  [Errors from the lack of configuration change management, Misconfigured or poorly configured O-RAN components, Improperly configured permissions, Unnecessary features are enabled (e.g. unnecessary ports, services, accounts, or privileges), Default accounts and their passwords still enabled and unchanged, Security features are disabled or not configured securely]   \n",
       "2                                                                                                                                                                                                                                                                 [Errors in the design and implementation of the network protocols (HTTP, P, TCP, UDP, application protocols)]   \n",
       "3                                                                                                                                                                                                                                                                                                                                      [Failure to address overload situations]   \n",
       "4                                                                             [Improper or missing authentication and authorization processes, Improper prevention of key reuse, Improper or missing replay protection of sensitive data exchanged over O-RAN interfaces, Improper or missing ciphering and integrity checks of sensitive data exchanged over O-RAN interfaces]   \n",
       "\n",
       "         Threatened Asset  \\\n",
       "0                     All   \n",
       "1                     All   \n",
       "2                     All   \n",
       "3  ASSET-D-06, ASSET-D-18   \n",
       "4                     All   \n",
       "\n",
       "                                       Affected Components  \n",
       "0                                                      All  \n",
       "1                                                      All  \n",
       "2                                                      All  \n",
       "3                              O-RU, airlink with UE, O-DU  \n",
       "4  rApps, xApps, O-RU, O-DU, O-CU, Near-RT RIC, Non-RT RIC  "
      ]
     },
     "execution_count": 155,
     "metadata": {},
     "output_type": "execute_result"
    }
   ],
   "source": [
    "# Load threat data from JSON file into a DataFrame\n",
    "df_threats = pd.read_json('threat_data/all_threats.json')\n",
    "df_threats.head(5)"
   ]
  },
  {
   "cell_type": "code",
   "execution_count": 157,
   "id": "0fde54f2",
   "metadata": {},
   "outputs": [
    {
     "name": "stdout",
     "output_type": "stream",
     "text": [
      "<class 'pandas.core.frame.DataFrame'>\n",
      "RangeIndex: 182 entries, 0 to 181\n",
      "Data columns (total 9 columns):\n",
      " #   Column               Non-Null Count  Dtype \n",
      "---  ------               --------------  ----- \n",
      " 0   Threat ID            182 non-null    object\n",
      " 1   Threat title         182 non-null    object\n",
      " 2   Threat Description   182 non-null    object\n",
      " 3   Threat type          82 non-null     object\n",
      " 4   Impact type          82 non-null     object\n",
      " 5   Threat agent         182 non-null    object\n",
      " 6   Vulnerability        182 non-null    object\n",
      " 7   Threatened Asset     182 non-null    object\n",
      " 8   Affected Components  182 non-null    object\n",
      "dtypes: object(9)\n",
      "memory usage: 12.9+ KB\n"
     ]
    }
   ],
   "source": [
    "# Display DataFrame information\n",
    "df_threats.info()"
   ]
  },
  {
   "cell_type": "markdown",
   "id": "1be67c75",
   "metadata": {},
   "source": [
    "There a 182 threats in 9 columns, each threat has a unique ID, a title, a description, a threat type, an impact type, a threat agent, one or more vulnerabilities (safed in a list), a threatened asset and a affected component"
   ]
  },
  {
   "cell_type": "code",
   "execution_count": 158,
   "id": "a797c421",
   "metadata": {},
   "outputs": [
    {
     "data": {
      "text/html": [
       "<div>\n",
       "<style scoped>\n",
       "    .dataframe tbody tr th:only-of-type {\n",
       "        vertical-align: middle;\n",
       "    }\n",
       "\n",
       "    .dataframe tbody tr th {\n",
       "        vertical-align: top;\n",
       "    }\n",
       "\n",
       "    .dataframe thead th {\n",
       "        text-align: right;\n",
       "    }\n",
       "</style>\n",
       "<table border=\"1\" class=\"dataframe\">\n",
       "  <thead>\n",
       "    <tr style=\"text-align: right;\">\n",
       "      <th></th>\n",
       "      <th>Threat ID</th>\n",
       "      <th>Threat title</th>\n",
       "      <th>Threat Description</th>\n",
       "      <th>Threat type</th>\n",
       "      <th>Impact type</th>\n",
       "      <th>Threat agent</th>\n",
       "      <th>Vulnerability</th>\n",
       "      <th>Threatened Asset</th>\n",
       "      <th>Affected Components</th>\n",
       "    </tr>\n",
       "  </thead>\n",
       "  <tbody>\n",
       "    <tr>\n",
       "      <th>count</th>\n",
       "      <td>182</td>\n",
       "      <td>182</td>\n",
       "      <td>182</td>\n",
       "      <td>82</td>\n",
       "      <td>82</td>\n",
       "      <td>182</td>\n",
       "      <td>182</td>\n",
       "      <td>182</td>\n",
       "      <td>182</td>\n",
       "    </tr>\n",
       "    <tr>\n",
       "      <th>unique</th>\n",
       "      <td>182</td>\n",
       "      <td>181</td>\n",
       "      <td>182</td>\n",
       "      <td>16</td>\n",
       "      <td>17</td>\n",
       "      <td>2</td>\n",
       "      <td>116</td>\n",
       "      <td>58</td>\n",
       "      <td>55</td>\n",
       "    </tr>\n",
       "    <tr>\n",
       "      <th>top</th>\n",
       "      <td>T-O-RAN-01</td>\n",
       "      <td>External attacker exploits authentication weakness on SMO</td>\n",
       "      <td>Unauthenticated/unauthorized access to O-RAN components could possibly be achieved via the different O-RAN interfaces, depending upon the design of the hardware-software O-RAN system and how different functions are segregated within the O-RAN system. \\nO-RAN components might be vulnerable if: \\n• Outdated component from the lack of update or patch management,\\n• Poorly design architecture,\\n• Missing appropriate security hardening,\\n• Unnecessary or insecure function/protocol/component.\\nAn attacker could, in such case, either inject malwares and/or manipulate existing software, harm the O-RAN components, create a performance issue by manipulation of parameters, or reconfigure the O-RAN components and disable the security features with the purpose of eavesdropping or wiretapping on various CUS &amp; M planes, reaching northbound systems, attack broader network to cause denial-of-service, steal unprotected private keys, certificates, hash values, or other type of breaches.\\nIn addition, O-RAN components could be software providing network functions, so they are likely to be vulnerable to software flaws: it could be possible to bypass firewall restrictions or to take advantage of a buffer overflow to execute arbitrary commands, etc.</td>\n",
       "      <td>Spoofing</td>\n",
       "      <td>Authenticity</td>\n",
       "      <td>All</td>\n",
       "      <td>[weak mutual authentication]</td>\n",
       "      <td>ASSET-D-12, ASSET-D-13, ASSET-D-14, ASSET-D-15, ASSET-D-16, ASSET-D-17, ASSET-D-18, ASSET-D-19, ASSET-D-20, ASSET-D-29, ASSET-D-31, ASSET-D-32</td>\n",
       "      <td>All</td>\n",
       "    </tr>\n",
       "    <tr>\n",
       "      <th>freq</th>\n",
       "      <td>1</td>\n",
       "      <td>2</td>\n",
       "      <td>1</td>\n",
       "      <td>28</td>\n",
       "      <td>26</td>\n",
       "      <td>178</td>\n",
       "      <td>12</td>\n",
       "      <td>24</td>\n",
       "      <td>19</td>\n",
       "    </tr>\n",
       "  </tbody>\n",
       "</table>\n",
       "</div>"
      ],
      "text/plain": [
       "         Threat ID                                               Threat title  \\\n",
       "count          182                                                        182   \n",
       "unique         182                                                        181   \n",
       "top     T-O-RAN-01  External attacker exploits authentication weakness on SMO   \n",
       "freq             1                                                          2   \n",
       "\n",
       "                                                                                                                                                                                                                                                                                                                                                                                                                                                                                                                                                                                                                                                                                                                                                                                                                                                                                                                                                                                                                                                                                                                                                                                                                                                                                    Threat Description  \\\n",
       "count                                                                                                                                                                                                                                                                                                                                                                                                                                                                                                                                                                                                                                                                                                                                                                                                                                                                                                                                                                                                                                                                                                                                                                                                                                                                                              182   \n",
       "unique                                                                                                                                                                                                                                                                                                                                                                                                                                                                                                                                                                                                                                                                                                                                                                                                                                                                                                                                                                                                                                                                                                                                                                                                                                                                                             182   \n",
       "top     Unauthenticated/unauthorized access to O-RAN components could possibly be achieved via the different O-RAN interfaces, depending upon the design of the hardware-software O-RAN system and how different functions are segregated within the O-RAN system. \\nO-RAN components might be vulnerable if: \\n• Outdated component from the lack of update or patch management,\\n• Poorly design architecture,\\n• Missing appropriate security hardening,\\n• Unnecessary or insecure function/protocol/component.\\nAn attacker could, in such case, either inject malwares and/or manipulate existing software, harm the O-RAN components, create a performance issue by manipulation of parameters, or reconfigure the O-RAN components and disable the security features with the purpose of eavesdropping or wiretapping on various CUS & M planes, reaching northbound systems, attack broader network to cause denial-of-service, steal unprotected private keys, certificates, hash values, or other type of breaches.\\nIn addition, O-RAN components could be software providing network functions, so they are likely to be vulnerable to software flaws: it could be possible to bypass firewall restrictions or to take advantage of a buffer overflow to execute arbitrary commands, etc.   \n",
       "freq                                                                                                                                                                                                                                                                                                                                                                                                                                                                                                                                                                                                                                                                                                                                                                                                                                                                                                                                                                                                                                                                                                                                                                                                                                                                                                 1   \n",
       "\n",
       "       Threat type   Impact type Threat agent                 Vulnerability  \\\n",
       "count           82            82          182                           182   \n",
       "unique          16            17            2                           116   \n",
       "top       Spoofing  Authenticity          All  [weak mutual authentication]   \n",
       "freq            28            26          178                            12   \n",
       "\n",
       "                                                                                                                                      Threatened Asset  \\\n",
       "count                                                                                                                                              182   \n",
       "unique                                                                                                                                              58   \n",
       "top     ASSET-D-12, ASSET-D-13, ASSET-D-14, ASSET-D-15, ASSET-D-16, ASSET-D-17, ASSET-D-18, ASSET-D-19, ASSET-D-20, ASSET-D-29, ASSET-D-31, ASSET-D-32   \n",
       "freq                                                                                                                                                24   \n",
       "\n",
       "       Affected Components  \n",
       "count                  182  \n",
       "unique                  55  \n",
       "top                    All  \n",
       "freq                    19  "
      ]
     },
     "execution_count": 158,
     "metadata": {},
     "output_type": "execute_result"
    }
   ],
   "source": [
    "df_threats.describe()"
   ]
  },
  {
   "cell_type": "code",
   "execution_count": 159,
   "id": "612b55a0",
   "metadata": {},
   "outputs": [
    {
     "data": {
      "text/html": [
       "\n",
       "<style>\n",
       "/* White background for output area */\n",
       ".output_area {\n",
       "    background: white !important;\n",
       "    color: black !important;\n",
       "}\n",
       "\n",
       "/* Optional: White background for DataFrame cells */\n",
       ".dataframe {\n",
       "    background-color: white !important;\n",
       "    color: black !important;\n",
       "}\n",
       "</style>\n"
      ],
      "text/plain": [
       "<IPython.core.display.HTML object>"
      ]
     },
     "metadata": {},
     "output_type": "display_data"
    }
   ],
   "source": [
    "from IPython.display import HTML, display\n",
    "\n",
    "display(HTML('''\n",
    "<style>\n",
    "/* White background for output area */\n",
    ".output_area {\n",
    "    background: white !important;\n",
    "    color: black !important;\n",
    "}\n",
    "\n",
    "/* Optional: White background for DataFrame cells */\n",
    ".dataframe {\n",
    "    background-color: white !important;\n",
    "    color: black !important;\n",
    "}\n",
    "</style>\n",
    "'''))\n",
    "\n"
   ]
  },
  {
   "cell_type": "code",
   "execution_count": 160,
   "id": "ec02ea7c",
   "metadata": {},
   "outputs": [
    {
     "data": {
      "text/plain": [
       "Threat ID                0\n",
       "Threat title             0\n",
       "Threat Description       0\n",
       "Threat type            100\n",
       "Impact type            100\n",
       "Threat agent             0\n",
       "Vulnerability            0\n",
       "Threatened Asset         0\n",
       "Affected Components      0\n",
       "dtype: int64"
      ]
     },
     "execution_count": 160,
     "metadata": {},
     "output_type": "execute_result"
    }
   ],
   "source": [
    "df_threats.isnull().sum()"
   ]
  },
  {
   "cell_type": "code",
   "execution_count": 161,
   "id": "6bbf2588",
   "metadata": {},
   "outputs": [
    {
     "data": {
      "text/plain": [
       "Index(['Threat ID', 'Threat title', 'Threat Description', 'Threat type',\n",
       "       'Impact type', 'Threat agent', 'Vulnerability', 'Threatened Asset',\n",
       "       'Affected Components'],\n",
       "      dtype='object')"
      ]
     },
     "execution_count": 161,
     "metadata": {},
     "output_type": "execute_result"
    }
   ],
   "source": [
    "df_threats.columns"
   ]
  },
  {
   "cell_type": "code",
   "execution_count": 162,
   "id": "631fabe7",
   "metadata": {},
   "outputs": [
    {
     "data": {
      "text/html": [
       "<div>\n",
       "<style scoped>\n",
       "    .dataframe tbody tr th:only-of-type {\n",
       "        vertical-align: middle;\n",
       "    }\n",
       "\n",
       "    .dataframe tbody tr th {\n",
       "        vertical-align: top;\n",
       "    }\n",
       "\n",
       "    .dataframe thead th {\n",
       "        text-align: right;\n",
       "    }\n",
       "</style>\n",
       "<table border=\"1\" class=\"dataframe\">\n",
       "  <thead>\n",
       "    <tr style=\"text-align: right;\">\n",
       "      <th></th>\n",
       "      <th>Threat type</th>\n",
       "      <th>count</th>\n",
       "    </tr>\n",
       "  </thead>\n",
       "  <tbody>\n",
       "    <tr>\n",
       "      <th>0</th>\n",
       "      <td>Spoofing</td>\n",
       "      <td>28</td>\n",
       "    </tr>\n",
       "    <tr>\n",
       "      <th>1</th>\n",
       "      <td>Denial of Service</td>\n",
       "      <td>11</td>\n",
       "    </tr>\n",
       "    <tr>\n",
       "      <th>2</th>\n",
       "      <td>Elevation of Privilege</td>\n",
       "      <td>10</td>\n",
       "    </tr>\n",
       "    <tr>\n",
       "      <th>3</th>\n",
       "      <td>Information Disclosure</td>\n",
       "      <td>9</td>\n",
       "    </tr>\n",
       "    <tr>\n",
       "      <th>4</th>\n",
       "      <td>Tampering</td>\n",
       "      <td>8</td>\n",
       "    </tr>\n",
       "    <tr>\n",
       "      <th>5</th>\n",
       "      <td>Information disclosure</td>\n",
       "      <td>4</td>\n",
       "    </tr>\n",
       "    <tr>\n",
       "      <th>6</th>\n",
       "      <td>Tampering; Denial of Service</td>\n",
       "      <td>2</td>\n",
       "    </tr>\n",
       "    <tr>\n",
       "      <th>7</th>\n",
       "      <td>Elevation of Privilege, Information Disclosure</td>\n",
       "      <td>2</td>\n",
       "    </tr>\n",
       "    <tr>\n",
       "      <th>8</th>\n",
       "      <td>Elevation of Privilege; Denial of Service</td>\n",
       "      <td>1</td>\n",
       "    </tr>\n",
       "    <tr>\n",
       "      <th>9</th>\n",
       "      <td>Denial of Service, Escalation of Privilege</td>\n",
       "      <td>1</td>\n",
       "    </tr>\n",
       "    <tr>\n",
       "      <th>10</th>\n",
       "      <td>Denial of Service, Information Disclosure</td>\n",
       "      <td>1</td>\n",
       "    </tr>\n",
       "    <tr>\n",
       "      <th>11</th>\n",
       "      <td>Denial of Service; Tampering</td>\n",
       "      <td>1</td>\n",
       "    </tr>\n",
       "    <tr>\n",
       "      <th>12</th>\n",
       "      <td>Information disclosure, Tampering</td>\n",
       "      <td>1</td>\n",
       "    </tr>\n",
       "    <tr>\n",
       "      <th>13</th>\n",
       "      <td>Information Disclosure, Denial of Service</td>\n",
       "      <td>1</td>\n",
       "    </tr>\n",
       "    <tr>\n",
       "      <th>14</th>\n",
       "      <td>Tampering, Information Disclosure, Escalation of Privilege</td>\n",
       "      <td>1</td>\n",
       "    </tr>\n",
       "    <tr>\n",
       "      <th>15</th>\n",
       "      <td>Tampering; Elevation of Privilege; Denial of Service</td>\n",
       "      <td>1</td>\n",
       "    </tr>\n",
       "  </tbody>\n",
       "</table>\n",
       "</div>"
      ],
      "text/plain": [
       "                                                   Threat type  count\n",
       "0                                                     Spoofing     28\n",
       "1                                            Denial of Service     11\n",
       "2                                       Elevation of Privilege     10\n",
       "3                                       Information Disclosure      9\n",
       "4                                                    Tampering      8\n",
       "5                                       Information disclosure      4\n",
       "6                                 Tampering; Denial of Service      2\n",
       "7               Elevation of Privilege, Information Disclosure      2\n",
       "8                    Elevation of Privilege; Denial of Service      1\n",
       "9                   Denial of Service, Escalation of Privilege      1\n",
       "10                   Denial of Service, Information Disclosure      1\n",
       "11                                Denial of Service; Tampering      1\n",
       "12                           Information disclosure, Tampering      1\n",
       "13                   Information Disclosure, Denial of Service      1\n",
       "14  Tampering, Information Disclosure, Escalation of Privilege      1\n",
       "15        Tampering; Elevation of Privilege; Denial of Service      1"
      ]
     },
     "execution_count": 162,
     "metadata": {},
     "output_type": "execute_result"
    }
   ],
   "source": [
    "df_threats.groupby('Threat type').size().reset_index(name='count').sort_values(by='count', ascending=False).reset_index(drop=True)"
   ]
  },
  {
   "cell_type": "code",
   "execution_count": 163,
   "id": "31b6e9b3",
   "metadata": {},
   "outputs": [
    {
     "data": {
      "text/plain": [
       "np.True_"
      ]
     },
     "execution_count": 163,
     "metadata": {},
     "output_type": "execute_result"
    }
   ],
   "source": [
    "(df_threats['Threat type'].isnull() == df_threats['Impact type'].isnull()).all()\n"
   ]
  },
  {
   "cell_type": "code",
   "execution_count": 164,
   "id": "d9c8d7d8",
   "metadata": {},
   "outputs": [
    {
     "data": {
      "text/plain": [
       "Threat type\n",
       "None                                                          52\n",
       "NaN                                                           48\n",
       "Spoofing                                                      28\n",
       "Denial of Service                                             11\n",
       "Elevation of Privilege                                        10\n",
       "Information Disclosure                                         9\n",
       "Tampering                                                      8\n",
       "Information disclosure                                         4\n",
       "Elevation of Privilege, Information Disclosure                 2\n",
       "Tampering; Denial of Service                                   2\n",
       "Information disclosure, Tampering                              1\n",
       "Tampering, Information Disclosure, Escalation of Privilege     1\n",
       "Denial of Service, Escalation of Privilege                     1\n",
       "Denial of Service; Tampering                                   1\n",
       "Elevation of Privilege; Denial of Service                      1\n",
       "Tampering; Elevation of Privilege; Denial of Service           1\n",
       "Denial of Service, Information Disclosure                      1\n",
       "Information Disclosure, Denial of Service                      1\n",
       "Name: count, dtype: int64"
      ]
     },
     "execution_count": 164,
     "metadata": {},
     "output_type": "execute_result"
    }
   ],
   "source": [
    "df_threats['Threat type'].value_counts(dropna=False)"
   ]
  },
  {
   "cell_type": "code",
   "execution_count": 165,
   "id": "2ac5ec87",
   "metadata": {},
   "outputs": [
    {
     "data": {
      "text/plain": [
       "Impact type\n",
       "None                                         52\n",
       "NaN                                          48\n",
       "Authenticity                                 26\n",
       "Confidentiality                              14\n",
       "Availability                                 12\n",
       "Authorization                                 9\n",
       "Integrity                                     7\n",
       "Authentication                                2\n",
       "Integrity; Availability                       2\n",
       "Authorization. Confidentiality                1\n",
       "Integrity, Confidentiality, Authorization     1\n",
       "Availability; Integrity                       1\n",
       "Confidentiality, Integrity                    1\n",
       "Authorization; Availability                   1\n",
       "Integrity; Authorization; Availability        1\n",
       "Integrity, Availability                       1\n",
       "Availability, Confidentiality                 1\n",
       "Confidentiality, Availability                 1\n",
       "Authorization, Availability                   1\n",
       "Name: count, dtype: int64"
      ]
     },
     "execution_count": 165,
     "metadata": {},
     "output_type": "execute_result"
    }
   ],
   "source": [
    "df_threats['Impact type'].value_counts(dropna=False)"
   ]
  },
  {
   "cell_type": "code",
   "execution_count": 166,
   "id": "d64cb17d",
   "metadata": {},
   "outputs": [
    {
     "data": {
      "text/plain": [
       "Vulnerability\n",
       "[weak mutual authentication]                                                                                                                                                                                                                                                     12\n",
       "[Weak authentication can be exploited by a tenant to move laterally across the deployment.]                                                                                                                                                                                       9\n",
       "[Lack of integrity verification]                                                                                                                                                                                                                                                  5\n",
       "[Lack of overload protection and rate-limiting]                                                                                                                                                                                                                                   5\n",
       "[Weak confidentiality protection exploited to view sensitive data]                                                                                                                                                                                                                5\n",
       "                                                                                                                                                                                                                                                                                 ..\n",
       "[Inaccurate inventories of open-source software, Lack of consistent Supply Chain traceability and security, Lack of coding best practices, Modules with known vulnerabilities and untrusted libraries]                                                                            1\n",
       "[Improper physical security protection of data centres, PNFs, operation areas, etc., Improper protection to power outages (power supply), Improper protection against environmental disasters, Improper maintenance and monitoring of hardware parameters, Hardware backdoor]     1\n",
       "[Bugs in open source software caused by mistakes and human error]                                                                                                                                                                                                                 1\n",
       "[Physical access to the open Fronthaul cable network]                                                                                                                                                                                                                             1\n",
       "[Use of pretrained public ML model]                                                                                                                                                                                                                                               1\n",
       "Name: count, Length: 116, dtype: int64"
      ]
     },
     "execution_count": 166,
     "metadata": {},
     "output_type": "execute_result"
    }
   ],
   "source": [
    "df_threats['Vulnerability'].value_counts(dropna=False)"
   ]
  },
  {
   "cell_type": "markdown",
   "id": "027323c9",
   "metadata": {},
   "source": [
    "### Distribution Analysis\n"
   ]
  },
  {
   "cell_type": "code",
   "execution_count": 167,
   "id": "ec629f4c",
   "metadata": {},
   "outputs": [],
   "source": [
    "# some threat types as well as impact types are seperated by a comma, while others are seperated by a semicolon or a point\n",
    "# Replace all semicolons with commas\n",
    "df_threats['Threat type'] = df_threats['Threat type'].str.replace(';', ',', regex=False)\n",
    "df_threats['Threat type'] = df_threats['Threat type'].str.replace('.', ',', regex=False)\n",
    "df_threats['Impact type'] = df_threats['Impact type'].str.replace(';', ',', regex=False)\n",
    "df_threats['Impact type'] = df_threats['Impact type'].str.replace('.', ',', regex=False)\n",
    "# in the Threatened asssets column, some values have a underscore instead of a dash\n",
    "df_threats['Threatened Asset'] = df_threats['Threatened Asset'].str.replace('_', '-', regex=False)"
   ]
  },
  {
   "cell_type": "code",
   "execution_count": 168,
   "id": "e72a3e57",
   "metadata": {},
   "outputs": [],
   "source": [
    "# removing leading and trailing whitespace from the 'Threat type','Impact type','Threatened asset' and 'Affected components' columns\n",
    "df_threats['Threat type'] = df_threats['Threat type'].apply(\n",
    "    lambda x: [t.strip() for t in x.split(',')] if isinstance(x, str) else x\n",
    ")\n",
    "df_threats['Impact type'] = df_threats['Impact type'].apply(\n",
    "    lambda x: [t.strip() for t in x.split(',')] if isinstance(x, str) else x\n",
    ")\n",
    "df_threats['Threatened Asset'] = df_threats['Threatened Asset'].apply(\n",
    "    lambda x: [t.strip() for t in x.split(',')] if isinstance(x, str) else x\n",
    ")\n",
    "df_threats['Affected Components'] = df_threats['Affected Components'].apply(\n",
    "    lambda x: [t.strip() for t in x.split(',')] if isinstance(x, str) else x\n",
    ")\n",
    "# the vulnerability column contains a list with only one string element\n",
    "# this string contains multpile vulnerabilities separated by commas\n",
    "# we convert the list to this one string element and then split the string by commas\n",
    "df_threats['Vulnerability'] = df_threats['Vulnerability'].apply(lambda x: x[0] if isinstance(x, list) else x)\n",
    "df_threats['Vulnerability'] = df_threats['Vulnerability'].apply(\n",
    "    lambda x: [t.strip() for t in x.split(',')] if isinstance(x, str) else x\n",
    ")"
   ]
  },
  {
   "cell_type": "code",
   "execution_count": 169,
   "id": "70860c6b",
   "metadata": {},
   "outputs": [
    {
     "name": "stdout",
     "output_type": "stream",
     "text": [
      "['ASSET D-11', 'ASSET D-20', 'ASSET D-21', 'ASSET-C-02', 'ASSET-C-03', 'ASSET-C-07', 'ASSET-C-08', 'ASSET-C-09', 'ASSET-C-1', 'ASSET-C-10', 'ASSET-C-11', 'ASSET-C-12', 'ASSET-C-14', 'ASSET-C-16', 'ASSET-C-17', 'ASSET-C-18', 'ASSET-C-19', 'ASSET-C-2', 'ASSET-C-20', 'ASSET-C-21', 'ASSET-C-22', 'ASSET-C-23', 'ASSET-C-24', 'ASSET-C-25', 'ASSET-C-26', 'ASSET-C-27', 'ASSET-C-28', 'ASSET-C-3', 'ASSET-C-31', 'ASSET-C-32', 'ASSET-C-33', 'ASSET-C-34', 'ASSET-C-35', 'ASSET-C-36', 'ASSET-C-37', 'ASSET-C-38', 'ASSET-C-39', 'ASSET-C-4', 'ASSET-C-40', 'ASSET-C-42', 'ASSET-C-5', 'ASSET-C-6', 'ASSET-C-7', 'ASSET-C-8', 'ASSET-C-9', 'ASSET-D-01', 'ASSET-D-02', 'ASSET-D-03', 'ASSET-D-04', 'ASSET-D-05', 'ASSET-D-06', 'ASSET-D-07', 'ASSET-D-08', 'ASSET-D-09', 'ASSET-D-1', 'ASSET-D-10', 'ASSET-D-11', 'ASSET-D-12', 'ASSET-D-13', 'ASSET-D-14', 'ASSET-D-15', 'ASSET-D-16', 'ASSET-D-17', 'ASSET-D-18', 'ASSET-D-19', 'ASSET-D-2', 'ASSET-D-20', 'ASSET-D-21', 'ASSET-D-22', 'ASSET-D-23', 'ASSET-D-24', 'ASSET-D-25', 'ASSET-D-26', 'ASSET-D-27', 'ASSET-D-28', 'ASSET-D-29', 'ASSET-D-3', 'ASSET-D-30', 'ASSET-D-31', 'ASSET-D-32', 'ASSET-D-33', 'ASSET-D-34', 'ASSET-D-35', 'ASSET-D-36', 'ASSET-D-37', 'ASSET-D-38', 'ASSET-D-39', 'ASSET-D-4', 'ASSET-D-41', 'ASSET-D-43', 'ASSET-D-5', 'ASSET-D-6', 'ASSET-D-7', 'ASSET-D-8', 'ASSET-D-9']\n"
     ]
    }
   ],
   "source": [
    "# the 'Threatened Asset' column contains values like 'All' or 'ASSET-D-33 to ASSET-D-38', we solve this by manually turning this into the correct list\n",
    "\n",
    "\n",
    "# Example: start from your DataFrame\n",
    "# df_threats = pd.read_json(...)  # or however you're loading it\n",
    "\n",
    "# Step 1: Drop NaNs\n",
    "asset_entries = df_threats['Threatened Asset'].dropna()\n",
    "\n",
    "# Step 2: Function to expand ranges like 'ASSET-D-33 to ASSET-D-38'\n",
    "def expand_range(entry):\n",
    "    match = re.match(r\"(ASSET-[A-Z]-)(\\d+)\\s+to\\s+ASSET-[A-Z]-(\\d+)\", entry.strip())\n",
    "    if match:\n",
    "        prefix, start, end = match.groups()\n",
    "        return [f\"{prefix}{i}\" for i in range(int(start), int(end) + 1)]\n",
    "    return [entry.strip()]\n",
    "\n",
    "# Step 3: Build the set of unique assets\n",
    "all_assets = set()\n",
    "\n",
    "for entry in asset_entries:\n",
    "    # If entry is a list, turn it into a string\n",
    "    if isinstance(entry, list):\n",
    "        entry = ', '.join(entry)\n",
    "    \n",
    "    # Ensure it's a string before splitting\n",
    "    if isinstance(entry, str):\n",
    "        parts = [p.strip() for p in entry.split(',')]\n",
    "        for part in parts:\n",
    "            if part.lower() == 'all':\n",
    "                continue  # or expand to full known asset list if desired\n",
    "            elif 'to' in part:\n",
    "                expanded = expand_range(part)\n",
    "                all_assets.update(expanded)\n",
    "            else:\n",
    "                all_assets.add(part.strip())\n",
    "\n",
    "# Step 4: Show all unique asset names sorted\n",
    "all_assets = sorted(all_assets)\n",
    "print(all_assets)\n",
    "\n",
    "\n"
   ]
  },
  {
   "cell_type": "code",
   "execution_count": 170,
   "id": "0be8fa62",
   "metadata": {},
   "outputs": [],
   "source": [
    "def normalize_assets(value):\n",
    "    # Convert list to string if needed\n",
    "    if isinstance(value, list):\n",
    "        value = ', '.join(value)\n",
    "    \n",
    "    if isinstance(value, str):\n",
    "        value = value.strip()\n",
    "        if value.lower() == 'all':\n",
    "            return all_assets\n",
    "        elif 'to' in value:\n",
    "            return expand_range(value)\n",
    "        else:\n",
    "            # handle comma-separated list like 'ASSET-D-15, ASSET-C-17'\n",
    "            return [v.strip() for v in value.split(',')]\n",
    "    \n",
    "    return value  # leave as-is if unexpected\n",
    "\n",
    "df_threats['Threatened Asset'] = df_threats['Threatened Asset'].apply(normalize_assets)\n",
    "\n"
   ]
  },
  {
   "cell_type": "code",
   "execution_count": 171,
   "id": "659cdc4d",
   "metadata": {},
   "outputs": [
    {
     "data": {
      "text/plain": [
       "0     [ASSET D-11, ASSET D-20, ASSET D-21, ASSET-C-02, ASSET-C-03, ASSET-C-07, ASSET-C-08, ASSET-C-09, ASSET-C-1, ASSET-C-10, ASSET-C-11, ASSET-C-12, ASSET-C-14, ASSET-C-16, ASSET-C-17, ASSET-C-18, ASSET-C-19, ASSET-C-2, ASSET-C-20, ASSET-C-21, ASSET-C-22, ASSET-C-23, ASSET-C-24, ASSET-C-25, ASSET-C-26, ASSET-C-27, ASSET-C-28, ASSET-C-3, ASSET-C-31, ASSET-C-32, ASSET-C-33, ASSET-C-34, ASSET-C-35, ASSET-C-36, ASSET-C-37, ASSET-C-38, ASSET-C-39, ASSET-C-4, ASSET-C-40, ASSET-C-42, ASSET-C-5, ASSET-C-6, ASSET-C-7, ASSET-C-8, ASSET-C-9, ASSET-D-01, ASSET-D-02, ASSET-D-03, ASSET-D-04, ASSET-D-05, ASSET-D-06, ASSET-D-07, ASSET-D-08, ASSET-D-09, ASSET-D-1, ASSET-D-10, ASSET-D-11, ASSET-D-12, ASSET-D-13, ASSET-D-14, ASSET-D-15, ASSET-D-16, ASSET-D-17, ASSET-D-18, ASSET-D-19, ASSET-D-2, ASSET-D-20, ASSET-D-21, ASSET-D-22, ASSET-D-23, ASSET-D-24, ASSET-D-25, ASSET-D-26, ASSET-D-27, ASSET-D-28, ASSET-D-29, ASSET-D-3, ASSET-D-30, ASSET-D-31, ASSET-D-32, ASSET-D-33, ASSET-D-34, ASSET-D-35, ASSET-D-36, ASSET-D-37, ASSET-D-38, ASSET-D-39, ASSET-D-4, ASSET-D-41, ASSET-D-43, ASSET-D-5, ASSET-D-6, ASSET-D-7, ASSET-D-8, ASSET-D-9]\n",
       "1     [ASSET D-11, ASSET D-20, ASSET D-21, ASSET-C-02, ASSET-C-03, ASSET-C-07, ASSET-C-08, ASSET-C-09, ASSET-C-1, ASSET-C-10, ASSET-C-11, ASSET-C-12, ASSET-C-14, ASSET-C-16, ASSET-C-17, ASSET-C-18, ASSET-C-19, ASSET-C-2, ASSET-C-20, ASSET-C-21, ASSET-C-22, ASSET-C-23, ASSET-C-24, ASSET-C-25, ASSET-C-26, ASSET-C-27, ASSET-C-28, ASSET-C-3, ASSET-C-31, ASSET-C-32, ASSET-C-33, ASSET-C-34, ASSET-C-35, ASSET-C-36, ASSET-C-37, ASSET-C-38, ASSET-C-39, ASSET-C-4, ASSET-C-40, ASSET-C-42, ASSET-C-5, ASSET-C-6, ASSET-C-7, ASSET-C-8, ASSET-C-9, ASSET-D-01, ASSET-D-02, ASSET-D-03, ASSET-D-04, ASSET-D-05, ASSET-D-06, ASSET-D-07, ASSET-D-08, ASSET-D-09, ASSET-D-1, ASSET-D-10, ASSET-D-11, ASSET-D-12, ASSET-D-13, ASSET-D-14, ASSET-D-15, ASSET-D-16, ASSET-D-17, ASSET-D-18, ASSET-D-19, ASSET-D-2, ASSET-D-20, ASSET-D-21, ASSET-D-22, ASSET-D-23, ASSET-D-24, ASSET-D-25, ASSET-D-26, ASSET-D-27, ASSET-D-28, ASSET-D-29, ASSET-D-3, ASSET-D-30, ASSET-D-31, ASSET-D-32, ASSET-D-33, ASSET-D-34, ASSET-D-35, ASSET-D-36, ASSET-D-37, ASSET-D-38, ASSET-D-39, ASSET-D-4, ASSET-D-41, ASSET-D-43, ASSET-D-5, ASSET-D-6, ASSET-D-7, ASSET-D-8, ASSET-D-9]\n",
       "2     [ASSET D-11, ASSET D-20, ASSET D-21, ASSET-C-02, ASSET-C-03, ASSET-C-07, ASSET-C-08, ASSET-C-09, ASSET-C-1, ASSET-C-10, ASSET-C-11, ASSET-C-12, ASSET-C-14, ASSET-C-16, ASSET-C-17, ASSET-C-18, ASSET-C-19, ASSET-C-2, ASSET-C-20, ASSET-C-21, ASSET-C-22, ASSET-C-23, ASSET-C-24, ASSET-C-25, ASSET-C-26, ASSET-C-27, ASSET-C-28, ASSET-C-3, ASSET-C-31, ASSET-C-32, ASSET-C-33, ASSET-C-34, ASSET-C-35, ASSET-C-36, ASSET-C-37, ASSET-C-38, ASSET-C-39, ASSET-C-4, ASSET-C-40, ASSET-C-42, ASSET-C-5, ASSET-C-6, ASSET-C-7, ASSET-C-8, ASSET-C-9, ASSET-D-01, ASSET-D-02, ASSET-D-03, ASSET-D-04, ASSET-D-05, ASSET-D-06, ASSET-D-07, ASSET-D-08, ASSET-D-09, ASSET-D-1, ASSET-D-10, ASSET-D-11, ASSET-D-12, ASSET-D-13, ASSET-D-14, ASSET-D-15, ASSET-D-16, ASSET-D-17, ASSET-D-18, ASSET-D-19, ASSET-D-2, ASSET-D-20, ASSET-D-21, ASSET-D-22, ASSET-D-23, ASSET-D-24, ASSET-D-25, ASSET-D-26, ASSET-D-27, ASSET-D-28, ASSET-D-29, ASSET-D-3, ASSET-D-30, ASSET-D-31, ASSET-D-32, ASSET-D-33, ASSET-D-34, ASSET-D-35, ASSET-D-36, ASSET-D-37, ASSET-D-38, ASSET-D-39, ASSET-D-4, ASSET-D-41, ASSET-D-43, ASSET-D-5, ASSET-D-6, ASSET-D-7, ASSET-D-8, ASSET-D-9]\n",
       "3                                                                                                                                                                                                                                                                                                                                                                                                                                                                                                                                                                                                                                                                                                                                                                                                                                                                                                                                                                                                                                                                                                                                               [ASSET-D-06, ASSET-D-18]\n",
       "4     [ASSET D-11, ASSET D-20, ASSET D-21, ASSET-C-02, ASSET-C-03, ASSET-C-07, ASSET-C-08, ASSET-C-09, ASSET-C-1, ASSET-C-10, ASSET-C-11, ASSET-C-12, ASSET-C-14, ASSET-C-16, ASSET-C-17, ASSET-C-18, ASSET-C-19, ASSET-C-2, ASSET-C-20, ASSET-C-21, ASSET-C-22, ASSET-C-23, ASSET-C-24, ASSET-C-25, ASSET-C-26, ASSET-C-27, ASSET-C-28, ASSET-C-3, ASSET-C-31, ASSET-C-32, ASSET-C-33, ASSET-C-34, ASSET-C-35, ASSET-C-36, ASSET-C-37, ASSET-C-38, ASSET-C-39, ASSET-C-4, ASSET-C-40, ASSET-C-42, ASSET-C-5, ASSET-C-6, ASSET-C-7, ASSET-C-8, ASSET-C-9, ASSET-D-01, ASSET-D-02, ASSET-D-03, ASSET-D-04, ASSET-D-05, ASSET-D-06, ASSET-D-07, ASSET-D-08, ASSET-D-09, ASSET-D-1, ASSET-D-10, ASSET-D-11, ASSET-D-12, ASSET-D-13, ASSET-D-14, ASSET-D-15, ASSET-D-16, ASSET-D-17, ASSET-D-18, ASSET-D-19, ASSET-D-2, ASSET-D-20, ASSET-D-21, ASSET-D-22, ASSET-D-23, ASSET-D-24, ASSET-D-25, ASSET-D-26, ASSET-D-27, ASSET-D-28, ASSET-D-29, ASSET-D-3, ASSET-D-30, ASSET-D-31, ASSET-D-32, ASSET-D-33, ASSET-D-34, ASSET-D-35, ASSET-D-36, ASSET-D-37, ASSET-D-38, ASSET-D-39, ASSET-D-4, ASSET-D-41, ASSET-D-43, ASSET-D-5, ASSET-D-6, ASSET-D-7, ASSET-D-8, ASSET-D-9]\n",
       "5     [ASSET D-11, ASSET D-20, ASSET D-21, ASSET-C-02, ASSET-C-03, ASSET-C-07, ASSET-C-08, ASSET-C-09, ASSET-C-1, ASSET-C-10, ASSET-C-11, ASSET-C-12, ASSET-C-14, ASSET-C-16, ASSET-C-17, ASSET-C-18, ASSET-C-19, ASSET-C-2, ASSET-C-20, ASSET-C-21, ASSET-C-22, ASSET-C-23, ASSET-C-24, ASSET-C-25, ASSET-C-26, ASSET-C-27, ASSET-C-28, ASSET-C-3, ASSET-C-31, ASSET-C-32, ASSET-C-33, ASSET-C-34, ASSET-C-35, ASSET-C-36, ASSET-C-37, ASSET-C-38, ASSET-C-39, ASSET-C-4, ASSET-C-40, ASSET-C-42, ASSET-C-5, ASSET-C-6, ASSET-C-7, ASSET-C-8, ASSET-C-9, ASSET-D-01, ASSET-D-02, ASSET-D-03, ASSET-D-04, ASSET-D-05, ASSET-D-06, ASSET-D-07, ASSET-D-08, ASSET-D-09, ASSET-D-1, ASSET-D-10, ASSET-D-11, ASSET-D-12, ASSET-D-13, ASSET-D-14, ASSET-D-15, ASSET-D-16, ASSET-D-17, ASSET-D-18, ASSET-D-19, ASSET-D-2, ASSET-D-20, ASSET-D-21, ASSET-D-22, ASSET-D-23, ASSET-D-24, ASSET-D-25, ASSET-D-26, ASSET-D-27, ASSET-D-28, ASSET-D-29, ASSET-D-3, ASSET-D-30, ASSET-D-31, ASSET-D-32, ASSET-D-33, ASSET-D-34, ASSET-D-35, ASSET-D-36, ASSET-D-37, ASSET-D-38, ASSET-D-39, ASSET-D-4, ASSET-D-41, ASSET-D-43, ASSET-D-5, ASSET-D-6, ASSET-D-7, ASSET-D-8, ASSET-D-9]\n",
       "6                                                                                                                                                                                                                                                                                                                                                                                                                                                                                                                                                                                                                                                                                                                                                                                                                                                                                                                                                                                                                                                                                                                                                           [ASSET-D-29]\n",
       "7                                                                                                                                                                                                                                                                                                                                                                                                                                                                                                                                                                                                                                                                                                                                                                                                                    [ASSET-D-1, ASSET-D-2, ASSET-D-3, ASSET-D-4, ASSET-D-5, ASSET-D-6, ASSET-D-7, ASSET-D-8, ASSET-D-9, ASSET-D-10, ASSET-D-11, ASSET-D-12, ASSET-D-13, ASSET-D-14, ASSET-D-15, ASSET-D-16, ASSET-D-17, ASSET-D-18, ASSET-D-19, ASSET-D-20, ASSET-D-21, ASSET-D-22, ASSET-D-23, ASSET-D-24, ASSET-D-25, ASSET-D-26, ASSET-D-27, ASSET-D-28, ASSET-D-29]\n",
       "8                                                                                                                                                                                                                                                                                                                                                                                                                                                                                                                                                                                                                                                                                                                                                                                                                                                                                                                                                                                                                                [ASSET-C-1, ASSET-C-2, ASSET-C-3, ASSET-C-4, ASSET-C-5, ASSET-C-6, ASSET-C-7, ASSET-C-8, ASSET-C-9, ASSET-C-10, ASSET-C-11, ASSET-C-12]\n",
       "9                                                                                                                                                                                                                                                                                                                                                                                                                                                                                                                                                                                                                                                                                                                                                                                                                                                                                                                                                                                                                                                                                                                       [ASSET-D-01, ASSET-D-02, ASSET-D-04, ASSET-D-05]\n",
       "10                                                                                                                                                                                                                                                                                                                                                                                                                                                                                                                                                                                                                                                                                                                                                                                                                                                                                                                                                                                                                                                                                                                      [ASSET-D-01, ASSET-D-02, ASSET-D-04, ASSET-D-05]\n",
       "11                                                                                                                                                                                                                                                                                                                                                                                                                                                                                                                                                                                                                                                                                                                                                                                                                                                                                                                                                                                                                                                                                                                                              [ASSET-D-02, ASSET-D-03]\n",
       "12                                                                                                                                                                                                                                                                                                                                                                                                                                                                                                                                                                                                                                                                                                                                                                                                                                                                                                                                                                                                                                                                                                                                                          [ASSET-D-01]\n",
       "13                                                                                                                                                                                                                                                                                                                                                                                                                                                                                                                                                                                                                                                                                                                                                                                                                                                                                                                                                                                                                                                                                                                                                          [ASSET-D-01]\n",
       "14                                                                                                                                                                                                                                                                                                                                                                                                                                                                                                                                                                                                                                                                                                                                                                                                                                                                                                                                                                                                                                                                                                                                                          [ASSET-D-01]\n",
       "15                                                                                                                                                                                                                                                                                                                                                                                                                                                                                                                                                                                                                                                                                                                                                                                                                                                                                                                                                                                                                                                                                                                                                          [ASSET-D-01]\n",
       "16                                                                                                                                                                                                                                                                                                                                                                                                                                                                                                                                                                                                                                                                                                                                                                                                                                                                                                                                                                                                                                                                                                                                                          [ASSET-D-01]\n",
       "17                                                                                                                                                                                                                                                                                                                                                                                                                                                                                                                                                                                                                                                                                                                                                                                                                                                                                                                                                                                                                                                                                                                                                          [ASSET-D-04]\n",
       "18                                                                                                                                                                                                                                                                                                                                                                                                                                                                                                                                                                                                                                                                                                                                                                                                                                                                                                                                                                                                                                                                                                                                                          [ASSET-D-04]\n",
       "19                                                                                                                                                                                                                                                                                                                                                                                                                                                                                                                                                                                                                                                                                                                                                                                                                                                                                                                                                                                                                                                                                                                                                          [ASSET-D-05]\n",
       "Name: Threatened Asset, dtype: object"
      ]
     },
     "execution_count": 171,
     "metadata": {},
     "output_type": "execute_result"
    }
   ],
   "source": [
    "df_threats['Threatened Asset'].head(20)"
   ]
  },
  {
   "cell_type": "code",
   "execution_count": 172,
   "id": "a5b4f2ce",
   "metadata": {},
   "outputs": [
    {
     "data": {
      "text/plain": [
       "Threat type\n",
       "Spoofing                   28\n",
       "Denial of Service          19\n",
       "Elevation of Privilege     14\n",
       "Information Disclosure     14\n",
       "Tampering                  14\n",
       "Information disclosure      5\n",
       "Escalation of Privilege     2\n",
       "Name: count, dtype: int64"
      ]
     },
     "execution_count": 172,
     "metadata": {},
     "output_type": "execute_result"
    }
   ],
   "source": [
    "df_threats['Threat type'].explode().value_counts()\n",
    "# The most common threat type is Spoofing, which occurs 28 times"
   ]
  },
  {
   "cell_type": "code",
   "execution_count": 173,
   "id": "045de193",
   "metadata": {},
   "outputs": [
    {
     "data": {
      "text/plain": [
       "Vulnerability\n",
       "lack of authentication                                                                       17\n",
       "weak mutual authentication                                                                   12\n",
       "weak authentication can be exploited by a tenant to move laterally across the deployment.     9\n",
       "missing or improperly configured authorization                                                6\n",
       "lack of integrity verification                                                                6\n",
       "                                                                                             ..\n",
       "pnfs                                                                                          1\n",
       "etc.                                                                                          1\n",
       "operation areas                                                                               1\n",
       "physical access to the open fronthaul cable network                                           1\n",
       "use of pretrained public ml model                                                             1\n",
       "Name: count, Length: 139, dtype: int64"
      ]
     },
     "execution_count": 173,
     "metadata": {},
     "output_type": "execute_result"
    }
   ],
   "source": [
    "df_threats['Vulnerability'].explode().str.lower().value_counts()\n",
    "# The most common vulnerability is 'lack of authentication', which occurs 17 times,\n",
    "# followed by 'lack of authentication' with 12 occurences."
   ]
  },
  {
   "cell_type": "code",
   "execution_count": 174,
   "id": "94047f2a",
   "metadata": {},
   "outputs": [
    {
     "data": {
      "text/plain": [
       "Threatened Asset\n",
       "ASSET-D-15    43\n",
       "ASSET-C-17    41\n",
       "ASSET-D-29    40\n",
       "ASSET-D-18    38\n",
       "ASSET-D-14    37\n",
       "ASSET-C-31    35\n",
       "ASSET-D-17    35\n",
       "ASSET-D-16    35\n",
       "ASSET-D-12    34\n",
       "ASSET-D-13    34\n",
       "ASSET-D-19    34\n",
       "ASSET-D-20    34\n",
       "ASSET-D-32    34\n",
       "ASSET-D-31    33\n",
       "ASSET-C-11    33\n",
       "ASSET-C-18    22\n",
       "ASSET-C-10    21\n",
       "ASSET-C-08    19\n",
       "ASSET-C-35    18\n",
       "ASSET-D-01    18\n",
       "ASSET-C-34    17\n",
       "ASSET-C-26    17\n",
       "ASSET-C-19    16\n",
       "ASSET-C-16    16\n",
       "ASSET-C-20    16\n",
       "ASSET-C-21    16\n",
       "ASSET-C-23    16\n",
       "ASSET-C-09    16\n",
       "ASSET-D-04    15\n",
       "ASSET-D-26    15\n",
       "ASSET-D-25    15\n",
       "ASSET-C-37    15\n",
       "ASSET-D-37    15\n",
       "ASSET-D-34    15\n",
       "ASSET-D-33    15\n",
       "ASSET-D-36    15\n",
       "ASSET-D-35    15\n",
       "ASSET-D-38    15\n",
       "ASSET-C-25    14\n",
       "ASSET-C-36    14\n",
       "ASSET-D-21    14\n",
       "ASSET-D-02    14\n",
       "ASSET-D-05    14\n",
       "ASSET-D-27    13\n",
       "ASSET-D-28    13\n",
       "ASSET-D-06    13\n",
       "ASSET-D-10    13\n",
       "ASSET-D-22    13\n",
       "ASSET-C-02    12\n",
       "ASSET-D-43    12\n",
       "Name: count, dtype: int64"
      ]
     },
     "execution_count": 174,
     "metadata": {},
     "output_type": "execute_result"
    }
   ],
   "source": [
    "# Step 3: Explode the list so each asset appears in its own row\n",
    "asset_flat = df_threats.explode('Threatened Asset')\n",
    "\n",
    "# Step 4: Count how often each asset appears\n",
    "asset_counts = asset_flat['Threatened Asset'].value_counts()\n",
    "asset_counts.head(50)"
   ]
  },
  {
   "cell_type": "code",
   "execution_count": 175,
   "id": "bbca85d8",
   "metadata": {},
   "outputs": [
    {
     "data": {
      "text/plain": [
       "Impact type\n",
       "Authenticity       26\n",
       "Availability       21\n",
       "Confidentiality    19\n",
       "Authorization      14\n",
       "Integrity          14\n",
       "Authentication      2\n",
       "Name: count, dtype: int64"
      ]
     },
     "execution_count": 175,
     "metadata": {},
     "output_type": "execute_result"
    }
   ],
   "source": [
    "df_threats['Impact type'].explode().value_counts()"
   ]
  },
  {
   "cell_type": "code",
   "execution_count": 176,
   "id": "d8d4f0d6",
   "metadata": {},
   "outputs": [
    {
     "data": {
      "text/plain": [
       "Threat type\n",
       "Spoofing                   28\n",
       "Denial of Service          19\n",
       "Elevation of Privilege     14\n",
       "Information Disclosure     14\n",
       "Tampering                  14\n",
       "Information disclosure      5\n",
       "Escalation of Privilege     2\n",
       "Name: count, dtype: int64"
      ]
     },
     "execution_count": 176,
     "metadata": {},
     "output_type": "execute_result"
    }
   ],
   "source": [
    "df_threats['Threat type'].explode().value_counts()"
   ]
  },
  {
   "cell_type": "code",
   "execution_count": 177,
   "id": "21e4860d",
   "metadata": {},
   "outputs": [
    {
     "name": "stdout",
     "output_type": "stream",
     "text": [
      "{'All', 'All except Script kiddies'}\n"
     ]
    }
   ],
   "source": [
    "print(set(df_threats['Threat agent']))"
   ]
  },
  {
   "cell_type": "code",
   "execution_count": 178,
   "id": "c2471d40",
   "metadata": {},
   "outputs": [
    {
     "data": {
      "text/plain": [
       "Threat agent\n",
       "All                          178\n",
       "All except Script kiddies      4\n",
       "Name: count, dtype: int64"
      ]
     },
     "execution_count": 178,
     "metadata": {},
     "output_type": "execute_result"
    }
   ],
   "source": [
    "df_threats['Threat agent'].value_counts()"
   ]
  },
  {
   "cell_type": "code",
   "execution_count": 179,
   "id": "c66e47c7",
   "metadata": {},
   "outputs": [
    {
     "data": {
      "text/plain": [
       "Affected Components\n",
       "O-Cloud                  30\n",
       "Non-RT RIC               29\n",
       "Shared O-RU              26\n",
       "Apps/VNFs/CNFs           22\n",
       "All                      19\n",
       "O-DU                     17\n",
       "O-RU                     16\n",
       "rApps                    16\n",
       "Near-RT RIC              16\n",
       "SMO                      14\n",
       "xApps                    12\n",
       "O-DU Tenant              10\n",
       "SMO Framework            10\n",
       "O-DU Host                 9\n",
       "O-CU                      8\n",
       "O2 interface              7\n",
       "External interfaces       7\n",
       "R1 interface              7\n",
       "UE                        7\n",
       "SMO Functions             6\n",
       "ASSET-C-29                6\n",
       "ASSET-C-30                6\n",
       "O-CU Tenant               6\n",
       "CUS-Plane                 5\n",
       "Apps/VNFs/CNFs images     5\n",
       "O-CU Host                 5\n",
       "ASSET-C-08                3\n",
       "A1 interface              3\n",
       "E2 interface              3\n",
       "M-Plane                   3\n",
       "SMO Host                  3\n",
       "SMO Tenant                3\n",
       "xAPPs                     3\n",
       "Y1 interface              2\n",
       "O2                        2\n",
       "O1                        2\n",
       "NFO/FOCOM                 2\n",
       "airlink with UE           1\n",
       "SMO Froamework            1\n",
       "Y1interface               1\n",
       "Name: count, dtype: int64"
      ]
     },
     "execution_count": 179,
     "metadata": {},
     "output_type": "execute_result"
    }
   ],
   "source": [
    "df_threats['Affected Components'].explode().value_counts() "
   ]
  },
  {
   "cell_type": "code",
   "execution_count": 180,
   "id": "f45b5c85",
   "metadata": {},
   "outputs": [
    {
     "data": {
      "text/plain": [
       "Index(['Threat ID', 'Threat title', 'Threat Description', 'Threat type',\n",
       "       'Impact type', 'Threat agent', 'Vulnerability', 'Threatened Asset',\n",
       "       'Affected Components'],\n",
       "      dtype='object')"
      ]
     },
     "execution_count": 180,
     "metadata": {},
     "output_type": "execute_result"
    }
   ],
   "source": [
    "df_threats.columns"
   ]
  },
  {
   "cell_type": "markdown",
   "id": "a9be188a",
   "metadata": {},
   "source": [
    "### Text analysis"
   ]
  },
  {
   "cell_type": "code",
   "execution_count": 181,
   "id": "f6229cff",
   "metadata": {},
   "outputs": [
    {
     "name": "stdout",
     "output_type": "stream",
     "text": [
      "count     182.000000\n",
      "mean      528.818681\n",
      "std       491.740145\n",
      "min        76.000000\n",
      "25%       187.250000\n",
      "50%       319.000000\n",
      "75%       756.250000\n",
      "max      2668.000000\n",
      "Name: Threat Description, dtype: float64\n",
      "The average character length of the threat descriptions is 528.8186813186813\n",
      "The standard deviation of the character length of the threat descriptions is 491.74014505307065\n"
     ]
    }
   ],
   "source": [
    "length_of_threat_descriptions = df_threats['Threat Description'].str.len()\n",
    "print(length_of_threat_descriptions.describe())\n",
    "print(\"The average character length of the threat descriptions is\", length_of_threat_descriptions.mean())\n",
    "# the average length og the threat descriptions is 528.2 characters\n",
    "\n",
    "standard_deviation = length_of_threat_descriptions.std()\n",
    "print(\"The standard deviation of the character length of the threat descriptions is\", standard_deviation)"
   ]
  },
  {
   "cell_type": "code",
   "execution_count": 182,
   "id": "aa3ec36c",
   "metadata": {},
   "outputs": [
    {
     "name": "stdout",
     "output_type": "stream",
     "text": [
      "count    182.00000\n",
      "mean      57.10989\n",
      "std       27.82580\n",
      "min       14.00000\n",
      "25%       34.00000\n",
      "50%       54.00000\n",
      "75%       70.00000\n",
      "max      148.00000\n",
      "Name: Threat title, dtype: float64\n",
      "The average character length of the threat titles is 57.10989010989011\n",
      "The standard deviation of the character length of the threat titles is 27.825800083090165\n"
     ]
    }
   ],
   "source": [
    "length_of_threat_titles = df_threats['Threat title'].str.len()\n",
    "print(length_of_threat_titles.describe())\n",
    "print(\"The average character length of the threat titles is\", length_of_threat_titles.mean())\n",
    "print(\"The standard deviation of the character length of the threat titles is\", length_of_threat_titles.std())"
   ]
  },
  {
   "cell_type": "code",
   "execution_count": 183,
   "id": "70fbafca",
   "metadata": {},
   "outputs": [
    {
     "name": "stdout",
     "output_type": "stream",
     "text": [
      "Threat Description\n",
      "Unauthenticated/unauthorized access to O-RAN components could possibly be achieved via the different O-RAN interfaces, depending upon the design of the hardware-software O-RAN system and how different functions are segregated within the O-RAN system. \\nO-RAN components might be vulnerable if: \\n• Outdated component from the lack of update or patch management,\\n• Poorly design architecture,\\n• Missing appropriate security hardening,\\n• Unnecessary or insecure function/protocol/component.\\nAn attacker could, in such case, either inject malwares and/or manipulate existing software, harm the O-RAN components, create a performance issue by manipulation of parameters, or reconfigure the O-RAN components and disable the security features with the purpose of eavesdropping or wiretapping on various CUS & M planes, reaching northbound systems, attack broader network to cause denial-of-service, steal unprotected private keys, certificates, hash values, or other type of breaches.\\nIn addition, O-RAN components could be software providing network functions, so they are likely to be vulnerable to software flaws: it could be possible to bypass firewall restrictions or to take advantage of a buffer overflow to execute arbitrary commands, etc.    1\n",
      "Unauthenticated/unauthorized access to O-RAN components could possibly be achieved via the different O-RAN interfaces, depending upon the configuration of the hardware-software O-RAN system. \\nO-RAN components might be vulnerable if: \\n• Errors from the lack of configuration change management,\\n• Misconfigured or poorly configured O-RAN components,\\n• Improperly configured permissions,\\n• Unnecessary features are enabled (e.g. unnecessary ports, services, accounts, or privileges),\\n• Default accounts and their passwords still enabled and unchanged,\\n• Security features are disabled or not configured securely.\\nAn attacker could, in such case, either inject malwares and/or manipulate existing software, harm the O-RAN components, create a performance issue by manipulation of parameters, or reconfigure the O-RAN components and disable the security features with the purpose of eavesdropping or wiretapping on various CUS & M planes, reaching northbound systems, attack broader network to cause denial-of-service, steal unprotected private keys, certificates, hash values, or other type of breaches.                                                                                                                                               1\n",
      "Name: count, dtype: int64\n",
      "Threat title\n",
      "External attacker exploits authentication weakness on SMO                   2\n",
      "An attacker exploits misconfigured or poorly configured O-RAN components    1\n",
      "Name: count, dtype: int64\n"
     ]
    }
   ],
   "source": [
    "\n",
    "print(df_threats['Threat Description'].value_counts().head(2))\n",
    "print(df_threats['Threat title'].value_counts().head(2))"
   ]
  },
  {
   "cell_type": "code",
   "execution_count": 184,
   "id": "e32f93bc",
   "metadata": {},
   "outputs": [
    {
     "data": {
      "text/html": [
       "<div>\n",
       "<style scoped>\n",
       "    .dataframe tbody tr th:only-of-type {\n",
       "        vertical-align: middle;\n",
       "    }\n",
       "\n",
       "    .dataframe tbody tr th {\n",
       "        vertical-align: top;\n",
       "    }\n",
       "\n",
       "    .dataframe thead th {\n",
       "        text-align: right;\n",
       "    }\n",
       "</style>\n",
       "<table border=\"1\" class=\"dataframe\">\n",
       "  <thead>\n",
       "    <tr style=\"text-align: right;\">\n",
       "      <th></th>\n",
       "      <th>Threat ID</th>\n",
       "      <th>Threat title</th>\n",
       "      <th>Threat Description</th>\n",
       "      <th>Threat type</th>\n",
       "      <th>Impact type</th>\n",
       "      <th>Threat agent</th>\n",
       "      <th>Vulnerability</th>\n",
       "      <th>Threatened Asset</th>\n",
       "      <th>Affected Components</th>\n",
       "    </tr>\n",
       "  </thead>\n",
       "  <tbody>\n",
       "    <tr>\n",
       "      <th>42</th>\n",
       "      <td>T-SMO-01</td>\n",
       "      <td>External attacker exploits authentication weakness on SMO</td>\n",
       "      <td>An external attacker can exploit the improper/missing authentication weakness on SMO functions. If the authentication of O-RAN subjects on A1, O1, O2, and External interfaces on SMO is not supported or not properly implemented, those interfaces without proper credentials could be exploited to gain access to the SMO.</td>\n",
       "      <td>[Spoofing]</td>\n",
       "      <td>[Authenticity]</td>\n",
       "      <td>All</td>\n",
       "      <td>[Missing or improperly configured authentication]</td>\n",
       "      <td>[ASSET-C-11, ASSET-C-17]</td>\n",
       "      <td>[Non-RT RIC, SMO Framework]</td>\n",
       "    </tr>\n",
       "    <tr>\n",
       "      <th>43</th>\n",
       "      <td>T-SMO-02</td>\n",
       "      <td>External attacker exploits authentication weakness on SMO</td>\n",
       "      <td>An external attacker can exploit the improper/missing authorization weakness on SMO functions.  A malicious external entity on A1, O1, O2, and External interfaces without authorization or with an incorrect access token may invoke the SMO functions. The data at rest related to that function will be leaked to the attacker. In addition, an attacker can be able to perform certain actions, e.g.  disclose O-RAN sensitive information or alter O-RAN components.</td>\n",
       "      <td>[Elevation of Privilege, Information Disclosure]</td>\n",
       "      <td>[Authorization, Confidentiality]</td>\n",
       "      <td>All</td>\n",
       "      <td>[Missing or improperly configured authorization]</td>\n",
       "      <td>[ASSET-C-11, ASSET-C-17]</td>\n",
       "      <td>[Non-RT RIC, SMO Framework]</td>\n",
       "    </tr>\n",
       "  </tbody>\n",
       "</table>\n",
       "</div>"
      ],
      "text/plain": [
       "   Threat ID                                               Threat title  \\\n",
       "42  T-SMO-01  External attacker exploits authentication weakness on SMO   \n",
       "43  T-SMO-02  External attacker exploits authentication weakness on SMO   \n",
       "\n",
       "                                                                                                                                                                                                                                                                                                                                                                                                                                                           Threat Description  \\\n",
       "42                                                                                                                                              An external attacker can exploit the improper/missing authentication weakness on SMO functions. If the authentication of O-RAN subjects on A1, O1, O2, and External interfaces on SMO is not supported or not properly implemented, those interfaces without proper credentials could be exploited to gain access to the SMO.   \n",
       "43  An external attacker can exploit the improper/missing authorization weakness on SMO functions.  A malicious external entity on A1, O1, O2, and External interfaces without authorization or with an incorrect access token may invoke the SMO functions. The data at rest related to that function will be leaked to the attacker. In addition, an attacker can be able to perform certain actions, e.g.  disclose O-RAN sensitive information or alter O-RAN components.   \n",
       "\n",
       "                                         Threat type  \\\n",
       "42                                        [Spoofing]   \n",
       "43  [Elevation of Privilege, Information Disclosure]   \n",
       "\n",
       "                         Impact type Threat agent  \\\n",
       "42                    [Authenticity]          All   \n",
       "43  [Authorization, Confidentiality]          All   \n",
       "\n",
       "                                        Vulnerability  \\\n",
       "42  [Missing or improperly configured authentication]   \n",
       "43   [Missing or improperly configured authorization]   \n",
       "\n",
       "            Threatened Asset          Affected Components  \n",
       "42  [ASSET-C-11, ASSET-C-17]  [Non-RT RIC, SMO Framework]  \n",
       "43  [ASSET-C-11, ASSET-C-17]  [Non-RT RIC, SMO Framework]  "
      ]
     },
     "execution_count": 184,
     "metadata": {},
     "output_type": "execute_result"
    }
   ],
   "source": [
    "df_threats[df_threats['Threat title'] == 'External attacker exploits authentication weakness on SMO']\n"
   ]
  },
  {
   "cell_type": "markdown",
   "id": "8a145a5f",
   "metadata": {},
   "source": [
    "### Data understanding of CAPEC data"
   ]
  },
  {
   "cell_type": "code",
   "execution_count": 185,
   "id": "abaf4734",
   "metadata": {},
   "outputs": [],
   "source": [
    "from git import Repo, InvalidGitRepositoryError\n",
    "import os\n",
    "import shutil\n",
    "\n",
    "from stix2 import FileSystemSource\n",
    "from stix2 import Filter"
   ]
  },
  {
   "cell_type": "code",
   "execution_count": 199,
   "id": "f738c8ef",
   "metadata": {},
   "outputs": [],
   "source": [
    "def pull_clone_gitrepo(directory, repo):\n",
    "    # Check if the data direcory exists\n",
    "    if not os.path.isdir(directory):\n",
    "        Repo.clone_from(repo, directory)\n",
    "    else:\n",
    "        try:\n",
    "            # Check if the data directory is actually a repositry then pull the canges\n",
    "            repo = Repo(directory)\n",
    "            repo.remotes.origin.pull()\n",
    "        except InvalidGitRepositoryError:\n",
    "            # If not then remove the folder\n",
    "            shutil.rmtree(directory)\n",
    "            Repo.clone_from(repo, directory)\n",
    "\n",
    "def prepare_capecs_df():\n",
    "    pull_clone_gitrepo('./data', 'https://github.com/mitre/cti')\n",
    "    fs = FileSystemSource('./data/capec/2.1')\n",
    "    filt = Filter('type', '=', 'attack-pattern')\n",
    "\n",
    "    attack_patterns = fs.query([filt])\n",
    "\n",
    "    data_array = []\n",
    "    for pattern in attack_patterns:\n",
    "        if not pattern.x_capec_status == \"Deprecated\":\n",
    "            info = []\n",
    "            result = [obj for obj in pattern.external_references if obj['source_name'] == \"capec\"]\n",
    "            info.append(result[0].external_id)\n",
    "            info.append(pattern.name)\n",
    "            info.append(pattern.description)\n",
    "            if \"x_capec_domains\" in pattern:\n",
    "                info.append(pattern.x_capec_domains)\n",
    "            else:\n",
    "                info.append(\"not given\")\n",
    "            data_array.append(info)\n",
    "\n",
    "    columns = ['CAPEC ID', 'capec_name', 'capec_description', 'capec_domain']\n",
    "    df = pd.DataFrame(data_array, columns=columns)\n",
    "\n",
    "    df['summary'] = ''\n",
    "    for index, row in df.iterrows():\n",
    "        if len(row['capec_domain']) > 1:\n",
    "            domains_string = \". The Domains of this are: \"+', '.join(row['capec_domain'])\n",
    "        else:\n",
    "            domains_string = \". The Domain of this is: \"+row['capec_domain'][0]\n",
    "\n",
    "        summary = 'A CAPEC with the title '+row['capec_name']+\\\n",
    "                    '. The description of this CAPEC is: '+row['capec_description']+\\\n",
    "                    domains_string\n",
    "        \n",
    "        df.at[index, 'summary'] = summary\n",
    "    return df\n"
   ]
  },
  {
   "cell_type": "code",
   "execution_count": 237,
   "id": "4ef09d5b",
   "metadata": {},
   "outputs": [],
   "source": [
    "#generate the capecs_df\n",
    "capecs_df = prepare_capecs_df()\n",
    "#safe capecs data to pickle\n",
    "capecs_df.to_pickle('capec_data/capecs.pk1')"
   ]
  },
  {
   "cell_type": "code",
   "execution_count": 238,
   "id": "fdbc6980",
   "metadata": {},
   "outputs": [],
   "source": [
    "#load capecs data from pickle\n",
    "capecs_df = pd.read_pickle('capec_data/capecs.pk1')"
   ]
  },
  {
   "cell_type": "code",
   "execution_count": 207,
   "id": "44d8cf81",
   "metadata": {},
   "outputs": [
    {
     "name": "stdout",
     "output_type": "stream",
     "text": [
      "Shape of capecs_df: (559, 5)\n",
      "\n",
      "Column names: ['CAPEC ID', 'capec_name', 'capec_description', 'capec_domain', 'summary']\n",
      "\n",
      "Missing values per column:\n",
      " CAPEC ID             0\n",
      "capec_name           0\n",
      "capec_description    2\n",
      "capec_domain         0\n",
      "summary              0\n",
      "dtype: int64\n",
      "\n",
      "Data types:\n",
      " CAPEC ID             object\n",
      "capec_name           object\n",
      "capec_description    object\n",
      "capec_domain         object\n",
      "summary              object\n",
      "dtype: object\n",
      "\n",
      "First 5 rows:\n"
     ]
    },
    {
     "data": {
      "text/html": [
       "<div>\n",
       "<style scoped>\n",
       "    .dataframe tbody tr th:only-of-type {\n",
       "        vertical-align: middle;\n",
       "    }\n",
       "\n",
       "    .dataframe tbody tr th {\n",
       "        vertical-align: top;\n",
       "    }\n",
       "\n",
       "    .dataframe thead th {\n",
       "        text-align: right;\n",
       "    }\n",
       "</style>\n",
       "<table border=\"1\" class=\"dataframe\">\n",
       "  <thead>\n",
       "    <tr style=\"text-align: right;\">\n",
       "      <th></th>\n",
       "      <th>CAPEC ID</th>\n",
       "      <th>capec_name</th>\n",
       "      <th>capec_description</th>\n",
       "      <th>capec_domain</th>\n",
       "      <th>summary</th>\n",
       "    </tr>\n",
       "  </thead>\n",
       "  <tbody>\n",
       "    <tr>\n",
       "      <th>0</th>\n",
       "      <td>CAPEC-87</td>\n",
       "      <td>Forceful Browsing</td>\n",
       "      <td>An attacker employs forceful browsing (direct URL entry) to access portions of a website that are otherwise unreachable. Usually, a front controller or similar design pattern is employed to protect access to portions of a web application. Forceful browsing enables an attacker to access information, perform privileged operations and otherwise reach sections of the web application that have been improperly protected.</td>\n",
       "      <td>['Software']</td>\n",
       "      <td>A CAPEC with the title Forceful Browsing. The description of this CAPEC is: An attacker employs forceful browsing (direct URL entry) to access portions of a website that are otherwise unreachable. Usually, a front controller or similar design pattern is employed to protect access to portions of a web application. Forceful browsing enables an attacker to access information, perform privileged operations and otherwise reach sections of the web application that have been improperly protected.. The Domain of this is: Software</td>\n",
       "    </tr>\n",
       "    <tr>\n",
       "      <th>1</th>\n",
       "      <td>CAPEC-391</td>\n",
       "      <td>Bypassing Physical Locks</td>\n",
       "      <td>An attacker uses techniques and methods to bypass physical security measures of a building or facility. Physical locks may range from traditional lock and key mechanisms, cable locks used to secure laptops or servers, locks on server cases, or other such devices. Techniques such as lock bumping, lock forcing via snap guns, or lock picking can be employed to bypass those locks and gain access to the facilities or devices they protect, although stealth, evidence of tampering, and the integrity of the lock following an attack, are considerations that may determine the method employed. Physical locks are limited by the complexity of the locking mechanism. While some locks may offer protections such as shock resistant foam to prevent bumping or lock forcing methods, many commonly employed locks offer no such countermeasures.</td>\n",
       "      <td>['Physical Security']</td>\n",
       "      <td>A CAPEC with the title Bypassing Physical Locks. The description of this CAPEC is: An attacker uses techniques and methods to bypass physical security measures of a building or facility. Physical locks may range from traditional lock and key mechanisms, cable locks used to secure laptops or servers, locks on server cases, or other such devices. Techniques such as lock bumping, lock forcing via snap guns, or lock picking can be employed to bypass those locks and gain access to the facilities or devices they protect, although stealth, evidence of tampering, and the integrity of the lock following an attack, are considerations that may determine the method employed. Physical locks are limited by the complexity of the locking mechanism. While some locks may offer protections such as shock resistant foam to prevent bumping or lock forcing methods, many commonly employed locks offer no such countermeasures.. The Domain of this is: Physical Security</td>\n",
       "    </tr>\n",
       "    <tr>\n",
       "      <th>2</th>\n",
       "      <td>CAPEC-4</td>\n",
       "      <td>Using Alternative IP Address Encodings</td>\n",
       "      <td>This attack relies on the adversary using unexpected formats for representing IP addresses. Networked applications may expect network location information in a specific format, such as fully qualified domains names (FQDNs), URL, IP address, or IP Address ranges. If the location information is not validated against a variety of different possible encodings and formats, the adversary can use an alternate format to bypass application access control.</td>\n",
       "      <td>['Software']</td>\n",
       "      <td>A CAPEC with the title Using Alternative IP Address Encodings. The description of this CAPEC is: This attack relies on the adversary using unexpected formats for representing IP addresses. Networked applications may expect network location information in a specific format, such as fully qualified domains names (FQDNs), URL, IP address, or IP Address ranges. If the location information is not validated against a variety of different possible encodings and formats, the adversary can use an alternate format to bypass application access control.. The Domain of this is: Software</td>\n",
       "    </tr>\n",
       "    <tr>\n",
       "      <th>3</th>\n",
       "      <td>CAPEC-185</td>\n",
       "      <td>Malicious Software Download</td>\n",
       "      <td>An attacker uses deceptive methods to cause a user or an automated process to download and install dangerous code that originates from an attacker controlled source. There are several variations to this strategy of attack.</td>\n",
       "      <td>['Software']</td>\n",
       "      <td>A CAPEC with the title Malicious Software Download. The description of this CAPEC is: An attacker uses deceptive methods to cause a user or an automated process to download and install dangerous code that originates from an attacker controlled source. There are several variations to this strategy of attack.. The Domain of this is: Software</td>\n",
       "    </tr>\n",
       "    <tr>\n",
       "      <th>4</th>\n",
       "      <td>CAPEC-226</td>\n",
       "      <td>Session Credential Falsification through Manipulation</td>\n",
       "      <td>An attacker manipulates an existing credential in order to gain access to a target application. Session credentials allow users to identify themselves to a service after an initial authentication without needing to resend the authentication information (usually a username and password) with every message. An attacker may be able to manipulate a credential sniffed from an existing connection in order to gain access to a target server.</td>\n",
       "      <td>['Software']</td>\n",
       "      <td>A CAPEC with the title Session Credential Falsification through Manipulation. The description of this CAPEC is: An attacker manipulates an existing credential in order to gain access to a target application. Session credentials allow users to identify themselves to a service after an initial authentication without needing to resend the authentication information (usually a username and password) with every message. An attacker may be able to manipulate a credential sniffed from an existing connection in order to gain access to a target server.. The Domain of this is: Software</td>\n",
       "    </tr>\n",
       "  </tbody>\n",
       "</table>\n",
       "</div>"
      ],
      "text/plain": [
       "    CAPEC ID                                             capec_name  \\\n",
       "0   CAPEC-87                                      Forceful Browsing   \n",
       "1  CAPEC-391                               Bypassing Physical Locks   \n",
       "2    CAPEC-4                 Using Alternative IP Address Encodings   \n",
       "3  CAPEC-185                            Malicious Software Download   \n",
       "4  CAPEC-226  Session Credential Falsification through Manipulation   \n",
       "\n",
       "                                                                                                                                                                                                                                                                                                                                                                                                                                                                                                                                                                                                                                                                                                                                                                                                                                                 capec_description  \\\n",
       "0                                                                                                                                                                                                                                                                                                                                                                                                                               An attacker employs forceful browsing (direct URL entry) to access portions of a website that are otherwise unreachable. Usually, a front controller or similar design pattern is employed to protect access to portions of a web application. Forceful browsing enables an attacker to access information, perform privileged operations and otherwise reach sections of the web application that have been improperly protected.   \n",
       "1  An attacker uses techniques and methods to bypass physical security measures of a building or facility. Physical locks may range from traditional lock and key mechanisms, cable locks used to secure laptops or servers, locks on server cases, or other such devices. Techniques such as lock bumping, lock forcing via snap guns, or lock picking can be employed to bypass those locks and gain access to the facilities or devices they protect, although stealth, evidence of tampering, and the integrity of the lock following an attack, are considerations that may determine the method employed. Physical locks are limited by the complexity of the locking mechanism. While some locks may offer protections such as shock resistant foam to prevent bumping or lock forcing methods, many commonly employed locks offer no such countermeasures.   \n",
       "2                                                                                                                                                                                                                                                                                                                                                                                               This attack relies on the adversary using unexpected formats for representing IP addresses. Networked applications may expect network location information in a specific format, such as fully qualified domains names (FQDNs), URL, IP address, or IP Address ranges. If the location information is not validated against a variety of different possible encodings and formats, the adversary can use an alternate format to bypass application access control.   \n",
       "3                                                                                                                                                                                                                                                                                                                                                                                                                                                                                                                                                                                                                                   An attacker uses deceptive methods to cause a user or an automated process to download and install dangerous code that originates from an attacker controlled source. There are several variations to this strategy of attack.   \n",
       "4                                                                                                                                                                                                                                                                                                                                                                                                            An attacker manipulates an existing credential in order to gain access to a target application. Session credentials allow users to identify themselves to a service after an initial authentication without needing to resend the authentication information (usually a username and password) with every message. An attacker may be able to manipulate a credential sniffed from an existing connection in order to gain access to a target server.   \n",
       "\n",
       "            capec_domain  \\\n",
       "0           ['Software']   \n",
       "1  ['Physical Security']   \n",
       "2           ['Software']   \n",
       "3           ['Software']   \n",
       "4           ['Software']   \n",
       "\n",
       "                                                                                                                                                                                                                                                                                                                                                                                                                                                                                                                                                                                                                                                                                                                                                                                                                                                                                                                                                                                        summary  \n",
       "0                                                                                                                                                                                                                                                                                                                                                                                                                                               A CAPEC with the title Forceful Browsing. The description of this CAPEC is: An attacker employs forceful browsing (direct URL entry) to access portions of a website that are otherwise unreachable. Usually, a front controller or similar design pattern is employed to protect access to portions of a web application. Forceful browsing enables an attacker to access information, perform privileged operations and otherwise reach sections of the web application that have been improperly protected.. The Domain of this is: Software  \n",
       "1  A CAPEC with the title Bypassing Physical Locks. The description of this CAPEC is: An attacker uses techniques and methods to bypass physical security measures of a building or facility. Physical locks may range from traditional lock and key mechanisms, cable locks used to secure laptops or servers, locks on server cases, or other such devices. Techniques such as lock bumping, lock forcing via snap guns, or lock picking can be employed to bypass those locks and gain access to the facilities or devices they protect, although stealth, evidence of tampering, and the integrity of the lock following an attack, are considerations that may determine the method employed. Physical locks are limited by the complexity of the locking mechanism. While some locks may offer protections such as shock resistant foam to prevent bumping or lock forcing methods, many commonly employed locks offer no such countermeasures.. The Domain of this is: Physical Security  \n",
       "2                                                                                                                                                                                                                                                                                                                                                                                          A CAPEC with the title Using Alternative IP Address Encodings. The description of this CAPEC is: This attack relies on the adversary using unexpected formats for representing IP addresses. Networked applications may expect network location information in a specific format, such as fully qualified domains names (FQDNs), URL, IP address, or IP Address ranges. If the location information is not validated against a variety of different possible encodings and formats, the adversary can use an alternate format to bypass application access control.. The Domain of this is: Software  \n",
       "3                                                                                                                                                                                                                                                                                                                                                                                                                                                                                                                                                                                                                                         A CAPEC with the title Malicious Software Download. The description of this CAPEC is: An attacker uses deceptive methods to cause a user or an automated process to download and install dangerous code that originates from an attacker controlled source. There are several variations to this strategy of attack.. The Domain of this is: Software  \n",
       "4                                                                                                                                                                                                                                                                                                                                                                                        A CAPEC with the title Session Credential Falsification through Manipulation. The description of this CAPEC is: An attacker manipulates an existing credential in order to gain access to a target application. Session credentials allow users to identify themselves to a service after an initial authentication without needing to resend the authentication information (usually a username and password) with every message. An attacker may be able to manipulate a credential sniffed from an existing connection in order to gain access to a target server.. The Domain of this is: Software  "
      ]
     },
     "metadata": {},
     "output_type": "display_data"
    },
    {
     "name": "stdout",
     "output_type": "stream",
     "text": [
      "\n",
      "Summary statistics for text length in 'capec_description':\n",
      "count     557.000000\n",
      "mean      475.750449\n",
      "std       222.768722\n",
      "min        65.000000\n",
      "25%       303.000000\n",
      "50%       428.000000\n",
      "75%       627.000000\n",
      "max      1069.000000\n",
      "Name: capec_description, dtype: float64\n"
     ]
    }
   ],
   "source": [
    "# Display general information about capecs_df\n",
    "print(\"Shape of capecs_df:\", capecs_df.shape)\n",
    "print(\"\\nColumn names:\", capecs_df.columns.tolist())\n",
    "print(\"\\nMissing values per column:\\n\", capecs_df.isnull().sum())\n",
    "print(\"\\nData types:\\n\", capecs_df.dtypes)\n",
    "print(\"\\nFirst 5 rows:\")\n",
    "display(capecs_df.head())\n",
    "print(\"\\nSummary statistics for text length in 'capec_description':\")\n",
    "desc_lengths = capecs_df['capec_description'].dropna().str.len()\n",
    "print(desc_lengths.describe())"
   ]
  },
  {
   "cell_type": "code",
   "execution_count": 208,
   "id": "24c2fc97",
   "metadata": {},
   "outputs": [
    {
     "data": {
      "text/html": [
       "<div>\n",
       "<style scoped>\n",
       "    .dataframe tbody tr th:only-of-type {\n",
       "        vertical-align: middle;\n",
       "    }\n",
       "\n",
       "    .dataframe tbody tr th {\n",
       "        vertical-align: top;\n",
       "    }\n",
       "\n",
       "    .dataframe thead th {\n",
       "        text-align: right;\n",
       "    }\n",
       "</style>\n",
       "<table border=\"1\" class=\"dataframe\">\n",
       "  <thead>\n",
       "    <tr style=\"text-align: right;\">\n",
       "      <th></th>\n",
       "      <th>CAPEC ID</th>\n",
       "      <th>capec_name</th>\n",
       "      <th>capec_description</th>\n",
       "      <th>capec_domain</th>\n",
       "      <th>summary</th>\n",
       "    </tr>\n",
       "  </thead>\n",
       "  <tbody>\n",
       "    <tr>\n",
       "      <th>12</th>\n",
       "      <td>CAPEC-435</td>\n",
       "      <td>Target Influence via Instant Rapport</td>\n",
       "      <td>NaN</td>\n",
       "      <td>['Social Engineering']</td>\n",
       "      <td>A CAPEC with the title Target Influence via Instant Rapport. The description of this CAPEC is: . The Domain of this is: Social Engineering</td>\n",
       "    </tr>\n",
       "    <tr>\n",
       "      <th>422</th>\n",
       "      <td>CAPEC-434</td>\n",
       "      <td>Target Influence via Interview and Interrogation</td>\n",
       "      <td>NaN</td>\n",
       "      <td>['Social Engineering']</td>\n",
       "      <td>A CAPEC with the title Target Influence via Interview and Interrogation. The description of this CAPEC is: . The Domain of this is: Social Engineering</td>\n",
       "    </tr>\n",
       "  </tbody>\n",
       "</table>\n",
       "</div>"
      ],
      "text/plain": [
       "      CAPEC ID                                        capec_name  \\\n",
       "12   CAPEC-435              Target Influence via Instant Rapport   \n",
       "422  CAPEC-434  Target Influence via Interview and Interrogation   \n",
       "\n",
       "    capec_description            capec_domain  \\\n",
       "12                NaN  ['Social Engineering']   \n",
       "422               NaN  ['Social Engineering']   \n",
       "\n",
       "                                                                                                                                                    summary  \n",
       "12               A CAPEC with the title Target Influence via Instant Rapport. The description of this CAPEC is: . The Domain of this is: Social Engineering  \n",
       "422  A CAPEC with the title Target Influence via Interview and Interrogation. The description of this CAPEC is: . The Domain of this is: Social Engineering  "
      ]
     },
     "execution_count": 208,
     "metadata": {},
     "output_type": "execute_result"
    }
   ],
   "source": [
    "# show rows with missing values in 'capec_description'\n",
    "capecs_df[capecs_df['capec_description'].isnull()]"
   ]
  },
  {
   "cell_type": "code",
   "execution_count": 209,
   "id": "00bdd8c0",
   "metadata": {},
   "outputs": [
    {
     "data": {
      "text/html": [
       "<div>\n",
       "<style scoped>\n",
       "    .dataframe tbody tr th:only-of-type {\n",
       "        vertical-align: middle;\n",
       "    }\n",
       "\n",
       "    .dataframe tbody tr th {\n",
       "        vertical-align: top;\n",
       "    }\n",
       "\n",
       "    .dataframe thead th {\n",
       "        text-align: right;\n",
       "    }\n",
       "</style>\n",
       "<table border=\"1\" class=\"dataframe\">\n",
       "  <thead>\n",
       "    <tr style=\"text-align: right;\">\n",
       "      <th></th>\n",
       "      <th>CAPEC ID</th>\n",
       "      <th>capec_name</th>\n",
       "      <th>capec_description</th>\n",
       "      <th>capec_domain</th>\n",
       "      <th>summary</th>\n",
       "    </tr>\n",
       "  </thead>\n",
       "  <tbody>\n",
       "    <tr>\n",
       "      <th>81</th>\n",
       "      <td>CAPEC-699</td>\n",
       "      <td>Eavesdropping on a Monitor</td>\n",
       "      <td>An Adversary can eavesdrop on the content of an external monitor through the air without modifying any cable or installing software, just capturing this signal emitted by the cable or video port, with this the attacker will be able to impact the confidentiality of the data without being detected by traditional security tools</td>\n",
       "      <td>not given</td>\n",
       "      <td>A CAPEC with the title Eavesdropping on a Monitor. The description of this CAPEC is: An Adversary can eavesdrop on the content of an external monitor through the air without modifying any cable or installing software, just capturing this signal emitted by the cable or video port, with this the attacker will be able to impact the confidentiality of the data without being detected by traditional security tools. The Domains of this are: n, o, t,  , g, i, v, e, n</td>\n",
       "    </tr>\n",
       "  </tbody>\n",
       "</table>\n",
       "</div>"
      ],
      "text/plain": [
       "     CAPEC ID                  capec_name  \\\n",
       "81  CAPEC-699  Eavesdropping on a Monitor   \n",
       "\n",
       "                                                                                                                                                                                                                                                                                                                         capec_description  \\\n",
       "81  An Adversary can eavesdrop on the content of an external monitor through the air without modifying any cable or installing software, just capturing this signal emitted by the cable or video port, with this the attacker will be able to impact the confidentiality of the data without being detected by traditional security tools   \n",
       "\n",
       "   capec_domain  \\\n",
       "81    not given   \n",
       "\n",
       "                                                                                                                                                                                                                                                                                                                                                                                                                                                                            summary  \n",
       "81  A CAPEC with the title Eavesdropping on a Monitor. The description of this CAPEC is: An Adversary can eavesdrop on the content of an external monitor through the air without modifying any cable or installing software, just capturing this signal emitted by the cable or video port, with this the attacker will be able to impact the confidentiality of the data without being detected by traditional security tools. The Domains of this are: n, o, t,  , g, i, v, e, n  "
      ]
     },
     "execution_count": 209,
     "metadata": {},
     "output_type": "execute_result"
    }
   ],
   "source": [
    "capecs_df[capecs_df['capec_domain'] == 'not given']"
   ]
  },
  {
   "cell_type": "code",
   "execution_count": 210,
   "id": "7f257d70",
   "metadata": {},
   "outputs": [],
   "source": [
    "def to_list(x):\n",
    "    if x == 'not given':\n",
    "        return ['not given']\n",
    "    x = x.strip(\"[]\").replace(\"'\", \"\")\n",
    "    return x.split(\", \") if x else []\n",
    "\n",
    "capecs_df['capec_domain'] = capecs_df['capec_domain'].apply(to_list)\n",
    "\n"
   ]
  },
  {
   "cell_type": "code",
   "execution_count": 211,
   "id": "72f1a59b",
   "metadata": {},
   "outputs": [
    {
     "data": {
      "text/plain": [
       "capec_domain\n",
       "[Software]                                                                     287\n",
       "[Communications, Software]                                                      67\n",
       "[Social Engineering]                                                            30\n",
       "[Software, Hardware]                                                            28\n",
       "[Physical Security]                                                             15\n",
       "[Communications]                                                                13\n",
       "[Software, Physical Security, Hardware]                                          9\n",
       "[Software, Software, Software]                                                   9\n",
       "[Supply Chain, Hardware]                                                         9\n",
       "[Social Engineering, Supply Chain, Software]                                     8\n",
       "[Supply Chain, Physical Security, Hardware]                                      8\n",
       "[Supply Chain, Software]                                                         8\n",
       "[Supply Chain]                                                                   7\n",
       "[Social Engineering, Software]                                                   7\n",
       "[Supply Chain, Software, Hardware]                                               7\n",
       "[Communications, Hardware]                                                       6\n",
       "[Software, Software]                                                             6\n",
       "[Communications, Software, Hardware]                                             4\n",
       "[Social Engineering, Social Engineering]                                         4\n",
       "[Software, Hardware, Software]                                                   3\n",
       "[Social Engineering, Supply Chain, Communications, Software, Hardware]           3\n",
       "[Hardware, Hardware]                                                             3\n",
       "[Communications, Software, Physical Security]                                    2\n",
       "[Social Engineering, Communications, Software, Hardware]                         2\n",
       "[Software, Physical Security]                                                    2\n",
       "[Social Engineering, Social Engineering, Software]                               2\n",
       "[Supply Chain, Software, Physical Security, Hardware]                            2\n",
       "[Social Engineering, Software, Hardware]                                         2\n",
       "[Hardware]                                                                       1\n",
       "[not given]                                                                      1\n",
       "[Social Engineering, Communications, Software, Physical Security, Hardware]      1\n",
       "[Social Engineering, Communications]                                             1\n",
       "[Communications, Software, Software]                                             1\n",
       "[Software, Communications, Software]                                             1\n",
       "Name: count, dtype: int64"
      ]
     },
     "execution_count": 211,
     "metadata": {},
     "output_type": "execute_result"
    }
   ],
   "source": [
    "capecs_df['capec_domain'].value_counts()"
   ]
  },
  {
   "cell_type": "code",
   "execution_count": 212,
   "id": "47d3ca57",
   "metadata": {},
   "outputs": [
    {
     "data": {
      "text/plain": [
       "capec_domain\n",
       "Software              490\n",
       "Communications        101\n",
       "Hardware               91\n",
       "Social Engineering     66\n",
       "Supply Chain           52\n",
       "Physical Security      39\n",
       "not given               1\n",
       "Name: count, dtype: int64"
      ]
     },
     "execution_count": 212,
     "metadata": {},
     "output_type": "execute_result"
    }
   ],
   "source": [
    "# value counts for 'capec_domain'\n",
    "capecs_df['capec_domain'].explode().value_counts(dropna=False)"
   ]
  },
  {
   "cell_type": "code",
   "execution_count": 213,
   "id": "4202ea6e",
   "metadata": {},
   "outputs": [
    {
     "name": "stdout",
     "output_type": "stream",
     "text": [
      "Count of rows with duplicates: 29\n",
      "25                         [Software, Software, Software]\n",
      "29                                   [Software, Software]\n",
      "54                                   [Hardware, Hardware]\n",
      "80                         [Software, Software, Software]\n",
      "86     [Social Engineering, Social Engineering, Software]\n",
      "91               [Social Engineering, Social Engineering]\n",
      "99                                   [Software, Software]\n",
      "119                        [Software, Software, Software]\n",
      "123                                  [Hardware, Hardware]\n",
      "156              [Social Engineering, Social Engineering]\n",
      "165                                  [Software, Software]\n",
      "177                        [Software, Software, Software]\n",
      "201              [Social Engineering, Social Engineering]\n",
      "225                        [Software, Software, Software]\n",
      "243                        [Software, Hardware, Software]\n",
      "262              [Social Engineering, Social Engineering]\n",
      "286                        [Software, Software, Software]\n",
      "292    [Social Engineering, Social Engineering, Software]\n",
      "363                  [Communications, Software, Software]\n",
      "388                                  [Software, Software]\n",
      "395                        [Software, Software, Software]\n",
      "431                        [Software, Software, Software]\n",
      "455                                  [Software, Software]\n",
      "469                  [Software, Communications, Software]\n",
      "493                                  [Hardware, Hardware]\n",
      "497                        [Software, Software, Software]\n",
      "509                                  [Software, Software]\n",
      "516                        [Software, Hardware, Software]\n",
      "543                        [Software, Hardware, Software]\n",
      "Name: capec_domain, dtype: object\n"
     ]
    }
   ],
   "source": [
    "duplicates = capecs_df[capecs_df['capec_domain'].apply(lambda x: len(x) != len(set(x)))]['capec_domain']\n",
    "\n",
    "print(f\"Count of rows with duplicates: {len(duplicates)}\")\n",
    "print(duplicates)\n"
   ]
  },
  {
   "cell_type": "markdown",
   "id": "e6c210c8",
   "metadata": {},
   "source": [
    "## Data Preparation"
   ]
  },
  {
   "cell_type": "markdown",
   "id": "8cc0941a",
   "metadata": {},
   "source": [
    "Merging title and description to match the form of the original orca pipeline."
   ]
  },
  {
   "cell_type": "code",
   "execution_count": 214,
   "id": "da9f8c42",
   "metadata": {},
   "outputs": [],
   "source": [
    "threats_summary_context = {'Threat title': 'A Threat with the title ', 'Threat Description': ' and the description'}\n",
    "def add_summary_to_df(input_df, coll_context, ):\n",
    "    input_df['summary'] = ''\n",
    "    for key, value in coll_context.items():\n",
    "        input_df['summary'] +=  value + input_df[key]"
   ]
  },
  {
   "cell_type": "code",
   "execution_count": 215,
   "id": "b07ccc06",
   "metadata": {},
   "outputs": [
    {
     "data": {
      "text/plain": [
       "'A Threat with the title An attacker exploits insecure designs or lack of adaption in O-RAN components and the descriptionUnauthenticated/unauthorized access to O-RAN components could possibly be achieved via the different O-RAN interfaces, depending upon the design of the hardware-software O-RAN system and how different functions are segregated within the O-RAN system. \\nO-RAN components might be vulnerable if: \\n• Outdated component from the lack of update or patch management,\\n• Poorly design architecture,\\n• Missing appropriate security hardening,\\n• Unnecessary or insecure function/protocol/component.\\nAn attacker could, in such case, either inject malwares and/or manipulate existing software, harm the O-RAN components, create a performance issue by manipulation of parameters, or reconfigure the O-RAN components and disable the security features with the purpose of eavesdropping or wiretapping on various CUS & M planes, reaching northbound systems, attack broader network to cause denial-of-service, steal unprotected private keys, certificates, hash values, or other type of breaches.\\nIn addition, O-RAN components could be software providing network functions, so they are likely to be vulnerable to software flaws: it could be possible to bypass firewall restrictions or to take advantage of a buffer overflow to execute arbitrary commands, etc.'"
      ]
     },
     "execution_count": 215,
     "metadata": {},
     "output_type": "execute_result"
    }
   ],
   "source": [
    "add_summary_to_df(df_threats, threats_summary_context)\n",
    "df_threats.loc[0, 'summary']  "
   ]
  },
  {
   "cell_type": "markdown",
   "id": "e8cf60f6",
   "metadata": {},
   "source": [
    "Data preparation for establishing a baseline, implementing the ORCA mapping."
   ]
  },
  {
   "cell_type": "markdown",
   "id": "0e327b99",
   "metadata": {},
   "source": [
    "1. Add the embedding to the threat and to to the capec data"
   ]
  },
  {
   "cell_type": "code",
   "execution_count": 216,
   "id": "9127e296",
   "metadata": {},
   "outputs": [],
   "source": [
    "from sentence_transformers import SentenceTransformer, util\n",
    "import torch"
   ]
  },
  {
   "cell_type": "code",
   "execution_count": 217,
   "id": "16259f13",
   "metadata": {},
   "outputs": [],
   "source": [
    "model = SentenceTransformer('sentence-transformers/all-MiniLM-L12-v2')\n",
    "\n",
    "def preprocess_description(description):\n",
    "    # remove patterns not semantically relevant\n",
    "    pattern = r\"\\((http|https)\\S+\\)|['\\[\\]]+\"\n",
    "    description = re.sub(pattern, \"\", description)\n",
    "    return description\n",
    "\n",
    "def gen_embedding(description):\n",
    "    if isinstance(description, str):\n",
    "        description1 = description\n",
    "    else:\n",
    "        description1 = '\\n'.join(description)\n",
    "    description = preprocess_description(description1)\n",
    "    return model.encode(description, convert_to_numpy=True)\n",
    "\n",
    "def add_embedd_to_df(input_df, descryption_name):\n",
    "    input_df['embedding'] = input_df[descryption_name].apply(gen_embedding)"
   ]
  },
  {
   "cell_type": "code",
   "execution_count": 218,
   "id": "dc835c1d",
   "metadata": {},
   "outputs": [],
   "source": [
    "# add embedding to the threats dataframe\n",
    "add_embedd_to_df(df_threats, 'summary')\n",
    "# add embedding to the capecs dataframe\n",
    "add_embedd_to_df(capecs_df, 'summary')"
   ]
  },
  {
   "cell_type": "code",
   "execution_count": 232,
   "id": "9a66e009",
   "metadata": {},
   "outputs": [],
   "source": [
    "capecs_df.to_pickle('capec_data/capecs_with_embeddings.pk1')"
   ]
  },
  {
   "cell_type": "code",
   "execution_count": 233,
   "id": "d4b8f3ac",
   "metadata": {},
   "outputs": [],
   "source": [
    "import numpy as np\n",
    "import ast\n",
    "capecs_with_embeddings_df = pd.read_pickle('capec_data/capecs_with_embeddings.pk1')"
   ]
  },
  {
   "cell_type": "markdown",
   "id": "f416d6be",
   "metadata": {},
   "source": [
    "2. generate the mapping of threats to capecs"
   ]
  },
  {
   "cell_type": "code",
   "execution_count": 234,
   "id": "fdfee626",
   "metadata": {},
   "outputs": [],
   "source": [
    "DOMAIN = \"enterprise-attack\"\n",
    "def gen_mapping(th_df, te_df):\n",
    "    maping = pd.DataFrame()\n",
    "    if 'summary' in th_df.columns:\n",
    "        th_df.rename(columns={'summary': 'summary_th_df'}, inplace=True)\n",
    "    if 'summary' in te_df.columns:\n",
    "        te_df.rename(columns={'summary': 'summary_ca_df'}, inplace=True)\n",
    "\n",
    "    for tec_index, row_techniques in te_df.iterrows():\n",
    "        for thr_index, row_threats in th_df.iterrows():\n",
    "            cosine_similarity = util.pytorch_cos_sim(torch.from_numpy(row_techniques['embedding']),\n",
    "                                                     torch.from_numpy(row_threats['embedding']))\n",
    "            comb = pd.concat([row_techniques, row_threats], axis=0)\n",
    "            comb = comb.to_frame().T\n",
    "            comb['Similarity'] = cosine_similarity\n",
    "            maping = pd.concat([maping, comb], ignore_index=True)\n",
    "\n",
    "    maping['Domain'] = DOMAIN\n",
    "    return maping"
   ]
  },
  {
   "cell_type": "code",
   "execution_count": null,
   "id": "a2d87949",
   "metadata": {},
   "outputs": [],
   "source": [
    "capec_mapping = gen_mapping(df_threats, capecs_with_embeddings_df)"
   ]
  },
  {
   "cell_type": "markdown",
   "id": "558e7fd6",
   "metadata": {},
   "source": [
    "3. format the mapping"
   ]
  },
  {
   "cell_type": "code",
   "execution_count": null,
   "id": "d8d3bee2",
   "metadata": {},
   "outputs": [],
   "source": [
    "COLOM_MAP = {'ID': 'Technique', 'name': 'yeet', 'Threat ID': 'Name', 'tactics': 'tactic', 'Threat title':'Description'}\n",
    "MAP_ORDER_capec = ['Name', 'Domain', 'Description', 'CAPEC ID', 'Similarity', 'summary_th_df', 'summary_ca_df']\n",
    "def format_map(ma, MAP_ORDER):\n",
    "    ma.rename(columns=COLOM_MAP, inplace=True)\n",
    "    ma = ma.loc[:, MAP_ORDER]\n",
    "    return ma"
   ]
  },
  {
   "cell_type": "code",
   "execution_count": null,
   "id": "b20abf8c",
   "metadata": {},
   "outputs": [],
   "source": [
    "formatted_capec_mapping = format_map(capec_mapping, MAP_ORDER_capec)"
   ]
  },
  {
   "cell_type": "code",
   "execution_count": null,
   "id": "b7cff321",
   "metadata": {},
   "outputs": [
    {
     "data": {
      "text/html": [
       "<div>\n",
       "<style scoped>\n",
       "    .dataframe tbody tr th:only-of-type {\n",
       "        vertical-align: middle;\n",
       "    }\n",
       "\n",
       "    .dataframe tbody tr th {\n",
       "        vertical-align: top;\n",
       "    }\n",
       "\n",
       "    .dataframe thead th {\n",
       "        text-align: right;\n",
       "    }\n",
       "</style>\n",
       "<table border=\"1\" class=\"dataframe\">\n",
       "  <thead>\n",
       "    <tr style=\"text-align: right;\">\n",
       "      <th></th>\n",
       "      <th>Name</th>\n",
       "      <th>Domain</th>\n",
       "      <th>Description</th>\n",
       "      <th>CAPEC ID</th>\n",
       "      <th>Similarity</th>\n",
       "      <th>summary_th_df</th>\n",
       "      <th>summary_ca_df</th>\n",
       "    </tr>\n",
       "  </thead>\n",
       "  <tbody>\n",
       "    <tr>\n",
       "      <th>0</th>\n",
       "      <td>T-O-RAN-01</td>\n",
       "      <td>enterprise-attack</td>\n",
       "      <td>An attacker exploits insecure designs or lack of adaption in O-RAN components</td>\n",
       "      <td>CAPEC-87</td>\n",
       "      <td>0.246462</td>\n",
       "      <td>A Threat with the title An attacker exploits insecure designs or lack of adaption in O-RAN components and the descriptionUnauthenticated/unauthorized access to O-RAN components could possibly be achieved via the different O-RAN interfaces, depending upon the design of the hardware-software O-RAN system and how different functions are segregated within the O-RAN system. \\nO-RAN components might be vulnerable if: \\n• Outdated component from the lack of update or patch management,\\n• Poorly design architecture,\\n• Missing appropriate security hardening,\\n• Unnecessary or insecure function/protocol/component.\\nAn attacker could, in such case, either inject malwares and/or manipulate existing software, harm the O-RAN components, create a performance issue by manipulation of parameters, or reconfigure the O-RAN components and disable the security features with the purpose of eavesdropping or wiretapping on various CUS &amp; M planes, reaching northbound systems, attack broader network to cause denial-of-service, steal unprotected private keys, certificates, hash values, or other type of breaches.\\nIn addition, O-RAN components could be software providing network functions, so they are likely to be vulnerable to software flaws: it could be possible to bypass firewall restrictions or to take advantage of a buffer overflow to execute arbitrary commands, etc.</td>\n",
       "      <td>A CAPEC with the title Forceful Browsing. The description of this CAPEC is:An attacker employs forceful browsing (direct URL entry) to access portions of a website that are otherwise unreachable. Usually, a front controller or similar design pattern is employed to protect access to portions of a web application. Forceful browsing enables an attacker to access information, perform privileged operations and otherwise reach sections of the web application that have been improperly protected.. The Domain of this is: Software</td>\n",
       "    </tr>\n",
       "    <tr>\n",
       "      <th>1</th>\n",
       "      <td>T-O-RAN-02</td>\n",
       "      <td>enterprise-attack</td>\n",
       "      <td>An attacker exploits misconfigured or poorly configured O-RAN components</td>\n",
       "      <td>CAPEC-87</td>\n",
       "      <td>0.270846</td>\n",
       "      <td>A Threat with the title An attacker exploits misconfigured or poorly configured O-RAN components and the descriptionUnauthenticated/unauthorized access to O-RAN components could possibly be achieved via the different O-RAN interfaces, depending upon the configuration of the hardware-software O-RAN system. \\nO-RAN components might be vulnerable if: \\n• Errors from the lack of configuration change management,\\n• Misconfigured or poorly configured O-RAN components,\\n• Improperly configured permissions,\\n• Unnecessary features are enabled (e.g. unnecessary ports, services, accounts, or privileges),\\n• Default accounts and their passwords still enabled and unchanged,\\n• Security features are disabled or not configured securely.\\nAn attacker could, in such case, either inject malwares and/or manipulate existing software, harm the O-RAN components, create a performance issue by manipulation of parameters, or reconfigure the O-RAN components and disable the security features with the purpose of eavesdropping or wiretapping on various CUS &amp; M planes, reaching northbound systems, attack broader network to cause denial-of-service, steal unprotected private keys, certificates, hash values, or other type of breaches.</td>\n",
       "      <td>A CAPEC with the title Forceful Browsing. The description of this CAPEC is:An attacker employs forceful browsing (direct URL entry) to access portions of a website that are otherwise unreachable. Usually, a front controller or similar design pattern is employed to protect access to portions of a web application. Forceful browsing enables an attacker to access information, perform privileged operations and otherwise reach sections of the web application that have been improperly protected.. The Domain of this is: Software</td>\n",
       "    </tr>\n",
       "    <tr>\n",
       "      <th>2</th>\n",
       "      <td>T-O-RAN-03</td>\n",
       "      <td>enterprise-attack</td>\n",
       "      <td>Attacks from the internet to penetrate O-RAN network boundary</td>\n",
       "      <td>CAPEC-87</td>\n",
       "      <td>0.391938</td>\n",
       "      <td>A Threat with the title Attacks from the internet to penetrate O-RAN network boundary and the descriptionWeb servers serving O-RAN functional and management services should provide adequate protection. \\nAn attacker that have access to the uncontrolled O-RAN network could:\\n• Bypass the information flow control policy implemented by the firewall,\\n• And/or attack O-RAN components in the trusted networks by taking advantage of particularities and errors in the design and implementation of the network protocols (IP, TCP, UDP, application protocols),\\n• Use of incorrect or exceeded TCP sequence numbers,\\n• Perform brute force attacks on FTP passwords,\\n• Use of improper HTTP user sessions,\\n• Etc.\\nThe effects of such attacks may include:\\n• An intrusion, meaning unauthorized access to O-RAN components,\\n• Blocking, flooding or restarting an O-RAN component causing a denial of service,\\n• Flooding of network equipment, causing a denial of service,\\n• Etc.</td>\n",
       "      <td>A CAPEC with the title Forceful Browsing. The description of this CAPEC is:An attacker employs forceful browsing (direct URL entry) to access portions of a website that are otherwise unreachable. Usually, a front controller or similar design pattern is employed to protect access to portions of a web application. Forceful browsing enables an attacker to access information, perform privileged operations and otherwise reach sections of the web application that have been improperly protected.. The Domain of this is: Software</td>\n",
       "    </tr>\n",
       "    <tr>\n",
       "      <th>3</th>\n",
       "      <td>T-O-RAN-04</td>\n",
       "      <td>enterprise-attack</td>\n",
       "      <td>An attacker attempts to jam the airlink signal through IoT devices</td>\n",
       "      <td>CAPEC-87</td>\n",
       "      <td>0.267341</td>\n",
       "      <td>A Threat with the title An attacker attempts to jam the airlink signal through IoT devices and the descriptionDDoS attacks on O-RAN systems: The 5G evolution means billions of things, collectively referred to as IoT, will be using the 5G O-RAN. Thus, IoT could increase the risk of O-RAN resource overload by way of DDoS attacks. Attackers create a botnet army by infecting many (millions/billions) IoT devices with a “remote-reboot” malware. Attackers instruct the malware to reboot all devices in a specific or targeted 5G coverage area at the same time.</td>\n",
       "      <td>A CAPEC with the title Forceful Browsing. The description of this CAPEC is:An attacker employs forceful browsing (direct URL entry) to access portions of a website that are otherwise unreachable. Usually, a front controller or similar design pattern is employed to protect access to portions of a web application. Forceful browsing enables an attacker to access information, perform privileged operations and otherwise reach sections of the web application that have been improperly protected.. The Domain of this is: Software</td>\n",
       "    </tr>\n",
       "    <tr>\n",
       "      <th>4</th>\n",
       "      <td>T-O-RAN-05</td>\n",
       "      <td>enterprise-attack</td>\n",
       "      <td>An attacker penetrates and compromises the O-RAN system through the open O-RAN’s Fronthaul, O1, O2, A1, and E2</td>\n",
       "      <td>CAPEC-87</td>\n",
       "      <td>0.373829</td>\n",
       "      <td>A Threat with the title An attacker penetrates and compromises the O-RAN system through the open O-RAN’s Fronthaul, O1, O2, A1, and E2 and the descriptionO-RAN’s Fronthaul, O1, O2, A1, and E2 management interfaces are the new open interfaces that allow software programmability of RAN. These interfaces may not be secured to industry best practices.\\nO-RAN components might be vulnerable if: \\n• Improper or missing authentication and authorization processes,\\n• Improper or missing ciphering and integrity checks of sensitive data exchanged over O-RAN interfaces,\\n• Improper or missing replay protection of sensitive data exchanged over O-RAN interfaces,\\n• Improper prevention of key reuse,\\n• Improper implementation,\\n• Improperly validate inputs, respond to error conditions in both the submitted data as well as out of sequence protocol steps.\\nAn attacker could, in such case, cause denial-of-service, data tampering or information disclosure, etc.\\nNOTE: O-RAN interfaces allow use of TLS or SSH. Industry best practices mandate the use of TLS (v1.2 or higher) or SSH certificate-based authentication. An implementation that implements TLS version lower than 1.2 or a SSH password authentication, may become the key source of vulnerability that a malicious code will exploit to compromise the O-RAN system.</td>\n",
       "      <td>A CAPEC with the title Forceful Browsing. The description of this CAPEC is:An attacker employs forceful browsing (direct URL entry) to access portions of a website that are otherwise unreachable. Usually, a front controller or similar design pattern is employed to protect access to portions of a web application. Forceful browsing enables an attacker to access information, perform privileged operations and otherwise reach sections of the web application that have been improperly protected.. The Domain of this is: Software</td>\n",
       "    </tr>\n",
       "    <tr>\n",
       "      <th>5</th>\n",
       "      <td>T-O-RAN-06</td>\n",
       "      <td>enterprise-attack</td>\n",
       "      <td>An attacker exploits insufficient/improper mechanisms for authentication and authorization to compromise O-RAN components</td>\n",
       "      <td>CAPEC-87</td>\n",
       "      <td>0.327463</td>\n",
       "      <td>A Threat with the title An attacker exploits insufficient/improper mechanisms for authentication and authorization to compromise O-RAN components and the descriptionO-RAN management and orchestration should not be used without appropriate authentication and authorization and authorization checks. \\nO-RAN components might be vulnerable if: \\n• Unauthenticated access to O-RAN functions,\\n• Improper authentication mechanisms,\\n• Use of Predefined/ default accounts,\\n• Weak or missing password policy,\\n• Lack of mutual authentication to O-RAN components and interfaces,\\n• Failure to block consecutive failed login attempts,\\n• Improper authorization and access control policy.\\nAn attacker could, in such case, either inject malwares and/or manipulate existing software, harm the O-RAN components, create a performance issue by manipulation of parameters, or reconfigure the O-RAN components and disable the security features with the purpose of eavesdropping or wiretapping on various CUS &amp; M planes, reaching northbound systems, attack broader network to cause denial-of-service, steal unprotected private keys, certificates, hash values, or other type of breaches.</td>\n",
       "      <td>A CAPEC with the title Forceful Browsing. The description of this CAPEC is:An attacker employs forceful browsing (direct URL entry) to access portions of a website that are otherwise unreachable. Usually, a front controller or similar design pattern is employed to protect access to portions of a web application. Forceful browsing enables an attacker to access information, perform privileged operations and otherwise reach sections of the web application that have been improperly protected.. The Domain of this is: Software</td>\n",
       "    </tr>\n",
       "  </tbody>\n",
       "</table>\n",
       "</div>"
      ],
      "text/plain": [
       "         Name             Domain  \\\n",
       "0  T-O-RAN-01  enterprise-attack   \n",
       "1  T-O-RAN-02  enterprise-attack   \n",
       "2  T-O-RAN-03  enterprise-attack   \n",
       "3  T-O-RAN-04  enterprise-attack   \n",
       "4  T-O-RAN-05  enterprise-attack   \n",
       "5  T-O-RAN-06  enterprise-attack   \n",
       "\n",
       "                                                                                                                 Description  \\\n",
       "0                                              An attacker exploits insecure designs or lack of adaption in O-RAN components   \n",
       "1                                                   An attacker exploits misconfigured or poorly configured O-RAN components   \n",
       "2                                                              Attacks from the internet to penetrate O-RAN network boundary   \n",
       "3                                                         An attacker attempts to jam the airlink signal through IoT devices   \n",
       "4             An attacker penetrates and compromises the O-RAN system through the open O-RAN’s Fronthaul, O1, O2, A1, and E2   \n",
       "5  An attacker exploits insufficient/improper mechanisms for authentication and authorization to compromise O-RAN components   \n",
       "\n",
       "   CAPEC ID  Similarity  \\\n",
       "0  CAPEC-87    0.246462   \n",
       "1  CAPEC-87    0.270846   \n",
       "2  CAPEC-87    0.391938   \n",
       "3  CAPEC-87    0.267341   \n",
       "4  CAPEC-87    0.373829   \n",
       "5  CAPEC-87    0.327463   \n",
       "\n",
       "                                                                                                                                                                                                                                                                                                                                                                                                                                                                                                                                                                                                                                                                                                                                                                                                                                                                                                                                                                                                                                                                                                                                                                                                                                                                                                                                                                                                             summary_th_df  \\\n",
       "0  A Threat with the title An attacker exploits insecure designs or lack of adaption in O-RAN components and the descriptionUnauthenticated/unauthorized access to O-RAN components could possibly be achieved via the different O-RAN interfaces, depending upon the design of the hardware-software O-RAN system and how different functions are segregated within the O-RAN system. \\nO-RAN components might be vulnerable if: \\n• Outdated component from the lack of update or patch management,\\n• Poorly design architecture,\\n• Missing appropriate security hardening,\\n• Unnecessary or insecure function/protocol/component.\\nAn attacker could, in such case, either inject malwares and/or manipulate existing software, harm the O-RAN components, create a performance issue by manipulation of parameters, or reconfigure the O-RAN components and disable the security features with the purpose of eavesdropping or wiretapping on various CUS & M planes, reaching northbound systems, attack broader network to cause denial-of-service, steal unprotected private keys, certificates, hash values, or other type of breaches.\\nIn addition, O-RAN components could be software providing network functions, so they are likely to be vulnerable to software flaws: it could be possible to bypass firewall restrictions or to take advantage of a buffer overflow to execute arbitrary commands, etc.   \n",
       "1                                                                                                                                                  A Threat with the title An attacker exploits misconfigured or poorly configured O-RAN components and the descriptionUnauthenticated/unauthorized access to O-RAN components could possibly be achieved via the different O-RAN interfaces, depending upon the configuration of the hardware-software O-RAN system. \\nO-RAN components might be vulnerable if: \\n• Errors from the lack of configuration change management,\\n• Misconfigured or poorly configured O-RAN components,\\n• Improperly configured permissions,\\n• Unnecessary features are enabled (e.g. unnecessary ports, services, accounts, or privileges),\\n• Default accounts and their passwords still enabled and unchanged,\\n• Security features are disabled or not configured securely.\\nAn attacker could, in such case, either inject malwares and/or manipulate existing software, harm the O-RAN components, create a performance issue by manipulation of parameters, or reconfigure the O-RAN components and disable the security features with the purpose of eavesdropping or wiretapping on various CUS & M planes, reaching northbound systems, attack broader network to cause denial-of-service, steal unprotected private keys, certificates, hash values, or other type of breaches.   \n",
       "2                                                                                                                                                                                                                                                                                                                                                                                                                   A Threat with the title Attacks from the internet to penetrate O-RAN network boundary and the descriptionWeb servers serving O-RAN functional and management services should provide adequate protection. \\nAn attacker that have access to the uncontrolled O-RAN network could:\\n• Bypass the information flow control policy implemented by the firewall,\\n• And/or attack O-RAN components in the trusted networks by taking advantage of particularities and errors in the design and implementation of the network protocols (IP, TCP, UDP, application protocols),\\n• Use of incorrect or exceeded TCP sequence numbers,\\n• Perform brute force attacks on FTP passwords,\\n• Use of improper HTTP user sessions,\\n• Etc.\\nThe effects of such attacks may include:\\n• An intrusion, meaning unauthorized access to O-RAN components,\\n• Blocking, flooding or restarting an O-RAN component causing a denial of service,\\n• Flooding of network equipment, causing a denial of service,\\n• Etc.   \n",
       "3                                                                                                                                                                                                                                                                                                                                                                                                                                                                                                                                                                                                                                                                                                                                                                                                                                             A Threat with the title An attacker attempts to jam the airlink signal through IoT devices and the descriptionDDoS attacks on O-RAN systems: The 5G evolution means billions of things, collectively referred to as IoT, will be using the 5G O-RAN. Thus, IoT could increase the risk of O-RAN resource overload by way of DDoS attacks. Attackers create a botnet army by infecting many (millions/billions) IoT devices with a “remote-reboot” malware. Attackers instruct the malware to reboot all devices in a specific or targeted 5G coverage area at the same time.   \n",
       "4                                                      A Threat with the title An attacker penetrates and compromises the O-RAN system through the open O-RAN’s Fronthaul, O1, O2, A1, and E2 and the descriptionO-RAN’s Fronthaul, O1, O2, A1, and E2 management interfaces are the new open interfaces that allow software programmability of RAN. These interfaces may not be secured to industry best practices.\\nO-RAN components might be vulnerable if: \\n• Improper or missing authentication and authorization processes,\\n• Improper or missing ciphering and integrity checks of sensitive data exchanged over O-RAN interfaces,\\n• Improper or missing replay protection of sensitive data exchanged over O-RAN interfaces,\\n• Improper prevention of key reuse,\\n• Improper implementation,\\n• Improperly validate inputs, respond to error conditions in both the submitted data as well as out of sequence protocol steps.\\nAn attacker could, in such case, cause denial-of-service, data tampering or information disclosure, etc.\\nNOTE: O-RAN interfaces allow use of TLS or SSH. Industry best practices mandate the use of TLS (v1.2 or higher) or SSH certificate-based authentication. An implementation that implements TLS version lower than 1.2 or a SSH password authentication, may become the key source of vulnerability that a malicious code will exploit to compromise the O-RAN system.   \n",
       "5                                                                                                                                                                                                       A Threat with the title An attacker exploits insufficient/improper mechanisms for authentication and authorization to compromise O-RAN components and the descriptionO-RAN management and orchestration should not be used without appropriate authentication and authorization and authorization checks. \\nO-RAN components might be vulnerable if: \\n• Unauthenticated access to O-RAN functions,\\n• Improper authentication mechanisms,\\n• Use of Predefined/ default accounts,\\n• Weak or missing password policy,\\n• Lack of mutual authentication to O-RAN components and interfaces,\\n• Failure to block consecutive failed login attempts,\\n• Improper authorization and access control policy.\\nAn attacker could, in such case, either inject malwares and/or manipulate existing software, harm the O-RAN components, create a performance issue by manipulation of parameters, or reconfigure the O-RAN components and disable the security features with the purpose of eavesdropping or wiretapping on various CUS & M planes, reaching northbound systems, attack broader network to cause denial-of-service, steal unprotected private keys, certificates, hash values, or other type of breaches.   \n",
       "\n",
       "                                                                                                                                                                                                                                                                                                                                                                                                                                                                                                                                    summary_ca_df  \n",
       "0  A CAPEC with the title Forceful Browsing. The description of this CAPEC is:An attacker employs forceful browsing (direct URL entry) to access portions of a website that are otherwise unreachable. Usually, a front controller or similar design pattern is employed to protect access to portions of a web application. Forceful browsing enables an attacker to access information, perform privileged operations and otherwise reach sections of the web application that have been improperly protected.. The Domain of this is: Software  \n",
       "1  A CAPEC with the title Forceful Browsing. The description of this CAPEC is:An attacker employs forceful browsing (direct URL entry) to access portions of a website that are otherwise unreachable. Usually, a front controller or similar design pattern is employed to protect access to portions of a web application. Forceful browsing enables an attacker to access information, perform privileged operations and otherwise reach sections of the web application that have been improperly protected.. The Domain of this is: Software  \n",
       "2  A CAPEC with the title Forceful Browsing. The description of this CAPEC is:An attacker employs forceful browsing (direct URL entry) to access portions of a website that are otherwise unreachable. Usually, a front controller or similar design pattern is employed to protect access to portions of a web application. Forceful browsing enables an attacker to access information, perform privileged operations and otherwise reach sections of the web application that have been improperly protected.. The Domain of this is: Software  \n",
       "3  A CAPEC with the title Forceful Browsing. The description of this CAPEC is:An attacker employs forceful browsing (direct URL entry) to access portions of a website that are otherwise unreachable. Usually, a front controller or similar design pattern is employed to protect access to portions of a web application. Forceful browsing enables an attacker to access information, perform privileged operations and otherwise reach sections of the web application that have been improperly protected.. The Domain of this is: Software  \n",
       "4  A CAPEC with the title Forceful Browsing. The description of this CAPEC is:An attacker employs forceful browsing (direct URL entry) to access portions of a website that are otherwise unreachable. Usually, a front controller or similar design pattern is employed to protect access to portions of a web application. Forceful browsing enables an attacker to access information, perform privileged operations and otherwise reach sections of the web application that have been improperly protected.. The Domain of this is: Software  \n",
       "5  A CAPEC with the title Forceful Browsing. The description of this CAPEC is:An attacker employs forceful browsing (direct URL entry) to access portions of a website that are otherwise unreachable. Usually, a front controller or similar design pattern is employed to protect access to portions of a web application. Forceful browsing enables an attacker to access information, perform privileged operations and otherwise reach sections of the web application that have been improperly protected.. The Domain of this is: Software  "
      ]
     },
     "execution_count": 54,
     "metadata": {},
     "output_type": "execute_result"
    }
   ],
   "source": [
    "formatted_capec_mapping.loc[0:5]"
   ]
  },
  {
   "cell_type": "code",
   "execution_count": null,
   "id": "79d8c41f",
   "metadata": {},
   "outputs": [
    {
     "data": {
      "text/plain": [
       "Index(['Name', 'Domain', 'Description', 'CAPEC ID', 'Similarity',\n",
       "       'summary_th_df', 'summary_ca_df'],\n",
       "      dtype='object')"
      ]
     },
     "execution_count": 55,
     "metadata": {},
     "output_type": "execute_result"
    }
   ],
   "source": [
    "formatted_capec_mapping.columns"
   ]
  },
  {
   "cell_type": "code",
   "execution_count": null,
   "id": "b057f01e",
   "metadata": {},
   "outputs": [
    {
     "name": "stdout",
     "output_type": "stream",
     "text": [
      "Top CAPEC for Each Threat:\n",
      "\n",
      "Threat: T-A1-01\n",
      "  - CAPEC ID: CAPEC-94, Similarity: 0.5281, Description: Untrusted peering between Non-RT-RIC and Near-RT-RIC\n",
      "\n",
      "Threat: T-A1-02\n",
      "  - CAPEC ID: CAPEC-387, Similarity: 0.6099, Description: Malicious function or application monitors messaging across A1 interface\n",
      "\n",
      "Threat: T-A1-03\n",
      "  - CAPEC ID: CAPEC-387, Similarity: 0.5789, Description: Malicious function or application modifies messaging across A1 interface\n",
      "\n",
      "Threat: T-AAL-01\n",
      "  - CAPEC ID: CAPEC-440, Similarity: 0.5029, Description: Attacker exploits insecure API to gain access to hardware accelerator resources\n",
      "\n",
      "Threat: T-AAL-02\n",
      "  - CAPEC ID: CAPEC-469, Similarity: 0.4663, Description: Internal Overload DoS attack targeting AAL services\n",
      "\n",
      "Threat: T-AAL-03\n",
      "  - CAPEC ID: CAPEC-548, Similarity: 0.4826, Description: Fail to clear resources\n",
      "\n",
      "Threat: T-AAL-04\n",
      "  - CAPEC ID: CAPEC-401, Similarity: 0.4988, Description: HAM compromise\n",
      "\n",
      "Threat: T-AAL-05\n",
      "  - CAPEC ID: CAPEC-456, Similarity: 0.6088, Description: Malicious memory accesses\n",
      "\n",
      "Threat: T-AAL-06\n",
      "  - CAPEC ID: CAPEC-638, Similarity: 0.6232, Description: Firmware attacks\n",
      "\n",
      "Threat: T-ADMIN-01\n",
      "  - CAPEC ID: CAPEC-583, Similarity: 0.4209, Description: Denial of service against NFO/FOCOM\n",
      "\n",
      "Threat: T-ADMIN-02\n",
      "  - CAPEC ID: CAPEC-122, Similarity: 0.5220, Description: Abuse a O-Cloud administration service\n",
      "\n",
      "Threat: T-AppLCM-01\n",
      "  - CAPEC ID: CAPEC-669, Similarity: 0.5963, Description: Compromise of App/VNF/CNF update package integrity during onboarding\n",
      "\n",
      "Threat: T-AppLCM-02\n",
      "  - CAPEC ID: CAPEC-23, Similarity: 0.5574, Description: Compromise of App/VNF/CNF update image integrity during instantiation\n",
      "\n",
      "Threat: T-AppLCM-03\n",
      "  - CAPEC ID: CAPEC-444, Similarity: 0.4457, Description: Downgrade attack to vulnerable application version\n",
      "\n",
      "Threat: T-AppLCM-04\n",
      "  - CAPEC ID: CAPEC-180, Similarity: 0.5421, Description: Attacker exploits missing or improperly defined elements of application’s SecurityDescriptor\n",
      "\n",
      "Threat: T-AppLCM-05\n",
      "  - CAPEC ID: CAPEC-502, Similarity: 0.5442, Description: Malicious actor modifies application’s SecurityDescriptor\n",
      "\n",
      "Threat: T-AppLCM-06\n",
      "  - CAPEC ID: CAPEC-271, Similarity: 0.5144, Description: Improper decommissioning of application \n",
      "\n",
      "Threat: T-AppLCM-07\n",
      "  - CAPEC ID: CAPEC-546, Similarity: 0.6154, Description: Improper deletion of application sensitive data\n",
      "\n",
      "Threat: T-CPLANE-01\n",
      "  - CAPEC ID: CAPEC-473, Similarity: 0.5538, Description: Spoofing of DL C-plane messages\n",
      "\n",
      "Threat: T-CPLANE-02\n",
      "  - CAPEC ID: CAPEC-473, Similarity: 0.5349, Description: Spoofing of UL C-plane messages\n",
      "\n",
      "Threat: T-E2-01\n",
      "  - CAPEC ID: CAPEC-94, Similarity: 0.4994, Description: Untrusted Near-RT-RIC and E2 Nodes\n",
      "\n",
      "Threat: T-E2-02\n",
      "  - CAPEC ID: CAPEC-12, Similarity: 0.5344, Description: Malicious actor monitors messaging across E2 interface\n",
      "\n",
      "Threat: T-E3-03\n",
      "  - CAPEC ID: CAPEC-12, Similarity: 0.5092, Description: Malicious actor modifies messaging across E2 interface\n",
      "\n",
      "Threat: T-FRHAUL-01\n",
      "  - CAPEC ID: CAPEC-700, Similarity: 0.4773, Description: An attacker penetrates O-DU and beyond through O-RU or the Fronthaul interface\n",
      "\n",
      "Threat: T-FRHAUL-02\n",
      "  - CAPEC ID: CAPEC-700, Similarity: 0.4611, Description: Unauthorized access to Open Front Haul Ethernet L1 physical layer interface(s)\n",
      "\n",
      "Threat: T-GEN-01\n",
      "  - CAPEC ID: CAPEC-480, Similarity: 0.5419, Description: Software flaw attack\n",
      "\n",
      "Threat: T-GEN-02\n",
      "  - CAPEC ID: CAPEC-510, Similarity: 0.6000, Description: Malicious access to exposed services using valid accounts\n",
      "\n",
      "Threat: T-GEN-03\n",
      "  - CAPEC ID: CAPEC-480, Similarity: 0.5078, Description: Untrust binding between the different O-Cloud layers\n",
      "\n",
      "Threat: T-GEN-04\n",
      "  - CAPEC ID: CAPEC-115, Similarity: 0.4462, Description: Lack of Authentication & Authorization in interfaces between O-Cloud components\n",
      "\n",
      "Threat: T-GEN-05\n",
      "  - CAPEC ID: CAPEC-568, Similarity: 0.5195, Description: Unsecured credentials and keys\n",
      "\n",
      "Threat: T-HW-01\n",
      "  - CAPEC ID: CAPEC-480, Similarity: 0.4657, Description: Cross VM/Container side channel attacks\n",
      "\n",
      "Threat: T-HW-02\n",
      "  - CAPEC ID: CAPEC-480, Similarity: 0.5651, Description: MitM attacks on the interface between virtualization layer and hardware\n",
      "\n",
      "Threat: T-IMG-01\n",
      "  - CAPEC ID: CAPEC-480, Similarity: 0.5602, Description: VM/Container images tampering\n",
      "\n",
      "Threat: T-IMG-02\n",
      "  - CAPEC ID: CAPEC-533, Similarity: 0.4804, Description: Insecure channels with images repository\n",
      "\n",
      "Threat: T-IMG-03\n",
      "  - CAPEC ID: CAPEC-480, Similarity: 0.4461, Description: Secrets disclosure in VM/Container images\n",
      "\n",
      "Threat: T-IMG-04\n",
      "  - CAPEC ID: CAPEC-480, Similarity: 0.4159, Description: Build image on VL\n",
      "\n",
      "Threat: T-ML-01\n",
      "  - CAPEC ID: CAPEC-146, Similarity: 0.5173, Description: Poisoning the ML training data (Data poisoning attacks)\n",
      "\n",
      "Threat: T-ML-02\n",
      "  - CAPEC ID: CAPEC-153, Similarity: 0.4885, Description: Altering a machine learning model (System manipulation and compromise of ML data confidentiality ...\n",
      "\n",
      "Threat: T-ML-03\n",
      "  - CAPEC ID: CAPEC-415, Similarity: 0.4178, Description: Transfer learning attack\n",
      "\n",
      "Threat: T-MPLANE-01\n",
      "  - CAPEC ID: CAPEC-622, Similarity: 0.5112, Description: An attacker attempts to intercept the Fronthaul (MITM) over M Plane\n",
      "\n",
      "Threat: T-NEAR-RT-01\n",
      "  - CAPEC ID: CAPEC-388, Similarity: 0.5025, Description: Malicious Apps can exploit UE identification, track UE location and change UE priority\n",
      "\n",
      "Threat: T-NEAR-RT-02\n",
      "  - CAPEC ID: CAPEC-523, Similarity: 0.4649, Description: Risk of deployment of a malicious xApp on Near-RT RIC\n",
      "\n",
      "Threat: T-NEAR-RT-03\n",
      "  - CAPEC ID: CAPEC-388, Similarity: 0.5262, Description: Attackers exploit non authenticated, weakly or incorrectly authenticated Near-RT RIC APIs\n",
      "\n",
      "Threat: T-NEAR-RT-04\n",
      "  - CAPEC ID: CAPEC-388, Similarity: 0.5686, Description: Attackers exploit non authorized Near-RT RIC APIs to access to resources and services which they ...\n",
      "\n",
      "Threat: T-NEAR-RT-05\n",
      "  - CAPEC ID: CAPEC-21, Similarity: 0.5510, Description: Attackers exploit non uniquely identified xApps using a trusted xAppID to access to resources and...\n",
      "\n",
      "Threat: T-NONRTRIC-01\n",
      "  - CAPEC ID: CAPEC-180, Similarity: 0.5533, Description: An attacker gains access to the Non-RT RIC through the SMO to cause a denial of service or degrad...\n",
      "\n",
      "Threat: T-NONRTRIC-02\n",
      "  - CAPEC ID: CAPEC-272, Similarity: 0.4917, Description: An attacker gains access to the Non-RT RIC through the SMO for UE tracking\n",
      "\n",
      "Threat: T-NONRTRIC-03\n",
      "  - CAPEC ID: CAPEC-180, Similarity: 0.5328, Description: An attacker gains access to the Non-RT RIC through the SMO to cause Data Corruption/Modification\n",
      "\n",
      "Threat: T-NONRTRIC-04\n",
      "  - CAPEC ID: CAPEC-665, Similarity: 0.4906, Description: An attacker exploits non uniquely identified rApp instances using a trusted rAppID to access R1 s...\n",
      "\n",
      "Threat: T-O-CLOUD-ID-01\n",
      "  - CAPEC ID: CAPEC-546, Similarity: 0.4295, Description: ID reuse in O-Cloud's object lifecycle\n",
      "\n",
      "Threat: T-O-CLOUD-ID-02\n",
      "  - CAPEC ID: CAPEC-534, Similarity: 0.3885, Description: Node redundancy in O-Cloud deployments\n",
      "\n",
      "Threat: T-O-CLOUD-ID-03\n",
      "  - CAPEC ID: CAPEC-221, Similarity: 0.4530, Description: O-Cloud ID mismanagement\n",
      "\n",
      "Threat: T-O-RAN-01\n",
      "  - CAPEC ID: CAPEC-401, Similarity: 0.5028, Description: An attacker exploits insecure designs or lack of adaption in O-RAN components\n",
      "\n",
      "Threat: T-O-RAN-02\n",
      "  - CAPEC ID: CAPEC-401, Similarity: 0.5122, Description: An attacker exploits misconfigured or poorly configured O-RAN components\n",
      "\n",
      "Threat: T-O-RAN-03\n",
      "  - CAPEC ID: CAPEC-482, Similarity: 0.5065, Description: Attacks from the internet to penetrate O-RAN network boundary\n",
      "\n",
      "Threat: T-O-RAN-04\n",
      "  - CAPEC ID: CAPEC-604, Similarity: 0.5597, Description: An attacker attempts to jam the airlink signal through IoT devices\n",
      "\n",
      "Threat: T-O-RAN-05\n",
      "  - CAPEC ID: CAPEC-88, Similarity: 0.5189, Description: An attacker penetrates and compromises the O-RAN system through the open O-RAN’s Fronthaul, O1, O...\n",
      "\n",
      "Threat: T-O-RAN-06\n",
      "  - CAPEC ID: CAPEC-114, Similarity: 0.5898, Description: An attacker exploits insufficient/improper mechanisms for authentication and authorization to com...\n",
      "\n",
      "Threat: T-O-RAN-07\n",
      "  - CAPEC ID: CAPEC-268, Similarity: 0.6675, Description: An attacker compromises O-RAN monitoring mechanisms and log files integrity and availability\n",
      "\n",
      "Threat: T-O-RAN-08\n",
      "  - CAPEC ID: CAPEC-470, Similarity: 0.5152, Description: An attacker compromises O-RAN data integrity, confidentiality and traceability\n",
      "\n",
      "Threat: T-O-RAN-09\n",
      "  - CAPEC ID: CAPEC-440, Similarity: 0.5465, Description: An attacker compromises O-RAN components integrity and availability\n",
      "\n",
      "Threat: T-O2-01\n",
      "  - CAPEC ID: CAPEC-480, Similarity: 0.4782, Description: MitM attacks on O2 interface between O-Cloud and SMO\n",
      "\n",
      "Threat: T-OCAPI-01\n",
      "  - CAPEC ID: CAPEC-480, Similarity: 0.5004, Description: MitM attacks on O-Cloud interface between VNFs/CNFs and the virtualization layer\n",
      "\n",
      "Threat: T-OPENSRC-01\n",
      "  - CAPEC ID: CAPEC-538, Similarity: 0.6523, Description: Developers use SW components with known vulnerabilities and untrusted libraries that can be explo...\n",
      "\n",
      "Threat: T-OPENSRC-02\n",
      "  - CAPEC ID: CAPEC-538, Similarity: 0.6199, Description: A trusted developer intentionally inserts a backdoor into an open source code O-RAN component\n",
      "\n",
      "Threat: T-ORU-01\n",
      "  - CAPEC ID: CAPEC-617, Similarity: 0.5952, Description: An attacker stands up a false base station attack by attacking an O-RU\n",
      "\n",
      "Threat: T-PHYS-01\n",
      "  - CAPEC ID: CAPEC-180, Similarity: 0.5443, Description: An intruder into a site gains physical access to O-RAN components to cause damage or access sensi...\n",
      "\n",
      "Threat: T-PHYS-02\n",
      "  - CAPEC ID: CAPEC-161, Similarity: 0.4758, Description: An intruder into the exchange over the Fronthaul cable network attempts to gain electronic access...\n",
      "\n",
      "Threat: T-PNF-01\n",
      "  - CAPEC ID: CAPEC-594, Similarity: 0.4189, Description: An attacker compromises a PNF to launch reverse attacks and other attacks against VNFs/CNFs\n",
      "\n",
      "Threat: T-R1-01\n",
      "  - CAPEC ID: CAPEC-502, Similarity: 0.5132, Description: A malicious actor gains unauthorized access to R1 services\n",
      "\n",
      "Threat: T-R1-02\n",
      "  - CAPEC ID: CAPEC-12, Similarity: 0.5094, Description: Attacker modifies Service Heartbeat message to cause Denial of Service\n",
      "\n",
      "Threat: T-R1-03\n",
      "  - CAPEC ID: CAPEC-114, Similarity: 0.5409, Description: Malicious actor bypasses authentication to Request Data \n",
      "\n",
      "Threat: T-R1-04\n",
      "  - CAPEC ID: CAPEC-502, Similarity: 0.5448, Description: Malicious actor bypasses authorization to Discover Data \n",
      "\n",
      "Threat: T-R1-05\n",
      "  - CAPEC ID: CAPEC-173, Similarity: 0.6290, Description: A malicious actor gains unauthorized access to data\n",
      "\n",
      "Threat: T-R1-06\n",
      "  - CAPEC ID: CAPEC-389, Similarity: 0.5404, Description: Malicious actor modifies a Data Request\n",
      "\n",
      "Threat: T-R1-07\n",
      "  - CAPEC ID: CAPEC-389, Similarity: 0.5368, Description: Malicious actor compromises Data Delivery to the Data Consumer\n",
      "\n",
      "Threat: T-RADIO-01\n",
      "  - CAPEC ID: CAPEC-601, Similarity: 0.6549, Description: Disruption through radio jamming, sniffing and spoofing\n",
      "\n",
      "Threat: T-RADIO-02\n",
      "  - CAPEC ID: CAPEC-601, Similarity: 0.5660, Description: DoS attacks on cognitive radio networks\n",
      "\n",
      "Threat: T-SMO-01\n",
      "  - CAPEC ID: CAPEC-114, Similarity: 0.5511, Description: External attacker exploits authentication weakness on SMO\n",
      "\n",
      "Threat: T-SMO-02\n",
      "  - CAPEC ID: CAPEC-180, Similarity: 0.4848, Description: External attacker exploits authentication weakness on SMO\n",
      "\n",
      "Threat: T-SMO-03\n",
      "  - CAPEC ID: CAPEC-469, Similarity: 0.5205, Description: External Overload DoS attack targeted at SMO\n",
      "\n",
      "Threat: T-SMO-04\n",
      "  - CAPEC ID: CAPEC-114, Similarity: 0.5241, Description: Internal attacker exploits authentication weakness on a SMO function\n",
      "\n",
      "Threat: T-SMO-05\n",
      "  - CAPEC ID: CAPEC-180, Similarity: 0.4983, Description: Internal attacker exploits authorization weakness on a SMO function\n",
      "\n",
      "Threat: T-SMO-06\n",
      "  - CAPEC ID: CAPEC-100, Similarity: 0.5168, Description: Internal Overload DoS attack targeted at SMO functions\n",
      "\n",
      "Threat: T-SMO-07\n",
      "  - CAPEC ID: CAPEC-456, Similarity: 0.5018, Description: Internal DoS attack disables internal SMO function(s) or process(es)\n",
      "\n",
      "Threat: T-SMO-08\n",
      "  - CAPEC ID: CAPEC-388, Similarity: 0.5912, Description: Attacker exploits insecure API to gain access to SMO\n",
      "\n",
      "Threat: T-SMO-09\n",
      "  - CAPEC ID: CAPEC-387, Similarity: 0.5365, Description: Sensitive data in transit is exposed to an internal attacker\n",
      "\n",
      "Threat: T-SMO-10\n",
      "  - CAPEC ID: CAPEC-122, Similarity: 0.5135, Description: Sensitive data at rest is exposed to an internal attacker\n",
      "\n",
      "Threat: T-SMO-11\n",
      "  - CAPEC ID: CAPEC-456, Similarity: 0.4994, Description: AI/ML poisoning by internal attacker\n",
      "\n",
      "Threat: T-SMO-12\n",
      "  - CAPEC ID: CAPEC-221, Similarity: 0.5132, Description: AI/ML exposure on external entity\n",
      "\n",
      "Threat: T-SMO-13\n",
      "  - CAPEC ID: CAPEC-268, Similarity: 0.6297, Description: Malicious actor views local logs\n",
      "\n",
      "Threat: T-SMO-14\n",
      "  - CAPEC ID: CAPEC-268, Similarity: 0.5828, Description: Malicious actor modifies local log entries\n",
      "\n",
      "Threat: T-SMO-15\n",
      "  - CAPEC ID: CAPEC-268, Similarity: 0.5835, Description: Malicious actor deletes local logs\n",
      "\n",
      "Threat: T-SMO-16\n",
      "  - CAPEC ID: CAPEC-268, Similarity: 0.5932, Description: Malicious actor intercepts exports of local logs\n",
      "\n",
      "Threat: T-SMO-17\n",
      "  - CAPEC ID: CAPEC-268, Similarity: 0.6204, Description: Malicious external actor gains unauthorized access to logs\n",
      "\n",
      "Threat: T-SMO-18\n",
      "  - CAPEC ID: CAPEC-268, Similarity: 0.5912, Description: Malicious internal actor gains authorized access to logs\n",
      "\n",
      "Threat: T-SMO-19\n",
      "  - CAPEC ID: CAPEC-157, Similarity: 0.4940, Description: Internal attacker exploits O2 interface to view data in transit between SMO and O-Cloud\n",
      "\n",
      "Threat: T-SMO-20\n",
      "  - CAPEC ID: CAPEC-470, Similarity: 0.4867, Description: Internal attacker exploits O2 interface to modify data in transit between SMO and O-Cloud\n",
      "\n",
      "Threat: T-SMO-21\n",
      "  - CAPEC ID: CAPEC-113, Similarity: 0.5189, Description: Internal attacker uses O2 interface via SMO to exploit API vulnerability to gain access to O-Clou...\n",
      "\n",
      "Threat: T-SMO-22\n",
      "  - CAPEC ID: CAPEC-125, Similarity: 0.5531, Description: Internal attacker floods O2 interface via SMO to cause DDoS on O-Cloud infrastructure\n",
      "\n",
      "Threat: T-SMO-23\n",
      "  - CAPEC ID: CAPEC-113, Similarity: 0.5010, Description: External attacker uses O2 interface via O-Cloud to exploit API vulnerability to gain access to SMO\n",
      "\n",
      "Threat: T-SMO-24\n",
      "  - CAPEC ID: CAPEC-125, Similarity: 0.5504, Description: External attacker floods O2 interface via O-Cloud to cause DDoS on SMO\n",
      "\n",
      "Threat: T-SMO-25\n",
      "  - CAPEC ID: CAPEC-58, Similarity: 0.4740, Description: External attacker uses O2 interface via O-Cloud to gain authorized access to sensitive data-at-re...\n",
      "\n",
      "Threat: T-SMO-26\n",
      "  - CAPEC ID: CAPEC-113, Similarity: 0.5058, Description: External attacker exploits External interface to view data in transit between SMO and external se...\n",
      "\n",
      "Threat: T-SMO-27\n",
      "  - CAPEC ID: CAPEC-113, Similarity: 0.5399, Description: External attacker exploits External interface to modify data in transit between SMO and external ...\n",
      "\n",
      "Threat: T-SMO-28\n",
      "  - CAPEC ID: CAPEC-113, Similarity: 0.5379, Description: External attacker uses External interface to exploit API vulnerability to gain access to SMO\n",
      "\n",
      "Threat: T-SMO-29\n",
      "  - CAPEC ID: CAPEC-482, Similarity: 0.5764, Description: External attacker floods External interface to cause DDoS at SMO\n",
      "\n",
      "Threat: T-SMO-30\n",
      "  - CAPEC ID: CAPEC-113, Similarity: 0.4833, Description: External attacker uses External interface to gain access to sensitive data-at-rest at the SMO\n",
      "\n",
      "Threat: T-SMO-31\n",
      "  - CAPEC ID: CAPEC-221, Similarity: 0.5065, Description: External attacker poisons External AI/ML data to corrupt SMO\n",
      "\n",
      "Threat: T-SMO-32\n",
      "  - CAPEC ID: CAPEC-201, Similarity: 0.5175, Description: External attacker poisons External Enrichment Information data sources to corrupt SMO\n",
      "\n",
      "Threat: T-SPLANE-01\n",
      "  - CAPEC ID: CAPEC-469, Similarity: 0.5060, Description: DoS attack against a Master clock\n",
      "\n",
      "Threat: T-SPLANE-02\n",
      "  - CAPEC ID: CAPEC-195, Similarity: 0.5244, Description: Impersonation of a Master clock (Spoofing) within a PTP network with a fake ANNOUNCE message\n",
      "\n",
      "Threat: T-SPLANE-03\n",
      "  - CAPEC ID: CAPEC-482, Similarity: 0.4803, Description: A Rogue PTP Instance wanting to be a Grand Master\n",
      "\n",
      "Threat: T-SPLANE-04\n",
      "  - CAPEC ID: CAPEC-621, Similarity: 0.5182, Description: Selective interception and removal of PTP timing packets\n",
      "\n",
      "Threat: T-SPLANE-05\n",
      "  - CAPEC ID: CAPEC-621, Similarity: 0.5849, Description: Packet delay manipulation attack\n",
      "\n",
      "Threat: T-SharedORU-01\n",
      "  - CAPEC ID: CAPEC-480, Similarity: 0.4492, Description: O-DU Tenant accesses O-DU Host\n",
      "\n",
      "Threat: T-SharedORU-02\n",
      "  - CAPEC ID: CAPEC-480, Similarity: 0.4551, Description: O-DU Host accesses O-DU Tenant\n",
      "\n",
      "Threat: T-SharedORU-03\n",
      "  - CAPEC ID: CAPEC-546, Similarity: 0.4352, Description: O-DU Tenant accesses O-DU Tenant\n",
      "\n",
      "Threat: T-SharedORU-04\n",
      "  - CAPEC ID: CAPEC-114, Similarity: 0.4980, Description: Password Attack on OFH M-Plane\n",
      "\n",
      "Threat: T-SharedORU-05\n",
      "  - CAPEC ID: CAPEC-505, Similarity: 0.5507, Description: Untrusted peering to O-DU\n",
      "\n",
      "Threat: T-SharedORU-06\n",
      "  - CAPEC ID: CAPEC-593, Similarity: 0.5730, Description: Untrusted peering to the Shared O-RU\n",
      "\n",
      "Threat: T-SharedORU-07\n",
      "  - CAPEC ID: CAPEC-593, Similarity: 0.5991, Description: Untrusted peering to the SMO\n",
      "\n",
      "Threat: T-SharedORU-08\n",
      "  - CAPEC ID: CAPEC-114, Similarity: 0.4608, Description: SMO Tenant accesses SMO Host\n",
      "\n",
      "Threat: T-SharedORU-09\n",
      "  - CAPEC ID: CAPEC-439, Similarity: 0.4618, Description: SMO Host accesses SMO Tenant\n",
      "\n",
      "Threat: T-SharedORU-10\n",
      "  - CAPEC ID: CAPEC-480, Similarity: 0.4672, Description: O-DU Host accesses O-CU Tenant\n",
      "\n",
      "Threat: T-SharedORU-11\n",
      "  - CAPEC ID: CAPEC-480, Similarity: 0.4620, Description: O-DU Tenant accesses O-CU Host\n",
      "\n",
      "Threat: T-SharedORU-12\n",
      "  - CAPEC ID: CAPEC-122, Similarity: 0.4523, Description: O-DU Tenant accesses O-CU Tenant\n",
      "\n",
      "Threat: T-SharedORU-13\n",
      "  - CAPEC ID: CAPEC-439, Similarity: 0.4813, Description: SMO Host accesses O-CU Tenant\n",
      "\n",
      "Threat: T-SharedORU-14\n",
      "  - CAPEC ID: CAPEC-439, Similarity: 0.4748, Description: SMO Tenant accesses O-CU Host\n",
      "\n",
      "Threat: T-SharedORU-15\n",
      "  - CAPEC ID: CAPEC-300, Similarity: 0.4496, Description: Physical port access to Shared O-RU Host/Tenant\n",
      "\n",
      "Threat: T-SharedORU-16\n",
      "  - CAPEC ID: CAPEC-300, Similarity: 0.4698, Description: Physical port access to O-DU Host/Tenant\n",
      "\n",
      "Threat: T-SharedORU-17\n",
      "  - CAPEC ID: CAPEC-300, Similarity: 0.5044, Description: Physical port access to O-CU Host/Tenant\n",
      "\n",
      "Threat: T-SharedORU-18\n",
      "  - CAPEC ID: CAPEC-114, Similarity: 0.5764, Description: Malicious User Login Attempt to SMO Host/Tenant\n",
      "\n",
      "Threat: T-SharedORU-19\n",
      "  - CAPEC ID: CAPEC-114, Similarity: 0.6050, Description: Malicious User Login Attempt to O-CU Host/Tenant\n",
      "\n",
      "Threat: T-SharedORU-20\n",
      "  - CAPEC ID: CAPEC-114, Similarity: 0.5536, Description: Malicious User Login Attempt to O-DU Host/Tenant\n",
      "\n",
      "Threat: T-SharedORU-21\n",
      "  - CAPEC ID: CAPEC-114, Similarity: 0.5403, Description: Malicious User Login Attempt to Shared O-RU Host/Tenant\n",
      "\n",
      "Threat: T-SharedORU-22\n",
      "  - CAPEC ID: CAPEC-94, Similarity: 0.5038, Description: Unauthorized internal threat actor gains access to data in Shared O-RU\n",
      "\n",
      "Threat: T-SharedORU-23\n",
      "  - CAPEC ID: CAPEC-273, Similarity: 0.4909, Description: Unauthorized external threat actor gains access to data in Shared O-RU\n",
      "\n",
      "Threat: T-SharedORU-24\n",
      "  - CAPEC ID: CAPEC-221, Similarity: 0.5148, Description: Data exposure at Shared O-RU\n",
      "\n",
      "Threat: T-SharedORU-25\n",
      "  - CAPEC ID: CAPEC-562, Similarity: 0.4932, Description: Shared O-RU data exposure at SMO\n",
      "\n",
      "Threat: T-SharedORU-26\n",
      "  - CAPEC ID: CAPEC-221, Similarity: 0.4872, Description: Shared O-RU data exposure at O-DU\n",
      "\n",
      "Threat: T-SharedORU-27\n",
      "  - CAPEC ID: CAPEC-277, Similarity: 0.4905, Description: Exposed data in transit between Shared O-RU and O-DU Host/Tenant\n",
      "\n",
      "Threat: T-SharedORU-28\n",
      "  - CAPEC ID: CAPEC-277, Similarity: 0.4851, Description: Exposed data in transit between Shared O-RU and SMO Host/Tenant\n",
      "\n",
      "Threat: T-SharedORU-29\n",
      "  - CAPEC ID: CAPEC-12, Similarity: 0.5516, Description: Modify/Delete OFH C-Plane messages\n",
      "\n",
      "Threat: T-SharedORU-30\n",
      "  - CAPEC ID: CAPEC-593, Similarity: 0.4281, Description: Clock hijacking on OFH S-Plane\n",
      "\n",
      "Threat: T-SharedORU-31\n",
      "  - CAPEC ID: CAPEC-10, Similarity: 0.4324, Description: Parameter conflicts at Shared O-RU\n",
      "\n",
      "Threat: T-SharedORU-32\n",
      "  - CAPEC ID: CAPEC-594, Similarity: 0.4818, Description: Volumetric DDoS attack from O-DU targeting Shared O-RU\n",
      "\n",
      "Threat: T-SharedORU-33\n",
      "  - CAPEC ID: CAPEC-594, Similarity: 0.5190, Description: Volumetric DDoS attack from SMO targeting Shared O-RU\n",
      "\n",
      "Threat: T-SharedORU-34\n",
      "  - CAPEC ID: CAPEC-594, Similarity: 0.5137, Description: Volumetric DDoS attack targeting O-DU\n",
      "\n",
      "Threat: T-SharedORU-35\n",
      "  - CAPEC ID: CAPEC-697, Similarity: 0.5871, Description: Shared O-RU initialization hijacking by DHCP compromise\n",
      "\n",
      "Threat: T-SharedORU-36\n",
      "  - CAPEC ID: CAPEC-598, Similarity: 0.6241, Description: Shared O-RU M-plane hijacking by DNS compromise\n",
      "\n",
      "Threat: T-SharedORU-37\n",
      "  - CAPEC ID: CAPEC-180, Similarity: 0.5100, Description: Misconfiguration of MNO Host Role\n",
      "\n",
      "Threat: T-SharedORU-38\n",
      "  - CAPEC ID: CAPEC-240, Similarity: 0.5213, Description: Incorrect Assignment of Spectrum Resources\n",
      "\n",
      "Threat: T-SharedORU-39\n",
      "  - CAPEC ID: CAPEC-22, Similarity: 0.4800, Description: Chain of Trust in a Multi-Tenant Environment\n",
      "\n",
      "Threat: T-SharedORU-40\n",
      "  - CAPEC ID: CAPEC-122, Similarity: 0.5265, Description: Hijack of MNO Host Role\n",
      "\n",
      "Threat: T-SharedORU-41\n",
      "  - CAPEC ID: CAPEC-122, Similarity: 0.5066, Description: Not Released Host Role (Host Role resume)\n",
      "\n",
      "Threat: T-SharedORU-42\n",
      "  - CAPEC ID: CAPEC-122, Similarity: 0.5756, Description: Misuse of “sudo” privileges\n",
      "\n",
      "Threat: T-SharedORU-43\n",
      "  - CAPEC ID: CAPEC-180, Similarity: 0.5337, Description: Eavesdropping of unprotected CUSM-plane data within shared O-RU\n",
      "\n",
      "Threat: T-UPLANE-01\n",
      "  - CAPEC ID: CAPEC-622, Similarity: 0.5290, Description: An attacker attempts to intercept the Fronthaul (MITM) over U Plane\n",
      "\n",
      "Threat: T-VL-01\n",
      "  - CAPEC ID: CAPEC-480, Similarity: 0.5395, Description: VM/Container hyperjacking attack\n",
      "\n",
      "Threat: T-VL-02\n",
      "  - CAPEC ID: CAPEC-480, Similarity: 0.4745, Description: Boot tampering\n",
      "\n",
      "Threat: T-VL-03\n",
      "  - CAPEC ID: CAPEC-125, Similarity: 0.4468, Description: Attack internal network services\n",
      "\n",
      "Threat: T-VM-C-01\n",
      "  - CAPEC ID: CAPEC-480, Similarity: 0.6170, Description: Abuse of a privileged VM/Container\n",
      "\n",
      "Threat: T-VM-C-02\n",
      "  - CAPEC ID: CAPEC-480, Similarity: 0.5942, Description: VM/Container escape attack\n",
      "\n",
      "Threat: T-VM-C-03\n",
      "  - CAPEC ID: CAPEC-480, Similarity: 0.4898, Description: VM/Container data theft\n",
      "\n",
      "Threat: T-VM-C-04\n",
      "  - CAPEC ID: CAPEC-480, Similarity: 0.4516, Description: VM/Container migration attacks\n",
      "\n",
      "Threat: T-VM-C-05\n",
      "  - CAPEC ID: CAPEC-480, Similarity: 0.4958, Description: Changing virtualization resource without authorization\n",
      "\n",
      "Threat: T-VM-C-06\n",
      "  - CAPEC ID: CAPEC-548, Similarity: 0.5248, Description: Failed or incomplete VNF/CNF termination or releasing of resources\n",
      "\n",
      "Threat: T-Y1-01\n",
      "  - CAPEC ID: CAPEC-94, Similarity: 0.4781, Description: Untrusted Near-RT-RIC and Y1 consumers\n",
      "\n",
      "Threat: T-Y1-02\n",
      "  - CAPEC ID: CAPEC-12, Similarity: 0.5491, Description: Malicious actor monitors messaging across Y1 interface\n",
      "\n",
      "Threat: T-Y1-03\n",
      "  - CAPEC ID: CAPEC-12, Similarity: 0.5190, Description: Malicious actor modifies messaging across Y1 interface\n",
      "\n",
      "Threat: T-rAPP-01\n",
      "  - CAPEC ID: CAPEC-26, Similarity: 0.4642, Description: Conflicting rApps impact O-RAN system functions to degrade performance or trigger a DoS\n",
      "\n",
      "Threat: T-rAPP-02\n",
      "  - CAPEC ID: CAPEC-482, Similarity: 0.5618, Description: An attacker exploits rApp vulnerability for data breach or denial of service\n",
      "\n",
      "Threat: T-rAPP-03\n",
      "  - CAPEC ID: CAPEC-482, Similarity: 0.5650, Description: An attacker exploits rApps misconfiguration\n",
      "\n",
      "Threat: T-rAPP-04\n",
      "  - CAPEC ID: CAPEC-114, Similarity: 0.6247, Description: An attacker bypasses authentication and authorization\n",
      "\n",
      "Threat: T-rAPP-05\n",
      "  - CAPEC ID: CAPEC-542, Similarity: 0.4955, Description: An attacker deploys and exploits malicious rApp\n",
      "\n",
      "Threat: T-rAPP-06\n",
      "  - CAPEC ID: CAPEC-114, Similarity: 0.6263, Description: An attacker bypasses authentication and authorization using an injection attack\n",
      "\n",
      "Threat: T-rAPP-07\n",
      "  - CAPEC ID: CAPEC-482, Similarity: 0.5033, Description: rApp exploits services\n",
      "\n",
      "Threat: T-xAPP-01\n",
      "  - CAPEC ID: CAPEC-388, Similarity: 0.4750, Description: An attacker exploits xApps vulnerabilities and misconfiguration\n",
      "\n",
      "Threat: T-xAPP-02\n",
      "  - CAPEC ID: CAPEC-212, Similarity: 0.5317, Description: Conflicting xApps unintentionally or maliciously impact O-RAN system functions to degrade perform...\n",
      "\n",
      "Threat: T-xAPP-03\n",
      "  - CAPEC ID: CAPEC-84, Similarity: 0.5140, Description: An attacker compromises xApp isolation\n",
      "\n",
      "Threat: T-xApp-04\n",
      "  - CAPEC ID: CAPEC-502, Similarity: 0.5427, Description: False or malicious A1 policies modify behavior of xApps\n"
     ]
    },
    {
     "name": "stderr",
     "output_type": "stream",
     "text": [
      "C:\\Users\\domep\\AppData\\Local\\Temp\\ipykernel_17896\\3634804933.py:3: FutureWarning: DataFrameGroupBy.apply operated on the grouping columns. This behavior is deprecated, and in a future version of pandas the grouping columns will be excluded from the operation. Either pass `include_groups=False` to exclude the groupings or explicitly select the grouping columns after groupby to silence this warning.\n",
      "  top_capec_per_threat = formatted_capec_mapping.groupby('Name').apply(\n"
     ]
    }
   ],
   "source": [
    "# for every threat name display the first 10 capecs with the highest similarity\n",
    "# --- Group by 'Name' (Threat Name) and get the top 5 for each ---\n",
    "top_capec_per_threat = formatted_capec_mapping.groupby('Name').apply(\n",
    "    lambda x: x.nlargest(1, 'Similarity')\n",
    ").reset_index(drop=True)\n",
    "\n",
    "# --- Display the results ---\n",
    "print(\"Top CAPEC for Each Threat:\")\n",
    "for threat_name in top_capec_per_threat['Name'].unique():\n",
    "    print(f\"\\nThreat: {threat_name}\")\n",
    "    threat_top_capecs = top_capec_per_threat[top_capec_per_threat['Name'] == threat_name]\n",
    "    # Select relevant columns for display\n",
    "    display_cols = ['CAPEC ID', 'Similarity', 'Description'] # Assuming 'Description' is the CAPEC Description now\n",
    "    for index, row in threat_top_capecs[display_cols].iterrows():\n",
    "        # Shorten description for readability if it's the CAPEC description\n",
    "        desc = row['Description']\n",
    "        if len(desc) > 100:\n",
    "            desc = desc[:97] + \"...\"\n",
    "        print(f\"  - CAPEC ID: {row['CAPEC ID']}, Similarity: {row['Similarity']:.4f}, Description: {desc}\")"
   ]
  },
  {
   "cell_type": "code",
   "execution_count": null,
   "id": "cb96690c",
   "metadata": {},
   "outputs": [
    {
     "data": {
      "text/plain": [
       "count    182.000000\n",
       "mean       0.522007\n",
       "std        0.053491\n",
       "min        0.388489\n",
       "25%        0.485478\n",
       "50%        0.515990\n",
       "75%        0.552747\n",
       "max        0.667489\n",
       "Name: Similarity, dtype: float64"
      ]
     },
     "execution_count": 93,
     "metadata": {},
     "output_type": "execute_result"
    }
   ],
   "source": [
    "top_capec_per_threat['Similarity'].describe()"
   ]
  },
  {
   "cell_type": "code",
   "execution_count": null,
   "id": "53d3b48b",
   "metadata": {},
   "outputs": [
    {
     "data": {
      "text/plain": [
       "count    101738.000000\n",
       "mean          0.319840\n",
       "std           0.076961\n",
       "min           0.006636\n",
       "25%           0.269693\n",
       "50%           0.321047\n",
       "75%           0.371686\n",
       "max           0.667489\n",
       "Name: Similarity, dtype: float64"
      ]
     },
     "execution_count": 89,
     "metadata": {},
     "output_type": "execute_result"
    }
   ],
   "source": [
    "formatted_capec_mapping['Similarity'].describe()"
   ]
  },
  {
   "cell_type": "code",
   "execution_count": null,
   "id": "b1cde4b8",
   "metadata": {},
   "outputs": [
    {
     "name": "stdout",
     "output_type": "stream",
     "text": [
      "Threat with the highest similarity to a CAPEC:\n",
      "             Name   CAPEC ID  Similarity  \\\n",
      "70440  T-O-RAN-07  CAPEC-268    0.667489   \n",
      "\n",
      "                                                                                        Description  \n",
      "70440  An attacker compromises O-RAN monitoring mechanisms and log files integrity and availability  \n"
     ]
    }
   ],
   "source": [
    "# threat with the highest similarity to a capec\n",
    "highest_similarity = formatted_capec_mapping['Similarity'].max()\n",
    "highest_similarity_row = formatted_capec_mapping[formatted_capec_mapping['Similarity'] == highest_similarity]\n",
    "print(\"Threat with the highest similarity to a CAPEC:\")\n",
    "print(highest_similarity_row[['Name', 'CAPEC ID', 'Similarity', 'Description']])    "
   ]
  },
  {
   "cell_type": "code",
   "execution_count": null,
   "id": "af023c5e",
   "metadata": {},
   "outputs": [
    {
     "name": "stdout",
     "output_type": "stream",
     "text": [
      "Threat with the lowest similarity to a CAPEC:\n",
      "           Name   CAPEC ID  Similarity  \\\n",
      "68773  T-AAL-02  CAPEC-394    0.006636   \n",
      "\n",
      "                                               Description  \n",
      "68773  Internal Overload DoS attack targeting AAL services  \n"
     ]
    }
   ],
   "source": [
    "# lowest similarity threat to a capec\n",
    "lowest_similarity = formatted_capec_mapping['Similarity'].min()\n",
    "lowest_similarity_row = formatted_capec_mapping[formatted_capec_mapping['Similarity'] == lowest_similarity]\n",
    "print(\"Threat with the lowest similarity to a CAPEC:\")\n",
    "print(lowest_similarity_row[['Name', 'CAPEC ID', 'Similarity', 'Description']])"
   ]
  },
  {
   "cell_type": "code",
   "execution_count": null,
   "id": "83c023bc",
   "metadata": {},
   "outputs": [
    {
     "name": "stdout",
     "output_type": "stream",
     "text": [
      "Average similarity: 0.3198404\n"
     ]
    }
   ],
   "source": [
    "# average similarity overall\n",
    "average_similarity = formatted_capec_mapping['Similarity'].mean()\n",
    "print(\"Average similarity:\", average_similarity)"
   ]
  },
  {
   "cell_type": "code",
   "execution_count": null,
   "id": "f8f8e736",
   "metadata": {},
   "outputs": [],
   "source": []
  },
  {
   "cell_type": "markdown",
   "id": "14a40055",
   "metadata": {},
   "source": [
    "4. Safe the mappings above 0.55 similarity to a csv file"
   ]
  },
  {
   "cell_type": "code",
   "execution_count": null,
   "id": "8b6b1dfa",
   "metadata": {},
   "outputs": [],
   "source": [
    "CAPEC_CSV_FILENAME = 'general_threats_capec_mapping'\n",
    "similarity = 0.55\n",
    "def filter_threshold_hfc(df, filter_criteria, min_similarity):\n",
    "    filtered_df = df[df['Similarity'] > min_similarity]\n",
    "    filtered_df = filtered_df.reset_index(drop=True)\n",
    "    return filtered_df"
   ]
  },
  {
   "cell_type": "code",
   "execution_count": null,
   "id": "929f451d",
   "metadata": {},
   "outputs": [],
   "source": [
    "\n",
    "#capec_mapping_hfc = filter_threshold_hfc(formatted_capec_mapping, \"Name\",similarity)\n",
    "#capec_mapping_hfc.to_csv(\"./mapped_data/hfc_\"+CAPEC_CSV_FILENAME+\"_min\"+str(similarity)+\".csv\", sep=';', index=False)"
   ]
  },
  {
   "cell_type": "markdown",
   "id": "518fecfb",
   "metadata": {},
   "source": [
    "5. Compare ORCA mappings to our mappings"
   ]
  },
  {
   "cell_type": "code",
   "execution_count": null,
   "id": "59b9061a",
   "metadata": {},
   "outputs": [
    {
     "name": "stdout",
     "output_type": "stream",
     "text": [
      "Index(['Name', 'Domain', 'Description', 'CAPEC ID', 'Similarity'], dtype='object')\n",
      "Index(['Name', 'Domain', 'Description', 'CAPEC ID', 'Similarity',\n",
      "       'summary_th_df', 'summary_ca_df'],\n",
      "      dtype='object')\n"
     ]
    }
   ],
   "source": [
    "orca_mappings = pd.read_csv('mapped_data/orca_mappings_min0.55.csv', sep=';')\n",
    "our_mappings = pd.read_csv('mapped_data/hfc_general_threats_capec_mapping_min0.55.csv', sep=';')\n",
    "print(orca_mappings.columns)\n",
    "print(our_mappings.columns)"
   ]
  },
  {
   "cell_type": "code",
   "execution_count": null,
   "id": "aa33d912",
   "metadata": {},
   "outputs": [
    {
     "data": {
      "text/plain": [
       "((190, 5), (163, 7))"
      ]
     },
     "execution_count": 62,
     "metadata": {},
     "output_type": "execute_result"
    }
   ],
   "source": [
    "orca_mappings.shape, our_mappings.shape"
   ]
  },
  {
   "cell_type": "code",
   "execution_count": null,
   "id": "fd89a890",
   "metadata": {},
   "outputs": [
    {
     "data": {
      "text/plain": [
       "(np.float64(0.577509985631579), np.float64(0.5774983157055215))"
      ]
     },
     "execution_count": 63,
     "metadata": {},
     "output_type": "execute_result"
    }
   ],
   "source": [
    "average_similarity_orca = orca_mappings['Similarity'].mean()\n",
    "average_similarity_our = our_mappings['Similarity'].mean()\n",
    "average_similarity_orca, average_similarity_our"
   ]
  },
  {
   "cell_type": "code",
   "execution_count": null,
   "id": "8beb2fbf",
   "metadata": {},
   "outputs": [
    {
     "name": "stdout",
     "output_type": "stream",
     "text": [
      "0.00001167\n"
     ]
    }
   ],
   "source": [
    "diff = average_similarity_orca - average_similarity_our\n",
    "print(f\"{diff:.8f}\")"
   ]
  },
  {
   "cell_type": "code",
   "execution_count": null,
   "id": "9afc5456",
   "metadata": {},
   "outputs": [
    {
     "data": {
      "text/html": [
       "<div>\n",
       "<style scoped>\n",
       "    .dataframe tbody tr th:only-of-type {\n",
       "        vertical-align: middle;\n",
       "    }\n",
       "\n",
       "    .dataframe tbody tr th {\n",
       "        vertical-align: top;\n",
       "    }\n",
       "\n",
       "    .dataframe thead th {\n",
       "        text-align: right;\n",
       "    }\n",
       "</style>\n",
       "<table border=\"1\" class=\"dataframe\">\n",
       "  <thead>\n",
       "    <tr style=\"text-align: right;\">\n",
       "      <th></th>\n",
       "      <th>Name</th>\n",
       "      <th>CAPEC ID</th>\n",
       "      <th>Similarity_orca</th>\n",
       "      <th>Similarity_our</th>\n",
       "    </tr>\n",
       "  </thead>\n",
       "  <tbody>\n",
       "    <tr>\n",
       "      <th>0</th>\n",
       "      <td>T-A1-02</td>\n",
       "      <td>CAPEC-12</td>\n",
       "      <td>0.584865</td>\n",
       "      <td>0.590688</td>\n",
       "    </tr>\n",
       "    <tr>\n",
       "      <th>1</th>\n",
       "      <td>T-A1-02</td>\n",
       "      <td>CAPEC-272</td>\n",
       "      <td>NaN</td>\n",
       "      <td>0.552193</td>\n",
       "    </tr>\n",
       "    <tr>\n",
       "      <th>2</th>\n",
       "      <td>T-A1-02</td>\n",
       "      <td>CAPEC-387</td>\n",
       "      <td>0.596484</td>\n",
       "      <td>0.609855</td>\n",
       "    </tr>\n",
       "    <tr>\n",
       "      <th>3</th>\n",
       "      <td>T-A1-02</td>\n",
       "      <td>CAPEC-388</td>\n",
       "      <td>0.564509</td>\n",
       "      <td>0.583051</td>\n",
       "    </tr>\n",
       "    <tr>\n",
       "      <th>4</th>\n",
       "      <td>T-A1-02</td>\n",
       "      <td>CAPEC-502</td>\n",
       "      <td>NaN</td>\n",
       "      <td>0.556925</td>\n",
       "    </tr>\n",
       "  </tbody>\n",
       "</table>\n",
       "</div>"
      ],
      "text/plain": [
       "      Name   CAPEC ID  Similarity_orca  Similarity_our\n",
       "0  T-A1-02   CAPEC-12         0.584865        0.590688\n",
       "1  T-A1-02  CAPEC-272              NaN        0.552193\n",
       "2  T-A1-02  CAPEC-387         0.596484        0.609855\n",
       "3  T-A1-02  CAPEC-388         0.564509        0.583051\n",
       "4  T-A1-02  CAPEC-502              NaN        0.556925"
      ]
     },
     "execution_count": 77,
     "metadata": {},
     "output_type": "execute_result"
    }
   ],
   "source": [
    "# Merge ORCA and our mappings on 'Name' and 'CAPEC ID'\n",
    "merged_similarities = pd.merge(\n",
    "    orca_mappings[['Name', 'CAPEC ID', 'Similarity']],\n",
    "    our_mappings[['Name', 'CAPEC ID', 'Similarity']],\n",
    "    on=['Name', 'CAPEC ID'],\n",
    "    how='outer',\n",
    "    suffixes=('_orca', '_our')\n",
    ")\n",
    "\n",
    "# Save to CSV\n",
    "merged_similarities.to_csv('./mapped_data/merged_orca_our_similarities.csv', sep=';', index=False)\n",
    "\n",
    "# Display the first few rows for verification\n",
    "merged_similarities.head()"
   ]
  },
  {
   "cell_type": "code",
   "execution_count": null,
   "id": "7ab1f3e0",
   "metadata": {},
   "outputs": [
    {
     "name": "stdout",
     "output_type": "stream",
     "text": [
      "Threats in ORCA mappings but not in our mappings: {'T-AppLCM-05', 'T-SMO-28', 'T-GEN-01', 'T-O-RAN-09', 'T-VL-01', 'T-PHYS-01', 'T-R1-03'}\n",
      "Threats in our mappings but not in ORCA mappings: {'T-NEAR-RT-05', 'T-VM-C-02'}\n"
     ]
    }
   ],
   "source": [
    "threats_in_orca_not_in_our = set(orca_mappings['Name']) - set(our_mappings['Name'])\n",
    "print(\"Threats in ORCA mappings but not in our mappings:\", threats_in_orca_not_in_our)\n",
    "threats_in_our_not_in_orca = set(our_mappings['Name']) - set(orca_mappings['Name'])\n",
    "print(\"Threats in our mappings but not in ORCA mappings:\", threats_in_our_not_in_orca)  "
   ]
  },
  {
   "cell_type": "code",
   "execution_count": null,
   "id": "f3795aa9",
   "metadata": {},
   "outputs": [
    {
     "name": "stdout",
     "output_type": "stream",
     "text": [
      "Name and Capec ID combinations where one similarity is missing:\n",
      "           Name   CAPEC ID\n",
      "1       T-A1-02  CAPEC-272\n",
      "4       T-A1-02  CAPEC-502\n",
      "10      T-A1-03  CAPEC-502\n",
      "11      T-A1-03   CAPEC-94\n",
      "13     T-AAL-05  CAPEC-458\n",
      "16     T-AAL-06  CAPEC-401\n",
      "17     T-AAL-06  CAPEC-440\n",
      "18     T-AAL-06  CAPEC-452\n",
      "22  T-AppLCM-01  CAPEC-180\n",
      "24  T-AppLCM-01  CAPEC-212\n"
     ]
    }
   ],
   "source": [
    "# Name and Capec ID combinations where one similarity is missing\n",
    "missing_similarities = merged_similarities[(merged_similarities['Similarity_orca'].isnull()) | (merged_similarities['Similarity_our'].isnull())]\n",
    "print(\"Name and Capec ID combinations where one similarity is missing:\")\n",
    "print(missing_similarities[['Name', 'CAPEC ID']].head(10))  # Display first 10 for brevity"
   ]
  },
  {
   "cell_type": "code",
   "execution_count": null,
   "id": "61df266c",
   "metadata": {},
   "outputs": [
    {
     "data": {
      "text/html": [
       "<div>\n",
       "<style scoped>\n",
       "    .dataframe tbody tr th:only-of-type {\n",
       "        vertical-align: middle;\n",
       "    }\n",
       "\n",
       "    .dataframe tbody tr th {\n",
       "        vertical-align: top;\n",
       "    }\n",
       "\n",
       "    .dataframe thead th {\n",
       "        text-align: right;\n",
       "    }\n",
       "</style>\n",
       "<table border=\"1\" class=\"dataframe\">\n",
       "  <thead>\n",
       "    <tr style=\"text-align: right;\">\n",
       "      <th></th>\n",
       "      <th>Name</th>\n",
       "      <th>CAPEC ID</th>\n",
       "      <th>Similarity_orca</th>\n",
       "      <th>Similarity_our</th>\n",
       "    </tr>\n",
       "  </thead>\n",
       "  <tbody>\n",
       "    <tr>\n",
       "      <th>0</th>\n",
       "      <td>T-A1-02</td>\n",
       "      <td>CAPEC-12</td>\n",
       "      <td>0.584865</td>\n",
       "      <td>0.590688</td>\n",
       "    </tr>\n",
       "    <tr>\n",
       "      <th>2</th>\n",
       "      <td>T-A1-02</td>\n",
       "      <td>CAPEC-387</td>\n",
       "      <td>0.596484</td>\n",
       "      <td>0.609855</td>\n",
       "    </tr>\n",
       "    <tr>\n",
       "      <th>3</th>\n",
       "      <td>T-A1-02</td>\n",
       "      <td>CAPEC-388</td>\n",
       "      <td>0.564509</td>\n",
       "      <td>0.583051</td>\n",
       "    </tr>\n",
       "    <tr>\n",
       "      <th>5</th>\n",
       "      <td>T-A1-02</td>\n",
       "      <td>CAPEC-94</td>\n",
       "      <td>0.579672</td>\n",
       "      <td>0.553981</td>\n",
       "    </tr>\n",
       "    <tr>\n",
       "      <th>6</th>\n",
       "      <td>T-A1-03</td>\n",
       "      <td>CAPEC-12</td>\n",
       "      <td>0.566429</td>\n",
       "      <td>0.561994</td>\n",
       "    </tr>\n",
       "  </tbody>\n",
       "</table>\n",
       "</div>"
      ],
      "text/plain": [
       "      Name   CAPEC ID  Similarity_orca  Similarity_our\n",
       "0  T-A1-02   CAPEC-12         0.584865        0.590688\n",
       "2  T-A1-02  CAPEC-387         0.596484        0.609855\n",
       "3  T-A1-02  CAPEC-388         0.564509        0.583051\n",
       "5  T-A1-02   CAPEC-94         0.579672        0.553981\n",
       "6  T-A1-03   CAPEC-12         0.566429        0.561994"
      ]
     },
     "execution_count": 79,
     "metadata": {},
     "output_type": "execute_result"
    }
   ],
   "source": [
    "# only keep the rows where both similarities are not null\n",
    "merged_similarities_both_similarities_exist = merged_similarities.dropna(subset=['Similarity_orca', 'Similarity_our'])\n",
    "merged_similarities_both_similarities_exist.head(5)"
   ]
  },
  {
   "cell_type": "code",
   "execution_count": null,
   "id": "8ae838c2",
   "metadata": {},
   "outputs": [
    {
     "name": "stderr",
     "output_type": "stream",
     "text": [
      "C:\\Users\\domep\\AppData\\Local\\Temp\\ipykernel_17896\\448733076.py:2: SettingWithCopyWarning: \n",
      "A value is trying to be set on a copy of a slice from a DataFrame.\n",
      "Try using .loc[row_indexer,col_indexer] = value instead\n",
      "\n",
      "See the caveats in the documentation: https://pandas.pydata.org/pandas-docs/stable/user_guide/indexing.html#returning-a-view-versus-a-copy\n",
      "  merged_similarities_both_similarities_exist['Similarity_difference'] = (merged_similarities_both_similarities_exist['Similarity_orca'] - merged_similarities_both_similarities_exist['Similarity_our']).abs()\n"
     ]
    },
    {
     "data": {
      "text/html": [
       "<div>\n",
       "<style scoped>\n",
       "    .dataframe tbody tr th:only-of-type {\n",
       "        vertical-align: middle;\n",
       "    }\n",
       "\n",
       "    .dataframe tbody tr th {\n",
       "        vertical-align: top;\n",
       "    }\n",
       "\n",
       "    .dataframe thead th {\n",
       "        text-align: right;\n",
       "    }\n",
       "</style>\n",
       "<table border=\"1\" class=\"dataframe\">\n",
       "  <thead>\n",
       "    <tr style=\"text-align: right;\">\n",
       "      <th></th>\n",
       "      <th>Name</th>\n",
       "      <th>CAPEC ID</th>\n",
       "      <th>Similarity_orca</th>\n",
       "      <th>Similarity_our</th>\n",
       "      <th>Similarity_difference</th>\n",
       "    </tr>\n",
       "  </thead>\n",
       "  <tbody>\n",
       "    <tr>\n",
       "      <th>0</th>\n",
       "      <td>T-A1-02</td>\n",
       "      <td>CAPEC-12</td>\n",
       "      <td>0.584865</td>\n",
       "      <td>0.590688</td>\n",
       "      <td>0.005823</td>\n",
       "    </tr>\n",
       "    <tr>\n",
       "      <th>2</th>\n",
       "      <td>T-A1-02</td>\n",
       "      <td>CAPEC-387</td>\n",
       "      <td>0.596484</td>\n",
       "      <td>0.609855</td>\n",
       "      <td>0.013371</td>\n",
       "    </tr>\n",
       "    <tr>\n",
       "      <th>3</th>\n",
       "      <td>T-A1-02</td>\n",
       "      <td>CAPEC-388</td>\n",
       "      <td>0.564509</td>\n",
       "      <td>0.583051</td>\n",
       "      <td>0.018542</td>\n",
       "    </tr>\n",
       "    <tr>\n",
       "      <th>5</th>\n",
       "      <td>T-A1-02</td>\n",
       "      <td>CAPEC-94</td>\n",
       "      <td>0.579672</td>\n",
       "      <td>0.553981</td>\n",
       "      <td>0.025691</td>\n",
       "    </tr>\n",
       "    <tr>\n",
       "      <th>6</th>\n",
       "      <td>T-A1-03</td>\n",
       "      <td>CAPEC-12</td>\n",
       "      <td>0.566429</td>\n",
       "      <td>0.561994</td>\n",
       "      <td>0.004435</td>\n",
       "    </tr>\n",
       "  </tbody>\n",
       "</table>\n",
       "</div>"
      ],
      "text/plain": [
       "      Name   CAPEC ID  Similarity_orca  Similarity_our  Similarity_difference\n",
       "0  T-A1-02   CAPEC-12         0.584865        0.590688               0.005823\n",
       "2  T-A1-02  CAPEC-387         0.596484        0.609855               0.013371\n",
       "3  T-A1-02  CAPEC-388         0.564509        0.583051               0.018542\n",
       "5  T-A1-02   CAPEC-94         0.579672        0.553981               0.025691\n",
       "6  T-A1-03   CAPEC-12         0.566429        0.561994               0.004435"
      ]
     },
     "execution_count": 80,
     "metadata": {},
     "output_type": "execute_result"
    }
   ],
   "source": [
    "# difference between the two similarities\n",
    "merged_similarities_both_similarities_exist['Similarity_difference'] = (merged_similarities_both_similarities_exist['Similarity_orca'] - merged_similarities_both_similarities_exist['Similarity_our']).abs()\n",
    "merged_similarities_both_similarities_exist.head(5)"
   ]
  },
  {
   "cell_type": "code",
   "execution_count": null,
   "id": "1539139d",
   "metadata": {},
   "outputs": [
    {
     "name": "stdout",
     "output_type": "stream",
     "text": [
      "Average similarity difference: 0.011511884714285709\n"
     ]
    }
   ],
   "source": [
    "average_similarity_difference = merged_similarities_both_similarities_exist['Similarity_difference'].mean()\n",
    "print(\"Average similarity difference:\", average_similarity_difference)"
   ]
  },
  {
   "cell_type": "code",
   "execution_count": null,
   "id": "91c88cdd",
   "metadata": {},
   "outputs": [
    {
     "name": "stdout",
     "output_type": "stream",
     "text": [
      "               Name   CAPEC ID  Similarity_orca  Similarity_our  \\\n",
      "163  T-SharedORU-07  CAPEC-593         0.643427        0.599111   \n",
      "\n",
      "     Similarity_difference  \n",
      "163               0.044316  \n"
     ]
    }
   ],
   "source": [
    "largest_difference_row = merged_similarities_both_similarities_exist[merged_similarities_both_similarities_exist['Similarity_difference'] == merged_similarities_both_similarities_exist['Similarity_difference'].max()]\n",
    "print(largest_difference_row)    "
   ]
  },
  {
   "cell_type": "code",
   "execution_count": null,
   "id": "19a9a79a",
   "metadata": {},
   "outputs": [
    {
     "name": "stdout",
     "output_type": "stream",
     "text": [
      "               Name   CAPEC ID  Similarity_orca  Similarity_our  \\\n",
      "168  T-SharedORU-18  CAPEC-114         0.576321        0.576378   \n",
      "\n",
      "     Similarity_difference  \n",
      "168               0.000057  \n"
     ]
    }
   ],
   "source": [
    "smallest_difference_row = merged_similarities_both_similarities_exist[merged_similarities_both_similarities_exist['Similarity_difference'] == merged_similarities_both_similarities_exist['Similarity_difference'].min()]\n",
    "print(smallest_difference_row)"
   ]
  },
  {
   "cell_type": "code",
   "execution_count": null,
   "id": "6144dac8",
   "metadata": {},
   "outputs": [
    {
     "name": "stdout",
     "output_type": "stream",
     "text": [
      "Standard deviation of similarity differences: 0.008790685757417642\n"
     ]
    }
   ],
   "source": [
    "standard_deviation_difference = merged_similarities_both_similarities_exist['Similarity_difference'].std()\n",
    "print(\"Standard deviation of similarity differences:\", standard_deviation_difference)"
   ]
  },
  {
   "cell_type": "code",
   "execution_count": null,
   "id": "f61b64f9",
   "metadata": {},
   "outputs": [
    {
     "data": {
      "text/html": [
       "<div>\n",
       "<style scoped>\n",
       "    .dataframe tbody tr th:only-of-type {\n",
       "        vertical-align: middle;\n",
       "    }\n",
       "\n",
       "    .dataframe tbody tr th {\n",
       "        vertical-align: top;\n",
       "    }\n",
       "\n",
       "    .dataframe thead th {\n",
       "        text-align: right;\n",
       "    }\n",
       "</style>\n",
       "<table border=\"1\" class=\"dataframe\">\n",
       "  <thead>\n",
       "    <tr style=\"text-align: right;\">\n",
       "      <th></th>\n",
       "      <th>Name</th>\n",
       "      <th>Domain</th>\n",
       "      <th>Description</th>\n",
       "      <th>CAPEC ID</th>\n",
       "      <th>Similarity</th>\n",
       "    </tr>\n",
       "  </thead>\n",
       "  <tbody>\n",
       "    <tr>\n",
       "      <th>45</th>\n",
       "      <td>T-R1-03</td>\n",
       "      <td>enterprise-attack</td>\n",
       "      <td>Malicious actor bypasses authentication to Request Data</td>\n",
       "      <td>CAPEC-114</td>\n",
       "      <td>0.558573</td>\n",
       "    </tr>\n",
       "    <tr>\n",
       "      <th>69</th>\n",
       "      <td>T-SMO-28</td>\n",
       "      <td>enterprise-attack</td>\n",
       "      <td>External attacker uses External interface to exploit API vulnerability to gain access to SMO</td>\n",
       "      <td>CAPEC-113</td>\n",
       "      <td>0.565503</td>\n",
       "    </tr>\n",
       "    <tr>\n",
       "      <th>80</th>\n",
       "      <td>T-O-RAN-09</td>\n",
       "      <td>enterprise-attack</td>\n",
       "      <td>An attacker compromises O-RAN components integrity and availability</td>\n",
       "      <td>CAPEC-440</td>\n",
       "      <td>0.565102</td>\n",
       "    </tr>\n",
       "    <tr>\n",
       "      <th>83</th>\n",
       "      <td>T-AppLCM-05</td>\n",
       "      <td>enterprise-attack</td>\n",
       "      <td>Malicious actor modifies application’s SecurityDescriptor</td>\n",
       "      <td>CAPEC-698</td>\n",
       "      <td>0.551221</td>\n",
       "    </tr>\n",
       "    <tr>\n",
       "      <th>94</th>\n",
       "      <td>T-GEN-01</td>\n",
       "      <td>enterprise-attack</td>\n",
       "      <td>Software flaw attack</td>\n",
       "      <td>CAPEC-480</td>\n",
       "      <td>0.562108</td>\n",
       "    </tr>\n",
       "    <tr>\n",
       "      <th>97</th>\n",
       "      <td>T-VL-01</td>\n",
       "      <td>enterprise-attack</td>\n",
       "      <td>VM/Container hyperjacking attack</td>\n",
       "      <td>CAPEC-480</td>\n",
       "      <td>0.558357</td>\n",
       "    </tr>\n",
       "    <tr>\n",
       "      <th>101</th>\n",
       "      <td>T-PHYS-01</td>\n",
       "      <td>enterprise-attack</td>\n",
       "      <td>An intruder into a site gains physical access to O-RAN components to cause damage or access sensitive data</td>\n",
       "      <td>CAPEC-401</td>\n",
       "      <td>0.551274</td>\n",
       "    </tr>\n",
       "    <tr>\n",
       "      <th>141</th>\n",
       "      <td>T-AppLCM-05</td>\n",
       "      <td>enterprise-attack</td>\n",
       "      <td>Malicious actor modifies application’s SecurityDescriptor</td>\n",
       "      <td>CAPEC-502</td>\n",
       "      <td>0.579609</td>\n",
       "    </tr>\n",
       "    <tr>\n",
       "      <th>181</th>\n",
       "      <td>T-AppLCM-05</td>\n",
       "      <td>enterprise-attack</td>\n",
       "      <td>Malicious actor modifies application’s SecurityDescriptor</td>\n",
       "      <td>CAPEC-445</td>\n",
       "      <td>0.558988</td>\n",
       "    </tr>\n",
       "  </tbody>\n",
       "</table>\n",
       "</div>"
      ],
      "text/plain": [
       "            Name             Domain  \\\n",
       "45       T-R1-03  enterprise-attack   \n",
       "69      T-SMO-28  enterprise-attack   \n",
       "80    T-O-RAN-09  enterprise-attack   \n",
       "83   T-AppLCM-05  enterprise-attack   \n",
       "94      T-GEN-01  enterprise-attack   \n",
       "97       T-VL-01  enterprise-attack   \n",
       "101    T-PHYS-01  enterprise-attack   \n",
       "141  T-AppLCM-05  enterprise-attack   \n",
       "181  T-AppLCM-05  enterprise-attack   \n",
       "\n",
       "                                                                                                    Description  \\\n",
       "45                                                     Malicious actor bypasses authentication to Request Data    \n",
       "69                 External attacker uses External interface to exploit API vulnerability to gain access to SMO   \n",
       "80                                          An attacker compromises O-RAN components integrity and availability   \n",
       "83                                                    Malicious actor modifies application’s SecurityDescriptor   \n",
       "94                                                                                         Software flaw attack   \n",
       "97                                                                             VM/Container hyperjacking attack   \n",
       "101  An intruder into a site gains physical access to O-RAN components to cause damage or access sensitive data   \n",
       "141                                                   Malicious actor modifies application’s SecurityDescriptor   \n",
       "181                                                   Malicious actor modifies application’s SecurityDescriptor   \n",
       "\n",
       "      CAPEC ID  Similarity  \n",
       "45   CAPEC-114    0.558573  \n",
       "69   CAPEC-113    0.565503  \n",
       "80   CAPEC-440    0.565102  \n",
       "83   CAPEC-698    0.551221  \n",
       "94   CAPEC-480    0.562108  \n",
       "97   CAPEC-480    0.558357  \n",
       "101  CAPEC-401    0.551274  \n",
       "141  CAPEC-502    0.579609  \n",
       "181  CAPEC-445    0.558988  "
      ]
     },
     "execution_count": 66,
     "metadata": {},
     "output_type": "execute_result"
    }
   ],
   "source": [
    "threats_in_orca_not_in_our = orca_mappings[~orca_mappings['Name'].isin(our_mappings['Name'])]\n",
    "threats_in_orca_not_in_our"
   ]
  },
  {
   "cell_type": "code",
   "execution_count": null,
   "id": "4add7ff2",
   "metadata": {},
   "outputs": [
    {
     "data": {
      "text/html": [
       "<div>\n",
       "<style scoped>\n",
       "    .dataframe tbody tr th:only-of-type {\n",
       "        vertical-align: middle;\n",
       "    }\n",
       "\n",
       "    .dataframe tbody tr th {\n",
       "        vertical-align: top;\n",
       "    }\n",
       "\n",
       "    .dataframe thead th {\n",
       "        text-align: right;\n",
       "    }\n",
       "</style>\n",
       "<table border=\"1\" class=\"dataframe\">\n",
       "  <thead>\n",
       "    <tr style=\"text-align: right;\">\n",
       "      <th></th>\n",
       "      <th>Name</th>\n",
       "      <th>Domain</th>\n",
       "      <th>Description</th>\n",
       "      <th>CAPEC ID</th>\n",
       "      <th>Similarity</th>\n",
       "      <th>summary_th_df</th>\n",
       "      <th>summary_th_df.1</th>\n",
       "      <th>summary_ca_df</th>\n",
       "    </tr>\n",
       "  </thead>\n",
       "  <tbody>\n",
       "    <tr>\n",
       "      <th>25</th>\n",
       "      <td>T-NEAR-RT-05</td>\n",
       "      <td>enterprise-attack</td>\n",
       "      <td>Attackers exploit non uniquely identified xApps using a trusted xAppID to access to resources and services which they are not entitled to use.</td>\n",
       "      <td>CAPEC-21</td>\n",
       "      <td>0.551030</td>\n",
       "      <td>A Threat with the title Attackers exploit non uniquely identified xApps using a trusted xAppID to access to resources and services which they are not entitled to use. and the descriptionNot uniquely identifying xApps using a trusted xAppID potentially entails certain threats and potential attacks:\\n- A non-unique xAppID might cause misidentification of an xApp, possibly allowing a potentially malicious xApp to request certain services (theft of services), information (data leakage), or alter existing information\\n- A malicious xApp might use the xAppID assigned to a legitimate xApp to request services or information from Near-RT RIC platform\\n- A non-unique xApp ID could make it impossible to accurately assign actions to the correct xApp\\n- A non-unique xApp ID could make it difficult to recognize that a malicious xApp is in the environment</td>\n",
       "      <td>A Threat with the title Attackers exploit non uniquely identified xApps using a trusted xAppID to access to resources and services which they are not entitled to use. and the descriptionNot uniquely identifying xApps using a trusted xAppID potentially entails certain threats and potential attacks:\\n- A non-unique xAppID might cause misidentification of an xApp, possibly allowing a potentially malicious xApp to request certain services (theft of services), information (data leakage), or alter existing information\\n- A malicious xApp might use the xAppID assigned to a legitimate xApp to request services or information from Near-RT RIC platform\\n- A non-unique xApp ID could make it impossible to accurately assign actions to the correct xApp\\n- A non-unique xApp ID could make it difficult to recognize that a malicious xApp is in the environment</td>\n",
       "      <td>A CAPEC with the title Exploitation of Trusted Identifiers. The description of this CAPEC is:\\n            &lt;xhtml:p&gt;An adversary guesses, obtains, or \"rides\" a trusted identifier (e.g. session ID, resource ID, cookie, etc.) to perform authorized actions under the guise of an authenticated user or service.&lt;/xhtml:p&gt;\\n         . The Domain of this is: Software</td>\n",
       "    </tr>\n",
       "    <tr>\n",
       "      <th>52</th>\n",
       "      <td>T-VM-C-02</td>\n",
       "      <td>enterprise-attack</td>\n",
       "      <td>VM/Container escape attack</td>\n",
       "      <td>CAPEC-480</td>\n",
       "      <td>0.594237</td>\n",
       "      <td>A Threat with the title VM/Container escape attack and the descriptionVNF/CNF deployed on the same physical machine as tenants share the same host kernel and host OS resources. Lack of strong isolation between the VMs/Containers and the host allows for a potential risk of a rogue VM/Container escaping the VM/Container confinement and impacting other co-hosted VMs/Containers. In others, an attacker may deploy a new malicious VM/Container configured without network rules, user limitations, etc. to bypass existing defenses within O-Cloud infrastructure.\\nAttacker deploys malicious VM/Container to escapes the host (Hypervisor/Container Engine/Host OS) and reaches the server’s hardware, then the malicious VM/Container can gain root access to the whole server where it resides. This gives the malicious VM/Container full control on all the VMs/Containers hosted on the same hacked server. This could allow an attacker to undermine the confidentiality, integrity and/or availability of VNFs/CNFs resources.\\nContainers can be deployed by various means, such as via Docker's create and start APIs or via a web application such as the Kubernetes dashboard or Kubeflow. Adversaries may deploy containers based on retrieved or built malicious images or from benign images that download and execute malicious payloads at runtime.\\nWhen a malicious VM/Container escapes isolation, it can gain full control over the underlying host and cause any of the below serious threats:\\n• Attacker would gain the ability to mount attacks on the host or compromise the host functionalities\\n• Compromise the confidentiality &amp; integrity of co-hosted VMs/Containers and tenants\\n• Launch DDOS attacks on co-hosted VMs/Containers and host services thereby degrading their performance \\n• Introduce new vulnerabilities in host to be used for future attacks\\n• Lack of network segmentation could potentially expose other VMs/Containers in the environment to attack. An example of this could be reconnaissance, exploitation and subsequent lateral movement to another host within the cluster.</td>\n",
       "      <td>A Threat with the title VM/Container escape attack and the descriptionVNF/CNF deployed on the same physical machine as tenants share the same host kernel and host OS resources. Lack of strong isolation between the VMs/Containers and the host allows for a potential risk of a rogue VM/Container escaping the VM/Container confinement and impacting other co-hosted VMs/Containers. In others, an attacker may deploy a new malicious VM/Container configured without network rules, user limitations, etc. to bypass existing defenses within O-Cloud infrastructure.\\nAttacker deploys malicious VM/Container to escapes the host (Hypervisor/Container Engine/Host OS) and reaches the server’s hardware, then the malicious VM/Container can gain root access to the whole server where it resides. This gives the malicious VM/Container full control on all the VMs/Containers hosted on the same hacked server. This could allow an attacker to undermine the confidentiality, integrity and/or availability of VNFs/CNFs resources.\\nContainers can be deployed by various means, such as via Docker's create and start APIs or via a web application such as the Kubernetes dashboard or Kubeflow. Adversaries may deploy containers based on retrieved or built malicious images or from benign images that download and execute malicious payloads at runtime.\\nWhen a malicious VM/Container escapes isolation, it can gain full control over the underlying host and cause any of the below serious threats:\\n• Attacker would gain the ability to mount attacks on the host or compromise the host functionalities\\n• Compromise the confidentiality &amp; integrity of co-hosted VMs/Containers and tenants\\n• Launch DDOS attacks on co-hosted VMs/Containers and host services thereby degrading their performance \\n• Introduce new vulnerabilities in host to be used for future attacks\\n• Lack of network segmentation could potentially expose other VMs/Containers in the environment to attack. An example of this could be reconnaissance, exploitation and subsequent lateral movement to another host within the cluster.</td>\n",
       "      <td>A CAPEC with the title Escaping Virtualization. The description of this CAPEC is:An adversary gains access to an application, service, or device with the privileges of an authorized or privileged user by escaping the confines of a virtualized environment. The adversary is then able to access resources or execute unauthorized code within the host environment, generally with the privileges of the user running the virtualized process. Successfully executing an attack of this type is often the first step in executing more complex attacks.. The Domain of this is: Software</td>\n",
       "    </tr>\n",
       "  </tbody>\n",
       "</table>\n",
       "</div>"
      ],
      "text/plain": [
       "            Name             Domain  \\\n",
       "25  T-NEAR-RT-05  enterprise-attack   \n",
       "52     T-VM-C-02  enterprise-attack   \n",
       "\n",
       "                                                                                                                                       Description  \\\n",
       "25  Attackers exploit non uniquely identified xApps using a trusted xAppID to access to resources and services which they are not entitled to use.   \n",
       "52                                                                                                                      VM/Container escape attack   \n",
       "\n",
       "     CAPEC ID  Similarity  \\\n",
       "25   CAPEC-21    0.551030   \n",
       "52  CAPEC-480    0.594237   \n",
       "\n",
       "                                                                                                                                                                                                                                                                                                                                                                                                                                                                                                                                                                                                                                                                                                                                                                                                                                                                                                                                                                                                                                                                                                                                                                                                                                                                                                                                                                                                                                                                                                                                                                                                                                                                                                                                                                                                                                                                                                                                                                                                                                                                                                                                             summary_th_df  \\\n",
       "25                                                                                                                                                                                                                                                                                                                                                                                                                                                                                                                                                                                                                                                                                                                                                                                                                                                                                                                                                                                                                                                                                                                                                                                                                                                                    A Threat with the title Attackers exploit non uniquely identified xApps using a trusted xAppID to access to resources and services which they are not entitled to use. and the descriptionNot uniquely identifying xApps using a trusted xAppID potentially entails certain threats and potential attacks:\\n- A non-unique xAppID might cause misidentification of an xApp, possibly allowing a potentially malicious xApp to request certain services (theft of services), information (data leakage), or alter existing information\\n- A malicious xApp might use the xAppID assigned to a legitimate xApp to request services or information from Near-RT RIC platform\\n- A non-unique xApp ID could make it impossible to accurately assign actions to the correct xApp\\n- A non-unique xApp ID could make it difficult to recognize that a malicious xApp is in the environment   \n",
       "52  A Threat with the title VM/Container escape attack and the descriptionVNF/CNF deployed on the same physical machine as tenants share the same host kernel and host OS resources. Lack of strong isolation between the VMs/Containers and the host allows for a potential risk of a rogue VM/Container escaping the VM/Container confinement and impacting other co-hosted VMs/Containers. In others, an attacker may deploy a new malicious VM/Container configured without network rules, user limitations, etc. to bypass existing defenses within O-Cloud infrastructure.\\nAttacker deploys malicious VM/Container to escapes the host (Hypervisor/Container Engine/Host OS) and reaches the server’s hardware, then the malicious VM/Container can gain root access to the whole server where it resides. This gives the malicious VM/Container full control on all the VMs/Containers hosted on the same hacked server. This could allow an attacker to undermine the confidentiality, integrity and/or availability of VNFs/CNFs resources.\\nContainers can be deployed by various means, such as via Docker's create and start APIs or via a web application such as the Kubernetes dashboard or Kubeflow. Adversaries may deploy containers based on retrieved or built malicious images or from benign images that download and execute malicious payloads at runtime.\\nWhen a malicious VM/Container escapes isolation, it can gain full control over the underlying host and cause any of the below serious threats:\\n• Attacker would gain the ability to mount attacks on the host or compromise the host functionalities\\n• Compromise the confidentiality & integrity of co-hosted VMs/Containers and tenants\\n• Launch DDOS attacks on co-hosted VMs/Containers and host services thereby degrading their performance \\n• Introduce new vulnerabilities in host to be used for future attacks\\n• Lack of network segmentation could potentially expose other VMs/Containers in the environment to attack. An example of this could be reconnaissance, exploitation and subsequent lateral movement to another host within the cluster.   \n",
       "\n",
       "                                                                                                                                                                                                                                                                                                                                                                                                                                                                                                                                                                                                                                                                                                                                                                                                                                                                                                                                                                                                                                                                                                                                                                                                                                                                                                                                                                                                                                                                                                                                                                                                                                                                                                                                                                                                                                                                                                                                                                                                                                                                                                                                           summary_th_df.1  \\\n",
       "25                                                                                                                                                                                                                                                                                                                                                                                                                                                                                                                                                                                                                                                                                                                                                                                                                                                                                                                                                                                                                                                                                                                                                                                                                                                                    A Threat with the title Attackers exploit non uniquely identified xApps using a trusted xAppID to access to resources and services which they are not entitled to use. and the descriptionNot uniquely identifying xApps using a trusted xAppID potentially entails certain threats and potential attacks:\\n- A non-unique xAppID might cause misidentification of an xApp, possibly allowing a potentially malicious xApp to request certain services (theft of services), information (data leakage), or alter existing information\\n- A malicious xApp might use the xAppID assigned to a legitimate xApp to request services or information from Near-RT RIC platform\\n- A non-unique xApp ID could make it impossible to accurately assign actions to the correct xApp\\n- A non-unique xApp ID could make it difficult to recognize that a malicious xApp is in the environment   \n",
       "52  A Threat with the title VM/Container escape attack and the descriptionVNF/CNF deployed on the same physical machine as tenants share the same host kernel and host OS resources. Lack of strong isolation between the VMs/Containers and the host allows for a potential risk of a rogue VM/Container escaping the VM/Container confinement and impacting other co-hosted VMs/Containers. In others, an attacker may deploy a new malicious VM/Container configured without network rules, user limitations, etc. to bypass existing defenses within O-Cloud infrastructure.\\nAttacker deploys malicious VM/Container to escapes the host (Hypervisor/Container Engine/Host OS) and reaches the server’s hardware, then the malicious VM/Container can gain root access to the whole server where it resides. This gives the malicious VM/Container full control on all the VMs/Containers hosted on the same hacked server. This could allow an attacker to undermine the confidentiality, integrity and/or availability of VNFs/CNFs resources.\\nContainers can be deployed by various means, such as via Docker's create and start APIs or via a web application such as the Kubernetes dashboard or Kubeflow. Adversaries may deploy containers based on retrieved or built malicious images or from benign images that download and execute malicious payloads at runtime.\\nWhen a malicious VM/Container escapes isolation, it can gain full control over the underlying host and cause any of the below serious threats:\\n• Attacker would gain the ability to mount attacks on the host or compromise the host functionalities\\n• Compromise the confidentiality & integrity of co-hosted VMs/Containers and tenants\\n• Launch DDOS attacks on co-hosted VMs/Containers and host services thereby degrading their performance \\n• Introduce new vulnerabilities in host to be used for future attacks\\n• Lack of network segmentation could potentially expose other VMs/Containers in the environment to attack. An example of this could be reconnaissance, exploitation and subsequent lateral movement to another host within the cluster.   \n",
       "\n",
       "                                                                                                                                                                                                                                                                                                                                                                                                                                                                                                                                                                                    summary_ca_df  \n",
       "25                                                                                                                                                                                                                       A CAPEC with the title Exploitation of Trusted Identifiers. The description of this CAPEC is:\\n            <xhtml:p>An adversary guesses, obtains, or \"rides\" a trusted identifier (e.g. session ID, resource ID, cookie, etc.) to perform authorized actions under the guise of an authenticated user or service.</xhtml:p>\\n         . The Domain of this is: Software  \n",
       "52  A CAPEC with the title Escaping Virtualization. The description of this CAPEC is:An adversary gains access to an application, service, or device with the privileges of an authorized or privileged user by escaping the confines of a virtualized environment. The adversary is then able to access resources or execute unauthorized code within the host environment, generally with the privileges of the user running the virtualized process. Successfully executing an attack of this type is often the first step in executing more complex attacks.. The Domain of this is: Software  "
      ]
     },
     "execution_count": 276,
     "metadata": {},
     "output_type": "execute_result"
    }
   ],
   "source": [
    "threats_in_our_not_in_orca = our_mappings[~our_mappings['Name'].isin(orca_mappings['Name'])]\n",
    "threats_in_our_not_in_orca"
   ]
  },
  {
   "cell_type": "markdown",
   "id": "ea0e5b6f",
   "metadata": {},
   "source": [
    "### Preparation for Prompt Engineering"
   ]
  },
  {
   "cell_type": "code",
   "execution_count": null,
   "id": "d6f9aa40",
   "metadata": {},
   "outputs": [],
   "source": [
    "df_threats.columns"
   ]
  },
  {
   "cell_type": "code",
   "execution_count": null,
   "id": "4a60c611",
   "metadata": {},
   "outputs": [],
   "source": [
    "threat_data_for_PE = df_threats"
   ]
  },
  {
   "cell_type": "markdown",
   "id": "6106938e",
   "metadata": {},
   "source": [
    "### Preparation for RAG"
   ]
  },
  {
   "cell_type": "markdown",
   "id": "e761d080",
   "metadata": {},
   "source": [
    "### Preparation for Fine Tuning"
   ]
  },
  {
   "cell_type": "code",
   "execution_count": null,
   "id": "a5f5d26d",
   "metadata": {},
   "outputs": [],
   "source": []
  },
  {
   "cell_type": "markdown",
   "id": "ae2613cc",
   "metadata": {},
   "source": [
    "## Modeling"
   ]
  },
  {
   "cell_type": "markdown",
   "id": "f1788469",
   "metadata": {},
   "source": [
    "## Evaluation"
   ]
  },
  {
   "cell_type": "code",
   "execution_count": null,
   "id": "35848faf",
   "metadata": {},
   "outputs": [],
   "source": []
  }
 ],
 "metadata": {
  "kernelspec": {
   "display_name": "MasterThesis_LLM_optimization_ORCA",
   "language": "python",
   "name": "python3"
  },
  "language_info": {
   "codemirror_mode": {
    "name": "ipython",
    "version": 3
   },
   "file_extension": ".py",
   "mimetype": "text/x-python",
   "name": "python",
   "nbconvert_exporter": "python",
   "pygments_lexer": "ipython3",
   "version": "3.13.3"
  }
 },
 "nbformat": 4,
 "nbformat_minor": 5
}
