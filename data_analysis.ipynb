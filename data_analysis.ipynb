{
 "cells": [
  {
   "cell_type": "markdown",
   "id": "afcf284f",
   "metadata": {},
   "source": [
    "# CRISP DM\n"
   ]
  },
  {
   "cell_type": "markdown",
   "id": "ba15c3be",
   "metadata": {},
   "source": [
    "## Problem Understanding:\n",
    "A central step in the ORCA pipeline is the automated mapping of natural language threat\n",
    "descriptions to structured attack patterns from the Common Attack Pattern Enumeration\n",
    "and Classification (CAPEC) framework. This process—referred to as Threat-to-CAPEC\n",
    "Mapping—aims to translate unstructured textual threat inputs into standardized, machine-\n",
    "readable representations that describe how an attacker might exploit a given vulnerability.\n",
    "This mapping is critical for enabling further steps in the security analysis process, such\n",
    "as correlating threats with known vulnerabilities (CWEs, CVEs), assessing risk using\n",
    "scoring systems like CVSS, and informing mitigation strategies. However, the task poses\n",
    "several inherent challenges:\n",
    "Ambiguity: Threat descriptions are often informal, incomplete, or context-dependent.\n",
    "Terminology mismatch: Natural language inputs may not directly align with the technical\n",
    "vocabulary used in CAPEC definitions.\n",
    "Granularity: A single threat may correspond to multiple CAPECs at varying levels of\n",
    "abstraction, requiring semantic reasoning to determine relevance.\n",
    "Solving this problem involves designing a system capable of understanding the semantics\n",
    "of threat descriptions and reliably identifying the most appropriate CAPEC entries. This\n",
    "step must balance accuracy, scalability, and interpretability to support reliable, automated\n",
    "security assessments within the broader ORCA framework."
   ]
  },
  {
   "cell_type": "markdown",
   "id": "28377b02",
   "metadata": {},
   "source": [
    "## Data Understanding"
   ]
  },
  {
   "cell_type": "code",
   "execution_count": 3,
   "id": "92b7bdae",
   "metadata": {},
   "outputs": [],
   "source": [
    "# imports\n",
    "import pandas as pd"
   ]
  },
  {
   "cell_type": "code",
   "execution_count": 4,
   "id": "b7da4a16",
   "metadata": {},
   "outputs": [
    {
     "name": "stdout",
     "output_type": "stream",
     "text": [
      "hello world\n"
     ]
    }
   ],
   "source": [
    "print(\"hello world\")"
   ]
  },
  {
   "cell_type": "code",
   "execution_count": null,
   "id": "b97aee98",
   "metadata": {},
   "outputs": [],
   "source": []
  }
 ],
 "metadata": {
  "kernelspec": {
   "display_name": "masterthesis-llm-optimization-orca",
   "language": "python",
   "name": "python3"
  },
  "language_info": {
   "codemirror_mode": {
    "name": "ipython",
    "version": 3
   },
   "file_extension": ".py",
   "mimetype": "text/x-python",
   "name": "python",
   "nbconvert_exporter": "python",
   "pygments_lexer": "ipython3",
   "version": "3.13.3"
  }
 },
 "nbformat": 4,
 "nbformat_minor": 5
}
