{
 "cells": [
  {
   "cell_type": "markdown",
   "id": "afcf284f",
   "metadata": {},
   "source": [
    "# CRISP DM\n"
   ]
  },
  {
   "cell_type": "markdown",
   "id": "ba15c3be",
   "metadata": {},
   "source": [
    "## Problem Understanding:\n",
    "A central step in the ORCA pipeline is the automated mapping of natural language threat\n",
    "descriptions to structured attack patterns from the Common Attack Pattern Enumeration\n",
    "and Classification (CAPEC) framework. This process—referred to as Threat-to-CAPEC\n",
    "Mapping—aims to translate unstructured textual threat inputs into standardized, machine-\n",
    "readable representations that describe how an attacker might exploit a given vulnerability.\n",
    "This mapping is critical for enabling further steps in the security analysis process, such\n",
    "as correlating threats with known vulnerabilities (CWEs, CVEs), assessing risk using\n",
    "scoring systems like CVSS, and informing mitigation strategies. However, the task poses\n",
    "several inherent challenges:\n",
    "Ambiguity: Threat descriptions are often informal, incomplete, or context-dependent.\n",
    "Terminology mismatch: Natural language inputs may not directly align with the technical\n",
    "vocabulary used in CAPEC definitions.\n",
    "Granularity: A single threat may correspond to multiple CAPECs at varying levels of\n",
    "abstraction, requiring semantic reasoning to determine relevance.\n",
    "Solving this problem involves designing a system capable of understanding the semantics\n",
    "of threat descriptions and reliably identifying the most appropriate CAPEC entries. This\n",
    "step must balance accuracy, scalability, and interpretability to support reliable, automated\n",
    "security assessments within the broader ORCA framework."
   ]
  },
  {
   "cell_type": "markdown",
   "id": "28377b02",
   "metadata": {},
   "source": [
    "## Data Understanding"
   ]
  },
  {
   "cell_type": "code",
   "execution_count": 5,
   "id": "92b7bdae",
   "metadata": {},
   "outputs": [
    {
     "name": "stderr",
     "output_type": "stream",
     "text": [
      "c:\\Users\\domep\\Development\\Masterarbeit\\MasterThesis_LLM_optimization_ORCA\\.venv\\Lib\\site-packages\\tqdm\\auto.py:21: TqdmWarning: IProgress not found. Please update jupyter and ipywidgets. See https://ipywidgets.readthedocs.io/en/stable/user_install.html\n",
      "  from .autonotebook import tqdm as notebook_tqdm\n"
     ]
    }
   ],
   "source": [
    "# imports\n",
    "import pandas as pd\n",
    "import json\n",
    "import re\n",
    "import ollama\n",
    "from IPython.display import HTML, display\n",
    "from git import Repo, InvalidGitRepositoryError\n",
    "import os\n",
    "import shutil\n",
    "\n",
    "from stix2 import FileSystemSource\n",
    "from stix2 import Filter\n",
    "\n",
    "from sentence_transformers import SentenceTransformer, util\n",
    "import torch\n",
    "import chromadb\n",
    "import uuid"
   ]
  },
  {
   "cell_type": "code",
   "execution_count": 2,
   "id": "5ce09cf6",
   "metadata": {},
   "outputs": [],
   "source": [
    "# setting display options for pandas\n",
    "pd.set_option('display.max_columns', None)\n",
    "pd.set_option('display.width', None)\n",
    "pd.set_option('display.max_colwidth', None)"
   ]
  },
  {
   "cell_type": "markdown",
   "id": "88e0f901",
   "metadata": {},
   "source": [
    "Import threat data from json file"
   ]
  },
  {
   "cell_type": "code",
   "execution_count": 3,
   "id": "852276b1",
   "metadata": {},
   "outputs": [
    {
     "data": {
      "text/html": [
       "<div>\n",
       "<style scoped>\n",
       "    .dataframe tbody tr th:only-of-type {\n",
       "        vertical-align: middle;\n",
       "    }\n",
       "\n",
       "    .dataframe tbody tr th {\n",
       "        vertical-align: top;\n",
       "    }\n",
       "\n",
       "    .dataframe thead th {\n",
       "        text-align: right;\n",
       "    }\n",
       "</style>\n",
       "<table border=\"1\" class=\"dataframe\">\n",
       "  <thead>\n",
       "    <tr style=\"text-align: right;\">\n",
       "      <th></th>\n",
       "      <th>Threat ID</th>\n",
       "      <th>Threat title</th>\n",
       "      <th>Threat Description</th>\n",
       "      <th>Threat type</th>\n",
       "      <th>Impact type</th>\n",
       "      <th>Threat agent</th>\n",
       "      <th>Vulnerability</th>\n",
       "      <th>Threatened Asset</th>\n",
       "      <th>Affected Components</th>\n",
       "    </tr>\n",
       "  </thead>\n",
       "  <tbody>\n",
       "    <tr>\n",
       "      <th>0</th>\n",
       "      <td>T-O-RAN-01</td>\n",
       "      <td>An attacker exploits insecure designs or lack of adaption in O-RAN components</td>\n",
       "      <td>Unauthenticated/unauthorized access to O-RAN components could possibly be achieved via the different O-RAN interfaces, depending upon the design of the hardware-software O-RAN system and how different functions are segregated within the O-RAN system. \\nO-RAN components might be vulnerable if: \\n• Outdated component from the lack of update or patch management,\\n• Poorly design architecture,\\n• Missing appropriate security hardening,\\n• Unnecessary or insecure function/protocol/component.\\nAn attacker could, in such case, either inject malwares and/or manipulate existing software, harm the O-RAN components, create a performance issue by manipulation of parameters, or reconfigure the O-RAN components and disable the security features with the purpose of eavesdropping or wiretapping on various CUS &amp; M planes, reaching northbound systems, attack broader network to cause denial-of-service, steal unprotected private keys, certificates, hash values, or other type of breaches.\\nIn addition, O-RAN components could be software providing network functions, so they are likely to be vulnerable to software flaws: it could be possible to bypass firewall restrictions or to take advantage of a buffer overflow to execute arbitrary commands, etc.</td>\n",
       "      <td>None</td>\n",
       "      <td>None</td>\n",
       "      <td>All</td>\n",
       "      <td>[Outdated component from the lack of update or patch management, Poorly design architecture, Missing appropriate security hardening, Unnecessary or insecure function/protocol/component]</td>\n",
       "      <td>All</td>\n",
       "      <td>All</td>\n",
       "    </tr>\n",
       "    <tr>\n",
       "      <th>1</th>\n",
       "      <td>T-O-RAN-02</td>\n",
       "      <td>An attacker exploits misconfigured or poorly configured O-RAN components</td>\n",
       "      <td>Unauthenticated/unauthorized access to O-RAN components could possibly be achieved via the different O-RAN interfaces, depending upon the configuration of the hardware-software O-RAN system. \\nO-RAN components might be vulnerable if: \\n• Errors from the lack of configuration change management,\\n• Misconfigured or poorly configured O-RAN components,\\n• Improperly configured permissions,\\n• Unnecessary features are enabled (e.g. unnecessary ports, services, accounts, or privileges),\\n• Default accounts and their passwords still enabled and unchanged,\\n• Security features are disabled or not configured securely.\\nAn attacker could, in such case, either inject malwares and/or manipulate existing software, harm the O-RAN components, create a performance issue by manipulation of parameters, or reconfigure the O-RAN components and disable the security features with the purpose of eavesdropping or wiretapping on various CUS &amp; M planes, reaching northbound systems, attack broader network to cause denial-of-service, steal unprotected private keys, certificates, hash values, or other type of breaches.</td>\n",
       "      <td>None</td>\n",
       "      <td>None</td>\n",
       "      <td>All</td>\n",
       "      <td>[Errors from the lack of configuration change management, Misconfigured or poorly configured O-RAN components, Improperly configured permissions, Unnecessary features are enabled (e.g. unnecessary ports, services, accounts, or privileges), Default accounts and their passwords still enabled and unchanged, Security features are disabled or not configured securely]</td>\n",
       "      <td>All</td>\n",
       "      <td>All</td>\n",
       "    </tr>\n",
       "    <tr>\n",
       "      <th>2</th>\n",
       "      <td>T-O-RAN-03</td>\n",
       "      <td>Attacks from the internet to penetrate O-RAN network boundary</td>\n",
       "      <td>Web servers serving O-RAN functional and management services should provide adequate protection. \\nAn attacker that have access to the uncontrolled O-RAN network could:\\n• Bypass the information flow control policy implemented by the firewall,\\n• And/or attack O-RAN components in the trusted networks by taking advantage of particularities and errors in the design and implementation of the network protocols (IP, TCP, UDP, application protocols),\\n• Use of incorrect or exceeded TCP sequence numbers,\\n• Perform brute force attacks on FTP passwords,\\n• Use of improper HTTP user sessions,\\n• Etc.\\nThe effects of such attacks may include:\\n• An intrusion, meaning unauthorized access to O-RAN components,\\n• Blocking, flooding or restarting an O-RAN component causing a denial of service,\\n• Flooding of network equipment, causing a denial of service,\\n• Etc.</td>\n",
       "      <td>None</td>\n",
       "      <td>None</td>\n",
       "      <td>All</td>\n",
       "      <td>[Errors in the design and implementation of the network protocols (HTTP, P, TCP, UDP, application protocols)]</td>\n",
       "      <td>All</td>\n",
       "      <td>All</td>\n",
       "    </tr>\n",
       "    <tr>\n",
       "      <th>3</th>\n",
       "      <td>T-O-RAN-04</td>\n",
       "      <td>An attacker attempts to jam the airlink signal through IoT devices</td>\n",
       "      <td>DDoS attacks on O-RAN systems: The 5G evolution means billions of things, collectively referred to as IoT, will be using the 5G O-RAN. Thus, IoT could increase the risk of O-RAN resource overload by way of DDoS attacks. Attackers create a botnet army by infecting many (millions/billions) IoT devices with a “remote-reboot” malware. Attackers instruct the malware to reboot all devices in a specific or targeted 5G coverage area at the same time.</td>\n",
       "      <td>None</td>\n",
       "      <td>None</td>\n",
       "      <td>All</td>\n",
       "      <td>[Failure to address overload situations]</td>\n",
       "      <td>ASSET-D-06, ASSET-D-18</td>\n",
       "      <td>O-RU, airlink with UE, O-DU</td>\n",
       "    </tr>\n",
       "    <tr>\n",
       "      <th>4</th>\n",
       "      <td>T-O-RAN-05</td>\n",
       "      <td>An attacker penetrates and compromises the O-RAN system through the open O-RAN’s Fronthaul, O1, O2, A1, and E2</td>\n",
       "      <td>O-RAN’s Fronthaul, O1, O2, A1, and E2 management interfaces are the new open interfaces that allow software programmability of RAN. These interfaces may not be secured to industry best practices.\\nO-RAN components might be vulnerable if: \\n• Improper or missing authentication and authorization processes,\\n• Improper or missing ciphering and integrity checks of sensitive data exchanged over O-RAN interfaces,\\n• Improper or missing replay protection of sensitive data exchanged over O-RAN interfaces,\\n• Improper prevention of key reuse,\\n• Improper implementation,\\n• Improperly validate inputs, respond to error conditions in both the submitted data as well as out of sequence protocol steps.\\nAn attacker could, in such case, cause denial-of-service, data tampering or information disclosure, etc.\\nNOTE: O-RAN interfaces allow use of TLS or SSH. Industry best practices mandate the use of TLS (v1.2 or higher) or SSH certificate-based authentication. An implementation that implements TLS version lower than 1.2 or a SSH password authentication, may become the key source of vulnerability that a malicious code will exploit to compromise the O-RAN system.</td>\n",
       "      <td>None</td>\n",
       "      <td>None</td>\n",
       "      <td>All</td>\n",
       "      <td>[Improper or missing authentication and authorization processes, Improper prevention of key reuse, Improper or missing replay protection of sensitive data exchanged over O-RAN interfaces, Improper or missing ciphering and integrity checks of sensitive data exchanged over O-RAN interfaces]</td>\n",
       "      <td>All</td>\n",
       "      <td>rApps, xApps, O-RU, O-DU, O-CU, Near-RT RIC, Non-RT RIC</td>\n",
       "    </tr>\n",
       "  </tbody>\n",
       "</table>\n",
       "</div>"
      ],
      "text/plain": [
       "    Threat ID  \\\n",
       "0  T-O-RAN-01   \n",
       "1  T-O-RAN-02   \n",
       "2  T-O-RAN-03   \n",
       "3  T-O-RAN-04   \n",
       "4  T-O-RAN-05   \n",
       "\n",
       "                                                                                                     Threat title  \\\n",
       "0                                   An attacker exploits insecure designs or lack of adaption in O-RAN components   \n",
       "1                                        An attacker exploits misconfigured or poorly configured O-RAN components   \n",
       "2                                                   Attacks from the internet to penetrate O-RAN network boundary   \n",
       "3                                              An attacker attempts to jam the airlink signal through IoT devices   \n",
       "4  An attacker penetrates and compromises the O-RAN system through the open O-RAN’s Fronthaul, O1, O2, A1, and E2   \n",
       "\n",
       "                                                                                                                                                                                                                                                                                                                                                                                                                                                                                                                                                                                                                                                                                                                                                                                                                                                                                                                                                                                                                                                                                                                                                                                                                                                                               Threat Description  \\\n",
       "0  Unauthenticated/unauthorized access to O-RAN components could possibly be achieved via the different O-RAN interfaces, depending upon the design of the hardware-software O-RAN system and how different functions are segregated within the O-RAN system. \\nO-RAN components might be vulnerable if: \\n• Outdated component from the lack of update or patch management,\\n• Poorly design architecture,\\n• Missing appropriate security hardening,\\n• Unnecessary or insecure function/protocol/component.\\nAn attacker could, in such case, either inject malwares and/or manipulate existing software, harm the O-RAN components, create a performance issue by manipulation of parameters, or reconfigure the O-RAN components and disable the security features with the purpose of eavesdropping or wiretapping on various CUS & M planes, reaching northbound systems, attack broader network to cause denial-of-service, steal unprotected private keys, certificates, hash values, or other type of breaches.\\nIn addition, O-RAN components could be software providing network functions, so they are likely to be vulnerable to software flaws: it could be possible to bypass firewall restrictions or to take advantage of a buffer overflow to execute arbitrary commands, etc.   \n",
       "1                                                                                                                                             Unauthenticated/unauthorized access to O-RAN components could possibly be achieved via the different O-RAN interfaces, depending upon the configuration of the hardware-software O-RAN system. \\nO-RAN components might be vulnerable if: \\n• Errors from the lack of configuration change management,\\n• Misconfigured or poorly configured O-RAN components,\\n• Improperly configured permissions,\\n• Unnecessary features are enabled (e.g. unnecessary ports, services, accounts, or privileges),\\n• Default accounts and their passwords still enabled and unchanged,\\n• Security features are disabled or not configured securely.\\nAn attacker could, in such case, either inject malwares and/or manipulate existing software, harm the O-RAN components, create a performance issue by manipulation of parameters, or reconfigure the O-RAN components and disable the security features with the purpose of eavesdropping or wiretapping on various CUS & M planes, reaching northbound systems, attack broader network to cause denial-of-service, steal unprotected private keys, certificates, hash values, or other type of breaches.   \n",
       "2                                                                                                                                                                                                                                                                                                                                                                                                   Web servers serving O-RAN functional and management services should provide adequate protection. \\nAn attacker that have access to the uncontrolled O-RAN network could:\\n• Bypass the information flow control policy implemented by the firewall,\\n• And/or attack O-RAN components in the trusted networks by taking advantage of particularities and errors in the design and implementation of the network protocols (IP, TCP, UDP, application protocols),\\n• Use of incorrect or exceeded TCP sequence numbers,\\n• Perform brute force attacks on FTP passwords,\\n• Use of improper HTTP user sessions,\\n• Etc.\\nThe effects of such attacks may include:\\n• An intrusion, meaning unauthorized access to O-RAN components,\\n• Blocking, flooding or restarting an O-RAN component causing a denial of service,\\n• Flooding of network equipment, causing a denial of service,\\n• Etc.   \n",
       "3                                                                                                                                                                                                                                                                                                                                                                                                                                                                                                                                                                                                                                                                                                                                                                                                                                  DDoS attacks on O-RAN systems: The 5G evolution means billions of things, collectively referred to as IoT, will be using the 5G O-RAN. Thus, IoT could increase the risk of O-RAN resource overload by way of DDoS attacks. Attackers create a botnet army by infecting many (millions/billions) IoT devices with a “remote-reboot” malware. Attackers instruct the malware to reboot all devices in a specific or targeted 5G coverage area at the same time.   \n",
       "4                                                                                       O-RAN’s Fronthaul, O1, O2, A1, and E2 management interfaces are the new open interfaces that allow software programmability of RAN. These interfaces may not be secured to industry best practices.\\nO-RAN components might be vulnerable if: \\n• Improper or missing authentication and authorization processes,\\n• Improper or missing ciphering and integrity checks of sensitive data exchanged over O-RAN interfaces,\\n• Improper or missing replay protection of sensitive data exchanged over O-RAN interfaces,\\n• Improper prevention of key reuse,\\n• Improper implementation,\\n• Improperly validate inputs, respond to error conditions in both the submitted data as well as out of sequence protocol steps.\\nAn attacker could, in such case, cause denial-of-service, data tampering or information disclosure, etc.\\nNOTE: O-RAN interfaces allow use of TLS or SSH. Industry best practices mandate the use of TLS (v1.2 or higher) or SSH certificate-based authentication. An implementation that implements TLS version lower than 1.2 or a SSH password authentication, may become the key source of vulnerability that a malicious code will exploit to compromise the O-RAN system.   \n",
       "\n",
       "  Threat type Impact type Threat agent  \\\n",
       "0        None        None          All   \n",
       "1        None        None          All   \n",
       "2        None        None          All   \n",
       "3        None        None          All   \n",
       "4        None        None          All   \n",
       "\n",
       "                                                                                                                                                                                                                                                                                                                                                                  Vulnerability  \\\n",
       "0                                                                                                                                                                                     [Outdated component from the lack of update or patch management, Poorly design architecture, Missing appropriate security hardening, Unnecessary or insecure function/protocol/component]   \n",
       "1  [Errors from the lack of configuration change management, Misconfigured or poorly configured O-RAN components, Improperly configured permissions, Unnecessary features are enabled (e.g. unnecessary ports, services, accounts, or privileges), Default accounts and their passwords still enabled and unchanged, Security features are disabled or not configured securely]   \n",
       "2                                                                                                                                                                                                                                                                 [Errors in the design and implementation of the network protocols (HTTP, P, TCP, UDP, application protocols)]   \n",
       "3                                                                                                                                                                                                                                                                                                                                      [Failure to address overload situations]   \n",
       "4                                                                             [Improper or missing authentication and authorization processes, Improper prevention of key reuse, Improper or missing replay protection of sensitive data exchanged over O-RAN interfaces, Improper or missing ciphering and integrity checks of sensitive data exchanged over O-RAN interfaces]   \n",
       "\n",
       "         Threatened Asset  \\\n",
       "0                     All   \n",
       "1                     All   \n",
       "2                     All   \n",
       "3  ASSET-D-06, ASSET-D-18   \n",
       "4                     All   \n",
       "\n",
       "                                       Affected Components  \n",
       "0                                                      All  \n",
       "1                                                      All  \n",
       "2                                                      All  \n",
       "3                              O-RU, airlink with UE, O-DU  \n",
       "4  rApps, xApps, O-RU, O-DU, O-CU, Near-RT RIC, Non-RT RIC  "
      ]
     },
     "execution_count": 3,
     "metadata": {},
     "output_type": "execute_result"
    }
   ],
   "source": [
    "# Load threat data from JSON file into a DataFrame\n",
    "df_threats = pd.read_json('threat_data/all_threats.json')\n",
    "df_threats.head(5)"
   ]
  },
  {
   "cell_type": "code",
   "execution_count": 4,
   "id": "0fde54f2",
   "metadata": {},
   "outputs": [
    {
     "name": "stdout",
     "output_type": "stream",
     "text": [
      "<class 'pandas.core.frame.DataFrame'>\n",
      "RangeIndex: 182 entries, 0 to 181\n",
      "Data columns (total 9 columns):\n",
      " #   Column               Non-Null Count  Dtype \n",
      "---  ------               --------------  ----- \n",
      " 0   Threat ID            182 non-null    object\n",
      " 1   Threat title         182 non-null    object\n",
      " 2   Threat Description   182 non-null    object\n",
      " 3   Threat type          82 non-null     object\n",
      " 4   Impact type          82 non-null     object\n",
      " 5   Threat agent         182 non-null    object\n",
      " 6   Vulnerability        182 non-null    object\n",
      " 7   Threatened Asset     182 non-null    object\n",
      " 8   Affected Components  182 non-null    object\n",
      "dtypes: object(9)\n",
      "memory usage: 12.9+ KB\n"
     ]
    }
   ],
   "source": [
    "# Display DataFrame information\n",
    "df_threats.info()"
   ]
  },
  {
   "cell_type": "markdown",
   "id": "1be67c75",
   "metadata": {},
   "source": [
    "There a 182 threats in 9 columns, each threat has a unique ID, a title, a description, a threat type, an impact type, a threat agent, one or more vulnerabilities (safed in a list), a threatened asset and a affected component"
   ]
  },
  {
   "cell_type": "code",
   "execution_count": 5,
   "id": "a797c421",
   "metadata": {},
   "outputs": [
    {
     "data": {
      "text/html": [
       "<div>\n",
       "<style scoped>\n",
       "    .dataframe tbody tr th:only-of-type {\n",
       "        vertical-align: middle;\n",
       "    }\n",
       "\n",
       "    .dataframe tbody tr th {\n",
       "        vertical-align: top;\n",
       "    }\n",
       "\n",
       "    .dataframe thead th {\n",
       "        text-align: right;\n",
       "    }\n",
       "</style>\n",
       "<table border=\"1\" class=\"dataframe\">\n",
       "  <thead>\n",
       "    <tr style=\"text-align: right;\">\n",
       "      <th></th>\n",
       "      <th>Threat ID</th>\n",
       "      <th>Threat title</th>\n",
       "      <th>Threat Description</th>\n",
       "      <th>Threat type</th>\n",
       "      <th>Impact type</th>\n",
       "      <th>Threat agent</th>\n",
       "      <th>Vulnerability</th>\n",
       "      <th>Threatened Asset</th>\n",
       "      <th>Affected Components</th>\n",
       "    </tr>\n",
       "  </thead>\n",
       "  <tbody>\n",
       "    <tr>\n",
       "      <th>count</th>\n",
       "      <td>182</td>\n",
       "      <td>182</td>\n",
       "      <td>182</td>\n",
       "      <td>82</td>\n",
       "      <td>82</td>\n",
       "      <td>182</td>\n",
       "      <td>182</td>\n",
       "      <td>182</td>\n",
       "      <td>182</td>\n",
       "    </tr>\n",
       "    <tr>\n",
       "      <th>unique</th>\n",
       "      <td>182</td>\n",
       "      <td>181</td>\n",
       "      <td>182</td>\n",
       "      <td>16</td>\n",
       "      <td>17</td>\n",
       "      <td>2</td>\n",
       "      <td>116</td>\n",
       "      <td>58</td>\n",
       "      <td>55</td>\n",
       "    </tr>\n",
       "    <tr>\n",
       "      <th>top</th>\n",
       "      <td>T-O-RAN-01</td>\n",
       "      <td>External attacker exploits authentication weakness on SMO</td>\n",
       "      <td>Unauthenticated/unauthorized access to O-RAN components could possibly be achieved via the different O-RAN interfaces, depending upon the design of the hardware-software O-RAN system and how different functions are segregated within the O-RAN system. \\nO-RAN components might be vulnerable if: \\n• Outdated component from the lack of update or patch management,\\n• Poorly design architecture,\\n• Missing appropriate security hardening,\\n• Unnecessary or insecure function/protocol/component.\\nAn attacker could, in such case, either inject malwares and/or manipulate existing software, harm the O-RAN components, create a performance issue by manipulation of parameters, or reconfigure the O-RAN components and disable the security features with the purpose of eavesdropping or wiretapping on various CUS &amp; M planes, reaching northbound systems, attack broader network to cause denial-of-service, steal unprotected private keys, certificates, hash values, or other type of breaches.\\nIn addition, O-RAN components could be software providing network functions, so they are likely to be vulnerable to software flaws: it could be possible to bypass firewall restrictions or to take advantage of a buffer overflow to execute arbitrary commands, etc.</td>\n",
       "      <td>Spoofing</td>\n",
       "      <td>Authenticity</td>\n",
       "      <td>All</td>\n",
       "      <td>[weak mutual authentication]</td>\n",
       "      <td>ASSET-D-12, ASSET-D-13, ASSET-D-14, ASSET-D-15, ASSET-D-16, ASSET-D-17, ASSET-D-18, ASSET-D-19, ASSET-D-20, ASSET-D-29, ASSET-D-31, ASSET-D-32</td>\n",
       "      <td>All</td>\n",
       "    </tr>\n",
       "    <tr>\n",
       "      <th>freq</th>\n",
       "      <td>1</td>\n",
       "      <td>2</td>\n",
       "      <td>1</td>\n",
       "      <td>28</td>\n",
       "      <td>26</td>\n",
       "      <td>178</td>\n",
       "      <td>12</td>\n",
       "      <td>24</td>\n",
       "      <td>19</td>\n",
       "    </tr>\n",
       "  </tbody>\n",
       "</table>\n",
       "</div>"
      ],
      "text/plain": [
       "         Threat ID                                               Threat title  \\\n",
       "count          182                                                        182   \n",
       "unique         182                                                        181   \n",
       "top     T-O-RAN-01  External attacker exploits authentication weakness on SMO   \n",
       "freq             1                                                          2   \n",
       "\n",
       "                                                                                                                                                                                                                                                                                                                                                                                                                                                                                                                                                                                                                                                                                                                                                                                                                                                                                                                                                                                                                                                                                                                                                                                                                                                                                    Threat Description  \\\n",
       "count                                                                                                                                                                                                                                                                                                                                                                                                                                                                                                                                                                                                                                                                                                                                                                                                                                                                                                                                                                                                                                                                                                                                                                                                                                                                                              182   \n",
       "unique                                                                                                                                                                                                                                                                                                                                                                                                                                                                                                                                                                                                                                                                                                                                                                                                                                                                                                                                                                                                                                                                                                                                                                                                                                                                                             182   \n",
       "top     Unauthenticated/unauthorized access to O-RAN components could possibly be achieved via the different O-RAN interfaces, depending upon the design of the hardware-software O-RAN system and how different functions are segregated within the O-RAN system. \\nO-RAN components might be vulnerable if: \\n• Outdated component from the lack of update or patch management,\\n• Poorly design architecture,\\n• Missing appropriate security hardening,\\n• Unnecessary or insecure function/protocol/component.\\nAn attacker could, in such case, either inject malwares and/or manipulate existing software, harm the O-RAN components, create a performance issue by manipulation of parameters, or reconfigure the O-RAN components and disable the security features with the purpose of eavesdropping or wiretapping on various CUS & M planes, reaching northbound systems, attack broader network to cause denial-of-service, steal unprotected private keys, certificates, hash values, or other type of breaches.\\nIn addition, O-RAN components could be software providing network functions, so they are likely to be vulnerable to software flaws: it could be possible to bypass firewall restrictions or to take advantage of a buffer overflow to execute arbitrary commands, etc.   \n",
       "freq                                                                                                                                                                                                                                                                                                                                                                                                                                                                                                                                                                                                                                                                                                                                                                                                                                                                                                                                                                                                                                                                                                                                                                                                                                                                                                 1   \n",
       "\n",
       "       Threat type   Impact type Threat agent                 Vulnerability  \\\n",
       "count           82            82          182                           182   \n",
       "unique          16            17            2                           116   \n",
       "top       Spoofing  Authenticity          All  [weak mutual authentication]   \n",
       "freq            28            26          178                            12   \n",
       "\n",
       "                                                                                                                                      Threatened Asset  \\\n",
       "count                                                                                                                                              182   \n",
       "unique                                                                                                                                              58   \n",
       "top     ASSET-D-12, ASSET-D-13, ASSET-D-14, ASSET-D-15, ASSET-D-16, ASSET-D-17, ASSET-D-18, ASSET-D-19, ASSET-D-20, ASSET-D-29, ASSET-D-31, ASSET-D-32   \n",
       "freq                                                                                                                                                24   \n",
       "\n",
       "       Affected Components  \n",
       "count                  182  \n",
       "unique                  55  \n",
       "top                    All  \n",
       "freq                    19  "
      ]
     },
     "execution_count": 5,
     "metadata": {},
     "output_type": "execute_result"
    }
   ],
   "source": [
    "df_threats.describe()"
   ]
  },
  {
   "cell_type": "code",
   "execution_count": 98,
   "id": "612b55a0",
   "metadata": {},
   "outputs": [
    {
     "data": {
      "text/html": [
       "\n",
       "<style>\n",
       "/* White background for output area */\n",
       ".output_area {\n",
       "    background: white !important;\n",
       "    color: black !important;\n",
       "}\n",
       "\n",
       "/* Optional: White background for DataFrame cells */\n",
       ".dataframe {\n",
       "    background-color: white !important;\n",
       "    color: black !important;\n",
       "}\n",
       "</style>\n"
      ],
      "text/plain": [
       "<IPython.core.display.HTML object>"
      ]
     },
     "metadata": {},
     "output_type": "display_data"
    }
   ],
   "source": [
    "from IPython.display import HTML, Markdown, display\n",
    "\n",
    "display(HTML('''\n",
    "<style>\n",
    "/* White background for output area */\n",
    ".output_area {\n",
    "    background: white !important;\n",
    "    color: black !important;\n",
    "}\n",
    "\n",
    "/* Optional: White background for DataFrame cells */\n",
    ".dataframe {\n",
    "    background-color: white !important;\n",
    "    color: black !important;\n",
    "}\n",
    "</style>\n",
    "'''))\n",
    "\n"
   ]
  },
  {
   "cell_type": "code",
   "execution_count": 7,
   "id": "ec02ea7c",
   "metadata": {},
   "outputs": [
    {
     "data": {
      "text/plain": [
       "Threat ID                0\n",
       "Threat title             0\n",
       "Threat Description       0\n",
       "Threat type            100\n",
       "Impact type            100\n",
       "Threat agent             0\n",
       "Vulnerability            0\n",
       "Threatened Asset         0\n",
       "Affected Components      0\n",
       "dtype: int64"
      ]
     },
     "execution_count": 7,
     "metadata": {},
     "output_type": "execute_result"
    }
   ],
   "source": [
    "df_threats.isnull().sum()"
   ]
  },
  {
   "cell_type": "code",
   "execution_count": 8,
   "id": "6bbf2588",
   "metadata": {},
   "outputs": [
    {
     "data": {
      "text/plain": [
       "Index(['Threat ID', 'Threat title', 'Threat Description', 'Threat type',\n",
       "       'Impact type', 'Threat agent', 'Vulnerability', 'Threatened Asset',\n",
       "       'Affected Components'],\n",
       "      dtype='object')"
      ]
     },
     "execution_count": 8,
     "metadata": {},
     "output_type": "execute_result"
    }
   ],
   "source": [
    "df_threats.columns"
   ]
  },
  {
   "cell_type": "code",
   "execution_count": 9,
   "id": "631fabe7",
   "metadata": {},
   "outputs": [
    {
     "data": {
      "text/html": [
       "<div>\n",
       "<style scoped>\n",
       "    .dataframe tbody tr th:only-of-type {\n",
       "        vertical-align: middle;\n",
       "    }\n",
       "\n",
       "    .dataframe tbody tr th {\n",
       "        vertical-align: top;\n",
       "    }\n",
       "\n",
       "    .dataframe thead th {\n",
       "        text-align: right;\n",
       "    }\n",
       "</style>\n",
       "<table border=\"1\" class=\"dataframe\">\n",
       "  <thead>\n",
       "    <tr style=\"text-align: right;\">\n",
       "      <th></th>\n",
       "      <th>Threat type</th>\n",
       "      <th>count</th>\n",
       "    </tr>\n",
       "  </thead>\n",
       "  <tbody>\n",
       "    <tr>\n",
       "      <th>0</th>\n",
       "      <td>Spoofing</td>\n",
       "      <td>28</td>\n",
       "    </tr>\n",
       "    <tr>\n",
       "      <th>1</th>\n",
       "      <td>Denial of Service</td>\n",
       "      <td>11</td>\n",
       "    </tr>\n",
       "    <tr>\n",
       "      <th>2</th>\n",
       "      <td>Elevation of Privilege</td>\n",
       "      <td>10</td>\n",
       "    </tr>\n",
       "    <tr>\n",
       "      <th>3</th>\n",
       "      <td>Information Disclosure</td>\n",
       "      <td>9</td>\n",
       "    </tr>\n",
       "    <tr>\n",
       "      <th>4</th>\n",
       "      <td>Tampering</td>\n",
       "      <td>8</td>\n",
       "    </tr>\n",
       "    <tr>\n",
       "      <th>5</th>\n",
       "      <td>Information disclosure</td>\n",
       "      <td>4</td>\n",
       "    </tr>\n",
       "    <tr>\n",
       "      <th>6</th>\n",
       "      <td>Tampering; Denial of Service</td>\n",
       "      <td>2</td>\n",
       "    </tr>\n",
       "    <tr>\n",
       "      <th>7</th>\n",
       "      <td>Elevation of Privilege, Information Disclosure</td>\n",
       "      <td>2</td>\n",
       "    </tr>\n",
       "    <tr>\n",
       "      <th>8</th>\n",
       "      <td>Elevation of Privilege; Denial of Service</td>\n",
       "      <td>1</td>\n",
       "    </tr>\n",
       "    <tr>\n",
       "      <th>9</th>\n",
       "      <td>Denial of Service, Escalation of Privilege</td>\n",
       "      <td>1</td>\n",
       "    </tr>\n",
       "    <tr>\n",
       "      <th>10</th>\n",
       "      <td>Denial of Service, Information Disclosure</td>\n",
       "      <td>1</td>\n",
       "    </tr>\n",
       "    <tr>\n",
       "      <th>11</th>\n",
       "      <td>Denial of Service; Tampering</td>\n",
       "      <td>1</td>\n",
       "    </tr>\n",
       "    <tr>\n",
       "      <th>12</th>\n",
       "      <td>Information disclosure, Tampering</td>\n",
       "      <td>1</td>\n",
       "    </tr>\n",
       "    <tr>\n",
       "      <th>13</th>\n",
       "      <td>Information Disclosure, Denial of Service</td>\n",
       "      <td>1</td>\n",
       "    </tr>\n",
       "    <tr>\n",
       "      <th>14</th>\n",
       "      <td>Tampering, Information Disclosure, Escalation of Privilege</td>\n",
       "      <td>1</td>\n",
       "    </tr>\n",
       "    <tr>\n",
       "      <th>15</th>\n",
       "      <td>Tampering; Elevation of Privilege; Denial of Service</td>\n",
       "      <td>1</td>\n",
       "    </tr>\n",
       "  </tbody>\n",
       "</table>\n",
       "</div>"
      ],
      "text/plain": [
       "                                                   Threat type  count\n",
       "0                                                     Spoofing     28\n",
       "1                                            Denial of Service     11\n",
       "2                                       Elevation of Privilege     10\n",
       "3                                       Information Disclosure      9\n",
       "4                                                    Tampering      8\n",
       "5                                       Information disclosure      4\n",
       "6                                 Tampering; Denial of Service      2\n",
       "7               Elevation of Privilege, Information Disclosure      2\n",
       "8                    Elevation of Privilege; Denial of Service      1\n",
       "9                   Denial of Service, Escalation of Privilege      1\n",
       "10                   Denial of Service, Information Disclosure      1\n",
       "11                                Denial of Service; Tampering      1\n",
       "12                           Information disclosure, Tampering      1\n",
       "13                   Information Disclosure, Denial of Service      1\n",
       "14  Tampering, Information Disclosure, Escalation of Privilege      1\n",
       "15        Tampering; Elevation of Privilege; Denial of Service      1"
      ]
     },
     "execution_count": 9,
     "metadata": {},
     "output_type": "execute_result"
    }
   ],
   "source": [
    "df_threats.groupby('Threat type').size().reset_index(name='count').sort_values(by='count', ascending=False).reset_index(drop=True)"
   ]
  },
  {
   "cell_type": "code",
   "execution_count": 10,
   "id": "31b6e9b3",
   "metadata": {},
   "outputs": [
    {
     "data": {
      "text/plain": [
       "np.True_"
      ]
     },
     "execution_count": 10,
     "metadata": {},
     "output_type": "execute_result"
    }
   ],
   "source": [
    "(df_threats['Threat type'].isnull() == df_threats['Impact type'].isnull()).all()\n"
   ]
  },
  {
   "cell_type": "code",
   "execution_count": 11,
   "id": "d9c8d7d8",
   "metadata": {},
   "outputs": [
    {
     "data": {
      "text/plain": [
       "Threat type\n",
       "None                                                          52\n",
       "NaN                                                           48\n",
       "Spoofing                                                      28\n",
       "Denial of Service                                             11\n",
       "Elevation of Privilege                                        10\n",
       "Information Disclosure                                         9\n",
       "Tampering                                                      8\n",
       "Information disclosure                                         4\n",
       "Elevation of Privilege, Information Disclosure                 2\n",
       "Tampering; Denial of Service                                   2\n",
       "Information disclosure, Tampering                              1\n",
       "Tampering, Information Disclosure, Escalation of Privilege     1\n",
       "Denial of Service, Escalation of Privilege                     1\n",
       "Denial of Service; Tampering                                   1\n",
       "Elevation of Privilege; Denial of Service                      1\n",
       "Tampering; Elevation of Privilege; Denial of Service           1\n",
       "Denial of Service, Information Disclosure                      1\n",
       "Information Disclosure, Denial of Service                      1\n",
       "Name: count, dtype: int64"
      ]
     },
     "execution_count": 11,
     "metadata": {},
     "output_type": "execute_result"
    }
   ],
   "source": [
    "df_threats['Threat type'].value_counts(dropna=False)"
   ]
  },
  {
   "cell_type": "code",
   "execution_count": 12,
   "id": "2ac5ec87",
   "metadata": {},
   "outputs": [
    {
     "data": {
      "text/plain": [
       "Impact type\n",
       "None                                         52\n",
       "NaN                                          48\n",
       "Authenticity                                 26\n",
       "Confidentiality                              14\n",
       "Availability                                 12\n",
       "Authorization                                 9\n",
       "Integrity                                     7\n",
       "Authentication                                2\n",
       "Integrity; Availability                       2\n",
       "Authorization. Confidentiality                1\n",
       "Integrity, Confidentiality, Authorization     1\n",
       "Availability; Integrity                       1\n",
       "Confidentiality, Integrity                    1\n",
       "Authorization; Availability                   1\n",
       "Integrity; Authorization; Availability        1\n",
       "Integrity, Availability                       1\n",
       "Availability, Confidentiality                 1\n",
       "Confidentiality, Availability                 1\n",
       "Authorization, Availability                   1\n",
       "Name: count, dtype: int64"
      ]
     },
     "execution_count": 12,
     "metadata": {},
     "output_type": "execute_result"
    }
   ],
   "source": [
    "df_threats['Impact type'].value_counts(dropna=False)"
   ]
  },
  {
   "cell_type": "code",
   "execution_count": 13,
   "id": "d64cb17d",
   "metadata": {},
   "outputs": [
    {
     "data": {
      "text/plain": [
       "Vulnerability\n",
       "[weak mutual authentication]                                                                                                                                                                                                                                                     12\n",
       "[Weak authentication can be exploited by a tenant to move laterally across the deployment.]                                                                                                                                                                                       9\n",
       "[Lack of integrity verification]                                                                                                                                                                                                                                                  5\n",
       "[Lack of overload protection and rate-limiting]                                                                                                                                                                                                                                   5\n",
       "[Weak confidentiality protection exploited to view sensitive data]                                                                                                                                                                                                                5\n",
       "                                                                                                                                                                                                                                                                                 ..\n",
       "[Inaccurate inventories of open-source software, Lack of consistent Supply Chain traceability and security, Lack of coding best practices, Modules with known vulnerabilities and untrusted libraries]                                                                            1\n",
       "[Improper physical security protection of data centres, PNFs, operation areas, etc., Improper protection to power outages (power supply), Improper protection against environmental disasters, Improper maintenance and monitoring of hardware parameters, Hardware backdoor]     1\n",
       "[Bugs in open source software caused by mistakes and human error]                                                                                                                                                                                                                 1\n",
       "[Physical access to the open Fronthaul cable network]                                                                                                                                                                                                                             1\n",
       "[Use of pretrained public ML model]                                                                                                                                                                                                                                               1\n",
       "Name: count, Length: 116, dtype: int64"
      ]
     },
     "execution_count": 13,
     "metadata": {},
     "output_type": "execute_result"
    }
   ],
   "source": [
    "df_threats['Vulnerability'].value_counts(dropna=False)"
   ]
  },
  {
   "cell_type": "markdown",
   "id": "027323c9",
   "metadata": {},
   "source": [
    "### Distribution Analysis\n"
   ]
  },
  {
   "cell_type": "code",
   "execution_count": 14,
   "id": "ec629f4c",
   "metadata": {},
   "outputs": [],
   "source": [
    "# some threat types as well as impact types are seperated by a comma, while others are seperated by a semicolon or a point\n",
    "# Replace all semicolons with commas\n",
    "df_threats['Threat type'] = df_threats['Threat type'].str.replace(';', ',', regex=False)\n",
    "df_threats['Threat type'] = df_threats['Threat type'].str.replace('.', ',', regex=False)\n",
    "df_threats['Impact type'] = df_threats['Impact type'].str.replace(';', ',', regex=False)\n",
    "df_threats['Impact type'] = df_threats['Impact type'].str.replace('.', ',', regex=False)\n",
    "# in the Threatened asssets column, some values have a underscore instead of a dash\n",
    "df_threats['Threatened Asset'] = df_threats['Threatened Asset'].str.replace('_', '-', regex=False)"
   ]
  },
  {
   "cell_type": "code",
   "execution_count": 15,
   "id": "e72a3e57",
   "metadata": {},
   "outputs": [],
   "source": [
    "# removing leading and trailing whitespace from the 'Threat type','Impact type','Threatened asset' and 'Affected components' columns\n",
    "df_threats['Threat type'] = df_threats['Threat type'].apply(\n",
    "    lambda x: [t.strip() for t in x.split(',')] if isinstance(x, str) else x\n",
    ")\n",
    "df_threats['Impact type'] = df_threats['Impact type'].apply(\n",
    "    lambda x: [t.strip() for t in x.split(',')] if isinstance(x, str) else x\n",
    ")\n",
    "df_threats['Threatened Asset'] = df_threats['Threatened Asset'].apply(\n",
    "    lambda x: [t.strip() for t in x.split(',')] if isinstance(x, str) else x\n",
    ")\n",
    "df_threats['Affected Components'] = df_threats['Affected Components'].apply(\n",
    "    lambda x: [t.strip() for t in x.split(',')] if isinstance(x, str) else x\n",
    ")\n",
    "# the vulnerability column contains a list with only one string element\n",
    "# this string contains multpile vulnerabilities separated by commas\n",
    "# we convert the list to this one string element and then split the string by commas\n",
    "df_threats['Vulnerability'] = df_threats['Vulnerability'].apply(lambda x: x[0] if isinstance(x, list) else x)\n",
    "df_threats['Vulnerability'] = df_threats['Vulnerability'].apply(\n",
    "    lambda x: [t.strip() for t in x.split(',')] if isinstance(x, str) else x\n",
    ")"
   ]
  },
  {
   "cell_type": "code",
   "execution_count": 16,
   "id": "70860c6b",
   "metadata": {},
   "outputs": [
    {
     "name": "stdout",
     "output_type": "stream",
     "text": [
      "['ASSET D-11', 'ASSET D-20', 'ASSET D-21', 'ASSET-C-02', 'ASSET-C-03', 'ASSET-C-07', 'ASSET-C-08', 'ASSET-C-09', 'ASSET-C-1', 'ASSET-C-10', 'ASSET-C-11', 'ASSET-C-12', 'ASSET-C-14', 'ASSET-C-16', 'ASSET-C-17', 'ASSET-C-18', 'ASSET-C-19', 'ASSET-C-2', 'ASSET-C-20', 'ASSET-C-21', 'ASSET-C-22', 'ASSET-C-23', 'ASSET-C-24', 'ASSET-C-25', 'ASSET-C-26', 'ASSET-C-27', 'ASSET-C-28', 'ASSET-C-3', 'ASSET-C-31', 'ASSET-C-32', 'ASSET-C-33', 'ASSET-C-34', 'ASSET-C-35', 'ASSET-C-36', 'ASSET-C-37', 'ASSET-C-38', 'ASSET-C-39', 'ASSET-C-4', 'ASSET-C-40', 'ASSET-C-42', 'ASSET-C-5', 'ASSET-C-6', 'ASSET-C-7', 'ASSET-C-8', 'ASSET-C-9', 'ASSET-D-01', 'ASSET-D-02', 'ASSET-D-03', 'ASSET-D-04', 'ASSET-D-05', 'ASSET-D-06', 'ASSET-D-07', 'ASSET-D-08', 'ASSET-D-09', 'ASSET-D-1', 'ASSET-D-10', 'ASSET-D-11', 'ASSET-D-12', 'ASSET-D-13', 'ASSET-D-14', 'ASSET-D-15', 'ASSET-D-16', 'ASSET-D-17', 'ASSET-D-18', 'ASSET-D-19', 'ASSET-D-2', 'ASSET-D-20', 'ASSET-D-21', 'ASSET-D-22', 'ASSET-D-23', 'ASSET-D-24', 'ASSET-D-25', 'ASSET-D-26', 'ASSET-D-27', 'ASSET-D-28', 'ASSET-D-29', 'ASSET-D-3', 'ASSET-D-30', 'ASSET-D-31', 'ASSET-D-32', 'ASSET-D-33', 'ASSET-D-34', 'ASSET-D-35', 'ASSET-D-36', 'ASSET-D-37', 'ASSET-D-38', 'ASSET-D-39', 'ASSET-D-4', 'ASSET-D-41', 'ASSET-D-43', 'ASSET-D-5', 'ASSET-D-6', 'ASSET-D-7', 'ASSET-D-8', 'ASSET-D-9']\n"
     ]
    }
   ],
   "source": [
    "# the 'Threatened Asset' column contains values like 'All' or 'ASSET-D-33 to ASSET-D-38', we solve this by manually turning this into the correct list\n",
    "\n",
    "\n",
    "# Example: start from your DataFrame\n",
    "# df_threats = pd.read_json(...)  # or however you're loading it\n",
    "\n",
    "# Step 1: Drop NaNs\n",
    "asset_entries = df_threats['Threatened Asset'].dropna()\n",
    "\n",
    "# Step 2: Function to expand ranges like 'ASSET-D-33 to ASSET-D-38'\n",
    "def expand_range(entry):\n",
    "    match = re.match(r\"(ASSET-[A-Z]-)(\\d+)\\s+to\\s+ASSET-[A-Z]-(\\d+)\", entry.strip())\n",
    "    if match:\n",
    "        prefix, start, end = match.groups()\n",
    "        return [f\"{prefix}{i}\" for i in range(int(start), int(end) + 1)]\n",
    "    return [entry.strip()]\n",
    "\n",
    "# Step 3: Build the set of unique assets\n",
    "all_assets = set()\n",
    "\n",
    "for entry in asset_entries:\n",
    "    # If entry is a list, turn it into a string\n",
    "    if isinstance(entry, list):\n",
    "        entry = ', '.join(entry)\n",
    "    \n",
    "    # Ensure it's a string before splitting\n",
    "    if isinstance(entry, str):\n",
    "        parts = [p.strip() for p in entry.split(',')]\n",
    "        for part in parts:\n",
    "            if part.lower() == 'all':\n",
    "                continue  # or expand to full known asset list if desired\n",
    "            elif 'to' in part:\n",
    "                expanded = expand_range(part)\n",
    "                all_assets.update(expanded)\n",
    "            else:\n",
    "                all_assets.add(part.strip())\n",
    "\n",
    "# Step 4: Show all unique asset names sorted\n",
    "all_assets = sorted(all_assets)\n",
    "print(all_assets)\n",
    "\n",
    "\n"
   ]
  },
  {
   "cell_type": "code",
   "execution_count": 17,
   "id": "0be8fa62",
   "metadata": {},
   "outputs": [],
   "source": [
    "def normalize_assets(value):\n",
    "    # Convert list to string if needed\n",
    "    if isinstance(value, list):\n",
    "        value = ', '.join(value)\n",
    "    \n",
    "    if isinstance(value, str):\n",
    "        value = value.strip()\n",
    "        if value.lower() == 'all':\n",
    "            return all_assets\n",
    "        elif 'to' in value:\n",
    "            return expand_range(value)\n",
    "        else:\n",
    "            # handle comma-separated list like 'ASSET-D-15, ASSET-C-17'\n",
    "            return [v.strip() for v in value.split(',')]\n",
    "    \n",
    "    return value  # leave as-is if unexpected\n",
    "\n",
    "df_threats['Threatened Asset'] = df_threats['Threatened Asset'].apply(normalize_assets)\n",
    "\n"
   ]
  },
  {
   "cell_type": "code",
   "execution_count": 18,
   "id": "659cdc4d",
   "metadata": {},
   "outputs": [
    {
     "data": {
      "text/plain": [
       "0     [ASSET D-11, ASSET D-20, ASSET D-21, ASSET-C-02, ASSET-C-03, ASSET-C-07, ASSET-C-08, ASSET-C-09, ASSET-C-1, ASSET-C-10, ASSET-C-11, ASSET-C-12, ASSET-C-14, ASSET-C-16, ASSET-C-17, ASSET-C-18, ASSET-C-19, ASSET-C-2, ASSET-C-20, ASSET-C-21, ASSET-C-22, ASSET-C-23, ASSET-C-24, ASSET-C-25, ASSET-C-26, ASSET-C-27, ASSET-C-28, ASSET-C-3, ASSET-C-31, ASSET-C-32, ASSET-C-33, ASSET-C-34, ASSET-C-35, ASSET-C-36, ASSET-C-37, ASSET-C-38, ASSET-C-39, ASSET-C-4, ASSET-C-40, ASSET-C-42, ASSET-C-5, ASSET-C-6, ASSET-C-7, ASSET-C-8, ASSET-C-9, ASSET-D-01, ASSET-D-02, ASSET-D-03, ASSET-D-04, ASSET-D-05, ASSET-D-06, ASSET-D-07, ASSET-D-08, ASSET-D-09, ASSET-D-1, ASSET-D-10, ASSET-D-11, ASSET-D-12, ASSET-D-13, ASSET-D-14, ASSET-D-15, ASSET-D-16, ASSET-D-17, ASSET-D-18, ASSET-D-19, ASSET-D-2, ASSET-D-20, ASSET-D-21, ASSET-D-22, ASSET-D-23, ASSET-D-24, ASSET-D-25, ASSET-D-26, ASSET-D-27, ASSET-D-28, ASSET-D-29, ASSET-D-3, ASSET-D-30, ASSET-D-31, ASSET-D-32, ASSET-D-33, ASSET-D-34, ASSET-D-35, ASSET-D-36, ASSET-D-37, ASSET-D-38, ASSET-D-39, ASSET-D-4, ASSET-D-41, ASSET-D-43, ASSET-D-5, ASSET-D-6, ASSET-D-7, ASSET-D-8, ASSET-D-9]\n",
       "1     [ASSET D-11, ASSET D-20, ASSET D-21, ASSET-C-02, ASSET-C-03, ASSET-C-07, ASSET-C-08, ASSET-C-09, ASSET-C-1, ASSET-C-10, ASSET-C-11, ASSET-C-12, ASSET-C-14, ASSET-C-16, ASSET-C-17, ASSET-C-18, ASSET-C-19, ASSET-C-2, ASSET-C-20, ASSET-C-21, ASSET-C-22, ASSET-C-23, ASSET-C-24, ASSET-C-25, ASSET-C-26, ASSET-C-27, ASSET-C-28, ASSET-C-3, ASSET-C-31, ASSET-C-32, ASSET-C-33, ASSET-C-34, ASSET-C-35, ASSET-C-36, ASSET-C-37, ASSET-C-38, ASSET-C-39, ASSET-C-4, ASSET-C-40, ASSET-C-42, ASSET-C-5, ASSET-C-6, ASSET-C-7, ASSET-C-8, ASSET-C-9, ASSET-D-01, ASSET-D-02, ASSET-D-03, ASSET-D-04, ASSET-D-05, ASSET-D-06, ASSET-D-07, ASSET-D-08, ASSET-D-09, ASSET-D-1, ASSET-D-10, ASSET-D-11, ASSET-D-12, ASSET-D-13, ASSET-D-14, ASSET-D-15, ASSET-D-16, ASSET-D-17, ASSET-D-18, ASSET-D-19, ASSET-D-2, ASSET-D-20, ASSET-D-21, ASSET-D-22, ASSET-D-23, ASSET-D-24, ASSET-D-25, ASSET-D-26, ASSET-D-27, ASSET-D-28, ASSET-D-29, ASSET-D-3, ASSET-D-30, ASSET-D-31, ASSET-D-32, ASSET-D-33, ASSET-D-34, ASSET-D-35, ASSET-D-36, ASSET-D-37, ASSET-D-38, ASSET-D-39, ASSET-D-4, ASSET-D-41, ASSET-D-43, ASSET-D-5, ASSET-D-6, ASSET-D-7, ASSET-D-8, ASSET-D-9]\n",
       "2     [ASSET D-11, ASSET D-20, ASSET D-21, ASSET-C-02, ASSET-C-03, ASSET-C-07, ASSET-C-08, ASSET-C-09, ASSET-C-1, ASSET-C-10, ASSET-C-11, ASSET-C-12, ASSET-C-14, ASSET-C-16, ASSET-C-17, ASSET-C-18, ASSET-C-19, ASSET-C-2, ASSET-C-20, ASSET-C-21, ASSET-C-22, ASSET-C-23, ASSET-C-24, ASSET-C-25, ASSET-C-26, ASSET-C-27, ASSET-C-28, ASSET-C-3, ASSET-C-31, ASSET-C-32, ASSET-C-33, ASSET-C-34, ASSET-C-35, ASSET-C-36, ASSET-C-37, ASSET-C-38, ASSET-C-39, ASSET-C-4, ASSET-C-40, ASSET-C-42, ASSET-C-5, ASSET-C-6, ASSET-C-7, ASSET-C-8, ASSET-C-9, ASSET-D-01, ASSET-D-02, ASSET-D-03, ASSET-D-04, ASSET-D-05, ASSET-D-06, ASSET-D-07, ASSET-D-08, ASSET-D-09, ASSET-D-1, ASSET-D-10, ASSET-D-11, ASSET-D-12, ASSET-D-13, ASSET-D-14, ASSET-D-15, ASSET-D-16, ASSET-D-17, ASSET-D-18, ASSET-D-19, ASSET-D-2, ASSET-D-20, ASSET-D-21, ASSET-D-22, ASSET-D-23, ASSET-D-24, ASSET-D-25, ASSET-D-26, ASSET-D-27, ASSET-D-28, ASSET-D-29, ASSET-D-3, ASSET-D-30, ASSET-D-31, ASSET-D-32, ASSET-D-33, ASSET-D-34, ASSET-D-35, ASSET-D-36, ASSET-D-37, ASSET-D-38, ASSET-D-39, ASSET-D-4, ASSET-D-41, ASSET-D-43, ASSET-D-5, ASSET-D-6, ASSET-D-7, ASSET-D-8, ASSET-D-9]\n",
       "3                                                                                                                                                                                                                                                                                                                                                                                                                                                                                                                                                                                                                                                                                                                                                                                                                                                                                                                                                                                                                                                                                                                                               [ASSET-D-06, ASSET-D-18]\n",
       "4     [ASSET D-11, ASSET D-20, ASSET D-21, ASSET-C-02, ASSET-C-03, ASSET-C-07, ASSET-C-08, ASSET-C-09, ASSET-C-1, ASSET-C-10, ASSET-C-11, ASSET-C-12, ASSET-C-14, ASSET-C-16, ASSET-C-17, ASSET-C-18, ASSET-C-19, ASSET-C-2, ASSET-C-20, ASSET-C-21, ASSET-C-22, ASSET-C-23, ASSET-C-24, ASSET-C-25, ASSET-C-26, ASSET-C-27, ASSET-C-28, ASSET-C-3, ASSET-C-31, ASSET-C-32, ASSET-C-33, ASSET-C-34, ASSET-C-35, ASSET-C-36, ASSET-C-37, ASSET-C-38, ASSET-C-39, ASSET-C-4, ASSET-C-40, ASSET-C-42, ASSET-C-5, ASSET-C-6, ASSET-C-7, ASSET-C-8, ASSET-C-9, ASSET-D-01, ASSET-D-02, ASSET-D-03, ASSET-D-04, ASSET-D-05, ASSET-D-06, ASSET-D-07, ASSET-D-08, ASSET-D-09, ASSET-D-1, ASSET-D-10, ASSET-D-11, ASSET-D-12, ASSET-D-13, ASSET-D-14, ASSET-D-15, ASSET-D-16, ASSET-D-17, ASSET-D-18, ASSET-D-19, ASSET-D-2, ASSET-D-20, ASSET-D-21, ASSET-D-22, ASSET-D-23, ASSET-D-24, ASSET-D-25, ASSET-D-26, ASSET-D-27, ASSET-D-28, ASSET-D-29, ASSET-D-3, ASSET-D-30, ASSET-D-31, ASSET-D-32, ASSET-D-33, ASSET-D-34, ASSET-D-35, ASSET-D-36, ASSET-D-37, ASSET-D-38, ASSET-D-39, ASSET-D-4, ASSET-D-41, ASSET-D-43, ASSET-D-5, ASSET-D-6, ASSET-D-7, ASSET-D-8, ASSET-D-9]\n",
       "5     [ASSET D-11, ASSET D-20, ASSET D-21, ASSET-C-02, ASSET-C-03, ASSET-C-07, ASSET-C-08, ASSET-C-09, ASSET-C-1, ASSET-C-10, ASSET-C-11, ASSET-C-12, ASSET-C-14, ASSET-C-16, ASSET-C-17, ASSET-C-18, ASSET-C-19, ASSET-C-2, ASSET-C-20, ASSET-C-21, ASSET-C-22, ASSET-C-23, ASSET-C-24, ASSET-C-25, ASSET-C-26, ASSET-C-27, ASSET-C-28, ASSET-C-3, ASSET-C-31, ASSET-C-32, ASSET-C-33, ASSET-C-34, ASSET-C-35, ASSET-C-36, ASSET-C-37, ASSET-C-38, ASSET-C-39, ASSET-C-4, ASSET-C-40, ASSET-C-42, ASSET-C-5, ASSET-C-6, ASSET-C-7, ASSET-C-8, ASSET-C-9, ASSET-D-01, ASSET-D-02, ASSET-D-03, ASSET-D-04, ASSET-D-05, ASSET-D-06, ASSET-D-07, ASSET-D-08, ASSET-D-09, ASSET-D-1, ASSET-D-10, ASSET-D-11, ASSET-D-12, ASSET-D-13, ASSET-D-14, ASSET-D-15, ASSET-D-16, ASSET-D-17, ASSET-D-18, ASSET-D-19, ASSET-D-2, ASSET-D-20, ASSET-D-21, ASSET-D-22, ASSET-D-23, ASSET-D-24, ASSET-D-25, ASSET-D-26, ASSET-D-27, ASSET-D-28, ASSET-D-29, ASSET-D-3, ASSET-D-30, ASSET-D-31, ASSET-D-32, ASSET-D-33, ASSET-D-34, ASSET-D-35, ASSET-D-36, ASSET-D-37, ASSET-D-38, ASSET-D-39, ASSET-D-4, ASSET-D-41, ASSET-D-43, ASSET-D-5, ASSET-D-6, ASSET-D-7, ASSET-D-8, ASSET-D-9]\n",
       "6                                                                                                                                                                                                                                                                                                                                                                                                                                                                                                                                                                                                                                                                                                                                                                                                                                                                                                                                                                                                                                                                                                                                                           [ASSET-D-29]\n",
       "7                                                                                                                                                                                                                                                                                                                                                                                                                                                                                                                                                                                                                                                                                                                                                                                                                    [ASSET-D-1, ASSET-D-2, ASSET-D-3, ASSET-D-4, ASSET-D-5, ASSET-D-6, ASSET-D-7, ASSET-D-8, ASSET-D-9, ASSET-D-10, ASSET-D-11, ASSET-D-12, ASSET-D-13, ASSET-D-14, ASSET-D-15, ASSET-D-16, ASSET-D-17, ASSET-D-18, ASSET-D-19, ASSET-D-20, ASSET-D-21, ASSET-D-22, ASSET-D-23, ASSET-D-24, ASSET-D-25, ASSET-D-26, ASSET-D-27, ASSET-D-28, ASSET-D-29]\n",
       "8                                                                                                                                                                                                                                                                                                                                                                                                                                                                                                                                                                                                                                                                                                                                                                                                                                                                                                                                                                                                                                [ASSET-C-1, ASSET-C-2, ASSET-C-3, ASSET-C-4, ASSET-C-5, ASSET-C-6, ASSET-C-7, ASSET-C-8, ASSET-C-9, ASSET-C-10, ASSET-C-11, ASSET-C-12]\n",
       "9                                                                                                                                                                                                                                                                                                                                                                                                                                                                                                                                                                                                                                                                                                                                                                                                                                                                                                                                                                                                                                                                                                                       [ASSET-D-01, ASSET-D-02, ASSET-D-04, ASSET-D-05]\n",
       "10                                                                                                                                                                                                                                                                                                                                                                                                                                                                                                                                                                                                                                                                                                                                                                                                                                                                                                                                                                                                                                                                                                                      [ASSET-D-01, ASSET-D-02, ASSET-D-04, ASSET-D-05]\n",
       "11                                                                                                                                                                                                                                                                                                                                                                                                                                                                                                                                                                                                                                                                                                                                                                                                                                                                                                                                                                                                                                                                                                                                              [ASSET-D-02, ASSET-D-03]\n",
       "12                                                                                                                                                                                                                                                                                                                                                                                                                                                                                                                                                                                                                                                                                                                                                                                                                                                                                                                                                                                                                                                                                                                                                          [ASSET-D-01]\n",
       "13                                                                                                                                                                                                                                                                                                                                                                                                                                                                                                                                                                                                                                                                                                                                                                                                                                                                                                                                                                                                                                                                                                                                                          [ASSET-D-01]\n",
       "14                                                                                                                                                                                                                                                                                                                                                                                                                                                                                                                                                                                                                                                                                                                                                                                                                                                                                                                                                                                                                                                                                                                                                          [ASSET-D-01]\n",
       "15                                                                                                                                                                                                                                                                                                                                                                                                                                                                                                                                                                                                                                                                                                                                                                                                                                                                                                                                                                                                                                                                                                                                                          [ASSET-D-01]\n",
       "16                                                                                                                                                                                                                                                                                                                                                                                                                                                                                                                                                                                                                                                                                                                                                                                                                                                                                                                                                                                                                                                                                                                                                          [ASSET-D-01]\n",
       "17                                                                                                                                                                                                                                                                                                                                                                                                                                                                                                                                                                                                                                                                                                                                                                                                                                                                                                                                                                                                                                                                                                                                                          [ASSET-D-04]\n",
       "18                                                                                                                                                                                                                                                                                                                                                                                                                                                                                                                                                                                                                                                                                                                                                                                                                                                                                                                                                                                                                                                                                                                                                          [ASSET-D-04]\n",
       "19                                                                                                                                                                                                                                                                                                                                                                                                                                                                                                                                                                                                                                                                                                                                                                                                                                                                                                                                                                                                                                                                                                                                                          [ASSET-D-05]\n",
       "Name: Threatened Asset, dtype: object"
      ]
     },
     "execution_count": 18,
     "metadata": {},
     "output_type": "execute_result"
    }
   ],
   "source": [
    "df_threats['Threatened Asset'].head(20)"
   ]
  },
  {
   "cell_type": "code",
   "execution_count": 19,
   "id": "a5b4f2ce",
   "metadata": {},
   "outputs": [
    {
     "data": {
      "text/plain": [
       "Threat type\n",
       "Spoofing                   28\n",
       "Denial of Service          19\n",
       "Elevation of Privilege     14\n",
       "Information Disclosure     14\n",
       "Tampering                  14\n",
       "Information disclosure      5\n",
       "Escalation of Privilege     2\n",
       "Name: count, dtype: int64"
      ]
     },
     "execution_count": 19,
     "metadata": {},
     "output_type": "execute_result"
    }
   ],
   "source": [
    "df_threats['Threat type'].explode().value_counts()\n",
    "# The most common threat type is Spoofing, which occurs 28 times"
   ]
  },
  {
   "cell_type": "code",
   "execution_count": 20,
   "id": "045de193",
   "metadata": {},
   "outputs": [
    {
     "data": {
      "text/plain": [
       "Vulnerability\n",
       "lack of authentication                                                                       17\n",
       "weak mutual authentication                                                                   12\n",
       "weak authentication can be exploited by a tenant to move laterally across the deployment.     9\n",
       "missing or improperly configured authorization                                                6\n",
       "lack of integrity verification                                                                6\n",
       "                                                                                             ..\n",
       "pnfs                                                                                          1\n",
       "etc.                                                                                          1\n",
       "operation areas                                                                               1\n",
       "physical access to the open fronthaul cable network                                           1\n",
       "use of pretrained public ml model                                                             1\n",
       "Name: count, Length: 139, dtype: int64"
      ]
     },
     "execution_count": 20,
     "metadata": {},
     "output_type": "execute_result"
    }
   ],
   "source": [
    "df_threats['Vulnerability'].explode().str.lower().value_counts()\n",
    "# The most common vulnerability is 'lack of authentication', which occurs 17 times,\n",
    "# followed by 'lack of authentication' with 12 occurences."
   ]
  },
  {
   "cell_type": "code",
   "execution_count": 21,
   "id": "94047f2a",
   "metadata": {},
   "outputs": [
    {
     "data": {
      "text/plain": [
       "Threatened Asset\n",
       "ASSET-D-15    43\n",
       "ASSET-C-17    41\n",
       "ASSET-D-29    40\n",
       "ASSET-D-18    38\n",
       "ASSET-D-14    37\n",
       "ASSET-C-31    35\n",
       "ASSET-D-17    35\n",
       "ASSET-D-16    35\n",
       "ASSET-D-12    34\n",
       "ASSET-D-13    34\n",
       "ASSET-D-19    34\n",
       "ASSET-D-20    34\n",
       "ASSET-D-32    34\n",
       "ASSET-D-31    33\n",
       "ASSET-C-11    33\n",
       "ASSET-C-18    22\n",
       "ASSET-C-10    21\n",
       "ASSET-C-08    19\n",
       "ASSET-C-35    18\n",
       "ASSET-D-01    18\n",
       "ASSET-C-34    17\n",
       "ASSET-C-26    17\n",
       "ASSET-C-19    16\n",
       "ASSET-C-16    16\n",
       "ASSET-C-20    16\n",
       "ASSET-C-21    16\n",
       "ASSET-C-23    16\n",
       "ASSET-C-09    16\n",
       "ASSET-D-04    15\n",
       "ASSET-D-26    15\n",
       "ASSET-D-25    15\n",
       "ASSET-C-37    15\n",
       "ASSET-D-37    15\n",
       "ASSET-D-34    15\n",
       "ASSET-D-33    15\n",
       "ASSET-D-36    15\n",
       "ASSET-D-35    15\n",
       "ASSET-D-38    15\n",
       "ASSET-C-25    14\n",
       "ASSET-C-36    14\n",
       "ASSET-D-21    14\n",
       "ASSET-D-02    14\n",
       "ASSET-D-05    14\n",
       "ASSET-D-27    13\n",
       "ASSET-D-28    13\n",
       "ASSET-D-06    13\n",
       "ASSET-D-10    13\n",
       "ASSET-D-22    13\n",
       "ASSET-C-02    12\n",
       "ASSET-D-43    12\n",
       "Name: count, dtype: int64"
      ]
     },
     "execution_count": 21,
     "metadata": {},
     "output_type": "execute_result"
    }
   ],
   "source": [
    "# Step 3: Explode the list so each asset appears in its own row\n",
    "asset_flat = df_threats.explode('Threatened Asset')\n",
    "\n",
    "# Step 4: Count how often each asset appears\n",
    "asset_counts = asset_flat['Threatened Asset'].value_counts()\n",
    "asset_counts.head(50)"
   ]
  },
  {
   "cell_type": "code",
   "execution_count": 22,
   "id": "bbca85d8",
   "metadata": {},
   "outputs": [
    {
     "data": {
      "text/plain": [
       "Impact type\n",
       "Authenticity       26\n",
       "Availability       21\n",
       "Confidentiality    19\n",
       "Authorization      14\n",
       "Integrity          14\n",
       "Authentication      2\n",
       "Name: count, dtype: int64"
      ]
     },
     "execution_count": 22,
     "metadata": {},
     "output_type": "execute_result"
    }
   ],
   "source": [
    "df_threats['Impact type'].explode().value_counts()"
   ]
  },
  {
   "cell_type": "code",
   "execution_count": 23,
   "id": "d8d4f0d6",
   "metadata": {},
   "outputs": [
    {
     "data": {
      "text/plain": [
       "Threat type\n",
       "Spoofing                   28\n",
       "Denial of Service          19\n",
       "Elevation of Privilege     14\n",
       "Information Disclosure     14\n",
       "Tampering                  14\n",
       "Information disclosure      5\n",
       "Escalation of Privilege     2\n",
       "Name: count, dtype: int64"
      ]
     },
     "execution_count": 23,
     "metadata": {},
     "output_type": "execute_result"
    }
   ],
   "source": [
    "df_threats['Threat type'].explode().value_counts()"
   ]
  },
  {
   "cell_type": "code",
   "execution_count": 24,
   "id": "21e4860d",
   "metadata": {},
   "outputs": [
    {
     "name": "stdout",
     "output_type": "stream",
     "text": [
      "{'All', 'All except Script kiddies'}\n"
     ]
    }
   ],
   "source": [
    "print(set(df_threats['Threat agent']))"
   ]
  },
  {
   "cell_type": "code",
   "execution_count": 25,
   "id": "c2471d40",
   "metadata": {},
   "outputs": [
    {
     "data": {
      "text/plain": [
       "Threat agent\n",
       "All                          178\n",
       "All except Script kiddies      4\n",
       "Name: count, dtype: int64"
      ]
     },
     "execution_count": 25,
     "metadata": {},
     "output_type": "execute_result"
    }
   ],
   "source": [
    "df_threats['Threat agent'].value_counts()"
   ]
  },
  {
   "cell_type": "code",
   "execution_count": 26,
   "id": "c66e47c7",
   "metadata": {},
   "outputs": [
    {
     "data": {
      "text/plain": [
       "Affected Components\n",
       "O-Cloud                  30\n",
       "Non-RT RIC               29\n",
       "Shared O-RU              26\n",
       "Apps/VNFs/CNFs           22\n",
       "All                      19\n",
       "O-DU                     17\n",
       "O-RU                     16\n",
       "rApps                    16\n",
       "Near-RT RIC              16\n",
       "SMO                      14\n",
       "xApps                    12\n",
       "O-DU Tenant              10\n",
       "SMO Framework            10\n",
       "O-DU Host                 9\n",
       "O-CU                      8\n",
       "O2 interface              7\n",
       "External interfaces       7\n",
       "R1 interface              7\n",
       "UE                        7\n",
       "SMO Functions             6\n",
       "ASSET-C-29                6\n",
       "ASSET-C-30                6\n",
       "O-CU Tenant               6\n",
       "CUS-Plane                 5\n",
       "Apps/VNFs/CNFs images     5\n",
       "O-CU Host                 5\n",
       "ASSET-C-08                3\n",
       "A1 interface              3\n",
       "E2 interface              3\n",
       "M-Plane                   3\n",
       "SMO Host                  3\n",
       "SMO Tenant                3\n",
       "xAPPs                     3\n",
       "Y1 interface              2\n",
       "O2                        2\n",
       "O1                        2\n",
       "NFO/FOCOM                 2\n",
       "airlink with UE           1\n",
       "SMO Froamework            1\n",
       "Y1interface               1\n",
       "Name: count, dtype: int64"
      ]
     },
     "execution_count": 26,
     "metadata": {},
     "output_type": "execute_result"
    }
   ],
   "source": [
    "df_threats['Affected Components'].explode().value_counts() "
   ]
  },
  {
   "cell_type": "code",
   "execution_count": 27,
   "id": "f45b5c85",
   "metadata": {},
   "outputs": [
    {
     "data": {
      "text/plain": [
       "Index(['Threat ID', 'Threat title', 'Threat Description', 'Threat type',\n",
       "       'Impact type', 'Threat agent', 'Vulnerability', 'Threatened Asset',\n",
       "       'Affected Components'],\n",
       "      dtype='object')"
      ]
     },
     "execution_count": 27,
     "metadata": {},
     "output_type": "execute_result"
    }
   ],
   "source": [
    "df_threats.columns"
   ]
  },
  {
   "cell_type": "markdown",
   "id": "a9be188a",
   "metadata": {},
   "source": [
    "### Text analysis"
   ]
  },
  {
   "cell_type": "code",
   "execution_count": 28,
   "id": "f6229cff",
   "metadata": {},
   "outputs": [
    {
     "name": "stdout",
     "output_type": "stream",
     "text": [
      "count     182.000000\n",
      "mean      528.818681\n",
      "std       491.740145\n",
      "min        76.000000\n",
      "25%       187.250000\n",
      "50%       319.000000\n",
      "75%       756.250000\n",
      "max      2668.000000\n",
      "Name: Threat Description, dtype: float64\n",
      "The average character length of the threat descriptions is 528.8186813186813\n",
      "The standard deviation of the character length of the threat descriptions is 491.74014505307065\n"
     ]
    }
   ],
   "source": [
    "length_of_threat_descriptions = df_threats['Threat Description'].str.len()\n",
    "print(length_of_threat_descriptions.describe())\n",
    "print(\"The average character length of the threat descriptions is\", length_of_threat_descriptions.mean())\n",
    "# the average length og the threat descriptions is 528.2 characters\n",
    "\n",
    "standard_deviation = length_of_threat_descriptions.std()\n",
    "print(\"The standard deviation of the character length of the threat descriptions is\", standard_deviation)"
   ]
  },
  {
   "cell_type": "code",
   "execution_count": 29,
   "id": "aa3ec36c",
   "metadata": {},
   "outputs": [
    {
     "name": "stdout",
     "output_type": "stream",
     "text": [
      "count    182.00000\n",
      "mean      57.10989\n",
      "std       27.82580\n",
      "min       14.00000\n",
      "25%       34.00000\n",
      "50%       54.00000\n",
      "75%       70.00000\n",
      "max      148.00000\n",
      "Name: Threat title, dtype: float64\n",
      "The average character length of the threat titles is 57.10989010989011\n",
      "The standard deviation of the character length of the threat titles is 27.825800083090165\n"
     ]
    }
   ],
   "source": [
    "length_of_threat_titles = df_threats['Threat title'].str.len()\n",
    "print(length_of_threat_titles.describe())\n",
    "print(\"The average character length of the threat titles is\", length_of_threat_titles.mean())\n",
    "print(\"The standard deviation of the character length of the threat titles is\", length_of_threat_titles.std())"
   ]
  },
  {
   "cell_type": "code",
   "execution_count": 30,
   "id": "70fbafca",
   "metadata": {},
   "outputs": [
    {
     "name": "stdout",
     "output_type": "stream",
     "text": [
      "Threat Description\n",
      "Unauthenticated/unauthorized access to O-RAN components could possibly be achieved via the different O-RAN interfaces, depending upon the design of the hardware-software O-RAN system and how different functions are segregated within the O-RAN system. \\nO-RAN components might be vulnerable if: \\n• Outdated component from the lack of update or patch management,\\n• Poorly design architecture,\\n• Missing appropriate security hardening,\\n• Unnecessary or insecure function/protocol/component.\\nAn attacker could, in such case, either inject malwares and/or manipulate existing software, harm the O-RAN components, create a performance issue by manipulation of parameters, or reconfigure the O-RAN components and disable the security features with the purpose of eavesdropping or wiretapping on various CUS & M planes, reaching northbound systems, attack broader network to cause denial-of-service, steal unprotected private keys, certificates, hash values, or other type of breaches.\\nIn addition, O-RAN components could be software providing network functions, so they are likely to be vulnerable to software flaws: it could be possible to bypass firewall restrictions or to take advantage of a buffer overflow to execute arbitrary commands, etc.    1\n",
      "Unauthenticated/unauthorized access to O-RAN components could possibly be achieved via the different O-RAN interfaces, depending upon the configuration of the hardware-software O-RAN system. \\nO-RAN components might be vulnerable if: \\n• Errors from the lack of configuration change management,\\n• Misconfigured or poorly configured O-RAN components,\\n• Improperly configured permissions,\\n• Unnecessary features are enabled (e.g. unnecessary ports, services, accounts, or privileges),\\n• Default accounts and their passwords still enabled and unchanged,\\n• Security features are disabled or not configured securely.\\nAn attacker could, in such case, either inject malwares and/or manipulate existing software, harm the O-RAN components, create a performance issue by manipulation of parameters, or reconfigure the O-RAN components and disable the security features with the purpose of eavesdropping or wiretapping on various CUS & M planes, reaching northbound systems, attack broader network to cause denial-of-service, steal unprotected private keys, certificates, hash values, or other type of breaches.                                                                                                                                               1\n",
      "Name: count, dtype: int64\n",
      "Threat title\n",
      "External attacker exploits authentication weakness on SMO                   2\n",
      "An attacker exploits misconfigured or poorly configured O-RAN components    1\n",
      "Name: count, dtype: int64\n"
     ]
    }
   ],
   "source": [
    "\n",
    "print(df_threats['Threat Description'].value_counts().head(2))\n",
    "print(df_threats['Threat title'].value_counts().head(2))"
   ]
  },
  {
   "cell_type": "code",
   "execution_count": 31,
   "id": "e32f93bc",
   "metadata": {},
   "outputs": [
    {
     "data": {
      "text/html": [
       "<div>\n",
       "<style scoped>\n",
       "    .dataframe tbody tr th:only-of-type {\n",
       "        vertical-align: middle;\n",
       "    }\n",
       "\n",
       "    .dataframe tbody tr th {\n",
       "        vertical-align: top;\n",
       "    }\n",
       "\n",
       "    .dataframe thead th {\n",
       "        text-align: right;\n",
       "    }\n",
       "</style>\n",
       "<table border=\"1\" class=\"dataframe\">\n",
       "  <thead>\n",
       "    <tr style=\"text-align: right;\">\n",
       "      <th></th>\n",
       "      <th>Threat ID</th>\n",
       "      <th>Threat title</th>\n",
       "      <th>Threat Description</th>\n",
       "      <th>Threat type</th>\n",
       "      <th>Impact type</th>\n",
       "      <th>Threat agent</th>\n",
       "      <th>Vulnerability</th>\n",
       "      <th>Threatened Asset</th>\n",
       "      <th>Affected Components</th>\n",
       "    </tr>\n",
       "  </thead>\n",
       "  <tbody>\n",
       "    <tr>\n",
       "      <th>42</th>\n",
       "      <td>T-SMO-01</td>\n",
       "      <td>External attacker exploits authentication weakness on SMO</td>\n",
       "      <td>An external attacker can exploit the improper/missing authentication weakness on SMO functions. If the authentication of O-RAN subjects on A1, O1, O2, and External interfaces on SMO is not supported or not properly implemented, those interfaces without proper credentials could be exploited to gain access to the SMO.</td>\n",
       "      <td>[Spoofing]</td>\n",
       "      <td>[Authenticity]</td>\n",
       "      <td>All</td>\n",
       "      <td>[Missing or improperly configured authentication]</td>\n",
       "      <td>[ASSET-C-11, ASSET-C-17]</td>\n",
       "      <td>[Non-RT RIC, SMO Framework]</td>\n",
       "    </tr>\n",
       "    <tr>\n",
       "      <th>43</th>\n",
       "      <td>T-SMO-02</td>\n",
       "      <td>External attacker exploits authentication weakness on SMO</td>\n",
       "      <td>An external attacker can exploit the improper/missing authorization weakness on SMO functions.  A malicious external entity on A1, O1, O2, and External interfaces without authorization or with an incorrect access token may invoke the SMO functions. The data at rest related to that function will be leaked to the attacker. In addition, an attacker can be able to perform certain actions, e.g.  disclose O-RAN sensitive information or alter O-RAN components.</td>\n",
       "      <td>[Elevation of Privilege, Information Disclosure]</td>\n",
       "      <td>[Authorization, Confidentiality]</td>\n",
       "      <td>All</td>\n",
       "      <td>[Missing or improperly configured authorization]</td>\n",
       "      <td>[ASSET-C-11, ASSET-C-17]</td>\n",
       "      <td>[Non-RT RIC, SMO Framework]</td>\n",
       "    </tr>\n",
       "  </tbody>\n",
       "</table>\n",
       "</div>"
      ],
      "text/plain": [
       "   Threat ID                                               Threat title  \\\n",
       "42  T-SMO-01  External attacker exploits authentication weakness on SMO   \n",
       "43  T-SMO-02  External attacker exploits authentication weakness on SMO   \n",
       "\n",
       "                                                                                                                                                                                                                                                                                                                                                                                                                                                           Threat Description  \\\n",
       "42                                                                                                                                              An external attacker can exploit the improper/missing authentication weakness on SMO functions. If the authentication of O-RAN subjects on A1, O1, O2, and External interfaces on SMO is not supported or not properly implemented, those interfaces without proper credentials could be exploited to gain access to the SMO.   \n",
       "43  An external attacker can exploit the improper/missing authorization weakness on SMO functions.  A malicious external entity on A1, O1, O2, and External interfaces without authorization or with an incorrect access token may invoke the SMO functions. The data at rest related to that function will be leaked to the attacker. In addition, an attacker can be able to perform certain actions, e.g.  disclose O-RAN sensitive information or alter O-RAN components.   \n",
       "\n",
       "                                         Threat type  \\\n",
       "42                                        [Spoofing]   \n",
       "43  [Elevation of Privilege, Information Disclosure]   \n",
       "\n",
       "                         Impact type Threat agent  \\\n",
       "42                    [Authenticity]          All   \n",
       "43  [Authorization, Confidentiality]          All   \n",
       "\n",
       "                                        Vulnerability  \\\n",
       "42  [Missing or improperly configured authentication]   \n",
       "43   [Missing or improperly configured authorization]   \n",
       "\n",
       "            Threatened Asset          Affected Components  \n",
       "42  [ASSET-C-11, ASSET-C-17]  [Non-RT RIC, SMO Framework]  \n",
       "43  [ASSET-C-11, ASSET-C-17]  [Non-RT RIC, SMO Framework]  "
      ]
     },
     "execution_count": 31,
     "metadata": {},
     "output_type": "execute_result"
    }
   ],
   "source": [
    "df_threats[df_threats['Threat title'] == 'External attacker exploits authentication weakness on SMO']\n"
   ]
  },
  {
   "cell_type": "markdown",
   "id": "8a145a5f",
   "metadata": {},
   "source": [
    "### Data understanding of CAPEC data"
   ]
  },
  {
   "cell_type": "code",
   "execution_count": 32,
   "id": "abaf4734",
   "metadata": {},
   "outputs": [],
   "source": [
    "from git import Repo, InvalidGitRepositoryError\n",
    "import os\n",
    "import shutil\n",
    "\n",
    "from stix2 import FileSystemSource\n",
    "from stix2 import Filter"
   ]
  },
  {
   "cell_type": "code",
   "execution_count": 33,
   "id": "f738c8ef",
   "metadata": {},
   "outputs": [],
   "source": [
    "def pull_clone_gitrepo(directory, repo):\n",
    "    # Check if the data direcory exists\n",
    "    if not os.path.isdir(directory):\n",
    "        Repo.clone_from(repo, directory)\n",
    "    else:\n",
    "        try:\n",
    "            # Check if the data directory is actually a repositry then pull the canges\n",
    "            repo = Repo(directory)\n",
    "            repo.remotes.origin.pull()\n",
    "        except InvalidGitRepositoryError:\n",
    "            # If not then remove the folder\n",
    "            shutil.rmtree(directory)\n",
    "            Repo.clone_from(repo, directory)\n",
    "\n",
    "def prepare_capecs_df():\n",
    "    pull_clone_gitrepo('./data', 'https://github.com/mitre/cti')\n",
    "    fs = FileSystemSource('./data/capec/2.1')\n",
    "    filt = Filter('type', '=', 'attack-pattern')\n",
    "\n",
    "    attack_patterns = fs.query([filt])\n",
    "\n",
    "    data_array = []\n",
    "    for pattern in attack_patterns:\n",
    "        if not pattern.x_capec_status == \"Deprecated\":\n",
    "            info = []\n",
    "            result = [obj for obj in pattern.external_references if obj['source_name'] == \"capec\"]\n",
    "            info.append(result[0].external_id)\n",
    "            info.append(pattern.name)\n",
    "            info.append(pattern.description)\n",
    "            if \"x_capec_domains\" in pattern:\n",
    "                info.append(pattern.x_capec_domains)\n",
    "            else:\n",
    "                info.append(\"not given\")\n",
    "            data_array.append(info)\n",
    "\n",
    "    columns = ['CAPEC ID', 'capec_name', 'capec_description', 'capec_domain']\n",
    "    df = pd.DataFrame(data_array, columns=columns)\n",
    "\n",
    "    df['summary'] = ''\n",
    "    for index, row in df.iterrows():\n",
    "        if len(row['capec_domain']) > 1:\n",
    "            domains_string = \". The Domains of this are: \"+', '.join(row['capec_domain'])\n",
    "        else:\n",
    "            domains_string = \". The Domain of this is: \"+row['capec_domain'][0]\n",
    "\n",
    "        summary = 'A CAPEC with the title '+row['capec_name']+\\\n",
    "                    '. The description of this CAPEC is: '+row['capec_description']+\\\n",
    "                    domains_string\n",
    "        \n",
    "        df.at[index, 'summary'] = summary\n",
    "    return df\n"
   ]
  },
  {
   "cell_type": "code",
   "execution_count": 34,
   "id": "4ef09d5b",
   "metadata": {},
   "outputs": [],
   "source": [
    "#generate the capecs_df\n",
    "#capecs_df = prepare_capecs_df()\n",
    "##safe capecs data to pickle\n",
    "#capecs_df.to_pickle('capec_data/capecs.pk1')"
   ]
  },
  {
   "cell_type": "code",
   "execution_count": 39,
   "id": "fdbc6980",
   "metadata": {},
   "outputs": [],
   "source": [
    "#load capecs data from pickle\n",
    "capecs_df = pd.read_pickle('capec_data/capecs.pk1')"
   ]
  },
  {
   "cell_type": "code",
   "execution_count": 40,
   "id": "44d8cf81",
   "metadata": {},
   "outputs": [
    {
     "name": "stdout",
     "output_type": "stream",
     "text": [
      "Shape of capecs_df: (559, 5)\n",
      "\n",
      "Column names: ['CAPEC ID', 'capec_name', 'capec_description', 'capec_domain', 'summary']\n",
      "\n",
      "Missing values per column:\n",
      " CAPEC ID             0\n",
      "capec_name           0\n",
      "capec_description    0\n",
      "capec_domain         0\n",
      "summary              0\n",
      "dtype: int64\n",
      "\n",
      "Data types:\n",
      " CAPEC ID             object\n",
      "capec_name           object\n",
      "capec_description    object\n",
      "capec_domain         object\n",
      "summary              object\n",
      "dtype: object\n",
      "\n",
      "First 5 rows:\n"
     ]
    },
    {
     "data": {
      "text/html": [
       "<div>\n",
       "<style scoped>\n",
       "    .dataframe tbody tr th:only-of-type {\n",
       "        vertical-align: middle;\n",
       "    }\n",
       "\n",
       "    .dataframe tbody tr th {\n",
       "        vertical-align: top;\n",
       "    }\n",
       "\n",
       "    .dataframe thead th {\n",
       "        text-align: right;\n",
       "    }\n",
       "</style>\n",
       "<table border=\"1\" class=\"dataframe\">\n",
       "  <thead>\n",
       "    <tr style=\"text-align: right;\">\n",
       "      <th></th>\n",
       "      <th>CAPEC ID</th>\n",
       "      <th>capec_name</th>\n",
       "      <th>capec_description</th>\n",
       "      <th>capec_domain</th>\n",
       "      <th>summary</th>\n",
       "    </tr>\n",
       "  </thead>\n",
       "  <tbody>\n",
       "    <tr>\n",
       "      <th>0</th>\n",
       "      <td>CAPEC-87</td>\n",
       "      <td>Forceful Browsing</td>\n",
       "      <td>An attacker employs forceful browsing (direct ...</td>\n",
       "      <td>[Software]</td>\n",
       "      <td>A CAPEC with the title Forceful Browsing. The ...</td>\n",
       "    </tr>\n",
       "    <tr>\n",
       "      <th>1</th>\n",
       "      <td>CAPEC-391</td>\n",
       "      <td>Bypassing Physical Locks</td>\n",
       "      <td>An attacker uses techniques and methods to byp...</td>\n",
       "      <td>[Physical Security]</td>\n",
       "      <td>A CAPEC with the title Bypassing Physical Lock...</td>\n",
       "    </tr>\n",
       "    <tr>\n",
       "      <th>2</th>\n",
       "      <td>CAPEC-4</td>\n",
       "      <td>Using Alternative IP Address Encodings</td>\n",
       "      <td>This attack relies on the adversary using unex...</td>\n",
       "      <td>[Software]</td>\n",
       "      <td>A CAPEC with the title Using Alternative IP Ad...</td>\n",
       "    </tr>\n",
       "    <tr>\n",
       "      <th>3</th>\n",
       "      <td>CAPEC-185</td>\n",
       "      <td>Malicious Software Download</td>\n",
       "      <td>An attacker uses deceptive methods to cause a ...</td>\n",
       "      <td>[Software]</td>\n",
       "      <td>A CAPEC with the title Malicious Software Down...</td>\n",
       "    </tr>\n",
       "    <tr>\n",
       "      <th>4</th>\n",
       "      <td>CAPEC-226</td>\n",
       "      <td>Session Credential Falsification through Manip...</td>\n",
       "      <td>An attacker manipulates an existing credential...</td>\n",
       "      <td>[Software]</td>\n",
       "      <td>A CAPEC with the title Session Credential Fals...</td>\n",
       "    </tr>\n",
       "  </tbody>\n",
       "</table>\n",
       "</div>"
      ],
      "text/plain": [
       "    CAPEC ID                                         capec_name  \\\n",
       "0   CAPEC-87                                  Forceful Browsing   \n",
       "1  CAPEC-391                           Bypassing Physical Locks   \n",
       "2    CAPEC-4             Using Alternative IP Address Encodings   \n",
       "3  CAPEC-185                        Malicious Software Download   \n",
       "4  CAPEC-226  Session Credential Falsification through Manip...   \n",
       "\n",
       "                                   capec_description         capec_domain  \\\n",
       "0  An attacker employs forceful browsing (direct ...           [Software]   \n",
       "1  An attacker uses techniques and methods to byp...  [Physical Security]   \n",
       "2  This attack relies on the adversary using unex...           [Software]   \n",
       "3  An attacker uses deceptive methods to cause a ...           [Software]   \n",
       "4  An attacker manipulates an existing credential...           [Software]   \n",
       "\n",
       "                                             summary  \n",
       "0  A CAPEC with the title Forceful Browsing. The ...  \n",
       "1  A CAPEC with the title Bypassing Physical Lock...  \n",
       "2  A CAPEC with the title Using Alternative IP Ad...  \n",
       "3  A CAPEC with the title Malicious Software Down...  \n",
       "4  A CAPEC with the title Session Credential Fals...  "
      ]
     },
     "metadata": {},
     "output_type": "display_data"
    },
    {
     "name": "stdout",
     "output_type": "stream",
     "text": [
      "\n",
      "Summary statistics for text length in 'capec_description':\n",
      "count     559.000000\n",
      "mean      474.048301\n",
      "std       224.179346\n",
      "min         0.000000\n",
      "25%       301.500000\n",
      "50%       427.000000\n",
      "75%       624.000000\n",
      "max      1069.000000\n",
      "Name: capec_description, dtype: float64\n"
     ]
    }
   ],
   "source": [
    "# Display general information about capecs_df\n",
    "print(\"Shape of capecs_df:\", capecs_df.shape)\n",
    "print(\"\\nColumn names:\", capecs_df.columns.tolist())\n",
    "print(\"\\nMissing values per column:\\n\", capecs_df.isnull().sum())\n",
    "print(\"\\nData types:\\n\", capecs_df.dtypes)\n",
    "print(\"\\nFirst 5 rows:\")\n",
    "display(capecs_df.head())\n",
    "print(\"\\nSummary statistics for text length in 'capec_description':\")\n",
    "desc_lengths = capecs_df['capec_description'].dropna().str.len()\n",
    "print(desc_lengths.describe())"
   ]
  },
  {
   "cell_type": "code",
   "execution_count": 41,
   "id": "24c2fc97",
   "metadata": {},
   "outputs": [
    {
     "data": {
      "text/html": [
       "<div>\n",
       "<style scoped>\n",
       "    .dataframe tbody tr th:only-of-type {\n",
       "        vertical-align: middle;\n",
       "    }\n",
       "\n",
       "    .dataframe tbody tr th {\n",
       "        vertical-align: top;\n",
       "    }\n",
       "\n",
       "    .dataframe thead th {\n",
       "        text-align: right;\n",
       "    }\n",
       "</style>\n",
       "<table border=\"1\" class=\"dataframe\">\n",
       "  <thead>\n",
       "    <tr style=\"text-align: right;\">\n",
       "      <th></th>\n",
       "      <th>CAPEC ID</th>\n",
       "      <th>capec_name</th>\n",
       "      <th>capec_description</th>\n",
       "      <th>capec_domain</th>\n",
       "      <th>summary</th>\n",
       "    </tr>\n",
       "  </thead>\n",
       "  <tbody>\n",
       "  </tbody>\n",
       "</table>\n",
       "</div>"
      ],
      "text/plain": [
       "Empty DataFrame\n",
       "Columns: [CAPEC ID, capec_name, capec_description, capec_domain, summary]\n",
       "Index: []"
      ]
     },
     "execution_count": 41,
     "metadata": {},
     "output_type": "execute_result"
    }
   ],
   "source": [
    "# show rows with missing values in 'capec_description'\n",
    "capecs_df[capecs_df['capec_description'].isnull()]"
   ]
  },
  {
   "cell_type": "code",
   "execution_count": 42,
   "id": "00bdd8c0",
   "metadata": {},
   "outputs": [
    {
     "data": {
      "text/html": [
       "<div>\n",
       "<style scoped>\n",
       "    .dataframe tbody tr th:only-of-type {\n",
       "        vertical-align: middle;\n",
       "    }\n",
       "\n",
       "    .dataframe tbody tr th {\n",
       "        vertical-align: top;\n",
       "    }\n",
       "\n",
       "    .dataframe thead th {\n",
       "        text-align: right;\n",
       "    }\n",
       "</style>\n",
       "<table border=\"1\" class=\"dataframe\">\n",
       "  <thead>\n",
       "    <tr style=\"text-align: right;\">\n",
       "      <th></th>\n",
       "      <th>CAPEC ID</th>\n",
       "      <th>capec_name</th>\n",
       "      <th>capec_description</th>\n",
       "      <th>capec_domain</th>\n",
       "      <th>summary</th>\n",
       "    </tr>\n",
       "  </thead>\n",
       "  <tbody>\n",
       "    <tr>\n",
       "      <th>81</th>\n",
       "      <td>CAPEC-699</td>\n",
       "      <td>Eavesdropping on a Monitor</td>\n",
       "      <td>An Adversary can eavesdrop on the content of a...</td>\n",
       "      <td>not given</td>\n",
       "      <td>A CAPEC with the title Eavesdropping on a Moni...</td>\n",
       "    </tr>\n",
       "  </tbody>\n",
       "</table>\n",
       "</div>"
      ],
      "text/plain": [
       "     CAPEC ID                  capec_name  \\\n",
       "81  CAPEC-699  Eavesdropping on a Monitor   \n",
       "\n",
       "                                    capec_description capec_domain  \\\n",
       "81  An Adversary can eavesdrop on the content of a...    not given   \n",
       "\n",
       "                                              summary  \n",
       "81  A CAPEC with the title Eavesdropping on a Moni...  "
      ]
     },
     "execution_count": 42,
     "metadata": {},
     "output_type": "execute_result"
    }
   ],
   "source": [
    "capecs_df[capecs_df['capec_domain'] == 'not given']"
   ]
  },
  {
   "cell_type": "code",
   "execution_count": 43,
   "id": "72f1a59b",
   "metadata": {},
   "outputs": [
    {
     "data": {
      "text/plain": [
       "capec_domain\n",
       "[Software]                                                                     287\n",
       "[Communications, Software]                                                      67\n",
       "[Social Engineering]                                                            30\n",
       "[Software, Hardware]                                                            28\n",
       "[Physical Security]                                                             15\n",
       "[Communications]                                                                13\n",
       "[Software, Physical Security, Hardware]                                          9\n",
       "[Software, Software, Software]                                                   9\n",
       "[Supply Chain, Hardware]                                                         9\n",
       "[Social Engineering, Supply Chain, Software]                                     8\n",
       "[Supply Chain, Physical Security, Hardware]                                      8\n",
       "[Supply Chain, Software]                                                         8\n",
       "[Supply Chain]                                                                   7\n",
       "[Social Engineering, Software]                                                   7\n",
       "[Supply Chain, Software, Hardware]                                               7\n",
       "[Communications, Hardware]                                                       6\n",
       "[Software, Software]                                                             6\n",
       "[Communications, Software, Hardware]                                             4\n",
       "[Social Engineering, Social Engineering]                                         4\n",
       "[Software, Hardware, Software]                                                   3\n",
       "[Social Engineering, Supply Chain, Communications, Software, Hardware]           3\n",
       "[Hardware, Hardware]                                                             3\n",
       "[Communications, Software, Physical Security]                                    2\n",
       "[Social Engineering, Communications, Software, Hardware]                         2\n",
       "[Software, Physical Security]                                                    2\n",
       "[Social Engineering, Social Engineering, Software]                               2\n",
       "[Supply Chain, Software, Physical Security, Hardware]                            2\n",
       "[Social Engineering, Software, Hardware]                                         2\n",
       "[Hardware]                                                                       1\n",
       "not given                                                                        1\n",
       "[Social Engineering, Communications, Software, Physical Security, Hardware]      1\n",
       "[Social Engineering, Communications]                                             1\n",
       "[Communications, Software, Software]                                             1\n",
       "[Software, Communications, Software]                                             1\n",
       "Name: count, dtype: int64"
      ]
     },
     "execution_count": 43,
     "metadata": {},
     "output_type": "execute_result"
    }
   ],
   "source": [
    "capecs_df['capec_domain'].value_counts()"
   ]
  },
  {
   "cell_type": "code",
   "execution_count": 44,
   "id": "47d3ca57",
   "metadata": {},
   "outputs": [
    {
     "data": {
      "text/plain": [
       "capec_domain\n",
       "Software              490\n",
       "Communications        101\n",
       "Hardware               91\n",
       "Social Engineering     66\n",
       "Supply Chain           52\n",
       "Physical Security      39\n",
       "not given               1\n",
       "Name: count, dtype: int64"
      ]
     },
     "execution_count": 44,
     "metadata": {},
     "output_type": "execute_result"
    }
   ],
   "source": [
    "# value counts for 'capec_domain'\n",
    "capecs_df['capec_domain'].explode().value_counts(dropna=False)"
   ]
  },
  {
   "cell_type": "code",
   "execution_count": 45,
   "id": "4202ea6e",
   "metadata": {},
   "outputs": [
    {
     "name": "stdout",
     "output_type": "stream",
     "text": [
      "Count of rows with duplicates: 30\n",
      "25                        [Software, Software, Software]\n",
      "29                                  [Software, Software]\n",
      "54                                  [Hardware, Hardware]\n",
      "80                        [Software, Software, Software]\n",
      "81                                             not given\n",
      "86     [Social Engineering, Social Engineering, Softw...\n",
      "91              [Social Engineering, Social Engineering]\n",
      "99                                  [Software, Software]\n",
      "119                       [Software, Software, Software]\n",
      "123                                 [Hardware, Hardware]\n",
      "156             [Social Engineering, Social Engineering]\n",
      "165                                 [Software, Software]\n",
      "177                       [Software, Software, Software]\n",
      "201             [Social Engineering, Social Engineering]\n",
      "225                       [Software, Software, Software]\n",
      "243                       [Software, Hardware, Software]\n",
      "262             [Social Engineering, Social Engineering]\n",
      "286                       [Software, Software, Software]\n",
      "292    [Social Engineering, Social Engineering, Softw...\n",
      "363                 [Communications, Software, Software]\n",
      "388                                 [Software, Software]\n",
      "395                       [Software, Software, Software]\n",
      "431                       [Software, Software, Software]\n",
      "455                                 [Software, Software]\n",
      "469                 [Software, Communications, Software]\n",
      "493                                 [Hardware, Hardware]\n",
      "497                       [Software, Software, Software]\n",
      "509                                 [Software, Software]\n",
      "516                       [Software, Hardware, Software]\n",
      "543                       [Software, Hardware, Software]\n",
      "Name: capec_domain, dtype: object\n"
     ]
    }
   ],
   "source": [
    "duplicates = capecs_df[capecs_df['capec_domain'].apply(lambda x: len(x) != len(set(x)))]['capec_domain']\n",
    "\n",
    "print(f\"Count of rows with duplicates: {len(duplicates)}\")\n",
    "print(duplicates)\n"
   ]
  },
  {
   "cell_type": "markdown",
   "id": "e6c210c8",
   "metadata": {},
   "source": [
    "## Data Preparation"
   ]
  },
  {
   "cell_type": "markdown",
   "id": "8cc0941a",
   "metadata": {},
   "source": [
    "Merging title and description to match the form of the original orca pipeline."
   ]
  },
  {
   "cell_type": "code",
   "execution_count": 42,
   "id": "da9f8c42",
   "metadata": {},
   "outputs": [],
   "source": [
    "threats_summary_context = {'Threat title': 'A Threat with the title ', 'Threat Description': ' and the description'}\n",
    "def add_summary_to_df(input_df, coll_context, ):\n",
    "    input_df['summary'] = ''\n",
    "    for key, value in coll_context.items():\n",
    "        input_df['summary'] +=  value + input_df[key]"
   ]
  },
  {
   "cell_type": "code",
   "execution_count": 43,
   "id": "b07ccc06",
   "metadata": {},
   "outputs": [
    {
     "data": {
      "text/plain": [
       "'A Threat with the title An attacker exploits insecure designs or lack of adaption in O-RAN components and the descriptionUnauthenticated/unauthorized access to O-RAN components could possibly be achieved via the different O-RAN interfaces, depending upon the design of the hardware-software O-RAN system and how different functions are segregated within the O-RAN system. \\nO-RAN components might be vulnerable if: \\n• Outdated component from the lack of update or patch management,\\n• Poorly design architecture,\\n• Missing appropriate security hardening,\\n• Unnecessary or insecure function/protocol/component.\\nAn attacker could, in such case, either inject malwares and/or manipulate existing software, harm the O-RAN components, create a performance issue by manipulation of parameters, or reconfigure the O-RAN components and disable the security features with the purpose of eavesdropping or wiretapping on various CUS & M planes, reaching northbound systems, attack broader network to cause denial-of-service, steal unprotected private keys, certificates, hash values, or other type of breaches.\\nIn addition, O-RAN components could be software providing network functions, so they are likely to be vulnerable to software flaws: it could be possible to bypass firewall restrictions or to take advantage of a buffer overflow to execute arbitrary commands, etc.'"
      ]
     },
     "execution_count": 43,
     "metadata": {},
     "output_type": "execute_result"
    }
   ],
   "source": [
    "add_summary_to_df(df_threats, threats_summary_context)\n",
    "df_threats.loc[0, 'summary']  "
   ]
  },
  {
   "cell_type": "markdown",
   "id": "e8cf60f6",
   "metadata": {},
   "source": [
    "Data preparation for establishing a baseline, implementing the ORCA mapping."
   ]
  },
  {
   "cell_type": "markdown",
   "id": "0e327b99",
   "metadata": {},
   "source": [
    "1. Add the embedding to the threat and to to the capec data"
   ]
  },
  {
   "cell_type": "code",
   "execution_count": 44,
   "id": "9127e296",
   "metadata": {},
   "outputs": [
    {
     "name": "stderr",
     "output_type": "stream",
     "text": [
      "c:\\Users\\domep\\Development\\Masterarbeit\\MasterThesis_LLM_optimization_ORCA\\.venv\\Lib\\site-packages\\tqdm\\auto.py:21: TqdmWarning: IProgress not found. Please update jupyter and ipywidgets. See https://ipywidgets.readthedocs.io/en/stable/user_install.html\n",
      "  from .autonotebook import tqdm as notebook_tqdm\n"
     ]
    }
   ],
   "source": [
    "from sentence_transformers import SentenceTransformer, util\n",
    "import torch"
   ]
  },
  {
   "cell_type": "code",
   "execution_count": 45,
   "id": "16259f13",
   "metadata": {},
   "outputs": [],
   "source": [
    "model = SentenceTransformer('sentence-transformers/all-MiniLM-L12-v2')\n",
    "\n",
    "def preprocess_description(description):\n",
    "    # remove patterns not semantically relevant\n",
    "    pattern = r\"\\((http|https)\\S+\\)|['\\[\\]]+\"\n",
    "    description = re.sub(pattern, \"\", description)\n",
    "    return description\n",
    "\n",
    "def gen_embedding(description):\n",
    "    if isinstance(description, str):\n",
    "        description1 = description\n",
    "    else:\n",
    "        description1 = '\\n'.join(description)\n",
    "    description = preprocess_description(description1)\n",
    "    return model.encode(description, convert_to_numpy=True)\n",
    "\n",
    "def add_embedd_to_df(input_df, descryption_name):\n",
    "    input_df['embedding'] = input_df[descryption_name].apply(gen_embedding)"
   ]
  },
  {
   "cell_type": "code",
   "execution_count": 46,
   "id": "65e1164c",
   "metadata": {},
   "outputs": [],
   "source": [
    "# add embedding to the threats dataframe\n",
    "add_embedd_to_df(df_threats, 'summary')"
   ]
  },
  {
   "cell_type": "code",
   "execution_count": null,
   "id": "dc835c1d",
   "metadata": {},
   "outputs": [],
   "source": []
  },
  {
   "cell_type": "code",
   "execution_count": 47,
   "id": "9a66e009",
   "metadata": {},
   "outputs": [],
   "source": [
    "# add embedding to the capecs dataframe\n",
    "#add_embedd_to_df(capecs_df, 'summary')\n",
    "#capecs_with_embeddings_df = capecs_df\n",
    "#capecs_with_embeddings_df.to_pickle('capec_data/capecs_with_embeddings.pk1')"
   ]
  },
  {
   "cell_type": "code",
   "execution_count": 46,
   "id": "d4b8f3ac",
   "metadata": {},
   "outputs": [],
   "source": [
    "capecs_with_embeddings_df = pd.read_pickle('capec_data/capecs_with_embeddings.pk1')"
   ]
  },
  {
   "cell_type": "markdown",
   "id": "f416d6be",
   "metadata": {},
   "source": [
    "2. generate the mapping of threats to capecs"
   ]
  },
  {
   "cell_type": "code",
   "execution_count": 49,
   "id": "fdfee626",
   "metadata": {},
   "outputs": [],
   "source": [
    "DOMAIN = \"enterprise-attack\"\n",
    "def gen_mapping(th_df, te_df):\n",
    "    maping = pd.DataFrame()\n",
    "    if 'summary' in th_df.columns:\n",
    "        th_df.rename(columns={'summary': 'summary_th_df'}, inplace=True)\n",
    "    if 'summary' in te_df.columns:\n",
    "        te_df.rename(columns={'summary': 'summary_ca_df'}, inplace=True)\n",
    "\n",
    "    for tec_index, row_techniques in te_df.iterrows():\n",
    "        for thr_index, row_threats in th_df.iterrows():\n",
    "            cosine_similarity = util.pytorch_cos_sim(torch.from_numpy(row_techniques['embedding']),\n",
    "                                                     torch.from_numpy(row_threats['embedding']))\n",
    "            comb = pd.concat([row_techniques, row_threats], axis=0)\n",
    "            comb = comb.to_frame().T\n",
    "            comb['Similarity'] = cosine_similarity\n",
    "            maping = pd.concat([maping, comb], ignore_index=True)\n",
    "\n",
    "    maping['Domain'] = DOMAIN\n",
    "    return maping"
   ]
  },
  {
   "cell_type": "code",
   "execution_count": 50,
   "id": "a2d87949",
   "metadata": {},
   "outputs": [],
   "source": [
    "capec_mapping = gen_mapping(df_threats, capecs_with_embeddings_df)"
   ]
  },
  {
   "cell_type": "markdown",
   "id": "558e7fd6",
   "metadata": {},
   "source": [
    "3. format the mapping"
   ]
  },
  {
   "cell_type": "code",
   "execution_count": 51,
   "id": "d8d3bee2",
   "metadata": {},
   "outputs": [],
   "source": [
    "COLOM_MAP = {'ID': 'Technique', 'name': 'yeet', 'Threat ID': 'Name', 'tactics': 'tactic', 'Threat title':'Description'}\n",
    "MAP_ORDER_capec = ['Name', 'Domain', 'Description', 'CAPEC ID', 'Similarity', 'summary_th_df', 'summary_ca_df']\n",
    "def format_map(ma, MAP_ORDER):\n",
    "    ma.rename(columns=COLOM_MAP, inplace=True)\n",
    "    ma = ma.loc[:, MAP_ORDER]\n",
    "    return ma"
   ]
  },
  {
   "cell_type": "code",
   "execution_count": 52,
   "id": "b20abf8c",
   "metadata": {},
   "outputs": [],
   "source": [
    "formatted_capec_mapping = format_map(capec_mapping, MAP_ORDER_capec)"
   ]
  },
  {
   "cell_type": "code",
   "execution_count": 53,
   "id": "b7cff321",
   "metadata": {},
   "outputs": [
    {
     "data": {
      "text/html": [
       "<div>\n",
       "<style scoped>\n",
       "    .dataframe tbody tr th:only-of-type {\n",
       "        vertical-align: middle;\n",
       "    }\n",
       "\n",
       "    .dataframe tbody tr th {\n",
       "        vertical-align: top;\n",
       "    }\n",
       "\n",
       "    .dataframe thead th {\n",
       "        text-align: right;\n",
       "    }\n",
       "</style>\n",
       "<table border=\"1\" class=\"dataframe\">\n",
       "  <thead>\n",
       "    <tr style=\"text-align: right;\">\n",
       "      <th></th>\n",
       "      <th>Name</th>\n",
       "      <th>Domain</th>\n",
       "      <th>Description</th>\n",
       "      <th>CAPEC ID</th>\n",
       "      <th>Similarity</th>\n",
       "      <th>summary_th_df</th>\n",
       "      <th>summary_ca_df</th>\n",
       "    </tr>\n",
       "  </thead>\n",
       "  <tbody>\n",
       "    <tr>\n",
       "      <th>0</th>\n",
       "      <td>T-O-RAN-01</td>\n",
       "      <td>enterprise-attack</td>\n",
       "      <td>An attacker exploits insecure designs or lack of adaption in O-RAN components</td>\n",
       "      <td>CAPEC-87</td>\n",
       "      <td>0.246462</td>\n",
       "      <td>A Threat with the title An attacker exploits insecure designs or lack of adaption in O-RAN components and the descriptionUnauthenticated/unauthorized access to O-RAN components could possibly be achieved via the different O-RAN interfaces, depending upon the design of the hardware-software O-RAN system and how different functions are segregated within the O-RAN system. \\nO-RAN components might be vulnerable if: \\n• Outdated component from the lack of update or patch management,\\n• Poorly design architecture,\\n• Missing appropriate security hardening,\\n• Unnecessary or insecure function/protocol/component.\\nAn attacker could, in such case, either inject malwares and/or manipulate existing software, harm the O-RAN components, create a performance issue by manipulation of parameters, or reconfigure the O-RAN components and disable the security features with the purpose of eavesdropping or wiretapping on various CUS &amp; M planes, reaching northbound systems, attack broader network to cause denial-of-service, steal unprotected private keys, certificates, hash values, or other type of breaches.\\nIn addition, O-RAN components could be software providing network functions, so they are likely to be vulnerable to software flaws: it could be possible to bypass firewall restrictions or to take advantage of a buffer overflow to execute arbitrary commands, etc.</td>\n",
       "      <td>A CAPEC with the title Forceful Browsing. The description of this CAPEC is: An attacker employs forceful browsing (direct URL entry) to access portions of a website that are otherwise unreachable. Usually, a front controller or similar design pattern is employed to protect access to portions of a web application. Forceful browsing enables an attacker to access information, perform privileged operations and otherwise reach sections of the web application that have been improperly protected.. The Domain of this is: Software</td>\n",
       "    </tr>\n",
       "    <tr>\n",
       "      <th>1</th>\n",
       "      <td>T-O-RAN-02</td>\n",
       "      <td>enterprise-attack</td>\n",
       "      <td>An attacker exploits misconfigured or poorly configured O-RAN components</td>\n",
       "      <td>CAPEC-87</td>\n",
       "      <td>0.270846</td>\n",
       "      <td>A Threat with the title An attacker exploits misconfigured or poorly configured O-RAN components and the descriptionUnauthenticated/unauthorized access to O-RAN components could possibly be achieved via the different O-RAN interfaces, depending upon the configuration of the hardware-software O-RAN system. \\nO-RAN components might be vulnerable if: \\n• Errors from the lack of configuration change management,\\n• Misconfigured or poorly configured O-RAN components,\\n• Improperly configured permissions,\\n• Unnecessary features are enabled (e.g. unnecessary ports, services, accounts, or privileges),\\n• Default accounts and their passwords still enabled and unchanged,\\n• Security features are disabled or not configured securely.\\nAn attacker could, in such case, either inject malwares and/or manipulate existing software, harm the O-RAN components, create a performance issue by manipulation of parameters, or reconfigure the O-RAN components and disable the security features with the purpose of eavesdropping or wiretapping on various CUS &amp; M planes, reaching northbound systems, attack broader network to cause denial-of-service, steal unprotected private keys, certificates, hash values, or other type of breaches.</td>\n",
       "      <td>A CAPEC with the title Forceful Browsing. The description of this CAPEC is: An attacker employs forceful browsing (direct URL entry) to access portions of a website that are otherwise unreachable. Usually, a front controller or similar design pattern is employed to protect access to portions of a web application. Forceful browsing enables an attacker to access information, perform privileged operations and otherwise reach sections of the web application that have been improperly protected.. The Domain of this is: Software</td>\n",
       "    </tr>\n",
       "    <tr>\n",
       "      <th>2</th>\n",
       "      <td>T-O-RAN-03</td>\n",
       "      <td>enterprise-attack</td>\n",
       "      <td>Attacks from the internet to penetrate O-RAN network boundary</td>\n",
       "      <td>CAPEC-87</td>\n",
       "      <td>0.391938</td>\n",
       "      <td>A Threat with the title Attacks from the internet to penetrate O-RAN network boundary and the descriptionWeb servers serving O-RAN functional and management services should provide adequate protection. \\nAn attacker that have access to the uncontrolled O-RAN network could:\\n• Bypass the information flow control policy implemented by the firewall,\\n• And/or attack O-RAN components in the trusted networks by taking advantage of particularities and errors in the design and implementation of the network protocols (IP, TCP, UDP, application protocols),\\n• Use of incorrect or exceeded TCP sequence numbers,\\n• Perform brute force attacks on FTP passwords,\\n• Use of improper HTTP user sessions,\\n• Etc.\\nThe effects of such attacks may include:\\n• An intrusion, meaning unauthorized access to O-RAN components,\\n• Blocking, flooding or restarting an O-RAN component causing a denial of service,\\n• Flooding of network equipment, causing a denial of service,\\n• Etc.</td>\n",
       "      <td>A CAPEC with the title Forceful Browsing. The description of this CAPEC is: An attacker employs forceful browsing (direct URL entry) to access portions of a website that are otherwise unreachable. Usually, a front controller or similar design pattern is employed to protect access to portions of a web application. Forceful browsing enables an attacker to access information, perform privileged operations and otherwise reach sections of the web application that have been improperly protected.. The Domain of this is: Software</td>\n",
       "    </tr>\n",
       "    <tr>\n",
       "      <th>3</th>\n",
       "      <td>T-O-RAN-04</td>\n",
       "      <td>enterprise-attack</td>\n",
       "      <td>An attacker attempts to jam the airlink signal through IoT devices</td>\n",
       "      <td>CAPEC-87</td>\n",
       "      <td>0.267341</td>\n",
       "      <td>A Threat with the title An attacker attempts to jam the airlink signal through IoT devices and the descriptionDDoS attacks on O-RAN systems: The 5G evolution means billions of things, collectively referred to as IoT, will be using the 5G O-RAN. Thus, IoT could increase the risk of O-RAN resource overload by way of DDoS attacks. Attackers create a botnet army by infecting many (millions/billions) IoT devices with a “remote-reboot” malware. Attackers instruct the malware to reboot all devices in a specific or targeted 5G coverage area at the same time.</td>\n",
       "      <td>A CAPEC with the title Forceful Browsing. The description of this CAPEC is: An attacker employs forceful browsing (direct URL entry) to access portions of a website that are otherwise unreachable. Usually, a front controller or similar design pattern is employed to protect access to portions of a web application. Forceful browsing enables an attacker to access information, perform privileged operations and otherwise reach sections of the web application that have been improperly protected.. The Domain of this is: Software</td>\n",
       "    </tr>\n",
       "    <tr>\n",
       "      <th>4</th>\n",
       "      <td>T-O-RAN-05</td>\n",
       "      <td>enterprise-attack</td>\n",
       "      <td>An attacker penetrates and compromises the O-RAN system through the open O-RAN’s Fronthaul, O1, O2, A1, and E2</td>\n",
       "      <td>CAPEC-87</td>\n",
       "      <td>0.373829</td>\n",
       "      <td>A Threat with the title An attacker penetrates and compromises the O-RAN system through the open O-RAN’s Fronthaul, O1, O2, A1, and E2 and the descriptionO-RAN’s Fronthaul, O1, O2, A1, and E2 management interfaces are the new open interfaces that allow software programmability of RAN. These interfaces may not be secured to industry best practices.\\nO-RAN components might be vulnerable if: \\n• Improper or missing authentication and authorization processes,\\n• Improper or missing ciphering and integrity checks of sensitive data exchanged over O-RAN interfaces,\\n• Improper or missing replay protection of sensitive data exchanged over O-RAN interfaces,\\n• Improper prevention of key reuse,\\n• Improper implementation,\\n• Improperly validate inputs, respond to error conditions in both the submitted data as well as out of sequence protocol steps.\\nAn attacker could, in such case, cause denial-of-service, data tampering or information disclosure, etc.\\nNOTE: O-RAN interfaces allow use of TLS or SSH. Industry best practices mandate the use of TLS (v1.2 or higher) or SSH certificate-based authentication. An implementation that implements TLS version lower than 1.2 or a SSH password authentication, may become the key source of vulnerability that a malicious code will exploit to compromise the O-RAN system.</td>\n",
       "      <td>A CAPEC with the title Forceful Browsing. The description of this CAPEC is: An attacker employs forceful browsing (direct URL entry) to access portions of a website that are otherwise unreachable. Usually, a front controller or similar design pattern is employed to protect access to portions of a web application. Forceful browsing enables an attacker to access information, perform privileged operations and otherwise reach sections of the web application that have been improperly protected.. The Domain of this is: Software</td>\n",
       "    </tr>\n",
       "    <tr>\n",
       "      <th>5</th>\n",
       "      <td>T-O-RAN-06</td>\n",
       "      <td>enterprise-attack</td>\n",
       "      <td>An attacker exploits insufficient/improper mechanisms for authentication and authorization to compromise O-RAN components</td>\n",
       "      <td>CAPEC-87</td>\n",
       "      <td>0.327463</td>\n",
       "      <td>A Threat with the title An attacker exploits insufficient/improper mechanisms for authentication and authorization to compromise O-RAN components and the descriptionO-RAN management and orchestration should not be used without appropriate authentication and authorization and authorization checks. \\nO-RAN components might be vulnerable if: \\n• Unauthenticated access to O-RAN functions,\\n• Improper authentication mechanisms,\\n• Use of Predefined/ default accounts,\\n• Weak or missing password policy,\\n• Lack of mutual authentication to O-RAN components and interfaces,\\n• Failure to block consecutive failed login attempts,\\n• Improper authorization and access control policy.\\nAn attacker could, in such case, either inject malwares and/or manipulate existing software, harm the O-RAN components, create a performance issue by manipulation of parameters, or reconfigure the O-RAN components and disable the security features with the purpose of eavesdropping or wiretapping on various CUS &amp; M planes, reaching northbound systems, attack broader network to cause denial-of-service, steal unprotected private keys, certificates, hash values, or other type of breaches.</td>\n",
       "      <td>A CAPEC with the title Forceful Browsing. The description of this CAPEC is: An attacker employs forceful browsing (direct URL entry) to access portions of a website that are otherwise unreachable. Usually, a front controller or similar design pattern is employed to protect access to portions of a web application. Forceful browsing enables an attacker to access information, perform privileged operations and otherwise reach sections of the web application that have been improperly protected.. The Domain of this is: Software</td>\n",
       "    </tr>\n",
       "  </tbody>\n",
       "</table>\n",
       "</div>"
      ],
      "text/plain": [
       "         Name             Domain  \\\n",
       "0  T-O-RAN-01  enterprise-attack   \n",
       "1  T-O-RAN-02  enterprise-attack   \n",
       "2  T-O-RAN-03  enterprise-attack   \n",
       "3  T-O-RAN-04  enterprise-attack   \n",
       "4  T-O-RAN-05  enterprise-attack   \n",
       "5  T-O-RAN-06  enterprise-attack   \n",
       "\n",
       "                                                                                                                 Description  \\\n",
       "0                                              An attacker exploits insecure designs or lack of adaption in O-RAN components   \n",
       "1                                                   An attacker exploits misconfigured or poorly configured O-RAN components   \n",
       "2                                                              Attacks from the internet to penetrate O-RAN network boundary   \n",
       "3                                                         An attacker attempts to jam the airlink signal through IoT devices   \n",
       "4             An attacker penetrates and compromises the O-RAN system through the open O-RAN’s Fronthaul, O1, O2, A1, and E2   \n",
       "5  An attacker exploits insufficient/improper mechanisms for authentication and authorization to compromise O-RAN components   \n",
       "\n",
       "   CAPEC ID  Similarity  \\\n",
       "0  CAPEC-87    0.246462   \n",
       "1  CAPEC-87    0.270846   \n",
       "2  CAPEC-87    0.391938   \n",
       "3  CAPEC-87    0.267341   \n",
       "4  CAPEC-87    0.373829   \n",
       "5  CAPEC-87    0.327463   \n",
       "\n",
       "                                                                                                                                                                                                                                                                                                                                                                                                                                                                                                                                                                                                                                                                                                                                                                                                                                                                                                                                                                                                                                                                                                                                                                                                                                                                                                                                                                                                             summary_th_df  \\\n",
       "0  A Threat with the title An attacker exploits insecure designs or lack of adaption in O-RAN components and the descriptionUnauthenticated/unauthorized access to O-RAN components could possibly be achieved via the different O-RAN interfaces, depending upon the design of the hardware-software O-RAN system and how different functions are segregated within the O-RAN system. \\nO-RAN components might be vulnerable if: \\n• Outdated component from the lack of update or patch management,\\n• Poorly design architecture,\\n• Missing appropriate security hardening,\\n• Unnecessary or insecure function/protocol/component.\\nAn attacker could, in such case, either inject malwares and/or manipulate existing software, harm the O-RAN components, create a performance issue by manipulation of parameters, or reconfigure the O-RAN components and disable the security features with the purpose of eavesdropping or wiretapping on various CUS & M planes, reaching northbound systems, attack broader network to cause denial-of-service, steal unprotected private keys, certificates, hash values, or other type of breaches.\\nIn addition, O-RAN components could be software providing network functions, so they are likely to be vulnerable to software flaws: it could be possible to bypass firewall restrictions or to take advantage of a buffer overflow to execute arbitrary commands, etc.   \n",
       "1                                                                                                                                                  A Threat with the title An attacker exploits misconfigured or poorly configured O-RAN components and the descriptionUnauthenticated/unauthorized access to O-RAN components could possibly be achieved via the different O-RAN interfaces, depending upon the configuration of the hardware-software O-RAN system. \\nO-RAN components might be vulnerable if: \\n• Errors from the lack of configuration change management,\\n• Misconfigured or poorly configured O-RAN components,\\n• Improperly configured permissions,\\n• Unnecessary features are enabled (e.g. unnecessary ports, services, accounts, or privileges),\\n• Default accounts and their passwords still enabled and unchanged,\\n• Security features are disabled or not configured securely.\\nAn attacker could, in such case, either inject malwares and/or manipulate existing software, harm the O-RAN components, create a performance issue by manipulation of parameters, or reconfigure the O-RAN components and disable the security features with the purpose of eavesdropping or wiretapping on various CUS & M planes, reaching northbound systems, attack broader network to cause denial-of-service, steal unprotected private keys, certificates, hash values, or other type of breaches.   \n",
       "2                                                                                                                                                                                                                                                                                                                                                                                                                   A Threat with the title Attacks from the internet to penetrate O-RAN network boundary and the descriptionWeb servers serving O-RAN functional and management services should provide adequate protection. \\nAn attacker that have access to the uncontrolled O-RAN network could:\\n• Bypass the information flow control policy implemented by the firewall,\\n• And/or attack O-RAN components in the trusted networks by taking advantage of particularities and errors in the design and implementation of the network protocols (IP, TCP, UDP, application protocols),\\n• Use of incorrect or exceeded TCP sequence numbers,\\n• Perform brute force attacks on FTP passwords,\\n• Use of improper HTTP user sessions,\\n• Etc.\\nThe effects of such attacks may include:\\n• An intrusion, meaning unauthorized access to O-RAN components,\\n• Blocking, flooding or restarting an O-RAN component causing a denial of service,\\n• Flooding of network equipment, causing a denial of service,\\n• Etc.   \n",
       "3                                                                                                                                                                                                                                                                                                                                                                                                                                                                                                                                                                                                                                                                                                                                                                                                                                             A Threat with the title An attacker attempts to jam the airlink signal through IoT devices and the descriptionDDoS attacks on O-RAN systems: The 5G evolution means billions of things, collectively referred to as IoT, will be using the 5G O-RAN. Thus, IoT could increase the risk of O-RAN resource overload by way of DDoS attacks. Attackers create a botnet army by infecting many (millions/billions) IoT devices with a “remote-reboot” malware. Attackers instruct the malware to reboot all devices in a specific or targeted 5G coverage area at the same time.   \n",
       "4                                                      A Threat with the title An attacker penetrates and compromises the O-RAN system through the open O-RAN’s Fronthaul, O1, O2, A1, and E2 and the descriptionO-RAN’s Fronthaul, O1, O2, A1, and E2 management interfaces are the new open interfaces that allow software programmability of RAN. These interfaces may not be secured to industry best practices.\\nO-RAN components might be vulnerable if: \\n• Improper or missing authentication and authorization processes,\\n• Improper or missing ciphering and integrity checks of sensitive data exchanged over O-RAN interfaces,\\n• Improper or missing replay protection of sensitive data exchanged over O-RAN interfaces,\\n• Improper prevention of key reuse,\\n• Improper implementation,\\n• Improperly validate inputs, respond to error conditions in both the submitted data as well as out of sequence protocol steps.\\nAn attacker could, in such case, cause denial-of-service, data tampering or information disclosure, etc.\\nNOTE: O-RAN interfaces allow use of TLS or SSH. Industry best practices mandate the use of TLS (v1.2 or higher) or SSH certificate-based authentication. An implementation that implements TLS version lower than 1.2 or a SSH password authentication, may become the key source of vulnerability that a malicious code will exploit to compromise the O-RAN system.   \n",
       "5                                                                                                                                                                                                       A Threat with the title An attacker exploits insufficient/improper mechanisms for authentication and authorization to compromise O-RAN components and the descriptionO-RAN management and orchestration should not be used without appropriate authentication and authorization and authorization checks. \\nO-RAN components might be vulnerable if: \\n• Unauthenticated access to O-RAN functions,\\n• Improper authentication mechanisms,\\n• Use of Predefined/ default accounts,\\n• Weak or missing password policy,\\n• Lack of mutual authentication to O-RAN components and interfaces,\\n• Failure to block consecutive failed login attempts,\\n• Improper authorization and access control policy.\\nAn attacker could, in such case, either inject malwares and/or manipulate existing software, harm the O-RAN components, create a performance issue by manipulation of parameters, or reconfigure the O-RAN components and disable the security features with the purpose of eavesdropping or wiretapping on various CUS & M planes, reaching northbound systems, attack broader network to cause denial-of-service, steal unprotected private keys, certificates, hash values, or other type of breaches.   \n",
       "\n",
       "                                                                                                                                                                                                                                                                                                                                                                                                                                                                                                                                     summary_ca_df  \n",
       "0  A CAPEC with the title Forceful Browsing. The description of this CAPEC is: An attacker employs forceful browsing (direct URL entry) to access portions of a website that are otherwise unreachable. Usually, a front controller or similar design pattern is employed to protect access to portions of a web application. Forceful browsing enables an attacker to access information, perform privileged operations and otherwise reach sections of the web application that have been improperly protected.. The Domain of this is: Software  \n",
       "1  A CAPEC with the title Forceful Browsing. The description of this CAPEC is: An attacker employs forceful browsing (direct URL entry) to access portions of a website that are otherwise unreachable. Usually, a front controller or similar design pattern is employed to protect access to portions of a web application. Forceful browsing enables an attacker to access information, perform privileged operations and otherwise reach sections of the web application that have been improperly protected.. The Domain of this is: Software  \n",
       "2  A CAPEC with the title Forceful Browsing. The description of this CAPEC is: An attacker employs forceful browsing (direct URL entry) to access portions of a website that are otherwise unreachable. Usually, a front controller or similar design pattern is employed to protect access to portions of a web application. Forceful browsing enables an attacker to access information, perform privileged operations and otherwise reach sections of the web application that have been improperly protected.. The Domain of this is: Software  \n",
       "3  A CAPEC with the title Forceful Browsing. The description of this CAPEC is: An attacker employs forceful browsing (direct URL entry) to access portions of a website that are otherwise unreachable. Usually, a front controller or similar design pattern is employed to protect access to portions of a web application. Forceful browsing enables an attacker to access information, perform privileged operations and otherwise reach sections of the web application that have been improperly protected.. The Domain of this is: Software  \n",
       "4  A CAPEC with the title Forceful Browsing. The description of this CAPEC is: An attacker employs forceful browsing (direct URL entry) to access portions of a website that are otherwise unreachable. Usually, a front controller or similar design pattern is employed to protect access to portions of a web application. Forceful browsing enables an attacker to access information, perform privileged operations and otherwise reach sections of the web application that have been improperly protected.. The Domain of this is: Software  \n",
       "5  A CAPEC with the title Forceful Browsing. The description of this CAPEC is: An attacker employs forceful browsing (direct URL entry) to access portions of a website that are otherwise unreachable. Usually, a front controller or similar design pattern is employed to protect access to portions of a web application. Forceful browsing enables an attacker to access information, perform privileged operations and otherwise reach sections of the web application that have been improperly protected.. The Domain of this is: Software  "
      ]
     },
     "execution_count": 53,
     "metadata": {},
     "output_type": "execute_result"
    }
   ],
   "source": [
    "formatted_capec_mapping.loc[0:5]"
   ]
  },
  {
   "cell_type": "code",
   "execution_count": 54,
   "id": "79d8c41f",
   "metadata": {},
   "outputs": [
    {
     "data": {
      "text/plain": [
       "Index(['Name', 'Domain', 'Description', 'CAPEC ID', 'Similarity',\n",
       "       'summary_th_df', 'summary_ca_df'],\n",
       "      dtype='object')"
      ]
     },
     "execution_count": 54,
     "metadata": {},
     "output_type": "execute_result"
    }
   ],
   "source": [
    "formatted_capec_mapping.columns"
   ]
  },
  {
   "cell_type": "code",
   "execution_count": 55,
   "id": "b057f01e",
   "metadata": {},
   "outputs": [
    {
     "name": "stdout",
     "output_type": "stream",
     "text": [
      "Top CAPEC for Each Threat:\n",
      "\n",
      "Threat: T-A1-01\n",
      "  - CAPEC ID: CAPEC-94, Similarity: 0.5281, Description: Untrusted peering between Non-RT-RIC and Near-RT-RIC\n",
      "\n",
      "Threat: T-A1-02\n",
      "  - CAPEC ID: CAPEC-387, Similarity: 0.6099, Description: Malicious function or application monitors messaging across A1 interface\n",
      "\n",
      "Threat: T-A1-03\n",
      "  - CAPEC ID: CAPEC-387, Similarity: 0.5789, Description: Malicious function or application modifies messaging across A1 interface\n",
      "\n",
      "Threat: T-AAL-01\n",
      "  - CAPEC ID: CAPEC-440, Similarity: 0.5029, Description: Attacker exploits insecure API to gain access to hardware accelerator resources\n",
      "\n",
      "Threat: T-AAL-02\n",
      "  - CAPEC ID: CAPEC-469, Similarity: 0.4663, Description: Internal Overload DoS attack targeting AAL services\n",
      "\n",
      "Threat: T-AAL-03\n",
      "  - CAPEC ID: CAPEC-548, Similarity: 0.4826, Description: Fail to clear resources\n",
      "\n",
      "Threat: T-AAL-04\n",
      "  - CAPEC ID: CAPEC-401, Similarity: 0.4988, Description: HAM compromise\n",
      "\n",
      "Threat: T-AAL-05\n",
      "  - CAPEC ID: CAPEC-456, Similarity: 0.6088, Description: Malicious memory accesses\n",
      "\n",
      "Threat: T-AAL-06\n",
      "  - CAPEC ID: CAPEC-638, Similarity: 0.6232, Description: Firmware attacks\n",
      "\n",
      "Threat: T-ADMIN-01\n",
      "  - CAPEC ID: CAPEC-583, Similarity: 0.4209, Description: Denial of service against NFO/FOCOM\n",
      "\n",
      "Threat: T-ADMIN-02\n",
      "  - CAPEC ID: CAPEC-122, Similarity: 0.5220, Description: Abuse a O-Cloud administration service\n",
      "\n",
      "Threat: T-AppLCM-01\n",
      "  - CAPEC ID: CAPEC-669, Similarity: 0.5963, Description: Compromise of App/VNF/CNF update package integrity during onboarding\n",
      "\n",
      "Threat: T-AppLCM-02\n",
      "  - CAPEC ID: CAPEC-23, Similarity: 0.5574, Description: Compromise of App/VNF/CNF update image integrity during instantiation\n",
      "\n",
      "Threat: T-AppLCM-03\n",
      "  - CAPEC ID: CAPEC-444, Similarity: 0.4457, Description: Downgrade attack to vulnerable application version\n",
      "\n",
      "Threat: T-AppLCM-04\n",
      "  - CAPEC ID: CAPEC-180, Similarity: 0.5421, Description: Attacker exploits missing or improperly defined elements of application’s SecurityDescriptor\n",
      "\n",
      "Threat: T-AppLCM-05\n",
      "  - CAPEC ID: CAPEC-502, Similarity: 0.5442, Description: Malicious actor modifies application’s SecurityDescriptor\n",
      "\n",
      "Threat: T-AppLCM-06\n",
      "  - CAPEC ID: CAPEC-271, Similarity: 0.5144, Description: Improper decommissioning of application \n",
      "\n",
      "Threat: T-AppLCM-07\n",
      "  - CAPEC ID: CAPEC-546, Similarity: 0.6154, Description: Improper deletion of application sensitive data\n",
      "\n",
      "Threat: T-CPLANE-01\n",
      "  - CAPEC ID: CAPEC-473, Similarity: 0.5538, Description: Spoofing of DL C-plane messages\n",
      "\n",
      "Threat: T-CPLANE-02\n",
      "  - CAPEC ID: CAPEC-473, Similarity: 0.5349, Description: Spoofing of UL C-plane messages\n",
      "\n",
      "Threat: T-E2-01\n",
      "  - CAPEC ID: CAPEC-94, Similarity: 0.4994, Description: Untrusted Near-RT-RIC and E2 Nodes\n",
      "\n",
      "Threat: T-E2-02\n",
      "  - CAPEC ID: CAPEC-12, Similarity: 0.5344, Description: Malicious actor monitors messaging across E2 interface\n",
      "\n",
      "Threat: T-E3-03\n",
      "  - CAPEC ID: CAPEC-12, Similarity: 0.5092, Description: Malicious actor modifies messaging across E2 interface\n",
      "\n",
      "Threat: T-FRHAUL-01\n",
      "  - CAPEC ID: CAPEC-700, Similarity: 0.4773, Description: An attacker penetrates O-DU and beyond through O-RU or the Fronthaul interface\n",
      "\n",
      "Threat: T-FRHAUL-02\n",
      "  - CAPEC ID: CAPEC-700, Similarity: 0.4611, Description: Unauthorized access to Open Front Haul Ethernet L1 physical layer interface(s)\n",
      "\n",
      "Threat: T-GEN-01\n",
      "  - CAPEC ID: CAPEC-480, Similarity: 0.5419, Description: Software flaw attack\n",
      "\n",
      "Threat: T-GEN-02\n",
      "  - CAPEC ID: CAPEC-510, Similarity: 0.6000, Description: Malicious access to exposed services using valid accounts\n",
      "\n",
      "Threat: T-GEN-03\n",
      "  - CAPEC ID: CAPEC-480, Similarity: 0.5078, Description: Untrust binding between the different O-Cloud layers\n",
      "\n",
      "Threat: T-GEN-04\n",
      "  - CAPEC ID: CAPEC-115, Similarity: 0.4462, Description: Lack of Authentication & Authorization in interfaces between O-Cloud components\n",
      "\n",
      "Threat: T-GEN-05\n",
      "  - CAPEC ID: CAPEC-568, Similarity: 0.5195, Description: Unsecured credentials and keys\n",
      "\n",
      "Threat: T-HW-01\n",
      "  - CAPEC ID: CAPEC-480, Similarity: 0.4657, Description: Cross VM/Container side channel attacks\n",
      "\n",
      "Threat: T-HW-02\n",
      "  - CAPEC ID: CAPEC-480, Similarity: 0.5651, Description: MitM attacks on the interface between virtualization layer and hardware\n",
      "\n",
      "Threat: T-IMG-01\n",
      "  - CAPEC ID: CAPEC-480, Similarity: 0.5602, Description: VM/Container images tampering\n",
      "\n",
      "Threat: T-IMG-02\n",
      "  - CAPEC ID: CAPEC-533, Similarity: 0.4804, Description: Insecure channels with images repository\n",
      "\n",
      "Threat: T-IMG-03\n",
      "  - CAPEC ID: CAPEC-480, Similarity: 0.4461, Description: Secrets disclosure in VM/Container images\n",
      "\n",
      "Threat: T-IMG-04\n",
      "  - CAPEC ID: CAPEC-480, Similarity: 0.4159, Description: Build image on VL\n",
      "\n",
      "Threat: T-ML-01\n",
      "  - CAPEC ID: CAPEC-146, Similarity: 0.5173, Description: Poisoning the ML training data (Data poisoning attacks)\n",
      "\n",
      "Threat: T-ML-02\n",
      "  - CAPEC ID: CAPEC-153, Similarity: 0.4885, Description: Altering a machine learning model (System manipulation and compromise of ML data confidentiality ...\n",
      "\n",
      "Threat: T-ML-03\n",
      "  - CAPEC ID: CAPEC-415, Similarity: 0.4178, Description: Transfer learning attack\n",
      "\n",
      "Threat: T-MPLANE-01\n",
      "  - CAPEC ID: CAPEC-622, Similarity: 0.5112, Description: An attacker attempts to intercept the Fronthaul (MITM) over M Plane\n",
      "\n",
      "Threat: T-NEAR-RT-01\n",
      "  - CAPEC ID: CAPEC-388, Similarity: 0.5025, Description: Malicious Apps can exploit UE identification, track UE location and change UE priority\n",
      "\n",
      "Threat: T-NEAR-RT-02\n",
      "  - CAPEC ID: CAPEC-523, Similarity: 0.4649, Description: Risk of deployment of a malicious xApp on Near-RT RIC\n",
      "\n",
      "Threat: T-NEAR-RT-03\n",
      "  - CAPEC ID: CAPEC-388, Similarity: 0.5262, Description: Attackers exploit non authenticated, weakly or incorrectly authenticated Near-RT RIC APIs\n",
      "\n",
      "Threat: T-NEAR-RT-04\n",
      "  - CAPEC ID: CAPEC-388, Similarity: 0.5686, Description: Attackers exploit non authorized Near-RT RIC APIs to access to resources and services which they ...\n",
      "\n",
      "Threat: T-NEAR-RT-05\n",
      "  - CAPEC ID: CAPEC-21, Similarity: 0.5510, Description: Attackers exploit non uniquely identified xApps using a trusted xAppID to access to resources and...\n",
      "\n",
      "Threat: T-NONRTRIC-01\n",
      "  - CAPEC ID: CAPEC-180, Similarity: 0.5533, Description: An attacker gains access to the Non-RT RIC through the SMO to cause a denial of service or degrad...\n",
      "\n",
      "Threat: T-NONRTRIC-02\n",
      "  - CAPEC ID: CAPEC-272, Similarity: 0.4917, Description: An attacker gains access to the Non-RT RIC through the SMO for UE tracking\n",
      "\n",
      "Threat: T-NONRTRIC-03\n",
      "  - CAPEC ID: CAPEC-180, Similarity: 0.5328, Description: An attacker gains access to the Non-RT RIC through the SMO to cause Data Corruption/Modification\n",
      "\n",
      "Threat: T-NONRTRIC-04\n",
      "  - CAPEC ID: CAPEC-665, Similarity: 0.4906, Description: An attacker exploits non uniquely identified rApp instances using a trusted rAppID to access R1 s...\n",
      "\n",
      "Threat: T-O-CLOUD-ID-01\n",
      "  - CAPEC ID: CAPEC-546, Similarity: 0.4295, Description: ID reuse in O-Cloud's object lifecycle\n",
      "\n",
      "Threat: T-O-CLOUD-ID-02\n",
      "  - CAPEC ID: CAPEC-534, Similarity: 0.3885, Description: Node redundancy in O-Cloud deployments\n",
      "\n",
      "Threat: T-O-CLOUD-ID-03\n",
      "  - CAPEC ID: CAPEC-221, Similarity: 0.4530, Description: O-Cloud ID mismanagement\n",
      "\n",
      "Threat: T-O-RAN-01\n",
      "  - CAPEC ID: CAPEC-401, Similarity: 0.5028, Description: An attacker exploits insecure designs or lack of adaption in O-RAN components\n",
      "\n",
      "Threat: T-O-RAN-02\n",
      "  - CAPEC ID: CAPEC-401, Similarity: 0.5122, Description: An attacker exploits misconfigured or poorly configured O-RAN components\n",
      "\n",
      "Threat: T-O-RAN-03\n",
      "  - CAPEC ID: CAPEC-482, Similarity: 0.5065, Description: Attacks from the internet to penetrate O-RAN network boundary\n",
      "\n",
      "Threat: T-O-RAN-04\n",
      "  - CAPEC ID: CAPEC-604, Similarity: 0.5597, Description: An attacker attempts to jam the airlink signal through IoT devices\n",
      "\n",
      "Threat: T-O-RAN-05\n",
      "  - CAPEC ID: CAPEC-88, Similarity: 0.5189, Description: An attacker penetrates and compromises the O-RAN system through the open O-RAN’s Fronthaul, O1, O...\n",
      "\n",
      "Threat: T-O-RAN-06\n",
      "  - CAPEC ID: CAPEC-114, Similarity: 0.5898, Description: An attacker exploits insufficient/improper mechanisms for authentication and authorization to com...\n",
      "\n",
      "Threat: T-O-RAN-07\n",
      "  - CAPEC ID: CAPEC-268, Similarity: 0.6675, Description: An attacker compromises O-RAN monitoring mechanisms and log files integrity and availability\n",
      "\n",
      "Threat: T-O-RAN-08\n",
      "  - CAPEC ID: CAPEC-470, Similarity: 0.5152, Description: An attacker compromises O-RAN data integrity, confidentiality and traceability\n",
      "\n",
      "Threat: T-O-RAN-09\n",
      "  - CAPEC ID: CAPEC-440, Similarity: 0.5465, Description: An attacker compromises O-RAN components integrity and availability\n",
      "\n",
      "Threat: T-O2-01\n",
      "  - CAPEC ID: CAPEC-480, Similarity: 0.4782, Description: MitM attacks on O2 interface between O-Cloud and SMO\n",
      "\n",
      "Threat: T-OCAPI-01\n",
      "  - CAPEC ID: CAPEC-480, Similarity: 0.5004, Description: MitM attacks on O-Cloud interface between VNFs/CNFs and the virtualization layer\n",
      "\n",
      "Threat: T-OPENSRC-01\n",
      "  - CAPEC ID: CAPEC-538, Similarity: 0.6523, Description: Developers use SW components with known vulnerabilities and untrusted libraries that can be explo...\n",
      "\n",
      "Threat: T-OPENSRC-02\n",
      "  - CAPEC ID: CAPEC-538, Similarity: 0.6199, Description: A trusted developer intentionally inserts a backdoor into an open source code O-RAN component\n",
      "\n",
      "Threat: T-ORU-01\n",
      "  - CAPEC ID: CAPEC-617, Similarity: 0.5952, Description: An attacker stands up a false base station attack by attacking an O-RU\n",
      "\n",
      "Threat: T-PHYS-01\n",
      "  - CAPEC ID: CAPEC-180, Similarity: 0.5443, Description: An intruder into a site gains physical access to O-RAN components to cause damage or access sensi...\n",
      "\n",
      "Threat: T-PHYS-02\n",
      "  - CAPEC ID: CAPEC-161, Similarity: 0.4758, Description: An intruder into the exchange over the Fronthaul cable network attempts to gain electronic access...\n",
      "\n",
      "Threat: T-PNF-01\n",
      "  - CAPEC ID: CAPEC-594, Similarity: 0.4189, Description: An attacker compromises a PNF to launch reverse attacks and other attacks against VNFs/CNFs\n",
      "\n",
      "Threat: T-R1-01\n",
      "  - CAPEC ID: CAPEC-502, Similarity: 0.5132, Description: A malicious actor gains unauthorized access to R1 services\n",
      "\n",
      "Threat: T-R1-02\n",
      "  - CAPEC ID: CAPEC-12, Similarity: 0.5094, Description: Attacker modifies Service Heartbeat message to cause Denial of Service\n",
      "\n",
      "Threat: T-R1-03\n",
      "  - CAPEC ID: CAPEC-114, Similarity: 0.5409, Description: Malicious actor bypasses authentication to Request Data \n",
      "\n",
      "Threat: T-R1-04\n",
      "  - CAPEC ID: CAPEC-502, Similarity: 0.5448, Description: Malicious actor bypasses authorization to Discover Data \n",
      "\n",
      "Threat: T-R1-05\n",
      "  - CAPEC ID: CAPEC-173, Similarity: 0.6290, Description: A malicious actor gains unauthorized access to data\n",
      "\n",
      "Threat: T-R1-06\n",
      "  - CAPEC ID: CAPEC-389, Similarity: 0.5404, Description: Malicious actor modifies a Data Request\n",
      "\n",
      "Threat: T-R1-07\n",
      "  - CAPEC ID: CAPEC-389, Similarity: 0.5368, Description: Malicious actor compromises Data Delivery to the Data Consumer\n",
      "\n",
      "Threat: T-RADIO-01\n",
      "  - CAPEC ID: CAPEC-601, Similarity: 0.6549, Description: Disruption through radio jamming, sniffing and spoofing\n",
      "\n",
      "Threat: T-RADIO-02\n",
      "  - CAPEC ID: CAPEC-601, Similarity: 0.5660, Description: DoS attacks on cognitive radio networks\n",
      "\n",
      "Threat: T-SMO-01\n",
      "  - CAPEC ID: CAPEC-114, Similarity: 0.5511, Description: External attacker exploits authentication weakness on SMO\n",
      "\n",
      "Threat: T-SMO-02\n",
      "  - CAPEC ID: CAPEC-180, Similarity: 0.4848, Description: External attacker exploits authentication weakness on SMO\n",
      "\n",
      "Threat: T-SMO-03\n",
      "  - CAPEC ID: CAPEC-469, Similarity: 0.5205, Description: External Overload DoS attack targeted at SMO\n",
      "\n",
      "Threat: T-SMO-04\n",
      "  - CAPEC ID: CAPEC-114, Similarity: 0.5241, Description: Internal attacker exploits authentication weakness on a SMO function\n",
      "\n",
      "Threat: T-SMO-05\n",
      "  - CAPEC ID: CAPEC-180, Similarity: 0.4983, Description: Internal attacker exploits authorization weakness on a SMO function\n",
      "\n",
      "Threat: T-SMO-06\n",
      "  - CAPEC ID: CAPEC-100, Similarity: 0.5168, Description: Internal Overload DoS attack targeted at SMO functions\n",
      "\n",
      "Threat: T-SMO-07\n",
      "  - CAPEC ID: CAPEC-456, Similarity: 0.5018, Description: Internal DoS attack disables internal SMO function(s) or process(es)\n",
      "\n",
      "Threat: T-SMO-08\n",
      "  - CAPEC ID: CAPEC-388, Similarity: 0.5912, Description: Attacker exploits insecure API to gain access to SMO\n",
      "\n",
      "Threat: T-SMO-09\n",
      "  - CAPEC ID: CAPEC-387, Similarity: 0.5365, Description: Sensitive data in transit is exposed to an internal attacker\n",
      "\n",
      "Threat: T-SMO-10\n",
      "  - CAPEC ID: CAPEC-122, Similarity: 0.5135, Description: Sensitive data at rest is exposed to an internal attacker\n",
      "\n",
      "Threat: T-SMO-11\n",
      "  - CAPEC ID: CAPEC-456, Similarity: 0.4994, Description: AI/ML poisoning by internal attacker\n",
      "\n",
      "Threat: T-SMO-12\n",
      "  - CAPEC ID: CAPEC-221, Similarity: 0.5132, Description: AI/ML exposure on external entity\n",
      "\n",
      "Threat: T-SMO-13\n",
      "  - CAPEC ID: CAPEC-268, Similarity: 0.6297, Description: Malicious actor views local logs\n",
      "\n",
      "Threat: T-SMO-14\n",
      "  - CAPEC ID: CAPEC-268, Similarity: 0.5828, Description: Malicious actor modifies local log entries\n",
      "\n",
      "Threat: T-SMO-15\n",
      "  - CAPEC ID: CAPEC-268, Similarity: 0.5835, Description: Malicious actor deletes local logs\n",
      "\n",
      "Threat: T-SMO-16\n",
      "  - CAPEC ID: CAPEC-268, Similarity: 0.5932, Description: Malicious actor intercepts exports of local logs\n",
      "\n",
      "Threat: T-SMO-17\n",
      "  - CAPEC ID: CAPEC-268, Similarity: 0.6204, Description: Malicious external actor gains unauthorized access to logs\n",
      "\n",
      "Threat: T-SMO-18\n",
      "  - CAPEC ID: CAPEC-268, Similarity: 0.5912, Description: Malicious internal actor gains authorized access to logs\n",
      "\n",
      "Threat: T-SMO-19\n",
      "  - CAPEC ID: CAPEC-157, Similarity: 0.4940, Description: Internal attacker exploits O2 interface to view data in transit between SMO and O-Cloud\n",
      "\n",
      "Threat: T-SMO-20\n",
      "  - CAPEC ID: CAPEC-470, Similarity: 0.4867, Description: Internal attacker exploits O2 interface to modify data in transit between SMO and O-Cloud\n",
      "\n",
      "Threat: T-SMO-21\n",
      "  - CAPEC ID: CAPEC-113, Similarity: 0.5189, Description: Internal attacker uses O2 interface via SMO to exploit API vulnerability to gain access to O-Clou...\n",
      "\n",
      "Threat: T-SMO-22\n",
      "  - CAPEC ID: CAPEC-125, Similarity: 0.5531, Description: Internal attacker floods O2 interface via SMO to cause DDoS on O-Cloud infrastructure\n",
      "\n",
      "Threat: T-SMO-23\n",
      "  - CAPEC ID: CAPEC-113, Similarity: 0.5010, Description: External attacker uses O2 interface via O-Cloud to exploit API vulnerability to gain access to SMO\n",
      "\n",
      "Threat: T-SMO-24\n",
      "  - CAPEC ID: CAPEC-125, Similarity: 0.5504, Description: External attacker floods O2 interface via O-Cloud to cause DDoS on SMO\n",
      "\n",
      "Threat: T-SMO-25\n",
      "  - CAPEC ID: CAPEC-58, Similarity: 0.4740, Description: External attacker uses O2 interface via O-Cloud to gain authorized access to sensitive data-at-re...\n",
      "\n",
      "Threat: T-SMO-26\n",
      "  - CAPEC ID: CAPEC-113, Similarity: 0.5058, Description: External attacker exploits External interface to view data in transit between SMO and external se...\n",
      "\n",
      "Threat: T-SMO-27\n",
      "  - CAPEC ID: CAPEC-113, Similarity: 0.5399, Description: External attacker exploits External interface to modify data in transit between SMO and external ...\n",
      "\n",
      "Threat: T-SMO-28\n",
      "  - CAPEC ID: CAPEC-113, Similarity: 0.5379, Description: External attacker uses External interface to exploit API vulnerability to gain access to SMO\n",
      "\n",
      "Threat: T-SMO-29\n",
      "  - CAPEC ID: CAPEC-482, Similarity: 0.5764, Description: External attacker floods External interface to cause DDoS at SMO\n",
      "\n",
      "Threat: T-SMO-30\n",
      "  - CAPEC ID: CAPEC-113, Similarity: 0.4833, Description: External attacker uses External interface to gain access to sensitive data-at-rest at the SMO\n",
      "\n",
      "Threat: T-SMO-31\n",
      "  - CAPEC ID: CAPEC-221, Similarity: 0.5065, Description: External attacker poisons External AI/ML data to corrupt SMO\n",
      "\n",
      "Threat: T-SMO-32\n",
      "  - CAPEC ID: CAPEC-201, Similarity: 0.5175, Description: External attacker poisons External Enrichment Information data sources to corrupt SMO\n",
      "\n",
      "Threat: T-SPLANE-01\n",
      "  - CAPEC ID: CAPEC-469, Similarity: 0.5060, Description: DoS attack against a Master clock\n",
      "\n",
      "Threat: T-SPLANE-02\n",
      "  - CAPEC ID: CAPEC-195, Similarity: 0.5244, Description: Impersonation of a Master clock (Spoofing) within a PTP network with a fake ANNOUNCE message\n",
      "\n",
      "Threat: T-SPLANE-03\n",
      "  - CAPEC ID: CAPEC-482, Similarity: 0.4803, Description: A Rogue PTP Instance wanting to be a Grand Master\n",
      "\n",
      "Threat: T-SPLANE-04\n",
      "  - CAPEC ID: CAPEC-621, Similarity: 0.5182, Description: Selective interception and removal of PTP timing packets\n",
      "\n",
      "Threat: T-SPLANE-05\n",
      "  - CAPEC ID: CAPEC-621, Similarity: 0.5849, Description: Packet delay manipulation attack\n",
      "\n",
      "Threat: T-SharedORU-01\n",
      "  - CAPEC ID: CAPEC-480, Similarity: 0.4492, Description: O-DU Tenant accesses O-DU Host\n",
      "\n",
      "Threat: T-SharedORU-02\n",
      "  - CAPEC ID: CAPEC-480, Similarity: 0.4551, Description: O-DU Host accesses O-DU Tenant\n",
      "\n",
      "Threat: T-SharedORU-03\n",
      "  - CAPEC ID: CAPEC-546, Similarity: 0.4352, Description: O-DU Tenant accesses O-DU Tenant\n",
      "\n",
      "Threat: T-SharedORU-04\n",
      "  - CAPEC ID: CAPEC-114, Similarity: 0.4980, Description: Password Attack on OFH M-Plane\n",
      "\n",
      "Threat: T-SharedORU-05\n",
      "  - CAPEC ID: CAPEC-505, Similarity: 0.5507, Description: Untrusted peering to O-DU\n",
      "\n",
      "Threat: T-SharedORU-06\n",
      "  - CAPEC ID: CAPEC-593, Similarity: 0.5730, Description: Untrusted peering to the Shared O-RU\n",
      "\n",
      "Threat: T-SharedORU-07\n",
      "  - CAPEC ID: CAPEC-593, Similarity: 0.5991, Description: Untrusted peering to the SMO\n",
      "\n",
      "Threat: T-SharedORU-08\n",
      "  - CAPEC ID: CAPEC-114, Similarity: 0.4608, Description: SMO Tenant accesses SMO Host\n",
      "\n",
      "Threat: T-SharedORU-09\n",
      "  - CAPEC ID: CAPEC-439, Similarity: 0.4618, Description: SMO Host accesses SMO Tenant\n",
      "\n",
      "Threat: T-SharedORU-10\n",
      "  - CAPEC ID: CAPEC-480, Similarity: 0.4672, Description: O-DU Host accesses O-CU Tenant\n",
      "\n",
      "Threat: T-SharedORU-11\n",
      "  - CAPEC ID: CAPEC-480, Similarity: 0.4620, Description: O-DU Tenant accesses O-CU Host\n",
      "\n",
      "Threat: T-SharedORU-12\n",
      "  - CAPEC ID: CAPEC-122, Similarity: 0.4523, Description: O-DU Tenant accesses O-CU Tenant\n",
      "\n",
      "Threat: T-SharedORU-13\n",
      "  - CAPEC ID: CAPEC-439, Similarity: 0.4813, Description: SMO Host accesses O-CU Tenant\n",
      "\n",
      "Threat: T-SharedORU-14\n",
      "  - CAPEC ID: CAPEC-439, Similarity: 0.4748, Description: SMO Tenant accesses O-CU Host\n",
      "\n",
      "Threat: T-SharedORU-15\n",
      "  - CAPEC ID: CAPEC-300, Similarity: 0.4496, Description: Physical port access to Shared O-RU Host/Tenant\n",
      "\n",
      "Threat: T-SharedORU-16\n",
      "  - CAPEC ID: CAPEC-300, Similarity: 0.4698, Description: Physical port access to O-DU Host/Tenant\n",
      "\n",
      "Threat: T-SharedORU-17\n",
      "  - CAPEC ID: CAPEC-300, Similarity: 0.5044, Description: Physical port access to O-CU Host/Tenant\n",
      "\n",
      "Threat: T-SharedORU-18\n",
      "  - CAPEC ID: CAPEC-114, Similarity: 0.5764, Description: Malicious User Login Attempt to SMO Host/Tenant\n",
      "\n",
      "Threat: T-SharedORU-19\n",
      "  - CAPEC ID: CAPEC-114, Similarity: 0.6050, Description: Malicious User Login Attempt to O-CU Host/Tenant\n",
      "\n",
      "Threat: T-SharedORU-20\n",
      "  - CAPEC ID: CAPEC-114, Similarity: 0.5536, Description: Malicious User Login Attempt to O-DU Host/Tenant\n",
      "\n",
      "Threat: T-SharedORU-21\n",
      "  - CAPEC ID: CAPEC-114, Similarity: 0.5403, Description: Malicious User Login Attempt to Shared O-RU Host/Tenant\n",
      "\n",
      "Threat: T-SharedORU-22\n",
      "  - CAPEC ID: CAPEC-94, Similarity: 0.5038, Description: Unauthorized internal threat actor gains access to data in Shared O-RU\n",
      "\n",
      "Threat: T-SharedORU-23\n",
      "  - CAPEC ID: CAPEC-273, Similarity: 0.4909, Description: Unauthorized external threat actor gains access to data in Shared O-RU\n",
      "\n",
      "Threat: T-SharedORU-24\n",
      "  - CAPEC ID: CAPEC-221, Similarity: 0.5148, Description: Data exposure at Shared O-RU\n",
      "\n",
      "Threat: T-SharedORU-25\n",
      "  - CAPEC ID: CAPEC-562, Similarity: 0.4932, Description: Shared O-RU data exposure at SMO\n",
      "\n",
      "Threat: T-SharedORU-26\n",
      "  - CAPEC ID: CAPEC-221, Similarity: 0.4872, Description: Shared O-RU data exposure at O-DU\n",
      "\n",
      "Threat: T-SharedORU-27\n",
      "  - CAPEC ID: CAPEC-277, Similarity: 0.4905, Description: Exposed data in transit between Shared O-RU and O-DU Host/Tenant\n",
      "\n",
      "Threat: T-SharedORU-28\n",
      "  - CAPEC ID: CAPEC-277, Similarity: 0.4851, Description: Exposed data in transit between Shared O-RU and SMO Host/Tenant\n",
      "\n",
      "Threat: T-SharedORU-29\n",
      "  - CAPEC ID: CAPEC-12, Similarity: 0.5516, Description: Modify/Delete OFH C-Plane messages\n",
      "\n",
      "Threat: T-SharedORU-30\n",
      "  - CAPEC ID: CAPEC-593, Similarity: 0.4281, Description: Clock hijacking on OFH S-Plane\n",
      "\n",
      "Threat: T-SharedORU-31\n",
      "  - CAPEC ID: CAPEC-10, Similarity: 0.4324, Description: Parameter conflicts at Shared O-RU\n",
      "\n",
      "Threat: T-SharedORU-32\n",
      "  - CAPEC ID: CAPEC-594, Similarity: 0.4818, Description: Volumetric DDoS attack from O-DU targeting Shared O-RU\n",
      "\n",
      "Threat: T-SharedORU-33\n",
      "  - CAPEC ID: CAPEC-594, Similarity: 0.5190, Description: Volumetric DDoS attack from SMO targeting Shared O-RU\n",
      "\n",
      "Threat: T-SharedORU-34\n",
      "  - CAPEC ID: CAPEC-594, Similarity: 0.5137, Description: Volumetric DDoS attack targeting O-DU\n",
      "\n",
      "Threat: T-SharedORU-35\n",
      "  - CAPEC ID: CAPEC-697, Similarity: 0.5871, Description: Shared O-RU initialization hijacking by DHCP compromise\n",
      "\n",
      "Threat: T-SharedORU-36\n",
      "  - CAPEC ID: CAPEC-598, Similarity: 0.6241, Description: Shared O-RU M-plane hijacking by DNS compromise\n",
      "\n",
      "Threat: T-SharedORU-37\n",
      "  - CAPEC ID: CAPEC-180, Similarity: 0.5100, Description: Misconfiguration of MNO Host Role\n",
      "\n",
      "Threat: T-SharedORU-38\n",
      "  - CAPEC ID: CAPEC-240, Similarity: 0.5213, Description: Incorrect Assignment of Spectrum Resources\n",
      "\n",
      "Threat: T-SharedORU-39\n",
      "  - CAPEC ID: CAPEC-22, Similarity: 0.4800, Description: Chain of Trust in a Multi-Tenant Environment\n",
      "\n",
      "Threat: T-SharedORU-40\n",
      "  - CAPEC ID: CAPEC-122, Similarity: 0.5265, Description: Hijack of MNO Host Role\n",
      "\n",
      "Threat: T-SharedORU-41\n",
      "  - CAPEC ID: CAPEC-122, Similarity: 0.5066, Description: Not Released Host Role (Host Role resume)\n",
      "\n",
      "Threat: T-SharedORU-42\n",
      "  - CAPEC ID: CAPEC-122, Similarity: 0.5756, Description: Misuse of “sudo” privileges\n",
      "\n",
      "Threat: T-SharedORU-43\n",
      "  - CAPEC ID: CAPEC-180, Similarity: 0.5337, Description: Eavesdropping of unprotected CUSM-plane data within shared O-RU\n",
      "\n",
      "Threat: T-UPLANE-01\n",
      "  - CAPEC ID: CAPEC-622, Similarity: 0.5290, Description: An attacker attempts to intercept the Fronthaul (MITM) over U Plane\n",
      "\n",
      "Threat: T-VL-01\n",
      "  - CAPEC ID: CAPEC-480, Similarity: 0.5395, Description: VM/Container hyperjacking attack\n",
      "\n",
      "Threat: T-VL-02\n",
      "  - CAPEC ID: CAPEC-480, Similarity: 0.4745, Description: Boot tampering\n",
      "\n",
      "Threat: T-VL-03\n",
      "  - CAPEC ID: CAPEC-125, Similarity: 0.4468, Description: Attack internal network services\n",
      "\n",
      "Threat: T-VM-C-01\n",
      "  - CAPEC ID: CAPEC-480, Similarity: 0.6170, Description: Abuse of a privileged VM/Container\n",
      "\n",
      "Threat: T-VM-C-02\n",
      "  - CAPEC ID: CAPEC-480, Similarity: 0.5942, Description: VM/Container escape attack\n",
      "\n",
      "Threat: T-VM-C-03\n",
      "  - CAPEC ID: CAPEC-480, Similarity: 0.4898, Description: VM/Container data theft\n",
      "\n",
      "Threat: T-VM-C-04\n",
      "  - CAPEC ID: CAPEC-480, Similarity: 0.4516, Description: VM/Container migration attacks\n",
      "\n",
      "Threat: T-VM-C-05\n",
      "  - CAPEC ID: CAPEC-480, Similarity: 0.4958, Description: Changing virtualization resource without authorization\n",
      "\n",
      "Threat: T-VM-C-06\n",
      "  - CAPEC ID: CAPEC-548, Similarity: 0.5248, Description: Failed or incomplete VNF/CNF termination or releasing of resources\n",
      "\n",
      "Threat: T-Y1-01\n",
      "  - CAPEC ID: CAPEC-94, Similarity: 0.4781, Description: Untrusted Near-RT-RIC and Y1 consumers\n",
      "\n",
      "Threat: T-Y1-02\n",
      "  - CAPEC ID: CAPEC-12, Similarity: 0.5491, Description: Malicious actor monitors messaging across Y1 interface\n",
      "\n",
      "Threat: T-Y1-03\n",
      "  - CAPEC ID: CAPEC-12, Similarity: 0.5190, Description: Malicious actor modifies messaging across Y1 interface\n",
      "\n",
      "Threat: T-rAPP-01\n",
      "  - CAPEC ID: CAPEC-26, Similarity: 0.4642, Description: Conflicting rApps impact O-RAN system functions to degrade performance or trigger a DoS\n",
      "\n",
      "Threat: T-rAPP-02\n",
      "  - CAPEC ID: CAPEC-482, Similarity: 0.5618, Description: An attacker exploits rApp vulnerability for data breach or denial of service\n",
      "\n",
      "Threat: T-rAPP-03\n",
      "  - CAPEC ID: CAPEC-482, Similarity: 0.5650, Description: An attacker exploits rApps misconfiguration\n",
      "\n",
      "Threat: T-rAPP-04\n",
      "  - CAPEC ID: CAPEC-114, Similarity: 0.6247, Description: An attacker bypasses authentication and authorization\n",
      "\n",
      "Threat: T-rAPP-05\n",
      "  - CAPEC ID: CAPEC-542, Similarity: 0.4955, Description: An attacker deploys and exploits malicious rApp\n",
      "\n",
      "Threat: T-rAPP-06\n",
      "  - CAPEC ID: CAPEC-114, Similarity: 0.6263, Description: An attacker bypasses authentication and authorization using an injection attack\n",
      "\n",
      "Threat: T-rAPP-07\n",
      "  - CAPEC ID: CAPEC-482, Similarity: 0.5033, Description: rApp exploits services\n",
      "\n",
      "Threat: T-xAPP-01\n",
      "  - CAPEC ID: CAPEC-388, Similarity: 0.4750, Description: An attacker exploits xApps vulnerabilities and misconfiguration\n",
      "\n",
      "Threat: T-xAPP-02\n",
      "  - CAPEC ID: CAPEC-212, Similarity: 0.5317, Description: Conflicting xApps unintentionally or maliciously impact O-RAN system functions to degrade perform...\n",
      "\n",
      "Threat: T-xAPP-03\n",
      "  - CAPEC ID: CAPEC-84, Similarity: 0.5140, Description: An attacker compromises xApp isolation\n",
      "\n",
      "Threat: T-xApp-04\n",
      "  - CAPEC ID: CAPEC-502, Similarity: 0.5427, Description: False or malicious A1 policies modify behavior of xApps\n"
     ]
    },
    {
     "name": "stderr",
     "output_type": "stream",
     "text": [
      "C:\\Users\\domep\\AppData\\Local\\Temp\\ipykernel_10172\\3634804933.py:3: FutureWarning: DataFrameGroupBy.apply operated on the grouping columns. This behavior is deprecated, and in a future version of pandas the grouping columns will be excluded from the operation. Either pass `include_groups=False` to exclude the groupings or explicitly select the grouping columns after groupby to silence this warning.\n",
      "  top_capec_per_threat = formatted_capec_mapping.groupby('Name').apply(\n"
     ]
    }
   ],
   "source": [
    "# for every threat name display the first 10 capecs with the highest similarity\n",
    "# --- Group by 'Name' (Threat Name) and get the top 5 for each ---\n",
    "top_capec_per_threat = formatted_capec_mapping.groupby('Name').apply(\n",
    "    lambda x: x.nlargest(1, 'Similarity')\n",
    ").reset_index(drop=True)\n",
    "\n",
    "# --- Display the results ---\n",
    "print(\"Top CAPEC for Each Threat:\")\n",
    "for threat_name in top_capec_per_threat['Name'].unique():\n",
    "    print(f\"\\nThreat: {threat_name}\")\n",
    "    threat_top_capecs = top_capec_per_threat[top_capec_per_threat['Name'] == threat_name]\n",
    "    # Select relevant columns for display\n",
    "    display_cols = ['CAPEC ID', 'Similarity', 'Description'] # Assuming 'Description' is the CAPEC Description now\n",
    "    for index, row in threat_top_capecs[display_cols].iterrows():\n",
    "        # Shorten description for readability if it's the CAPEC description\n",
    "        desc = row['Description']\n",
    "        if len(desc) > 100:\n",
    "            desc = desc[:97] + \"...\"\n",
    "        print(f\"  - CAPEC ID: {row['CAPEC ID']}, Similarity: {row['Similarity']:.4f}, Description: {desc}\")"
   ]
  },
  {
   "cell_type": "code",
   "execution_count": 56,
   "id": "cb96690c",
   "metadata": {},
   "outputs": [
    {
     "data": {
      "text/plain": [
       "count    182.000000\n",
       "mean       0.522007\n",
       "std        0.053491\n",
       "min        0.388489\n",
       "25%        0.485478\n",
       "50%        0.515990\n",
       "75%        0.552747\n",
       "max        0.667489\n",
       "Name: Similarity, dtype: float64"
      ]
     },
     "execution_count": 56,
     "metadata": {},
     "output_type": "execute_result"
    }
   ],
   "source": [
    "top_capec_per_threat['Similarity'].describe()"
   ]
  },
  {
   "cell_type": "code",
   "execution_count": 57,
   "id": "53d3b48b",
   "metadata": {},
   "outputs": [
    {
     "data": {
      "text/plain": [
       "count    101738.000000\n",
       "mean          0.319840\n",
       "std           0.076961\n",
       "min           0.006636\n",
       "25%           0.269693\n",
       "50%           0.321047\n",
       "75%           0.371686\n",
       "max           0.667489\n",
       "Name: Similarity, dtype: float64"
      ]
     },
     "execution_count": 57,
     "metadata": {},
     "output_type": "execute_result"
    }
   ],
   "source": [
    "formatted_capec_mapping['Similarity'].describe()"
   ]
  },
  {
   "cell_type": "code",
   "execution_count": 58,
   "id": "b1cde4b8",
   "metadata": {},
   "outputs": [
    {
     "name": "stdout",
     "output_type": "stream",
     "text": [
      "Threat with the highest similarity to a CAPEC:\n",
      "             Name   CAPEC ID  Similarity  \\\n",
      "70440  T-O-RAN-07  CAPEC-268    0.667489   \n",
      "\n",
      "                                                                                        Description  \n",
      "70440  An attacker compromises O-RAN monitoring mechanisms and log files integrity and availability  \n"
     ]
    }
   ],
   "source": [
    "# threat with the highest similarity to a capec\n",
    "highest_similarity = formatted_capec_mapping['Similarity'].max()\n",
    "highest_similarity_row = formatted_capec_mapping[formatted_capec_mapping['Similarity'] == highest_similarity]\n",
    "print(\"Threat with the highest similarity to a CAPEC:\")\n",
    "print(highest_similarity_row[['Name', 'CAPEC ID', 'Similarity', 'Description']])    "
   ]
  },
  {
   "cell_type": "code",
   "execution_count": 59,
   "id": "af023c5e",
   "metadata": {},
   "outputs": [
    {
     "name": "stdout",
     "output_type": "stream",
     "text": [
      "Threat with the lowest similarity to a CAPEC:\n",
      "           Name   CAPEC ID  Similarity  \\\n",
      "68773  T-AAL-02  CAPEC-394    0.006636   \n",
      "\n",
      "                                               Description  \n",
      "68773  Internal Overload DoS attack targeting AAL services  \n"
     ]
    }
   ],
   "source": [
    "# lowest similarity threat to a capec\n",
    "lowest_similarity = formatted_capec_mapping['Similarity'].min()\n",
    "lowest_similarity_row = formatted_capec_mapping[formatted_capec_mapping['Similarity'] == lowest_similarity]\n",
    "print(\"Threat with the lowest similarity to a CAPEC:\")\n",
    "print(lowest_similarity_row[['Name', 'CAPEC ID', 'Similarity', 'Description']])"
   ]
  },
  {
   "cell_type": "code",
   "execution_count": 60,
   "id": "83c023bc",
   "metadata": {},
   "outputs": [
    {
     "name": "stdout",
     "output_type": "stream",
     "text": [
      "Average similarity: 0.3198404\n"
     ]
    }
   ],
   "source": [
    "# average similarity overall\n",
    "average_similarity = formatted_capec_mapping['Similarity'].mean()\n",
    "print(\"Average similarity:\", average_similarity)"
   ]
  },
  {
   "cell_type": "code",
   "execution_count": null,
   "id": "f8f8e736",
   "metadata": {},
   "outputs": [],
   "source": []
  },
  {
   "cell_type": "markdown",
   "id": "14a40055",
   "metadata": {},
   "source": [
    "4. Safe the mappings above 0.55 similarity to a csv file"
   ]
  },
  {
   "cell_type": "code",
   "execution_count": 61,
   "id": "8b6b1dfa",
   "metadata": {},
   "outputs": [],
   "source": [
    "CAPEC_CSV_FILENAME = 'general_threats_capec_mapping'\n",
    "similarity = 0.55\n",
    "def filter_threshold_hfc(df, filter_criteria, min_similarity):\n",
    "    filtered_df = df[df['Similarity'] > min_similarity]\n",
    "    filtered_df = filtered_df.reset_index(drop=True)\n",
    "    return filtered_df"
   ]
  },
  {
   "cell_type": "code",
   "execution_count": 62,
   "id": "929f451d",
   "metadata": {},
   "outputs": [],
   "source": [
    "\n",
    "#capec_mapping_hfc = filter_threshold_hfc(formatted_capec_mapping, \"Name\",similarity)\n",
    "#capec_mapping_hfc.to_csv(\"./mapped_data/hfc_\"+CAPEC_CSV_FILENAME+\"_min\"+str(similarity)+\".csv\", sep=';', index=False)"
   ]
  },
  {
   "cell_type": "markdown",
   "id": "518fecfb",
   "metadata": {},
   "source": [
    "5. Compare ORCA mappings to our mappings"
   ]
  },
  {
   "cell_type": "code",
   "execution_count": 63,
   "id": "59b9061a",
   "metadata": {},
   "outputs": [
    {
     "name": "stdout",
     "output_type": "stream",
     "text": [
      "Index(['Name', 'Domain', 'Description', 'CAPEC ID', 'Similarity'], dtype='object')\n",
      "Index(['Name', 'Domain', 'Description', 'CAPEC ID', 'Similarity',\n",
      "       'summary_th_df', 'summary_ca_df'],\n",
      "      dtype='object')\n"
     ]
    }
   ],
   "source": [
    "orca_mappings = pd.read_csv('mapped_data/orca_mappings_min0.55.csv', sep=';')\n",
    "our_mappings = pd.read_csv('mapped_data/hfc_general_threats_capec_mapping_min0.55.csv', sep=';')\n",
    "print(orca_mappings.columns)\n",
    "print(our_mappings.columns)"
   ]
  },
  {
   "cell_type": "code",
   "execution_count": 64,
   "id": "aa33d912",
   "metadata": {},
   "outputs": [
    {
     "data": {
      "text/plain": [
       "((190, 5), (163, 7))"
      ]
     },
     "execution_count": 64,
     "metadata": {},
     "output_type": "execute_result"
    }
   ],
   "source": [
    "orca_mappings.shape, our_mappings.shape"
   ]
  },
  {
   "cell_type": "code",
   "execution_count": 65,
   "id": "fd89a890",
   "metadata": {},
   "outputs": [
    {
     "data": {
      "text/plain": [
       "(np.float64(0.577509985631579), np.float64(0.5774983157055215))"
      ]
     },
     "execution_count": 65,
     "metadata": {},
     "output_type": "execute_result"
    }
   ],
   "source": [
    "average_similarity_orca = orca_mappings['Similarity'].mean()\n",
    "average_similarity_our = our_mappings['Similarity'].mean()\n",
    "average_similarity_orca, average_similarity_our"
   ]
  },
  {
   "cell_type": "code",
   "execution_count": 66,
   "id": "8beb2fbf",
   "metadata": {},
   "outputs": [
    {
     "name": "stdout",
     "output_type": "stream",
     "text": [
      "0.00001167\n"
     ]
    }
   ],
   "source": [
    "diff = average_similarity_orca - average_similarity_our\n",
    "print(f\"{diff:.8f}\")"
   ]
  },
  {
   "cell_type": "code",
   "execution_count": 67,
   "id": "9afc5456",
   "metadata": {},
   "outputs": [
    {
     "data": {
      "text/html": [
       "<div>\n",
       "<style scoped>\n",
       "    .dataframe tbody tr th:only-of-type {\n",
       "        vertical-align: middle;\n",
       "    }\n",
       "\n",
       "    .dataframe tbody tr th {\n",
       "        vertical-align: top;\n",
       "    }\n",
       "\n",
       "    .dataframe thead th {\n",
       "        text-align: right;\n",
       "    }\n",
       "</style>\n",
       "<table border=\"1\" class=\"dataframe\">\n",
       "  <thead>\n",
       "    <tr style=\"text-align: right;\">\n",
       "      <th></th>\n",
       "      <th>Name</th>\n",
       "      <th>CAPEC ID</th>\n",
       "      <th>Similarity_orca</th>\n",
       "      <th>Similarity_our</th>\n",
       "    </tr>\n",
       "  </thead>\n",
       "  <tbody>\n",
       "    <tr>\n",
       "      <th>0</th>\n",
       "      <td>T-A1-02</td>\n",
       "      <td>CAPEC-12</td>\n",
       "      <td>0.584865</td>\n",
       "      <td>0.590688</td>\n",
       "    </tr>\n",
       "    <tr>\n",
       "      <th>1</th>\n",
       "      <td>T-A1-02</td>\n",
       "      <td>CAPEC-272</td>\n",
       "      <td>NaN</td>\n",
       "      <td>0.552193</td>\n",
       "    </tr>\n",
       "    <tr>\n",
       "      <th>2</th>\n",
       "      <td>T-A1-02</td>\n",
       "      <td>CAPEC-387</td>\n",
       "      <td>0.596484</td>\n",
       "      <td>0.609855</td>\n",
       "    </tr>\n",
       "    <tr>\n",
       "      <th>3</th>\n",
       "      <td>T-A1-02</td>\n",
       "      <td>CAPEC-388</td>\n",
       "      <td>0.564509</td>\n",
       "      <td>0.583051</td>\n",
       "    </tr>\n",
       "    <tr>\n",
       "      <th>4</th>\n",
       "      <td>T-A1-02</td>\n",
       "      <td>CAPEC-502</td>\n",
       "      <td>NaN</td>\n",
       "      <td>0.556925</td>\n",
       "    </tr>\n",
       "  </tbody>\n",
       "</table>\n",
       "</div>"
      ],
      "text/plain": [
       "      Name   CAPEC ID  Similarity_orca  Similarity_our\n",
       "0  T-A1-02   CAPEC-12         0.584865        0.590688\n",
       "1  T-A1-02  CAPEC-272              NaN        0.552193\n",
       "2  T-A1-02  CAPEC-387         0.596484        0.609855\n",
       "3  T-A1-02  CAPEC-388         0.564509        0.583051\n",
       "4  T-A1-02  CAPEC-502              NaN        0.556925"
      ]
     },
     "execution_count": 67,
     "metadata": {},
     "output_type": "execute_result"
    }
   ],
   "source": [
    "# Merge ORCA and our mappings on 'Name' and 'CAPEC ID'\n",
    "merged_similarities = pd.merge(\n",
    "    orca_mappings[['Name', 'CAPEC ID', 'Similarity']],\n",
    "    our_mappings[['Name', 'CAPEC ID', 'Similarity']],\n",
    "    on=['Name', 'CAPEC ID'],\n",
    "    how='outer',\n",
    "    suffixes=('_orca', '_our')\n",
    ")\n",
    "\n",
    "# Save to CSV\n",
    "merged_similarities.to_csv('./mapped_data/merged_orca_our_similarities.csv', sep=';', index=False)\n",
    "\n",
    "# Display the first few rows for verification\n",
    "merged_similarities.head()"
   ]
  },
  {
   "cell_type": "code",
   "execution_count": null,
   "id": "d9ec5374",
   "metadata": {},
   "outputs": [],
   "source": [
    ")"
   ]
  },
  {
   "cell_type": "code",
   "execution_count": 68,
   "id": "7ab1f3e0",
   "metadata": {},
   "outputs": [
    {
     "name": "stdout",
     "output_type": "stream",
     "text": [
      "Threats in ORCA mappings but not in our mappings: {'T-VL-01', 'T-O-RAN-09', 'T-SMO-28', 'T-R1-03', 'T-PHYS-01', 'T-AppLCM-05', 'T-GEN-01'}\n",
      "Threats in our mappings but not in ORCA mappings: {'T-NEAR-RT-05', 'T-VM-C-02'}\n"
     ]
    }
   ],
   "source": [
    "threats_in_orca_not_in_our = set(orca_mappings['Name']) - set(our_mappings['Name'])\n",
    "print(\"Threats in ORCA mappings but not in our mappings:\", threats_in_orca_not_in_our)\n",
    "threats_in_our_not_in_orca = set(our_mappings['Name']) - set(orca_mappings['Name'])\n",
    "print(\"Threats in our mappings but not in ORCA mappings:\", threats_in_our_not_in_orca)  "
   ]
  },
  {
   "cell_type": "code",
   "execution_count": 69,
   "id": "f3795aa9",
   "metadata": {},
   "outputs": [
    {
     "name": "stdout",
     "output_type": "stream",
     "text": [
      "Name and Capec ID combinations where one similarity is missing:\n",
      "           Name   CAPEC ID\n",
      "1       T-A1-02  CAPEC-272\n",
      "4       T-A1-02  CAPEC-502\n",
      "10      T-A1-03  CAPEC-502\n",
      "11      T-A1-03   CAPEC-94\n",
      "13     T-AAL-05  CAPEC-458\n",
      "16     T-AAL-06  CAPEC-401\n",
      "17     T-AAL-06  CAPEC-440\n",
      "18     T-AAL-06  CAPEC-452\n",
      "22  T-AppLCM-01  CAPEC-180\n",
      "24  T-AppLCM-01  CAPEC-212\n"
     ]
    }
   ],
   "source": [
    "# Name and Capec ID combinations where one similarity is missing\n",
    "missing_similarities = merged_similarities[(merged_similarities['Similarity_orca'].isnull()) | (merged_similarities['Similarity_our'].isnull())]\n",
    "print(\"Name and Capec ID combinations where one similarity is missing:\")\n",
    "print(missing_similarities[['Name', 'CAPEC ID']].head(10))  # Display first 10 for brevity"
   ]
  },
  {
   "cell_type": "code",
   "execution_count": 70,
   "id": "61df266c",
   "metadata": {},
   "outputs": [
    {
     "data": {
      "text/html": [
       "<div>\n",
       "<style scoped>\n",
       "    .dataframe tbody tr th:only-of-type {\n",
       "        vertical-align: middle;\n",
       "    }\n",
       "\n",
       "    .dataframe tbody tr th {\n",
       "        vertical-align: top;\n",
       "    }\n",
       "\n",
       "    .dataframe thead th {\n",
       "        text-align: right;\n",
       "    }\n",
       "</style>\n",
       "<table border=\"1\" class=\"dataframe\">\n",
       "  <thead>\n",
       "    <tr style=\"text-align: right;\">\n",
       "      <th></th>\n",
       "      <th>Name</th>\n",
       "      <th>CAPEC ID</th>\n",
       "      <th>Similarity_orca</th>\n",
       "      <th>Similarity_our</th>\n",
       "    </tr>\n",
       "  </thead>\n",
       "  <tbody>\n",
       "    <tr>\n",
       "      <th>0</th>\n",
       "      <td>T-A1-02</td>\n",
       "      <td>CAPEC-12</td>\n",
       "      <td>0.584865</td>\n",
       "      <td>0.590688</td>\n",
       "    </tr>\n",
       "    <tr>\n",
       "      <th>2</th>\n",
       "      <td>T-A1-02</td>\n",
       "      <td>CAPEC-387</td>\n",
       "      <td>0.596484</td>\n",
       "      <td>0.609855</td>\n",
       "    </tr>\n",
       "    <tr>\n",
       "      <th>3</th>\n",
       "      <td>T-A1-02</td>\n",
       "      <td>CAPEC-388</td>\n",
       "      <td>0.564509</td>\n",
       "      <td>0.583051</td>\n",
       "    </tr>\n",
       "    <tr>\n",
       "      <th>5</th>\n",
       "      <td>T-A1-02</td>\n",
       "      <td>CAPEC-94</td>\n",
       "      <td>0.579672</td>\n",
       "      <td>0.553981</td>\n",
       "    </tr>\n",
       "    <tr>\n",
       "      <th>6</th>\n",
       "      <td>T-A1-03</td>\n",
       "      <td>CAPEC-12</td>\n",
       "      <td>0.566429</td>\n",
       "      <td>0.561994</td>\n",
       "    </tr>\n",
       "  </tbody>\n",
       "</table>\n",
       "</div>"
      ],
      "text/plain": [
       "      Name   CAPEC ID  Similarity_orca  Similarity_our\n",
       "0  T-A1-02   CAPEC-12         0.584865        0.590688\n",
       "2  T-A1-02  CAPEC-387         0.596484        0.609855\n",
       "3  T-A1-02  CAPEC-388         0.564509        0.583051\n",
       "5  T-A1-02   CAPEC-94         0.579672        0.553981\n",
       "6  T-A1-03   CAPEC-12         0.566429        0.561994"
      ]
     },
     "execution_count": 70,
     "metadata": {},
     "output_type": "execute_result"
    }
   ],
   "source": [
    "# only keep the rows where both similarities are not null\n",
    "merged_similarities_both_similarities_exist = merged_similarities.dropna(subset=['Similarity_orca', 'Similarity_our'])\n",
    "merged_similarities_both_similarities_exist.head(5)"
   ]
  },
  {
   "cell_type": "code",
   "execution_count": 71,
   "id": "8ae838c2",
   "metadata": {},
   "outputs": [
    {
     "name": "stderr",
     "output_type": "stream",
     "text": [
      "C:\\Users\\domep\\AppData\\Local\\Temp\\ipykernel_10172\\448733076.py:2: SettingWithCopyWarning: \n",
      "A value is trying to be set on a copy of a slice from a DataFrame.\n",
      "Try using .loc[row_indexer,col_indexer] = value instead\n",
      "\n",
      "See the caveats in the documentation: https://pandas.pydata.org/pandas-docs/stable/user_guide/indexing.html#returning-a-view-versus-a-copy\n",
      "  merged_similarities_both_similarities_exist['Similarity_difference'] = (merged_similarities_both_similarities_exist['Similarity_orca'] - merged_similarities_both_similarities_exist['Similarity_our']).abs()\n"
     ]
    },
    {
     "data": {
      "text/html": [
       "<div>\n",
       "<style scoped>\n",
       "    .dataframe tbody tr th:only-of-type {\n",
       "        vertical-align: middle;\n",
       "    }\n",
       "\n",
       "    .dataframe tbody tr th {\n",
       "        vertical-align: top;\n",
       "    }\n",
       "\n",
       "    .dataframe thead th {\n",
       "        text-align: right;\n",
       "    }\n",
       "</style>\n",
       "<table border=\"1\" class=\"dataframe\">\n",
       "  <thead>\n",
       "    <tr style=\"text-align: right;\">\n",
       "      <th></th>\n",
       "      <th>Name</th>\n",
       "      <th>CAPEC ID</th>\n",
       "      <th>Similarity_orca</th>\n",
       "      <th>Similarity_our</th>\n",
       "      <th>Similarity_difference</th>\n",
       "    </tr>\n",
       "  </thead>\n",
       "  <tbody>\n",
       "    <tr>\n",
       "      <th>0</th>\n",
       "      <td>T-A1-02</td>\n",
       "      <td>CAPEC-12</td>\n",
       "      <td>0.584865</td>\n",
       "      <td>0.590688</td>\n",
       "      <td>0.005823</td>\n",
       "    </tr>\n",
       "    <tr>\n",
       "      <th>2</th>\n",
       "      <td>T-A1-02</td>\n",
       "      <td>CAPEC-387</td>\n",
       "      <td>0.596484</td>\n",
       "      <td>0.609855</td>\n",
       "      <td>0.013371</td>\n",
       "    </tr>\n",
       "    <tr>\n",
       "      <th>3</th>\n",
       "      <td>T-A1-02</td>\n",
       "      <td>CAPEC-388</td>\n",
       "      <td>0.564509</td>\n",
       "      <td>0.583051</td>\n",
       "      <td>0.018542</td>\n",
       "    </tr>\n",
       "    <tr>\n",
       "      <th>5</th>\n",
       "      <td>T-A1-02</td>\n",
       "      <td>CAPEC-94</td>\n",
       "      <td>0.579672</td>\n",
       "      <td>0.553981</td>\n",
       "      <td>0.025691</td>\n",
       "    </tr>\n",
       "    <tr>\n",
       "      <th>6</th>\n",
       "      <td>T-A1-03</td>\n",
       "      <td>CAPEC-12</td>\n",
       "      <td>0.566429</td>\n",
       "      <td>0.561994</td>\n",
       "      <td>0.004435</td>\n",
       "    </tr>\n",
       "  </tbody>\n",
       "</table>\n",
       "</div>"
      ],
      "text/plain": [
       "      Name   CAPEC ID  Similarity_orca  Similarity_our  Similarity_difference\n",
       "0  T-A1-02   CAPEC-12         0.584865        0.590688               0.005823\n",
       "2  T-A1-02  CAPEC-387         0.596484        0.609855               0.013371\n",
       "3  T-A1-02  CAPEC-388         0.564509        0.583051               0.018542\n",
       "5  T-A1-02   CAPEC-94         0.579672        0.553981               0.025691\n",
       "6  T-A1-03   CAPEC-12         0.566429        0.561994               0.004435"
      ]
     },
     "execution_count": 71,
     "metadata": {},
     "output_type": "execute_result"
    }
   ],
   "source": [
    "# difference between the two similarities\n",
    "merged_similarities_both_similarities_exist['Similarity_difference'] = (merged_similarities_both_similarities_exist['Similarity_orca'] - merged_similarities_both_similarities_exist['Similarity_our']).abs()\n",
    "merged_similarities_both_similarities_exist.head(5)"
   ]
  },
  {
   "cell_type": "code",
   "execution_count": 72,
   "id": "1539139d",
   "metadata": {},
   "outputs": [
    {
     "name": "stdout",
     "output_type": "stream",
     "text": [
      "Average similarity difference: 0.011511884714285709\n"
     ]
    }
   ],
   "source": [
    "average_similarity_difference = merged_similarities_both_similarities_exist['Similarity_difference'].mean()\n",
    "print(\"Average similarity difference:\", average_similarity_difference)"
   ]
  },
  {
   "cell_type": "code",
   "execution_count": 73,
   "id": "91c88cdd",
   "metadata": {},
   "outputs": [
    {
     "name": "stdout",
     "output_type": "stream",
     "text": [
      "               Name   CAPEC ID  Similarity_orca  Similarity_our  \\\n",
      "163  T-SharedORU-07  CAPEC-593         0.643427        0.599111   \n",
      "\n",
      "     Similarity_difference  \n",
      "163               0.044316  \n"
     ]
    }
   ],
   "source": [
    "largest_difference_row = merged_similarities_both_similarities_exist[merged_similarities_both_similarities_exist['Similarity_difference'] == merged_similarities_both_similarities_exist['Similarity_difference'].max()]\n",
    "print(largest_difference_row)    "
   ]
  },
  {
   "cell_type": "code",
   "execution_count": 74,
   "id": "19a9a79a",
   "metadata": {},
   "outputs": [
    {
     "name": "stdout",
     "output_type": "stream",
     "text": [
      "               Name   CAPEC ID  Similarity_orca  Similarity_our  \\\n",
      "168  T-SharedORU-18  CAPEC-114         0.576321        0.576378   \n",
      "\n",
      "     Similarity_difference  \n",
      "168               0.000057  \n"
     ]
    }
   ],
   "source": [
    "smallest_difference_row = merged_similarities_both_similarities_exist[merged_similarities_both_similarities_exist['Similarity_difference'] == merged_similarities_both_similarities_exist['Similarity_difference'].min()]\n",
    "print(smallest_difference_row)"
   ]
  },
  {
   "cell_type": "code",
   "execution_count": 75,
   "id": "6144dac8",
   "metadata": {},
   "outputs": [
    {
     "name": "stdout",
     "output_type": "stream",
     "text": [
      "Standard deviation of similarity differences: 0.008790685757417642\n"
     ]
    }
   ],
   "source": [
    "standard_deviation_difference = merged_similarities_both_similarities_exist['Similarity_difference'].std()\n",
    "print(\"Standard deviation of similarity differences:\", standard_deviation_difference)"
   ]
  },
  {
   "cell_type": "code",
   "execution_count": 76,
   "id": "f61b64f9",
   "metadata": {},
   "outputs": [
    {
     "data": {
      "text/html": [
       "<div>\n",
       "<style scoped>\n",
       "    .dataframe tbody tr th:only-of-type {\n",
       "        vertical-align: middle;\n",
       "    }\n",
       "\n",
       "    .dataframe tbody tr th {\n",
       "        vertical-align: top;\n",
       "    }\n",
       "\n",
       "    .dataframe thead th {\n",
       "        text-align: right;\n",
       "    }\n",
       "</style>\n",
       "<table border=\"1\" class=\"dataframe\">\n",
       "  <thead>\n",
       "    <tr style=\"text-align: right;\">\n",
       "      <th></th>\n",
       "      <th>Name</th>\n",
       "      <th>Domain</th>\n",
       "      <th>Description</th>\n",
       "      <th>CAPEC ID</th>\n",
       "      <th>Similarity</th>\n",
       "    </tr>\n",
       "  </thead>\n",
       "  <tbody>\n",
       "    <tr>\n",
       "      <th>45</th>\n",
       "      <td>T-R1-03</td>\n",
       "      <td>enterprise-attack</td>\n",
       "      <td>Malicious actor bypasses authentication to Request Data</td>\n",
       "      <td>CAPEC-114</td>\n",
       "      <td>0.558573</td>\n",
       "    </tr>\n",
       "    <tr>\n",
       "      <th>69</th>\n",
       "      <td>T-SMO-28</td>\n",
       "      <td>enterprise-attack</td>\n",
       "      <td>External attacker uses External interface to exploit API vulnerability to gain access to SMO</td>\n",
       "      <td>CAPEC-113</td>\n",
       "      <td>0.565503</td>\n",
       "    </tr>\n",
       "    <tr>\n",
       "      <th>80</th>\n",
       "      <td>T-O-RAN-09</td>\n",
       "      <td>enterprise-attack</td>\n",
       "      <td>An attacker compromises O-RAN components integrity and availability</td>\n",
       "      <td>CAPEC-440</td>\n",
       "      <td>0.565102</td>\n",
       "    </tr>\n",
       "    <tr>\n",
       "      <th>83</th>\n",
       "      <td>T-AppLCM-05</td>\n",
       "      <td>enterprise-attack</td>\n",
       "      <td>Malicious actor modifies application’s SecurityDescriptor</td>\n",
       "      <td>CAPEC-698</td>\n",
       "      <td>0.551221</td>\n",
       "    </tr>\n",
       "    <tr>\n",
       "      <th>94</th>\n",
       "      <td>T-GEN-01</td>\n",
       "      <td>enterprise-attack</td>\n",
       "      <td>Software flaw attack</td>\n",
       "      <td>CAPEC-480</td>\n",
       "      <td>0.562108</td>\n",
       "    </tr>\n",
       "    <tr>\n",
       "      <th>97</th>\n",
       "      <td>T-VL-01</td>\n",
       "      <td>enterprise-attack</td>\n",
       "      <td>VM/Container hyperjacking attack</td>\n",
       "      <td>CAPEC-480</td>\n",
       "      <td>0.558357</td>\n",
       "    </tr>\n",
       "    <tr>\n",
       "      <th>101</th>\n",
       "      <td>T-PHYS-01</td>\n",
       "      <td>enterprise-attack</td>\n",
       "      <td>An intruder into a site gains physical access to O-RAN components to cause damage or access sensitive data</td>\n",
       "      <td>CAPEC-401</td>\n",
       "      <td>0.551274</td>\n",
       "    </tr>\n",
       "    <tr>\n",
       "      <th>141</th>\n",
       "      <td>T-AppLCM-05</td>\n",
       "      <td>enterprise-attack</td>\n",
       "      <td>Malicious actor modifies application’s SecurityDescriptor</td>\n",
       "      <td>CAPEC-502</td>\n",
       "      <td>0.579609</td>\n",
       "    </tr>\n",
       "    <tr>\n",
       "      <th>181</th>\n",
       "      <td>T-AppLCM-05</td>\n",
       "      <td>enterprise-attack</td>\n",
       "      <td>Malicious actor modifies application’s SecurityDescriptor</td>\n",
       "      <td>CAPEC-445</td>\n",
       "      <td>0.558988</td>\n",
       "    </tr>\n",
       "  </tbody>\n",
       "</table>\n",
       "</div>"
      ],
      "text/plain": [
       "            Name             Domain  \\\n",
       "45       T-R1-03  enterprise-attack   \n",
       "69      T-SMO-28  enterprise-attack   \n",
       "80    T-O-RAN-09  enterprise-attack   \n",
       "83   T-AppLCM-05  enterprise-attack   \n",
       "94      T-GEN-01  enterprise-attack   \n",
       "97       T-VL-01  enterprise-attack   \n",
       "101    T-PHYS-01  enterprise-attack   \n",
       "141  T-AppLCM-05  enterprise-attack   \n",
       "181  T-AppLCM-05  enterprise-attack   \n",
       "\n",
       "                                                                                                    Description  \\\n",
       "45                                                     Malicious actor bypasses authentication to Request Data    \n",
       "69                 External attacker uses External interface to exploit API vulnerability to gain access to SMO   \n",
       "80                                          An attacker compromises O-RAN components integrity and availability   \n",
       "83                                                    Malicious actor modifies application’s SecurityDescriptor   \n",
       "94                                                                                         Software flaw attack   \n",
       "97                                                                             VM/Container hyperjacking attack   \n",
       "101  An intruder into a site gains physical access to O-RAN components to cause damage or access sensitive data   \n",
       "141                                                   Malicious actor modifies application’s SecurityDescriptor   \n",
       "181                                                   Malicious actor modifies application’s SecurityDescriptor   \n",
       "\n",
       "      CAPEC ID  Similarity  \n",
       "45   CAPEC-114    0.558573  \n",
       "69   CAPEC-113    0.565503  \n",
       "80   CAPEC-440    0.565102  \n",
       "83   CAPEC-698    0.551221  \n",
       "94   CAPEC-480    0.562108  \n",
       "97   CAPEC-480    0.558357  \n",
       "101  CAPEC-401    0.551274  \n",
       "141  CAPEC-502    0.579609  \n",
       "181  CAPEC-445    0.558988  "
      ]
     },
     "execution_count": 76,
     "metadata": {},
     "output_type": "execute_result"
    }
   ],
   "source": [
    "threats_in_orca_not_in_our = orca_mappings[~orca_mappings['Name'].isin(our_mappings['Name'])]\n",
    "threats_in_orca_not_in_our"
   ]
  },
  {
   "cell_type": "code",
   "execution_count": 77,
   "id": "4add7ff2",
   "metadata": {},
   "outputs": [
    {
     "data": {
      "text/html": [
       "<div>\n",
       "<style scoped>\n",
       "    .dataframe tbody tr th:only-of-type {\n",
       "        vertical-align: middle;\n",
       "    }\n",
       "\n",
       "    .dataframe tbody tr th {\n",
       "        vertical-align: top;\n",
       "    }\n",
       "\n",
       "    .dataframe thead th {\n",
       "        text-align: right;\n",
       "    }\n",
       "</style>\n",
       "<table border=\"1\" class=\"dataframe\">\n",
       "  <thead>\n",
       "    <tr style=\"text-align: right;\">\n",
       "      <th></th>\n",
       "      <th>Name</th>\n",
       "      <th>Domain</th>\n",
       "      <th>Description</th>\n",
       "      <th>CAPEC ID</th>\n",
       "      <th>Similarity</th>\n",
       "      <th>summary_th_df</th>\n",
       "      <th>summary_ca_df</th>\n",
       "    </tr>\n",
       "  </thead>\n",
       "  <tbody>\n",
       "    <tr>\n",
       "      <th>25</th>\n",
       "      <td>T-NEAR-RT-05</td>\n",
       "      <td>enterprise-attack</td>\n",
       "      <td>Attackers exploit non uniquely identified xApps using a trusted xAppID to access to resources and services which they are not entitled to use.</td>\n",
       "      <td>CAPEC-21</td>\n",
       "      <td>0.551030</td>\n",
       "      <td>A Threat with the title Attackers exploit non uniquely identified xApps using a trusted xAppID to access to resources and services which they are not entitled to use. and the descriptionNot uniquely identifying xApps using a trusted xAppID potentially entails certain threats and potential attacks:\\n- A non-unique xAppID might cause misidentification of an xApp, possibly allowing a potentially malicious xApp to request certain services (theft of services), information (data leakage), or alter existing information\\n- A malicious xApp might use the xAppID assigned to a legitimate xApp to request services or information from Near-RT RIC platform\\n- A non-unique xApp ID could make it impossible to accurately assign actions to the correct xApp\\n- A non-unique xApp ID could make it difficult to recognize that a malicious xApp is in the environment</td>\n",
       "      <td>A CAPEC with the title Exploitation of Trusted Identifiers. The description of this CAPEC is:\\n            &lt;xhtml:p&gt;An adversary guesses, obtains, or \"rides\" a trusted identifier (e.g. session ID, resource ID, cookie, etc.) to perform authorized actions under the guise of an authenticated user or service.&lt;/xhtml:p&gt;\\n         . The Domain of this is: Software</td>\n",
       "    </tr>\n",
       "    <tr>\n",
       "      <th>52</th>\n",
       "      <td>T-VM-C-02</td>\n",
       "      <td>enterprise-attack</td>\n",
       "      <td>VM/Container escape attack</td>\n",
       "      <td>CAPEC-480</td>\n",
       "      <td>0.594237</td>\n",
       "      <td>A Threat with the title VM/Container escape attack and the descriptionVNF/CNF deployed on the same physical machine as tenants share the same host kernel and host OS resources. Lack of strong isolation between the VMs/Containers and the host allows for a potential risk of a rogue VM/Container escaping the VM/Container confinement and impacting other co-hosted VMs/Containers. In others, an attacker may deploy a new malicious VM/Container configured without network rules, user limitations, etc. to bypass existing defenses within O-Cloud infrastructure.\\nAttacker deploys malicious VM/Container to escapes the host (Hypervisor/Container Engine/Host OS) and reaches the server’s hardware, then the malicious VM/Container can gain root access to the whole server where it resides. This gives the malicious VM/Container full control on all the VMs/Containers hosted on the same hacked server. This could allow an attacker to undermine the confidentiality, integrity and/or availability of VNFs/CNFs resources.\\nContainers can be deployed by various means, such as via Docker's create and start APIs or via a web application such as the Kubernetes dashboard or Kubeflow. Adversaries may deploy containers based on retrieved or built malicious images or from benign images that download and execute malicious payloads at runtime.\\nWhen a malicious VM/Container escapes isolation, it can gain full control over the underlying host and cause any of the below serious threats:\\n• Attacker would gain the ability to mount attacks on the host or compromise the host functionalities\\n• Compromise the confidentiality &amp; integrity of co-hosted VMs/Containers and tenants\\n• Launch DDOS attacks on co-hosted VMs/Containers and host services thereby degrading their performance \\n• Introduce new vulnerabilities in host to be used for future attacks\\n• Lack of network segmentation could potentially expose other VMs/Containers in the environment to attack. An example of this could be reconnaissance, exploitation and subsequent lateral movement to another host within the cluster.</td>\n",
       "      <td>A CAPEC with the title Escaping Virtualization. The description of this CAPEC is:An adversary gains access to an application, service, or device with the privileges of an authorized or privileged user by escaping the confines of a virtualized environment. The adversary is then able to access resources or execute unauthorized code within the host environment, generally with the privileges of the user running the virtualized process. Successfully executing an attack of this type is often the first step in executing more complex attacks.. The Domain of this is: Software</td>\n",
       "    </tr>\n",
       "  </tbody>\n",
       "</table>\n",
       "</div>"
      ],
      "text/plain": [
       "            Name             Domain  \\\n",
       "25  T-NEAR-RT-05  enterprise-attack   \n",
       "52     T-VM-C-02  enterprise-attack   \n",
       "\n",
       "                                                                                                                                       Description  \\\n",
       "25  Attackers exploit non uniquely identified xApps using a trusted xAppID to access to resources and services which they are not entitled to use.   \n",
       "52                                                                                                                      VM/Container escape attack   \n",
       "\n",
       "     CAPEC ID  Similarity  \\\n",
       "25   CAPEC-21    0.551030   \n",
       "52  CAPEC-480    0.594237   \n",
       "\n",
       "                                                                                                                                                                                                                                                                                                                                                                                                                                                                                                                                                                                                                                                                                                                                                                                                                                                                                                                                                                                                                                                                                                                                                                                                                                                                                                                                                                                                                                                                                                                                                                                                                                                                                                                                                                                                                                                                                                                                                                                                                                                                                                                                             summary_th_df  \\\n",
       "25                                                                                                                                                                                                                                                                                                                                                                                                                                                                                                                                                                                                                                                                                                                                                                                                                                                                                                                                                                                                                                                                                                                                                                                                                                                                    A Threat with the title Attackers exploit non uniquely identified xApps using a trusted xAppID to access to resources and services which they are not entitled to use. and the descriptionNot uniquely identifying xApps using a trusted xAppID potentially entails certain threats and potential attacks:\\n- A non-unique xAppID might cause misidentification of an xApp, possibly allowing a potentially malicious xApp to request certain services (theft of services), information (data leakage), or alter existing information\\n- A malicious xApp might use the xAppID assigned to a legitimate xApp to request services or information from Near-RT RIC platform\\n- A non-unique xApp ID could make it impossible to accurately assign actions to the correct xApp\\n- A non-unique xApp ID could make it difficult to recognize that a malicious xApp is in the environment   \n",
       "52  A Threat with the title VM/Container escape attack and the descriptionVNF/CNF deployed on the same physical machine as tenants share the same host kernel and host OS resources. Lack of strong isolation between the VMs/Containers and the host allows for a potential risk of a rogue VM/Container escaping the VM/Container confinement and impacting other co-hosted VMs/Containers. In others, an attacker may deploy a new malicious VM/Container configured without network rules, user limitations, etc. to bypass existing defenses within O-Cloud infrastructure.\\nAttacker deploys malicious VM/Container to escapes the host (Hypervisor/Container Engine/Host OS) and reaches the server’s hardware, then the malicious VM/Container can gain root access to the whole server where it resides. This gives the malicious VM/Container full control on all the VMs/Containers hosted on the same hacked server. This could allow an attacker to undermine the confidentiality, integrity and/or availability of VNFs/CNFs resources.\\nContainers can be deployed by various means, such as via Docker's create and start APIs or via a web application such as the Kubernetes dashboard or Kubeflow. Adversaries may deploy containers based on retrieved or built malicious images or from benign images that download and execute malicious payloads at runtime.\\nWhen a malicious VM/Container escapes isolation, it can gain full control over the underlying host and cause any of the below serious threats:\\n• Attacker would gain the ability to mount attacks on the host or compromise the host functionalities\\n• Compromise the confidentiality & integrity of co-hosted VMs/Containers and tenants\\n• Launch DDOS attacks on co-hosted VMs/Containers and host services thereby degrading their performance \\n• Introduce new vulnerabilities in host to be used for future attacks\\n• Lack of network segmentation could potentially expose other VMs/Containers in the environment to attack. An example of this could be reconnaissance, exploitation and subsequent lateral movement to another host within the cluster.   \n",
       "\n",
       "                                                                                                                                                                                                                                                                                                                                                                                                                                                                                                                                                                                    summary_ca_df  \n",
       "25                                                                                                                                                                                                                       A CAPEC with the title Exploitation of Trusted Identifiers. The description of this CAPEC is:\\n            <xhtml:p>An adversary guesses, obtains, or \"rides\" a trusted identifier (e.g. session ID, resource ID, cookie, etc.) to perform authorized actions under the guise of an authenticated user or service.</xhtml:p>\\n         . The Domain of this is: Software  \n",
       "52  A CAPEC with the title Escaping Virtualization. The description of this CAPEC is:An adversary gains access to an application, service, or device with the privileges of an authorized or privileged user by escaping the confines of a virtualized environment. The adversary is then able to access resources or execute unauthorized code within the host environment, generally with the privileges of the user running the virtualized process. Successfully executing an attack of this type is often the first step in executing more complex attacks.. The Domain of this is: Software  "
      ]
     },
     "execution_count": 77,
     "metadata": {},
     "output_type": "execute_result"
    }
   ],
   "source": [
    "threats_in_our_not_in_orca = our_mappings[~our_mappings['Name'].isin(orca_mappings['Name'])]\n",
    "threats_in_our_not_in_orca"
   ]
  },
  {
   "cell_type": "markdown",
   "id": "ea0e5b6f",
   "metadata": {},
   "source": [
    "### Preparation for Prompt Engineering"
   ]
  },
  {
   "cell_type": "code",
   "execution_count": 78,
   "id": "4a60c611",
   "metadata": {},
   "outputs": [],
   "source": [
    "#threat_data_for_PE = df_threats[['Threat ID', 'summary_th_df']]\n",
    "##save as pickle\n",
    "#threat_data_for_PE.to_pickle('threat_data/threat_data_for_PE.pk1')"
   ]
  },
  {
   "cell_type": "code",
   "execution_count": 7,
   "id": "ef6aa53c",
   "metadata": {},
   "outputs": [],
   "source": [
    "threat_data_for_PE = pd.read_pickle('threat_data/threat_data_for_PE.pk1')"
   ]
  },
  {
   "cell_type": "markdown",
   "id": "6106938e",
   "metadata": {},
   "source": [
    "### Preparation for Retrieval Augmented Generation"
   ]
  },
  {
   "cell_type": "code",
   "execution_count": 80,
   "id": "d8cdd475",
   "metadata": {},
   "outputs": [],
   "source": [
    "import chromadb\n",
    "import uuid\n",
    "\n",
    "client = chromadb.Client()\n",
    "\n",
    "collection = client.create_collection(name=\"capec_summaries\")"
   ]
  },
  {
   "cell_type": "code",
   "execution_count": null,
   "id": "a874d5ac",
   "metadata": {},
   "outputs": [],
   "source": [
    "#capecs_for_rag = capecs_with_embeddings_df[['CAPEC ID', 'summary_ca_df', 'embedding']]\n",
    "#capecs_for_rag.to_pickle('capec_data/capecs_for_rag.pk1')\n"
   ]
  },
  {
   "cell_type": "code",
   "execution_count": 82,
   "id": "00cdd5ff",
   "metadata": {},
   "outputs": [],
   "source": [
    "capecs_for_rag = pd.read_pickle('capec_data/capecs_for_rag.pk1')"
   ]
  },
  {
   "cell_type": "code",
   "execution_count": 83,
   "id": "3a346c3c",
   "metadata": {},
   "outputs": [],
   "source": [
    "collection.add(\n",
    "    documents=capecs_for_rag['summary_ca_df'].tolist(),\n",
    "    embeddings=capecs_for_rag['embedding'].tolist(),\n",
    "    ids=[str(uuid.uuid4()) for _ in range(len(capecs_for_rag))],\n",
    "    metadatas=capecs_for_rag[['CAPEC ID']].to_dict(orient='records')\n",
    ")"
   ]
  },
  {
   "cell_type": "code",
   "execution_count": null,
   "id": "b49b2c49",
   "metadata": {},
   "outputs": [],
   "source": [
    "#threat_data_for_RAG = df_threats[['Threat ID', 'summary_th_df', 'embedding' ]]\n",
    "##save as pickle\n",
    "#threat_data_for_RAG.to_pickle('threat_data/threat_data_for_RAG.pk1')"
   ]
  },
  {
   "cell_type": "code",
   "execution_count": 84,
   "id": "3a66ac2f",
   "metadata": {},
   "outputs": [],
   "source": [
    "threat_data_for_RAG = pd.read_pickle('threat_data/threat_data_for_RAG.pk1')"
   ]
  },
  {
   "cell_type": "markdown",
   "id": "1a081930",
   "metadata": {},
   "source": [
    "Testing the mapping with the chromadb"
   ]
  },
  {
   "cell_type": "code",
   "execution_count": 85,
   "id": "59e9f2a5",
   "metadata": {},
   "outputs": [
    {
     "data": {
      "text/plain": [
       "'T-A1-02'"
      ]
     },
     "execution_count": 85,
     "metadata": {},
     "output_type": "execute_result"
    }
   ],
   "source": [
    "#selecting a threat for the query\n",
    "id_for_query = merged_similarities_both_similarities_exist.Name[0]\n",
    "id_for_query"
   ]
  },
  {
   "cell_type": "code",
   "execution_count": 86,
   "id": "7b034f84",
   "metadata": {},
   "outputs": [],
   "source": [
    "query = threat_data_for_RAG[threat_data_for_RAG['Threat ID'] == id_for_query]['summary_th_df'].tolist()[0]\n",
    "query_embedding = threat_data_for_RAG[threat_data_for_RAG['Threat ID'] == id_for_query]['embedding'].tolist()[0]\n"
   ]
  },
  {
   "cell_type": "code",
   "execution_count": 87,
   "id": "5d321731",
   "metadata": {},
   "outputs": [],
   "source": [
    "results = collection.query(\n",
    "    query_embeddings=[query_embedding],\n",
    "    n_results=5,\n",
    ")"
   ]
  },
  {
   "cell_type": "code",
   "execution_count": 92,
   "id": "d419775d",
   "metadata": {},
   "outputs": [
    {
     "name": "stdout",
     "output_type": "stream",
     "text": [
      "Text: A CAPEC with the title Navigation Remapping To Propagate Malicious Content. The description of this CAPEC is: An adversary manipulates either egress or ingress data from a client within an application framework in order to change the content of messages and thereby circumvent the expected application logic.. The Domains of this are: Communications, Software\n",
      "Metadata: {'CAPEC ID': 'CAPEC-387'}\n",
      "----------------------------------------\n",
      "Text: A CAPEC with the title Choosing Message Identifier. The description of this CAPEC is: This pattern of attack is defined by the selection of messages distributed via multicast or public information channels that are intended for another client by determining the parameter value assigned to that client. This attack allows the adversary to gain access to potentially privileged information, and to possibly perpetrate other attacks through the distribution means by impersonation. If the channel/message being manipulated is an input rather than output mechanism for the system, (such as a command bus), this style of attack could be used to change the adversary's identifier to more a privileged one.. The Domain of this is: Communications\n",
      "Metadata: {'CAPEC ID': 'CAPEC-12'}\n",
      "----------------------------------------\n",
      "Text: A CAPEC with the title Application API Button Hijacking. The description of this CAPEC is: An attacker manipulates either egress or ingress data from a client within an application framework in order to change the destination and/or content of buttons displayed to a user within API messages. Performing this attack allows the attacker to manipulate content in such a way as to produce messages or content that looks authentic but contains buttons that point to an attacker controlled destination.. The Domains of this are: Communications, Software\n",
      "Metadata: {'CAPEC ID': 'CAPEC-388'}\n",
      "----------------------------------------\n",
      "Text: A CAPEC with the title Intent Spoof. The description of this CAPEC is: An adversary, through a previously installed malicious application, issues an intent directed toward a specific trusted application's component in an attempt to achieve a variety of different objectives including modification of data, information disclosure, and data injection. Components that have been unintentionally exported and made public are subject to this type of an attack. If the component trusts the intent's action without verififcation, then the target application performs the functionality at the adversary's request, helping the adversary achieve the desired negative technical impact.. The Domain of this is: Software\n",
      "Metadata: {'CAPEC ID': 'CAPEC-502'}\n",
      "----------------------------------------\n",
      "Text: A CAPEC with the title Adversary in the Middle (AiTM). The description of this CAPEC is: \n",
      "            <xhtml:p>An adversary targets the communication between two components (typically client and server), in order to alter or obtain data from transactions. A general approach entails the adversary placing themself within the communication channel between the two components.</xhtml:p>\n",
      "         . The Domains of this are: Communications, Software\n",
      "Metadata: {'CAPEC ID': 'CAPEC-94'}\n",
      "----------------------------------------\n"
     ]
    }
   ],
   "source": [
    "for doc, meta in zip(results['documents'][0], results['metadatas'][0]):\n",
    "    print(\"Text:\", doc)\n",
    "    print(\"Metadata:\", meta)\n",
    "    print(\"-\" * 40)"
   ]
  },
  {
   "cell_type": "code",
   "execution_count": 58,
   "id": "8596bcbf",
   "metadata": {},
   "outputs": [
    {
     "ename": "NameError",
     "evalue": "name 'merged_similarities_both_similarities_exist' is not defined",
     "output_type": "error",
     "traceback": [
      "\u001b[31m---------------------------------------------------------------------------\u001b[39m",
      "\u001b[31mNameError\u001b[39m                                 Traceback (most recent call last)",
      "\u001b[36mCell\u001b[39m\u001b[36m \u001b[39m\u001b[32mIn[58]\u001b[39m\u001b[32m, line 1\u001b[39m\n\u001b[32m----> \u001b[39m\u001b[32m1\u001b[39m mappings_for_A1_02 = \u001b[43mmerged_similarities_both_similarities_exist\u001b[49m[merged_similarities_both_similarities_exist[\u001b[33m'\u001b[39m\u001b[33mName\u001b[39m\u001b[33m'\u001b[39m] == id_for_query]\n",
      "\u001b[31mNameError\u001b[39m: name 'merged_similarities_both_similarities_exist' is not defined"
     ]
    }
   ],
   "source": [
    "mappings_for_A1_02 = merged_similarities_both_similarities_exist[merged_similarities_both_similarities_exist['Name'] == id_for_query]"
   ]
  },
  {
   "cell_type": "markdown",
   "id": "e761d080",
   "metadata": {},
   "source": [
    "### Preparation for Fine Tuning with LoRA"
   ]
  },
  {
   "cell_type": "code",
   "execution_count": 96,
   "id": "76706810",
   "metadata": {},
   "outputs": [],
   "source": [
    "training_data = []\n",
    "for _,row in our_mappings.iterrows():\n",
    "    prompt = f\"Threat Description: {row['summary_th_df']}\\nCAPEC Mapping:\"\n",
    "    completion = f\" {row['summary_ca_df']}\"\n",
    "    training_data.append({\"prompt\": prompt, \"completion\": completion})"
   ]
  },
  {
   "cell_type": "code",
   "execution_count": null,
   "id": "f1d81c60",
   "metadata": {},
   "outputs": [
    {
     "name": "stdout",
     "output_type": "stream",
     "text": [
      "Saved 163 training examples to 'mapped_data/lora_training_data.jsonl'\n"
     ]
    }
   ],
   "source": [
    "# Save to JSONL format in the desired directory\n",
    "#output_path = \"mapped_data/lora_training_data.jsonl\"\n",
    "#with open(output_path, \"w\", encoding=\"utf-8\") as f:\n",
    "#    for entry in training_data:\n",
    "#        f.write(json.dumps(entry) + \"\\n\")\n",
    "#\n",
    "#print(f\"Saved {len(training_data)} training examples to '{output_path}'\")"
   ]
  },
  {
   "cell_type": "code",
   "execution_count": 6,
   "id": "73c0aea2",
   "metadata": {},
   "outputs": [],
   "source": [
    "# loading the training data from the JSONL file\n",
    "output_path = \"mapped_data/lora_training_data.jsonl\"\n",
    "with open(output_path, \"r\", encoding=\"utf-8\") as f:\n",
    "    training_data = [json.loads(line) for line in f]"
   ]
  },
  {
   "cell_type": "markdown",
   "id": "ae2613cc",
   "metadata": {},
   "source": [
    "## Modeling"
   ]
  },
  {
   "cell_type": "markdown",
   "id": "7f2a4375",
   "metadata": {},
   "source": [
    "### Prompt Engineering"
   ]
  },
  {
   "cell_type": "code",
   "execution_count": 11,
   "id": "cc179d42",
   "metadata": {},
   "outputs": [],
   "source": [
    "from tqdm import tqdm"
   ]
  },
  {
   "cell_type": "code",
   "execution_count": 9,
   "id": "f3251f96",
   "metadata": {},
   "outputs": [
    {
     "data": {
      "text/plain": [
       "(182, 2)"
      ]
     },
     "execution_count": 9,
     "metadata": {},
     "output_type": "execute_result"
    }
   ],
   "source": [
    "threat_data_for_PE.shape"
   ]
  },
  {
   "cell_type": "code",
   "execution_count": 10,
   "id": "5034cf43",
   "metadata": {},
   "outputs": [
    {
     "data": {
      "text/plain": [
       "Index(['Threat ID', 'summary_th_df'], dtype='object')"
      ]
     },
     "execution_count": 10,
     "metadata": {},
     "output_type": "execute_result"
    }
   ],
   "source": [
    "threat_data_for_PE.columns"
   ]
  },
  {
   "cell_type": "code",
   "execution_count": 21,
   "id": "2108f07a",
   "metadata": {},
   "outputs": [],
   "source": [
    "df = threat_data_for_PE.copy()"
   ]
  },
  {
   "cell_type": "code",
   "execution_count": 103,
   "id": "78f085a4",
   "metadata": {},
   "outputs": [],
   "source": [
    "def create_prompt(threat_summary):\n",
    "    return f\"\"\"You are an expert in threat modeling and know all existing CAPECS.\n",
    "    \n",
    "    Given the following threat summary:\n",
    "    \n",
    "    \"{threat_summary}\"\n",
    "    \n",
    "    Provide the three most appropriate CAPEC IDs for this threat based on the description of each CAPEC. CAPEC stands for Common Attack Pattern Enumeration and Classification.\"\"\""
   ]
  },
  {
   "cell_type": "code",
   "execution_count": null,
   "id": "feddfef3",
   "metadata": {},
   "outputs": [],
   "source": [
    "# Build a formatted string with all CAPEC IDs and their summaries\n",
    "capec_context = \"\"\n",
    "\n",
    "for _, row in capecs_with_embeddings_df.iterrows():\n",
    "    capec_id = row['CAPEC ID']\n",
    "    capec_summary = row['summary']\n",
    "    capec_context += f\"{capec_id}: {capec_summary}\\n\"\n",
    "\n"
   ]
  },
  {
   "cell_type": "code",
   "execution_count": 61,
   "id": "de47b3d4",
   "metadata": {},
   "outputs": [],
   "source": [
    "def create_prompt_with_capec_list(threat_description, capec_context):\n",
    "    return f\"\"\"You are a cybersecurity expert.\n",
    "\n",
    "Here is a list of CAPEC attack pattern summaries:\n",
    "{capec_context}\n",
    "\n",
    "Given the following threat description:\n",
    "\n",
    "\"{threat_description}\"\n",
    "\n",
    "Which 3 CAPEC ID from the list above best match the threat based on their description? Respond only with the CAPEC ID and a brief justification.\"\"\"\n"
   ]
  },
  {
   "cell_type": "code",
   "execution_count": 62,
   "id": "feda7369",
   "metadata": {},
   "outputs": [
    {
     "data": {
      "text/html": [
       "<div>\n",
       "<style scoped>\n",
       "    .dataframe tbody tr th:only-of-type {\n",
       "        vertical-align: middle;\n",
       "    }\n",
       "\n",
       "    .dataframe tbody tr th {\n",
       "        vertical-align: top;\n",
       "    }\n",
       "\n",
       "    .dataframe thead th {\n",
       "        text-align: right;\n",
       "    }\n",
       "</style>\n",
       "<table border=\"1\" class=\"dataframe\">\n",
       "  <thead>\n",
       "    <tr style=\"text-align: right;\">\n",
       "      <th></th>\n",
       "      <th>Threat ID</th>\n",
       "      <th>summary_th_df</th>\n",
       "    </tr>\n",
       "  </thead>\n",
       "  <tbody>\n",
       "    <tr>\n",
       "      <th>82</th>\n",
       "      <td>T-A1-02</td>\n",
       "      <td>A Threat with the title Malicious function or ...</td>\n",
       "    </tr>\n",
       "  </tbody>\n",
       "</table>\n",
       "</div>"
      ],
      "text/plain": [
       "   Threat ID                                      summary_th_df\n",
       "82   T-A1-02  A Threat with the title Malicious function or ..."
      ]
     },
     "execution_count": 62,
     "metadata": {},
     "output_type": "execute_result"
    }
   ],
   "source": [
    "df = df[df['Threat ID'] == \"T-A1-02\"]\n",
    "df"
   ]
  },
  {
   "cell_type": "code",
   "execution_count": 72,
   "id": "30e066de",
   "metadata": {},
   "outputs": [],
   "source": [
    "model = 'deepseek-r1:1.5b'\n",
    "model = 'qwen3:1.7b'"
   ]
  },
  {
   "cell_type": "code",
   "execution_count": 73,
   "id": "f830c12b",
   "metadata": {},
   "outputs": [
    {
     "data": {
      "text/plain": [
       "Index(['CAPEC ID', 'capec_name', 'capec_description', 'capec_domain',\n",
       "       'summary', 'embedding'],\n",
       "      dtype='object')"
      ]
     },
     "execution_count": 73,
     "metadata": {},
     "output_type": "execute_result"
    }
   ],
   "source": [
    "capecs_with_embeddings_df.columns"
   ]
  },
  {
   "cell_type": "code",
   "execution_count": null,
   "id": "0683252d",
   "metadata": {},
   "outputs": [],
   "source": []
  },
  {
   "cell_type": "code",
   "execution_count": null,
   "id": "18e11965",
   "metadata": {},
   "outputs": [],
   "source": []
  },
  {
   "cell_type": "code",
   "execution_count": 74,
   "id": "6a2a237a",
   "metadata": {},
   "outputs": [
    {
     "data": {
      "text/plain": [
       "344131"
      ]
     },
     "execution_count": 74,
     "metadata": {},
     "output_type": "execute_result"
    }
   ],
   "source": [
    "len(capec_context)"
   ]
  },
  {
   "cell_type": "code",
   "execution_count": 81,
   "id": "85a0ad62",
   "metadata": {},
   "outputs": [
    {
     "name": "stderr",
     "output_type": "stream",
     "text": [
      "  0%|          | 0/1 [00:00<?, ?it/s]"
     ]
    },
    {
     "name": "stdout",
     "output_type": "stream",
     "text": [
      "You are a cybersecurity expert.\n",
      "\n",
      "Here is a list of CAPEC attack pattern summaries:\n",
      "CAPEC-87: A CAPEC with the title Forceful Browsing. The description of this CAPEC is: An attacker employs forceful browsing (direct URL entry) to access portions of a website that are otherwise unreachable. Usually, a front controller or similar design pattern is employed to protect access to portions of a web application. Forceful browsing enables an attacker to access information, perform privileged operations and otherwise reach sections of the web application that have been improperly protected.. The Domain of this is: Software\n",
      "CAPEC-391: A CAPEC with the title Bypassing Physical Locks. The description of this CAPEC is: An attacker uses techniques and methods to bypass physical security measures of a building or facility. Physical locks may range from traditional lock and key mechanisms, cable locks used to secure laptops or servers, locks on server cases, or other such devices. Techniques such as lock bumping, lock forcing via snap guns, or lock picking can be employed to bypass those locks and gain access to the facilities or devices they protect, although stealth, evidence of tampering, and the integrity of the lock following an attack, are considerations that may determine the method employed. Physical locks are limited by the complexity of the locking mechanism. While some locks may offer protections such as shock resistant foam to prevent bumping or lock forcing methods, many commonly employed locks offer no such countermeasures.. The Domain of this is: Physical Security\n",
      "CAPEC-4: A CAPEC with the title Using Alternative IP Address Encodings. The description of this CAPEC is: This attack relies on the adversary using unexpected formats for representing IP addresses. Networked applications may expect network location information in a specific format, such as fully qualified domains names (FQDNs), URL, IP address, or IP Address ranges. If the location information is not validated against a variety of different possible encodings and formats, the adversary can use an alternate format to bypass application access control.. The Domain of this is: Software\n",
      "CAPEC-185: A CAPEC with the title Malicious Software Download. The description of this CAPEC is: An attacker uses deceptive methods to cause a user or an automated process to download and install dangerous code that originates from an attacker controlled source. There are several variations to this strategy of attack.. The Domain of this is: Software\n",
      "CAPEC-226: A CAPEC with the title Session Credential Falsification through Manipulation. The description of this CAPEC is: An attacker manipulates an existing credential in order to gain access to a target application. Session credentials allow users to identify themselves to a service after an initial authentication without needing to resend the authentication information (usually a username and password) with every message. An attacker may be able to manipulate a credential sniffed from an existing connection in order to gain access to a target server.. The Domain of this is: Software\n",
      "CAPEC-208: A CAPEC with the title Removing/short-circuiting 'Purse' logic: removing/mutating 'cash' decrements. The description of this CAPEC is: An attacker removes or modifies the logic on a client associated with monetary calculations resulting in incorrect information being sent to the server. A server may rely on a client to correctly compute monetary information. For example, a server might supply a price for an item and then rely on the client to correctly compute the total cost of a purchase given the number of items the user is buying. If the attacker can remove or modify the logic that controls these calculations, they can return incorrect values to the server. The attacker can use this to make purchases for a fraction of the legitimate cost or otherwise avoid correct billing for activities.. The Domain of this is: Software\n",
      "CAPEC-587: A CAPEC with the title Cross Frame Scripting (XFS). The description of this CAPEC is: This attack pattern combines malicious Javascript and a legitimate webpage loaded into a concealed iframe. The malicious Javascript is then able to interact with a legitimate webpage in a manner that is unknown to the user. This attack usually leverages some element of social engineering in that an attacker must convinces a user to visit a web page that the attacker controls.. The Domains of this are: Social Engineering, Software\n",
      "CAPEC-131: A CAPEC with the title Resource Leak Exposure. The description of this CAPEC is: An adversary utilizes a resource leak on the target to deplete the quantity of the resource available to service legitimate requests.. The Domain of this is: Software\n",
      "CAPEC-523: A CAPEC with the title Malicious Software Implanted. The description of this CAPEC is: An attacker implants malicious software into the system in the supply chain distribution channel, with purpose of causing malicious disruption or allowing for additional compromise when the system is deployed.. The Domain of this is: Supply Chain\n",
      "CAPEC-600: A CAPEC with the title Credential Stuffing. The description of this CAPEC is: \n",
      "            <xhtml:p>An adversary tries known username/password combinations against different systems, applications, or services to gain additional authenticated access. Credential Stuffing attacks rely upon the fact that many users leverage the same username/password combination for multiple systems, applications, and services.</xhtml:p>\n",
      "         . The Domain of this is: Software\n",
      "CAPEC-644: A CAPEC with the title Use of Captured Hashes (Pass The Hash). The description of this CAPEC is: An adversary obtains (i.e. steals or purchases) legitimate Windows domain credential hash values to access systems within the domain that leverage the Lan Man (LM) and/or NT Lan Man (NTLM) authentication protocols.. The Domain of this is: Software\n",
      "CAPEC-645: A CAPEC with the title Use of Captured Tickets (Pass The Ticket). The description of this CAPEC is: An adversary uses stolen Kerberos tickets to access systems/resources that leverage the Kerberos authentication protocol. The Kerberos authentication protocol centers around a ticketing system which is used to request/grant access to services and to then access the requested services. An adversary can obtain any one of these tickets (e.g. Service Ticket, Ticket Granting Ticket, Silver Ticket, or Golden Ticket) to authenticate to a system/resource without needing the account's credentials. Depending on the ticket obtained, the adversary may be able to access a particular resource or generate TGTs for any account within an Active Directory Domain.. The Domain of this is: Software\n",
      "CAPEC-435: A CAPEC with the title Target Influence via Instant Rapport. The description of this CAPEC is: . The Domain of this is: Social Engineering\n",
      "CAPEC-555: A CAPEC with the title Remote Services with Stolen Credentials. The description of this CAPEC is: This pattern of attack involves an adversary that uses stolen credentials to leverage remote services such as RDP, telnet, SSH, and VNC to log into a system. Once access is gained, any number of malicious activities could be performed.. The Domain of this is: Software\n",
      "CAPEC-308: A CAPEC with the title UDP Scan. The description of this CAPEC is: An adversary engages in UDP scanning to gather information about UDP port status on the target system. UDP scanning methods involve sending a UDP datagram to the target port and looking for evidence that the port is closed. Open UDP ports usually do not respond to UDP datagrams as there is no stateful mechanism within the protocol that requires building or establishing a session. Responses to UDP datagrams are therefore application specific and cannot be relied upon as a method of detecting an open port. UDP scanning relies heavily upon ICMP diagnostic messages in order to determine the status of a remote port.. The Domains of this are: Communications, Software\n",
      "CAPEC-78: A CAPEC with the title Using Escaped Slashes in Alternate Encoding. The description of this CAPEC is: This attack targets the use of the backslash in alternate encoding. An adversary can provide a backslash as a leading character and causes a parser to believe that the next character is special. This is called an escape. By using that trick, the adversary tries to exploit alternate ways to encode the same character which leads to filter problems and opens avenues to attack.. The Domain of this is: Software\n",
      "CAPEC-75: A CAPEC with the title Manipulating Writeable Configuration Files. The description of this CAPEC is: Generally these are manually edited files that are not in the preview of the system administrators, any ability on the attackers' behalf to modify these files, for example in a CVS repository, gives unauthorized access directly to the application, the same as authorized users.. The Domain of this is: Software\n",
      "CAPEC-62: A CAPEC with the title Cross Site Request Forgery. The description of this CAPEC is: An attacker crafts malicious web links and distributes them (via web pages, email, etc.), typically in a targeted manner, hoping to induce users to click on the link and execute the malicious action against some third-party application. If successful, the action embedded in the malicious link will be processed and accepted by the targeted application with the users' privilege level. This type of attack leverages the persistence and implicit trust placed in user session cookies by many web applications today. In such an architecture, once the user authenticates to an application and a session cookie is created on the user's system, all following transactions for that session are authenticated using that cookie including potential actions initiated by an attacker and simply \"riding\" the existing session cookie.. The Domain of this is: Software\n",
      "CAPEC-583: A CAPEC with the title Disabling Network Hardware. The description of this CAPEC is: In this attack pattern, an adversary physically disables networking hardware by powering it down or disconnecting critical equipment. Disabling or shutting off critical system resources prevents them from performing their service as intended, which can have direct and indirect consequences on other systems. This attack pattern is considerably less technical than the selective blocking used in most obstruction attacks.. The Domain of this is: Hardware\n",
      "CAPEC-385: A CAPEC with the title Transaction or Event Tampering via Application API Manipulation. The description of this CAPEC is: An attacker hosts or joins an event or transaction within an application framework in order to change the content of messages or items that are being exchanged. Performing this attack allows the attacker to manipulate content in such a way as to produce messages or content that look authentic but may contain deceptive links, substitute one item or another, spoof an existing item and conduct a false exchange, or otherwise change the amounts or identity of what is being exchanged. The techniques require use of specialized software that allow the attacker to man-in-the-middle communications between the web browser and the remote system in order to change the content of various application elements. Often, items exchanged in game can be monetized via sales for coin, virtual dollars, etc. The purpose of the attack is for the attack to scam the victim by trapping the data packets involved the exchange and altering the integrity of the transfer process.. The Domains of this are: Communications, Software\n",
      "CAPEC-81: A CAPEC with the title Web Server Logs Tampering. The description of this CAPEC is: Web Logs Tampering attacks involve an attacker injecting, deleting or otherwise tampering with the contents of web logs typically for the purposes of masking other malicious behavior. Additionally, writing malicious data to log files may target jobs, filters, reports, and other agents that process the logs in an asynchronous attack pattern. This pattern of attack is similar to \"Log Injection-Tampering-Forging\" except that in this case, the attack is targeting the logs of the web server and not the application.. The Domain of this is: Software\n",
      "CAPEC-682: A CAPEC with the title Exploitation of Firmware or ROM Code with Unpatchable Vulnerabilities. The description of this CAPEC is: An adversary may exploit vulnerable code (i.e., firmware or ROM) that is unpatchable. Unpatchable devices exist due to manufacturers intentionally or inadvertently designing devices incapable of updating their software. Additionally, with updatable devices, the manufacturer may decide not to support the device and stop making updates to their software.. The Domains of this are: Software, Hardware\n",
      "CAPEC-170: A CAPEC with the title Web Application Fingerprinting. The description of this CAPEC is: An attacker sends a series of probes to a web application in order to elicit version-dependent and type-dependent behavior that assists in identifying the target. An attacker could learn information such as software versions, error pages, and response headers, variations in implementations of the HTTP protocol, directory structures, and other similar information about the targeted service. This information can then be used by an attacker to formulate a targeted attack plan. While web application fingerprinting is not intended to be damaging (although certain activities, such as network scans, can sometimes cause disruptions to vulnerable applications inadvertently) it may often pave the way for more damaging attacks.. The Domain of this is: Software\n",
      "CAPEC-543: A CAPEC with the title Counterfeit Websites. The description of this CAPEC is: Adversary creates duplicates of legitimate websites. When users visit a counterfeit site, the site can gather information or upload malware.. The Domain of this is: Social Engineering\n",
      "CAPEC-168: A CAPEC with the title Windows ::DATA Alternate Data Stream. The description of this CAPEC is: An attacker exploits the functionality of Microsoft NTFS Alternate Data Streams (ADS) to undermine system security. ADS allows multiple \"files\" to be stored in one directory entry referenced as filename:streamname. One or more alternate data streams may be stored in any file or directory. Normal Microsoft utilities do not show the presence of an ADS stream attached to a file. The additional space for the ADS is not recorded in the displayed file size. The additional space for ADS is accounted for in the used space on the volume. An ADS can be any type of file. ADS are copied by standard Microsoft utilities between NTFS volumes. ADS can be used by an attacker or intruder to hide tools, scripts, and data from detection by normal system utilities. Many anti-virus programs do not check for or scan ADS. Windows Vista does have a switch (-R) on the command line DIR command that will display alternate streams.. The Domain of this is: Software\n",
      "CAPEC-198: A CAPEC with the title XSS Targeting Error Pages. The description of this CAPEC is: An adversary distributes a link (or possibly some other query structure) with a request to a third party web server that is malformed and also contains a block of exploit code in order to have the exploit become live code in the resulting error page.. The Domains of this are: Software, Software, Software\n",
      "CAPEC-690: A CAPEC with the title Metadata Spoofing. The description of this CAPEC is: \n",
      "            <xhtml:p>An adversary alters the metadata of a resource (e.g., file, directory, repository, etc.) to present a malicious resource as legitimate/credible.</xhtml:p>\n",
      "         . The Domains of this are: Social Engineering, Supply Chain, Software\n",
      "CAPEC-626: A CAPEC with the title Smudge Attack. The description of this CAPEC is: Attacks that reveal the password/passcode pattern on a touchscreen device by detecting oil smudges left behind by the user’s fingers.. The Domain of this is: Physical Security\n",
      "CAPEC-329: A CAPEC with the title ICMP Error Message Quoting Probe. The description of this CAPEC is: An adversary uses a technique to generate an ICMP Error message (Port Unreachable, Destination Unreachable, Redirect, Source Quench, Time Exceeded, Parameter Problem) from a target and then analyze the amount of data returned or \"Quoted\" from the originating request that generated the ICMP error message.. The Domain of this is: Software\n",
      "CAPEC-501: A CAPEC with the title Android Activity Hijack. The description of this CAPEC is: An adversary intercepts an implicit intent sent to launch a Android-based trusted activity and instead launches a counterfeit activity in its place. The malicious activity is then used to mimic the trusted activity's user interface and prompt the target to enter sensitive data as if they were interacting with the trusted activity.. The Domains of this are: Software, Software\n",
      "CAPEC-613: A CAPEC with the title WiFi SSID Tracking. The description of this CAPEC is: In this attack scenario, the attacker passively listens for WiFi management frame messages containing the Service Set Identifier (SSID) for the WiFi network. These messages are frequently transmitted by WiFi access points (e.g., the retransmission device) as well as by clients that are accessing the network (e.g., the handset/mobile device). Once the attacker is able to associate an SSID with a particular user or set of users (for example, when attending a public event), the attacker can then scan for this SSID to track that user in the future.. The Domains of this are: Communications, Software\n",
      "CAPEC-324: A CAPEC with the title TCP (ISN) Sequence Predictability Probe. The description of this CAPEC is: This type of operating system probe attempts to determine an estimate for how predictable the sequence number generation algorithm is for a remote host. Statistical techniques, such as standard deviation, can be used to determine how predictable the sequence number generation is for a system. This result can then be compared to a database of operating system behaviors to determine a likely match for operating system and version.. The Domain of this is: Software\n",
      "CAPEC-240: A CAPEC with the title Resource Injection. The description of this CAPEC is: An adversary exploits weaknesses in input validation by manipulating resource identifiers enabling the unintended modification or specification of a resource.. The Domains of this are: Communications, Software\n",
      "CAPEC-438: A CAPEC with the title Modification During Manufacture. The description of this CAPEC is: An attacker modifies a technology, product, or component during a stage in its manufacture for the purpose of carrying out an attack against some entity involved in the supply chain lifecycle. There are an almost limitless number of ways an attacker can modify a technology when they are involved in its manufacture, as the attacker has potential inroads to the software composition, hardware design and assembly, firmware, or basic design mechanics. Additionally, manufacturing of key components is often outsourced with the final product assembled by the primary manufacturer. The greatest risk, however, is deliberate manipulation of design specifications to produce malicious hardware or devices. There are billions of transistors in a single integrated circuit and studies have shown that fewer than 10 transistors are required to create malicious functionality.. The Domains of this are: Supply Chain, Software, Hardware\n",
      "CAPEC-459: A CAPEC with the title Creating a Rogue Certification Authority Certificate. The description of this CAPEC is: An adversary exploits a weakness resulting from using a hashing algorithm with weak collision resistance to generate certificate signing requests (CSR) that contain collision blocks in their \"to be signed\" parts. The adversary submits one CSR to be signed by a trusted certificate authority then uses the signed blob to make a second certificate appear signed by said certificate authority. Due to the hash collision, both certificates, though different, hash to the same value and so the signed blob works just as well in the second certificate. The net effect is that the adversary's second X.509 certificate, which the Certification Authority has never seen, is now signed and validated by that Certification Authority.. The Domain of this is: Software\n",
      "CAPEC-441: A CAPEC with the title Malicious Logic Insertion. The description of this CAPEC is: An adversary installs or adds malicious logic (also known as malware) into a seemingly benign component of a fielded system. This logic is often hidden from the user of the system and works behind the scenes to achieve negative impacts. With the proliferation of mass digital storage and inexpensive multimedia devices, Bluetooth and 802.11 support, new attack vectors for spreading malware are emerging for things we once thought of as innocuous greeting cards, picture frames, or digital projectors. This pattern of attack focuses on systems already fielded and used in operation as opposed to systems and their components that are still under development and part of the supply chain.. The Domains of this are: Software, Hardware\n",
      "CAPEC-274: A CAPEC with the title HTTP Verb Tampering. The description of this CAPEC is: An attacker modifies the HTTP Verb (e.g. GET, PUT, TRACE, etc.) in order to bypass access restrictions. Some web environments allow administrators to restrict access based on the HTTP Verb used with requests. However, attackers can often provide a different HTTP Verb, or even provide a random string as a verb in order to bypass these protections. This allows the attacker to access data that should otherwise be protected.. The Domain of this is: Software\n",
      "CAPEC-551: A CAPEC with the title Modify Existing Service. The description of this CAPEC is: When an operating system starts, it also starts programs called services or daemons. Modifying existing services may break existing services or may enable services that are disabled/not commonly used.. The Domain of this is: Software\n",
      "CAPEC-648: A CAPEC with the title Collect Data from Screen Capture. The description of this CAPEC is: An adversary gathers sensitive information by exploiting the system's screen capture functionality. Through screenshots, the adversary aims to see what happens on the screen over the course of an operation. The adversary can leverage information gathered in order to carry out further attacks.. The Domain of this is: Software\n",
      "CAPEC-670: A CAPEC with the title Software Development Tools Maliciously Altered. The description of this CAPEC is: An adversary with the ability to alter tools used in a development environment causes software to be developed with maliciously modified tools. Such tools include requirements management and database tools, software design tools, configuration management tools, compilers, system build tools, and software performance testing and load testing tools. The adversary then carries out malicious acts once the software is deployed including malware infection of other systems to support further compromises.. The Domains of this are: Supply Chain, Software\n",
      "CAPEC-166: A CAPEC with the title Force the System to Reset Values. The description of this CAPEC is: An attacker forces the target into a previous state in order to leverage potential weaknesses in the target dependent upon a prior configuration or state-dependent factors. Even in cases where an attacker may not be able to directly control the configuration of the targeted application, they may be able to reset the configuration to a prior state since many applications implement reset functions.. The Domains of this are: Software, Hardware\n",
      "CAPEC-202: A CAPEC with the title Create Malicious Client. The description of this CAPEC is: An adversary creates a client application to interface with a target service where the client violates assumptions the service makes about clients. Services that have designated client applications (as opposed to services that use general client applications, such as IMAP or POP mail servers which can interact with any IMAP or POP client) may assume that the client will follow specific procedures.. The Domain of this is: Software\n",
      "CAPEC-642: A CAPEC with the title Replace Binaries. The description of this CAPEC is: Adversaries know that certain binaries will be regularly executed as part of normal processing. If these binaries are not protected with the appropriate file system permissions, it could be possible to replace them with malware. This malware might be executed at higher system permission levels. A variation of this pattern is to discover self-extracting installation packages that unpack binaries to directories with weak file permissions which it does not clean up appropriately. These binaries can be replaced by malware, which can then be executed.. The Domain of this is: Software\n",
      "CAPEC-95: A CAPEC with the title WSDL Scanning. The description of this CAPEC is: This attack targets the WSDL interface made available by a web service. The attacker may scan the WSDL interface to reveal sensitive information about invocation patterns, underlying technology implementations and associated vulnerabilities. This type of probing is carried out to perform more serious attacks (e.g. parameter tampering, malicious content injection, command injection, etc.). WSDL files provide detailed information about the services ports and bindings available to consumers. For instance, the attacker can submit special characters or malicious content to the Web service and can cause a denial of service condition or illegal access to database records. In addition, the attacker may try to guess other private methods by using the information provided in the WSDL files.. The Domain of this is: Software\n",
      "CAPEC-303: A CAPEC with the title TCP Xmas Scan. The description of this CAPEC is: An adversary uses a TCP XMAS scan to determine if ports are closed on the target machine. This scan type is accomplished by sending TCP segments with all possible flags set in the packet header, generating packets that are illegal based on RFC 793. The RFC 793 expected behavior is that any TCP segment with an out-of-state Flag sent to an open port is discarded, whereas segments with out-of-state flags sent to closed ports should be handled with a RST in response. This behavior should allow an attacker to scan for closed ports by sending certain types of rule-breaking packets (out of sync or disallowed by the TCB) and detect closed ports via RST packets.. The Domains of this are: Communications, Software\n",
      "CAPEC-482: A CAPEC with the title TCP Flood. The description of this CAPEC is: An adversary may execute a flooding attack using the TCP protocol with the intent to deny legitimate users access to a service. These attacks exploit the weakness within the TCP protocol where there is some state information for the connection the server needs to maintain. This often involves the use of TCP SYN messages.. The Domains of this are: Communications, Software\n",
      "CAPEC-605: A CAPEC with the title Cellular Jamming. The description of this CAPEC is: In this attack scenario, the attacker actively transmits signals to overpower and disrupt the communication between a cellular user device and a cell tower. Several existing techniques are known in the open literature for this attack for 2G, 3G, and 4G LTE cellular technology. For example, some attacks target cell towers by overwhelming them with false status messages, while others introduce high levels of noise on signaling channels.. The Domain of this is: Communications\n",
      "CAPEC-179: A CAPEC with the title Calling Micro-Services Directly. The description of this CAPEC is: An attacker is able to discover and query Micro-services at a web location and thereby expose the Micro-services to further exploitation by gathering information about their implementation and function. Micro-services in web pages allow portions of a page to connect to the server and update content without needing to cause the entire page to update. This allows user activity to change portions of the page more quickly without causing disruptions elsewhere.. The Domain of this is: Software\n",
      "CAPEC-277: A CAPEC with the title Data Interchange Protocol Manipulation. The description of this CAPEC is: Data Interchange Protocols are used to transmit structured data between entities. These protocols are often specific to a particular domain (B2B: purchase orders, invoices, transport logistics and waybills, medical records). They are often, but not always, XML-based. Subverting the protocol can allow an adversary to impersonate others, discover sensitive information, control the outcome of a session, or perform other attacks. This type of attack targets invalid assumptions that may be inherent in implementers of the protocol, incorrect implementations of the protocol, or vulnerabilities in the protocol itself.. The Domains of this are: Communications, Software\n",
      "CAPEC-418: A CAPEC with the title Influence Perception of Reciprocation. The description of this CAPEC is: An adversary uses a social engineering techniques to produce a sense of obligation in the target to perform a certain action or concede some sensitive or key piece of information. Obligation has to do with actions one feels they need to take due to some sort of social, legal, or moral requirement, duty, contract, or promise. There are various techniques for fostering a sense of obligation to reciprocate or concede during ordinary modes of communication. One method is to compliment the target, and follow up the compliment with a question. If performed correctly the target may volunteer a key piece of information, sometimes involuntarily.. The Domain of this is: Social Engineering\n",
      "CAPEC-397: A CAPEC with the title Cloning Magnetic Strip Cards. The description of this CAPEC is: An attacker duplicates the data on a Magnetic strip card (i.e. 'swipe card' or 'magstripe') to gain unauthorized access to a physical location or a person's private information. Magstripe cards encode data on a band of iron-based magnetic particles arrayed in a stripe along a rectangular card. Most magstripe card data formats conform to ISO standards 7810, 7811, 7813, 8583, and 4909. The primary advantage of magstripe technology is ease of encoding and portability, but this also renders magnetic strip cards susceptible to unauthorized duplication. If magstripe cards are used for access control, all an attacker need do is obtain a valid card long enough to make a copy of the card and then return the card to its location (i.e. a co-worker's desk). Magstripe reader/writers are widely available as well as software for analyzing data encoded on the cards. By swiping a valid card, it becomes trivial to make any number of duplicates that function as the original.. The Domain of this is: Physical Security\n",
      "CAPEC-545: A CAPEC with the title Pull Data from System Resources. The description of this CAPEC is: An adversary who is authorized or has the ability to search known system resources, does so with the intention of gathering useful information. System resources include files, memory, and other aspects of the target system. In this pattern of attack, the adversary does not necessarily know what they are going to find when they start pulling data. This is different than CAPEC-150 where the adversary knows what they are looking for due to the common location.. The Domains of this are: Software, Hardware\n",
      "CAPEC-504: A CAPEC with the title Task Impersonation. The description of this CAPEC is: An adversary, through a previously installed malicious application, impersonates an expected or routine task in an attempt to steal sensitive information or leverage a user's privileges.. The Domain of this is: Software\n",
      "CAPEC-597: A CAPEC with the title Absolute Path Traversal. The description of this CAPEC is: An adversary with access to file system resources, either directly or via application logic, will use various file absolute paths and navigation mechanisms such as \"..\" to extend their range of access to inappropriate areas of the file system. The goal of the adversary is to access directories and files that are intended to be restricted from their access.. The Domain of this is: Software\n",
      "CAPEC-680: A CAPEC with the title Exploitation of Improperly Controlled Registers. The description of this CAPEC is: \n",
      "            <xhtml:p>An adversary exploits missing or incorrectly configured access control within registers to read/write data that is not meant to be obtained or modified by a user.</xhtml:p>\n",
      "         . The Domains of this are: Hardware, Hardware\n",
      "CAPEC-498: A CAPEC with the title Probe iOS Screenshots. The description of this CAPEC is: An adversary examines screenshot images created by iOS in an attempt to obtain sensitive information. This attack targets temporary screenshots created by the underlying OS while the application remains open in the background.. The Domain of this is: Software\n",
      "CAPEC-461: A CAPEC with the title Web Services API Signature Forgery Leveraging Hash Function Extension Weakness. The description of this CAPEC is: An adversary utilizes a hash function extension/padding weakness, to modify the parameters passed to the web service requesting authentication by generating their own call in order to generate a legitimate signature hash (as described in the notes), without knowledge of the secret token sometimes provided by the web service.. The Domain of this is: Software\n",
      "CAPEC-217: A CAPEC with the title Exploiting Incorrectly Configured SSL/TLS. The description of this CAPEC is: An adversary takes advantage of incorrectly configured SSL/TLS communications that enables access to data intended to be encrypted. The adversary may also use this type of attack to inject commands or other traffic into the encrypted stream to cause compromise of either the client or server.. The Domain of this is: Communications\n",
      "CAPEC-693: A CAPEC with the title StarJacking. The description of this CAPEC is: \n",
      "            <xhtml:p>An adversary spoofs software popularity metadata to deceive users into believing that a maliciously provided package is widely used and originates from a trusted source.</xhtml:p>\n",
      "         . The Domains of this are: Social Engineering, Supply Chain, Software\n",
      "CAPEC-30: A CAPEC with the title Hijacking a Privileged Thread of Execution. The description of this CAPEC is: An adversary hijacks a privileged thread of execution by injecting malicious code into a running process. By using a privleged thread to do their bidding, adversaries can evade process-based detection that would stop an attack that creates a new process. This can lead to an adversary gaining access to the process's memory and can also enable elevated privileges. The most common way to perform this attack is by suspending an existing thread and manipulating its memory.. The Domain of this is: Software\n",
      "CAPEC-237: A CAPEC with the title Escaping a Sandbox by Calling Code in Another Language. The description of this CAPEC is: The attacker may submit malicious code of another language to obtain access to privileges that were not intentionally exposed by the sandbox, thus escaping the sandbox. For instance, Java code cannot perform unsafe operations, such as modifying arbitrary memory locations, due to restrictions placed on it by the Byte code Verifier and the JVM. If allowed, Java code can call directly into native C code, which may perform unsafe operations, such as call system calls and modify arbitrary memory locations on their behalf. To provide isolation, Java does not grant untrusted code with unmediated access to native C code. Instead, the sandboxed code is typically allowed to call some subset of the pre-existing native code that is part of standard libraries.. The Domain of this is: Software\n",
      "CAPEC-325: A CAPEC with the title TCP Congestion Control Flag (ECN) Probe. The description of this CAPEC is: This OS fingerprinting probe checks to see if the remote host supports explicit congestion notification (ECN) messaging. ECN messaging was designed to allow routers to notify a remote host when signal congestion problems are occurring. Explicit Congestion Notification messaging is defined by RFC 3168. Different operating systems and versions may or may not implement ECN notifications, or may respond uniquely to particular ECN flag types.. The Domain of this is: Software\n",
      "CAPEC-93: A CAPEC with the title Log Injection-Tampering-Forging. The description of this CAPEC is: This attack targets the log files of the target host. The attacker injects, manipulates or forges malicious log entries in the log file, allowing them to mislead a log audit, cover traces of attack, or perform other malicious actions. The target host is not properly controlling log access. As a result tainted data is resulting in the log files leading to a failure in accountability, non-repudiation and incident forensics capability.. The Domain of this is: Software\n",
      "CAPEC-621: A CAPEC with the title Analysis of Packet Timing and Sizes. The description of this CAPEC is: An attacker may intercept and log encrypted transmissions for the purpose of analyzing metadata such as packet timing and sizes. Although the actual data may be encrypted, this metadata may reveal valuable information to an attacker. Note that this attack is applicable to VOIP data as well as application data, especially for interactive apps that require precise timing and low-latency (e.g. thin-clients).. The Domains of this are: Software, Physical Security, Hardware\n",
      "CAPEC-128: A CAPEC with the title Integer Attacks. The description of this CAPEC is: An attacker takes advantage of the structure of integer variables to cause these variables to assume values that are not expected by an application. For example, adding one to the largest positive integer in a signed integer variable results in a negative number. Negative numbers may be illegal in an application and the application may prevent an attacker from providing them directly, but the application may not consider that adding two positive numbers can create a negative number do to the structure of integer storage formats.. The Domain of this is: Software\n",
      "CAPEC-22: A CAPEC with the title Exploiting Trust in Client. The description of this CAPEC is: An attack of this type exploits vulnerabilities in client/server communication channel authentication and data integrity. It leverages the implicit trust a server places in the client, or more importantly, that which the server believes is the client. An attacker executes this type of attack by communicating directly with the server where the server believes it is communicating only with a valid client. There are numerous variations of this type of attack.. The Domains of this are: Communications, Software\n",
      "CAPEC-181: A CAPEC with the title Flash File Overlay. The description of this CAPEC is: An attacker creates a transparent overlay using flash in order to intercept user actions for the purpose of performing a clickjacking attack. In this technique, the Flash file provides a transparent overlay over HTML content. Because the Flash application is on top of the content, user actions, such as clicks, are caught by the Flash application rather than the underlying HTML. The action is then interpreted by the overlay to perform the actions the attacker wishes.. The Domain of this is: Software\n",
      "CAPEC-672: A CAPEC with the title Malicious Code Implanted During Chip Programming. The description of this CAPEC is: \n",
      "            <xhtml:p>During the programming step of chip manufacture, an adversary with access and necessary technical skills maliciously alters a chip’s intended program logic to produce an effect intended by the adversary when the fully manufactured chip is deployed and in operational use. Intended effects can include the ability of the adversary to remotely control a host system to carry out malicious acts.</xhtml:p>\n",
      "         . The Domains of this are: Supply Chain, Software, Hardware\n",
      "CAPEC-272: A CAPEC with the title Protocol Manipulation. The description of this CAPEC is: An adversary subverts a communications protocol to perform an attack. This type of attack can allow an adversary to impersonate others, discover sensitive information, control the outcome of a session, or perform other attacks. This type of attack targets invalid assumptions that may be inherent in implementers of the protocol, incorrect implementations of the protocol, or vulnerabilities in the protocol itself.. The Domains of this are: Communications, Software\n",
      "CAPEC-191: A CAPEC with the title Read Sensitive Constants Within an Executable. The description of this CAPEC is: \n",
      "            <xhtml:p>An adversary engages in activities to discover any sensitive constants present within the compiled code of an executable. These constants may include literal ASCII strings within the file itself, or possibly strings hard-coded into particular routines that can be revealed by code refactoring methods including static and dynamic analysis.</xhtml:p>\n",
      "         . The Domains of this are: Software, Physical Security\n",
      "CAPEC-151: A CAPEC with the title Identity Spoofing. The description of this CAPEC is: Identity Spoofing refers to the action of assuming (i.e., taking on) the identity of some other entity (human or non-human) and then using that identity to accomplish a goal. An adversary may craft messages that appear to come from a different principle or use stolen / spoofed authentication credentials.. The Domains of this are: Social Engineering, Communications, Software, Hardware\n",
      "CAPEC-90: A CAPEC with the title Reflection Attack in Authentication Protocol. The description of this CAPEC is: An adversary can abuse an authentication protocol susceptible to reflection attack in order to defeat it. Doing so allows the adversary illegitimate access to the target system, without possessing the requisite credentials. Reflection attacks are of great concern to authentication protocols that rely on a challenge-handshake or similar mechanism. An adversary can impersonate a legitimate user and can gain illegitimate access to the system by successfully mounting a reflection attack during authentication.. The Domain of this is: Communications\n",
      "CAPEC-580: A CAPEC with the title System Footprinting. The description of this CAPEC is: An adversary engages in active probing and exploration activities to determine security information about a remote target system. Often times adversaries will rely on remote applications that can be probed for system configurations.. The Domain of this is: Software\n",
      "CAPEC-21: A CAPEC with the title Exploitation of Trusted Identifiers. The description of this CAPEC is: \n",
      "            <xhtml:p>An adversary guesses, obtains, or \"rides\" a trusted identifier (e.g. session ID, resource ID, cookie, etc.) to perform authorized actions under the guise of an authenticated user or service.</xhtml:p>\n",
      "         . The Domain of this is: Software\n",
      "CAPEC-231: A CAPEC with the title Oversized Serialized Data Payloads. The description of this CAPEC is: An adversary injects oversized serialized data payloads into a parser during data processing to produce adverse effects upon the parser such as exhausting system resources and arbitrary code execution.. The Domain of this is: Software\n",
      "CAPEC-188: A CAPEC with the title Reverse Engineering. The description of this CAPEC is: An adversary discovers the structure, function, and composition of an object, resource, or system by using a variety of analysis techniques to effectively determine how the analyzed entity was constructed or operates. The goal of reverse engineering is often to duplicate the function, or a part of the function, of an object in order to duplicate or \"back engineer\" some aspect of its functioning. Reverse engineering techniques can be applied to mechanical objects, electronic devices, or software, although the methodology and techniques involved in each type of analysis differ widely.. The Domains of this are: Software, Physical Security, Hardware\n",
      "CAPEC-295: A CAPEC with the title Timestamp Request. The description of this CAPEC is: This pattern of attack leverages standard requests to learn the exact time associated with a target system. An adversary may be able to use the timestamp returned from the target to attack time-based security algorithms, such as random number generators, or time-based authentication mechanisms.. The Domain of this is: Software\n",
      "CAPEC-698: A CAPEC with the title Install Malicious Extension. The description of this CAPEC is: \n",
      "            <xhtml:p>An adversary directly installs or tricks a user into installing a malicious extension into existing trusted software, with the goal of achieving a variety of negative technical impacts.</xhtml:p>\n",
      "         . The Domain of this is: Software\n",
      "CAPEC-653: A CAPEC with the title Use of Known Operating System Credentials. The description of this CAPEC is: An adversary guesses or obtains (i.e. steals or purchases) legitimate operating system credentials (e.g. userID/password) to achieve authentication and to perform authorized actions on the system, under the guise of an authenticated user or service. This applies to any Operating System.. The Domain of this is: Software\n",
      "CAPEC-251: A CAPEC with the title Local Code Inclusion. The description of this CAPEC is: The attacker forces an application to load arbitrary code files from the local machine. The attacker could use this to try to load old versions of library files that have known vulnerabilities, to load files that the attacker placed on the local machine during a prior attack, or to otherwise change the functionality of the targeted application in unexpected ways.. The Domain of this is: Software\n",
      "CAPEC-32: A CAPEC with the title XSS Through HTTP Query Strings. The description of this CAPEC is: An adversary embeds malicious script code in the parameters of an HTTP query string and convinces a victim to submit the HTTP request that contains the query string to a vulnerable web application. The web application then procedes to use the values parameters without properly validation them first and generates the HTML code that will be executed by the victim's browser.. The Domains of this are: Software, Software, Software\n",
      "CAPEC-699: A CAPEC with the title Eavesdropping on a Monitor. The description of this CAPEC is: An Adversary can eavesdrop on the content of an external monitor through the air without modifying any cable or installing software, just capturing this signal emitted by the cable or video port, with this the attacker will be able to impact the confidentiality of the data without being detected by traditional security tools. The Domains of this are: n, o, t,  , g, i, v, e, n\n",
      "CAPEC-694: A CAPEC with the title System Location Discovery. The description of this CAPEC is: \n",
      "            <xhtml:p>An adversary collects information about the target system in an attempt to identify the system's geographical location.</xhtml:p>\n",
      "            <xhtml:p>Information gathered could include keyboard layout, system language, and timezone. This information may benefit an adversary in confirming the desired target and/or tailoring further attacks.</xhtml:p>\n",
      "         . The Domains of this are: Communications, Software\n",
      "CAPEC-472: A CAPEC with the title Browser Fingerprinting. The description of this CAPEC is: An attacker carefully crafts small snippets of Java Script to efficiently detect the type of browser the potential victim is using. Many web-based attacks need prior knowledge of the web browser including the version of browser to ensure successful exploitation of a vulnerability. Having this knowledge allows an attacker to target the victim with attacks that specifically exploit known or zero day weaknesses in the type and version of the browser used by the victim. Automating this process via Java Script as a part of the same delivery system used to exploit the browser is considered more efficient as the attacker can supply a browser fingerprinting method and integrate it with exploit code, all contained in Java Script and in response to the same web page request by the browser.. The Domain of this is: Software\n",
      "CAPEC-161: A CAPEC with the title Infrastructure Manipulation. The description of this CAPEC is: An attacker exploits characteristics of the infrastructure of a network entity in order to perpetrate attacks or information gathering on network objects or effect a change in the ordinary information flow between network objects. Most often, this involves manipulation of the routing of network messages so, instead of arriving at their proper destination, they are directed towards an entity of the attackers' choosing, usually a server controlled by the attacker. The victim is often unaware that their messages are not being processed correctly. For example, a targeted client may believe they are connecting to their own bank but, in fact, be connecting to a Pharming site controlled by the attacker which then collects the user's login information in order to hijack the actual bank account.. The Domains of this are: Communications, Software, Hardware\n",
      "CAPEC-182: A CAPEC with the title Flash Injection. The description of this CAPEC is: An attacker tricks a victim to execute malicious flash content that executes commands or makes flash calls specified by the attacker. One example of this attack is cross-site flashing, an attacker controlled parameter to a reference call loads from content specified by the attacker.. The Domains of this are: Social Engineering, Software\n",
      "CAPEC-383: A CAPEC with the title Harvesting Information via API Event Monitoring. The description of this CAPEC is: An adversary hosts an event within an application framework and then monitors the data exchanged during the course of the event for the purpose of harvesting any important data leaked during the transactions. One example could be harvesting lists of usernames or userIDs for the purpose of sending spam messages to those users. One example of this type of attack involves the adversary creating an event within the sub-application. Assume the adversary hosts a \"virtual sale\" of rare items. As other users enter the event, the attacker records via AiTM (CAPEC-94) proxy the user_ids and usernames of everyone who attends. The adversary would then be able to spam those users within the application using an automated script.. The Domains of this are: Social Engineering, Social Engineering, Software\n",
      "CAPEC-465: A CAPEC with the title Transparent Proxy Abuse. The description of this CAPEC is: A transparent proxy serves as an intermediate between the client and the internet at large. It intercepts all requests originating from the client and forwards them to the correct location. The proxy also intercepts all responses to the client and forwards these to the client. All of this is done in a manner transparent to the client.. The Domain of this is: Software\n",
      "CAPEC-68: A CAPEC with the title Subvert Code-signing Facilities. The description of this CAPEC is: Many languages use code signing facilities to vouch for code's identity and to thus tie code to its assigned privileges within an environment. Subverting this mechanism can be instrumental in an attacker escalating privilege. Any means of subverting the way that a virtual machine enforces code signing classifies for this style of attack.. The Domains of this are: Software, Hardware\n",
      "CAPEC-322: A CAPEC with the title TCP (ISN) Greatest Common Divisor Probe. The description of this CAPEC is: This OS fingerprinting probe sends a number of TCP SYN packets to an open port of a remote machine. The Initial Sequence Number (ISN) in each of the SYN/ACK response packets is analyzed to determine the smallest number that the target host uses when incrementing sequence numbers. This information can be useful for identifying an operating system because particular operating systems and versions increment sequence numbers using different values. The result of the analysis is then compared against a database of OS behaviors to determine the OS type and/or version.. The Domain of this is: Software\n",
      "CAPEC-549: A CAPEC with the title Local Execution of Code. The description of this CAPEC is: An adversary installs and executes malicious code on the target system in an effort to achieve a negative technical impact. Examples include rootkits, ransomware, spyware, adware, and others.. The Domain of this is: Software\n",
      "CAPEC-412: A CAPEC with the title Pretexting via Customer Service. The description of this CAPEC is: An adversary engages in pretexting behavior, assuming the role of someone who works for Customer Service, to solicit information from target persons, or manipulate the target into performing an action that serves the adversary's interests. One example of a scenario such as this would be to call an individual, articulate your false affiliation with a credit card company, and then attempt to get the individual to verify their credit card number.. The Domains of this are: Social Engineering, Social Engineering\n",
      "CAPEC-328: A CAPEC with the title TCP 'RST' Flag Checksum Probe. The description of this CAPEC is: This OS fingerprinting probe performs a checksum on any ASCII data contained within the data portion or a RST packet. Some operating systems will report a human-readable text message in the payload of a 'RST' (reset) packet when specific types of connection errors occur. RFC 1122 allows text payloads within reset packets but not all operating systems or routers implement this functionality.. The Domain of this is: Software\n",
      "CAPEC-487: A CAPEC with the title ICMP Flood. The description of this CAPEC is: An adversary may execute a flooding attack using the ICMP protocol with the intent to deny legitimate users access to a service by consuming the available network bandwidth. A typical attack involves a victim server receiving ICMP packets at a high rate from a wide range of source addresses. Additionally, due to the session-less nature of the ICMP protocol, the source of a packet is easily spoofed making it difficult to find the source of the attack.. The Domains of this are: Communications, Software\n",
      "CAPEC-627: A CAPEC with the title Counterfeit GPS Signals. The description of this CAPEC is: An adversary attempts to deceive a GPS receiver by broadcasting counterfeit GPS signals, structured to resemble a set of normal GPS signals. These spoofed signals may be structured in such a way as to cause the receiver to estimate its position to be somewhere other than where it actually is, or to be located where it is but at a different time, as determined by the adversary.. The Domains of this are: Communications, Hardware\n",
      "CAPEC-114: A CAPEC with the title Authentication Abuse. The description of this CAPEC is: An attacker obtains unauthorized access to an application, service or device either through knowledge of the inherent weaknesses of an authentication mechanism, or by exploiting a flaw in the authentication scheme's implementation. In such an attack an authentication mechanism is functioning but a carefully controlled sequence of events causes the mechanism to grant access to the attacker.. The Domains of this are: Software, Hardware\n",
      "CAPEC-38: A CAPEC with the title Leveraging/Manipulating Configuration File Search Paths. The description of this CAPEC is: This pattern of attack sees an adversary load a malicious resource into a program's standard path so that when a known command is executed then the system instead executes the malicious component. The adversary can either modify the search path a program uses, like a PATH variable or classpath, or they can manipulate resources on the path to point to their malicious components. J2EE applications and other component based applications that are built from multiple binaries can have very long list of dependencies to execute. If one of these libraries and/or references is controllable by the attacker then application controls can be circumvented by the attacker.. The Domain of this is: Software\n",
      "CAPEC-80: A CAPEC with the title Using UTF-8 Encoding to Bypass Validation Logic. The description of this CAPEC is: This attack is a specific variation on leveraging alternate encodings to bypass validation logic. This attack leverages the possibility to encode potentially harmful input in UTF-8 and submit it to applications not expecting or effective at validating this encoding standard making input filtering difficult. UTF-8 (8-bit UCS/Unicode Transformation Format) is a variable-length character encoding for Unicode. Legal UTF-8 characters are one to four bytes long. However, early version of the UTF-8 specification got some entries wrong (in some cases it permitted overlong characters). UTF-8 encoders are supposed to use the \"shortest possible\" encoding, but naive decoders may accept encodings that are longer than necessary. According to the RFC 3629, a particularly subtle form of this attack can be carried out against a parser which performs security-critical validity checks against the UTF-8 encoded form of its input, but interprets certain illegal octet sequences as characters.. The Domain of this is: Software\n",
      "CAPEC-248: A CAPEC with the title Command Injection. The description of this CAPEC is: An adversary looking to execute a command of their choosing, injects new items into an existing command thus modifying interpretation away from what was intended. Commands in this context are often standalone strings that are interpreted by a downstream component and cause specific responses. This type of attack is possible when untrusted values are used to build these command strings. Weaknesses in input validation or command construction can enable the attack and lead to successful exploitation.. The Domain of this is: Software\n",
      "CAPEC-41: A CAPEC with the title Using Meta-characters in E-mail Headers to Inject Malicious Payloads. The description of this CAPEC is: This type of attack involves an attacker leveraging meta-characters in email headers to inject improper behavior into email programs. Email software has become increasingly sophisticated and feature-rich. In addition, email applications are ubiquitous and connected directly to the Web making them ideal targets to launch and propagate attacks. As the user demand for new functionality in email applications grows, they become more like browsers with complex rendering and plug in routines. As more email functionality is included and abstracted from the user, this creates opportunities for attackers. Virtually all email applications do not list email header information by default, however the email header contains valuable attacker vectors for the attacker to exploit particularly if the behavior of the email client application is known. Meta-characters are hidden from the user, but can contain scripts, enumerations, probes, and other attacks against the user's system.. The Domains of this are: Software, Software\n",
      "CAPEC-400: A CAPEC with the title RFID Chip Deactivation or Destruction. The description of this CAPEC is: An attacker uses methods to deactivate a passive RFID tag for the purpose of rendering the tag, badge, card, or object containing the tag unresponsive. RFID tags are used primarily for access control, inventory, or anti-theft devices. The purpose of attacking the RFID chip is to disable or damage the chip without causing damage to the object housing it.. The Domain of this is: Physical Security\n",
      "CAPEC-192: A CAPEC with the title Protocol Analysis. The description of this CAPEC is: An adversary engages in activities to decipher and/or decode protocol information for a network or application communication protocol used for transmitting information between interconnected nodes or systems on a packet-switched data network. While this type of analysis involves the analysis of a networking protocol inherently, it does not require the presence of an actual or physical network.. The Domains of this are: Communications, Hardware\n",
      "CAPEC-516: A CAPEC with the title Hardware Component Substitution During Baselining. The description of this CAPEC is: An adversary with access to system components during allocated baseline development can substitute a maliciously altered hardware component for a baseline component during the product development and research phases. This can lead to adjustments and calibrations being made in the product so that when the final product, now containing the modified component, is deployed it will not perform as designed and be advantageous to the adversary.. The Domains of this are: Supply Chain, Hardware\n",
      "CAPEC-65: A CAPEC with the title Sniff Application Code. The description of this CAPEC is: An adversary passively sniffs network communications and captures application code bound for an authorized client. Once obtained, they can use it as-is, or through reverse-engineering glean sensitive information or exploit the trust relationship between the client and server. Such code may belong to a dynamic update to the client, a patch being applied to a client component or any such interaction where the client is authorized to communicate with the server.. The Domains of this are: Communications, Software\n",
      "CAPEC-317: A CAPEC with the title IP ID Sequencing Probe. The description of this CAPEC is: This OS fingerprinting probe analyzes the IP 'ID' field sequence number generation algorithm of a remote host. Operating systems generate IP 'ID' numbers differently, allowing an attacker to identify the operating system of the host by examining how is assigns ID numbers when generating response packets. RFC 791 does not specify how ID numbers are chosen or their ranges, so ID sequence generation differs from implementation to implementation. There are two kinds of IP 'ID' sequence number analysis - IP 'ID' Sequencing: analyzing the IP 'ID' sequence generation algorithm for one protocol used by a host and Shared IP 'ID' Sequencing: analyzing the packet ordering via IP 'ID' values spanning multiple protocols, such as between ICMP and TCP.. The Domain of this is: Software\n",
      "CAPEC-572: A CAPEC with the title Artificially Inflate File Sizes. The description of this CAPEC is: \n",
      "            <xhtml:p>An adversary modifies file contents by adding data to files for several reasons. Many different attacks could “follow” this pattern resulting in numerous outcomes. Adding data to a file could also result in a Denial of Service condition for devices with limited storage capacity.</xhtml:p>\n",
      "         . The Domain of this is: Software\n",
      "CAPEC-497: A CAPEC with the title File Discovery. The description of this CAPEC is: An adversary engages in probing and exploration activities to determine if common key files exists. Such files often contain configuration and security parameters of the targeted application, system or network. Using this knowledge may often pave the way for more damaging attacks.. The Domain of this is: Software\n",
      "CAPEC-40: A CAPEC with the title Manipulating Writeable Terminal Devices. The description of this CAPEC is: This attack exploits terminal devices that allow themselves to be written to by other users. The attacker sends command strings to the target terminal device hoping that the target user will hit enter and thereby execute the malicious command with their privileges. The attacker can send the results (such as copying /etc/passwd) to a known directory and collect once the attack has succeeded.. The Domain of this is: Software\n",
      "CAPEC-389: A CAPEC with the title Content Spoofing Via Application API Manipulation. The description of this CAPEC is: An attacker manipulates either egress or ingress data from a client within an application framework in order to change the content of messages. Performing this attack allows the attacker to manipulate content in such a way as to produce messages or content that look authentic but may contain deceptive links, spam-like content, or links to the attackers' code. In general, content-spoofing within an application API can be employed to stage many different types of attacks varied based on the attackers' intent. The techniques require use of specialized software that allow the attacker to use adversary-in-the-middle (CAPEC-94) communications between the web browser and the remote system.. The Domains of this are: Communications, Software\n",
      "CAPEC-426: A CAPEC with the title Influence via Incentives. The description of this CAPEC is: The adversary incites a behavior from the target by manipulating something of influence. This is commonly associated with financial, social, or ideological incentivization. Examples include monetary fraud, peer pressure, and preying on the target's morals or ethics. The most effective incentive against one target might not be as effective against another, therefore the adversary must gather information about the target's vulnerability to particular incentives.. The Domain of this is: Social Engineering\n",
      "CAPEC-701: A CAPEC with the title Browser in the Middle (BiTM). The description of this CAPEC is: An adversary exploits the inherent functionalities of a web browser, in order to establish an unnoticed remote desktop connection in the victim's browser to the adversary's system. The adversary must deploy a web client with a remote desktop session that the victim can access.. The Domains of this are: Communications, Software\n",
      "CAPEC-57: A CAPEC with the title Utilizing REST's Trust in the System Resource to Obtain Sensitive Data. The description of this CAPEC is: This attack utilizes a REST(REpresentational State Transfer)-style applications' trust in the system resources and environment to obtain sensitive data once SSL is terminated.. The Domains of this are: Communications, Software\n",
      "CAPEC-470: A CAPEC with the title Expanding Control over the Operating System from the Database. The description of this CAPEC is: An attacker is able to leverage access gained to the database to read / write data to the file system, compromise the operating system, create a tunnel for accessing the host machine, and use this access to potentially attack other machines on the same network as the database machine. Traditionally SQL injections attacks are viewed as a way to gain unauthorized read access to the data stored in the database, modify the data in the database, delete the data, etc. However, almost every data base management system (DBMS) system includes facilities that if compromised allow an attacker complete access to the file system, operating system, and full access to the host running the database. The attacker can then use this privileged access to launch subsequent attacks. These facilities include dropping into a command shell, creating user defined functions that can call system level libraries present on the host machine, stored procedures, etc.. The Domain of this is: Software\n",
      "CAPEC-92: A CAPEC with the title Forced Integer Overflow. The description of this CAPEC is: This attack forces an integer variable to go out of range. The integer variable is often used as an offset such as size of memory allocation or similarly. The attacker would typically control the value of such variable and try to get it out of range. For instance the integer in question is incremented past the maximum possible value, it may wrap to become a very small, or negative number, therefore providing a very incorrect value which can lead to unexpected behavior. At worst the attacker can execute arbitrary code.. The Domain of this is: Software\n",
      "CAPEC-25: A CAPEC with the title Forced Deadlock. The description of this CAPEC is: The adversary triggers and exploits a deadlock condition in the target software to cause a denial of service. A deadlock can occur when two or more competing actions are waiting for each other to finish, and thus neither ever does. Deadlock conditions can be difficult to detect.. The Domain of this is: Software\n",
      "CAPEC-76: A CAPEC with the title Manipulating Web Input to File System Calls. The description of this CAPEC is: An attacker manipulates inputs to the target software which the target software passes to file system calls in the OS. The goal is to gain access to, and perhaps modify, areas of the file system that the target software did not intend to be accessible.. The Domain of this is: Software\n",
      "CAPEC-446: A CAPEC with the title Malicious Logic Insertion into Product via Inclusion of Third-Party Component. The description of this CAPEC is: \n",
      "            <xhtml:p>An adversary conducts supply chain attacks by the inclusion of insecure third-party components into a technology, product, or code-base, possibly packaging a malicious driver or component along with the product before shipping it to the consumer or acquirer.</xhtml:p>\n",
      "         . The Domains of this are: Supply Chain, Software, Hardware\n",
      "CAPEC-306: A CAPEC with the title TCP Window Scan. The description of this CAPEC is: An adversary engages in TCP Window scanning to analyze port status and operating system type. TCP Window scanning uses the ACK scanning method but examine the TCP Window Size field of response RST packets to make certain inferences. While TCP Window Scans are fast and relatively stealthy, they work against fewer TCP stack implementations than any other type of scan. Some operating systems return a positive TCP window size when a RST packet is sent from an open port, and a negative value when the RST originates from a closed port. TCP Window scanning is one of the most complex scan types, and its results are difficult to interpret. Window scanning alone rarely yields useful information, but when combined with other types of scanning is more useful. It is a generally more reliable means of making inference about operating system versions than port status.. The Domains of this are: Communications, Software\n",
      "CAPEC-94: A CAPEC with the title Adversary in the Middle (AiTM). The description of this CAPEC is: \n",
      "            <xhtml:p>An adversary targets the communication between two components (typically client and server), in order to alter or obtain data from transactions. A general approach entails the adversary placing themself within the communication channel between the two components.</xhtml:p>\n",
      "         . The Domains of this are: Communications, Software\n",
      "CAPEC-86: A CAPEC with the title XSS Through HTTP Headers. The description of this CAPEC is: An adversary exploits web applications that generate web content, such as links in a HTML page, based on unvalidated or improperly validated data submitted by other actors. XSS in HTTP Headers attacks target the HTTP headers which are hidden from most users and may not be validated by web applications.. The Domains of this are: Software, Software, Software\n",
      "CAPEC-500: A CAPEC with the title WebView Injection. The description of this CAPEC is: An adversary, through a previously installed malicious application, injects code into the context of a web page displayed by a WebView component. Through the injected code, an adversary is able to manipulate the DOM tree and cookies of the page, expose sensitive information, and can launch attacks against the web application from within the web page.. The Domain of this is: Software\n",
      "CAPEC-618: A CAPEC with the title Cellular Broadcast Message Request. The description of this CAPEC is: In this attack scenario, the attacker uses knowledge of the target’s mobile phone number (i.e., the number associated with the SIM used in the retransmission device) to cause the cellular network to send broadcast messages to alert the mobile device. Since the network knows which cell tower the target’s mobile device is attached to, the broadcast messages are only sent in the Location Area Code (LAC) where the target is currently located. By triggering the cellular broadcast message and then listening for the presence or absence of that message, an attacker could verify that the target is in (or not in) a given location.. The Domains of this are: Communications, Software\n",
      "CAPEC-628: A CAPEC with the title Carry-Off GPS Attack. The description of this CAPEC is: A common form of a GPS spoofing attack, commonly termed a carry-off attack begins with an adversary broadcasting signals synchronized with the genuine signals observed by the target receiver. The power of the counterfeit signals is then gradually increased and drawn away from the genuine signals. Over time, the adversary can carry the target away from their intended destination and toward a location chosen by the adversary.. The Domain of this is: Communications\n",
      "CAPEC-679: A CAPEC with the title Exploitation of Improperly Configured or Implemented Memory Protections. The description of this CAPEC is: \n",
      "            <xhtml:p>An adversary takes advantage of missing or incorrectly configured access control within memory to read/write data or inject malicious code into said memory.</xhtml:p>\n",
      "         . The Domains of this are: Hardware, Hardware\n",
      "CAPEC-42: A CAPEC with the title MIME Conversion. The description of this CAPEC is: An attacker exploits a weakness in the MIME conversion routine to cause a buffer overflow and gain control over the mail server machine. The MIME system is designed to allow various different information formats to be interpreted and sent via e-mail. Attack points exist when data are converted to MIME compatible format and back.. The Domain of this is: Software\n",
      "CAPEC-519: A CAPEC with the title Documentation Alteration to Cause Errors in System Design. The description of this CAPEC is: An attacker with access to a manufacturer's documentation containing requirements allocation and software design processes maliciously alters the documentation in order to cause errors in system design. This allows the attacker to take advantage of a weakness in a deployed system of the manufacturer for malicious purposes.. The Domain of this is: Supply Chain\n",
      "CAPEC-207: A CAPEC with the title Removing Important Client Functionality. The description of this CAPEC is: An adversary removes or disables functionality on the client that the server assumes to be present and trustworthy.. The Domain of this is: Software\n",
      "CAPEC-206: A CAPEC with the title Signing Malicious Code. The description of this CAPEC is: The adversary extracts credentials used for code signing from a production environment and then uses these credentials to sign malicious content with the developer's key. Many developers use signing keys to sign code or hashes of code. When users or applications verify the signatures are accurate they are led to believe that the code came from the owner of the signing key and that the code has not been modified since the signature was applied. If the adversary has extracted the signing credentials then they can use those credentials to sign their own code bundles. Users or tools that verify the signatures attached to the code will likely assume the code came from the legitimate developer and install or run the code, effectively allowing the adversary to execute arbitrary code on the victim's computer. This differs from CAPEC-673, because the adversary is performing the code signing.. The Domains of this are: Supply Chain, Software\n",
      "CAPEC-186: A CAPEC with the title Malicious Software Update. The description of this CAPEC is: An adversary uses deceptive methods to cause a user or an automated process to download and install dangerous code believed to be a valid update that originates from an adversary controlled source.. The Domains of this are: Social Engineering, Supply Chain, Software\n",
      "CAPEC-585: A CAPEC with the title DNS Domain Seizure. The description of this CAPEC is: In this attack pattern, an adversary influences a target's web-hosting company to disable a target domain. The goal is to prevent access to the targeted service provided by that domain. It usually occurs as the result of civil or criminal legal interventions.. The Domain of this is: Social Engineering\n",
      "CAPEC-623: A CAPEC with the title Compromising Emanations Attack. The description of this CAPEC is: Compromising Emanations (CE) are defined as unintentional signals which an attacker may intercept and analyze to disclose the information processed by the targeted equipment. Commercial mobile devices and retransmission devices have displays, buttons, microchips, and radios that emit mechanical emissions in the form of sound or vibrations. Capturing these emissions can help an adversary understand what the device is doing.. The Domains of this are: Software, Physical Security, Hardware\n",
      "CAPEC-29: A CAPEC with the title Leveraging Time-of-Check and Time-of-Use (TOCTOU) Race Conditions. The description of this CAPEC is: This attack targets a race condition occurring between the time of check (state) for a resource and the time of use of a resource. A typical example is file access. The adversary can leverage a file access race condition by \"running the race\", meaning that they would modify the resource between the first time the target program accesses the file and the time the target program uses the file. During that period of time, the adversary could replace or modify the file, causing the application to behave unexpectedly.. The Domain of this is: Software\n",
      "CAPEC-577: A CAPEC with the title Owner Footprinting. The description of this CAPEC is: An adversary exploits functionality meant to identify information about the primary users on the target system to an authorized user. They may do this, for example, by reviewing logins or file modification times. By knowing what owners use the target system, the adversary can inform further and more targeted malicious behavior. An example Windows command that may accomplish this is \"dir /A ntuser.dat\". Which will display the last modified time of a user's ntuser.dat file when run within the root folder of a user. This time is synonymous with the last time that user was logged in.. The Domain of this is: Software\n",
      "CAPEC-134: A CAPEC with the title Email Injection. The description of this CAPEC is: An adversary manipulates the headers and content of an email message by injecting data via the use of delimiter characters native to the protocol.. The Domain of this is: Software\n",
      "CAPEC-305: A CAPEC with the title TCP ACK Scan. The description of this CAPEC is: An adversary uses TCP ACK segments to gather information about firewall or ACL configuration. The purpose of this type of scan is to discover information about filter configurations rather than port state. This type of scanning is rarely useful alone, but when combined with SYN scanning, gives a more complete picture of the type of firewall rules that are present.. The Domains of this are: Communications, Software\n",
      "CAPEC-392: A CAPEC with the title Lock Bumping. The description of this CAPEC is: An attacker uses a bump key to force a lock on a building or facility and gain entry. Lock Bumping is the use of a special type of key that can be tapped or bumped to cause the pins within the lock to fall into temporary alignment, allowing the lock to be opened. Lock bumping allows an attacker to open a lock without having the correct key. A standard lock is secured by a set of internal pins that prevent the device from turning. Spring loaded driver pins push down on the key pins. When the correct key is inserted, the ridges on the key push the key pins up and against the driver pins, causing correct alignment which allows the lock cylinder to rotate. A bump key is a specially constructed key that exploits this design. When the bump key is struck or firmly tapped, its teeth transfer the force of the tap into the key pins, causing the lock to momentarily shift into proper alignment for the mechanism to be opened.. The Domain of this is: Physical Security\n",
      "CAPEC-540: A CAPEC with the title Overread Buffers. The description of this CAPEC is: An adversary attacks a target by providing input that causes an application to read beyond the boundary of a defined buffer. This typically occurs when a value influencing where to start or stop reading is set to reflect positions outside of the valid memory location of the buffer. This type of attack may result in exposure of sensitive information, a system crash, or arbitrary code execution.. The Domain of this is: Software\n",
      "CAPEC-196: A CAPEC with the title Session Credential Falsification through Forging. The description of this CAPEC is: An attacker creates a false but functional session credential in order to gain or usurp access to a service. Session credentials allow users to identify themselves to a service after an initial authentication without needing to resend the authentication information (usually a username and password) with every message. If an attacker is able to forge valid session credentials they may be able to bypass authentication or piggy-back off some other authenticated user's session. This attack differs from Reuse of Session IDs and Session Sidejacking attacks in that in the latter attacks an attacker uses a previous or existing credential without modification while, in a forging attack, the attacker must create their own credential, although it may be based on previously observed credentials.. The Domain of this is: Software\n",
      "CAPEC-448: A CAPEC with the title Embed Virus into DLL. The description of this CAPEC is: An adversary tampers with a DLL and embeds a computer virus into gaps between legitimate machine instructions. These gaps may be the result of compiler optimizations that pad memory blocks for performance gains. The embedded virus then attempts to infect any machine which interfaces with the product, and possibly steal private data or eavesdrop.. The Domain of this is: Software\n",
      "CAPEC-271: A CAPEC with the title Schema Poisoning. The description of this CAPEC is: An adversary corrupts or modifies the content of a schema for the purpose of undermining the security of the target. Schemas provide the structure and content definitions for resources used by an application. By replacing or modifying a schema, the adversary can affect how the application handles or interprets a resource, often leading to possible denial of service, entering into an unexpected state, or recording incomplete data.. The Domain of this is: Software\n",
      "CAPEC-330: A CAPEC with the title ICMP Error Message Echoing Integrity Probe. The description of this CAPEC is: An adversary uses a technique to generate an ICMP Error message (Port Unreachable, Destination Unreachable, Redirect, Source Quench, Time Exceeded, Parameter Problem) from a target and then analyze the integrity of data returned or \"Quoted\" from the originating request that generated the error message.. The Domain of this is: Software\n",
      "CAPEC-495: A CAPEC with the title UDP Fragmentation. The description of this CAPEC is: An attacker may execute a UDP Fragmentation attack against a target server in an attempt to consume resources such as bandwidth and CPU. IP fragmentation occurs when an IP datagram is larger than the MTU of the route the datagram has to traverse. Typically the attacker will use large UDP packets over 1500 bytes of data which forces fragmentation as ethernet MTU is 1500 bytes. This attack is a variation on a typical UDP flood but it enables more network bandwidth to be consumed with fewer packets. Additionally it has the potential to consume server CPU resources and fill memory buffers associated with the processing and reassembling of fragmented packets.. The Domains of this are: Communications, Software\n",
      "CAPEC-66: A CAPEC with the title SQL Injection. The description of this CAPEC is: This attack exploits target software that constructs SQL statements based on user input. An attacker crafts input strings so that when the target software constructs SQL statements based on the input, the resulting SQL statement performs actions other than those the application intended. SQL Injection results from failure of the application to appropriately validate input.. The Domain of this is: Software\n",
      "CAPEC-443: A CAPEC with the title Malicious Logic Inserted Into Product by Authorized Developer. The description of this CAPEC is: An adversary uses their privileged position within an authorized development organization to inject malicious logic into a codebase or product.. The Domains of this are: Supply Chain, Software, Hardware\n",
      "CAPEC-665: A CAPEC with the title Exploitation of Thunderbolt Protection Flaws. The description of this CAPEC is: \n",
      "            <xhtml:p>An adversary leverages a firmware weakness within the Thunderbolt protocol, on a computing device to manipulate Thunderbolt controller firmware in order to exploit vulnerabilities in the implementation of authorization and verification schemes within Thunderbolt protection mechanisms. Upon gaining physical access to a target device, the adversary conducts high-level firmware manipulation of the victim Thunderbolt controller SPI (Serial Peripheral Interface) flash, through the use of a SPI Programing device and an external Thunderbolt device, typically as the target device is booting up. If successful, this allows the adversary to modify memory, subvert authentication mechanisms, spoof identities and content, and extract data and memory from the target device. Currently 7 major vulnerabilities exist within Thunderbolt protocol with 9 attack vectors as noted in the Execution Flow.</xhtml:p>\n",
      "         . The Domains of this are: Communications, Software\n",
      "CAPEC-387: A CAPEC with the title Navigation Remapping To Propagate Malicious Content. The description of this CAPEC is: An adversary manipulates either egress or ingress data from a client within an application framework in order to change the content of messages and thereby circumvent the expected application logic.. The Domains of this are: Communications, Software\n",
      "CAPEC-606: A CAPEC with the title Weakening of Cellular Encryption. The description of this CAPEC is: An attacker, with control of a Cellular Rogue Base Station or through cooperation with a Malicious Mobile Network Operator can force the mobile device (e.g., the retransmission device) to use no encryption (A5/0 mode) or to use easily breakable encryption (A5/1 or A5/2 mode).. The Domain of this is: Software\n",
      "CAPEC-302: A CAPEC with the title TCP FIN Scan. The description of this CAPEC is: An adversary uses a TCP FIN scan to determine if ports are closed on the target machine. This scan type is accomplished by sending TCP segments with the FIN bit set in the packet header. The RFC 793 expected behavior is that any TCP segment with an out-of-state Flag sent to an open port is discarded, whereas segments with out-of-state flags sent to closed ports should be handled with a RST in response. This behavior should allow the adversary to scan for closed ports by sending certain types of rule-breaking packets (out of sync or disallowed by the TCB) and detect closed ports via RST packets.. The Domains of this are: Communications, Software\n",
      "CAPEC-481: A CAPEC with the title Contradictory Destinations in Traffic Routing Schemes. The description of this CAPEC is: Adversaries can provide contradictory destinations when sending messages. Traffic is routed in networks using the domain names in various headers available at different levels of the OSI model. In a Content Delivery Network (CDN) multiple domains might be available, and if there are contradictory domain names provided it is possible to route traffic to an inappropriate destination. The technique, called Domain Fronting, involves using different domain names in the SNI field of the TLS header and the Host field of the HTTP header. An alternative technique, called Domainless Fronting, is similar, but the SNI field is left blank.. The Domains of this are: Communications, Software\n",
      "CAPEC-296: A CAPEC with the title ICMP Information Request. The description of this CAPEC is: An adversary sends an ICMP Information Request to a host to determine if it will respond to this deprecated mechanism. ICMP Information Requests are a deprecated message type. Information Requests were originally used for diskless machines to automatically obtain their network configuration, but this message type has been superseded by more robust protocol implementations like DHCP.. The Domain of this is: Software\n",
      "CAPEC-547: A CAPEC with the title Physical Destruction of Device or Component. The description of this CAPEC is: An adversary conducts a physical attack a device or component, destroying it such that it no longer functions as intended.. The Domain of this is: Physical Security\n",
      "CAPEC-123: A CAPEC with the title Buffer Manipulation. The description of this CAPEC is: An adversary manipulates an application's interaction with a buffer in an attempt to read or modify data they shouldn't have access to. Buffer attacks are distinguished in that it is the buffer space itself that is the target of the attack rather than any code responsible for interpreting the content of the buffer. In virtually all buffer attacks the content that is placed in the buffer is immaterial. Instead, most buffer attacks involve retrieving or providing more input than can be stored in the allocated buffer, resulting in the reading or overwriting of other unintended program memory.. The Domain of this is: Software\n",
      "CAPEC-542: A CAPEC with the title Targeted Malware. The description of this CAPEC is: An adversary develops targeted malware that takes advantage of a known vulnerability in an organizational information technology environment. The malware crafted for these attacks is based specifically on information gathered about the technology environment. Successfully executing the malware enables an adversary to achieve a wide variety of negative technical impacts.. The Domain of this is: Software\n",
      "CAPEC-625: A CAPEC with the title Mobile Device Fault Injection. The description of this CAPEC is: Fault injection attacks against mobile devices use disruptive signals or events (e.g. electromagnetic pulses, laser pulses, clock glitches, etc.) to cause faulty behavior. When performed in a controlled manner on devices performing cryptographic operations, this faulty behavior can be exploited to derive secret key information. Although this attack usually requires physical control of the mobile device, it is non-destructive, and the device can be used after the attack without any indication that secret keys were compromised.. The Domains of this are: Communications, Hardware\n",
      "CAPEC-499: A CAPEC with the title Android Intent Intercept. The description of this CAPEC is: An adversary, through a previously installed malicious application, intercepts messages from a trusted Android-based application in an attempt to achieve a variety of different objectives including denial of service, information disclosure, and data injection. An implicit intent sent from a trusted application can be received by any application that has declared an appropriate intent filter. If the intent is not protected by a permission that the malicious application lacks, then the attacker can gain access to the data contained within the intent. Further, the intent can be either blocked from reaching the intended destination, or modified and potentially forwarded along.. The Domain of this is: Software\n",
      "CAPEC-420: A CAPEC with the title Influence Perception of Scarcity. The description of this CAPEC is: The adversary leverages a perception of scarcity to persuade the target to perform an action or divulge information that is advantageous to the adversary. By conveying a perception of scarcity, or a situation of limited supply, the adversary aims to create a sense of urgency in the context of a target's decision-making process.. The Domain of this is: Social Engineering\n",
      "CAPEC-415: A CAPEC with the title Pretexting via Phone. The description of this CAPEC is: An adversary engages in pretexting behavior, assuming some sort of trusted role, and contacting the targeted individual or organization via phone to solicit information from target persons, or manipulate the target into performing an action that serves the adversary's interests. This is the most common social engineering attack. Some of the most commonly effective approaches are to impersonate a fellow employee, impersonate a computer technician or to target help desk personnel.. The Domains of this are: Social Engineering, Social Engineering\n",
      "CAPEC-54: A CAPEC with the title Query System for Information. The description of this CAPEC is: An adversary, aware of an application's location (and possibly authorized to use the application), probes an application's structure and evaluates its robustness by submitting requests and examining responses. Often, this is accomplished by sending variants of expected queries in the hope that these modified queries might return information beyond what the expected set of queries would provide.. The Domain of this is: Software\n",
      "CAPEC-297: A CAPEC with the title TCP ACK Ping. The description of this CAPEC is: An adversary sends a TCP segment with the ACK flag set to a remote host for the purpose of determining if the host is alive. This is one of several TCP 'ping' types. The RFC 793 expected behavior for a service is to respond with a RST 'reset' packet to any unsolicited ACK segment that is not part of an existing connection. So by sending an ACK segment to a port, the adversary can identify that the host is alive by looking for a RST packet. Typically, a remote server will respond with a RST regardless of whether a port is open or closed. In this way, TCP ACK pings cannot discover the state of a remote port because the behavior is the same in either case. The firewall will look up the ACK packet in its state-table and discard the segment because it does not correspond to any active connection. A TCP ACK Ping can be used to discover if a host is alive via RST response packets sent from the host.. The Domain of this is: Software\n",
      "CAPEC-10: A CAPEC with the title Buffer Overflow via Environment Variables. The description of this CAPEC is: This attack pattern involves causing a buffer overflow through manipulation of environment variables. Once the adversary finds that they can modify an environment variable, they may try to overflow associated buffers. This attack leverages implicit trust often placed in environment variables.. The Domain of this is: Software\n",
      "CAPEC-480: A CAPEC with the title Escaping Virtualization. The description of this CAPEC is: An adversary gains access to an application, service, or device with the privileges of an authorized or privileged user by escaping the confines of a virtualized environment. The adversary is then able to access resources or execute unauthorized code within the host environment, generally with the privileges of the user running the virtualized process. Successfully executing an attack of this type is often the first step in executing more complex attacks.. The Domain of this is: Software\n",
      "CAPEC-323: A CAPEC with the title TCP (ISN) Counter Rate Probe. The description of this CAPEC is: This OS detection probe measures the average rate of initial sequence number increments during a period of time. Sequence numbers are incremented using a time-based algorithm and are susceptible to a timing analysis that can determine the number of increments per unit time. The result of this analysis is then compared against a database of operating systems and versions to determine likely operation system matches.. The Domain of this is: Software\n",
      "CAPEC-136: A CAPEC with the title LDAP Injection. The description of this CAPEC is: An attacker manipulates or crafts an LDAP query for the purpose of undermining the security of the target. Some applications use user input to create LDAP queries that are processed by an LDAP server. For example, a user might provide their username during authentication and the username might be inserted in an LDAP query during the authentication process. An attacker could use this input to inject additional commands into an LDAP query that could disclose sensitive information. For example, entering a * in the aforementioned query might return information about all users on the system. This attack is very similar to an SQL injection attack in that it manipulates a query to gather additional information or coerce a particular return value.. The Domain of this is: Software\n",
      "CAPEC-256: A CAPEC with the title SOAP Array Overflow. The description of this CAPEC is: An attacker sends a SOAP request with an array whose actual length exceeds the length indicated in the request. If the server processing the transmission naively trusts the specified size, then an attacker can intentionally understate the size of the array, possibly resulting in a buffer overflow if the server attempts to read the entire data set into the memory it allocated for a smaller array.. The Domain of this is: Software\n",
      "CAPEC-189: A CAPEC with the title Black Box Reverse Engineering. The description of this CAPEC is: An adversary discovers the structure, function, and composition of a type of computer software through black box analysis techniques. 'Black Box' methods involve interacting with the software indirectly, in the absence of direct access to the executable object. Such analysis typically involves interacting with the software at the boundaries of where the software interfaces with a larger execution environment, such as input-output vectors, libraries, or APIs. Black Box Reverse Engineering also refers to gathering physical side effects of a hardware device, such as electromagnetic radiation or sounds.. The Domains of this are: Software, Physical Security, Hardware\n",
      "CAPEC-67: A CAPEC with the title String Format Overflow in syslog(). The description of this CAPEC is: This attack targets applications and software that uses the syslog() function insecurely. If an application does not explicitely use a format string parameter in a call to syslog(), user input can be placed in the format string parameter leading to a format string injection attack. Adversaries can then inject malicious format string commands into the function call leading to a buffer overflow. There are many reported software vulnerabilities with the root cause being a misuse of the syslog() function.. The Domains of this are: Software, Software\n",
      "CAPEC-178: A CAPEC with the title Cross-Site Flashing. The description of this CAPEC is: An attacker is able to trick the victim into executing a Flash document that passes commands or calls to a Flash player browser plugin, allowing the attacker to exploit native Flash functionality in the client browser. This attack pattern occurs where an attacker can provide a crafted link to a Flash document (SWF file) which, when followed, will cause additional malicious instructions to be executed. The attacker does not need to serve or control the Flash document. The attack takes advantage of the fact that Flash files can reference external URLs. If variables that serve as URLs that the Flash application references can be controlled through parameters, then by creating a link that includes values for those parameters, an attacker can cause arbitrary content to be referenced and possibly executed by the targeted Flash application.. The Domains of this are: Social Engineering, Software\n",
      "CAPEC-452: A CAPEC with the title Infected Hardware. The description of this CAPEC is: An adversary inserts malicious logic into hardware, typically in the form of a computer virus or rootkit. This logic is often hidden from the user of the hardware and works behind the scenes to achieve negative impacts. This pattern of attack focuses on hardware already fielded and used in operation as opposed to hardware that is still under development and part of the supply chain.. The Domains of this are: Software, Hardware\n",
      "CAPEC-101: A CAPEC with the title Server Side Include (SSI) Injection. The description of this CAPEC is: An attacker can use Server Side Include (SSI) Injection to send code to a web application that then gets executed by the web server. Doing so enables the attacker to achieve similar results to Cross Site Scripting, viz., arbitrary code execution and information disclosure, albeit on a more limited scale, since the SSI directives are nowhere near as powerful as a full-fledged scripting language. Nonetheless, the attacker can conveniently gain access to sensitive files, such as password files, and execute shell commands.. The Domain of this is: Software\n",
      "CAPEC-2: A CAPEC with the title Inducing Account Lockout. The description of this CAPEC is: An attacker leverages the security functionality of the system aimed at thwarting potential attacks to launch a denial of service attack against a legitimate system user. Many systems, for instance, implement a password throttling mechanism that locks an account after a certain number of incorrect log in attempts. An attacker can leverage this throttling mechanism to lock a legitimate user out of their own account. The weakness that is being leveraged by an attacker is the very security feature that has been put in place to counteract attacks.. The Domain of this is: Software\n",
      "CAPEC-294: A CAPEC with the title ICMP Address Mask Request. The description of this CAPEC is: An adversary sends an ICMP Type 17 Address Mask Request to gather information about a target's networking configuration. ICMP Address Mask Requests are defined by RFC-950, \"Internet Standard Subnetting Procedure.\" An Address Mask Request is an ICMP type 17 message that triggers a remote system to respond with a list of its related subnets, as well as its default gateway and broadcast address via an ICMP type 18 Address Mask Reply datagram. Gathering this type of information helps the adversary plan router-based attacks as well as denial-of-service attacks against the broadcast address.. The Domain of this is: Software\n",
      "CAPEC-175: A CAPEC with the title Code Inclusion. The description of this CAPEC is: An adversary exploits a weakness on the target to force arbitrary code to be retrieved locally or from a remote location and executed. This differs from code injection in that code injection involves the direct inclusion of code while code inclusion involves the addition or replacement of a reference to a code file, which is subsequently loaded by the target and used as part of the code of some application.. The Domain of this is: Software\n",
      "CAPEC-193: A CAPEC with the title PHP Remote File Inclusion. The description of this CAPEC is: In this pattern the adversary is able to load and execute arbitrary code remotely available from the application. This is usually accomplished through an insecurely configured PHP runtime environment and an improperly sanitized \"include\" or \"require\" call, which the user can then control to point to any web-accessible file. This allows adversaries to hijack the targeted application and force it to execute their own instructions.. The Domain of this is: Software\n",
      "CAPEC-532: A CAPEC with the title Altered Installed BIOS. The description of this CAPEC is: An attacker with access to download and update system software sends a maliciously altered BIOS to the victim or victim supplier/integrator, which when installed allows for future exploitation.. The Domains of this are: Supply Chain, Software\n",
      "CAPEC-569: A CAPEC with the title Collect Data as Provided by Users. The description of this CAPEC is: An attacker leverages a tool, device, or program to obtain specific information as provided by a user of the target system. This information is often needed by the attacker to launch a follow-on attack. This attack is different than Social Engineering as the adversary is not tricking or deceiving the user. Instead the adversary is putting a mechanism in place that captures the information that a user legitimately enters into a system. Deploying a keylogger, performing a UAC prompt, or wrapping the Windows default credential provider are all examples of such interactions.. The Domain of this is: Software\n",
      "CAPEC-23: A CAPEC with the title File Content Injection. The description of this CAPEC is: An adversary poisons files with a malicious payload (targeting the file systems accessible by the target software), which may be passed through by standard channels such as via email, and standard web content like PDF and multimedia files. The adversary exploits known vulnerabilities or handling routines in the target processes, in order to exploit the host's trust in executing remote content, including binary files.. The Domain of this is: Software\n",
      "CAPEC-599: A CAPEC with the title Terrestrial Jamming. The description of this CAPEC is: In this attack pattern, the adversary transmits disruptive signals in the direction of the target's consumer-level satellite dish (as opposed to the satellite itself). The transmission disruption occurs in a more targeted range. Portable terrestrial jammers have a range of 3-5 kilometers in urban areas and 20 kilometers in rural areas. This technique requires a terrestrial jammer that is more powerful than the frequencies sent from the satellite.. The Domain of this is: Communications\n",
      "CAPEC-247: A CAPEC with the title XSS Using Invalid Characters. The description of this CAPEC is: An adversary inserts invalid characters in identifiers to bypass application filtering of input. Filters may not scan beyond invalid characters but during later stages of processing content that follows these invalid characters may still be processed. This allows the adversary to sneak prohibited commands past filters and perform normally prohibited operations. Invalid characters may include null, carriage return, line feed or tab in an identifier. Successful bypassing of the filter can result in a XSS attack, resulting in the disclosure of web cookies or possibly other results.. The Domains of this are: Software, Software, Software\n",
      "CAPEC-522: A CAPEC with the title Malicious Hardware Component Replacement. The description of this CAPEC is: An adversary replaces legitimate hardware in the system with faulty counterfeit or tampered hardware in the supply chain distribution channel, with purpose of causing malicious disruption or allowing for additional compromise when the system is deployed.. The Domains of this are: Supply Chain, Hardware\n",
      "CAPEC-662: A CAPEC with the title Adversary in the Browser (AiTB). The description of this CAPEC is: \n",
      "            <xhtml:p>An adversary exploits security vulnerabilities or inherent functionalities of a web browser, in order to manipulate traffic between two endpoints.</xhtml:p>\n",
      "         . The Domains of this are: Communications, Software\n",
      "CAPEC-37: A CAPEC with the title Retrieve Embedded Sensitive Data. The description of this CAPEC is: An attacker examines a target system to find sensitive data that has been embedded within it. This information can reveal confidential contents, such as account numbers or individual keys/credentials that can be used as an intermediate step in a larger attack.. The Domains of this are: Software, Physical Security, Hardware\n",
      "CAPEC-510: A CAPEC with the title SaaS User Request Forgery. The description of this CAPEC is: An adversary, through a previously installed malicious application, performs malicious actions against a third-party Software as a Service (SaaS) application (also known as a cloud based application) by leveraging the persistent and implicit trust placed on a trusted user's session. This attack is executed after a trusted user is authenticated into a cloud service, \"piggy-backing\" on the authenticated session, and exploiting the fact that the cloud service believes it is only interacting with the trusted user. If successful, the actions embedded in the malicious application will be processed and accepted by the targeted SaaS application and executed at the trusted user's privilege level.. The Domain of this is: Software\n",
      "CAPEC-607: A CAPEC with the title Obstruction. The description of this CAPEC is: An attacker obstructs the interactions between system components. By interrupting or disabling these interactions, an adversary can often force the system into a degraded state or cause the system to stop working as intended. This can cause the system components to be unavailable until the obstruction mitigated.. The Domains of this are: Social Engineering, Communications, Software, Physical Security, Hardware\n",
      "CAPEC-423: A CAPEC with the title Influence Perception of Liking. The description of this CAPEC is: The adversary influences the target's actions by building a relationship where the target has a liking to the adversary. People are more likely to be influenced by people of whom they are fond, so the adversary attempts to ingratiate themself with the target via actions, appearance, or a combination thereof.. The Domain of this is: Social Engineering\n",
      "CAPEC-521: A CAPEC with the title Hardware Design Specifications Are Altered. The description of this CAPEC is: An attacker with access to a manufacturer's hardware manufacturing process documentation alters the design specifications, which introduces flaws advantageous to the attacker once the system is deployed.. The Domains of this are: Supply Chain, Hardware\n",
      "CAPEC-468: A CAPEC with the title Generic Cross-Browser Cross-Domain Theft. The description of this CAPEC is: An attacker makes use of Cascading Style Sheets (CSS) injection to steal data cross domain from the victim's browser. The attack works by abusing the standards relating to loading of CSS: 1. Send cookies on any load of CSS (including cross-domain) 2. When parsing returned CSS ignore all data that does not make sense before a valid CSS descriptor is found by the CSS parser.. The Domain of this is: Software\n",
      "CAPEC-15: A CAPEC with the title Command Delimiters. The description of this CAPEC is: An attack of this type exploits a programs' vulnerabilities that allows an attacker's commands to be concatenated onto a legitimate command with the intent of targeting other resources such as the file system or database. The system that uses a filter or denylist input validation, as opposed to allowlist validation is vulnerable to an attacker who predicts delimiters (or combinations of delimiters) not present in the filter or denylist. As with other injection attacks, the attacker uses the command delimiter payload as an entry point to tunnel through the application and activate additional attacks through SQL queries, shell commands, network scanning, and so on.. The Domain of this is: Software\n",
      "CAPEC-184: A CAPEC with the title Software Integrity Attack. The description of this CAPEC is: An attacker initiates a series of events designed to cause a user, program, server, or device to perform actions which undermine the integrity of software code, device data structures, or device firmware, achieving the modification of the target's integrity to achieve an insecure state.. The Domains of this are: Social Engineering, Supply Chain, Software\n",
      "CAPEC-462: A CAPEC with the title Cross-Domain Search Timing. The description of this CAPEC is: An attacker initiates cross domain HTTP / GET requests and times the server responses. The timing of these responses may leak important information on what is happening on the server. Browser's same origin policy prevents the attacker from directly reading the server responses (in the absence of any other weaknesses), but does not prevent the attacker from timing the responses to requests that the attacker issued cross domain.. The Domain of this is: Software\n",
      "CAPEC-439: A CAPEC with the title Manipulation During Distribution. The description of this CAPEC is: An attacker undermines the integrity of a product, software, or technology at some stage of the distribution channel. The core threat of modification or manipulation during distribution arise from the many stages of distribution, as a product may traverse multiple suppliers and integrators as the final asset is delivered. Components and services provided from a manufacturer to a supplier may be tampered with during integration or packaging.. The Domains of this are: Supply Chain, Hardware\n",
      "CAPEC-589: A CAPEC with the title DNS Blocking. The description of this CAPEC is: An adversary intercepts traffic and intentionally drops DNS requests based on content in the request. In this way, the adversary can deny the availability of specific services or content to the user even if the IP address is changed.. The Domains of this are: Communications, Software\n",
      "CAPEC-253: A CAPEC with the title Remote Code Inclusion. The description of this CAPEC is: The attacker forces an application to load arbitrary code files from a remote location. The attacker could use this to try to load old versions of library files that have known vulnerabilities, to load malicious files that the attacker placed on the remote machine, or to otherwise change the functionality of the targeted application in unexpected ways.. The Domain of this is: Software\n",
      "CAPEC-671: A CAPEC with the title Requirements for ASIC Functionality Maliciously Altered. The description of this CAPEC is: An adversary with access to functional requirements for an application specific integrated circuit (ASIC), a chip designed/customized for a singular particular use, maliciously alters requirements derived from originating capability needs. In the chip manufacturing process, requirements drive the chip design which, when the chip is fully manufactured, could result in an ASIC which may not meet the user’s needs, contain malicious functionality, or exhibit other anomalous behaviors thereby affecting the intended use of the ASIC.. The Domains of this are: Supply Chain, Hardware\n",
      "CAPEC-485: A CAPEC with the title Signature Spoofing by Key Recreation. The description of this CAPEC is: An attacker obtains an authoritative or reputable signer's private signature key by exploiting a cryptographic weakness in the signature algorithm or pseudorandom number generation and then uses this key to forge signatures from the original signer to mislead a victim into performing actions that benefit the attacker.. The Domain of this is: Software\n",
      "CAPEC-111: A CAPEC with the title JSON Hijacking (aka JavaScript Hijacking). The description of this CAPEC is: An attacker targets a system that uses JavaScript Object Notation (JSON) as a transport mechanism between the client and the server (common in Web 2.0 systems using AJAX) to steal possibly confidential information transmitted from the server back to the client inside the JSON object by taking advantage of the loophole in the browser's Same Origin Policy that does not prohibit JavaScript from one website to be included and executed in the context of another website.. The Domain of this is: Software\n",
      "CAPEC-200: A CAPEC with the title Removal of filters: Input filters, output filters, data masking. The description of this CAPEC is: An attacker removes or disables filtering mechanisms on the target application. Input filters prevent invalid data from being sent to an application (for example, overly large inputs that might cause a buffer overflow or other malformed inputs that may not be correctly handled by an application). Input filters might also be designed to constrained executable content.. The Domain of this is: Software\n",
      "CAPEC-590: A CAPEC with the title IP Address Blocking. The description of this CAPEC is: An adversary performing this type of attack drops packets destined for a target IP address. The aim is to prevent access to the service hosted at the target IP address.. The Domains of this are: Communications, Software\n",
      "CAPEC-410: A CAPEC with the title Information Elicitation. The description of this CAPEC is: An adversary engages an individual using any combination of social engineering methods for the purpose of extracting information. Accurate contextual and environmental queues, such as knowing important information about the target company or individual can greatly increase the success of the attack and the quality of information gathered. Authentic mimicry combined with detailed knowledge increases the success of elicitation attacks.. The Domains of this are: Social Engineering, Software\n",
      "CAPEC-228: A CAPEC with the title DTD Injection. The description of this CAPEC is: An attacker injects malicious content into an application's DTD in an attempt to produce a negative technical impact. DTDs are used to describe how XML documents are processed. Certain malformed DTDs (for example, those with excessive entity expansion as described in CAPEC 197) can cause the XML parsers that process the DTDs to consume excessive resources resulting in resource depletion.. The Domain of this is: Software\n",
      "CAPEC-45: A CAPEC with the title Buffer Overflow via Symbolic Links. The description of this CAPEC is: This type of attack leverages the use of symbolic links to cause buffer overflows. An adversary can try to create or manipulate a symbolic link file such that its contents result in out of bounds data. When the target software processes the symbolic link file, it could potentially overflow internal buffers with insufficient bounds checking.. The Domain of this is: Software\n",
      "CAPEC-89: A CAPEC with the title Pharming. The description of this CAPEC is: A pharming attack occurs when the victim is fooled into entering sensitive data into supposedly trusted locations, such as an online bank site or a trading platform. An attacker can impersonate these supposedly trusted sites and have the victim be directed to their site rather than the originally intended one. Pharming does not require script injection or clicking on malicious links for the attack to succeed.. The Domain of this is: Social Engineering\n",
      "CAPEC-413: A CAPEC with the title Pretexting via Tech Support. The description of this CAPEC is: An adversary engages in pretexting behavior, assuming the role of a tech support worker, to solicit information from target persons, or manipulate the target into performing an action that serves the adversary's interests. An adversary who uses social engineering to impersonate a tech support worker can have devastating effects on a network. This is an effective attack vector, because it can give an adversary physical access to network computers. It only takes a matter of seconds for someone to compromise a computer with physical access. One of the best technological tools at the disposal of a social engineer, posing as a technical support person, is a USB thumb drive. These are small, easy to conceal, and can be loaded with different payloads depending on what task needs to be done. However, this form of attack does not require physical access as it can also be effectively carried out via phone or email.. The Domains of this are: Social Engineering, Social Engineering\n",
      "CAPEC-77: A CAPEC with the title Manipulating User-Controlled Variables. The description of this CAPEC is: This attack targets user controlled variables (DEBUG=1, PHP Globals, and So Forth). An adversary can override variables leveraging user-supplied, untrusted query variables directly used on the application server without any data sanitization. In extreme cases, the adversary can change variables controlling the business logic of the application. For instance, in languages like PHP, a number of poorly set default configurations may allow the user to override variables.. The Domain of this is: Software\n",
      "CAPEC-586: A CAPEC with the title Object Injection. The description of this CAPEC is: An adversary attempts to exploit an application by injecting additional, malicious content during its processing of serialized objects. Developers leverage serialization in order to convert data or state into a static, binary format for saving to disk or transferring over a network. These objects are then deserialized when needed to recover the data/state. By injecting a malformed object into a vulnerable application, an adversary can potentially compromise the application by manipulating the deserialization process. This can result in a number of unwanted outcomes, including remote code execution.. The Domain of this is: Software\n",
      "CAPEC-395: A CAPEC with the title Bypassing Electronic Locks and Access Controls. The description of this CAPEC is: An attacker exploits security assumptions to bypass electronic locks or other forms of access controls. Most attacks against electronic access controls follow similar methods but utilize different tools. Some electronic locks utilize magnetic strip cards, others employ RFID tags embedded within a card or badge, or may involve more sophisticated protections such as voice-print, thumb-print, or retinal biometrics. Magnetic Strip and RFID technologies are the most widespread because they are cost effective to deploy and more easily integrated with other electronic security measures. These technologies share common weaknesses that an attacker can exploit to gain access to a facility protected by the mechanisms via copying legitimate cards or badges, or generating new cards using reverse-engineered algorithms.. The Domain of this is: Physical Security\n",
      "CAPEC-518: A CAPEC with the title Documentation Alteration to Produce Under-performing Systems. The description of this CAPEC is: An attacker with access to a manufacturer's documentation alters the descriptions of system capabilities with the intent of causing errors in derived system requirements, impacting the overall effectiveness and capability of the system, allowing an attacker to take advantage of the introduced system capability flaw once the system is deployed.. The Domain of this is: Supply Chain\n",
      "CAPEC-511: A CAPEC with the title Infiltration of Software Development Environment. The description of this CAPEC is: An attacker uses common delivery mechanisms such as email attachments or removable media to infiltrate the IDE (Integrated Development Environment) of a victim manufacturer with the intent of implanting malware allowing for attack control of the victim IDE environment. The attack then uses this access to exfiltrate sensitive data or information, manipulate said data or information, and conceal these actions. This will allow and aid the attack to meet the goal of future compromise of a recipient of the victim's manufactured product further down in the supply chain.. The Domain of this is: Supply Chain\n",
      "CAPEC-637: A CAPEC with the title Collect Data from Clipboard. The description of this CAPEC is: The adversary exploits an application that allows for the copying of sensitive data or information by collecting information copied to the clipboard. Data copied to the clipboard can be accessed by other applications, such as malware built to exfiltrate or log clipboard contents on a periodic basis. In this way, the adversary aims to garner information to which they are unauthorized.. The Domain of this is: Software\n",
      "CAPEC-164: A CAPEC with the title Mobile Phishing. The description of this CAPEC is: An adversary targets mobile phone users with a phishing attack for the purpose of soliciting account passwords or sensitive information from the user. Mobile Phishing is a variation of the Phishing social engineering technique where the attack is initiated via a text or SMS message, rather than email. The user is enticed to provide information or visit a compromised web site via this message. Apart from the manner in which the attack is initiated, the attack proceeds as a standard Phishing attack.. The Domain of this is: Social Engineering\n",
      "CAPEC-548: A CAPEC with the title Contaminate Resource. The description of this CAPEC is: An adversary contaminates organizational information systems (including devices and networks) by causing them to handle information of a classification/sensitivity for which they have not been authorized. When this happens, the contaminated information system, device, or network must be brought offline to investigate and mitigate the data spill, which denies availability of the system until the investigation is complete.. The Domains of this are: Software, Hardware\n",
      "CAPEC-591: A CAPEC with the title Reflected XSS. The description of this CAPEC is: This type of attack is a form of Cross-Site Scripting (XSS) where a malicious script is \"reflected\" off a vulnerable web application and then executed by a victim's browser. The process starts with an adversary delivering a malicious script to a victim and convincing the victim to send the script to the vulnerable web application.. The Domain of this is: Software\n",
      "CAPEC-312: A CAPEC with the title Active OS Fingerprinting. The description of this CAPEC is: An adversary engages in activity to detect the operating system or firmware version of a remote target by interrogating a device, server, or platform with a probe designed to solicit behavior that will reveal information about the operating systems or firmware in the environment. Operating System detection is possible because implementations of common protocols (Such as IP or TCP) differ in distinct ways. While the implementation differences are not sufficient to 'break' compatibility with the protocol the differences are detectable because the target will respond in unique ways to specific probing activity that breaks the semantic or logical rules of packet construction for a protocol. Different operating systems will have a unique response to the anomalous input, providing the basis to fingerprint the OS behavior. This type of OS fingerprinting can distinguish between operating system types and versions.. The Domain of this is: Software\n",
      "CAPEC-129: A CAPEC with the title Pointer Manipulation. The description of this CAPEC is: This attack pattern involves an adversary manipulating a pointer within a target application resulting in the application accessing an unintended memory location. This can result in the crashing of the application or, for certain pointer values, access to data that would not normally be possible or the execution of arbitrary code. Since pointers are simply integer variables, Integer Attacks may often be used in Pointer Attacks.. The Domain of this is: Software\n",
      "CAPEC-428: A CAPEC with the title Influence via Modes of Thinking. The description of this CAPEC is: The adversary tailors their communication to the language and thought patterns of the target thereby weakening barriers or reluctance to communication. This method is a way of building rapport with a target by matching their speech patterns and the primary ways or dominant senses with which they make abstractions. This technique can be used to make the target more receptive to sharing information because the adversary has adapted their communication forms to match those of the target. When skillfully employed, the target is likely to be unaware that they are being manipulated.. The Domain of this is: Social Engineering\n",
      "CAPEC-127: A CAPEC with the title Directory Indexing. The description of this CAPEC is: An adversary crafts a request to a target that results in the target listing/indexing the content of a directory as output. One common method of triggering directory contents as output is to construct a request containing a path that terminates in a directory name rather than a file name since many applications are configured to provide a list of the directory's contents when such a request is received. An adversary can use this to explore the directory tree on a target as well as learn the names of files. This can often end up revealing test files, backup files, temporary files, hidden files, configuration files, user accounts, script contents, as well as naming conventions, all of which can be used by an attacker to mount additional attacks.. The Domain of this is: Software\n",
      "CAPEC-463: A CAPEC with the title Padding Oracle Crypto Attack. The description of this CAPEC is: An adversary is able to efficiently decrypt data without knowing the decryption key if a target system leaks data on whether or not a padding error happened while decrypting the ciphertext. A target system that leaks this type of information becomes the padding oracle and an adversary is able to make use of that oracle to efficiently decrypt data without knowing the decryption key by issuing on average 128*b calls to the padding oracle (where b is the number of bytes in the ciphertext block). In addition to performing decryption, an adversary is also able to produce valid ciphertexts (i.e., perform encryption) by using the padding oracle, all without knowing the encryption key.. The Domain of this is: Communications\n",
      "CAPEC-19: A CAPEC with the title Embedding Scripts within Scripts. The description of this CAPEC is: An adversary leverages the capability to execute their own script by embedding it within other scripts that the target software is likely to execute due to programs' vulnerabilities that are brought on by allowing remote hosts to execute scripts.. The Domain of this is: Software\n",
      "CAPEC-593: A CAPEC with the title Session Hijacking. The description of this CAPEC is: This type of attack involves an adversary that exploits weaknesses in an application's use of sessions in performing authentication. The adversary is able to steal or manipulate an active session and use it to gain unathorized access to the application.. The Domain of this is: Software\n",
      "CAPEC-74: A CAPEC with the title Manipulating State. The description of this CAPEC is: \n",
      "            <xhtml:p>The adversary modifies state information maintained by the target software or causes a state transition in hardware. If successful, the target will use this tainted state and execute in an unintended manner.</xhtml:p>\n",
      "            <xhtml:p>State management is an important function within a software application. User state maintained by the application can include usernames, payment information, browsing history as well as application-specific contents such as items in a shopping cart. Manipulating user state can be employed by an adversary to elevate privilege, conduct fraudulent transactions or otherwise modify the flow of the application to derive certain benefits.</xhtml:p>\n",
      "            <xhtml:p>If there is a hardware logic error in a finite state machine, the adversary can use this to put the system in an undefined state which could cause a denial of service or exposure of secure data.</xhtml:p>\n",
      "         . The Domains of this are: Software, Hardware\n",
      "CAPEC-177: A CAPEC with the title Create files with the same name as files protected with a higher classification. The description of this CAPEC is: An attacker exploits file location algorithms in an operating system or application by creating a file with the same name as a protected or privileged file. The attacker could manipulate the system if the attacker-created file is trusted by the operating system or an application component that attempts to load the original file. Applications often load or include external files, such as libraries or configuration files. These files should be protected against malicious manipulation. However, if the application only uses the name of the file when locating it, an attacker may be able to create a file with the same name and place it in a directory that the application will search before the directory with the legitimate file is searched. Because the attackers' file is discovered first, it would be used by the target application. This attack can be extremely destructive if the referenced file is executable and/or is granted special privileges based solely on having a particular name.. The Domain of this is: Software\n",
      "CAPEC-398: A CAPEC with the title Magnetic Strip Card Brute Force Attacks. The description of this CAPEC is: An adversary analyzes the data on two or more magnetic strip cards and is able to generate new cards containing valid sequences that allow unauthorized access and/or impersonation of individuals.. The Domain of this is: Physical Security\n",
      "CAPEC-646: A CAPEC with the title Peripheral Footprinting. The description of this CAPEC is: Adversaries may attempt to obtain information about attached peripheral devices and components connected to a computer system. Examples may include discovering the presence of iOS devices by searching for backups, analyzing the Windows registry to determine what USB devices have been connected, or infecting a victim system with malware to report when a USB device has been connected. This may allow the adversary to gain additional insight about the system or network environment, which may be useful in constructing further attacks.. The Domain of this is: Software\n",
      "CAPEC-84: A CAPEC with the title XQuery Injection. The description of this CAPEC is: This attack utilizes XQuery to probe and attack server systems; in a similar manner that SQL Injection allows an attacker to exploit SQL calls to RDBMS, XQuery Injection uses improperly validated data that is passed to XQuery commands to traverse and execute commands that the XQuery routines have access to. XQuery injection can be used to enumerate elements on the victim's environment, inject commands to the local host, or execute queries to remote files and data sources.. The Domain of this is: Software\n",
      "CAPEC-442: A CAPEC with the title Infected Software. The description of this CAPEC is: An adversary adds malicious logic, often in the form of a computer virus, to otherwise benign software. This logic is often hidden from the user of the software and works behind the scenes to achieve negative impacts. Many times, the malicious logic is inserted into empty space between legitimate code, and is then called when the software is executed. This pattern of attack focuses on software already fielded and used in operation as opposed to software that is still under development and part of the supply chain.. The Domain of this is: Software\n",
      "CAPEC-71: A CAPEC with the title Using Unicode Encoding to Bypass Validation Logic. The description of this CAPEC is: An attacker may provide a Unicode string to a system component that is not Unicode aware and use that to circumvent the filter or cause the classifying mechanism to fail to properly understanding the request. That may allow the attacker to slip malicious data past the content filter and/or possibly cause the application to route the request incorrectly.. The Domain of this is: Software\n",
      "CAPEC-245: A CAPEC with the title XSS Using Doubled Characters. The description of this CAPEC is: The adversary bypasses input validation by using doubled characters in order to perform a cross-site scripting attack. Some filters fail to recognize dangerous sequences if they are preceded by repeated characters. For example, by doubling the < before a script command, (<<script or %3C%3script using URI encoding) the filters of some web applications may fail to recognize the presence of a script tag. If the targeted server is vulnerable to this type of bypass, the adversary can create a crafted URL or other trap to cause a victim to view a page on the targeted server where the malicious content is executed, as per a normal XSS attack.. The Domains of this are: Software, Software, Software\n",
      "CAPEC-125: A CAPEC with the title Flooding. The description of this CAPEC is: An adversary consumes the resources of a target by rapidly engaging in a large number of interactions with the target. This type of attack generally exposes a weakness in rate limiting or flow. When successful this attack prevents legitimate users from accessing the service and can cause the target to crash. This attack differs from resource depletion through leaks or allocations in that the latter attacks do not rely on the volume of requests made to the target but instead focus on manipulation of the target's operations. The key factor in a flooding attack is the number of requests the adversary can make in a given period of time. The greater this number, the more likely an attack is to succeed against a given target.. The Domains of this are: Communications, Software\n",
      "CAPEC-669: A CAPEC with the title Alteration of a Software Update. The description of this CAPEC is: \n",
      "            <xhtml:p>An adversary with access to an organization’s software update infrastructure inserts malware into the content of an outgoing update to fielded systems where a wide range of malicious effects are possible. With the same level of access, the adversary can alter a software update to perform specific malicious acts including granting the adversary control over the software’s normal functionality.</xhtml:p>\n",
      "         . The Domains of this are: Social Engineering, Supply Chain, Software\n",
      "CAPEC-594: A CAPEC with the title Traffic Injection. The description of this CAPEC is: An adversary injects traffic into the target's network connection. The adversary is therefore able to degrade or disrupt the connection, and potentially modify the content. This is not a flooding attack, as the adversary is not focusing on exhausting resources. Instead, the adversary is crafting a specific input to affect the system in a particular way.. The Domains of this are: Communications, Software\n",
      "CAPEC-102: A CAPEC with the title Session Sidejacking. The description of this CAPEC is: Session sidejacking takes advantage of an unencrypted communication channel between a victim and target system. The attacker sniffs traffic on a network looking for session tokens in unencrypted traffic. Once a session token is captured, the attacker performs malicious actions by using the stolen token with the targeted application to impersonate the victim. This attack is a specific method of session hijacking, which is exploiting a valid session token to gain unauthorized access to a target system or information. Other methods to perform a session hijacking are session fixation, cross-site scripting, or compromising a user or server machine and stealing the session token.. The Domain of this is: Software\n",
      "CAPEC-402: A CAPEC with the title Bypassing ATA Password Security. The description of this CAPEC is: An adversary exploits a weakness in ATA security on a drive to gain access to the information the drive contains without supplying the proper credentials. ATA Security is often employed to protect hard disk information from unauthorized access. The mechanism requires the user to type in a password before the BIOS is allowed access to drive contents. Some implementations of ATA security will accept the ATA command to update the password without the user having authenticated with the BIOS. This occurs because the security mechanism assumes the user has first authenticated via the BIOS prior to sending commands to the drive. Various methods exist for exploiting this flaw, the most common being installing the ATA protected drive into a system lacking ATA security features (a.k.a. hot swapping). Once the drive is installed into the new system the BIOS can be used to reset the drive password.. The Domains of this are: Supply Chain, Physical Security, Hardware\n",
      "CAPEC-574: A CAPEC with the title Services Footprinting. The description of this CAPEC is: An adversary exploits functionality meant to identify information about the services on the target system to an authorized user. By knowing what services are registered on the target system, the adversary can learn about the target environment as a means towards further malicious behavior. Depending on the operating system, commands that can obtain services information include \"sc\" and \"tasklist/svc\" using Tasklist, and \"net start\" using Net.. The Domain of this is: Software\n",
      "CAPEC-307: A CAPEC with the title TCP RPC Scan. The description of this CAPEC is: An adversary scans for RPC services listing on a Unix/Linux host.. The Domains of this are: Communications, Software\n",
      "CAPEC-433: A CAPEC with the title Target Influence via The Human Buffer Overflow. The description of this CAPEC is: An attacker utilizes a technique to insinuate commands to the subconscious mind of the target via communication patterns. The human buffer overflow methodology does not rely on over-stimulating the mind of the target, but rather embedding messages within communication that the mind of the listener assembles at a subconscious level. The human buffer-overflow method is similar to subconscious programming to the extent that messages are embedded within the message.. The Domain of this is: Social Engineering\n",
      "CAPEC-575: A CAPEC with the title Account Footprinting. The description of this CAPEC is: An adversary exploits functionality meant to identify information about the domain accounts and their permissions on the target system to an authorized user. By knowing what accounts are registered on the target system, the adversary can inform further and more targeted malicious behavior. Example Windows commands which can acquire this information are: \"net user\" and \"dsquery\".. The Domain of this is: Software\n",
      "CAPEC-227: A CAPEC with the title Sustained Client Engagement. The description of this CAPEC is: An adversary attempts to deny legitimate users access to a resource by continually engaging a specific resource in an attempt to keep the resource tied up as long as possible. The adversary's primary goal is not to crash or flood the target, which would alert defenders; rather it is to repeatedly perform actions or abuse algorithmic flaws such that a given resource is tied up and not available to a legitimate user. By carefully crafting a requests that keep the resource engaged through what is seemingly benign requests, legitimate users are limited or completely denied access to the resource.. The Domain of this is: Software\n",
      "CAPEC-691: A CAPEC with the title Spoof Open-Source Software Metadata. The description of this CAPEC is: \n",
      "            <xhtml:p>An adversary spoofs open-source software metadata in an attempt to masquerade malicious software as popular, maintained, and trusted.</xhtml:p>\n",
      "         . The Domains of this are: Social Engineering, Supply Chain, Software\n",
      "CAPEC-529: A CAPEC with the title Malware-Directed Internal Reconnaissance. The description of this CAPEC is: Adversary uses malware or a similarly controlled application installed inside an organizational perimeter to gather information about the composition, configuration, and security mechanisms of a targeted application, system or network.. The Domain of this is: Software\n",
      "CAPEC-63: A CAPEC with the title Cross-Site Scripting (XSS). The description of this CAPEC is: An adversary embeds malicious scripts in content that will be served to web browsers. The goal of the attack is for the target software, the client-side browser, to execute the script with the users' privilege level. An attack of this type exploits a programs' vulnerabilities that are brought on by allowing remote hosts to execute code and scripts. Web browsers, for example, have some simple security controls in place, but if a remote attacker is allowed to execute scripts (through injecting them in to user-generated content like bulletin boards) then these controls may be bypassed. Further, these attacks are very difficult for an end user to detect.. The Domain of this is: Software\n",
      "CAPEC-460: A CAPEC with the title HTTP Parameter Pollution (HPP). The description of this CAPEC is: An adversary adds duplicate HTTP GET/POST parameters by injecting query string delimiters. Via HPP it may be possible to override existing hardcoded HTTP parameters, modify the application behaviors, access and, potentially exploit, uncontrollable variables, and bypass input validation checkpoints and WAF rules.. The Domain of this is: Software\n",
      "CAPEC-153: A CAPEC with the title Input Data Manipulation. The description of this CAPEC is: An attacker exploits a weakness in input validation by controlling the format, structure, and composition of data to an input-processing interface. By supplying input of a non-standard or unexpected form an attacker can adversely impact the security of the target.. The Domain of this is: Software\n",
      "CAPEC-476: A CAPEC with the title Signature Spoofing by Misrepresentation. The description of this CAPEC is: An attacker exploits a weakness in the parsing or display code of the recipient software to generate a data blob containing a supposedly valid signature, but the signer's identity is falsely represented, which can lead to the attacker manipulating the recipient software or its victim user to perform compromising actions.. The Domain of this is: Software\n",
      "CAPEC-11: A CAPEC with the title Cause Web Server Misclassification. The description of this CAPEC is: An attack of this type exploits a Web server's decision to take action based on filename or file extension. Because different file types are handled by different server processes, misclassification may force the Web server to take unexpected action, or expected actions in an unexpected sequence. This may cause the server to exhaust resources, supply debug or system data to the attacker, or bind an attacker to a remote process.. The Domain of this is: Software\n",
      "CAPEC-58: A CAPEC with the title Restful Privilege Elevation. The description of this CAPEC is: An adversary identifies a Rest HTTP (Get, Put, Delete) style permission method allowing them to perform various malicious actions upon server data due to lack of access control mechanisms implemented within the application service accepting HTTP messages.. The Domains of this are: Software, Hardware, Software\n",
      "CAPEC-140: A CAPEC with the title Bypassing of Intermediate Forms in Multiple-Form Sets. The description of this CAPEC is: Some web applications require users to submit information through an ordered sequence of web forms. This is often done if there is a very large amount of information being collected or if information on earlier forms is used to pre-populate fields or determine which additional information the application needs to collect. An attacker who knows the names of the various forms in the sequence may be able to explicitly type in the name of a later form and navigate to it without first going through the previous forms. This can result in incomplete collection of information, incorrect assumptions about the information submitted by the attacker, or other problems that can impair the functioning of the application.. The Domain of this is: Software\n",
      "CAPEC-601: A CAPEC with the title Jamming. The description of this CAPEC is: An adversary uses radio noise or signals in an attempt to disrupt communications. By intentionally overwhelming system resources with illegitimate traffic, service is denied to the legitimate traffic of authorized users.. The Domain of this is: Communications\n",
      "CAPEC-494: A CAPEC with the title TCP Fragmentation. The description of this CAPEC is: An adversary may execute a TCP Fragmentation attack against a target with the intention of avoiding filtering rules of network controls, by attempting to fragment the TCP packet such that the headers flag field is pushed into the second fragment which typically is not filtered.. The Domains of this are: Communications, Software\n",
      "CAPEC-652: A CAPEC with the title Use of Known Kerberos Credentials. The description of this CAPEC is: An adversary obtains (i.e. steals or purchases) legitimate Kerberos credentials (e.g. Kerberos service account userID/password or Kerberos Tickets) with the goal of achieving authenticated access to additional systems, applications, or services within the domain.. The Domain of this is: Software\n",
      "CAPEC-406: A CAPEC with the title Dumpster Diving. The description of this CAPEC is: An adversary cases an establishment and searches through trash bins, dumpsters, or areas where company information may have been accidentally discarded for information items which may be useful to the dumpster diver. The devastating nature of the items and/or information found can be anything from medical records, resumes, personal photos and emails, bank statements, account details or information about software, tech support logs and so much more, including hardware devices. By collecting this information an adversary may be able to learn important facts about the person or organization that play a role in helping the adversary in their attack.. The Domain of this is: Physical Security\n",
      "CAPEC-224: A CAPEC with the title Fingerprinting. The description of this CAPEC is: An adversary compares output from a target system to known indicators that uniquely identify specific details about the target. Most commonly, fingerprinting is done to determine operating system and application versions. Fingerprinting can be done passively as well as actively. Fingerprinting by itself is not usually detrimental to the target. However, the information gathered through fingerprinting often enables an adversary to discover existing weaknesses in the target.. The Domain of this is: Software\n",
      "CAPEC-100: A CAPEC with the title Overflow Buffers. The description of this CAPEC is: Buffer Overflow attacks target improper or missing bounds checking on buffer operations, typically triggered by input injected by an adversary. As a consequence, an adversary is able to write past the boundaries of allocated buffer regions in memory, causing a program crash or potentially redirection of execution as per the adversaries' choice.. The Domain of this is: Software\n",
      "CAPEC-552: A CAPEC with the title Install Rootkit . The description of this CAPEC is: An adversary exploits a weakness in authentication to install malware that alters the functionality and information provide by targeted operating system API calls. Often referred to as rootkits, it is often used to hide the presence of programs, files, network connections, services, drivers, and other system components.. The Domain of this is: Software\n",
      "CAPEC-506: A CAPEC with the title Tapjacking. The description of this CAPEC is: An adversary, through a previously installed malicious application, displays an interface that misleads the user and convinces them to tap on an attacker desired location on the screen. This is often accomplished by overlaying one screen on top of another while giving the appearance of a single interface. There are two main techniques used to accomplish this. The first is to leverage transparent properties that allow taps on the screen to pass through the visible application to an application running in the background. The second is to strategically place a small object (e.g., a button or text field) on top of the visible screen and make it appear to be a part of the underlying application. In both cases, the user is convinced to tap on the screen but does not realize the application that they are interacting with.. The Domain of this is: Software\n",
      "CAPEC-582: A CAPEC with the title Route Disabling. The description of this CAPEC is: An adversary disables the network route between two targets. The goal is to completely sever the communications channel between two entities. This is often the result of a major error or the use of an \"Internet kill switch\" by those in control of critical infrastructure. This attack pattern differs from most other obstruction patterns by targeting the route itself, as opposed to the data passed over the route.. The Domains of this are: Social Engineering, Communications, Software, Hardware\n",
      "CAPEC-466: A CAPEC with the title Leveraging Active Adversary in the Middle Attacks to Bypass Same Origin Policy. The description of this CAPEC is: An attacker leverages an adversary in the middle attack (CAPEC-94) in order to bypass the same origin policy protection in the victim's browser. This active adversary in the middle attack could be launched, for instance, when the victim is connected to a public WIFI hot spot. An attacker is able to intercept requests and responses between the victim's browser and some non-sensitive website that does not use TLS.. The Domains of this are: Communications, Software\n",
      "CAPEC-150: A CAPEC with the title Collect Data from Common Resource Locations. The description of this CAPEC is: An adversary exploits well-known locations for resources for the purposes of undermining the security of the target. In many, if not most systems, files and resources are organized in a default tree structure. This can be useful for adversaries because they often know where to look for resources or files that are necessary for attacks. Even when the precise location of a targeted resource may not be known, naming conventions may indicate a small area of the target machine's file tree where the resources are typically located. For example, configuration files are normally stored in the /etc director on Unix systems. Adversaries can take advantage of this to commit other types of attacks.. The Domains of this are: Software, Physical Security, Hardware\n",
      "CAPEC-559: A CAPEC with the title Orbital Jamming. The description of this CAPEC is: In this attack pattern, the adversary sends disruptive signals at a target satellite using a rogue uplink station to disrupt the intended transmission. Those within the satellite's footprint are prevented from reaching the satellite's targeted or neighboring channels. The satellite's footprint size depends upon its position in the sky; higher orbital satellites cover multiple continents.. The Domain of this is: Communications\n",
      "CAPEC-112: A CAPEC with the title Brute Force. The description of this CAPEC is: In this attack, some asset (information, functionality, identity, etc.) is protected by a finite secret value. The attacker attempts to gain access to this asset by using trial-and-error to exhaustively explore all the possible secret values in the hope of finding the secret (or a value that is functionally equivalent) that will unlock the asset.. The Domain of this is: Software\n",
      "CAPEC-5: A CAPEC with the title Blue Boxing. The description of this CAPEC is: \n",
      "            <xhtml:p>This type of attack against older telephone switches and trunks has been around for decades. A tone is sent by an adversary to impersonate a supervisor signal which has the effect of rerouting or usurping command of the line. While the US infrastructure proper may not contain widespread vulnerabilities to this type of attack, many companies are connected globally through call centers and business process outsourcing. These international systems may be operated in countries which have not upgraded Telco infrastructure and so are vulnerable to Blue boxing. Blue boxing is a result of failure on the part of the system to enforce strong authorization for administrative functions. While the infrastructure is different than standard current applications like web applications, there are historical lessons to be learned to upgrade the access control for administrative functions.</xhtml:p>\n",
      "            <xhtml:p>\n",
      "               <xhtml:b>This attack pattern is included in CAPEC for historical purposes.</xhtml:b>\n",
      "            </xhtml:p>\n",
      "         . The Domains of this are: Communications, Software\n",
      "CAPEC-110: A CAPEC with the title SQL Injection through SOAP Parameter Tampering. The description of this CAPEC is: An attacker modifies the parameters of the SOAP message that is sent from the service consumer to the service provider to initiate a SQL injection attack. On the service provider side, the SOAP message is parsed and parameters are not properly validated before being used to access a database in a way that does not use parameter binding, thus enabling the attacker to control the structure of the executed SQL query. This pattern describes a SQL injection attack with the delivery mechanism being a SOAP message.. The Domain of this is: Software\n",
      "CAPEC-132: A CAPEC with the title Symlink Attack. The description of this CAPEC is: An adversary positions a symbolic link in such a manner that the targeted user or application accesses the link's endpoint, assuming that it is accessing a file with the link's name.. The Domain of this is: Software\n",
      "CAPEC-52: A CAPEC with the title Embedding NULL Bytes. The description of this CAPEC is: An adversary embeds one or more null bytes in input to the target software. This attack relies on the usage of a null-valued byte as a string terminator in many environments. The goal is for certain components of the target software to stop processing the input when it encounters the null byte(s).. The Domain of this is: Software\n",
      "CAPEC-414: A CAPEC with the title Pretexting via Delivery Person. The description of this CAPEC is: An adversary engages in pretexting behavior, assuming the role of a delivery person, to solicit information from target persons, or manipulate the target into performing an action that serves the adversary's interests. Impersonating a delivery person is an effective attack and an easy attack since not much acting is involved. Usually the hardest part is looking the part and having all of the proper credentials, papers and \"deliveries\" in order to be able to pull it off.. The Domains of this are: Social Engineering, Social Engineering\n",
      "CAPEC-59: A CAPEC with the title Session Credential Falsification through Prediction. The description of this CAPEC is: This attack targets predictable session ID in order to gain privileges. The attacker can predict the session ID used during a transaction to perform spoofing and session hijacking.. The Domain of this is: Software\n",
      "CAPEC-28: A CAPEC with the title Fuzzing. The description of this CAPEC is: In this attack pattern, the adversary leverages fuzzing to try to identify weaknesses in the system. Fuzzing is a software security and functionality testing method that feeds randomly constructed input to the system and looks for an indication that a failure in response to that input has occurred. Fuzzing treats the system as a black box and is totally free from any preconceptions or assumptions about the system. Fuzzing can help an attacker discover certain assumptions made about user input in the system. Fuzzing gives an attacker a quick way of potentially uncovering some of these assumptions despite not necessarily knowing anything about the internals of the system. These assumptions can then be turned against the system by specially crafting user input that may allow an attacker to achieve their goals.. The Domain of this is: Software\n",
      "CAPEC-242: A CAPEC with the title Code Injection. The description of this CAPEC is: An adversary exploits a weakness in input validation on the target to inject new code into that which is currently executing. This differs from code inclusion in that code inclusion involves the addition or replacement of a reference to a code file, which is subsequently loaded by the target and used as part of the code of some application.. The Domain of this is: Software\n",
      "CAPEC-636: A CAPEC with the title Hiding Malicious Data or Code within Files. The description of this CAPEC is: Files on various operating systems can have a complex format which allows for the storage of other data, in addition to its contents. Often this is metadata about the file, such as a cached thumbnail for an image file. Unless utilities are invoked in a particular way, this data is not visible during the normal use of the file. It is possible for an attacker to store malicious data or code using these facilities, which would be difficult to discover.. The Domain of this is: Software\n",
      "CAPEC-537: A CAPEC with the title Infiltration of Hardware Development Environment. The description of this CAPEC is: An adversary, leveraging the ability to manipulate components of primary support systems and tools within the development and production environments, inserts malicious software within the hardware and/or firmware development environment. The infiltration purpose is to alter developed hardware components in a system destined for deployment at the victim's organization, for the purpose of disruption or further compromise.. The Domains of this are: Supply Chain, Hardware\n",
      "CAPEC-440: A CAPEC with the title Hardware Integrity Attack. The description of this CAPEC is: An adversary exploits a weakness in the system maintenance process and causes a change to be made to a technology, product, component, or sub-component or a new one installed during its deployed use at the victim location for the purpose of carrying out an attack.. The Domains of this are: Supply Chain, Physical Security, Hardware\n",
      "CAPEC-155: A CAPEC with the title Screen Temporary Files for Sensitive Information. The description of this CAPEC is: An adversary exploits the temporary, insecure storage of information by monitoring the content of files used to store temp data during an application's routine execution flow. Many applications use temporary files to accelerate processing or to provide records of state across multiple executions of the application. Sometimes, however, these temporary files may end up storing sensitive information. By screening an application's temporary files, an adversary might be able to discover such sensitive information. For example, web browsers often cache content to accelerate subsequent lookups. If the content contains sensitive information then the adversary could recover this from the web cache.. The Domain of this is: Software\n",
      "CAPEC-592: A CAPEC with the title Stored XSS. The description of this CAPEC is: An adversary utilizes a form of Cross-site Scripting (XSS) where a malicious script is persistently \"stored\" within the data storage of a vulnerable web application as valid input.. The Domain of this is: Software\n",
      "CAPEC-563: A CAPEC with the title Add Malicious File to Shared Webroot. The description of this CAPEC is: An adversaries may add malicious content to a website through the open file share and then browse to that content with a web browser to cause the server to execute the content. The malicious content will typically run under the context and permissions of the web server process, often resulting in local system or administrative privileges depending on how the web server is configured.. The Domain of this is: Software\n",
      "CAPEC-661: A CAPEC with the title Root/Jailbreak Detection Evasion via Debugging. The description of this CAPEC is: An adversary inserts a debugger into the program entry point of a mobile application to modify the application binary, with the goal of evading Root/Jailbreak detection. Mobile device users often Root/Jailbreak their devices in order to gain administrative control over the mobile operating system and/or to install third-party mobile applications that are not provided by authorized application stores (e.g. Google Play Store and Apple App Store). Rooting/Jailbreaking a mobile device also provides users with access to system debuggers and disassemblers, which can be leveraged to exploit applications by dumping the application's memory at runtime in order to remove or bypass signature verification methods. This further allows the adversary to evade Root/Jailbreak detection mechanisms, which can result in execution of administrative commands, obtaining confidential data, impersonating legitimate users of the application, and more.. The Domains of this are: Software, Hardware\n",
      "CAPEC-96: A CAPEC with the title Block Access to Libraries. The description of this CAPEC is: An application typically makes calls to functions that are a part of libraries external to the application. These libraries may be part of the operating system or they may be third party libraries. It is possible that the application does not handle situations properly where access to these libraries has been blocked. Depending on the error handling within the application, blocked access to libraries may leave the system in an insecure state that could be leveraged by an attacker.. The Domain of this is: Software\n",
      "CAPEC-298: A CAPEC with the title UDP Ping. The description of this CAPEC is: An adversary sends a UDP datagram to the remote host to determine if the host is alive. If a UDP datagram is sent to an open UDP port there is very often no response, so a typical strategy for using a UDP ping is to send the datagram to a random high port on the target. The goal is to solicit an 'ICMP port unreachable' message from the target, indicating that the host is alive. UDP pings are useful because some firewalls are not configured to block UDP datagrams sent to strange or typically unused ports, like ports in the 65K range. Additionally, while some firewalls may filter incoming ICMP, weaknesses in firewall rule-sets may allow certain types of ICMP (host unreachable, port unreachable) which are useful for UDP ping attempts.. The Domain of this is: Software\n",
      "CAPEC-187: A CAPEC with the title Malicious Automated Software Update via Redirection. The description of this CAPEC is: An attacker exploits two layers of weaknesses in server or client software for automated update mechanisms to undermine the integrity of the target code-base. The first weakness involves a failure to properly authenticate a server as a source of update or patch content. This type of weakness typically results from authentication mechanisms which can be defeated, allowing a hostile server to satisfy the criteria that establish a trust relationship. The second weakness is a systemic failure to validate the identity and integrity of code downloaded from a remote location, hence the inability to distinguish malicious code from a legitimate update.. The Domains of this are: Supply Chain, Software\n",
      "CAPEC-533: A CAPEC with the title Malicious Manual Software Update. The description of this CAPEC is: An attacker introduces malicious code to the victim's system by altering the payload of a software update, allowing for additional compromise or site disruption at the victim location. These manual, or user-assisted attacks, vary from requiring the user to download and run an executable, to as streamlined as tricking the user to click a URL. Attacks which aim at penetrating a specific network infrastructure often rely upon secondary attack methods to achieve the desired impact. Spamming, for example, is a common method employed as an secondary attack vector. Thus the attacker has in their arsenal a choice of initial attack vectors ranging from traditional SMTP/POP/IMAP spamming and its varieties, to web-application mechanisms which commonly implement both chat and rich HTML messaging within the user interface.. The Domains of this are: Social Engineering, Supply Chain, Software\n",
      "CAPEC-48: A CAPEC with the title Passing Local Filenames to Functions That Expect a URL. The description of this CAPEC is: This attack relies on client side code to access local files and resources instead of URLs. When the client browser is expecting a URL string, but instead receives a request for a local file, that execution is likely to occur in the browser process space with the browser's authority to local files. The attacker can send the results of this request to the local files out to a site that they control. This attack may be used to steal sensitive authentication data (either local or remote), or to gain system profile information to launch further attacks.. The Domain of this is: Software\n",
      "CAPEC-216: A CAPEC with the title Communication Channel Manipulation. The description of this CAPEC is: An adversary manipulates a setting or parameter on communications channel in order to compromise its security. This can result in information exposure, insertion/removal of information from the communications stream, and/or potentially system compromise.. The Domain of this is: Communications\n",
      "CAPEC-194: A CAPEC with the title Fake the Source of Data. The description of this CAPEC is: An adversary takes advantage of improper authentication to provide data or services under a falsified identity. The purpose of using the falsified identity may be to prevent traceability of the provided data or to assume the rights granted to another individual. One of the simplest forms of this attack would be the creation of an email message with a modified \"From\" field in order to appear that the message was sent from someone other than the actual sender. The root of the attack (in this case the email system) fails to properly authenticate the source and this results in the reader incorrectly performing the instructed action. Results of the attack vary depending on the details of the attack, but common results include privilege escalation, obfuscation of other attacks, and data corruption/manipulation.. The Domains of this are: Social Engineering, Software, Hardware\n",
      "CAPEC-20: A CAPEC with the title Encryption Brute Forcing. The description of this CAPEC is: An attacker, armed with the cipher text and the encryption algorithm used, performs an exhaustive (brute force) search on the key space to determine the key that decrypts the cipher text to obtain the plaintext.. The Domain of this is: Software\n",
      "CAPEC-195: A CAPEC with the title Principal Spoof. The description of this CAPEC is: A Principal Spoof is a form of Identity Spoofing where an adversary pretends to be some other person in an interaction. This is often accomplished by crafting a message (either written, verbal, or visual) that appears to come from a person other than the adversary. Phishing and Pharming attacks often attempt to do this so that their attempts to gather sensitive information appear to come from a legitimate source. A Principal Spoof does not use stolen or spoofed authentication credentials, instead relying on the appearance and content of the message to reflect identity.. The Domains of this are: Social Engineering, Communications\n",
      "CAPEC-190: A CAPEC with the title Reverse Engineer an Executable to Expose Assumed Hidden Functionality. The description of this CAPEC is: An attacker analyzes a binary file or executable for the purpose of discovering the structure, function, and possibly source-code of the file by using a variety of analysis techniques to effectively determine how the software functions and operates. This type of analysis is also referred to as Reverse Code Engineering, as techniques exist for extracting source code from an executable. Several techniques are often employed for this purpose, both black box and white box. The use of computer bus analyzers and packet sniffers allows the binary to be studied at a level of interactions with its computing environment, such as a host OS, inter-process communication, and/or network communication. This type of analysis falls into the 'black box' category because it involves behavioral analysis of the software without reference to source code, object code, or protocol specifications.. The Domains of this are: Software, Physical Security\n",
      "CAPEC-169: A CAPEC with the title Footprinting. The description of this CAPEC is: An adversary engages in probing and exploration activities to identify constituents and properties of the target.. The Domains of this are: Communications, Software\n",
      "CAPEC-560: A CAPEC with the title Use of Known Domain Credentials. The description of this CAPEC is: \n",
      "            <xhtml:p>An adversary guesses or obtains (i.e. steals or purchases) legitimate credentials (e.g. userID/password) to achieve authentication and to perform authorized actions under the guise of an authenticated user or service.</xhtml:p>\n",
      "         . The Domains of this are: Software, Hardware\n",
      "CAPEC-291: A CAPEC with the title DNS Zone Transfers. The description of this CAPEC is: An attacker exploits a DNS misconfiguration that permits a ZONE transfer. Some external DNS servers will return a list of IP address and valid hostnames. Under certain conditions, it may even be possible to obtain Zone data about the organization's internal network. When successful the attacker learns valuable information about the topology of the target organization, including information about particular servers, their role within the IT structure, and possibly information about the operating systems running upon the network. This is configuration dependent behavior so it may also be required to search out multiple DNS servers while attempting to find one with ZONE transfers allowed.. The Domain of this is: Software\n",
      "CAPEC-18: A CAPEC with the title XSS Targeting Non-Script Elements. The description of this CAPEC is: This attack is a form of Cross-Site Scripting (XSS) where malicious scripts are embedded in elements that are not expected to host scripts such as image tags (<img>), comments in XML documents (< !-CDATA->), etc. These tags may not be subject to the same input validation, output validation, and other content filtering and checking routines, so this can create an opportunity for an adversary to tunnel through the application's elements and launch a XSS attack through other elements. As with all remote attacks, it is important to differentiate the ability to launch an attack (such as probing an internal network for unpatched servers) and the ability of the remote adversary to collect and interpret the output of said attack.. The Domains of this are: Software, Software, Software\n",
      "CAPEC-158: A CAPEC with the title Sniffing Network Traffic. The description of this CAPEC is: In this attack pattern, the adversary monitors network traffic between nodes of a public or multicast network in an attempt to capture sensitive information at the protocol level. Network sniffing applications can reveal TCP/IP, DNS, Ethernet, and other low-level network communication information. The adversary takes a passive role in this attack pattern and simply observes and analyzes the traffic. The adversary may precipitate or indirectly influence the content of the observed transaction, but is never the intended recipient of the target information.. The Domains of this are: Communications, Software\n",
      "CAPEC-108: A CAPEC with the title Command Line Execution through SQL Injection. The description of this CAPEC is: An attacker uses standard SQL injection methods to inject data into the command line for execution. This could be done directly through misuse of directives such as MSSQL_xp_cmdshell or indirectly through injection of data into the database that would be interpreted as shell commands. Sometime later, an unscrupulous backend application (or could be part of the functionality of the same application) fetches the injected data stored in the database and uses this data as command line arguments without performing proper validation. The malicious data escapes that data plane by spawning new commands to be executed on the host.. The Domain of this is: Software\n",
      "CAPEC-425: A CAPEC with the title Target Influence via Framing. The description of this CAPEC is: An adversary uses framing techniques to contextualize a conversation so that the target is more likely to be influenced by the adversary's point of view. Framing is information and experiences in life that alter the way we react to decisions we must make. This type of persuasive technique exploits the way people are conditioned to perceive data and its significance, while avoiding negative or avoidance responses from the target. Rather than a specific technique framing is a methodology of conversation that slowly encourages the target to adopt to the adversary's perspective. One technique of framing is to avoid the use of the word \"No\" and to contextualize responses in a manner that is positive. When performed skillfully the target is much more likely to volunteer information or perform actions favorable to the adversary.. The Domain of this is: Social Engineering\n",
      "CAPEC-622: A CAPEC with the title Electromagnetic Side-Channel Attack. The description of this CAPEC is: In this attack scenario, the attacker passively monitors electromagnetic emanations that are produced by the targeted electronic device as an unintentional side-effect of its processing. From these emanations, the attacker derives information about the data that is being processed (e.g. the attacker can recover cryptographic keys by monitoring emanations associated with cryptographic processing). This style of attack requires proximal access to the device, however attacks have been demonstrated at public conferences that work at distances of up to 10-15 feet. There have not been any significant studies to determine the maximum practical distance for such attacks. Since the attack is passive, it is nearly impossible to detect and the targeted device will continue to operate as normal after a successful attack.. The Domains of this are: Software, Physical Security, Hardware\n",
      "CAPEC-230: A CAPEC with the title Serialized Data with Nested Payloads. The description of this CAPEC is: Applications often need to transform data in and out of a data format (e.g., XML and YAML) by using a parser. It may be possible for an adversary to inject data that may have an adverse effect on the parser when it is being processed. Many data format languages allow the definition of macro-like structures that can be used to simplify the creation of complex structures. By nesting these structures, causing the data to be repeatedly substituted, an adversary can cause the parser to consume more resources while processing, causing excessive memory consumption and CPU utilization.. The Domain of this is: Software\n",
      "CAPEC-407: A CAPEC with the title Pretexting. The description of this CAPEC is: An adversary engages in pretexting behavior to solicit information from target persons, or manipulate the target into performing some action that serves the adversary's interests. During a pretexting attack, the adversary creates an invented scenario, assuming an identity or role to persuade a targeted victim to release information or perform some action. It is more than just creating a lie; in some cases it can be creating a whole new identity and then using that identity to manipulate the receipt of information.. The Domains of this are: Social Engineering, Social Engineering, Software\n",
      "CAPEC-310: A CAPEC with the title Scanning for Vulnerable Software. The description of this CAPEC is: An attacker engages in scanning activity to find vulnerable software versions or types, such as operating system versions or network services. Vulnerable or exploitable network configurations, such as improperly firewalled systems, or misconfigured systems in the DMZ or external network, provide windows of opportunity for an attacker. Common types of vulnerable software include unpatched operating systems or services (e.g FTP, Telnet, SMTP, SNMP) running on open ports that the attacker has identified. Attackers usually begin probing for vulnerable software once the external network has been port scanned and potential targets have been revealed.. The Domain of this is: Software\n",
      "CAPEC-390: A CAPEC with the title Bypassing Physical Security. The description of this CAPEC is: Facilities often used layered models for physical security such as traditional locks, Electronic-based card entry systems, coupled with physical alarms. Hardware security mechanisms range from the use of computer case and cable locks as well as RFID tags for tracking computer assets. This layered approach makes it difficult for random physical security breaches to go unnoticed, but is less effective at stopping deliberate and carefully planned break-ins. Avoiding detection begins with evading building security and surveillance and methods for bypassing the electronic or physical locks which secure entry points.. The Domain of this is: Physical Security\n",
      "CAPEC-640: A CAPEC with the title Inclusion of Code in Existing Process. The description of this CAPEC is: The adversary takes advantage of a bug in an application failing to verify the integrity of the running process to execute arbitrary code in the address space of a separate live process. The adversary could use running code in the context of another process to try to access process's memory, system/network resources, etc. The goal of this attack is to evade detection defenses and escalate privileges by masking the malicious code under an existing legitimate process. Examples of approaches include but not limited to: dynamic-link library (DLL) injection, portable executable injection, thread execution hijacking, ptrace system calls, VDSO hijacking, function hooking, reflective code loading, and more.. The Domain of this is: Software\n",
      "CAPEC-174: A CAPEC with the title Flash Parameter Injection. The description of this CAPEC is: An adversary takes advantage of improper data validation to inject malicious global parameters into a Flash file embedded within an HTML document. Flash files can leverage user-submitted data to configure the Flash document and access the embedding HTML document.. The Domain of this is: Software\n",
      "CAPEC-70: A CAPEC with the title Try Common or Default Usernames and Passwords. The description of this CAPEC is: An adversary may try certain common or default usernames and passwords to gain access into the system and perform unauthorized actions. An adversary may try an intelligent brute force using empty passwords, known vendor default credentials, as well as a dictionary of common usernames and passwords. Many vendor products come preconfigured with default (and thus well-known) usernames and passwords that should be deleted prior to usage in a production environment. It is a common mistake to forget to remove these default login credentials. Another problem is that users would pick very simple (common) passwords (e.g. \"secret\" or \"password\") that make it easier for the attacker to gain access to the system compared to using a brute force attack or even a dictionary attack using a full dictionary.. The Domain of this is: Software\n",
      "CAPEC-668: A CAPEC with the title Key Negotiation of Bluetooth Attack (KNOB). The description of this CAPEC is: An adversary can exploit a flaw in Bluetooth key negotiation allowing them to decrypt information sent between two devices communicating via Bluetooth. The adversary uses an Adversary in the Middle setup to modify packets sent between the two devices during the authentication process, specifically the entropy bits. Knowledge of the number of entropy bits will allow the attacker to easily decrypt information passing over the line of communication.. The Domain of this is: Software\n",
      "CAPEC-49: A CAPEC with the title Password Brute Forcing. The description of this CAPEC is: An adversary tries every possible value for a password until they succeed. A brute force attack, if feasible computationally, will always be successful because it will essentially go through all possible passwords given the alphabet used (lower case letters, upper case letters, numbers, symbols, etc.) and the maximum length of the password.. The Domain of this is: Software\n",
      "CAPEC-279: A CAPEC with the title SOAP Manipulation. The description of this CAPEC is: Simple Object Access Protocol (SOAP) is used as a communication protocol between a client and server to invoke web services on the server. It is an XML-based protocol, and therefore suffers from many of the same shortcomings as other XML-based protocols. Adversaries can make use of these shortcomings and manipulate the content of SOAP paramters, leading to undesirable behavior on the server and allowing the adversary to carry out a number of further attacks.. The Domains of this are: Communications, Software\n",
      "CAPEC-46: A CAPEC with the title Overflow Variables and Tags. The description of this CAPEC is: This type of attack leverages the use of tags or variables from a formatted configuration data to cause buffer overflow. The adversary crafts a malicious HTML page or configuration file that includes oversized strings, thus causing an overflow.. The Domain of this is: Software\n",
      "CAPEC-517: A CAPEC with the title Documentation Alteration to Circumvent Dial-down. The description of this CAPEC is: An attacker with access to a manufacturer's documentation, which include descriptions of advanced technology and/or specific components' criticality, alters the documents to circumvent dial-down functionality requirements. This alteration would change the interpretation of implementation and manufacturing techniques, allowing for advanced technologies to remain in place even though these technologies might be restricted to certain customers, such as nations on the terrorist watch list, giving the attacker on the receiving end of a shipped product access to an advanced technology that might otherwise be restricted.. The Domain of this is: Supply Chain\n",
      "CAPEC-115: A CAPEC with the title Authentication Bypass. The description of this CAPEC is: An attacker gains access to application, service, or device with the privileges of an authorized or privileged user by evading or circumventing an authentication mechanism. The attacker is therefore able to access protected data without authentication ever having taken place.. The Domain of this is: Software\n",
      "CAPEC-491: A CAPEC with the title Quadratic Data Expansion. The description of this CAPEC is: An adversary exploits macro-like substitution to cause a denial of service situation due to excessive memory being allocated to fully expand the data. The result of this denial of service could cause the application to freeze or crash. This involves defining a very large entity and using it multiple times in a single entity substitution. CAPEC-197 is a similar attack pattern, but it is easier to discover and defend against. This attack pattern does not perform multi-level substitution and therefore does not obviously appear to consume extensive resources.. The Domain of this is: Software\n",
      "CAPEC-571: A CAPEC with the title Block Logging to Central Repository. The description of this CAPEC is: \n",
      "            <xhtml:p>An adversary prevents host-generated logs being delivered to a central location in an attempt to hide indicators of compromise.</xhtml:p>\n",
      "         . The Domains of this are: Communications, Software\n",
      "CAPEC-7: A CAPEC with the title Blind SQL Injection. The description of this CAPEC is: Blind SQL Injection results from an insufficient mitigation for SQL Injection. Although suppressing database error messages are considered best practice, the suppression alone is not sufficient to prevent SQL Injection. Blind SQL Injection is a form of SQL Injection that overcomes the lack of error messages. Without the error messages that facilitate SQL Injection, the adversary constructs input strings that probe the target through simple Boolean SQL expressions. The adversary can determine if the syntax and structure of the injection was successful based on whether the query was executed or not. Applied iteratively, the adversary determines how and where the target is vulnerable to SQL Injection.. The Domain of this is: Software\n",
      "CAPEC-116: A CAPEC with the title Excavation. The description of this CAPEC is: An adversary actively probes the target in a manner that is designed to solicit information that could be leveraged for malicious purposes.. The Domains of this are: Supply Chain, Software, Physical Security, Hardware\n",
      "CAPEC-509: A CAPEC with the title Kerberoasting. The description of this CAPEC is: Through the exploitation of how service accounts leverage Kerberos authentication with Service Principal Names (SPNs), the adversary obtains and subsequently cracks the hashed credentials of a service account target to exploit its privileges. The Kerberos authentication protocol centers around a ticketing system which is used to request/grant access to services and to then access the requested services. As an authenticated user, the adversary may request Active Directory and obtain a service ticket with portions encrypted via RC4 with the private key of the authenticated account. By extracting the local ticket and saving it disk, the adversary can brute force the hashed value to reveal the target account credentials.. The Domain of this is: Software\n",
      "CAPEC-475: A CAPEC with the title Signature Spoofing by Improper Validation. The description of this CAPEC is: An adversary exploits a cryptographic weakness in the signature verification algorithm implementation to generate a valid signature without knowing the key.. The Domain of this is: Software\n",
      "CAPEC-477: A CAPEC with the title Signature Spoofing by Mixing Signed and Unsigned Content. The description of this CAPEC is: An attacker exploits the underlying complexity of a data structure that allows for both signed and unsigned content, to cause unsigned data to be processed as though it were signed data.. The Domain of this is: Software\n",
      "CAPEC-1: A CAPEC with the title Accessing Functionality Not Properly Constrained by ACLs. The description of this CAPEC is: In applications, particularly web applications, access to functionality is mitigated by an authorization framework. This framework maps Access Control Lists (ACLs) to elements of the application's functionality; particularly URL's for web apps. In the case that the administrator failed to specify an ACL for a particular element, an attacker may be able to access it with impunity. An attacker with the ability to access functionality not properly constrained by ACLs can obtain sensitive information and possibly compromise the entire application. Such an attacker can access resources that must be available only to users at a higher privilege level, can access management sections of the application, or can run queries for data that they otherwise not supposed to.. The Domains of this are: Software, Hardware\n",
      "CAPEC-638: A CAPEC with the title Altered Component Firmware. The description of this CAPEC is: An adversary exploits systems features and/or improperly protected firmware of hardware components, such as Hard Disk Drives (HDD), with the goal of executing malicious code from within the component's Master Boot Record (MBR). Conducting this type of attack entails the adversary infecting the target with firmware altering malware, using known tools, and a payload. Once this malware is executed, the MBR is modified to include instructions to execute the payload at desired intervals and when the system is booted up. A successful attack will obtain persistence within the victim system even if the operating system is reinstalled and/or if the component is formatted or has its data erased.. The Domains of this are: Software, Hardware\n",
      "CAPEC-478: A CAPEC with the title Modification of Windows Service Configuration. The description of this CAPEC is: An adversary exploits a weakness in access control to modify the execution parameters of a Windows service. The goal of this attack is to execute a malicious binary in place of an existing service.. The Domain of this is: Software\n",
      "CAPEC-293: A CAPEC with the title Traceroute Route Enumeration. The description of this CAPEC is: An adversary uses a traceroute utility to map out the route which data flows through the network in route to a target destination. Tracerouting can allow the adversary to construct a working topology of systems and routers by listing the systems through which data passes through on their way to the targeted machine. This attack can return varied results depending upon the type of traceroute that is performed. Traceroute works by sending packets to a target while incrementing the Time-to-Live field in the packet header. As the packet traverses each hop along its way to the destination, its TTL expires generating an ICMP diagnostic message that identifies where the packet expired. Traditional techniques for tracerouting involved the use of ICMP and UDP, but as more firewalls began to filter ingress ICMP, methods of traceroute using TCP were developed.. The Domain of this is: Software\n",
      "CAPEC-85: A CAPEC with the title AJAX Footprinting. The description of this CAPEC is: This attack utilizes the frequent client-server roundtrips in Ajax conversation to scan a system. While Ajax does not open up new vulnerabilities per se, it does optimize them from an attacker point of view. A common first step for an attacker is to footprint the target environment to understand what attacks will work. Since footprinting relies on enumeration, the conversational pattern of rapid, multiple requests and responses that are typical in Ajax applications enable an attacker to look for many vulnerabilities, well-known ports, network locations and so on. The knowledge gained through Ajax fingerprinting can be used to support other attacks, such as XSS.. The Domain of this is: Software\n",
      "CAPEC-147: A CAPEC with the title XML Ping of the Death. The description of this CAPEC is: An attacker initiates a resource depletion attack where a large number of small XML messages are delivered at a sufficiently rapid rate to cause a denial of service or crash of the target. Transactions such as repetitive SOAP transactions can deplete resources faster than a simple flooding attack because of the additional resources used by the SOAP protocol and the resources necessary to process SOAP messages. The transactions used are immaterial as long as they cause resource utilization on the target. In other words, this is a normal flooding attack augmented by using messages that will require extra processing on the target.. The Domain of this is: Software\n",
      "CAPEC-51: A CAPEC with the title Poison Web Service Registry. The description of this CAPEC is: SOA and Web Services often use a registry to perform look up, get schema information, and metadata about services. A poisoned registry can redirect (think phishing for servers) the service requester to a malicious service provider, provide incorrect information in schema or metadata, and delete information about service provider interfaces.. The Domain of this is: Software\n",
      "CAPEC-651: A CAPEC with the title Eavesdropping. The description of this CAPEC is: An adversary intercepts a form of communication (e.g. text, audio, video) by way of software (e.g., microphone and audio recording application), hardware (e.g., recording equipment), or physical means (e.g., physical proximity). The goal of eavesdropping is typically to gain unauthorized access to sensitive information about the target for financial, personal, political, or other gains. Eavesdropping is different from a sniffing attack as it does not take place on a network-based communication channel (e.g., IP traffic). Instead, it entails listening in on the raw audio source of a conversation between two or more parties.. The Domains of this are: Communications, Software, Physical Security\n",
      "CAPEC-635: A CAPEC with the title Alternative Execution Due to Deceptive Filenames. The description of this CAPEC is: The extension of a file name is often used in various contexts to determine the application that is used to open and use it. If an attacker can cause an alternative application to be used, it may be able to execute malicious code, cause a denial of service or expose sensitive information.. The Domain of this is: Software\n",
      "CAPEC-624: A CAPEC with the title Hardware Fault Injection. The description of this CAPEC is: The adversary uses disruptive signals or events, or alters the physical environment a device operates in, to cause faulty behavior in electronic devices. This can include electromagnetic pulses, laser pulses, clock glitches, ambient temperature extremes, and more. When performed in a controlled manner on devices performing cryptographic operations, this faulty behavior can be exploited to derive secret key information.. The Domains of this are: Communications, Hardware\n",
      "CAPEC-304: A CAPEC with the title TCP Null Scan. The description of this CAPEC is: An adversary uses a TCP NULL scan to determine if ports are closed on the target machine. This scan type is accomplished by sending TCP segments with no flags in the packet header, generating packets that are illegal based on RFC 793. The RFC 793 expected behavior is that any TCP segment with an out-of-state Flag sent to an open port is discarded, whereas segments with out-of-state flags sent to closed ports should be handled with a RST in response. This behavior should allow an attacker to scan for closed ports by sending certain types of rule-breaking packets (out of sync or disallowed by the TCB) and detect closed ports via RST packets.. The Domains of this are: Communications, Software\n",
      "CAPEC-458: A CAPEC with the title Flash Memory Attacks. The description of this CAPEC is: An adversary inserts malicious logic into a product or technology via flashing the on-board memory with a code-base that contains malicious logic. Various attacks exist against the integrity of flash memory, the most direct being rootkits coded into the BIOS or chipset of a device.. The Domains of this are: Software, Hardware\n",
      "CAPEC-579: A CAPEC with the title Replace Winlogon Helper DLL. The description of this CAPEC is: Winlogon is a part of Windows that performs logon actions. In Windows systems prior to Windows Vista, a registry key can be modified that causes Winlogon to load a DLL on startup. Adversaries may take advantage of this feature to load adversarial code at startup.. The Domain of this is: Software\n",
      "CAPEC-544: A CAPEC with the title Counterfeit Organizations. The description of this CAPEC is: An adversary creates a false front organizations with the appearance of a legitimate supplier in the critical life cycle path that then injects corrupted/malicious information system components into the organizational supply chain.. The Domain of this is: Social Engineering\n",
      "CAPEC-393: A CAPEC with the title Lock Picking. The description of this CAPEC is: An attacker uses lock picking tools and techniques to bypass the locks on a building or facility. Lock picking is the use of a special set of tools to manipulate the pins within a lock. Different sets of tools are required for each type of lock. Lock picking attacks have the advantage of being non-invasive in that if performed correctly the lock will not be damaged. A standard lock pin-and-tumbler lock is secured by a set of internal pins that prevent the tumbler device from turning. Spring loaded driver pins push down on the key pins preventing rotation so that the bolt remains in a locked position.. When the correct key is inserted, the ridges on the key push the key pins up and against the driver pins, causing correct alignment which allows the lock cylinder to rotate. Most common locks, such as domestic locks in the US, can be picked using a standard 2 tools (i.e. a torsion wrench and a hook pick).. The Domain of this is: Physical Security\n",
      "CAPEC-639: A CAPEC with the title Probe System Files. The description of this CAPEC is: An adversary obtains unauthorized information due to improperly protected files. If an application stores sensitive information in a file that is not protected by proper access control, then an adversary can access the file and search for sensitive information.. The Domain of this is: Software\n",
      "CAPEC-35: A CAPEC with the title Leverage Executable Code in Non-Executable Files. The description of this CAPEC is: An attack of this type exploits a system's trust in configuration and resource files. When the executable loads the resource (such as an image file or configuration file) the attacker has modified the file to either execute malicious code directly or manipulate the target process (e.g. application server) to execute based on the malicious configuration parameters. Since systems are increasingly interrelated mashing up resources from local and remote sources the possibility of this attack occurring is high.. The Domain of this is: Software\n",
      "CAPEC-17: A CAPEC with the title Using Malicious Files. The description of this CAPEC is: An attack of this type exploits a system's configuration that allows an adversary to either directly access an executable file, for example through shell access; or in a possible worst case allows an adversary to upload a file and then execute it. Web servers, ftp servers, and message oriented middleware systems which have many integration points are particularly vulnerable, because both the programmers and the administrators must be in synch regarding the interfaces and the correct privileges for each interface.. The Domain of this is: Software\n",
      "CAPEC-39: A CAPEC with the title Manipulating Opaque Client-based Data Tokens. The description of this CAPEC is: In circumstances where an application holds important data client-side in tokens (cookies, URLs, data files, and so forth) that data can be manipulated. If client or server-side application components reinterpret that data as authentication tokens or data (such as store item pricing or wallet information) then even opaquely manipulating that data may bear fruit for an Attacker. In this pattern an attacker undermines the assumption that client side tokens have been adequately protected from tampering through use of encryption or obfuscation.. The Domain of this is: Software\n",
      "CAPEC-219: A CAPEC with the title XML Routing Detour Attacks. The description of this CAPEC is: An attacker subverts an intermediate system used to process XML content and forces the intermediate to modify and/or re-route the processing of the content. XML Routing Detour Attacks are Adversary in the Middle type attacks (CAPEC-94). The attacker compromises or inserts an intermediate system in the processing of the XML message. For example, WS-Routing can be used to specify a series of nodes or intermediaries through which content is passed. If any of the intermediate nodes in this route are compromised by an attacker they could be used for a routing detour attack. From the compromised system the attacker is able to route the XML process to other nodes of their choice and modify the responses so that the normal chain of processing is unaware of the interception. This system can forward the message to an outside entity and hide the forwarding and processing from the legitimate processing systems by altering the header information.. The Domains of this are: Communications, Software\n",
      "CAPEC-657: A CAPEC with the title Malicious Automated Software Update via Spoofing. The description of this CAPEC is: An attackers uses identify or content spoofing to trick a client into performing an automated software update from a malicious source. A malicious automated software update that leverages spoofing can include content or identity spoofing as well as protocol spoofing. Content or identity spoofing attacks can trigger updates in software by embedding scripted mechanisms within a malicious web page, which masquerades as a legitimate update source. Scripting mechanisms communicate with software components and trigger updates from locations specified by the attackers' server. The result is the client believing there is a legitimate software update available but instead downloading a malicious update from the attacker.. The Domains of this are: Supply Chain, Software\n",
      "CAPEC-388: A CAPEC with the title Application API Button Hijacking. The description of this CAPEC is: An attacker manipulates either egress or ingress data from a client within an application framework in order to change the destination and/or content of buttons displayed to a user within API messages. Performing this attack allows the attacker to manipulate content in such a way as to produce messages or content that looks authentic but contains buttons that point to an attacker controlled destination.. The Domains of this are: Communications, Software\n",
      "CAPEC-285: A CAPEC with the title ICMP Echo Request Ping. The description of this CAPEC is: An adversary sends out an ICMP Type 8 Echo Request, commonly known as a 'Ping', in order to determine if a target system is responsive. If the request is not blocked by a firewall or ACL, the target host will respond with an ICMP Type 0 Echo Reply datagram. This type of exchange is usually referred to as a 'Ping' due to the Ping utility present in almost all operating systems. Ping, as commonly implemented, allows a user to test for alive hosts, measure round-trip time, and measure the percentage of packet loss.. The Domain of this is: Software\n",
      "CAPEC-220: A CAPEC with the title Client-Server Protocol Manipulation. The description of this CAPEC is: An adversary takes advantage of weaknesses in the protocol by which a client and server are communicating to perform unexpected actions. Communication protocols are necessary to transfer messages between client and server applications. Moreover, different protocols may be used for different types of interactions.. The Domains of this are: Communications, Software\n",
      "CAPEC-300: A CAPEC with the title Port Scanning. The description of this CAPEC is: An adversary uses a combination of techniques to determine the state of the ports on a remote target. Any service or application available for TCP or UDP networking will have a port open for communications over the network.. The Domains of this are: Communications, Software\n",
      "CAPEC-562: A CAPEC with the title Modify Shared File. The description of this CAPEC is: An adversary manipulates the files in a shared location by adding malicious programs, scripts, or exploit code to valid content. Once a user opens the shared content, the tainted content is executed.. The Domain of this is: Software\n",
      "CAPEC-643: A CAPEC with the title Identify Shared Files/Directories on System. The description of this CAPEC is: An adversary discovers connections between systems by exploiting the target system's standard practice of revealing them in searchable, common areas. Through the identification of shared folders/drives between systems, the adversary may further their goals of locating and collecting sensitive information/files, or map potential routes for lateral movement within the network.. The Domain of this is: Software\n",
      "CAPEC-676: A CAPEC with the title NoSQL Injection. The description of this CAPEC is: \n",
      "            <xhtml:p>An adversary targets software that constructs NoSQL statements based on user input or with parameters vulnerable to operator replacement in order to achieve a variety of technical impacts such as escalating privileges, bypassing authentication, and/or executing code.</xhtml:p>\n",
      "         . The Domain of this is: Software\n",
      "CAPEC-145: A CAPEC with the title Checksum Spoofing. The description of this CAPEC is: An adversary spoofs a checksum message for the purpose of making a payload appear to have a valid corresponding checksum. Checksums are used to verify message integrity. They consist of some value based on the value of the message they are protecting. Hash codes are a common checksum mechanism. Both the sender and recipient are able to compute the checksum based on the contents of the message. If the message contents change between the sender and recipient, the sender and recipient will compute different checksum values. Since the sender's checksum value is transmitted with the message, the recipient would know that a modification occurred. In checksum spoofing an adversary modifies the message body and then modifies the corresponding checksum so that the recipient's checksum calculation will match the checksum (created by the adversary) in the message. This would prevent the recipient from realizing that a change occurred.. The Domain of this is: Software\n",
      "CAPEC-608: A CAPEC with the title Cryptanalysis of Cellular Encryption. The description of this CAPEC is: The use of cryptanalytic techniques to derive cryptographic keys or otherwise effectively defeat cellular encryption to reveal traffic content. Some cellular encryption algorithms such as A5/1 and A5/2 (specified for GSM use) are known to be vulnerable to such attacks and commercial tools are available to execute these attacks and decrypt mobile phone conversations in real-time. Newer encryption algorithms in use by UMTS and LTE are stronger and currently believed to be less vulnerable to these types of attacks. Note, however, that an attacker with a Cellular Rogue Base Station can force the use of weak cellular encryption even by newer mobile devices.. The Domain of this is: Communications\n",
      "CAPEC-386: A CAPEC with the title Application API Navigation Remapping. The description of this CAPEC is: An attacker manipulates either egress or ingress data from a client within an application framework in order to change the destination and/or content of links/buttons displayed to a user within API messages. Performing this attack allows the attacker to manipulate content in such a way as to produce messages or content that looks authentic but contains links/buttons that point to an attacker controlled destination. Some applications make navigation remapping more difficult to detect because the actual HREF values of images, profile elements, and links/buttons are masked. One example would be to place an image in a user's photo gallery that when clicked upon redirected the user to an off-site location. Also, traditional web vulnerabilities (such as CSRF) can be constructed with remapped buttons or links. In some cases navigation remapping can be used for Phishing attacks or even means to artificially boost the page view, user site reputation, or click-fraud.. The Domains of this are: Communications, Software\n",
      "CAPEC-427: A CAPEC with the title Influence via Psychological Principles. The description of this CAPEC is: The adversary shapes the target's actions or behavior by focusing on the ways human interact and learn, leveraging such elements as cognitive and social psychology. In a variety of ways, a target can be influenced to behave or perform an action through capitalizing on what scholarship and research has learned about how and why humans react to specific scenarios and cues.. The Domain of this is: Social Engineering\n",
      "CAPEC-234: A CAPEC with the title Hijacking a privileged process. The description of this CAPEC is: An adversary gains control of a process that is assigned elevated privileges in order to execute arbitrary code with those privileges. Some processes are assigned elevated privileges on an operating system, usually through association with a particular user, group, or role. If an attacker can hijack this process, they will be able to assume its level of privilege in order to execute their own code.. The Domain of this is: Software\n",
      "CAPEC-98: A CAPEC with the title Phishing. The description of this CAPEC is: Phishing is a social engineering technique where an attacker masquerades as a legitimate entity with which the victim might do business in order to prompt the user to reveal some confidential information (very frequently authentication credentials) that can later be used by an attacker. Phishing is essentially a form of information gathering or \"fishing\" for information.. The Domain of this is: Social Engineering\n",
      "CAPEC-133: A CAPEC with the title Try All Common Switches. The description of this CAPEC is: An attacker attempts to invoke all common switches and options in the target application for the purpose of discovering weaknesses in the target. For example, in some applications, adding a --debug switch causes debugging information to be displayed, which can sometimes reveal sensitive processing or configuration information to an attacker. This attack differs from other forms of API abuse in that the attacker is indiscriminately attempting to invoke options in the hope that one of them will work rather than specifically targeting a known option. Nonetheless, even if the attacker is familiar with the published options of a targeted application this attack method may still be fruitful as it might discover unpublicized functionality.. The Domain of this is: Software\n",
      "CAPEC-60: A CAPEC with the title Reusing Session IDs (aka Session Replay). The description of this CAPEC is: This attack targets the reuse of valid session ID to spoof the target system in order to gain privileges. The attacker tries to reuse a stolen session ID used previously during a transaction to perform spoofing and session hijacking. Another name for this type of attack is Session Replay.. The Domain of this is: Software\n",
      "CAPEC-320: A CAPEC with the title TCP Timestamp Probe. The description of this CAPEC is: This OS fingerprinting probe examines the remote server's implementation of TCP timestamps. Not all operating systems implement timestamps within the TCP header, but when timestamps are used then this provides the attacker with a means to guess the operating system of the target. The attacker begins by probing any active TCP service in order to get response which contains a TCP timestamp. Different Operating systems update the timestamp value using different intervals. This type of analysis is most accurate when multiple timestamp responses are received and then analyzed. TCP timestamps can be found in the TCP Options field of the TCP header.. The Domain of this is: Software\n",
      "CAPEC-267: A CAPEC with the title Leverage Alternate Encoding. The description of this CAPEC is: An adversary leverages the possibility to encode potentially harmful input or content used by applications such that the applications are ineffective at validating this encoding standard.. The Domain of this is: Software\n",
      "CAPEC-143: A CAPEC with the title Detect Unpublicized Web Pages. The description of this CAPEC is: An adversary searches a targeted web site for web pages that have not been publicized. In doing this, the adversary may be able to gain access to information that the targeted site did not intend to make public.. The Domain of this is: Software\n",
      "CAPEC-520: A CAPEC with the title Counterfeit Hardware Component Inserted During Product Assembly. The description of this CAPEC is: An adversary with either direct access to the product assembly process or to the supply of subcomponents used in the product assembly process introduces counterfeit hardware components into product assembly. The assembly containing the counterfeit components results in a system specifically designed for malicious purposes.. The Domain of this is: Supply Chain\n",
      "CAPEC-631: A CAPEC with the title SoundSquatting. The description of this CAPEC is: An adversary registers a domain name that sounds the same as a trusted domain, but has a different spelling. A SoundSquatting attack takes advantage of a user's confusion of the two words to direct Internet traffic to adversary-controlled destinations. SoundSquatting does not require an attack against the trusted domain or complicated reverse engineering.. The Domain of this is: Social Engineering\n",
      "CAPEC-578: A CAPEC with the title Disable Security Software. The description of this CAPEC is: An adversary exploits a weakness in access control to disable security tools so that detection does not occur. This can take the form of killing processes, deleting registry keys so that tools do not start at run time, deleting log files, or other methods.. The Domain of this is: Software\n",
      "CAPEC-479: A CAPEC with the title Malicious Root Certificate. The description of this CAPEC is: An adversary exploits a weakness in authorization and installs a new root certificate on a compromised system. Certificates are commonly used for establishing secure TLS/SSL communications within a web browser. When a user attempts to browse a website that presents a certificate that is not trusted an error message will be displayed to warn the user of the security risk. Depending on the security settings, the browser may not allow the user to establish a connection to the website. Adversaries have used this technique to avoid security warnings prompting users when compromised systems connect over HTTPS to adversary controlled web servers that spoof legitimate websites in order to collect login credentials.. The Domain of this is: Software\n",
      "CAPEC-55: A CAPEC with the title Rainbow Table Password Cracking. The description of this CAPEC is: An attacker gets access to the database table where hashes of passwords are stored. They then use a rainbow table of pre-computed hash chains to attempt to look up the original password. Once the original password corresponding to the hash is obtained, the attacker uses the original password to gain access to the system.. The Domain of this is: Software\n",
      "CAPEC-276: A CAPEC with the title Inter-component Protocol Manipulation. The description of this CAPEC is: Inter-component protocols are used to communicate between different software and hardware modules within a single computer. Common examples are: interrupt signals and data pipes. Subverting the protocol can allow an adversary to impersonate others, discover sensitive information, control the outcome of a session, or perform other attacks. This type of attack targets invalid assumptions that may be inherent in implementers of the protocol, incorrect implementations of the protocol, or vulnerabilities in the protocol itself.. The Domains of this are: Communications, Software\n",
      "CAPEC-508: A CAPEC with the title Shoulder Surfing. The description of this CAPEC is: In a shoulder surfing attack, an adversary observes an unaware individual's keystrokes, screen content, or conversations with the goal of obtaining sensitive information. One motive for this attack is to obtain sensitive information about the target for financial, personal, political, or other gains. From an insider threat perspective, an additional motive could be to obtain system/application credentials or cryptographic keys. Shoulder surfing attacks are accomplished by observing the content \"over the victim's shoulder\", as implied by the name of this attack.. The Domain of this is: Physical Security\n",
      "CAPEC-162: A CAPEC with the title Manipulating Hidden Fields. The description of this CAPEC is: An adversary exploits a weakness in the server's trust of client-side processing by modifying data on the client-side, such as price information, and then submitting this data to the server, which processes the modified data. For example, eShoplifting is a data manipulation attack against an on-line merchant during a purchasing transaction. The manipulation of price, discount or quantity fields in the transaction message allows the adversary to acquire items at a lower cost than the merchant intended. The adversary performs a normal purchasing transaction but edits hidden fields within the HTML form response that store price or other information to give themselves a better deal. The merchant then uses the modified pricing information in calculating the cost of the selected items.. The Domain of this is: Software\n",
      "CAPEC-457: A CAPEC with the title USB Memory Attacks. The description of this CAPEC is: An adversary loads malicious code onto a USB memory stick in order to infect any system which the device is plugged in to. USB drives present a significant security risk for business and government agencies. Given the ability to integrate wireless functionality into a USB stick, it is possible to design malware that not only steals confidential data, but sniffs the network, or monitor keystrokes, and then exfiltrates the stolen data off-site via a Wireless connection. Also, viruses can be transmitted via the USB interface without the specific use of a memory stick. The attacks from USB devices are often of such sophistication that experts conclude they are not the work of single individuals, but suggest state sponsorship. These attacks can be performed by an adversary with direct access to a target system or can be executed via means such as USB Drop Attacks.. The Domains of this are: Software, Hardware\n",
      "CAPEC-611: A CAPEC with the title BitSquatting. The description of this CAPEC is: An adversary registers a domain name one bit different than a trusted domain. A BitSquatting attack leverages random errors in memory to direct Internet traffic to adversary-controlled destinations. BitSquatting requires no exploitation or complicated reverse engineering, and is operating system and architecture agnostic. Experimental observations show that BitSquatting popular websites could redirect non-trivial amounts of Internet traffic to a malicious entity.. The Domain of this is: Social Engineering\n",
      "CAPEC-673: A CAPEC with the title Developer Signing Maliciously Altered Software. The description of this CAPEC is: \n",
      "            <xhtml:p>Software produced by a reputable developer is clandestinely infected with malicious code and then digitally signed by the unsuspecting developer, where the software has been altered via a compromised software development or build process prior to being signed. The receiver or user of the software has no reason to believe that it is anything but legitimate and proceeds to deploy it to organizational systems.</xhtml:p>\n",
      "            <xhtml:p>This attack differs from CAPEC-206, since the developer is inadvertently signing malicious code they believe to be legitimate and which they are unware of any malicious modifications.</xhtml:p>\n",
      "         . The Domains of this are: Supply Chain, Software\n",
      "CAPEC-534: A CAPEC with the title Malicious Hardware Update. The description of this CAPEC is: An adversary introduces malicious hardware during an update or replacement procedure, allowing for additional compromise or site disruption at the victim location. After deployment, it is not uncommon for upgrades and replacements to occur involving hardware and various replaceable parts. These upgrades and replacements are intended to correct defects, provide additional features, and to replace broken or worn-out parts. However, by forcing or tricking the replacement of a good component with a defective or corrupted component, an adversary can leverage known defects to obtain a desired malicious impact.. The Domains of this are: Supply Chain, Physical Security, Hardware\n",
      "CAPEC-275: A CAPEC with the title DNS Rebinding. The description of this CAPEC is: An adversary serves content whose IP address is resolved by a DNS server that the adversary controls. After initial contact by a web browser (or similar client), the adversary changes the IP address to which its name resolves, to an address within the target organization that is not publicly accessible. This allows the web browser to examine this internal address on behalf of the adversary.. The Domain of this is: Software\n",
      "CAPEC-634: A CAPEC with the title Probe Audio and Video Peripherals. The description of this CAPEC is: The adversary exploits the target system's audio and video functionalities through malware or scheduled tasks. The goal is to capture sensitive information about the target for financial, personal, political, or other gains which is accomplished by collecting communication data between two parties via the use of peripheral devices (e.g. microphones and webcams) or applications with audio and video capabilities (e.g. Skype) on a system.. The Domains of this are: Communications, Software, Software\n",
      "CAPEC-675: A CAPEC with the title Retrieve Data from Decommissioned Devices. The description of this CAPEC is: \n",
      "            <xhtml:p>An adversary obtains decommissioned, recycled, or discarded systems and devices that can include an organization’s intellectual property, employee data, and other types of controlled information. Systems and devices that have reached the end of their lifecycles may be subject to recycle or disposal where they can be exposed to adversarial attempts to retrieve information from internal memory chips and storage devices that are part of the system.</xhtml:p>\n",
      "         . The Domains of this are: Supply Chain, Software, Physical Security, Hardware\n",
      "CAPEC-702: A CAPEC with the title Exploiting Incorrect Chaining or Granularity of Hardware Debug Components. The description of this CAPEC is: \n",
      "            <xhtml:p>An adversary exploits incorrect chaining or granularity of hardware debug components in order to gain unauthorized access to debug functionality on a chip. This happens when authorization is not checked on a per function basis and is assumed for a chain or group of debug functionality.</xhtml:p>\n",
      "         . The Domains of this are: Software, Hardware\n",
      "CAPEC-474: A CAPEC with the title Signature Spoofing by Key Theft. The description of this CAPEC is: An attacker obtains an authoritative or reputable signer's private signature key by theft and then uses this key to forge signatures from the original signer to mislead a victim into performing actions that benefit the attacker.. The Domain of this is: Software\n",
      "CAPEC-16: A CAPEC with the title Dictionary-based Password Attack. The description of this CAPEC is: \n",
      "            <xhtml:p>An attacker tries each of the words in a dictionary as passwords to gain access to the system via some user's account. If the password chosen by the user was a word within the dictionary, this attack will be successful (in the absence of other mitigations). This is a specific instance of the password brute forcing attack pattern.</xhtml:p>\n",
      "            <xhtml:p>Dictionary Attacks differ from similar attacks such as Password Spraying (CAPEC-565) and Credential Stuffing (CAPEC-600), since they leverage unknown username/password combinations and don't care about inducing account lockouts.</xhtml:p>\n",
      "         . The Domain of this is: Software\n",
      "CAPEC-250: A CAPEC with the title XML Injection. The description of this CAPEC is: An attacker utilizes crafted XML user-controllable input to probe, attack, and inject data into the XML database, using techniques similar to SQL injection. The user-controllable input can allow for unauthorized viewing of data, bypassing authentication or the front-end application for direct XML database access, and possibly altering database information.. The Domain of this is: Software\n",
      "CAPEC-469: A CAPEC with the title HTTP DoS. The description of this CAPEC is: An attacker performs flooding at the HTTP level to bring down only a particular web application rather than anything listening on a TCP/IP connection. This denial of service attack requires substantially fewer packets to be sent which makes DoS harder to detect. This is an equivalent of SYN flood in HTTP. The idea is to keep the HTTP session alive indefinitely and then repeat that hundreds of times. This attack targets resource depletion weaknesses in web server software. The web server will wait to attacker's responses on the initiated HTTP sessions while the connection threads are being exhausted.. The Domain of this is: Software\n",
      "CAPEC-180: A CAPEC with the title Exploiting Incorrectly Configured Access Control Security Levels. The description of this CAPEC is: An attacker exploits a weakness in the configuration of access controls and is able to bypass the intended protection that these measures guard against and thereby obtain unauthorized access to the system or network. Sensitive functionality should always be protected with access controls. However configuring all but the most trivial access control systems can be very complicated and there are many opportunities for mistakes. If an attacker can learn of incorrectly configured access security settings, they may be able to exploit this in an attack.. The Domains of this are: Software, Hardware\n",
      "CAPEC-53: A CAPEC with the title Postfix, Null Terminate, and Backslash. The description of this CAPEC is: If a string is passed through a filter of some kind, then a terminal NULL may not be valid. Using alternate representation of NULL allows an adversary to embed the NULL mid-string while postfixing the proper data so that the filter is avoided. One example is a filter that looks for a trailing slash character. If a string insertion is possible, but the slash must exist, an alternate encoding of NULL in mid-string may be used.. The Domain of this is: Software\n",
      "CAPEC-471: A CAPEC with the title Search Order Hijacking. The description of this CAPEC is: An adversary exploits a weakness in an application's specification of external libraries to exploit the functionality of the loader where the process loading the library searches first in the same directory in which the process binary resides and then in other directories. Exploitation of this preferential search order can allow an attacker to make the loading process load the adversary's rogue library rather than the legitimate library. This attack can be leveraged with many different libraries and with many different loading processes. No forensic trails are left in the system's registry or file system that an incorrect library had been loaded.. The Domain of this is: Software\n",
      "CAPEC-647: A CAPEC with the title Collect Data from Registries. The description of this CAPEC is: An adversary exploits a weakness in authorization to gather system-specific data and sensitive information within a registry (e.g., Windows Registry, Mac plist). These contain information about the system configuration, software, operating system, and security. The adversary can leverage information gathered in order to carry out further attacks.. The Domain of this is: Software\n",
      "CAPEC-528: A CAPEC with the title XML Flood. The description of this CAPEC is: An adversary may execute a flooding attack using XML messages with the intent to deny legitimate users access to a web service. These attacks are accomplished by sending a large number of XML based requests and letting the service attempt to parse each one. In many cases this type of an attack will result in a XML Denial of Service (XDoS) due to an application becoming unstable, freezing, or crashing.. The Domain of this is: Software\n",
      "CAPEC-50: A CAPEC with the title Password Recovery Exploitation. The description of this CAPEC is: An attacker may take advantage of the application feature to help users recover their forgotten passwords in order to gain access into the system with the same privileges as the original user. Generally password recovery schemes tend to be weak and insecure.. The Domain of this is: Software\n",
      "CAPEC-273: A CAPEC with the title HTTP Response Smuggling. The description of this CAPEC is: \n",
      "            <xhtml:p>An adversary manipulates and injects malicious content in the form of secret unauthorized HTTP responses, into a single HTTP response from a vulnerable or compromised back-end HTTP agent (e.g., server).</xhtml:p>\n",
      "            <xhtml:p>See CanPrecede relationships for possible consequences.</xhtml:p>\n",
      "         . The Domains of this are: Communications, Software\n",
      "CAPEC-394: A CAPEC with the title Using a Snap Gun Lock to Force a Lock. The description of this CAPEC is: An attacker uses a Snap Gun, also known as a Pick Gun, to force the lock on a building or facility. A Pick Gun is a special type of lock picking instrument that works on similar principles as lock bumping. A snap gun is a hand-held device with an attached metal pick. The metal pick strikes the pins within the lock, transferring motion from the key pins to the driver pins and forcing the lock into momentary alignment. A standard lock is secured by a set of internal pins that prevent the device from turning. Spring loaded driver pins push down on the key pins. When the correct key is inserted, the ridges on the key push the key pins up and against the driver pins, causing correct alignment which allows the lock cylinder to rotate. A Snap Gun exploits this design by using a metal pin to strike all of the key pins at once, forcing the driver pins to shift into an unlocked position. Unlike bump keys or lock picks, a Snap Gun may damage the lock more easily, leaving evidence that the lock has been tampered with.. The Domain of this is: Physical Security\n",
      "CAPEC-550: A CAPEC with the title Install New Service. The description of this CAPEC is: When an operating system starts, it also starts programs called services or daemons. Adversaries may install a new service which will be executed at startup (on a Windows system, by modifying the registry). The service name may be disguised by using a name from a related operating system or benign software. Services are usually run with elevated privileges.. The Domain of this is: Software\n",
      "CAPEC-417: A CAPEC with the title Influence Perception. The description of this CAPEC is: The adversary uses social engineering to exploit the target's perception of the relationship between the adversary and themselves. This goal is to persuade the target to unknowingly perform an action or divulge information that is advantageous to the adversary.. The Domain of this is: Social Engineering\n",
      "CAPEC-144: A CAPEC with the title Detect Unpublicized Web Services. The description of this CAPEC is: An adversary searches a targeted web site for web services that have not been publicized. This attack can be especially dangerous since unpublished but available services may not have adequate security controls placed upon them given that an administrator may believe they are unreachable.. The Domain of this is: Software\n",
      "CAPEC-588: A CAPEC with the title DOM-Based XSS. The description of this CAPEC is: This type of attack is a form of Cross-Site Scripting (XSS) where a malicious script is inserted into the client-side HTML being parsed by a web browser. Content served by a vulnerable web application includes script code used to manipulate the Document Object Model (DOM). This script code either does not properly validate input, or does not perform proper output encoding, thus creating an opportunity for an adversary to inject a malicious script launch a XSS attack. A key distinction between other XSS attacks and DOM-based attacks is that in other XSS attacks, the malicious script runs when the vulnerable web page is initially loaded, while a DOM-based attack executes sometime after the page loads. Another distinction of DOM-based attacks is that in some cases, the malicious script is never sent to the vulnerable web server at all. An attack like this is guaranteed to bypass any server-side filtering attempts to protect users.. The Domain of this is: Software\n",
      "CAPEC-530: A CAPEC with the title Provide Counterfeit Component. The description of this CAPEC is: An attacker provides a counterfeit component during the procurement process of a lower-tier component supplier to a sub-system developer or integrator, which is then built into the system being upgraded or repaired by the victim, allowing the attacker to cause disruption or additional compromise.. The Domains of this are: Supply Chain, Physical Security, Hardware\n",
      "CAPEC-209: A CAPEC with the title XSS Using MIME Type Mismatch. The description of this CAPEC is: An adversary creates a file with scripting content but where the specified MIME type of the file is such that scripting is not expected. The adversary tricks the victim into accessing a URL that responds with the script file. Some browsers will detect that the specified MIME type of the file does not match the actual type of its content and will automatically switch to using an interpreter for the real content type. If the browser does not invoke script filters before doing this, the adversary's script may run on the target unsanitized, possibly revealing the victim's cookies or executing arbitrary script in their browser.. The Domain of this is: Software\n",
      "CAPEC-121: A CAPEC with the title Exploit Non-Production Interfaces. The description of this CAPEC is: \n",
      "            <xhtml:p>An adversary exploits a sample, demonstration, test, or debug interface that is unintentionally enabled on a production system, with the goal of gleaning information or leveraging functionality that would otherwise be unavailable.</xhtml:p>\n",
      "         . The Domains of this are: Software, Hardware\n",
      "CAPEC-139: A CAPEC with the title Relative Path Traversal. The description of this CAPEC is: An attacker exploits a weakness in input validation on the target by supplying a specially constructed path utilizing dot and slash characters for the purpose of obtaining access to arbitrary files or resources. An attacker modifies a known path on the target in order to reach material that is not available through intended channels. These attacks normally involve adding additional path separators (/ or \\) and/or dots (.), or encodings thereof, in various combinations in order to reach parent directories or entirely separate trees of the target's directory structure.. The Domain of this is: Software\n",
      "CAPEC-502: A CAPEC with the title Intent Spoof. The description of this CAPEC is: An adversary, through a previously installed malicious application, issues an intent directed toward a specific trusted application's component in an attempt to achieve a variety of different objectives including modification of data, information disclosure, and data injection. Components that have been unintentionally exported and made public are subject to this type of an attack. If the component trusts the intent's action without verififcation, then the target application performs the functionality at the adversary's request, helping the adversary achieve the desired negative technical impact.. The Domain of this is: Software\n",
      "CAPEC-268: A CAPEC with the title Audit Log Manipulation. The description of this CAPEC is: The attacker injects, manipulates, deletes, or forges malicious log entries into the log file, in an attempt to mislead an audit of the log file or cover tracks of an attack. Due to either insufficient access controls of the log files or the logging mechanism, the attacker is able to perform such actions.. The Domain of this is: Software\n",
      "CAPEC-215: A CAPEC with the title Fuzzing for application mapping. The description of this CAPEC is: An attacker sends random, malformed, or otherwise unexpected messages to a target application and observes the application's log or error messages returned. The attacker does not initially know how a target will respond to individual messages but by attempting a large number of message variants they may find a variant that trigger's desired behavior. In this attack, the purpose of the fuzzing is to observe the application's log and error messages, although fuzzing a target can also sometimes cause the target to enter an unstable state, causing a crash.. The Domains of this are: Software, Software\n",
      "CAPEC-573: A CAPEC with the title Process Footprinting. The description of this CAPEC is: An adversary exploits functionality meant to identify information about the currently running processes on the target system to an authorized user. By knowing what processes are running on the target system, the adversary can learn about the target environment as a means towards further malicious behavior.. The Domain of this is: Software\n",
      "CAPEC-610: A CAPEC with the title Cellular Data Injection. The description of this CAPEC is: Adversaries inject data into mobile technology traffic (data flows or signaling data) to disrupt communications or conduct additional surveillance operations.. The Domains of this are: Communications, Software\n",
      "CAPEC-564: A CAPEC with the title Run Software at Logon. The description of this CAPEC is: Operating system allows logon scripts to be run whenever a specific user or users logon to a system. If adversaries can access these scripts, they may insert additional code into the logon script. This code can allow them to maintain persistence or move laterally within an enclave because it is executed every time the affected user or users logon to a computer. Modifying logon scripts can effectively bypass workstation and enclave firewalls. Depending on the access configuration of the logon scripts, either local credentials or a remote administrative account may be necessary.. The Domain of this is: Software\n",
      "CAPEC-9: A CAPEC with the title Buffer Overflow in Local Command-Line Utilities. The description of this CAPEC is: This attack targets command-line utilities available in a number of shells. An adversary can leverage a vulnerability found in a command-line utility to escalate privilege to root.. The Domain of this is: Software\n",
      "CAPEC-630: A CAPEC with the title TypoSquatting. The description of this CAPEC is: An adversary registers a domain name with at least one character different than a trusted domain. A TypoSquatting attack takes advantage of instances where a user mistypes a URL (e.g. www.goggle.com) or not does visually verify a URL before clicking on it (e.g. phishing attack). As a result, the user is directed to an adversary-controlled destination. TypoSquatting does not require an attack against the trusted domain or complicated reverse engineering.. The Domain of this is: Social Engineering\n",
      "CAPEC-278: A CAPEC with the title Web Services Protocol Manipulation. The description of this CAPEC is: An adversary manipulates a web service related protocol to cause a web application or service to react differently than intended. This can either be performed through the manipulation of call parameters to include unexpected values, or by changing the called function to one that should normally be restricted or limited. By leveraging this pattern of attack, the adversary is able to gain access to data or resources normally restricted, or to cause the application or service to crash.. The Domains of this are: Communications, Software\n",
      "CAPEC-199: A CAPEC with the title XSS Using Alternate Syntax. The description of this CAPEC is: An adversary uses alternate forms of keywords or commands that result in the same action as the primary form but which may not be caught by filters. For example, many keywords are processed in a case insensitive manner. If the site's web filtering algorithm does not convert all tags into a consistent case before the comparison with forbidden keywords it is possible to bypass filters (e.g., incomplete black lists) by using an alternate case structure. For example, the \"script\" tag using the alternate forms of \"Script\" or \"ScRiPt\" may bypass filters where \"script\" is the only form tested. Other variants using different syntax representations are also possible as well as using pollution meta-characters or entities that are eventually ignored by the rendering engine. The attack can result in the execution of otherwise prohibited functionality.. The Domains of this are: Software, Software, Software\n",
      "CAPEC-105: A CAPEC with the title HTTP Request Splitting. The description of this CAPEC is: \n",
      "            <xhtml:p>An adversary abuses the flexibility and discrepancies in the parsing and interpretation of HTTP Request messages by different intermediary HTTP agents (e.g., load balancer, reverse proxy, web caching proxies, application firewalls, etc.) to split a single HTTP request into multiple unauthorized and malicious HTTP requests to a back-end HTTP agent (e.g., web server).</xhtml:p>\n",
      "            <xhtml:p>See CanPrecede relationships for possible consequences.</xhtml:p>\n",
      "         . The Domains of this are: Communications, Software\n",
      "CAPEC-222: A CAPEC with the title iFrame Overlay. The description of this CAPEC is: In an iFrame overlay attack the victim is tricked into unknowingly initiating some action in one system while interacting with the UI from seemingly completely different system.. The Domain of this is: Software\n",
      "CAPEC-614: A CAPEC with the title Rooting SIM Cards. The description of this CAPEC is: SIM cards are the de facto trust anchor of mobile devices worldwide. The cards protect the mobile identity of subscribers, associate devices with phone numbers, and increasingly store payment credentials, for example in NFC-enabled phones with mobile wallets. This attack leverages over-the-air (OTA) updates deployed via cryptographically-secured SMS messages to deliver executable code to the SIM. By cracking the DES key, an attacker can send properly signed binary SMS messages to a device, which are treated as Java applets and are executed on the SIM. These applets are allowed to send SMS, change voicemail numbers, and query the phone location, among many other predefined functions. These capabilities alone provide plenty of potential for abuse.. The Domain of this is: Software\n",
      "CAPEC-6: A CAPEC with the title Argument Injection. The description of this CAPEC is: An attacker changes the behavior or state of a targeted application through injecting data or command syntax through the targets use of non-validated and non-filtered arguments of exposed services or methods.. The Domain of this is: Software\n",
      "CAPEC-650: A CAPEC with the title Upload a Web Shell to a Web Server. The description of this CAPEC is: By exploiting insufficient permissions, it is possible to upload a web shell to a web server in such a way that it can be executed remotely. This shell can have various capabilities, thereby acting as a \"gateway\" to the underlying web server. The shell might execute at the higher permission level of the web server, providing the ability the execute malicious code at elevated levels.. The Domain of this is: Software\n",
      "CAPEC-34: A CAPEC with the title HTTP Response Splitting. The description of this CAPEC is: \n",
      "            <xhtml:p>An adversary manipulates and injects malicious content, in the form of secret unauthorized HTTP responses, into a single HTTP response from a vulnerable or compromised back-end HTTP agent (e.g., web server) or into an already spoofed HTTP response from an adversary controlled domain/site.</xhtml:p>\n",
      "            <xhtml:p>See CanPrecede relationships for possible consequences.</xhtml:p>\n",
      "         . The Domains of this are: Communications, Software\n",
      "CAPEC-604: A CAPEC with the title Wi-Fi Jamming. The description of this CAPEC is: In this attack scenario, the attacker actively transmits on the Wi-Fi channel to prevent users from transmitting or receiving data from the targeted Wi-Fi network. There are several known techniques to perform this attack – for example: the attacker may flood the Wi-Fi access point (e.g. the retransmission device) with deauthentication frames. Another method is to transmit high levels of noise on the RF band used by the Wi-Fi network.. The Domain of this is: Communications\n",
      "CAPEC-486: A CAPEC with the title UDP Flood. The description of this CAPEC is: An adversary may execute a flooding attack using the UDP protocol with the intent to deny legitimate users access to a service by consuming the available network bandwidth. Additionally, firewalls often open a port for each UDP connection destined for a service with an open UDP port, meaning the firewalls in essence save the connection state thus the high packet nature of a UDP flood can also overwhelm resources allocated to the firewall. UDP attacks can also target services like DNS or VoIP which utilize these protocols. Additionally, due to the session-less nature of the UDP protocol, the source of a packet is easily spoofed making it difficult to find the source of the attack.. The Domains of this are: Communications, Software\n",
      "CAPEC-429: A CAPEC with the title Target Influence via Eye Cues. The description of this CAPEC is: The adversary gains information via non-verbal means from the target through eye movements.. The Domain of this is: Social Engineering\n",
      "CAPEC-615: A CAPEC with the title Evil Twin Wi-Fi Attack. The description of this CAPEC is: Adversaries install Wi-Fi equipment that acts as a legitimate Wi-Fi network access point. When a device connects to this access point, Wi-Fi data traffic is intercepted, captured, and analyzed. This also allows the adversary to use \"adversary-in-the-middle\" (CAPEC-94) for all communications.. The Domains of this are: Communications, Software, Hardware\n",
      "CAPEC-263: A CAPEC with the title Force Use of Corrupted Files. The description of this CAPEC is: This describes an attack where an application is forced to use a file that an attacker has corrupted. The result is often a denial of service caused by the application being unable to process the corrupted file, but other results, including the disabling of filters or access controls (if the application fails in an unsafe way rather than failing by locking down) or buffer overflows are possible.. The Domain of this is: Software\n",
      "CAPEC-148: A CAPEC with the title Content Spoofing. The description of this CAPEC is: An adversary modifies content to make it contain something other than what the original content producer intended while keeping the apparent source of the content unchanged. The term content spoofing is most often used to describe modification of web pages hosted by a target to display the adversary's content instead of the owner's content. However, any content can be spoofed, including the content of email messages, file transfers, or the content of other network communication protocols. Content can be modified at the source (e.g. modifying the source file for a web page) or in transit (e.g. intercepting and modifying a message between the sender and recipient). Usually, the adversary will attempt to hide the fact that the content has been modified, but in some cases, such as with web site defacement, this is not necessary. Content Spoofing can lead to malware exposure, financial fraud (if the content governs financial transactions), privacy violations, and other unwanted outcomes.. The Domains of this are: Communications, Software, Hardware\n",
      "CAPEC-299: A CAPEC with the title TCP SYN Ping. The description of this CAPEC is: An adversary uses TCP SYN packets as a means towards host discovery. Typical RFC 793 behavior specifies that when a TCP port is open, a host must respond to an incoming SYN \"synchronize\" packet by completing stage two of the 'three-way handshake' - by sending an SYN/ACK in response. When a port is closed, RFC 793 behavior is to respond with a RST \"reset\" packet. This behavior can be used to 'ping' a target to see if it is alive by sending a TCP SYN packet to a port and then looking for a RST or an ACK packet in response.. The Domain of this is: Software\n",
      "CAPEC-117: A CAPEC with the title Interception. The description of this CAPEC is: An adversary monitors data streams to or from the target for information gathering purposes. This attack may be undertaken to solely gather sensitive information or to support a further attack against the target. This attack pattern can involve sniffing network traffic as well as other types of data streams (e.g. radio). The adversary can attempt to initiate the establishment of a data stream or passively observe the communications as they unfold. In all variants of this attack, the adversary is not the intended recipient of the data stream. In contrast to other means of gathering information (e.g., targeting data leaks), the adversary must actively position themself so as to observe explicit data channels (e.g. network traffic) and read the content. However, this attack differs from a Adversary-In-the-Middle (CAPEC-94) attack, as the adversary does not alter the content of the communications nor forward data to the intended recipient.. The Domains of this are: Communications, Software, Physical Security\n",
      "CAPEC-157: A CAPEC with the title Sniffing Attacks. The description of this CAPEC is: In this attack pattern, the adversary intercepts information transmitted between two third parties. The adversary must be able to observe, read, and/or hear the communication traffic, but not necessarily block the communication or change its content. Any transmission medium can theoretically be sniffed if the adversary can examine the contents between the sender and recipient. Sniffing Attacks are similar to Adversary-In-The-Middle attacks (CAPEC-94), but are entirely passive. AiTM attacks are predominantly active and often alter the content of the communications themselves.. The Domains of this are: Communications, Software\n",
      "CAPEC-149: A CAPEC with the title Explore for Predictable Temporary File Names. The description of this CAPEC is: An attacker explores a target to identify the names and locations of predictable temporary files for the purpose of launching further attacks against the target. This involves analyzing naming conventions and storage locations of the temporary files created by a target application. If an attacker can predict the names of temporary files they can use this information to mount other attacks, such as information gathering and symlink attacks.. The Domain of this is: Software\n",
      "CAPEC-536: A CAPEC with the title Data Injected During Configuration. The description of this CAPEC is: An attacker with access to data files and processes on a victim's system injects malicious data into critical operational data during configuration or recalibration, causing the victim's system to perform in a suboptimal manner that benefits the adversary.. The Domains of this are: Supply Chain, Software\n",
      "CAPEC-633: A CAPEC with the title Token Impersonation. The description of this CAPEC is: An adversary exploits a weakness in authentication to create an access token (or equivalent) that impersonates a different entity, and then associates a process/thread to that that impersonated token. This action causes a downstream user to make a decision or take action that is based on the assumed identity, and not the response that blocks the adversary.. The Domains of this are: Software, Hardware\n",
      "CAPEC-641: A CAPEC with the title DLL Side-Loading. The description of this CAPEC is: An adversary places a malicious version of a Dynamic-Link Library (DLL) in the Windows Side-by-Side (WinSxS) directory to trick the operating system into loading this malicious DLL instead of a legitimate DLL. Programs specify the location of the DLLs to load via the use of WinSxS manifests or DLL redirection and if they aren't used then Windows searches in a predefined set of directories to locate the file. If the applications improperly specify a required DLL or WinSxS manifests aren't explicit about the characteristics of the DLL to be loaded, they can be vulnerable to side-loading.. The Domain of this is: Software\n",
      "CAPEC-539: A CAPEC with the title ASIC With Malicious Functionality. The description of this CAPEC is: An attacker with access to the development environment process of an application-specific integrated circuit (ASIC) for a victim system being developed or maintained after initial deployment can insert malicious functionality into the system for the purpose of disruption or further compromise.. The Domains of this are: Supply Chain, Hardware\n",
      "CAPEC-88: A CAPEC with the title OS Command Injection. The description of this CAPEC is: In this type of an attack, an adversary injects operating system commands into existing application functions. An application that uses untrusted input to build command strings is vulnerable. An adversary can leverage OS command injection in an application to elevate privileges, execute arbitrary commands and compromise the underlying operating system.. The Domain of this is: Software\n",
      "CAPEC-493: A CAPEC with the title SOAP Array Blowup. The description of this CAPEC is: An adversary may execute an attack on a web service that uses SOAP messages in communication. By sending a very large SOAP array declaration to the web service, the attacker forces the web service to allocate space for the array elements before they are parsed by the XML parser. The attacker message is typically small in size containing a large array declaration of say 1,000,000 elements and a couple of array elements. This attack targets exhaustion of the memory resources of the web service.. The Domain of this is: Software\n",
      "CAPEC-233: A CAPEC with the title Privilege Escalation. The description of this CAPEC is: An adversary exploits a weakness enabling them to elevate their privilege and perform an action that they are not supposed to be authorized to perform.. The Domains of this are: Software, Hardware\n",
      "CAPEC-327: A CAPEC with the title TCP Options Probe. The description of this CAPEC is: This OS fingerprinting probe analyzes the type and order of any TCP header options present within a response segment. Most operating systems use unique ordering and different option sets when options are present. RFC 793 does not specify a required order when options are present, so different implementations use unique ways of ordering or structuring TCP options. TCP options can be generated by ordinary TCP traffic.. The Domain of this is: Software\n",
      "CAPEC-503: A CAPEC with the title WebView Exposure. The description of this CAPEC is: An adversary, through a malicious web page, accesses application specific functionality by leveraging interfaces registered through WebView's addJavascriptInterface API. Once an interface is registered to WebView through addJavascriptInterface, it becomes global and all pages loaded in the WebView can call this interface.. The Domain of this is: Software\n",
      "CAPEC-61: A CAPEC with the title Session Fixation. The description of this CAPEC is: The attacker induces a client to establish a session with the target software using a session identifier provided by the attacker. Once the user successfully authenticates to the target software, the attacker uses the (now privileged) session identifier in their own transactions. This attack leverages the fact that the target software either relies on client-generated session identifiers or maintains the same session identifiers after privilege elevation.. The Domain of this is: Software\n",
      "CAPEC-434: A CAPEC with the title Target Influence via Interview and Interrogation. The description of this CAPEC is: . The Domain of this is: Social Engineering\n",
      "CAPEC-204: A CAPEC with the title Lifting Sensitive Data Embedded in Cache. The description of this CAPEC is: An adversary examines a target application's cache, or a browser cache, for sensitive information. Many applications that communicate with remote entities or which perform intensive calculations utilize caches to improve efficiency. However, if the application computes or receives sensitive information and the cache is not appropriately protected, an attacker can browse the cache and retrieve this information. This can result in the disclosure of sensitive information.. The Domains of this are: Software, Physical Security, Hardware\n",
      "CAPEC-666: A CAPEC with the title BlueSmacking. The description of this CAPEC is: An adversary uses Bluetooth flooding to transfer large packets to Bluetooth enabled devices over the L2CAP protocol with the goal of creating a DoS. This attack must be carried out within close proximity to a Bluetooth enabled device.. The Domains of this are: Communications, Software\n",
      "CAPEC-14: A CAPEC with the title Client-side Injection-induced Buffer Overflow. The description of this CAPEC is: This type of attack exploits a buffer overflow vulnerability in targeted client software through injection of malicious content from a custom-built hostile service. This hostile service is created to deliver the correct content to the client software. For example, if the client-side application is a browser, the service will host a webpage that the browser loads.. The Domain of this is: Software\n",
      "CAPEC-326: A CAPEC with the title TCP Initial Window Size Probe. The description of this CAPEC is: This OS fingerprinting probe checks the initial TCP Window size. TCP stacks limit the range of sequence numbers allowable within a session to maintain the \"connected\" state within TCP protocol logic. The initial window size specifies a range of acceptable sequence numbers that will qualify as a response to an ACK packet within a session. Various operating systems use different Initial window sizes. The initial window size can be sampled by establishing an ordinary TCP connection.. The Domain of this is: Software\n",
      "CAPEC-632: A CAPEC with the title Homograph Attack via Homoglyphs. The description of this CAPEC is: An adversary registers a domain name containing a homoglyph, leading the registered domain to appear the same as a trusted domain. A homograph attack leverages the fact that different characters among various character sets look the same to the user. Homograph attacks must generally be combined with other attacks, such as phishing attacks, in order to direct Internet traffic to the adversary-controlled destinations.. The Domain of this is: Social Engineering\n",
      "CAPEC-467: A CAPEC with the title Cross Site Identification. The description of this CAPEC is: An attacker harvests identifying information about a victim via an active session that the victim's browser has with a social networking site. A victim may have the social networking site open in one tab or perhaps is simply using the \"remember me\" feature to keep their session with the social networking site active. An attacker induces a payload to execute in the victim's browser that transparently to the victim initiates a request to the social networking site (e.g., via available social network site APIs) to retrieve identifying information about a victim. While some of this information may be public, the attacker is able to harvest this information in context and may use it for further attacks on the user (e.g., spear phishing).. The Domain of this is: Software\n",
      "CAPEC-26: A CAPEC with the title Leveraging Race Conditions. The description of this CAPEC is: The adversary targets a race condition occurring when multiple processes access and manipulate the same resource concurrently, and the outcome of the execution depends on the particular order in which the access takes place. The adversary can leverage a race condition by \"running the race\", modifying the resource and modifying the normal execution flow. For instance, a race condition can occur while accessing a file: the adversary can trick the system by replacing the original file with their version and cause the system to read the malicious file.. The Domains of this are: Software, Hardware\n",
      "CAPEC-212: A CAPEC with the title Functionality Misuse. The description of this CAPEC is: An adversary leverages a legitimate capability of an application in such a way as to achieve a negative technical impact. The system functionality is not altered or modified but used in a way that was not intended. This is often accomplished through the overuse of a specific functionality or by leveraging functionality with design flaws that enables the adversary to gain access to unauthorized, sensitive data.. The Domains of this are: Software, Hardware\n",
      "CAPEC-244: A CAPEC with the title XSS Targeting URI Placeholders. The description of this CAPEC is: An attack of this type exploits the ability of most browsers to interpret \"data\", \"javascript\" or other URI schemes as client-side executable content placeholders. This attack consists of passing a malicious URI in an anchor tag HREF attribute or any other similar attributes in other HTML tags. Such malicious URI contains, for example, a base64 encoded HTML content with an embedded cross-site scripting payload. The attack is executed when the browser interprets the malicious content i.e., for example, when the victim clicks on the malicious link.. The Domains of this are: Software, Software, Software\n",
      "CAPEC-609: A CAPEC with the title Cellular Traffic Intercept. The description of this CAPEC is: Cellular traffic for voice and data from mobile devices and retransmission devices can be intercepted via numerous methods. Malicious actors can deploy their own cellular tower equipment and intercept cellular traffic surreptitiously. Additionally, government agencies of adversaries and malicious actors can intercept cellular traffic via the telecommunications backbone over which mobile traffic is transmitted.. The Domain of this is: Communications\n",
      "CAPEC-270: A CAPEC with the title Modification of Registry Run Keys. The description of this CAPEC is: An adversary adds a new entry to the \"run keys\" in the Windows registry so that an application of their choosing is executed when a user logs in. In this way, the adversary can get their executable to operate and run on the target system with the authorized user's level of permissions. This attack is a good way for an adversary to run persistent spyware on a user's machine, such as a keylogger.. The Domain of this is: Software\n",
      "CAPEC-700: A CAPEC with the title Network Boundary Bridging. The description of this CAPEC is: An adversary which has gained elevated access to network boundary devices may use these devices to create a channel to bridge trusted and untrusted networks. Boundary devices do not necessarily have to be on the network’s edge, but rather must serve to segment portions of the target network the adversary wishes to cross into.. The Domains of this are: Communications, Software, Hardware\n",
      "CAPEC-581: A CAPEC with the title Security Software Footprinting. The description of this CAPEC is: Adversaries may attempt to get a listing of security tools that are installed on the system and their configurations. This may include security related system features (such as a built-in firewall or anti-spyware) as well as third-party security software.. The Domain of this is: Software\n",
      "CAPEC-697: A CAPEC with the title DHCP Spoofing. The description of this CAPEC is: \n",
      "            <xhtml:p>An adversary masquerades as a legitimate Dynamic Host Configuration Protocol (DHCP) server by spoofing DHCP traffic, with the goal of redirecting network traffic or denying service to DHCP.</xhtml:p>\n",
      "         . The Domains of this are: Social Engineering, Software, Hardware\n",
      "CAPEC-399: A CAPEC with the title Cloning RFID Cards or Chips. The description of this CAPEC is: An attacker analyzes data returned by an RFID chip and uses this information to duplicate a RFID signal that responds identically to the target chip. In some cases RFID chips are used for building access control, employee identification, or as markers on products being delivered along a supply chain. Some organizations also embed RFID tags inside computer assets to trigger alarms if they are removed from particular rooms, zones, or buildings. Similar to Magnetic strip cards, RFID cards are susceptible to duplication (cloning) and reuse.. The Domain of this is: Physical Security\n",
      "CAPEC-538: A CAPEC with the title Open-Source Library Manipulation. The description of this CAPEC is: Adversaries implant malicious code in open source software (OSS) libraries to have it widely distributed, as OSS is commonly downloaded by developers and other users to incorporate into software development projects. The adversary can have a particular system in mind to target, or the implantation can be the first stage of follow-on attacks on many systems.. The Domain of this is: Software\n",
      "CAPEC-69: A CAPEC with the title Target Programs with Elevated Privileges. The description of this CAPEC is: This attack targets programs running with elevated privileges. The adversary tries to leverage a vulnerability in the running program and get arbitrary code to execute with elevated privileges.. The Domain of this is: Software\n",
      "CAPEC-135: A CAPEC with the title Format String Injection. The description of this CAPEC is: An adversary includes formatting characters in a string input field on the target application. Most applications assume that users will provide static text and may respond unpredictably to the presence of formatting character. For example, in certain functions of the C programming languages such as printf, the formatting character %s will print the contents of a memory location expecting this location to identify a string and the formatting character %n prints the number of DWORD written in the memory. An adversary can use this to read or write to memory locations or files, or simply to manipulate the value of the resulting text in unexpected ways. Reading or writing memory may result in program crashes and writing memory could result in the execution of arbitrary code if the adversary can write to the program stack.. The Domain of this is: Software\n",
      "CAPEC-655: A CAPEC with the title Avoid Security Tool Identification by Adding Data. The description of this CAPEC is: \n",
      "            <xhtml:p>An adversary adds data to a file to increase the file size beyond what security tools are capable of handling in an attempt to mask their actions.</xhtml:p>\n",
      "            <xhtml:p>In addition to this, adding data to a file also changes the file's hash, frustrating security tools that look for known bad files by their hash.</xhtml:p>\n",
      "         . The Domain of this is: Software\n",
      "CAPEC-556: A CAPEC with the title Replace File Extension Handlers. The description of this CAPEC is: When a file is opened, its file handler is checked to determine which program opens the file. File handlers are configuration properties of many operating systems. Applications can modify the file handler for a given file extension to call an arbitrary program when a file with the given extension is opened.. The Domain of this is: Software\n",
      "CAPEC-321: A CAPEC with the title TCP Sequence Number Probe. The description of this CAPEC is: This OS fingerprinting probe tests the target system's assignment of TCP sequence numbers. One common way to test TCP Sequence Number generation is to send a probe packet to an open port on the target and then compare the how the Sequence Number generated by the target relates to the Acknowledgement Number in the probe packet. Different operating systems assign Sequence Numbers differently, so a fingerprint of the operating system can be obtained by categorizing the relationship between the acknowledgement number and sequence number as follows: 1) the Sequence Number generated by the target is Zero, 2) the Sequence Number generated by the target is the same as the acknowledgement number in the probe, 3) the Sequence Number generated by the target is the acknowledgement number plus one, or 4) the Sequence Number is any other non-zero number.. The Domain of this is: Software\n",
      "CAPEC-535: A CAPEC with the title Malicious Gray Market Hardware. The description of this CAPEC is: An attacker maliciously alters hardware components that will be sold on the gray market, allowing for victim disruption and compromise when the victim needs replacement hardware components for systems where the parts are no longer in regular supply from original suppliers, or where the hardware components from the attacker seems to be a great benefit from a cost perspective.. The Domains of this are: Supply Chain, Physical Security, Hardware\n",
      "CAPEC-31: A CAPEC with the title Accessing/Intercepting/Modifying HTTP Cookies. The description of this CAPEC is: This attack relies on the use of HTTP Cookies to store credentials, state information and other critical data on client systems. There are several different forms of this attack. The first form of this attack involves accessing HTTP Cookies to mine for potentially sensitive data contained therein. The second form involves intercepting this data as it is transmitted from client to server. This intercepted information is then used by the adversary to impersonate the remote user/session. The third form is when the cookie's content is modified by the adversary before it is sent back to the server. Here the adversary seeks to convince the target server to operate on this falsified information.. The Domain of this is: Software\n",
      "CAPEC-137: A CAPEC with the title Parameter Injection. The description of this CAPEC is: An adversary manipulates the content of request parameters for the purpose of undermining the security of the target. Some parameter encodings use text characters as separators. For example, parameters in a HTTP GET message are encoded as name-value pairs separated by an ampersand (&). If an attacker can supply text strings that are used to fill in these parameters, then they can inject special characters used in the encoding scheme to add or modify parameters. For example, if user input is fed directly into an HTTP GET request and the user provides the value \"myInput&new_param=myValue\", then the input parameter is set to myInput, but a new parameter (new_param) is also added with a value of myValue. This can significantly change the meaning of the query that is processed by the server. Any encoding scheme where parameters are identified and separated by text characters is potentially vulnerable to this attack - the HTTP GET encoding used above is just one example.. The Domains of this are: Social Engineering, Software\n",
      "CAPEC-261: A CAPEC with the title Fuzzing for garnering other adjacent user/sensitive data. The description of this CAPEC is: An adversary who is authorized to send queries to a target sends variants of expected queries in the hope that these modified queries might return information (directly or indirectly through error logs) beyond what the expected set of queries should provide.. The Domain of this is: Software\n",
      "CAPEC-154: A CAPEC with the title Resource Location Spoofing. The description of this CAPEC is: An adversary deceives an application or user and convinces them to request a resource from an unintended location. By spoofing the location, the adversary can cause an alternate resource to be used, often one that the adversary controls and can be used to help them achieve their malicious goals.. The Domains of this are: Social Engineering, Supply Chain, Communications, Software, Hardware\n",
      "CAPEC-447: A CAPEC with the title Design Alteration. The description of this CAPEC is: An adversary modifies the design of a technology, product, or component to acheive a negative impact once the system is deployed. In this type of attack, the goal of the adversary is to modify the design of the system, prior to development starting, in such a way that the negative impact can be leveraged when the system is later deployed. Design alteration attacks differ from development alteration attacks in that design alteration attacks take place prior to development and which then may or may not be developed by the adverary. Design alteration attacks include modifying system designs to degrade system performance, cause unexpected states or errors, and general design changes that may lead to additional vulnerabilities. These attacks generally require insider access to modify design documents, but they may also be spoofed via web communications. The product is then developed and delivered to the user where the negative impact can be leveraged at a later time.. The Domains of this are: Supply Chain, Hardware\n",
      "CAPEC-678: A CAPEC with the title System Build Data Maliciously Altered. The description of this CAPEC is: \n",
      "            <xhtml:p>During the system build process, the system is deliberately misconfigured by the alteration of the build data. Access to system configuration data files and build processes is susceptible to deliberate misconfiguration of the system.</xhtml:p>\n",
      "         . The Domains of this are: Supply Chain, Software, Hardware\n",
      "CAPEC-319: A CAPEC with the title IP (DF) 'Don't Fragment Bit' Echoing Probe. The description of this CAPEC is: This OS fingerprinting probe tests to determine if the remote host echoes back the IP 'DF' (Don't Fragment) bit in a response packet. An attacker sends a UDP datagram with the DF bit set to a closed port on the remote host to observe whether the 'DF' bit is set in the response packet. Some operating systems will echo the bit in the ICMP error message while others will zero out the bit in the response packet.. The Domain of this is: Software\n",
      "CAPEC-36: A CAPEC with the title Using Unpublished Interfaces or Functionality. The description of this CAPEC is: An adversary searches for and invokes interfaces or functionality that the target system designers did not intend to be publicly available. If interfaces fail to authenticate requests, the attacker may be able to invoke functionality they are not authorized for.. The Domains of this are: Software, Hardware\n",
      "CAPEC-159: A CAPEC with the title Redirect Access to Libraries. The description of this CAPEC is: An adversary exploits a weakness in the way an application searches for external libraries to manipulate the execution flow to point to an adversary supplied library or code base. This pattern of attack allows the adversary to compromise the application or server via the execution of unauthorized code. An application typically makes calls to functions that are a part of libraries external to the application. These libraries may be part of the operating system or they may be third party libraries. If an adversary can redirect an application's attempts to access these libraries to other libraries that the adversary supplies, the adversary will be able to force the targeted application to execute arbitrary code. This is especially dangerous if the targeted application has enhanced privileges. Access can be redirected through a number of techniques, including the use of symbolic links, search path modification, and relative path manipulation.. The Domain of this is: Software\n",
      "CAPEC-167: A CAPEC with the title White Box Reverse Engineering. The description of this CAPEC is: An attacker discovers the structure, function, and composition of a type of computer software through white box analysis techniques. White box techniques involve methods which can be applied to a piece of software when an executable or some other compiled object can be directly subjected to analysis, revealing at least a portion of its machine instructions that can be observed upon execution.. The Domains of this are: Software, Physical Security, Hardware\n",
      "CAPEC-44: A CAPEC with the title Overflow Binary Resource File. The description of this CAPEC is: An attack of this type exploits a buffer overflow vulnerability in the handling of binary resources. Binary resources may include music files like MP3, image files like JPEG files, and any other binary file. These attacks may pass unnoticed to the client machine through normal usage of files, such as a browser loading a seemingly innocent JPEG file. This can allow the adversary access to the execution stack and execute arbitrary code in the target process.. The Domains of this are: Software, Software\n",
      "CAPEC-488: A CAPEC with the title HTTP Flood. The description of this CAPEC is: An adversary may execute a flooding attack using the HTTP protocol with the intent to deny legitimate users access to a service by consuming resources at the application layer such as web services and their infrastructure. These attacks use legitimate session-based HTTP GET requests designed to consume large amounts of a server's resources. Since these are legitimate sessions this attack is very difficult to detect.. The Domains of this are: Communications, Software\n",
      "CAPEC-612: A CAPEC with the title WiFi MAC Address Tracking. The description of this CAPEC is: In this attack scenario, the attacker passively listens for WiFi messages and logs the associated Media Access Control (MAC) addresses. These addresses are intended to be unique to each wireless device (although they can be configured and changed by software). Once the attacker is able to associate a MAC address with a particular user or set of users (for example, when attending a public event), the attacker can then scan for that MAC address to track that user in the future.. The Domains of this are: Communications, Software\n",
      "CAPEC-252: A CAPEC with the title PHP Local File Inclusion. The description of this CAPEC is: The attacker loads and executes an arbitrary local PHP file on a target machine. The attacker could use this to try to load old versions of PHP files that have known vulnerabilities, to load PHP files that the attacker placed on the local machine during a prior attack, or to otherwise change the functionality of the targeted application in unexpected ways.. The Domain of this is: Software\n",
      "CAPEC-24: A CAPEC with the title Filter Failure through Buffer Overflow. The description of this CAPEC is: In this attack, the idea is to cause an active filter to fail by causing an oversized transaction. An attacker may try to feed overly long input strings to the program in an attempt to overwhelm the filter (by causing a buffer overflow) and hoping that the filter does not fail securely (i.e. the user input is let into the system unfiltered).. The Domain of this is: Software\n",
      "CAPEC-124: A CAPEC with the title Shared Resource Manipulation. The description of this CAPEC is: An adversary exploits a resource shared between multiple applications, an application pool or hardware pin multiplexing to affect behavior. Resources may be shared between multiple applications or between multiple threads of a single application. Resource sharing is usually accomplished through mutual access to a single memory location or multiplexed hardware pins. If an adversary can manipulate this shared resource (usually by co-opting one of the applications or threads) the other applications or threads using the shared resource will often continue to trust the validity of the compromised shared resource and use it in their calculations. This can result in invalid trust assumptions, corruption of additional data through the normal operations of the other users of the shared resource, or even cause a crash or compromise of the sharing applications.. The Domains of this are: Software, Hardware\n",
      "CAPEC-292: A CAPEC with the title Host Discovery. The description of this CAPEC is: An adversary sends a probe to an IP address to determine if the host is alive. Host discovery is one of the earliest phases of network reconnaissance. The adversary usually starts with a range of IP addresses belonging to a target network and uses various methods to determine if a host is present at that IP address. Host discovery is usually referred to as 'Ping' scanning using a sonar analogy. The goal is to send a packet through to the IP address and solicit a response from the host. As such, a 'ping' can be virtually any crafted packet whatsoever, provided the adversary can identify a functional host based on its response. An attack of this nature is usually carried out with a 'ping sweep,' where a particular kind of ping is sent to a range of IP addresses.. The Domains of this are: Communications, Software\n",
      "CAPEC-33: A CAPEC with the title HTTP Request Smuggling. The description of this CAPEC is: \n",
      "            <xhtml:p>An adversary abuses the flexibility and discrepancies in the parsing and interpretation of HTTP Request messages using various HTTP headers, request-line and body parameters as well as message sizes (denoted by the end of message signaled by a given HTTP header) by different intermediary HTTP agents (e.g., load balancer, reverse proxy, web caching proxies, application firewalls, etc.) to secretly send unauthorized and malicious HTTP requests to a back-end HTTP agent (e.g., web server).</xhtml:p>\n",
      "            <xhtml:p>See CanPrecede relationships for possible consequences.</xhtml:p>\n",
      "         . The Domains of this are: Communications, Software\n",
      "CAPEC-72: A CAPEC with the title URL Encoding. The description of this CAPEC is: This attack targets the encoding of the URL. An adversary can take advantage of the multiple way of encoding an URL and abuse the interpretation of the URL.. The Domain of this is: Software\n",
      "CAPEC-424: A CAPEC with the title Influence Perception of Consensus or Social Proof. The description of this CAPEC is: The adversary influences the target's actions by leveraging the inherent human nature to assume behavior of others is appropriate. In situations of uncertainty, people tend to behave in ways they see others behaving. The adversary convinces the target of adopting behavior or actions that is advantageous to the adversary.. The Domain of this is: Social Engineering\n",
      "CAPEC-619: A CAPEC with the title Signal Strength Tracking. The description of this CAPEC is: In this attack scenario, the attacker passively monitors the signal strength of the target’s cellular RF signal or WiFi RF signal and uses the strength of the signal (with directional antennas and/or from multiple listening points at once) to identify the source location of the signal. Obtaining the signal of the target can be accomplished through multiple techniques such as through Cellular Broadcast Message Request or through the use of IMSI Tracking or WiFi MAC Address Tracking.. The Domains of this are: Communications, Software\n",
      "CAPEC-558: A CAPEC with the title Replace Trusted Executable. The description of this CAPEC is: An adversary exploits weaknesses in privilege management or access control to replace a trusted executable with a malicious version and enable the execution of malware when that trusted executable is called.. The Domain of this is: Software\n",
      "CAPEC-473: A CAPEC with the title Signature Spoof. The description of this CAPEC is: An attacker generates a message or datablock that causes the recipient to believe that the message or datablock was generated and cryptographically signed by an authoritative or reputable source, misleading a victim or victim operating system into performing malicious actions.. The Domain of this is: Software\n",
      "CAPEC-331: A CAPEC with the title ICMP IP Total Length Field Probe. The description of this CAPEC is: An adversary sends a UDP packet to a closed port on the target machine to solicit an IP Header's total length field value within the echoed 'Port Unreachable\" error message. This type of behavior is useful for building a signature-base of operating system responses, particularly when error messages contain other types of information that is useful identifying specific operating system responses.. The Domain of this is: Software\n",
      "CAPEC-201: A CAPEC with the title Serialized Data External Linking. The description of this CAPEC is: An adversary creates a serialized data file (e.g. XML, YAML, etc...) that contains an external data reference. Because serialized data parsers may not validate documents with external references, there may be no checks on the nature of the reference in the external data. This can allow an adversary to open arbitrary files or connections, which may further lead to the adversary gaining access to information on the system that they would normally be unable to obtain.. The Domains of this are: Software, Communications, Software\n",
      "CAPEC-12: A CAPEC with the title Choosing Message Identifier. The description of this CAPEC is: This pattern of attack is defined by the selection of messages distributed via multicast or public information channels that are intended for another client by determining the parameter value assigned to that client. This attack allows the adversary to gain access to potentially privileged information, and to possibly perpetrate other attacks through the distribution means by impersonation. If the channel/message being manipulated is an input rather than output mechanism for the system, (such as a command bus), this style of attack could be used to change the adversary's identifier to more a privileged one.. The Domain of this is: Communications\n",
      "CAPEC-229: A CAPEC with the title Serialized Data Parameter Blowup. The description of this CAPEC is: This attack exploits certain serialized data parsers (e.g., XML, YAML, etc.) which manage data in an inefficient manner. The attacker crafts an serialized data file with multiple configuration parameters in the same dataset. In a vulnerable parser, this results in a denial of service condition where CPU resources are exhausted because of the parsing algorithm. The weakness being exploited is tied to parser implementation and not language specific.. The Domain of this is: Software\n",
      "CAPEC-3: A CAPEC with the title Using Leading 'Ghost' Character Sequences to Bypass Input Filters. The description of this CAPEC is: Some APIs will strip certain leading characters from a string of parameters. An adversary can intentionally introduce leading \"ghost\" characters (extra characters that don't affect the validity of the request at the API layer) that enable the input to pass the filters and therefore process the adversary's input. This occurs when the targeted API will accept input data in several syntactic forms and interpret it in the equivalent semantic way, while the filter does not take into account the full spectrum of the syntactic forms acceptable to the targeted API.. The Domain of this is: Software\n",
      "CAPEC-456: A CAPEC with the title Infected Memory. The description of this CAPEC is: An adversary inserts malicious logic into memory enabling them to achieve a negative impact. This logic is often hidden from the user of the system and works behind the scenes to achieve negative impacts. This pattern of attack focuses on systems already fielded and used in operation as opposed to systems that are still under development and part of the supply chain.. The Domains of this are: Software, Hardware\n",
      "CAPEC-492: A CAPEC with the title Regular Expression Exponential Blowup. The description of this CAPEC is: An adversary may execute an attack on a program that uses a poor Regular Expression(Regex) implementation by choosing input that results in an extreme situation for the Regex. A typical extreme situation operates at exponential time compared to the input size. This is due to most implementations using a Nondeterministic Finite Automaton(NFA) state machine to be built by the Regex algorithm since NFA allows backtracking and thus more complex regular expressions.. The Domain of this is: Software\n",
      "CAPEC-507: A CAPEC with the title Physical Theft. The description of this CAPEC is: An adversary gains physical access to a system or device through theft of the item. Possession of a system or device enables a number of unique attacks to be executed and often provides the adversary with an extended timeframe for which to perform an attack. Most protections put in place to secure sensitive information can be defeated when an adversary has physical access and enough time.. The Domain of this is: Physical Security\n",
      "CAPEC-596: A CAPEC with the title TCP RST Injection. The description of this CAPEC is: An adversary injects one or more TCP RST packets to a target after the target has made a HTTP GET request. The goal of this attack is to have the target and/or destination web server terminate the TCP connection.. The Domains of this are: Communications, Software\n",
      "CAPEC-332: A CAPEC with the title ICMP IP 'ID' Field Error Message Probe. The description of this CAPEC is: An adversary sends a UDP datagram having an assigned value to its internet identification field (ID) to a closed port on a target to observe the manner in which this bit is echoed back in the ICMP error message. This allows the attacker to construct a fingerprint of specific OS behaviors.. The Domain of this is: Software\n",
      "CAPEC-130: A CAPEC with the title Excessive Allocation. The description of this CAPEC is: An adversary causes the target to allocate excessive resources to servicing the attackers' request, thereby reducing the resources available for legitimate services and degrading or denying services. Usually, this attack focuses on memory allocation, but any finite resource on the target could be the attacked, including bandwidth, processing cycles, or other resources. This attack does not attempt to force this allocation through a large number of requests (that would be Resource Depletion through Flooding) but instead uses one or a small number of requests that are carefully formatted to force the target to allocate excessive resources to service this request(s). Often this attack takes advantage of a bug in the target to cause the target to allocate resources vastly beyond what would be needed for a normal request.. The Domains of this are: Communications, Software\n",
      "CAPEC-141: A CAPEC with the title Cache Poisoning. The description of this CAPEC is: An attacker exploits the functionality of cache technologies to cause specific data to be cached that aids the attackers' objectives. This describes any attack whereby an attacker places incorrect or harmful material in cache. The targeted cache can be an application's cache (e.g. a web browser cache) or a public cache (e.g. a DNS or ARP cache). Until the cache is refreshed, most applications or clients will treat the corrupted cache value as valid. This can lead to a wide range of exploits including redirecting web browsers towards sites that install malware and repeatedly incorrect calculations based on the incorrect value.. The Domain of this is: Software\n",
      "CAPEC-203: A CAPEC with the title Manipulate Registry Information. The description of this CAPEC is: An adversary exploits a weakness in authorization in order to modify content within a registry (e.g., Windows Registry, Mac plist, application registry). Editing registry information can permit the adversary to hide configuration information or remove indicators of compromise to cover up activity. Many applications utilize registries to store configuration and service information. As such, modification of registry information can affect individual services (affecting billing, authorization, or even allowing for identity spoofing) or the overall configuration of a targeted application. For example, both Java RMI and SOAP use registries to track available services. Changing registry values is sometimes a preliminary step towards completing another attack pattern, but given the long term usage of many registry values, manipulation of registry information could be its own end.. The Domain of this is: Software\n",
      "CAPEC-138: A CAPEC with the title Reflection Injection. The description of this CAPEC is: An adversary supplies a value to the target application which is then used by reflection methods to identify a class, method, or field. For example, in the Java programming language the reflection libraries permit an application to inspect, load, and invoke classes and their components by name. If an adversary can control the input into these methods including the name of the class/method/field or the parameters passed to methods, they can cause the targeted application to invoke incorrect methods, read random fields, or even to load and utilize malicious classes that the adversary created. This can lead to the application revealing sensitive information, returning incorrect results, or even having the adversary take control of the targeted application.. The Domain of this is: Software\n",
      "CAPEC-695: A CAPEC with the title Repo Jacking. The description of this CAPEC is: \n",
      "            <xhtml:p>An adversary takes advantage of the redirect property of directly linked Version Control System (VCS) repositories to trick users into incorporating malicious code into their applications.</xhtml:p>\n",
      "         . The Domains of this are: Social Engineering, Supply Chain, Communications, Software, Hardware\n",
      "CAPEC-47: A CAPEC with the title Buffer Overflow via Parameter Expansion. The description of this CAPEC is: In this attack, the target software is given input that the adversary knows will be modified and expanded in size during processing. This attack relies on the target software failing to anticipate that the expanded data may exceed some internal limit, thereby creating a buffer overflow.. The Domain of this is: Software\n",
      "CAPEC-8: A CAPEC with the title Buffer Overflow in an API Call. The description of this CAPEC is: This attack targets libraries or shared code modules which are vulnerable to buffer overflow attacks. An adversary who has knowledge of known vulnerable libraries or shared code can easily target software that makes use of these libraries. All clients that make use of the code library thus become vulnerable by association. This has a very broad effect on security across a system, usually affecting more than one software process.. The Domain of this is: Software\n",
      "CAPEC-620: A CAPEC with the title Drop Encryption Level. The description of this CAPEC is: An attacker forces the encryption level to be lowered, thus enabling a successful attack against the encrypted data.. The Domain of this is: Software\n",
      "CAPEC-490: A CAPEC with the title Amplification. The description of this CAPEC is: An adversary may execute an amplification where the size of a response is far greater than that of the request that generates it. The goal of this attack is to use a relatively few resources to create a large amount of traffic against a target server. To execute this attack, an adversary send a request to a 3rd party service, spoofing the source address to be that of the target server. The larger response that is generated by the 3rd party service is then sent to the target server. By sending a large number of initial requests, the adversary can generate a tremendous amount of traffic directed at the target. The greater the discrepancy in size between the initial request and the final payload delivered to the target increased the effectiveness of this attack.. The Domain of this is: Software\n",
      "CAPEC-290: A CAPEC with the title Enumerate Mail Exchange (MX) Records. The description of this CAPEC is: An adversary enumerates the MX records for a given via a DNS query. This type of information gathering returns the names of mail servers on the network. Mail servers are often not exposed to the Internet but are located within the DMZ of a network protected by a firewall. A side effect of this configuration is that enumerating the MX records for an organization my reveal the IP address of the firewall or possibly other internal systems. Attackers often resort to MX record enumeration when a DNS Zone Transfer is not possible.. The Domain of this is: Software\n",
      "CAPEC-692: A CAPEC with the title Spoof Version Control System Commit Metadata. The description of this CAPEC is: \n",
      "            <xhtml:p>An adversary spoofs metadata pertaining to a Version Control System (VCS) (e.g., Git) repository's commits to deceive users into believing that the maliciously provided software is frequently maintained and originates from a trusted source.</xhtml:p>\n",
      "         . The Domains of this are: Social Engineering, Supply Chain, Software\n",
      "CAPEC-595: A CAPEC with the title Connection Reset. The description of this CAPEC is: In this attack pattern, an adversary injects a connection reset packet to one or both ends of a target's connection. The attacker is therefore able to have the target and/or the destination server sever the connection without having to directly filter the traffic between them.. The Domains of this are: Communications, Software\n",
      "CAPEC-218: A CAPEC with the title Spoofing of UDDI/ebXML Messages. The description of this CAPEC is: An attacker spoofs a UDDI, ebXML, or similar message in order to impersonate a service provider in an e-business transaction. UDDI, ebXML, and similar standards are used to identify businesses in e-business transactions. Among other things, they identify a particular participant, WSDL information for SOAP transactions, and supported communication protocols, including security protocols. By spoofing one of these messages an attacker could impersonate a legitimate business in a transaction or could manipulate the protocols used between a client and business. This could result in disclosure of sensitive information, loss of message integrity, or even financial fraud.. The Domain of this is: Software\n",
      "CAPEC-541: A CAPEC with the title Application Fingerprinting. The description of this CAPEC is: An adversary engages in fingerprinting activities to determine the type or version of an application installed on a remote target.. The Domain of this is: Software\n",
      "CAPEC-43: A CAPEC with the title Exploiting Multiple Input Interpretation Layers. The description of this CAPEC is: An attacker supplies the target software with input data that contains sequences of special characters designed to bypass input validation logic. This exploit relies on the target making multiples passes over the input data and processing a \"layer\" of special characters with each pass. In this manner, the attacker can disguise input that would otherwise be rejected as invalid by concealing it with layers of special/escape characters that are stripped off by subsequent processing steps. The goal is to first discover cases where the input validation layer executes before one or more parsing layers. That is, user input may go through the following logic in an application: <parser1> --> <input validator> --> <parser2>. In such cases, the attacker will need to provide input that will pass through the input validator, but after passing through parser2, will be converted into something that the input validator was supposed to stop.. The Domain of this is: Software\n",
      "CAPEC-681: A CAPEC with the title Exploitation of Improperly Controlled Hardware Security Identifiers. The description of this CAPEC is: \n",
      "            <xhtml:p>An adversary takes advantage of missing or incorrectly configured security identifiers (e.g., tokens), which are used for access control within a System-on-Chip (SoC), to read/write data or execute a given action.</xhtml:p>\n",
      "         . The Domains of this are: Hardware, Hardware\n",
      "CAPEC-616: A CAPEC with the title Establish Rogue Location. The description of this CAPEC is: An adversary provides a malicious version of a resource at a location that is similar to the expected location of a legitimate resource. After establishing the rogue location, the adversary waits for a victim to visit the location and access the malicious resource.. The Domains of this are: Social Engineering, Supply Chain, Communications, Software, Hardware\n",
      "CAPEC-384: A CAPEC with the title Application API Message Manipulation via Man-in-the-Middle. The description of this CAPEC is: An attacker manipulates either egress or ingress data from a client within an application framework in order to change the content of messages. Performing this attack can allow the attacker to gain unauthorized privileges within the application, or conduct attacks such as phishing, deceptive strategies to spread malware, or traditional web-application attacks. The techniques require use of specialized software that allow the attacker to perform adversary-in-the-middle (CAPEC-94) communications between the web browser and the remote system. Despite the use of AiTH software, the attack is actually directed at the server, as the client is one node in a series of content brokers that pass information along to the application framework. Additionally, it is not true \"Adversary-in-the-Middle\" attack at the network layer, but an application-layer attack the root cause of which is the master applications trust in the integrity of code supplied by the client.. The Domains of this are: Communications, Software\n",
      "CAPEC-677: A CAPEC with the title Server Motherboard Compromise. The description of this CAPEC is: \n",
      "            <xhtml:p>Malware is inserted in a server motherboard (e.g., in the flash memory) in order to alter server functionality from that intended. The development environment or hardware/software support activity environment is susceptible to an adversary inserting malicious software into hardware components during development or update.</xhtml:p>\n",
      "         . The Domains of this are: Supply Chain, Physical Security, Hardware\n",
      "CAPEC-243: A CAPEC with the title XSS Targeting HTML Attributes. The description of this CAPEC is: An adversary inserts commands to perform cross-site scripting (XSS) actions in HTML attributes. Many filters do not adequately sanitize attributes against the presence of potentially dangerous commands even if they adequately sanitize tags. For example, dangerous expressions could be inserted into a style attribute in an anchor tag, resulting in the execution of malicious code when the resulting page is rendered. If a victim is tricked into viewing the rendered page the attack proceeds like a normal XSS attack, possibly resulting in the loss of sensitive cookies or other malicious activities.. The Domains of this are: Software, Software, Software\n",
      "CAPEC-584: A CAPEC with the title BGP Route Disabling. The description of this CAPEC is: An adversary suppresses the Border Gateway Protocol (BGP) advertisement for a route so as to render the underlying network inaccessible. The BGP protocol helps traffic move throughout the Internet by selecting the most efficient route between Autonomous Systems (AS), or routing domains. BGP is the basis for interdomain routing infrastructure, providing connections between these ASs. By suppressing the intended AS routing advertisements and/or forcing less effective routes for traffic to ASs, the adversary can deny availability for the target network.. The Domains of this are: Communications, Software\n",
      "CAPEC-79: A CAPEC with the title Using Slashes in Alternate Encoding. The description of this CAPEC is: This attack targets the encoding of the Slash characters. An adversary would try to exploit common filtering problems related to the use of the slashes characters to gain access to resources on the target host. Directory-driven systems, such as file systems and databases, typically use the slash character to indicate traversal between directories or other container components. For murky historical reasons, PCs (and, as a result, Microsoft OSs) choose to use a backslash, whereas the UNIX world typically makes use of the forward slash. The schizophrenic result is that many MS-based systems are required to understand both forms of the slash. This gives the adversary many opportunities to discover and abuse a number of common filtering problems. The goal of this pattern is to discover server software that only applies filters to one version, but not the other.. The Domain of this is: Software\n",
      "CAPEC-146: A CAPEC with the title XML Schema Poisoning. The description of this CAPEC is: An adversary corrupts or modifies the content of XML schema information passed between a client and server for the purpose of undermining the security of the target. XML Schemas provide the structure and content definitions for XML documents. Schema poisoning is the ability to manipulate a schema either by replacing or modifying it to compromise the programs that process documents that use this schema.. The Domain of this is: Software\n",
      "CAPEC-104: A CAPEC with the title Cross Zone Scripting. The description of this CAPEC is: An attacker is able to cause a victim to load content into their web-browser that bypasses security zone controls and gain access to increased privileges to execute scripting code or other web objects such as unsigned ActiveX controls or applets. This is a privilege elevation attack targeted at zone-based web-browser security.. The Domain of this is: Software\n",
      "CAPEC-656: A CAPEC with the title Voice Phishing. The description of this CAPEC is: An adversary targets users with a phishing attack for the purpose of soliciting account passwords or sensitive information from the user. Voice Phishing is a variation of the Phishing social engineering technique where the attack is initiated via a voice call, rather than email. The user is enticed to provide sensitive information by the adversary, who masquerades as a legitimate employee of the alleged organization. Voice Phishing attacks deviate from standard Phishing attacks, in that a user doesn't typically interact with a compromised website to provide sensitive information and instead provides this information verbally. Voice Phishing attacks can also be initiated by either the adversary in the form of a \"cold call\" or by the victim if calling an illegitimate telephone number.. The Domain of this is: Social Engineering\n",
      "CAPEC-603: A CAPEC with the title Blockage. The description of this CAPEC is: An adversary blocks the delivery of an important system resource causing the system to fail or stop working.. The Domains of this are: Communications, Software\n",
      "CAPEC-554: A CAPEC with the title Functionality Bypass. The description of this CAPEC is: An adversary attacks a system by bypassing some or all functionality intended to protect it. Often, a system user will think that protection is in place, but the functionality behind those protections has been disabled by the adversary.. The Domain of this is: Software\n",
      "CAPEC-103: A CAPEC with the title Clickjacking. The description of this CAPEC is: An adversary tricks a victim into unknowingly initiating some action in one system while interacting with the UI from a seemingly completely different, usually an adversary controlled or intended, system.. The Domains of this are: Social Engineering, Software\n",
      "CAPEC-546: A CAPEC with the title Incomplete Data Deletion in a Multi-Tenant Environment. The description of this CAPEC is: An adversary obtains unauthorized information due to insecure or incomplete data deletion in a multi-tenant environment. If a cloud provider fails to completely delete storage and data from former cloud tenants' systems/resources, once these resources are allocated to new, potentially malicious tenants, the latter can probe the provided resources for sensitive information still there.. The Domains of this are: Software, Hardware\n",
      "CAPEC-464: A CAPEC with the title Evercookie. The description of this CAPEC is: An attacker creates a very persistent cookie that stays present even after the user thinks it has been removed. The cookie is stored on the victim's machine in over ten places. When the victim clears the cookie cache via traditional means inside the browser, that operation removes the cookie from certain places but not others. The malicious code then replicates the cookie from all of the places where it was not deleted to all of the possible storage locations once again. So the victim again has the cookie in all of the original storage locations. In other words, failure to delete the cookie in even one location will result in the cookie's resurrection everywhere. The evercookie will also persist across different browsers because certain stores (e.g., Local Shared Objects) are shared between different browsers.. The Domain of this is: Software\n",
      "CAPEC-598: A CAPEC with the title DNS Spoofing. The description of this CAPEC is: An adversary sends a malicious (\"NXDOMAIN\" (\"No such domain\") code, or DNS A record) response to a target's route request before a legitimate resolver can. This technique requires an On-path or In-path device that can monitor and respond to the target's DNS requests. This attack differs from BGP Tampering in that it directly responds to requests made by the target instead of polluting the routing the target's infrastructure uses.. The Domain of this is: Software\n",
      "CAPEC-221: A CAPEC with the title Data Serialization External Entities Blowup. The description of this CAPEC is: This attack takes advantage of the entity replacement property of certain data serialization languages (e.g., XML, YAML, etc.) where the value of the replacement is a URI. A well-crafted file could have the entity refer to a URI that consumes a large amount of resources to create a denial of service condition. This can cause the system to either freeze, crash, or execute arbitrary code depending on the URI.. The Domains of this are: Software, Software\n",
      "CAPEC-142: A CAPEC with the title DNS Cache Poisoning. The description of this CAPEC is: A domain name server translates a domain name (such as www.example.com) into an IP address that Internet hosts use to contact Internet resources. An adversary modifies a public DNS cache to cause certain names to resolve to incorrect addresses that the adversary specifies. The result is that client applications that rely upon the targeted cache for domain name resolution will be directed not to the actual address of the specified domain name but to some other address. Adversaries can use this to herd clients to sites that install malware on the victim's computer or to masquerade as part of a Pharming attack.. The Domain of this is: Software\n",
      "CAPEC-416: A CAPEC with the title Manipulate Human Behavior. The description of this CAPEC is: An adversary exploits inherent human psychological predisposition to influence a targeted individual or group to solicit information or manipulate the target into performing an action that serves the adversary's interests. Many interpersonal social engineering techniques do not involve outright deception, although they can; many are subtle ways of manipulating a target to remove barriers, make the target feel comfortable, and produce an exchange in which the target is either more likely to share information directly, or let key information slip out unintentionally. A skilled adversary uses these techniques when appropriate to produce the desired outcome. Manipulation techniques vary from the overt, such as pretending to be a supervisor to a help desk, to the subtle, such as making the target feel comfortable with the adversary's speech and thought patterns.. The Domain of this is: Social Engineering\n",
      "CAPEC-505: A CAPEC with the title Scheme Squatting. The description of this CAPEC is: An adversary, through a previously installed malicious application, registers for a URL scheme intended for a target application that has not been installed. Thereafter, messages intended for the target application are handled by the malicious application. Upon receiving a message, the malicious application displays a screen that mimics the target application, thereby convincing the user to enter sensitive information. This type of attack is most often used to obtain sensitive information (e.g., credentials) from the user as they think that they are interacting with the intended target application.. The Domain of this is: Social Engineering\n",
      "CAPEC-422: A CAPEC with the title Influence Perception of Commitment and Consistency. The description of this CAPEC is: An adversary uses social engineering to convince the target to do minor tasks as opposed to larger actions. After complying with a request, individuals are more likely to agree to subsequent requests that are similar in type and required effort.. The Domain of this is: Social Engineering\n",
      "CAPEC-287: A CAPEC with the title TCP SYN Scan. The description of this CAPEC is: An adversary uses a SYN scan to determine the status of ports on the remote target. SYN scanning is the most common type of port scanning that is used because of its many advantages and few drawbacks. As a result, novice attackers tend to overly rely on the SYN scan while performing system reconnaissance. As a scanning method, the primary advantages of SYN scanning are its universality and speed.. The Domains of this are: Communications, Software\n",
      "CAPEC-444: A CAPEC with the title Development Alteration. The description of this CAPEC is: An adversary modifies a technology, product, or component during its development to acheive a negative impact once the system is deployed. The goal of the adversary is to modify the system in such a way that the negative impact can be leveraged when the system is later deployed. Development alteration attacks may include attacks that insert malicious logic into the system's software, modify or replace hardware components, and other attacks which negatively impact the system during development. These attacks generally require insider access to modify source code or to tamper with hardware components. The product is then delivered to the user where the negative impact can be leveraged at a later time.. The Domains of this are: Supply Chain, Software, Hardware\n",
      "CAPEC-663: A CAPEC with the title Exploitation of Transient Instruction Execution. The description of this CAPEC is: An adversary exploits a hardware design flaw in a CPU implementation of transient instruction execution to expose sensitive data and bypass/subvert access control over restricted resources. Typically, the adversary conducts a covert channel attack to target non-discarded microarchitectural changes caused by transient executions such as speculative execution, branch prediction, instruction pipelining, and/or out-of-order execution. The transient execution results in a series of instructions (gadgets) which construct covert channel and access/transfer the secret data.. The Domains of this are: Software, Hardware, Software\n",
      "CAPEC-421: A CAPEC with the title Influence Perception of Authority. The description of this CAPEC is: An adversary uses a social engineering technique to convey a sense of authority that motivates the target to reveal specific information or take specific action. There are various techniques for producing a sense of authority during ordinary modes of communication. One common method is impersonation. By impersonating someone with a position of power within an organization, an adversary may motivate the target individual to reveal some piece of sensitive information or perform an action that benefits the adversary.. The Domain of this is: Social Engineering\n",
      "CAPEC-301: A CAPEC with the title TCP Connect Scan. The description of this CAPEC is: An adversary uses full TCP connection attempts to determine if a port is open on the target system. The scanning process involves completing a 'three-way handshake' with a remote port, and reports the port as closed if the full handshake cannot be established. An advantage of TCP connect scanning is that it works against any TCP/IP stack.. The Domains of this are: Communications, Software\n",
      "CAPEC-109: A CAPEC with the title Object Relational Mapping Injection. The description of this CAPEC is: An attacker leverages a weakness present in the database access layer code generated with an Object Relational Mapping (ORM) tool or a weakness in the way that a developer used a persistence framework to inject their own SQL commands to be executed against the underlying database. The attack here is similar to plain SQL injection, except that the application does not use JDBC to directly talk to the database, but instead it uses a data access layer generated by an ORM tool or framework (e.g. Hibernate). While most of the time code generated by an ORM tool contains safe access methods that are immune to SQL injection, sometimes either due to some weakness in the generated code or due to the fact that the developer failed to use the generated access methods properly, SQL injection is still possible.. The Domain of this is: Software\n",
      "CAPEC-97: A CAPEC with the title Cryptanalysis. The description of this CAPEC is: Cryptanalysis is a process of finding weaknesses in cryptographic algorithms and using these weaknesses to decipher the ciphertext without knowing the secret key (instance deduction). Sometimes the weakness is not in the cryptographic algorithm itself, but rather in how it is applied that makes cryptanalysis successful. An attacker may have other goals as well, such as: Total Break (finding the secret key), Global Deduction (finding a functionally equivalent algorithm for encryption and decryption that does not require knowledge of the secret key), Information Deduction (gaining some information about plaintexts or ciphertexts that was not previously known) and Distinguishing Algorithm (the attacker has the ability to distinguish the output of the encryption (ciphertext) from a random permutation of bits).. The Domains of this are: Communications, Hardware\n",
      "CAPEC-107: A CAPEC with the title Cross Site Tracing. The description of this CAPEC is: Cross Site Tracing (XST) enables an adversary to steal the victim's session cookie and possibly other authentication credentials transmitted in the header of the HTTP request when the victim's browser communicates to a destination system's web server.. The Domain of this is: Software\n",
      "CAPEC-73: A CAPEC with the title User-Controlled Filename. The description of this CAPEC is: An attack of this type involves an adversary inserting malicious characters (such as a XSS redirection) into a filename, directly or indirectly that is then used by the target software to generate HTML text or other potentially executable content. Many websites rely on user-generated content and dynamically build resources like files, filenames, and URL links directly from user supplied data. In this attack pattern, the attacker uploads code that can execute in the client browser and/or redirect the client browser to a site that the attacker owns. All XSS attack payload variants can be used to pass and exploit these vulnerabilities.. The Domain of this is: Software\n",
      "CAPEC-524: A CAPEC with the title Rogue Integration Procedures. The description of this CAPEC is: An attacker alters or establishes rogue processes in an integration facility in order to insert maliciously altered components into the system. The attacker would then supply the malicious components. This would allow for malicious disruption or additional compromise when the system is deployed.. The Domain of this is: Supply Chain\n",
      "CAPEC-649: A CAPEC with the title Adding a Space to a File Extension. The description of this CAPEC is: An adversary adds a space character to the end of a file extension and takes advantage of an application that does not properly neutralize trailing special elements in file names. This extra space, which can be difficult for a user to notice, affects which default application is used to operate on the file and can be leveraged by the adversary to control execution.. The Domain of this is: Software\n",
      "CAPEC-13: A CAPEC with the title Subverting Environment Variable Values. The description of this CAPEC is: The adversary directly or indirectly modifies environment variables used by or controlling the target software. The adversary's goal is to cause the target software to deviate from its expected operation in a manner that benefits the adversary.. The Domain of this is: Software\n",
      "CAPEC-664: A CAPEC with the title Server Side Request Forgery. The description of this CAPEC is: \n",
      "            <xhtml:p>An adversary exploits improper input validation by submitting maliciously crafted input to a target application running on a server, with the goal of forcing the server to make a request either to itself, to web services running in the server’s internal network, or to external third parties. If successful, the adversary’s request will be made with the server’s privilege level, bypassing its authentication controls. This ultimately allows the adversary to access sensitive data, execute commands on the server’s network, and make external requests with the stolen identity of the server. Server Side Request Forgery attacks differ from Cross Site Request Forgery attacks in that they target the server itself, whereas CSRF attacks exploit an insecure user authentication mechanism to perform unauthorized actions on the user's behalf.</xhtml:p>\n",
      "         . The Domain of this is: Software\n",
      "CAPEC-561: A CAPEC with the title Windows Admin Shares with Stolen Credentials. The description of this CAPEC is: An adversary guesses or obtains (i.e. steals or purchases) legitimate Windows administrator credentials (e.g. userID/password) to access Windows Admin Shares on a local machine or within a Windows domain.. The Domain of this is: Software\n",
      "CAPEC-183: A CAPEC with the title IMAP/SMTP Command Injection. The description of this CAPEC is: An adversary exploits weaknesses in input validation on web-mail servers to execute commands on the IMAP/SMTP server. Web-mail servers often sit between the Internet and the IMAP or SMTP mail server. User requests are received by the web-mail servers which then query the back-end mail server for the requested information and return this response to the user. In an IMAP/SMTP command injection attack, mail-server commands are embedded in parts of the request sent to the web-mail server. If the web-mail server fails to adequately sanitize these requests, these commands are then sent to the back-end mail server when it is queried by the web-mail server, where the commands are then executed. This attack can be especially dangerous since administrators may assume that the back-end server is protected against direct Internet access and therefore may not secure it adequately against the execution of malicious commands.. The Domain of this is: Software\n",
      "CAPEC-489: A CAPEC with the title SSL Flood. The description of this CAPEC is: An adversary may execute a flooding attack using the SSL protocol with the intent to deny legitimate users access to a service by consuming all the available resources on the server side. These attacks take advantage of the asymmetric relationship between the processing power used by the client and the processing power used by the server to create a secure connection. In this manner the attacker can make a large number of HTTPS requests on a low provisioned machine to tie up a disproportionately large number of resources on the server. The clients then continue to keep renegotiating the SSL connection. When multiplied by a large number of attacking machines, this attack can result in a crash or loss of service to legitimate users.. The Domains of this are: Communications, Software\n",
      "CAPEC-318: A CAPEC with the title IP 'ID' Echoed Byte-Order Probe. The description of this CAPEC is: This OS fingerprinting probe tests to determine if the remote host echoes back the IP 'ID' value from the probe packet. An attacker sends a UDP datagram with an arbitrary IP 'ID' value to a closed port on the remote host to observe the manner in which this bit is echoed back in the ICMP error message. The identification field (ID) is typically utilized for reassembling a fragmented packet. Some operating systems or router firmware reverse the bit order of the ID field when echoing the IP Header portion of the original datagram within an ICMP error message.. The Domain of this is: Software\n",
      "CAPEC-197: A CAPEC with the title Exponential Data Expansion. The description of this CAPEC is: An adversary submits data to a target application which contains nested exponential data expansion to produce excessively large output. Many data format languages allow the definition of macro-like structures that can be used to simplify the creation of complex structures. However, this capability can be abused to create excessive demands on a processor's CPU and memory. A small number of nested expansions can result in an exponential growth in demands on memory.. The Domain of this is: Software\n",
      "CAPEC-313: A CAPEC with the title Passive OS Fingerprinting. The description of this CAPEC is: An adversary engages in activity to detect the version or type of OS software in a an environment by passively monitoring communication between devices, nodes, or applications. Passive techniques for operating system detection send no actual probes to a target, but monitor network or client-server communication between nodes in order to identify operating systems based on observed behavior as compared to a database of known signatures or values. While passive OS fingerprinting is not usually as reliable as active methods, it is generally better able to evade detection.. The Domain of this is: Software\n",
      "CAPEC-113: A CAPEC with the title Interface Manipulation. The description of this CAPEC is: An adversary manipulates the use or processing of an interface (e.g. Application Programming Interface (API) or System-on-Chip (SoC)) resulting in an adverse impact upon the security of the system implementing the interface. This can allow the adversary to bypass access control and/or execute functionality not intended by the interface implementation, possibly compromising the system which integrates the interface. Interface manipulation can take on a number of forms including forcing the unexpected use of an interface or the use of an interface in an unintended way.. The Domains of this are: Software, Hardware\n",
      "CAPEC-83: A CAPEC with the title XPath Injection. The description of this CAPEC is: An attacker can craft special user-controllable input consisting of XPath expressions to inject the XML database and bypass authentication or glean information that they normally would not be able to. XPath Injection enables an attacker to talk directly to the XML database, thus bypassing the application completely. XPath Injection results from the failure of an application to properly sanitize input used as part of dynamic XPath expressions used to query an XML database.. The Domain of this is: Software\n",
      "CAPEC-565: A CAPEC with the title Password Spraying. The description of this CAPEC is: \n",
      "            <xhtml:p>In a Password Spraying attack, an adversary tries a small list (e.g. 3-5) of common or expected passwords, often matching the target's complexity policy, against a known list of user accounts to gain valid credentials. The adversary tries a particular password for each user account, before moving onto the next password in the list. This approach assists the adversary in remaining undetected by avoiding rapid or frequent account lockouts. The adversary may then reattempt the process with additional passwords, once enough time has passed to prevent inducing a lockout.</xhtml:p>\n",
      "         . The Domain of this is: Software\n",
      "CAPEC-654: A CAPEC with the title Credential Prompt Impersonation. The description of this CAPEC is: An adversary, through a previously installed malicious application, impersonates a credential prompt in an attempt to steal a user's credentials.. The Domain of this is: Software\n",
      "CAPEC-445: A CAPEC with the title Malicious Logic Insertion into Product Software via Configuration Management Manipulation. The description of this CAPEC is: \n",
      "            <xhtml:p>An adversary exploits a configuration management system so that malicious logic is inserted into a software products build, update or deployed environment. If an adversary can control the elements included in a product's configuration management for build they can potentially replace, modify or insert code files containing malicious logic. If an adversary can control elements of a product's ongoing operational configuration management baseline they can potentially force clients receiving updates from the system to install insecure software when receiving updates from the server.</xhtml:p>\n",
      "         . The Domains of this are: Supply Chain, Software\n",
      "CAPEC-165: A CAPEC with the title File Manipulation. The description of this CAPEC is: An attacker modifies file contents or attributes (such as extensions or names) of files in a manner to cause incorrect processing by an application. Attackers use this class of attacks to cause applications to enter unstable states, overwrite or expose sensitive information, and even execute arbitrary code with the application's privileges. This class of attacks differs from attacks on configuration information (even if file-based) in that file manipulation causes the file processing to result in non-standard behaviors, such as buffer overflows or use of the incorrect interpreter. Configuration attacks rely on the application interpreting files correctly in order to insert harmful configuration information. Likewise, resource location attacks rely on controlling an application's ability to locate files, whereas File Manipulation attacks do not require the application to look in a non-default location, although the two classes of attacks are often combined.. The Domain of this is: Software\n",
      "CAPEC-160: A CAPEC with the title Exploit Script-Based APIs. The description of this CAPEC is: Some APIs support scripting instructions as arguments. Methods that take scripted instructions (or references to scripted instructions) can be very flexible and powerful. However, if an attacker can specify the script that serves as input to these methods they can gain access to a great deal of functionality. For example, HTML pages support <script> tags that allow scripting languages to be embedded in the page and then interpreted by the receiving web browser. If the content provider is malicious, these scripts can compromise the client application. Some applications may even execute the scripts under their own identity (rather than the identity of the user providing the script) which can allow attackers to perform activities that would otherwise be denied to them.. The Domain of this is: Software\n",
      "CAPEC-576: A CAPEC with the title Group Permission Footprinting. The description of this CAPEC is: An adversary exploits functionality meant to identify information about user groups and their permissions on the target system to an authorized user. By knowing what users/permissions are registered on the target system, the adversary can inform further and more targeted malicious behavior. An example Windows command which can list local groups is \"net localgroup\".. The Domain of this is: Software\n",
      "CAPEC-176: A CAPEC with the title Configuration/Environment Manipulation. The description of this CAPEC is: An attacker manipulates files or settings external to a target application which affect the behavior of that application. For example, many applications use external configuration files and libraries - modification of these entities or otherwise affecting the application's ability to use them would constitute a configuration/environment manipulation attack.. The Domains of this are: Supply Chain, Software, Hardware\n",
      "CAPEC-660: A CAPEC with the title Root/Jailbreak Detection Evasion via Hooking. The description of this CAPEC is: An adversary forces a non-restricted mobile application to load arbitrary code or code files, via Hooking, with the goal of evading Root/Jailbreak detection. Mobile device users often Root/Jailbreak their devices in order to gain administrative control over the mobile operating system and/or to install third-party mobile applications that are not provided by authorized application stores (e.g. Google Play Store and Apple App Store). Adversaries may further leverage these capabilities to escalate privileges or bypass access control on legitimate applications. Although many mobile applications check if a mobile device is Rooted/Jailbroken prior to authorized use of the application, adversaries may be able to \"hook\" code in order to circumvent these checks. Successfully evading Root/Jailbreak detection allows an adversary to execute administrative commands, obtain confidential data, impersonate legitimate users of the application, and more.. The Domain of this is: Software\n",
      "CAPEC-696: A CAPEC with the title Load Value Injection. The description of this CAPEC is: An adversary exploits a hardware design flaw in a CPU implementation of transient instruction execution in which a faulting or assisted load instruction transiently forwards adversary-controlled data from microarchitectural buffers. By inducing a page fault or microcode assist during victim execution, an adversary can force legitimate victim execution to operate on the adversary-controlled data which is stored in the microarchitectural buffers. The adversary can then use existing code gadgets and side channel analysis to discover victim secrets that have not yet been flushed from microarchitectural state or hijack the system control flow.. The Domains of this are: Software, Hardware, Software\n",
      "CAPEC-568: A CAPEC with the title Capture Credentials via Keylogger. The description of this CAPEC is: An adversary deploys a keylogger in an effort to obtain credentials directly from a system's user. After capturing all the keystrokes made by a user, the adversary can analyze the data and determine which string are likely to be passwords or other credential related information.. The Domain of this is: Software\n",
      "CAPEC-126: A CAPEC with the title Path Traversal. The description of this CAPEC is: An adversary uses path manipulation methods to exploit insufficient input validation of a target to obtain access to data that should be not be retrievable by ordinary well-formed requests. A typical variety of this attack involves specifying a path to a desired file together with dot-dot-slash characters, resulting in the file access API or function traversing out of the intended directory structure and into the root file system. By replacing or modifying the expected path information the access function or API retrieves the file desired by the attacker. These attacks either involve the attacker providing a complete path to a targeted file or using control characters (e.g. path separators (/ or \\) and/or dots (.)) to reach desired directories or files.. The Domain of this is: Software\n",
      "CAPEC-120: A CAPEC with the title Double Encoding. The description of this CAPEC is: The adversary utilizes a repeating of the encoding process for a set of characters (that is, character encoding a character encoding of a character) to obfuscate the payload of a particular request. This may allow the adversary to bypass filters that attempt to detect illegal characters or strings, such as those that might be used in traversal or injection attacks. Filters may be able to catch illegal encoded strings, but may not catch doubly encoded strings. For example, a dot (.), often used in path traversal attacks and therefore often blocked by filters, could be URL encoded as %2E. However, many filters recognize this encoding and would still block the request. In a double encoding, the % in the above URL encoding would be encoded again as %25, resulting in %252E which some filters might not catch, but which could still be interpreted as a dot (.) by interpreters on the target.. The Domain of this is: Software\n",
      "CAPEC-496: A CAPEC with the title ICMP Fragmentation. The description of this CAPEC is: An attacker may execute a ICMP Fragmentation attack against a target with the intention of consuming resources or causing a crash. The attacker crafts a large number of identical fragmented IP packets containing a portion of a fragmented ICMP message. The attacker these sends these messages to a target host which causes the host to become non-responsive. Another vector may be sending a fragmented ICMP message to a target host with incorrect sizes in the header which causes the host to hang.. The Domains of this are: Communications, Software\n",
      "CAPEC-173: A CAPEC with the title Action Spoofing. The description of this CAPEC is: An adversary is able to disguise one action for another and therefore trick a user into initiating one type of action when they intend to initiate a different action. For example, a user might be led to believe that clicking a button will submit a query, but in fact it downloads software. Adversaries may perform this attack through social means, such as by simply convincing a victim to perform the action or relying on a user's natural inclination to do so, or through technical means, such as a clickjacking attack where a user sees one interface but is actually interacting with a second, invisible, interface.. The Domains of this are: Social Engineering, Software\n",
      "CAPEC-667: A CAPEC with the title Bluetooth Impersonation AttackS (BIAS). The description of this CAPEC is: An adversary disguises the MAC address of their Bluetooth enabled device to one for which there exists an active and trusted connection and authenticates successfully. The adversary can then perform malicious actions on the target Bluetooth device depending on the target’s capabilities.. The Domain of this is: Social Engineering\n",
      "CAPEC-674: A CAPEC with the title Design for FPGA Maliciously Altered. The description of this CAPEC is: \n",
      "            <xhtml:p>An adversary alters the functionality of a field-programmable gate array (FPGA) by causing an FPGA configuration memory chip reload in order to introduce a malicious function that could result in the FPGA performing or enabling malicious functions on a host system. Prior to the memory chip reload, the adversary alters the program for the FPGA by adding a function to impact system operation.</xhtml:p>\n",
      "         . The Domains of this are: Supply Chain, Hardware\n",
      "CAPEC-309: A CAPEC with the title Network Topology Mapping. The description of this CAPEC is: An adversary engages in scanning activities to map network nodes, hosts, devices, and routes. Adversaries usually perform this type of network reconnaissance during the early stages of attack against an external network. Many types of scanning utilities are typically employed, including ICMP tools, network mappers, port scanners, and route testing utilities such as traceroute.. The Domain of this is: Software\n",
      "CAPEC-122: A CAPEC with the title Privilege Abuse. The description of this CAPEC is: An adversary is able to exploit features of the target that should be reserved for privileged users or administrators but are exposed to use by lower or non-privileged accounts. Access to sensitive information and functionality must be controlled to ensure that only authorized users are able to access these resources.. The Domains of this are: Software, Hardware\n",
      "CAPEC-531: A CAPEC with the title Hardware Component Substitution. The description of this CAPEC is: An attacker substitutes out a tested and approved hardware component for a maliciously-altered hardware component. This type of attack is carried out directly on the system, enabling the attacker to then cause disruption or additional compromise.. The Domains of this are: Supply Chain, Physical Security, Hardware\n",
      "CAPEC-27: A CAPEC with the title Leveraging Race Conditions via Symbolic Links. The description of this CAPEC is: This attack leverages the use of symbolic links (Symlinks) in order to write to sensitive files. An attacker can create a Symlink link to a target file not otherwise accessible to them. When the privileged program tries to create a temporary file with the same name as the Symlink link, it will actually write to the target file pointed to by the attackers' Symlink link. If the attacker can insert malicious content in the temporary file they will be writing to the sensitive file by using the Symlink. The race occurs because the system checks if the temporary file exists, then creates the file. The attacker would typically create the Symlink during the interval between the check and the creation of the temporary file.. The Domain of this is: Software\n",
      "CAPEC-401: A CAPEC with the title Physically Hacking Hardware. The description of this CAPEC is: An adversary exploits a weakness in access control to gain access to currently installed hardware and precedes to implement changes or secretly replace a hardware component which undermines the system's integrity for the purpose of carrying out an attack.. The Domains of this are: Supply Chain, Physical Security, Hardware\n",
      "CAPEC-64: A CAPEC with the title Using Slashes and URL Encoding Combined to Bypass Validation Logic. The description of this CAPEC is: This attack targets the encoding of the URL combined with the encoding of the slash characters. An attacker can take advantage of the multiple ways of encoding a URL and abuse the interpretation of the URL. A URL may contain special character that need special syntax handling in order to be interpreted. Special characters are represented using a percentage character followed by two digits representing the octet code of the original character (%HEX-CODE). For instance US-ASCII space character would be represented with %20. This is often referred as escaped ending or percent-encoding. Since the server decodes the URL from the requests, it may restrict the access to some URL paths by validating and filtering out the URL requests it received. An attacker will try to craft an URL with a sequence of special characters which once interpreted by the server will be equivalent to a forbidden URL. It can be difficult to protect against this attack since the URL can contain other format of encoding such as UTF-8 encoding, Unicode-encoding, etc.. The Domain of this is: Software\n",
      "CAPEC-163: A CAPEC with the title Spear Phishing. The description of this CAPEC is: An adversary targets a specific user or group with a Phishing (CAPEC-98) attack tailored to a category of users in order to have maximum relevance and deceptive capability. Spear Phishing is an enhanced version of the Phishing attack targeted to a specific user or group. The quality of the targeted email is usually enhanced by appearing to come from a known or trusted entity. If the email account of some trusted entity has been compromised the message may be digitally signed. The message will contain information specific to the targeted users that will enhance the probability that they will follow the URL to the compromised site. For example, the message may indicate knowledge of the targets employment, residence, interests, or other information that suggests familiarity. As soon as the user follows the instructions in the message, the attack proceeds as a standard Phishing attack.. The Domain of this is: Social Engineering\n",
      "CAPEC-617: A CAPEC with the title Cellular Rogue Base Station. The description of this CAPEC is: In this attack scenario, the attacker imitates a cellular base station with their own \"rogue\" base station equipment. Since cellular devices connect to whatever station has the strongest signal, the attacker can easily convince a targeted cellular device (e.g. the retransmission device) to talk to the rogue base station.. The Domains of this are: Communications, Hardware\n",
      "\n",
      "\n",
      "Given the following threat description:\n",
      "\n",
      "\"A Threat with the title Malicious function or application monitors messaging across A1 interface and the descriptionInternal threat actor can gain access to the messaging across the A1 interface for a MiTM attack to read policy.\"\n",
      "\n",
      "Which 3 CAPEC ID from the list above best match the threat based on their description? Respond only with the CAPEC ID and a brief justification.\n"
     ]
    },
    {
     "name": "stderr",
     "output_type": "stream",
     "text": [
      "100%|██████████| 1/1 [04:36<00:00, 276.08s/it]\n"
     ]
    }
   ],
   "source": [
    "# Generate responses\n",
    "qwen_outputs = []\n",
    "\n",
    "for idx, row in tqdm(df.iterrows(), total=len(df)):\n",
    "    #prompt = create_prompt(row['summary_th_df'])\n",
    "    prompt = create_prompt_with_capec_list(row['summary_th_df'], capec_context)\n",
    "    print(prompt)\n",
    "    try:\n",
    "        response = ollama.chat(\n",
    "            model=model,\n",
    "            messages=[\n",
    "                {\"role\": \"user\", \"content\": prompt}\n",
    "            ]\n",
    "        )\n",
    "        output_text = response['message']['content']\n",
    "    except Exception as e:\n",
    "        output_text = f\"[ERROR] {e}\"\n",
    "\n",
    "    qwen_outputs.append(output_text)\n"
   ]
  },
  {
   "cell_type": "code",
   "execution_count": null,
   "id": "c18c0cb4",
   "metadata": {},
   "outputs": [],
   "source": []
  },
  {
   "cell_type": "code",
   "execution_count": 26,
   "id": "a68cc8ec",
   "metadata": {},
   "outputs": [
    {
     "data": {
      "text/plain": [
       "['<think>\\nOkay, let\\'s tackle this threat modeling question. The user provided a threat summary and wants the appropriate CAPEC IDs. The threat is about a malicious function or application monitoring messaging across the A1 interface, allowing an internal threat actor to perform a Man-in-the-Middle (MITM) attack to read policy.\\n\\nFirst, I need to recall what CAPEC IDs are. CAPEC (Common Attack Pattern Enumeration Connectivity) is a standard that lists common attack patterns. Each ID corresponds to a specific attack, and the threat description should map to one of these.\\n\\nThe threat involves an internal threat actor gaining access to messaging across the A1 interface. The main action here is a MITM attack to read policy. So, the key here is the MITM attack. But the CAPEC for MITM is typically CAPEC-100, but I need to check the exact mapping.\\n\\nWait, the threat is about monitoring messaging across the A1 interface. The CAPEC for monitoring might be CAPEC-102, which is \"Monitoring of a system or component.\" But the specific part here is the MITM attack. So maybe the main CAPEC is CAPEC-100 (MITM) but with the context of the A1 interface.\\n\\nBut the user wants the most appropriate CAPEC IDs. Let me think. The threat is an internal threat actor using a malicious function to monitor messaging. The attack is MITM, which is a common attack pattern. The CAPEC-100 is for Man-in-the-Middle attacks. However, the specific context here is the A1 interface. But the CAPEC-100 is general. So the main CAPEC would be CAPEC-100, but maybe the specific context is important.\\n\\nAlternatively, the CAPEC-102 is for monitoring. So if the threat is about monitoring the messaging, then CAPEC-102 would apply. But the threat is about the internal actor using the monitoring to perform a MITM attack. So the main attack is MITM, which is CAPEC-100. However, the CAPEC-100 is for the attack, but the context is the A1 interface. But the CAPEC-100 is a general attack. So the CAPEC ID would be CAPEC-100, with the description of the MITM attack.\\n\\nBut wait, the threat is that the internal actor can gain access to the messaging across the A1 interface for a MITM attack to read policy. So the attack is MITM. So the CAPEC ID would be CAPEC-100. However, the CAPEC-100 is \"Man-in-the-Middle Attack.\" So that\\'s the main one.\\n\\nBut the user might want to include the specific context. However, the CAPEC IDs are based on the attack patterns, not the specific system components. So the main CAPEC is CAPEC-100. But maybe the threat is also related to monitoring, which is CAPEC-102. But the threat is about the MITM attack, which is the core.\\n\\nAlternatively, the threat could be considered as a combination of monitoring (CAPEC-102) and MITM (CAPEC-100). But the CAPEC ID is for the attack, not the mechanism. So the attack is MITM, so CAPEC-100.\\n\\nBut the user might want to check if the threat is a specific CAPEC. Let me check the CAPEC list. CAPEC-100 is Man-in-the-Middle Attack. CAPEC-102 is Monitoring of a system or component. So if the threat is about monitoring the messaging, then CAPEC-102. But the threat is that the internal actor uses the monitoring to perform a MITM attack. So the attack is MITM, but the monitoring is the means. So the CAPEC would be CAPEC-100.\\n\\nBut the threat is a specific scenario where the internal actor is using a malicious function to monitor the messaging. So the CAPEC would be CAPEC-100, as the attack is MITM. However, the context of the A1 interface might be part of the description, but the CAPEC ID is based on the attack pattern, not the system.\\n\\nTherefore, the most appropriate CAPEC ID is CAPEC-100, \"Man-in-the-Middle Attack.\"\\n</think>\\n\\nThe threat described involves an internal threat actor exploiting a **Man-in-the-Middle (MITM)** attack to read policy data across the A1 interface. This aligns with the **CAPEC-100** pattern, which defines **\"Man-in-the-Middle Attack\"**. \\n\\n### CAPEC ID: **CAPEC-100**  \\n**Description**:  \\n\"Man-in-the-Middle Attack (MITM) – An attacker intercepts and alters communication between two parties to eavesdrop or manipulate data.\"\\n\\n### Key Details:\\n- **Attack Pattern**: MITM (specifically, a **passive** attack where the attacker intercepts traffic).\\n- **Context**: The threat involves **monitoring messaging** across the A1 interface, which is a **common mechanism** for MITM attacks.\\n- **Threat Type**: Internal threat actor leveraging a **malicious function** to perform the attack.\\n\\n### Additional Notes:\\n- While the threat could be mapped to **CAPEC-102** (\"Monitoring of a system or component\"), the **core attack pattern** is the MITM itself, which is explicitly covered by **CAPEC-100**.\\n- The specific interface (A1) is a **contextual detail** and does not alter the CAPEC ID.\\n\\n### Final Answer:\\n**CAPEC ID: CAPEC-100** (Man-in-the-Middle Attack)']"
      ]
     },
     "execution_count": 26,
     "metadata": {},
     "output_type": "execute_result"
    }
   ],
   "source": [
    "qwen_outputs"
   ]
  },
  {
   "cell_type": "code",
   "execution_count": 76,
   "id": "151c3707",
   "metadata": {},
   "outputs": [
    {
     "data": {
      "text/plain": [
       "['<think>\\nOkay, let\\'s tackle this question. The user provided a threat description about a malicious function or application that monitors messaging across an A1 interface, allowing an MITM attack to read policies. They want to know which three CAPEC IDs from the given list best match this threat.\\n\\nFirst, I need to recall the CAPEC IDs and their descriptions. The threat involves monitoring messaging across an interface, which is likely related to network communication. The key components here are monitoring, MITM attack, and reading policies.\\n\\nLooking at the list, CAPEC-401 is about physically hacking hardware, but that\\'s more about physical access. CAPEC-496 is about ICMP Fragmentation, which is network-related but not exactly messaging. CAPEC-122 is Privilege Abuse, which might be relevant if there\\'s a misconfigured access. \\n\\nWait, the threat mentions an MITM attack, which is a man-in-the-middle attack. The CAPEC-496 is ICMP Fragmentation, which is about causing crashes by sending fragmented packets. But the user\\'s threat is about monitoring and reading policies, not necessarily causing a crash. \\n\\nAnother possibility is CAPEC-126, Path Traversal, but that\\'s about accessing files via incorrect paths. The threat is about messaging across an interface, not file access. \\n\\nLooking at CAPEC-173, Action Spoofing, which is about disguising actions. Not sure if that\\'s relevant. \\n\\nWait, the threat mentions monitoring messaging across A1 interface. The CAPEC-122 is Privilege Abuse, but that\\'s about exploiting system privileges. \\n\\nWait, maybe CAPEC-120: Double Encoding. That\\'s about obfuscating payloads with double encoding. But the threat is about monitoring and reading policies, not encoding. \\n\\nHmm. Let me check the CAPEC list again. The CAPEC-496 is ICMP Fragmentation, which is network-related. The threat is about monitoring and MITM, which could be related to network monitoring. However, the exact match might not be straightforward. \\n\\nAlternatively, CAPEC-122 (Privilege Abuse) could be if the malicious function is exploiting a privilege. But the description doesn\\'t mention privilege escalation. \\n\\nWait, the threat says the internal threat actor can gain access to messaging across the A1 interface for a MITM attack to read policy. The MITM attack would involve intercepting communication. The CAPEC-496 is about ICMP fragmentation, which is a type of network attack. But the threat isn\\'t about fragmentation, but about monitoring and reading policies. \\n\\nWait, maybe CAPEC-122 (Privilege Abuse) if the malicious function is using elevated privileges to monitor messages. But the description doesn\\'t mention privilege escalation. \\n\\nAlternatively, CAPEC-126 (Path Traversal) if the messaging is accessed via a path, but the threat is about monitoring across an interface, not file access. \\n\\nWait, maybe CAPEC-496 is the best fit if the attack involves ICMP packets, but the threat isn\\'t about ICMP. \\n\\nAlternatively, CAPEC-122 (Privilege Abuse) if the malicious function is using elevated privileges to monitor messages. But the description doesn\\'t mention privilege abuse. \\n\\nHmm. Maybe the answer is CAPEC-496, CAPEC-122, and CAPEC-126. But I need to check again. \\n\\nWait, the threat is about monitoring messaging across an interface for a MITM attack to read policies. The MITM attack would involve intercepting traffic. The CAPEC-496 is about ICMP fragmentation, which is a type of network attack. But the threat isn\\'t about fragmentation. \\n\\nAlternatively, maybe CAPEC-122 (Privilege Abuse) if the malicious function is using elevated privileges to monitor messages. But the description doesn\\'t mention privilege abuse. \\n\\nAlternatively, maybe the answer is CAPEC-496, CAPEC-122, and CAPEC-126, but I\\'m not sure. \\n\\nWait, the CAPEC-126 is about path traversal, which is about accessing files. The threat is about messaging across an interface, not file access. \\n\\nSo perhaps the best match is CAPEC-496 (ICMP Fragmentation) because it\\'s network-related, even though it\\'s not exactly the same as the threat. But the threat mentions an MITM attack, which could be part of a larger network attack. \\n\\nAlternatively, maybe CAPEC-122 (Privilege Abuse) if the malicious function is using elevated privileges. But the description doesn\\'t mention that. \\n\\nI think the best fit is CAPEC-496, CAPEC-122, and CAPEC-126, even if some details don\\'t match perfectly. But the user wants three CAPEC IDs. \\n\\nWait, the user\\'s threat is about monitoring messaging across an A1 interface for a MITM attack to read policies. The CAPEC-496 is about ICMP fragmentation, which is a type of network attack. The threat could be related to network monitoring and MITM, which are part of the CAPEC-496. \\n\\nSo, the three CAPEC IDs could be CAPEC-496, CAPEC-122, and CAPEC-126. But I\\'m not entirely sure. Alternatively, maybe CAPEC-496, CAPEC-122, and CAPEC-126. \\n\\nBut the question says \"best match,\" so the answer would be the three IDs that most closely fit. Since the threat involves network monitoring and MITM, which are part of CAPEC-496. The other two could be related to privilege abuse and path traversal. \\n\\nBut I think the correct answer is CAPEC-496, CAPEC-122, and CAPEC-126. However, I need to check if any of these are more accurate. \\n\\nAlternatively, maybe the answer is CAPEC-496, CAPEC-122, and CAPEC-126. But I\\'m not 100% certain. However, given the options, these are the best matches.\\n</think>\\n\\nCAPEC-496, CAPEC-122, CAPEC-126']"
      ]
     },
     "execution_count": 76,
     "metadata": {},
     "output_type": "execute_result"
    }
   ],
   "source": [
    "qwen_outputs"
   ]
  },
  {
   "cell_type": "code",
   "execution_count": 80,
   "id": "ddc6ea56",
   "metadata": {},
   "outputs": [
    {
     "data": {
      "text/html": [
       "<div>\n",
       "<style scoped>\n",
       "    .dataframe tbody tr th:only-of-type {\n",
       "        vertical-align: middle;\n",
       "    }\n",
       "\n",
       "    .dataframe tbody tr th {\n",
       "        vertical-align: top;\n",
       "    }\n",
       "\n",
       "    .dataframe thead th {\n",
       "        text-align: right;\n",
       "    }\n",
       "</style>\n",
       "<table border=\"1\" class=\"dataframe\">\n",
       "  <thead>\n",
       "    <tr style=\"text-align: right;\">\n",
       "      <th></th>\n",
       "      <th>CAPEC ID</th>\n",
       "      <th>capec_name</th>\n",
       "      <th>capec_description</th>\n",
       "      <th>capec_domain</th>\n",
       "      <th>summary</th>\n",
       "      <th>embedding</th>\n",
       "    </tr>\n",
       "  </thead>\n",
       "  <tbody>\n",
       "    <tr>\n",
       "      <th>545</th>\n",
       "      <td>CAPEC-126</td>\n",
       "      <td>Path Traversal</td>\n",
       "      <td>An adversary uses path manipulation methods to...</td>\n",
       "      <td>[Software]</td>\n",
       "      <td>A CAPEC with the title Path Traversal. The des...</td>\n",
       "      <td>[-0.004735628, 0.01028619, -0.09976955, 0.0583...</td>\n",
       "    </tr>\n",
       "    <tr>\n",
       "      <th>547</th>\n",
       "      <td>CAPEC-496</td>\n",
       "      <td>ICMP Fragmentation</td>\n",
       "      <td>An attacker may execute a ICMP Fragmentation a...</td>\n",
       "      <td>[Communications, Software]</td>\n",
       "      <td>A CAPEC with the title ICMP Fragmentation. The...</td>\n",
       "      <td>[0.0005232618, 0.0015655044, -0.019489542, -0....</td>\n",
       "    </tr>\n",
       "    <tr>\n",
       "      <th>552</th>\n",
       "      <td>CAPEC-122</td>\n",
       "      <td>Privilege Abuse</td>\n",
       "      <td>An adversary is able to exploit features of th...</td>\n",
       "      <td>[Software, Hardware]</td>\n",
       "      <td>A CAPEC with the title Privilege Abuse. The de...</td>\n",
       "      <td>[-0.067382865, 0.029968785, -0.09720945, -0.02...</td>\n",
       "    </tr>\n",
       "  </tbody>\n",
       "</table>\n",
       "</div>"
      ],
      "text/plain": [
       "      CAPEC ID          capec_name  \\\n",
       "545  CAPEC-126      Path Traversal   \n",
       "547  CAPEC-496  ICMP Fragmentation   \n",
       "552  CAPEC-122     Privilege Abuse   \n",
       "\n",
       "                                     capec_description  \\\n",
       "545  An adversary uses path manipulation methods to...   \n",
       "547  An attacker may execute a ICMP Fragmentation a...   \n",
       "552  An adversary is able to exploit features of th...   \n",
       "\n",
       "                   capec_domain  \\\n",
       "545                  [Software]   \n",
       "547  [Communications, Software]   \n",
       "552        [Software, Hardware]   \n",
       "\n",
       "                                               summary  \\\n",
       "545  A CAPEC with the title Path Traversal. The des...   \n",
       "547  A CAPEC with the title ICMP Fragmentation. The...   \n",
       "552  A CAPEC with the title Privilege Abuse. The de...   \n",
       "\n",
       "                                             embedding  \n",
       "545  [-0.004735628, 0.01028619, -0.09976955, 0.0583...  \n",
       "547  [0.0005232618, 0.0015655044, -0.019489542, -0....  \n",
       "552  [-0.067382865, 0.029968785, -0.09720945, -0.02...  "
      ]
     },
     "execution_count": 80,
     "metadata": {},
     "output_type": "execute_result"
    }
   ],
   "source": [
    "capecs_with_embeddings_df[capecs_with_embeddings_df['CAPEC ID'].isin(['CAPEC-496', 'CAPEC-122', 'CAPEC-126'])]\n"
   ]
  },
  {
   "attachments": {
    "image.png": {
     "image/png": "[encoded data removed]"
    }
   },
   "cell_type": "markdown",
   "id": "92467ce2",
   "metadata": {},
   "source": [
    "![image.png](attachment:image.png)"
   ]
  },
  {
   "cell_type": "code",
   "execution_count": 111,
   "id": "8c53c2ea",
   "metadata": {},
   "outputs": [],
   "source": [
    "from google import genai\n",
    "# from dotenv import load_dotenv\n",
    "# load_dotenv()"
   ]
  },
  {
   "cell_type": "code",
   "execution_count": 112,
   "id": "81333a7d",
   "metadata": {},
   "outputs": [],
   "source": [
    "client = genai.Client()"
   ]
  },
  {
   "cell_type": "code",
   "execution_count": 113,
   "id": "e84aaa9d",
   "metadata": {},
   "outputs": [],
   "source": [
    "generation_config = {\n",
    "    \"temperature\": 0.0,  # Controls randomness. Lower is more deterministic.\n",
    "    \"seed\": 2024         # Ensures reproducible results for the same prompt.\n",
    "}"
   ]
  },
  {
   "cell_type": "code",
   "execution_count": 116,
   "id": "7d2bfcfa",
   "metadata": {},
   "outputs": [],
   "source": [
    "responses = []\n",
    "\n",
    "for idx, row in df.iterrows():\n",
    "    threat = row['summary_th_df']\n",
    "    prompt = create_prompt(threat)\n",
    "\n",
    "    try:\n",
    "        response = client.models.generate_content(model = \"gemini-2.5\", contents=prompt,generation_config=generation_config)\n",
    "        print(\"Here\")\n",
    "        responses.append(response.text)\n",
    "    except Exception as e:\n",
    "        responses.append(f\"[ERROR] {e}\")\n"
   ]
  },
  {
   "cell_type": "code",
   "execution_count": 115,
   "id": "b43f5290",
   "metadata": {},
   "outputs": [
    {
     "data": {
      "text/markdown": [
       "Based on the threat summary: \"A Threat with the title Malicious function or application monitors messaging across A1 interface and the description Internal threat actor can gain access to the messaging across the A1 interface for a MiTM attack to read policy,\" here are the five most appropriate CAPEC IDs:\n",
       "\n",
       "1.  **CAPEC-94: Man-in-the-Middle**\n",
       "    *   **Reasoning:** The description explicitly states \"for a MiTM attack.\" This CAPEC directly covers the core attack pattern where an attacker intercepts and relays communications between two parties, making them believe they are communicating directly.\n",
       "\n",
       "2.  **CAPEC-109: Network Eavesdropping**\n",
       "    *   **Reasoning:** The threat involves \"monitors messaging across A1 interface\" and gaining \"access to the messaging...to read policy.\" Network Eavesdropping directly describes the passive interception of network traffic to gain information, which is a foundational aspect of \"monitoring messaging\" and can precede or accompany an active MiTM.\n",
       "\n",
       "3.  **CAPEC-59: Traffic Redirection**\n",
       "    *   **Reasoning:** A Man-in-the-Middle attack fundamentally relies on diverting network traffic through the attacker. Traffic Redirection is the specific mechanism by which the attacker causes network traffic intended for one destination to be sent to another location (under the attacker's control), enabling the MiTM.\n",
       "\n",
       "4.  **CAPEC-113: Subverting the Device**\n",
       "    *   **Reasoning:** The threat begins with \"Malicious function or application.\" To monitor messaging or perform MiTM, the attacker often needs to establish a presence or introduce malicious software onto a network device, server, or endpoint that handles the A1 interface traffic. Subverting the Device describes how an attacker introduces malicious software to gain control or access information, which would be necessary to implement the \"malicious function or application.\"\n",
       "\n",
       "5.  **CAPEC-104: Packet Sniffing**\n",
       "    *   **Reasoning:** \"Monitors messaging across A1 interface\" and \"gain access to the messaging\" points directly to the technical act of capturing data packets. Packet Sniffing is a specific technique used to capture and analyze network traffic, which is essential for \"reading policy\" in an intercepted communication stream. It's the underlying technical method for the \"eavesdropping\" aspect."
      ],
      "text/plain": [
       "<IPython.core.display.Markdown object>"
      ]
     },
     "metadata": {},
     "output_type": "display_data"
    }
   ],
   "source": [
    "display(Markdown(response.text))"
   ]
  },
  {
   "cell_type": "markdown",
   "id": "527021bd",
   "metadata": {},
   "source": [
    "### RAG"
   ]
  },
  {
   "cell_type": "code",
   "execution_count": null,
   "id": "f6b01b1d",
   "metadata": {},
   "outputs": [],
   "source": []
  },
  {
   "cell_type": "markdown",
   "id": "8e6bb3f9",
   "metadata": {},
   "source": [
    "### Fine Tuning with LoRA"
   ]
  },
  {
   "cell_type": "code",
   "execution_count": null,
   "id": "0aa85faf",
   "metadata": {},
   "outputs": [],
   "source": []
  },
  {
   "cell_type": "markdown",
   "id": "f1788469",
   "metadata": {},
   "source": [
    "## Evaluation"
   ]
  },
  {
   "cell_type": "code",
   "execution_count": null,
   "id": "35848faf",
   "metadata": {},
   "outputs": [],
   "source": []
  }
 ],
 "metadata": {
  "kernelspec": {
   "display_name": ".venv",
   "language": "python",
   "name": "python3"
  },
  "language_info": {
   "codemirror_mode": {
    "name": "ipython",
    "version": 3
   },
   "file_extension": ".py",
   "mimetype": "text/x-python",
   "name": "python",
   "nbconvert_exporter": "python",
   "pygments_lexer": "ipython3",
   "version": "3.13.3"
  }
 },
 "nbformat": 4,
 "nbformat_minor": 5
}
