{
 "cells": [
  {
   "cell_type": "markdown",
   "id": "afcf284f",
   "metadata": {},
   "source": [
    "# CRISP DM\n"
   ]
  },
  {
   "cell_type": "markdown",
   "id": "ba15c3be",
   "metadata": {},
   "source": [
    "# Problem Understanding:\n",
    "A central step in the ORCA pipeline is the automated mapping of natural language threat\n",
    "descriptions to structured attack patterns from the Common Attack Pattern Enumeration\n",
    "and Classification (CAPEC) framework. This process—referred to as Threat-to-CAPEC\n",
    "Mapping—aims to translate unstructured textual threat inputs into standardized, machine-\n",
    "readable representations that describe how an attacker might exploit a given vulnerability.\n",
    "This mapping is critical for enabling further steps in the security analysis process, such\n",
    "as correlating threats with known vulnerabilities (CWEs, CVEs), assessing risk using\n",
    "scoring systems like CVSS, and informing mitigation strategies. However, the task poses\n",
    "several inherent challenges:\n",
    "Ambiguity: Threat descriptions are often informal, incomplete, or context-dependent.\n",
    "Terminology mismatch: Natural language inputs may not directly align with the technical\n",
    "vocabulary used in CAPEC definitions.\n",
    "Granularity: A single threat may correspond to multiple CAPECs at varying levels of\n",
    "abstraction, requiring semantic reasoning to determine relevance.\n",
    "Solving this problem involves designing a system capable of understanding the semantics\n",
    "of threat descriptions and reliably identifying the most appropriate CAPEC entries. This\n",
    "step must balance accuracy, scalability, and interpretability to support reliable, automated\n",
    "security assessments within the broader ORCA framework."
   ]
  },
  {
   "cell_type": "markdown",
   "id": "28377b02",
   "metadata": {},
   "source": [
    "# Data Understanding"
   ]
  },
  {
   "cell_type": "code",
   "execution_count": 2,
   "id": "92b7bdae",
   "metadata": {},
   "outputs": [
    {
     "name": "stderr",
     "output_type": "stream",
     "text": [
      "/root/MasterThesis_LLM_optimization_ORCA/.venv/lib/python3.13/site-packages/tqdm/auto.py:21: TqdmWarning: IProgress not found. Please update jupyter and ipywidgets. See https://ipywidgets.readthedocs.io/en/stable/user_install.html\n",
      "  from .autonotebook import tqdm as notebook_tqdm\n"
     ]
    },
    {
     "data": {
      "text/html": [
       "\n",
       "<style>\n",
       "/* White background for output area */\n",
       ".output_area {\n",
       "    background: white !important;\n",
       "    color: black !important;\n",
       "}\n",
       "\n",
       "/* Optional: White background for DataFrame cells */\n",
       ".dataframe {\n",
       "    background-color: white !important;\n",
       "    color: black !important;\n",
       "}\n",
       "</style>\n"
      ],
      "text/plain": [
       "<IPython.core.display.HTML object>"
      ]
     },
     "metadata": {},
     "output_type": "display_data"
    }
   ],
   "source": [
    "# imports\n",
    "import pandas as pd\n",
    "import json\n",
    "import re\n",
    "import time\n",
    "from datetime import datetime, timedelta\n",
    "import csv\n",
    "import ollama\n",
    "from IPython.display import HTML, display\n",
    "from git import Repo, InvalidGitRepositoryError\n",
    "import os\n",
    "import shutil\n",
    "\n",
    "from stix2 import FileSystemSource\n",
    "from stix2 import Filter\n",
    "\n",
    "from sentence_transformers import SentenceTransformer, util\n",
    "import torch\n",
    "import chromadb\n",
    "from chromadb import Documents, EmbeddingFunction, Embeddings\n",
    "\n",
    "import pprint\n",
    "from pprint import pprint\n",
    "\n",
    "from tqdm import tqdm\n",
    "from google import genai\n",
    "from google.genai import types\n",
    "\n",
    "from pprint import pprint\n",
    "\n",
    "from IPython.display import HTML, Markdown, display\n",
    "\n",
    "display(HTML('''\n",
    "<style>\n",
    "/* White background for output area */\n",
    ".output_area {\n",
    "    background: white !important;\n",
    "    color: black !important;\n",
    "}\n",
    "\n",
    "/* Optional: White background for DataFrame cells */\n",
    ".dataframe {\n",
    "    background-color: white !important;\n",
    "    color: black !important;\n",
    "}\n",
    "</style>\n",
    "'''))\n",
    "\n"
   ]
  },
  {
   "cell_type": "code",
   "execution_count": 3,
   "id": "5ce09cf6",
   "metadata": {},
   "outputs": [],
   "source": [
    "# setting display options for pandas\n",
    "pd.set_option('display.max_columns', None)\n",
    "pd.set_option('display.width', None)\n",
    "pd.set_option('display.max_colwidth', None)"
   ]
  },
  {
   "cell_type": "markdown",
   "id": "88e0f901",
   "metadata": {},
   "source": [
    "Import threat data from json file"
   ]
  },
  {
   "cell_type": "code",
   "execution_count": 25,
   "id": "852276b1",
   "metadata": {},
   "outputs": [],
   "source": [
    "# Load threat data from JSON file into a DataFrame\n",
    "df_threats = pd.read_json('threat_data/all_threats.json')"
   ]
  },
  {
   "cell_type": "code",
   "execution_count": 26,
   "id": "0fde54f2",
   "metadata": {},
   "outputs": [
    {
     "name": "stdout",
     "output_type": "stream",
     "text": [
      "<class 'pandas.core.frame.DataFrame'>\n",
      "RangeIndex: 182 entries, 0 to 181\n",
      "Data columns (total 9 columns):\n",
      " #   Column               Non-Null Count  Dtype \n",
      "---  ------               --------------  ----- \n",
      " 0   Threat ID            182 non-null    object\n",
      " 1   Threat title         182 non-null    object\n",
      " 2   Threat Description   182 non-null    object\n",
      " 3   Threat type          82 non-null     object\n",
      " 4   Impact type          82 non-null     object\n",
      " 5   Threat agent         182 non-null    object\n",
      " 6   Vulnerability        182 non-null    object\n",
      " 7   Threatened Asset     182 non-null    object\n",
      " 8   Affected Components  182 non-null    object\n",
      "dtypes: object(9)\n",
      "memory usage: 12.9+ KB\n"
     ]
    }
   ],
   "source": [
    "# Display DataFrame information\n",
    "df_threats.info()"
   ]
  },
  {
   "cell_type": "markdown",
   "id": "1be67c75",
   "metadata": {},
   "source": [
    "There a 182 threats in 9 columns, each threat has a unique ID, a title, a description, a threat type, an impact type, a threat agent, one or more vulnerabilities (safed in a list), a threatened asset and a affected component"
   ]
  },
  {
   "cell_type": "code",
   "execution_count": 27,
   "id": "a797c421",
   "metadata": {},
   "outputs": [
    {
     "data": {
      "text/html": [
       "<div>\n",
       "<style scoped>\n",
       "    .dataframe tbody tr th:only-of-type {\n",
       "        vertical-align: middle;\n",
       "    }\n",
       "\n",
       "    .dataframe tbody tr th {\n",
       "        vertical-align: top;\n",
       "    }\n",
       "\n",
       "    .dataframe thead th {\n",
       "        text-align: right;\n",
       "    }\n",
       "</style>\n",
       "<table border=\"1\" class=\"dataframe\">\n",
       "  <thead>\n",
       "    <tr style=\"text-align: right;\">\n",
       "      <th></th>\n",
       "      <th>Threat ID</th>\n",
       "      <th>Threat title</th>\n",
       "      <th>Threat Description</th>\n",
       "      <th>Threat type</th>\n",
       "      <th>Impact type</th>\n",
       "      <th>Threat agent</th>\n",
       "      <th>Vulnerability</th>\n",
       "      <th>Threatened Asset</th>\n",
       "      <th>Affected Components</th>\n",
       "    </tr>\n",
       "  </thead>\n",
       "  <tbody>\n",
       "    <tr>\n",
       "      <th>count</th>\n",
       "      <td>182</td>\n",
       "      <td>182</td>\n",
       "      <td>182</td>\n",
       "      <td>82</td>\n",
       "      <td>82</td>\n",
       "      <td>182</td>\n",
       "      <td>182</td>\n",
       "      <td>182</td>\n",
       "      <td>182</td>\n",
       "    </tr>\n",
       "    <tr>\n",
       "      <th>unique</th>\n",
       "      <td>182</td>\n",
       "      <td>181</td>\n",
       "      <td>182</td>\n",
       "      <td>16</td>\n",
       "      <td>17</td>\n",
       "      <td>2</td>\n",
       "      <td>116</td>\n",
       "      <td>58</td>\n",
       "      <td>55</td>\n",
       "    </tr>\n",
       "    <tr>\n",
       "      <th>top</th>\n",
       "      <td>T-O-RAN-01</td>\n",
       "      <td>External attacker exploits authentication weakness on SMO</td>\n",
       "      <td>Unauthenticated/unauthorized access to O-RAN components could possibly be achieved via the different O-RAN interfaces, depending upon the design of the hardware-software O-RAN system and how different functions are segregated within the O-RAN system. \\nO-RAN components might be vulnerable if: \\n• Outdated component from the lack of update or patch management,\\n• Poorly design architecture,\\n• Missing appropriate security hardening,\\n• Unnecessary or insecure function/protocol/component.\\nAn attacker could, in such case, either inject malwares and/or manipulate existing software, harm the O-RAN components, create a performance issue by manipulation of parameters, or reconfigure the O-RAN components and disable the security features with the purpose of eavesdropping or wiretapping on various CUS &amp; M planes, reaching northbound systems, attack broader network to cause denial-of-service, steal unprotected private keys, certificates, hash values, or other type of breaches.\\nIn addition, O-RAN components could be software providing network functions, so they are likely to be vulnerable to software flaws: it could be possible to bypass firewall restrictions or to take advantage of a buffer overflow to execute arbitrary commands, etc.</td>\n",
       "      <td>Spoofing</td>\n",
       "      <td>Authenticity</td>\n",
       "      <td>All</td>\n",
       "      <td>[weak mutual authentication]</td>\n",
       "      <td>ASSET-D-12, ASSET-D-13, ASSET-D-14, ASSET-D-15, ASSET-D-16, ASSET-D-17, ASSET-D-18, ASSET-D-19, ASSET-D-20, ASSET-D-29, ASSET-D-31, ASSET-D-32</td>\n",
       "      <td>All</td>\n",
       "    </tr>\n",
       "    <tr>\n",
       "      <th>freq</th>\n",
       "      <td>1</td>\n",
       "      <td>2</td>\n",
       "      <td>1</td>\n",
       "      <td>28</td>\n",
       "      <td>26</td>\n",
       "      <td>178</td>\n",
       "      <td>12</td>\n",
       "      <td>24</td>\n",
       "      <td>19</td>\n",
       "    </tr>\n",
       "  </tbody>\n",
       "</table>\n",
       "</div>"
      ],
      "text/plain": [
       "         Threat ID                                               Threat title  \\\n",
       "count          182                                                        182   \n",
       "unique         182                                                        181   \n",
       "top     T-O-RAN-01  External attacker exploits authentication weakness on SMO   \n",
       "freq             1                                                          2   \n",
       "\n",
       "                                                                                                                                                                                                                                                                                                                                                                                                                                                                                                                                                                                                                                                                                                                                                                                                                                                                                                                                                                                                                                                                                                                                                                                                                                                                                    Threat Description  \\\n",
       "count                                                                                                                                                                                                                                                                                                                                                                                                                                                                                                                                                                                                                                                                                                                                                                                                                                                                                                                                                                                                                                                                                                                                                                                                                                                                                              182   \n",
       "unique                                                                                                                                                                                                                                                                                                                                                                                                                                                                                                                                                                                                                                                                                                                                                                                                                                                                                                                                                                                                                                                                                                                                                                                                                                                                                             182   \n",
       "top     Unauthenticated/unauthorized access to O-RAN components could possibly be achieved via the different O-RAN interfaces, depending upon the design of the hardware-software O-RAN system and how different functions are segregated within the O-RAN system. \\nO-RAN components might be vulnerable if: \\n• Outdated component from the lack of update or patch management,\\n• Poorly design architecture,\\n• Missing appropriate security hardening,\\n• Unnecessary or insecure function/protocol/component.\\nAn attacker could, in such case, either inject malwares and/or manipulate existing software, harm the O-RAN components, create a performance issue by manipulation of parameters, or reconfigure the O-RAN components and disable the security features with the purpose of eavesdropping or wiretapping on various CUS & M planes, reaching northbound systems, attack broader network to cause denial-of-service, steal unprotected private keys, certificates, hash values, or other type of breaches.\\nIn addition, O-RAN components could be software providing network functions, so they are likely to be vulnerable to software flaws: it could be possible to bypass firewall restrictions or to take advantage of a buffer overflow to execute arbitrary commands, etc.   \n",
       "freq                                                                                                                                                                                                                                                                                                                                                                                                                                                                                                                                                                                                                                                                                                                                                                                                                                                                                                                                                                                                                                                                                                                                                                                                                                                                                                 1   \n",
       "\n",
       "       Threat type   Impact type Threat agent                 Vulnerability  \\\n",
       "count           82            82          182                           182   \n",
       "unique          16            17            2                           116   \n",
       "top       Spoofing  Authenticity          All  [weak mutual authentication]   \n",
       "freq            28            26          178                            12   \n",
       "\n",
       "                                                                                                                                      Threatened Asset  \\\n",
       "count                                                                                                                                              182   \n",
       "unique                                                                                                                                              58   \n",
       "top     ASSET-D-12, ASSET-D-13, ASSET-D-14, ASSET-D-15, ASSET-D-16, ASSET-D-17, ASSET-D-18, ASSET-D-19, ASSET-D-20, ASSET-D-29, ASSET-D-31, ASSET-D-32   \n",
       "freq                                                                                                                                                24   \n",
       "\n",
       "       Affected Components  \n",
       "count                  182  \n",
       "unique                  55  \n",
       "top                    All  \n",
       "freq                    19  "
      ]
     },
     "execution_count": 27,
     "metadata": {},
     "output_type": "execute_result"
    }
   ],
   "source": [
    "df_threats.describe()"
   ]
  },
  {
   "cell_type": "code",
   "execution_count": 28,
   "id": "ec02ea7c",
   "metadata": {},
   "outputs": [
    {
     "data": {
      "text/plain": [
       "Threat ID                0\n",
       "Threat title             0\n",
       "Threat Description       0\n",
       "Threat type            100\n",
       "Impact type            100\n",
       "Threat agent             0\n",
       "Vulnerability            0\n",
       "Threatened Asset         0\n",
       "Affected Components      0\n",
       "dtype: int64"
      ]
     },
     "execution_count": 28,
     "metadata": {},
     "output_type": "execute_result"
    }
   ],
   "source": [
    "df_threats.isnull().sum()"
   ]
  },
  {
   "cell_type": "code",
   "execution_count": 29,
   "id": "6bbf2588",
   "metadata": {},
   "outputs": [
    {
     "data": {
      "text/plain": [
       "Index(['Threat ID', 'Threat title', 'Threat Description', 'Threat type',\n",
       "       'Impact type', 'Threat agent', 'Vulnerability', 'Threatened Asset',\n",
       "       'Affected Components'],\n",
       "      dtype='object')"
      ]
     },
     "execution_count": 29,
     "metadata": {},
     "output_type": "execute_result"
    }
   ],
   "source": [
    "df_threats.columns"
   ]
  },
  {
   "cell_type": "code",
   "execution_count": 30,
   "id": "631fabe7",
   "metadata": {},
   "outputs": [
    {
     "data": {
      "text/html": [
       "<div>\n",
       "<style scoped>\n",
       "    .dataframe tbody tr th:only-of-type {\n",
       "        vertical-align: middle;\n",
       "    }\n",
       "\n",
       "    .dataframe tbody tr th {\n",
       "        vertical-align: top;\n",
       "    }\n",
       "\n",
       "    .dataframe thead th {\n",
       "        text-align: right;\n",
       "    }\n",
       "</style>\n",
       "<table border=\"1\" class=\"dataframe\">\n",
       "  <thead>\n",
       "    <tr style=\"text-align: right;\">\n",
       "      <th></th>\n",
       "      <th>Threat type</th>\n",
       "      <th>count</th>\n",
       "    </tr>\n",
       "  </thead>\n",
       "  <tbody>\n",
       "    <tr>\n",
       "      <th>0</th>\n",
       "      <td>Spoofing</td>\n",
       "      <td>28</td>\n",
       "    </tr>\n",
       "    <tr>\n",
       "      <th>1</th>\n",
       "      <td>Denial of Service</td>\n",
       "      <td>11</td>\n",
       "    </tr>\n",
       "    <tr>\n",
       "      <th>2</th>\n",
       "      <td>Elevation of Privilege</td>\n",
       "      <td>10</td>\n",
       "    </tr>\n",
       "    <tr>\n",
       "      <th>3</th>\n",
       "      <td>Information Disclosure</td>\n",
       "      <td>9</td>\n",
       "    </tr>\n",
       "    <tr>\n",
       "      <th>4</th>\n",
       "      <td>Tampering</td>\n",
       "      <td>8</td>\n",
       "    </tr>\n",
       "    <tr>\n",
       "      <th>5</th>\n",
       "      <td>Information disclosure</td>\n",
       "      <td>4</td>\n",
       "    </tr>\n",
       "    <tr>\n",
       "      <th>6</th>\n",
       "      <td>Tampering; Denial of Service</td>\n",
       "      <td>2</td>\n",
       "    </tr>\n",
       "    <tr>\n",
       "      <th>7</th>\n",
       "      <td>Elevation of Privilege, Information Disclosure</td>\n",
       "      <td>2</td>\n",
       "    </tr>\n",
       "    <tr>\n",
       "      <th>8</th>\n",
       "      <td>Elevation of Privilege; Denial of Service</td>\n",
       "      <td>1</td>\n",
       "    </tr>\n",
       "    <tr>\n",
       "      <th>9</th>\n",
       "      <td>Denial of Service, Escalation of Privilege</td>\n",
       "      <td>1</td>\n",
       "    </tr>\n",
       "    <tr>\n",
       "      <th>10</th>\n",
       "      <td>Denial of Service, Information Disclosure</td>\n",
       "      <td>1</td>\n",
       "    </tr>\n",
       "    <tr>\n",
       "      <th>11</th>\n",
       "      <td>Denial of Service; Tampering</td>\n",
       "      <td>1</td>\n",
       "    </tr>\n",
       "    <tr>\n",
       "      <th>12</th>\n",
       "      <td>Information disclosure, Tampering</td>\n",
       "      <td>1</td>\n",
       "    </tr>\n",
       "    <tr>\n",
       "      <th>13</th>\n",
       "      <td>Information Disclosure, Denial of Service</td>\n",
       "      <td>1</td>\n",
       "    </tr>\n",
       "    <tr>\n",
       "      <th>14</th>\n",
       "      <td>Tampering, Information Disclosure, Escalation of Privilege</td>\n",
       "      <td>1</td>\n",
       "    </tr>\n",
       "    <tr>\n",
       "      <th>15</th>\n",
       "      <td>Tampering; Elevation of Privilege; Denial of Service</td>\n",
       "      <td>1</td>\n",
       "    </tr>\n",
       "  </tbody>\n",
       "</table>\n",
       "</div>"
      ],
      "text/plain": [
       "                                                   Threat type  count\n",
       "0                                                     Spoofing     28\n",
       "1                                            Denial of Service     11\n",
       "2                                       Elevation of Privilege     10\n",
       "3                                       Information Disclosure      9\n",
       "4                                                    Tampering      8\n",
       "5                                       Information disclosure      4\n",
       "6                                 Tampering; Denial of Service      2\n",
       "7               Elevation of Privilege, Information Disclosure      2\n",
       "8                    Elevation of Privilege; Denial of Service      1\n",
       "9                   Denial of Service, Escalation of Privilege      1\n",
       "10                   Denial of Service, Information Disclosure      1\n",
       "11                                Denial of Service; Tampering      1\n",
       "12                           Information disclosure, Tampering      1\n",
       "13                   Information Disclosure, Denial of Service      1\n",
       "14  Tampering, Information Disclosure, Escalation of Privilege      1\n",
       "15        Tampering; Elevation of Privilege; Denial of Service      1"
      ]
     },
     "execution_count": 30,
     "metadata": {},
     "output_type": "execute_result"
    }
   ],
   "source": [
    "df_threats.groupby('Threat type').size().reset_index(name='count').sort_values(by='count', ascending=False).reset_index(drop=True)"
   ]
  },
  {
   "cell_type": "code",
   "execution_count": 31,
   "id": "31b6e9b3",
   "metadata": {},
   "outputs": [
    {
     "data": {
      "text/plain": [
       "np.True_"
      ]
     },
     "execution_count": 31,
     "metadata": {},
     "output_type": "execute_result"
    }
   ],
   "source": [
    "(df_threats['Threat type'].isnull() == df_threats['Impact type'].isnull()).all()\n"
   ]
  },
  {
   "cell_type": "code",
   "execution_count": 32,
   "id": "d9c8d7d8",
   "metadata": {},
   "outputs": [
    {
     "data": {
      "text/plain": [
       "Threat type\n",
       "None                                                          52\n",
       "NaN                                                           48\n",
       "Spoofing                                                      28\n",
       "Denial of Service                                             11\n",
       "Elevation of Privilege                                        10\n",
       "Information Disclosure                                         9\n",
       "Tampering                                                      8\n",
       "Information disclosure                                         4\n",
       "Elevation of Privilege, Information Disclosure                 2\n",
       "Tampering; Denial of Service                                   2\n",
       "Information disclosure, Tampering                              1\n",
       "Tampering, Information Disclosure, Escalation of Privilege     1\n",
       "Denial of Service, Escalation of Privilege                     1\n",
       "Denial of Service; Tampering                                   1\n",
       "Elevation of Privilege; Denial of Service                      1\n",
       "Tampering; Elevation of Privilege; Denial of Service           1\n",
       "Denial of Service, Information Disclosure                      1\n",
       "Information Disclosure, Denial of Service                      1\n",
       "Name: count, dtype: int64"
      ]
     },
     "execution_count": 32,
     "metadata": {},
     "output_type": "execute_result"
    }
   ],
   "source": [
    "df_threats['Threat type'].value_counts(dropna=False)"
   ]
  },
  {
   "cell_type": "code",
   "execution_count": 33,
   "id": "2ac5ec87",
   "metadata": {},
   "outputs": [
    {
     "data": {
      "text/plain": [
       "Impact type\n",
       "None                                         52\n",
       "NaN                                          48\n",
       "Authenticity                                 26\n",
       "Confidentiality                              14\n",
       "Availability                                 12\n",
       "Authorization                                 9\n",
       "Integrity                                     7\n",
       "Authentication                                2\n",
       "Integrity; Availability                       2\n",
       "Authorization. Confidentiality                1\n",
       "Integrity, Confidentiality, Authorization     1\n",
       "Availability; Integrity                       1\n",
       "Confidentiality, Integrity                    1\n",
       "Authorization; Availability                   1\n",
       "Integrity; Authorization; Availability        1\n",
       "Integrity, Availability                       1\n",
       "Availability, Confidentiality                 1\n",
       "Confidentiality, Availability                 1\n",
       "Authorization, Availability                   1\n",
       "Name: count, dtype: int64"
      ]
     },
     "execution_count": 33,
     "metadata": {},
     "output_type": "execute_result"
    }
   ],
   "source": [
    "df_threats['Impact type'].value_counts(dropna=False)"
   ]
  },
  {
   "cell_type": "code",
   "execution_count": 34,
   "id": "d64cb17d",
   "metadata": {},
   "outputs": [
    {
     "data": {
      "text/plain": [
       "Vulnerability\n",
       "[weak mutual authentication]                                                                                                                                                                                                                                                     12\n",
       "[Weak authentication can be exploited by a tenant to move laterally across the deployment.]                                                                                                                                                                                       9\n",
       "[Lack of integrity verification]                                                                                                                                                                                                                                                  5\n",
       "[Lack of overload protection and rate-limiting]                                                                                                                                                                                                                                   5\n",
       "[Weak confidentiality protection exploited to view sensitive data]                                                                                                                                                                                                                5\n",
       "                                                                                                                                                                                                                                                                                 ..\n",
       "[Inaccurate inventories of open-source software, Lack of consistent Supply Chain traceability and security, Lack of coding best practices, Modules with known vulnerabilities and untrusted libraries]                                                                            1\n",
       "[Improper physical security protection of data centres, PNFs, operation areas, etc., Improper protection to power outages (power supply), Improper protection against environmental disasters, Improper maintenance and monitoring of hardware parameters, Hardware backdoor]     1\n",
       "[Bugs in open source software caused by mistakes and human error]                                                                                                                                                                                                                 1\n",
       "[Physical access to the open Fronthaul cable network]                                                                                                                                                                                                                             1\n",
       "[Use of pretrained public ML model]                                                                                                                                                                                                                                               1\n",
       "Name: count, Length: 116, dtype: int64"
      ]
     },
     "execution_count": 34,
     "metadata": {},
     "output_type": "execute_result"
    }
   ],
   "source": [
    "df_threats['Vulnerability'].value_counts(dropna=False)"
   ]
  },
  {
   "cell_type": "markdown",
   "id": "027323c9",
   "metadata": {},
   "source": [
    "## Distribution Analysis\n"
   ]
  },
  {
   "cell_type": "code",
   "execution_count": 35,
   "id": "ec629f4c",
   "metadata": {},
   "outputs": [],
   "source": [
    "# some threat types as well as impact types are seperated by a comma, while others are seperated by a semicolon or a point\n",
    "# Replace all semicolons with commas\n",
    "df_threats['Threat type'] = df_threats['Threat type'].str.replace(';', ',', regex=False)\n",
    "df_threats['Threat type'] = df_threats['Threat type'].str.replace('.', ',', regex=False)\n",
    "df_threats['Impact type'] = df_threats['Impact type'].str.replace(';', ',', regex=False)\n",
    "df_threats['Impact type'] = df_threats['Impact type'].str.replace('.', ',', regex=False)\n",
    "# in the Threatened asssets column, some values have a underscore instead of a dash\n",
    "df_threats['Threatened Asset'] = df_threats['Threatened Asset'].str.replace('_', '-', regex=False)"
   ]
  },
  {
   "cell_type": "code",
   "execution_count": 36,
   "id": "e72a3e57",
   "metadata": {},
   "outputs": [],
   "source": [
    "# removing leading and trailing whitespace from the 'Threat type','Impact type','Threatened asset' and 'Affected components' columns\n",
    "df_threats['Threat type'] = df_threats['Threat type'].apply(\n",
    "    lambda x: [t.strip() for t in x.split(',')] if isinstance(x, str) else x\n",
    ")\n",
    "df_threats['Impact type'] = df_threats['Impact type'].apply(\n",
    "    lambda x: [t.strip() for t in x.split(',')] if isinstance(x, str) else x\n",
    ")\n",
    "df_threats['Threatened Asset'] = df_threats['Threatened Asset'].apply(\n",
    "    lambda x: [t.strip() for t in x.split(',')] if isinstance(x, str) else x\n",
    ")\n",
    "df_threats['Affected Components'] = df_threats['Affected Components'].apply(\n",
    "    lambda x: [t.strip() for t in x.split(',')] if isinstance(x, str) else x\n",
    ")\n",
    "# the vulnerability column contains a list with only one string element\n",
    "# this string contains multpile vulnerabilities separated by commas\n",
    "# we convert the list to this one string element and then split the string by commas\n",
    "df_threats['Vulnerability'] = df_threats['Vulnerability'].apply(lambda x: x[0] if isinstance(x, list) else x)\n",
    "df_threats['Vulnerability'] = df_threats['Vulnerability'].apply(\n",
    "    lambda x: [t.strip() for t in x.split(',')] if isinstance(x, str) else x\n",
    ")"
   ]
  },
  {
   "cell_type": "code",
   "execution_count": 37,
   "id": "70860c6b",
   "metadata": {},
   "outputs": [
    {
     "name": "stdout",
     "output_type": "stream",
     "text": [
      "['ASSET D-11',\n",
      " 'ASSET D-20',\n",
      " 'ASSET D-21',\n",
      " 'ASSET-C-02',\n",
      " 'ASSET-C-03',\n",
      " 'ASSET-C-07',\n",
      " 'ASSET-C-08',\n",
      " 'ASSET-C-09',\n",
      " 'ASSET-C-1',\n",
      " 'ASSET-C-10',\n",
      " 'ASSET-C-11',\n",
      " 'ASSET-C-12',\n",
      " 'ASSET-C-14',\n",
      " 'ASSET-C-16',\n",
      " 'ASSET-C-17',\n",
      " 'ASSET-C-18',\n",
      " 'ASSET-C-19',\n",
      " 'ASSET-C-2',\n",
      " 'ASSET-C-20',\n",
      " 'ASSET-C-21',\n",
      " 'ASSET-C-22',\n",
      " 'ASSET-C-23',\n",
      " 'ASSET-C-24',\n",
      " 'ASSET-C-25',\n",
      " 'ASSET-C-26',\n",
      " 'ASSET-C-27',\n",
      " 'ASSET-C-28',\n",
      " 'ASSET-C-3',\n",
      " 'ASSET-C-31',\n",
      " 'ASSET-C-32',\n",
      " 'ASSET-C-33',\n",
      " 'ASSET-C-34',\n",
      " 'ASSET-C-35',\n",
      " 'ASSET-C-36',\n",
      " 'ASSET-C-37',\n",
      " 'ASSET-C-38',\n",
      " 'ASSET-C-39',\n",
      " 'ASSET-C-4',\n",
      " 'ASSET-C-40',\n",
      " 'ASSET-C-42',\n",
      " 'ASSET-C-5',\n",
      " 'ASSET-C-6',\n",
      " 'ASSET-C-7',\n",
      " 'ASSET-C-8',\n",
      " 'ASSET-C-9',\n",
      " 'ASSET-D-01',\n",
      " 'ASSET-D-02',\n",
      " 'ASSET-D-03',\n",
      " 'ASSET-D-04',\n",
      " 'ASSET-D-05',\n",
      " 'ASSET-D-06',\n",
      " 'ASSET-D-07',\n",
      " 'ASSET-D-08',\n",
      " 'ASSET-D-09',\n",
      " 'ASSET-D-1',\n",
      " 'ASSET-D-10',\n",
      " 'ASSET-D-11',\n",
      " 'ASSET-D-12',\n",
      " 'ASSET-D-13',\n",
      " 'ASSET-D-14',\n",
      " 'ASSET-D-15',\n",
      " 'ASSET-D-16',\n",
      " 'ASSET-D-17',\n",
      " 'ASSET-D-18',\n",
      " 'ASSET-D-19',\n",
      " 'ASSET-D-2',\n",
      " 'ASSET-D-20',\n",
      " 'ASSET-D-21',\n",
      " 'ASSET-D-22',\n",
      " 'ASSET-D-23',\n",
      " 'ASSET-D-24',\n",
      " 'ASSET-D-25',\n",
      " 'ASSET-D-26',\n",
      " 'ASSET-D-27',\n",
      " 'ASSET-D-28',\n",
      " 'ASSET-D-29',\n",
      " 'ASSET-D-3',\n",
      " 'ASSET-D-30',\n",
      " 'ASSET-D-31',\n",
      " 'ASSET-D-32',\n",
      " 'ASSET-D-33',\n",
      " 'ASSET-D-34',\n",
      " 'ASSET-D-35',\n",
      " 'ASSET-D-36',\n",
      " 'ASSET-D-37',\n",
      " 'ASSET-D-38',\n",
      " 'ASSET-D-39',\n",
      " 'ASSET-D-4',\n",
      " 'ASSET-D-41',\n",
      " 'ASSET-D-43',\n",
      " 'ASSET-D-5',\n",
      " 'ASSET-D-6',\n",
      " 'ASSET-D-7',\n",
      " 'ASSET-D-8',\n",
      " 'ASSET-D-9']\n"
     ]
    }
   ],
   "source": [
    "# the 'Threatened Asset' column contains values like 'All' or 'ASSET-D-33 to ASSET-D-38', we solve this by manually turning this into the correct list\n",
    "\n",
    "\n",
    "# Example: start from your DataFrame\n",
    "# df_threats = pd.read_json(...)  # or however you're loading it\n",
    "\n",
    "# Step 1: Drop NaNs\n",
    "asset_entries = df_threats['Threatened Asset'].dropna()\n",
    "\n",
    "# Step 2: Function to expand ranges like 'ASSET-D-33 to ASSET-D-38'\n",
    "def expand_range(entry):\n",
    "    match = re.match(r\"(ASSET-[A-Z]-)(\\d+)\\s+to\\s+ASSET-[A-Z]-(\\d+)\", entry.strip())\n",
    "    if match:\n",
    "        prefix, start, end = match.groups()\n",
    "        return [f\"{prefix}{i}\" for i in range(int(start), int(end) + 1)]\n",
    "    return [entry.strip()]\n",
    "\n",
    "# Step 3: Build the set of unique assets\n",
    "all_assets = set()\n",
    "\n",
    "for entry in asset_entries:\n",
    "    # If entry is a list, turn it into a string\n",
    "    if isinstance(entry, list):\n",
    "        entry = ', '.join(entry)\n",
    "    \n",
    "    # Ensure it's a string before splitting\n",
    "    if isinstance(entry, str):\n",
    "        parts = [p.strip() for p in entry.split(',')]\n",
    "        for part in parts:\n",
    "            if part.lower() == 'all':\n",
    "                continue  # or expand to full known asset list if desired\n",
    "            elif 'to' in part:\n",
    "                expanded = expand_range(part)\n",
    "                all_assets.update(expanded)\n",
    "            else:\n",
    "                all_assets.add(part.strip())\n",
    "\n",
    "# Step 4: Show all unique asset names sorted\n",
    "all_assets = sorted(all_assets)\n",
    "pprint(all_assets)\n",
    "\n",
    "\n"
   ]
  },
  {
   "cell_type": "code",
   "execution_count": 38,
   "id": "0be8fa62",
   "metadata": {},
   "outputs": [],
   "source": [
    "def normalize_assets(value):\n",
    "    # Convert list to string if needed\n",
    "    if isinstance(value, list):\n",
    "        value = ', '.join(value)\n",
    "    \n",
    "    if isinstance(value, str):\n",
    "        value = value.strip()\n",
    "        if value.lower() == 'all':\n",
    "            return all_assets\n",
    "        elif 'to' in value:\n",
    "            return expand_range(value)\n",
    "        else:\n",
    "            # handle comma-separated list like 'ASSET-D-15, ASSET-C-17'\n",
    "            return [v.strip() for v in value.split(',')]\n",
    "    \n",
    "    return value  # leave as-is if unexpected\n",
    "\n",
    "df_threats['Threatened Asset'] = df_threats['Threatened Asset'].apply(normalize_assets)\n",
    "\n"
   ]
  },
  {
   "cell_type": "code",
   "execution_count": 39,
   "id": "659cdc4d",
   "metadata": {},
   "outputs": [
    {
     "data": {
      "text/plain": [
       "0     [ASSET D-11, ASSET D-20, ASSET D-21, ASSET-C-02, ASSET-C-03, ASSET-C-07, ASSET-C-08, ASSET-C-09, ASSET-C-1, ASSET-C-10, ASSET-C-11, ASSET-C-12, ASSET-C-14, ASSET-C-16, ASSET-C-17, ASSET-C-18, ASSET-C-19, ASSET-C-2, ASSET-C-20, ASSET-C-21, ASSET-C-22, ASSET-C-23, ASSET-C-24, ASSET-C-25, ASSET-C-26, ASSET-C-27, ASSET-C-28, ASSET-C-3, ASSET-C-31, ASSET-C-32, ASSET-C-33, ASSET-C-34, ASSET-C-35, ASSET-C-36, ASSET-C-37, ASSET-C-38, ASSET-C-39, ASSET-C-4, ASSET-C-40, ASSET-C-42, ASSET-C-5, ASSET-C-6, ASSET-C-7, ASSET-C-8, ASSET-C-9, ASSET-D-01, ASSET-D-02, ASSET-D-03, ASSET-D-04, ASSET-D-05, ASSET-D-06, ASSET-D-07, ASSET-D-08, ASSET-D-09, ASSET-D-1, ASSET-D-10, ASSET-D-11, ASSET-D-12, ASSET-D-13, ASSET-D-14, ASSET-D-15, ASSET-D-16, ASSET-D-17, ASSET-D-18, ASSET-D-19, ASSET-D-2, ASSET-D-20, ASSET-D-21, ASSET-D-22, ASSET-D-23, ASSET-D-24, ASSET-D-25, ASSET-D-26, ASSET-D-27, ASSET-D-28, ASSET-D-29, ASSET-D-3, ASSET-D-30, ASSET-D-31, ASSET-D-32, ASSET-D-33, ASSET-D-34, ASSET-D-35, ASSET-D-36, ASSET-D-37, ASSET-D-38, ASSET-D-39, ASSET-D-4, ASSET-D-41, ASSET-D-43, ASSET-D-5, ASSET-D-6, ASSET-D-7, ASSET-D-8, ASSET-D-9]\n",
       "1     [ASSET D-11, ASSET D-20, ASSET D-21, ASSET-C-02, ASSET-C-03, ASSET-C-07, ASSET-C-08, ASSET-C-09, ASSET-C-1, ASSET-C-10, ASSET-C-11, ASSET-C-12, ASSET-C-14, ASSET-C-16, ASSET-C-17, ASSET-C-18, ASSET-C-19, ASSET-C-2, ASSET-C-20, ASSET-C-21, ASSET-C-22, ASSET-C-23, ASSET-C-24, ASSET-C-25, ASSET-C-26, ASSET-C-27, ASSET-C-28, ASSET-C-3, ASSET-C-31, ASSET-C-32, ASSET-C-33, ASSET-C-34, ASSET-C-35, ASSET-C-36, ASSET-C-37, ASSET-C-38, ASSET-C-39, ASSET-C-4, ASSET-C-40, ASSET-C-42, ASSET-C-5, ASSET-C-6, ASSET-C-7, ASSET-C-8, ASSET-C-9, ASSET-D-01, ASSET-D-02, ASSET-D-03, ASSET-D-04, ASSET-D-05, ASSET-D-06, ASSET-D-07, ASSET-D-08, ASSET-D-09, ASSET-D-1, ASSET-D-10, ASSET-D-11, ASSET-D-12, ASSET-D-13, ASSET-D-14, ASSET-D-15, ASSET-D-16, ASSET-D-17, ASSET-D-18, ASSET-D-19, ASSET-D-2, ASSET-D-20, ASSET-D-21, ASSET-D-22, ASSET-D-23, ASSET-D-24, ASSET-D-25, ASSET-D-26, ASSET-D-27, ASSET-D-28, ASSET-D-29, ASSET-D-3, ASSET-D-30, ASSET-D-31, ASSET-D-32, ASSET-D-33, ASSET-D-34, ASSET-D-35, ASSET-D-36, ASSET-D-37, ASSET-D-38, ASSET-D-39, ASSET-D-4, ASSET-D-41, ASSET-D-43, ASSET-D-5, ASSET-D-6, ASSET-D-7, ASSET-D-8, ASSET-D-9]\n",
       "2     [ASSET D-11, ASSET D-20, ASSET D-21, ASSET-C-02, ASSET-C-03, ASSET-C-07, ASSET-C-08, ASSET-C-09, ASSET-C-1, ASSET-C-10, ASSET-C-11, ASSET-C-12, ASSET-C-14, ASSET-C-16, ASSET-C-17, ASSET-C-18, ASSET-C-19, ASSET-C-2, ASSET-C-20, ASSET-C-21, ASSET-C-22, ASSET-C-23, ASSET-C-24, ASSET-C-25, ASSET-C-26, ASSET-C-27, ASSET-C-28, ASSET-C-3, ASSET-C-31, ASSET-C-32, ASSET-C-33, ASSET-C-34, ASSET-C-35, ASSET-C-36, ASSET-C-37, ASSET-C-38, ASSET-C-39, ASSET-C-4, ASSET-C-40, ASSET-C-42, ASSET-C-5, ASSET-C-6, ASSET-C-7, ASSET-C-8, ASSET-C-9, ASSET-D-01, ASSET-D-02, ASSET-D-03, ASSET-D-04, ASSET-D-05, ASSET-D-06, ASSET-D-07, ASSET-D-08, ASSET-D-09, ASSET-D-1, ASSET-D-10, ASSET-D-11, ASSET-D-12, ASSET-D-13, ASSET-D-14, ASSET-D-15, ASSET-D-16, ASSET-D-17, ASSET-D-18, ASSET-D-19, ASSET-D-2, ASSET-D-20, ASSET-D-21, ASSET-D-22, ASSET-D-23, ASSET-D-24, ASSET-D-25, ASSET-D-26, ASSET-D-27, ASSET-D-28, ASSET-D-29, ASSET-D-3, ASSET-D-30, ASSET-D-31, ASSET-D-32, ASSET-D-33, ASSET-D-34, ASSET-D-35, ASSET-D-36, ASSET-D-37, ASSET-D-38, ASSET-D-39, ASSET-D-4, ASSET-D-41, ASSET-D-43, ASSET-D-5, ASSET-D-6, ASSET-D-7, ASSET-D-8, ASSET-D-9]\n",
       "3                                                                                                                                                                                                                                                                                                                                                                                                                                                                                                                                                                                                                                                                                                                                                                                                                                                                                                                                                                                                                                                                                                                                               [ASSET-D-06, ASSET-D-18]\n",
       "4     [ASSET D-11, ASSET D-20, ASSET D-21, ASSET-C-02, ASSET-C-03, ASSET-C-07, ASSET-C-08, ASSET-C-09, ASSET-C-1, ASSET-C-10, ASSET-C-11, ASSET-C-12, ASSET-C-14, ASSET-C-16, ASSET-C-17, ASSET-C-18, ASSET-C-19, ASSET-C-2, ASSET-C-20, ASSET-C-21, ASSET-C-22, ASSET-C-23, ASSET-C-24, ASSET-C-25, ASSET-C-26, ASSET-C-27, ASSET-C-28, ASSET-C-3, ASSET-C-31, ASSET-C-32, ASSET-C-33, ASSET-C-34, ASSET-C-35, ASSET-C-36, ASSET-C-37, ASSET-C-38, ASSET-C-39, ASSET-C-4, ASSET-C-40, ASSET-C-42, ASSET-C-5, ASSET-C-6, ASSET-C-7, ASSET-C-8, ASSET-C-9, ASSET-D-01, ASSET-D-02, ASSET-D-03, ASSET-D-04, ASSET-D-05, ASSET-D-06, ASSET-D-07, ASSET-D-08, ASSET-D-09, ASSET-D-1, ASSET-D-10, ASSET-D-11, ASSET-D-12, ASSET-D-13, ASSET-D-14, ASSET-D-15, ASSET-D-16, ASSET-D-17, ASSET-D-18, ASSET-D-19, ASSET-D-2, ASSET-D-20, ASSET-D-21, ASSET-D-22, ASSET-D-23, ASSET-D-24, ASSET-D-25, ASSET-D-26, ASSET-D-27, ASSET-D-28, ASSET-D-29, ASSET-D-3, ASSET-D-30, ASSET-D-31, ASSET-D-32, ASSET-D-33, ASSET-D-34, ASSET-D-35, ASSET-D-36, ASSET-D-37, ASSET-D-38, ASSET-D-39, ASSET-D-4, ASSET-D-41, ASSET-D-43, ASSET-D-5, ASSET-D-6, ASSET-D-7, ASSET-D-8, ASSET-D-9]\n",
       "5     [ASSET D-11, ASSET D-20, ASSET D-21, ASSET-C-02, ASSET-C-03, ASSET-C-07, ASSET-C-08, ASSET-C-09, ASSET-C-1, ASSET-C-10, ASSET-C-11, ASSET-C-12, ASSET-C-14, ASSET-C-16, ASSET-C-17, ASSET-C-18, ASSET-C-19, ASSET-C-2, ASSET-C-20, ASSET-C-21, ASSET-C-22, ASSET-C-23, ASSET-C-24, ASSET-C-25, ASSET-C-26, ASSET-C-27, ASSET-C-28, ASSET-C-3, ASSET-C-31, ASSET-C-32, ASSET-C-33, ASSET-C-34, ASSET-C-35, ASSET-C-36, ASSET-C-37, ASSET-C-38, ASSET-C-39, ASSET-C-4, ASSET-C-40, ASSET-C-42, ASSET-C-5, ASSET-C-6, ASSET-C-7, ASSET-C-8, ASSET-C-9, ASSET-D-01, ASSET-D-02, ASSET-D-03, ASSET-D-04, ASSET-D-05, ASSET-D-06, ASSET-D-07, ASSET-D-08, ASSET-D-09, ASSET-D-1, ASSET-D-10, ASSET-D-11, ASSET-D-12, ASSET-D-13, ASSET-D-14, ASSET-D-15, ASSET-D-16, ASSET-D-17, ASSET-D-18, ASSET-D-19, ASSET-D-2, ASSET-D-20, ASSET-D-21, ASSET-D-22, ASSET-D-23, ASSET-D-24, ASSET-D-25, ASSET-D-26, ASSET-D-27, ASSET-D-28, ASSET-D-29, ASSET-D-3, ASSET-D-30, ASSET-D-31, ASSET-D-32, ASSET-D-33, ASSET-D-34, ASSET-D-35, ASSET-D-36, ASSET-D-37, ASSET-D-38, ASSET-D-39, ASSET-D-4, ASSET-D-41, ASSET-D-43, ASSET-D-5, ASSET-D-6, ASSET-D-7, ASSET-D-8, ASSET-D-9]\n",
       "6                                                                                                                                                                                                                                                                                                                                                                                                                                                                                                                                                                                                                                                                                                                                                                                                                                                                                                                                                                                                                                                                                                                                                           [ASSET-D-29]\n",
       "7                                                                                                                                                                                                                                                                                                                                                                                                                                                                                                                                                                                                                                                                                                                                                                                                                    [ASSET-D-1, ASSET-D-2, ASSET-D-3, ASSET-D-4, ASSET-D-5, ASSET-D-6, ASSET-D-7, ASSET-D-8, ASSET-D-9, ASSET-D-10, ASSET-D-11, ASSET-D-12, ASSET-D-13, ASSET-D-14, ASSET-D-15, ASSET-D-16, ASSET-D-17, ASSET-D-18, ASSET-D-19, ASSET-D-20, ASSET-D-21, ASSET-D-22, ASSET-D-23, ASSET-D-24, ASSET-D-25, ASSET-D-26, ASSET-D-27, ASSET-D-28, ASSET-D-29]\n",
       "8                                                                                                                                                                                                                                                                                                                                                                                                                                                                                                                                                                                                                                                                                                                                                                                                                                                                                                                                                                                                                                [ASSET-C-1, ASSET-C-2, ASSET-C-3, ASSET-C-4, ASSET-C-5, ASSET-C-6, ASSET-C-7, ASSET-C-8, ASSET-C-9, ASSET-C-10, ASSET-C-11, ASSET-C-12]\n",
       "9                                                                                                                                                                                                                                                                                                                                                                                                                                                                                                                                                                                                                                                                                                                                                                                                                                                                                                                                                                                                                                                                                                                       [ASSET-D-01, ASSET-D-02, ASSET-D-04, ASSET-D-05]\n",
       "10                                                                                                                                                                                                                                                                                                                                                                                                                                                                                                                                                                                                                                                                                                                                                                                                                                                                                                                                                                                                                                                                                                                      [ASSET-D-01, ASSET-D-02, ASSET-D-04, ASSET-D-05]\n",
       "11                                                                                                                                                                                                                                                                                                                                                                                                                                                                                                                                                                                                                                                                                                                                                                                                                                                                                                                                                                                                                                                                                                                                              [ASSET-D-02, ASSET-D-03]\n",
       "12                                                                                                                                                                                                                                                                                                                                                                                                                                                                                                                                                                                                                                                                                                                                                                                                                                                                                                                                                                                                                                                                                                                                                          [ASSET-D-01]\n",
       "13                                                                                                                                                                                                                                                                                                                                                                                                                                                                                                                                                                                                                                                                                                                                                                                                                                                                                                                                                                                                                                                                                                                                                          [ASSET-D-01]\n",
       "14                                                                                                                                                                                                                                                                                                                                                                                                                                                                                                                                                                                                                                                                                                                                                                                                                                                                                                                                                                                                                                                                                                                                                          [ASSET-D-01]\n",
       "15                                                                                                                                                                                                                                                                                                                                                                                                                                                                                                                                                                                                                                                                                                                                                                                                                                                                                                                                                                                                                                                                                                                                                          [ASSET-D-01]\n",
       "16                                                                                                                                                                                                                                                                                                                                                                                                                                                                                                                                                                                                                                                                                                                                                                                                                                                                                                                                                                                                                                                                                                                                                          [ASSET-D-01]\n",
       "17                                                                                                                                                                                                                                                                                                                                                                                                                                                                                                                                                                                                                                                                                                                                                                                                                                                                                                                                                                                                                                                                                                                                                          [ASSET-D-04]\n",
       "18                                                                                                                                                                                                                                                                                                                                                                                                                                                                                                                                                                                                                                                                                                                                                                                                                                                                                                                                                                                                                                                                                                                                                          [ASSET-D-04]\n",
       "19                                                                                                                                                                                                                                                                                                                                                                                                                                                                                                                                                                                                                                                                                                                                                                                                                                                                                                                                                                                                                                                                                                                                                          [ASSET-D-05]\n",
       "Name: Threatened Asset, dtype: object"
      ]
     },
     "execution_count": 39,
     "metadata": {},
     "output_type": "execute_result"
    }
   ],
   "source": [
    "df_threats['Threatened Asset'].head(20)"
   ]
  },
  {
   "cell_type": "code",
   "execution_count": 40,
   "id": "a5b4f2ce",
   "metadata": {},
   "outputs": [
    {
     "data": {
      "text/plain": [
       "Threat type\n",
       "Spoofing                   28\n",
       "Denial of Service          19\n",
       "Elevation of Privilege     14\n",
       "Information Disclosure     14\n",
       "Tampering                  14\n",
       "Information disclosure      5\n",
       "Escalation of Privilege     2\n",
       "Name: count, dtype: int64"
      ]
     },
     "execution_count": 40,
     "metadata": {},
     "output_type": "execute_result"
    }
   ],
   "source": [
    "df_threats['Threat type'].explode().value_counts()\n",
    "# The most common threat type is Spoofing, which occurs 28 times"
   ]
  },
  {
   "cell_type": "code",
   "execution_count": 41,
   "id": "045de193",
   "metadata": {},
   "outputs": [
    {
     "data": {
      "text/plain": [
       "Vulnerability\n",
       "lack of authentication                                                                       17\n",
       "weak mutual authentication                                                                   12\n",
       "weak authentication can be exploited by a tenant to move laterally across the deployment.     9\n",
       "missing or improperly configured authorization                                                6\n",
       "lack of integrity verification                                                                6\n",
       "                                                                                             ..\n",
       "pnfs                                                                                          1\n",
       "etc.                                                                                          1\n",
       "operation areas                                                                               1\n",
       "physical access to the open fronthaul cable network                                           1\n",
       "use of pretrained public ml model                                                             1\n",
       "Name: count, Length: 139, dtype: int64"
      ]
     },
     "execution_count": 41,
     "metadata": {},
     "output_type": "execute_result"
    }
   ],
   "source": [
    "df_threats['Vulnerability'].explode().str.lower().value_counts()\n",
    "# The most common vulnerability is 'lack of authentication', which occurs 17 times,\n",
    "# followed by 'lack of authentication' with 12 occurences."
   ]
  },
  {
   "cell_type": "code",
   "execution_count": 42,
   "id": "94047f2a",
   "metadata": {},
   "outputs": [
    {
     "data": {
      "text/plain": [
       "Threatened Asset\n",
       "ASSET-D-15    43\n",
       "ASSET-C-17    41\n",
       "ASSET-D-29    40\n",
       "ASSET-D-18    38\n",
       "ASSET-D-14    37\n",
       "ASSET-C-31    35\n",
       "ASSET-D-17    35\n",
       "ASSET-D-16    35\n",
       "ASSET-D-12    34\n",
       "ASSET-D-13    34\n",
       "ASSET-D-19    34\n",
       "ASSET-D-20    34\n",
       "ASSET-D-32    34\n",
       "ASSET-D-31    33\n",
       "ASSET-C-11    33\n",
       "ASSET-C-18    22\n",
       "ASSET-C-10    21\n",
       "ASSET-C-08    19\n",
       "ASSET-C-35    18\n",
       "ASSET-D-01    18\n",
       "ASSET-C-34    17\n",
       "ASSET-C-26    17\n",
       "ASSET-C-19    16\n",
       "ASSET-C-16    16\n",
       "ASSET-C-20    16\n",
       "ASSET-C-21    16\n",
       "ASSET-C-23    16\n",
       "ASSET-C-09    16\n",
       "ASSET-D-04    15\n",
       "ASSET-D-26    15\n",
       "ASSET-D-25    15\n",
       "ASSET-C-37    15\n",
       "ASSET-D-37    15\n",
       "ASSET-D-34    15\n",
       "ASSET-D-33    15\n",
       "ASSET-D-36    15\n",
       "ASSET-D-35    15\n",
       "ASSET-D-38    15\n",
       "ASSET-C-25    14\n",
       "ASSET-C-36    14\n",
       "ASSET-D-21    14\n",
       "ASSET-D-02    14\n",
       "ASSET-D-05    14\n",
       "ASSET-D-27    13\n",
       "ASSET-D-28    13\n",
       "ASSET-D-06    13\n",
       "ASSET-D-10    13\n",
       "ASSET-D-22    13\n",
       "ASSET-C-02    12\n",
       "ASSET-D-43    12\n",
       "Name: count, dtype: int64"
      ]
     },
     "execution_count": 42,
     "metadata": {},
     "output_type": "execute_result"
    }
   ],
   "source": [
    "# Step 3: Explode the list so each asset appears in its own row\n",
    "asset_flat = df_threats.explode('Threatened Asset')\n",
    "\n",
    "# Step 4: Count how often each asset appears\n",
    "asset_counts = asset_flat['Threatened Asset'].value_counts()\n",
    "asset_counts.head(50)"
   ]
  },
  {
   "cell_type": "code",
   "execution_count": 43,
   "id": "bbca85d8",
   "metadata": {},
   "outputs": [
    {
     "data": {
      "text/plain": [
       "Impact type\n",
       "Authenticity       26\n",
       "Availability       21\n",
       "Confidentiality    19\n",
       "Authorization      14\n",
       "Integrity          14\n",
       "Authentication      2\n",
       "Name: count, dtype: int64"
      ]
     },
     "execution_count": 43,
     "metadata": {},
     "output_type": "execute_result"
    }
   ],
   "source": [
    "df_threats['Impact type'].explode().value_counts()"
   ]
  },
  {
   "cell_type": "code",
   "execution_count": 44,
   "id": "d8d4f0d6",
   "metadata": {},
   "outputs": [
    {
     "data": {
      "text/plain": [
       "Threat type\n",
       "Spoofing                   28\n",
       "Denial of Service          19\n",
       "Elevation of Privilege     14\n",
       "Information Disclosure     14\n",
       "Tampering                  14\n",
       "Information disclosure      5\n",
       "Escalation of Privilege     2\n",
       "Name: count, dtype: int64"
      ]
     },
     "execution_count": 44,
     "metadata": {},
     "output_type": "execute_result"
    }
   ],
   "source": [
    "df_threats['Threat type'].explode().value_counts()"
   ]
  },
  {
   "cell_type": "code",
   "execution_count": 45,
   "id": "21e4860d",
   "metadata": {},
   "outputs": [
    {
     "name": "stdout",
     "output_type": "stream",
     "text": [
      "{'All except Script kiddies', 'All'}\n"
     ]
    }
   ],
   "source": [
    "print(set(df_threats['Threat agent']))"
   ]
  },
  {
   "cell_type": "code",
   "execution_count": 46,
   "id": "c2471d40",
   "metadata": {},
   "outputs": [
    {
     "data": {
      "text/plain": [
       "Threat agent\n",
       "All                          178\n",
       "All except Script kiddies      4\n",
       "Name: count, dtype: int64"
      ]
     },
     "execution_count": 46,
     "metadata": {},
     "output_type": "execute_result"
    }
   ],
   "source": [
    "df_threats['Threat agent'].value_counts()"
   ]
  },
  {
   "cell_type": "code",
   "execution_count": 47,
   "id": "c66e47c7",
   "metadata": {},
   "outputs": [
    {
     "data": {
      "text/plain": [
       "Affected Components\n",
       "O-Cloud                  30\n",
       "Non-RT RIC               29\n",
       "Shared O-RU              26\n",
       "Apps/VNFs/CNFs           22\n",
       "All                      19\n",
       "O-DU                     17\n",
       "O-RU                     16\n",
       "rApps                    16\n",
       "Near-RT RIC              16\n",
       "SMO                      14\n",
       "xApps                    12\n",
       "O-DU Tenant              10\n",
       "SMO Framework            10\n",
       "O-DU Host                 9\n",
       "O-CU                      8\n",
       "O2 interface              7\n",
       "External interfaces       7\n",
       "R1 interface              7\n",
       "UE                        7\n",
       "SMO Functions             6\n",
       "ASSET-C-29                6\n",
       "ASSET-C-30                6\n",
       "O-CU Tenant               6\n",
       "CUS-Plane                 5\n",
       "Apps/VNFs/CNFs images     5\n",
       "O-CU Host                 5\n",
       "ASSET-C-08                3\n",
       "A1 interface              3\n",
       "E2 interface              3\n",
       "M-Plane                   3\n",
       "SMO Host                  3\n",
       "SMO Tenant                3\n",
       "xAPPs                     3\n",
       "Y1 interface              2\n",
       "O2                        2\n",
       "O1                        2\n",
       "NFO/FOCOM                 2\n",
       "airlink with UE           1\n",
       "SMO Froamework            1\n",
       "Y1interface               1\n",
       "Name: count, dtype: int64"
      ]
     },
     "execution_count": 47,
     "metadata": {},
     "output_type": "execute_result"
    }
   ],
   "source": [
    "df_threats['Affected Components'].explode().value_counts() "
   ]
  },
  {
   "cell_type": "code",
   "execution_count": 48,
   "id": "f45b5c85",
   "metadata": {},
   "outputs": [
    {
     "data": {
      "text/plain": [
       "Index(['Threat ID', 'Threat title', 'Threat Description', 'Threat type',\n",
       "       'Impact type', 'Threat agent', 'Vulnerability', 'Threatened Asset',\n",
       "       'Affected Components'],\n",
       "      dtype='object')"
      ]
     },
     "execution_count": 48,
     "metadata": {},
     "output_type": "execute_result"
    }
   ],
   "source": [
    "df_threats.columns"
   ]
  },
  {
   "cell_type": "markdown",
   "id": "a9be188a",
   "metadata": {},
   "source": [
    "## Text analysis"
   ]
  },
  {
   "cell_type": "code",
   "execution_count": 49,
   "id": "f6229cff",
   "metadata": {},
   "outputs": [
    {
     "name": "stdout",
     "output_type": "stream",
     "text": [
      "count     182.000000\n",
      "mean      528.818681\n",
      "std       491.740145\n",
      "min        76.000000\n",
      "25%       187.250000\n",
      "50%       319.000000\n",
      "75%       756.250000\n",
      "max      2668.000000\n",
      "Name: Threat Description, dtype: float64\n",
      "The average character length of the threat descriptions is 528.8186813186813\n",
      "The standard deviation of the character length of the threat descriptions is 491.74014505307065\n"
     ]
    }
   ],
   "source": [
    "length_of_threat_descriptions = df_threats['Threat Description'].str.len()\n",
    "print(length_of_threat_descriptions.describe())\n",
    "print(\"The average character length of the threat descriptions is\", length_of_threat_descriptions.mean())\n",
    "# the average length og the threat descriptions is 528.2 characters\n",
    "\n",
    "standard_deviation = length_of_threat_descriptions.std()\n",
    "print(\"The standard deviation of the character length of the threat descriptions is\", standard_deviation)"
   ]
  },
  {
   "cell_type": "code",
   "execution_count": 50,
   "id": "aa3ec36c",
   "metadata": {},
   "outputs": [
    {
     "name": "stdout",
     "output_type": "stream",
     "text": [
      "count    182.00000\n",
      "mean      57.10989\n",
      "std       27.82580\n",
      "min       14.00000\n",
      "25%       34.00000\n",
      "50%       54.00000\n",
      "75%       70.00000\n",
      "max      148.00000\n",
      "Name: Threat title, dtype: float64\n",
      "The average character length of the threat titles is 57.10989010989011\n",
      "The standard deviation of the character length of the threat titles is 27.825800083090165\n"
     ]
    }
   ],
   "source": [
    "length_of_threat_titles = df_threats['Threat title'].str.len()\n",
    "print(length_of_threat_titles.describe())\n",
    "print(\"The average character length of the threat titles is\", length_of_threat_titles.mean())\n",
    "print(\"The standard deviation of the character length of the threat titles is\", length_of_threat_titles.std())"
   ]
  },
  {
   "cell_type": "code",
   "execution_count": 51,
   "id": "70fbafca",
   "metadata": {},
   "outputs": [
    {
     "name": "stdout",
     "output_type": "stream",
     "text": [
      "Threat Description\n",
      "Unauthenticated/unauthorized access to O-RAN components could possibly be achieved via the different O-RAN interfaces, depending upon the design of the hardware-software O-RAN system and how different functions are segregated within the O-RAN system. \\nO-RAN components might be vulnerable if: \\n• Outdated component from the lack of update or patch management,\\n• Poorly design architecture,\\n• Missing appropriate security hardening,\\n• Unnecessary or insecure function/protocol/component.\\nAn attacker could, in such case, either inject malwares and/or manipulate existing software, harm the O-RAN components, create a performance issue by manipulation of parameters, or reconfigure the O-RAN components and disable the security features with the purpose of eavesdropping or wiretapping on various CUS & M planes, reaching northbound systems, attack broader network to cause denial-of-service, steal unprotected private keys, certificates, hash values, or other type of breaches.\\nIn addition, O-RAN components could be software providing network functions, so they are likely to be vulnerable to software flaws: it could be possible to bypass firewall restrictions or to take advantage of a buffer overflow to execute arbitrary commands, etc.    1\n",
      "Unauthenticated/unauthorized access to O-RAN components could possibly be achieved via the different O-RAN interfaces, depending upon the configuration of the hardware-software O-RAN system. \\nO-RAN components might be vulnerable if: \\n• Errors from the lack of configuration change management,\\n• Misconfigured or poorly configured O-RAN components,\\n• Improperly configured permissions,\\n• Unnecessary features are enabled (e.g. unnecessary ports, services, accounts, or privileges),\\n• Default accounts and their passwords still enabled and unchanged,\\n• Security features are disabled or not configured securely.\\nAn attacker could, in such case, either inject malwares and/or manipulate existing software, harm the O-RAN components, create a performance issue by manipulation of parameters, or reconfigure the O-RAN components and disable the security features with the purpose of eavesdropping or wiretapping on various CUS & M planes, reaching northbound systems, attack broader network to cause denial-of-service, steal unprotected private keys, certificates, hash values, or other type of breaches.                                                                                                                                               1\n",
      "Name: count, dtype: int64\n",
      "Threat title\n",
      "External attacker exploits authentication weakness on SMO                   2\n",
      "An attacker exploits misconfigured or poorly configured O-RAN components    1\n",
      "Name: count, dtype: int64\n"
     ]
    }
   ],
   "source": [
    "\n",
    "print(df_threats['Threat Description'].value_counts().head(2))\n",
    "print(df_threats['Threat title'].value_counts().head(2))"
   ]
  },
  {
   "cell_type": "code",
   "execution_count": 52,
   "id": "e32f93bc",
   "metadata": {},
   "outputs": [
    {
     "data": {
      "text/html": [
       "<div>\n",
       "<style scoped>\n",
       "    .dataframe tbody tr th:only-of-type {\n",
       "        vertical-align: middle;\n",
       "    }\n",
       "\n",
       "    .dataframe tbody tr th {\n",
       "        vertical-align: top;\n",
       "    }\n",
       "\n",
       "    .dataframe thead th {\n",
       "        text-align: right;\n",
       "    }\n",
       "</style>\n",
       "<table border=\"1\" class=\"dataframe\">\n",
       "  <thead>\n",
       "    <tr style=\"text-align: right;\">\n",
       "      <th></th>\n",
       "      <th>Threat ID</th>\n",
       "      <th>Threat title</th>\n",
       "      <th>Threat Description</th>\n",
       "      <th>Threat type</th>\n",
       "      <th>Impact type</th>\n",
       "      <th>Threat agent</th>\n",
       "      <th>Vulnerability</th>\n",
       "      <th>Threatened Asset</th>\n",
       "      <th>Affected Components</th>\n",
       "    </tr>\n",
       "  </thead>\n",
       "  <tbody>\n",
       "    <tr>\n",
       "      <th>42</th>\n",
       "      <td>T-SMO-01</td>\n",
       "      <td>External attacker exploits authentication weakness on SMO</td>\n",
       "      <td>An external attacker can exploit the improper/missing authentication weakness on SMO functions. If the authentication of O-RAN subjects on A1, O1, O2, and External interfaces on SMO is not supported or not properly implemented, those interfaces without proper credentials could be exploited to gain access to the SMO.</td>\n",
       "      <td>[Spoofing]</td>\n",
       "      <td>[Authenticity]</td>\n",
       "      <td>All</td>\n",
       "      <td>[Missing or improperly configured authentication]</td>\n",
       "      <td>[ASSET-C-11, ASSET-C-17]</td>\n",
       "      <td>[Non-RT RIC, SMO Framework]</td>\n",
       "    </tr>\n",
       "    <tr>\n",
       "      <th>43</th>\n",
       "      <td>T-SMO-02</td>\n",
       "      <td>External attacker exploits authentication weakness on SMO</td>\n",
       "      <td>An external attacker can exploit the improper/missing authorization weakness on SMO functions.  A malicious external entity on A1, O1, O2, and External interfaces without authorization or with an incorrect access token may invoke the SMO functions. The data at rest related to that function will be leaked to the attacker. In addition, an attacker can be able to perform certain actions, e.g.  disclose O-RAN sensitive information or alter O-RAN components.</td>\n",
       "      <td>[Elevation of Privilege, Information Disclosure]</td>\n",
       "      <td>[Authorization, Confidentiality]</td>\n",
       "      <td>All</td>\n",
       "      <td>[Missing or improperly configured authorization]</td>\n",
       "      <td>[ASSET-C-11, ASSET-C-17]</td>\n",
       "      <td>[Non-RT RIC, SMO Framework]</td>\n",
       "    </tr>\n",
       "  </tbody>\n",
       "</table>\n",
       "</div>"
      ],
      "text/plain": [
       "   Threat ID                                               Threat title  \\\n",
       "42  T-SMO-01  External attacker exploits authentication weakness on SMO   \n",
       "43  T-SMO-02  External attacker exploits authentication weakness on SMO   \n",
       "\n",
       "                                                                                                                                                                                                                                                                                                                                                                                                                                                           Threat Description  \\\n",
       "42                                                                                                                                              An external attacker can exploit the improper/missing authentication weakness on SMO functions. If the authentication of O-RAN subjects on A1, O1, O2, and External interfaces on SMO is not supported or not properly implemented, those interfaces without proper credentials could be exploited to gain access to the SMO.   \n",
       "43  An external attacker can exploit the improper/missing authorization weakness on SMO functions.  A malicious external entity on A1, O1, O2, and External interfaces without authorization or with an incorrect access token may invoke the SMO functions. The data at rest related to that function will be leaked to the attacker. In addition, an attacker can be able to perform certain actions, e.g.  disclose O-RAN sensitive information or alter O-RAN components.   \n",
       "\n",
       "                                         Threat type  \\\n",
       "42                                        [Spoofing]   \n",
       "43  [Elevation of Privilege, Information Disclosure]   \n",
       "\n",
       "                         Impact type Threat agent  \\\n",
       "42                    [Authenticity]          All   \n",
       "43  [Authorization, Confidentiality]          All   \n",
       "\n",
       "                                        Vulnerability  \\\n",
       "42  [Missing or improperly configured authentication]   \n",
       "43   [Missing or improperly configured authorization]   \n",
       "\n",
       "            Threatened Asset          Affected Components  \n",
       "42  [ASSET-C-11, ASSET-C-17]  [Non-RT RIC, SMO Framework]  \n",
       "43  [ASSET-C-11, ASSET-C-17]  [Non-RT RIC, SMO Framework]  "
      ]
     },
     "execution_count": 52,
     "metadata": {},
     "output_type": "execute_result"
    }
   ],
   "source": [
    "df_threats[df_threats['Threat title'] == 'External attacker exploits authentication weakness on SMO']\n"
   ]
  },
  {
   "cell_type": "code",
   "execution_count": 63,
   "id": "6bdde40a",
   "metadata": {},
   "outputs": [],
   "source": [
    "threat_data_after_data_understanding = df_threats.copy()"
   ]
  },
  {
   "cell_type": "code",
   "execution_count": 64,
   "id": "80d79048",
   "metadata": {},
   "outputs": [],
   "source": [
    "threat_data_after_data_understanding.to_pickle('threat_data/threats_after_data_understanding.pk1')"
   ]
  },
  {
   "cell_type": "markdown",
   "id": "8a145a5f",
   "metadata": {},
   "source": [
    "## Data understanding of CAPEC data"
   ]
  },
  {
   "cell_type": "code",
   "execution_count": 53,
   "id": "abaf4734",
   "metadata": {},
   "outputs": [],
   "source": [
    "from git import Repo, InvalidGitRepositoryError\n",
    "import os\n",
    "import shutil\n",
    "\n",
    "from stix2 import FileSystemSource\n",
    "from stix2 import Filter"
   ]
  },
  {
   "cell_type": "code",
   "execution_count": 54,
   "id": "f738c8ef",
   "metadata": {},
   "outputs": [],
   "source": [
    "def pull_clone_gitrepo(directory, repo):\n",
    "    # Check if the data direcory exists\n",
    "    if not os.path.isdir(directory):\n",
    "        Repo.clone_from(repo, directory)\n",
    "    else:\n",
    "        try:\n",
    "            # Check if the data directory is actually a repositry then pull the canges\n",
    "            repo = Repo(directory)\n",
    "            repo.remotes.origin.pull()\n",
    "        except InvalidGitRepositoryError:\n",
    "            # If not then remove the folder\n",
    "            shutil.rmtree(directory)\n",
    "            Repo.clone_from(repo, directory)\n",
    "\n",
    "def prepare_capecs_df():\n",
    "    pull_clone_gitrepo('./data', 'https://github.com/mitre/cti')\n",
    "    fs = FileSystemSource('./data/capec/2.1')\n",
    "    filt = Filter('type', '=', 'attack-pattern')\n",
    "\n",
    "    attack_patterns = fs.query([filt])\n",
    "\n",
    "    data_array = []\n",
    "    for pattern in attack_patterns:\n",
    "        if not pattern.x_capec_status == \"Deprecated\":\n",
    "            info = []\n",
    "            result = [obj for obj in pattern.external_references if obj['source_name'] == \"capec\"]\n",
    "            info.append(result[0].external_id)\n",
    "            info.append(pattern.name)\n",
    "            info.append(pattern.description)\n",
    "            if \"x_capec_domains\" in pattern:\n",
    "                info.append(pattern.x_capec_domains)\n",
    "            else:\n",
    "                info.append(\"not given\")\n",
    "            data_array.append(info)\n",
    "\n",
    "    columns = ['CAPEC ID', 'capec_name', 'capec_description', 'capec_domain']\n",
    "    df = pd.DataFrame(data_array, columns=columns)\n",
    "\n",
    "    df['summary'] = ''\n",
    "    for index, row in df.iterrows():\n",
    "        if len(row['capec_domain']) > 1:\n",
    "            domains_string = \". The Domains of this are: \"+', '.join(row['capec_domain'])\n",
    "        else:\n",
    "            domains_string = \". The Domain of this is: \"+row['capec_domain'][0]\n",
    "\n",
    "        summary = 'A CAPEC with the title '+row['capec_name']+\\\n",
    "                    '. The description of this CAPEC is: '+row['capec_description']+\\\n",
    "                    domains_string\n",
    "        \n",
    "        df.at[index, 'summary'] = summary\n",
    "    return df\n"
   ]
  },
  {
   "cell_type": "code",
   "execution_count": 55,
   "id": "4ef09d5b",
   "metadata": {},
   "outputs": [],
   "source": [
    "#generate the capecs_df\n",
    "#capecs_df = prepare_capecs_df()\n",
    "##safe capecs data to pickle\n",
    "#capecs_df.to_pickle('capec_data/capecs.pk1')"
   ]
  },
  {
   "cell_type": "code",
   "execution_count": 56,
   "id": "fdbc6980",
   "metadata": {},
   "outputs": [],
   "source": [
    "#load capecs data from pickle\n",
    "capecs_df = pd.read_pickle('capec_data/capecs.pk1')"
   ]
  },
  {
   "cell_type": "code",
   "execution_count": 57,
   "id": "44d8cf81",
   "metadata": {},
   "outputs": [
    {
     "name": "stdout",
     "output_type": "stream",
     "text": [
      "Shape of capecs_df: (559, 5)\n",
      "\n",
      "Column names: ['CAPEC ID', 'capec_name', 'capec_description', 'capec_domain', 'summary']\n",
      "\n",
      "Missing values per column:\n",
      " CAPEC ID             0\n",
      "capec_name           0\n",
      "capec_description    0\n",
      "capec_domain         0\n",
      "summary              0\n",
      "dtype: int64\n",
      "\n",
      "Data types:\n",
      " CAPEC ID             object\n",
      "capec_name           object\n",
      "capec_description    object\n",
      "capec_domain         object\n",
      "summary              object\n",
      "dtype: object\n",
      "\n",
      "First 5 rows:\n"
     ]
    },
    {
     "data": {
      "text/html": [
       "<div>\n",
       "<style scoped>\n",
       "    .dataframe tbody tr th:only-of-type {\n",
       "        vertical-align: middle;\n",
       "    }\n",
       "\n",
       "    .dataframe tbody tr th {\n",
       "        vertical-align: top;\n",
       "    }\n",
       "\n",
       "    .dataframe thead th {\n",
       "        text-align: right;\n",
       "    }\n",
       "</style>\n",
       "<table border=\"1\" class=\"dataframe\">\n",
       "  <thead>\n",
       "    <tr style=\"text-align: right;\">\n",
       "      <th></th>\n",
       "      <th>CAPEC ID</th>\n",
       "      <th>capec_name</th>\n",
       "      <th>capec_description</th>\n",
       "      <th>capec_domain</th>\n",
       "      <th>summary</th>\n",
       "    </tr>\n",
       "  </thead>\n",
       "  <tbody>\n",
       "    <tr>\n",
       "      <th>0</th>\n",
       "      <td>CAPEC-87</td>\n",
       "      <td>Forceful Browsing</td>\n",
       "      <td>An attacker employs forceful browsing (direct URL entry) to access portions of a website that are otherwise unreachable. Usually, a front controller or similar design pattern is employed to protect access to portions of a web application. Forceful browsing enables an attacker to access information, perform privileged operations and otherwise reach sections of the web application that have been improperly protected.</td>\n",
       "      <td>[Software]</td>\n",
       "      <td>A CAPEC with the title Forceful Browsing. The description of this CAPEC is: An attacker employs forceful browsing (direct URL entry) to access portions of a website that are otherwise unreachable. Usually, a front controller or similar design pattern is employed to protect access to portions of a web application. Forceful browsing enables an attacker to access information, perform privileged operations and otherwise reach sections of the web application that have been improperly protected.. The Domain of this is: Software</td>\n",
       "    </tr>\n",
       "    <tr>\n",
       "      <th>1</th>\n",
       "      <td>CAPEC-391</td>\n",
       "      <td>Bypassing Physical Locks</td>\n",
       "      <td>An attacker uses techniques and methods to bypass physical security measures of a building or facility. Physical locks may range from traditional lock and key mechanisms, cable locks used to secure laptops or servers, locks on server cases, or other such devices. Techniques such as lock bumping, lock forcing via snap guns, or lock picking can be employed to bypass those locks and gain access to the facilities or devices they protect, although stealth, evidence of tampering, and the integrity of the lock following an attack, are considerations that may determine the method employed. Physical locks are limited by the complexity of the locking mechanism. While some locks may offer protections such as shock resistant foam to prevent bumping or lock forcing methods, many commonly employed locks offer no such countermeasures.</td>\n",
       "      <td>[Physical Security]</td>\n",
       "      <td>A CAPEC with the title Bypassing Physical Locks. The description of this CAPEC is: An attacker uses techniques and methods to bypass physical security measures of a building or facility. Physical locks may range from traditional lock and key mechanisms, cable locks used to secure laptops or servers, locks on server cases, or other such devices. Techniques such as lock bumping, lock forcing via snap guns, or lock picking can be employed to bypass those locks and gain access to the facilities or devices they protect, although stealth, evidence of tampering, and the integrity of the lock following an attack, are considerations that may determine the method employed. Physical locks are limited by the complexity of the locking mechanism. While some locks may offer protections such as shock resistant foam to prevent bumping or lock forcing methods, many commonly employed locks offer no such countermeasures.. The Domain of this is: Physical Security</td>\n",
       "    </tr>\n",
       "    <tr>\n",
       "      <th>2</th>\n",
       "      <td>CAPEC-4</td>\n",
       "      <td>Using Alternative IP Address Encodings</td>\n",
       "      <td>This attack relies on the adversary using unexpected formats for representing IP addresses. Networked applications may expect network location information in a specific format, such as fully qualified domains names (FQDNs), URL, IP address, or IP Address ranges. If the location information is not validated against a variety of different possible encodings and formats, the adversary can use an alternate format to bypass application access control.</td>\n",
       "      <td>[Software]</td>\n",
       "      <td>A CAPEC with the title Using Alternative IP Address Encodings. The description of this CAPEC is: This attack relies on the adversary using unexpected formats for representing IP addresses. Networked applications may expect network location information in a specific format, such as fully qualified domains names (FQDNs), URL, IP address, or IP Address ranges. If the location information is not validated against a variety of different possible encodings and formats, the adversary can use an alternate format to bypass application access control.. The Domain of this is: Software</td>\n",
       "    </tr>\n",
       "    <tr>\n",
       "      <th>3</th>\n",
       "      <td>CAPEC-185</td>\n",
       "      <td>Malicious Software Download</td>\n",
       "      <td>An attacker uses deceptive methods to cause a user or an automated process to download and install dangerous code that originates from an attacker controlled source. There are several variations to this strategy of attack.</td>\n",
       "      <td>[Software]</td>\n",
       "      <td>A CAPEC with the title Malicious Software Download. The description of this CAPEC is: An attacker uses deceptive methods to cause a user or an automated process to download and install dangerous code that originates from an attacker controlled source. There are several variations to this strategy of attack.. The Domain of this is: Software</td>\n",
       "    </tr>\n",
       "    <tr>\n",
       "      <th>4</th>\n",
       "      <td>CAPEC-226</td>\n",
       "      <td>Session Credential Falsification through Manipulation</td>\n",
       "      <td>An attacker manipulates an existing credential in order to gain access to a target application. Session credentials allow users to identify themselves to a service after an initial authentication without needing to resend the authentication information (usually a username and password) with every message. An attacker may be able to manipulate a credential sniffed from an existing connection in order to gain access to a target server.</td>\n",
       "      <td>[Software]</td>\n",
       "      <td>A CAPEC with the title Session Credential Falsification through Manipulation. The description of this CAPEC is: An attacker manipulates an existing credential in order to gain access to a target application. Session credentials allow users to identify themselves to a service after an initial authentication without needing to resend the authentication information (usually a username and password) with every message. An attacker may be able to manipulate a credential sniffed from an existing connection in order to gain access to a target server.. The Domain of this is: Software</td>\n",
       "    </tr>\n",
       "  </tbody>\n",
       "</table>\n",
       "</div>"
      ],
      "text/plain": [
       "    CAPEC ID                                             capec_name  \\\n",
       "0   CAPEC-87                                      Forceful Browsing   \n",
       "1  CAPEC-391                               Bypassing Physical Locks   \n",
       "2    CAPEC-4                 Using Alternative IP Address Encodings   \n",
       "3  CAPEC-185                            Malicious Software Download   \n",
       "4  CAPEC-226  Session Credential Falsification through Manipulation   \n",
       "\n",
       "                                                                                                                                                                                                                                                                                                                                                                                                                                                                                                                                                                                                                                                                                                                                                                                                                                                 capec_description  \\\n",
       "0                                                                                                                                                                                                                                                                                                                                                                                                                               An attacker employs forceful browsing (direct URL entry) to access portions of a website that are otherwise unreachable. Usually, a front controller or similar design pattern is employed to protect access to portions of a web application. Forceful browsing enables an attacker to access information, perform privileged operations and otherwise reach sections of the web application that have been improperly protected.   \n",
       "1  An attacker uses techniques and methods to bypass physical security measures of a building or facility. Physical locks may range from traditional lock and key mechanisms, cable locks used to secure laptops or servers, locks on server cases, or other such devices. Techniques such as lock bumping, lock forcing via snap guns, or lock picking can be employed to bypass those locks and gain access to the facilities or devices they protect, although stealth, evidence of tampering, and the integrity of the lock following an attack, are considerations that may determine the method employed. Physical locks are limited by the complexity of the locking mechanism. While some locks may offer protections such as shock resistant foam to prevent bumping or lock forcing methods, many commonly employed locks offer no such countermeasures.   \n",
       "2                                                                                                                                                                                                                                                                                                                                                                                               This attack relies on the adversary using unexpected formats for representing IP addresses. Networked applications may expect network location information in a specific format, such as fully qualified domains names (FQDNs), URL, IP address, or IP Address ranges. If the location information is not validated against a variety of different possible encodings and formats, the adversary can use an alternate format to bypass application access control.   \n",
       "3                                                                                                                                                                                                                                                                                                                                                                                                                                                                                                                                                                                                                                   An attacker uses deceptive methods to cause a user or an automated process to download and install dangerous code that originates from an attacker controlled source. There are several variations to this strategy of attack.   \n",
       "4                                                                                                                                                                                                                                                                                                                                                                                                            An attacker manipulates an existing credential in order to gain access to a target application. Session credentials allow users to identify themselves to a service after an initial authentication without needing to resend the authentication information (usually a username and password) with every message. An attacker may be able to manipulate a credential sniffed from an existing connection in order to gain access to a target server.   \n",
       "\n",
       "          capec_domain  \\\n",
       "0           [Software]   \n",
       "1  [Physical Security]   \n",
       "2           [Software]   \n",
       "3           [Software]   \n",
       "4           [Software]   \n",
       "\n",
       "                                                                                                                                                                                                                                                                                                                                                                                                                                                                                                                                                                                                                                                                                                                                                                                                                                                                                                                                                                                        summary  \n",
       "0                                                                                                                                                                                                                                                                                                                                                                                                                                               A CAPEC with the title Forceful Browsing. The description of this CAPEC is: An attacker employs forceful browsing (direct URL entry) to access portions of a website that are otherwise unreachable. Usually, a front controller or similar design pattern is employed to protect access to portions of a web application. Forceful browsing enables an attacker to access information, perform privileged operations and otherwise reach sections of the web application that have been improperly protected.. The Domain of this is: Software  \n",
       "1  A CAPEC with the title Bypassing Physical Locks. The description of this CAPEC is: An attacker uses techniques and methods to bypass physical security measures of a building or facility. Physical locks may range from traditional lock and key mechanisms, cable locks used to secure laptops or servers, locks on server cases, or other such devices. Techniques such as lock bumping, lock forcing via snap guns, or lock picking can be employed to bypass those locks and gain access to the facilities or devices they protect, although stealth, evidence of tampering, and the integrity of the lock following an attack, are considerations that may determine the method employed. Physical locks are limited by the complexity of the locking mechanism. While some locks may offer protections such as shock resistant foam to prevent bumping or lock forcing methods, many commonly employed locks offer no such countermeasures.. The Domain of this is: Physical Security  \n",
       "2                                                                                                                                                                                                                                                                                                                                                                                          A CAPEC with the title Using Alternative IP Address Encodings. The description of this CAPEC is: This attack relies on the adversary using unexpected formats for representing IP addresses. Networked applications may expect network location information in a specific format, such as fully qualified domains names (FQDNs), URL, IP address, or IP Address ranges. If the location information is not validated against a variety of different possible encodings and formats, the adversary can use an alternate format to bypass application access control.. The Domain of this is: Software  \n",
       "3                                                                                                                                                                                                                                                                                                                                                                                                                                                                                                                                                                                                                                         A CAPEC with the title Malicious Software Download. The description of this CAPEC is: An attacker uses deceptive methods to cause a user or an automated process to download and install dangerous code that originates from an attacker controlled source. There are several variations to this strategy of attack.. The Domain of this is: Software  \n",
       "4                                                                                                                                                                                                                                                                                                                                                                                        A CAPEC with the title Session Credential Falsification through Manipulation. The description of this CAPEC is: An attacker manipulates an existing credential in order to gain access to a target application. Session credentials allow users to identify themselves to a service after an initial authentication without needing to resend the authentication information (usually a username and password) with every message. An attacker may be able to manipulate a credential sniffed from an existing connection in order to gain access to a target server.. The Domain of this is: Software  "
      ]
     },
     "metadata": {},
     "output_type": "display_data"
    },
    {
     "name": "stdout",
     "output_type": "stream",
     "text": [
      "\n",
      "Summary statistics for text length in 'capec_description':\n",
      "count     559.000000\n",
      "mean      474.048301\n",
      "std       224.179346\n",
      "min         0.000000\n",
      "25%       301.500000\n",
      "50%       427.000000\n",
      "75%       624.000000\n",
      "max      1069.000000\n",
      "Name: capec_description, dtype: float64\n"
     ]
    }
   ],
   "source": [
    "# Display general information about capecs_df\n",
    "print(\"Shape of capecs_df:\", capecs_df.shape)\n",
    "print(\"\\nColumn names:\", capecs_df.columns.tolist())\n",
    "print(\"\\nMissing values per column:\\n\", capecs_df.isnull().sum())\n",
    "print(\"\\nData types:\\n\", capecs_df.dtypes)\n",
    "print(\"\\nFirst 5 rows:\")\n",
    "display(capecs_df.head())\n",
    "print(\"\\nSummary statistics for text length in 'capec_description':\")\n",
    "desc_lengths = capecs_df['capec_description'].dropna().str.len()\n",
    "print(desc_lengths.describe())"
   ]
  },
  {
   "cell_type": "code",
   "execution_count": 58,
   "id": "24c2fc97",
   "metadata": {},
   "outputs": [
    {
     "data": {
      "text/html": [
       "<div>\n",
       "<style scoped>\n",
       "    .dataframe tbody tr th:only-of-type {\n",
       "        vertical-align: middle;\n",
       "    }\n",
       "\n",
       "    .dataframe tbody tr th {\n",
       "        vertical-align: top;\n",
       "    }\n",
       "\n",
       "    .dataframe thead th {\n",
       "        text-align: right;\n",
       "    }\n",
       "</style>\n",
       "<table border=\"1\" class=\"dataframe\">\n",
       "  <thead>\n",
       "    <tr style=\"text-align: right;\">\n",
       "      <th></th>\n",
       "      <th>CAPEC ID</th>\n",
       "      <th>capec_name</th>\n",
       "      <th>capec_description</th>\n",
       "      <th>capec_domain</th>\n",
       "      <th>summary</th>\n",
       "    </tr>\n",
       "  </thead>\n",
       "  <tbody>\n",
       "  </tbody>\n",
       "</table>\n",
       "</div>"
      ],
      "text/plain": [
       "Empty DataFrame\n",
       "Columns: [CAPEC ID, capec_name, capec_description, capec_domain, summary]\n",
       "Index: []"
      ]
     },
     "execution_count": 58,
     "metadata": {},
     "output_type": "execute_result"
    }
   ],
   "source": [
    "# show rows with missing values in 'capec_description'\n",
    "capecs_df[capecs_df['capec_description'].isnull()]"
   ]
  },
  {
   "cell_type": "code",
   "execution_count": 59,
   "id": "00bdd8c0",
   "metadata": {},
   "outputs": [
    {
     "data": {
      "text/html": [
       "<div>\n",
       "<style scoped>\n",
       "    .dataframe tbody tr th:only-of-type {\n",
       "        vertical-align: middle;\n",
       "    }\n",
       "\n",
       "    .dataframe tbody tr th {\n",
       "        vertical-align: top;\n",
       "    }\n",
       "\n",
       "    .dataframe thead th {\n",
       "        text-align: right;\n",
       "    }\n",
       "</style>\n",
       "<table border=\"1\" class=\"dataframe\">\n",
       "  <thead>\n",
       "    <tr style=\"text-align: right;\">\n",
       "      <th></th>\n",
       "      <th>CAPEC ID</th>\n",
       "      <th>capec_name</th>\n",
       "      <th>capec_description</th>\n",
       "      <th>capec_domain</th>\n",
       "      <th>summary</th>\n",
       "    </tr>\n",
       "  </thead>\n",
       "  <tbody>\n",
       "    <tr>\n",
       "      <th>81</th>\n",
       "      <td>CAPEC-699</td>\n",
       "      <td>Eavesdropping on a Monitor</td>\n",
       "      <td>An Adversary can eavesdrop on the content of an external monitor through the air without modifying any cable or installing software, just capturing this signal emitted by the cable or video port, with this the attacker will be able to impact the confidentiality of the data without being detected by traditional security tools</td>\n",
       "      <td>not given</td>\n",
       "      <td>A CAPEC with the title Eavesdropping on a Monitor. The description of this CAPEC is: An Adversary can eavesdrop on the content of an external monitor through the air without modifying any cable or installing software, just capturing this signal emitted by the cable or video port, with this the attacker will be able to impact the confidentiality of the data without being detected by traditional security tools. The Domains of this are: n, o, t,  , g, i, v, e, n</td>\n",
       "    </tr>\n",
       "  </tbody>\n",
       "</table>\n",
       "</div>"
      ],
      "text/plain": [
       "     CAPEC ID                  capec_name  \\\n",
       "81  CAPEC-699  Eavesdropping on a Monitor   \n",
       "\n",
       "                                                                                                                                                                                                                                                                                                                         capec_description  \\\n",
       "81  An Adversary can eavesdrop on the content of an external monitor through the air without modifying any cable or installing software, just capturing this signal emitted by the cable or video port, with this the attacker will be able to impact the confidentiality of the data without being detected by traditional security tools   \n",
       "\n",
       "   capec_domain  \\\n",
       "81    not given   \n",
       "\n",
       "                                                                                                                                                                                                                                                                                                                                                                                                                                                                            summary  \n",
       "81  A CAPEC with the title Eavesdropping on a Monitor. The description of this CAPEC is: An Adversary can eavesdrop on the content of an external monitor through the air without modifying any cable or installing software, just capturing this signal emitted by the cable or video port, with this the attacker will be able to impact the confidentiality of the data without being detected by traditional security tools. The Domains of this are: n, o, t,  , g, i, v, e, n  "
      ]
     },
     "execution_count": 59,
     "metadata": {},
     "output_type": "execute_result"
    }
   ],
   "source": [
    "capecs_df[capecs_df['capec_domain'] == 'not given']"
   ]
  },
  {
   "cell_type": "code",
   "execution_count": 60,
   "id": "72f1a59b",
   "metadata": {},
   "outputs": [
    {
     "data": {
      "text/plain": [
       "capec_domain\n",
       "[Software]                                                                     287\n",
       "[Communications, Software]                                                      67\n",
       "[Social Engineering]                                                            30\n",
       "[Software, Hardware]                                                            28\n",
       "[Physical Security]                                                             15\n",
       "[Communications]                                                                13\n",
       "[Software, Physical Security, Hardware]                                          9\n",
       "[Software, Software, Software]                                                   9\n",
       "[Supply Chain, Hardware]                                                         9\n",
       "[Social Engineering, Supply Chain, Software]                                     8\n",
       "[Supply Chain, Physical Security, Hardware]                                      8\n",
       "[Supply Chain, Software]                                                         8\n",
       "[Supply Chain]                                                                   7\n",
       "[Social Engineering, Software]                                                   7\n",
       "[Supply Chain, Software, Hardware]                                               7\n",
       "[Communications, Hardware]                                                       6\n",
       "[Software, Software]                                                             6\n",
       "[Communications, Software, Hardware]                                             4\n",
       "[Social Engineering, Social Engineering]                                         4\n",
       "[Software, Hardware, Software]                                                   3\n",
       "[Social Engineering, Supply Chain, Communications, Software, Hardware]           3\n",
       "[Hardware, Hardware]                                                             3\n",
       "[Communications, Software, Physical Security]                                    2\n",
       "[Social Engineering, Communications, Software, Hardware]                         2\n",
       "[Software, Physical Security]                                                    2\n",
       "[Social Engineering, Social Engineering, Software]                               2\n",
       "[Supply Chain, Software, Physical Security, Hardware]                            2\n",
       "[Social Engineering, Software, Hardware]                                         2\n",
       "[Hardware]                                                                       1\n",
       "not given                                                                        1\n",
       "[Social Engineering, Communications, Software, Physical Security, Hardware]      1\n",
       "[Social Engineering, Communications]                                             1\n",
       "[Communications, Software, Software]                                             1\n",
       "[Software, Communications, Software]                                             1\n",
       "Name: count, dtype: int64"
      ]
     },
     "execution_count": 60,
     "metadata": {},
     "output_type": "execute_result"
    }
   ],
   "source": [
    "capecs_df['capec_domain'].value_counts()"
   ]
  },
  {
   "cell_type": "code",
   "execution_count": 61,
   "id": "47d3ca57",
   "metadata": {},
   "outputs": [
    {
     "data": {
      "text/plain": [
       "capec_domain\n",
       "Software              490\n",
       "Communications        101\n",
       "Hardware               91\n",
       "Social Engineering     66\n",
       "Supply Chain           52\n",
       "Physical Security      39\n",
       "not given               1\n",
       "Name: count, dtype: int64"
      ]
     },
     "execution_count": 61,
     "metadata": {},
     "output_type": "execute_result"
    }
   ],
   "source": [
    "# value counts for 'capec_domain'\n",
    "capecs_df['capec_domain'].explode().value_counts(dropna=False)"
   ]
  },
  {
   "cell_type": "code",
   "execution_count": 62,
   "id": "4202ea6e",
   "metadata": {},
   "outputs": [
    {
     "name": "stdout",
     "output_type": "stream",
     "text": [
      "Count of rows with duplicates: 30\n",
      "25                         [Software, Software, Software]\n",
      "29                                   [Software, Software]\n",
      "54                                   [Hardware, Hardware]\n",
      "80                         [Software, Software, Software]\n",
      "81                                              not given\n",
      "86     [Social Engineering, Social Engineering, Software]\n",
      "91               [Social Engineering, Social Engineering]\n",
      "99                                   [Software, Software]\n",
      "119                        [Software, Software, Software]\n",
      "123                                  [Hardware, Hardware]\n",
      "156              [Social Engineering, Social Engineering]\n",
      "165                                  [Software, Software]\n",
      "177                        [Software, Software, Software]\n",
      "201              [Social Engineering, Social Engineering]\n",
      "225                        [Software, Software, Software]\n",
      "243                        [Software, Hardware, Software]\n",
      "262              [Social Engineering, Social Engineering]\n",
      "286                        [Software, Software, Software]\n",
      "292    [Social Engineering, Social Engineering, Software]\n",
      "363                  [Communications, Software, Software]\n",
      "388                                  [Software, Software]\n",
      "395                        [Software, Software, Software]\n",
      "431                        [Software, Software, Software]\n",
      "455                                  [Software, Software]\n",
      "469                  [Software, Communications, Software]\n",
      "493                                  [Hardware, Hardware]\n",
      "497                        [Software, Software, Software]\n",
      "509                                  [Software, Software]\n",
      "516                        [Software, Hardware, Software]\n",
      "543                        [Software, Hardware, Software]\n",
      "Name: capec_domain, dtype: object\n"
     ]
    }
   ],
   "source": [
    "duplicates = capecs_df[capecs_df['capec_domain'].apply(lambda x: len(x) != len(set(x)))]['capec_domain']\n",
    "\n",
    "print(f\"Count of rows with duplicates: {len(duplicates)}\")\n",
    "print(duplicates)\n"
   ]
  },
  {
   "cell_type": "markdown",
   "id": "e6c210c8",
   "metadata": {},
   "source": [
    "# Data Preparation"
   ]
  },
  {
   "cell_type": "markdown",
   "id": "8cc0941a",
   "metadata": {},
   "source": [
    "Merging title and description to match the form of the original orca pipeline."
   ]
  },
  {
   "cell_type": "code",
   "execution_count": 65,
   "id": "99e5a717",
   "metadata": {},
   "outputs": [],
   "source": [
    "df_threats = pd.read_pickle('threat_data/threats_after_data_understanding.pk1')"
   ]
  },
  {
   "cell_type": "code",
   "execution_count": 66,
   "id": "da9f8c42",
   "metadata": {},
   "outputs": [],
   "source": [
    "threats_summary_context = {'Threat title': 'A Threat with the title ', 'Threat Description': ' and the description '}\n",
    "def add_summary_to_df(input_df, coll_context, ):\n",
    "    input_df['summary'] = ''\n",
    "    for key, value in coll_context.items():\n",
    "        input_df['summary'] +=  value + input_df[key]"
   ]
  },
  {
   "cell_type": "code",
   "execution_count": 67,
   "id": "b07ccc06",
   "metadata": {},
   "outputs": [
    {
     "data": {
      "text/plain": [
       "'A Threat with the title An attacker exploits insecure designs or lack of adaption in O-RAN components and the description Unauthenticated/unauthorized access to O-RAN components could possibly be achieved via the different O-RAN interfaces, depending upon the design of the hardware-software O-RAN system and how different functions are segregated within the O-RAN system. \\nO-RAN components might be vulnerable if: \\n• Outdated component from the lack of update or patch management,\\n• Poorly design architecture,\\n• Missing appropriate security hardening,\\n• Unnecessary or insecure function/protocol/component.\\nAn attacker could, in such case, either inject malwares and/or manipulate existing software, harm the O-RAN components, create a performance issue by manipulation of parameters, or reconfigure the O-RAN components and disable the security features with the purpose of eavesdropping or wiretapping on various CUS & M planes, reaching northbound systems, attack broader network to cause denial-of-service, steal unprotected private keys, certificates, hash values, or other type of breaches.\\nIn addition, O-RAN components could be software providing network functions, so they are likely to be vulnerable to software flaws: it could be possible to bypass firewall restrictions or to take advantage of a buffer overflow to execute arbitrary commands, etc.'"
      ]
     },
     "execution_count": 67,
     "metadata": {},
     "output_type": "execute_result"
    }
   ],
   "source": [
    "add_summary_to_df(df_threats, threats_summary_context)\n",
    "df_threats.loc[0, 'summary']  "
   ]
  },
  {
   "cell_type": "markdown",
   "id": "e8cf60f6",
   "metadata": {},
   "source": [
    "Data preparation for establishing a baseline, implementing the ORCA mapping."
   ]
  },
  {
   "cell_type": "markdown",
   "id": "0e327b99",
   "metadata": {},
   "source": [
    "1. Add the embedding to the threat and to to the capec data"
   ]
  },
  {
   "cell_type": "code",
   "execution_count": 68,
   "id": "16259f13",
   "metadata": {},
   "outputs": [],
   "source": [
    "models = SentenceTransformer('sentence-transformers/all-MiniLM-L12-v2')\n",
    "\n",
    "def preprocess_description(description):\n",
    "    # remove patterns not semantically relevant\n",
    "    pattern = r\"\\((http|https)\\S+\\)|['\\[\\]]+\"\n",
    "    description = re.sub(pattern, \"\", description)\n",
    "    return description\n",
    "\n",
    "def gen_embedding(description):\n",
    "    if isinstance(description, str):\n",
    "        description1 = description\n",
    "    else:\n",
    "        description1 = '\\n'.join(description)\n",
    "    description = preprocess_description(description1)\n",
    "    return models.encode(description, convert_to_numpy=True)\n",
    "\n",
    "def add_embedd_to_df(input_df, descryption_name):\n",
    "    input_df['embedding'] = input_df[descryption_name].apply(gen_embedding)"
   ]
  },
  {
   "cell_type": "code",
   "execution_count": 69,
   "id": "65e1164c",
   "metadata": {},
   "outputs": [],
   "source": [
    "# add embedding to the threats dataframe\n",
    "add_embedd_to_df(df_threats, 'summary')"
   ]
  },
  {
   "cell_type": "code",
   "execution_count": 9,
   "id": "9609367e",
   "metadata": {},
   "outputs": [],
   "source": [
    "#threats_with_embeddings = df_threats.copy()\n",
    "#threats_with_embeddings.to_pickle('threat_data/threats_with_embeddings.pk1')\n",
    "threats_with_embeddings = pd.read_pickle('threat_data/threats_with_embeddings.pk1')"
   ]
  },
  {
   "cell_type": "code",
   "execution_count": 50,
   "id": "9a66e009",
   "metadata": {},
   "outputs": [],
   "source": [
    "# add embedding to the capecs dataframe\n",
    "#capecs_with_embeddings_df = capecs_df.copy()\n",
    "#add_embedd_to_df(capecs_with_embeddings_df, 'summary')\n",
    "#capecs_with_embeddings_df.to_pickle('capec_data/capecs_with_embeddings.pk1')"
   ]
  },
  {
   "cell_type": "code",
   "execution_count": 4,
   "id": "d4b8f3ac",
   "metadata": {},
   "outputs": [],
   "source": [
    "capecs_with_embeddings_df = pd.read_pickle('capec_data/capecs_with_embeddings.pk1')"
   ]
  },
  {
   "cell_type": "markdown",
   "id": "f416d6be",
   "metadata": {},
   "source": [
    "2. generate the mapping of threats to capecs"
   ]
  },
  {
   "cell_type": "code",
   "execution_count": 5,
   "id": "fdfee626",
   "metadata": {},
   "outputs": [],
   "source": [
    "DOMAIN = \"enterprise-attack\"\n",
    "def gen_mapping(th_df, ca_df):\n",
    "    maping = pd.DataFrame()\n",
    "    if 'summary' in th_df.columns:\n",
    "        th_df.rename(columns={'summary': 'summary_th_df'}, inplace=True)\n",
    "    if 'summary' in ca_df.columns:\n",
    "        ca_df.rename(columns={'summary': 'summary_ca_df'}, inplace=True)\n",
    "\n",
    "    for ca_index, row_techniques in ca_df.iterrows():\n",
    "        for thr_index, row_threats in th_df.iterrows():\n",
    "            cosine_similarity = util.pytorch_cos_sim(torch.from_numpy(row_techniques['embedding']),\n",
    "                                                     torch.from_numpy(row_threats['embedding']))\n",
    "            comb = pd.concat([row_techniques, row_threats], axis=0)\n",
    "            comb = comb.to_frame().T\n",
    "            comb['Similarity'] = cosine_similarity\n",
    "            maping = pd.concat([maping, comb], ignore_index=True)\n",
    "\n",
    "    maping['Domain'] = DOMAIN\n",
    "    return maping"
   ]
  },
  {
   "cell_type": "code",
   "execution_count": 6,
   "id": "961117b0",
   "metadata": {},
   "outputs": [
    {
     "ename": "NameError",
     "evalue": "name 'df_threats' is not defined",
     "output_type": "error",
     "traceback": [
      "\u001b[31m---------------------------------------------------------------------------\u001b[39m",
      "\u001b[31mNameError\u001b[39m                                 Traceback (most recent call last)",
      "\u001b[36mCell\u001b[39m\u001b[36m \u001b[39m\u001b[32mIn[6]\u001b[39m\u001b[32m, line 1\u001b[39m\n\u001b[32m----> \u001b[39m\u001b[32m1\u001b[39m \u001b[43mdf_threats\u001b[49m.columns\n",
      "\u001b[31mNameError\u001b[39m: name 'df_threats' is not defined"
     ]
    }
   ],
   "source": [
    "df_threats.columns"
   ]
  },
  {
   "cell_type": "code",
   "execution_count": 59,
   "id": "fab3b91a",
   "metadata": {},
   "outputs": [
    {
     "data": {
      "text/html": [
       "<div>\n",
       "<style scoped>\n",
       "    .dataframe tbody tr th:only-of-type {\n",
       "        vertical-align: middle;\n",
       "    }\n",
       "\n",
       "    .dataframe tbody tr th {\n",
       "        vertical-align: top;\n",
       "    }\n",
       "\n",
       "    .dataframe thead th {\n",
       "        text-align: right;\n",
       "    }\n",
       "</style>\n",
       "<table border=\"1\" class=\"dataframe\">\n",
       "  <thead>\n",
       "    <tr style=\"text-align: right;\">\n",
       "      <th></th>\n",
       "      <th>Threat ID</th>\n",
       "      <th>Threat title</th>\n",
       "      <th>Threat Description</th>\n",
       "      <th>Threat type</th>\n",
       "      <th>Impact type</th>\n",
       "      <th>Threat agent</th>\n",
       "      <th>Vulnerability</th>\n",
       "      <th>Threatened Asset</th>\n",
       "      <th>Affected Components</th>\n",
       "      <th>summary_th_df</th>\n",
       "      <th>embedding</th>\n",
       "    </tr>\n",
       "  </thead>\n",
       "  <tbody>\n",
       "    <tr>\n",
       "      <th>0</th>\n",
       "      <td>T-O-RAN-01</td>\n",
       "      <td>An attacker exploits insecure designs or lack of adaption in O-RAN components</td>\n",
       "      <td>Unauthenticated/unauthorized access to O-RAN components could possibly be achieved via the different O-RAN interfaces, depending upon the design of the hardware-software O-RAN system and how different functions are segregated within the O-RAN system. \\nO-RAN components might be vulnerable if: \\n• Outdated component from the lack of update or patch management,\\n• Poorly design architecture,\\n• Missing appropriate security hardening,\\n• Unnecessary or insecure function/protocol/component.\\nAn attacker could, in such case, either inject malwares and/or manipulate existing software, harm the O-RAN components, create a performance issue by manipulation of parameters, or reconfigure the O-RAN components and disable the security features with the purpose of eavesdropping or wiretapping on various CUS &amp; M planes, reaching northbound systems, attack broader network to cause denial-of-service, steal unprotected private keys, certificates, hash values, or other type of breaches.\\nIn addition, O-RAN components could be software providing network functions, so they are likely to be vulnerable to software flaws: it could be possible to bypass firewall restrictions or to take advantage of a buffer overflow to execute arbitrary commands, etc.</td>\n",
       "      <td>None</td>\n",
       "      <td>None</td>\n",
       "      <td>All</td>\n",
       "      <td>[Outdated component from the lack of update or patch management]</td>\n",
       "      <td>[ASSET D-11, ASSET D-20, ASSET D-21, ASSET-C-02, ASSET-C-03, ASSET-C-07, ASSET-C-08, ASSET-C-09, ASSET-C-1, ASSET-C-10, ASSET-C-11, ASSET-C-12, ASSET-C-14, ASSET-C-16, ASSET-C-17, ASSET-C-18, ASSET-C-19, ASSET-C-2, ASSET-C-20, ASSET-C-21, ASSET-C-22, ASSET-C-23, ASSET-C-24, ASSET-C-25, ASSET-C-26, ASSET-C-27, ASSET-C-28, ASSET-C-3, ASSET-C-31, ASSET-C-32, ASSET-C-33, ASSET-C-34, ASSET-C-35, ASSET-C-36, ASSET-C-37, ASSET-C-38, ASSET-C-39, ASSET-C-4, ASSET-C-40, ASSET-C-42, ASSET-C-5, ASSET-C-6, ASSET-C-7, ASSET-C-8, ASSET-C-9, ASSET-D-01, ASSET-D-02, ASSET-D-03, ASSET-D-04, ASSET-D-05, ASSET-D-06, ASSET-D-07, ASSET-D-08, ASSET-D-09, ASSET-D-1, ASSET-D-10, ASSET-D-11, ASSET-D-12, ASSET-D-13, ASSET-D-14, ASSET-D-15, ASSET-D-16, ASSET-D-17, ASSET-D-18, ASSET-D-19, ASSET-D-2, ASSET-D-20, ASSET-D-21, ASSET-D-22, ASSET-D-23, ASSET-D-24, ASSET-D-25, ASSET-D-26, ASSET-D-27, ASSET-D-28, ASSET-D-29, ASSET-D-3, ASSET-D-30, ASSET-D-31, ASSET-D-32, ASSET-D-33, ASSET-D-34, ASSET-D-35, ASSET-D-36, ASSET-D-37, ASSET-D-38, ASSET-D-39, ASSET-D-4, ASSET-D-41, ASSET-D-43, ASSET-D-5, ASSET-D-6, ASSET-D-7, ASSET-D-8, ASSET-D-9]</td>\n",
       "      <td>[All]</td>\n",
       "      <td>A Threat with the title An attacker exploits insecure designs or lack of adaption in O-RAN components and the description Unauthenticated/unauthorized access to O-RAN components could possibly be achieved via the different O-RAN interfaces, depending upon the design of the hardware-software O-RAN system and how different functions are segregated within the O-RAN system. \\nO-RAN components might be vulnerable if: \\n• Outdated component from the lack of update or patch management,\\n• Poorly design architecture,\\n• Missing appropriate security hardening,\\n• Unnecessary or insecure function/protocol/component.\\nAn attacker could, in such case, either inject malwares and/or manipulate existing software, harm the O-RAN components, create a performance issue by manipulation of parameters, or reconfigure the O-RAN components and disable the security features with the purpose of eavesdropping or wiretapping on various CUS &amp; M planes, reaching northbound systems, attack broader network to cause denial-of-service, steal unprotected private keys, certificates, hash values, or other type of breaches.\\nIn addition, O-RAN components could be software providing network functions, so they are likely to be vulnerable to software flaws: it could be possible to bypass firewall restrictions or to take advantage of a buffer overflow to execute arbitrary commands, etc.</td>\n",
       "      <td>[-0.024182335, -0.017894462, -0.016494107, 0.032714378, 0.055944026, -0.0070741954, -0.03134582, 0.042047128, -0.003014518, -0.07276965, 0.015318671, -0.013765871, -0.012040511, -0.06684316, 0.0712765, -0.0028529556, 0.054805882, 0.056034748, 0.0150890015, 0.035735235, -0.023036812, -0.01563314, 0.041243088, -0.055322185, -0.042470373, -0.025964046, -0.051097155, -0.027850369, 0.009753188, 0.033874065, -0.07739675, 0.06796128, -0.051971495, 0.03289672, -0.046105787, -0.08713522, 0.015054593, -0.039817583, -0.02016989, -0.021029806, -0.034519818, -0.064377174, 0.038905844, 0.051088545, -0.10244205, -0.039250705, 0.005759941, -0.004276076, -0.06270287, -0.12196382, 0.013097793, -0.024138236, 0.038756657, -0.00071160606, -0.04798233, -0.049363337, -0.023848219, 0.033207767, -0.031070733, -0.047250506, 0.041181155, 0.029480122, 0.0018857886, -0.010001538, -0.006578094, -0.043490417, 0.07990314, 0.01563736, 0.053809695, -0.06906356, -0.019088821, 0.018136924, -0.017202474, -0.095450856, -0.09217281, 0.061415683, -0.10140314, 0.01192272, 0.022908108, -0.06299471, 0.06684854, 0.06867783, -0.02050442, 0.027195027, -0.08646986, 0.123953655, -0.001004425, 0.010408173, 0.07101609, -0.010027461, -0.023261964, -0.062686935, 0.07685944, -0.02573287, 0.09436945, -0.004574478, -0.029952675, -0.084723756, -0.08645773, 0.060313366, ...]</td>\n",
       "    </tr>\n",
       "  </tbody>\n",
       "</table>\n",
       "</div>"
      ],
      "text/plain": [
       "    Threat ID  \\\n",
       "0  T-O-RAN-01   \n",
       "\n",
       "                                                                    Threat title  \\\n",
       "0  An attacker exploits insecure designs or lack of adaption in O-RAN components   \n",
       "\n",
       "                                                                                                                                                                                                                                                                                                                                                                                                                                                                                                                                                                                                                                                                                                                                                                                                                                                                                                                                                                                                                                                                                                                                                                                                                                                                               Threat Description  \\\n",
       "0  Unauthenticated/unauthorized access to O-RAN components could possibly be achieved via the different O-RAN interfaces, depending upon the design of the hardware-software O-RAN system and how different functions are segregated within the O-RAN system. \\nO-RAN components might be vulnerable if: \\n• Outdated component from the lack of update or patch management,\\n• Poorly design architecture,\\n• Missing appropriate security hardening,\\n• Unnecessary or insecure function/protocol/component.\\nAn attacker could, in such case, either inject malwares and/or manipulate existing software, harm the O-RAN components, create a performance issue by manipulation of parameters, or reconfigure the O-RAN components and disable the security features with the purpose of eavesdropping or wiretapping on various CUS & M planes, reaching northbound systems, attack broader network to cause denial-of-service, steal unprotected private keys, certificates, hash values, or other type of breaches.\\nIn addition, O-RAN components could be software providing network functions, so they are likely to be vulnerable to software flaws: it could be possible to bypass firewall restrictions or to take advantage of a buffer overflow to execute arbitrary commands, etc.   \n",
       "\n",
       "  Threat type Impact type Threat agent  \\\n",
       "0        None        None          All   \n",
       "\n",
       "                                                      Vulnerability  \\\n",
       "0  [Outdated component from the lack of update or patch management]   \n",
       "\n",
       "                                                                                                                                                                                                                                                                                                                                                                                                                                                                                                                                                                                                                                                                                                                                                                                                                                                                                                                                                                                                                                                                                                                                                     Threatened Asset  \\\n",
       "0  [ASSET D-11, ASSET D-20, ASSET D-21, ASSET-C-02, ASSET-C-03, ASSET-C-07, ASSET-C-08, ASSET-C-09, ASSET-C-1, ASSET-C-10, ASSET-C-11, ASSET-C-12, ASSET-C-14, ASSET-C-16, ASSET-C-17, ASSET-C-18, ASSET-C-19, ASSET-C-2, ASSET-C-20, ASSET-C-21, ASSET-C-22, ASSET-C-23, ASSET-C-24, ASSET-C-25, ASSET-C-26, ASSET-C-27, ASSET-C-28, ASSET-C-3, ASSET-C-31, ASSET-C-32, ASSET-C-33, ASSET-C-34, ASSET-C-35, ASSET-C-36, ASSET-C-37, ASSET-C-38, ASSET-C-39, ASSET-C-4, ASSET-C-40, ASSET-C-42, ASSET-C-5, ASSET-C-6, ASSET-C-7, ASSET-C-8, ASSET-C-9, ASSET-D-01, ASSET-D-02, ASSET-D-03, ASSET-D-04, ASSET-D-05, ASSET-D-06, ASSET-D-07, ASSET-D-08, ASSET-D-09, ASSET-D-1, ASSET-D-10, ASSET-D-11, ASSET-D-12, ASSET-D-13, ASSET-D-14, ASSET-D-15, ASSET-D-16, ASSET-D-17, ASSET-D-18, ASSET-D-19, ASSET-D-2, ASSET-D-20, ASSET-D-21, ASSET-D-22, ASSET-D-23, ASSET-D-24, ASSET-D-25, ASSET-D-26, ASSET-D-27, ASSET-D-28, ASSET-D-29, ASSET-D-3, ASSET-D-30, ASSET-D-31, ASSET-D-32, ASSET-D-33, ASSET-D-34, ASSET-D-35, ASSET-D-36, ASSET-D-37, ASSET-D-38, ASSET-D-39, ASSET-D-4, ASSET-D-41, ASSET-D-43, ASSET-D-5, ASSET-D-6, ASSET-D-7, ASSET-D-8, ASSET-D-9]   \n",
       "\n",
       "  Affected Components  \\\n",
       "0               [All]   \n",
       "\n",
       "                                                                                                                                                                                                                                                                                                                                                                                                                                                                                                                                                                                                                                                                                                                                                                                                                                                                                                                                                                                                                                                                                                                                                                                                                                                                                                                                                                                                              summary_th_df  \\\n",
       "0  A Threat with the title An attacker exploits insecure designs or lack of adaption in O-RAN components and the description Unauthenticated/unauthorized access to O-RAN components could possibly be achieved via the different O-RAN interfaces, depending upon the design of the hardware-software O-RAN system and how different functions are segregated within the O-RAN system. \\nO-RAN components might be vulnerable if: \\n• Outdated component from the lack of update or patch management,\\n• Poorly design architecture,\\n• Missing appropriate security hardening,\\n• Unnecessary or insecure function/protocol/component.\\nAn attacker could, in such case, either inject malwares and/or manipulate existing software, harm the O-RAN components, create a performance issue by manipulation of parameters, or reconfigure the O-RAN components and disable the security features with the purpose of eavesdropping or wiretapping on various CUS & M planes, reaching northbound systems, attack broader network to cause denial-of-service, steal unprotected private keys, certificates, hash values, or other type of breaches.\\nIn addition, O-RAN components could be software providing network functions, so they are likely to be vulnerable to software flaws: it could be possible to bypass firewall restrictions or to take advantage of a buffer overflow to execute arbitrary commands, etc.   \n",
       "\n",
       "                                                                                                                                                                                                                                                                                                                                                                                                                                                                                                                                                                                                                                                                                                                                                                                                                                                                                                                                                                                                                                                                                                                                                                                                                                                                                                                                                                                      embedding  \n",
       "0  [-0.024182335, -0.017894462, -0.016494107, 0.032714378, 0.055944026, -0.0070741954, -0.03134582, 0.042047128, -0.003014518, -0.07276965, 0.015318671, -0.013765871, -0.012040511, -0.06684316, 0.0712765, -0.0028529556, 0.054805882, 0.056034748, 0.0150890015, 0.035735235, -0.023036812, -0.01563314, 0.041243088, -0.055322185, -0.042470373, -0.025964046, -0.051097155, -0.027850369, 0.009753188, 0.033874065, -0.07739675, 0.06796128, -0.051971495, 0.03289672, -0.046105787, -0.08713522, 0.015054593, -0.039817583, -0.02016989, -0.021029806, -0.034519818, -0.064377174, 0.038905844, 0.051088545, -0.10244205, -0.039250705, 0.005759941, -0.004276076, -0.06270287, -0.12196382, 0.013097793, -0.024138236, 0.038756657, -0.00071160606, -0.04798233, -0.049363337, -0.023848219, 0.033207767, -0.031070733, -0.047250506, 0.041181155, 0.029480122, 0.0018857886, -0.010001538, -0.006578094, -0.043490417, 0.07990314, 0.01563736, 0.053809695, -0.06906356, -0.019088821, 0.018136924, -0.017202474, -0.095450856, -0.09217281, 0.061415683, -0.10140314, 0.01192272, 0.022908108, -0.06299471, 0.06684854, 0.06867783, -0.02050442, 0.027195027, -0.08646986, 0.123953655, -0.001004425, 0.010408173, 0.07101609, -0.010027461, -0.023261964, -0.062686935, 0.07685944, -0.02573287, 0.09436945, -0.004574478, -0.029952675, -0.084723756, -0.08645773, 0.060313366, ...]  "
      ]
     },
     "execution_count": 59,
     "metadata": {},
     "output_type": "execute_result"
    }
   ],
   "source": [
    "df_threats.head(1)"
   ]
  },
  {
   "cell_type": "code",
   "execution_count": 7,
   "id": "942bcdda",
   "metadata": {},
   "outputs": [
    {
     "data": {
      "text/plain": [
       "Index(['CAPEC ID', 'capec_name', 'capec_description', 'capec_domain',\n",
       "       'summary', 'embedding'],\n",
       "      dtype='object')"
      ]
     },
     "execution_count": 7,
     "metadata": {},
     "output_type": "execute_result"
    }
   ],
   "source": [
    "capecs_with_embeddings_df.columns"
   ]
  },
  {
   "cell_type": "code",
   "execution_count": 10,
   "id": "a2d87949",
   "metadata": {},
   "outputs": [],
   "source": [
    "capec_mapping = gen_mapping(threats_with_embeddings, capecs_with_embeddings_df)"
   ]
  },
  {
   "cell_type": "code",
   "execution_count": null,
   "id": "913ea0de",
   "metadata": {},
   "outputs": [],
   "source": []
  },
  {
   "cell_type": "markdown",
   "id": "558e7fd6",
   "metadata": {},
   "source": [
    "3. format the mapping"
   ]
  },
  {
   "cell_type": "code",
   "execution_count": 11,
   "id": "d8d3bee2",
   "metadata": {},
   "outputs": [],
   "source": [
    "COLOM_MAP = {'ID': 'Technique', 'name': 'yeet', 'Threat ID': 'Name', 'tactics': 'tactic', 'Threat title':'Description'}\n",
    "MAP_ORDER_capec = ['Name', 'Domain', 'Description', 'CAPEC ID', 'Similarity', 'summary_th_df', 'summary_ca_df']\n",
    "def format_map(ma, MAP_ORDER):\n",
    "    ma.rename(columns=COLOM_MAP, inplace=True)\n",
    "    ma = ma.loc[:, MAP_ORDER]\n",
    "    return ma"
   ]
  },
  {
   "cell_type": "code",
   "execution_count": 12,
   "id": "b20abf8c",
   "metadata": {},
   "outputs": [],
   "source": [
    "threat2capec_mapping_df = format_map(capec_mapping, MAP_ORDER_capec)"
   ]
  },
  {
   "cell_type": "code",
   "execution_count": null,
   "id": "75581e99",
   "metadata": {},
   "outputs": [],
   "source": [
    "# save capec mappings to pickle\n",
    "#threat2capec_mapping_df.to_pickle('mapped_data/all_t2c_mappings.pk1')"
   ]
  },
  {
   "cell_type": "code",
   "execution_count": 14,
   "id": "bc0e0138",
   "metadata": {},
   "outputs": [],
   "source": [
    "threat2capec_mapping_df = pd.read_pickle('mapped_data/all_t2c_mappings.pk1')"
   ]
  },
  {
   "cell_type": "code",
   "execution_count": 17,
   "id": "3f8d4151",
   "metadata": {},
   "outputs": [
    {
     "data": {
      "text/plain": [
       "count    101738.000000\n",
       "mean          0.322094\n",
       "std           0.076980\n",
       "min           0.010134\n",
       "25%           0.271916\n",
       "50%           0.323729\n",
       "75%           0.374085\n",
       "max           0.660303\n",
       "Name: Similarity, dtype: float64"
      ]
     },
     "execution_count": 17,
     "metadata": {},
     "output_type": "execute_result"
    }
   ],
   "source": [
    "threat2capec_mapping_df.Similarity.describe()"
   ]
  },
  {
   "cell_type": "code",
   "execution_count": 16,
   "id": "b7cff321",
   "metadata": {},
   "outputs": [
    {
     "data": {
      "text/html": [
       "<div>\n",
       "<style scoped>\n",
       "    .dataframe tbody tr th:only-of-type {\n",
       "        vertical-align: middle;\n",
       "    }\n",
       "\n",
       "    .dataframe tbody tr th {\n",
       "        vertical-align: top;\n",
       "    }\n",
       "\n",
       "    .dataframe thead th {\n",
       "        text-align: right;\n",
       "    }\n",
       "</style>\n",
       "<table border=\"1\" class=\"dataframe\">\n",
       "  <thead>\n",
       "    <tr style=\"text-align: right;\">\n",
       "      <th></th>\n",
       "      <th>Name</th>\n",
       "      <th>Domain</th>\n",
       "      <th>Description</th>\n",
       "      <th>CAPEC ID</th>\n",
       "      <th>Similarity</th>\n",
       "      <th>summary_th_df</th>\n",
       "      <th>summary_ca_df</th>\n",
       "    </tr>\n",
       "  </thead>\n",
       "  <tbody>\n",
       "    <tr>\n",
       "      <th>0</th>\n",
       "      <td>T-O-RAN-01</td>\n",
       "      <td>enterprise-attack</td>\n",
       "      <td>An attacker exploits insecure designs or lack of adaption in O-RAN components</td>\n",
       "      <td>CAPEC-87</td>\n",
       "      <td>0.246589</td>\n",
       "      <td>A Threat with the title An attacker exploits insecure designs or lack of adaption in O-RAN components and the description Unauthenticated/unauthorized access to O-RAN components could possibly be achieved via the different O-RAN interfaces, depending upon the design of the hardware-software O-RAN system and how different functions are segregated within the O-RAN system. \\nO-RAN components might be vulnerable if: \\n• Outdated component from the lack of update or patch management,\\n• Poorly design architecture,\\n• Missing appropriate security hardening,\\n• Unnecessary or insecure function/protocol/component.\\nAn attacker could, in such case, either inject malwares and/or manipulate existing software, harm the O-RAN components, create a performance issue by manipulation of parameters, or reconfigure the O-RAN components and disable the security features with the purpose of eavesdropping or wiretapping on various CUS &amp; M planes, reaching northbound systems, attack broader network to cause denial-of-service, steal unprotected private keys, certificates, hash values, or other type of breaches.\\nIn addition, O-RAN components could be software providing network functions, so they are likely to be vulnerable to software flaws: it could be possible to bypass firewall restrictions or to take advantage of a buffer overflow to execute arbitrary commands, etc.</td>\n",
       "      <td>A CAPEC with the title Forceful Browsing. The description of this CAPEC is: An attacker employs forceful browsing (direct URL entry) to access portions of a website that are otherwise unreachable. Usually, a front controller or similar design pattern is employed to protect access to portions of a web application. Forceful browsing enables an attacker to access information, perform privileged operations and otherwise reach sections of the web application that have been improperly protected.. The Domain of this is: Software</td>\n",
       "    </tr>\n",
       "    <tr>\n",
       "      <th>1</th>\n",
       "      <td>T-O-RAN-02</td>\n",
       "      <td>enterprise-attack</td>\n",
       "      <td>An attacker exploits misconfigured or poorly configured O-RAN components</td>\n",
       "      <td>CAPEC-87</td>\n",
       "      <td>0.269296</td>\n",
       "      <td>A Threat with the title An attacker exploits misconfigured or poorly configured O-RAN components and the description Unauthenticated/unauthorized access to O-RAN components could possibly be achieved via the different O-RAN interfaces, depending upon the configuration of the hardware-software O-RAN system. \\nO-RAN components might be vulnerable if: \\n• Errors from the lack of configuration change management,\\n• Misconfigured or poorly configured O-RAN components,\\n• Improperly configured permissions,\\n• Unnecessary features are enabled (e.g. unnecessary ports, services, accounts, or privileges),\\n• Default accounts and their passwords still enabled and unchanged,\\n• Security features are disabled or not configured securely.\\nAn attacker could, in such case, either inject malwares and/or manipulate existing software, harm the O-RAN components, create a performance issue by manipulation of parameters, or reconfigure the O-RAN components and disable the security features with the purpose of eavesdropping or wiretapping on various CUS &amp; M planes, reaching northbound systems, attack broader network to cause denial-of-service, steal unprotected private keys, certificates, hash values, or other type of breaches.</td>\n",
       "      <td>A CAPEC with the title Forceful Browsing. The description of this CAPEC is: An attacker employs forceful browsing (direct URL entry) to access portions of a website that are otherwise unreachable. Usually, a front controller or similar design pattern is employed to protect access to portions of a web application. Forceful browsing enables an attacker to access information, perform privileged operations and otherwise reach sections of the web application that have been improperly protected.. The Domain of this is: Software</td>\n",
       "    </tr>\n",
       "    <tr>\n",
       "      <th>2</th>\n",
       "      <td>T-O-RAN-03</td>\n",
       "      <td>enterprise-attack</td>\n",
       "      <td>Attacks from the internet to penetrate O-RAN network boundary</td>\n",
       "      <td>CAPEC-87</td>\n",
       "      <td>0.414978</td>\n",
       "      <td>A Threat with the title Attacks from the internet to penetrate O-RAN network boundary and the description Web servers serving O-RAN functional and management services should provide adequate protection. \\nAn attacker that have access to the uncontrolled O-RAN network could:\\n• Bypass the information flow control policy implemented by the firewall,\\n• And/or attack O-RAN components in the trusted networks by taking advantage of particularities and errors in the design and implementation of the network protocols (IP, TCP, UDP, application protocols),\\n• Use of incorrect or exceeded TCP sequence numbers,\\n• Perform brute force attacks on FTP passwords,\\n• Use of improper HTTP user sessions,\\n• Etc.\\nThe effects of such attacks may include:\\n• An intrusion, meaning unauthorized access to O-RAN components,\\n• Blocking, flooding or restarting an O-RAN component causing a denial of service,\\n• Flooding of network equipment, causing a denial of service,\\n• Etc.</td>\n",
       "      <td>A CAPEC with the title Forceful Browsing. The description of this CAPEC is: An attacker employs forceful browsing (direct URL entry) to access portions of a website that are otherwise unreachable. Usually, a front controller or similar design pattern is employed to protect access to portions of a web application. Forceful browsing enables an attacker to access information, perform privileged operations and otherwise reach sections of the web application that have been improperly protected.. The Domain of this is: Software</td>\n",
       "    </tr>\n",
       "    <tr>\n",
       "      <th>3</th>\n",
       "      <td>T-O-RAN-04</td>\n",
       "      <td>enterprise-attack</td>\n",
       "      <td>An attacker attempts to jam the airlink signal through IoT devices</td>\n",
       "      <td>CAPEC-87</td>\n",
       "      <td>0.274226</td>\n",
       "      <td>A Threat with the title An attacker attempts to jam the airlink signal through IoT devices and the description DDoS attacks on O-RAN systems: The 5G evolution means billions of things, collectively referred to as IoT, will be using the 5G O-RAN. Thus, IoT could increase the risk of O-RAN resource overload by way of DDoS attacks. Attackers create a botnet army by infecting many (millions/billions) IoT devices with a “remote-reboot” malware. Attackers instruct the malware to reboot all devices in a specific or targeted 5G coverage area at the same time.</td>\n",
       "      <td>A CAPEC with the title Forceful Browsing. The description of this CAPEC is: An attacker employs forceful browsing (direct URL entry) to access portions of a website that are otherwise unreachable. Usually, a front controller or similar design pattern is employed to protect access to portions of a web application. Forceful browsing enables an attacker to access information, perform privileged operations and otherwise reach sections of the web application that have been improperly protected.. The Domain of this is: Software</td>\n",
       "    </tr>\n",
       "    <tr>\n",
       "      <th>4</th>\n",
       "      <td>T-O-RAN-05</td>\n",
       "      <td>enterprise-attack</td>\n",
       "      <td>An attacker penetrates and compromises the O-RAN system through the open O-RAN’s Fronthaul, O1, O2, A1, and E2</td>\n",
       "      <td>CAPEC-87</td>\n",
       "      <td>0.375388</td>\n",
       "      <td>A Threat with the title An attacker penetrates and compromises the O-RAN system through the open O-RAN’s Fronthaul, O1, O2, A1, and E2 and the description O-RAN’s Fronthaul, O1, O2, A1, and E2 management interfaces are the new open interfaces that allow software programmability of RAN. These interfaces may not be secured to industry best practices.\\nO-RAN components might be vulnerable if: \\n• Improper or missing authentication and authorization processes,\\n• Improper or missing ciphering and integrity checks of sensitive data exchanged over O-RAN interfaces,\\n• Improper or missing replay protection of sensitive data exchanged over O-RAN interfaces,\\n• Improper prevention of key reuse,\\n• Improper implementation,\\n• Improperly validate inputs, respond to error conditions in both the submitted data as well as out of sequence protocol steps.\\nAn attacker could, in such case, cause denial-of-service, data tampering or information disclosure, etc.\\nNOTE: O-RAN interfaces allow use of TLS or SSH. Industry best practices mandate the use of TLS (v1.2 or higher) or SSH certificate-based authentication. An implementation that implements TLS version lower than 1.2 or a SSH password authentication, may become the key source of vulnerability that a malicious code will exploit to compromise the O-RAN system.</td>\n",
       "      <td>A CAPEC with the title Forceful Browsing. The description of this CAPEC is: An attacker employs forceful browsing (direct URL entry) to access portions of a website that are otherwise unreachable. Usually, a front controller or similar design pattern is employed to protect access to portions of a web application. Forceful browsing enables an attacker to access information, perform privileged operations and otherwise reach sections of the web application that have been improperly protected.. The Domain of this is: Software</td>\n",
       "    </tr>\n",
       "    <tr>\n",
       "      <th>5</th>\n",
       "      <td>T-O-RAN-06</td>\n",
       "      <td>enterprise-attack</td>\n",
       "      <td>An attacker exploits insufficient/improper mechanisms for authentication and authorization to compromise O-RAN components</td>\n",
       "      <td>CAPEC-87</td>\n",
       "      <td>0.329903</td>\n",
       "      <td>A Threat with the title An attacker exploits insufficient/improper mechanisms for authentication and authorization to compromise O-RAN components and the description O-RAN management and orchestration should not be used without appropriate authentication and authorization and authorization checks. \\nO-RAN components might be vulnerable if: \\n• Unauthenticated access to O-RAN functions,\\n• Improper authentication mechanisms,\\n• Use of Predefined/ default accounts,\\n• Weak or missing password policy,\\n• Lack of mutual authentication to O-RAN components and interfaces,\\n• Failure to block consecutive failed login attempts,\\n• Improper authorization and access control policy.\\nAn attacker could, in such case, either inject malwares and/or manipulate existing software, harm the O-RAN components, create a performance issue by manipulation of parameters, or reconfigure the O-RAN components and disable the security features with the purpose of eavesdropping or wiretapping on various CUS &amp; M planes, reaching northbound systems, attack broader network to cause denial-of-service, steal unprotected private keys, certificates, hash values, or other type of breaches.</td>\n",
       "      <td>A CAPEC with the title Forceful Browsing. The description of this CAPEC is: An attacker employs forceful browsing (direct URL entry) to access portions of a website that are otherwise unreachable. Usually, a front controller or similar design pattern is employed to protect access to portions of a web application. Forceful browsing enables an attacker to access information, perform privileged operations and otherwise reach sections of the web application that have been improperly protected.. The Domain of this is: Software</td>\n",
       "    </tr>\n",
       "  </tbody>\n",
       "</table>\n",
       "</div>"
      ],
      "text/plain": [
       "         Name             Domain  \\\n",
       "0  T-O-RAN-01  enterprise-attack   \n",
       "1  T-O-RAN-02  enterprise-attack   \n",
       "2  T-O-RAN-03  enterprise-attack   \n",
       "3  T-O-RAN-04  enterprise-attack   \n",
       "4  T-O-RAN-05  enterprise-attack   \n",
       "5  T-O-RAN-06  enterprise-attack   \n",
       "\n",
       "                                                                                                                 Description  \\\n",
       "0                                              An attacker exploits insecure designs or lack of adaption in O-RAN components   \n",
       "1                                                   An attacker exploits misconfigured or poorly configured O-RAN components   \n",
       "2                                                              Attacks from the internet to penetrate O-RAN network boundary   \n",
       "3                                                         An attacker attempts to jam the airlink signal through IoT devices   \n",
       "4             An attacker penetrates and compromises the O-RAN system through the open O-RAN’s Fronthaul, O1, O2, A1, and E2   \n",
       "5  An attacker exploits insufficient/improper mechanisms for authentication and authorization to compromise O-RAN components   \n",
       "\n",
       "   CAPEC ID  Similarity  \\\n",
       "0  CAPEC-87    0.246589   \n",
       "1  CAPEC-87    0.269296   \n",
       "2  CAPEC-87    0.414978   \n",
       "3  CAPEC-87    0.274226   \n",
       "4  CAPEC-87    0.375388   \n",
       "5  CAPEC-87    0.329903   \n",
       "\n",
       "                                                                                                                                                                                                                                                                                                                                                                                                                                                                                                                                                                                                                                                                                                                                                                                                                                                                                                                                                                                                                                                                                                                                                                                                                                                                                                                                                                                                              summary_th_df  \\\n",
       "0  A Threat with the title An attacker exploits insecure designs or lack of adaption in O-RAN components and the description Unauthenticated/unauthorized access to O-RAN components could possibly be achieved via the different O-RAN interfaces, depending upon the design of the hardware-software O-RAN system and how different functions are segregated within the O-RAN system. \\nO-RAN components might be vulnerable if: \\n• Outdated component from the lack of update or patch management,\\n• Poorly design architecture,\\n• Missing appropriate security hardening,\\n• Unnecessary or insecure function/protocol/component.\\nAn attacker could, in such case, either inject malwares and/or manipulate existing software, harm the O-RAN components, create a performance issue by manipulation of parameters, or reconfigure the O-RAN components and disable the security features with the purpose of eavesdropping or wiretapping on various CUS & M planes, reaching northbound systems, attack broader network to cause denial-of-service, steal unprotected private keys, certificates, hash values, or other type of breaches.\\nIn addition, O-RAN components could be software providing network functions, so they are likely to be vulnerable to software flaws: it could be possible to bypass firewall restrictions or to take advantage of a buffer overflow to execute arbitrary commands, etc.   \n",
       "1                                                                                                                                                  A Threat with the title An attacker exploits misconfigured or poorly configured O-RAN components and the description Unauthenticated/unauthorized access to O-RAN components could possibly be achieved via the different O-RAN interfaces, depending upon the configuration of the hardware-software O-RAN system. \\nO-RAN components might be vulnerable if: \\n• Errors from the lack of configuration change management,\\n• Misconfigured or poorly configured O-RAN components,\\n• Improperly configured permissions,\\n• Unnecessary features are enabled (e.g. unnecessary ports, services, accounts, or privileges),\\n• Default accounts and their passwords still enabled and unchanged,\\n• Security features are disabled or not configured securely.\\nAn attacker could, in such case, either inject malwares and/or manipulate existing software, harm the O-RAN components, create a performance issue by manipulation of parameters, or reconfigure the O-RAN components and disable the security features with the purpose of eavesdropping or wiretapping on various CUS & M planes, reaching northbound systems, attack broader network to cause denial-of-service, steal unprotected private keys, certificates, hash values, or other type of breaches.   \n",
       "2                                                                                                                                                                                                                                                                                                                                                                                                                   A Threat with the title Attacks from the internet to penetrate O-RAN network boundary and the description Web servers serving O-RAN functional and management services should provide adequate protection. \\nAn attacker that have access to the uncontrolled O-RAN network could:\\n• Bypass the information flow control policy implemented by the firewall,\\n• And/or attack O-RAN components in the trusted networks by taking advantage of particularities and errors in the design and implementation of the network protocols (IP, TCP, UDP, application protocols),\\n• Use of incorrect or exceeded TCP sequence numbers,\\n• Perform brute force attacks on FTP passwords,\\n• Use of improper HTTP user sessions,\\n• Etc.\\nThe effects of such attacks may include:\\n• An intrusion, meaning unauthorized access to O-RAN components,\\n• Blocking, flooding or restarting an O-RAN component causing a denial of service,\\n• Flooding of network equipment, causing a denial of service,\\n• Etc.   \n",
       "3                                                                                                                                                                                                                                                                                                                                                                                                                                                                                                                                                                                                                                                                                                                                                                                                                                             A Threat with the title An attacker attempts to jam the airlink signal through IoT devices and the description DDoS attacks on O-RAN systems: The 5G evolution means billions of things, collectively referred to as IoT, will be using the 5G O-RAN. Thus, IoT could increase the risk of O-RAN resource overload by way of DDoS attacks. Attackers create a botnet army by infecting many (millions/billions) IoT devices with a “remote-reboot” malware. Attackers instruct the malware to reboot all devices in a specific or targeted 5G coverage area at the same time.   \n",
       "4                                                      A Threat with the title An attacker penetrates and compromises the O-RAN system through the open O-RAN’s Fronthaul, O1, O2, A1, and E2 and the description O-RAN’s Fronthaul, O1, O2, A1, and E2 management interfaces are the new open interfaces that allow software programmability of RAN. These interfaces may not be secured to industry best practices.\\nO-RAN components might be vulnerable if: \\n• Improper or missing authentication and authorization processes,\\n• Improper or missing ciphering and integrity checks of sensitive data exchanged over O-RAN interfaces,\\n• Improper or missing replay protection of sensitive data exchanged over O-RAN interfaces,\\n• Improper prevention of key reuse,\\n• Improper implementation,\\n• Improperly validate inputs, respond to error conditions in both the submitted data as well as out of sequence protocol steps.\\nAn attacker could, in such case, cause denial-of-service, data tampering or information disclosure, etc.\\nNOTE: O-RAN interfaces allow use of TLS or SSH. Industry best practices mandate the use of TLS (v1.2 or higher) or SSH certificate-based authentication. An implementation that implements TLS version lower than 1.2 or a SSH password authentication, may become the key source of vulnerability that a malicious code will exploit to compromise the O-RAN system.   \n",
       "5                                                                                                                                                                                                       A Threat with the title An attacker exploits insufficient/improper mechanisms for authentication and authorization to compromise O-RAN components and the description O-RAN management and orchestration should not be used without appropriate authentication and authorization and authorization checks. \\nO-RAN components might be vulnerable if: \\n• Unauthenticated access to O-RAN functions,\\n• Improper authentication mechanisms,\\n• Use of Predefined/ default accounts,\\n• Weak or missing password policy,\\n• Lack of mutual authentication to O-RAN components and interfaces,\\n• Failure to block consecutive failed login attempts,\\n• Improper authorization and access control policy.\\nAn attacker could, in such case, either inject malwares and/or manipulate existing software, harm the O-RAN components, create a performance issue by manipulation of parameters, or reconfigure the O-RAN components and disable the security features with the purpose of eavesdropping or wiretapping on various CUS & M planes, reaching northbound systems, attack broader network to cause denial-of-service, steal unprotected private keys, certificates, hash values, or other type of breaches.   \n",
       "\n",
       "                                                                                                                                                                                                                                                                                                                                                                                                                                                                                                                                     summary_ca_df  \n",
       "0  A CAPEC with the title Forceful Browsing. The description of this CAPEC is: An attacker employs forceful browsing (direct URL entry) to access portions of a website that are otherwise unreachable. Usually, a front controller or similar design pattern is employed to protect access to portions of a web application. Forceful browsing enables an attacker to access information, perform privileged operations and otherwise reach sections of the web application that have been improperly protected.. The Domain of this is: Software  \n",
       "1  A CAPEC with the title Forceful Browsing. The description of this CAPEC is: An attacker employs forceful browsing (direct URL entry) to access portions of a website that are otherwise unreachable. Usually, a front controller or similar design pattern is employed to protect access to portions of a web application. Forceful browsing enables an attacker to access information, perform privileged operations and otherwise reach sections of the web application that have been improperly protected.. The Domain of this is: Software  \n",
       "2  A CAPEC with the title Forceful Browsing. The description of this CAPEC is: An attacker employs forceful browsing (direct URL entry) to access portions of a website that are otherwise unreachable. Usually, a front controller or similar design pattern is employed to protect access to portions of a web application. Forceful browsing enables an attacker to access information, perform privileged operations and otherwise reach sections of the web application that have been improperly protected.. The Domain of this is: Software  \n",
       "3  A CAPEC with the title Forceful Browsing. The description of this CAPEC is: An attacker employs forceful browsing (direct URL entry) to access portions of a website that are otherwise unreachable. Usually, a front controller or similar design pattern is employed to protect access to portions of a web application. Forceful browsing enables an attacker to access information, perform privileged operations and otherwise reach sections of the web application that have been improperly protected.. The Domain of this is: Software  \n",
       "4  A CAPEC with the title Forceful Browsing. The description of this CAPEC is: An attacker employs forceful browsing (direct URL entry) to access portions of a website that are otherwise unreachable. Usually, a front controller or similar design pattern is employed to protect access to portions of a web application. Forceful browsing enables an attacker to access information, perform privileged operations and otherwise reach sections of the web application that have been improperly protected.. The Domain of this is: Software  \n",
       "5  A CAPEC with the title Forceful Browsing. The description of this CAPEC is: An attacker employs forceful browsing (direct URL entry) to access portions of a website that are otherwise unreachable. Usually, a front controller or similar design pattern is employed to protect access to portions of a web application. Forceful browsing enables an attacker to access information, perform privileged operations and otherwise reach sections of the web application that have been improperly protected.. The Domain of this is: Software  "
      ]
     },
     "execution_count": 16,
     "metadata": {},
     "output_type": "execute_result"
    }
   ],
   "source": [
    "threat2capec_mapping_df.loc[0:5]"
   ]
  },
  {
   "cell_type": "code",
   "execution_count": 69,
   "id": "b057f01e",
   "metadata": {},
   "outputs": [
    {
     "name": "stdout",
     "output_type": "stream",
     "text": [
      "Top CAPEC for Each Threat:\n",
      "\n",
      "Threat: T-A1-01\n",
      "  - CAPEC ID: CAPEC-94, Similarity: 0.5257, Description: Untrusted peering between Non-RT-RIC and Near-RT-RIC\n",
      "\n",
      "Threat: T-A1-02\n",
      "  - CAPEC ID: CAPEC-387, Similarity: 0.6062, Description: Malicious function or application monitors messaging across A1 interface\n",
      "\n",
      "Threat: T-A1-03\n",
      "  - CAPEC ID: CAPEC-387, Similarity: 0.5743, Description: Malicious function or application modifies messaging across A1 interface\n",
      "\n",
      "Threat: T-AAL-01\n",
      "  - CAPEC ID: CAPEC-440, Similarity: 0.5106, Description: Attacker exploits insecure API to gain access to hardware accelerator resources\n",
      "\n",
      "Threat: T-AAL-02\n",
      "  - CAPEC ID: CAPEC-469, Similarity: 0.4672, Description: Internal Overload DoS attack targeting AAL services\n",
      "\n",
      "Threat: T-AAL-03\n",
      "  - CAPEC ID: CAPEC-663, Similarity: 0.4982, Description: Fail to clear resources\n",
      "\n",
      "Threat: T-AAL-04\n",
      "  - CAPEC ID: CAPEC-401, Similarity: 0.5316, Description: HAM compromise\n",
      "\n",
      "Threat: T-AAL-05\n",
      "  - CAPEC ID: CAPEC-456, Similarity: 0.5835, Description: Malicious memory accesses\n",
      "\n",
      "Threat: T-AAL-06\n",
      "  - CAPEC ID: CAPEC-638, Similarity: 0.6034, Description: Firmware attacks\n",
      "\n",
      "Threat: T-ADMIN-01\n",
      "  - CAPEC ID: CAPEC-125, Similarity: 0.4459, Description: Denial of service against NFO/FOCOM\n",
      "\n",
      "Threat: T-ADMIN-02\n",
      "  - CAPEC ID: CAPEC-122, Similarity: 0.5252, Description: Abuse a O-Cloud administration service\n",
      "\n",
      "Threat: T-AppLCM-01\n",
      "  - CAPEC ID: CAPEC-669, Similarity: 0.6202, Description: Compromise of App/VNF/CNF update package integrity during onboarding\n",
      "\n",
      "Threat: T-AppLCM-02\n",
      "  - CAPEC ID: CAPEC-23, Similarity: 0.5726, Description: Compromise of App/VNF/CNF update image integrity during instantiation\n",
      "\n",
      "Threat: T-AppLCM-03\n",
      "  - CAPEC ID: CAPEC-187, Similarity: 0.4592, Description: Downgrade attack to vulnerable application version\n",
      "\n",
      "Threat: T-AppLCM-04\n",
      "  - CAPEC ID: CAPEC-180, Similarity: 0.5344, Description: Attacker exploits missing or improperly defined elements of application’s SecurityDescriptor\n",
      "\n",
      "Threat: T-AppLCM-05\n",
      "  - CAPEC ID: CAPEC-502, Similarity: 0.5422, Description: Malicious actor modifies application’s SecurityDescriptor\n",
      "\n",
      "Threat: T-AppLCM-06\n",
      "  - CAPEC ID: CAPEC-271, Similarity: 0.5195, Description: Improper decommissioning of application \n",
      "\n",
      "Threat: T-AppLCM-07\n",
      "  - CAPEC ID: CAPEC-546, Similarity: 0.6256, Description: Improper deletion of application sensitive data\n",
      "\n",
      "Threat: T-CPLANE-01\n",
      "  - CAPEC ID: CAPEC-473, Similarity: 0.5426, Description: Spoofing of DL C-plane messages\n",
      "\n",
      "Threat: T-CPLANE-02\n",
      "  - CAPEC ID: CAPEC-473, Similarity: 0.5234, Description: Spoofing of UL C-plane messages\n",
      "\n",
      "Threat: T-E2-01\n",
      "  - CAPEC ID: CAPEC-94, Similarity: 0.5228, Description: Untrusted Near-RT-RIC and E2 Nodes\n",
      "\n",
      "Threat: T-E2-02\n",
      "  - CAPEC ID: CAPEC-12, Similarity: 0.5341, Description: Malicious actor monitors messaging across E2 interface\n",
      "\n",
      "Threat: T-E3-03\n",
      "  - CAPEC ID: CAPEC-94, Similarity: 0.5129, Description: Malicious actor modifies messaging across E2 interface\n",
      "\n",
      "Threat: T-FRHAUL-01\n",
      "  - CAPEC ID: CAPEC-700, Similarity: 0.4717, Description: An attacker penetrates O-DU and beyond through O-RU or the Fronthaul interface\n",
      "\n",
      "Threat: T-FRHAUL-02\n",
      "  - CAPEC ID: CAPEC-700, Similarity: 0.4548, Description: Unauthorized access to Open Front Haul Ethernet L1 physical layer interface(s)\n",
      "\n",
      "Threat: T-GEN-01\n",
      "  - CAPEC ID: CAPEC-480, Similarity: 0.5447, Description: Software flaw attack\n",
      "\n",
      "Threat: T-GEN-02\n",
      "  - CAPEC ID: CAPEC-510, Similarity: 0.5971, Description: Malicious access to exposed services using valid accounts\n",
      "\n",
      "Threat: T-GEN-03\n",
      "  - CAPEC ID: CAPEC-480, Similarity: 0.4441, Description: Untrust binding between the different O-Cloud layers\n",
      "\n",
      "Threat: T-GEN-04\n",
      "  - CAPEC ID: CAPEC-115, Similarity: 0.4424, Description: Lack of Authentication & Authorization in interfaces between O-Cloud components\n",
      "\n",
      "Threat: T-GEN-05\n",
      "  - CAPEC ID: CAPEC-568, Similarity: 0.5236, Description: Unsecured credentials and keys\n",
      "\n",
      "Threat: T-HW-01\n",
      "  - CAPEC ID: CAPEC-480, Similarity: 0.4617, Description: Cross VM/Container side channel attacks\n",
      "\n",
      "Threat: T-HW-02\n",
      "  - CAPEC ID: CAPEC-480, Similarity: 0.5688, Description: MitM attacks on the interface between virtualization layer and hardware\n",
      "\n",
      "Threat: T-IMG-01\n",
      "  - CAPEC ID: CAPEC-480, Similarity: 0.5751, Description: VM/Container images tampering\n",
      "\n",
      "Threat: T-IMG-02\n",
      "  - CAPEC ID: CAPEC-533, Similarity: 0.4852, Description: Insecure channels with images repository\n",
      "\n",
      "Threat: T-IMG-03\n",
      "  - CAPEC ID: CAPEC-480, Similarity: 0.4551, Description: Secrets disclosure in VM/Container images\n",
      "\n",
      "Threat: T-IMG-04\n",
      "  - CAPEC ID: CAPEC-480, Similarity: 0.4095, Description: Build image on VL\n",
      "\n",
      "Threat: T-ML-01\n",
      "  - CAPEC ID: CAPEC-146, Similarity: 0.5150, Description: Poisoning the ML training data (Data poisoning attacks)\n",
      "\n",
      "Threat: T-ML-02\n",
      "  - CAPEC ID: CAPEC-153, Similarity: 0.5018, Description: Altering a machine learning model (System manipulation and compromise of ML data confidentiality ...\n",
      "\n",
      "Threat: T-ML-03\n",
      "  - CAPEC ID: CAPEC-240, Similarity: 0.4164, Description: Transfer learning attack\n",
      "\n",
      "Threat: T-MPLANE-01\n",
      "  - CAPEC ID: CAPEC-622, Similarity: 0.5092, Description: An attacker attempts to intercept the Fronthaul (MITM) over M Plane\n",
      "\n",
      "Threat: T-NEAR-RT-01\n",
      "  - CAPEC ID: CAPEC-388, Similarity: 0.4785, Description: Malicious Apps can exploit UE identification, track UE location and change UE priority\n",
      "\n",
      "Threat: T-NEAR-RT-02\n",
      "  - CAPEC ID: CAPEC-523, Similarity: 0.4649, Description: Risk of deployment of a malicious xApp on Near-RT RIC\n",
      "\n",
      "Threat: T-NEAR-RT-03\n",
      "  - CAPEC ID: CAPEC-388, Similarity: 0.5190, Description: Attackers exploit non authenticated, weakly or incorrectly authenticated Near-RT RIC APIs\n",
      "\n",
      "Threat: T-NEAR-RT-04\n",
      "  - CAPEC ID: CAPEC-388, Similarity: 0.5553, Description: Attackers exploit non authorized Near-RT RIC APIs to access to resources and services which they ...\n",
      "\n",
      "Threat: T-NEAR-RT-05\n",
      "  - CAPEC ID: CAPEC-21, Similarity: 0.5439, Description: Attackers exploit non uniquely identified xApps using a trusted xAppID to access to resources and...\n",
      "\n",
      "Threat: T-NONRTRIC-01\n",
      "  - CAPEC ID: CAPEC-180, Similarity: 0.5514, Description: An attacker gains access to the Non-RT RIC through the SMO to cause a denial of service or degrad...\n",
      "\n",
      "Threat: T-NONRTRIC-02\n",
      "  - CAPEC ID: CAPEC-407, Similarity: 0.4842, Description: An attacker gains access to the Non-RT RIC through the SMO for UE tracking\n",
      "\n",
      "Threat: T-NONRTRIC-03\n",
      "  - CAPEC ID: CAPEC-407, Similarity: 0.5263, Description: An attacker gains access to the Non-RT RIC through the SMO to cause Data Corruption/Modification\n",
      "\n",
      "Threat: T-NONRTRIC-04\n",
      "  - CAPEC ID: CAPEC-665, Similarity: 0.4911, Description: An attacker exploits non uniquely identified rApp instances using a trusted rAppID to access R1 s...\n",
      "\n",
      "Threat: T-O-CLOUD-ID-01\n",
      "  - CAPEC ID: CAPEC-546, Similarity: 0.4272, Description: ID reuse in O-Cloud's object lifecycle\n",
      "\n",
      "Threat: T-O-CLOUD-ID-02\n",
      "  - CAPEC ID: CAPEC-534, Similarity: 0.3946, Description: Node redundancy in O-Cloud deployments\n",
      "\n",
      "Threat: T-O-CLOUD-ID-03\n",
      "  - CAPEC ID: CAPEC-318, Similarity: 0.4499, Description: O-Cloud ID mismanagement\n",
      "\n",
      "Threat: T-O-RAN-01\n",
      "  - CAPEC ID: CAPEC-401, Similarity: 0.5147, Description: An attacker exploits insecure designs or lack of adaption in O-RAN components\n",
      "\n",
      "Threat: T-O-RAN-02\n",
      "  - CAPEC ID: CAPEC-401, Similarity: 0.5298, Description: An attacker exploits misconfigured or poorly configured O-RAN components\n",
      "\n",
      "Threat: T-O-RAN-03\n",
      "  - CAPEC ID: CAPEC-482, Similarity: 0.5126, Description: Attacks from the internet to penetrate O-RAN network boundary\n",
      "\n",
      "Threat: T-O-RAN-04\n",
      "  - CAPEC ID: CAPEC-604, Similarity: 0.5516, Description: An attacker attempts to jam the airlink signal through IoT devices\n",
      "\n",
      "Threat: T-O-RAN-05\n",
      "  - CAPEC ID: CAPEC-88, Similarity: 0.5098, Description: An attacker penetrates and compromises the O-RAN system through the open O-RAN’s Fronthaul, O1, O...\n",
      "\n",
      "Threat: T-O-RAN-06\n",
      "  - CAPEC ID: CAPEC-114, Similarity: 0.5888, Description: An attacker exploits insufficient/improper mechanisms for authentication and authorization to com...\n",
      "\n",
      "Threat: T-O-RAN-07\n",
      "  - CAPEC ID: CAPEC-268, Similarity: 0.6590, Description: An attacker compromises O-RAN monitoring mechanisms and log files integrity and availability\n",
      "\n",
      "Threat: T-O-RAN-08\n",
      "  - CAPEC ID: CAPEC-470, Similarity: 0.5037, Description: An attacker compromises O-RAN data integrity, confidentiality and traceability\n",
      "\n",
      "Threat: T-O-RAN-09\n",
      "  - CAPEC ID: CAPEC-440, Similarity: 0.5609, Description: An attacker compromises O-RAN components integrity and availability\n",
      "\n",
      "Threat: T-O2-01\n",
      "  - CAPEC ID: CAPEC-480, Similarity: 0.4591, Description: MitM attacks on O2 interface between O-Cloud and SMO\n",
      "\n",
      "Threat: T-OCAPI-01\n",
      "  - CAPEC ID: CAPEC-480, Similarity: 0.5098, Description: MitM attacks on O-Cloud interface between VNFs/CNFs and the virtualization layer\n",
      "\n",
      "Threat: T-OPENSRC-01\n",
      "  - CAPEC ID: CAPEC-538, Similarity: 0.6603, Description: Developers use SW components with known vulnerabilities and untrusted libraries that can be explo...\n",
      "\n",
      "Threat: T-OPENSRC-02\n",
      "  - CAPEC ID: CAPEC-538, Similarity: 0.6342, Description: A trusted developer intentionally inserts a backdoor into an open source code O-RAN component\n",
      "\n",
      "Threat: T-ORU-01\n",
      "  - CAPEC ID: CAPEC-617, Similarity: 0.5935, Description: An attacker stands up a false base station attack by attacking an O-RU\n",
      "\n",
      "Threat: T-PHYS-01\n",
      "  - CAPEC ID: CAPEC-401, Similarity: 0.5466, Description: An intruder into a site gains physical access to O-RAN components to cause damage or access sensi...\n",
      "\n",
      "Threat: T-PHYS-02\n",
      "  - CAPEC ID: CAPEC-161, Similarity: 0.4522, Description: An intruder into the exchange over the Fronthaul cable network attempts to gain electronic access...\n",
      "\n",
      "Threat: T-PNF-01\n",
      "  - CAPEC ID: CAPEC-594, Similarity: 0.4553, Description: An attacker compromises a PNF to launch reverse attacks and other attacks against VNFs/CNFs\n",
      "\n",
      "Threat: T-R1-01\n",
      "  - CAPEC ID: CAPEC-502, Similarity: 0.5132, Description: A malicious actor gains unauthorized access to R1 services\n",
      "\n",
      "Threat: T-R1-02\n",
      "  - CAPEC ID: CAPEC-594, Similarity: 0.5388, Description: Attacker modifies Service Heartbeat message to cause Denial of Service\n",
      "\n",
      "Threat: T-R1-03\n",
      "  - CAPEC ID: CAPEC-114, Similarity: 0.5586, Description: Malicious actor bypasses authentication to Request Data \n",
      "\n",
      "Threat: T-R1-04\n",
      "  - CAPEC ID: CAPEC-502, Similarity: 0.5448, Description: Malicious actor bypasses authorization to Discover Data \n",
      "\n",
      "Threat: T-R1-05\n",
      "  - CAPEC ID: CAPEC-173, Similarity: 0.6158, Description: A malicious actor gains unauthorized access to data\n",
      "\n",
      "Threat: T-R1-06\n",
      "  - CAPEC ID: CAPEC-389, Similarity: 0.5313, Description: Malicious actor modifies a Data Request\n",
      "\n",
      "Threat: T-R1-07\n",
      "  - CAPEC ID: CAPEC-389, Similarity: 0.5265, Description: Malicious actor compromises Data Delivery to the Data Consumer\n",
      "\n",
      "Threat: T-RADIO-01\n",
      "  - CAPEC ID: CAPEC-605, Similarity: 0.6525, Description: Disruption through radio jamming, sniffing and spoofing\n",
      "\n",
      "Threat: T-RADIO-02\n",
      "  - CAPEC ID: CAPEC-601, Similarity: 0.5614, Description: DoS attacks on cognitive radio networks\n",
      "\n",
      "Threat: T-SMO-01\n",
      "  - CAPEC ID: CAPEC-114, Similarity: 0.5539, Description: External attacker exploits authentication weakness on SMO\n",
      "\n",
      "Threat: T-SMO-02\n",
      "  - CAPEC ID: CAPEC-180, Similarity: 0.4922, Description: External attacker exploits authentication weakness on SMO\n",
      "\n",
      "Threat: T-SMO-03\n",
      "  - CAPEC ID: CAPEC-469, Similarity: 0.5256, Description: External Overload DoS attack targeted at SMO\n",
      "\n",
      "Threat: T-SMO-04\n",
      "  - CAPEC ID: CAPEC-114, Similarity: 0.5261, Description: Internal attacker exploits authentication weakness on a SMO function\n",
      "\n",
      "Threat: T-SMO-05\n",
      "  - CAPEC ID: CAPEC-180, Similarity: 0.4998, Description: Internal attacker exploits authorization weakness on a SMO function\n",
      "\n",
      "Threat: T-SMO-06\n",
      "  - CAPEC ID: CAPEC-100, Similarity: 0.5260, Description: Internal Overload DoS attack targeted at SMO functions\n",
      "\n",
      "Threat: T-SMO-07\n",
      "  - CAPEC ID: CAPEC-456, Similarity: 0.4968, Description: Internal DoS attack disables internal SMO function(s) or process(es)\n",
      "\n",
      "Threat: T-SMO-08\n",
      "  - CAPEC ID: CAPEC-114, Similarity: 0.5983, Description: Attacker exploits insecure API to gain access to SMO\n",
      "\n",
      "Threat: T-SMO-09\n",
      "  - CAPEC ID: CAPEC-387, Similarity: 0.5477, Description: Sensitive data in transit is exposed to an internal attacker\n",
      "\n",
      "Threat: T-SMO-10\n",
      "  - CAPEC ID: CAPEC-122, Similarity: 0.5191, Description: Sensitive data at rest is exposed to an internal attacker\n",
      "\n",
      "Threat: T-SMO-11\n",
      "  - CAPEC ID: CAPEC-456, Similarity: 0.4936, Description: AI/ML poisoning by internal attacker\n",
      "\n",
      "Threat: T-SMO-12\n",
      "  - CAPEC ID: CAPEC-221, Similarity: 0.5208, Description: AI/ML exposure on external entity\n",
      "\n",
      "Threat: T-SMO-13\n",
      "  - CAPEC ID: CAPEC-268, Similarity: 0.6201, Description: Malicious actor views local logs\n",
      "\n",
      "Threat: T-SMO-14\n",
      "  - CAPEC ID: CAPEC-268, Similarity: 0.5824, Description: Malicious actor modifies local log entries\n",
      "\n",
      "Threat: T-SMO-15\n",
      "  - CAPEC ID: CAPEC-268, Similarity: 0.5802, Description: Malicious actor deletes local logs\n",
      "\n",
      "Threat: T-SMO-16\n",
      "  - CAPEC ID: CAPEC-268, Similarity: 0.5848, Description: Malicious actor intercepts exports of local logs\n",
      "\n",
      "Threat: T-SMO-17\n",
      "  - CAPEC ID: CAPEC-268, Similarity: 0.6281, Description: Malicious external actor gains unauthorized access to logs\n",
      "\n",
      "Threat: T-SMO-18\n",
      "  - CAPEC ID: CAPEC-268, Similarity: 0.6103, Description: Malicious internal actor gains authorized access to logs\n",
      "\n",
      "Threat: T-SMO-19\n",
      "  - CAPEC ID: CAPEC-157, Similarity: 0.4886, Description: Internal attacker exploits O2 interface to view data in transit between SMO and O-Cloud\n",
      "\n",
      "Threat: T-SMO-20\n",
      "  - CAPEC ID: CAPEC-470, Similarity: 0.4895, Description: Internal attacker exploits O2 interface to modify data in transit between SMO and O-Cloud\n",
      "\n",
      "Threat: T-SMO-21\n",
      "  - CAPEC ID: CAPEC-113, Similarity: 0.5166, Description: Internal attacker uses O2 interface via SMO to exploit API vulnerability to gain access to O-Clou...\n",
      "\n",
      "Threat: T-SMO-22\n",
      "  - CAPEC ID: CAPEC-482, Similarity: 0.5495, Description: Internal attacker floods O2 interface via SMO to cause DDoS on O-Cloud infrastructure\n",
      "\n",
      "Threat: T-SMO-23\n",
      "  - CAPEC ID: CAPEC-113, Similarity: 0.4981, Description: External attacker uses O2 interface via O-Cloud to exploit API vulnerability to gain access to SMO\n",
      "\n",
      "Threat: T-SMO-24\n",
      "  - CAPEC ID: CAPEC-125, Similarity: 0.5450, Description: External attacker floods O2 interface via O-Cloud to cause DDoS on SMO\n",
      "\n",
      "Threat: T-SMO-25\n",
      "  - CAPEC ID: CAPEC-58, Similarity: 0.4833, Description: External attacker uses O2 interface via O-Cloud to gain authorized access to sensitive data-at-re...\n",
      "\n",
      "Threat: T-SMO-26\n",
      "  - CAPEC ID: CAPEC-161, Similarity: 0.5123, Description: External attacker exploits External interface to view data in transit between SMO and external se...\n",
      "\n",
      "Threat: T-SMO-27\n",
      "  - CAPEC ID: CAPEC-113, Similarity: 0.5472, Description: External attacker exploits External interface to modify data in transit between SMO and external ...\n",
      "\n",
      "Threat: T-SMO-28\n",
      "  - CAPEC ID: CAPEC-113, Similarity: 0.5624, Description: External attacker uses External interface to exploit API vulnerability to gain access to SMO\n",
      "\n",
      "Threat: T-SMO-29\n",
      "  - CAPEC ID: CAPEC-482, Similarity: 0.5854, Description: External attacker floods External interface to cause DDoS at SMO\n",
      "\n",
      "Threat: T-SMO-30\n",
      "  - CAPEC ID: CAPEC-113, Similarity: 0.4866, Description: External attacker uses External interface to gain access to sensitive data-at-rest at the SMO\n",
      "\n",
      "Threat: T-SMO-31\n",
      "  - CAPEC ID: CAPEC-201, Similarity: 0.5080, Description: External attacker poisons External AI/ML data to corrupt SMO\n",
      "\n",
      "Threat: T-SMO-32\n",
      "  - CAPEC ID: CAPEC-201, Similarity: 0.5179, Description: External attacker poisons External Enrichment Information data sources to corrupt SMO\n",
      "\n",
      "Threat: T-SPLANE-01\n",
      "  - CAPEC ID: CAPEC-469, Similarity: 0.5197, Description: DoS attack against a Master clock\n",
      "\n",
      "Threat: T-SPLANE-02\n",
      "  - CAPEC ID: CAPEC-195, Similarity: 0.5317, Description: Impersonation of a Master clock (Spoofing) within a PTP network with a fake ANNOUNCE message\n",
      "\n",
      "Threat: T-SPLANE-03\n",
      "  - CAPEC ID: CAPEC-482, Similarity: 0.4730, Description: A Rogue PTP Instance wanting to be a Grand Master\n",
      "\n",
      "Threat: T-SPLANE-04\n",
      "  - CAPEC ID: CAPEC-621, Similarity: 0.5220, Description: Selective interception and removal of PTP timing packets\n",
      "\n",
      "Threat: T-SPLANE-05\n",
      "  - CAPEC ID: CAPEC-621, Similarity: 0.5786, Description: Packet delay manipulation attack\n",
      "\n",
      "Threat: T-SharedORU-01\n",
      "  - CAPEC ID: CAPEC-480, Similarity: 0.4394, Description: O-DU Tenant accesses O-DU Host\n",
      "\n",
      "Threat: T-SharedORU-02\n",
      "  - CAPEC ID: CAPEC-480, Similarity: 0.4435, Description: O-DU Host accesses O-DU Tenant\n",
      "\n",
      "Threat: T-SharedORU-03\n",
      "  - CAPEC ID: CAPEC-546, Similarity: 0.4346, Description: O-DU Tenant accesses O-DU Tenant\n",
      "\n",
      "Threat: T-SharedORU-04\n",
      "  - CAPEC ID: CAPEC-114, Similarity: 0.4856, Description: Password Attack on OFH M-Plane\n",
      "\n",
      "Threat: T-SharedORU-05\n",
      "  - CAPEC ID: CAPEC-593, Similarity: 0.5545, Description: Untrusted peering to O-DU\n",
      "\n",
      "Threat: T-SharedORU-06\n",
      "  - CAPEC ID: CAPEC-593, Similarity: 0.5959, Description: Untrusted peering to the Shared O-RU\n",
      "\n",
      "Threat: T-SharedORU-07\n",
      "  - CAPEC ID: CAPEC-593, Similarity: 0.6315, Description: Untrusted peering to the SMO\n",
      "\n",
      "Threat: T-SharedORU-08\n",
      "  - CAPEC ID: CAPEC-439, Similarity: 0.4633, Description: SMO Tenant accesses SMO Host\n",
      "\n",
      "Threat: T-SharedORU-09\n",
      "  - CAPEC ID: CAPEC-480, Similarity: 0.4625, Description: SMO Host accesses SMO Tenant\n",
      "\n",
      "Threat: T-SharedORU-10\n",
      "  - CAPEC ID: CAPEC-480, Similarity: 0.4606, Description: O-DU Host accesses O-CU Tenant\n",
      "\n",
      "Threat: T-SharedORU-11\n",
      "  - CAPEC ID: CAPEC-480, Similarity: 0.4542, Description: O-DU Tenant accesses O-CU Host\n",
      "\n",
      "Threat: T-SharedORU-12\n",
      "  - CAPEC ID: CAPEC-505, Similarity: 0.4506, Description: O-DU Tenant accesses O-CU Tenant\n",
      "\n",
      "Threat: T-SharedORU-13\n",
      "  - CAPEC ID: CAPEC-439, Similarity: 0.4836, Description: SMO Host accesses O-CU Tenant\n",
      "\n",
      "Threat: T-SharedORU-14\n",
      "  - CAPEC ID: CAPEC-439, Similarity: 0.4793, Description: SMO Tenant accesses O-CU Host\n",
      "\n",
      "Threat: T-SharedORU-15\n",
      "  - CAPEC ID: CAPEC-300, Similarity: 0.5006, Description: Physical port access to Shared O-RU Host/Tenant\n",
      "\n",
      "Threat: T-SharedORU-16\n",
      "  - CAPEC ID: CAPEC-300, Similarity: 0.5179, Description: Physical port access to O-DU Host/Tenant\n",
      "\n",
      "Threat: T-SharedORU-17\n",
      "  - CAPEC ID: CAPEC-401, Similarity: 0.5455, Description: Physical port access to O-CU Host/Tenant\n",
      "\n",
      "Threat: T-SharedORU-18\n",
      "  - CAPEC ID: CAPEC-114, Similarity: 0.5729, Description: Malicious User Login Attempt to SMO Host/Tenant\n",
      "\n",
      "Threat: T-SharedORU-19\n",
      "  - CAPEC ID: CAPEC-114, Similarity: 0.6015, Description: Malicious User Login Attempt to O-CU Host/Tenant\n",
      "\n",
      "Threat: T-SharedORU-20\n",
      "  - CAPEC ID: CAPEC-114, Similarity: 0.5495, Description: Malicious User Login Attempt to O-DU Host/Tenant\n",
      "\n",
      "Threat: T-SharedORU-21\n",
      "  - CAPEC ID: CAPEC-114, Similarity: 0.5420, Description: Malicious User Login Attempt to Shared O-RU Host/Tenant\n",
      "\n",
      "Threat: T-SharedORU-22\n",
      "  - CAPEC ID: CAPEC-529, Similarity: 0.5136, Description: Unauthorized internal threat actor gains access to data in Shared O-RU\n",
      "\n",
      "Threat: T-SharedORU-23\n",
      "  - CAPEC ID: CAPEC-273, Similarity: 0.5008, Description: Unauthorized external threat actor gains access to data in Shared O-RU\n",
      "\n",
      "Threat: T-SharedORU-24\n",
      "  - CAPEC ID: CAPEC-221, Similarity: 0.5067, Description: Data exposure at Shared O-RU\n",
      "\n",
      "Threat: T-SharedORU-25\n",
      "  - CAPEC ID: CAPEC-57, Similarity: 0.4847, Description: Shared O-RU data exposure at SMO\n",
      "\n",
      "Threat: T-SharedORU-26\n",
      "  - CAPEC ID: CAPEC-546, Similarity: 0.4893, Description: Shared O-RU data exposure at O-DU\n",
      "\n",
      "Threat: T-SharedORU-27\n",
      "  - CAPEC ID: CAPEC-277, Similarity: 0.4869, Description: Exposed data in transit between Shared O-RU and O-DU Host/Tenant\n",
      "\n",
      "Threat: T-SharedORU-28\n",
      "  - CAPEC ID: CAPEC-277, Similarity: 0.4848, Description: Exposed data in transit between Shared O-RU and SMO Host/Tenant\n",
      "\n",
      "Threat: T-SharedORU-29\n",
      "  - CAPEC ID: CAPEC-12, Similarity: 0.5698, Description: Modify/Delete OFH C-Plane messages\n",
      "\n",
      "Threat: T-SharedORU-30\n",
      "  - CAPEC ID: CAPEC-593, Similarity: 0.4433, Description: Clock hijacking on OFH S-Plane\n",
      "\n",
      "Threat: T-SharedORU-31\n",
      "  - CAPEC ID: CAPEC-10, Similarity: 0.4212, Description: Parameter conflicts at Shared O-RU\n",
      "\n",
      "Threat: T-SharedORU-32\n",
      "  - CAPEC ID: CAPEC-594, Similarity: 0.4762, Description: Volumetric DDoS attack from O-DU targeting Shared O-RU\n",
      "\n",
      "Threat: T-SharedORU-33\n",
      "  - CAPEC ID: CAPEC-594, Similarity: 0.5016, Description: Volumetric DDoS attack from SMO targeting Shared O-RU\n",
      "\n",
      "Threat: T-SharedORU-34\n",
      "  - CAPEC ID: CAPEC-594, Similarity: 0.5070, Description: Volumetric DDoS attack targeting O-DU\n",
      "\n",
      "Threat: T-SharedORU-35\n",
      "  - CAPEC ID: CAPEC-697, Similarity: 0.5877, Description: Shared O-RU initialization hijacking by DHCP compromise\n",
      "\n",
      "Threat: T-SharedORU-36\n",
      "  - CAPEC ID: CAPEC-598, Similarity: 0.6173, Description: Shared O-RU M-plane hijacking by DNS compromise\n",
      "\n",
      "Threat: T-SharedORU-37\n",
      "  - CAPEC ID: CAPEC-180, Similarity: 0.5034, Description: Misconfiguration of MNO Host Role\n",
      "\n",
      "Threat: T-SharedORU-38\n",
      "  - CAPEC ID: CAPEC-216, Similarity: 0.4954, Description: Incorrect Assignment of Spectrum Resources\n",
      "\n",
      "Threat: T-SharedORU-39\n",
      "  - CAPEC ID: CAPEC-22, Similarity: 0.5086, Description: Chain of Trust in a Multi-Tenant Environment\n",
      "\n",
      "Threat: T-SharedORU-40\n",
      "  - CAPEC ID: CAPEC-122, Similarity: 0.5345, Description: Hijack of MNO Host Role\n",
      "\n",
      "Threat: T-SharedORU-41\n",
      "  - CAPEC ID: CAPEC-414, Similarity: 0.4768, Description: Not Released Host Role (Host Role resume)\n",
      "\n",
      "Threat: T-SharedORU-42\n",
      "  - CAPEC ID: CAPEC-122, Similarity: 0.5479, Description: Misuse of “sudo” privileges\n",
      "\n",
      "Threat: T-SharedORU-43\n",
      "  - CAPEC ID: CAPEC-180, Similarity: 0.5368, Description: Eavesdropping of unprotected CUSM-plane data within shared O-RU\n",
      "\n",
      "Threat: T-UPLANE-01\n",
      "  - CAPEC ID: CAPEC-622, Similarity: 0.5117, Description: An attacker attempts to intercept the Fronthaul (MITM) over U Plane\n",
      "\n",
      "Threat: T-VL-01\n",
      "  - CAPEC ID: CAPEC-480, Similarity: 0.5370, Description: VM/Container hyperjacking attack\n",
      "\n",
      "Threat: T-VL-02\n",
      "  - CAPEC ID: CAPEC-480, Similarity: 0.4448, Description: Boot tampering\n",
      "\n",
      "Threat: T-VL-03\n",
      "  - CAPEC ID: CAPEC-125, Similarity: 0.4601, Description: Attack internal network services\n",
      "\n",
      "Threat: T-VM-C-01\n",
      "  - CAPEC ID: CAPEC-480, Similarity: 0.6078, Description: Abuse of a privileged VM/Container\n",
      "\n",
      "Threat: T-VM-C-02\n",
      "  - CAPEC ID: CAPEC-480, Similarity: 0.5509, Description: VM/Container escape attack\n",
      "\n",
      "Threat: T-VM-C-03\n",
      "  - CAPEC ID: CAPEC-480, Similarity: 0.4775, Description: VM/Container data theft\n",
      "\n",
      "Threat: T-VM-C-04\n",
      "  - CAPEC ID: CAPEC-480, Similarity: 0.4469, Description: VM/Container migration attacks\n",
      "\n",
      "Threat: T-VM-C-05\n",
      "  - CAPEC ID: CAPEC-480, Similarity: 0.4913, Description: Changing virtualization resource without authorization\n",
      "\n",
      "Threat: T-VM-C-06\n",
      "  - CAPEC ID: CAPEC-548, Similarity: 0.5285, Description: Failed or incomplete VNF/CNF termination or releasing of resources\n",
      "\n",
      "Threat: T-Y1-01\n",
      "  - CAPEC ID: CAPEC-22, Similarity: 0.5028, Description: Untrusted Near-RT-RIC and Y1 consumers\n",
      "\n",
      "Threat: T-Y1-02\n",
      "  - CAPEC ID: CAPEC-12, Similarity: 0.5458, Description: Malicious actor monitors messaging across Y1 interface\n",
      "\n",
      "Threat: T-Y1-03\n",
      "  - CAPEC ID: CAPEC-12, Similarity: 0.5155, Description: Malicious actor modifies messaging across Y1 interface\n",
      "\n",
      "Threat: T-rAPP-01\n",
      "  - CAPEC ID: CAPEC-26, Similarity: 0.4659, Description: Conflicting rApps impact O-RAN system functions to degrade performance or trigger a DoS\n",
      "\n",
      "Threat: T-rAPP-02\n",
      "  - CAPEC ID: CAPEC-482, Similarity: 0.5574, Description: An attacker exploits rApp vulnerability for data breach or denial of service\n",
      "\n",
      "Threat: T-rAPP-03\n",
      "  - CAPEC ID: CAPEC-482, Similarity: 0.5534, Description: An attacker exploits rApps misconfiguration\n",
      "\n",
      "Threat: T-rAPP-04\n",
      "  - CAPEC ID: CAPEC-114, Similarity: 0.6207, Description: An attacker bypasses authentication and authorization\n",
      "\n",
      "Threat: T-rAPP-05\n",
      "  - CAPEC ID: CAPEC-523, Similarity: 0.5033, Description: An attacker deploys and exploits malicious rApp\n",
      "\n",
      "Threat: T-rAPP-06\n",
      "  - CAPEC ID: CAPEC-114, Similarity: 0.6362, Description: An attacker bypasses authentication and authorization using an injection attack\n",
      "\n",
      "Threat: T-rAPP-07\n",
      "  - CAPEC ID: CAPEC-482, Similarity: 0.5188, Description: rApp exploits services\n",
      "\n",
      "Threat: T-xAPP-01\n",
      "  - CAPEC ID: CAPEC-388, Similarity: 0.4733, Description: An attacker exploits xApps vulnerabilities and misconfiguration\n",
      "\n",
      "Threat: T-xAPP-02\n",
      "  - CAPEC ID: CAPEC-212, Similarity: 0.5215, Description: Conflicting xApps unintentionally or maliciously impact O-RAN system functions to degrade perform...\n",
      "\n",
      "Threat: T-xAPP-03\n",
      "  - CAPEC ID: CAPEC-480, Similarity: 0.5092, Description: An attacker compromises xApp isolation\n",
      "\n",
      "Threat: T-xApp-04\n",
      "  - CAPEC ID: CAPEC-502, Similarity: 0.5500, Description: False or malicious A1 policies modify behavior of xApps\n"
     ]
    },
    {
     "name": "stderr",
     "output_type": "stream",
     "text": [
      "/tmp/ipykernel_19687/52619477.py:3: FutureWarning: DataFrameGroupBy.apply operated on the grouping columns. This behavior is deprecated, and in a future version of pandas the grouping columns will be excluded from the operation. Either pass `include_groups=False` to exclude the groupings or explicitly select the grouping columns after groupby to silence this warning.\n",
      "  top_capec_per_threat = threat2capec_mapping_df.groupby('Name').apply(\n"
     ]
    }
   ],
   "source": [
    "# for every threat name display the first 10 capecs with the highest similarity\n",
    "# --- Group by 'Name' (Threat Name) and get the top 5 for each ---\n",
    "top_capec_per_threat = threat2capec_mapping_df.groupby('Name').apply(\n",
    "    lambda x: x.nlargest(1, 'Similarity')\n",
    ").reset_index(drop=True)\n",
    "\n",
    "# --- Display the results ---\n",
    "print(\"Top CAPEC for Each Threat:\")\n",
    "for threat_name in top_capec_per_threat['Name'].unique():\n",
    "    print(f\"\\nThreat: {threat_name}\")\n",
    "    threat_top_capecs = top_capec_per_threat[top_capec_per_threat['Name'] == threat_name]\n",
    "    # Select relevant columns for display\n",
    "    display_cols = ['CAPEC ID', 'Similarity', 'Description'] # Assuming 'Description' is the CAPEC Description now\n",
    "    for index, row in threat_top_capecs[display_cols].iterrows():\n",
    "        # Shorten description for readability if it's the CAPEC description\n",
    "        desc = row['Description']\n",
    "        if len(desc) > 100:\n",
    "            desc = desc[:97] + \"...\"\n",
    "        print(f\"  - CAPEC ID: {row['CAPEC ID']}, Similarity: {row['Similarity']:.4f}, Description: {desc}\")"
   ]
  },
  {
   "cell_type": "code",
   "execution_count": 70,
   "id": "cb96690c",
   "metadata": {},
   "outputs": [
    {
     "data": {
      "text/plain": [
       "count    182.000000\n",
       "mean       0.522769\n",
       "std        0.053539\n",
       "min        0.394582\n",
       "25%        0.485878\n",
       "50%        0.519037\n",
       "75%        0.551577\n",
       "max        0.660303\n",
       "Name: Similarity, dtype: float64"
      ]
     },
     "execution_count": 70,
     "metadata": {},
     "output_type": "execute_result"
    }
   ],
   "source": [
    "top_capec_per_threat['Similarity'].describe()"
   ]
  },
  {
   "cell_type": "code",
   "execution_count": 72,
   "id": "53d3b48b",
   "metadata": {},
   "outputs": [
    {
     "data": {
      "text/plain": [
       "count    101738.000000\n",
       "mean          0.322094\n",
       "std           0.076980\n",
       "min           0.010134\n",
       "25%           0.271916\n",
       "50%           0.323729\n",
       "75%           0.374085\n",
       "max           0.660303\n",
       "Name: Similarity, dtype: float64"
      ]
     },
     "execution_count": 72,
     "metadata": {},
     "output_type": "execute_result"
    }
   ],
   "source": [
    "threat2capec_mapping_df['Similarity'].describe()"
   ]
  },
  {
   "cell_type": "code",
   "execution_count": 73,
   "id": "b1cde4b8",
   "metadata": {},
   "outputs": [
    {
     "name": "stdout",
     "output_type": "stream",
     "text": [
      "Threat with the highest similarity to a CAPEC:\n",
      "               Name   CAPEC ID  Similarity  \\\n",
      "79883  T-OPENSRC-01  CAPEC-538    0.660303   \n",
      "\n",
      "                                                                                                                                          Description  \n",
      "79883  Developers use SW components with known vulnerabilities and untrusted libraries that can be exploited by an attacker through a backdoor attack  \n"
     ]
    }
   ],
   "source": [
    "# threat with the highest similarity to a capec\n",
    "highest_similarity = threat2capec_mapping_df['Similarity'].max()\n",
    "highest_similarity_row = threat2capec_mapping_df[threat2capec_mapping_df['Similarity'] == highest_similarity]\n",
    "print(\"Threat with the highest similarity to a CAPEC:\")\n",
    "print(highest_similarity_row[['Name', 'CAPEC ID', 'Similarity', 'Description']])    "
   ]
  },
  {
   "cell_type": "code",
   "execution_count": 74,
   "id": "af023c5e",
   "metadata": {},
   "outputs": [
    {
     "name": "stdout",
     "output_type": "stream",
     "text": [
      "Threat with the lowest similarity to a CAPEC:\n",
      "           Name   CAPEC ID  Similarity  \\\n",
      "68773  T-AAL-02  CAPEC-394    0.010134   \n",
      "\n",
      "                                               Description  \n",
      "68773  Internal Overload DoS attack targeting AAL services  \n"
     ]
    }
   ],
   "source": [
    "# lowest similarity threat to a capec\n",
    "lowest_similarity = threat2capec_mapping_df['Similarity'].min()\n",
    "lowest_similarity_row = threat2capec_mapping_df[threat2capec_mapping_df['Similarity'] == lowest_similarity]\n",
    "print(\"Threat with the lowest similarity to a CAPEC:\")\n",
    "print(lowest_similarity_row[['Name', 'CAPEC ID', 'Similarity', 'Description']])"
   ]
  },
  {
   "cell_type": "code",
   "execution_count": 75,
   "id": "83c023bc",
   "metadata": {},
   "outputs": [
    {
     "name": "stdout",
     "output_type": "stream",
     "text": [
      "Average similarity: 0.32209402\n"
     ]
    }
   ],
   "source": [
    "# average similarity overall\n",
    "average_similarity = threat2capec_mapping_df['Similarity'].mean()\n",
    "print(\"Average similarity:\", average_similarity)"
   ]
  },
  {
   "cell_type": "code",
   "execution_count": null,
   "id": "f8f8e736",
   "metadata": {},
   "outputs": [],
   "source": []
  },
  {
   "cell_type": "markdown",
   "id": "14a40055",
   "metadata": {},
   "source": [
    "4. Safe the mappings above 0.55 similarity to a csv file"
   ]
  },
  {
   "cell_type": "code",
   "execution_count": 23,
   "id": "8b6b1dfa",
   "metadata": {},
   "outputs": [],
   "source": [
    "CAPEC_CSV_FILENAME = 'general_threats_capec_mapping'\n",
    "similarity = 0.55\n",
    "def filter_threshold_hfc(df, filter_criteria, min_similarity):\n",
    "    filtered_df = df[df['Similarity'] > min_similarity]\n",
    "    filtered_df = filtered_df.reset_index(drop=True)\n",
    "    return filtered_df"
   ]
  },
  {
   "cell_type": "code",
   "execution_count": 24,
   "id": "929f451d",
   "metadata": {},
   "outputs": [],
   "source": [
    "\n",
    "capec_mapping_hfc = filter_threshold_hfc(threat2capec_mapping_df, \"Name\",similarity)\n",
    "capec_mapping_hfc.to_csv(\"./mapped_data/hfc_\"+CAPEC_CSV_FILENAME+\"_min\"+str(similarity)+\".csv\", sep=';', index=False)"
   ]
  },
  {
   "cell_type": "markdown",
   "id": "518fecfb",
   "metadata": {},
   "source": [
    "5. Compare ORCA mappings to our mappings"
   ]
  },
  {
   "cell_type": "code",
   "execution_count": 30,
   "id": "59b9061a",
   "metadata": {},
   "outputs": [
    {
     "name": "stdout",
     "output_type": "stream",
     "text": [
      "Index(['Name', 'Domain', 'Description', 'CAPEC ID', 'Similarity'], dtype='object') (190, 5)\n",
      "Index(['Name', 'Domain', 'Description', 'CAPEC ID', 'Similarity',\n",
      "       'summary_th_df', 'summary_ca_df'],\n",
      "      dtype='object') (176, 7)\n"
     ]
    }
   ],
   "source": [
    "orca_mappings = pd.read_csv('mapped_data/ORCA_mappings_min0.55.csv', sep=';')\n",
    "our_mappings = pd.read_csv('mapped_data/hfc_general_threats_capec_mapping_min0.55.csv', sep=';')\n",
    "#our_mappings = capec_mapping_hfc\n",
    "print(orca_mappings.columns, orca_mappings.shape)\n",
    "print(our_mappings.columns, our_mappings.shape)"
   ]
  },
  {
   "cell_type": "code",
   "execution_count": 31,
   "id": "fd89a890",
   "metadata": {},
   "outputs": [
    {
     "data": {
      "text/plain": [
       "(np.float64(0.577509985631579), np.float64(0.5765717128409091))"
      ]
     },
     "execution_count": 31,
     "metadata": {},
     "output_type": "execute_result"
    }
   ],
   "source": [
    "average_similarity_orca = orca_mappings['Similarity'].mean()\n",
    "average_similarity_our = our_mappings['Similarity'].mean()\n",
    "average_similarity_orca, average_similarity_our"
   ]
  },
  {
   "cell_type": "code",
   "execution_count": 32,
   "id": "8beb2fbf",
   "metadata": {},
   "outputs": [
    {
     "name": "stdout",
     "output_type": "stream",
     "text": [
      "0.00093827\n"
     ]
    }
   ],
   "source": [
    "diff_mean = average_similarity_orca - average_similarity_our\n",
    "print(f\"{diff_mean:.8f}\")"
   ]
  },
  {
   "cell_type": "code",
   "execution_count": 33,
   "id": "4b518d6d",
   "metadata": {},
   "outputs": [
    {
     "data": {
      "text/plain": [
       "(np.float64(0.570489), np.float64(0.569787415))"
      ]
     },
     "execution_count": 33,
     "metadata": {},
     "output_type": "execute_result"
    }
   ],
   "source": [
    "median_similarity_orca = orca_mappings['Similarity'].median()\n",
    "median_similarity_our = our_mappings['Similarity'].median()\n",
    "median_similarity_orca, median_similarity_our"
   ]
  },
  {
   "cell_type": "code",
   "execution_count": 34,
   "id": "ef94597c",
   "metadata": {},
   "outputs": [
    {
     "name": "stdout",
     "output_type": "stream",
     "text": [
      "0.00070159\n"
     ]
    }
   ],
   "source": [
    "diff_med = median_similarity_orca -median_similarity_our\n",
    "print(f\"{diff_med:.8f}\")"
   ]
  },
  {
   "cell_type": "code",
   "execution_count": 86,
   "id": "9afc5456",
   "metadata": {},
   "outputs": [
    {
     "data": {
      "text/html": [
       "<div>\n",
       "<style scoped>\n",
       "    .dataframe tbody tr th:only-of-type {\n",
       "        vertical-align: middle;\n",
       "    }\n",
       "\n",
       "    .dataframe tbody tr th {\n",
       "        vertical-align: top;\n",
       "    }\n",
       "\n",
       "    .dataframe thead th {\n",
       "        text-align: right;\n",
       "    }\n",
       "</style>\n",
       "<table border=\"1\" class=\"dataframe\">\n",
       "  <thead>\n",
       "    <tr style=\"text-align: right;\">\n",
       "      <th></th>\n",
       "      <th>Name</th>\n",
       "      <th>CAPEC ID</th>\n",
       "      <th>Similarity_orca</th>\n",
       "      <th>Similarity_our</th>\n",
       "    </tr>\n",
       "  </thead>\n",
       "  <tbody>\n",
       "    <tr>\n",
       "      <th>0</th>\n",
       "      <td>T-A1-02</td>\n",
       "      <td>CAPEC-12</td>\n",
       "      <td>0.584865</td>\n",
       "      <td>0.592353</td>\n",
       "    </tr>\n",
       "    <tr>\n",
       "      <th>1</th>\n",
       "      <td>T-A1-02</td>\n",
       "      <td>CAPEC-387</td>\n",
       "      <td>0.596484</td>\n",
       "      <td>0.606208</td>\n",
       "    </tr>\n",
       "    <tr>\n",
       "      <th>2</th>\n",
       "      <td>T-A1-02</td>\n",
       "      <td>CAPEC-388</td>\n",
       "      <td>0.564509</td>\n",
       "      <td>0.577323</td>\n",
       "    </tr>\n",
       "    <tr>\n",
       "      <th>3</th>\n",
       "      <td>T-A1-02</td>\n",
       "      <td>CAPEC-94</td>\n",
       "      <td>0.579672</td>\n",
       "      <td>0.569238</td>\n",
       "    </tr>\n",
       "    <tr>\n",
       "      <th>4</th>\n",
       "      <td>T-A1-03</td>\n",
       "      <td>CAPEC-12</td>\n",
       "      <td>0.566429</td>\n",
       "      <td>0.565207</td>\n",
       "    </tr>\n",
       "  </tbody>\n",
       "</table>\n",
       "</div>"
      ],
      "text/plain": [
       "      Name   CAPEC ID  Similarity_orca  Similarity_our\n",
       "0  T-A1-02   CAPEC-12         0.584865        0.592353\n",
       "1  T-A1-02  CAPEC-387         0.596484        0.606208\n",
       "2  T-A1-02  CAPEC-388         0.564509        0.577323\n",
       "3  T-A1-02   CAPEC-94         0.579672        0.569238\n",
       "4  T-A1-03   CAPEC-12         0.566429        0.565207"
      ]
     },
     "execution_count": 86,
     "metadata": {},
     "output_type": "execute_result"
    }
   ],
   "source": [
    "# Merge ORCA and our mappings on 'Name' and 'CAPEC ID'\n",
    "merged_similarities = pd.merge(\n",
    "    orca_mappings[['Name', 'CAPEC ID', 'Similarity']],\n",
    "    our_mappings[['Name', 'CAPEC ID', 'Similarity']],\n",
    "    on=['Name', 'CAPEC ID'],\n",
    "    how='outer',\n",
    "    suffixes=('_orca', '_our')\n",
    ")\n",
    "\n",
    "# Save to CSV\n",
    "merged_similarities.to_csv('./mapped_data/merged_orca_our_similarities.csv', sep=';', index=False)\n",
    "\n",
    "# Display the first few rows for verification\n",
    "merged_similarities.head()"
   ]
  },
  {
   "cell_type": "code",
   "execution_count": 87,
   "id": "7ab1f3e0",
   "metadata": {},
   "outputs": [
    {
     "name": "stdout",
     "output_type": "stream",
     "text": [
      "Threats in ORCA mappings but not in our mappings: {'T-SharedORU-42', 'T-SMO-24', 'T-PHYS-01', 'T-SharedORU-20', 'T-AppLCM-05', 'T-CPLANE-01', 'T-VL-01', 'T-SMO-22', 'T-GEN-01'}\n",
      "Threats in our mappings but not in ORCA mappings: {'T-VM-C-02', 'T-xApp-04'}\n"
     ]
    }
   ],
   "source": [
    "threats_in_orca_not_in_our = set(orca_mappings['Name']) - set(our_mappings['Name'])\n",
    "print(\"Threats in ORCA mappings but not in our mappings:\", threats_in_orca_not_in_our)\n",
    "threats_in_our_not_in_orca = set(our_mappings['Name']) - set(orca_mappings['Name'])\n",
    "print(\"Threats in our mappings but not in ORCA mappings:\", threats_in_our_not_in_orca)  "
   ]
  },
  {
   "cell_type": "code",
   "execution_count": 88,
   "id": "f3795aa9",
   "metadata": {},
   "outputs": [
    {
     "name": "stdout",
     "output_type": "stream",
     "text": [
      "Name and Capec ID combinations where one similarity is missing:\n",
      "           Name   CAPEC ID\n",
      "5       T-A1-03  CAPEC-272\n",
      "21  T-AppLCM-01  CAPEC-387\n",
      "22  T-AppLCM-01  CAPEC-441\n",
      "33  T-AppLCM-02  CAPEC-441\n",
      "34  T-AppLCM-02  CAPEC-480\n",
      "35  T-AppLCM-02  CAPEC-502\n",
      "36  T-AppLCM-02  CAPEC-669\n",
      "37  T-AppLCM-05  CAPEC-445\n",
      "38  T-AppLCM-05  CAPEC-502\n",
      "39  T-AppLCM-05  CAPEC-698\n"
     ]
    }
   ],
   "source": [
    "# Name and Capec ID combinations where one similarity is missing\n",
    "missing_similarities = merged_similarities[(merged_similarities['Similarity_orca'].isnull()) | (merged_similarities['Similarity_our'].isnull())]\n",
    "print(\"Name and Capec ID combinations where one similarity is missing:\")\n",
    "print(missing_similarities[['Name', 'CAPEC ID']].head(10))  # Display first 10 for brevity"
   ]
  },
  {
   "cell_type": "code",
   "execution_count": 89,
   "id": "61df266c",
   "metadata": {},
   "outputs": [
    {
     "data": {
      "text/html": [
       "<div>\n",
       "<style scoped>\n",
       "    .dataframe tbody tr th:only-of-type {\n",
       "        vertical-align: middle;\n",
       "    }\n",
       "\n",
       "    .dataframe tbody tr th {\n",
       "        vertical-align: top;\n",
       "    }\n",
       "\n",
       "    .dataframe thead th {\n",
       "        text-align: right;\n",
       "    }\n",
       "</style>\n",
       "<table border=\"1\" class=\"dataframe\">\n",
       "  <thead>\n",
       "    <tr style=\"text-align: right;\">\n",
       "      <th></th>\n",
       "      <th>Name</th>\n",
       "      <th>CAPEC ID</th>\n",
       "      <th>Similarity_orca</th>\n",
       "      <th>Similarity_our</th>\n",
       "    </tr>\n",
       "  </thead>\n",
       "  <tbody>\n",
       "    <tr>\n",
       "      <th>0</th>\n",
       "      <td>T-A1-02</td>\n",
       "      <td>CAPEC-12</td>\n",
       "      <td>0.584865</td>\n",
       "      <td>0.592353</td>\n",
       "    </tr>\n",
       "    <tr>\n",
       "      <th>1</th>\n",
       "      <td>T-A1-02</td>\n",
       "      <td>CAPEC-387</td>\n",
       "      <td>0.596484</td>\n",
       "      <td>0.606208</td>\n",
       "    </tr>\n",
       "    <tr>\n",
       "      <th>2</th>\n",
       "      <td>T-A1-02</td>\n",
       "      <td>CAPEC-388</td>\n",
       "      <td>0.564509</td>\n",
       "      <td>0.577323</td>\n",
       "    </tr>\n",
       "    <tr>\n",
       "      <th>3</th>\n",
       "      <td>T-A1-02</td>\n",
       "      <td>CAPEC-94</td>\n",
       "      <td>0.579672</td>\n",
       "      <td>0.569238</td>\n",
       "    </tr>\n",
       "    <tr>\n",
       "      <th>4</th>\n",
       "      <td>T-A1-03</td>\n",
       "      <td>CAPEC-12</td>\n",
       "      <td>0.566429</td>\n",
       "      <td>0.565207</td>\n",
       "    </tr>\n",
       "  </tbody>\n",
       "</table>\n",
       "</div>"
      ],
      "text/plain": [
       "      Name   CAPEC ID  Similarity_orca  Similarity_our\n",
       "0  T-A1-02   CAPEC-12         0.584865        0.592353\n",
       "1  T-A1-02  CAPEC-387         0.596484        0.606208\n",
       "2  T-A1-02  CAPEC-388         0.564509        0.577323\n",
       "3  T-A1-02   CAPEC-94         0.579672        0.569238\n",
       "4  T-A1-03   CAPEC-12         0.566429        0.565207"
      ]
     },
     "execution_count": 89,
     "metadata": {},
     "output_type": "execute_result"
    }
   ],
   "source": [
    "# only keep the rows where both similarities are not null\n",
    "merged_similarities_both_similarities_exist = merged_similarities.dropna(subset=['Similarity_orca', 'Similarity_our'])\n",
    "merged_similarities_both_similarities_exist.head(5)"
   ]
  },
  {
   "cell_type": "code",
   "execution_count": 90,
   "id": "8ae838c2",
   "metadata": {},
   "outputs": [
    {
     "name": "stderr",
     "output_type": "stream",
     "text": [
      "/tmp/ipykernel_19687/448733076.py:2: SettingWithCopyWarning: \n",
      "A value is trying to be set on a copy of a slice from a DataFrame.\n",
      "Try using .loc[row_indexer,col_indexer] = value instead\n",
      "\n",
      "See the caveats in the documentation: https://pandas.pydata.org/pandas-docs/stable/user_guide/indexing.html#returning-a-view-versus-a-copy\n",
      "  merged_similarities_both_similarities_exist['Similarity_difference'] = (merged_similarities_both_similarities_exist['Similarity_orca'] - merged_similarities_both_similarities_exist['Similarity_our']).abs()\n"
     ]
    },
    {
     "data": {
      "text/html": [
       "<div>\n",
       "<style scoped>\n",
       "    .dataframe tbody tr th:only-of-type {\n",
       "        vertical-align: middle;\n",
       "    }\n",
       "\n",
       "    .dataframe tbody tr th {\n",
       "        vertical-align: top;\n",
       "    }\n",
       "\n",
       "    .dataframe thead th {\n",
       "        text-align: right;\n",
       "    }\n",
       "</style>\n",
       "<table border=\"1\" class=\"dataframe\">\n",
       "  <thead>\n",
       "    <tr style=\"text-align: right;\">\n",
       "      <th></th>\n",
       "      <th>Name</th>\n",
       "      <th>CAPEC ID</th>\n",
       "      <th>Similarity_orca</th>\n",
       "      <th>Similarity_our</th>\n",
       "      <th>Similarity_difference</th>\n",
       "    </tr>\n",
       "  </thead>\n",
       "  <tbody>\n",
       "    <tr>\n",
       "      <th>0</th>\n",
       "      <td>T-A1-02</td>\n",
       "      <td>CAPEC-12</td>\n",
       "      <td>0.584865</td>\n",
       "      <td>0.592353</td>\n",
       "      <td>0.007487</td>\n",
       "    </tr>\n",
       "    <tr>\n",
       "      <th>1</th>\n",
       "      <td>T-A1-02</td>\n",
       "      <td>CAPEC-387</td>\n",
       "      <td>0.596484</td>\n",
       "      <td>0.606208</td>\n",
       "      <td>0.009724</td>\n",
       "    </tr>\n",
       "    <tr>\n",
       "      <th>2</th>\n",
       "      <td>T-A1-02</td>\n",
       "      <td>CAPEC-388</td>\n",
       "      <td>0.564509</td>\n",
       "      <td>0.577323</td>\n",
       "      <td>0.012814</td>\n",
       "    </tr>\n",
       "    <tr>\n",
       "      <th>3</th>\n",
       "      <td>T-A1-02</td>\n",
       "      <td>CAPEC-94</td>\n",
       "      <td>0.579672</td>\n",
       "      <td>0.569238</td>\n",
       "      <td>0.010433</td>\n",
       "    </tr>\n",
       "    <tr>\n",
       "      <th>4</th>\n",
       "      <td>T-A1-03</td>\n",
       "      <td>CAPEC-12</td>\n",
       "      <td>0.566429</td>\n",
       "      <td>0.565207</td>\n",
       "      <td>0.001222</td>\n",
       "    </tr>\n",
       "  </tbody>\n",
       "</table>\n",
       "</div>"
      ],
      "text/plain": [
       "      Name   CAPEC ID  Similarity_orca  Similarity_our  Similarity_difference\n",
       "0  T-A1-02   CAPEC-12         0.584865        0.592353               0.007487\n",
       "1  T-A1-02  CAPEC-387         0.596484        0.606208               0.009724\n",
       "2  T-A1-02  CAPEC-388         0.564509        0.577323               0.012814\n",
       "3  T-A1-02   CAPEC-94         0.579672        0.569238               0.010433\n",
       "4  T-A1-03   CAPEC-12         0.566429        0.565207               0.001222"
      ]
     },
     "execution_count": 90,
     "metadata": {},
     "output_type": "execute_result"
    }
   ],
   "source": [
    "# difference between the two similarities\n",
    "merged_similarities_both_similarities_exist['Similarity_difference'] = (merged_similarities_both_similarities_exist['Similarity_orca'] - merged_similarities_both_similarities_exist['Similarity_our']).abs()\n",
    "merged_similarities_both_similarities_exist.head(5)"
   ]
  },
  {
   "cell_type": "code",
   "execution_count": 93,
   "id": "90aa8723",
   "metadata": {},
   "outputs": [],
   "source": [
    "#merged_similarities_both_similarities_exist.to_pickle('mapped_data/merged_mappings_above_055_df.pk1')"
   ]
  },
  {
   "cell_type": "code",
   "execution_count": 94,
   "id": "1539139d",
   "metadata": {},
   "outputs": [
    {
     "name": "stdout",
     "output_type": "stream",
     "text": [
      "Average similarity difference: 0.0075198472151898725\n"
     ]
    }
   ],
   "source": [
    "average_similarity_difference = merged_similarities_both_similarities_exist['Similarity_difference'].mean()\n",
    "print(\"Average similarity difference:\", average_similarity_difference)"
   ]
  },
  {
   "cell_type": "code",
   "execution_count": 95,
   "id": "91c88cdd",
   "metadata": {},
   "outputs": [
    {
     "name": "stdout",
     "output_type": "stream",
     "text": [
      "       Name   CAPEC ID  Similarity_orca  Similarity_our  Similarity_difference\n",
      "9  T-AAL-05  CAPEC-456         0.615896        0.583511               0.032385\n"
     ]
    }
   ],
   "source": [
    "largest_difference_row = merged_similarities_both_similarities_exist[merged_similarities_both_similarities_exist['Similarity_difference'] == merged_similarities_both_similarities_exist['Similarity_difference'].max()]\n",
    "print(largest_difference_row)    "
   ]
  },
  {
   "cell_type": "code",
   "execution_count": 96,
   "id": "19a9a79a",
   "metadata": {},
   "outputs": [
    {
     "name": "stdout",
     "output_type": "stream",
     "text": [
      "            Name   CAPEC ID  Similarity_orca  Similarity_our  \\\n",
      "56  T-NEAR-RT-04  CAPEC-388         0.555342        0.555342   \n",
      "\n",
      "    Similarity_difference  \n",
      "56           1.000000e-07  \n"
     ]
    }
   ],
   "source": [
    "smallest_difference_row = merged_similarities_both_similarities_exist[merged_similarities_both_similarities_exist['Similarity_difference'] == merged_similarities_both_similarities_exist['Similarity_difference'].min()]\n",
    "print(smallest_difference_row)"
   ]
  },
  {
   "cell_type": "code",
   "execution_count": 97,
   "id": "6144dac8",
   "metadata": {},
   "outputs": [
    {
     "name": "stdout",
     "output_type": "stream",
     "text": [
      "Standard deviation of similarity differences: 0.006716251239927797\n"
     ]
    }
   ],
   "source": [
    "standard_deviation_difference = merged_similarities_both_similarities_exist['Similarity_difference'].std()\n",
    "print(\"Standard deviation of similarity differences:\", standard_deviation_difference)"
   ]
  },
  {
   "cell_type": "code",
   "execution_count": 98,
   "id": "f61b64f9",
   "metadata": {},
   "outputs": [
    {
     "data": {
      "text/html": [
       "<div>\n",
       "<style scoped>\n",
       "    .dataframe tbody tr th:only-of-type {\n",
       "        vertical-align: middle;\n",
       "    }\n",
       "\n",
       "    .dataframe tbody tr th {\n",
       "        vertical-align: top;\n",
       "    }\n",
       "\n",
       "    .dataframe thead th {\n",
       "        text-align: right;\n",
       "    }\n",
       "</style>\n",
       "<table border=\"1\" class=\"dataframe\">\n",
       "  <thead>\n",
       "    <tr style=\"text-align: right;\">\n",
       "      <th></th>\n",
       "      <th>Name</th>\n",
       "      <th>Domain</th>\n",
       "      <th>Description</th>\n",
       "      <th>CAPEC ID</th>\n",
       "      <th>Similarity</th>\n",
       "    </tr>\n",
       "  </thead>\n",
       "  <tbody>\n",
       "    <tr>\n",
       "      <th>15</th>\n",
       "      <td>T-SharedORU-42</td>\n",
       "      <td>enterprise-attack</td>\n",
       "      <td>Misuse of “sudo” privileges</td>\n",
       "      <td>CAPEC-122</td>\n",
       "      <td>0.565546</td>\n",
       "    </tr>\n",
       "    <tr>\n",
       "      <th>27</th>\n",
       "      <td>T-SMO-22</td>\n",
       "      <td>enterprise-attack</td>\n",
       "      <td>Internal attacker floods O2 interface via SMO to cause DDoS on O-Cloud infrastructure</td>\n",
       "      <td>CAPEC-125</td>\n",
       "      <td>0.554157</td>\n",
       "    </tr>\n",
       "    <tr>\n",
       "      <th>28</th>\n",
       "      <td>T-SMO-24</td>\n",
       "      <td>enterprise-attack</td>\n",
       "      <td>External attacker floods O2 interface via O-Cloud to cause DDoS on SMO</td>\n",
       "      <td>CAPEC-125</td>\n",
       "      <td>0.551914</td>\n",
       "    </tr>\n",
       "    <tr>\n",
       "      <th>49</th>\n",
       "      <td>T-SharedORU-20</td>\n",
       "      <td>enterprise-attack</td>\n",
       "      <td>Malicious User Login Attempt to O-DU Host/Tenant</td>\n",
       "      <td>CAPEC-114</td>\n",
       "      <td>0.552419</td>\n",
       "    </tr>\n",
       "    <tr>\n",
       "      <th>83</th>\n",
       "      <td>T-AppLCM-05</td>\n",
       "      <td>enterprise-attack</td>\n",
       "      <td>Malicious actor modifies application’s SecurityDescriptor</td>\n",
       "      <td>CAPEC-698</td>\n",
       "      <td>0.551221</td>\n",
       "    </tr>\n",
       "    <tr>\n",
       "      <th>90</th>\n",
       "      <td>T-CPLANE-01</td>\n",
       "      <td>enterprise-attack</td>\n",
       "      <td>Spoofing of DL C-plane messages</td>\n",
       "      <td>CAPEC-473</td>\n",
       "      <td>0.567711</td>\n",
       "    </tr>\n",
       "    <tr>\n",
       "      <th>94</th>\n",
       "      <td>T-GEN-01</td>\n",
       "      <td>enterprise-attack</td>\n",
       "      <td>Software flaw attack</td>\n",
       "      <td>CAPEC-480</td>\n",
       "      <td>0.562108</td>\n",
       "    </tr>\n",
       "    <tr>\n",
       "      <th>97</th>\n",
       "      <td>T-VL-01</td>\n",
       "      <td>enterprise-attack</td>\n",
       "      <td>VM/Container hyperjacking attack</td>\n",
       "      <td>CAPEC-480</td>\n",
       "      <td>0.558357</td>\n",
       "    </tr>\n",
       "    <tr>\n",
       "      <th>101</th>\n",
       "      <td>T-PHYS-01</td>\n",
       "      <td>enterprise-attack</td>\n",
       "      <td>An intruder into a site gains physical access to O-RAN components to cause damage or access sensitive data</td>\n",
       "      <td>CAPEC-401</td>\n",
       "      <td>0.551274</td>\n",
       "    </tr>\n",
       "    <tr>\n",
       "      <th>141</th>\n",
       "      <td>T-AppLCM-05</td>\n",
       "      <td>enterprise-attack</td>\n",
       "      <td>Malicious actor modifies application’s SecurityDescriptor</td>\n",
       "      <td>CAPEC-502</td>\n",
       "      <td>0.579609</td>\n",
       "    </tr>\n",
       "    <tr>\n",
       "      <th>181</th>\n",
       "      <td>T-AppLCM-05</td>\n",
       "      <td>enterprise-attack</td>\n",
       "      <td>Malicious actor modifies application’s SecurityDescriptor</td>\n",
       "      <td>CAPEC-445</td>\n",
       "      <td>0.558988</td>\n",
       "    </tr>\n",
       "  </tbody>\n",
       "</table>\n",
       "</div>"
      ],
      "text/plain": [
       "               Name             Domain  \\\n",
       "15   T-SharedORU-42  enterprise-attack   \n",
       "27         T-SMO-22  enterprise-attack   \n",
       "28         T-SMO-24  enterprise-attack   \n",
       "49   T-SharedORU-20  enterprise-attack   \n",
       "83      T-AppLCM-05  enterprise-attack   \n",
       "90      T-CPLANE-01  enterprise-attack   \n",
       "94         T-GEN-01  enterprise-attack   \n",
       "97          T-VL-01  enterprise-attack   \n",
       "101       T-PHYS-01  enterprise-attack   \n",
       "141     T-AppLCM-05  enterprise-attack   \n",
       "181     T-AppLCM-05  enterprise-attack   \n",
       "\n",
       "                                                                                                    Description  \\\n",
       "15                                                                                  Misuse of “sudo” privileges   \n",
       "27                        Internal attacker floods O2 interface via SMO to cause DDoS on O-Cloud infrastructure   \n",
       "28                                       External attacker floods O2 interface via O-Cloud to cause DDoS on SMO   \n",
       "49                                                             Malicious User Login Attempt to O-DU Host/Tenant   \n",
       "83                                                    Malicious actor modifies application’s SecurityDescriptor   \n",
       "90                                                                              Spoofing of DL C-plane messages   \n",
       "94                                                                                         Software flaw attack   \n",
       "97                                                                             VM/Container hyperjacking attack   \n",
       "101  An intruder into a site gains physical access to O-RAN components to cause damage or access sensitive data   \n",
       "141                                                   Malicious actor modifies application’s SecurityDescriptor   \n",
       "181                                                   Malicious actor modifies application’s SecurityDescriptor   \n",
       "\n",
       "      CAPEC ID  Similarity  \n",
       "15   CAPEC-122    0.565546  \n",
       "27   CAPEC-125    0.554157  \n",
       "28   CAPEC-125    0.551914  \n",
       "49   CAPEC-114    0.552419  \n",
       "83   CAPEC-698    0.551221  \n",
       "90   CAPEC-473    0.567711  \n",
       "94   CAPEC-480    0.562108  \n",
       "97   CAPEC-480    0.558357  \n",
       "101  CAPEC-401    0.551274  \n",
       "141  CAPEC-502    0.579609  \n",
       "181  CAPEC-445    0.558988  "
      ]
     },
     "execution_count": 98,
     "metadata": {},
     "output_type": "execute_result"
    }
   ],
   "source": [
    "threats_in_orca_not_in_our = orca_mappings[~orca_mappings['Name'].isin(our_mappings['Name'])]\n",
    "threats_in_orca_not_in_our"
   ]
  },
  {
   "cell_type": "code",
   "execution_count": 99,
   "id": "4add7ff2",
   "metadata": {},
   "outputs": [
    {
     "data": {
      "text/html": [
       "<div>\n",
       "<style scoped>\n",
       "    .dataframe tbody tr th:only-of-type {\n",
       "        vertical-align: middle;\n",
       "    }\n",
       "\n",
       "    .dataframe tbody tr th {\n",
       "        vertical-align: top;\n",
       "    }\n",
       "\n",
       "    .dataframe thead th {\n",
       "        text-align: right;\n",
       "    }\n",
       "</style>\n",
       "<table border=\"1\" class=\"dataframe\">\n",
       "  <thead>\n",
       "    <tr style=\"text-align: right;\">\n",
       "      <th></th>\n",
       "      <th>Name</th>\n",
       "      <th>Domain</th>\n",
       "      <th>Description</th>\n",
       "      <th>CAPEC ID</th>\n",
       "      <th>Similarity</th>\n",
       "      <th>summary_th_df</th>\n",
       "      <th>summary_ca_df</th>\n",
       "    </tr>\n",
       "  </thead>\n",
       "  <tbody>\n",
       "    <tr>\n",
       "      <th>59</th>\n",
       "      <td>T-VM-C-02</td>\n",
       "      <td>enterprise-attack</td>\n",
       "      <td>VM/Container escape attack</td>\n",
       "      <td>CAPEC-480</td>\n",
       "      <td>0.550919</td>\n",
       "      <td>A Threat with the title VM/Container escape attack and the description VNF/CNF deployed on the same physical machine as tenants share the same host kernel and host OS resources. Lack of strong isolation between the VMs/Containers and the host allows for a potential risk of a rogue VM/Container escaping the VM/Container confinement and impacting other co-hosted VMs/Containers. In others, an attacker may deploy a new malicious VM/Container configured without network rules, user limitations, etc. to bypass existing defenses within O-Cloud infrastructure.\\nAttacker deploys malicious VM/Container to escapes the host (Hypervisor/Container Engine/Host OS) and reaches the server’s hardware, then the malicious VM/Container can gain root access to the whole server where it resides. This gives the malicious VM/Container full control on all the VMs/Containers hosted on the same hacked server. This could allow an attacker to undermine the confidentiality, integrity and/or availability of VNFs/CNFs resources.\\nContainers can be deployed by various means, such as via Docker's create and start APIs or via a web application such as the Kubernetes dashboard or Kubeflow. Adversaries may deploy containers based on retrieved or built malicious images or from benign images that download and execute malicious payloads at runtime.\\nWhen a malicious VM/Container escapes isolation, it can gain full control over the underlying host and cause any of the below serious threats:\\n• Attacker would gain the ability to mount attacks on the host or compromise the host functionalities\\n• Compromise the confidentiality &amp; integrity of co-hosted VMs/Containers and tenants\\n• Launch DDOS attacks on co-hosted VMs/Containers and host services thereby degrading their performance \\n• Introduce new vulnerabilities in host to be used for future attacks\\n• Lack of network segmentation could potentially expose other VMs/Containers in the environment to attack. An example of this could be reconnaissance, exploitation and subsequent lateral movement to another host within the cluster.</td>\n",
       "      <td>A CAPEC with the title Escaping Virtualization. The description of this CAPEC is: An adversary gains access to an application, service, or device with the privileges of an authorized or privileged user by escaping the confines of a virtualized environment. The adversary is then able to access resources or execute unauthorized code within the host environment, generally with the privileges of the user running the virtualized process. Successfully executing an attack of this type is often the first step in executing more complex attacks.. The Domain of this is: Software</td>\n",
       "    </tr>\n",
       "    <tr>\n",
       "      <th>126</th>\n",
       "      <td>T-xApp-04</td>\n",
       "      <td>enterprise-attack</td>\n",
       "      <td>False or malicious A1 policies modify behavior of xApps</td>\n",
       "      <td>CAPEC-502</td>\n",
       "      <td>0.550044</td>\n",
       "      <td>A Threat with the title False or malicious A1 policies modify behavior of xApps and the description Unauthorized access to the Non-RT RIC enables the creation of ‘false policies’ that can be issued to the Near-RT RIC for enforcement. Existing Near-RT RIC policies could also be modified to achieve a false policy. False policies passed to the Near-RT RIC would be persistent until they were modified or deleted by the Non-RT RIC or the Near-RT RIC power cycles.\\nFalse policies can be created to have numerous impacts to the normal performance of the RAN. A single false A1 policy can target a specific UE, groups of UEs, or an entire cell. A false policy could influence the Near-RT RIC to configure the O-DU and O-RU functions to support Denial of Service (DoS) attacks by using feedback data to degrade RAN performance. \\nFalse policies could also be used for the purpose of locating a subscriber or group of subscribers. In this case, the false policy would cause the Near-RT RIC to isolate a subscriber in the O-CU. The Near-RT RIC could also use MIMO beamforming in the O-DU and O-RU to isolate a user onto a single beam. The data feedback from the RAN can include UE location or trajectory information from GPS data. The subscriber location would be attained from access to the Non-RT RIC in the SMO function.\\nThe Near-RT RIC is capable of steering traffic to achieve optimal QoS or QoE performance. A false policy could notionally cause the Near-RT RIC to steer user data to isolate the data in order to facilitate a cyber-attack.</td>\n",
       "      <td>A CAPEC with the title Intent Spoof. The description of this CAPEC is: An adversary, through a previously installed malicious application, issues an intent directed toward a specific trusted application's component in an attempt to achieve a variety of different objectives including modification of data, information disclosure, and data injection. Components that have been unintentionally exported and made public are subject to this type of an attack. If the component trusts the intent's action without verififcation, then the target application performs the functionality at the adversary's request, helping the adversary achieve the desired negative technical impact.. The Domain of this is: Software</td>\n",
       "    </tr>\n",
       "  </tbody>\n",
       "</table>\n",
       "</div>"
      ],
      "text/plain": [
       "          Name             Domain  \\\n",
       "59   T-VM-C-02  enterprise-attack   \n",
       "126  T-xApp-04  enterprise-attack   \n",
       "\n",
       "                                                 Description   CAPEC ID  \\\n",
       "59                                VM/Container escape attack  CAPEC-480   \n",
       "126  False or malicious A1 policies modify behavior of xApps  CAPEC-502   \n",
       "\n",
       "     Similarity  \\\n",
       "59     0.550919   \n",
       "126    0.550044   \n",
       "\n",
       "                                                                                                                                                                                                                                                                                                                                                                                                                                                                                                                                                                                                                                                                                                                                                                                                                                                                                                                                                                                                                                                                                                                                                                                                                                                                                                                                                                                                                                                                                                                                                                                                                                                                                                                                                                                                                                                                                                                                                                                                                                                                                                                                               summary_th_df  \\\n",
       "59   A Threat with the title VM/Container escape attack and the description VNF/CNF deployed on the same physical machine as tenants share the same host kernel and host OS resources. Lack of strong isolation between the VMs/Containers and the host allows for a potential risk of a rogue VM/Container escaping the VM/Container confinement and impacting other co-hosted VMs/Containers. In others, an attacker may deploy a new malicious VM/Container configured without network rules, user limitations, etc. to bypass existing defenses within O-Cloud infrastructure.\\nAttacker deploys malicious VM/Container to escapes the host (Hypervisor/Container Engine/Host OS) and reaches the server’s hardware, then the malicious VM/Container can gain root access to the whole server where it resides. This gives the malicious VM/Container full control on all the VMs/Containers hosted on the same hacked server. This could allow an attacker to undermine the confidentiality, integrity and/or availability of VNFs/CNFs resources.\\nContainers can be deployed by various means, such as via Docker's create and start APIs or via a web application such as the Kubernetes dashboard or Kubeflow. Adversaries may deploy containers based on retrieved or built malicious images or from benign images that download and execute malicious payloads at runtime.\\nWhen a malicious VM/Container escapes isolation, it can gain full control over the underlying host and cause any of the below serious threats:\\n• Attacker would gain the ability to mount attacks on the host or compromise the host functionalities\\n• Compromise the confidentiality & integrity of co-hosted VMs/Containers and tenants\\n• Launch DDOS attacks on co-hosted VMs/Containers and host services thereby degrading their performance \\n• Introduce new vulnerabilities in host to be used for future attacks\\n• Lack of network segmentation could potentially expose other VMs/Containers in the environment to attack. An example of this could be reconnaissance, exploitation and subsequent lateral movement to another host within the cluster.   \n",
       "126                                                                                                                                                                                                                                                                                                                                                                                                                                                                                                                                                      A Threat with the title False or malicious A1 policies modify behavior of xApps and the description Unauthorized access to the Non-RT RIC enables the creation of ‘false policies’ that can be issued to the Near-RT RIC for enforcement. Existing Near-RT RIC policies could also be modified to achieve a false policy. False policies passed to the Near-RT RIC would be persistent until they were modified or deleted by the Non-RT RIC or the Near-RT RIC power cycles.\\nFalse policies can be created to have numerous impacts to the normal performance of the RAN. A single false A1 policy can target a specific UE, groups of UEs, or an entire cell. A false policy could influence the Near-RT RIC to configure the O-DU and O-RU functions to support Denial of Service (DoS) attacks by using feedback data to degrade RAN performance. \\nFalse policies could also be used for the purpose of locating a subscriber or group of subscribers. In this case, the false policy would cause the Near-RT RIC to isolate a subscriber in the O-CU. The Near-RT RIC could also use MIMO beamforming in the O-DU and O-RU to isolate a user onto a single beam. The data feedback from the RAN can include UE location or trajectory information from GPS data. The subscriber location would be attained from access to the Non-RT RIC in the SMO function.\\nThe Near-RT RIC is capable of steering traffic to achieve optimal QoS or QoE performance. A false policy could notionally cause the Near-RT RIC to steer user data to isolate the data in order to facilitate a cyber-attack.   \n",
       "\n",
       "                                                                                                                                                                                                                                                                                                                                                                                                                                                                                                                                                                                                                                                                                                                           summary_ca_df  \n",
       "59                                                                                                                                        A CAPEC with the title Escaping Virtualization. The description of this CAPEC is: An adversary gains access to an application, service, or device with the privileges of an authorized or privileged user by escaping the confines of a virtualized environment. The adversary is then able to access resources or execute unauthorized code within the host environment, generally with the privileges of the user running the virtualized process. Successfully executing an attack of this type is often the first step in executing more complex attacks.. The Domain of this is: Software  \n",
       "126  A CAPEC with the title Intent Spoof. The description of this CAPEC is: An adversary, through a previously installed malicious application, issues an intent directed toward a specific trusted application's component in an attempt to achieve a variety of different objectives including modification of data, information disclosure, and data injection. Components that have been unintentionally exported and made public are subject to this type of an attack. If the component trusts the intent's action without verififcation, then the target application performs the functionality at the adversary's request, helping the adversary achieve the desired negative technical impact.. The Domain of this is: Software  "
      ]
     },
     "execution_count": 99,
     "metadata": {},
     "output_type": "execute_result"
    }
   ],
   "source": [
    "threats_in_our_not_in_orca = our_mappings[~our_mappings['Name'].isin(orca_mappings['Name'])]\n",
    "threats_in_our_not_in_orca"
   ]
  },
  {
   "cell_type": "markdown",
   "id": "ea0e5b6f",
   "metadata": {},
   "source": [
    "## Preparation for Prompt Engineering"
   ]
  },
  {
   "cell_type": "code",
   "execution_count": null,
   "id": "4a60c611",
   "metadata": {},
   "outputs": [],
   "source": [
    "#threat_data_for_PE = df_threats[['Threat ID', 'summary_th_df']]\n",
    "##save as pickle\n",
    "#threat_data_for_PE.to_pickle('threat_data/threat_data_for_PE.pk1')"
   ]
  },
  {
   "cell_type": "code",
   "execution_count": 105,
   "id": "606894a1",
   "metadata": {},
   "outputs": [],
   "source": [
    "#capec_data_for_PE = capecs_df[['CAPEC ID', 'summary']]\n",
    "#capec_data_for_PE.to_pickle('capec_data/capec_data_for_PE.pk1')"
   ]
  },
  {
   "cell_type": "code",
   "execution_count": 17,
   "id": "ef6aa53c",
   "metadata": {},
   "outputs": [],
   "source": [
    "threat_data_for_PE = pd.read_pickle('threat_data/threat_data_for_PE.pk1')"
   ]
  },
  {
   "cell_type": "code",
   "execution_count": 18,
   "id": "4f5f5481",
   "metadata": {},
   "outputs": [],
   "source": [
    "capec_data_for_PE = pd.read_pickle('capec_data/capec_data_for_PE.pk1')"
   ]
  },
  {
   "cell_type": "markdown",
   "id": "6106938e",
   "metadata": {},
   "source": [
    "## Preparation for Retrieval Augmented Generation"
   ]
  },
  {
   "cell_type": "code",
   "execution_count": 22,
   "id": "d8cdd475",
   "metadata": {},
   "outputs": [],
   "source": [
    "client = chromadb.Client()\n",
    "\n",
    "collection = client.create_collection(name=\"capec_summaries\")"
   ]
  },
  {
   "cell_type": "code",
   "execution_count": 111,
   "id": "a874d5ac",
   "metadata": {},
   "outputs": [],
   "source": [
    "#capecs_for_rag = capecs_with_embeddings_df[['CAPEC ID', 'summary_ca_df', 'embedding']]\n",
    "#capecs_for_rag.to_pickle('capec_data/capecs_for_rag.pk1')\n"
   ]
  },
  {
   "cell_type": "code",
   "execution_count": 8,
   "id": "00cdd5ff",
   "metadata": {},
   "outputs": [
    {
     "data": {
      "text/plain": [
       "Index(['CAPEC ID', 'summary_ca_df', 'embedding'], dtype='object')"
      ]
     },
     "execution_count": 8,
     "metadata": {},
     "output_type": "execute_result"
    }
   ],
   "source": [
    "capecs_for_rag = pd.read_pickle('capec_data/capecs_for_rag.pk1')\n",
    "capecs_for_rag.columns"
   ]
  },
  {
   "cell_type": "code",
   "execution_count": 24,
   "id": "3a346c3c",
   "metadata": {},
   "outputs": [],
   "source": [
    "collection.add(\n",
    "    documents=capecs_for_rag['summary_ca_df'].tolist(),\n",
    "    embeddings=capecs_for_rag['embedding'].tolist(),\n",
    "    ids=capecs_for_rag['CAPEC ID'].astype(str).tolist(),\n",
    "    metadatas=capecs_for_rag[['CAPEC ID']].to_dict(orient='records')\n",
    ")"
   ]
  },
  {
   "cell_type": "code",
   "execution_count": 117,
   "id": "b49b2c49",
   "metadata": {},
   "outputs": [],
   "source": [
    "#threat_data_for_RAG = df_threats[['Threat ID', 'summary_th_df', 'embedding' ]]\n",
    "##save as pickle\n",
    "#threat_data_for_RAG.to_pickle('threat_data/threat_data_for_RAG.pk1')"
   ]
  },
  {
   "cell_type": "code",
   "execution_count": 10,
   "id": "3a66ac2f",
   "metadata": {},
   "outputs": [
    {
     "data": {
      "text/plain": [
       "Index(['Threat ID', 'summary_th_df', 'embedding'], dtype='object')"
      ]
     },
     "execution_count": 10,
     "metadata": {},
     "output_type": "execute_result"
    }
   ],
   "source": [
    "threat_data_for_RAG = pd.read_pickle('threat_data/threat_data_for_RAG.pk1')\n",
    "threat_data_for_RAG.columns"
   ]
  },
  {
   "cell_type": "code",
   "execution_count": 9,
   "id": "51cb68c7",
   "metadata": {},
   "outputs": [],
   "source": [
    "client = chromadb.Client()\n",
    "collection = client.get_or_create_collection(name=\"capec_summaries\")\n",
    "collection.add(\n",
    "documents=capecs_for_rag['summary_ca_df'].tolist(),\n",
    "embeddings=capecs_for_rag['embedding'].tolist(),\n",
    "ids=capecs_for_rag['CAPEC ID'].astype(str).tolist(),\n",
    "metadatas=capecs_for_rag[['CAPEC ID']].to_dict(orient='records')\n",
    ")\n",
    "def create_rag_prompt(threat, rag_db=collection):\n",
    "\n",
    "    # Query the collection for the threat's embedding\n",
    "    query_embedding = threat['embedding'].tolist()[0]\n",
    "    results = rag_db.query(\n",
    "        query_embeddings=[query_embedding],\n",
    "        n_results=23\n",
    "    )\n",
    "    retrieved_capec_ids = results['ids'][0]\n",
    "    # Build the formatted string of CAPEC documents\n",
    "    formatted_capec_info = \"\"\n",
    "    for doc, meta in zip(results['documents'][0], results['metadatas'][0]):\n",
    "        formatted_capec_info += f\"CAPEC Information for CAPEC ID {meta['CAPEC ID']}: {doc}\\n\"\n",
    "        formatted_capec_info += \"-\" * 40 + \"\\n\" \n",
    "    return f\"\"\"\n",
    "    This task involves mapping a threat summary from the\n",
    "Open Radio Access Network (O-RAN) domain to relevant attack patterns.\n",
    "O-RAN represents a paradigm shift in Radio Access Network (RAN)\n",
    "design, moving from proprietary hardware to a more open,\n",
    "virtualized, and software-driven approach. It is used for\n",
    "mobile communication networks, particularly for 5G and future\n",
    "generations. Key principles of O-RAN include:\n",
    "- Open System: Characterized by standardized, open\n",
    "interfaces to foster a multi-vendor ecosystem.\n",
    "- Disaggregated RAN: Functionalities are distributed\n",
    "across different physical or virtual network functions.\n",
    "- Software-Driven Approach: Components are deployed on\n",
    "white-box appliances and accelerators.\n",
    "- Closed-Loop Control: Enabled by data-driven components\n",
    "deployed on RAN Intelligent Controllers (RICs).\n",
    "Now, based on the context above, analyze the following\n",
    "threat summary:\n",
    "{threat['summary_th_df'].values[0]}\n",
    "Additionally, consider all the following candidate\n",
    "CAPEC (CAPEC stands for Common Attack Pattern Enumeration and Classification) entries that were retrieved from a vector database as the {len(retrieved_capec_ids)}\n",
    "most similar attack patterns to the given threat summary:\n",
    "{formatted_capec_info}\n",
    "From this list, identify which CAPEC IDs are most relevant\n",
    "to the described threat.\n",
    "As an output, provide only a JSON array containing the\n",
    "selected CAPEC IDs.\n",
    "Do not include any explanations or additional text,\n",
    "only the JSON array.\n",
    "    \"\"\""
   ]
  },
  {
   "cell_type": "code",
   "execution_count": 53,
   "id": "1051dc51",
   "metadata": {},
   "outputs": [
    {
     "name": "stdout",
     "output_type": "stream",
     "text": [
      "\n",
      "    This task involves mapping a threat summary from the\n",
      "Open Radio Access Network (O-RAN) domain to relevant attack patterns.\n",
      "O-RAN represents a paradigm shift in Radio Access Network (RAN)\n",
      "design, moving from proprietary hardware to a more open,\n",
      "virtualized, and software-driven approach. It is used for\n",
      "mobile communication networks, particularly for 5G and future\n",
      "generations. Key principles of O-RAN include:\n",
      "- Open System: Characterized by standardized, open\n",
      "interfaces to foster a multi-vendor ecosystem.\n",
      "- Disaggregated RAN: Functionalities are distributed\n",
      "across different physical or virtual network functions.\n",
      "- Software-Driven Approach: Components are deployed on\n",
      "white-box appliances and accelerators.\n",
      "- Closed-Loop Control: Enabled by data-driven components\n",
      "deployed on RAN Intelligent Controllers (RICs).\n",
      "Now, based on the context above, analyze the following\n",
      "threat summary:\n",
      "A Threat with the title An attacker stands up a false base station attack by attacking an O-RU and the description A false base station attack occurs when an attacker masquerades as a legitimate mobile network to facilitate a Man-in-The-Middle (MiTM) attack between a subscriber’s user equipment (UE) and the mobile network. \n",
      "There are three attack scenarios on an O-RU that enable an attacker to realize a false base station attack: \n",
      "1. Hijack fronthaul to realize a false base station attack: Attacker disables an operational O-RU’s access to the open fronthaul, plugs a false base station system into the operational O-RU’s fronthaul interface, and launches a false base station attack with the O-RU providing the air interface.\n",
      "2. Recruit a standalone O-RU to realize a false base station attack: The stand-alone O-RU is an O-RU that is not operational but is available to an attacker to incorporate into a false base station system. The attacker plugs a false base station system into the standalone O-RU’s fronthaul interface and launches a false base station attack with the O-RU providing the air interface.\n",
      "3. Gain unauthorized physical access to O-RU to realize a false base station attack: An attacker gains access to external and internal components of an O-RU (other than the open fronthaul interface), connects the O-RU under attack to a false base station system, and launches a false base station attack with the O-RU providing the air interface.\n",
      "Successful attacks may cause:\n",
      "a) For a subscriber’s UE in attack scenarios 1, 2, and 3: the false base stations, also known as SUPI/5G-GUTI catchers, retrieves a subscriber identity by forcing a UE to attach to the false base station systems. This opens the door to subscriber identity interception/disclosure and unauthorized subscriber tracking attacks. These attacks include stealing subscriber information, tampering with transmitted information, tracking subscribers, and compromising subscriber privacy.\n",
      "b) For the operator network: in attack scenario 1, the attacker removes the operational O-RU from providing service to UEs in the coverage area served by the operational O-RU.\n",
      "c) For operators and vendors in attack scenarios 1, 2, and 3, the attacker recruits legitimate operator/vendor equipment for the purpose of creating a false base station attack on subscribers, possibly harming the reputation of the operator and vendor whose O-RU was used in the attack.\n",
      "NOTE: The false base station threat has existed since GSM networks and continued to evolve and persist with the evolution of mobile networks. 5G networks are expected to introduce several security enhancements over 4G and legacy networks. Despite these security enhancements, 5G networks could still be a target of false base station attacks [19].\n",
      "Additionally, consider all the following candidate\n",
      "CAPEC (CAPEC stands for Common Attack Pattern Enumeration and Classification) entries that were retrieved from a vector database as the 23\n",
      "most similar attack patterns to the given threat summary:\n",
      "CAPEC Information for CAPEC ID CAPEC-617: A CAPEC with the title Cellular Rogue Base Station. The description of this CAPEC is: In this attack scenario, the attacker imitates a cellular base station with their own \"rogue\" base station equipment. Since cellular devices connect to whatever station has the strongest signal, the attacker can easily convince a targeted cellular device (e.g. the retransmission device) to talk to the rogue base station.. The Domains of this are: Communications, Hardware\n",
      "----------------------------------------\n",
      "CAPEC Information for CAPEC ID CAPEC-605: A CAPEC with the title Cellular Jamming. The description of this CAPEC is: In this attack scenario, the attacker actively transmits signals to overpower and disrupt the communication between a cellular user device and a cell tower. Several existing techniques are known in the open literature for this attack for 2G, 3G, and 4G LTE cellular technology. For example, some attacks target cell towers by overwhelming them with false status messages, while others introduce high levels of noise on signaling channels.. The Domain of this is: Communications\n",
      "----------------------------------------\n",
      "CAPEC Information for CAPEC ID CAPEC-466: A CAPEC with the title Leveraging Active Adversary in the Middle Attacks to Bypass Same Origin Policy. The description of this CAPEC is: An attacker leverages an adversary in the middle attack (CAPEC-94) in order to bypass the same origin policy protection in the victim's browser. This active adversary in the middle attack could be launched, for instance, when the victim is connected to a public WIFI hot spot. An attacker is able to intercept requests and responses between the victim's browser and some non-sensitive website that does not use TLS.. The Domains of this are: Communications, Software\n",
      "----------------------------------------\n",
      "CAPEC Information for CAPEC ID CAPEC-604: A CAPEC with the title Wi-Fi Jamming. The description of this CAPEC is: In this attack scenario, the attacker actively transmits on the Wi-Fi channel to prevent users from transmitting or receiving data from the targeted Wi-Fi network. There are several known techniques to perform this attack – for example: the attacker may flood the Wi-Fi access point (e.g. the retransmission device) with deauthentication frames. Another method is to transmit high levels of noise on the RF band used by the Wi-Fi network.. The Domain of this is: Communications\n",
      "----------------------------------------\n",
      "CAPEC Information for CAPEC ID CAPEC-697: A CAPEC with the title DHCP Spoofing. The description of this CAPEC is: \n",
      "            <xhtml:p>An adversary masquerades as a legitimate Dynamic Host Configuration Protocol (DHCP) server by spoofing DHCP traffic, with the goal of redirecting network traffic or denying service to DHCP.</xhtml:p>\n",
      "         . The Domains of this are: Social Engineering, Software, Hardware\n",
      "----------------------------------------\n",
      "CAPEC Information for CAPEC ID CAPEC-615: A CAPEC with the title Evil Twin Wi-Fi Attack. The description of this CAPEC is: Adversaries install Wi-Fi equipment that acts as a legitimate Wi-Fi network access point. When a device connects to this access point, Wi-Fi data traffic is intercepted, captured, and analyzed. This also allows the adversary to use \"adversary-in-the-middle\" (CAPEC-94) for all communications.. The Domains of this are: Communications, Software, Hardware\n",
      "----------------------------------------\n",
      "CAPEC Information for CAPEC ID CAPEC-272: A CAPEC with the title Protocol Manipulation. The description of this CAPEC is: An adversary subverts a communications protocol to perform an attack. This type of attack can allow an adversary to impersonate others, discover sensitive information, control the outcome of a session, or perform other attacks. This type of attack targets invalid assumptions that may be inherent in implementers of the protocol, incorrect implementations of the protocol, or vulnerabilities in the protocol itself.. The Domains of this are: Communications, Software\n",
      "----------------------------------------\n",
      "CAPEC Information for CAPEC ID CAPEC-618: A CAPEC with the title Cellular Broadcast Message Request. The description of this CAPEC is: In this attack scenario, the attacker uses knowledge of the target’s mobile phone number (i.e., the number associated with the SIM used in the retransmission device) to cause the cellular network to send broadcast messages to alert the mobile device. Since the network knows which cell tower the target’s mobile device is attached to, the broadcast messages are only sent in the Location Area Code (LAC) where the target is currently located. By triggering the cellular broadcast message and then listening for the presence or absence of that message, an attacker could verify that the target is in (or not in) a given location.. The Domains of this are: Communications, Software\n",
      "----------------------------------------\n",
      "CAPEC Information for CAPEC ID CAPEC-90: A CAPEC with the title Reflection Attack in Authentication Protocol. The description of this CAPEC is: An adversary can abuse an authentication protocol susceptible to reflection attack in order to defeat it. Doing so allows the adversary illegitimate access to the target system, without possessing the requisite credentials. Reflection attacks are of great concern to authentication protocols that rely on a challenge-handshake or similar mechanism. An adversary can impersonate a legitimate user and can gain illegitimate access to the system by successfully mounting a reflection attack during authentication.. The Domain of this is: Communications\n",
      "----------------------------------------\n",
      "CAPEC Information for CAPEC ID CAPEC-622: A CAPEC with the title Electromagnetic Side-Channel Attack. The description of this CAPEC is: In this attack scenario, the attacker passively monitors electromagnetic emanations that are produced by the targeted electronic device as an unintentional side-effect of its processing. From these emanations, the attacker derives information about the data that is being processed (e.g. the attacker can recover cryptographic keys by monitoring emanations associated with cryptographic processing). This style of attack requires proximal access to the device, however attacks have been demonstrated at public conferences that work at distances of up to 10-15 feet. There have not been any significant studies to determine the maximum practical distance for such attacks. Since the attack is passive, it is nearly impossible to detect and the targeted device will continue to operate as normal after a successful attack.. The Domains of this are: Software, Physical Security, Hardware\n",
      "----------------------------------------\n",
      "CAPEC Information for CAPEC ID CAPEC-601: A CAPEC with the title Jamming. The description of this CAPEC is: An adversary uses radio noise or signals in an attempt to disrupt communications. By intentionally overwhelming system resources with illegitimate traffic, service is denied to the legitimate traffic of authorized users.. The Domain of this is: Communications\n",
      "----------------------------------------\n",
      "CAPEC Information for CAPEC ID CAPEC-594: A CAPEC with the title Traffic Injection. The description of this CAPEC is: An adversary injects traffic into the target's network connection. The adversary is therefore able to degrade or disrupt the connection, and potentially modify the content. This is not a flooding attack, as the adversary is not focusing on exhausting resources. Instead, the adversary is crafting a specific input to affect the system in a particular way.. The Domains of this are: Communications, Software\n",
      "----------------------------------------\n",
      "CAPEC Information for CAPEC ID CAPEC-582: A CAPEC with the title Route Disabling. The description of this CAPEC is: An adversary disables the network route between two targets. The goal is to completely sever the communications channel between two entities. This is often the result of a major error or the use of an \"Internet kill switch\" by those in control of critical infrastructure. This attack pattern differs from most other obstruction patterns by targeting the route itself, as opposed to the data passed over the route.. The Domains of this are: Social Engineering, Communications, Software, Hardware\n",
      "----------------------------------------\n",
      "CAPEC Information for CAPEC ID CAPEC-114: A CAPEC with the title Authentication Abuse. The description of this CAPEC is: An attacker obtains unauthorized access to an application, service or device either through knowledge of the inherent weaknesses of an authentication mechanism, or by exploiting a flaw in the authentication scheme's implementation. In such an attack an authentication mechanism is functioning but a carefully controlled sequence of events causes the mechanism to grant access to the attacker.. The Domains of this are: Software, Hardware\n",
      "----------------------------------------\n",
      "CAPEC Information for CAPEC ID CAPEC-559: A CAPEC with the title Orbital Jamming. The description of this CAPEC is: In this attack pattern, the adversary sends disruptive signals at a target satellite using a rogue uplink station to disrupt the intended transmission. Those within the satellite's footprint are prevented from reaching the satellite's targeted or neighboring channels. The satellite's footprint size depends upon its position in the sky; higher orbital satellites cover multiple continents.. The Domain of this is: Communications\n",
      "----------------------------------------\n",
      "CAPEC Information for CAPEC ID CAPEC-161: A CAPEC with the title Infrastructure Manipulation. The description of this CAPEC is: An attacker exploits characteristics of the infrastructure of a network entity in order to perpetrate attacks or information gathering on network objects or effect a change in the ordinary information flow between network objects. Most often, this involves manipulation of the routing of network messages so, instead of arriving at their proper destination, they are directed towards an entity of the attackers' choosing, usually a server controlled by the attacker. The victim is often unaware that their messages are not being processed correctly. For example, a targeted client may believe they are connecting to their own bank but, in fact, be connecting to a Pharming site controlled by the attacker which then collects the user's login information in order to hijack the actual bank account.. The Domains of this are: Communications, Software, Hardware\n",
      "----------------------------------------\n",
      "CAPEC Information for CAPEC ID CAPEC-628: A CAPEC with the title Carry-Off GPS Attack. The description of this CAPEC is: A common form of a GPS spoofing attack, commonly termed a carry-off attack begins with an adversary broadcasting signals synchronized with the genuine signals observed by the target receiver. The power of the counterfeit signals is then gradually increased and drawn away from the genuine signals. Over time, the adversary can carry the target away from their intended destination and toward a location chosen by the adversary.. The Domain of this is: Communications\n",
      "----------------------------------------\n",
      "CAPEC Information for CAPEC ID CAPEC-154: A CAPEC with the title Resource Location Spoofing. The description of this CAPEC is: An adversary deceives an application or user and convinces them to request a resource from an unintended location. By spoofing the location, the adversary can cause an alternate resource to be used, often one that the adversary controls and can be used to help them achieve their malicious goals.. The Domains of this are: Social Engineering, Supply Chain, Communications, Software, Hardware\n",
      "----------------------------------------\n",
      "CAPEC Information for CAPEC ID CAPEC-593: A CAPEC with the title Session Hijacking. The description of this CAPEC is: This type of attack involves an adversary that exploits weaknesses in an application's use of sessions in performing authentication. The adversary is able to steal or manipulate an active session and use it to gain unathorized access to the application.. The Domain of this is: Software\n",
      "----------------------------------------\n",
      "CAPEC Information for CAPEC ID CAPEC-157: A CAPEC with the title Sniffing Attacks. The description of this CAPEC is: In this attack pattern, the adversary intercepts information transmitted between two third parties. The adversary must be able to observe, read, and/or hear the communication traffic, but not necessarily block the communication or change its content. Any transmission medium can theoretically be sniffed if the adversary can examine the contents between the sender and recipient. Sniffing Attacks are similar to Adversary-In-The-Middle attacks (CAPEC-94), but are entirely passive. AiTM attacks are predominantly active and often alter the content of the communications themselves.. The Domains of this are: Communications, Software\n",
      "----------------------------------------\n",
      "CAPEC Information for CAPEC ID CAPEC-173: A CAPEC with the title Action Spoofing. The description of this CAPEC is: An adversary is able to disguise one action for another and therefore trick a user into initiating one type of action when they intend to initiate a different action. For example, a user might be led to believe that clicking a button will submit a query, but in fact it downloads software. Adversaries may perform this attack through social means, such as by simply convincing a victim to perform the action or relying on a user's natural inclination to do so, or through technical means, such as a clickjacking attack where a user sees one interface but is actually interacting with a second, invisible, interface.. The Domains of this are: Social Engineering, Software\n",
      "----------------------------------------\n",
      "CAPEC Information for CAPEC ID CAPEC-606: A CAPEC with the title Weakening of Cellular Encryption. The description of this CAPEC is: An attacker, with control of a Cellular Rogue Base Station or through cooperation with a Malicious Mobile Network Operator can force the mobile device (e.g., the retransmission device) to use no encryption (A5/0 mode) or to use easily breakable encryption (A5/1 or A5/2 mode).. The Domain of this is: Software\n",
      "----------------------------------------\n",
      "CAPEC Information for CAPEC ID CAPEC-487: A CAPEC with the title ICMP Flood. The description of this CAPEC is: An adversary may execute a flooding attack using the ICMP protocol with the intent to deny legitimate users access to a service by consuming the available network bandwidth. A typical attack involves a victim server receiving ICMP packets at a high rate from a wide range of source addresses. Additionally, due to the session-less nature of the ICMP protocol, the source of a packet is easily spoofed making it difficult to find the source of the attack.. The Domains of this are: Communications, Software\n",
      "----------------------------------------\n",
      "\n",
      "From this list, identify which CAPEC IDs are most relevant\n",
      "to the described threat.\n",
      "As an output, provide only a JSON array containing the\n",
      "selected CAPEC IDs.\n",
      "Do not include any explanations or additional text,\n",
      "only the JSON array.\n",
      "    \n"
     ]
    }
   ],
   "source": [
    "print(create_rag_prompt(chosen_threat, collection))"
   ]
  },
  {
   "cell_type": "markdown",
   "id": "1a081930",
   "metadata": {},
   "source": [
    "Testing the mapping with the chromadb"
   ]
  },
  {
   "cell_type": "code",
   "execution_count": 51,
   "id": "0f500ab7",
   "metadata": {},
   "outputs": [],
   "source": [
    "id_for_query = 'T-ORU-01'"
   ]
  },
  {
   "cell_type": "code",
   "execution_count": 52,
   "id": "c1e326a8",
   "metadata": {},
   "outputs": [
    {
     "data": {
      "text/html": [
       "<div>\n",
       "<style scoped>\n",
       "    .dataframe tbody tr th:only-of-type {\n",
       "        vertical-align: middle;\n",
       "    }\n",
       "\n",
       "    .dataframe tbody tr th {\n",
       "        vertical-align: top;\n",
       "    }\n",
       "\n",
       "    .dataframe thead th {\n",
       "        text-align: right;\n",
       "    }\n",
       "</style>\n",
       "<table border=\"1\" class=\"dataframe\">\n",
       "  <thead>\n",
       "    <tr style=\"text-align: right;\">\n",
       "      <th></th>\n",
       "      <th>Threat ID</th>\n",
       "      <th>summary_th_df</th>\n",
       "      <th>embedding</th>\n",
       "    </tr>\n",
       "  </thead>\n",
       "  <tbody>\n",
       "    <tr>\n",
       "      <th>20</th>\n",
       "      <td>T-ORU-01</td>\n",
       "      <td>A Threat with the title An attacker stands up a false base station attack by attacking an O-RU and the description A false base station attack occurs when an attacker masquerades as a legitimate mobile network to facilitate a Man-in-The-Middle (MiTM) attack between a subscriber’s user equipment (UE) and the mobile network. \\nThere are three attack scenarios on an O-RU that enable an attacker to realize a false base station attack: \\n1. Hijack fronthaul to realize a false base station attack: Attacker disables an operational O-RU’s access to the open fronthaul, plugs a false base station system into the operational O-RU’s fronthaul interface, and launches a false base station attack with the O-RU providing the air interface.\\n2. Recruit a standalone O-RU to realize a false base station attack: The stand-alone O-RU is an O-RU that is not operational but is available to an attacker to incorporate into a false base station system. The attacker plugs a false base station system into the standalone O-RU’s fronthaul interface and launches a false base station attack with the O-RU providing the air interface.\\n3. Gain unauthorized physical access to O-RU to realize a false base station attack: An attacker gains access to external and internal components of an O-RU (other than the open fronthaul interface), connects the O-RU under attack to a false base station system, and launches a false base station attack with the O-RU providing the air interface.\\nSuccessful attacks may cause:\\na) For a subscriber’s UE in attack scenarios 1, 2, and 3: the false base stations, also known as SUPI/5G-GUTI catchers, retrieves a subscriber identity by forcing a UE to attach to the false base station systems. This opens the door to subscriber identity interception/disclosure and unauthorized subscriber tracking attacks. These attacks include stealing subscriber information, tampering with transmitted information, tracking subscribers, and compromising subscriber privacy.\\nb) For the operator network: in attack scenario 1, the attacker removes the operational O-RU from providing service to UEs in the coverage area served by the operational O-RU.\\nc) For operators and vendors in attack scenarios 1, 2, and 3, the attacker recruits legitimate operator/vendor equipment for the purpose of creating a false base station attack on subscribers, possibly harming the reputation of the operator and vendor whose O-RU was used in the attack.\\nNOTE: The false base station threat has existed since GSM networks and continued to evolve and persist with the evolution of mobile networks. 5G networks are expected to introduce several security enhancements over 4G and legacy networks. Despite these security enhancements, 5G networks could still be a target of false base station attacks [19].</td>\n",
       "      <td>[-0.03495395, 0.035178028, -0.1055134, 0.010274407, 0.08200047, -0.019577578, 0.0075315195, 0.018251006, -0.032885563, 0.020352183, 0.07969532, -0.0151793435, 0.043177128, 0.00089191314, 0.07879166, 0.030495765, 0.019309783, 0.0058695795, 0.047091175, 0.022085859, -0.014857345, -0.06202555, 0.0039620334, -0.00014607058, 0.05151337, -0.10628875, 0.011307831, 0.025112031, 0.024592487, -0.020556321, 0.030067666, 0.046208147, -0.0040335446, 0.083263196, -0.04484506, -0.06627163, 0.07859292, 0.0044600093, -0.007475696, 0.01670452, 0.09404955, 0.0065918807, 0.04587974, 0.009176627, -0.032032236, -0.013557733, 0.017349208, 0.01402727, -0.060922213, -0.12536305, 0.06155578, -0.041403048, 0.011807808, 0.06615288, 0.039328348, -0.09199647, -0.012560112, 0.0813064, 0.008374526, 0.038339343, 0.02620471, 0.030698868, -0.012845542, -0.03284595, 0.017397922, -0.05241009, -0.016251963, 0.00430203, 0.029321222, 0.0697277, -0.011027186, -0.044097956, -0.10395023, -0.018087346, 0.01645306, 0.06012708, -0.14226824, 0.020983089, 0.040946644, 0.09410166, 0.037580088, -0.027501397, 0.051011812, 0.022191172, -0.018213628, 0.025539376, -0.0068234014, -0.0066775046, -0.01734527, -0.0016644753, -0.040558197, -0.031372383, 0.112180695, 0.004747508, 0.07653295, 0.06086299, -0.10650164, -0.06297418, -0.06756565, 0.13340971, ...]</td>\n",
       "    </tr>\n",
       "  </tbody>\n",
       "</table>\n",
       "</div>"
      ],
      "text/plain": [
       "   Threat ID  \\\n",
       "20  T-ORU-01   \n",
       "\n",
       "                                                                                                                                                                                                                                                                                                                                                                                                                                                                                                                                                                                                                                                                                                                                                                                                                                                                                                                                                                                                                                                                                                                                                                                                                                                                                                                                                                                                                                                                                                                                                                                                                                                                                                                                                                                                                                                                                                                                                                                                                                                                                                                                                                                                                                                                                                                                                                                                                                                                                                                                                                                                                                                                                                                                                                                                                                                                                               summary_th_df  \\\n",
       "20  A Threat with the title An attacker stands up a false base station attack by attacking an O-RU and the description A false base station attack occurs when an attacker masquerades as a legitimate mobile network to facilitate a Man-in-The-Middle (MiTM) attack between a subscriber’s user equipment (UE) and the mobile network. \\nThere are three attack scenarios on an O-RU that enable an attacker to realize a false base station attack: \\n1. Hijack fronthaul to realize a false base station attack: Attacker disables an operational O-RU’s access to the open fronthaul, plugs a false base station system into the operational O-RU’s fronthaul interface, and launches a false base station attack with the O-RU providing the air interface.\\n2. Recruit a standalone O-RU to realize a false base station attack: The stand-alone O-RU is an O-RU that is not operational but is available to an attacker to incorporate into a false base station system. The attacker plugs a false base station system into the standalone O-RU’s fronthaul interface and launches a false base station attack with the O-RU providing the air interface.\\n3. Gain unauthorized physical access to O-RU to realize a false base station attack: An attacker gains access to external and internal components of an O-RU (other than the open fronthaul interface), connects the O-RU under attack to a false base station system, and launches a false base station attack with the O-RU providing the air interface.\\nSuccessful attacks may cause:\\na) For a subscriber’s UE in attack scenarios 1, 2, and 3: the false base stations, also known as SUPI/5G-GUTI catchers, retrieves a subscriber identity by forcing a UE to attach to the false base station systems. This opens the door to subscriber identity interception/disclosure and unauthorized subscriber tracking attacks. These attacks include stealing subscriber information, tampering with transmitted information, tracking subscribers, and compromising subscriber privacy.\\nb) For the operator network: in attack scenario 1, the attacker removes the operational O-RU from providing service to UEs in the coverage area served by the operational O-RU.\\nc) For operators and vendors in attack scenarios 1, 2, and 3, the attacker recruits legitimate operator/vendor equipment for the purpose of creating a false base station attack on subscribers, possibly harming the reputation of the operator and vendor whose O-RU was used in the attack.\\nNOTE: The false base station threat has existed since GSM networks and continued to evolve and persist with the evolution of mobile networks. 5G networks are expected to introduce several security enhancements over 4G and legacy networks. Despite these security enhancements, 5G networks could still be a target of false base station attacks [19].   \n",
       "\n",
       "                                                                                                                                                                                                                                                                                                                                                                                                                                                                                                                                                                                                                                                                                                                                                                                                                                                                                                                                                                                                                                                                                                                                                                                                                                                                                                                                                                   embedding  \n",
       "20  [-0.03495395, 0.035178028, -0.1055134, 0.010274407, 0.08200047, -0.019577578, 0.0075315195, 0.018251006, -0.032885563, 0.020352183, 0.07969532, -0.0151793435, 0.043177128, 0.00089191314, 0.07879166, 0.030495765, 0.019309783, 0.0058695795, 0.047091175, 0.022085859, -0.014857345, -0.06202555, 0.0039620334, -0.00014607058, 0.05151337, -0.10628875, 0.011307831, 0.025112031, 0.024592487, -0.020556321, 0.030067666, 0.046208147, -0.0040335446, 0.083263196, -0.04484506, -0.06627163, 0.07859292, 0.0044600093, -0.007475696, 0.01670452, 0.09404955, 0.0065918807, 0.04587974, 0.009176627, -0.032032236, -0.013557733, 0.017349208, 0.01402727, -0.060922213, -0.12536305, 0.06155578, -0.041403048, 0.011807808, 0.06615288, 0.039328348, -0.09199647, -0.012560112, 0.0813064, 0.008374526, 0.038339343, 0.02620471, 0.030698868, -0.012845542, -0.03284595, 0.017397922, -0.05241009, -0.016251963, 0.00430203, 0.029321222, 0.0697277, -0.011027186, -0.044097956, -0.10395023, -0.018087346, 0.01645306, 0.06012708, -0.14226824, 0.020983089, 0.040946644, 0.09410166, 0.037580088, -0.027501397, 0.051011812, 0.022191172, -0.018213628, 0.025539376, -0.0068234014, -0.0066775046, -0.01734527, -0.0016644753, -0.040558197, -0.031372383, 0.112180695, 0.004747508, 0.07653295, 0.06086299, -0.10650164, -0.06297418, -0.06756565, 0.13340971, ...]  "
      ]
     },
     "execution_count": 52,
     "metadata": {},
     "output_type": "execute_result"
    }
   ],
   "source": [
    "chosen_threat = threat_data_for_RAG[threat_data_for_RAG['Threat ID'] == id_for_query]\n",
    "chosen_threat"
   ]
  },
  {
   "cell_type": "code",
   "execution_count": 31,
   "id": "7b034f84",
   "metadata": {},
   "outputs": [],
   "source": [
    "query = chosen_threat['summary_th_df'].tolist()[0]\n",
    "query_embedding = chosen_threat['embedding'].tolist()[0]\n"
   ]
  },
  {
   "cell_type": "code",
   "execution_count": 32,
   "id": "5d321731",
   "metadata": {},
   "outputs": [],
   "source": [
    "results = collection.query(\n",
    "    query_embeddings=[query_embedding],\n",
    "    n_results=5,\n",
    ")"
   ]
  },
  {
   "cell_type": "code",
   "execution_count": 33,
   "id": "d419775d",
   "metadata": {},
   "outputs": [
    {
     "name": "stdout",
     "output_type": "stream",
     "text": [
      "Text: A CAPEC with the title Navigation Remapping To Propagate Malicious Content. The description of this CAPEC is: An adversary manipulates either egress or ingress data from a client within an application framework in order to change the content of messages and thereby circumvent the expected application logic.. The Domains of this are: Communications, Software\n",
      "Metadata: {'CAPEC ID': 'CAPEC-387'}\n",
      "----------------------------------------\n",
      "Text: A CAPEC with the title Choosing Message Identifier. The description of this CAPEC is: This pattern of attack is defined by the selection of messages distributed via multicast or public information channels that are intended for another client by determining the parameter value assigned to that client. This attack allows the adversary to gain access to potentially privileged information, and to possibly perpetrate other attacks through the distribution means by impersonation. If the channel/message being manipulated is an input rather than output mechanism for the system, (such as a command bus), this style of attack could be used to change the adversary's identifier to more a privileged one.. The Domain of this is: Communications\n",
      "Metadata: {'CAPEC ID': 'CAPEC-12'}\n",
      "----------------------------------------\n",
      "Text: A CAPEC with the title Application API Button Hijacking. The description of this CAPEC is: An attacker manipulates either egress or ingress data from a client within an application framework in order to change the destination and/or content of buttons displayed to a user within API messages. Performing this attack allows the attacker to manipulate content in such a way as to produce messages or content that looks authentic but contains buttons that point to an attacker controlled destination.. The Domains of this are: Communications, Software\n",
      "Metadata: {'CAPEC ID': 'CAPEC-388'}\n",
      "----------------------------------------\n",
      "Text: A CAPEC with the title Adversary in the Middle (AiTM). The description of this CAPEC is: \n",
      "            <xhtml:p>An adversary targets the communication between two components (typically client and server), in order to alter or obtain data from transactions. A general approach entails the adversary placing themself within the communication channel between the two components.</xhtml:p>\n",
      "         . The Domains of this are: Communications, Software\n",
      "Metadata: {'CAPEC ID': 'CAPEC-94'}\n",
      "----------------------------------------\n",
      "Text: A CAPEC with the title Protocol Manipulation. The description of this CAPEC is: An adversary subverts a communications protocol to perform an attack. This type of attack can allow an adversary to impersonate others, discover sensitive information, control the outcome of a session, or perform other attacks. This type of attack targets invalid assumptions that may be inherent in implementers of the protocol, incorrect implementations of the protocol, or vulnerabilities in the protocol itself.. The Domains of this are: Communications, Software\n",
      "Metadata: {'CAPEC ID': 'CAPEC-272'}\n",
      "----------------------------------------\n"
     ]
    }
   ],
   "source": [
    "for doc, meta in zip(results['documents'][0], results['metadatas'][0]):\n",
    "    print(\"Text:\", doc)\n",
    "    print(\"Metadata:\", meta)\n",
    "    print(\"-\" * 40)"
   ]
  },
  {
   "cell_type": "code",
   "execution_count": 36,
   "id": "50c9c83b",
   "metadata": {},
   "outputs": [
    {
     "name": "stdout",
     "output_type": "stream",
     "text": [
      "CAPEC Information for CAPEC ID CAPEC-387 : A CAPEC with the title Navigation Remapping To Propagate Malicious Content. The description of this CAPEC is: An adversary manipulates either egress or ingress data from a client within an application framework in order to change the content of messages and thereby circumvent the expected application logic.. The Domains of this are: Communications, Software\n",
      "----------------------------------------\n",
      "CAPEC Information for CAPEC ID CAPEC-12 : A CAPEC with the title Choosing Message Identifier. The description of this CAPEC is: This pattern of attack is defined by the selection of messages distributed via multicast or public information channels that are intended for another client by determining the parameter value assigned to that client. This attack allows the adversary to gain access to potentially privileged information, and to possibly perpetrate other attacks through the distribution means by impersonation. If the channel/message being manipulated is an input rather than output mechanism for the system, (such as a command bus), this style of attack could be used to change the adversary's identifier to more a privileged one.. The Domain of this is: Communications\n",
      "----------------------------------------\n",
      "CAPEC Information for CAPEC ID CAPEC-388 : A CAPEC with the title Application API Button Hijacking. The description of this CAPEC is: An attacker manipulates either egress or ingress data from a client within an application framework in order to change the destination and/or content of buttons displayed to a user within API messages. Performing this attack allows the attacker to manipulate content in such a way as to produce messages or content that looks authentic but contains buttons that point to an attacker controlled destination.. The Domains of this are: Communications, Software\n",
      "----------------------------------------\n",
      "CAPEC Information for CAPEC ID CAPEC-94 : A CAPEC with the title Adversary in the Middle (AiTM). The description of this CAPEC is: \n",
      "            <xhtml:p>An adversary targets the communication between two components (typically client and server), in order to alter or obtain data from transactions. A general approach entails the adversary placing themself within the communication channel between the two components.</xhtml:p>\n",
      "         . The Domains of this are: Communications, Software\n",
      "----------------------------------------\n",
      "CAPEC Information for CAPEC ID CAPEC-272 : A CAPEC with the title Protocol Manipulation. The description of this CAPEC is: An adversary subverts a communications protocol to perform an attack. This type of attack can allow an adversary to impersonate others, discover sensitive information, control the outcome of a session, or perform other attacks. This type of attack targets invalid assumptions that may be inherent in implementers of the protocol, incorrect implementations of the protocol, or vulnerabilities in the protocol itself.. The Domains of this are: Communications, Software\n",
      "----------------------------------------\n"
     ]
    }
   ],
   "source": [
    "for doc, meta in zip(results['documents'][0], results['metadatas'][0]):\n",
    "    print(\"CAPEC Information for CAPEC ID\", meta['CAPEC ID'], \":\", doc)\n",
    "    print(\"-\" * 40)"
   ]
  },
  {
   "cell_type": "code",
   "execution_count": 98,
   "id": "8596bcbf",
   "metadata": {},
   "outputs": [
    {
     "data": {
      "text/html": [
       "<div>\n",
       "<style scoped>\n",
       "    .dataframe tbody tr th:only-of-type {\n",
       "        vertical-align: middle;\n",
       "    }\n",
       "\n",
       "    .dataframe tbody tr th {\n",
       "        vertical-align: top;\n",
       "    }\n",
       "\n",
       "    .dataframe thead th {\n",
       "        text-align: right;\n",
       "    }\n",
       "</style>\n",
       "<table border=\"1\" class=\"dataframe\">\n",
       "  <thead>\n",
       "    <tr style=\"text-align: right;\">\n",
       "      <th></th>\n",
       "      <th>Name</th>\n",
       "      <th>Domain</th>\n",
       "      <th>Description</th>\n",
       "      <th>CAPEC ID</th>\n",
       "      <th>Similarity</th>\n",
       "      <th>summary_th_df</th>\n",
       "      <th>summary_ca_df</th>\n",
       "    </tr>\n",
       "  </thead>\n",
       "  <tbody>\n",
       "    <tr>\n",
       "      <th>42</th>\n",
       "      <td>T-A1-02</td>\n",
       "      <td>enterprise-attack</td>\n",
       "      <td>Malicious function or application monitors messaging across A1 interface</td>\n",
       "      <td>CAPEC-94</td>\n",
       "      <td>0.569238</td>\n",
       "      <td>A Threat with the title Malicious function or application monitors messaging across A1 interface and the description Internal threat actor can gain access to the messaging across the A1 interface for a MiTM attack to read policy.</td>\n",
       "      <td>A CAPEC with the title Adversary in the Middle (AiTM). The description of this CAPEC is: \\n            &lt;xhtml:p&gt;An adversary targets the communication between two components (typically client and server), in order to alter or obtain data from transactions. A general approach entails the adversary placing themself within the communication channel between the two components.&lt;/xhtml:p&gt;\\n         . The Domains of this are: Communications, Software</td>\n",
       "    </tr>\n",
       "    <tr>\n",
       "      <th>53</th>\n",
       "      <td>T-A1-02</td>\n",
       "      <td>enterprise-attack</td>\n",
       "      <td>Malicious function or application monitors messaging across A1 interface</td>\n",
       "      <td>CAPEC-387</td>\n",
       "      <td>0.606208</td>\n",
       "      <td>A Threat with the title Malicious function or application monitors messaging across A1 interface and the description Internal threat actor can gain access to the messaging across the A1 interface for a MiTM attack to read policy.</td>\n",
       "      <td>A CAPEC with the title Navigation Remapping To Propagate Malicious Content. The description of this CAPEC is: An adversary manipulates either egress or ingress data from a client within an application framework in order to change the content of messages and thereby circumvent the expected application logic.. The Domains of this are: Communications, Software</td>\n",
       "    </tr>\n",
       "    <tr>\n",
       "      <th>113</th>\n",
       "      <td>T-A1-02</td>\n",
       "      <td>enterprise-attack</td>\n",
       "      <td>Malicious function or application monitors messaging across A1 interface</td>\n",
       "      <td>CAPEC-388</td>\n",
       "      <td>0.577323</td>\n",
       "      <td>A Threat with the title Malicious function or application monitors messaging across A1 interface and the description Internal threat actor can gain access to the messaging across the A1 interface for a MiTM attack to read policy.</td>\n",
       "      <td>A CAPEC with the title Application API Button Hijacking. The description of this CAPEC is: An attacker manipulates either egress or ingress data from a client within an application framework in order to change the destination and/or content of buttons displayed to a user within API messages. Performing this attack allows the attacker to manipulate content in such a way as to produce messages or content that looks authentic but contains buttons that point to an attacker controlled destination.. The Domains of this are: Communications, Software</td>\n",
       "    </tr>\n",
       "    <tr>\n",
       "      <th>154</th>\n",
       "      <td>T-A1-02</td>\n",
       "      <td>enterprise-attack</td>\n",
       "      <td>Malicious function or application monitors messaging across A1 interface</td>\n",
       "      <td>CAPEC-12</td>\n",
       "      <td>0.592353</td>\n",
       "      <td>A Threat with the title Malicious function or application monitors messaging across A1 interface and the description Internal threat actor can gain access to the messaging across the A1 interface for a MiTM attack to read policy.</td>\n",
       "      <td>A CAPEC with the title Choosing Message Identifier. The description of this CAPEC is: This pattern of attack is defined by the selection of messages distributed via multicast or public information channels that are intended for another client by determining the parameter value assigned to that client. This attack allows the adversary to gain access to potentially privileged information, and to possibly perpetrate other attacks through the distribution means by impersonation. If the channel/message being manipulated is an input rather than output mechanism for the system, (such as a command bus), this style of attack could be used to change the adversary's identifier to more a privileged one.. The Domain of this is: Communications</td>\n",
       "    </tr>\n",
       "  </tbody>\n",
       "</table>\n",
       "</div>"
      ],
      "text/plain": [
       "        Name             Domain  \\\n",
       "42   T-A1-02  enterprise-attack   \n",
       "53   T-A1-02  enterprise-attack   \n",
       "113  T-A1-02  enterprise-attack   \n",
       "154  T-A1-02  enterprise-attack   \n",
       "\n",
       "                                                                  Description  \\\n",
       "42   Malicious function or application monitors messaging across A1 interface   \n",
       "53   Malicious function or application monitors messaging across A1 interface   \n",
       "113  Malicious function or application monitors messaging across A1 interface   \n",
       "154  Malicious function or application monitors messaging across A1 interface   \n",
       "\n",
       "      CAPEC ID  Similarity  \\\n",
       "42    CAPEC-94    0.569238   \n",
       "53   CAPEC-387    0.606208   \n",
       "113  CAPEC-388    0.577323   \n",
       "154   CAPEC-12    0.592353   \n",
       "\n",
       "                                                                                                                                                                                                                             summary_th_df  \\\n",
       "42   A Threat with the title Malicious function or application monitors messaging across A1 interface and the description Internal threat actor can gain access to the messaging across the A1 interface for a MiTM attack to read policy.   \n",
       "53   A Threat with the title Malicious function or application monitors messaging across A1 interface and the description Internal threat actor can gain access to the messaging across the A1 interface for a MiTM attack to read policy.   \n",
       "113  A Threat with the title Malicious function or application monitors messaging across A1 interface and the description Internal threat actor can gain access to the messaging across the A1 interface for a MiTM attack to read policy.   \n",
       "154  A Threat with the title Malicious function or application monitors messaging across A1 interface and the description Internal threat actor can gain access to the messaging across the A1 interface for a MiTM attack to read policy.   \n",
       "\n",
       "                                                                                                                                                                                                                                                                                                                                                                                                                                                                                                                                                                                                                                                                                                                                                           summary_ca_df  \n",
       "42                                                                                                                                                                                                                                                                                                       A CAPEC with the title Adversary in the Middle (AiTM). The description of this CAPEC is: \\n            <xhtml:p>An adversary targets the communication between two components (typically client and server), in order to alter or obtain data from transactions. A general approach entails the adversary placing themself within the communication channel between the two components.</xhtml:p>\\n         . The Domains of this are: Communications, Software  \n",
       "53                                                                                                                                                                                                                                                                                                                                                                                               A CAPEC with the title Navigation Remapping To Propagate Malicious Content. The description of this CAPEC is: An adversary manipulates either egress or ingress data from a client within an application framework in order to change the content of messages and thereby circumvent the expected application logic.. The Domains of this are: Communications, Software  \n",
       "113                                                                                                                                                                                                 A CAPEC with the title Application API Button Hijacking. The description of this CAPEC is: An attacker manipulates either egress or ingress data from a client within an application framework in order to change the destination and/or content of buttons displayed to a user within API messages. Performing this attack allows the attacker to manipulate content in such a way as to produce messages or content that looks authentic but contains buttons that point to an attacker controlled destination.. The Domains of this are: Communications, Software  \n",
       "154  A CAPEC with the title Choosing Message Identifier. The description of this CAPEC is: This pattern of attack is defined by the selection of messages distributed via multicast or public information channels that are intended for another client by determining the parameter value assigned to that client. This attack allows the adversary to gain access to potentially privileged information, and to possibly perpetrate other attacks through the distribution means by impersonation. If the channel/message being manipulated is an input rather than output mechanism for the system, (such as a command bus), this style of attack could be used to change the adversary's identifier to more a privileged one.. The Domain of this is: Communications  "
      ]
     },
     "execution_count": 98,
     "metadata": {},
     "output_type": "execute_result"
    }
   ],
   "source": [
    "our_mappings[our_mappings['Name'] == id_for_query]"
   ]
  },
  {
   "cell_type": "markdown",
   "id": "e761d080",
   "metadata": {},
   "source": [
    "## Preparation for Fine Tuning with LoRA"
   ]
  },
  {
   "cell_type": "code",
   "execution_count": null,
   "id": "9a5e35af",
   "metadata": {},
   "outputs": [
    {
     "name": "stdout",
     "output_type": "stream",
     "text": [
      "Original data size: 163\n",
      "Training data size: 130\n",
      "Test data size: 33\n"
     ]
    }
   ],
   "source": [
    "#from sklearn.model_selection import train_test_split\n",
    "#\n",
    "## Assuming 'our_mappings' is your original pandas DataFrame\n",
    "#\n",
    "## 1. Split the DataFrame into 80% for training and 20% for testing\n",
    "#train_df, test_df = train_test_split(\n",
    "#    our_mappings,\n",
    "#    test_size=0.2,      # 20% of the data will be used for the test set\n",
    "#    random_state=42     # Ensures the split is the same every time you run the code\n",
    "#)\n",
    "#\n",
    "## 2. Build the training_data list ONLY from the training portion (train_df)\n",
    "#training_data = []\n",
    "#for _, row in train_df.iterrows():\n",
    "#    prompt = f\"Threat Summary: {row['summary_th_df']}\"\n",
    "#    # Note: The comma at the end of the next line creates a tuple.\n",
    "#    # You might want to remove it to get just the string.\n",
    "#    completion = f\"{row['summary_ca_df']}\" # Removed trailing comma\n",
    "#    capec_id = row['CAPEC ID']\n",
    "#    training_data.append({\"threat\": prompt, \"mapped_capec\": completion, \"capec_id\": capec_id})\n",
    "#\n",
    "## Now 'training_data' is built from the 80% split,\n",
    "## and 'test_df' holds the remaining 20% for evaluation.\n",
    "#print(f\"Original data size: {len(our_mappings)}\")\n",
    "#print(f\"Training data size: {len(train_df)}\")\n",
    "#print(f\"Test data size: {len(test_df)}\")"
   ]
  },
  {
   "cell_type": "code",
   "execution_count": 6,
   "id": "f1d81c60",
   "metadata": {},
   "outputs": [
    {
     "name": "stdout",
     "output_type": "stream",
     "text": [
      "Saved 130 training examples to 'mapped_data/lora_training_data.jsonl'\n"
     ]
    }
   ],
   "source": [
    "# Save to JSONL format in the desired directory\n",
    "output_path = \"mapped_data/lora_training_data.jsonl\"\n",
    "with open(output_path, \"w\", encoding=\"utf-8\") as f:\n",
    "    for entry in training_data:\n",
    "        f.write(json.dumps(entry) + \"\\n\")\n",
    "\n",
    "print(f\"Saved {len(training_data)} training examples to '{output_path}'\")"
   ]
  },
  {
   "cell_type": "code",
   "execution_count": 7,
   "id": "73c0aea2",
   "metadata": {},
   "outputs": [],
   "source": [
    "# loading the training data from the JSONL file\n",
    "output_path = \"mapped_data/lora_training_data.jsonl\"\n",
    "with open(output_path, \"r\", encoding=\"utf-8\") as f:\n",
    "    training_data = [json.loads(line) for line in f]"
   ]
  },
  {
   "cell_type": "code",
   "execution_count": 125,
   "id": "311c8777",
   "metadata": {},
   "outputs": [
    {
     "ename": "NameError",
     "evalue": "name 'training_data' is not defined",
     "output_type": "error",
     "traceback": [
      "\u001b[31m---------------------------------------------------------------------------\u001b[39m",
      "\u001b[31mNameError\u001b[39m                                 Traceback (most recent call last)",
      "\u001b[36mCell\u001b[39m\u001b[36m \u001b[39m\u001b[32mIn[125]\u001b[39m\u001b[32m, line 1\u001b[39m\n\u001b[32m----> \u001b[39m\u001b[32m1\u001b[39m \u001b[43mtraining_data\u001b[49m[\u001b[32m0\u001b[39m]\n",
      "\u001b[31mNameError\u001b[39m: name 'training_data' is not defined"
     ]
    }
   ],
   "source": [
    "training_data[0]"
   ]
  },
  {
   "cell_type": "markdown",
   "id": "ae2613cc",
   "metadata": {},
   "source": [
    "# Modeling"
   ]
  },
  {
   "cell_type": "markdown",
   "id": "7f2a4375",
   "metadata": {},
   "source": [
    "## Prompt Engineering"
   ]
  },
  {
   "cell_type": "code",
   "execution_count": 7,
   "id": "8a5ffd96",
   "metadata": {},
   "outputs": [],
   "source": [
    "threat_data_for_PE = pd.read_pickle('threat_data/threat_data_for_PE.pk1')"
   ]
  },
  {
   "cell_type": "code",
   "execution_count": 20,
   "id": "35322bef",
   "metadata": {},
   "outputs": [
    {
     "data": {
      "text/html": [
       "<div>\n",
       "<style scoped>\n",
       "    .dataframe tbody tr th:only-of-type {\n",
       "        vertical-align: middle;\n",
       "    }\n",
       "\n",
       "    .dataframe tbody tr th {\n",
       "        vertical-align: top;\n",
       "    }\n",
       "\n",
       "    .dataframe thead th {\n",
       "        text-align: right;\n",
       "    }\n",
       "</style>\n",
       "<table border=\"1\" class=\"dataframe\">\n",
       "  <thead>\n",
       "    <tr style=\"text-align: right;\">\n",
       "      <th></th>\n",
       "      <th>Threat ID</th>\n",
       "      <th>summary_th_df</th>\n",
       "    </tr>\n",
       "  </thead>\n",
       "  <tbody>\n",
       "    <tr>\n",
       "      <th>82</th>\n",
       "      <td>T-A1-02</td>\n",
       "      <td>A Threat with the title Malicious function or application monitors messaging across A1 interface and the description Internal threat actor can gain access to the messaging across the A1 interface for a MiTM attack to read policy.</td>\n",
       "    </tr>\n",
       "  </tbody>\n",
       "</table>\n",
       "</div>"
      ],
      "text/plain": [
       "   Threat ID  \\\n",
       "82   T-A1-02   \n",
       "\n",
       "                                                                                                                                                                                                                            summary_th_df  \n",
       "82  A Threat with the title Malicious function or application monitors messaging across A1 interface and the description Internal threat actor can gain access to the messaging across the A1 interface for a MiTM attack to read policy.  "
      ]
     },
     "execution_count": 20,
     "metadata": {},
     "output_type": "execute_result"
    }
   ],
   "source": [
    "# selecting a thest threat\n",
    "df = threat_data_for_PE[threat_data_for_PE['Threat ID'] == \"T-A1-02\"]\n",
    "df"
   ]
  },
  {
   "cell_type": "code",
   "execution_count": 128,
   "id": "87342b02",
   "metadata": {},
   "outputs": [
    {
     "data": {
      "text/plain": [
       "Threat ID                                                                                                                                                                                                                                      T-A1-02\n",
       "summary_th_df    A Threat with the title Malicious function or application monitors messaging across A1 interface and the description Internal threat actor can gain access to the messaging across the A1 interface for a MiTM attack to read policy.\n",
       "Name: 82, dtype: object"
      ]
     },
     "execution_count": 128,
     "metadata": {},
     "output_type": "execute_result"
    }
   ],
   "source": [
    "row = df.iloc[0]\n",
    "row"
   ]
  },
  {
   "cell_type": "markdown",
   "id": "0f6ec422",
   "metadata": {},
   "source": [
    "### Small and Medium Setup code (LOCAL)"
   ]
  },
  {
   "cell_type": "code",
   "execution_count": 5,
   "id": "74932723",
   "metadata": {},
   "outputs": [],
   "source": [
    "small_models = []"
   ]
  },
  {
   "cell_type": "markdown",
   "id": "f218835b",
   "metadata": {},
   "source": [
    "Small"
   ]
  },
  {
   "cell_type": "code",
   "execution_count": 6,
   "id": "30e066de",
   "metadata": {},
   "outputs": [],
   "source": [
    "# model options for small setup\n",
    "small_models.append('deepseek-r1:1.5b')\n",
    "#model = 'qwen3:1.7b'"
   ]
  },
  {
   "cell_type": "markdown",
   "id": "78470747",
   "metadata": {},
   "source": [
    "Medium\n",
    "the bigger models in the following cell, only run on the medium setup in a reasonable time\n",
    "Uncomment a model and run the cell for choosing the model "
   ]
  },
  {
   "cell_type": "code",
   "execution_count": 131,
   "id": "e8a78c3a",
   "metadata": {},
   "outputs": [],
   "source": [
    "medium_models = []"
   ]
  },
  {
   "cell_type": "code",
   "execution_count": 133,
   "id": "8dda1a6b",
   "metadata": {},
   "outputs": [],
   "source": [
    "# model options for medium setup\n",
    "#medium_models.append('deepseek-r1:32b')\n",
    "medium_models.append('deepseek-r1:8b')\n",
    "#medium_models.append('deepseek-r1:70b-llama-distill-q4_K_M')"
   ]
  },
  {
   "cell_type": "code",
   "execution_count": null,
   "id": "419c7704",
   "metadata": {},
   "outputs": [],
   "source": [
    "# def model_inference_ollama(models, df, prompt_function):\n",
    "#     model_outputs = {m: [] for m in models}\n",
    "\n",
    "#     #format_schema = {\n",
    "#     #    \"type\": \"object\",\n",
    "#     #    \"properties\": {\n",
    "#     #        \"final_ids\": {\n",
    "#     #            \"type\": \"array\",\n",
    "#     #            \"items\": {\n",
    "#     #                \"type\": \"string\",\n",
    "#     #                \"pattern\": \"^CAPEC-[0-9]+$\"\n",
    "#     #            },\n",
    "#     #            \"minItems\": 1,\n",
    "#     #            \"uniqueItems\": True\n",
    "#     #        }\n",
    "#     #    },\n",
    "#     #    \"required\": [\"final_ids\"]\n",
    "#     #}\n",
    "\n",
    "#     for model in models:\n",
    "#         try:\n",
    "#             response = ollama.generate(\n",
    "#                 model=model,\n",
    "#                 format=format_schema,\n",
    "#                 prompt=prompt_function(df),\n",
    "#                 options={'seed': 42, 'temperature': 0},\n",
    "#                 think = True\n",
    "#             )\n",
    "#             # print(prompt_function(df))\n",
    "#         except Exception as e:\n",
    "#             response = f\"[ERROR] {e}\"\n",
    "#         model_outputs[model].append(response)\n",
    "\n",
    "#     return model_outputs\n"
   ]
  },
  {
   "cell_type": "code",
   "execution_count": 8,
   "id": "3e99318c",
   "metadata": {},
   "outputs": [],
   "source": [
    "def model_inference_ollama(models, df, prompt_function):\n",
    "    model_outputs = {m: [] for m in models}\n",
    "    for model in models:\n",
    "        try:\n",
    "            print(prompt_function(df))\n",
    "            response = ollama.generate(\n",
    "                model=model,\n",
    "                prompt=prompt_function(df),\n",
    "                options={'seed': 42, 'temperature': 0, 'num_ctx': 8192, 'num_predict': 3000, 'top_k': 1, 'num_keep':0 }\n",
    "            )\n",
    "            \n",
    "        except Exception as e:\n",
    "            response = f\"[ERROR] {e}\"\n",
    "        model_outputs[model].append(response)\n",
    "        #print(response)\n",
    "    return model_outputs\n"
   ]
  },
  {
   "cell_type": "code",
   "execution_count": 41,
   "id": "33450e26",
   "metadata": {},
   "outputs": [],
   "source": [
    "def display_model_results_ollama(models, model_outputs):\n",
    "    for model in models:\n",
    "        print(\"=\" * 40)\n",
    "        print(f\"Model: {model}\")\n",
    "\n",
    "        # --- Speed & Runtime first ---\n",
    "        if not model_outputs[model]:\n",
    "            print(\"No outputs for this model.\\n\")\n",
    "            continue\n",
    "        \n",
    "        resp = model_outputs[model][0]  # assumes object with eval_count and eval_duration\n",
    "        tokens_per_second = resp.eval_count / (resp.eval_duration / 1e9)\n",
    "        print(f\"Speed: {tokens_per_second:.2f} tokens/second\")\n",
    "\n",
    "        duration_s = resp.eval_duration / 1e9\n",
    "        minutes = int(duration_s // 60)\n",
    "        seconds = duration_s % 60\n",
    "        print(f\"Total runtime: {minutes:02d} m {seconds:05.2f} seconds\\n\")\n",
    "\n",
    "        # --- Then all outputs ---\n",
    "        print(\"Output:\")\n",
    "        for resp in model_outputs[model]:\n",
    "            cleaned_text = re.sub(\n",
    "                r\"<think>.*?</think>\\s*\", \n",
    "                \"\", \n",
    "                resp['response'], \n",
    "                flags=re.DOTALL\n",
    "            )\n",
    "            display(Markdown(cleaned_text))"
   ]
  },
  {
   "cell_type": "markdown",
   "id": "5360b832",
   "metadata": {},
   "source": [
    "Mappings of ORCA for comparison:"
   ]
  },
  {
   "attachments": {
    "image.png": {
     "image/png": "[encoded data removed]"
    }
   },
   "cell_type": "markdown",
   "id": "92467ce2",
   "metadata": {},
   "source": [
    "![image.png](attachment:image.png)"
   ]
  },
  {
   "cell_type": "markdown",
   "id": "fe2c8751",
   "metadata": {},
   "source": [
    "### Large Setup code (GEMINI API)"
   ]
  },
  {
   "cell_type": "markdown",
   "id": "78e43f71",
   "metadata": {},
   "source": [
    "Connecting to the Google Generative AI API to try larger models\n",
    "The context window is large, so it can handle the necessary amount of data"
   ]
  },
  {
   "cell_type": "code",
   "execution_count": 116,
   "id": "e58ea7b5",
   "metadata": {},
   "outputs": [],
   "source": [
    "large_setup_models = [\"gemini-2.5-pro\", \"gemini-2.5-flash\", \"gemini-2.5-flash-lite-preview-06-17\"]\n",
    "#models = [\"gemini-2.5-flash-lite-preview-06-17\"]"
   ]
  },
  {
   "cell_type": "code",
   "execution_count": 6,
   "id": "7d2bfcfa",
   "metadata": {},
   "outputs": [],
   "source": [
    "def model_inference_gemini(models, df, prompt_function):\n",
    "    # Initialize config and client\n",
    "    config = types.GenerateContentConfig(\n",
    "    temperature=0,\n",
    "    seed=42,\n",
    "    #max_output_tokens=3000,\n",
    "    top_k=1,\n",
    "    thinking_config=types.ThinkingConfig(include_thoughts = True, thinkingBudget=5000)\n",
    "    )\n",
    "\n",
    "    client = genai.Client()\n",
    "    model_outputs = {m: [] for m in models}\n",
    "    \n",
    "    for model in models:\n",
    "        try:\n",
    "            print(prompt_function(df))\n",
    "            response = client.models.generate_content(\n",
    "                model=model,\n",
    "                contents=prompt_function(df),\n",
    "                config=config\n",
    "            )\n",
    "            model_outputs[model].append(response)\n",
    "            \n",
    "        except Exception as e:\n",
    "            response = f\"[ERROR] {e}\"\n",
    "            model_outputs[model].append( response)\n",
    "\n",
    "    return model_outputs\n"
   ]
  },
  {
   "cell_type": "code",
   "execution_count": 22,
   "id": "6cc22bdf",
   "metadata": {},
   "outputs": [],
   "source": [
    "df = None"
   ]
  },
  {
   "cell_type": "code",
   "execution_count": 23,
   "id": "ce4ec49b",
   "metadata": {},
   "outputs": [],
   "source": [
    "def test_prompt_function(df):\n",
    "    return f\"\"\"\n",
    "    What is the meaning of life?\"\"\""
   ]
  },
  {
   "cell_type": "code",
   "execution_count": 29,
   "id": "50a379bd",
   "metadata": {},
   "outputs": [
    {
     "name": "stdout",
     "output_type": "stream",
     "text": [
      "\n",
      "    What is the meaning of life?\n",
      "The meaning of life is a question that has been pondered by philosophers, theologians, scientists, and individuals for centuries. There is no single, universally accepted answer, and the meaning of life can be interpreted in many different ways.\n",
      "\n",
      "Here are some common perspectives on the meaning of life:\n",
      "\n",
      "**Philosophical Perspectives:**\n",
      "\n",
      "*   **Nihilism:** The belief that life is without objective meaning, purpose, or intrinsic value.\n",
      "*   **Existentialism:** The belief that individuals create their own meaning through their choices and actions. There is no preordained purpose; we are free to define ourselves.\n",
      "*   **Absurdism:** Acknowledges the conflict between humanity's inherent search for meaning and the universe's apparent lack of it. The meaning is found in embracing this absurdity and rebelling against it.\n",
      "*   **Hedonism:** The pursuit of pleasure and happiness as the primary goal of life.\n",
      "*   **Stoicism:** The belief that virtue, reason, and living in accordance with nature are the keys to a good and meaningful life, even in the face of adversity.\n",
      "*   **Eudaimonism (Aristotle):** The idea that the meaning of life is to achieve \"eudaimonia,\" often translated as flourishing, living well, or a life of virtue and excellence.\n",
      "\n",
      "**Religious and Spiritual Perspectives:**\n",
      "\n",
      "*   **Theistic Religions (Christianity, Islam, Judaism, etc.):** Often believe that the meaning of life is to serve God, follow divine commandments, achieve salvation, and live according to religious teachings.\n",
      "*   **Buddhism:** Focuses on achieving enlightenment, ending suffering, and understanding the nature of reality through practices like meditation and mindfulness.\n",
      "*   **Hinduism:** Emphasizes dharma (duty), karma (action and consequence), moksha (liberation from the cycle of rebirth), and the pursuit of spiritual knowledge.\n",
      "\n",
      "**Scientific and Biological Perspectives:**\n",
      "\n",
      "*   **Evolutionary Biology:** From a purely biological standpoint, the \"purpose\" of life could be seen as survival and reproduction, passing on genes to the next generation. However, this doesn't necessarily address subjective meaning.\n",
      "*   **Neuroscience and Psychology:** These fields explore how our brains and experiences shape our perception of meaning, often linking it to connection, purpose, growth, and contribution.\n",
      "\n",
      "**Personal and Subjective Perspectives:**\n",
      "\n",
      "Ultimately, for many, the meaning of life is something they **create and discover for themselves**. This can involve:\n",
      "\n",
      "*   **Relationships:** Love, family, friendship, and connection with others.\n",
      "*   **Contribution:** Making a positive impact on the world, helping others, or leaving a legacy.\n",
      "*   **Growth and Learning:** Continuously developing oneself, acquiring knowledge, and experiencing new things.\n",
      "*   **Creativity and Expression:** Engaging in art, music, writing, or any form of self-expression.\n",
      "*   **Experiencing Beauty and Wonder:** Appreciating nature, art, and the simple joys of existence.\n",
      "*   **Pursuing Passions:** Dedicating oneself to activities that bring joy and fulfillment.\n",
      "*   **Overcoming Challenges:** Finding strength and meaning in adversity.\n",
      "\n",
      "**In conclusion, the meaning of life is not a fixed destination but a journey of exploration and creation.** It's a question that invites introspection and personal discovery. What gives your life meaning might be different from what gives someone else's life meaning, and that's perfectly okay.\n",
      "\n",
      "Instead of seeking a definitive answer, perhaps the more fruitful approach is to ask: **\"What gives *my* life meaning?\"**\n"
     ]
    }
   ],
   "source": [
    "answer = model_inference_gemini([\"gemini-2.5-flash-lite-preview-06-17\"], df, test_prompt_function)\n",
    "print(answer['gemini-2.5-flash-lite-preview-06-17'][0].candidates[0].content.parts[0].text)    \n"
   ]
  },
  {
   "cell_type": "code",
   "execution_count": 139,
   "id": "df6f45f3",
   "metadata": {},
   "outputs": [],
   "source": [
    "def display_model_result_gemini(models, model_outputs, model_stats):\n",
    "    for model in models:\n",
    "        print(\"=\" * 40)\n",
    "        print(f\"Model: {model}\")\n",
    "        \n",
    "        # Ensure stats exist\n",
    "        stat = model_stats.get(model)\n",
    "        if stat and stat[\"runtime\"] is not None:\n",
    "            print(f\"Speed: {stat['tokens_per_second']:.2f} tokens/second\")\n",
    "            minutes = int(stat[\"runtime\"] // 60)\n",
    "            seconds = stat[\"runtime\"] % 60\n",
    "            print(f\"Total runtime: {minutes:02d} m {seconds:05.2f} seconds\\n\")\n",
    "        else:\n",
    "            print(\"Speed: N/A\\nTotal runtime: N/A\\nTokens: N/A\\n\")\n",
    "\n",
    "        print(\"Output:\")\n",
    "        if model in model_outputs:\n",
    "            # If multiple outputs exist for this model, iterate over them\n",
    "            outputs = model_outputs[model]\n",
    "            if isinstance(outputs, list):\n",
    "                for output in outputs:\n",
    "                    cleaned_text = re.sub(r\"<think>.*?</think>\\s*\", \"\", output, flags=re.DOTALL)\n",
    "                    display(Markdown(cleaned_text))\n",
    "            else:\n",
    "                cleaned_text = re.sub(r\"<think>.*?</think>\\s*\", \"\", outputs, flags=re.DOTALL)\n",
    "                display(Markdown(cleaned_text))\n",
    "        else:\n",
    "            print(\"No output available.\")"
   ]
  },
  {
   "cell_type": "markdown",
   "id": "80a86c5d",
   "metadata": {},
   "source": [
    "### Zero-Shot Prompt"
   ]
  },
  {
   "cell_type": "code",
   "execution_count": 7,
   "id": "8b02e78f",
   "metadata": {},
   "outputs": [],
   "source": [
    "def create_first_zero_shot_prompt(threat):\n",
    "    return f\"\"\"Given the following threat summary:\n",
    "    \n",
    "    \"{threat['summary_th_df'].values[0]}\"\n",
    "    \n",
    "    Provide the most relevant CAPEC IDs for this threat. As an output, provide a JSON array of CAPEC IDs that are most relevant to the threat described.\"\"\""
   ]
  },
  {
   "cell_type": "code",
   "execution_count": 25,
   "id": "8b706bfa",
   "metadata": {},
   "outputs": [],
   "source": [
    "def create_second_zero_shot_prompt(threat):\n",
    "    return f\"\"\"Given the following threat summary:\n",
    "    \n",
    "    \"{threat['summary_th_df'].values[0]}\"\n",
    "    \n",
    "    Provide the most relevant CAPEC IDs for this threat based on the description of each CAPEC. CAPEC stands for Common Attack Pattern Enumeration and Classification.\n",
    "    \n",
    "    As an output, provide a JSON array of CAPEC IDs that are most relevant to the threat described. Do not include any additional text or explanations, just the JSON array.\"\"\""
   ]
  },
  {
   "cell_type": "code",
   "execution_count": 7,
   "id": "ec2cdbdc",
   "metadata": {},
   "outputs": [],
   "source": [
    "def create_third_zero_shot_prompt(threat):\n",
    "    return f\"\"\"This task involves mapping a threat summary from the Open Radio Access Network (O-RAN) domain to relevant attack patterns.\n",
    "\n",
    "O-RAN represents a paradigm shift in Radio Access Network (RAN) design, moving from proprietary hardware to a more open, virtualized, and software-driven approach. It is used for mobile communication networks, particularly for 5G and future generations. Key principles of O-RAN include:\n",
    "- Open System: Characterized by standardized, open interfaces to foster a multi-vendor ecosystem.\n",
    "- Disaggregated RAN: Functionalities are distributed across different physical or virtual network functions.\n",
    "- Software-Driven Approach: Components are deployed on white-box appliances and accelerators.\n",
    "- Closed-Loop Control: Enabled by data-driven components deployed on RAN Intelligent Controllers (RICs).\n",
    "\n",
    "Now, based on the context above, analyze the following threat summary:\n",
    "\n",
    "\"{threat['summary_th_df'].values[0]}\"\n",
    "\n",
    "Provide the most relevant CAPEC IDs for this threat. CAPEC stands for Common Attack Pattern Enumeration and Classification.\n",
    "\n",
    "As an output, provide a JSON array of CAPEC IDs that are most relevant to the threat described. Do not include any additional text or explanations, just the JSON array.\"\"\""
   ]
  },
  {
   "cell_type": "code",
   "execution_count": 142,
   "id": "d3612491",
   "metadata": {},
   "outputs": [],
   "source": [
    "# Build a formatted string with all CAPEC IDs and their summaries\n",
    "capec_context = \"\"\n",
    "\n",
    "for _, row in capec_data_for_PE.iterrows():\n",
    "    capec_id = row['CAPEC ID']\n",
    "    capec_summary = row['summary']\n",
    "    capec_context += f\"{capec_id}: {capec_summary}\\n\"\n",
    "\n"
   ]
  },
  {
   "cell_type": "code",
   "execution_count": 143,
   "id": "edbdc05f",
   "metadata": {},
   "outputs": [],
   "source": [
    "def create_prompt_with_capec_list(threat, capec_context):\n",
    "    return f\"\"\"You are a cybersecurity expert.\n",
    "\n",
    "Here is a list of CAPEC attack pattern summaries:\n",
    "{capec_context}\n",
    "\n",
    "Given the following threat description:\n",
    "\n",
    "\"{threat['summary_th_df'].iloc[0]}\"\n",
    "\n",
    "Which 3 CAPEC ID from the list above best match the threat based on their description? Respond only with the CAPEC ID and a brief justification.\"\"\"\n"
   ]
  },
  {
   "cell_type": "markdown",
   "id": "b3ec8007",
   "metadata": {},
   "source": [
    "Generating results"
   ]
  },
  {
   "cell_type": "code",
   "execution_count": 147,
   "id": "34989c0a",
   "metadata": {},
   "outputs": [
    {
     "name": "stderr",
     "output_type": "stream",
     "text": [
      "100%|██████████| 1/1 [01:02<00:00, 62.24s/it]"
     ]
    },
    {
     "name": "stdout",
     "output_type": "stream",
     "text": [
      "Inference for model deepseek-r1:1.5b completed for threat T-A1-02\n",
      "========================================\n",
      "Model: deepseek-r1:1.5b\n",
      "model='deepseek-r1:1.5b' created_at='2025-08-06T14:20:43.975160131Z' done=True done_reason='stop' total_duration=62101929870 load_duration=26447917001 prompt_eval_count=120 prompt_eval_duration=1359976586 eval_count=619 eval_duration=34292854634 response='<think>\\nOkay, so I need to figure out which CAPEC IDs apply to this threat summary. Let me start by understanding what each part means.\\n\\nThe threat is about a malicious function or application monitoring messaging across the A1 interface and being able to access it for a MiTM (multi-threat) attack to read policies. So, the main elements here are:\\n\\n1. Malicious function or application\\n2. Monitoring messaging across A1 interface\\n3. Access to messaging data\\n4. Potential threat through a multi-threat attack\\n\\nNow, CAPEC stands for Common Attack Pattern Enumeration and Classification. Each CAPEC ID has specific categories that define different types of threats. I remember that the main categories are:\\n\\n- **C** - Cybersecurity (e.g., access control)\\n- **M** - Misinformation/Spam/Malware\\n- **T** - Threats/Trojan attacks\\n- **A** - Attack vectors\\n\\nSo, let\\'s break down each part of the threat and see which CAPEC category it falls into.\\n\\n1. **Malicious function or application**: This is definitely related to cybersecurity because it involves malicious software that can cause harm.\\n2. **Monitoring messaging across A1 interface**: This suggests that the system is tracking or intercepting communications, which ties into access control mechanisms.\\n3. **Access to messaging data**: If an attacker can read policies from this data, they might be able to manipulate or spread information, which relates to misinformation or spam.\\n\\nNow, looking at each CAPEC category:\\n\\n- **C (Cybersecurity)**: This is relevant because the threat involves monitoring and accessing sensitive data. The malicious function could be using access control measures.\\n  \\n- **M (Misinformation/Spam/Malware)**: While the threat involves access to data, it\\'s more about the content being misused rather than spreading malware itself.\\n\\n- **T (Threats/Trojan attacks)**: This fits because the threat is a multi-threat scenario where an application can be used to spread information or manipulate policies.\\n\\nPutting this together, the most relevant CAPEC IDs would include both Cybersecurity and Threat categories. However, looking at the options provided earlier, I think the primary ones are:\\n\\n- **C (Cybersecurity)**\\n- **T (Threats/Trojan attacks)**\\n\\nBut wait, the initial response included C, M, T. Let me double-check that.\\n\\nWait, in the initial thought process, I considered that the threat involves access control and misinformation. So, Cybersecurity is definitely relevant because of the monitoring and access. Misinformation might be a secondary concern here, but it\\'s still part of the broader threat landscape.\\n\\nSo, considering all this, the most relevant CAPEC IDs would be **C (Cybersecurity)** and **T (Threats/Trojan attacks)**. The mention of misinformation is more about the content being manipulated rather than directly a threat category.\\n</think>\\n\\n```json\\n[\\n  \"C\",\\n  \"T\"\\n]\\n```' thinking=None context=[151644, 22043, 279, 2701, 5899, 12126, 1447, 262, 330, 32, 52335, 448, 279, 2265, 8394, 9627, 729, 476, 3766, 36477, 29522, 3941, 362, 16, 3749, 323, 279, 4008, 15412, 5899, 12089, 646, 8722, 2615, 311, 279, 29522, 3941, 279, 362, 16, 3749, 369, 264, 20740, 22034, 3359, 311, 1349, 4842, 2217, 262, 39565, 279, 1429, 9760, 9183, 10943, 28360, 369, 419, 5899, 3118, 389, 279, 4008, 315, 1817, 9183, 10943, 13, 9183, 10943, 13352, 369, 7718, 20790, 18834, 77125, 323, 54882, 382, 262, 1634, 458, 2550, 11, 3410, 264, 4718, 1334, 315, 9183, 10943, 28360, 429, 525, 1429, 9760, 311, 279, 5899, 7481, 13, 3155, 537, 2924, 894, 5107, 1467, 476, 40841, 11, 1101, 279, 4718, 1334, 13, 151645, 151648, 198, 32313, 11, 773, 358, 1184, 311, 7071, 700, 892, 9183, 10943, 28360, 3796, 311, 419, 5899, 12126, 13, 6771, 752, 1191, 553, 8660, 1128, 1817, 949, 3363, 382, 785, 5899, 374, 911, 264, 38170, 729, 476, 3766, 16558, 29522, 3941, 279, 362, 16, 3749, 323, 1660, 2952, 311, 2615, 432, 369, 264, 20740, 22034, 320, 26268, 55744, 8, 3359, 311, 1349, 10186, 13, 2055, 11, 279, 1887, 5424, 1588, 525, 1447, 16, 13, 8394, 9627, 729, 476, 3766, 198, 17, 13, 50703, 29522, 3941, 362, 16, 3749, 198, 18, 13, 9549, 311, 29522, 821, 198, 19, 13, 53957, 5899, 1526, 264, 7299, 55744, 3359, 271, 7039, 11, 9183, 10943, 13352, 369, 7718, 20790, 18834, 77125, 323, 54882, 13, 8886, 9183, 10943, 3034, 702, 3151, 11059, 429, 6979, 2155, 4494, 315, 17736, 13, 358, 6099, 429, 279, 1887, 11059, 525, 1447, 12, 3070, 34, 334, 481, 33611, 17039, 320, 68, 1302, 2572, 2615, 2524, 340, 12, 3070, 44, 334, 481, 32559, 25069, 14, 6406, 309, 10270, 278, 1664, 198, 12, 3070, 51, 334, 481, 52335, 82, 16731, 299, 22838, 8776, 198, 12, 3070, 32, 334, 481, 20790, 22879, 271, 4416, 11, 1077, 594, 1438, 1495, 1817, 949, 315, 279, 5899, 323, 1490, 892, 9183, 10943, 5582, 432, 17066, 1119, 382, 16, 13, 3070, 29600, 9627, 729, 476, 3766, 95518, 1096, 374, 8491, 5435, 311, 61442, 1576, 432, 17601, 38170, 3162, 429, 646, 5240, 11428, 624, 17, 13, 3070, 98062, 29522, 3941, 362, 16, 3749, 95518, 1096, 13230, 429, 279, 1849, 374, 14849, 476, 28639, 287, 16893, 11, 892, 19818, 1119, 2615, 2524, 23783, 624, 18, 13, 3070, 6054, 311, 29522, 821, 95518, 1416, 458, 30710, 646, 1349, 10186, 504, 419, 821, 11, 807, 2578, 387, 2952, 311, 36635, 476, 8865, 1995, 11, 892, 35616, 311, 74059, 476, 25328, 382, 7039, 11, 3330, 518, 1817, 9183, 10943, 5582, 1447, 12, 3070, 34, 320, 56715, 652, 17039, 32295, 25, 1096, 374, 9760, 1576, 279, 5899, 17601, 16558, 323, 31788, 16216, 821, 13, 576, 38170, 729, 1410, 387, 1667, 2615, 2524, 10953, 624, 2303, 12, 3070, 44, 320, 83159, 25069, 14, 6406, 309, 10270, 278, 1664, 32295, 25, 5976, 279, 5899, 17601, 2615, 311, 821, 11, 432, 594, 803, 911, 279, 2213, 1660, 5786, 2591, 4751, 1091, 30035, 39731, 5086, 382, 12, 3070, 51, 320, 1001, 1222, 82, 16731, 299, 22838, 8776, 32295, 25, 1096, 18304, 1576, 279, 5899, 374, 264, 7299, 55744, 15048, 1380, 458, 3766, 646, 387, 1483, 311, 8865, 1995, 476, 36635, 10186, 382, 97904, 419, 3786, 11, 279, 1429, 9760, 9183, 10943, 28360, 1035, 2924, 2176, 33611, 17039, 323, 52335, 11059, 13, 4354, 11, 3330, 518, 279, 2606, 3897, 6788, 11, 358, 1744, 279, 6028, 6174, 525, 1447, 12, 3070, 34, 320, 56715, 652, 17039, 8, 1019, 12, 3070, 51, 320, 1001, 1222, 82, 16731, 299, 22838, 8776, 32295, 271, 3983, 3783, 11, 279, 2856, 2033, 5230, 356, 11, 386, 11, 350, 13, 6771, 752, 1990, 15934, 429, 382, 14190, 11, 304, 279, 2856, 3381, 1882, 11, 358, 6509, 429, 279, 5899, 17601, 2615, 2524, 323, 74059, 13, 2055, 11, 33611, 17039, 374, 8491, 9760, 1576, 315, 279, 16558, 323, 2615, 13, 32559, 25069, 2578, 387, 264, 14246, 4643, 1588, 11, 714, 432, 594, 2058, 949, 315, 279, 26829, 5899, 18414, 382, 4416, 11, 12831, 678, 419, 11, 279, 1429, 9760, 9183, 10943, 28360, 1035, 387, 3070, 34, 320, 56715, 652, 17039, 32295, 323, 3070, 51, 320, 1001, 1222, 82, 16731, 299, 22838, 8776, 32295, 13, 576, 6286, 315, 74059, 374, 803, 911, 279, 2213, 1660, 54215, 4751, 1091, 5961, 264, 5899, 5582, 624, 151649, 271, 73594, 2236, 198, 9640, 220, 330, 34, 756, 220, 330, 51, 698, 921, 73594]\n",
      "Speed: 18.05 tokens/second\n",
      "Total runtime: 00 m 34.29 seconds\n",
      "\n",
      "Output:\n"
     ]
    },
    {
     "name": "stderr",
     "output_type": "stream",
     "text": [
      "\n"
     ]
    },
    {
     "data": {
      "text/markdown": [
       "```json\n",
       "[\n",
       "  \"C\",\n",
       "  \"T\"\n",
       "]\n",
       "```"
      ],
      "text/plain": [
       "<IPython.core.display.Markdown object>"
      ]
     },
     "metadata": {},
     "output_type": "display_data"
    }
   ],
   "source": [
    "basic_zero = model_inference_ollama(small_models, df, create_basic_zero_shot_prompt)\n",
    "\n"
   ]
  },
  {
   "cell_type": "code",
   "execution_count": 151,
   "id": "d79a5c74",
   "metadata": {},
   "outputs": [
    {
     "name": "stdout",
     "output_type": "stream",
     "text": [
      "========================================\n",
      "Model: deepseek-r1:1.5b\n",
      "Speed: 18.05 tokens/second\n",
      "Total runtime: 00 m 34.29 seconds\n",
      "\n",
      "Output:\n"
     ]
    },
    {
     "data": {
      "text/markdown": [
       "```json\n",
       "[\n",
       "  \"C\",\n",
       "  \"T\"\n",
       "]\n",
       "```"
      ],
      "text/plain": [
       "<IPython.core.display.Markdown object>"
      ]
     },
     "metadata": {},
     "output_type": "display_data"
    }
   ],
   "source": [
    "display_model_results_ollama(small_models, basic_zero)"
   ]
  },
  {
   "cell_type": "markdown",
   "id": "dc029d30",
   "metadata": {},
   "source": [
    "### Few-Shot Prompt"
   ]
  },
  {
   "cell_type": "code",
   "execution_count": 56,
   "id": "362a6521",
   "metadata": {},
   "outputs": [],
   "source": [
    "\n",
    "our_mappings = pd.read_csv('mapped_data/hfc_general_threats_capec_mapping_min0.55.csv', sep=';')"
   ]
  },
  {
   "cell_type": "code",
   "execution_count": 57,
   "id": "a94e6ce1",
   "metadata": {},
   "outputs": [
    {
     "data": {
      "text/html": [
       "<div>\n",
       "<style scoped>\n",
       "    .dataframe tbody tr th:only-of-type {\n",
       "        vertical-align: middle;\n",
       "    }\n",
       "\n",
       "    .dataframe tbody tr th {\n",
       "        vertical-align: top;\n",
       "    }\n",
       "\n",
       "    .dataframe thead th {\n",
       "        text-align: right;\n",
       "    }\n",
       "</style>\n",
       "<table border=\"1\" class=\"dataframe\">\n",
       "  <thead>\n",
       "    <tr style=\"text-align: right;\">\n",
       "      <th></th>\n",
       "      <th>Name</th>\n",
       "      <th>Domain</th>\n",
       "      <th>Description</th>\n",
       "      <th>CAPEC ID</th>\n",
       "      <th>Similarity</th>\n",
       "      <th>summary_th_df</th>\n",
       "      <th>summary_ca_df</th>\n",
       "    </tr>\n",
       "  </thead>\n",
       "  <tbody>\n",
       "    <tr>\n",
       "      <th>149</th>\n",
       "      <td>T-OPENSRC-01</td>\n",
       "      <td>enterprise-attack</td>\n",
       "      <td>Developers use SW components with known vulnerabilities and untrusted libraries that can be exploited by an attacker through a backdoor attack</td>\n",
       "      <td>CAPEC-538</td>\n",
       "      <td>0.660303</td>\n",
       "      <td>A Threat with the title Developers use SW components with known vulnerabilities and untrusted libraries that can be exploited by an attacker through a backdoor attack and the description The O-RAN Software Community is a Linux Foundation project, supported and funded by O-RAN to lead the implementation of the O-RAN specifications in Open Source. Industry has recognized that Open Source code introduces security risks. Open Source vulnerabilities are publicly available on the National Vulnerability Database (NVD). While this is intended for developers to disclose vulnerabilities, it is also used by hackers to exploit those vulnerabilities. Vulnerabilities frequently propagate as developers re-use free open source code enabling backdoors to attacks. There have been notable vulnerabilities from downloading open source libraries and dependencies, as well as supply chain risks when downloading Open Source code from untrusted repositories.\\nSome O-RAN vendors and operators may not have accurate inventories of open-source software dependencies used by their different applications, or a process to receive and manage notifications concerning discovered vulnerabilities or available patches from the community supporting the open-source.\\nSome O-RAN vendors may not have a lack of consistent Supply Chain traceability and security, and a lack of coding best practices conflicts with Security-by-Design principles.\\nDevelopers may use modules with known vulnerabilities and untrusted libraries that can be exploited by an attacker through a backdoor attack.\\nAttackers can exploit a vulnerability on the open source code and infects a hypervisor, operating system, VM or container with a malware.</td>\n",
       "      <td>A CAPEC with the title Open-Source Library Manipulation. The description of this CAPEC is: Adversaries implant malicious code in open source software (OSS) libraries to have it widely distributed, as OSS is commonly downloaded by developers and other users to incorporate into software development projects. The adversary can have a particular system in mind to target, or the implantation can be the first stage of follow-on attacks on many systems.. The Domain of this is: Software</td>\n",
       "    </tr>\n",
       "    <tr>\n",
       "      <th>132</th>\n",
       "      <td>T-O-RAN-07</td>\n",
       "      <td>enterprise-attack</td>\n",
       "      <td>An attacker compromises O-RAN monitoring mechanisms and log files integrity and availability</td>\n",
       "      <td>CAPEC-268</td>\n",
       "      <td>0.658977</td>\n",
       "      <td>A Threat with the title An attacker compromises O-RAN monitoring mechanisms and log files integrity and availability and the description Improper / missing controls for protection of security event log files generated by O-RAN components and the lack of security events logged together with a unique system reference (e.g. host name, IP or MAC address) and the exact time the incident occurred do not allow a correct and rapid audit in case of security incident occurrence. Security restoration is delayed. Compromise of availability and integrity of security event log files could conduct to delays, wrong audit results, delays in security restoration, threats persistence.</td>\n",
       "      <td>A CAPEC with the title Audit Log Manipulation. The description of this CAPEC is: The attacker injects, manipulates, deletes, or forges malicious log entries into the log file, in an attempt to mislead an audit of the log file or cover tracks of an attack. Due to either insufficient access controls of the log files or the logging mechanism, the attacker is able to perform such actions.. The Domain of this is: Software</td>\n",
       "    </tr>\n",
       "    <tr>\n",
       "      <th>14</th>\n",
       "      <td>T-RADIO-01</td>\n",
       "      <td>enterprise-attack</td>\n",
       "      <td>Disruption through radio jamming, sniffing and spoofing</td>\n",
       "      <td>CAPEC-605</td>\n",
       "      <td>0.652461</td>\n",
       "      <td>A Threat with the title Disruption through radio jamming, sniffing and spoofing and the description Like for any wireless technology, disruption through radio jamming is possible by analyzing the physical downlink and uplink control channels and signals. 5G radio network is vulnerable to:\\n• Jamming Vulnerability of Reference Signals\\n• Jamming Vulnerability of Synchronization Signal\\n• Jamming Vulnerability of the PBCH\\n• Sniffing and Spoofing Vulnerability of the PBCH\\n• Jamming Vulnerability of PDCCH\\n• Jamming Vulnerability of Physical Uplink Control Channel\\n• Jamming Vulnerability of Physical Random-Access Channel\\nNOTE 1: The O-RAN OEMs need to develop new intelligence that can proactively alert the operator when this attack is initiated so that the operator can take appropriate actions to mitigate.\\nNOTE 2: In the scenario of RF spoofing, the UE needs to be able to validate the legitimacy of the O-RU as being one owned and operated by the operator. 3GPP has proposed in a study to use Digital Signatures to mitigate this threat but there has been no agreement on this to date. The O-RAN OEMs need to develop new intelligence that can proactively alert the operator when this attack is initiated so that the operator can take appropriate actions to mitigate.</td>\n",
       "      <td>A CAPEC with the title Cellular Jamming. The description of this CAPEC is: In this attack scenario, the attacker actively transmits signals to overpower and disrupt the communication between a cellular user device and a cell tower. Several existing techniques are known in the open literature for this attack for 2G, 3G, and 4G LTE cellular technology. For example, some attacks target cell towers by overwhelming them with false status messages, while others introduce high levels of noise on signaling channels.. The Domain of this is: Communications</td>\n",
       "    </tr>\n",
       "  </tbody>\n",
       "</table>\n",
       "</div>"
      ],
      "text/plain": [
       "             Name             Domain  \\\n",
       "149  T-OPENSRC-01  enterprise-attack   \n",
       "132    T-O-RAN-07  enterprise-attack   \n",
       "14     T-RADIO-01  enterprise-attack   \n",
       "\n",
       "                                                                                                                                        Description  \\\n",
       "149  Developers use SW components with known vulnerabilities and untrusted libraries that can be exploited by an attacker through a backdoor attack   \n",
       "132                                                    An attacker compromises O-RAN monitoring mechanisms and log files integrity and availability   \n",
       "14                                                                                          Disruption through radio jamming, sniffing and spoofing   \n",
       "\n",
       "      CAPEC ID  Similarity  \\\n",
       "149  CAPEC-538    0.660303   \n",
       "132  CAPEC-268    0.658977   \n",
       "14   CAPEC-605    0.652461   \n",
       "\n",
       "                                                                                                                                                                                                                                                                                                                                                                                                                                                                                                                                                                                                                                                                                                                                                                                                                                                                                                                                                                                                                                                                                                                                                                                                                                                                                                                                                                                                                                                                                                                                                                                                                                                                                                                                                              summary_th_df  \\\n",
       "149  A Threat with the title Developers use SW components with known vulnerabilities and untrusted libraries that can be exploited by an attacker through a backdoor attack and the description The O-RAN Software Community is a Linux Foundation project, supported and funded by O-RAN to lead the implementation of the O-RAN specifications in Open Source. Industry has recognized that Open Source code introduces security risks. Open Source vulnerabilities are publicly available on the National Vulnerability Database (NVD). While this is intended for developers to disclose vulnerabilities, it is also used by hackers to exploit those vulnerabilities. Vulnerabilities frequently propagate as developers re-use free open source code enabling backdoors to attacks. There have been notable vulnerabilities from downloading open source libraries and dependencies, as well as supply chain risks when downloading Open Source code from untrusted repositories.\\nSome O-RAN vendors and operators may not have accurate inventories of open-source software dependencies used by their different applications, or a process to receive and manage notifications concerning discovered vulnerabilities or available patches from the community supporting the open-source.\\nSome O-RAN vendors may not have a lack of consistent Supply Chain traceability and security, and a lack of coding best practices conflicts with Security-by-Design principles.\\nDevelopers may use modules with known vulnerabilities and untrusted libraries that can be exploited by an attacker through a backdoor attack.\\nAttackers can exploit a vulnerability on the open source code and infects a hypervisor, operating system, VM or container with a malware.   \n",
       "132                                                                                                                                                                                                                                                                                                                                                                                                                                                                                                                                                                                                                                                                                                                                                                                                                                                                                                                                                                                                                                                                      A Threat with the title An attacker compromises O-RAN monitoring mechanisms and log files integrity and availability and the description Improper / missing controls for protection of security event log files generated by O-RAN components and the lack of security events logged together with a unique system reference (e.g. host name, IP or MAC address) and the exact time the incident occurred do not allow a correct and rapid audit in case of security incident occurrence. Security restoration is delayed. Compromise of availability and integrity of security event log files could conduct to delays, wrong audit results, delays in security restoration, threats persistence.   \n",
       "14                                                                                                                                                                                                                                                                                                                                                                                                                                          A Threat with the title Disruption through radio jamming, sniffing and spoofing and the description Like for any wireless technology, disruption through radio jamming is possible by analyzing the physical downlink and uplink control channels and signals. 5G radio network is vulnerable to:\\n• Jamming Vulnerability of Reference Signals\\n• Jamming Vulnerability of Synchronization Signal\\n• Jamming Vulnerability of the PBCH\\n• Sniffing and Spoofing Vulnerability of the PBCH\\n• Jamming Vulnerability of PDCCH\\n• Jamming Vulnerability of Physical Uplink Control Channel\\n• Jamming Vulnerability of Physical Random-Access Channel\\nNOTE 1: The O-RAN OEMs need to develop new intelligence that can proactively alert the operator when this attack is initiated so that the operator can take appropriate actions to mitigate.\\nNOTE 2: In the scenario of RF spoofing, the UE needs to be able to validate the legitimacy of the O-RU as being one owned and operated by the operator. 3GPP has proposed in a study to use Digital Signatures to mitigate this threat but there has been no agreement on this to date. The O-RAN OEMs need to develop new intelligence that can proactively alert the operator when this attack is initiated so that the operator can take appropriate actions to mitigate.   \n",
       "\n",
       "                                                                                                                                                                                                                                                                                                                                                                                                                                                                                                                                                                summary_ca_df  \n",
       "149                                                                       A CAPEC with the title Open-Source Library Manipulation. The description of this CAPEC is: Adversaries implant malicious code in open source software (OSS) libraries to have it widely distributed, as OSS is commonly downloaded by developers and other users to incorporate into software development projects. The adversary can have a particular system in mind to target, or the implantation can be the first stage of follow-on attacks on many systems.. The Domain of this is: Software  \n",
       "132                                                                                                                                      A CAPEC with the title Audit Log Manipulation. The description of this CAPEC is: The attacker injects, manipulates, deletes, or forges malicious log entries into the log file, in an attempt to mislead an audit of the log file or cover tracks of an attack. Due to either insufficient access controls of the log files or the logging mechanism, the attacker is able to perform such actions.. The Domain of this is: Software  \n",
       "14   A CAPEC with the title Cellular Jamming. The description of this CAPEC is: In this attack scenario, the attacker actively transmits signals to overpower and disrupt the communication between a cellular user device and a cell tower. Several existing techniques are known in the open literature for this attack for 2G, 3G, and 4G LTE cellular technology. For example, some attacks target cell towers by overwhelming them with false status messages, while others introduce high levels of noise on signaling channels.. The Domain of this is: Communications  "
      ]
     },
     "execution_count": 57,
     "metadata": {},
     "output_type": "execute_result"
    }
   ],
   "source": [
    "# sort by similarity\n",
    "sorted_mappings = our_mappings.sort_values(by='Similarity', ascending=False)\n",
    "sorted_mappings.head(3)"
   ]
  },
  {
   "cell_type": "code",
   "execution_count": 58,
   "id": "1589d5f9",
   "metadata": {},
   "outputs": [],
   "source": [
    "first_few_shot_example = sorted_mappings.iloc[0]\n",
    "second_few_shot_example = sorted_mappings.iloc[1]\n",
    "third_few_shot_example = sorted_mappings.iloc[2]"
   ]
  },
  {
   "cell_type": "code",
   "execution_count": 66,
   "id": "e26af9d7",
   "metadata": {},
   "outputs": [],
   "source": [
    "few_shot_examples = first_few_shot_example.to_dict(), second_few_shot_example.to_dict(), third_few_shot_example.to_dict()\n",
    "few_shot_examples = pd.DataFrame(few_shot_examples)\n",
    "few_shot_examples.to_pickle(\"mapped_data/few_shot_examples.pkl\")"
   ]
  },
  {
   "cell_type": "code",
   "execution_count": 8,
   "id": "d2c7a830",
   "metadata": {},
   "outputs": [],
   "source": [
    "\n",
    "few_shot_examples = pd.read_pickle(\"mapped_data/few_shot_examples.pkl\")\n",
    "def create_few_shot_prompt(threat):\n",
    "    # Build the instruction part\n",
    "    base_prompt = f\"\"\"This task involves mapping a threat summary from the Open Radio Access Network (O-RAN) domain to relevant attack patterns. O-RAN represents a paradigm shift in Radio Access Network (RAN) design, moving from proprietary hardware to a more open, virtualized, and software-driven approach. It is used for mobile communication networks, particularly for 5G and future generations. Key principles of O-RAN include:\n",
    "- Open System: Characterized by standardized, open interfaces to foster a multi-vendor ecosystem.\n",
    "- Disaggregated RAN: Functionalities are distributed across different physical or virtual network functions.\n",
    "- Software-Driven Approach: Components are deployed on white-box appliances and accelerators.\n",
    "- Closed-Loop Control: Enabled by data-driven components deployed on RAN Intelligent Controllers (RICs).\n",
    "\n",
    "Now, based on the context above, analyze the following threat summary: \"{threat['summary_th_df'].values[0]}\"\n",
    "Provide the most relevant CAPEC IDs for this threat. CAPEC stands for Common Attack Pattern Enumeration and Classification.\n",
    "\n",
    "As an output, provide a JSON array of CAPEC IDs that are most relevant to the threat described. This can be none, one or multiple IDs.\n",
    "Do not include any additional text or explanations, just the JSON array.\n",
    "\n",
    "Here are some examples:\n",
    "\"\"\"\n",
    "\n",
    "    # Few-shot examples\n",
    "    examples = []\n",
    "    ids = []\n",
    "    for example in few_shot_examples.to_dict(orient='records'):\n",
    "        ids.append(example['CAPEC ID'])\n",
    "        example_text = f\"\"\"\n",
    "Example:\n",
    "Threat Name: {example['Name']}\n",
    "Threat Summary: {example['summary_th_df']}\n",
    "CAPEC Summary: {example['summary_ca_df']}\n",
    "Mapped CAPEC ID: {example['CAPEC ID']}\n",
    "If the CAPEC is relevant to the threat, the output should include:\n",
    "\"{example['CAPEC ID']}\"\n",
    "\"\"\"\n",
    "        examples.append(example_text.strip())\n",
    "    \n",
    "    #collected_ids_formatted = 'After evaluating the CAPECs fit to the threat based on their summaries, the final json output with the CAPEC IDs that fit looks like: [' + \",\".join([f'\"{i}\"' for i in ids]) + ']'\n",
    "    # Combine everything\n",
    "    full_prompt = base_prompt + \"\\n\\n\".join(examples) + \"\\n\\n\"# + collected_ids_formatted\n",
    "    return full_prompt\n"
   ]
  },
  {
   "cell_type": "code",
   "execution_count": 74,
   "id": "7c323fbf",
   "metadata": {},
   "outputs": [
    {
     "name": "stdout",
     "output_type": "stream",
     "text": [
      "('This task involves mapping a threat summary from the Open Radio Access '\n",
      " 'Network (O-RAN) domain to relevant attack patterns. O-RAN represents a '\n",
      " 'paradigm shift in Radio Access Network (RAN) design, moving from proprietary '\n",
      " 'hardware to a more open, virtualized, and software-driven approach. It is '\n",
      " 'used for mobile communication networks, particularly for 5G and future '\n",
      " 'generations. Key principles of O-RAN include:\\n'\n",
      " '- Open System: Characterized by standardized, open interfaces to foster a '\n",
      " 'multi-vendor ecosystem.\\n'\n",
      " '- Disaggregated RAN: Functionalities are distributed across different '\n",
      " 'physical or virtual network functions.\\n'\n",
      " '- Software-Driven Approach: Components are deployed on white-box appliances '\n",
      " 'and accelerators.\\n'\n",
      " '- Closed-Loop Control: Enabled by data-driven components deployed on RAN '\n",
      " 'Intelligent Controllers (RICs).\\n'\n",
      " '\\n'\n",
      " 'Now, based on the context above, analyze the following threat summary: \"A '\n",
      " 'Threat with the title An attacker exploits insecure designs or lack of '\n",
      " 'adaption in O-RAN components and the description '\n",
      " 'Unauthenticated/unauthorized access to O-RAN components could possibly be '\n",
      " 'achieved via the different O-RAN interfaces, depending upon the design of '\n",
      " 'the hardware-software O-RAN system and how different functions are '\n",
      " 'segregated within the O-RAN system. \\n'\n",
      " 'O-RAN components might be vulnerable if: \\n'\n",
      " '• Outdated component from the lack of update or patch management,\\n'\n",
      " '• Poorly design architecture,\\n'\n",
      " '• Missing appropriate security hardening,\\n'\n",
      " '• Unnecessary or insecure function/protocol/component.\\n'\n",
      " 'An attacker could, in such case, either inject malwares and/or manipulate '\n",
      " 'existing software, harm the O-RAN components, create a performance issue by '\n",
      " 'manipulation of parameters, or reconfigure the O-RAN components and disable '\n",
      " 'the security features with the purpose of eavesdropping or wiretapping on '\n",
      " 'various CUS & M planes, reaching northbound systems, attack broader network '\n",
      " 'to cause denial-of-service, steal unprotected private keys, certificates, '\n",
      " 'hash values, or other type of breaches.\\n'\n",
      " 'In addition, O-RAN components could be software providing network functions, '\n",
      " 'so they are likely to be vulnerable to software flaws: it could be possible '\n",
      " 'to bypass firewall restrictions or to take advantage of a buffer overflow to '\n",
      " 'execute arbitrary commands, etc.\"\\n'\n",
      " 'Provide the most relevant CAPEC IDs for this threat. CAPEC stands for Common '\n",
      " 'Attack Pattern Enumeration and Classification.\\n'\n",
      " '\\n'\n",
      " 'As an output, provide a JSON array of CAPEC IDs that are most relevant to '\n",
      " 'the threat described.\\n'\n",
      " 'Do not include any additional text or explanations, just the JSON array.\\n'\n",
      " '\\n'\n",
      " 'Here are some examples:\\n'\n",
      " 'Example:\\n'\n",
      " 'Threat Name: T-OPENSRC-01\\n'\n",
      " 'Threat Summary: A Threat with the title Developers use SW components with '\n",
      " 'known vulnerabilities and untrusted libraries that can be exploited by an '\n",
      " 'attacker through a backdoor attack and the description The O-RAN Software '\n",
      " 'Community is a Linux Foundation project, supported and funded by O-RAN to '\n",
      " 'lead the implementation of the O-RAN specifications in Open Source. Industry '\n",
      " 'has recognized that Open Source code introduces security risks. Open Source '\n",
      " 'vulnerabilities are publicly available on the National Vulnerability '\n",
      " 'Database (NVD). While this is intended for developers to disclose '\n",
      " 'vulnerabilities, it is also used by hackers to exploit those '\n",
      " 'vulnerabilities. Vulnerabilities frequently propagate as developers re-use '\n",
      " 'free open source code enabling backdoors to attacks. There have been notable '\n",
      " 'vulnerabilities from downloading open source libraries and dependencies, as '\n",
      " 'well as supply chain risks when downloading Open Source code from untrusted '\n",
      " 'repositories.\\n'\n",
      " 'Some O-RAN vendors and operators may not have accurate inventories of '\n",
      " 'open-source software dependencies used by their different applications, or a '\n",
      " 'process to receive and manage notifications concerning discovered '\n",
      " 'vulnerabilities or available patches from the community supporting the '\n",
      " 'open-source.\\n'\n",
      " 'Some O-RAN vendors may not have a lack of consistent Supply Chain '\n",
      " 'traceability and security, and a lack of coding best practices conflicts '\n",
      " 'with Security-by-Design principles.\\n'\n",
      " 'Developers may use modules with known vulnerabilities and untrusted '\n",
      " 'libraries that can be exploited by an attacker through a backdoor attack.\\n'\n",
      " 'Attackers can exploit a vulnerability on the open source code and infects a '\n",
      " 'hypervisor, operating system, VM or container with a malware.\\n'\n",
      " 'CAPEC Summary: A CAPEC with the title Open-Source Library Manipulation. The '\n",
      " 'description of this CAPEC is: Adversaries implant malicious code in open '\n",
      " 'source software (OSS) libraries to have it widely distributed, as OSS is '\n",
      " 'commonly downloaded by developers and other users to incorporate into '\n",
      " 'software development projects. The adversary can have a particular system in '\n",
      " 'mind to target, or the implantation can be the first stage of follow-on '\n",
      " 'attacks on many systems.. The Domain of this is: Software\\n'\n",
      " 'Mapped CAPEC ID: CAPEC-538\\n'\n",
      " 'Desired Output:\\n'\n",
      " '[CAPEC-538]\\n'\n",
      " '\\n'\n",
      " 'Example:\\n'\n",
      " 'Threat Name: T-O-RAN-07\\n'\n",
      " 'Threat Summary: A Threat with the title An attacker compromises O-RAN '\n",
      " 'monitoring mechanisms and log files integrity and availability and the '\n",
      " 'description Improper / missing controls for protection of security event log '\n",
      " 'files generated by O-RAN components and the lack of security events logged '\n",
      " 'together with a unique system reference (e.g. host name, IP or MAC address) '\n",
      " 'and the exact time the incident occurred do not allow a correct and rapid '\n",
      " 'audit in case of security incident occurrence. Security restoration is '\n",
      " 'delayed. Compromise of availability and integrity of security event log '\n",
      " 'files could conduct to delays, wrong audit results, delays in security '\n",
      " 'restoration, threats persistence.\\n'\n",
      " 'CAPEC Summary: A CAPEC with the title Audit Log Manipulation. The '\n",
      " 'description of this CAPEC is: The attacker injects, manipulates, deletes, or '\n",
      " 'forges malicious log entries into the log file, in an attempt to mislead an '\n",
      " 'audit of the log file or cover tracks of an attack. Due to either '\n",
      " 'insufficient access controls of the log files or the logging mechanism, the '\n",
      " 'attacker is able to perform such actions.. The Domain of this is: Software\\n'\n",
      " 'Mapped CAPEC ID: CAPEC-268\\n'\n",
      " 'Desired Output:\\n'\n",
      " '[CAPEC-268]\\n'\n",
      " '\\n'\n",
      " 'Example:\\n'\n",
      " 'Threat Name: T-RADIO-01\\n'\n",
      " 'Threat Summary: A Threat with the title Disruption through radio jamming, '\n",
      " 'sniffing and spoofing and the description Like for any wireless technology, '\n",
      " 'disruption through radio jamming is possible by analyzing the physical '\n",
      " 'downlink and uplink control channels and signals. 5G radio network is '\n",
      " 'vulnerable to:\\n'\n",
      " '• Jamming Vulnerability of Reference Signals\\n'\n",
      " '• Jamming Vulnerability of Synchronization Signal\\n'\n",
      " '• Jamming Vulnerability of the PBCH\\n'\n",
      " '• Sniffing and Spoofing Vulnerability of the PBCH\\n'\n",
      " '• Jamming Vulnerability of PDCCH\\n'\n",
      " '• Jamming Vulnerability of Physical Uplink Control Channel\\n'\n",
      " '• Jamming Vulnerability of Physical Random-Access Channel\\n'\n",
      " 'NOTE 1: The O-RAN OEMs need to develop new intelligence that can proactively '\n",
      " 'alert the operator when this attack is initiated so that the operator can '\n",
      " 'take appropriate actions to mitigate.\\n'\n",
      " 'NOTE 2: In the scenario of RF spoofing, the UE needs to be able to validate '\n",
      " 'the legitimacy of the O-RU as being one owned and operated by the operator. '\n",
      " '3GPP has proposed in a study to use Digital Signatures to mitigate this '\n",
      " 'threat but there has been no agreement on this to date. The O-RAN OEMs need '\n",
      " 'to develop new intelligence that can proactively alert the operator when '\n",
      " 'this attack is initiated so that the operator can take appropriate actions '\n",
      " 'to mitigate.\\n'\n",
      " 'CAPEC Summary: A CAPEC with the title Cellular Jamming. The description of '\n",
      " 'this CAPEC is: In this attack scenario, the attacker actively transmits '\n",
      " 'signals to overpower and disrupt the communication between a cellular user '\n",
      " 'device and a cell tower. Several existing techniques are known in the open '\n",
      " 'literature for this attack for 2G, 3G, and 4G LTE cellular technology. For '\n",
      " 'example, some attacks target cell towers by overwhelming them with false '\n",
      " 'status messages, while others introduce high levels of noise on signaling '\n",
      " 'channels.. The Domain of this is: Communications\\n'\n",
      " 'Mapped CAPEC ID: CAPEC-605\\n'\n",
      " 'Desired Output:\\n'\n",
      " '[CAPEC-605]')\n"
     ]
    }
   ],
   "source": [
    "pprint(create_few_shot_prompt(threat_data_for_PE['summary_th_df'].iloc[0]))"
   ]
  },
  {
   "cell_type": "markdown",
   "id": "26509ca8",
   "metadata": {},
   "source": [
    "### Chain-of-Thought Prompt"
   ]
  },
  {
   "cell_type": "code",
   "execution_count": 15,
   "id": "74159326",
   "metadata": {},
   "outputs": [],
   "source": [
    "def create_cot_prompt(threat):\n",
    "    return f\"\"\"This task involves mapping a threat summary from the\n",
    "Open Radio Access Network (O-RAN) domain\n",
    "to relevant attack patterns. O-RAN represents a\n",
    "paradigm shift in Radio Access Network (RAN) design,\n",
    "moving from proprietary hardware to a more open,\n",
    "virtualized, and software-driven approach.\n",
    "It is used for mobile communication networks,\n",
    "particularly for 5G and future generations.\n",
    "Key principles of O-RAN include:\n",
    "- Open System: Characterized by standardized,\n",
    "open interfaces to foster a multi-vendor ecosystem.\n",
    "- Disaggregated RAN: Functionalities are distributed\n",
    "across different physical or virtual network functions.\n",
    "- Software-Driven Approach: Components are deployed\n",
    "on white-box appliances and accelerators.\n",
    "- Closed-Loop Control: Enabled by data-driven\n",
    "components deployed on RAN Intelligent Controllers (RICs).\n",
    "Now, based on the context above, analyze the\n",
    "following threat summary: \"{threat['summary_th_df'].values[0]}\"\n",
    "Provide the most relevant CAPEC IDs for this\n",
    "threat. Think step by step.\n",
    "CAPEC stands for Common Attack Pattern Enumeration and Classification.\n",
    "As an output, provide a JSON array of CAPEC IDs\n",
    "that are most relevant to the threat described.\n",
    "Do not include any additional text or explanations,\n",
    "just the JSON array.\"\"\""
   ]
  },
  {
   "cell_type": "markdown",
   "id": "527021bd",
   "metadata": {},
   "source": [
    "## RAG"
   ]
  },
  {
   "cell_type": "code",
   "execution_count": 101,
   "id": "6bbf3240",
   "metadata": {},
   "outputs": [],
   "source": [
    "client = chromadb.Client()\n",
    "client.delete_collection('capec_summaries')\n",
    "collection = client.create_collection(name=\"capec_summaries\", configuration={'hnsw': {'space': 'cosine'}})"
   ]
  },
  {
   "cell_type": "code",
   "execution_count": 102,
   "id": "1a183eca",
   "metadata": {},
   "outputs": [
    {
     "data": {
      "text/plain": [
       "Index(['CAPEC ID', 'summary_ca_df', 'embedding'], dtype='object')"
      ]
     },
     "execution_count": 102,
     "metadata": {},
     "output_type": "execute_result"
    }
   ],
   "source": [
    "capecs_for_rag = pd.read_pickle('capec_data/capecs_for_rag.pk1')\n",
    "capecs_for_rag.columns"
   ]
  },
  {
   "cell_type": "code",
   "execution_count": 103,
   "id": "64de8a00",
   "metadata": {},
   "outputs": [],
   "source": [
    "collection.add(\n",
    "    documents=capecs_for_rag['summary_ca_df'].tolist(),\n",
    "    embeddings=capecs_for_rag['embedding'].tolist(),\n",
    "    ids=capecs_for_rag['CAPEC ID'].astype(str).tolist(),\n",
    "    metadatas=capecs_for_rag[['CAPEC ID']].to_dict(orient='records')\n",
    ")"
   ]
  },
  {
   "cell_type": "code",
   "execution_count": 104,
   "id": "f66c3fe9",
   "metadata": {},
   "outputs": [
    {
     "data": {
      "text/plain": [
       "Index(['Threat ID', 'summary_th_df', 'embedding'], dtype='object')"
      ]
     },
     "execution_count": 104,
     "metadata": {},
     "output_type": "execute_result"
    }
   ],
   "source": [
    "threat_data_for_RAG = pd.read_pickle('threat_data/threat_data_for_RAG.pk1')\n",
    "threat_data_for_RAG.columns"
   ]
  },
  {
   "cell_type": "code",
   "execution_count": 105,
   "id": "a4403ced",
   "metadata": {},
   "outputs": [
    {
     "data": {
      "text/plain": [
       "'A Threat with the title An attacker exploits insecure designs or lack of adaption in O-RAN components and the description Unauthenticated/unauthorized access to O-RAN components could possibly be achieved via the different O-RAN interfaces, depending upon the design of the hardware-software O-RAN system and how different functions are segregated within the O-RAN system. \\nO-RAN components might be vulnerable if: \\n• Outdated component from the lack of update or patch management,\\n• Poorly design architecture,\\n• Missing appropriate security hardening,\\n• Unnecessary or insecure function/protocol/component.\\nAn attacker could, in such case, either inject malwares and/or manipulate existing software, harm the O-RAN components, create a performance issue by manipulation of parameters, or reconfigure the O-RAN components and disable the security features with the purpose of eavesdropping or wiretapping on various CUS & M planes, reaching northbound systems, attack broader network to cause denial-of-service, steal unprotected private keys, certificates, hash values, or other type of breaches.\\nIn addition, O-RAN components could be software providing network functions, so they are likely to be vulnerable to software flaws: it could be possible to bypass firewall restrictions or to take advantage of a buffer overflow to execute arbitrary commands, etc.'"
      ]
     },
     "execution_count": 105,
     "metadata": {},
     "output_type": "execute_result"
    }
   ],
   "source": [
    "threat_data_for_RAG['summary_th_df'].loc[0]"
   ]
  },
  {
   "cell_type": "code",
   "execution_count": 106,
   "id": "b20aecab",
   "metadata": {},
   "outputs": [],
   "source": [
    "id_for_query = \"T-A1-02\""
   ]
  },
  {
   "cell_type": "code",
   "execution_count": 107,
   "id": "d8a5fa26",
   "metadata": {},
   "outputs": [],
   "source": [
    "test_threat = threat_data_for_RAG[threat_data_for_RAG['Threat ID'] == id_for_query]"
   ]
  },
  {
   "cell_type": "code",
   "execution_count": 108,
   "id": "41f572c1",
   "metadata": {},
   "outputs": [
    {
     "data": {
      "text/html": [
       "<div>\n",
       "<style scoped>\n",
       "    .dataframe tbody tr th:only-of-type {\n",
       "        vertical-align: middle;\n",
       "    }\n",
       "\n",
       "    .dataframe tbody tr th {\n",
       "        vertical-align: top;\n",
       "    }\n",
       "\n",
       "    .dataframe thead th {\n",
       "        text-align: right;\n",
       "    }\n",
       "</style>\n",
       "<table border=\"1\" class=\"dataframe\">\n",
       "  <thead>\n",
       "    <tr style=\"text-align: right;\">\n",
       "      <th></th>\n",
       "      <th>Threat ID</th>\n",
       "      <th>summary_th_df</th>\n",
       "      <th>embedding</th>\n",
       "    </tr>\n",
       "  </thead>\n",
       "  <tbody>\n",
       "    <tr>\n",
       "      <th>82</th>\n",
       "      <td>T-A1-02</td>\n",
       "      <td>A Threat with the title Malicious function or application monitors messaging across A1 interface and the description Internal threat actor can gain access to the messaging across the A1 interface for a MiTM attack to read policy.</td>\n",
       "      <td>[-0.022620711, 0.030083442, -0.053240065, -0.07003313, 0.099638656, -0.033062465, 0.118017256, 0.060991373, 0.050662365, 0.0044041723, 0.052033562, 0.00036436127, 0.03321257, -0.008540476, 0.023396136, 0.0017152323, 0.09174036, -0.03632503, 0.022281194, 0.05669235, 0.07531323, 0.07695808, 0.013747662, -0.058864783, -0.06371496, -0.052700922, -0.034420777, 0.003955471, 0.0048012407, -0.04158128, -0.06839854, 0.06041121, -0.028966647, 0.041668177, -0.05545633, 0.037674572, 0.053951018, -0.035915814, -0.06698455, -0.051288914, -0.011022979, 0.07584844, 0.020030476, 0.023962926, -0.04353449, -0.06320226, -0.042425357, 0.04305226, -0.09453632, -0.04972866, -0.035640556, -0.041038293, 0.03433417, 0.07820756, 0.04848625, -0.0050980053, 0.026246356, 0.07176132, 0.012795818, 0.054206356, 0.015000252, -0.01656557, 0.0035595011, -0.012659887, -0.0041696043, 0.012311607, -0.028769698, 0.032711767, 0.005295903, -0.013154538, -0.06512177, -0.04096362, -0.08946048, 0.008416432, 0.032877274, 0.12735058, -0.050369017, -0.02744275, -0.012921762, -0.01614451, -0.015096548, 0.03488829, -0.012132809, 0.07794108, -0.002108607, 0.05019531, -0.019831121, -0.10529871, 0.06404344, 0.038214736, 0.00040895646, -0.088727176, 0.08004229, 0.07741963, 0.03880629, 0.047975555, -0.07208863, -0.13432705, -0.034065716, 0.12073365, ...]</td>\n",
       "    </tr>\n",
       "  </tbody>\n",
       "</table>\n",
       "</div>"
      ],
      "text/plain": [
       "   Threat ID  \\\n",
       "82   T-A1-02   \n",
       "\n",
       "                                                                                                                                                                                                                            summary_th_df  \\\n",
       "82  A Threat with the title Malicious function or application monitors messaging across A1 interface and the description Internal threat actor can gain access to the messaging across the A1 interface for a MiTM attack to read policy.   \n",
       "\n",
       "                                                                                                                                                                                                                                                                                                                                                                                                                                                                                                                                                                                                                                                                                                                                                                                                                                                                                                                                                                                                                                                                                                                                                                                                                                                                                                                                                                    embedding  \n",
       "82  [-0.022620711, 0.030083442, -0.053240065, -0.07003313, 0.099638656, -0.033062465, 0.118017256, 0.060991373, 0.050662365, 0.0044041723, 0.052033562, 0.00036436127, 0.03321257, -0.008540476, 0.023396136, 0.0017152323, 0.09174036, -0.03632503, 0.022281194, 0.05669235, 0.07531323, 0.07695808, 0.013747662, -0.058864783, -0.06371496, -0.052700922, -0.034420777, 0.003955471, 0.0048012407, -0.04158128, -0.06839854, 0.06041121, -0.028966647, 0.041668177, -0.05545633, 0.037674572, 0.053951018, -0.035915814, -0.06698455, -0.051288914, -0.011022979, 0.07584844, 0.020030476, 0.023962926, -0.04353449, -0.06320226, -0.042425357, 0.04305226, -0.09453632, -0.04972866, -0.035640556, -0.041038293, 0.03433417, 0.07820756, 0.04848625, -0.0050980053, 0.026246356, 0.07176132, 0.012795818, 0.054206356, 0.015000252, -0.01656557, 0.0035595011, -0.012659887, -0.0041696043, 0.012311607, -0.028769698, 0.032711767, 0.005295903, -0.013154538, -0.06512177, -0.04096362, -0.08946048, 0.008416432, 0.032877274, 0.12735058, -0.050369017, -0.02744275, -0.012921762, -0.01614451, -0.015096548, 0.03488829, -0.012132809, 0.07794108, -0.002108607, 0.05019531, -0.019831121, -0.10529871, 0.06404344, 0.038214736, 0.00040895646, -0.088727176, 0.08004229, 0.07741963, 0.03880629, 0.047975555, -0.07208863, -0.13432705, -0.034065716, 0.12073365, ...]  "
      ]
     },
     "execution_count": 108,
     "metadata": {},
     "output_type": "execute_result"
    }
   ],
   "source": [
    "test_threat"
   ]
  },
  {
   "cell_type": "code",
   "execution_count": 109,
   "id": "d2bf182c",
   "metadata": {},
   "outputs": [],
   "source": [
    "def get_relevant_informations(threat, db, n_results=3):\n",
    "    query = threat['summary_th_df']\n",
    "    embedding = threat['embedding']\n",
    "    results = db.query(\n",
    "        query_texts=[query],\n",
    "        query_embeddings=[embedding],\n",
    "        n_results=n_results\n",
    "    )\n",
    "    return results\n",
    "\n"
   ]
  },
  {
   "cell_type": "code",
   "execution_count": 110,
   "id": "b499bfcc",
   "metadata": {},
   "outputs": [],
   "source": [
    "relevant_infos = get_relevant_informations(test_threat.iloc[0], collection, 10)"
   ]
  },
  {
   "cell_type": "code",
   "execution_count": 113,
   "id": "37cf0010",
   "metadata": {},
   "outputs": [
    {
     "name": "stdout",
     "output_type": "stream",
     "text": [
      "Text: A CAPEC with the title Navigation Remapping To Propagate Malicious Content. The description of this CAPEC is: An adversary manipulates either egress or ingress data from a client within an application framework in order to change the content of messages and thereby circumvent the expected application logic.. The Domains of this are: Communications, Software\n",
      "Metadata: {'CAPEC ID': 'CAPEC-387'}\n",
      "Similarity Score: 0.6062\n",
      "----------------------------------------\n",
      "Text: A CAPEC with the title Choosing Message Identifier. The description of this CAPEC is: This pattern of attack is defined by the selection of messages distributed via multicast or public information channels that are intended for another client by determining the parameter value assigned to that client. This attack allows the adversary to gain access to potentially privileged information, and to possibly perpetrate other attacks through the distribution means by impersonation. If the channel/message being manipulated is an input rather than output mechanism for the system, (such as a command bus), this style of attack could be used to change the adversary's identifier to more a privileged one.. The Domain of this is: Communications\n",
      "Metadata: {'CAPEC ID': 'CAPEC-12'}\n",
      "Similarity Score: 0.5924\n",
      "----------------------------------------\n",
      "Text: A CAPEC with the title Application API Button Hijacking. The description of this CAPEC is: An attacker manipulates either egress or ingress data from a client within an application framework in order to change the destination and/or content of buttons displayed to a user within API messages. Performing this attack allows the attacker to manipulate content in such a way as to produce messages or content that looks authentic but contains buttons that point to an attacker controlled destination.. The Domains of this are: Communications, Software\n",
      "Metadata: {'CAPEC ID': 'CAPEC-388'}\n",
      "Similarity Score: 0.5773\n",
      "----------------------------------------\n",
      "Text: A CAPEC with the title Adversary in the Middle (AiTM). The description of this CAPEC is: \n",
      "            <xhtml:p>An adversary targets the communication between two components (typically client and server), in order to alter or obtain data from transactions. A general approach entails the adversary placing themself within the communication channel between the two components.</xhtml:p>\n",
      "         . The Domains of this are: Communications, Software\n",
      "Metadata: {'CAPEC ID': 'CAPEC-94'}\n",
      "Similarity Score: 0.5692\n",
      "----------------------------------------\n",
      "Text: A CAPEC with the title Protocol Manipulation. The description of this CAPEC is: An adversary subverts a communications protocol to perform an attack. This type of attack can allow an adversary to impersonate others, discover sensitive information, control the outcome of a session, or perform other attacks. This type of attack targets invalid assumptions that may be inherent in implementers of the protocol, incorrect implementations of the protocol, or vulnerabilities in the protocol itself.. The Domains of this are: Communications, Software\n",
      "Metadata: {'CAPEC ID': 'CAPEC-272'}\n",
      "Similarity Score: 0.5487\n",
      "----------------------------------------\n",
      "Text: A CAPEC with the title Intent Spoof. The description of this CAPEC is: An adversary, through a previously installed malicious application, issues an intent directed toward a specific trusted application's component in an attempt to achieve a variety of different objectives including modification of data, information disclosure, and data injection. Components that have been unintentionally exported and made public are subject to this type of an attack. If the component trusts the intent's action without verififcation, then the target application performs the functionality at the adversary's request, helping the adversary achieve the desired negative technical impact.. The Domain of this is: Software\n",
      "Metadata: {'CAPEC ID': 'CAPEC-502'}\n",
      "Similarity Score: 0.5475\n",
      "----------------------------------------\n",
      "Text: A CAPEC with the title Using Meta-characters in E-mail Headers to Inject Malicious Payloads. The description of this CAPEC is: This type of attack involves an attacker leveraging meta-characters in email headers to inject improper behavior into email programs. Email software has become increasingly sophisticated and feature-rich. In addition, email applications are ubiquitous and connected directly to the Web making them ideal targets to launch and propagate attacks. As the user demand for new functionality in email applications grows, they become more like browsers with complex rendering and plug in routines. As more email functionality is included and abstracted from the user, this creates opportunities for attackers. Virtually all email applications do not list email header information by default, however the email header contains valuable attacker vectors for the attacker to exploit particularly if the behavior of the email client application is known. Meta-characters are hidden from the user, but can contain scripts, enumerations, probes, and other attacks against the user's system.. The Domains of this are: Software, Software\n",
      "Metadata: {'CAPEC ID': 'CAPEC-41'}\n",
      "Similarity Score: 0.5369\n",
      "----------------------------------------\n",
      "Text: A CAPEC with the title Android Intent Intercept. The description of this CAPEC is: An adversary, through a previously installed malicious application, intercepts messages from a trusted Android-based application in an attempt to achieve a variety of different objectives including denial of service, information disclosure, and data injection. An implicit intent sent from a trusted application can be received by any application that has declared an appropriate intent filter. If the intent is not protected by a permission that the malicious application lacks, then the attacker can gain access to the data contained within the intent. Further, the intent can be either blocked from reaching the intended destination, or modified and potentially forwarded along.. The Domain of this is: Software\n",
      "Metadata: {'CAPEC ID': 'CAPEC-499'}\n",
      "Similarity Score: 0.5356\n",
      "----------------------------------------\n",
      "Text: A CAPEC with the title Scheme Squatting. The description of this CAPEC is: An adversary, through a previously installed malicious application, registers for a URL scheme intended for a target application that has not been installed. Thereafter, messages intended for the target application are handled by the malicious application. Upon receiving a message, the malicious application displays a screen that mimics the target application, thereby convincing the user to enter sensitive information. This type of attack is most often used to obtain sensitive information (e.g., credentials) from the user as they think that they are interacting with the intended target application.. The Domain of this is: Social Engineering\n",
      "Metadata: {'CAPEC ID': 'CAPEC-505'}\n",
      "Similarity Score: 0.5353\n",
      "----------------------------------------\n",
      "Text: A CAPEC with the title Infected Memory. The description of this CAPEC is: An adversary inserts malicious logic into memory enabling them to achieve a negative impact. This logic is often hidden from the user of the system and works behind the scenes to achieve negative impacts. This pattern of attack focuses on systems already fielded and used in operation as opposed to systems that are still under development and part of the supply chain.. The Domains of this are: Software, Hardware\n",
      "Metadata: {'CAPEC ID': 'CAPEC-456'}\n",
      "Similarity Score: 0.5295\n",
      "----------------------------------------\n"
     ]
    }
   ],
   "source": [
    "for doc, meta, score in zip(\n",
    "    relevant_infos['documents'][0],\n",
    "    relevant_infos['metadatas'][0],\n",
    "    relevant_infos['distances'][0]\n",
    "):\n",
    "    print(\"Text:\", doc)\n",
    "    print(\"Metadata:\", meta)\n",
    "    print(\"Similarity Score:\", round(1-score, 4))\n",
    "    print(\"-\" * 40)"
   ]
  },
  {
   "cell_type": "code",
   "execution_count": 112,
   "id": "207b09c7",
   "metadata": {},
   "outputs": [
    {
     "name": "stdout",
     "output_type": "stream",
     "text": [
      "Metadata: {'CAPEC ID': 'CAPEC-387'}\n",
      "Similarity Score: 0.6062\n",
      "----------------------------------------\n",
      "Metadata: {'CAPEC ID': 'CAPEC-12'}\n",
      "Similarity Score: 0.5924\n",
      "----------------------------------------\n",
      "Metadata: {'CAPEC ID': 'CAPEC-388'}\n",
      "Similarity Score: 0.5773\n",
      "----------------------------------------\n",
      "Metadata: {'CAPEC ID': 'CAPEC-94'}\n",
      "Similarity Score: 0.5692\n",
      "----------------------------------------\n",
      "Metadata: {'CAPEC ID': 'CAPEC-272'}\n",
      "Similarity Score: 0.5487\n",
      "----------------------------------------\n",
      "Metadata: {'CAPEC ID': 'CAPEC-502'}\n",
      "Similarity Score: 0.5475\n",
      "----------------------------------------\n",
      "Metadata: {'CAPEC ID': 'CAPEC-41'}\n",
      "Similarity Score: 0.5369\n",
      "----------------------------------------\n",
      "Metadata: {'CAPEC ID': 'CAPEC-499'}\n",
      "Similarity Score: 0.5356\n",
      "----------------------------------------\n",
      "Metadata: {'CAPEC ID': 'CAPEC-505'}\n",
      "Similarity Score: 0.5353\n",
      "----------------------------------------\n",
      "Metadata: {'CAPEC ID': 'CAPEC-456'}\n",
      "Similarity Score: 0.5295\n",
      "----------------------------------------\n"
     ]
    }
   ],
   "source": [
    "for meta, score in zip(relevant_infos['metadatas'][0], relevant_infos['distances'][0]):\n",
    "    print(\"Metadata:\", meta)\n",
    "    print(\"Similarity Score:\", round(1-score, 4))\n",
    "    print(\"-\" * 40)\n"
   ]
  },
  {
   "cell_type": "code",
   "execution_count": 114,
   "id": "beb43042",
   "metadata": {},
   "outputs": [
    {
     "data": {
      "text/plain": [
       "Index(['Name', 'Domain', 'Description', 'CAPEC ID', 'Similarity',\n",
       "       'summary_th_df', 'summary_ca_df'],\n",
       "      dtype='object')"
      ]
     },
     "execution_count": 114,
     "metadata": {},
     "output_type": "execute_result"
    }
   ],
   "source": [
    "threat2capec_mapping_df = pd.read_pickle('mapped_data/all_t2c_mappings.pk1')\n",
    "threat2capec_mapping_df.columns"
   ]
  },
  {
   "cell_type": "code",
   "execution_count": 115,
   "id": "3b7aa25c",
   "metadata": {},
   "outputs": [
    {
     "data": {
      "text/plain": [
       "(101738, 7)"
      ]
     },
     "execution_count": 115,
     "metadata": {},
     "output_type": "execute_result"
    }
   ],
   "source": [
    "threat2capec_mapping_df.shape"
   ]
  },
  {
   "cell_type": "code",
   "execution_count": 116,
   "id": "4fd5fc62",
   "metadata": {},
   "outputs": [],
   "source": [
    "\n",
    "comparison = threat2capec_mapping_df[threat2capec_mapping_df.Name == id_for_query]"
   ]
  },
  {
   "cell_type": "code",
   "execution_count": 117,
   "id": "124652d2",
   "metadata": {},
   "outputs": [
    {
     "data": {
      "text/html": [
       "<div>\n",
       "<style scoped>\n",
       "    .dataframe tbody tr th:only-of-type {\n",
       "        vertical-align: middle;\n",
       "    }\n",
       "\n",
       "    .dataframe tbody tr th {\n",
       "        vertical-align: top;\n",
       "    }\n",
       "\n",
       "    .dataframe thead th {\n",
       "        text-align: right;\n",
       "    }\n",
       "</style>\n",
       "<table border=\"1\" class=\"dataframe\">\n",
       "  <thead>\n",
       "    <tr style=\"text-align: right;\">\n",
       "      <th></th>\n",
       "      <th>CAPEC ID</th>\n",
       "      <th>Similarity</th>\n",
       "    </tr>\n",
       "  </thead>\n",
       "  <tbody>\n",
       "    <tr>\n",
       "      <th>26472</th>\n",
       "      <td>CAPEC-387</td>\n",
       "      <td>0.606208</td>\n",
       "    </tr>\n",
       "    <tr>\n",
       "      <th>85622</th>\n",
       "      <td>CAPEC-12</td>\n",
       "      <td>0.592353</td>\n",
       "    </tr>\n",
       "    <tr>\n",
       "      <th>60506</th>\n",
       "      <td>CAPEC-388</td>\n",
       "      <td>0.577323</td>\n",
       "    </tr>\n",
       "    <tr>\n",
       "      <th>21558</th>\n",
       "      <td>CAPEC-94</td>\n",
       "      <td>0.569238</td>\n",
       "    </tr>\n",
       "    <tr>\n",
       "      <th>12458</th>\n",
       "      <td>CAPEC-272</td>\n",
       "      <td>0.548653</td>\n",
       "    </tr>\n",
       "  </tbody>\n",
       "</table>\n",
       "</div>"
      ],
      "text/plain": [
       "        CAPEC ID  Similarity\n",
       "26472  CAPEC-387    0.606208\n",
       "85622   CAPEC-12    0.592353\n",
       "60506  CAPEC-388    0.577323\n",
       "21558   CAPEC-94    0.569238\n",
       "12458  CAPEC-272    0.548653"
      ]
     },
     "execution_count": 117,
     "metadata": {},
     "output_type": "execute_result"
    }
   ],
   "source": [
    "comparison[['CAPEC ID', 'Similarity']].sort_values('Similarity', ascending=False).head(5)"
   ]
  },
  {
   "cell_type": "code",
   "execution_count": 118,
   "id": "56ff15ce",
   "metadata": {},
   "outputs": [
    {
     "name": "stdout",
     "output_type": "stream",
     "text": [
      "49\n"
     ]
    },
    {
     "data": {
      "image/png": "[encoded data removed]",
      "text/plain": [
       "<Figure size 800x500 with 1 Axes>"
      ]
     },
     "metadata": {},
     "output_type": "display_data"
    }
   ],
   "source": [
    "import matplotlib.pyplot as plt\n",
    "\n",
    "# Filter by similarity\n",
    "filtered_df = threat2capec_mapping_df[threat2capec_mapping_df[\"Similarity\"] > 0.55]\n",
    "\n",
    "# Count CAPECs per threat\n",
    "capec_counts = filtered_df.groupby(\"Name\")[\"CAPEC ID\"].nunique()\n",
    "print(len(capec_counts))\n",
    "# Plot histogram\n",
    "plt.figure(figsize=(8, 5))\n",
    "plt.hist(capec_counts, bins=range(1, capec_counts.max() + 2), edgecolor='black', alpha=0.7)\n",
    "plt.title(\"Distribution of CAPEC counts per threat (similarity > 0.55)\")\n",
    "plt.xlabel(\"Number of CAPECs per threat\")\n",
    "plt.ylabel(\"Number of threats\")\n",
    "plt.grid(axis='y', linestyle='--', alpha=0.7)\n",
    "plt.tight_layout()\n",
    "plt.show()\n",
    "\n"
   ]
  },
  {
   "cell_type": "code",
   "execution_count": 139,
   "id": "2079c47c",
   "metadata": {},
   "outputs": [
    {
     "data": {
      "text/plain": [
       "Name\n",
       "T-AppLCM-01     14\n",
       "T-OPENSRC-02    19\n",
       "T-rAPP-06       22\n",
       "Name: CAPEC ID, dtype: int64"
      ]
     },
     "execution_count": 139,
     "metadata": {},
     "output_type": "execute_result"
    }
   ],
   "source": [
    "capec_counts[capec_counts >= 14]"
   ]
  },
  {
   "cell_type": "code",
   "execution_count": 119,
   "id": "ec3020f4",
   "metadata": {},
   "outputs": [
    {
     "data": {
      "text/plain": [
       "count    176.000000\n",
       "mean       0.576572\n",
       "std        0.025154\n",
       "min        0.550044\n",
       "25%        0.557217\n",
       "50%        0.569787\n",
       "75%        0.585756\n",
       "max        0.660303\n",
       "Name: Similarity, dtype: float64"
      ]
     },
     "execution_count": 119,
     "metadata": {},
     "output_type": "execute_result"
    }
   ],
   "source": [
    "filtered_df.Similarity.describe()"
   ]
  },
  {
   "cell_type": "code",
   "execution_count": 120,
   "id": "8856e1b0",
   "metadata": {},
   "outputs": [
    {
     "data": {
      "text/plain": [
       "'A Threat with the title An attacker bypasses authentication and authorization using an injection attack and the description It is possible that an attacker to submit requests without prior authentication and authorization by executing an injection attack to manipulate configurations, access logs, perform remote code execution, etc.'"
      ]
     },
     "execution_count": 120,
     "metadata": {},
     "output_type": "execute_result"
    }
   ],
   "source": [
    "threat2capec_mapping_df[threat2capec_mapping_df['Name'] == \"T-rAPP-06\"]['summary_th_df'].values[0]"
   ]
  },
  {
   "cell_type": "code",
   "execution_count": 121,
   "id": "4fdcd70b",
   "metadata": {},
   "outputs": [
    {
     "data": {
      "text/plain": [
       "count    49.000000\n",
       "mean      3.591837\n",
       "std       4.559415\n",
       "min       1.000000\n",
       "25%       1.000000\n",
       "50%       2.000000\n",
       "75%       4.000000\n",
       "max      22.000000\n",
       "Name: CAPEC ID, dtype: float64"
      ]
     },
     "execution_count": 121,
     "metadata": {},
     "output_type": "execute_result"
    }
   ],
   "source": [
    "capec_counts.describe()"
   ]
  },
  {
   "cell_type": "code",
   "execution_count": 123,
   "id": "f34f3415",
   "metadata": {},
   "outputs": [
    {
     "data": {
      "text/plain": [
       "np.float64(2.0)"
      ]
     },
     "execution_count": 123,
     "metadata": {},
     "output_type": "execute_result"
    }
   ],
   "source": [
    "capec_counts.median()"
   ]
  },
  {
   "cell_type": "code",
   "execution_count": 122,
   "id": "6b1a9fc7",
   "metadata": {},
   "outputs": [],
   "source": [
    "import numpy as np"
   ]
  },
  {
   "cell_type": "code",
   "execution_count": null,
   "id": "0f67ddb7",
   "metadata": {},
   "outputs": [],
   "source": [
    "def create_rag_prompt2(threat):\n",
    "    n_results = 10\n",
    "    results = get_relevant_informations(threat, collection, n_results=n_results)\n",
    "\n",
    "    # Prepare CAPEC list with IDs and summaries\n",
    "    capec_entries = []\n",
    "    for doc, meta in zip(results['documents'][0], results['metadatas'][0]):\n",
    "        capec_id = meta.get(\"CAPEC ID\", \"N/A\")\n",
    "        capec_entries.append(f\"{capec_id}: {doc}\")\n",
    "\n",
    "    capec_information = \"\\n\".join(capec_entries)\n",
    "    threat_description = threat['summary_th_df']\n",
    "\n",
    "    # Build the RAG prompt\n",
    "    prompt = f\"\"\"\n",
    "This task involves mapping a threat summary from the Open Radio Access Network (O-RAN) domain to relevant attack patterns.\n",
    "O-RAN represents a paradigm shift in Radio Access Network (RAN) design, moving from proprietary hardware to a more open,\n",
    "virtualized, and software-driven approach. It is used for mobile communication networks, particularly for 5G and future\n",
    "generations. Key principles of O-RAN include:\n",
    "- Open System: Characterized by standardized, open interfaces to foster a multi-vendor ecosystem.\n",
    "- Disaggregated RAN: Functionalities are distributed across different physical or virtual network functions.\n",
    "- Software-Driven Approach: Components are deployed on white-box appliances and accelerators.\n",
    "- Closed-Loop Control: Enabled by data-driven components deployed on RAN Intelligent Controllers (RICs).\n",
    "\n",
    "Now, based on the context above, analyze the following threat summary:\n",
    "{threat_description}\n",
    "\n",
    "Additionally, consider the following list of candidate CAPEC entries that were retrieved from a vector database as the 20\n",
    "most similar attack patterns to the given threat summary:\n",
    "\n",
    "{capec_information}\n",
    "\n",
    "From this list, identify which CAPEC IDs are most relevant to the described threat.\n",
    "\n",
    "As an output, provide only a JSON array containing the selected CAPEC IDs.\n",
    "Do not include any explanations or additional text, only the JSON array.\n",
    "\"\"\"\n",
    "    return prompt.strip()\n"
   ]
  },
  {
   "cell_type": "code",
   "execution_count": 127,
   "id": "0a4eae05",
   "metadata": {},
   "outputs": [],
   "source": [
    "small_models = ['deepseek-r1:1.5b']"
   ]
  },
  {
   "cell_type": "code",
   "execution_count": 128,
   "id": "87b8e190",
   "metadata": {},
   "outputs": [
    {
     "name": "stderr",
     "output_type": "stream",
     "text": [
      "100%|██████████| 1/1 [01:14<00:00, 74.44s/it]"
     ]
    },
    {
     "name": "stdout",
     "output_type": "stream",
     "text": [
      "Inference for model deepseek-r1:1.5b completed for threat T-A1-02\n"
     ]
    },
    {
     "name": "stderr",
     "output_type": "stream",
     "text": [
      "\n"
     ]
    }
   ],
   "source": [
    "rag_test = model_inference_ollama(small_models, test_threat, create_rag_prompt)"
   ]
  },
  {
   "cell_type": "code",
   "execution_count": 129,
   "id": "64d32df9",
   "metadata": {},
   "outputs": [
    {
     "name": "stdout",
     "output_type": "stream",
     "text": [
      "========================================\n",
      "Model: deepseek-r1:1.5b\n",
      "Speed: 13.18 tokens/second\n",
      "Total runtime: 00 m 50.08 seconds\n",
      "\n",
      "Output:\n"
     ]
    },
    {
     "data": {
      "text/markdown": [
       "[\n",
       "  {\n",
       "    \"capec_id\": \"94\"\n",
       "  }\n",
       "]"
      ],
      "text/plain": [
       "<IPython.core.display.Markdown object>"
      ]
     },
     "metadata": {},
     "output_type": "display_data"
    }
   ],
   "source": [
    "display_model_results_ollama(small_models, rag_test)"
   ]
  },
  {
   "cell_type": "code",
   "execution_count": 130,
   "id": "3493e2f8",
   "metadata": {},
   "outputs": [],
   "source": [
    "medium_models = ['deepseek-r1:8b']"
   ]
  },
  {
   "cell_type": "code",
   "execution_count": 131,
   "id": "38b4afa3",
   "metadata": {},
   "outputs": [
    {
     "name": "stderr",
     "output_type": "stream",
     "text": [
      "100%|██████████| 1/1 [06:42<00:00, 402.17s/it]"
     ]
    },
    {
     "name": "stdout",
     "output_type": "stream",
     "text": [
      "Inference for model deepseek-r1:8b completed for threat T-A1-02\n"
     ]
    },
    {
     "name": "stderr",
     "output_type": "stream",
     "text": [
      "\n"
     ]
    }
   ],
   "source": [
    "rag_test_medium = model_inference_ollama(medium_models, test_threat, create_rag_prompt)"
   ]
  },
  {
   "cell_type": "code",
   "execution_count": 132,
   "id": "5fc597ff",
   "metadata": {},
   "outputs": [
    {
     "name": "stdout",
     "output_type": "stream",
     "text": [
      "========================================\n",
      "Model: deepseek-r1:8b\n",
      "Speed: 4.44 tokens/second\n",
      "Total runtime: 02 m 48.55 seconds\n",
      "\n",
      "Output:\n"
     ]
    },
    {
     "data": {
      "text/markdown": [
       "```json\n",
       "[\"CAPEC-94\", \"CAPEC-272\"]\n",
       "```"
      ],
      "text/plain": [
       "<IPython.core.display.Markdown object>"
      ]
     },
     "metadata": {},
     "output_type": "display_data"
    }
   ],
   "source": [
    "display_model_results_ollama(medium_models, rag_test_medium)"
   ]
  },
  {
   "cell_type": "markdown",
   "id": "b149fd32",
   "metadata": {},
   "source": [
    "## Fine Tuning with LoRA"
   ]
  },
  {
   "cell_type": "code",
   "execution_count": 9,
   "id": "8e6bb3f9",
   "metadata": {},
   "outputs": [
    {
     "name": "stderr",
     "output_type": "stream",
     "text": [
      "/tmp/ipykernel_3837/4019501768.py:1: UserWarning: WARNING: Unsloth should be imported before transformers, peft to ensure all optimizations are applied. Your code may run slower or encounter memory issues without these optimizations.\n",
      "\n",
      "Please restructure your imports with 'import unsloth' at the top of your file.\n",
      "  from unsloth import FastLanguageModel, is_bfloat16_supported\n"
     ]
    },
    {
     "name": "stdout",
     "output_type": "stream",
     "text": [
      "🦥 Unsloth: Will patch your computer to enable 2x faster free finetuning.\n",
      "🦥 Unsloth Zoo will now patch everything to make training faster!\n"
     ]
    }
   ],
   "source": [
    "from unsloth import FastLanguageModel, is_bfloat16_supported\n",
    "from transformers import TrainingArguments\n",
    "from trl import SFTTrainer\n",
    "import wandb\n"
   ]
  },
  {
   "cell_type": "code",
   "execution_count": 14,
   "id": "e131f8f5",
   "metadata": {},
   "outputs": [],
   "source": [
    "wnb_token = os.getenv(\"WNB_TOKEN\")"
   ]
  },
  {
   "cell_type": "code",
   "execution_count": null,
   "id": "0ddced48",
   "metadata": {},
   "outputs": [
    {
     "ename": "SyntaxError",
     "evalue": "closing parenthesis '}' does not match opening parenthesis '(' on line 2 (651126383.py, line 16)",
     "output_type": "error",
     "traceback": [
      "  \u001b[36mCell\u001b[39m\u001b[36m \u001b[39m\u001b[32mIn[16]\u001b[39m\u001b[32m, line 16\u001b[39m\n\u001b[31m    \u001b[39m\u001b[31m})\u001b[39m\n    ^\n\u001b[31mSyntaxError\u001b[39m\u001b[31m:\u001b[39m closing parenthesis '}' does not match opening parenthesis '(' on line 2\n"
     ]
    }
   ],
   "source": [
    "wandb.login(key=wnb_token)\n",
    "run = wandb.init(\n",
    "    project=\"capec-mapping\",\n",
    "    job_type=\"training\",\n",
    "    anonymous=\"allow\",\n",
    "        )\n",
    "    # config={\n",
    "    #     \"model_name\": \"deepseek-r1:8b\",\n",
    "    #     \"dataset\": \"mapped_data/lora_training_data.jsonl\",\n",
    "    #     \"batch_size\": 4,\n",
    "    #     \"learning_rate\": 2e-5,\n",
    "    #     \"num_train_epochs\": 3,\n",
    "    #     \"gradient_accumulation_steps\": 1,\n",
    "    #     \"logging_steps\": 10,\n",
    "    #     \"save_steps\": 1000,\n",
    "    # \n",
    "\n"
   ]
  },
  {
   "cell_type": "code",
   "execution_count": 12,
   "id": "1a70b0e6",
   "metadata": {},
   "outputs": [
    {
     "name": "stdout",
     "output_type": "stream",
     "text": [
      "{'capec_id': 'CAPEC-533',\n",
      " 'mapped_capec': 'A CAPEC with the title Malicious Manual Software Update. The '\n",
      "                 'description of this CAPEC is:An attacker introduces '\n",
      "                 \"malicious code to the victim's system by altering the \"\n",
      "                 'payload of a software update, allowing for additional '\n",
      "                 'compromise or site disruption at the victim location. These '\n",
      "                 'manual, or user-assisted attacks, vary from requiring the '\n",
      "                 'user to download and run an executable, to as streamlined as '\n",
      "                 'tricking the user to click a URL. Attacks which aim at '\n",
      "                 'penetrating a specific network infrastructure often rely '\n",
      "                 'upon secondary attack methods to achieve the desired impact. '\n",
      "                 'Spamming, for example, is a common method employed as an '\n",
      "                 'secondary attack vector. Thus the attacker has in their '\n",
      "                 'arsenal a choice of initial attack vectors ranging from '\n",
      "                 'traditional SMTP/POP/IMAP spamming and its varieties, to '\n",
      "                 'web-application mechanisms which commonly implement both '\n",
      "                 'chat and rich HTML messaging within the user interface.. The '\n",
      "                 'Domains of this are: Social Engineering, Supply Chain, '\n",
      "                 'Software',\n",
      " 'threat': 'Threat Summary: A Threat with the title Attacker exploits insecure '\n",
      "           'API to gain access to SMO and the descriptionAn insecure API may '\n",
      "           'allow access to a system for an attacker to conduct remote code '\n",
      "           'execution or an advanced persistent threat'}\n"
     ]
    }
   ],
   "source": [
    "import json\n",
    "\n",
    "file_path = 'mapped_data/lora_training_data.jsonl'\n",
    "\n",
    "# Use a list comprehension to load each line as a separate JSON object\n",
    "data = [json.loads(line) for line in open(file_path, 'r', encoding='utf-8')]\n",
    "\n",
    "# 'data' is now a list of dictionaries, one for each line in your file.\n",
    "pprint(data[0]) # To see the first item"
   ]
  },
  {
   "cell_type": "markdown",
   "id": "f1788469",
   "metadata": {},
   "source": [
    "# Evaluation"
   ]
  },
  {
   "cell_type": "code",
   "execution_count": 16,
   "id": "3a94b294",
   "metadata": {},
   "outputs": [],
   "source": [
    "import re\n",
    "import json\n",
    "from datetime import datetime\n",
    "\n",
    "def run_and_log(func, *args, models, threat_id, environment=None, optimization=None, **kwargs):\n",
    "    \"\"\"\n",
    "    Runs the specified function and logs its runtime, environment,\n",
    "    optimization info, and timestamp to:\n",
    "      - a model-suffix-specific evaluation.md file\n",
    "      - a global evaluation_results.jsonl file\n",
    "    \"\"\"\n",
    "\n",
    "    # Normalize model name and suffix\n",
    "    model = models[0] if isinstance(models, list) else models\n",
    "\n",
    "    # Run the function and measure time\n",
    "    result = func(models=models, *args, **kwargs)\n",
    "    \n",
    "\n",
    "    # Access model output\n",
    "    resp = result[model][0]\n",
    "    full_output = resp.get(\"response\", \"\")\n",
    "    \n",
    "    # Calculate tokens/sec if available\n",
    "    tokens_per_second = None\n",
    "    runtime = None\n",
    "    if optimization and hasattr(resp, \"eval_count\") and hasattr(resp, \"eval_duration\"):\n",
    "        tokens_per_second = resp.eval_count / (resp.eval_duration / 1e9)\n",
    "        tokens_per_second = round(tokens_per_second, 2)\n",
    "        runtime = round(resp.eval_duration / 1e9, 2)\n",
    "        prompt_token_length = resp.prompt_eval_count\n",
    "        response_length = resp.eval_count\n",
    "        timestamp = resp.created_at\n",
    "        \n",
    "\n",
    "    # Extract JSON part from output\n",
    "    json_part = \"\"\n",
    "    match_block = re.search(r\"```json\\s*([\\s\\S]*?)\\s*```\", full_output, re.DOTALL)\n",
    "    # Corrected regex to handle whitespace after the list\n",
    "    match_list = re.search(r\"(\\[\\s*[\\s\\S]*?\\])\\s*$\", full_output.strip())\n",
    "    \n",
    "    if match_block:\n",
    "        json_part = match_block.group(1).strip()\n",
    "    elif match_list:\n",
    "        json_part = match_list.group(1).strip()\n",
    "    else:\n",
    "        json_part = \"no json\"\n",
    "\n",
    "    # -------- JSONL logging --------\n",
    "    log_entry = {\n",
    "        \"Threat_ID\": threat_id,\n",
    "        \"Model\": model,\n",
    "        \"Optimization\": optimization,\n",
    "        \"Prompt_length\": prompt_token_length,\n",
    "        \"Response_length\": response_length,\n",
    "        \"Model_Speed\": tokens_per_second,\n",
    "        \"Runtime\": runtime,\n",
    "        \"Json\": json_part,\n",
    "        \"Result\": full_output,\n",
    "        \"Environment\": environment,\n",
    "        \"Timestamp\": timestamp,\n",
    "    }\n",
    "\n",
    "    jsonl_file = \"./results/evaluation_results_v2.jsonl\"\n",
    "    with open(jsonl_file, \"a\", encoding=\"utf-8\") as f:\n",
    "        f.write(json.dumps(log_entry, ensure_ascii=False) + \"\\n\")\n",
    "\n",
    "    return result"
   ]
  },
  {
   "cell_type": "code",
   "execution_count": 5,
   "id": "b60255fe",
   "metadata": {},
   "outputs": [],
   "source": [
    "models = ['deepseek-r1:1.5b']"
   ]
  },
  {
   "cell_type": "code",
   "execution_count": 151,
   "id": "d8ff6139",
   "metadata": {},
   "outputs": [],
   "source": [
    "models = ['deepseek-r1:14b']"
   ]
  },
  {
   "cell_type": "code",
   "execution_count": 176,
   "id": "2323ec8e",
   "metadata": {},
   "outputs": [],
   "source": [
    "models = ['deepseek-r1:32b']"
   ]
  },
  {
   "cell_type": "code",
   "execution_count": 5,
   "id": "04ab3c7c",
   "metadata": {},
   "outputs": [],
   "source": [
    "models = ['deepseek-r1:70b']"
   ]
  },
  {
   "cell_type": "code",
   "execution_count": 21,
   "id": "00ae3e10",
   "metadata": {},
   "outputs": [],
   "source": [
    "models = ['gpt-oss:20b']"
   ]
  },
  {
   "cell_type": "code",
   "execution_count": 39,
   "id": "fc684f70",
   "metadata": {},
   "outputs": [],
   "source": [
    "models = ['gemini-2.5-flash']"
   ]
  },
  {
   "cell_type": "code",
   "execution_count": 33,
   "id": "bad6710d",
   "metadata": {},
   "outputs": [],
   "source": [
    "models = ['gemini-2.5-flash-lite-preview-06-17']"
   ]
  },
  {
   "cell_type": "code",
   "execution_count": null,
   "id": "7445489e",
   "metadata": {},
   "outputs": [],
   "source": [
    "models = ['gemini-2.5-pro']"
   ]
  },
  {
   "cell_type": "code",
   "execution_count": 2,
   "id": "dd743074",
   "metadata": {},
   "outputs": [],
   "source": [
    "import pandas as pd"
   ]
  },
  {
   "cell_type": "code",
   "execution_count": 4,
   "id": "bb35fe9a",
   "metadata": {},
   "outputs": [
    {
     "data": {
      "text/plain": [
       "Index(['Threat ID', 'summary_th_df'], dtype='object')"
      ]
     },
     "execution_count": 4,
     "metadata": {},
     "output_type": "execute_result"
    }
   ],
   "source": [
    "threat_data_for_PE = pd.read_pickle('threat_data/threat_data_for_PE.pk1')\n",
    "threat_data_for_PE.columns"
   ]
  },
  {
   "cell_type": "code",
   "execution_count": 5,
   "id": "4b5384e8",
   "metadata": {},
   "outputs": [
    {
     "data": {
      "text/plain": [
       "Index(['Threat ID', 'summary_th_df', 'embedding'], dtype='object')"
      ]
     },
     "execution_count": 5,
     "metadata": {},
     "output_type": "execute_result"
    }
   ],
   "source": [
    "threat_data_for_RAG = pd.read_pickle('threat_data/threat_data_for_RAG.pk1')\n",
    "threat_data_for_RAG.columns"
   ]
  },
  {
   "cell_type": "code",
   "execution_count": null,
   "id": "d0df601d",
   "metadata": {},
   "outputs": [
    {
     "name": "stdout",
     "output_type": "stream",
     "text": [
      "Threat 1: T-O-RAN-01\n",
      "This task involves mapping a threat summary from the Open Radio Access Network (O-RAN) domain to relevant attack patterns.\n",
      "\n",
      "O-RAN represents a paradigm shift in Radio Access Network (RAN) design, moving from proprietary hardware to a more open, virtualized, and software-driven approach. It is used for mobile communication networks, particularly for 5G and future generations. Key principles of O-RAN include:\n",
      "- Open System: Characterized by standardized, open interfaces to foster a multi-vendor ecosystem.\n",
      "- Disaggregated RAN: Functionalities are distributed across different physical or virtual network functions.\n",
      "- Software-Driven Approach: Components are deployed on white-box appliances and accelerators.\n",
      "- Closed-Loop Control: Enabled by data-driven components deployed on RAN Intelligent Controllers (RICs).\n",
      "\n",
      "Now, based on the context above, analyze the following threat summary:\n",
      "\n",
      "\"A Threat with the title An attacker exploits insecure designs or lack of adaption in O-RAN components and the description Unauthenticated/unauthorized access to O-RAN components could possibly be achieved via the different O-RAN interfaces, depending upon the design of the hardware-software O-RAN system and how different functions are segregated within the O-RAN system. \n",
      "O-RAN components might be vulnerable if: \n",
      "• Outdated component from the lack of update or patch management,\n",
      "• Poorly design architecture,\n",
      "• Missing appropriate security hardening,\n",
      "• Unnecessary or insecure function/protocol/component.\n",
      "An attacker could, in such case, either inject malwares and/or manipulate existing software, harm the O-RAN components, create a performance issue by manipulation of parameters, or reconfigure the O-RAN components and disable the security features with the purpose of eavesdropping or wiretapping on various CUS & M planes, reaching northbound systems, attack broader network to cause denial-of-service, steal unprotected private keys, certificates, hash values, or other type of breaches.\n",
      "In addition, O-RAN components could be software providing network functions, so they are likely to be vulnerable to software flaws: it could be possible to bypass firewall restrictions or to take advantage of a buffer overflow to execute arbitrary commands, etc.\"\n",
      "\n",
      "Provide the most relevant CAPEC IDs for this threat. CAPEC stands for Common Attack Pattern Enumeration and Classification.\n",
      "\n",
      "As an output, provide a JSON array of CAPEC IDs that are most relevant to the threat described. Do not include any additional text or explanations, just the JSON array.\n"
     ]
    }
   ],
   "source": [
    "# Record the start time before the loop\n",
    "start_time = time.time()\n",
    "\n",
    "for idx, threat in threat_data_for_PE.iterrows():\n",
    "    print(f\"Threat {idx+1}: {threat['Threat ID']}\")\n",
    "    single_threat_df = pd.DataFrame(threat).T\n",
    "    \n",
    "    run_and_log(\n",
    "        func=model_inference_ollama,\n",
    "        models=models,\n",
    "        threat_id=threat['Threat ID'],\n",
    "        df=single_threat_df,\n",
    "        prompt_function=create_third_zero_shot_prompt,\n",
    "        environment=\"Medium\",\n",
    "        optimization='PE-Third_ZeroShot'\n",
    "    )\n",
    "\n",
    "# Record the end time after the loop\n",
    "end_time = time.time()\n",
    "\n",
    "# Calculate the total runtime in seconds\n",
    "total_runtime_seconds = end_time - start_time\n",
    "\n",
    "# Create a timedelta object from the total seconds\n",
    "total_runtime = timedelta(seconds=total_runtime_seconds)\n",
    "\n",
    "# Print the total runtime\n",
    "print(f\"Total runtime for all threats: {total_runtime} with model {models[0]}\")"
   ]
  },
  {
   "cell_type": "code",
   "execution_count": 6,
   "id": "2e9a8cc2",
   "metadata": {},
   "outputs": [],
   "source": [
    "# load jsonl content\n",
    "jsonl_data = pd.read_json(\"results/evaluation_results_v2.jsonl\", lines = True)"
   ]
  },
  {
   "cell_type": "code",
   "execution_count": 15,
   "id": "e051f958",
   "metadata": {},
   "outputs": [
    {
     "data": {
      "text/plain": [
       "np.int64(83)"
      ]
     },
     "execution_count": 15,
     "metadata": {},
     "output_type": "execute_result"
    }
   ],
   "source": [
    "jsonl_data['Json'].value_counts().get(\"no json\",0)"
   ]
  },
  {
   "cell_type": "markdown",
   "id": "c91589eb",
   "metadata": {},
   "source": [
    "### Results"
   ]
  },
  {
   "cell_type": "code",
   "execution_count": 6,
   "id": "eee44bde",
   "metadata": {},
   "outputs": [],
   "source": [
    "our_mappings = pd.read_csv('mapped_data/hfc_general_threats_capec_mapping_min0.55.csv', sep=';')\n",
    "our_mappings_for_random = our_mappings[['Name', 'summary_th_df']]\n",
    "random_threats = our_mappings_for_random.drop_duplicates().sample(2, random_state=42)"
   ]
  },
  {
   "cell_type": "code",
   "execution_count": 7,
   "id": "320026bd",
   "metadata": {},
   "outputs": [
    {
     "data": {
      "text/html": [
       "<div>\n",
       "<style scoped>\n",
       "    .dataframe tbody tr th:only-of-type {\n",
       "        vertical-align: middle;\n",
       "    }\n",
       "\n",
       "    .dataframe tbody tr th {\n",
       "        vertical-align: top;\n",
       "    }\n",
       "\n",
       "    .dataframe thead th {\n",
       "        text-align: right;\n",
       "    }\n",
       "</style>\n",
       "<table border=\"1\" class=\"dataframe\">\n",
       "  <thead>\n",
       "    <tr style=\"text-align: right;\">\n",
       "      <th></th>\n",
       "      <th>Name</th>\n",
       "      <th>summary_th_df</th>\n",
       "    </tr>\n",
       "  </thead>\n",
       "  <tbody>\n",
       "    <tr>\n",
       "      <th>17</th>\n",
       "      <td>T-SMO-13</td>\n",
       "      <td>A Threat with the title Malicious actor views local logs and the description Malicious actor accesses locally stored logs in the SMO to perform reconnaissance to collect sensitive or private information.</td>\n",
       "    </tr>\n",
       "    <tr>\n",
       "      <th>149</th>\n",
       "      <td>T-OPENSRC-01</td>\n",
       "      <td>A Threat with the title Developers use SW components with known vulnerabilities and untrusted libraries that can be exploited by an attacker through a backdoor attack and the description The O-RAN Software Community is a Linux Foundation project, supported and funded by O-RAN to lead the implementation of the O-RAN specifications in Open Source. Industry has recognized that Open Source code introduces security risks. Open Source vulnerabilities are publicly available on the National Vulnerability Database (NVD). While this is intended for developers to disclose vulnerabilities, it is also used by hackers to exploit those vulnerabilities. Vulnerabilities frequently propagate as developers re-use free open source code enabling backdoors to attacks. There have been notable vulnerabilities from downloading open source libraries and dependencies, as well as supply chain risks when downloading Open Source code from untrusted repositories.\\nSome O-RAN vendors and operators may not have accurate inventories of open-source software dependencies used by their different applications, or a process to receive and manage notifications concerning discovered vulnerabilities or available patches from the community supporting the open-source.\\nSome O-RAN vendors may not have a lack of consistent Supply Chain traceability and security, and a lack of coding best practices conflicts with Security-by-Design principles.\\nDevelopers may use modules with known vulnerabilities and untrusted libraries that can be exploited by an attacker through a backdoor attack.\\nAttackers can exploit a vulnerability on the open source code and infects a hypervisor, operating system, VM or container with a malware.</td>\n",
       "    </tr>\n",
       "  </tbody>\n",
       "</table>\n",
       "</div>"
      ],
      "text/plain": [
       "             Name  \\\n",
       "17       T-SMO-13   \n",
       "149  T-OPENSRC-01   \n",
       "\n",
       "                                                                                                                                                                                                                                                                                                                                                                                                                                                                                                                                                                                                                                                                                                                                                                                                                                                                                                                                                                                                                                                                                                                                                                                                                                                                                                                                                                                                                                                                                                                                                                                                                                                                                                                                                              summary_th_df  \n",
       "17                                                                                                                                                                                                                                                                                                                                                                                                                                                                                                                                                                                                                                                                                                                                                                                                                                                                                                                                                                                                                                                                                                                                                                                                                                                                                                                                                                                                                                                                                                                                                              A Threat with the title Malicious actor views local logs and the description Malicious actor accesses locally stored logs in the SMO to perform reconnaissance to collect sensitive or private information.  \n",
       "149  A Threat with the title Developers use SW components with known vulnerabilities and untrusted libraries that can be exploited by an attacker through a backdoor attack and the description The O-RAN Software Community is a Linux Foundation project, supported and funded by O-RAN to lead the implementation of the O-RAN specifications in Open Source. Industry has recognized that Open Source code introduces security risks. Open Source vulnerabilities are publicly available on the National Vulnerability Database (NVD). While this is intended for developers to disclose vulnerabilities, it is also used by hackers to exploit those vulnerabilities. Vulnerabilities frequently propagate as developers re-use free open source code enabling backdoors to attacks. There have been notable vulnerabilities from downloading open source libraries and dependencies, as well as supply chain risks when downloading Open Source code from untrusted repositories.\\nSome O-RAN vendors and operators may not have accurate inventories of open-source software dependencies used by their different applications, or a process to receive and manage notifications concerning discovered vulnerabilities or available patches from the community supporting the open-source.\\nSome O-RAN vendors may not have a lack of consistent Supply Chain traceability and security, and a lack of coding best practices conflicts with Security-by-Design principles.\\nDevelopers may use modules with known vulnerabilities and untrusted libraries that can be exploited by an attacker through a backdoor attack.\\nAttackers can exploit a vulnerability on the open source code and infects a hypervisor, operating system, VM or container with a malware.  "
      ]
     },
     "execution_count": 7,
     "metadata": {},
     "output_type": "execute_result"
    }
   ],
   "source": [
    "random_threats"
   ]
  },
  {
   "cell_type": "code",
   "execution_count": 8,
   "id": "201933a2",
   "metadata": {},
   "outputs": [],
   "source": [
    "id_1 = random_threats.iloc[0]['Name']\n",
    "id_2 = random_threats.iloc[1]['Name']"
   ]
  },
  {
   "cell_type": "code",
   "execution_count": 9,
   "id": "9b868c5c",
   "metadata": {},
   "outputs": [
    {
     "data": {
      "text/html": [
       "<div>\n",
       "<style scoped>\n",
       "    .dataframe tbody tr th:only-of-type {\n",
       "        vertical-align: middle;\n",
       "    }\n",
       "\n",
       "    .dataframe tbody tr th {\n",
       "        vertical-align: top;\n",
       "    }\n",
       "\n",
       "    .dataframe thead th {\n",
       "        text-align: right;\n",
       "    }\n",
       "</style>\n",
       "<table border=\"1\" class=\"dataframe\">\n",
       "  <thead>\n",
       "    <tr style=\"text-align: right;\">\n",
       "      <th></th>\n",
       "      <th>Name</th>\n",
       "      <th>Domain</th>\n",
       "      <th>Description</th>\n",
       "      <th>CAPEC ID</th>\n",
       "      <th>Similarity</th>\n",
       "      <th>summary_th_df</th>\n",
       "      <th>summary_ca_df</th>\n",
       "    </tr>\n",
       "  </thead>\n",
       "  <tbody>\n",
       "    <tr>\n",
       "      <th>17</th>\n",
       "      <td>T-SMO-13</td>\n",
       "      <td>enterprise-attack</td>\n",
       "      <td>Malicious actor views local logs</td>\n",
       "      <td>CAPEC-93</td>\n",
       "      <td>0.603871</td>\n",
       "      <td>A Threat with the title Malicious actor views local logs and the description Malicious actor accesses locally stored logs in the SMO to perform reconnaissance to collect sensitive or private information.</td>\n",
       "      <td>A CAPEC with the title Log Injection-Tampering-Forging. The description of this CAPEC is: This attack targets the log files of the target host. The attacker injects, manipulates or forges malicious log entries in the log file, allowing them to mislead a log audit, cover traces of attack, or perform other malicious actions. The target host is not properly controlling log access. As a result tainted data is resulting in the log files leading to a failure in accountability, non-repudiation and incident forensics capability.. The Domain of this is: Software</td>\n",
       "    </tr>\n",
       "    <tr>\n",
       "      <th>133</th>\n",
       "      <td>T-SMO-13</td>\n",
       "      <td>enterprise-attack</td>\n",
       "      <td>Malicious actor views local logs</td>\n",
       "      <td>CAPEC-268</td>\n",
       "      <td>0.620070</td>\n",
       "      <td>A Threat with the title Malicious actor views local logs and the description Malicious actor accesses locally stored logs in the SMO to perform reconnaissance to collect sensitive or private information.</td>\n",
       "      <td>A CAPEC with the title Audit Log Manipulation. The description of this CAPEC is: The attacker injects, manipulates, deletes, or forges malicious log entries into the log file, in an attempt to mislead an audit of the log file or cover tracks of an attack. Due to either insufficient access controls of the log files or the logging mechanism, the attacker is able to perform such actions.. The Domain of this is: Software</td>\n",
       "    </tr>\n",
       "  </tbody>\n",
       "</table>\n",
       "</div>"
      ],
      "text/plain": [
       "         Name             Domain                       Description   CAPEC ID  \\\n",
       "17   T-SMO-13  enterprise-attack  Malicious actor views local logs   CAPEC-93   \n",
       "133  T-SMO-13  enterprise-attack  Malicious actor views local logs  CAPEC-268   \n",
       "\n",
       "     Similarity  \\\n",
       "17     0.603871   \n",
       "133    0.620070   \n",
       "\n",
       "                                                                                                                                                                                                   summary_th_df  \\\n",
       "17   A Threat with the title Malicious actor views local logs and the description Malicious actor accesses locally stored logs in the SMO to perform reconnaissance to collect sensitive or private information.   \n",
       "133  A Threat with the title Malicious actor views local logs and the description Malicious actor accesses locally stored logs in the SMO to perform reconnaissance to collect sensitive or private information.   \n",
       "\n",
       "                                                                                                                                                                                                                                                                                                                                                                                                                                                                                                                                                                       summary_ca_df  \n",
       "17   A CAPEC with the title Log Injection-Tampering-Forging. The description of this CAPEC is: This attack targets the log files of the target host. The attacker injects, manipulates or forges malicious log entries in the log file, allowing them to mislead a log audit, cover traces of attack, or perform other malicious actions. The target host is not properly controlling log access. As a result tainted data is resulting in the log files leading to a failure in accountability, non-repudiation and incident forensics capability.. The Domain of this is: Software  \n",
       "133                                                                                                                                             A CAPEC with the title Audit Log Manipulation. The description of this CAPEC is: The attacker injects, manipulates, deletes, or forges malicious log entries into the log file, in an attempt to mislead an audit of the log file or cover tracks of an attack. Due to either insufficient access controls of the log files or the logging mechanism, the attacker is able to perform such actions.. The Domain of this is: Software  "
      ]
     },
     "execution_count": 9,
     "metadata": {},
     "output_type": "execute_result"
    }
   ],
   "source": [
    "our_mappings[our_mappings['Name'] == id_1]"
   ]
  },
  {
   "cell_type": "code",
   "execution_count": 20,
   "id": "e89bee8d",
   "metadata": {},
   "outputs": [
    {
     "data": {
      "text/html": [
       "<div>\n",
       "<style scoped>\n",
       "    .dataframe tbody tr th:only-of-type {\n",
       "        vertical-align: middle;\n",
       "    }\n",
       "\n",
       "    .dataframe tbody tr th {\n",
       "        vertical-align: top;\n",
       "    }\n",
       "\n",
       "    .dataframe thead th {\n",
       "        text-align: right;\n",
       "    }\n",
       "</style>\n",
       "<table border=\"1\" class=\"dataframe\">\n",
       "  <thead>\n",
       "    <tr style=\"text-align: right;\">\n",
       "      <th></th>\n",
       "      <th>Name</th>\n",
       "      <th>Domain</th>\n",
       "      <th>Description</th>\n",
       "      <th>CAPEC ID</th>\n",
       "      <th>Similarity</th>\n",
       "      <th>summary_th_df</th>\n",
       "      <th>summary_ca_df</th>\n",
       "    </tr>\n",
       "  </thead>\n",
       "  <tbody>\n",
       "    <tr>\n",
       "      <th>149</th>\n",
       "      <td>T-OPENSRC-01</td>\n",
       "      <td>enterprise-attack</td>\n",
       "      <td>Developers use SW components with known vulnerabilities and untrusted libraries that can be exploited by an attacker through a backdoor attack</td>\n",
       "      <td>CAPEC-538</td>\n",
       "      <td>0.660303</td>\n",
       "      <td>A Threat with the title Developers use SW components with known vulnerabilities and untrusted libraries that can be exploited by an attacker through a backdoor attack and the description The O-RAN Software Community is a Linux Foundation project, supported and funded by O-RAN to lead the implementation of the O-RAN specifications in Open Source. Industry has recognized that Open Source code introduces security risks. Open Source vulnerabilities are publicly available on the National Vulnerability Database (NVD). While this is intended for developers to disclose vulnerabilities, it is also used by hackers to exploit those vulnerabilities. Vulnerabilities frequently propagate as developers re-use free open source code enabling backdoors to attacks. There have been notable vulnerabilities from downloading open source libraries and dependencies, as well as supply chain risks when downloading Open Source code from untrusted repositories.\\r\\nSome O-RAN vendors and operators may not have accurate inventories of open-source software dependencies used by their different applications, or a process to receive and manage notifications concerning discovered vulnerabilities or available patches from the community supporting the open-source.\\r\\nSome O-RAN vendors may not have a lack of consistent Supply Chain traceability and security, and a lack of coding best practices conflicts with Security-by-Design principles.\\r\\nDevelopers may use modules with known vulnerabilities and untrusted libraries that can be exploited by an attacker through a backdoor attack.\\r\\nAttackers can exploit a vulnerability on the open source code and infects a hypervisor, operating system, VM or container with a malware.</td>\n",
       "      <td>A CAPEC with the title Open-Source Library Manipulation. The description of this CAPEC is: Adversaries implant malicious code in open source software (OSS) libraries to have it widely distributed, as OSS is commonly downloaded by developers and other users to incorporate into software development projects. The adversary can have a particular system in mind to target, or the implantation can be the first stage of follow-on attacks on many systems.. The Domain of this is: Software</td>\n",
       "    </tr>\n",
       "  </tbody>\n",
       "</table>\n",
       "</div>"
      ],
      "text/plain": [
       "             Name             Domain  \\\n",
       "149  T-OPENSRC-01  enterprise-attack   \n",
       "\n",
       "                                                                                                                                        Description  \\\n",
       "149  Developers use SW components with known vulnerabilities and untrusted libraries that can be exploited by an attacker through a backdoor attack   \n",
       "\n",
       "      CAPEC ID  Similarity  \\\n",
       "149  CAPEC-538    0.660303   \n",
       "\n",
       "                                                                                                                                                                                                                                                                                                                                                                                                                                                                                                                                                                                                                                                                                                                                                                                                                                                                                                                                                                                                                                                                                                                                                                                                                                                                                                                                                                                                                                                                                                                                                                                                                                                                                                                                                                      summary_th_df  \\\n",
       "149  A Threat with the title Developers use SW components with known vulnerabilities and untrusted libraries that can be exploited by an attacker through a backdoor attack and the description The O-RAN Software Community is a Linux Foundation project, supported and funded by O-RAN to lead the implementation of the O-RAN specifications in Open Source. Industry has recognized that Open Source code introduces security risks. Open Source vulnerabilities are publicly available on the National Vulnerability Database (NVD). While this is intended for developers to disclose vulnerabilities, it is also used by hackers to exploit those vulnerabilities. Vulnerabilities frequently propagate as developers re-use free open source code enabling backdoors to attacks. There have been notable vulnerabilities from downloading open source libraries and dependencies, as well as supply chain risks when downloading Open Source code from untrusted repositories.\\r\\nSome O-RAN vendors and operators may not have accurate inventories of open-source software dependencies used by their different applications, or a process to receive and manage notifications concerning discovered vulnerabilities or available patches from the community supporting the open-source.\\r\\nSome O-RAN vendors may not have a lack of consistent Supply Chain traceability and security, and a lack of coding best practices conflicts with Security-by-Design principles.\\r\\nDevelopers may use modules with known vulnerabilities and untrusted libraries that can be exploited by an attacker through a backdoor attack.\\r\\nAttackers can exploit a vulnerability on the open source code and infects a hypervisor, operating system, VM or container with a malware.   \n",
       "\n",
       "                                                                                                                                                                                                                                                                                                                                                                                                                                                                                           summary_ca_df  \n",
       "149  A CAPEC with the title Open-Source Library Manipulation. The description of this CAPEC is: Adversaries implant malicious code in open source software (OSS) libraries to have it widely distributed, as OSS is commonly downloaded by developers and other users to incorporate into software development projects. The adversary can have a particular system in mind to target, or the implantation can be the first stage of follow-on attacks on many systems.. The Domain of this is: Software  "
      ]
     },
     "execution_count": 20,
     "metadata": {},
     "output_type": "execute_result"
    }
   ],
   "source": [
    "our_mappings[our_mappings['Name'] == id_2]"
   ]
  },
  {
   "cell_type": "code",
   "execution_count": 4,
   "id": "368441c9",
   "metadata": {},
   "outputs": [],
   "source": [
    "jsonl_data = pd.read_json(\"results/evaluation_results_v2.jsonl\", lines=True)"
   ]
  },
  {
   "cell_type": "code",
   "execution_count": 6,
   "id": "e865e011",
   "metadata": {},
   "outputs": [
    {
     "name": "stdout",
     "output_type": "stream",
     "text": [
      "Threat_ID                                                                                                                                                                                                                                                                                                                                                                                                                                                                                                                                                                                                                                                                                                                                                                                                                                                                                                                                                                                                                                                                                                                                                                                                                                                                                                                                                                                                                                                                                                                                                                                                                                                                                                                                                                                                                                                                                                                                                                                                                                                                                                                                                                                                                                                                                                                                                                                                                                                                                                                                                                                                                                                                                                                                                                                                                                                                                                                                                                                                                                                                                                                                                                                                                                                                                                                                                                                                                                                                                                                                                                                                                                                                                                                                                                                                                                                                                                                                                                                                                                                                                                                                                                                                                                                                                                                                                                                                                                                                                                                                                                                                                                                                                                                                                                                                                                                                                                                                                                                                                                                                                                                                                                                                                                                                                                                                                                                                                                                                                                                                                                                                                                                                                                                                                                                                                                                                                                                                                                                                                                                                                                                                                                                                                                                                                                                                                                                                                                                                                                                                                                                                                                                                                                                                                                                                                                                                                                                                                                                                                                                                                                                                                                                                                                                                                                                                                                                                                                                                                                                                                                                                                                                                                                                                                                                                                                                                                                                                                                                                                                                                                                                                                                                                                                                   T-GEN-04\n",
      "Model                                                                                                                                                                                                                                                                                                                                                                                                                                                                                                                                                                                                                                                                                                                                                                                                                                                                                                                                                                                                                                                                                                                                                                                                                                                                                                                                                                                                                                                                                                                                                                                                                                                                                                                                                                                                                                                                                                                                                                                                                                                                                                                                                                                                                                                                                                                                                                                                                                                                                                                                                                                                                                                                                                                                                                                                                                                                                                                                                                                                                                                                                                                                                                                                                                                                                                                                                                                                                                                                                                                                                                                                                                                                                                                                                                                                                                                                                                                                                                                                                                                                                                                                                                                                                                                                                                                                                                                                                                                                                                                                                                                                                                                                                                                                                                                                                                                                                                                                                                                                                                                                                                                                                                                                                                                                                                                                                                                                                                                                                                                                                                                                                                                                                                                                                                                                                                                                                                                                                                                                                                                                                                                                                                                                                                                                                                                                                                                                                                                                                                                                                                                                                                                                                                                                                                                                                                                                                                                                                                                                                                                                                                                                                                                                                                                                                                                                                                                                                                                                                                                                                                                                                                                                                                                                                                                                                                                                                                                                                                                                                                                                                                                                                                                                                                               deepseek-r1:1.5b\n",
      "Optimization                                                                                                                                                                                                                                                                                                                                                                                                                                                                                                                                                                                                                                                                                                                                                                                                                                                                                                                                                                                                                                                                                                                                                                                                                                                                                                                                                                                                                                                                                                                                                                                                                                                                                                                                                                                                                                                                                                                                                                                                                                                                                                                                                                                                                                                                                                                                                                                                                                                                                                                                                                                                                                                                                                                                                                                                                                                                                                                                                                                                                                                                                                                                                                                                                                                                                                                                                                                                                                                                                                                                                                                                                                                                                                                                                                                                                                                                                                                                                                                                                                                                                                                                                                                                                                                                                                                                                                                                                                                                                                                                                                                                                                                                                                                                                                                                                                                                                                                                                                                                                                                                                                                                                                                                                                                                                                                                                                                                                                                                                                                                                                                                                                                                                                                                                                                                                                                                                                                                                                                                                                                                                                                                                                                                                                                                                                                                                                                                                                                                                                                                                                                                                                                                                                                                                                                                                                                                                                                                                                                                                                                                                                                                                                                                                                                                                                                                                                                                                                                                                                                                                                                                                                                                                                                                                                                                                                                                                                                                                                                                                                                                                                                                                                                                                                                     RAG\n",
      "Prompt_length                                                                                                                                                                                                                                                                                                                                                                                                                                                                                                                                                                                                                                                                                                                                                                                                                                                                                                                                                                                                                                                                                                                                                                                                                                                                                                                                                                                                                                                                                                                                                                                                                                                                                                                                                                                                                                                                                                                                                                                                                                                                                                                                                                                                                                                                                                                                                                                                                                                                                                                                                                                                                                                                                                                                                                                                                                                                                                                                                                                                                                                                                                                                                                                                                                                                                                                                                                                                                                                                                                                                                                                                                                                                                                                                                                                                                                                                                                                                                                                                                                                                                                                                                                                                                                                                                                                                                                                                                                                                                                                                                                                                                                                                                                                                                                                                                                                                                                                                                                                                                                                                                                                                                                                                                                                                                                                                                                                                                                                                                                                                                                                                                                                                                                                                                                                                                                                                                                                                                                                                                                                                                                                                                                                                                                                                                                                                                                                                                                                                                                                                                                                                                                                                                                                                                                                                                                                                                                                                                                                                                                                                                                                                                                                                                                                                                                                                                                                                                                                                                                                                                                                                                                                                                                                                                                                                                                                                                                                                                                                                                                                                                                                                                                                                                                                   3538\n",
      "Response_length                                                                                                                                                                                                                                                                                                                                                                                                                                                                                                                                                                                                                                                                                                                                                                                                                                                                                                                                                                                                                                                                                                                                                                                                                                                                                                                                                                                                                                                                                                                                                                                                                                                                                                                                                                                                                                                                                                                                                                                                                                                                                                                                                                                                                                                                                                                                                                                                                                                                                                                                                                                                                                                                                                                                                                                                                                                                                                                                                                                                                                                                                                                                                                                                                                                                                                                                                                                                                                                                                                                                                                                                                                                                                                                                                                                                                                                                                                                                                                                                                                                                                                                                                                                                                                                                                                                                                                                                                                                                                                                                                                                                                                                                                                                                                                                                                                                                                                                                                                                                                                                                                                                                                                                                                                                                                                                                                                                                                                                                                                                                                                                                                                                                                                                                                                                                                                                                                                                                                                                                                                                                                                                                                                                                                                                                                                                                                                                                                                                                                                                                                                                                                                                                                                                                                                                                                                                                                                                                                                                                                                                                                                                                                                                                                                                                                                                                                                                                                                                                                                                                                                                                                                                                                                                                                                                                                                                                                                                                                                                                                                                                                                                                                                                                                                                 1790\n",
      "Model_Speed                                                                                                                                                                                                                                                                                                                                                                                                                                                                                                                                                                                                                                                                                                                                                                                                                                                                                                                                                                                                                                                                                                                                                                                                                                                                                                                                                                                                                                                                                                                                                                                                                                                                                                                                                                                                                                                                                                                                                                                                                                                                                                                                                                                                                                                                                                                                                                                                                                                                                                                                                                                                                                                                                                                                                                                                                                                                                                                                                                                                                                                                                                                                                                                                                                                                                                                                                                                                                                                                                                                                                                                                                                                                                                                                                                                                                                                                                                                                                                                                                                                                                                                                                                                                                                                                                                                                                                                                                                                                                                                                                                                                                                                                                                                                                                                                                                                                                                                                                                                                                                                                                                                                                                                                                                                                                                                                                                                                                                                                                                                                                                                                                                                                                                                                                                                                                                                                                                                                                                                                                                                                                                                                                                                                                                                                                                                                                                                                                                                                                                                                                                                                                                                                                                                                                                                                                                                                                                                                                                                                                                                                                                                                                                                                                                                                                                                                                                                                                                                                                                                                                                                                                                                                                                                                                                                                                                                                                                                                                                                                                                                                                                                                                                                                                                                    15.81\n",
      "Runtime                                                                                                                                                                                                                                                                                                                                                                                                                                                                                                                                                                                                                                                                                                                                                                                                                                                                                                                                                                                                                                                                                                                                                                                                                                                                                                                                                                                                                                                                                                                                                                                                                                                                                                                                                                                                                                                                                                                                                                                                                                                                                                                                                                                                                                                                                                                                                                                                                                                                                                                                                                                                                                                                                                                                                                                                                                                                                                                                                                                                                                                                                                                                                                                                                                                                                                                                                                                                                                                                                                                                                                                                                                                                                                                                                                                                                                                                                                                                                                                                                                                                                                                                                                                                                                                                                                                                                                                                                                                                                                                                                                                                                                                                                                                                                                                                                                                                                                                                                                                                                                                                                                                                                                                                                                                                                                                                                                                                                                                                                                                                                                                                                                                                                                                                                                                                                                                                                                                                                                                                                                                                                                                                                                                                                                                                                                                                                                                                                                                                                                                                                                                                                                                                                                                                                                                                                                                                                                                                                                                                                                                                                                                                                                                                                                                                                                                                                                                                                                                                                                                                                                                                                                                                                                                                                                                                                                                                                                                                                                                                                                                                                                                                                                                                                                                       113.23\n",
      "Json                                                                                                                                                                                                                                                                                                                                                                                                                                                                                                                                                                                                                                                                                                                                                                                                                                                                                                                                                                                                                                                                                                                                                                                                                                                                                                                                                                                                                                                                                                                                                                                                                                                                                                                                                                                                                                                                                                                                                                                                                                                                                                                                                                                                                                                                                                                                                                                                                                                                                                                                                                                                                                                                                                                                                                                                                                                                                                                                                                                                                                                                                                                                                                                                                                                                                                                                                                                                                                                                                                                                                                                                                                                                                                                                                                                                                                                                                                                                                                                                                                                                                                                                                                                                                                                                                                                                                                                                                                                                                                                                                                                                                                                                                                                                                                                                                                                                                                                                                                                                                                                                                                                                                                                                                                                                                                                                                                                                                                                                                                                                                                                                                                                                                                                                                                                                                                                                                                                                                                                                                                                                                                                                                                                                                                                                                                                                                                                                                                                                                                                                                                                                                                                                                                                                                                                                                                                                                                                                                                                                                                                                                                                                                                                                                                                                                                                                                                                                                                                                                                                                                                                                                                                                                                                                                                                                                                                                                                                                                                                                                                                                                                               [\\n    \"CAPEC-115\",\\n    \"CAPEC-480\",\\n    \"CAPEC-510\",\\n    \"CAPEC-180\",\\n    \"CAPEC-555\",\\n    \"CAPEC-633\",\\n    \"CAPEC-1\",\\n    \"CAPEC-509\"\\n]\n",
      "Result             <think>\\nOkay, so I need to figure out which CAPEC entries are relevant to this threat about lack of authentication and access control in CNF applications. Let me start by understanding what each CAPEC ID means.\\n\\nFirst, looking at the threat description: It mentions that there's a problem with authentication and authorization in interfaces between O-Cloud components. The issue is that CNF applications have no proper authentication or weak security controls, which can lead to lateral movement attacks where compromised containers can attack internal services, perform lateral movements, and even compromise confidentiality.\\n\\nNow, I need to go through each CAPEC ID and see if it matches any of the described threats. Let's list out the relevant ones:\\n\\n1. **CAPEC-115**: Authentication Bypass. This is about accessing something by exploiting authentication mechanisms without proper authorization. The threat here talks about authentication being bypassed, which seems relevant.\\n\\n2. **CAPEC-480**: Escaping Virtualization. This involves gaining access through virtualized environments. While the threat isn't directly about escaping virtualization but more about unauthorized access in a virtualized setup, it's related because the issue is within a virtual environment that could be part of O-Cloud.\\n\\n3. **CAPEC-510**: SaaS User Request Forgery. This is about stealing SaaS services by manipulating their requests or trust implicitly. The threat here is about unauthorized access to internal services through compromised containers, which might involve some form of request forgery if the container's code is misused.\\n\\n4. **CAPEC-180**: Exploiting Incorrectly Configured Access Control Security Levels. This involves using wrong security settings to bypass controls. If the CNF applications have incorrect access levels or configurations, this could lead to unauthorized access, which fits with the threat of lateral movements and confidentiality issues.\\n\\n5. **CAPEC-555**: Remote Services with Stolen Credentials. This is about accessing services via remote methods like RDP, SSH, etc., using stolen credentials. The threat here involves compromised containers that can perform remote actions, which could be a form of remote access that might tie into the authentication issue.\\n\\n6. **CAPEC-633**: Token Impersonation. This is about impersonating tokens or users to cause issues. If someone can create an identity equivalent to another user, this could lead to attacks on internal systems by manipulating tokens or credentials.\\n\\n7. **CAPEC-1**: Accessing Functionality Not Properly Constrained by ACLs. This is about accessing something without proper access control lists. The threat here involves accessing functionality that should be restricted, which aligns with the issue of unauthorized access in CNF applications.\\n\\n8. **CAPEC-564**: Infiltration of Software Development Environment. This is about infiltrating a system to gain access. If the compromised container can inject scripts into the logon process, this could lead to lateral movements and compromising internal systems.\\n\\n9. **CAPEC-511**: Infiltration of Software Development Environment. Similar to CAPEC-564, it's about accessing a system through scripts or other means, which ties back to the threat described.\\n\\n10. **CAPEC-700**: Network Boundary Bridging. This is about bridging network boundaries, but I'm not sure how this directly relates to authentication issues in CNF applications unless there's some indirect connection.\\n\\n11. **CAPEC-502**: Intent Spoofing. This involves manipulating intentions or exporting information without verification. If the compromised container can export data or manipulate intents, this could lead to unauthorized access and potential attacks on internal services.\\n\\n12. **CAPEC-546**: Incomplete Data Deletion in Multi-Tenant Environment. This is about missing data during deletion, which might affect security if sensitive data isn't properly handled after allocation.\\n\\n13. **CAPEC-385**: Transaction or Event Tampering via Application API Manipulation. This involves altering messages to tamper with transactions or events. If the application's API manipulation allows for such changes, it could lead to issues in communication between services, which might be relevant if the threat affects how data is exchanged.\\n\\n14. **CAPEC-221**: Data Serialization External Entities Blowup. This is about external entities causing denial of service due to serialization. If the application's serialization leads to resource exhaustion, this could affect system performance and security.\\n\\n15. **CAPEC-161**: Infrastructure Manipulation. This involves manipulating network infrastructure to cause issues. If the compromised container can manipulate routing or message delivery, it might lead to attacks on internal systems.\\n\\n16. **CAPEC-17**: Using Malicious Files. This is about accessing executables directly through shell access or file uploads. If the CNF applications are accessed via malicious files, this could be a vulnerability point.\\n\\n17. **CAPEC-509**: Kerberos Bootstrapping. This involves using Kerberos for authentication and then extracting credentials to gain privileges. If the compromised container can use Kerberos to access services, this ties into the issue of unauthorized access.\\n\\n18. **CAPEC-548**: Contaminate Resource. This is about contaminating information systems by handling classified data. If internal resources are contaminated, it could affect availability and confidentiality, which aligns with the threat described.\\n\\nNow, considering all these CAPEC IDs, the most relevant ones seem to be:\\n\\n- **CAPEC-115**: Authentication Bypass\\n- **CAPEC-480**: Escaping Virtualization (related to virtual environments)\\n- **CAPEC-510**: SaaS User Request Forgery\\n- **CAPEC-180**: Exploiting Incorrect Access Control Security Levels\\n- **CAPEC-555**: Remote Services with Stolen Credentials\\n- **CAPEC-633**: Token Impersonation\\n- **CAPEC-1**: Accessing Functionality Not Properly Constrained by ACLs\\n- **CAPEC-564**: Infiltration of Software Development Environment\\n- **CAPEC-511**: Infiltration of Software Development Environment\\n- **CAPEC-700**: Network Boundary Bridging (if applicable)\\n- **CAPEC-502**: Intent Spoofing\\n- **CAPEC-546**: Incomplete Data Deletion in Multi-Tenant Environment\\n- **CAPEC-385**: Transaction or Event Tampering via Application API Manipulation\\n- **CAPEC-221**: Data Serialization External Entities Blowup\\n- **CAPEC-17**: Using Malicious Files\\n- **CAPEC-509**: Kerberos Bootstrapping\\n\\nHowever, some of these might not be directly applicable. For example, **CAPEC-480** and **CAPEC-564** are about virtualization but the threat is within a CNF environment. Similarly, **CAPEC-17**, **CAPEC-221**, and **CAPEC-385** relate to accessing executables or handling sensitive data.\\n\\nGiven that the issue is specifically with O-Cloud components and their authentication, the most directly relevant CAPEC IDs would be:\\n\\n- **CAPEC-115**: Authentication Bypass\\n- **CAPEC-480**: Escaping Virtualization (related to virtual environments)\\n- **CAPEC-510**: SaaS User Request Forgery\\n- **CAPEC-180**: Exploiting Incorrect Access Control Security Levels\\n- **CAPEC-555**: Remote Services with Stolen Credentials\\n- **CAPEC-633**: Token Impersonation\\n- **CAPEC-1**: Accessing Functionality Not Properly Constrained by ACLs\\n- **CAPEC-509**: Kerberos Bootstrapping\\n\\nThese IDs cover the authentication bypass, virtualization issues, access control problems, and security bootstrapping aspects that are relevant to the described threat.\\n</think>\\n\\n[\\n    \"CAPEC-115\", \"CAPEC-480\", \"CAPEC-510\", \"CAPEC-180\", \"CAPEC-555\", \"CAPEC-633\", \"CAPEC-1\", \"CAPEC-509\"\\n]\\n```json\\n[\\n    \"CAPEC-115\",\\n    \"CAPEC-480\",\\n    \"CAPEC-510\",\\n    \"CAPEC-180\",\\n    \"CAPEC-555\",\\n    \"CAPEC-633\",\\n    \"CAPEC-1\",\\n    \"CAPEC-509\"\\n]\\n```\n",
      "Environment                                                                                                                                                                                                                                                                                                                                                                                                                                                                                                                                                                                                                                                                                                                                                                                                                                                                                                                                                                                                                                                                                                                                                                                                                                                                                                                                                                                                                                                                                                                                                                                                                                                                                                                                                                                                                                                                                                                                                                                                                                                                                                                                                                                                                                                                                                                                                                                                                                                                                                                                                                                                                                                                                                                                                                                                                                                                                                                                                                                                                                                                                                                                                                                                                                                                                                                                                                                                                                                                                                                                                                                                                                                                                                                                                                                                                                                                                                                                                                                                                                                                                                                                                                                                                                                                                                                                                                                                                                                                                                                                                                                                                                                                                                                                                                                                                                                                                                                                                                                                                                                                                                                                                                                                                                                                                                                                                                                                                                                                                                                                                                                                                                                                                                                                                                                                                                                                                                                                                                                                                                                                                                                                                                                                                                                                                                                                                                                                                                                                                                                                                                                                                                                                                                                                                                                                                                                                                                                                                                                                                                                                                                                                                                                                                                                                                                                                                                                                                                                                                                                                                                                                                                                                                                                                                                                                                                                                                                                                                                                                                                                                                                                                                                                                                                                    Small\n",
      "Timestamp                                                                                                                                                                                                                                                                                                                                                                                                                                                                                                                                                                                                                                                                                                                                                                                                                                                                                                                                                                                                                                                                                                                                                                                                                                                                                                                                                                                                                                                                                                                                                                                                                                                                                                                                                                                                                                                                                                                                                                                                                                                                                                                                                                                                                                                                                                                                                                                                                                                                                                                                                                                                                                                                                                                                                                                                                                                                                                                                                                                                                                                                                                                                                                                                                                                                                                                                                                                                                                                                                                                                                                                                                                                                                                                                                                                                                                                                                                                                                                                                                                                                                                                                                                                                                                                                                                                                                                                                                                                                                                                                                                                                                                                                                                                                                                                                                                                                                                                                                                                                                                                                                                                                                                                                                                                                                                                                                                                                                                                                                                                                                                                                                                                                                                                                                                                                                                                                                                                                                                                                                                                                                                                                                                                                                                                                                                                                                                                                                                                                                                                                                                                                                                                                                                                                                                                                                                                                                                                                                                                                                                                                                                                                                                                                                                                                                                                                                                                                                                                                                                                                                                                                                                                                                                                                                                                                                                                                                                                                                                                                                                                                                                                                                                                                                        2025-08-30 00:01:48.090954100+00:00\n",
      "Total_length                                                                                                                                                                                                                                                                                                                                                                                                                                                                                                                                                                                                                                                                                                                                                                                                                                                                                                                                                                                                                                                                                                                                                                                                                                                                                                                                                                                                                                                                                                                                                                                                                                                                                                                                                                                                                                                                                                                                                                                                                                                                                                                                                                                                                                                                                                                                                                                                                                                                                                                                                                                                                                                                                                                                                                                                                                                                                                                                                                                                                                                                                                                                                                                                                                                                                                                                                                                                                                                                                                                                                                                                                                                                                                                                                                                                                                                                                                                                                                                                                                                                                                                                                                                                                                                                                                                                                                                                                                                                                                                                                                                                                                                                                                                                                                                                                                                                                                                                                                                                                                                                                                                                                                                                                                                                                                                                                                                                                                                                                                                                                                                                                                                                                                                                                                                                                                                                                                                                                                                                                                                                                                                                                                                                                                                                                                                                                                                                                                                                                                                                                                                                                                                                                                                                                                                                                                                                                                                                                                                                                                                                                                                                                                                                                                                                                                                                                                                                                                                                                                                                                                                                                                                                                                                                                                                                                                                                                                                                                                                                                                                                                                                                                                                                                                                    5328\n",
      "Name: 2321, dtype: object\n"
     ]
    }
   ],
   "source": [
    "# Calculate the total length\n",
    "jsonl_data['Total_length'] = jsonl_data['Prompt_length'] + jsonl_data['Response_length']\n",
    "\n",
    "# Find the row with the maximum total length\n",
    "max_length_row = jsonl_data.loc[jsonl_data['Total_length'].idxmax()]\n",
    "\n",
    "# Print the resulting row\n",
    "print(max_length_row)"
   ]
  },
  {
   "cell_type": "code",
   "execution_count": 7,
   "id": "c96278f7",
   "metadata": {},
   "outputs": [
    {
     "name": "stdout",
     "output_type": "stream",
     "text": [
      "Anzahl der Zeilen pro Modellname:\n",
      "Model\n",
      "deepseek-r1:32b     1092\n",
      "deepseek-r1:14b     1092\n",
      "deepseek-r1:1.5b    1092\n",
      "Name: count, dtype: int64\n"
     ]
    }
   ],
   "source": [
    "# Zählt die Häufigkeit jedes Werts in der Spalte \"Model\"\n",
    "model_counts = jsonl_data[\"Model\"].value_counts()\n",
    "\n",
    "print(\"Anzahl der Zeilen pro Modellname:\")\n",
    "print(model_counts)\n"
   ]
  },
  {
   "cell_type": "code",
   "execution_count": 8,
   "id": "2353dd35",
   "metadata": {},
   "outputs": [
    {
     "name": "stdout",
     "output_type": "stream",
     "text": [
      "Anzahl der Zeilen pro Optimierungsart:\n",
      "Optimization\n",
      "RAG                   546\n",
      "PE-CoT                546\n",
      "PE-FewShot            546\n",
      "PE-Third_ZeroShot     546\n",
      "PE-Second_ZeroShot    546\n",
      "PE-First_ZeroShot     546\n",
      "Name: count, dtype: int64\n"
     ]
    }
   ],
   "source": [
    "opti_counts = jsonl_data[\"Optimization\"].value_counts()\n",
    "\n",
    "print(\"Anzahl der Zeilen pro Optimierungsart:\")\n",
    "print(opti_counts)"
   ]
  },
  {
   "cell_type": "code",
   "execution_count": 9,
   "id": "e3724861",
   "metadata": {},
   "outputs": [
    {
     "name": "stdout",
     "output_type": "stream",
     "text": [
      "Anzahl der Zeilen pro Modell und Optimierungsart:\n",
      "               Model        Optimization  Count\n",
      "0   deepseek-r1:1.5b              PE-CoT    182\n",
      "1   deepseek-r1:1.5b          PE-FewShot    182\n",
      "2   deepseek-r1:1.5b   PE-First_ZeroShot    182\n",
      "3   deepseek-r1:1.5b  PE-Second_ZeroShot    182\n",
      "4   deepseek-r1:1.5b   PE-Third_ZeroShot    182\n",
      "5   deepseek-r1:1.5b                 RAG    182\n",
      "6    deepseek-r1:14b              PE-CoT    182\n",
      "7    deepseek-r1:14b          PE-FewShot    182\n",
      "8    deepseek-r1:14b   PE-First_ZeroShot    182\n",
      "9    deepseek-r1:14b  PE-Second_ZeroShot    182\n",
      "10   deepseek-r1:14b   PE-Third_ZeroShot    182\n",
      "11   deepseek-r1:14b                 RAG    182\n",
      "12   deepseek-r1:32b              PE-CoT    182\n",
      "13   deepseek-r1:32b          PE-FewShot    182\n",
      "14   deepseek-r1:32b   PE-First_ZeroShot    182\n",
      "15   deepseek-r1:32b  PE-Second_ZeroShot    182\n",
      "16   deepseek-r1:32b   PE-Third_ZeroShot    182\n",
      "17   deepseek-r1:32b                 RAG    182\n"
     ]
    }
   ],
   "source": [
    "# Gruppiert nach \"Model\" und dann nach \"Optimization\" und zählt die Zeilen in jeder Gruppe\n",
    "model_optimization_counts = jsonl_data.groupby([\"Model\", \"Optimization\"]).size().reset_index(name='Count')\n",
    "\n",
    "print(\"Anzahl der Zeilen pro Modell und Optimierungsart:\")\n",
    "print(model_optimization_counts)\n"
   ]
  },
  {
   "cell_type": "markdown",
   "id": "bb530f19",
   "metadata": {},
   "source": [
    "Creating the test data for each model"
   ]
  },
  {
   "cell_type": "code",
   "execution_count": 10,
   "id": "8f72aa76",
   "metadata": {},
   "outputs": [],
   "source": [
    "\n",
    "jsonl_data = pd.read_json(\"results/evaluation_results_v2.jsonl\", lines=True)\n",
    "## First Zero-Shot\n",
    "optimization = \"PE-First_ZeroShot\"\n",
    "\n",
    "## 1.5b\n",
    "first_random_first_zero_shot_1_5b = jsonl_data[\n",
    "    (jsonl_data[\"Model\"] == \"deepseek-r1:1.5b\") &\n",
    "    (jsonl_data[\"Optimization\"] == optimization) &\n",
    "    (jsonl_data[\"Environment\"] == \"Small\") &\n",
    "    (jsonl_data[\"Threat_ID\"] == id_1)\n",
    "]\n",
    "second_random_first_zero_shot_1_5b = jsonl_data[\n",
    "    (jsonl_data[\"Model\"] == \"deepseek-r1:1.5b\") &\n",
    "    (jsonl_data[\"Optimization\"] == optimization) &\n",
    "    (jsonl_data[\"Environment\"] == \"Small\") &\n",
    "    (jsonl_data[\"Threat_ID\"] == id_2)\n",
    "]\n",
    "\n",
    "## 14b\n",
    "first_random_first_zero_shot_14b = jsonl_data[\n",
    "    (jsonl_data[\"Model\"] == \"deepseek-r1:14b\") &\n",
    "    (jsonl_data[\"Optimization\"] == optimization) &\n",
    "    (jsonl_data[\"Environment\"] == \"Medium\") &\n",
    "    (jsonl_data[\"Threat_ID\"] == id_1)\n",
    "]\n",
    "second_random_first_zero_shot_14b = jsonl_data[\n",
    "    (jsonl_data[\"Model\"] == \"deepseek-r1:14b\") &\n",
    "    (jsonl_data[\"Optimization\"] == optimization) &\n",
    "    (jsonl_data[\"Environment\"] == \"Medium\") &\n",
    "    (jsonl_data[\"Threat_ID\"] == id_2)\n",
    "]\n",
    "\n",
    "## 32b\n",
    "first_random_first_zero_shot_32b = jsonl_data[\n",
    "    (jsonl_data[\"Model\"] == \"deepseek-r1:32b\") &\n",
    "    (jsonl_data[\"Optimization\"] == optimization) &\n",
    "    (jsonl_data[\"Environment\"] == \"Medium\") &\n",
    "    (jsonl_data[\"Threat_ID\"] == id_1)\n",
    "]\n",
    "second_random_first_zero_shot_32b = jsonl_data[\n",
    "    (jsonl_data[\"Model\"] == \"deepseek-r1:32b\") &\n",
    "    (jsonl_data[\"Optimization\"] == optimization) &\n",
    "    (jsonl_data[\"Environment\"] == \"Medium\") &\n",
    "    (jsonl_data[\"Threat_ID\"] == id_2)\n",
    "]\n",
    "## Second Zero-Shot\n",
    "optimization = \"PE-Second_ZeroShot\"\n",
    "\n",
    "## 1.5b\n",
    "first_random_second_zero_shot_1_5b = jsonl_data[\n",
    "    (jsonl_data[\"Model\"] == \"deepseek-r1:1.5b\") &\n",
    "    (jsonl_data[\"Optimization\"] == optimization) &\n",
    "    (jsonl_data[\"Environment\"] == \"Small\") &\n",
    "    (jsonl_data[\"Threat_ID\"] == id_1)\n",
    "]\n",
    "second_random_second_zero_shot_1_5b = jsonl_data[\n",
    "    (jsonl_data[\"Model\"] == \"deepseek-r1:1.5b\") &\n",
    "    (jsonl_data[\"Optimization\"] == optimization) &\n",
    "    (jsonl_data[\"Environment\"] == \"Small\") &\n",
    "    (jsonl_data[\"Threat_ID\"] == id_2)\n",
    "]\n",
    "\n",
    "## 14b\n",
    "first_random_second_zero_shot_14b = jsonl_data[\n",
    "    (jsonl_data[\"Model\"] == \"deepseek-r1:14b\") &\n",
    "    (jsonl_data[\"Optimization\"] == optimization) &\n",
    "    (jsonl_data[\"Environment\"] == \"Medium\") &\n",
    "    (jsonl_data[\"Threat_ID\"] == id_1)\n",
    "]\n",
    "second_random_second_zero_shot_14b = jsonl_data[\n",
    "    (jsonl_data[\"Model\"] == \"deepseek-r1:14b\") &\n",
    "    (jsonl_data[\"Optimization\"] == optimization) &\n",
    "    (jsonl_data[\"Environment\"] == \"Medium\") &\n",
    "    (jsonl_data[\"Threat_ID\"] == id_2)\n",
    "]\n",
    "\n",
    "## 32b\n",
    "first_random_second_zero_shot_32b = jsonl_data[\n",
    "    (jsonl_data[\"Model\"] == \"deepseek-r1:32b\") &\n",
    "    (jsonl_data[\"Optimization\"] == optimization) &\n",
    "    (jsonl_data[\"Environment\"] == \"Medium\") &\n",
    "    (jsonl_data[\"Threat_ID\"] == id_1)\n",
    "]\n",
    "second_random_second_zero_shot_32b = jsonl_data[\n",
    "    (jsonl_data[\"Model\"] == \"deepseek-r1:32b\") &\n",
    "    (jsonl_data[\"Optimization\"] == optimization) &\n",
    "    (jsonl_data[\"Environment\"] == \"Medium\") &\n",
    "    (jsonl_data[\"Threat_ID\"] == id_2)\n",
    "]\n",
    "## Third Zero-Shot\n",
    "optimization = \"PE-Third_ZeroShot\"\n",
    "\n",
    "## 1.5b\n",
    "first_random_third_zero_shot_1_5b = jsonl_data[\n",
    "    (jsonl_data[\"Model\"] == \"deepseek-r1:1.5b\") &\n",
    "    (jsonl_data[\"Optimization\"] == optimization) &\n",
    "    (jsonl_data[\"Environment\"] == \"Small\") &\n",
    "    (jsonl_data[\"Threat_ID\"] == id_1)\n",
    "]\n",
    "second_random_third_zero_shot_1_5b = jsonl_data[\n",
    "    (jsonl_data[\"Model\"] == \"deepseek-r1:1.5b\") &\n",
    "    (jsonl_data[\"Optimization\"] == optimization) &\n",
    "    (jsonl_data[\"Environment\"] == \"Small\") &\n",
    "    (jsonl_data[\"Threat_ID\"] == id_2)\n",
    "]\n",
    "\n",
    "## 14b\n",
    "first_random_third_zero_shot_14b = jsonl_data[\n",
    "    (jsonl_data[\"Model\"] == \"deepseek-r1:14b\") &\n",
    "    (jsonl_data[\"Optimization\"] == optimization) &\n",
    "    (jsonl_data[\"Environment\"] == \"Medium\") &\n",
    "    (jsonl_data[\"Threat_ID\"] == id_1)\n",
    "]\n",
    "second_random_third_zero_shot_14b = jsonl_data[\n",
    "    (jsonl_data[\"Model\"] == \"deepseek-r1:14b\") &\n",
    "    (jsonl_data[\"Optimization\"] == optimization) &\n",
    "    (jsonl_data[\"Environment\"] == \"Medium\") &\n",
    "    (jsonl_data[\"Threat_ID\"] == id_2)\n",
    "]\n",
    "\n",
    "## 32b\n",
    "first_random_third_zero_shot_32b = jsonl_data[\n",
    "    (jsonl_data[\"Model\"] == \"deepseek-r1:32b\") &\n",
    "    (jsonl_data[\"Optimization\"] == optimization) &\n",
    "    (jsonl_data[\"Environment\"] == \"Medium\") &\n",
    "    (jsonl_data[\"Threat_ID\"] == id_1)\n",
    "]\n",
    "second_random_third_zero_shot_32b = jsonl_data[\n",
    "    (jsonl_data[\"Model\"] == \"deepseek-r1:32b\") &\n",
    "    (jsonl_data[\"Optimization\"] == optimization) &\n",
    "    (jsonl_data[\"Environment\"] == \"Medium\") &\n",
    "    (jsonl_data[\"Threat_ID\"] == id_2)\n",
    "]\n",
    "\n",
    "## Few-Shot\n",
    "optimization = \"PE-FewShot\"\n",
    "## 1.5b\n",
    "\n",
    "first_random_few_shot_1_5b = filtered_df = jsonl_data[\n",
    "    (jsonl_data[\"Model\"] == \"deepseek-r1:1.5b\") &\n",
    "    (jsonl_data[\"Optimization\"] == optimization) &\n",
    "    (jsonl_data[\"Environment\"] == \"Small\") &\n",
    "    (jsonl_data[\"Threat_ID\"] == id_1)\n",
    "]\n",
    "second_random_few_shot_1_5b = filtered_df = jsonl_data[\n",
    "    (jsonl_data[\"Model\"] == \"deepseek-r1:1.5b\") &\n",
    "    (jsonl_data[\"Optimization\"] == optimization) &\n",
    "    (jsonl_data[\"Environment\"] == \"Small\") &\n",
    "    (jsonl_data[\"Threat_ID\"] == id_2)\n",
    "]\n",
    "## 14b\n",
    "first_random_few_shot_14b = filtered_df = jsonl_data[\n",
    "    (jsonl_data[\"Model\"] == \"deepseek-r1:14b\") &\n",
    "    (jsonl_data[\"Optimization\"] == optimization) &\n",
    "    (jsonl_data[\"Environment\"] == \"Medium\") &\n",
    "    (jsonl_data[\"Threat_ID\"] == id_1)\n",
    "]\n",
    "second_random_few_shot_14b = filtered_df = jsonl_data[\n",
    "    (jsonl_data[\"Model\"] == \"deepseek-r1:14b\") &\n",
    "    (jsonl_data[\"Optimization\"] == optimization) &\n",
    "    (jsonl_data[\"Environment\"] == \"Medium\") &\n",
    "    (jsonl_data[\"Threat_ID\"] == id_2)\n",
    "]\n",
    "##32b\n",
    "first_random_few_shot_32b = filtered_df = jsonl_data[\n",
    "    (jsonl_data[\"Model\"] == \"deepseek-r1:32b\") &\n",
    "    (jsonl_data[\"Optimization\"] == optimization) &\n",
    "    (jsonl_data[\"Environment\"] == \"Medium\") &\n",
    "    (jsonl_data[\"Threat_ID\"] == id_1)\n",
    "]\n",
    "second_random_few_shot_32b = filtered_df = jsonl_data[\n",
    "    (jsonl_data[\"Model\"] == \"deepseek-r1:32b\") &\n",
    "    (jsonl_data[\"Optimization\"] == optimization) &\n",
    "    (jsonl_data[\"Environment\"] == \"Medium\") &\n",
    "    (jsonl_data[\"Threat_ID\"] == id_2)\n",
    "]\n",
    "\n",
    "\n",
    "\n",
    "## Chain of Thought\n",
    "optimization = \"PE-CoT\"\n",
    "##1.5b\n",
    "first_random_cot_1_5b = filtered_df = jsonl_data[\n",
    "    (jsonl_data[\"Model\"] == \"deepseek-r1:1.5b\") &\n",
    "    (jsonl_data[\"Optimization\"] == optimization) &\n",
    "    (jsonl_data[\"Environment\"] == \"Small\") &\n",
    "    (jsonl_data[\"Threat_ID\"] == id_1)\n",
    "]\n",
    "second_random_cot_1_5b = filtered_df = jsonl_data[\n",
    "    (jsonl_data[\"Model\"] == \"deepseek-r1:1.5b\") &\n",
    "    (jsonl_data[\"Optimization\"] == optimization) &\n",
    "    (jsonl_data[\"Environment\"] == \"Small\") &\n",
    "    (jsonl_data[\"Threat_ID\"] == id_2)\n",
    "]\n",
    "\n",
    "## 14\n",
    "first_random_cot_14b = filtered_df = jsonl_data[\n",
    "    (jsonl_data[\"Model\"] == \"deepseek-r1:14b\") &\n",
    "    (jsonl_data[\"Optimization\"] == optimization) &\n",
    "    (jsonl_data[\"Environment\"] == \"Medium\") &\n",
    "    (jsonl_data[\"Threat_ID\"] == id_1)\n",
    "]\n",
    "second_random_cot_14b = filtered_df = jsonl_data[\n",
    "    (jsonl_data[\"Model\"] == \"deepseek-r1:14b\") &\n",
    "    (jsonl_data[\"Optimization\"] == optimization) &\n",
    "    (jsonl_data[\"Environment\"] == \"Medium\") &\n",
    "    (jsonl_data[\"Threat_ID\"] == id_2)\n",
    "]\n",
    "##32\n",
    "\n",
    "first_random_cot_32b = filtered_df = jsonl_data[\n",
    "    (jsonl_data[\"Model\"] == \"deepseek-r1:32b\") &\n",
    "    (jsonl_data[\"Optimization\"] == optimization) &\n",
    "    (jsonl_data[\"Environment\"] == \"Medium\") &\n",
    "    (jsonl_data[\"Threat_ID\"] == id_1)\n",
    "]\n",
    "second_random_cot_32b = filtered_df = jsonl_data[\n",
    "    (jsonl_data[\"Model\"] == \"deepseek-r1:32b\") &\n",
    "    (jsonl_data[\"Optimization\"] ==  optimization) &\n",
    "    (jsonl_data[\"Environment\"] == \"Medium\") &\n",
    "    (jsonl_data[\"Threat_ID\"] == id_2)\n",
    "]\n",
    "\n",
    "## RAG\n",
    "optimization = \"RAG\"\n",
    "\n",
    "## 1.5b\n",
    "first_random_rag_1_5b = jsonl_data[\n",
    "    (jsonl_data[\"Model\"] == \"deepseek-r1:1.5b\") &\n",
    "    (jsonl_data[\"Optimization\"] == optimization) &\n",
    "    (jsonl_data[\"Environment\"] == \"Small\") &\n",
    "    (jsonl_data[\"Threat_ID\"] == id_1)\n",
    "]\n",
    "second_random_rag_1_5b = jsonl_data[\n",
    "    (jsonl_data[\"Model\"] == \"deepseek-r1:1.5b\") &\n",
    "    (jsonl_data[\"Optimization\"] == optimization) &\n",
    "    (jsonl_data[\"Environment\"] == \"Small\") &\n",
    "    (jsonl_data[\"Threat_ID\"] == id_2)\n",
    "]\n",
    "\n",
    "## 14b\n",
    "first_random_rag_14b = jsonl_data[\n",
    "    (jsonl_data[\"Model\"] == \"deepseek-r1:14b\") &\n",
    "    (jsonl_data[\"Optimization\"] == optimization) &\n",
    "    (jsonl_data[\"Environment\"] == \"Medium\") &\n",
    "    (jsonl_data[\"Threat_ID\"] == id_1)\n",
    "]\n",
    "second_random_rag_14b = jsonl_data[\n",
    "    (jsonl_data[\"Model\"] == \"deepseek-r1:14b\") &\n",
    "    (jsonl_data[\"Optimization\"] == optimization) &\n",
    "    (jsonl_data[\"Environment\"] == \"Medium\") &\n",
    "    (jsonl_data[\"Threat_ID\"] == id_2)\n",
    "]\n",
    "\n",
    "## 32b\n",
    "first_random_rag_32b = jsonl_data[\n",
    "    (jsonl_data[\"Model\"] == \"deepseek-r1:32b\") &\n",
    "    (jsonl_data[\"Optimization\"] == optimization) &\n",
    "    (jsonl_data[\"Environment\"] == \"Medium\") &\n",
    "    (jsonl_data[\"Threat_ID\"] == id_1)\n",
    "]\n",
    "second_random_rag_32b = jsonl_data[\n",
    "    (jsonl_data[\"Model\"] == \"deepseek-r1:32b\") &\n",
    "    (jsonl_data[\"Optimization\"] == optimization) &\n",
    "    (jsonl_data[\"Environment\"] == \"Medium\") &\n",
    "    (jsonl_data[\"Threat_ID\"] == id_2)\n",
    "]\n"
   ]
  },
  {
   "cell_type": "markdown",
   "id": "faba057e",
   "metadata": {},
   "source": [
    "Prompt Engineering"
   ]
  },
  {
   "cell_type": "markdown",
   "id": "042a1e1d",
   "metadata": {},
   "source": [
    "First Zero-Shot"
   ]
  },
  {
   "cell_type": "markdown",
   "id": "659ba34a",
   "metadata": {},
   "source": [
    "1.5b"
   ]
  },
  {
   "cell_type": "code",
   "execution_count": 20,
   "id": "992969ef",
   "metadata": {},
   "outputs": [
    {
     "name": "stdout",
     "output_type": "stream",
     "text": [
      "('<think>\\n'\n",
      " 'Okay, so I need to figure out which CAPEC IDs apply to this threat summary. '\n",
      " 'Let me start by understanding what each CAPEC ID represents.\\n'\n",
      " '\\n'\n",
      " 'First, Malicious actor is straightforward—this refers to an attacker who has '\n",
      " \"malicious intent. So that's a clear indicator of a malicious actor involved \"\n",
      " 'here.\\n'\n",
      " '\\n'\n",
      " 'Next, the threat involves accessing locally stored logs in SMO for '\n",
      " 'reconnaissance. Log access and reconnaissance are common activities in '\n",
      " 'cybersecurity, especially when dealing with sensitive information. This '\n",
      " 'could be related to unauthorized access or data breaches, which might '\n",
      " 'involve various types of attacks.\\n'\n",
      " '\\n'\n",
      " 'Looking at the CAPEC IDs provided earlier: Malicious actor, Log access, Log '\n",
      " 'compromise, Log theft, Log monitoring, Log analysis, Log-based attack, '\n",
      " 'Log-based penetration, Log-based deception, Log-based credential injection, '\n",
      " 'Log-based credential cloning, Log-based credential substitution. \\n'\n",
      " '\\n'\n",
      " 'The threat mentions accessing logs for reconnaissance, which falls under Log '\n",
      " \"access. It also talks about the malicious actor's intent to collect \"\n",
      " 'sensitive info, so Log theft or Log compromise makes sense here.\\n'\n",
      " '\\n'\n",
      " \"I'm not sure if Log analysis is relevant because it's more about \"\n",
      " 'interpreting data rather than directly accessing it. Similarly, Log-based '\n",
      " \"attack might be too specific unless there's a clear pattern of attacks using \"\n",
      " \"logs, which isn't mentioned in the threat summary.\\n\"\n",
      " '\\n'\n",
      " \"The other CAPEC IDs like Log-based penetration or Log-based deception don't \"\n",
      " \"seem to fit because they're more about how attackers use logs, not just \"\n",
      " 'their intent to access them. So I think the most relevant ones are Malicious '\n",
      " 'actor and Log access.\\n'\n",
      " '</think>\\n'\n",
      " '\\n'\n",
      " '```json\\n'\n",
      " '[\\n'\n",
      " '  \"Malicious actor\",\\n'\n",
      " '  \"Log access\"\\n'\n",
      " ']\\n'\n",
      " '```')\n"
     ]
    },
    {
     "data": {
      "text/plain": [
       "['Malicious actor', 'Log access']"
      ]
     },
     "execution_count": 20,
     "metadata": {},
     "output_type": "execute_result"
    }
   ],
   "source": [
    "pprint(first_random_cot_1_5b['Result'].values[0])\n",
    "json.loads(first_random_cot_1_5b['Json'].values[0])"
   ]
  },
  {
   "cell_type": "code",
   "execution_count": 27,
   "id": "83e7a3d7",
   "metadata": {},
   "outputs": [
    {
     "data": {
      "text/plain": [
       "'[\\n  \"02.05.00\", // Accessing internal resources (logs)\\n  \"03.04.00\", // Reconnaissance activities (gathering info)\\n  \"06.07.00\", // Accessing sensitive or private information (sensitive info)\\n  \"15.08.00\"  // Strategic use of internal resources (log access for reconnaissance)\\n]'"
      ]
     },
     "execution_count": 27,
     "metadata": {},
     "output_type": "execute_result"
    }
   ],
   "source": [
    "(first_random_first_zero_shot_1_5b['Json'].values[0])"
   ]
  },
  {
   "cell_type": "code",
   "execution_count": 22,
   "id": "a4da934c",
   "metadata": {},
   "outputs": [
    {
     "name": "stdout",
     "output_type": "stream",
     "text": [
      "('<think>\\n'\n",
      " 'Okay, so I need to figure out which CAPEC IDs apply to this threat summary '\n",
      " 'about O-RAN. Let me start by understanding what each CAPEC ID represents.\\n'\n",
      " '\\n'\n",
      " 'First, I remember that CAPEC is a classification system for potential cyber '\n",
      " 'threats, organized into categories like Attack Vectors, Vulnerabilities, '\n",
      " 'etc. Each category has specific codes. The threat described here involves '\n",
      " 'vulnerabilities in open-source software and how attackers can exploit them '\n",
      " 'through backdoor attacks or malware.\\n'\n",
      " '\\n'\n",
      " 'Looking at the threat summary, it mentions developers using known '\n",
      " 'vulnerabilities in SW components from O-RAN libraries. This is a clear sign '\n",
      " \"of a security risk because it's about code that could be exploited. The fact \"\n",
      " \"that they're using untrusted libraries adds another layer to this risk since \"\n",
      " 'those sources might not be trustworthy.\\n'\n",
      " '\\n'\n",
      " 'The mention of backdoor attacks and malware indicates that the vulnerability '\n",
      " \"isn't just a regular exploit but has been manipulated in some way, which is \"\n",
      " \"a higher level of attack vector. This suggests it's part of a broader \"\n",
      " 'category where attackers can take control of systems through various means.\\n'\n",
      " '\\n'\n",
      " 'I also notice that the threat involves supply chain risks from untrusted '\n",
      " 'repositories. This points towards a lack of traceability and security '\n",
      " 'measures, which are important for CAPEC categorization because they show '\n",
      " 'vulnerabilities in how information flows.\\n'\n",
      " '\\n'\n",
      " 'Putting this together, the threat is about code vulnerabilities, '\n",
      " 'exploitation via backdoors or malware, and issues with supply chain '\n",
      " 'management. These all fall under Attack Vectors, specifically related to '\n",
      " 'Vulnerabilities and Exploitation mechanisms. The use of untrusted sources '\n",
      " 'adds to the risk level, making it a higher priority in CAPEC '\n",
      " 'classification.\\n'\n",
      " '\\n'\n",
      " 'So, I think the relevant CAPEC ID here would be 201 (Vulnerability) because '\n",
      " \"it's about vulnerabilities. Since the threat involves exploitation through \"\n",
      " 'backdoors or malware, which are specific attack vectors, this should fall '\n",
      " 'under 201. Additionally, considering supply chain issues and lack of '\n",
      " 'traceability, maybe 203 (Exploitation) would be relevant as it covers '\n",
      " 'exploitation mechanisms.\\n'\n",
      " '\\n'\n",
      " \"Wait, I'm not entirely sure if 203 is the correct category. Let me \"\n",
      " 'double-check. Yes, 203 is about Exploitation mechanisms, which includes '\n",
      " 'backdoor attacks and other forms of attack vectors beyond just '\n",
      " 'vulnerabilities. So including both 201 and 203 makes sense because it covers '\n",
      " \"both the nature of the vulnerability (201) and how it's exploited (203).\\n\"\n",
      " '\\n'\n",
      " \"I don't think there are any other relevant CAPEC IDs here. The threat isn't \"\n",
      " \"about a new attack vector or a different category entirely. It's \"\n",
      " 'specifically about vulnerabilities in open-source software that can be '\n",
      " 'exploited, which is covered under 201 and 203.\\n'\n",
      " '</think>\\n'\n",
      " '\\n'\n",
      " '```json\\n'\n",
      " '[\\n'\n",
      " '    \"201\", // Vulnerability\\n'\n",
      " '    \"203\"  // Exploitation mechanisms (backdoor attacks)\\n'\n",
      " ']\\n'\n",
      " '```')\n",
      "('[\\n'\n",
      " '    \"201\", // Vulnerability\\n'\n",
      " '    \"203\"  // Exploitation mechanisms (backdoor attacks)\\n'\n",
      " ']')\n"
     ]
    }
   ],
   "source": [
    "pprint(second_random_cot_1_5b['Result'].values[0])\n",
    "pprint(second_random_cot_1_5b['Json'].values[0])"
   ]
  },
  {
   "cell_type": "markdown",
   "id": "8590cc74",
   "metadata": {},
   "source": [
    "14b"
   ]
  },
  {
   "cell_type": "code",
   "execution_count": 23,
   "id": "cf68679b",
   "metadata": {},
   "outputs": [
    {
     "name": "stdout",
     "output_type": "stream",
     "text": [
      "('<think>\\n'\n",
      " 'Okay, so I need to figure out which CAPEC IDs correspond to the given threat '\n",
      " 'in the O-RAN context. The threat is about a malicious actor accessing '\n",
      " 'locally stored logs in the SMO (Service Management and Orchestration) to '\n",
      " 'gather sensitive information.\\n'\n",
      " '\\n'\n",
      " 'First, I should understand what each part of the threat means. The attacker '\n",
      " 'is viewing local logs, which suggests unauthorized access to log data. Logs '\n",
      " 'often contain sensitive information like user activities, system statuses, '\n",
      " 'etc., so this could be a way for attackers to gather intelligence about the '\n",
      " 'network setup or vulnerabilities.\\n'\n",
      " '\\n'\n",
      " 'Now, looking at CAPEC IDs, I remember that 279 is related to logging '\n",
      " 'mechanisms. Specifically, it involves an attacker intercepting or accessing '\n",
      " \"log data to gain information about the target's activities and \"\n",
      " 'configuration. That seems relevant here because the threat mentions '\n",
      " 'accessing logs for reconnaissance.\\n'\n",
      " '\\n'\n",
      " 'Another possible ID could be 380, which deals with unauthorized access to '\n",
      " 'sensitive information. This includes any scenario where an attacker gains '\n",
      " \"access to data they shouldn't have, like logs containing private details.\\n\"\n",
      " '\\n'\n",
      " 'I should also consider if there are other CAPEC IDs that fit better. For '\n",
      " 'example, maybe something related to privilege escalation or exploiting '\n",
      " 'misconfigurations. But in this case, the threat is more about accessing '\n",
      " 'existing logs rather than exploiting a flaw to gain access. So 279 and 380 '\n",
      " 'seem most appropriate.\\n'\n",
      " '\\n'\n",
      " \"I think I'll go with those two IDs because they directly address \"\n",
      " 'unauthorized log access and sensitive information exposure.\\n'\n",
      " '</think>\\n'\n",
      " '\\n'\n",
      " '```json\\n'\n",
      " '[\\n'\n",
      " '    \"CAPEC-279\",\\n'\n",
      " '    \"CAPEC-380\"\\n'\n",
      " ']\\n'\n",
      " '```')\n"
     ]
    },
    {
     "data": {
      "text/plain": [
       "['CAPEC-279', 'CAPEC-380']"
      ]
     },
     "execution_count": 23,
     "metadata": {},
     "output_type": "execute_result"
    }
   ],
   "source": [
    "pprint(first_random_cot_14b['Result'].values[0])\n",
    "json.loads(first_random_cot_14b['Json'].values[0])"
   ]
  },
  {
   "cell_type": "code",
   "execution_count": 24,
   "id": "548dc530",
   "metadata": {},
   "outputs": [
    {
     "name": "stdout",
     "output_type": "stream",
     "text": [
      "('<think>\\n'\n",
      " 'Okay, so I need to figure out which CAPEC IDs are most relevant to this '\n",
      " 'O-RAN threat summary. Let me start by understanding what the threat is '\n",
      " 'about.\\n'\n",
      " '\\n'\n",
      " 'The threat mentions that developers in the O-RAN Software Community use SW '\n",
      " 'components with known vulnerabilities and untrusted libraries. These can be '\n",
      " 'exploited via backdoor attacks. The description talks about how open-source '\n",
      " 'code introduces security risks because vulnerabilities are publicly '\n",
      " 'available, like on NVD. Hackers can exploit these, especially since '\n",
      " 'developers often reuse free open-source code, which can lead to backdoors.\\n'\n",
      " '\\n'\n",
      " \"It also points out that some vendors and operators don't have accurate \"\n",
      " 'inventories of their open-source dependencies or processes to manage '\n",
      " \"vulnerability notifications. There's a lack of supply chain traceability and \"\n",
      " 'security, conflicting with Security-by-Design principles. Developers might '\n",
      " 'use modules with known vulnerabilities, leading to malware infections in '\n",
      " 'hypervisors, OS, VMs, or containers.\\n'\n",
      " '\\n'\n",
      " 'Now, I need to map this to CAPEC IDs. Let me recall what each CAPEC ID '\n",
      " 'represents.\\n'\n",
      " '\\n'\n",
      " 'CAPEC-201 is about software repository supply chain compromise. That fits '\n",
      " 'because the threat involves untrusted repositories and supply chain risks.\\n'\n",
      " '\\n'\n",
      " 'CAPEC-468 deals with exploiting known vulnerabilities in third-party '\n",
      " 'components. Since the threat mentions using components with known '\n",
      " 'vulnerabilities, this seems relevant.\\n'\n",
      " '\\n'\n",
      " 'CAPEC-579 is about leveraging publicly disclosed vulnerabilities. The fact '\n",
      " 'that NVD is mentioned makes this a good fit.\\n'\n",
      " '\\n'\n",
      " 'CAPEC-620 involves backdoor attacks via unauthorized access points. The '\n",
      " 'summary explicitly talks about backdoors being exploited, so this should be '\n",
      " 'included.\\n'\n",
      " '\\n'\n",
      " 'I think these four CAPEC IDs cover the main aspects: supply chain issues, '\n",
      " 'third-party component vulnerabilities, public disclosure exploitation, and '\n",
      " 'backdoor attacks.\\n'\n",
      " '</think>\\n'\n",
      " '\\n'\n",
      " '```json\\n'\n",
      " '[\\n'\n",
      " '    \"CAPEC-201\",\\n'\n",
      " '    \"CAPEC-468\",\\n'\n",
      " '    \"CAPEC-579\",\\n'\n",
      " '    \"CAPEC-620\"\\n'\n",
      " ']\\n'\n",
      " '```')\n"
     ]
    },
    {
     "data": {
      "text/plain": [
       "['CAPEC-201', 'CAPEC-468', 'CAPEC-579', 'CAPEC-620']"
      ]
     },
     "execution_count": 24,
     "metadata": {},
     "output_type": "execute_result"
    }
   ],
   "source": [
    "pprint(second_random_cot_14b['Result'].values[0])\n",
    "json.loads(second_random_cot_14b['Json'].values[0])"
   ]
  },
  {
   "cell_type": "markdown",
   "id": "57b2d30e",
   "metadata": {},
   "source": [
    "32b"
   ]
  },
  {
   "cell_type": "code",
   "execution_count": 25,
   "id": "cc3103ae",
   "metadata": {},
   "outputs": [
    {
     "name": "stdout",
     "output_type": "stream",
     "text": [
      "('<think>\\n'\n",
      " 'Okay, so I need to figure out which CAPEC IDs are most relevant to this '\n",
      " 'threat summary about a malicious actor accessing local logs in the SMO for '\n",
      " 'reconnaissance. Let me break it down step by step.\\n'\n",
      " '\\n'\n",
      " 'First, understanding the threat: A malicious actor is viewing local logs '\n",
      " 'stored in the System Management and Orchestration (SMO) component of an '\n",
      " 'O-RAN setup. The goal here seems to be collecting sensitive or private '\n",
      " 'information through this action. So, the attack involves unauthorized access '\n",
      " 'to log files for reconnaissance purposes.\\n'\n",
      " '\\n'\n",
      " 'Now, I need to map this scenario to CAPEC IDs. CAPEC is a list of attack '\n",
      " 'patterns that describe various ways attackers can exploit systems. Each ID '\n",
      " 'corresponds to a specific type of attack pattern.\\n'\n",
      " '\\n'\n",
      " 'Let me think about what kind of attacks involve accessing logs. Logs often '\n",
      " 'contain sensitive information like user activities, system configurations, '\n",
      " 'or even credentials if not properly sanitized. So, an attacker gaining '\n",
      " 'access to these logs could be part of several attack patterns.\\n'\n",
      " '\\n'\n",
      " 'One possible CAPEC is related to unauthorized data access. Maybe something '\n",
      " 'like \"Insecure Storage\" where sensitive data isn\\'t stored securely, '\n",
      " \"allowing attackers to retrieve it. But I'm not sure if that's the exact fit \"\n",
      " 'here because the threat is about accessing existing logs rather than '\n",
      " 'insecure storage practices.\\n'\n",
      " '\\n'\n",
      " 'Another angle is information gathering. Attackers often gather info through '\n",
      " 'reconnaissance to plan further attacks. So, perhaps a CAPEC related to '\n",
      " 'information gathering or data collection would be relevant. For example, '\n",
      " '\"Reconnaissance\" itself might be a category, but I need specific attack '\n",
      " 'patterns.\\n'\n",
      " '\\n'\n",
      " 'Looking at the description again: accessing logs for sensitive info. This '\n",
      " 'sounds like an attack where the attacker is trying to collect data that can '\n",
      " 'help them in further attacks. So maybe something like \"Data Collection\" or '\n",
      " '\"Information Gathering.\"\\n'\n",
      " '\\n'\n",
      " 'Wait, CAPEC has specific IDs for these. Let me recall some common ones. '\n",
      " 'There\\'s CAPEC-13 which is about \"Exploitation of Log Files.\" That seems '\n",
      " 'directly related because it involves accessing log files to gather '\n",
      " 'information.\\n'\n",
      " '\\n'\n",
      " 'Another one could be CAPEC-20, which is \"Reconnaissance.\" This attack '\n",
      " 'pattern focuses on the initial phase where attackers gather info about their '\n",
      " 'target. Accessing logs would definitely fall under this category as part of '\n",
      " 'reconnaissance activities.\\n'\n",
      " '\\n'\n",
      " 'Additionally, there\\'s CAPEC-153, which deals with \"Unauthorized Data '\n",
      " 'Access.\" This could apply if the attacker isn\\'t authorized to access those '\n",
      " 'logs but manages to do so anyway, potentially leading to data theft or '\n",
      " 'misuse.\\n'\n",
      " '\\n'\n",
      " 'So putting it all together: The threat involves accessing logs (CAPEC-13), '\n",
      " 'using that as part of reconnaissance (CAPEC-20), and unauthorized access to '\n",
      " 'sensitive data (CAPEC-153). These three seem to cover the scenario '\n",
      " 'comprehensively.\\n'\n",
      " '</think>\\n'\n",
      " '\\n'\n",
      " '```json\\n'\n",
      " '[\\n'\n",
      " '    \"CAPEC-13\",\\n'\n",
      " '    \"CAPEC-20\",\\n'\n",
      " '    \"CAPEC-153\"\\n'\n",
      " ']\\n'\n",
      " '```')\n"
     ]
    },
    {
     "data": {
      "text/plain": [
       "['CAPEC-13', 'CAPEC-20', 'CAPEC-153']"
      ]
     },
     "execution_count": 25,
     "metadata": {},
     "output_type": "execute_result"
    }
   ],
   "source": [
    "pprint(first_random_cot_32b['Result'].values[0])\n",
    "json.loads(first_random_cot_32b['Json'].values[0])"
   ]
  },
  {
   "cell_type": "code",
   "execution_count": 26,
   "id": "d87b763f",
   "metadata": {},
   "outputs": [
    {
     "name": "stdout",
     "output_type": "stream",
     "text": [
      "('<think>\\n'\n",
      " 'Okay, so I need to figure out which CAPEC IDs are most relevant to this '\n",
      " 'threat summary about O-RAN and open-source vulnerabilities. Let me start by '\n",
      " 'understanding the threat.\\n'\n",
      " '\\n'\n",
      " 'The threat is that developers are using software components with known '\n",
      " 'vulnerabilities and untrusted libraries, which can be exploited through '\n",
      " 'backdoor attacks. The description mentions that the O-RAN Software Community '\n",
      " 'uses open-source code, which introduces security risks because these '\n",
      " 'vulnerabilities are publicly available on NVD. Hackers use this information '\n",
      " 'to exploit them. Also, developers reuse open-source code, leading to '\n",
      " 'vulnerabilities propagating and enabling backdoors.\\n'\n",
      " '\\n'\n",
      " \"There's a mention of supply chain risks when downloading from untrusted \"\n",
      " \"repositories. Some vendors don't have accurate inventories of their software \"\n",
      " \"dependencies or processes for managing vulnerabilities. There's also a lack \"\n",
      " 'of consistent supply chain traceability and security, as well as coding best '\n",
      " 'practices conflicting with Security-by-Design principles. Developers might '\n",
      " 'use modules with known issues, leading to backdoor attacks. Attackers can '\n",
      " 'exploit these to infect hypervisors, OSes, VMs, or containers with malware.\\n'\n",
      " '\\n'\n",
      " 'Now, I need to map this to CAPEC IDs. Let me think about each part:\\n'\n",
      " '\\n'\n",
      " '1. **Using Components with Known Vulnerabilities**: This sounds like using '\n",
      " 'outdated or vulnerable software components. The relevant CAPEC here is '\n",
      " 'likely 693 (Use of a Component with Known Security Flaws). \\n'\n",
      " '\\n'\n",
      " '2. **Untrusted Libraries and Backdoor Attacks**: Using untrusted libraries '\n",
      " 'could be related to supply chain attacks, which might fall under CAPEC 807 '\n",
      " '(Supply Chain Compromise). Also, backdoor attacks themselves are covered by '\n",
      " 'CAPEC 15 (Backdoor).\\n'\n",
      " '\\n'\n",
      " '3. **Exploiting Open Source Vulnerabilities**: Since the vulnerabilities are '\n",
      " 'known and publicly available, attackers can exploit them easily. This could '\n",
      " 'relate to CAPEC 246 (Exploitation of Known Vulnerability in Open Source '\n",
      " 'Software Component). \\n'\n",
      " '\\n'\n",
      " '4. **Supply Chain Risks from Untrusted Repositories**: Downloading code from '\n",
      " 'untrusted sources is a supply chain issue, so again CAPEC 807 might apply '\n",
      " 'here.\\n'\n",
      " '\\n'\n",
      " '5. **Lack of Inventory and Patch Management**: This leads to vulnerabilities '\n",
      " 'not being patched, which ties back into using components with known flaws '\n",
      " '(CAPEC 693).\\n'\n",
      " '\\n'\n",
      " '6. **Malware Infection via Exploits**: The attacker uses the exploit to '\n",
      " 'infect systems, which could be seen as a form of malware delivery, but I '\n",
      " \"think it's more about exploiting existing vulnerabilities rather than a \"\n",
      " 'separate attack pattern.\\n'\n",
      " '\\n'\n",
      " 'Putting this together, the main CAPEC IDs would be 693 for using vulnerable '\n",
      " 'components, 246 for exploiting known open-source issues, and 807 for supply '\n",
      " 'chain compromise. Additionally, since backdoor attacks are mentioned, CAPEC '\n",
      " '15 is relevant.\\n'\n",
      " '</think>\\n'\n",
      " '\\n'\n",
      " '```json\\n'\n",
      " '[\\n'\n",
      " '    \"CAPEC-693\",\\n'\n",
      " '    \"CAPEC-246\",\\n'\n",
      " '    \"CAPEC-807\",\\n'\n",
      " '    \"CAPEC-15\"\\n'\n",
      " ']\\n'\n",
      " '```')\n"
     ]
    },
    {
     "data": {
      "text/plain": [
       "['CAPEC-693', 'CAPEC-246', 'CAPEC-807', 'CAPEC-15']"
      ]
     },
     "execution_count": 26,
     "metadata": {},
     "output_type": "execute_result"
    }
   ],
   "source": [
    "pprint(second_random_cot_32b['Result'].values[0])\n",
    "json.loads(second_random_cot_32b['Json'].values[0])"
   ]
  },
  {
   "cell_type": "code",
   "execution_count": 31,
   "id": "b68a40bf",
   "metadata": {},
   "outputs": [
    {
     "name": "stdout",
     "output_type": "stream",
     "text": [
      "--- Results for deepseek-r1:1.5b ---\n",
      "- 206: 1\n",
      "\n",
      "\n",
      "--- Results for deepseek-r1:14b ---\n",
      "- CAPEC-203: 1\n",
      "- CAPEC-16: 1\n",
      "- CAPEC-41: 1\n",
      "- CAPEC-205: 1\n",
      "- CAPEC-370: 1\n",
      "- CAPEC-196: 1\n",
      "- CAPEC-349: 1\n",
      "\n",
      "\n",
      "--- Results for deepseek-r1:32b ---\n",
      "- CAPEC-30: 1\n",
      "- CAPEC-78: 1\n",
      "- CAPEC-149: 1\n",
      "- CAPEC-257: 1\n",
      "- CAPEC-88: 1\n",
      "- CAPEC-94: 1\n",
      "- CAPEC-157: 1\n",
      "\n",
      "\n"
     ]
    }
   ],
   "source": [
    "import pandas as pd\n",
    "import json\n",
    "from collections import Counter\n",
    "\n",
    "def get_json_value_counts(dataframe, model_name, optimization_name):\n",
    "    \"\"\"\n",
    "    Filters a DataFrame by model and optimization, merges all JSON arrays \n",
    "    from the 'Json' column, and counts the occurrences of each value.\n",
    "\n",
    "    Args:\n",
    "        dataframe (pd.DataFrame): The input DataFrame (e.g., jsonl_data).\n",
    "        model_name (str): The name of the model to filter by.\n",
    "        optimization_name (str): The name of the optimization to filter by.\n",
    "\n",
    "    Returns:\n",
    "        collections.Counter: A Counter object with the counts of each unique value.\n",
    "    \"\"\"\n",
    "    # Step 1: Filter the DataFrame\n",
    "    filtered_df = dataframe[\n",
    "        (dataframe['Optimization'] == optimization_name) & \n",
    "        (dataframe['Model'] == model_name)\n",
    "    ]\n",
    "\n",
    "    # Step 2: Merge all JSON arrays into a single list\n",
    "\n",
    "    merged_list = []\n",
    "    for json_str in filtered_df['Json']:\n",
    "        try:\n",
    "            parsed_list = json.loads(json_str)\n",
    "            if isinstance(parsed_list, list):\n",
    "                # For each dictionary, create a hashable JSON string representation\n",
    "                for item in parsed_list:\n",
    "                    if isinstance(item, dict):\n",
    "                        # Use json.dumps with sort_keys to ensure consistent string representation\n",
    "                        merged_list.append(json.dumps(item, sort_keys=True))\n",
    "                    else:\n",
    "                        # If it's not a dict, just append it\n",
    "                        merged_list.append(item)\n",
    "        except (json.JSONDecodeError, TypeError):\n",
    "            pass\n",
    "\n",
    "        return Counter(merged_list)\n",
    "\n",
    "# --- Now, call the function for each model ---\n",
    "\n",
    "# Define the list of models you want to process\n",
    "model_names = ['deepseek-r1:1.5b', 'deepseek-r1:14b', 'deepseek-r1:32b']\n",
    "\n",
    "# Loop through the model names and print the results for each\n",
    "for model in model_names:\n",
    "    # Call the function to get the counts for the current model\n",
    "    value_counts = get_json_value_counts(jsonl_data, model_name=model, optimization_name='PE-CoT')\n",
    "    \n",
    "    # Print the results in a nicely formatted way\n",
    "    print(f\"--- Results for {model} ---\")\n",
    "    if not value_counts:\n",
    "        print(\"No valid data found.\")\n",
    "    else:\n",
    "        # Using most_common() to display results sorted by count\n",
    "        for item, count in value_counts.most_common():\n",
    "            print(f\"- {item}: {count}\")\n",
    "    print(\"\\n\") # Add a blank line for better separation\n",
    "\n"
   ]
  },
  {
   "cell_type": "code",
   "execution_count": 32,
   "id": "7e30839f",
   "metadata": {},
   "outputs": [
    {
     "name": "stdout",
     "output_type": "stream",
     "text": [
      "--- Results for deepseek-r1:1.5b ---\n",
      "- 102-854: 9\n",
      "- 10.2.3.4: 5\n",
      "- 102-865: 4\n",
      "- 10.2.3.5: 4\n",
      "- 701: 3\n",
      "- Data Breach: 3\n",
      "- 102-806: 3\n",
      "- 200: 3\n",
      "- 96-730: 2\n",
      "- 102-845: 2\n",
      "- 94-730: 2\n",
      "- 300: 2\n",
      "- 102-863: 2\n",
      "- Data Misuse: 2\n",
      "- 201.5.3.4: 2\n",
      "- CAPEC 102: 2\n",
      "- CAPEC 103: 2\n",
      "- 206: 1\n",
      "- 601: 1\n",
      "- 634: 1\n",
      "- Access Control Access Control (ACCAC): 1\n",
      "- C2.0.5.3: 1\n",
      "- C2.0.4.6: 1\n",
      "- C2.1.5.7: 1\n",
      "- CAPEC 102-806: 1\n",
      "- CAPEC 94-735: 1\n",
      "- {'capec_id': '10.2.3.4'}: 1\n",
      "- {'capec_id': '10.2.5.6'}: 1\n",
      "- {'capec_id': '10.2.7.8'}: 1\n",
      "- {'capec_id': '10.2.9.10'}: 1\n",
      "- Access Control and Security (ACC): 1\n",
      "- Data Protection and Security (DPS): 1\n",
      "- 102-869: 1\n",
      "- 102-873: 1\n",
      "- 50-02-039: 1\n",
      "- 50-02-047: 1\n",
      "- 50-02-068: 1\n",
      "- 10-425: 1\n",
      "- 40000: 1\n",
      "- 40003: 1\n",
      "- 40015: 1\n",
      "- 10.2.3.4.5.1.2.3.4.5.6.7.8.9.10: 1\n",
      "- 10.2.3.5.4: 1\n",
      "- 60-430: 1\n",
      "- 60-431: 1\n",
      "- 60-432: 1\n",
      "- CCN-T-TO: 1\n",
      "- P: 1\n",
      "- PM: 1\n",
      "- PS: 1\n",
      "- MITM-FOIL: 1\n",
      "- Vulnerability-Misconfigurations-Application-approach-attacks-Service-attack-patterns: 1\n",
      "- NPA 2018-05-31 (NPA) 4.0.0.0.0: 1\n",
      "- NPA 2019-06-17 (NPA) 4.0.0.0.0: 1\n",
      "- 10.5.3.7: 1\n",
      "- 10.5.2.6: 1\n",
      "- Access Control Misuse: 1\n",
      "- Denial of Service (DoS) Attack: 1\n",
      "- 10.2.5.6: 1\n",
      "- 10.2.3.4.5.1.6.7.8.9.10.11: 1\n",
      "- 10.2.3.4.12.13.14.15.16.17.18.19: 1\n",
      "- 10.2.3.6: 1\n",
      "- 102-853: 1\n",
      "- CAPEC 1025: 1\n",
      "- CAPEC 1026: 1\n",
      "- CAPEC 1034: 1\n",
      "- NVS: 1\n",
      "- NASD: 1\n",
      "- RIVAS: 1\n",
      "- 125-845: 1\n",
      "- 93-704: 1\n",
      "- 2015-04-30.006: 1\n",
      "- {'category': 'Cyberattack', 'subcategory': 'Data Breach'}: 1\n",
      "- {'category': 'Cyberattack', 'subcategory': 'Network Interference'}: 1\n",
      "- 2014.05.01.001: 1\n",
      "- 2014.05.01.003: 1\n",
      "- 2014.05.01.007: 1\n",
      "- 201.3.4.5.6.7.9: 1\n",
      "- CAPEC 102500 - Exploitation of Malicious Software: 1\n",
      "- CAPEC 102499 - Exploitation of Malicious RApp: 1\n",
      "- 701-125: 1\n",
      "- Level 3: Exploit Services Across Interfaces: 1\n",
      "- 520.17.4.6: 1\n",
      "- 520.17.4.8: 1\n",
      "- 520.17.4.9: 1\n",
      "- {'capec_id': '2015-11-30-04-00-00D'}: 1\n",
      "- R3: 1\n",
      "- {'capec_id': '10.2.1.4'}: 1\n",
      "- V: 1\n",
      "- PE: 1\n",
      "- A201: 1\n",
      "- A305: 1\n",
      "- A216: 1\n",
      "- A247: 1\n",
      "- 7-500: 1\n",
      "- 201-305: 1\n",
      "- 305: 1\n",
      "- 214: 1\n",
      "- Malicious actor: 1\n",
      "- Log access: 1\n",
      "- 201.3.4.5: 1\n",
      "- 201.3.4.6: 1\n",
      "- Log Analysis: 1\n",
      "- Intercept and Eavesdrop Data: 1\n",
      "- Data Intercepted in Transit: 1\n",
      "- Eavesdropping Data in Transit: 1\n",
      "- V012: 1\n",
      "- V013: 1\n",
      "- 85.0.0.0: 1\n",
      "- {'capec_id': '20.1.3.4', 'description': 'Physical damage to network infrastructure.'}: 1\n",
      "- {'capec_id': '20.1.3.5', 'description': 'Cyberattacks on network devices.'}: 1\n",
      "- CAPEC-00000000: 1\n",
      "- CAPEC-00000001: 1\n",
      "- 10.4.3.5.6.1: 1\n",
      "- 10.4.3.5.2: 1\n",
      "- 90.165.1.3.4: 1\n",
      "- MIM Attack: 1\n",
      "- {'capec_id': 'Threats using external access points for MitM'}: 1\n",
      "- A: 1\n",
      "- {'capec_id': 'SLA-SNNS'}: 1\n",
      "- SAV: 1\n",
      "- LAA: 1\n",
      "- 20-456: 1\n",
      "- 350: 1\n",
      "- 127: 1\n",
      "- Data Manipulation: 1\n",
      "- Unauthorized Access on Data (ADA): 1\n",
      "- Unauthorized Access on Network Devices (AND): 1\n",
      "- 1025: 1\n",
      "- 1034: 1\n",
      "- 1026: 1\n",
      "- {'category': 'RAN Misconfiguration and Misconfigurations', 'subcategory': 'Advanced'}: 1\n",
      "- MAJI: 1\n",
      "- MMTA: 1\n",
      "- Medium-Medium: 1\n",
      "- 10.5.2.3.1: 1\n",
      "- Vulnerability-Based Exploitable by Attack Vector: 1\n",
      "- 102-805: 1\n",
      "- 102-807: 1\n",
      "- 102-809: 1\n",
      "- Application Vulnerabilities: 1\n",
      "- Data Security Threats: 1\n",
      "- DBA: 1\n",
      "- ACV: 1\n",
      "- Open System Vulnerabilities: 1\n",
      "- RAN System Weaknesses: 1\n",
      "- Lateral Movement and Control Mechanisms: 1\n",
      "- 10.2.4.6: 1\n",
      "- 10.2.5.3: 1\n",
      "- 10.2.6.4: 1\n",
      "- 10.2.3: 1\n",
      "- 10.2.4: 1\n",
      "- 201.3.5.4: 1\n",
      "- 201.3.5.6: 1\n",
      "- 201.3.5.7: 1\n",
      "- 5.1.0.3.1: 1\n",
      "- WE: 1\n",
      "- Lateral Movement: 1\n",
      "- 102-857: 1\n",
      "- 102-864: 1\n",
      "- 102-859: 1\n",
      "- 96-735: 1\n",
      "- 100: 1\n",
      "- 3.0.4.5: 1\n",
      "- 2.1.6.1: 1\n",
      "- 70-325: 1\n",
      "- 70-325.1: 1\n",
      "- 701-325-325: 1\n",
      "- RAN-01: 1\n",
      "- 200.145.369.78: 1\n",
      "- Weak Access Management: 1\n",
      "- Weak Authentication: 1\n",
      "- Weak Management and Security: 1\n",
      "- 100-499: 1\n",
      "- CAPEC 10259: Unauthorized Access Attack on O-RU: 1\n",
      "- CAPEC 10263: Unauthorized Access Attack on RAN: 1\n",
      "- CAPEC 10264: Unauthorized Access Attack on RAN Management: 1\n",
      "- 10259: 1\n",
      "- 10274: 1\n",
      "- Data Access: 1\n",
      "- DPO: 1\n",
      "- DPO-2: 1\n",
      "- WSM: 1\n",
      "- VSM: 1\n",
      "- RAN: 1\n",
      "- RAN-1: 1\n",
      "- Data Compromise: 1\n",
      "- Data Exfiltration: 1\n",
      "- 10-436: 1\n",
      "- 2015-346: 1\n",
      "- HRM: 1\n",
      "- DOSA: 1\n",
      "- HPRM: 1\n",
      "- CAPEC 2015 Basic Privilege Misuse: 1\n",
      "- CAPEC 2015 Medium Privilege Misuse: 1\n",
      "- CAPEC 2015 Advanced Privilege Misuse: 1\n",
      "- CAPEC 2015 Data Misuse Vulnerabilities: 1\n",
      "- Open Source Software: 1\n",
      "- Software Vulnerabilities: 1\n",
      "- Component Vulnerabilities: 1\n",
      "- Cloud-Based Systems: 1\n",
      "- 400: 1\n",
      "- 10.2.3.4.5.1.2.3.4: 1\n",
      "- 10.2.3.4.5.1.6.7.8.9.10.11.12.13.14.15.16: 1\n",
      "- 3.10.25: 1\n",
      "- ISO/IEC 29764-3: 1\n",
      "- ISO/IEC 29764-5-1: 1\n",
      "- VNF/CNF Vulnerability Detection (VCD): 1\n",
      "- Host Kernel Vulnerabilities (HKVs): 1\n",
      "- Network Configuration Vulnerabilities (NCs): 1\n",
      "- Compromise of Host Functionalities (CHFs): 1\n",
      "- Host Security Vulnerabilities (HSVs): 1\n",
      "- Network Segmentation Vulnerabilities (NSVs): 1\n",
      "- 10.5.2.3: 1\n",
      "- 10.5.2.4: 1\n",
      "- 10.5.2.7: 1\n",
      "- C2.100: 1\n",
      "- D2.300: 1\n",
      "- 10.3.5.4: 1\n",
      "- 10.3.6.1: 1\n",
      "- 10.3.7.2: 1\n",
      "- 825: 1\n",
      "- {'category': 'Data Integrity', 'subcategory': 'Threats affecting data integrity'}: 1\n",
      "- 10.2.3.4.5: 1\n",
      "- 10.2.3.6.7: 1\n",
      "- Vulnerabilities in Direct Image Manipulation: 1\n",
      "- {'capec_id': '10.2.3.4.5'}: 1\n",
      "- {'capec_id': '2014-05-31', 'description': 'Container Attacks'}: 1\n",
      "- {'capec_id': '2014-06-15', 'description': 'Distributed Container Requirements'}: 1\n",
      "- {'capec_id': '2014-07-18', 'description': 'Service Discovery Issues'}: 1\n",
      "- {'capec_id': '2015-06-17', 'description': 'Scalability and Resilience'}: 1\n",
      "- CAPEC 2019-05-03: Resource Assignment Errors: 1\n",
      "- CAPEC 2019-06-04: Hardware Configuration Tampering: 1\n",
      "- CAPEC 2019-07-05: Data Integrity Attacks: 1\n",
      "- CAPEC 2019-08-03: Network Attack Types: 1\n",
      "- VMCPAP: 1\n",
      "- CAPEC 104: 1\n",
      "- {'generic': 'Cybersecurity Threat', 'subcategory': 'Attack Vectors', 'subtype': 'Physical'}: 1\n",
      "- CAPEC 10.2.3: 1\n",
      "- CAPEC 10.2.6: 1\n",
      "- {'capec_id': '2019-05-03-00-00-00'}: 1\n",
      "- RAN-012: 1\n",
      "- RAN-034: 1\n",
      "- Confidentiality: 1\n",
      "- Integrity: 1\n",
      "- Availability: 1\n",
      "- {'capec_id': 'Firmware-based attacks', 'description': 'Modifies hardware using firmware to introduce vulnerabilities.'}: 1\n",
      "- {'capec_id': 'Malware-based attacks', 'description': 'Involves modifying firmware or containing malware.'}: 1\n",
      "- Data Misconfiguration: 1\n",
      "- Data Overwrite: 1\n",
      "- Data Residue: 1\n",
      "- Monitoring Ambiguity: 1\n",
      "- Operational Disruption: 1\n",
      "- Resource Management: 1\n",
      "- Data Integrity and Availability: 1\n",
      "- Network Security: 1\n",
      "- Cybersecurity: 1\n",
      "- Resource Management Vulnerabilities: 1\n",
      "- Security Access Control Vulnerabilities: 1\n",
      "- Log Management Vulnerabilities: 1\n",
      "- 201.3.4.5.0.0.0: 1\n",
      "- 102-936: 1\n",
      "- 300-499: 1\n",
      "- 102-03-04: 1\n",
      "- 102-03-06: 1\n",
      "- DDoS/CR: 1\n",
      "- DDoS/CR/Agile radio: 1\n",
      "- 10.2.3.7: 1\n",
      "- CAPEC 102-845: 1\n",
      "- CAPEC 93-765: 1\n",
      "- 10.25.34.0.68-10.25.34.0.79: 1\n",
      "- 10.2.3.4.9: 1\n",
      "- 10.2.3.5.6: 1\n",
      "- 10.3.4: 1\n",
      "- {'capec_id': '60.2.3.1.5'}: 1\n",
      "- {'capec_id': '60.2.3.1.7'}: 1\n",
      "- Unauthorized access to communication channels: 1\n",
      "\n",
      "\n",
      "--- Results for deepseek-r1:14b ---\n",
      "- CAPEC-107: 20\n",
      "- CAPEC-201: 19\n",
      "- CAPEC-2: 15\n",
      "- CAPEC-208: 11\n",
      "- CAPEC-100: 9\n",
      "- CAPEC-3: 8\n",
      "- CAPEC-198: 8\n",
      "- CAPEC-370: 7\n",
      "- CAPEC-26: 7\n",
      "- CAPEC-200: 6\n",
      "- CAPEC-470: 6\n",
      "- CAPEC-469: 6\n",
      "- CAPEC-265: 6\n",
      "- CAPEC-204: 6\n",
      "- CAPEC-237: 5\n",
      "- CAPEC-34: 5\n",
      "- CAPEC-38: 5\n",
      "- CAPEC-10: 5\n",
      "- CAPEC-528: 5\n",
      "- CAPEC-380: 5\n",
      "- CAPEC-203: 4\n",
      "- CAPEC-205: 4\n",
      "- CAPEC-349: 4\n",
      "- CAPEC-578: 4\n",
      "- CAPEC-4: 4\n",
      "- CAPEC-264: 4\n",
      "- CAPEC-579: 4\n",
      "- CAPEC-102: 4\n",
      "- CAPEC-350: 4\n",
      "- CAPEC-460: 4\n",
      "- CAPEC-570: 4\n",
      "- CAPEC-527: 4\n",
      "- CAPEC-197: 4\n",
      "- CAPEC-23: 4\n",
      "- CAPEC-105: 4\n",
      "- CAPEC-359: 4\n",
      "- CAPEC-609: 4\n",
      "- CAPEC-301: 3\n",
      "- CAPEC-5: 3\n",
      "- CAPEC-610: 3\n",
      "- CAPEC-195: 3\n",
      "- CAPEC-108: 3\n",
      "- CAPEC-35: 3\n",
      "- CAPEC-20: 3\n",
      "- CAPEC-54: 3\n",
      "- CAPEC-703: 3\n",
      "- CAPEC-378: 3\n",
      "- CAPEC-347: 3\n",
      "- CAPEC-270: 3\n",
      "- CAPEC-467: 3\n",
      "- CAPEC-572: 3\n",
      "- CAPEC-468: 3\n",
      "- CAPEC-238: 2\n",
      "- CAPEC-298: 2\n",
      "- CAPEC-295: 2\n",
      "- CAPEC-17: 2\n",
      "- CAPEC-42: 2\n",
      "- CAPEC-548: 2\n",
      "- CAPEC-549: 2\n",
      "- CAPEC-267: 2\n",
      "- CAPEC-258: 2\n",
      "- CAPEC-25: 2\n",
      "- CAPEC-538: 2\n",
      "- CAPEC-269: 2\n",
      "- CAPEC-358: 2\n",
      "- CAPEC-369: 2\n",
      "- CAPEC-279: 2\n",
      "- CAPEC-291: 2\n",
      "- CAPEC-60: 2\n",
      "- CAPEC-248: 2\n",
      "- CAPEC-356: 2\n",
      "- CAPEC-643: 2\n",
      "- CAPEC-29: 2\n",
      "- CAPEC-75: 2\n",
      "- CAPEC-379: 2\n",
      "- CAPEC-648: 2\n",
      "- CAPEC-387: 2\n",
      "- CAPEC-59: 2\n",
      "- CAPEC-345: 2\n",
      "- CAPEC-389: 2\n",
      "- CAPEC-573: 2\n",
      "- CAPEC-592: 2\n",
      "- CAPEC-268: 2\n",
      "- CAPEC-37: 2\n",
      "- CAPEC-235: 2\n",
      "- CAPEC-106: 2\n",
      "- CAPEC-507: 2\n",
      "- CAPEC-508: 2\n",
      "- CAPEC-547: 2\n",
      "- CAPEC-503: 2\n",
      "- CAPEC-487: 2\n",
      "- CAPEC-390: 2\n",
      "- CAPEC-16: 1\n",
      "- CAPEC-41: 1\n",
      "- CAPEC-196: 1\n",
      "- CAPEC-53: 1\n",
      "- CAPEC-618: 1\n",
      "- CAPEC-639: 1\n",
      "- CAPEC-640: 1\n",
      "- CAPEC-307: 1\n",
      "- CAPEC-306: 1\n",
      "- CAPEC-6: 1\n",
      "- CAPEC-7: 1\n",
      "- CAPEC-8: 1\n",
      "- CAPEC-239: 1\n",
      "- CAPEC-247: 1\n",
      "- CAPEC-260: 1\n",
      "- CAPEC-567: 1\n",
      "- CAPEC-428: 1\n",
      "- CAPEC-158: 1\n",
      "- CAPEC-290: 1\n",
      "- CAPEC-28: 1\n",
      "- CAPEC-31: 1\n",
      "- CAPEC-40: 1\n",
      "- CAPEC-278: 1\n",
      "- CAPEC-1003: 1\n",
      "- CAPEC-700: 1\n",
      "- CAPEC-36: 1\n",
      "- CAPEC-45: 1\n",
      "- CAPEC-368: 1\n",
      "- CAPEC-304: 1\n",
      "- CAPEC-11: 1\n",
      "- CAPEC-135: 1\n",
      "- CAPEC-47: 1\n",
      "- CAPEC-63: 1\n",
      "- CAPEC-309: 1\n",
      "- CAPEC-647: 1\n",
      "- CAPEC-587: 1\n",
      "- CAPEC-529: 1\n",
      "- CAPEC-607: 1\n",
      "- CAPEC-21: 1\n",
      "- CAPEC-230: 1\n",
      "- CAPEC-46: 1\n",
      "- CAPEC-104: 1\n",
      "- CAPEC-1028: 1\n",
      "- CAPEC-109: 1\n",
      "- CAPEC-635: 1\n",
      "- CAPEC-628: 1\n",
      "- CAPEC-627: 1\n",
      "- CAPEC-300: 1\n",
      "- CAPEC-563: 1\n",
      "- CAPEC-708: 1\n",
      "- CAPEC-617: 1\n",
      "- CAPEC-593: 1\n",
      "- CAPEC-27: 1\n",
      "- CAPEC-192: 1\n",
      "- CAPEC-438: 1\n",
      "- CAPEC-462: 1\n",
      "- CAPEC-354: 1\n",
      "- CAPEC-753: 1\n",
      "- CAPEC-259: 1\n",
      "- CAPEC-569: 1\n",
      "- CAPEC-482: 1\n",
      "- CAPEC-1045: 1\n",
      "- CAPEC-308: 1\n",
      "- CAPEC-459: 1\n",
      "- CAPEC-483: 1\n",
      "- CAPEC-329: 1\n",
      "- CAPEC-650: 1\n",
      "- CAPEC-57: 1\n",
      "- CAPEC-315: 1\n",
      "- CAPEC-273: 1\n",
      "- CAPEC-199: 1\n",
      "- CAPEC-296: 1\n",
      "- CAPEC-207: 1\n",
      "- CAPEC-243: 1\n",
      "- CAPEC-506: 1\n",
      "- CAPEC-341: 1\n",
      "- CAPEC-532: 1\n",
      "- CAPEC-669: 1\n",
      "- CAPEC-385: 1\n",
      "- CAPEC-206: 1\n",
      "- CAPEC-502: 1\n",
      "- CAPEC-501: 1\n",
      "- CAPEC-475: 1\n",
      "- CAPEC-540: 1\n",
      "- CAPEC-619: 1\n",
      "- CAPEC-519: 1\n",
      "- CAPEC-504: 1\n",
      "- CAPEC-613: 1\n",
      "- CAPEC-408: 1\n",
      "- CAPEC-447: 1\n",
      "- CAPEC-384: 1\n",
      "- CAPEC-417: 1\n",
      "- CAPEC-496: 1\n",
      "- CAPEC-456: 1\n",
      "- CAPEC-537: 1\n",
      "- CAPEC-674: 1\n",
      "- CAPEC-521: 1\n",
      "- CAPEC-748: 1\n",
      "- CAPEC-381: 1\n",
      "- CAPEC-375: 1\n",
      "- CAPEC-418: 1\n",
      "- CAPEC-620: 1\n",
      "- CAPEC-352: 1\n",
      "- CAPEC-263: 1\n",
      "- CAPEC-52: 1\n",
      "- CAPEC-642: 1\n",
      "- CAPEC-351: 1\n",
      "\n",
      "\n",
      "--- Results for deepseek-r1:32b ---\n",
      "- CAPEC-78: 45\n",
      "- CAPEC-10: 33\n",
      "- CAPEC-102: 30\n",
      "- CAPEC-15: 26\n",
      "- CAPEC-98: 22\n",
      "- CAPEC-287: 20\n",
      "- CAPEC-107: 17\n",
      "- CAPEC-103: 15\n",
      "- CAPEC-108: 14\n",
      "- CAPEC-275: 13\n",
      "- CAPEC-106: 13\n",
      "- CAPEC-20: 12\n",
      "- CAPEC-104: 12\n",
      "- CAPEC-289: 12\n",
      "- CAPEC-28: 11\n",
      "- CAPEC-276: 11\n",
      "- CAPEC-73: 11\n",
      "- CAPEC-109: 9\n",
      "- CAPEC-126: 9\n",
      "- CAPEC-279: 9\n",
      "- CAPEC-100: 8\n",
      "- CAPEC-25: 8\n",
      "- CAPEC-30: 7\n",
      "- CAPEC-154: 7\n",
      "- CAPEC-207: 7\n",
      "- CAPEC-105: 6\n",
      "- CAPEC-285: 6\n",
      "- CAPEC-256: 6\n",
      "- CAPEC-205: 6\n",
      "- CAPEC-88: 5\n",
      "- CAPEC-189: 5\n",
      "- CAPEC-250: 5\n",
      "- CAPEC-137: 5\n",
      "- CAPEC-309: 5\n",
      "- CAPEC-27: 5\n",
      "- CAPEC-257: 4\n",
      "- CAPEC-395: 4\n",
      "- CAPEC-38: 4\n",
      "- CAPEC-398: 4\n",
      "- CAPEC-469: 4\n",
      "- CAPEC-6: 4\n",
      "- CAPEC-459: 4\n",
      "- CAPEC-248: 4\n",
      "- CAPEC-290: 4\n",
      "- CAPEC-347: 4\n",
      "- CAPEC-2: 4\n",
      "- CAPEC-152: 4\n",
      "- CAPEC-94: 3\n",
      "- CAPEC-13: 3\n",
      "- CAPEC-95: 3\n",
      "- CAPEC-74: 3\n",
      "- CAPEC-489: 3\n",
      "- CAPEC-37: 3\n",
      "- CAPEC-46: 3\n",
      "- CAPEC-389: 3\n",
      "- CAPEC-90: 3\n",
      "- CAPEC-125: 3\n",
      "- CAPEC-253: 3\n",
      "- CAPEC-76: 3\n",
      "- CAPEC-29: 3\n",
      "- CAPEC-133: 3\n",
      "- CAPEC-157: 2\n",
      "- CAPEC-258: 2\n",
      "- CAPEC-397: 2\n",
      "- CAPEC-35: 2\n",
      "- CAPEC-670: 2\n",
      "- CAPEC-134: 2\n",
      "- CAPEC-379: 2\n",
      "- CAPEC-298: 2\n",
      "- CAPEC-136: 2\n",
      "- CAPEC-200: 2\n",
      "- CAPEC-609: 2\n",
      "- CAPEC-306: 2\n",
      "- CAPEC-358: 2\n",
      "- CAPEC-49: 2\n",
      "- CAPEC-400: 2\n",
      "- CAPEC-153: 2\n",
      "- CAPEC-187: 2\n",
      "- CAPEC-478: 2\n",
      "- CAPEC-210: 2\n",
      "- CAPEC-69: 2\n",
      "- CAPEC-286: 2\n",
      "- CAPEC-209: 2\n",
      "- CAPEC-53: 2\n",
      "- CAPEC-259: 2\n",
      "- CAPEC-278: 2\n",
      "- CAPEC-149: 1\n",
      "- CAPEC-11: 1\n",
      "- CAPEC-14: 1\n",
      "- CAPEC-457: 1\n",
      "- CAPEC-305: 1\n",
      "- CAPEC-468: 1\n",
      "- CAPEC-264: 1\n",
      "- CAPEC-458: 1\n",
      "- CAPEC-297: 1\n",
      "- CAPEC-135: 1\n",
      "- CAPEC-493: 1\n",
      "- CAPEC-89: 1\n",
      "- CAPEC-55: 1\n",
      "- CAPEC-86: 1\n",
      "- CAPEC-293: 1\n",
      "- CAPEC-349: 1\n",
      "- CAPEC-265: 1\n",
      "- CAPEC-427: 1\n",
      "- CAPEC-139: 1\n",
      "- CAPEC-482: 1\n",
      "- CAPEC-530: 1\n",
      "- CAPEC-621: 1\n",
      "- CAPEC-630: 1\n",
      "- CAPEC-18: 1\n",
      "- CAPEC-345: 1\n",
      "- CAPEC-460: 1\n",
      "- CAPEC-7: 1\n",
      "- CAPEC-428: 1\n",
      "- CAPEC-539: 1\n",
      "- CAPEC-308: 1\n",
      "- CAPEC-329: 1\n",
      "- CAPEC-486: 1\n",
      "- 10: 1\n",
      "- 15: 1\n",
      "- 20: 1\n",
      "- CAPEC-39: 1\n",
      "- CAPEC-386: 1\n",
      "- CAPEC-396: 1\n",
      "- CAPEC-307: 1\n",
      "- CAPEC-167: 1\n",
      "- CAPEC-54: 1\n",
      "- CAPEC-47: 1\n",
      "- CAPEC-1034: 1\n",
      "- CAPEC-255: 1\n",
      "- CAPEC-254: 1\n",
      "- CAPEC-280: 1\n",
      "- CAPEC-150: 1\n",
      "- CAPEC-112: 1\n",
      "- CAPEC-387: 1\n",
      "- CAPEC-60: 1\n",
      "- CAPEC-294: 1\n",
      "- CAPEC-1028: 1\n",
      "- CAPEC-178: 1\n",
      "- CAPEC-1: 1\n",
      "- CAPEC-247: 1\n",
      "- CAPEC-738: 1\n",
      "- CAPEC-198: 1\n",
      "- CAPEC-17: 1\n",
      "- CAPEC-19: 1\n",
      "- CAPEC-1000: 1\n",
      "- CAPEC-462: 1\n",
      "- CAPEC-120: 1\n",
      "- CAPEC-274: 1\n",
      "- CAPEC-497: 1\n",
      "- CAPEC-114: 1\n",
      "- CAPEC-608: 1\n",
      "- CAPEC-130: 1\n",
      "- CAPEC-693: 1\n",
      "- CAPEC-246: 1\n",
      "- CAPEC-807: 1\n",
      "- CAPEC-268: 1\n",
      "- CAPEC-450: 1\n",
      "- CAPEC-483: 1\n",
      "- CAPEC-390: 1\n",
      "- CAPEC-8: 1\n",
      "\n",
      "\n"
     ]
    }
   ],
   "source": [
    "import pandas as pd\n",
    "import json\n",
    "from collections import Counter\n",
    "\n",
    "def get_json_value_counts(dataframe, model_name, optimization_name):\n",
    "    \"\"\"\n",
    "    Filters a DataFrame by model and optimization, merges all JSON arrays \n",
    "    from the 'Json' column, and counts the occurrences of each unique value,\n",
    "    including dictionaries which are converted to a hashable string.\n",
    "\n",
    "    Args:\n",
    "        dataframe (pd.DataFrame): The input DataFrame (e.g., jsonl_data).\n",
    "        model_name (str): The name of the model to filter by.\n",
    "        optimization_name (str): The name of the optimization to filter by.\n",
    "\n",
    "    Returns:\n",
    "        collections.Counter: A Counter object with the counts of each unique value.\n",
    "    \"\"\"\n",
    "    # Step 1: Filter the DataFrame\n",
    "    filtered_df = dataframe[\n",
    "        (dataframe['Optimization'] == optimization_name) & \n",
    "        (dataframe['Model'] == model_name)\n",
    "    ]\n",
    "\n",
    "    # Step 2: Merge all JSON arrays into a single list\n",
    "    merged_list = []\n",
    "    for json_str in filtered_df['Json']:\n",
    "        try:\n",
    "            parsed_list = json.loads(json_str)\n",
    "            if isinstance(parsed_list, list):\n",
    "                for item in parsed_list:\n",
    "                    # Convert dictionaries to a hashable JSON string to make them countable\n",
    "                    if isinstance(item, dict):\n",
    "                        # Use sort_keys=True to ensure consistent string representation\n",
    "                        merged_list.append(json.dumps(item, sort_keys=True))\n",
    "                    else:\n",
    "                        # For other types (e.g., strings, numbers), append them directly\n",
    "                        merged_list.append(item)\n",
    "        except (json.JSONDecodeError, TypeError):\n",
    "            # Skip any rows with invalid JSON\n",
    "            pass\n",
    "            \n",
    "    # Step 3: Count the occurrences\n",
    "    return Counter(merged_list)\n",
    "\n",
    "# --- Example Usage (Assuming a 'jsonl_data' DataFrame exists) ---\n",
    "# This part is for demonstration. You would replace this with your actual data loading.\n",
    "\n",
    "\n",
    "\n",
    "# Define the list of models you want to process\n",
    "model_names = ['deepseek-r1:1.5b', 'deepseek-r1:14b', 'deepseek-r1:32b']\n",
    "\n",
    "# Loop through the model names and print the results for each\n",
    "for model in model_names:\n",
    "    # Call the function to get the counts for the current model\n",
    "    value_counts = get_json_value_counts(jsonl_data, model_name=model, optimization_name='PE-CoT')\n",
    "    \n",
    "    # Print the results in a nicely formatted way\n",
    "    print(f\"--- Results for {model} ---\")\n",
    "    if not value_counts:\n",
    "        print(\"No valid data found.\")\n",
    "    else:\n",
    "        # Using most_common() to display results sorted by count\n",
    "        for item, count in value_counts.most_common():\n",
    "            # If the item is a stringified JSON, you might want to re-parse it for display\n",
    "            try:\n",
    "                # Attempt to re-parse the stringified JSON for a cleaner output\n",
    "                parsed_item = json.loads(item)\n",
    "                print(f\"- {parsed_item}: {count}\")\n",
    "            except (json.JSONDecodeError, TypeError):\n",
    "                # If it's not JSON, print the item directly\n",
    "                print(f\"- {item}: {count}\")\n",
    "    print(\"\\n\") # Add a blank line for better separation"
   ]
  },
  {
   "cell_type": "markdown",
   "id": "3ff7889b",
   "metadata": {},
   "source": [
    "RAG"
   ]
  },
  {
   "cell_type": "markdown",
   "id": "8463540e",
   "metadata": {},
   "source": [
    "1.5b"
   ]
  },
  {
   "cell_type": "code",
   "execution_count": 33,
   "id": "cf04d205",
   "metadata": {},
   "outputs": [
    {
     "name": "stdout",
     "output_type": "stream",
     "text": [
      "('<think>\\n'\n",
      " 'Alright, I need to figure out which CAPEC entries are most relevant to the '\n",
      " 'given threat summary. The threat is about a malicious actor accessing '\n",
      " 'locally stored logs in the SMO to perform reconnaissance and collect '\n",
      " 'sensitive information.\\n'\n",
      " '\\n'\n",
      " \"First, I'll look at each CAPEC entry provided and see if it relates to log \"\n",
      " 'access or manipulation. \\n'\n",
      " '\\n'\n",
      " '1. **CAPEC-268: Audit Log Manipulation** - This involves injecting, '\n",
      " \"manipulating, deleting, or forging log entries. It's about misleading audits \"\n",
      " 'or covering tracks, which seems relevant because the threat is about '\n",
      " 'accessing logs for reconnaissance.\\n'\n",
      " '\\n'\n",
      " '2. **CAPEC-93: Log Injection-Tampering-Forging** - Similar to 268 but more '\n",
      " 'general. It targets log files to inject malicious entries, leading to issues '\n",
      " 'in accountability and forensics. This directly relates to unauthorized '\n",
      " 'access to logs.\\n'\n",
      " '\\n'\n",
      " '3. **CAPEC-81: Web Server Logs Tampering** - Focuses on web server logs '\n",
      " 'specifically. While the threat is about SMO logs, this could be relevant if '\n",
      " 'the logs are similar in nature or accessed through a web interface.\\n'\n",
      " '\\n'\n",
      " '4. **CAPEC-67: String Format Overflow in syslog()** - This is more about '\n",
      " \"exploiting a function to cause buffer overflows. It doesn't directly relate \"\n",
      " 'to accessing logs for reconnaissance but rather to injecting malicious data '\n",
      " 'into logs, which might not be the main concern here.\\n'\n",
      " '\\n'\n",
      " '5. **CAPEC-17: Using Malicious Files** - Involves executing malicious files. '\n",
      " 'Not directly related to log access unless the logs are used to execute code, '\n",
      " \"which isn't mentioned in the threat.\\n\"\n",
      " '\\n'\n",
      " '6. **CAPEC-413: Pretexting via Tech Support** - Social engineering attack '\n",
      " \"where an attacker pretends to be tech support. This doesn't seem relevant as \"\n",
      " 'the threat is about accessing logs directly, not social engineering.\\n'\n",
      " '\\n'\n",
      " '7. **CAPEC-442: Infected Software** - Adding malicious logic to software. '\n",
      " 'Not directly related unless the log access is part of infected software, '\n",
      " \"which isn't indicated here.\\n\"\n",
      " '\\n'\n",
      " '8. **CAPEC-387: Navigation Remapping To Propagate Malicious Content** - '\n",
      " \"Manipulating data to change message content. Doesn't seem relevant to \"\n",
      " 'accessing logs.\\n'\n",
      " '\\n'\n",
      " '9. **CAPEC-502: Intent Spoof** - Using intents in applications to achieve '\n",
      " 'objectives. Not directly related to log access.\\n'\n",
      " '\\n'\n",
      " '10. **CAPEC-529: Malware-Directed Internal Reconnaissance** - Malware '\n",
      " 'gathering information about systems. This is somewhat relevant as the threat '\n",
      " \"involves using logs for reconnaissance, but it's more about malware than \"\n",
      " 'direct log access.\\n'\n",
      " '\\n'\n",
      " '11. **CAPEC-549: Local Execution of Code** - Executing malicious code on a '\n",
      " 'system. Not directly related unless the log access leads to code execution, '\n",
      " \"which isn't specified.\\n\"\n",
      " '\\n'\n",
      " '12. **CAPEC-571: Block Logging to Central Repository** - Preventing logs '\n",
      " 'from being sent centrally. This is about hiding activity rather than '\n",
      " 'accessing logs for reconnaissance.\\n'\n",
      " '\\n'\n",
      " '13. **CAPEC-443: Malicious Logic Inserted Into Product by Authorized '\n",
      " 'Developer** - Injecting malicious code during development. Not directly '\n",
      " \"related unless the log access is part of such an attack, which isn't \"\n",
      " 'indicated.\\n'\n",
      " '\\n'\n",
      " '14. **CAPEC-21: Exploitation of Trusted Identifiers** - Using trusted '\n",
      " \"identifiers to perform actions. Doesn't seem relevant here.\\n\"\n",
      " '\\n'\n",
      " '15. **CAPEC-185: Malicious Software Download** - Deceptive methods to '\n",
      " 'download malware. Not directly related unless the log access is part of a '\n",
      " \"software download, which isn't mentioned.\\n\"\n",
      " '\\n'\n",
      " '16. **CAPEC-456: Infected Memory** - Inserting malicious logic into memory. '\n",
      " \"Doesn't seem relevant to accessing logs.\\n\"\n",
      " '\\n'\n",
      " '17. **CAPEC-261: Fuzzing for garnering other adjacent user/sensitive data** '\n",
      " '- Sending modified queries to get extra info, possibly through error logs. '\n",
      " 'This is somewhat related as it involves using logs to gather sensitive data, '\n",
      " \"which aligns with the threat's description.\\n\"\n",
      " '\\n'\n",
      " '18. **CAPEC-186: Malicious Software Update** - Deceptive updates. Not '\n",
      " 'directly relevant unless the log access is part of an update process, which '\n",
      " \"isn't indicated.\\n\"\n",
      " '\\n'\n",
      " '19. **CAPEC-407: Pretexting** - General social engineering to get info. '\n",
      " \"Doesn't seem directly related as the threat is about accessing logs, not \"\n",
      " 'deceiving individuals.\\n'\n",
      " '\\n'\n",
      " '20. **CAPEC-23: File Content Injection** - Poisoning files with malicious '\n",
      " 'payloads. Not directly related unless the logs are used to inject code, '\n",
      " \"which isn't mentioned.\\n\"\n",
      " '\\n'\n",
      " '21. **CAPEC-616: Establish Rogue Location** - Providing a malicious resource '\n",
      " \"at a fake location. Doesn't seem relevant here.\\n\"\n",
      " '\\n'\n",
      " '22. **CAPEC-542: Targeted Malware** - Developing malware for specific '\n",
      " 'environments. Not directly related unless the log access is part of a '\n",
      " \"targeted attack, which isn't specified.\\n\"\n",
      " '\\n'\n",
      " '23. **CAPEC-523: Malicious Software Implanted** - Implanting malware in the '\n",
      " \"supply chain. Doesn't seem relevant to accessing logs.\\n\"\n",
      " '\\n'\n",
      " 'From this analysis, the most relevant CAPEPs are those that deal with log '\n",
      " 'manipulation or access for reconnaissance purposes. So, CAPEC-268, CAPEC-93, '\n",
      " 'and CAPEC-261 seem directly related because they involve accessing or '\n",
      " 'manipulating logs to gather information or cause issues in accountability.\\n'\n",
      " '</think>\\n'\n",
      " '\\n'\n",
      " '```json\\n'\n",
      " '[\\n'\n",
      " '    \"CAPEC-268\",\\n'\n",
      " '    \"CAPEC-93\",\\n'\n",
      " '    \"CAPEC-261\"\\n'\n",
      " ']\\n'\n",
      " '```')\n"
     ]
    }
   ],
   "source": [
    "pprint(first_random_rag_32b['Result'].values[0])"
   ]
  },
  {
   "cell_type": "code",
   "execution_count": 29,
   "id": "4d34e3e4",
   "metadata": {},
   "outputs": [
    {
     "name": "stdout",
     "output_type": "stream",
     "text": [
      "['CAPEC-529']\n"
     ]
    }
   ],
   "source": [
    "pprint(json.loads(first_random_rag_14b['Json'].values[0]))"
   ]
  },
  {
   "cell_type": "code",
   "execution_count": 24,
   "id": "5e36a240",
   "metadata": {},
   "outputs": [
    {
     "name": "stdout",
     "output_type": "stream",
     "text": [
      "('<think>\\n'\n",
      " 'Alright, I need to figure out which CAPEC entries are most relevant to the '\n",
      " 'given threat summary about O-RAN. The threat involves developers using '\n",
      " 'software components with known vulnerabilities and untrusted libraries that '\n",
      " 'can be exploited through backdoor attacks.\\n'\n",
      " '\\n'\n",
      " \"First, I'll read through each CAPEC description carefully to see how they \"\n",
      " 'relate to the threat.\\n'\n",
      " '\\n'\n",
      " '1. **CAPEC-538: Open-Source Library Manipulation** - This seems directly '\n",
      " 'relevant because it involves adversaries implanting malicious code in '\n",
      " 'open-source libraries, which is exactly what the threat describes about '\n",
      " 'developers using vulnerable or untrusted libraries.\\n'\n",
      " '\\n'\n",
      " '2. **CAPEC-691: Spoof Open-Source Software Metadata** - This is also '\n",
      " 'relevant as it deals with spoofing metadata to make malicious software '\n",
      " 'appear trustworthy, which ties into the supply chain risks mentioned in the '\n",
      " 'threat.\\n'\n",
      " '\\n'\n",
      " '3. **CAPEC-88: OS Command Injection** - While this involves injecting '\n",
      " \"commands, I'm not sure if it's directly related to using vulnerable \"\n",
      " 'libraries or backdoors. It might be more about input injection rather than '\n",
      " 'component vulnerabilities.\\n'\n",
      " '\\n'\n",
      " '4. **CAPEC-549: Local Execution of Code** - This is relevant because the '\n",
      " 'threat mentions attackers executing malware on systems through these '\n",
      " 'vulnerabilities, leading to code execution.\\n'\n",
      " '\\n'\n",
      " '5. **CAPEC-670: Software Development Tools Maliciously Altered** - This fits '\n",
      " 'as it involves altering development tools to introduce malicious code during '\n",
      " 'software creation, which aligns with developers using compromised '\n",
      " 'libraries.\\n'\n",
      " '\\n'\n",
      " '6. **CAPEC-669: Alteration of a Software Update** - This is relevant because '\n",
      " 'the threat discusses supply chain risks and vulnerabilities in updates, so '\n",
      " 'altering updates would fit here.\\n'\n",
      " '\\n'\n",
      " '7. **CAPEC-69: Target Programs with Elevated Privileges** - While this '\n",
      " \"targets programs with high privileges, it's more about exploiting existing \"\n",
      " 'vulnerabilities rather than using untrusted libraries specifically.\\n'\n",
      " '\\n'\n",
      " '8. **CAPEC-251: Local Code Inclusion** - This involves forcing an '\n",
      " 'application to load arbitrary code files, which could relate to including '\n",
      " \"malicious libraries but isn't as directly tied as others.\\n\"\n",
      " '\\n'\n",
      " \"9. **CAPEC-442: Infected Software** - This is relevant because it's about \"\n",
      " 'adding malicious logic to software, which aligns with using infected '\n",
      " 'components in the threat.\\n'\n",
      " '\\n'\n",
      " '10. **CAPEC-471: Search Order Hijacking** - This deals with loading rogue '\n",
      " 'libraries by exploiting search order weaknesses, which could be a method '\n",
      " 'used when developers include untrusted libraries.\\n'\n",
      " '\\n'\n",
      " '11. **CAPEC-558: Replace Trusted Executable** - This involves replacing '\n",
      " \"executables to execute malware, which is similar to the threat's backdoor \"\n",
      " 'attacks through components.\\n'\n",
      " '\\n'\n",
      " '12. **CAPEC-186: Malicious Software Update** - Directly relevant as it '\n",
      " 'involves deceptive updates, fitting the supply chain and vulnerability '\n",
      " 'context in the threat.\\n'\n",
      " '\\n'\n",
      " '13. **CAPEC-480: Escaping Virtualization** - This is about escaping virtual '\n",
      " 'environments, which might be a consequence but not directly related to using '\n",
      " 'vulnerable libraries.\\n'\n",
      " '\\n'\n",
      " '14. **CAPEC-17: Using Malicious Files** - Relevant because it involves '\n",
      " 'executing malicious files, which could result from using infected '\n",
      " 'components.\\n'\n",
      " '\\n'\n",
      " '15. **CAPEC-8: Buffer Overflow in an API Call** - This is more about '\n",
      " 'specific overflow attacks and not directly related to component '\n",
      " 'vulnerabilities.\\n'\n",
      " '\\n'\n",
      " '16. **CAPEC-673: Developer Signing Maliciously Altered Software** - Very '\n",
      " 'relevant as it involves developers unknowingly signing malicious code, which '\n",
      " \"ties into the threat's mention of untrusted libraries and supply chain \"\n",
      " 'issues.\\n'\n",
      " '\\n'\n",
      " '17. **CAPEC-310: Scanning for Vulnerable Software** - This is about scanning '\n",
      " \"to find vulnerabilities, which could be a method used by attackers but isn't \"\n",
      " 'directly tied to the component usage in the threat.\\n'\n",
      " '\\n'\n",
      " '18. **CAPEC-523: Malicious Software Implanted** - Relevant as it involves '\n",
      " 'implanting malicious software during supply chain distribution, fitting the '\n",
      " \"threat's context.\\n\"\n",
      " '\\n'\n",
      " '19. **CAPEC-45: Buffer Overflow via Symbolic Links** - More about specific '\n",
      " 'overflow techniques, not directly related to component vulnerabilities.\\n'\n",
      " '\\n'\n",
      " '20. **CAPEC-533: Malicious Manual Software Update** - Relevant as it '\n",
      " 'involves altering software updates manually, which fits the supply chain and '\n",
      " 'update risks in the threat.\\n'\n",
      " '\\n'\n",
      " '21. **CAPEC-537: Infiltration of Hardware Development Environment** - This '\n",
      " \"is about hardware development, which isn't directly related to the software \"\n",
      " 'component vulnerabilities discussed.\\n'\n",
      " '\\n'\n",
      " '22. **CAPEC-642: Replace Binaries** - Relevant because replacing binaries '\n",
      " 'with malware fits the idea of using compromised components or libraries.\\n'\n",
      " '\\n'\n",
      " '23. **CAPEC-159: Redirect Access to Libraries** - This involves redirecting '\n",
      " 'library access, which could be a method used when developers include '\n",
      " 'untrusted libraries, making it relevant.\\n'\n",
      " '\\n'\n",
      " \"After evaluating each CAPEC, I'll select those most directly related to the \"\n",
      " 'threat:\\n'\n",
      " '\\n'\n",
      " '- **CAPEC-538**: Directly about manipulating open-source libraries.\\n'\n",
      " '- **CAPEC-691**: Spoofing metadata for malicious software.\\n'\n",
      " '- **CAPEC-549**: Execution of malware through vulnerabilities.\\n'\n",
      " '- **CAPEC-670**: Altering development tools to introduce malicious code.\\n'\n",
      " '- **CAPEC-669**: Altering software updates to include malware.\\n'\n",
      " '- **CAPEC-442**: Infected software with malicious logic.\\n'\n",
      " '- **CAPEC-558**: Replacing trusted executables.\\n'\n",
      " '- **CAPEC-186**: Malicious software updates.\\n'\n",
      " '- **CAPEC-673**: Developers signing altered software.\\n'\n",
      " '- **CAPEC-523**: Implanting malware in the supply chain.\\n'\n",
      " '- **CAPEC-533**: Manual alteration of software updates.\\n'\n",
      " '- **CAPEC-642**: Replacing binaries with malware.\\n'\n",
      " '\\n'\n",
      " 'These CAPEPs cover the aspects of using vulnerable libraries, supply chain '\n",
      " 'risks, and backdoor attacks mentioned in the threat summary.\\n'\n",
      " '</think>\\n'\n",
      " '\\n'\n",
      " '```json\\n'\n",
      " '[\\n'\n",
      " '    \"CAPEC-538\",\\n'\n",
      " '    \"CAPEC-691\",\\n'\n",
      " '    \"CAPEC-549\",\\n'\n",
      " '    \"CAPEC-670\",\\n'\n",
      " '    \"CAPEC-669\",\\n'\n",
      " '    \"CAPEC-442\",\\n'\n",
      " '    \"CAPEC-558\",\\n'\n",
      " '    \"CAPEC-186\",\\n'\n",
      " '    \"CAPEC-673\",\\n'\n",
      " '    \"CAPEC-523\",\\n'\n",
      " '    \"CAPEC-533\",\\n'\n",
      " '    \"CAPEC-642\"\\n'\n",
      " ']\\n'\n",
      " '```')\n"
     ]
    }
   ],
   "source": [
    "pprint(second_random_rag_32b['Result'].values[0])"
   ]
  },
  {
   "cell_type": "code",
   "execution_count": 28,
   "id": "2a439223",
   "metadata": {},
   "outputs": [
    {
     "name": "stdout",
     "output_type": "stream",
     "text": [
      "['CAPEC-538',\n",
      " 'CAPEC-691',\n",
      " 'CAPEC-549',\n",
      " 'CAPEC-670',\n",
      " 'CAPEC-669',\n",
      " 'CAPEC-442',\n",
      " 'CAPEC-558',\n",
      " 'CAPEC-186',\n",
      " 'CAPEC-673',\n",
      " 'CAPEC-523',\n",
      " 'CAPEC-533',\n",
      " 'CAPEC-642']\n"
     ]
    }
   ],
   "source": [
    "pprint(json.loads(second_random_rag_32b['Json'].values[0]))"
   ]
  },
  {
   "cell_type": "code",
   "execution_count": 45,
   "id": "61c858bb",
   "metadata": {},
   "outputs": [
    {
     "name": "stdout",
     "output_type": "stream",
     "text": [
      "The row with the maximum string length is:\n",
      "Threat ID                                                                                                                                                                                                                                                                                                                                                                                                                                                                                                                                                                                                                                                                                                                                                                                                                                                                                                                                                                                                                                                                                                                                                                                                                                                                                                                                                                                                                                                                                                                                                                                                                                                                                                                                                                                                                                                                                                                                                                                                                                                                                                                                                                                                                                                                                                                                                                                                                                                                                                                                                                                                                                                                                                                                                                                                                                                                                                        T-ORU-01\n",
      "summary_th_df    A Threat with the title An attacker stands up a false base station attack by attacking an O-RU and the description A false base station attack occurs when an attacker masquerades as a legitimate mobile network to facilitate a Man-in-The-Middle (MiTM) attack between a subscriber’s user equipment (UE) and the mobile network. \\nThere are three attack scenarios on an O-RU that enable an attacker to realize a false base station attack: \\n1. Hijack fronthaul to realize a false base station attack: Attacker disables an operational O-RU’s access to the open fronthaul, plugs a false base station system into the operational O-RU’s fronthaul interface, and launches a false base station attack with the O-RU providing the air interface.\\n2. Recruit a standalone O-RU to realize a false base station attack: The stand-alone O-RU is an O-RU that is not operational but is available to an attacker to incorporate into a false base station system. The attacker plugs a false base station system into the standalone O-RU’s fronthaul interface and launches a false base station attack with the O-RU providing the air interface.\\n3. Gain unauthorized physical access to O-RU to realize a false base station attack: An attacker gains access to external and internal components of an O-RU (other than the open fronthaul interface), connects the O-RU under attack to a false base station system, and launches a false base station attack with the O-RU providing the air interface.\\nSuccessful attacks may cause:\\na) For a subscriber’s UE in attack scenarios 1, 2, and 3: the false base stations, also known as SUPI/5G-GUTI catchers, retrieves a subscriber identity by forcing a UE to attach to the false base station systems. This opens the door to subscriber identity interception/disclosure and unauthorized subscriber tracking attacks. These attacks include stealing subscriber information, tampering with transmitted information, tracking subscribers, and compromising subscriber privacy.\\nb) For the operator network: in attack scenario 1, the attacker removes the operational O-RU from providing service to UEs in the coverage area served by the operational O-RU.\\nc) For operators and vendors in attack scenarios 1, 2, and 3, the attacker recruits legitimate operator/vendor equipment for the purpose of creating a false base station attack on subscribers, possibly harming the reputation of the operator and vendor whose O-RU was used in the attack.\\nNOTE: The false base station threat has existed since GSM networks and continued to evolve and persist with the evolution of mobile networks. 5G networks are expected to introduce several security enhancements over 4G and legacy networks. Despite these security enhancements, 5G networks could still be a target of false base station attacks [19].\n",
      "embedding                                                                                                                                                                                                                                                                                                                                                                                                                                                                                                                                                                                                                                                                                                                                                                                                                                                                                                                                                                                                                                                                                                                                                                                                                                                                                                                                                                                                                                                                                                                                        [-0.03495395, 0.035178028, -0.1055134, 0.010274407, 0.08200047, -0.019577578, 0.0075315195, 0.018251006, -0.032885563, 0.020352183, 0.07969532, -0.0151793435, 0.043177128, 0.00089191314, 0.07879166, 0.030495765, 0.019309783, 0.0058695795, 0.047091175, 0.022085859, -0.014857345, -0.06202555, 0.0039620334, -0.00014607058, 0.05151337, -0.10628875, 0.011307831, 0.025112031, 0.024592487, -0.020556321, 0.030067666, 0.046208147, -0.0040335446, 0.083263196, -0.04484506, -0.06627163, 0.07859292, 0.0044600093, -0.007475696, 0.01670452, 0.09404955, 0.0065918807, 0.04587974, 0.009176627, -0.032032236, -0.013557733, 0.017349208, 0.01402727, -0.060922213, -0.12536305, 0.06155578, -0.041403048, 0.011807808, 0.06615288, 0.039328348, -0.09199647, -0.012560112, 0.0813064, 0.008374526, 0.038339343, 0.02620471, 0.030698868, -0.012845542, -0.03284595, 0.017397922, -0.05241009, -0.016251963, 0.00430203, 0.029321222, 0.0697277, -0.011027186, -0.044097956, -0.10395023, -0.018087346, 0.01645306, 0.06012708, -0.14226824, 0.020983089, 0.040946644, 0.09410166, 0.037580088, -0.027501397, 0.051011812, 0.022191172, -0.018213628, 0.025539376, -0.0068234014, -0.0066775046, -0.01734527, -0.0016644753, -0.040558197, -0.031372383, 0.112180695, 0.004747508, 0.07653295, 0.06086299, -0.10650164, -0.06297418, -0.06756565, 0.13340971, ...]\n",
      "Name: 20, dtype: object\n"
     ]
    }
   ],
   "source": [
    "# Assuming the DataFrame is named threat_data_for_RAG\n",
    "max_length_row = threat_data_for_RAG.loc[threat_data_for_RAG['summary_th_df'].str.len().idxmax()]\n",
    "\n",
    "print(\"The row with the maximum string length is:\")\n",
    "print(max_length_row)"
   ]
  },
  {
   "cell_type": "markdown",
   "id": "77325d5e",
   "metadata": {},
   "source": [
    "### Jaccard"
   ]
  },
  {
   "cell_type": "code",
   "execution_count": 34,
   "id": "39aee038",
   "metadata": {},
   "outputs": [
    {
     "data": {
      "text/plain": [
       "Index(['Name', 'Domain', 'Description', 'CAPEC ID', 'Similarity',\n",
       "       'summary_th_df', 'summary_ca_df'],\n",
       "      dtype='object')"
      ]
     },
     "execution_count": 34,
     "metadata": {},
     "output_type": "execute_result"
    }
   ],
   "source": [
    "our_mappings.columns"
   ]
  },
  {
   "cell_type": "code",
   "execution_count": 36,
   "id": "22353956",
   "metadata": {},
   "outputs": [],
   "source": [
    "\n",
    "our_mappings_grouped = our_mappings.groupby('Name')['CAPEC ID'].apply(list).reset_index()\n"
   ]
  },
  {
   "cell_type": "code",
   "execution_count": 63,
   "id": "86c49ff6",
   "metadata": {},
   "outputs": [],
   "source": [
    "rag_32b = jsonl_data[(jsonl_data['Optimization'] == 'RAG') & \n",
    "                      (jsonl_data['Model'] == 'deepseek-r1:32b')].copy()"
   ]
  },
  {
   "cell_type": "code",
   "execution_count": 65,
   "id": "6218d58e",
   "metadata": {},
   "outputs": [],
   "source": [
    "rag_32b['CAPEC_IDs'] = rag_32b['Json'].apply(lambda x: json.loads(x))\n"
   ]
  },
  {
   "cell_type": "code",
   "execution_count": 67,
   "id": "16579bbd",
   "metadata": {},
   "outputs": [],
   "source": [
    "# Vergleich und Berechnung des Jaccard-Koeffizienten\n",
    "def jaccard(list1, list2):\n",
    "    s1, s2 = set(list1), set(list2)\n",
    "    return len(s1 & s2) / len(s1 | s2) if s1 | s2 else 0.0"
   ]
  },
  {
   "cell_type": "code",
   "execution_count": 80,
   "id": "eae55f27",
   "metadata": {},
   "outputs": [
    {
     "data": {
      "text/plain": [
       "['CAPEC-401',\n",
       " 'CAPEC-440',\n",
       " 'CAPEC-531',\n",
       " 'CAPEC-534',\n",
       " 'CAPEC-121',\n",
       " 'CAPEC-113',\n",
       " 'CAPEC-88',\n",
       " 'CAPEC-537',\n",
       " 'CAPEC-681',\n",
       " 'CAPEC-682',\n",
       " 'CAPEC-522',\n",
       " 'CAPEC-212',\n",
       " 'CAPEC-180',\n",
       " 'CAPEC-452',\n",
       " 'CAPEC-679']"
      ]
     },
     "execution_count": 80,
     "metadata": {},
     "output_type": "execute_result"
    }
   ],
   "source": [
    "rag_32b.iloc[0]['CAPEC_IDs']"
   ]
  },
  {
   "cell_type": "code",
   "execution_count": 81,
   "id": "25e28939",
   "metadata": {},
   "outputs": [
    {
     "data": {
      "text/plain": [
       "['CAPEC-94', 'CAPEC-387', 'CAPEC-388', 'CAPEC-12']"
      ]
     },
     "execution_count": 81,
     "metadata": {},
     "output_type": "execute_result"
    }
   ],
   "source": [
    "our_mappings_grouped.iloc[0]['CAPEC ID']"
   ]
  },
  {
   "cell_type": "code",
   "execution_count": 110,
   "id": "8e616a48",
   "metadata": {},
   "outputs": [],
   "source": [
    "results = []\n",
    "for _, row in our_mappings_grouped.iterrows():\n",
    "    match = rag_32b[rag_32b['Threat_ID'] == row['Name']]\n",
    "    if not match.empty:\n",
    "        threat_capec_list = match['CAPEC_IDs'].values[0]       # one list\n",
    "        mapping_capec_list = row['CAPEC ID']                   # one list\n",
    "        \n",
    "        A, B = set(mapping_capec_list), set(threat_capec_list) # sets of strings\n",
    "        jc = len(A & B) / len(A | B) if (A or B) else 1.0\n",
    "\n",
    "        results.append({\n",
    "            'Name': row['Name'],\n",
    "            'ORCA_CAPECs': mapping_capec_list,\n",
    "            'LLM_CAPECs': threat_capec_list,\n",
    "            'Jaccard': round(jc, 2)\n",
    "        })\n",
    "\n",
    "jaccard_df = pd.DataFrame(results)\n"
   ]
  },
  {
   "cell_type": "code",
   "execution_count": 111,
   "id": "b097d10a",
   "metadata": {},
   "outputs": [
    {
     "name": "stdout",
     "output_type": "stream",
     "text": [
      "Average Jaccard Similarity: 0.31\n"
     ]
    }
   ],
   "source": [
    "average_jaccard = jaccard_df['Jaccard'].mean()\n",
    "print(f\"Average Jaccard Similarity: {round(average_jaccard, 2)}\")"
   ]
  },
  {
   "cell_type": "code",
   "execution_count": 112,
   "id": "dde5717f",
   "metadata": {},
   "outputs": [
    {
     "name": "stdout",
     "output_type": "stream",
     "text": [
      "Median Jaccard Similarity: 0.2\n"
     ]
    }
   ],
   "source": [
    "median_jaccard = jaccard_df['Jaccard'].median()\n",
    "print(f\"Median Jaccard Similarity: {median_jaccard}\")"
   ]
  },
  {
   "cell_type": "code",
   "execution_count": 113,
   "id": "306e208d",
   "metadata": {},
   "outputs": [
    {
     "name": "stdout",
     "output_type": "stream",
     "text": [
      "              Name                      ORCA_CAPECs  \\\n",
      "27        T-SMO-15            [CAPEC-93, CAPEC-268]   \n",
      "40  T-SharedORU-35                      [CAPEC-697]   \n",
      "26        T-SMO-14            [CAPEC-93, CAPEC-268]   \n",
      "29        T-SMO-17  [CAPEC-81, CAPEC-93, CAPEC-268]   \n",
      "30        T-SMO-18            [CAPEC-93, CAPEC-268]   \n",
      "\n",
      "                         LLM_CAPECs  Jaccard  \n",
      "27            [CAPEC-268, CAPEC-93]     1.00  \n",
      "40                      [CAPEC-697]     1.00  \n",
      "26            [CAPEC-268, CAPEC-93]     1.00  \n",
      "29  [CAPEC-268, CAPEC-93, CAPEC-81]     1.00  \n",
      "30  [CAPEC-268, CAPEC-93, CAPEC-81]     0.67  \n"
     ]
    }
   ],
   "source": [
    "top_k = jaccard_df.sort_values(by='Jaccard', ascending=False).head(5)\n",
    "pprint(top_k)\n"
   ]
  },
  {
   "cell_type": "code",
   "execution_count": 114,
   "id": "2d05efa2",
   "metadata": {},
   "outputs": [
    {
     "name": "stdout",
     "output_type": "stream",
     "text": [
      "              Name            ORCA_CAPECs  \\\n",
      "10    T-NEAR-RT-04            [CAPEC-388]   \n",
      "9         T-IMG-01            [CAPEC-480]   \n",
      "28        T-SMO-16  [CAPEC-93, CAPEC-268]   \n",
      "19         T-R1-03            [CAPEC-114]   \n",
      "39  T-SharedORU-29             [CAPEC-12]   \n",
      "45       T-rAPP-03            [CAPEC-482]   \n",
      "33     T-SPLANE-05            [CAPEC-621]   \n",
      "11   T-NONRTRIC-01            [CAPEC-180]   \n",
      "44       T-rAPP-02            [CAPEC-482]   \n",
      "16    T-OPENSRC-01            [CAPEC-538]   \n",
      "\n",
      "                                                                                                                                       LLM_CAPECs  \\\n",
      "10                                                                  [CAPEC-384, CAPEC-115, CAPEC-113, CAPEC-202, CAPEC-180, CAPEC-593, CAPEC-385]   \n",
      "9                                  [CAPEC-441, CAPEC-456, CAPEC-446, CAPEC-447, CAPEC-511, CAPEC-443, CAPEC-444, CAPEC-586, CAPEC-672, CAPEC-439]   \n",
      "28                                                                                                    [CAPEC-594, CAPEC-94, CAPEC-161, CAPEC-662]   \n",
      "19                                                                                                              [CAPEC-115, CAPEC-600, CAPEC-560]   \n",
      "39                                                                                          [CAPEC-216, CAPEC-272, CAPEC-94, CAPEC-22, CAPEC-161]   \n",
      "45                                                                             [CAPEC-180, CAPEC-272, CAPEC-594, CAPEC-113, CAPEC-310, CAPEC-216]   \n",
      "33                                                                             [CAPEC-272, CAPEC-161, CAPEC-594, CAPEC-216, CAPEC-276, CAPEC-220]   \n",
      "11  [CAPEC-180, CAPEC-594, CAPEC-272, CAPEC-161, CAPEC-131, CAPEC-482, CAPEC-125, CAPEC-582, CAPEC-490, CAPEC-590, CAPEC-47, CAPEC-456, CAPEC-94]   \n",
      "44            [CAPEC-310, CAPEC-180, CAPEC-482, CAPEC-594, CAPEC-486, CAPEC-272, CAPEC-161, CAPEC-387, CAPEC-456, CAPEC-94, CAPEC-542, CAPEC-125]   \n",
      "16           [CAPEC-538, CAPEC-691, CAPEC-549, CAPEC-670, CAPEC-669, CAPEC-442, CAPEC-558, CAPEC-186, CAPEC-673, CAPEC-523, CAPEC-533, CAPEC-642]   \n",
      "\n",
      "    Jaccard  \n",
      "10     0.00  \n",
      "9      0.00  \n",
      "28     0.00  \n",
      "19     0.00  \n",
      "39     0.00  \n",
      "45     0.00  \n",
      "33     0.00  \n",
      "11     0.08  \n",
      "44     0.08  \n",
      "16     0.08  \n"
     ]
    }
   ],
   "source": [
    "bottom_k = jaccard_df.sort_values(by='Jaccard', ascending=True).head(10)\n",
    "pprint(bottom_k)"
   ]
  },
  {
   "cell_type": "markdown",
   "id": "f5569560",
   "metadata": {},
   "source": [
    "### Testing Ollama"
   ]
  },
  {
   "cell_type": "code",
   "execution_count": 60,
   "id": "b9cabbda",
   "metadata": {},
   "outputs": [],
   "source": [
    "def ask_ollama(prompt: str, model: str = \"deepseek-r1:8b\") -> str:\n",
    "    \"\"\"\n",
    "    Sends a prompt to the Ollama generate endpoint and returns the model's response.\n",
    "    \n",
    "    Args:\n",
    "        prompt (str): The text prompt to send to the model.\n",
    "        model (str): The model to use\n",
    "        \n",
    "    Returns:\n",
    "        str: The generated text from the model.\n",
    "    \"\"\"\n",
    "    response = ollama.generate(\n",
    "        model=model,\n",
    "        prompt=prompt,\n",
    "        options={\n",
    "            \"seed\": 42,\n",
    "            \"temperature\": 0,\n",
    "            \"num_ctx\": 8192,\n",
    "            'num_predict': 3000\n",
    "        }\n",
    "    )\n",
    "    return response"
   ]
  },
  {
   "cell_type": "code",
   "execution_count": 61,
   "id": "90791d22",
   "metadata": {},
   "outputs": [],
   "source": [
    "prompt = \"\"\"This task involves mapping a threat summary from the\n",
    "Open Radio Access Network (O-RAN) domain to relevant attack patterns.\n",
    "O-RAN represents a paradigm shift in Radio Access Network (RAN)\n",
    "design, moving from proprietary hardware to a more open,\n",
    "virtualized, and software-driven approach. It is used for\n",
    "mobile communication networks, particularly for 5G and future\n",
    "generations. Key principles of O-RAN include:\n",
    "- Open System: Characterized by standardized, open\n",
    "interfaces to foster a multi-vendor ecosystem.\n",
    "- Disaggregated RAN: Functionalities are distributed\n",
    "across different physical or virtual network functions.\n",
    "- Software-Driven Approach: Components are deployed on\n",
    "white-box appliances and accelerators.\n",
    "- Closed-Loop Control: Enabled by data-driven components\n",
    "deployed on RAN Intelligent Controllers (RICs).\n",
    "Now, based on the context above, analyze the following\n",
    "threat summary:\n",
    "A Threat with the title An attacker stands up a false base station attack by attacking an O-RU and the description A false base station attack occurs when an attacker masquerades as a legitimate mobile network to facilitate a Man-in-The-Middle (MiTM) attack between a subscriber’s user equipment (UE) and the mobile network. \n",
    "There are three attack scenarios on an O-RU that enable an attacker to realize a false base station attack: \n",
    "1. Hijack fronthaul to realize a false base station attack: Attacker disables an operational O-RU’s access to the open fronthaul, plugs a false base station system into the operational O-RU’s fronthaul interface, and launches a false base station attack with the O-RU providing the air interface.\n",
    "2. Recruit a standalone O-RU to realize a false base station attack: The stand-alone O-RU is an O-RU that is not operational but is available to an attacker to incorporate into a false base station system. The attacker plugs a false base station system into the standalone O-RU’s fronthaul interface and launches a false base station attack with the O-RU providing the air interface.\n",
    "3. Gain unauthorized physical access to O-RU to realize a false base station attack: An attacker gains access to external and internal components of an O-RU (other than the open fronthaul interface), connects the O-RU under attack to a false base station system, and launches a false base station attack with the O-RU providing the air interface.\n",
    "Successful attacks may cause:\n",
    "a) For a subscriber’s UE in attack scenarios 1, 2, and 3: the false base stations, also known as SUPI/5G-GUTI catchers, retrieves a subscriber identity by forcing a UE to attach to the false base station systems. This opens the door to subscriber identity interception/disclosure and unauthorized subscriber tracking attacks. These attacks include stealing subscriber information, tampering with transmitted information, tracking subscribers, and compromising subscriber privacy.\n",
    "b) For the operator network: in attack scenario 1, the attacker removes the operational O-RU from providing service to UEs in the coverage area served by the operational O-RU.\n",
    "c) For operators and vendors in attack scenarios 1, 2, and 3, the attacker recruits legitimate operator/vendor equipment for the purpose of creating a false base station attack on subscribers, possibly harming the reputation of the operator and vendor whose O-RU was used in the attack.\n",
    "NOTE: The false base station threat has existed since GSM networks and continued to evolve and persist with the evolution of mobile networks. 5G networks are expected to introduce several security enhancements over 4G and legacy networks. Despite these security enhancements, 5G networks could still be a target of false base station attacks [19].\n",
    "Additionally, consider all the following candidate\n",
    "CAPEC (CAPEC stands for Common Attack Pattern Enumeration and Classification) entries that were retrieved from a vector database as the 23\n",
    "most similar attack patterns to the given threat summary:\n",
    "CAPEC Information for CAPEC ID CAPEC-617: A CAPEC with the title Cellular Rogue Base Station. The description of this CAPEC is: In this attack scenario, the attacker imitates a cellular base station with their own \"rogue\" base station equipment. Since cellular devices connect to whatever station has the strongest signal, the attacker can easily convince a targeted cellular device (e.g. the retransmission device) to talk to the rogue base station.. The Domains of this are: Communications, Hardware\n",
    "----------------------------------------\n",
    "CAPEC Information for CAPEC ID CAPEC-605: A CAPEC with the title Cellular Jamming. The description of this CAPEC is: In this attack scenario, the attacker actively transmits signals to overpower and disrupt the communication between a cellular user device and a cell tower. Several existing techniques are known in the open literature for this attack for 2G, 3G, and 4G LTE cellular technology. For example, some attacks target cell towers by overwhelming them with false status messages, while others introduce high levels of noise on signaling channels.. The Domain of this is: Communications\n",
    "----------------------------------------\n",
    "CAPEC Information for CAPEC ID CAPEC-466: A CAPEC with the title Leveraging Active Adversary in the Middle Attacks to Bypass Same Origin Policy. The description of this CAPEC is: An attacker leverages an adversary in the middle attack (CAPEC-94) in order to bypass the same origin policy protection in the victim's browser. This active adversary in the middle attack could be launched, for instance, when the victim is connected to a public WIFI hot spot. An attacker is able to intercept requests and responses between the victim's browser and some non-sensitive website that does not use TLS.. The Domains of this are: Communications, Software\n",
    "----------------------------------------\n",
    "CAPEC Information for CAPEC ID CAPEC-604: A CAPEC with the title Wi-Fi Jamming. The description of this CAPEC is: In this attack scenario, the attacker actively transmits on the Wi-Fi channel to prevent users from transmitting or receiving data from the targeted Wi-Fi network. There are several known techniques to perform this attack – for example: the attacker may flood the Wi-Fi access point (e.g. the retransmission device) with deauthentication frames. Another method is to transmit high levels of noise on the RF band used by the Wi-Fi network.. The Domain of this is: Communications\n",
    "----------------------------------------\n",
    "CAPEC Information for CAPEC ID CAPEC-697: A CAPEC with the title DHCP Spoofing. The description of this CAPEC is: \n",
    "            <xhtml:p>An adversary masquerades as a legitimate Dynamic Host Configuration Protocol (DHCP) server by spoofing DHCP traffic, with the goal of redirecting network traffic or denying service to DHCP.</xhtml:p>\n",
    "         . The Domains of this are: Social Engineering, Software, Hardware\n",
    "----------------------------------------\n",
    "CAPEC Information for CAPEC ID CAPEC-615: A CAPEC with the title Evil Twin Wi-Fi Attack. The description of this CAPEC is: Adversaries install Wi-Fi equipment that acts as a legitimate Wi-Fi network access point. When a device connects to this access point, Wi-Fi data traffic is intercepted, captured, and analyzed. This also allows the adversary to use \"adversary-in-the-middle\" (CAPEC-94) for all communications.. The Domains of this are: Communications, Software, Hardware\n",
    "----------------------------------------\n",
    "CAPEC Information for CAPEC ID CAPEC-272: A CAPEC with the title Protocol Manipulation. The description of this CAPEC is: An adversary subverts a communications protocol to perform an attack. This type of attack can allow an adversary to impersonate others, discover sensitive information, control the outcome of a session, or perform other attacks. This type of attack targets invalid assumptions that may be inherent in implementers of the protocol, incorrect implementations of the protocol, or vulnerabilities in the protocol itself.. The Domains of this are: Communications, Software\n",
    "----------------------------------------\n",
    "CAPEC Information for CAPEC ID CAPEC-618: A CAPEC with the title Cellular Broadcast Message Request. The description of this CAPEC is: In this attack scenario, the attacker uses knowledge of the target’s mobile phone number (i.e., the number associated with the SIM used in the retransmission device) to cause the cellular network to send broadcast messages to alert the mobile device. Since the network knows which cell tower the target’s mobile device is attached to, the broadcast messages are only sent in the Location Area Code (LAC) where the target is currently located. By triggering the cellular broadcast message and then listening for the presence or absence of that message, an attacker could verify that the target is in (or not in) a given location.. The Domains of this are: Communications, Software\n",
    "----------------------------------------\n",
    "CAPEC Information for CAPEC ID CAPEC-90: A CAPEC with the title Reflection Attack in Authentication Protocol. The description of this CAPEC is: An adversary can abuse an authentication protocol susceptible to reflection attack in order to defeat it. Doing so allows the adversary illegitimate access to the target system, without possessing the requisite credentials. Reflection attacks are of great concern to authentication protocols that rely on a challenge-handshake or similar mechanism. An adversary can impersonate a legitimate user and can gain illegitimate access to the system by successfully mounting a reflection attack during authentication.. The Domain of this is: Communications\n",
    "----------------------------------------\n",
    "CAPEC Information for CAPEC ID CAPEC-622: A CAPEC with the title Electromagnetic Side-Channel Attack. The description of this CAPEC is: In this attack scenario, the attacker passively monitors electromagnetic emanations that are produced by the targeted electronic device as an unintentional side-effect of its processing. From these emanations, the attacker derives information about the data that is being processed (e.g. the attacker can recover cryptographic keys by monitoring emanations associated with cryptographic processing). This style of attack requires proximal access to the device, however attacks have been demonstrated at public conferences that work at distances of up to 10-15 feet. There have not been any significant studies to determine the maximum practical distance for such attacks. Since the attack is passive, it is nearly impossible to detect and the targeted device will continue to operate as normal after a successful attack.. The Domains of this are: Software, Physical Security, Hardware\n",
    "----------------------------------------\n",
    "CAPEC Information for CAPEC ID CAPEC-601: A CAPEC with the title Jamming. The description of this CAPEC is: An adversary uses radio noise or signals in an attempt to disrupt communications. By intentionally overwhelming system resources with illegitimate traffic, service is denied to the legitimate traffic of authorized users.. The Domain of this is: Communications\n",
    "----------------------------------------\n",
    "CAPEC Information for CAPEC ID CAPEC-594: A CAPEC with the title Traffic Injection. The description of this CAPEC is: An adversary injects traffic into the target's network connection. The adversary is therefore able to degrade or disrupt the connection, and potentially modify the content. This is not a flooding attack, as the adversary is not focusing on exhausting resources. Instead, the adversary is crafting a specific input to affect the system in a particular way.. The Domains of this are: Communications, Software\n",
    "----------------------------------------\n",
    "CAPEC Information for CAPEC ID CAPEC-582: A CAPEC with the title Route Disabling. The description of this CAPEC is: An adversary disables the network route between two targets. The goal is to completely sever the communications channel between two entities. This is often the result of a major error or the use of an \"Internet kill switch\" by those in control of critical infrastructure. This attack pattern differs from most other obstruction patterns by targeting the route itself, as opposed to the data passed over the route.. The Domains of this are: Social Engineering, Communications, Software, Hardware\n",
    "----------------------------------------\n",
    "CAPEC Information for CAPEC ID CAPEC-114: A CAPEC with the title Authentication Abuse. The description of this CAPEC is: An attacker obtains unauthorized access to an application, service or device either through knowledge of the inherent weaknesses of an authentication mechanism, or by exploiting a flaw in the authentication scheme's implementation. In such an attack an authentication mechanism is functioning but a carefully controlled sequence of events causes the mechanism to grant access to the attacker.. The Domains of this are: Software, Hardware\n",
    "----------------------------------------\n",
    "CAPEC Information for CAPEC ID CAPEC-559: A CAPEC with the title Orbital Jamming. The description of this CAPEC is: In this attack pattern, the adversary sends disruptive signals at a target satellite using a rogue uplink station to disrupt the intended transmission. Those within the satellite's footprint are prevented from reaching the satellite's targeted or neighboring channels. The satellite's footprint size depends upon its position in the sky; higher orbital satellites cover multiple continents.. The Domain of this is: Communications\n",
    "----------------------------------------\n",
    "CAPEC Information for CAPEC ID CAPEC-161: A CAPEC with the title Infrastructure Manipulation. The description of this CAPEC is: An attacker exploits characteristics of the infrastructure of a network entity in order to perpetrate attacks or information gathering on network objects or effect a change in the ordinary information flow between network objects. Most often, this involves manipulation of the routing of network messages so, instead of arriving at their proper destination, they are directed towards an entity of the attackers' choosing, usually a server controlled by the attacker. The victim is often unaware that their messages are not being processed correctly. For example, a targeted client may believe they are connecting to their own bank but, in fact, be connecting to a Pharming site controlled by the attacker which then collects the user's login information in order to hijack the actual bank account.. The Domains of this are: Communications, Software, Hardware\n",
    "----------------------------------------\n",
    "CAPEC Information for CAPEC ID CAPEC-628: A CAPEC with the title Carry-Off GPS Attack. The description of this CAPEC is: A common form of a GPS spoofing attack, commonly termed a carry-off attack begins with an adversary broadcasting signals synchronized with the genuine signals observed by the target receiver. The power of the counterfeit signals is then gradually increased and drawn away from the genuine signals. Over time, the adversary can carry the target away from their intended destination and toward a location chosen by the adversary.. The Domain of this is: Communications\n",
    "----------------------------------------\n",
    "CAPEC Information for CAPEC ID CAPEC-154: A CAPEC with the title Resource Location Spoofing. The description of this CAPEC is: An adversary deceives an application or user and convinces them to request a resource from an unintended location. By spoofing the location, the adversary can cause an alternate resource to be used, often one that the adversary controls and can be used to help them achieve their malicious goals.. The Domains of this are: Social Engineering, Supply Chain, Communications, Software, Hardware\n",
    "----------------------------------------\n",
    "CAPEC Information for CAPEC ID CAPEC-593: A CAPEC with the title Session Hijacking. The description of this CAPEC is: This type of attack involves an adversary that exploits weaknesses in an application's use of sessions in performing authentication. The adversary is able to steal or manipulate an active session and use it to gain unathorized access to the application.. The Domain of this is: Software\n",
    "----------------------------------------\n",
    "CAPEC Information for CAPEC ID CAPEC-157: A CAPEC with the title Sniffing Attacks. The description of this CAPEC is: In this attack pattern, the adversary intercepts information transmitted between two third parties. The adversary must be able to observe, read, and/or hear the communication traffic, but not necessarily block the communication or change its content. Any transmission medium can theoretically be sniffed if the adversary can examine the contents between the sender and recipient. Sniffing Attacks are similar to Adversary-In-The-Middle attacks (CAPEC-94), but are entirely passive. AiTM attacks are predominantly active and often alter the content of the communications themselves.. The Domains of this are: Communications, Software\n",
    "----------------------------------------\n",
    "CAPEC Information for CAPEC ID CAPEC-173: A CAPEC with the title Action Spoofing. The description of this CAPEC is: An adversary is able to disguise one action for another and therefore trick a user into initiating one type of action when they intend to initiate a different action. For example, a user might be led to believe that clicking a button will submit a query, but in fact it downloads software. Adversaries may perform this attack through social means, such as by simply convincing a victim to perform the action or relying on a user's natural inclination to do so, or through technical means, such as a clickjacking attack where a user sees one interface but is actually interacting with a second, invisible, interface.. The Domains of this are: Social Engineering, Software\n",
    "----------------------------------------\n",
    "CAPEC Information for CAPEC ID CAPEC-606: A CAPEC with the title Weakening of Cellular Encryption. The description of this CAPEC is: An attacker, with control of a Cellular Rogue Base Station or through cooperation with a Malicious Mobile Network Operator can force the mobile device (e.g., the retransmission device) to use no encryption (A5/0 mode) or to use easily breakable encryption (A5/1 or A5/2 mode).. The Domain of this is: Software\n",
    "----------------------------------------\n",
    "CAPEC Information for CAPEC ID CAPEC-487: A CAPEC with the title ICMP Flood. The description of this CAPEC is: An adversary may execute a flooding attack using the ICMP protocol with the intent to deny legitimate users access to a service by consuming the available network bandwidth. A typical attack involves a victim server receiving ICMP packets at a high rate from a wide range of source addresses. Additionally, due to the session-less nature of the ICMP protocol, the source of a packet is easily spoofed making it difficult to find the source of the attack.. The Domains of this are: Communications, Software\n",
    "----------------------------------------\n",
    "\n",
    "From this list, identify which CAPEC IDs are most relevant\n",
    "to the described threat.\n",
    "As an output, provide only a JSON array containing the\n",
    "selected CAPEC IDs.\n",
    "Do not include any explanations or additional text,\n",
    "only the JSON array.\"\"\""
   ]
  },
  {
   "cell_type": "code",
   "execution_count": 64,
   "id": "fc75959a",
   "metadata": {},
   "outputs": [
    {
     "name": "stdout",
     "output_type": "stream",
     "text": [
      "GenerateResponse(model='deepseek-r1:8b', created_at='2025-08-27T11:59:21.688905872Z', done=True, done_reason='stop', total_duration=32783094453, load_duration=173203590, prompt_eval_count=3769, prompt_eval_duration=48659676, eval_count=2470, eval_duration=32559596345, response='<think>\\nOkay, let\\'s tackle this problem step by step. The user provided a detailed threat summary about false base station attacks in O-RAN networks and listed 23 candidate CAPEC entries. They want me to identify which of these are most relevant.\\n\\nFirst, I need to understand what exactly the false base station attack entails. From the description, it\\'s clear that an attacker impersonates a legitimate base station (O-RU) to intercept communications between UEs and the mobile network. The threat summary mentions three scenarios: hijacking fronthaul, using a standalone O-RU, or physical access.\\n\\nLooking at the CAPEC list, I should focus on attacks related to cellular base stations, protocol manipulation, interception of traffic, and possibly infrastructure manipulation since O-RAN involves disaggregation. Let me go through each candidate:\\n\\nCAPEC-617 (Cellular Rogue Base Station) seems directly relevant because it\\'s about an attacker imitating a legitimate base station.\\n\\nCAPEC-594 (Traffic Injection) might be related as the false base station could inject malicious traffic, but I\\'m not sure if that\\'s explicitly mentioned here. The threat is more about interception than injection though.\\n\\nCAPEC-601 (Jamming) involves disrupting communications by overwhelming with noise or signals. While a false base station attack doesn\\'t necessarily jam legitimate signals, it does disrupt normal communication flows. So maybe this is relevant as part of the disruption aspect.\\n\\nCAPEC-582 (Route Disabling) targets network routes to sever connections. In scenario 1, when an attacker disables the operational O-RU\\'s access and uses their own system, they\\'re effectively rerouting traffic away from legitimate infrastructure—so Route Disabling could be a component here.\\n\\nCAPEC-604 (Wi-Fi Jamming) is about disrupting Wi-Fi networks. Since false base stations can operate on both cellular and Wi-Fi frequencies, this might also apply if the attack affects connectivity beyond just cellular.\\n\\nCAPEC-593 (Session Hijacking) involves stealing or manipulating active sessions. The threat mentions compromising subscriber privacy by intercepting identities like SUPI/5G-GUTI, which aligns with session hijacking techniques used to impersonate legitimate users.\\n\\nCAPEC-618 (Cell Broadcast Message Request) is about triggering broadcast messages for location tracking. While the false base station attack doesn\\'t directly use this method, it could be a part of how attackers verify presence or absence of certain signals—so maybe related but not as direct.\\n\\nCAPEC-90 (Reflection Attack in Authentication Protocol) deals with bypassing authentication without credentials. The threat mentions that even though 5G has security enhancements, false base stations can still intercept identities. This might relate if the attack involves breaking authentication mechanisms to impersonate legitimate users.\\n\\nWait, let me check again. The user\\'s threat is about a false base station masquerading as legitimate, which could involve protocol manipulation (CAPEC-272) or spoofing attacks in general. Also, resource location spoofing (CAPEC-154) might be relevant if the attack involves redirecting UEs to an unintended fronthaul.\\n\\nBut looking at the most direct matches: CAPEC-617 is a clear match because it\\'s about rogue base stations. Then there are attacks that involve interception or manipulation of communications, like session hijacking (CAPEC-593) and traffic injection (CAPEC-559). Also, protocol manipulation (CAPEC-272) could be relevant since the false base station might exploit weaknesses in communication protocols.\\n\\nHmm, but wait. The threat summary specifically mentions that the attacker uses a rogue O-RU to intercept communications. So CAPEC-617 is definitely one. Then, among others, session hijacking (CAPEC-593) and protocol manipulation (CAPEC-272) are relevant because they involve impersonating legitimate entities or manipulating protocols.\\n\\nAlso, the attack scenarios include physical access (CAPEC-487 might not directly apply here unless there\\'s electromagnetic side-channel involved). But maybe CAPEC-161 (Infrastructure Manipulation) is more about routing manipulation than physical access. Wait, no—CAPEC-161 involves manipulating network routes to redirect traffic, which aligns with scenario 1 where the attacker disables the operational O-RU and uses their own system.\\n\\nWait, but in the threat summary, when an attacker hijacks fronthaul or recruits a standalone O-RU, they\\'re essentially taking control of legitimate infrastructure. So that\\'s more like session hijacking (CAPEC-593) because they\\'re using existing network components to impersonate legitimate ones.\\n\\nAlso, CAPEC-606 (Weakening of Cellular Encryption) is relevant here because the threat mentions that attackers can force UEs into using weaker or no encryption modes. So that\\'s another direct match.\\n\\nPutting it all together: The most relevant CAPECs are those directly related to rogue base stations and protocol manipulation—CAPEC-617, 272, 593, 582 (since rerouting fronthaul is a form of route disabling), 606. But let me check each one again.\\n\\nCAPEC-617: Cellular Rogue Base Station - Direct match.\\nCAPEC-272: Protocol Manipulation - The false base station might manipulate protocols to impersonate legitimate ones, so this applies.\\nCAPEC-593: Session Hijacking - Intercepts active sessions by masquerading as a legitimate base station.\\nCAPEC-601: Jamming - Not directly mentioned but could be part of the attack if they disrupt signals. However, the threat doesn\\'t mention jamming explicitly—maybe not necessary unless there\\'s signal disruption involved.\\nWait, in scenario 1, when an attacker disables the O-RU and uses their own system, that might involve a form of jamming or signal overpowering? Or is it more about rerouting than jamming?\\n\\nActually, CAPEC-605 (Cellular Jamming) would be if they actively transmit signals to disrupt. But in this case, the attack doesn\\'t necessarily jam legitimate UEs—instead, it redirects them by using a rogue base station with stronger signal. So maybe Route Disabling (CAPEC-582) is more accurate here.\\n\\nWait, CAPEC-601 and 605 are both about jamming. The threat summary mentions that the attacker removes the operational O-RU from providing service to UEs in its coverage area. That\\'s not necessarily jamming but rather a redirection attack—so maybe Route Disabling (CAPEC-582) is more appropriate.\\n\\nAlso, CAPEC-604 (Wi-Fi Jamming) might be relevant if the false base station operates on Wi-Fi frequencies, but O-RAN attacks are typically cellular. So unless specified otherwise, probably not necessary here.\\n\\nSo refining: The most direct matches would be CAPEC-617 for the rogue base station itself, and then session hijacking (CAPEC-593) because of identity interception. Protocol Manipulation (CAPEC-272) is also relevant as the attack might involve subverting protocol assumptions to impersonate a legitimate base station.\\n\\nAdditionally, if the attacker uses physical access or compromised equipment, that could relate to CAPEC-161 (Infrastructure Manipulation). But since O-RAN\\'s open fronthaul makes it easier for attackers to plug in their systems without needing to physically tamper with every component, maybe not as relevant unless they\\'re specifically manipulating infrastructure.\\n\\nWait, the threat summary mentions three scenarios: hijacking fronthaul, using standalone O-RU, and physical access. So each of these might correspond to different CAPECs:\\n\\n1. Hijacking fronthaul (plugging into existing interface) - This is more about rerouting or redirecting traffic—CAPEC-582 (Route Disabling).\\n2. Using a standalone O-RU - This involves taking control of unused equipment, which could be seen as session hijacking if they use it to impersonate.\\n3. Physical access - This might involve CAPEC-466 (Leveraging Active Adversary) or others related to physical manipulation.\\n\\nBut looking at the provided list, none directly mention physical access except maybe CAPEC-157 (Sniffing Attacks), but that\\'s passive and doesn\\'t require physical access. Alternatively, perhaps CAPEC-272 could apply here if they\\'re manipulating protocols during physical access.\\n\\nWait, no—physical access is more about unauthorized access to equipment (like plugging into the fronthaul without permission). So maybe Infrastructure Manipulation (CAPEC-161) applies because they\\'re using legitimate operator/vendor equipment for malicious purposes. But CAPEC-161 focuses on manipulating routing of network messages.\\n\\nAlternatively, perhaps CAPEC-487 (ICMP Flood) isn\\'t directly relevant here unless the attack involves flooding ICMP traffic to disrupt communication—unlikely in this case.\\n\\nSo focusing on the most direct matches:\\n\\nCAPEC-617: Rogue base station.\\nCAPEC-272: Protocol manipulation for impersonation.\\nCAPEC-593: Session hijacking by intercepting identities.\\nCAPEC-582: Route disabling to reroute traffic away from legitimate infrastructure.\\n\\nAlso, CAPEC-606 (Weakening of Cellular Encryption) is directly mentioned in the threat summary as a possible outcome—forcing UEs into weaker encryption modes. So that\\'s another relevant one.\\n\\nWait, but let me check each candidate again:\\n\\nCAPEC-617: Directly about rogue base stations.\\nCAPEC-272: Protocol manipulation to impersonate or alter communications.\\nCAPEC-593: Session hijacking—stealing active sessions for unauthorized access.\\nCAPEC-606: Weakening encryption, which is a specific attack vector mentioned.\\n\\nAlso, CAPEC-154 (Resource Location Spoofing) might be relevant if the attacker convinces UEs to connect to an unintended fronthaul location. But that\\'s more about social engineering or spoofing resource locations—maybe not as direct unless they\\'re using techniques like evil twin attacks on cellular networks.\\n\\nWait, no—the threat is specifically about a false base station attack via O-RU hijacking/physical access. So the primary CAPECs are those related to rogue base stations and protocol manipulation.\\n\\nSo compiling: The most relevant would be 617 (rogue base), 272 (protocol manipulation), 593 (session hijacking), 606 (weakening encryption). Also, perhaps route disabling (CAPEC-582) because the attack scenario involves rerouting traffic.\\n\\nBut let me see if there\\'s any other CAPEC that might fit. For example, CAPEC-157 is about sniffing attacks—passive interception of data without altering it. The threat mentions interception and unauthorized tracking, so maybe this applies as well. But since the false base station attack actively provides a fake air interface, perhaps session hijacking (CAPEC-593) or protocol manipulation are more direct.\\n\\nAlternatively, CAPEC-601 (Jamming) might be relevant if the attacker is disrupting legitimate UEs\\' connection to their own tower by overpowering with signals. But in this case, it\\'s not necessarily jamming but rather a redirection attack—so maybe Route Disabling (CAPEC-582) covers that.\\n\\nSo finalizing: The most relevant CAPEC IDs are 617, 272, 593, and 606. These directly address the aspects of rogue base stations, protocol manipulation for impersonation, session hijacking via identity theft, and weakening encryption—all core components of the false base station attack described.\\n</think>\\n[\"CAPEC-617\", \"CAPEC-272\", \"CAPEC-593\", \"CAPEC-606\"]', thinking=None, context=[151669, 1986, 3383, 17601, 12731, 264, 5899, 12126, 504, 279, 198, 5002, 13484, 9549, 8141, 320, 46, 10911, 1093, 8, 7947, 311, 9760, 3359, 12624, 624, 46, 10911, 1093, 10868, 264, 48240, 6407, 304, 13484, 9549, 8141, 320, 49, 1093, 340, 24852, 11, 7218, 504, 33233, 11773, 311, 264, 803, 1787, 345, 25668, 1506, 11, 323, 3162, 31405, 5486, 13, 1084, 374, 1483, 369, 198, 14933, 10535, 14155, 11, 7945, 369, 220, 20, 38, 323, 3853, 198, 7490, 804, 13, 5309, 16170, 315, 506, 10911, 1093, 2924, 510, 12, 5264, 739, 25, 15633, 1506, 553, 50014, 11, 1787, 198, 28965, 311, 29987, 264, 7299, 8273, 8029, 24982, 624, 12, 4093, 351, 93040, 431, 1093, 25, 54450, 1361, 525, 4237, 198, 580, 2128, 2155, 6961, 476, 4108, 3922, 5746, 624, 12, 4377, 12, 98484, 53084, 25, 34085, 525, 26075, 389, 198, 5782, 12625, 33702, 323, 14177, 2973, 624, 12, 44679, 12, 14620, 7779, 25, 29653, 553, 821, 31405, 6813, 198, 35794, 291, 389, 431, 1093, 77088, 85476, 320, 35978, 82, 4292, 7039, 11, 3118, 389, 279, 2266, 3403, 11, 23643, 279, 2701, 198, 96129, 12126, 510, 32, 52335, 448, 279, 2265, 1527, 30710, 13352, 705, 264, 895, 2331, 8056, 3359, 553, 22818, 458, 506, 10911, 52, 323, 279, 4008, 362, 895, 2331, 8056, 3359, 13666, 979, 458, 30710, 9243, 15959, 3452, 438, 264, 22745, 6371, 3922, 311, 27596, 264, 2363, 3419, 65006, 5251, 3310, 320, 41887, 22034, 8, 3359, 1948, 264, 32115, 748, 1196, 7096, 320, 2230, 8, 323, 279, 6371, 3922, 13, 715, 3862, 525, 2326, 3359, 25283, 389, 458, 506, 10911, 52, 429, 7283, 458, 30710, 311, 13083, 264, 895, 2331, 8056, 3359, 25, 715, 16, 13, 67990, 473, 1422, 6039, 4943, 311, 13083, 264, 895, 2331, 8056, 3359, 25, 7711, 9683, 72996, 458, 24586, 506, 10911, 52, 748, 2615, 311, 279, 1787, 1422, 6039, 4943, 11, 62534, 264, 895, 2331, 8056, 1849, 1119, 279, 24586, 506, 10911, 52, 748, 1422, 6039, 4943, 3749, 11, 323, 37075, 264, 895, 2331, 8056, 3359, 448, 279, 506, 10911, 52, 8241, 279, 3720, 3749, 624, 17, 13, 4067, 21026, 264, 43388, 506, 10911, 52, 311, 13083, 264, 895, 2331, 8056, 3359, 25, 576, 2498, 73149, 506, 10911, 52, 374, 458, 506, 10911, 52, 429, 374, 537, 24586, 714, 374, 2500, 311, 458, 30710, 311, 32335, 1119, 264, 895, 2331, 8056, 1849, 13, 576, 30710, 62534, 264, 895, 2331, 8056, 1849, 1119, 279, 43388, 506, 10911, 52, 748, 1422, 6039, 4943, 3749, 323, 37075, 264, 895, 2331, 8056, 3359, 448, 279, 506, 10911, 52, 8241, 279, 3720, 3749, 624, 18, 13, 49709, 44471, 6961, 2615, 311, 506, 10911, 52, 311, 13083, 264, 895, 2331, 8056, 3359, 25, 1527, 30710, 19619, 2615, 311, 9250, 323, 5306, 6813, 315, 458, 506, 10911, 52, 320, 1575, 1091, 279, 1787, 1422, 6039, 4943, 3749, 701, 33061, 279, 506, 10911, 52, 1212, 3359, 311, 264, 895, 2331, 8056, 1849, 11, 323, 37075, 264, 895, 2331, 8056, 3359, 448, 279, 506, 10911, 52, 8241, 279, 3720, 3749, 624, 36374, 8776, 1231, 5240, 510, 64, 8, 1752, 264, 32115, 748, 29988, 304, 3359, 25283, 220, 16, 11, 220, 17, 11, 323, 220, 18, 25, 279, 895, 2331, 17337, 11, 1083, 3881, 438, 15490, 1893, 14, 20, 38, 12010, 1381, 40, 2287, 388, 11, 70671, 264, 32115, 9569, 553, 24913, 264, 29988, 311, 15498, 311, 279, 895, 2331, 8056, 5942, 13, 1096, 15885, 279, 6006, 311, 32115, 9569, 69468, 95454, 11653, 323, 44471, 32115, 14849, 8776, 13, 4220, 8776, 2924, 37998, 32115, 1995, 11, 25476, 60718, 448, 33599, 1995, 11, 14849, 30020, 11, 323, 75000, 32115, 12345, 624, 65, 8, 1752, 279, 5675, 3922, 25, 304, 3359, 15048, 220, 16, 11, 279, 30710, 28160, 279, 24586, 506, 10911, 52, 504, 8241, 2473, 311, 547, 17360, 304, 279, 10191, 3082, 10223, 553, 279, 24586, 506, 10911, 52, 624, 66, 8, 1752, 19624, 323, 28529, 304, 3359, 25283, 220, 16, 11, 220, 17, 11, 323, 220, 18, 11, 279, 30710, 55097, 22745, 5675, 35663, 7096, 369, 279, 7428, 315, 6825, 264, 895, 2331, 8056, 3359, 389, 30020, 11, 10767, 89155, 279, 17011, 315, 279, 5675, 323, 20728, 6693, 506, 10911, 52, 572, 1483, 304, 279, 3359, 624, 27792, 25, 576, 895, 2331, 8056, 5899, 702, 24295, 2474, 67555, 14155, 323, 8570, 311, 37580, 323, 22334, 448, 279, 15379, 315, 6371, 14155, 13, 220, 20, 38, 14155, 525, 3601, 311, 19131, 3807, 4763, 58529, 916, 220, 19, 38, 323, 19588, 14155, 13, 17715, 1493, 4763, 58529, 11, 220, 20, 38, 14155, 1410, 2058, 387, 264, 2169, 315, 895, 2331, 8056, 8776, 508, 16, 24, 26126, 49574, 11, 2908, 678, 279, 2701, 9144, 198, 5049, 10943, 320, 5049, 10943, 13352, 369, 7718, 20790, 18834, 77125, 323, 54882, 8, 10695, 429, 1033, 30403, 504, 264, 4621, 4625, 438, 279, 220, 17, 18, 198, 3562, 4428, 3359, 12624, 311, 279, 2661, 5899, 12126, 510, 5049, 10943, 8085, 369, 9183, 10943, 3034, 9183, 10943, 12, 21, 16, 22, 25, 362, 9183, 10943, 448, 279, 2265, 87107, 49784, 5351, 16629, 13, 576, 4008, 315, 419, 9183, 10943, 374, 25, 758, 419, 3359, 15048, 11, 279, 30710, 732, 81729, 264, 34593, 2331, 8056, 448, 862, 1828, 330, 11918, 361, 1, 2331, 8056, 7096, 13, 8704, 34593, 7611, 4564, 311, 8820, 8056, 702, 279, 29905, 8286, 11, 279, 30710, 646, 6707, 26910, 264, 17112, 34593, 3671, 320, 68, 1302, 13, 279, 312, 1458, 2728, 3671, 8, 311, 3061, 311, 279, 53891, 2331, 8056, 496, 576, 20751, 1735, 315, 419, 525, 25, 25466, 11, 36765, 198, 1408, 28665, 5049, 10943, 8085, 369, 9183, 10943, 3034, 9183, 10943, 12, 21, 15, 20, 25, 362, 9183, 10943, 448, 279, 2265, 87107, 20016, 5311, 13, 576, 4008, 315, 419, 9183, 10943, 374, 25, 758, 419, 3359, 15048, 11, 279, 30710, 22040, 1356, 44703, 17289, 311, 97787, 323, 23973, 279, 10535, 1948, 264, 34593, 1196, 3671, 323, 264, 2779, 21271, 13, 25694, 6350, 12538, 525, 3881, 304, 279, 1787, 17206, 369, 419, 3359, 369, 220, 17, 38, 11, 220, 18, 38, 11, 323, 220, 19, 38, 51398, 34593, 5440, 13, 1752, 3110, 11, 1045, 8776, 2169, 2779, 39725, 553, 22024, 1105, 448, 895, 2639, 6605, 11, 1393, 3800, 19131, 1550, 5866, 315, 11980, 389, 41980, 11744, 496, 576, 21070, 315, 419, 374, 25, 25466, 198, 1408, 28665, 5049, 10943, 8085, 369, 9183, 10943, 3034, 9183, 10943, 12, 19, 21, 21, 25, 362, 9183, 10943, 448, 279, 2265, 78579, 4118, 9905, 2410, 3004, 658, 304, 279, 12592, 66142, 311, 425, 49911, 25739, 17116, 10974, 13, 576, 4008, 315, 419, 9183, 10943, 374, 25, 1527, 30710, 27505, 1134, 458, 81399, 304, 279, 6149, 3359, 320, 5049, 10943, 12, 24, 19, 8, 304, 1973, 311, 30718, 279, 1852, 6238, 4842, 9135, 304, 279, 11734, 594, 6929, 13, 1096, 4541, 81399, 304, 279, 6149, 3359, 1410, 387, 11626, 11, 369, 2867, 11, 979, 279, 11734, 374, 8433, 311, 264, 584, 69576, 4017, 7702, 13, 1527, 30710, 374, 2952, 311, 28639, 7388, 323, 14507, 1948, 279, 11734, 594, 6929, 323, 1045, 2477, 56667, 3910, 429, 1558, 537, 990, 41654, 496, 576, 20751, 1735, 315, 419, 525, 25, 25466, 11, 4377, 198, 1408, 28665, 5049, 10943, 8085, 369, 9183, 10943, 3034, 9183, 10943, 12, 21, 15, 19, 25, 362, 9183, 10943, 448, 279, 2265, 17220, 26299, 20016, 5311, 13, 576, 4008, 315, 419, 9183, 10943, 374, 25, 758, 419, 3359, 15048, 11, 279, 30710, 22040, 1356, 44703, 389, 279, 17220, 26299, 5496, 311, 5358, 3847, 504, 77668, 476, 12308, 821, 504, 279, 17112, 17220, 26299, 3922, 13, 2619, 525, 3807, 3881, 12538, 311, 2736, 419, 3359, 1365, 369, 3110, 25, 279, 30710, 1231, 17726, 279, 17220, 26299, 2615, 1459, 320, 68, 1302, 13, 279, 312, 1458, 2728, 3671, 8, 448, 409, 45890, 14087, 13, 13293, 1714, 374, 311, 29282, 1550, 5866, 315, 11980, 389, 279, 22060, 7055, 1483, 553, 279, 17220, 26299, 3922, 496, 576, 21070, 315, 419, 374, 25, 25466, 198, 1408, 28665, 5049, 10943, 8085, 369, 9183, 10943, 3034, 9183, 10943, 12, 21, 24, 22, 25, 362, 9183, 10943, 448, 279, 2265, 57587, 55949, 1055, 287, 13, 576, 4008, 315, 419, 9183, 10943, 374, 25, 715, 310, 366, 87, 1551, 44389, 72241, 81399, 9243, 15959, 3452, 438, 264, 22745, 21886, 16102, 12221, 24572, 320, 51326, 7123, 8, 3538, 553, 87890, 287, 57587, 9442, 11, 448, 279, 5795, 315, 6423, 287, 3922, 9442, 476, 40466, 2473, 311, 57587, 3918, 87, 1551, 44389, 397, 260, 659, 576, 20751, 1735, 315, 419, 525, 25, 9784, 16595, 11, 4377, 11, 36765, 198, 1408, 28665, 5049, 10943, 8085, 369, 9183, 10943, 3034, 9183, 10943, 12, 21, 16, 20, 25, 362, 9183, 10943, 448, 279, 2265, 33719, 34947, 17220, 26299, 20790, 13, 576, 4008, 315, 419, 9183, 10943, 374, 25, 2410, 3004, 5431, 4582, 17220, 26299, 7096, 429, 14056, 438, 264, 22745, 17220, 26299, 3922, 2615, 1459, 13, 3197, 264, 3671, 33061, 311, 419, 2615, 1459, 11, 17220, 26299, 821, 9442, 374, 69374, 11, 17006, 11, 323, 29139, 13, 1096, 1083, 6147, 279, 81399, 311, 990, 330, 329, 3004, 658, 3419, 10603, 50067, 1, 320, 5049, 10943, 12, 24, 19, 8, 369, 678, 16893, 496, 576, 20751, 1735, 315, 419, 525, 25, 25466, 11, 4377, 11, 36765, 198, 1408, 28665, 5049, 10943, 8085, 369, 9183, 10943, 3034, 9183, 10943, 12, 17, 22, 17, 25, 362, 9183, 10943, 448, 279, 2265, 24572, 60911, 2914, 13, 576, 4008, 315, 419, 9183, 10943, 374, 25, 1527, 81399, 1186, 28163, 264, 16893, 11507, 311, 2736, 458, 3359, 13, 1096, 943, 315, 3359, 646, 2138, 458, 81399, 311, 59749, 349, 3800, 11, 6997, 16216, 1995, 11, 2524, 279, 15274, 315, 264, 3797, 11, 476, 2736, 1008, 8776, 13, 1096, 943, 315, 3359, 11550, 8318, 31846, 429, 1231, 387, 36988, 304, 4211, 388, 315, 279, 11507, 11, 15114, 38337, 315, 279, 11507, 11, 476, 51127, 304, 279, 11507, 5086, 496, 576, 20751, 1735, 315, 419, 525, 25, 25466, 11, 4377, 198, 1408, 28665, 5049, 10943, 8085, 369, 9183, 10943, 3034, 9183, 10943, 12, 21, 16, 23, 25, 362, 9183, 10943, 448, 279, 2265, 87107, 31965, 4856, 6145, 13, 576, 4008, 315, 419, 9183, 10943, 374, 25, 758, 419, 3359, 15048, 11, 279, 30710, 5711, 6540, 315, 279, 2169, 748, 6371, 4540, 1372, 320, 72, 1734, 2572, 279, 1372, 5815, 448, 279, 22889, 1483, 304, 279, 312, 1458, 2728, 3671, 8, 311, 5240, 279, 34593, 3922, 311, 3624, 12899, 6605, 311, 5115, 279, 6371, 3671, 13, 8704, 279, 3922, 8788, 892, 2779, 21271, 279, 2169, 748, 6371, 3671, 374, 12392, 311, 11, 279, 12899, 6605, 525, 1172, 3208, 304, 279, 9866, 12030, 6119, 320, 43, 1706, 8, 1380, 279, 2169, 374, 5023, 7407, 13, 3216, 51505, 279, 34593, 12899, 1943, 323, 1221, 14289, 369, 279, 9362, 476, 19265, 315, 429, 1943, 11, 458, 30710, 1410, 10146, 429, 279, 2169, 374, 304, 320, 269, 537, 304, 8, 264, 2661, 3728, 496, 576, 20751, 1735, 315, 419, 525, 25, 25466, 11, 4377, 198, 1408, 28665, 5049, 10943, 8085, 369, 9183, 10943, 3034, 9183, 10943, 12, 24, 15, 25, 362, 9183, 10943, 448, 279, 2265, 42876, 20790, 304, 23537, 24572, 13, 576, 4008, 315, 419, 9183, 10943, 374, 25, 1527, 81399, 646, 11480, 458, 16653, 11507, 46181, 311, 21844, 3359, 304, 1973, 311, 18019, 432, 13, 43145, 773, 6147, 279, 81399, 28967, 70750, 2615, 311, 279, 2169, 1849, 11, 2041, 59562, 279, 81680, 16387, 13, 42876, 8776, 525, 315, 2244, 4643, 311, 16653, 31785, 429, 17188, 389, 264, 8645, 24413, 29661, 476, 4428, 16953, 13, 1527, 81399, 646, 59749, 349, 264, 22745, 1196, 323, 646, 8722, 28967, 70750, 2615, 311, 279, 1849, 553, 7790, 33639, 264, 21844, 3359, 2337, 16653, 496, 576, 21070, 315, 419, 374, 25, 25466, 198, 1408, 28665, 5049, 10943, 8085, 369, 9183, 10943, 3034, 9183, 10943, 12, 21, 17, 17, 25, 362, 9183, 10943, 448, 279, 2265, 9884, 441, 38000, 16659, 12, 9629, 20790, 13, 576, 4008, 315, 419, 9183, 10943, 374, 25, 758, 419, 3359, 15048, 11, 279, 30710, 1494, 3132, 36477, 65569, 68139, 804, 429, 525, 8947, 553, 279, 17112, 14346, 3671, 438, 458, 69476, 278, 3108, 23067, 315, 1181, 8692, 13, 5542, 1493, 68139, 804, 11, 279, 30710, 74449, 1995, 911, 279, 821, 429, 374, 1660, 15233, 320, 68, 1302, 13, 279, 30710, 646, 11731, 89129, 6894, 553, 16558, 68139, 804, 5815, 448, 89129, 8692, 568, 1096, 1707, 315, 3359, 7460, 21542, 2861, 2615, 311, 279, 3671, 11, 4764, 8776, 614, 1012, 20459, 518, 584, 37514, 429, 975, 518, 26552, 315, 705, 311, 220, 16, 15, 12, 16, 20, 7541, 13, 2619, 614, 537, 1012, 894, 5089, 7822, 311, 8253, 279, 7192, 14976, 6010, 369, 1741, 8776, 13, 8704, 279, 3359, 374, 27879, 11, 432, 374, 7009, 11997, 311, 11140, 323, 279, 17112, 3671, 686, 3060, 311, 14476, 438, 4622, 1283, 264, 6849, 3359, 496, 576, 20751, 1735, 315, 419, 525, 25, 4377, 11, 27379, 8234, 11, 36765, 198, 1408, 28665, 5049, 10943, 8085, 369, 9183, 10943, 3034, 9183, 10943, 12, 21, 15, 16, 25, 362, 9183, 10943, 448, 279, 2265, 20016, 5311, 13, 576, 4008, 315, 419, 9183, 10943, 374, 25, 1527, 81399, 5711, 8887, 11980, 476, 17289, 304, 458, 4774, 311, 23973, 16893, 13, 3216, 36204, 22024, 1849, 4963, 448, 28967, 70750, 9442, 11, 2473, 374, 14820, 311, 279, 22745, 9442, 315, 18630, 3847, 496, 576, 21070, 315, 419, 374, 25, 25466, 198, 1408, 28665, 5049, 10943, 8085, 369, 9183, 10943, 3034, 9183, 10943, 12, 20, 24, 19, 25, 362, 9183, 10943, 448, 279, 2265, 36981, 53811, 13, 576, 4008, 315, 419, 9183, 10943, 374, 25, 1527, 81399, 15551, 82, 9442, 1119, 279, 2169, 594, 3922, 3633, 13, 576, 81399, 374, 8916, 2952, 311, 95530, 476, 23973, 279, 3633, 11, 323, 13581, 5602, 279, 2213, 13, 1096, 374, 537, 264, 38162, 3359, 11, 438, 279, 81399, 374, 537, 21080, 389, 78853, 4963, 13, 12090, 11, 279, 81399, 374, 44067, 264, 3151, 1946, 311, 7802, 279, 1849, 304, 264, 3953, 1616, 496, 576, 20751, 1735, 315, 419, 525, 25, 25466, 11, 4377, 198, 1408, 28665, 5049, 10943, 8085, 369, 9183, 10943, 3034, 9183, 10943, 12, 20, 23, 17, 25, 362, 9183, 10943, 448, 279, 2265, 9572, 4093, 18768, 13, 576, 4008, 315, 419, 9183, 10943, 374, 25, 1527, 81399, 72996, 279, 3922, 6021, 1948, 1378, 11550, 13, 576, 5795, 374, 311, 6587, 3205, 279, 16893, 5496, 1948, 1378, 14744, 13, 1096, 374, 3545, 279, 1102, 315, 264, 3598, 1465, 476, 279, 990, 315, 458, 330, 35679, 5505, 3398, 1, 553, 1846, 304, 2524, 315, 9023, 13737, 13, 1096, 3359, 5383, 43542, 504, 1429, 1008, 59951, 12624, 553, 24132, 279, 6021, 5086, 11, 438, 16087, 311, 279, 821, 5823, 916, 279, 6021, 496, 576, 20751, 1735, 315, 419, 525, 25, 9784, 16595, 11, 25466, 11, 4377, 11, 36765, 198, 1408, 28665, 5049, 10943, 8085, 369, 9183, 10943, 3034, 9183, 10943, 12, 16, 16, 19, 25, 362, 9183, 10943, 448, 279, 2265, 23537, 45684, 13, 576, 4008, 315, 419, 9183, 10943, 374, 25, 1527, 30710, 93563, 44471, 2615, 311, 458, 3766, 11, 2473, 476, 3671, 2987, 1526, 6540, 315, 279, 36988, 43567, 315, 458, 16653, 16953, 11, 476, 553, 70601, 264, 25700, 304, 279, 16653, 12859, 594, 8129, 13, 758, 1741, 458, 3359, 458, 16653, 16953, 374, 30201, 714, 264, 15516, 14071, 8500, 315, 4357, 11137, 279, 16953, 311, 13198, 2615, 311, 279, 30710, 496, 576, 20751, 1735, 315, 419, 525, 25, 4377, 11, 36765, 198, 1408, 28665, 5049, 10943, 8085, 369, 9183, 10943, 3034, 9183, 10943, 12, 20, 20, 24, 25, 362, 9183, 10943, 448, 279, 2265, 42988, 2174, 20016, 5311, 13, 576, 4008, 315, 419, 9183, 10943, 374, 25, 758, 419, 3359, 5383, 11, 279, 81399, 21308, 61542, 17289, 518, 264, 2169, 23210, 1667, 264, 53891, 705, 2080, 8056, 311, 23973, 279, 10602, 18368, 13, 12969, 2878, 279, 23210, 594, 42872, 525, 30998, 504, 18739, 279, 23210, 594, 17112, 476, 41517, 11744, 13, 576, 23210, 594, 42872, 1379, 13798, 5193, 1181, 2309, 304, 279, 12884, 26, 5080, 64591, 46610, 3421, 5248, 65859, 496, 576, 21070, 315, 419, 374, 25, 25466, 198, 1408, 28665, 5049, 10943, 8085, 369, 9183, 10943, 3034, 9183, 10943, 12, 16, 21, 16, 25, 362, 9183, 10943, 448, 279, 2265, 44487, 60911, 2914, 13, 576, 4008, 315, 419, 9183, 10943, 374, 25, 1527, 30710, 62388, 17452, 315, 279, 13737, 315, 264, 3922, 5387, 304, 1973, 311, 21585, 7698, 8776, 476, 1995, 22888, 389, 3922, 6171, 476, 2456, 264, 2297, 304, 279, 19119, 1995, 6396, 1948, 3922, 6171, 13, 7496, 3545, 11, 419, 17601, 33686, 315, 279, 29058, 315, 3922, 6605, 773, 11, 4518, 315, 32011, 518, 862, 6169, 9106, 11, 807, 525, 15540, 6974, 458, 5387, 315, 279, 40965, 6, 18774, 11, 5990, 264, 3538, 14071, 553, 279, 30710, 13, 576, 11734, 374, 3545, 40647, 429, 862, 6605, 525, 537, 1660, 15233, 12440, 13, 1752, 3110, 11, 264, 17112, 2943, 1231, 4411, 807, 525, 20913, 311, 862, 1828, 6073, 714, 11, 304, 2097, 11, 387, 20913, 311, 264, 24584, 287, 2747, 14071, 553, 279, 30710, 892, 1221, 51207, 279, 1196, 594, 5858, 1995, 304, 1973, 311, 21415, 473, 279, 5042, 6073, 2692, 496, 576, 20751, 1735, 315, 419, 525, 25, 25466, 11, 4377, 11, 36765, 198, 1408, 28665, 5049, 10943, 8085, 369, 9183, 10943, 3034, 9183, 10943, 12, 21, 17, 23, 25, 362, 9183, 10943, 448, 279, 2265, 62742, 12, 4596, 23344, 20790, 13, 576, 4008, 315, 419, 9183, 10943, 374, 25, 362, 4185, 1352, 315, 264, 23344, 87890, 287, 3359, 11, 16626, 60837, 264, 6777, 12462, 3359, 12033, 448, 458, 81399, 48827, 17289, 21466, 448, 279, 22011, 17289, 13166, 553, 279, 2169, 13964, 13, 576, 2355, 315, 279, 82634, 17289, 374, 1221, 26024, 7172, 323, 14764, 3123, 504, 279, 22011, 17289, 13, 6065, 882, 11, 279, 81399, 646, 6777, 279, 2169, 3123, 504, 862, 10602, 9106, 323, 8841, 264, 3728, 11882, 553, 279, 81399, 496, 576, 21070, 315, 419, 374, 25, 25466, 198, 1408, 28665, 5049, 10943, 8085, 369, 9183, 10943, 3034, 9183, 10943, 12, 16, 20, 19, 25, 362, 9183, 10943, 448, 279, 2265, 11765, 9866, 55949, 1055, 287, 13, 576, 4008, 315, 419, 9183, 10943, 374, 25, 1527, 81399, 30852, 1886, 458, 3766, 476, 1196, 323, 21090, 1603, 1105, 311, 1681, 264, 5101, 504, 458, 72343, 3728, 13, 3216, 87890, 287, 279, 3728, 11, 279, 81399, 646, 5240, 458, 24609, 5101, 311, 387, 1483, 11, 3545, 825, 429, 279, 81399, 11574, 323, 646, 387, 1483, 311, 1492, 1105, 11075, 862, 38170, 8845, 496, 576, 20751, 1735, 315, 419, 525, 25, 9784, 16595, 11, 29809, 28525, 11, 25466, 11, 4377, 11, 36765, 198, 1408, 28665, 5049, 10943, 8085, 369, 9183, 10943, 3034, 9183, 10943, 12, 20, 24, 18, 25, 362, 9183, 10943, 448, 279, 2265, 9164, 67990, 8985, 13, 576, 4008, 315, 419, 9183, 10943, 374, 25, 1096, 943, 315, 3359, 17601, 458, 81399, 429, 62388, 43567, 304, 458, 3766, 594, 990, 315, 15704, 304, 16380, 16653, 13, 576, 81399, 374, 2952, 311, 26571, 476, 36635, 458, 4541, 3797, 323, 990, 432, 311, 8722, 650, 587, 269, 1506, 2615, 311, 279, 3766, 496, 576, 21070, 315, 419, 374, 25, 4377, 198, 1408, 28665, 5049, 10943, 8085, 369, 9183, 10943, 3034, 9183, 10943, 12, 16, 20, 22, 25, 362, 9183, 10943, 448, 279, 2265, 13059, 3092, 287, 66142, 13, 576, 4008, 315, 419, 9183, 10943, 374, 25, 758, 419, 3359, 5383, 11, 279, 81399, 28639, 82, 1995, 33599, 1948, 1378, 4843, 9677, 13, 576, 81399, 1969, 387, 2952, 311, 22986, 11, 1349, 11, 323, 5144, 6723, 279, 10535, 9442, 11, 714, 537, 14312, 2504, 279, 10535, 476, 2297, 1181, 2213, 13, 5765, 18368, 11051, 646, 62134, 387, 57287, 291, 421, 279, 81399, 646, 20961, 279, 8794, 1948, 279, 4646, 323, 21713, 13, 13059, 3092, 287, 66142, 525, 4428, 311, 2410, 3004, 658, 31500, 65006, 5251, 3310, 8776, 320, 5049, 10943, 12, 24, 19, 701, 714, 525, 11368, 27879, 13, 55986, 22034, 8776, 525, 46804, 4541, 323, 3545, 11596, 279, 2213, 315, 279, 16893, 5577, 496, 576, 20751, 1735, 315, 419, 525, 25, 25466, 11, 4377, 198, 1408, 28665, 5049, 10943, 8085, 369, 9183, 10943, 3034, 9183, 10943, 12, 16, 22, 18, 25, 362, 9183, 10943, 448, 279, 2265, 5586, 55949, 1055, 287, 13, 576, 4008, 315, 419, 9183, 10943, 374, 25, 1527, 81399, 374, 2952, 311, 63981, 825, 1917, 369, 2441, 323, 8916, 14068, 264, 1196, 1119, 78416, 825, 943, 315, 1917, 979, 807, 29630, 311, 38101, 264, 2155, 1917, 13, 1752, 3110, 11, 264, 1196, 2578, 387, 6069, 311, 4411, 429, 18458, 264, 3137, 686, 9318, 264, 3239, 11, 714, 304, 2097, 432, 30472, 3162, 13, 2410, 3004, 5431, 1231, 2736, 419, 3359, 1526, 3590, 3363, 11, 1741, 438, 553, 4936, 39561, 264, 11734, 311, 2736, 279, 1917, 476, 38561, 389, 264, 1196, 594, 5810, 75904, 311, 653, 773, 11, 476, 1526, 10916, 3363, 11, 1741, 438, 264, 4205, 73, 8985, 3359, 1380, 264, 1196, 15634, 825, 3749, 714, 374, 3520, 44730, 448, 264, 2086, 11, 29447, 11, 3749, 496, 576, 20751, 1735, 315, 419, 525, 25, 9784, 16595, 11, 4377, 198, 1408, 28665, 5049, 10943, 8085, 369, 9183, 10943, 3034, 9183, 10943, 12, 21, 15, 21, 25, 362, 9183, 10943, 448, 279, 2265, 1205, 73362, 315, 87107, 62055, 13, 576, 4008, 315, 419, 9183, 10943, 374, 25, 1527, 30710, 11, 448, 2524, 315, 264, 87107, 49784, 5351, 16629, 476, 1526, 23046, 448, 264, 8394, 9627, 13411, 8141, 28498, 646, 5344, 279, 6371, 3671, 320, 68, 1302, 2572, 279, 312, 1458, 2728, 3671, 8, 311, 990, 902, 25463, 320, 32, 20, 14, 15, 3856, 8, 476, 311, 990, 6707, 1438, 480, 25463, 320, 32, 20, 14, 16, 476, 362, 20, 14, 17, 3856, 88512, 576, 21070, 315, 419, 374, 25, 4377, 198, 1408, 28665, 5049, 10943, 8085, 369, 9183, 10943, 3034, 9183, 10943, 12, 19, 23, 22, 25, 362, 9183, 10943, 448, 279, 2265, 83988, 56127, 13, 576, 4008, 315, 419, 9183, 10943, 374, 25, 1527, 81399, 1231, 9026, 264, 38162, 3359, 1667, 279, 83988, 11507, 448, 279, 7385, 311, 23101, 22745, 3847, 2615, 311, 264, 2473, 553, 34108, 279, 2500, 3922, 33394, 13, 362, 14260, 3359, 17601, 264, 11734, 3538, 12308, 83988, 27035, 518, 264, 1550, 4379, 504, 264, 6884, 2088, 315, 2530, 14230, 13, 22406, 11, 4152, 311, 279, 3797, 54909, 6993, 315, 279, 83988, 11507, 11, 279, 2530, 315, 264, 10151, 374, 6707, 87890, 291, 3259, 432, 5000, 311, 1477, 279, 2530, 315, 279, 3359, 496, 576, 20751, 1735, 315, 419, 525, 25, 25466, 11, 4377, 198, 1408, 70818, 3830, 419, 1140, 11, 10542, 892, 9183, 10943, 28360, 525, 1429, 9760, 198, 983, 279, 7481, 5899, 624, 2121, 458, 2550, 11, 3410, 1172, 264, 4718, 1334, 8482, 279, 198, 4525, 9183, 10943, 28360, 624, 5404, 537, 2924, 894, 40841, 476, 5107, 1467, 345, 3243, 279, 4718, 1334, 13, 151670, 151667, 198, 32313, 11, 1077, 594, 21403, 419, 3491, 3019, 553, 3019, 13, 576, 1196, 3897, 264, 11682, 5899, 12126, 911, 895, 2331, 8056, 8776, 304, 506, 10911, 1093, 14155, 323, 10007, 220, 17, 18, 9144, 9183, 10943, 10695, 13, 2379, 1366, 752, 311, 10542, 892, 315, 1493, 525, 1429, 9760, 382, 5338, 11, 358, 1184, 311, 3535, 1128, 6896, 279, 895, 2331, 8056, 3359, 70104, 13, 5542, 279, 4008, 11, 432, 594, 2797, 429, 458, 30710, 59749, 973, 264, 22745, 2331, 8056, 320, 46, 10911, 52, 8, 311, 28639, 16893, 1948, 547, 17360, 323, 279, 6371, 3922, 13, 576, 5899, 12126, 33845, 2326, 25283, 25, 21415, 8985, 1422, 6039, 4943, 11, 1667, 264, 43388, 506, 10911, 52, 11, 476, 6961, 2615, 382, 22464, 518, 279, 9183, 10943, 1140, 11, 358, 1265, 5244, 389, 8776, 5435, 311, 34593, 2331, 17337, 11, 11507, 33686, 11, 69468, 315, 9442, 11, 323, 10767, 13737, 33686, 2474, 506, 10911, 1093, 17601, 18288, 34442, 13, 6771, 752, 728, 1526, 1817, 9144, 1447, 5049, 10943, 12, 21, 16, 22, 320, 3599, 1276, 49784, 5351, 16629, 8, 4977, 5961, 9760, 1576, 432, 594, 911, 458, 30710, 732, 49544, 264, 22745, 2331, 8056, 382, 5049, 10943, 12, 20, 24, 19, 320, 87229, 53811, 8, 2578, 387, 5435, 438, 279, 895, 2331, 8056, 1410, 15551, 38170, 9442, 11, 714, 358, 2776, 537, 2704, 421, 429, 594, 20975, 9733, 1588, 13, 576, 5899, 374, 803, 911, 69468, 1091, 25071, 3498, 382, 5049, 10943, 12, 21, 15, 16, 320, 64141, 5311, 8, 17601, 86743, 16893, 553, 22024, 448, 11980, 476, 17289, 13, 5976, 264, 895, 2331, 8056, 3359, 3171, 944, 14312, 20072, 22745, 17289, 11, 432, 1558, 23973, 4622, 10535, 27455, 13, 2055, 7196, 419, 374, 9760, 438, 949, 315, 279, 43119, 12893, 382, 5049, 10943, 12, 20, 23, 17, 320, 4899, 4093, 18768, 8, 11550, 3922, 11291, 311, 3205, 13234, 13, 758, 15048, 220, 16, 11, 979, 458, 30710, 72996, 279, 24586, 506, 10911, 52, 594, 2615, 323, 5711, 862, 1828, 1849, 11, 807, 2299, 13444, 48547, 10909, 9442, 3123, 504, 22745, 13737, 2293, 704, 9572, 4093, 18768, 1410, 387, 264, 3692, 1588, 382, 5049, 10943, 12, 21, 15, 19, 320, 58028, 26299, 20016, 5311, 8, 374, 911, 86743, 17220, 26299, 14155, 13, 8704, 895, 2331, 17337, 646, 14476, 389, 2176, 34593, 323, 17220, 26299, 33773, 11, 419, 2578, 1083, 3796, 421, 279, 3359, 21501, 30257, 7797, 1101, 34593, 382, 5049, 10943, 12, 20, 24, 18, 320, 5283, 67990, 8985, 8, 17601, 37998, 476, 62514, 4541, 15704, 13, 576, 5899, 33845, 75000, 32115, 12345, 553, 28639, 287, 39421, 1075, 15490, 1893, 14, 20, 38, 12010, 1381, 40, 11, 892, 5285, 82, 448, 3797, 21415, 8985, 12538, 1483, 311, 59749, 349, 22745, 3847, 382, 5049, 10943, 12, 21, 16, 23, 320, 3599, 31965, 4856, 6145, 8, 374, 911, 51505, 12899, 6605, 369, 3728, 14849, 13, 5976, 279, 895, 2331, 8056, 3359, 3171, 944, 5961, 990, 419, 1714, 11, 432, 1410, 387, 264, 949, 315, 1246, 40965, 10146, 9362, 476, 19265, 315, 3654, 17289, 2293, 704, 7196, 5435, 714, 537, 438, 2118, 382, 5049, 10943, 12, 24, 15, 320, 44238, 20790, 304, 23537, 24572, 8, 12506, 448, 30718, 287, 16653, 2041, 16387, 13, 576, 5899, 33845, 429, 1496, 3498, 220, 20, 38, 702, 4763, 58529, 11, 895, 2331, 17337, 646, 2058, 28639, 39421, 13, 1096, 2578, 28143, 421, 279, 3359, 17601, 14719, 16653, 23783, 311, 59749, 349, 22745, 3847, 382, 14190, 11, 1077, 752, 1779, 1549, 13, 576, 1196, 594, 5899, 374, 911, 264, 895, 2331, 8056, 9243, 15959, 2228, 438, 22745, 11, 892, 1410, 21058, 11507, 33686, 320, 5049, 10943, 12, 17, 22, 17, 8, 476, 87890, 287, 8776, 304, 4586, 13, 7281, 11, 5101, 3728, 87890, 287, 320, 5049, 10943, 12, 16, 20, 19, 8, 2578, 387, 9760, 421, 279, 3359, 17601, 6423, 287, 547, 17360, 311, 458, 72343, 1422, 6039, 4943, 382, 3983, 3330, 518, 279, 1429, 2118, 9071, 25, 9183, 10943, 12, 21, 16, 22, 374, 264, 2797, 2432, 1576, 432, 594, 911, 53891, 2331, 17337, 13, 5005, 1052, 525, 8776, 429, 21058, 69468, 476, 33686, 315, 16893, 11, 1075, 3797, 21415, 8985, 320, 5049, 10943, 12, 20, 24, 18, 8, 323, 9442, 25071, 320, 5049, 10943, 12, 20, 20, 24, 568, 7281, 11, 11507, 33686, 320, 5049, 10943, 12, 17, 22, 17, 8, 1410, 387, 9760, 2474, 279, 895, 2331, 8056, 2578, 32194, 43567, 304, 10535, 31785, 382, 80022, 11, 714, 3783, 13, 576, 5899, 12126, 11689, 33845, 429, 279, 30710, 5711, 264, 53891, 506, 10911, 52, 311, 28639, 16893, 13, 2055, 9183, 10943, 12, 21, 16, 22, 374, 8491, 825, 13, 5005, 11, 4221, 3800, 11, 3797, 21415, 8985, 320, 5049, 10943, 12, 20, 24, 18, 8, 323, 11507, 33686, 320, 5049, 10943, 12, 17, 22, 17, 8, 525, 9760, 1576, 807, 21058, 59749, 1095, 22745, 14744, 476, 62514, 31785, 382, 13394, 11, 279, 3359, 25283, 2924, 6961, 2615, 320, 5049, 10943, 12, 19, 23, 22, 2578, 537, 5961, 3796, 1588, 7241, 1052, 594, 65569, 3108, 53868, 6398, 568, 1988, 7196, 9183, 10943, 12, 16, 21, 16, 320, 97838, 60911, 2914, 8, 374, 803, 911, 29058, 33686, 1091, 6961, 2615, 13, 13824, 11, 902, 2293, 5049, 10943, 12, 16, 21, 16, 17601, 62514, 3922, 11291, 311, 6423, 9442, 11, 892, 5285, 82, 448, 15048, 220, 16, 1380, 279, 30710, 72996, 279, 24586, 506, 10911, 52, 323, 5711, 862, 1828, 1849, 382, 14190, 11, 714, 304, 279, 5899, 12126, 11, 979, 458, 30710, 21415, 7821, 1422, 6039, 4943, 476, 55097, 264, 43388, 506, 10911, 52, 11, 807, 2299, 15791, 4633, 2524, 315, 22745, 13737, 13, 2055, 429, 594, 803, 1075, 3797, 21415, 8985, 320, 5049, 10943, 12, 20, 24, 18, 8, 1576, 807, 2299, 1667, 6350, 3922, 6813, 311, 59749, 349, 22745, 6174, 382, 13394, 11, 9183, 10943, 12, 21, 15, 21, 320, 1654, 73362, 315, 87107, 62055, 8, 374, 9760, 1588, 1576, 279, 5899, 33845, 429, 40965, 646, 5344, 547, 17360, 1119, 1667, 42283, 476, 902, 25463, 19777, 13, 2055, 429, 594, 2441, 2118, 2432, 382, 97904, 432, 678, 3786, 25, 576, 1429, 9760, 9183, 10943, 82, 525, 1846, 5961, 5435, 311, 53891, 2331, 17337, 323, 11507, 33686, 2293, 5049, 10943, 12, 21, 16, 22, 11, 220, 17, 22, 17, 11, 220, 20, 24, 18, 11, 220, 20, 23, 17, 320, 11284, 48547, 10909, 1422, 6039, 4943, 374, 264, 1352, 315, 6021, 60484, 701, 220, 21, 15, 21, 13, 1988, 1077, 752, 1779, 1817, 825, 1549, 382, 5049, 10943, 12, 21, 16, 22, 25, 87107, 49784, 5351, 16629, 481, 7139, 2432, 624, 5049, 10943, 12, 17, 22, 17, 25, 24572, 60911, 2914, 481, 576, 895, 2331, 8056, 2578, 36635, 31785, 311, 59749, 349, 22745, 6174, 11, 773, 419, 16790, 624, 5049, 10943, 12, 20, 24, 18, 25, 9164, 67990, 8985, 481, 5665, 57771, 4541, 15704, 553, 9243, 15959, 2228, 438, 264, 22745, 2331, 8056, 624, 5049, 10943, 12, 21, 15, 16, 25, 20016, 5311, 481, 2806, 5961, 9733, 714, 1410, 387, 949, 315, 279, 3359, 421, 807, 23973, 17289, 13, 4354, 11, 279, 5899, 3171, 944, 6286, 20072, 5311, 20975, 2293, 36760, 537, 5871, 7241, 1052, 594, 8286, 43119, 6398, 624, 14190, 11, 304, 15048, 220, 16, 11, 979, 458, 30710, 72996, 279, 506, 10911, 52, 323, 5711, 862, 1828, 1849, 11, 429, 2578, 21058, 264, 1352, 315, 20072, 5311, 476, 8286, 97787, 287, 30, 2521, 374, 432, 803, 911, 48547, 10909, 1091, 20072, 5311, 1939, 52592, 11, 9183, 10943, 12, 21, 15, 20, 320, 3599, 1276, 20016, 5311, 8, 1035, 387, 421, 807, 22040, 29282, 17289, 311, 23973, 13, 1988, 304, 419, 1142, 11, 279, 3359, 3171, 944, 14312, 20072, 22745, 547, 17360, 2293, 64837, 11, 432, 71171, 1105, 553, 1667, 264, 53891, 2331, 8056, 448, 16245, 8286, 13, 2055, 7196, 9572, 4093, 18768, 320, 5049, 10943, 12, 20, 23, 17, 8, 374, 803, 13382, 1588, 382, 14190, 11, 9183, 10943, 12, 21, 15, 16, 323, 220, 21, 15, 20, 525, 2176, 911, 20072, 5311, 13, 576, 5899, 12126, 33845, 429, 279, 30710, 28160, 279, 24586, 506, 10911, 52, 504, 8241, 2473, 311, 547, 17360, 304, 1181, 10191, 3082, 13, 2938, 594, 537, 14312, 20072, 5311, 714, 4751, 264, 84059, 3359, 2293, 704, 7196, 9572, 4093, 18768, 320, 5049, 10943, 12, 20, 23, 17, 8, 374, 803, 8311, 382, 13394, 11, 9183, 10943, 12, 21, 15, 19, 320, 58028, 26299, 20016, 5311, 8, 2578, 387, 9760, 421, 279, 895, 2331, 8056, 26057, 389, 17220, 26299, 33773, 11, 714, 506, 10911, 1093, 8776, 525, 11136, 34593, 13, 2055, 7241, 5189, 5937, 11, 4658, 537, 5871, 1588, 382, 4416, 73185, 25, 576, 1429, 2118, 9071, 1035, 387, 9183, 10943, 12, 21, 16, 22, 369, 279, 53891, 2331, 8056, 5086, 11, 323, 1221, 3797, 21415, 8985, 320, 5049, 10943, 12, 20, 24, 18, 8, 1576, 315, 9569, 69468, 13, 24572, 60911, 2914, 320, 5049, 10943, 12, 17, 22, 17, 8, 374, 1083, 9760, 438, 279, 3359, 2578, 21058, 1186, 49417, 11507, 31846, 311, 59749, 349, 264, 22745, 2331, 8056, 382, 49574, 11, 421, 279, 30710, 5711, 6961, 2615, 476, 43400, 7096, 11, 429, 1410, 28143, 311, 9183, 10943, 12, 16, 21, 16, 320, 97838, 60911, 2914, 568, 1988, 2474, 506, 10911, 1093, 594, 1787, 1422, 6039, 4943, 3643, 432, 8661, 369, 40965, 311, 19633, 304, 862, 5942, 2041, 32821, 311, 21893, 25476, 712, 448, 1449, 3692, 11, 7196, 537, 438, 9760, 7241, 807, 2299, 11689, 62514, 13737, 382, 14190, 11, 279, 5899, 12126, 33845, 2326, 25283, 25, 21415, 8985, 1422, 6039, 4943, 11, 1667, 43388, 506, 10911, 52, 11, 323, 6961, 2615, 13, 2055, 1817, 315, 1493, 2578, 7866, 311, 2155, 9183, 10943, 82, 1447, 16, 13, 67990, 8985, 1422, 6039, 4943, 320, 500, 35268, 1119, 6350, 3749, 8, 481, 1096, 374, 803, 911, 48547, 10909, 476, 6423, 287, 9442, 2293, 5049, 10943, 12, 20, 23, 17, 320, 4899, 4093, 18768, 4292, 17, 13, 12091, 264, 43388, 506, 10911, 52, 481, 1096, 17601, 4633, 2524, 315, 20006, 7096, 11, 892, 1410, 387, 3884, 438, 3797, 21415, 8985, 421, 807, 990, 432, 311, 59749, 349, 624, 18, 13, 27379, 2615, 481, 1096, 2578, 21058, 9183, 10943, 12, 19, 21, 21, 320, 43, 2054, 4118, 9905, 2410, 3004, 658, 8, 476, 3800, 5435, 311, 6961, 33686, 382, 3983, 3330, 518, 279, 3897, 1140, 11, 6857, 5961, 6286, 6961, 2615, 3650, 7196, 9183, 10943, 12, 16, 20, 22, 320, 20720, 3092, 287, 66142, 701, 714, 429, 594, 27879, 323, 3171, 944, 1373, 6961, 2615, 13, 38478, 11, 8365, 9183, 10943, 12, 17, 22, 17, 1410, 3796, 1588, 421, 807, 2299, 62514, 31785, 2337, 6961, 2615, 382, 14190, 11, 902, 2293, 46592, 2615, 374, 803, 911, 44471, 2615, 311, 7096, 320, 4803, 625, 35268, 1119, 279, 1422, 6039, 4943, 2041, 7882, 568, 2055, 7196, 44487, 60911, 2914, 320, 5049, 10943, 12, 16, 21, 16, 8, 16790, 1576, 807, 2299, 1667, 22745, 5675, 35663, 7096, 369, 38170, 9895, 13, 1988, 9183, 10943, 12, 16, 21, 16, 23497, 389, 62514, 29058, 315, 3922, 6605, 382, 92014, 11, 8365, 9183, 10943, 12, 19, 23, 22, 320, 1317, 5781, 56127, 8, 4436, 944, 5961, 9760, 1588, 7241, 279, 3359, 17601, 38162, 83988, 9442, 311, 23973, 10535, 2293, 55013, 304, 419, 1142, 382, 4416, 21080, 389, 279, 1429, 2118, 9071, 1447, 5049, 10943, 12, 21, 16, 22, 25, 49784, 2331, 8056, 624, 5049, 10943, 12, 17, 22, 17, 25, 24572, 33686, 369, 59749, 367, 624, 5049, 10943, 12, 20, 24, 18, 25, 9164, 21415, 8985, 553, 28639, 287, 39421, 624, 5049, 10943, 12, 20, 23, 17, 25, 9572, 60484, 311, 48547, 2133, 9442, 3123, 504, 22745, 13737, 382, 13394, 11, 9183, 10943, 12, 21, 15, 21, 320, 1654, 73362, 315, 87107, 62055, 8, 374, 5961, 9733, 304, 279, 5899, 12126, 438, 264, 3204, 15274, 2293, 41496, 547, 17360, 1119, 42283, 25463, 19777, 13, 2055, 429, 594, 2441, 9760, 825, 382, 14190, 11, 714, 1077, 752, 1779, 1817, 9144, 1549, 1447, 5049, 10943, 12, 21, 16, 22, 25, 7139, 398, 911, 53891, 2331, 17337, 624, 5049, 10943, 12, 17, 22, 17, 25, 24572, 33686, 311, 59749, 349, 476, 11596, 16893, 624, 5049, 10943, 12, 20, 24, 18, 25, 9164, 21415, 8985, 2293, 5342, 6132, 4541, 15704, 369, 44471, 2615, 624, 5049, 10943, 12, 21, 15, 21, 25, 1205, 73362, 25463, 11, 892, 374, 264, 3151, 3359, 4621, 9733, 382, 13394, 11, 9183, 10943, 12, 16, 20, 19, 320, 4783, 9866, 55949, 1055, 287, 8, 2578, 387, 9760, 421, 279, 30710, 21090, 1603, 547, 17360, 311, 4564, 311, 458, 72343, 1422, 6039, 4943, 3728, 13, 1988, 429, 594, 803, 911, 3590, 14667, 476, 87890, 287, 5101, 10468, 2293, 36760, 537, 438, 2118, 7241, 807, 2299, 1667, 12538, 1075, 13962, 27397, 8776, 389, 34593, 14155, 382, 14190, 11, 902, 21677, 5899, 374, 11689, 911, 264, 895, 2331, 8056, 3359, 4566, 506, 10911, 52, 21415, 8985, 14, 46592, 2615, 13, 2055, 279, 6028, 9183, 10943, 82, 525, 1846, 5435, 311, 53891, 2331, 17337, 323, 11507, 33686, 382, 4416, 54220, 25, 576, 1429, 9760, 1035, 387, 220, 21, 16, 22, 320, 11918, 361, 2331, 701, 220, 17, 22, 17, 320, 17014, 33686, 701, 220, 20, 24, 18, 320, 5920, 21415, 8985, 701, 220, 21, 15, 21, 320, 896, 73362, 25463, 568, 7281, 11, 8365, 6021, 60484, 320, 5049, 10943, 12, 20, 23, 17, 8, 1576, 279, 3359, 15048, 17601, 48547, 10909, 9442, 382, 3983, 1077, 752, 1490, 421, 1052, 594, 894, 1008, 9183, 10943, 429, 2578, 4946, 13, 1752, 3110, 11, 9183, 10943, 12, 16, 20, 22, 374, 911, 57287, 287, 8776, 2293, 6385, 533, 69468, 315, 821, 2041, 59823, 432, 13, 576, 5899, 33845, 69468, 323, 44471, 14849, 11, 773, 7196, 419, 16790, 438, 1632, 13, 1988, 2474, 279, 895, 2331, 8056, 3359, 22040, 5707, 264, 12418, 3720, 3749, 11, 8365, 3797, 21415, 8985, 320, 5049, 10943, 12, 20, 24, 18, 8, 476, 11507, 33686, 525, 803, 2118, 382, 92014, 11, 9183, 10943, 12, 21, 15, 16, 320, 64141, 5311, 8, 2578, 387, 9760, 421, 279, 30710, 374, 86743, 22745, 547, 17360, 6, 3633, 311, 862, 1828, 21271, 553, 97787, 287, 448, 17289, 13, 1988, 304, 419, 1142, 11, 432, 594, 537, 14312, 20072, 5311, 714, 4751, 264, 84059, 3359, 2293, 704, 7196, 9572, 4093, 18768, 320, 5049, 10943, 12, 20, 23, 17, 8, 14521, 429, 382, 4416, 1590, 4849, 25, 576, 1429, 9760, 9183, 10943, 28360, 525, 220, 21, 16, 22, 11, 220, 17, 22, 17, 11, 220, 20, 24, 18, 11, 323, 220, 21, 15, 21, 13, 4220, 5961, 2621, 279, 13566, 315, 53891, 2331, 17337, 11, 11507, 33686, 369, 59749, 367, 11, 3797, 21415, 8985, 4566, 9569, 27383, 11, 323, 82426, 25463, 86147, 6200, 6813, 315, 279, 895, 2331, 8056, 3359, 7481, 624, 151668, 198, 1183, 5049, 10943, 12, 21, 16, 22, 497, 330, 5049, 10943, 12, 17, 22, 17, 497, 330, 5049, 10943, 12, 20, 24, 18, 497, 330, 5049, 10943, 12, 21, 15, 21, 1341])\n"
     ]
    }
   ],
   "source": [
    "pprint(ask_ollama(prompt=prompt))"
   ]
  }
 ],
 "metadata": {
  "kernelspec": {
   "display_name": "MasterThesis_LLM_optimization_ORCA",
   "language": "python",
   "name": "python3"
  },
  "language_info": {
   "codemirror_mode": {
    "name": "ipython",
    "version": 3
   },
   "file_extension": ".py",
   "mimetype": "text/x-python",
   "name": "python",
   "nbconvert_exporter": "python",
   "pygments_lexer": "ipython3",
   "version": "3.13.2"
  }
 },
 "nbformat": 4,
 "nbformat_minor": 5
}
