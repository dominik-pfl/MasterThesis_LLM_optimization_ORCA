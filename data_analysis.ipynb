{
 "cells": [
  {
   "cell_type": "markdown",
   "id": "afcf284f",
   "metadata": {},
   "source": [
    "# CRISP DM\n"
   ]
  },
  {
   "cell_type": "markdown",
   "id": "ba15c3be",
   "metadata": {},
   "source": [
    "# Problem Understanding:\n",
    "A central step in the ORCA pipeline is the automated mapping of natural language threat\n",
    "descriptions to structured attack patterns from the Common Attack Pattern Enumeration\n",
    "and Classification (CAPEC) framework. This process—referred to as Threat-to-CAPEC\n",
    "Mapping—aims to translate unstructured textual threat inputs into standardized, machine-\n",
    "readable representations that describe how an attacker might exploit a given vulnerability.\n",
    "This mapping is critical for enabling further steps in the security analysis process, such\n",
    "as correlating threats with known vulnerabilities (CWEs, CVEs), assessing risk using\n",
    "scoring systems like CVSS, and informing mitigation strategies. However, the task poses\n",
    "several inherent challenges:\n",
    "Ambiguity: Threat descriptions are often informal, incomplete, or context-dependent.\n",
    "Terminology mismatch: Natural language inputs may not directly align with the technical\n",
    "vocabulary used in CAPEC definitions.\n",
    "Granularity: A single threat may correspond to multiple CAPECs at varying levels of\n",
    "abstraction, requiring semantic reasoning to determine relevance.\n",
    "Solving this problem involves designing a system capable of understanding the semantics\n",
    "of threat descriptions and reliably identifying the most appropriate CAPEC entries. This\n",
    "step must balance accuracy, scalability, and interpretability to support reliable, automated\n",
    "security assessments within the broader ORCA framework."
   ]
  },
  {
   "cell_type": "markdown",
   "id": "28377b02",
   "metadata": {},
   "source": [
    "# Data Understanding"
   ]
  },
  {
   "cell_type": "code",
   "execution_count": null,
   "id": "92b7bdae",
   "metadata": {},
   "outputs": [
    {
     "data": {
      "text/html": [
       "\n",
       "<style>\n",
       "/* White background for output area */\n",
       ".output_area {\n",
       "    background: white !important;\n",
       "    color: black !important;\n",
       "}\n",
       "\n",
       "/* Optional: White background for DataFrame cells */\n",
       ".dataframe {\n",
       "    background-color: white !important;\n",
       "    color: black !important;\n",
       "}\n",
       "</style>\n"
      ],
      "text/plain": [
       "<IPython.core.display.HTML object>"
      ]
     },
     "metadata": {},
     "output_type": "display_data"
    }
   ],
   "source": [
    "# imports\n",
    "import pandas as pd\n",
    "import json\n",
    "import re\n",
    "import time\n",
    "import ollama\n",
    "from IPython.display import HTML, display\n",
    "from git import Repo, InvalidGitRepositoryError\n",
    "import os\n",
    "import shutil\n",
    "\n",
    "from stix2 import FileSystemSource\n",
    "from stix2 import Filter\n",
    "\n",
    "from sentence_transformers import SentenceTransformer, util\n",
    "import torch\n",
    "import chromadb\n",
    "from chromadb import Documents, EmbeddingFunction, Embeddings\n",
    "\n",
    "import pprint\n",
    "from pprint import pprint\n",
    "\n",
    "from tqdm import tqdm\n",
    "from google import genai\n",
    "from google.genai import types\n",
    "\n",
    "from pprint import pprint\n",
    "\n",
    "from IPython.display import HTML, Markdown, display\n",
    "\n",
    "display(HTML('''\n",
    "<style>\n",
    "/* White background for output area */\n",
    ".output_area {\n",
    "    background: white !important;\n",
    "    color: black !important;\n",
    "}\n",
    "\n",
    "/* Optional: White background for DataFrame cells */\n",
    ".dataframe {\n",
    "    background-color: white !important;\n",
    "    color: black !important;\n",
    "}\n",
    "</style>\n",
    "'''))\n",
    "\n"
   ]
  },
  {
   "cell_type": "code",
   "execution_count": 2,
   "id": "5ce09cf6",
   "metadata": {},
   "outputs": [],
   "source": [
    "# setting display options for pandas\n",
    "pd.set_option('display.max_columns', None)\n",
    "pd.set_option('display.width', None)\n",
    "pd.set_option('display.max_colwidth', None)"
   ]
  },
  {
   "cell_type": "markdown",
   "id": "88e0f901",
   "metadata": {},
   "source": [
    "Import threat data from json file"
   ]
  },
  {
   "cell_type": "code",
   "execution_count": 3,
   "id": "852276b1",
   "metadata": {},
   "outputs": [
    {
     "data": {
      "text/html": [
       "<div>\n",
       "<style scoped>\n",
       "    .dataframe tbody tr th:only-of-type {\n",
       "        vertical-align: middle;\n",
       "    }\n",
       "\n",
       "    .dataframe tbody tr th {\n",
       "        vertical-align: top;\n",
       "    }\n",
       "\n",
       "    .dataframe thead th {\n",
       "        text-align: right;\n",
       "    }\n",
       "</style>\n",
       "<table border=\"1\" class=\"dataframe\">\n",
       "  <thead>\n",
       "    <tr style=\"text-align: right;\">\n",
       "      <th></th>\n",
       "      <th>Threat ID</th>\n",
       "      <th>Threat title</th>\n",
       "      <th>Threat Description</th>\n",
       "      <th>Threat type</th>\n",
       "      <th>Impact type</th>\n",
       "      <th>Threat agent</th>\n",
       "      <th>Vulnerability</th>\n",
       "      <th>Threatened Asset</th>\n",
       "      <th>Affected Components</th>\n",
       "    </tr>\n",
       "  </thead>\n",
       "  <tbody>\n",
       "    <tr>\n",
       "      <th>0</th>\n",
       "      <td>T-O-RAN-01</td>\n",
       "      <td>An attacker exploits insecure designs or lack of adaption in O-RAN components</td>\n",
       "      <td>Unauthenticated/unauthorized access to O-RAN components could possibly be achieved via the different O-RAN interfaces, depending upon the design of the hardware-software O-RAN system and how different functions are segregated within the O-RAN system. \\nO-RAN components might be vulnerable if: \\n• Outdated component from the lack of update or patch management,\\n• Poorly design architecture,\\n• Missing appropriate security hardening,\\n• Unnecessary or insecure function/protocol/component.\\nAn attacker could, in such case, either inject malwares and/or manipulate existing software, harm the O-RAN components, create a performance issue by manipulation of parameters, or reconfigure the O-RAN components and disable the security features with the purpose of eavesdropping or wiretapping on various CUS &amp; M planes, reaching northbound systems, attack broader network to cause denial-of-service, steal unprotected private keys, certificates, hash values, or other type of breaches.\\nIn addition, O-RAN components could be software providing network functions, so they are likely to be vulnerable to software flaws: it could be possible to bypass firewall restrictions or to take advantage of a buffer overflow to execute arbitrary commands, etc.</td>\n",
       "      <td>None</td>\n",
       "      <td>None</td>\n",
       "      <td>All</td>\n",
       "      <td>[Outdated component from the lack of update or patch management, Poorly design architecture, Missing appropriate security hardening, Unnecessary or insecure function/protocol/component]</td>\n",
       "      <td>All</td>\n",
       "      <td>All</td>\n",
       "    </tr>\n",
       "    <tr>\n",
       "      <th>1</th>\n",
       "      <td>T-O-RAN-02</td>\n",
       "      <td>An attacker exploits misconfigured or poorly configured O-RAN components</td>\n",
       "      <td>Unauthenticated/unauthorized access to O-RAN components could possibly be achieved via the different O-RAN interfaces, depending upon the configuration of the hardware-software O-RAN system. \\nO-RAN components might be vulnerable if: \\n• Errors from the lack of configuration change management,\\n• Misconfigured or poorly configured O-RAN components,\\n• Improperly configured permissions,\\n• Unnecessary features are enabled (e.g. unnecessary ports, services, accounts, or privileges),\\n• Default accounts and their passwords still enabled and unchanged,\\n• Security features are disabled or not configured securely.\\nAn attacker could, in such case, either inject malwares and/or manipulate existing software, harm the O-RAN components, create a performance issue by manipulation of parameters, or reconfigure the O-RAN components and disable the security features with the purpose of eavesdropping or wiretapping on various CUS &amp; M planes, reaching northbound systems, attack broader network to cause denial-of-service, steal unprotected private keys, certificates, hash values, or other type of breaches.</td>\n",
       "      <td>None</td>\n",
       "      <td>None</td>\n",
       "      <td>All</td>\n",
       "      <td>[Errors from the lack of configuration change management, Misconfigured or poorly configured O-RAN components, Improperly configured permissions, Unnecessary features are enabled (e.g. unnecessary ports, services, accounts, or privileges), Default accounts and their passwords still enabled and unchanged, Security features are disabled or not configured securely]</td>\n",
       "      <td>All</td>\n",
       "      <td>All</td>\n",
       "    </tr>\n",
       "    <tr>\n",
       "      <th>2</th>\n",
       "      <td>T-O-RAN-03</td>\n",
       "      <td>Attacks from the internet to penetrate O-RAN network boundary</td>\n",
       "      <td>Web servers serving O-RAN functional and management services should provide adequate protection. \\nAn attacker that have access to the uncontrolled O-RAN network could:\\n• Bypass the information flow control policy implemented by the firewall,\\n• And/or attack O-RAN components in the trusted networks by taking advantage of particularities and errors in the design and implementation of the network protocols (IP, TCP, UDP, application protocols),\\n• Use of incorrect or exceeded TCP sequence numbers,\\n• Perform brute force attacks on FTP passwords,\\n• Use of improper HTTP user sessions,\\n• Etc.\\nThe effects of such attacks may include:\\n• An intrusion, meaning unauthorized access to O-RAN components,\\n• Blocking, flooding or restarting an O-RAN component causing a denial of service,\\n• Flooding of network equipment, causing a denial of service,\\n• Etc.</td>\n",
       "      <td>None</td>\n",
       "      <td>None</td>\n",
       "      <td>All</td>\n",
       "      <td>[Errors in the design and implementation of the network protocols (HTTP, P, TCP, UDP, application protocols)]</td>\n",
       "      <td>All</td>\n",
       "      <td>All</td>\n",
       "    </tr>\n",
       "    <tr>\n",
       "      <th>3</th>\n",
       "      <td>T-O-RAN-04</td>\n",
       "      <td>An attacker attempts to jam the airlink signal through IoT devices</td>\n",
       "      <td>DDoS attacks on O-RAN systems: The 5G evolution means billions of things, collectively referred to as IoT, will be using the 5G O-RAN. Thus, IoT could increase the risk of O-RAN resource overload by way of DDoS attacks. Attackers create a botnet army by infecting many (millions/billions) IoT devices with a “remote-reboot” malware. Attackers instruct the malware to reboot all devices in a specific or targeted 5G coverage area at the same time.</td>\n",
       "      <td>None</td>\n",
       "      <td>None</td>\n",
       "      <td>All</td>\n",
       "      <td>[Failure to address overload situations]</td>\n",
       "      <td>ASSET-D-06, ASSET-D-18</td>\n",
       "      <td>O-RU, airlink with UE, O-DU</td>\n",
       "    </tr>\n",
       "    <tr>\n",
       "      <th>4</th>\n",
       "      <td>T-O-RAN-05</td>\n",
       "      <td>An attacker penetrates and compromises the O-RAN system through the open O-RAN’s Fronthaul, O1, O2, A1, and E2</td>\n",
       "      <td>O-RAN’s Fronthaul, O1, O2, A1, and E2 management interfaces are the new open interfaces that allow software programmability of RAN. These interfaces may not be secured to industry best practices.\\nO-RAN components might be vulnerable if: \\n• Improper or missing authentication and authorization processes,\\n• Improper or missing ciphering and integrity checks of sensitive data exchanged over O-RAN interfaces,\\n• Improper or missing replay protection of sensitive data exchanged over O-RAN interfaces,\\n• Improper prevention of key reuse,\\n• Improper implementation,\\n• Improperly validate inputs, respond to error conditions in both the submitted data as well as out of sequence protocol steps.\\nAn attacker could, in such case, cause denial-of-service, data tampering or information disclosure, etc.\\nNOTE: O-RAN interfaces allow use of TLS or SSH. Industry best practices mandate the use of TLS (v1.2 or higher) or SSH certificate-based authentication. An implementation that implements TLS version lower than 1.2 or a SSH password authentication, may become the key source of vulnerability that a malicious code will exploit to compromise the O-RAN system.</td>\n",
       "      <td>None</td>\n",
       "      <td>None</td>\n",
       "      <td>All</td>\n",
       "      <td>[Improper or missing authentication and authorization processes, Improper prevention of key reuse, Improper or missing replay protection of sensitive data exchanged over O-RAN interfaces, Improper or missing ciphering and integrity checks of sensitive data exchanged over O-RAN interfaces]</td>\n",
       "      <td>All</td>\n",
       "      <td>rApps, xApps, O-RU, O-DU, O-CU, Near-RT RIC, Non-RT RIC</td>\n",
       "    </tr>\n",
       "  </tbody>\n",
       "</table>\n",
       "</div>"
      ],
      "text/plain": [
       "    Threat ID  \\\n",
       "0  T-O-RAN-01   \n",
       "1  T-O-RAN-02   \n",
       "2  T-O-RAN-03   \n",
       "3  T-O-RAN-04   \n",
       "4  T-O-RAN-05   \n",
       "\n",
       "                                                                                                     Threat title  \\\n",
       "0                                   An attacker exploits insecure designs or lack of adaption in O-RAN components   \n",
       "1                                        An attacker exploits misconfigured or poorly configured O-RAN components   \n",
       "2                                                   Attacks from the internet to penetrate O-RAN network boundary   \n",
       "3                                              An attacker attempts to jam the airlink signal through IoT devices   \n",
       "4  An attacker penetrates and compromises the O-RAN system through the open O-RAN’s Fronthaul, O1, O2, A1, and E2   \n",
       "\n",
       "                                                                                                                                                                                                                                                                                                                                                                                                                                                                                                                                                                                                                                                                                                                                                                                                                                                                                                                                                                                                                                                                                                                                                                                                                                                                               Threat Description  \\\n",
       "0  Unauthenticated/unauthorized access to O-RAN components could possibly be achieved via the different O-RAN interfaces, depending upon the design of the hardware-software O-RAN system and how different functions are segregated within the O-RAN system. \\nO-RAN components might be vulnerable if: \\n• Outdated component from the lack of update or patch management,\\n• Poorly design architecture,\\n• Missing appropriate security hardening,\\n• Unnecessary or insecure function/protocol/component.\\nAn attacker could, in such case, either inject malwares and/or manipulate existing software, harm the O-RAN components, create a performance issue by manipulation of parameters, or reconfigure the O-RAN components and disable the security features with the purpose of eavesdropping or wiretapping on various CUS & M planes, reaching northbound systems, attack broader network to cause denial-of-service, steal unprotected private keys, certificates, hash values, or other type of breaches.\\nIn addition, O-RAN components could be software providing network functions, so they are likely to be vulnerable to software flaws: it could be possible to bypass firewall restrictions or to take advantage of a buffer overflow to execute arbitrary commands, etc.   \n",
       "1                                                                                                                                             Unauthenticated/unauthorized access to O-RAN components could possibly be achieved via the different O-RAN interfaces, depending upon the configuration of the hardware-software O-RAN system. \\nO-RAN components might be vulnerable if: \\n• Errors from the lack of configuration change management,\\n• Misconfigured or poorly configured O-RAN components,\\n• Improperly configured permissions,\\n• Unnecessary features are enabled (e.g. unnecessary ports, services, accounts, or privileges),\\n• Default accounts and their passwords still enabled and unchanged,\\n• Security features are disabled or not configured securely.\\nAn attacker could, in such case, either inject malwares and/or manipulate existing software, harm the O-RAN components, create a performance issue by manipulation of parameters, or reconfigure the O-RAN components and disable the security features with the purpose of eavesdropping or wiretapping on various CUS & M planes, reaching northbound systems, attack broader network to cause denial-of-service, steal unprotected private keys, certificates, hash values, or other type of breaches.   \n",
       "2                                                                                                                                                                                                                                                                                                                                                                                                   Web servers serving O-RAN functional and management services should provide adequate protection. \\nAn attacker that have access to the uncontrolled O-RAN network could:\\n• Bypass the information flow control policy implemented by the firewall,\\n• And/or attack O-RAN components in the trusted networks by taking advantage of particularities and errors in the design and implementation of the network protocols (IP, TCP, UDP, application protocols),\\n• Use of incorrect or exceeded TCP sequence numbers,\\n• Perform brute force attacks on FTP passwords,\\n• Use of improper HTTP user sessions,\\n• Etc.\\nThe effects of such attacks may include:\\n• An intrusion, meaning unauthorized access to O-RAN components,\\n• Blocking, flooding or restarting an O-RAN component causing a denial of service,\\n• Flooding of network equipment, causing a denial of service,\\n• Etc.   \n",
       "3                                                                                                                                                                                                                                                                                                                                                                                                                                                                                                                                                                                                                                                                                                                                                                                                                                  DDoS attacks on O-RAN systems: The 5G evolution means billions of things, collectively referred to as IoT, will be using the 5G O-RAN. Thus, IoT could increase the risk of O-RAN resource overload by way of DDoS attacks. Attackers create a botnet army by infecting many (millions/billions) IoT devices with a “remote-reboot” malware. Attackers instruct the malware to reboot all devices in a specific or targeted 5G coverage area at the same time.   \n",
       "4                                                                                       O-RAN’s Fronthaul, O1, O2, A1, and E2 management interfaces are the new open interfaces that allow software programmability of RAN. These interfaces may not be secured to industry best practices.\\nO-RAN components might be vulnerable if: \\n• Improper or missing authentication and authorization processes,\\n• Improper or missing ciphering and integrity checks of sensitive data exchanged over O-RAN interfaces,\\n• Improper or missing replay protection of sensitive data exchanged over O-RAN interfaces,\\n• Improper prevention of key reuse,\\n• Improper implementation,\\n• Improperly validate inputs, respond to error conditions in both the submitted data as well as out of sequence protocol steps.\\nAn attacker could, in such case, cause denial-of-service, data tampering or information disclosure, etc.\\nNOTE: O-RAN interfaces allow use of TLS or SSH. Industry best practices mandate the use of TLS (v1.2 or higher) or SSH certificate-based authentication. An implementation that implements TLS version lower than 1.2 or a SSH password authentication, may become the key source of vulnerability that a malicious code will exploit to compromise the O-RAN system.   \n",
       "\n",
       "  Threat type Impact type Threat agent  \\\n",
       "0        None        None          All   \n",
       "1        None        None          All   \n",
       "2        None        None          All   \n",
       "3        None        None          All   \n",
       "4        None        None          All   \n",
       "\n",
       "                                                                                                                                                                                                                                                                                                                                                                  Vulnerability  \\\n",
       "0                                                                                                                                                                                     [Outdated component from the lack of update or patch management, Poorly design architecture, Missing appropriate security hardening, Unnecessary or insecure function/protocol/component]   \n",
       "1  [Errors from the lack of configuration change management, Misconfigured or poorly configured O-RAN components, Improperly configured permissions, Unnecessary features are enabled (e.g. unnecessary ports, services, accounts, or privileges), Default accounts and their passwords still enabled and unchanged, Security features are disabled or not configured securely]   \n",
       "2                                                                                                                                                                                                                                                                 [Errors in the design and implementation of the network protocols (HTTP, P, TCP, UDP, application protocols)]   \n",
       "3                                                                                                                                                                                                                                                                                                                                      [Failure to address overload situations]   \n",
       "4                                                                             [Improper or missing authentication and authorization processes, Improper prevention of key reuse, Improper or missing replay protection of sensitive data exchanged over O-RAN interfaces, Improper or missing ciphering and integrity checks of sensitive data exchanged over O-RAN interfaces]   \n",
       "\n",
       "         Threatened Asset  \\\n",
       "0                     All   \n",
       "1                     All   \n",
       "2                     All   \n",
       "3  ASSET-D-06, ASSET-D-18   \n",
       "4                     All   \n",
       "\n",
       "                                       Affected Components  \n",
       "0                                                      All  \n",
       "1                                                      All  \n",
       "2                                                      All  \n",
       "3                              O-RU, airlink with UE, O-DU  \n",
       "4  rApps, xApps, O-RU, O-DU, O-CU, Near-RT RIC, Non-RT RIC  "
      ]
     },
     "execution_count": 3,
     "metadata": {},
     "output_type": "execute_result"
    }
   ],
   "source": [
    "# Load threat data from JSON file into a DataFrame\n",
    "df_threats = pd.read_json('threat_data/all_threats.json')\n",
    "df_threats.head(5)"
   ]
  },
  {
   "cell_type": "code",
   "execution_count": 4,
   "id": "0fde54f2",
   "metadata": {},
   "outputs": [
    {
     "name": "stdout",
     "output_type": "stream",
     "text": [
      "<class 'pandas.core.frame.DataFrame'>\n",
      "RangeIndex: 182 entries, 0 to 181\n",
      "Data columns (total 9 columns):\n",
      " #   Column               Non-Null Count  Dtype \n",
      "---  ------               --------------  ----- \n",
      " 0   Threat ID            182 non-null    object\n",
      " 1   Threat title         182 non-null    object\n",
      " 2   Threat Description   182 non-null    object\n",
      " 3   Threat type          82 non-null     object\n",
      " 4   Impact type          82 non-null     object\n",
      " 5   Threat agent         182 non-null    object\n",
      " 6   Vulnerability        182 non-null    object\n",
      " 7   Threatened Asset     182 non-null    object\n",
      " 8   Affected Components  182 non-null    object\n",
      "dtypes: object(9)\n",
      "memory usage: 12.9+ KB\n"
     ]
    }
   ],
   "source": [
    "# Display DataFrame information\n",
    "df_threats.info()"
   ]
  },
  {
   "cell_type": "markdown",
   "id": "1be67c75",
   "metadata": {},
   "source": [
    "There a 182 threats in 9 columns, each threat has a unique ID, a title, a description, a threat type, an impact type, a threat agent, one or more vulnerabilities (safed in a list), a threatened asset and a affected component"
   ]
  },
  {
   "cell_type": "code",
   "execution_count": 5,
   "id": "a797c421",
   "metadata": {},
   "outputs": [
    {
     "data": {
      "text/html": [
       "<div>\n",
       "<style scoped>\n",
       "    .dataframe tbody tr th:only-of-type {\n",
       "        vertical-align: middle;\n",
       "    }\n",
       "\n",
       "    .dataframe tbody tr th {\n",
       "        vertical-align: top;\n",
       "    }\n",
       "\n",
       "    .dataframe thead th {\n",
       "        text-align: right;\n",
       "    }\n",
       "</style>\n",
       "<table border=\"1\" class=\"dataframe\">\n",
       "  <thead>\n",
       "    <tr style=\"text-align: right;\">\n",
       "      <th></th>\n",
       "      <th>Threat ID</th>\n",
       "      <th>Threat title</th>\n",
       "      <th>Threat Description</th>\n",
       "      <th>Threat type</th>\n",
       "      <th>Impact type</th>\n",
       "      <th>Threat agent</th>\n",
       "      <th>Vulnerability</th>\n",
       "      <th>Threatened Asset</th>\n",
       "      <th>Affected Components</th>\n",
       "    </tr>\n",
       "  </thead>\n",
       "  <tbody>\n",
       "    <tr>\n",
       "      <th>count</th>\n",
       "      <td>182</td>\n",
       "      <td>182</td>\n",
       "      <td>182</td>\n",
       "      <td>82</td>\n",
       "      <td>82</td>\n",
       "      <td>182</td>\n",
       "      <td>182</td>\n",
       "      <td>182</td>\n",
       "      <td>182</td>\n",
       "    </tr>\n",
       "    <tr>\n",
       "      <th>unique</th>\n",
       "      <td>182</td>\n",
       "      <td>181</td>\n",
       "      <td>182</td>\n",
       "      <td>16</td>\n",
       "      <td>17</td>\n",
       "      <td>2</td>\n",
       "      <td>116</td>\n",
       "      <td>58</td>\n",
       "      <td>55</td>\n",
       "    </tr>\n",
       "    <tr>\n",
       "      <th>top</th>\n",
       "      <td>T-O-RAN-01</td>\n",
       "      <td>External attacker exploits authentication weakness on SMO</td>\n",
       "      <td>Unauthenticated/unauthorized access to O-RAN components could possibly be achieved via the different O-RAN interfaces, depending upon the design of the hardware-software O-RAN system and how different functions are segregated within the O-RAN system. \\nO-RAN components might be vulnerable if: \\n• Outdated component from the lack of update or patch management,\\n• Poorly design architecture,\\n• Missing appropriate security hardening,\\n• Unnecessary or insecure function/protocol/component.\\nAn attacker could, in such case, either inject malwares and/or manipulate existing software, harm the O-RAN components, create a performance issue by manipulation of parameters, or reconfigure the O-RAN components and disable the security features with the purpose of eavesdropping or wiretapping on various CUS &amp; M planes, reaching northbound systems, attack broader network to cause denial-of-service, steal unprotected private keys, certificates, hash values, or other type of breaches.\\nIn addition, O-RAN components could be software providing network functions, so they are likely to be vulnerable to software flaws: it could be possible to bypass firewall restrictions or to take advantage of a buffer overflow to execute arbitrary commands, etc.</td>\n",
       "      <td>Spoofing</td>\n",
       "      <td>Authenticity</td>\n",
       "      <td>All</td>\n",
       "      <td>[weak mutual authentication]</td>\n",
       "      <td>ASSET-D-12, ASSET-D-13, ASSET-D-14, ASSET-D-15, ASSET-D-16, ASSET-D-17, ASSET-D-18, ASSET-D-19, ASSET-D-20, ASSET-D-29, ASSET-D-31, ASSET-D-32</td>\n",
       "      <td>All</td>\n",
       "    </tr>\n",
       "    <tr>\n",
       "      <th>freq</th>\n",
       "      <td>1</td>\n",
       "      <td>2</td>\n",
       "      <td>1</td>\n",
       "      <td>28</td>\n",
       "      <td>26</td>\n",
       "      <td>178</td>\n",
       "      <td>12</td>\n",
       "      <td>24</td>\n",
       "      <td>19</td>\n",
       "    </tr>\n",
       "  </tbody>\n",
       "</table>\n",
       "</div>"
      ],
      "text/plain": [
       "         Threat ID                                               Threat title  \\\n",
       "count          182                                                        182   \n",
       "unique         182                                                        181   \n",
       "top     T-O-RAN-01  External attacker exploits authentication weakness on SMO   \n",
       "freq             1                                                          2   \n",
       "\n",
       "                                                                                                                                                                                                                                                                                                                                                                                                                                                                                                                                                                                                                                                                                                                                                                                                                                                                                                                                                                                                                                                                                                                                                                                                                                                                                    Threat Description  \\\n",
       "count                                                                                                                                                                                                                                                                                                                                                                                                                                                                                                                                                                                                                                                                                                                                                                                                                                                                                                                                                                                                                                                                                                                                                                                                                                                                                              182   \n",
       "unique                                                                                                                                                                                                                                                                                                                                                                                                                                                                                                                                                                                                                                                                                                                                                                                                                                                                                                                                                                                                                                                                                                                                                                                                                                                                                             182   \n",
       "top     Unauthenticated/unauthorized access to O-RAN components could possibly be achieved via the different O-RAN interfaces, depending upon the design of the hardware-software O-RAN system and how different functions are segregated within the O-RAN system. \\nO-RAN components might be vulnerable if: \\n• Outdated component from the lack of update or patch management,\\n• Poorly design architecture,\\n• Missing appropriate security hardening,\\n• Unnecessary or insecure function/protocol/component.\\nAn attacker could, in such case, either inject malwares and/or manipulate existing software, harm the O-RAN components, create a performance issue by manipulation of parameters, or reconfigure the O-RAN components and disable the security features with the purpose of eavesdropping or wiretapping on various CUS & M planes, reaching northbound systems, attack broader network to cause denial-of-service, steal unprotected private keys, certificates, hash values, or other type of breaches.\\nIn addition, O-RAN components could be software providing network functions, so they are likely to be vulnerable to software flaws: it could be possible to bypass firewall restrictions or to take advantage of a buffer overflow to execute arbitrary commands, etc.   \n",
       "freq                                                                                                                                                                                                                                                                                                                                                                                                                                                                                                                                                                                                                                                                                                                                                                                                                                                                                                                                                                                                                                                                                                                                                                                                                                                                                                 1   \n",
       "\n",
       "       Threat type   Impact type Threat agent                 Vulnerability  \\\n",
       "count           82            82          182                           182   \n",
       "unique          16            17            2                           116   \n",
       "top       Spoofing  Authenticity          All  [weak mutual authentication]   \n",
       "freq            28            26          178                            12   \n",
       "\n",
       "                                                                                                                                      Threatened Asset  \\\n",
       "count                                                                                                                                              182   \n",
       "unique                                                                                                                                              58   \n",
       "top     ASSET-D-12, ASSET-D-13, ASSET-D-14, ASSET-D-15, ASSET-D-16, ASSET-D-17, ASSET-D-18, ASSET-D-19, ASSET-D-20, ASSET-D-29, ASSET-D-31, ASSET-D-32   \n",
       "freq                                                                                                                                                24   \n",
       "\n",
       "       Affected Components  \n",
       "count                  182  \n",
       "unique                  55  \n",
       "top                    All  \n",
       "freq                    19  "
      ]
     },
     "execution_count": 5,
     "metadata": {},
     "output_type": "execute_result"
    }
   ],
   "source": [
    "df_threats.describe()"
   ]
  },
  {
   "cell_type": "code",
   "execution_count": 6,
   "id": "ec02ea7c",
   "metadata": {},
   "outputs": [
    {
     "data": {
      "text/plain": [
       "Threat ID                0\n",
       "Threat title             0\n",
       "Threat Description       0\n",
       "Threat type            100\n",
       "Impact type            100\n",
       "Threat agent             0\n",
       "Vulnerability            0\n",
       "Threatened Asset         0\n",
       "Affected Components      0\n",
       "dtype: int64"
      ]
     },
     "execution_count": 6,
     "metadata": {},
     "output_type": "execute_result"
    }
   ],
   "source": [
    "df_threats.isnull().sum()"
   ]
  },
  {
   "cell_type": "code",
   "execution_count": 7,
   "id": "6bbf2588",
   "metadata": {},
   "outputs": [
    {
     "data": {
      "text/plain": [
       "Index(['Threat ID', 'Threat title', 'Threat Description', 'Threat type',\n",
       "       'Impact type', 'Threat agent', 'Vulnerability', 'Threatened Asset',\n",
       "       'Affected Components'],\n",
       "      dtype='object')"
      ]
     },
     "execution_count": 7,
     "metadata": {},
     "output_type": "execute_result"
    }
   ],
   "source": [
    "df_threats.columns"
   ]
  },
  {
   "cell_type": "code",
   "execution_count": 8,
   "id": "631fabe7",
   "metadata": {},
   "outputs": [
    {
     "data": {
      "text/html": [
       "<div>\n",
       "<style scoped>\n",
       "    .dataframe tbody tr th:only-of-type {\n",
       "        vertical-align: middle;\n",
       "    }\n",
       "\n",
       "    .dataframe tbody tr th {\n",
       "        vertical-align: top;\n",
       "    }\n",
       "\n",
       "    .dataframe thead th {\n",
       "        text-align: right;\n",
       "    }\n",
       "</style>\n",
       "<table border=\"1\" class=\"dataframe\">\n",
       "  <thead>\n",
       "    <tr style=\"text-align: right;\">\n",
       "      <th></th>\n",
       "      <th>Threat type</th>\n",
       "      <th>count</th>\n",
       "    </tr>\n",
       "  </thead>\n",
       "  <tbody>\n",
       "    <tr>\n",
       "      <th>0</th>\n",
       "      <td>Spoofing</td>\n",
       "      <td>28</td>\n",
       "    </tr>\n",
       "    <tr>\n",
       "      <th>1</th>\n",
       "      <td>Denial of Service</td>\n",
       "      <td>11</td>\n",
       "    </tr>\n",
       "    <tr>\n",
       "      <th>2</th>\n",
       "      <td>Elevation of Privilege</td>\n",
       "      <td>10</td>\n",
       "    </tr>\n",
       "    <tr>\n",
       "      <th>3</th>\n",
       "      <td>Information Disclosure</td>\n",
       "      <td>9</td>\n",
       "    </tr>\n",
       "    <tr>\n",
       "      <th>4</th>\n",
       "      <td>Tampering</td>\n",
       "      <td>8</td>\n",
       "    </tr>\n",
       "    <tr>\n",
       "      <th>5</th>\n",
       "      <td>Information disclosure</td>\n",
       "      <td>4</td>\n",
       "    </tr>\n",
       "    <tr>\n",
       "      <th>6</th>\n",
       "      <td>Tampering; Denial of Service</td>\n",
       "      <td>2</td>\n",
       "    </tr>\n",
       "    <tr>\n",
       "      <th>7</th>\n",
       "      <td>Elevation of Privilege, Information Disclosure</td>\n",
       "      <td>2</td>\n",
       "    </tr>\n",
       "    <tr>\n",
       "      <th>8</th>\n",
       "      <td>Elevation of Privilege; Denial of Service</td>\n",
       "      <td>1</td>\n",
       "    </tr>\n",
       "    <tr>\n",
       "      <th>9</th>\n",
       "      <td>Denial of Service, Escalation of Privilege</td>\n",
       "      <td>1</td>\n",
       "    </tr>\n",
       "    <tr>\n",
       "      <th>10</th>\n",
       "      <td>Denial of Service, Information Disclosure</td>\n",
       "      <td>1</td>\n",
       "    </tr>\n",
       "    <tr>\n",
       "      <th>11</th>\n",
       "      <td>Denial of Service; Tampering</td>\n",
       "      <td>1</td>\n",
       "    </tr>\n",
       "    <tr>\n",
       "      <th>12</th>\n",
       "      <td>Information disclosure, Tampering</td>\n",
       "      <td>1</td>\n",
       "    </tr>\n",
       "    <tr>\n",
       "      <th>13</th>\n",
       "      <td>Information Disclosure, Denial of Service</td>\n",
       "      <td>1</td>\n",
       "    </tr>\n",
       "    <tr>\n",
       "      <th>14</th>\n",
       "      <td>Tampering, Information Disclosure, Escalation of Privilege</td>\n",
       "      <td>1</td>\n",
       "    </tr>\n",
       "    <tr>\n",
       "      <th>15</th>\n",
       "      <td>Tampering; Elevation of Privilege; Denial of Service</td>\n",
       "      <td>1</td>\n",
       "    </tr>\n",
       "  </tbody>\n",
       "</table>\n",
       "</div>"
      ],
      "text/plain": [
       "                                                   Threat type  count\n",
       "0                                                     Spoofing     28\n",
       "1                                            Denial of Service     11\n",
       "2                                       Elevation of Privilege     10\n",
       "3                                       Information Disclosure      9\n",
       "4                                                    Tampering      8\n",
       "5                                       Information disclosure      4\n",
       "6                                 Tampering; Denial of Service      2\n",
       "7               Elevation of Privilege, Information Disclosure      2\n",
       "8                    Elevation of Privilege; Denial of Service      1\n",
       "9                   Denial of Service, Escalation of Privilege      1\n",
       "10                   Denial of Service, Information Disclosure      1\n",
       "11                                Denial of Service; Tampering      1\n",
       "12                           Information disclosure, Tampering      1\n",
       "13                   Information Disclosure, Denial of Service      1\n",
       "14  Tampering, Information Disclosure, Escalation of Privilege      1\n",
       "15        Tampering; Elevation of Privilege; Denial of Service      1"
      ]
     },
     "execution_count": 8,
     "metadata": {},
     "output_type": "execute_result"
    }
   ],
   "source": [
    "df_threats.groupby('Threat type').size().reset_index(name='count').sort_values(by='count', ascending=False).reset_index(drop=True)"
   ]
  },
  {
   "cell_type": "code",
   "execution_count": 9,
   "id": "31b6e9b3",
   "metadata": {},
   "outputs": [
    {
     "data": {
      "text/plain": [
       "np.True_"
      ]
     },
     "execution_count": 9,
     "metadata": {},
     "output_type": "execute_result"
    }
   ],
   "source": [
    "(df_threats['Threat type'].isnull() == df_threats['Impact type'].isnull()).all()\n"
   ]
  },
  {
   "cell_type": "code",
   "execution_count": 10,
   "id": "d9c8d7d8",
   "metadata": {},
   "outputs": [
    {
     "data": {
      "text/plain": [
       "Threat type\n",
       "None                                                          52\n",
       "NaN                                                           48\n",
       "Spoofing                                                      28\n",
       "Denial of Service                                             11\n",
       "Elevation of Privilege                                        10\n",
       "Information Disclosure                                         9\n",
       "Tampering                                                      8\n",
       "Information disclosure                                         4\n",
       "Elevation of Privilege, Information Disclosure                 2\n",
       "Tampering; Denial of Service                                   2\n",
       "Information disclosure, Tampering                              1\n",
       "Tampering, Information Disclosure, Escalation of Privilege     1\n",
       "Denial of Service, Escalation of Privilege                     1\n",
       "Denial of Service; Tampering                                   1\n",
       "Elevation of Privilege; Denial of Service                      1\n",
       "Tampering; Elevation of Privilege; Denial of Service           1\n",
       "Denial of Service, Information Disclosure                      1\n",
       "Information Disclosure, Denial of Service                      1\n",
       "Name: count, dtype: int64"
      ]
     },
     "execution_count": 10,
     "metadata": {},
     "output_type": "execute_result"
    }
   ],
   "source": [
    "df_threats['Threat type'].value_counts(dropna=False)"
   ]
  },
  {
   "cell_type": "code",
   "execution_count": 11,
   "id": "2ac5ec87",
   "metadata": {},
   "outputs": [
    {
     "data": {
      "text/plain": [
       "Impact type\n",
       "None                                         52\n",
       "NaN                                          48\n",
       "Authenticity                                 26\n",
       "Confidentiality                              14\n",
       "Availability                                 12\n",
       "Authorization                                 9\n",
       "Integrity                                     7\n",
       "Authentication                                2\n",
       "Integrity; Availability                       2\n",
       "Authorization. Confidentiality                1\n",
       "Integrity, Confidentiality, Authorization     1\n",
       "Availability; Integrity                       1\n",
       "Confidentiality, Integrity                    1\n",
       "Authorization; Availability                   1\n",
       "Integrity; Authorization; Availability        1\n",
       "Integrity, Availability                       1\n",
       "Availability, Confidentiality                 1\n",
       "Confidentiality, Availability                 1\n",
       "Authorization, Availability                   1\n",
       "Name: count, dtype: int64"
      ]
     },
     "execution_count": 11,
     "metadata": {},
     "output_type": "execute_result"
    }
   ],
   "source": [
    "df_threats['Impact type'].value_counts(dropna=False)"
   ]
  },
  {
   "cell_type": "code",
   "execution_count": 12,
   "id": "d64cb17d",
   "metadata": {},
   "outputs": [
    {
     "data": {
      "text/plain": [
       "Vulnerability\n",
       "[weak mutual authentication]                                                                                                                                                                                                                                                     12\n",
       "[Weak authentication can be exploited by a tenant to move laterally across the deployment.]                                                                                                                                                                                       9\n",
       "[Lack of integrity verification]                                                                                                                                                                                                                                                  5\n",
       "[Lack of overload protection and rate-limiting]                                                                                                                                                                                                                                   5\n",
       "[Weak confidentiality protection exploited to view sensitive data]                                                                                                                                                                                                                5\n",
       "                                                                                                                                                                                                                                                                                 ..\n",
       "[Inaccurate inventories of open-source software, Lack of consistent Supply Chain traceability and security, Lack of coding best practices, Modules with known vulnerabilities and untrusted libraries]                                                                            1\n",
       "[Improper physical security protection of data centres, PNFs, operation areas, etc., Improper protection to power outages (power supply), Improper protection against environmental disasters, Improper maintenance and monitoring of hardware parameters, Hardware backdoor]     1\n",
       "[Bugs in open source software caused by mistakes and human error]                                                                                                                                                                                                                 1\n",
       "[Physical access to the open Fronthaul cable network]                                                                                                                                                                                                                             1\n",
       "[Use of pretrained public ML model]                                                                                                                                                                                                                                               1\n",
       "Name: count, Length: 116, dtype: int64"
      ]
     },
     "execution_count": 12,
     "metadata": {},
     "output_type": "execute_result"
    }
   ],
   "source": [
    "df_threats['Vulnerability'].value_counts(dropna=False)"
   ]
  },
  {
   "cell_type": "markdown",
   "id": "027323c9",
   "metadata": {},
   "source": [
    "## Distribution Analysis\n"
   ]
  },
  {
   "cell_type": "code",
   "execution_count": 13,
   "id": "ec629f4c",
   "metadata": {},
   "outputs": [],
   "source": [
    "# some threat types as well as impact types are seperated by a comma, while others are seperated by a semicolon or a point\n",
    "# Replace all semicolons with commas\n",
    "df_threats['Threat type'] = df_threats['Threat type'].str.replace(';', ',', regex=False)\n",
    "df_threats['Threat type'] = df_threats['Threat type'].str.replace('.', ',', regex=False)\n",
    "df_threats['Impact type'] = df_threats['Impact type'].str.replace(';', ',', regex=False)\n",
    "df_threats['Impact type'] = df_threats['Impact type'].str.replace('.', ',', regex=False)\n",
    "# in the Threatened asssets column, some values have a underscore instead of a dash\n",
    "df_threats['Threatened Asset'] = df_threats['Threatened Asset'].str.replace('_', '-', regex=False)"
   ]
  },
  {
   "cell_type": "code",
   "execution_count": 14,
   "id": "e72a3e57",
   "metadata": {},
   "outputs": [],
   "source": [
    "# removing leading and trailing whitespace from the 'Threat type','Impact type','Threatened asset' and 'Affected components' columns\n",
    "df_threats['Threat type'] = df_threats['Threat type'].apply(\n",
    "    lambda x: [t.strip() for t in x.split(',')] if isinstance(x, str) else x\n",
    ")\n",
    "df_threats['Impact type'] = df_threats['Impact type'].apply(\n",
    "    lambda x: [t.strip() for t in x.split(',')] if isinstance(x, str) else x\n",
    ")\n",
    "df_threats['Threatened Asset'] = df_threats['Threatened Asset'].apply(\n",
    "    lambda x: [t.strip() for t in x.split(',')] if isinstance(x, str) else x\n",
    ")\n",
    "df_threats['Affected Components'] = df_threats['Affected Components'].apply(\n",
    "    lambda x: [t.strip() for t in x.split(',')] if isinstance(x, str) else x\n",
    ")\n",
    "# the vulnerability column contains a list with only one string element\n",
    "# this string contains multpile vulnerabilities separated by commas\n",
    "# we convert the list to this one string element and then split the string by commas\n",
    "df_threats['Vulnerability'] = df_threats['Vulnerability'].apply(lambda x: x[0] if isinstance(x, list) else x)\n",
    "df_threats['Vulnerability'] = df_threats['Vulnerability'].apply(\n",
    "    lambda x: [t.strip() for t in x.split(',')] if isinstance(x, str) else x\n",
    ")"
   ]
  },
  {
   "cell_type": "code",
   "execution_count": 15,
   "id": "70860c6b",
   "metadata": {},
   "outputs": [
    {
     "name": "stdout",
     "output_type": "stream",
     "text": [
      "['ASSET D-11',\n",
      " 'ASSET D-20',\n",
      " 'ASSET D-21',\n",
      " 'ASSET-C-02',\n",
      " 'ASSET-C-03',\n",
      " 'ASSET-C-07',\n",
      " 'ASSET-C-08',\n",
      " 'ASSET-C-09',\n",
      " 'ASSET-C-1',\n",
      " 'ASSET-C-10',\n",
      " 'ASSET-C-11',\n",
      " 'ASSET-C-12',\n",
      " 'ASSET-C-14',\n",
      " 'ASSET-C-16',\n",
      " 'ASSET-C-17',\n",
      " 'ASSET-C-18',\n",
      " 'ASSET-C-19',\n",
      " 'ASSET-C-2',\n",
      " 'ASSET-C-20',\n",
      " 'ASSET-C-21',\n",
      " 'ASSET-C-22',\n",
      " 'ASSET-C-23',\n",
      " 'ASSET-C-24',\n",
      " 'ASSET-C-25',\n",
      " 'ASSET-C-26',\n",
      " 'ASSET-C-27',\n",
      " 'ASSET-C-28',\n",
      " 'ASSET-C-3',\n",
      " 'ASSET-C-31',\n",
      " 'ASSET-C-32',\n",
      " 'ASSET-C-33',\n",
      " 'ASSET-C-34',\n",
      " 'ASSET-C-35',\n",
      " 'ASSET-C-36',\n",
      " 'ASSET-C-37',\n",
      " 'ASSET-C-38',\n",
      " 'ASSET-C-39',\n",
      " 'ASSET-C-4',\n",
      " 'ASSET-C-40',\n",
      " 'ASSET-C-42',\n",
      " 'ASSET-C-5',\n",
      " 'ASSET-C-6',\n",
      " 'ASSET-C-7',\n",
      " 'ASSET-C-8',\n",
      " 'ASSET-C-9',\n",
      " 'ASSET-D-01',\n",
      " 'ASSET-D-02',\n",
      " 'ASSET-D-03',\n",
      " 'ASSET-D-04',\n",
      " 'ASSET-D-05',\n",
      " 'ASSET-D-06',\n",
      " 'ASSET-D-07',\n",
      " 'ASSET-D-08',\n",
      " 'ASSET-D-09',\n",
      " 'ASSET-D-1',\n",
      " 'ASSET-D-10',\n",
      " 'ASSET-D-11',\n",
      " 'ASSET-D-12',\n",
      " 'ASSET-D-13',\n",
      " 'ASSET-D-14',\n",
      " 'ASSET-D-15',\n",
      " 'ASSET-D-16',\n",
      " 'ASSET-D-17',\n",
      " 'ASSET-D-18',\n",
      " 'ASSET-D-19',\n",
      " 'ASSET-D-2',\n",
      " 'ASSET-D-20',\n",
      " 'ASSET-D-21',\n",
      " 'ASSET-D-22',\n",
      " 'ASSET-D-23',\n",
      " 'ASSET-D-24',\n",
      " 'ASSET-D-25',\n",
      " 'ASSET-D-26',\n",
      " 'ASSET-D-27',\n",
      " 'ASSET-D-28',\n",
      " 'ASSET-D-29',\n",
      " 'ASSET-D-3',\n",
      " 'ASSET-D-30',\n",
      " 'ASSET-D-31',\n",
      " 'ASSET-D-32',\n",
      " 'ASSET-D-33',\n",
      " 'ASSET-D-34',\n",
      " 'ASSET-D-35',\n",
      " 'ASSET-D-36',\n",
      " 'ASSET-D-37',\n",
      " 'ASSET-D-38',\n",
      " 'ASSET-D-39',\n",
      " 'ASSET-D-4',\n",
      " 'ASSET-D-41',\n",
      " 'ASSET-D-43',\n",
      " 'ASSET-D-5',\n",
      " 'ASSET-D-6',\n",
      " 'ASSET-D-7',\n",
      " 'ASSET-D-8',\n",
      " 'ASSET-D-9']\n"
     ]
    }
   ],
   "source": [
    "# the 'Threatened Asset' column contains values like 'All' or 'ASSET-D-33 to ASSET-D-38', we solve this by manually turning this into the correct list\n",
    "\n",
    "\n",
    "# Example: start from your DataFrame\n",
    "# df_threats = pd.read_json(...)  # or however you're loading it\n",
    "\n",
    "# Step 1: Drop NaNs\n",
    "asset_entries = df_threats['Threatened Asset'].dropna()\n",
    "\n",
    "# Step 2: Function to expand ranges like 'ASSET-D-33 to ASSET-D-38'\n",
    "def expand_range(entry):\n",
    "    match = re.match(r\"(ASSET-[A-Z]-)(\\d+)\\s+to\\s+ASSET-[A-Z]-(\\d+)\", entry.strip())\n",
    "    if match:\n",
    "        prefix, start, end = match.groups()\n",
    "        return [f\"{prefix}{i}\" for i in range(int(start), int(end) + 1)]\n",
    "    return [entry.strip()]\n",
    "\n",
    "# Step 3: Build the set of unique assets\n",
    "all_assets = set()\n",
    "\n",
    "for entry in asset_entries:\n",
    "    # If entry is a list, turn it into a string\n",
    "    if isinstance(entry, list):\n",
    "        entry = ', '.join(entry)\n",
    "    \n",
    "    # Ensure it's a string before splitting\n",
    "    if isinstance(entry, str):\n",
    "        parts = [p.strip() for p in entry.split(',')]\n",
    "        for part in parts:\n",
    "            if part.lower() == 'all':\n",
    "                continue  # or expand to full known asset list if desired\n",
    "            elif 'to' in part:\n",
    "                expanded = expand_range(part)\n",
    "                all_assets.update(expanded)\n",
    "            else:\n",
    "                all_assets.add(part.strip())\n",
    "\n",
    "# Step 4: Show all unique asset names sorted\n",
    "all_assets = sorted(all_assets)\n",
    "pprint(all_assets)\n",
    "\n",
    "\n"
   ]
  },
  {
   "cell_type": "code",
   "execution_count": 16,
   "id": "0be8fa62",
   "metadata": {},
   "outputs": [],
   "source": [
    "def normalize_assets(value):\n",
    "    # Convert list to string if needed\n",
    "    if isinstance(value, list):\n",
    "        value = ', '.join(value)\n",
    "    \n",
    "    if isinstance(value, str):\n",
    "        value = value.strip()\n",
    "        if value.lower() == 'all':\n",
    "            return all_assets\n",
    "        elif 'to' in value:\n",
    "            return expand_range(value)\n",
    "        else:\n",
    "            # handle comma-separated list like 'ASSET-D-15, ASSET-C-17'\n",
    "            return [v.strip() for v in value.split(',')]\n",
    "    \n",
    "    return value  # leave as-is if unexpected\n",
    "\n",
    "df_threats['Threatened Asset'] = df_threats['Threatened Asset'].apply(normalize_assets)\n",
    "\n"
   ]
  },
  {
   "cell_type": "code",
   "execution_count": 17,
   "id": "659cdc4d",
   "metadata": {},
   "outputs": [
    {
     "data": {
      "text/plain": [
       "0     [ASSET D-11, ASSET D-20, ASSET D-21, ASSET-C-02, ASSET-C-03, ASSET-C-07, ASSET-C-08, ASSET-C-09, ASSET-C-1, ASSET-C-10, ASSET-C-11, ASSET-C-12, ASSET-C-14, ASSET-C-16, ASSET-C-17, ASSET-C-18, ASSET-C-19, ASSET-C-2, ASSET-C-20, ASSET-C-21, ASSET-C-22, ASSET-C-23, ASSET-C-24, ASSET-C-25, ASSET-C-26, ASSET-C-27, ASSET-C-28, ASSET-C-3, ASSET-C-31, ASSET-C-32, ASSET-C-33, ASSET-C-34, ASSET-C-35, ASSET-C-36, ASSET-C-37, ASSET-C-38, ASSET-C-39, ASSET-C-4, ASSET-C-40, ASSET-C-42, ASSET-C-5, ASSET-C-6, ASSET-C-7, ASSET-C-8, ASSET-C-9, ASSET-D-01, ASSET-D-02, ASSET-D-03, ASSET-D-04, ASSET-D-05, ASSET-D-06, ASSET-D-07, ASSET-D-08, ASSET-D-09, ASSET-D-1, ASSET-D-10, ASSET-D-11, ASSET-D-12, ASSET-D-13, ASSET-D-14, ASSET-D-15, ASSET-D-16, ASSET-D-17, ASSET-D-18, ASSET-D-19, ASSET-D-2, ASSET-D-20, ASSET-D-21, ASSET-D-22, ASSET-D-23, ASSET-D-24, ASSET-D-25, ASSET-D-26, ASSET-D-27, ASSET-D-28, ASSET-D-29, ASSET-D-3, ASSET-D-30, ASSET-D-31, ASSET-D-32, ASSET-D-33, ASSET-D-34, ASSET-D-35, ASSET-D-36, ASSET-D-37, ASSET-D-38, ASSET-D-39, ASSET-D-4, ASSET-D-41, ASSET-D-43, ASSET-D-5, ASSET-D-6, ASSET-D-7, ASSET-D-8, ASSET-D-9]\n",
       "1     [ASSET D-11, ASSET D-20, ASSET D-21, ASSET-C-02, ASSET-C-03, ASSET-C-07, ASSET-C-08, ASSET-C-09, ASSET-C-1, ASSET-C-10, ASSET-C-11, ASSET-C-12, ASSET-C-14, ASSET-C-16, ASSET-C-17, ASSET-C-18, ASSET-C-19, ASSET-C-2, ASSET-C-20, ASSET-C-21, ASSET-C-22, ASSET-C-23, ASSET-C-24, ASSET-C-25, ASSET-C-26, ASSET-C-27, ASSET-C-28, ASSET-C-3, ASSET-C-31, ASSET-C-32, ASSET-C-33, ASSET-C-34, ASSET-C-35, ASSET-C-36, ASSET-C-37, ASSET-C-38, ASSET-C-39, ASSET-C-4, ASSET-C-40, ASSET-C-42, ASSET-C-5, ASSET-C-6, ASSET-C-7, ASSET-C-8, ASSET-C-9, ASSET-D-01, ASSET-D-02, ASSET-D-03, ASSET-D-04, ASSET-D-05, ASSET-D-06, ASSET-D-07, ASSET-D-08, ASSET-D-09, ASSET-D-1, ASSET-D-10, ASSET-D-11, ASSET-D-12, ASSET-D-13, ASSET-D-14, ASSET-D-15, ASSET-D-16, ASSET-D-17, ASSET-D-18, ASSET-D-19, ASSET-D-2, ASSET-D-20, ASSET-D-21, ASSET-D-22, ASSET-D-23, ASSET-D-24, ASSET-D-25, ASSET-D-26, ASSET-D-27, ASSET-D-28, ASSET-D-29, ASSET-D-3, ASSET-D-30, ASSET-D-31, ASSET-D-32, ASSET-D-33, ASSET-D-34, ASSET-D-35, ASSET-D-36, ASSET-D-37, ASSET-D-38, ASSET-D-39, ASSET-D-4, ASSET-D-41, ASSET-D-43, ASSET-D-5, ASSET-D-6, ASSET-D-7, ASSET-D-8, ASSET-D-9]\n",
       "2     [ASSET D-11, ASSET D-20, ASSET D-21, ASSET-C-02, ASSET-C-03, ASSET-C-07, ASSET-C-08, ASSET-C-09, ASSET-C-1, ASSET-C-10, ASSET-C-11, ASSET-C-12, ASSET-C-14, ASSET-C-16, ASSET-C-17, ASSET-C-18, ASSET-C-19, ASSET-C-2, ASSET-C-20, ASSET-C-21, ASSET-C-22, ASSET-C-23, ASSET-C-24, ASSET-C-25, ASSET-C-26, ASSET-C-27, ASSET-C-28, ASSET-C-3, ASSET-C-31, ASSET-C-32, ASSET-C-33, ASSET-C-34, ASSET-C-35, ASSET-C-36, ASSET-C-37, ASSET-C-38, ASSET-C-39, ASSET-C-4, ASSET-C-40, ASSET-C-42, ASSET-C-5, ASSET-C-6, ASSET-C-7, ASSET-C-8, ASSET-C-9, ASSET-D-01, ASSET-D-02, ASSET-D-03, ASSET-D-04, ASSET-D-05, ASSET-D-06, ASSET-D-07, ASSET-D-08, ASSET-D-09, ASSET-D-1, ASSET-D-10, ASSET-D-11, ASSET-D-12, ASSET-D-13, ASSET-D-14, ASSET-D-15, ASSET-D-16, ASSET-D-17, ASSET-D-18, ASSET-D-19, ASSET-D-2, ASSET-D-20, ASSET-D-21, ASSET-D-22, ASSET-D-23, ASSET-D-24, ASSET-D-25, ASSET-D-26, ASSET-D-27, ASSET-D-28, ASSET-D-29, ASSET-D-3, ASSET-D-30, ASSET-D-31, ASSET-D-32, ASSET-D-33, ASSET-D-34, ASSET-D-35, ASSET-D-36, ASSET-D-37, ASSET-D-38, ASSET-D-39, ASSET-D-4, ASSET-D-41, ASSET-D-43, ASSET-D-5, ASSET-D-6, ASSET-D-7, ASSET-D-8, ASSET-D-9]\n",
       "3                                                                                                                                                                                                                                                                                                                                                                                                                                                                                                                                                                                                                                                                                                                                                                                                                                                                                                                                                                                                                                                                                                                                               [ASSET-D-06, ASSET-D-18]\n",
       "4     [ASSET D-11, ASSET D-20, ASSET D-21, ASSET-C-02, ASSET-C-03, ASSET-C-07, ASSET-C-08, ASSET-C-09, ASSET-C-1, ASSET-C-10, ASSET-C-11, ASSET-C-12, ASSET-C-14, ASSET-C-16, ASSET-C-17, ASSET-C-18, ASSET-C-19, ASSET-C-2, ASSET-C-20, ASSET-C-21, ASSET-C-22, ASSET-C-23, ASSET-C-24, ASSET-C-25, ASSET-C-26, ASSET-C-27, ASSET-C-28, ASSET-C-3, ASSET-C-31, ASSET-C-32, ASSET-C-33, ASSET-C-34, ASSET-C-35, ASSET-C-36, ASSET-C-37, ASSET-C-38, ASSET-C-39, ASSET-C-4, ASSET-C-40, ASSET-C-42, ASSET-C-5, ASSET-C-6, ASSET-C-7, ASSET-C-8, ASSET-C-9, ASSET-D-01, ASSET-D-02, ASSET-D-03, ASSET-D-04, ASSET-D-05, ASSET-D-06, ASSET-D-07, ASSET-D-08, ASSET-D-09, ASSET-D-1, ASSET-D-10, ASSET-D-11, ASSET-D-12, ASSET-D-13, ASSET-D-14, ASSET-D-15, ASSET-D-16, ASSET-D-17, ASSET-D-18, ASSET-D-19, ASSET-D-2, ASSET-D-20, ASSET-D-21, ASSET-D-22, ASSET-D-23, ASSET-D-24, ASSET-D-25, ASSET-D-26, ASSET-D-27, ASSET-D-28, ASSET-D-29, ASSET-D-3, ASSET-D-30, ASSET-D-31, ASSET-D-32, ASSET-D-33, ASSET-D-34, ASSET-D-35, ASSET-D-36, ASSET-D-37, ASSET-D-38, ASSET-D-39, ASSET-D-4, ASSET-D-41, ASSET-D-43, ASSET-D-5, ASSET-D-6, ASSET-D-7, ASSET-D-8, ASSET-D-9]\n",
       "5     [ASSET D-11, ASSET D-20, ASSET D-21, ASSET-C-02, ASSET-C-03, ASSET-C-07, ASSET-C-08, ASSET-C-09, ASSET-C-1, ASSET-C-10, ASSET-C-11, ASSET-C-12, ASSET-C-14, ASSET-C-16, ASSET-C-17, ASSET-C-18, ASSET-C-19, ASSET-C-2, ASSET-C-20, ASSET-C-21, ASSET-C-22, ASSET-C-23, ASSET-C-24, ASSET-C-25, ASSET-C-26, ASSET-C-27, ASSET-C-28, ASSET-C-3, ASSET-C-31, ASSET-C-32, ASSET-C-33, ASSET-C-34, ASSET-C-35, ASSET-C-36, ASSET-C-37, ASSET-C-38, ASSET-C-39, ASSET-C-4, ASSET-C-40, ASSET-C-42, ASSET-C-5, ASSET-C-6, ASSET-C-7, ASSET-C-8, ASSET-C-9, ASSET-D-01, ASSET-D-02, ASSET-D-03, ASSET-D-04, ASSET-D-05, ASSET-D-06, ASSET-D-07, ASSET-D-08, ASSET-D-09, ASSET-D-1, ASSET-D-10, ASSET-D-11, ASSET-D-12, ASSET-D-13, ASSET-D-14, ASSET-D-15, ASSET-D-16, ASSET-D-17, ASSET-D-18, ASSET-D-19, ASSET-D-2, ASSET-D-20, ASSET-D-21, ASSET-D-22, ASSET-D-23, ASSET-D-24, ASSET-D-25, ASSET-D-26, ASSET-D-27, ASSET-D-28, ASSET-D-29, ASSET-D-3, ASSET-D-30, ASSET-D-31, ASSET-D-32, ASSET-D-33, ASSET-D-34, ASSET-D-35, ASSET-D-36, ASSET-D-37, ASSET-D-38, ASSET-D-39, ASSET-D-4, ASSET-D-41, ASSET-D-43, ASSET-D-5, ASSET-D-6, ASSET-D-7, ASSET-D-8, ASSET-D-9]\n",
       "6                                                                                                                                                                                                                                                                                                                                                                                                                                                                                                                                                                                                                                                                                                                                                                                                                                                                                                                                                                                                                                                                                                                                                           [ASSET-D-29]\n",
       "7                                                                                                                                                                                                                                                                                                                                                                                                                                                                                                                                                                                                                                                                                                                                                                                                                    [ASSET-D-1, ASSET-D-2, ASSET-D-3, ASSET-D-4, ASSET-D-5, ASSET-D-6, ASSET-D-7, ASSET-D-8, ASSET-D-9, ASSET-D-10, ASSET-D-11, ASSET-D-12, ASSET-D-13, ASSET-D-14, ASSET-D-15, ASSET-D-16, ASSET-D-17, ASSET-D-18, ASSET-D-19, ASSET-D-20, ASSET-D-21, ASSET-D-22, ASSET-D-23, ASSET-D-24, ASSET-D-25, ASSET-D-26, ASSET-D-27, ASSET-D-28, ASSET-D-29]\n",
       "8                                                                                                                                                                                                                                                                                                                                                                                                                                                                                                                                                                                                                                                                                                                                                                                                                                                                                                                                                                                                                                [ASSET-C-1, ASSET-C-2, ASSET-C-3, ASSET-C-4, ASSET-C-5, ASSET-C-6, ASSET-C-7, ASSET-C-8, ASSET-C-9, ASSET-C-10, ASSET-C-11, ASSET-C-12]\n",
       "9                                                                                                                                                                                                                                                                                                                                                                                                                                                                                                                                                                                                                                                                                                                                                                                                                                                                                                                                                                                                                                                                                                                       [ASSET-D-01, ASSET-D-02, ASSET-D-04, ASSET-D-05]\n",
       "10                                                                                                                                                                                                                                                                                                                                                                                                                                                                                                                                                                                                                                                                                                                                                                                                                                                                                                                                                                                                                                                                                                                      [ASSET-D-01, ASSET-D-02, ASSET-D-04, ASSET-D-05]\n",
       "11                                                                                                                                                                                                                                                                                                                                                                                                                                                                                                                                                                                                                                                                                                                                                                                                                                                                                                                                                                                                                                                                                                                                              [ASSET-D-02, ASSET-D-03]\n",
       "12                                                                                                                                                                                                                                                                                                                                                                                                                                                                                                                                                                                                                                                                                                                                                                                                                                                                                                                                                                                                                                                                                                                                                          [ASSET-D-01]\n",
       "13                                                                                                                                                                                                                                                                                                                                                                                                                                                                                                                                                                                                                                                                                                                                                                                                                                                                                                                                                                                                                                                                                                                                                          [ASSET-D-01]\n",
       "14                                                                                                                                                                                                                                                                                                                                                                                                                                                                                                                                                                                                                                                                                                                                                                                                                                                                                                                                                                                                                                                                                                                                                          [ASSET-D-01]\n",
       "15                                                                                                                                                                                                                                                                                                                                                                                                                                                                                                                                                                                                                                                                                                                                                                                                                                                                                                                                                                                                                                                                                                                                                          [ASSET-D-01]\n",
       "16                                                                                                                                                                                                                                                                                                                                                                                                                                                                                                                                                                                                                                                                                                                                                                                                                                                                                                                                                                                                                                                                                                                                                          [ASSET-D-01]\n",
       "17                                                                                                                                                                                                                                                                                                                                                                                                                                                                                                                                                                                                                                                                                                                                                                                                                                                                                                                                                                                                                                                                                                                                                          [ASSET-D-04]\n",
       "18                                                                                                                                                                                                                                                                                                                                                                                                                                                                                                                                                                                                                                                                                                                                                                                                                                                                                                                                                                                                                                                                                                                                                          [ASSET-D-04]\n",
       "19                                                                                                                                                                                                                                                                                                                                                                                                                                                                                                                                                                                                                                                                                                                                                                                                                                                                                                                                                                                                                                                                                                                                                          [ASSET-D-05]\n",
       "Name: Threatened Asset, dtype: object"
      ]
     },
     "execution_count": 17,
     "metadata": {},
     "output_type": "execute_result"
    }
   ],
   "source": [
    "df_threats['Threatened Asset'].head(20)"
   ]
  },
  {
   "cell_type": "code",
   "execution_count": 18,
   "id": "a5b4f2ce",
   "metadata": {},
   "outputs": [
    {
     "data": {
      "text/plain": [
       "Threat type\n",
       "Spoofing                   28\n",
       "Denial of Service          19\n",
       "Elevation of Privilege     14\n",
       "Information Disclosure     14\n",
       "Tampering                  14\n",
       "Information disclosure      5\n",
       "Escalation of Privilege     2\n",
       "Name: count, dtype: int64"
      ]
     },
     "execution_count": 18,
     "metadata": {},
     "output_type": "execute_result"
    }
   ],
   "source": [
    "df_threats['Threat type'].explode().value_counts()\n",
    "# The most common threat type is Spoofing, which occurs 28 times"
   ]
  },
  {
   "cell_type": "code",
   "execution_count": 19,
   "id": "045de193",
   "metadata": {},
   "outputs": [
    {
     "data": {
      "text/plain": [
       "Vulnerability\n",
       "lack of authentication                                                                       17\n",
       "weak mutual authentication                                                                   12\n",
       "weak authentication can be exploited by a tenant to move laterally across the deployment.     9\n",
       "missing or improperly configured authorization                                                6\n",
       "lack of integrity verification                                                                6\n",
       "                                                                                             ..\n",
       "pnfs                                                                                          1\n",
       "etc.                                                                                          1\n",
       "operation areas                                                                               1\n",
       "physical access to the open fronthaul cable network                                           1\n",
       "use of pretrained public ml model                                                             1\n",
       "Name: count, Length: 139, dtype: int64"
      ]
     },
     "execution_count": 19,
     "metadata": {},
     "output_type": "execute_result"
    }
   ],
   "source": [
    "df_threats['Vulnerability'].explode().str.lower().value_counts()\n",
    "# The most common vulnerability is 'lack of authentication', which occurs 17 times,\n",
    "# followed by 'lack of authentication' with 12 occurences."
   ]
  },
  {
   "cell_type": "code",
   "execution_count": 20,
   "id": "94047f2a",
   "metadata": {},
   "outputs": [
    {
     "data": {
      "text/plain": [
       "Threatened Asset\n",
       "ASSET-D-15    43\n",
       "ASSET-C-17    41\n",
       "ASSET-D-29    40\n",
       "ASSET-D-18    38\n",
       "ASSET-D-14    37\n",
       "ASSET-C-31    35\n",
       "ASSET-D-17    35\n",
       "ASSET-D-16    35\n",
       "ASSET-D-12    34\n",
       "ASSET-D-13    34\n",
       "ASSET-D-19    34\n",
       "ASSET-D-20    34\n",
       "ASSET-D-32    34\n",
       "ASSET-D-31    33\n",
       "ASSET-C-11    33\n",
       "ASSET-C-18    22\n",
       "ASSET-C-10    21\n",
       "ASSET-C-08    19\n",
       "ASSET-C-35    18\n",
       "ASSET-D-01    18\n",
       "ASSET-C-34    17\n",
       "ASSET-C-26    17\n",
       "ASSET-C-19    16\n",
       "ASSET-C-16    16\n",
       "ASSET-C-20    16\n",
       "ASSET-C-21    16\n",
       "ASSET-C-23    16\n",
       "ASSET-C-09    16\n",
       "ASSET-D-04    15\n",
       "ASSET-D-26    15\n",
       "ASSET-D-25    15\n",
       "ASSET-C-37    15\n",
       "ASSET-D-37    15\n",
       "ASSET-D-34    15\n",
       "ASSET-D-33    15\n",
       "ASSET-D-36    15\n",
       "ASSET-D-35    15\n",
       "ASSET-D-38    15\n",
       "ASSET-C-25    14\n",
       "ASSET-C-36    14\n",
       "ASSET-D-21    14\n",
       "ASSET-D-02    14\n",
       "ASSET-D-05    14\n",
       "ASSET-D-27    13\n",
       "ASSET-D-28    13\n",
       "ASSET-D-06    13\n",
       "ASSET-D-10    13\n",
       "ASSET-D-22    13\n",
       "ASSET-C-02    12\n",
       "ASSET-D-43    12\n",
       "Name: count, dtype: int64"
      ]
     },
     "execution_count": 20,
     "metadata": {},
     "output_type": "execute_result"
    }
   ],
   "source": [
    "# Step 3: Explode the list so each asset appears in its own row\n",
    "asset_flat = df_threats.explode('Threatened Asset')\n",
    "\n",
    "# Step 4: Count how often each asset appears\n",
    "asset_counts = asset_flat['Threatened Asset'].value_counts()\n",
    "asset_counts.head(50)"
   ]
  },
  {
   "cell_type": "code",
   "execution_count": 21,
   "id": "bbca85d8",
   "metadata": {},
   "outputs": [
    {
     "data": {
      "text/plain": [
       "Impact type\n",
       "Authenticity       26\n",
       "Availability       21\n",
       "Confidentiality    19\n",
       "Authorization      14\n",
       "Integrity          14\n",
       "Authentication      2\n",
       "Name: count, dtype: int64"
      ]
     },
     "execution_count": 21,
     "metadata": {},
     "output_type": "execute_result"
    }
   ],
   "source": [
    "df_threats['Impact type'].explode().value_counts()"
   ]
  },
  {
   "cell_type": "code",
   "execution_count": 22,
   "id": "d8d4f0d6",
   "metadata": {},
   "outputs": [
    {
     "data": {
      "text/plain": [
       "Threat type\n",
       "Spoofing                   28\n",
       "Denial of Service          19\n",
       "Elevation of Privilege     14\n",
       "Information Disclosure     14\n",
       "Tampering                  14\n",
       "Information disclosure      5\n",
       "Escalation of Privilege     2\n",
       "Name: count, dtype: int64"
      ]
     },
     "execution_count": 22,
     "metadata": {},
     "output_type": "execute_result"
    }
   ],
   "source": [
    "df_threats['Threat type'].explode().value_counts()"
   ]
  },
  {
   "cell_type": "code",
   "execution_count": 23,
   "id": "21e4860d",
   "metadata": {},
   "outputs": [
    {
     "name": "stdout",
     "output_type": "stream",
     "text": [
      "{'All', 'All except Script kiddies'}\n"
     ]
    }
   ],
   "source": [
    "print(set(df_threats['Threat agent']))"
   ]
  },
  {
   "cell_type": "code",
   "execution_count": 24,
   "id": "c2471d40",
   "metadata": {},
   "outputs": [
    {
     "data": {
      "text/plain": [
       "Threat agent\n",
       "All                          178\n",
       "All except Script kiddies      4\n",
       "Name: count, dtype: int64"
      ]
     },
     "execution_count": 24,
     "metadata": {},
     "output_type": "execute_result"
    }
   ],
   "source": [
    "df_threats['Threat agent'].value_counts()"
   ]
  },
  {
   "cell_type": "code",
   "execution_count": 25,
   "id": "c66e47c7",
   "metadata": {},
   "outputs": [
    {
     "data": {
      "text/plain": [
       "Affected Components\n",
       "O-Cloud                  30\n",
       "Non-RT RIC               29\n",
       "Shared O-RU              26\n",
       "Apps/VNFs/CNFs           22\n",
       "All                      19\n",
       "O-DU                     17\n",
       "O-RU                     16\n",
       "rApps                    16\n",
       "Near-RT RIC              16\n",
       "SMO                      14\n",
       "xApps                    12\n",
       "O-DU Tenant              10\n",
       "SMO Framework            10\n",
       "O-DU Host                 9\n",
       "O-CU                      8\n",
       "O2 interface              7\n",
       "External interfaces       7\n",
       "R1 interface              7\n",
       "UE                        7\n",
       "SMO Functions             6\n",
       "ASSET-C-29                6\n",
       "ASSET-C-30                6\n",
       "O-CU Tenant               6\n",
       "CUS-Plane                 5\n",
       "Apps/VNFs/CNFs images     5\n",
       "O-CU Host                 5\n",
       "ASSET-C-08                3\n",
       "A1 interface              3\n",
       "E2 interface              3\n",
       "M-Plane                   3\n",
       "SMO Host                  3\n",
       "SMO Tenant                3\n",
       "xAPPs                     3\n",
       "Y1 interface              2\n",
       "O2                        2\n",
       "O1                        2\n",
       "NFO/FOCOM                 2\n",
       "airlink with UE           1\n",
       "SMO Froamework            1\n",
       "Y1interface               1\n",
       "Name: count, dtype: int64"
      ]
     },
     "execution_count": 25,
     "metadata": {},
     "output_type": "execute_result"
    }
   ],
   "source": [
    "df_threats['Affected Components'].explode().value_counts() "
   ]
  },
  {
   "cell_type": "code",
   "execution_count": 26,
   "id": "f45b5c85",
   "metadata": {},
   "outputs": [
    {
     "data": {
      "text/plain": [
       "Index(['Threat ID', 'Threat title', 'Threat Description', 'Threat type',\n",
       "       'Impact type', 'Threat agent', 'Vulnerability', 'Threatened Asset',\n",
       "       'Affected Components'],\n",
       "      dtype='object')"
      ]
     },
     "execution_count": 26,
     "metadata": {},
     "output_type": "execute_result"
    }
   ],
   "source": [
    "df_threats.columns"
   ]
  },
  {
   "cell_type": "markdown",
   "id": "a9be188a",
   "metadata": {},
   "source": [
    "## Text analysis"
   ]
  },
  {
   "cell_type": "code",
   "execution_count": 27,
   "id": "f6229cff",
   "metadata": {},
   "outputs": [
    {
     "name": "stdout",
     "output_type": "stream",
     "text": [
      "count     182.000000\n",
      "mean      528.818681\n",
      "std       491.740145\n",
      "min        76.000000\n",
      "25%       187.250000\n",
      "50%       319.000000\n",
      "75%       756.250000\n",
      "max      2668.000000\n",
      "Name: Threat Description, dtype: float64\n",
      "The average character length of the threat descriptions is 528.8186813186813\n",
      "The standard deviation of the character length of the threat descriptions is 491.74014505307065\n"
     ]
    }
   ],
   "source": [
    "length_of_threat_descriptions = df_threats['Threat Description'].str.len()\n",
    "print(length_of_threat_descriptions.describe())\n",
    "print(\"The average character length of the threat descriptions is\", length_of_threat_descriptions.mean())\n",
    "# the average length og the threat descriptions is 528.2 characters\n",
    "\n",
    "standard_deviation = length_of_threat_descriptions.std()\n",
    "print(\"The standard deviation of the character length of the threat descriptions is\", standard_deviation)"
   ]
  },
  {
   "cell_type": "code",
   "execution_count": 28,
   "id": "aa3ec36c",
   "metadata": {},
   "outputs": [
    {
     "name": "stdout",
     "output_type": "stream",
     "text": [
      "count    182.00000\n",
      "mean      57.10989\n",
      "std       27.82580\n",
      "min       14.00000\n",
      "25%       34.00000\n",
      "50%       54.00000\n",
      "75%       70.00000\n",
      "max      148.00000\n",
      "Name: Threat title, dtype: float64\n",
      "The average character length of the threat titles is 57.10989010989011\n",
      "The standard deviation of the character length of the threat titles is 27.825800083090165\n"
     ]
    }
   ],
   "source": [
    "length_of_threat_titles = df_threats['Threat title'].str.len()\n",
    "print(length_of_threat_titles.describe())\n",
    "print(\"The average character length of the threat titles is\", length_of_threat_titles.mean())\n",
    "print(\"The standard deviation of the character length of the threat titles is\", length_of_threat_titles.std())"
   ]
  },
  {
   "cell_type": "code",
   "execution_count": 29,
   "id": "70fbafca",
   "metadata": {},
   "outputs": [
    {
     "name": "stdout",
     "output_type": "stream",
     "text": [
      "Threat Description\n",
      "Unauthenticated/unauthorized access to O-RAN components could possibly be achieved via the different O-RAN interfaces, depending upon the design of the hardware-software O-RAN system and how different functions are segregated within the O-RAN system. \\nO-RAN components might be vulnerable if: \\n• Outdated component from the lack of update or patch management,\\n• Poorly design architecture,\\n• Missing appropriate security hardening,\\n• Unnecessary or insecure function/protocol/component.\\nAn attacker could, in such case, either inject malwares and/or manipulate existing software, harm the O-RAN components, create a performance issue by manipulation of parameters, or reconfigure the O-RAN components and disable the security features with the purpose of eavesdropping or wiretapping on various CUS & M planes, reaching northbound systems, attack broader network to cause denial-of-service, steal unprotected private keys, certificates, hash values, or other type of breaches.\\nIn addition, O-RAN components could be software providing network functions, so they are likely to be vulnerable to software flaws: it could be possible to bypass firewall restrictions or to take advantage of a buffer overflow to execute arbitrary commands, etc.    1\n",
      "Unauthenticated/unauthorized access to O-RAN components could possibly be achieved via the different O-RAN interfaces, depending upon the configuration of the hardware-software O-RAN system. \\nO-RAN components might be vulnerable if: \\n• Errors from the lack of configuration change management,\\n• Misconfigured or poorly configured O-RAN components,\\n• Improperly configured permissions,\\n• Unnecessary features are enabled (e.g. unnecessary ports, services, accounts, or privileges),\\n• Default accounts and their passwords still enabled and unchanged,\\n• Security features are disabled or not configured securely.\\nAn attacker could, in such case, either inject malwares and/or manipulate existing software, harm the O-RAN components, create a performance issue by manipulation of parameters, or reconfigure the O-RAN components and disable the security features with the purpose of eavesdropping or wiretapping on various CUS & M planes, reaching northbound systems, attack broader network to cause denial-of-service, steal unprotected private keys, certificates, hash values, or other type of breaches.                                                                                                                                               1\n",
      "Name: count, dtype: int64\n",
      "Threat title\n",
      "External attacker exploits authentication weakness on SMO                   2\n",
      "An attacker exploits misconfigured or poorly configured O-RAN components    1\n",
      "Name: count, dtype: int64\n"
     ]
    }
   ],
   "source": [
    "\n",
    "print(df_threats['Threat Description'].value_counts().head(2))\n",
    "print(df_threats['Threat title'].value_counts().head(2))"
   ]
  },
  {
   "cell_type": "code",
   "execution_count": 30,
   "id": "e32f93bc",
   "metadata": {},
   "outputs": [
    {
     "data": {
      "text/html": [
       "<div>\n",
       "<style scoped>\n",
       "    .dataframe tbody tr th:only-of-type {\n",
       "        vertical-align: middle;\n",
       "    }\n",
       "\n",
       "    .dataframe tbody tr th {\n",
       "        vertical-align: top;\n",
       "    }\n",
       "\n",
       "    .dataframe thead th {\n",
       "        text-align: right;\n",
       "    }\n",
       "</style>\n",
       "<table border=\"1\" class=\"dataframe\">\n",
       "  <thead>\n",
       "    <tr style=\"text-align: right;\">\n",
       "      <th></th>\n",
       "      <th>Threat ID</th>\n",
       "      <th>Threat title</th>\n",
       "      <th>Threat Description</th>\n",
       "      <th>Threat type</th>\n",
       "      <th>Impact type</th>\n",
       "      <th>Threat agent</th>\n",
       "      <th>Vulnerability</th>\n",
       "      <th>Threatened Asset</th>\n",
       "      <th>Affected Components</th>\n",
       "    </tr>\n",
       "  </thead>\n",
       "  <tbody>\n",
       "    <tr>\n",
       "      <th>42</th>\n",
       "      <td>T-SMO-01</td>\n",
       "      <td>External attacker exploits authentication weakness on SMO</td>\n",
       "      <td>An external attacker can exploit the improper/missing authentication weakness on SMO functions. If the authentication of O-RAN subjects on A1, O1, O2, and External interfaces on SMO is not supported or not properly implemented, those interfaces without proper credentials could be exploited to gain access to the SMO.</td>\n",
       "      <td>[Spoofing]</td>\n",
       "      <td>[Authenticity]</td>\n",
       "      <td>All</td>\n",
       "      <td>[Missing or improperly configured authentication]</td>\n",
       "      <td>[ASSET-C-11, ASSET-C-17]</td>\n",
       "      <td>[Non-RT RIC, SMO Framework]</td>\n",
       "    </tr>\n",
       "    <tr>\n",
       "      <th>43</th>\n",
       "      <td>T-SMO-02</td>\n",
       "      <td>External attacker exploits authentication weakness on SMO</td>\n",
       "      <td>An external attacker can exploit the improper/missing authorization weakness on SMO functions.  A malicious external entity on A1, O1, O2, and External interfaces without authorization or with an incorrect access token may invoke the SMO functions. The data at rest related to that function will be leaked to the attacker. In addition, an attacker can be able to perform certain actions, e.g.  disclose O-RAN sensitive information or alter O-RAN components.</td>\n",
       "      <td>[Elevation of Privilege, Information Disclosure]</td>\n",
       "      <td>[Authorization, Confidentiality]</td>\n",
       "      <td>All</td>\n",
       "      <td>[Missing or improperly configured authorization]</td>\n",
       "      <td>[ASSET-C-11, ASSET-C-17]</td>\n",
       "      <td>[Non-RT RIC, SMO Framework]</td>\n",
       "    </tr>\n",
       "  </tbody>\n",
       "</table>\n",
       "</div>"
      ],
      "text/plain": [
       "   Threat ID                                               Threat title  \\\n",
       "42  T-SMO-01  External attacker exploits authentication weakness on SMO   \n",
       "43  T-SMO-02  External attacker exploits authentication weakness on SMO   \n",
       "\n",
       "                                                                                                                                                                                                                                                                                                                                                                                                                                                           Threat Description  \\\n",
       "42                                                                                                                                              An external attacker can exploit the improper/missing authentication weakness on SMO functions. If the authentication of O-RAN subjects on A1, O1, O2, and External interfaces on SMO is not supported or not properly implemented, those interfaces without proper credentials could be exploited to gain access to the SMO.   \n",
       "43  An external attacker can exploit the improper/missing authorization weakness on SMO functions.  A malicious external entity on A1, O1, O2, and External interfaces without authorization or with an incorrect access token may invoke the SMO functions. The data at rest related to that function will be leaked to the attacker. In addition, an attacker can be able to perform certain actions, e.g.  disclose O-RAN sensitive information or alter O-RAN components.   \n",
       "\n",
       "                                         Threat type  \\\n",
       "42                                        [Spoofing]   \n",
       "43  [Elevation of Privilege, Information Disclosure]   \n",
       "\n",
       "                         Impact type Threat agent  \\\n",
       "42                    [Authenticity]          All   \n",
       "43  [Authorization, Confidentiality]          All   \n",
       "\n",
       "                                        Vulnerability  \\\n",
       "42  [Missing or improperly configured authentication]   \n",
       "43   [Missing or improperly configured authorization]   \n",
       "\n",
       "            Threatened Asset          Affected Components  \n",
       "42  [ASSET-C-11, ASSET-C-17]  [Non-RT RIC, SMO Framework]  \n",
       "43  [ASSET-C-11, ASSET-C-17]  [Non-RT RIC, SMO Framework]  "
      ]
     },
     "execution_count": 30,
     "metadata": {},
     "output_type": "execute_result"
    }
   ],
   "source": [
    "df_threats[df_threats['Threat title'] == 'External attacker exploits authentication weakness on SMO']\n"
   ]
  },
  {
   "cell_type": "markdown",
   "id": "8a145a5f",
   "metadata": {},
   "source": [
    "## Data understanding of CAPEC data"
   ]
  },
  {
   "cell_type": "code",
   "execution_count": 31,
   "id": "abaf4734",
   "metadata": {},
   "outputs": [],
   "source": [
    "from git import Repo, InvalidGitRepositoryError\n",
    "import os\n",
    "import shutil\n",
    "\n",
    "from stix2 import FileSystemSource\n",
    "from stix2 import Filter"
   ]
  },
  {
   "cell_type": "code",
   "execution_count": 32,
   "id": "f738c8ef",
   "metadata": {},
   "outputs": [],
   "source": [
    "def pull_clone_gitrepo(directory, repo):\n",
    "    # Check if the data direcory exists\n",
    "    if not os.path.isdir(directory):\n",
    "        Repo.clone_from(repo, directory)\n",
    "    else:\n",
    "        try:\n",
    "            # Check if the data directory is actually a repositry then pull the canges\n",
    "            repo = Repo(directory)\n",
    "            repo.remotes.origin.pull()\n",
    "        except InvalidGitRepositoryError:\n",
    "            # If not then remove the folder\n",
    "            shutil.rmtree(directory)\n",
    "            Repo.clone_from(repo, directory)\n",
    "\n",
    "def prepare_capecs_df():\n",
    "    pull_clone_gitrepo('./data', 'https://github.com/mitre/cti')\n",
    "    fs = FileSystemSource('./data/capec/2.1')\n",
    "    filt = Filter('type', '=', 'attack-pattern')\n",
    "\n",
    "    attack_patterns = fs.query([filt])\n",
    "\n",
    "    data_array = []\n",
    "    for pattern in attack_patterns:\n",
    "        if not pattern.x_capec_status == \"Deprecated\":\n",
    "            info = []\n",
    "            result = [obj for obj in pattern.external_references if obj['source_name'] == \"capec\"]\n",
    "            info.append(result[0].external_id)\n",
    "            info.append(pattern.name)\n",
    "            info.append(pattern.description)\n",
    "            if \"x_capec_domains\" in pattern:\n",
    "                info.append(pattern.x_capec_domains)\n",
    "            else:\n",
    "                info.append(\"not given\")\n",
    "            data_array.append(info)\n",
    "\n",
    "    columns = ['CAPEC ID', 'capec_name', 'capec_description', 'capec_domain']\n",
    "    df = pd.DataFrame(data_array, columns=columns)\n",
    "\n",
    "    df['summary'] = ''\n",
    "    for index, row in df.iterrows():\n",
    "        if len(row['capec_domain']) > 1:\n",
    "            domains_string = \". The Domains of this are: \"+', '.join(row['capec_domain'])\n",
    "        else:\n",
    "            domains_string = \". The Domain of this is: \"+row['capec_domain'][0]\n",
    "\n",
    "        summary = 'A CAPEC with the title '+row['capec_name']+\\\n",
    "                    '. The description of this CAPEC is: '+row['capec_description']+\\\n",
    "                    domains_string\n",
    "        \n",
    "        df.at[index, 'summary'] = summary\n",
    "    return df\n"
   ]
  },
  {
   "cell_type": "code",
   "execution_count": 33,
   "id": "4ef09d5b",
   "metadata": {},
   "outputs": [],
   "source": [
    "#generate the capecs_df\n",
    "#capecs_df = prepare_capecs_df()\n",
    "##safe capecs data to pickle\n",
    "#capecs_df.to_pickle('capec_data/capecs.pk1')"
   ]
  },
  {
   "cell_type": "code",
   "execution_count": 34,
   "id": "fdbc6980",
   "metadata": {},
   "outputs": [],
   "source": [
    "#load capecs data from pickle\n",
    "capecs_df = pd.read_pickle('capec_data/capecs.pk1')"
   ]
  },
  {
   "cell_type": "code",
   "execution_count": 35,
   "id": "44d8cf81",
   "metadata": {},
   "outputs": [
    {
     "name": "stdout",
     "output_type": "stream",
     "text": [
      "Shape of capecs_df: (559, 5)\n",
      "\n",
      "Column names: ['CAPEC ID', 'capec_name', 'capec_description', 'capec_domain', 'summary']\n",
      "\n",
      "Missing values per column:\n",
      " CAPEC ID             0\n",
      "capec_name           0\n",
      "capec_description    0\n",
      "capec_domain         0\n",
      "summary              0\n",
      "dtype: int64\n",
      "\n",
      "Data types:\n",
      " CAPEC ID             object\n",
      "capec_name           object\n",
      "capec_description    object\n",
      "capec_domain         object\n",
      "summary              object\n",
      "dtype: object\n",
      "\n",
      "First 5 rows:\n"
     ]
    },
    {
     "data": {
      "text/html": [
       "<div>\n",
       "<style scoped>\n",
       "    .dataframe tbody tr th:only-of-type {\n",
       "        vertical-align: middle;\n",
       "    }\n",
       "\n",
       "    .dataframe tbody tr th {\n",
       "        vertical-align: top;\n",
       "    }\n",
       "\n",
       "    .dataframe thead th {\n",
       "        text-align: right;\n",
       "    }\n",
       "</style>\n",
       "<table border=\"1\" class=\"dataframe\">\n",
       "  <thead>\n",
       "    <tr style=\"text-align: right;\">\n",
       "      <th></th>\n",
       "      <th>CAPEC ID</th>\n",
       "      <th>capec_name</th>\n",
       "      <th>capec_description</th>\n",
       "      <th>capec_domain</th>\n",
       "      <th>summary</th>\n",
       "    </tr>\n",
       "  </thead>\n",
       "  <tbody>\n",
       "    <tr>\n",
       "      <th>0</th>\n",
       "      <td>CAPEC-87</td>\n",
       "      <td>Forceful Browsing</td>\n",
       "      <td>An attacker employs forceful browsing (direct URL entry) to access portions of a website that are otherwise unreachable. Usually, a front controller or similar design pattern is employed to protect access to portions of a web application. Forceful browsing enables an attacker to access information, perform privileged operations and otherwise reach sections of the web application that have been improperly protected.</td>\n",
       "      <td>[Software]</td>\n",
       "      <td>A CAPEC with the title Forceful Browsing. The description of this CAPEC is: An attacker employs forceful browsing (direct URL entry) to access portions of a website that are otherwise unreachable. Usually, a front controller or similar design pattern is employed to protect access to portions of a web application. Forceful browsing enables an attacker to access information, perform privileged operations and otherwise reach sections of the web application that have been improperly protected.. The Domain of this is: Software</td>\n",
       "    </tr>\n",
       "    <tr>\n",
       "      <th>1</th>\n",
       "      <td>CAPEC-391</td>\n",
       "      <td>Bypassing Physical Locks</td>\n",
       "      <td>An attacker uses techniques and methods to bypass physical security measures of a building or facility. Physical locks may range from traditional lock and key mechanisms, cable locks used to secure laptops or servers, locks on server cases, or other such devices. Techniques such as lock bumping, lock forcing via snap guns, or lock picking can be employed to bypass those locks and gain access to the facilities or devices they protect, although stealth, evidence of tampering, and the integrity of the lock following an attack, are considerations that may determine the method employed. Physical locks are limited by the complexity of the locking mechanism. While some locks may offer protections such as shock resistant foam to prevent bumping or lock forcing methods, many commonly employed locks offer no such countermeasures.</td>\n",
       "      <td>[Physical Security]</td>\n",
       "      <td>A CAPEC with the title Bypassing Physical Locks. The description of this CAPEC is: An attacker uses techniques and methods to bypass physical security measures of a building or facility. Physical locks may range from traditional lock and key mechanisms, cable locks used to secure laptops or servers, locks on server cases, or other such devices. Techniques such as lock bumping, lock forcing via snap guns, or lock picking can be employed to bypass those locks and gain access to the facilities or devices they protect, although stealth, evidence of tampering, and the integrity of the lock following an attack, are considerations that may determine the method employed. Physical locks are limited by the complexity of the locking mechanism. While some locks may offer protections such as shock resistant foam to prevent bumping or lock forcing methods, many commonly employed locks offer no such countermeasures.. The Domain of this is: Physical Security</td>\n",
       "    </tr>\n",
       "    <tr>\n",
       "      <th>2</th>\n",
       "      <td>CAPEC-4</td>\n",
       "      <td>Using Alternative IP Address Encodings</td>\n",
       "      <td>This attack relies on the adversary using unexpected formats for representing IP addresses. Networked applications may expect network location information in a specific format, such as fully qualified domains names (FQDNs), URL, IP address, or IP Address ranges. If the location information is not validated against a variety of different possible encodings and formats, the adversary can use an alternate format to bypass application access control.</td>\n",
       "      <td>[Software]</td>\n",
       "      <td>A CAPEC with the title Using Alternative IP Address Encodings. The description of this CAPEC is: This attack relies on the adversary using unexpected formats for representing IP addresses. Networked applications may expect network location information in a specific format, such as fully qualified domains names (FQDNs), URL, IP address, or IP Address ranges. If the location information is not validated against a variety of different possible encodings and formats, the adversary can use an alternate format to bypass application access control.. The Domain of this is: Software</td>\n",
       "    </tr>\n",
       "    <tr>\n",
       "      <th>3</th>\n",
       "      <td>CAPEC-185</td>\n",
       "      <td>Malicious Software Download</td>\n",
       "      <td>An attacker uses deceptive methods to cause a user or an automated process to download and install dangerous code that originates from an attacker controlled source. There are several variations to this strategy of attack.</td>\n",
       "      <td>[Software]</td>\n",
       "      <td>A CAPEC with the title Malicious Software Download. The description of this CAPEC is: An attacker uses deceptive methods to cause a user or an automated process to download and install dangerous code that originates from an attacker controlled source. There are several variations to this strategy of attack.. The Domain of this is: Software</td>\n",
       "    </tr>\n",
       "    <tr>\n",
       "      <th>4</th>\n",
       "      <td>CAPEC-226</td>\n",
       "      <td>Session Credential Falsification through Manipulation</td>\n",
       "      <td>An attacker manipulates an existing credential in order to gain access to a target application. Session credentials allow users to identify themselves to a service after an initial authentication without needing to resend the authentication information (usually a username and password) with every message. An attacker may be able to manipulate a credential sniffed from an existing connection in order to gain access to a target server.</td>\n",
       "      <td>[Software]</td>\n",
       "      <td>A CAPEC with the title Session Credential Falsification through Manipulation. The description of this CAPEC is: An attacker manipulates an existing credential in order to gain access to a target application. Session credentials allow users to identify themselves to a service after an initial authentication without needing to resend the authentication information (usually a username and password) with every message. An attacker may be able to manipulate a credential sniffed from an existing connection in order to gain access to a target server.. The Domain of this is: Software</td>\n",
       "    </tr>\n",
       "  </tbody>\n",
       "</table>\n",
       "</div>"
      ],
      "text/plain": [
       "    CAPEC ID                                             capec_name  \\\n",
       "0   CAPEC-87                                      Forceful Browsing   \n",
       "1  CAPEC-391                               Bypassing Physical Locks   \n",
       "2    CAPEC-4                 Using Alternative IP Address Encodings   \n",
       "3  CAPEC-185                            Malicious Software Download   \n",
       "4  CAPEC-226  Session Credential Falsification through Manipulation   \n",
       "\n",
       "                                                                                                                                                                                                                                                                                                                                                                                                                                                                                                                                                                                                                                                                                                                                                                                                                                                 capec_description  \\\n",
       "0                                                                                                                                                                                                                                                                                                                                                                                                                               An attacker employs forceful browsing (direct URL entry) to access portions of a website that are otherwise unreachable. Usually, a front controller or similar design pattern is employed to protect access to portions of a web application. Forceful browsing enables an attacker to access information, perform privileged operations and otherwise reach sections of the web application that have been improperly protected.   \n",
       "1  An attacker uses techniques and methods to bypass physical security measures of a building or facility. Physical locks may range from traditional lock and key mechanisms, cable locks used to secure laptops or servers, locks on server cases, or other such devices. Techniques such as lock bumping, lock forcing via snap guns, or lock picking can be employed to bypass those locks and gain access to the facilities or devices they protect, although stealth, evidence of tampering, and the integrity of the lock following an attack, are considerations that may determine the method employed. Physical locks are limited by the complexity of the locking mechanism. While some locks may offer protections such as shock resistant foam to prevent bumping or lock forcing methods, many commonly employed locks offer no such countermeasures.   \n",
       "2                                                                                                                                                                                                                                                                                                                                                                                               This attack relies on the adversary using unexpected formats for representing IP addresses. Networked applications may expect network location information in a specific format, such as fully qualified domains names (FQDNs), URL, IP address, or IP Address ranges. If the location information is not validated against a variety of different possible encodings and formats, the adversary can use an alternate format to bypass application access control.   \n",
       "3                                                                                                                                                                                                                                                                                                                                                                                                                                                                                                                                                                                                                                   An attacker uses deceptive methods to cause a user or an automated process to download and install dangerous code that originates from an attacker controlled source. There are several variations to this strategy of attack.   \n",
       "4                                                                                                                                                                                                                                                                                                                                                                                                            An attacker manipulates an existing credential in order to gain access to a target application. Session credentials allow users to identify themselves to a service after an initial authentication without needing to resend the authentication information (usually a username and password) with every message. An attacker may be able to manipulate a credential sniffed from an existing connection in order to gain access to a target server.   \n",
       "\n",
       "          capec_domain  \\\n",
       "0           [Software]   \n",
       "1  [Physical Security]   \n",
       "2           [Software]   \n",
       "3           [Software]   \n",
       "4           [Software]   \n",
       "\n",
       "                                                                                                                                                                                                                                                                                                                                                                                                                                                                                                                                                                                                                                                                                                                                                                                                                                                                                                                                                                                        summary  \n",
       "0                                                                                                                                                                                                                                                                                                                                                                                                                                               A CAPEC with the title Forceful Browsing. The description of this CAPEC is: An attacker employs forceful browsing (direct URL entry) to access portions of a website that are otherwise unreachable. Usually, a front controller or similar design pattern is employed to protect access to portions of a web application. Forceful browsing enables an attacker to access information, perform privileged operations and otherwise reach sections of the web application that have been improperly protected.. The Domain of this is: Software  \n",
       "1  A CAPEC with the title Bypassing Physical Locks. The description of this CAPEC is: An attacker uses techniques and methods to bypass physical security measures of a building or facility. Physical locks may range from traditional lock and key mechanisms, cable locks used to secure laptops or servers, locks on server cases, or other such devices. Techniques such as lock bumping, lock forcing via snap guns, or lock picking can be employed to bypass those locks and gain access to the facilities or devices they protect, although stealth, evidence of tampering, and the integrity of the lock following an attack, are considerations that may determine the method employed. Physical locks are limited by the complexity of the locking mechanism. While some locks may offer protections such as shock resistant foam to prevent bumping or lock forcing methods, many commonly employed locks offer no such countermeasures.. The Domain of this is: Physical Security  \n",
       "2                                                                                                                                                                                                                                                                                                                                                                                          A CAPEC with the title Using Alternative IP Address Encodings. The description of this CAPEC is: This attack relies on the adversary using unexpected formats for representing IP addresses. Networked applications may expect network location information in a specific format, such as fully qualified domains names (FQDNs), URL, IP address, or IP Address ranges. If the location information is not validated against a variety of different possible encodings and formats, the adversary can use an alternate format to bypass application access control.. The Domain of this is: Software  \n",
       "3                                                                                                                                                                                                                                                                                                                                                                                                                                                                                                                                                                                                                                         A CAPEC with the title Malicious Software Download. The description of this CAPEC is: An attacker uses deceptive methods to cause a user or an automated process to download and install dangerous code that originates from an attacker controlled source. There are several variations to this strategy of attack.. The Domain of this is: Software  \n",
       "4                                                                                                                                                                                                                                                                                                                                                                                        A CAPEC with the title Session Credential Falsification through Manipulation. The description of this CAPEC is: An attacker manipulates an existing credential in order to gain access to a target application. Session credentials allow users to identify themselves to a service after an initial authentication without needing to resend the authentication information (usually a username and password) with every message. An attacker may be able to manipulate a credential sniffed from an existing connection in order to gain access to a target server.. The Domain of this is: Software  "
      ]
     },
     "metadata": {},
     "output_type": "display_data"
    },
    {
     "name": "stdout",
     "output_type": "stream",
     "text": [
      "\n",
      "Summary statistics for text length in 'capec_description':\n",
      "count     559.000000\n",
      "mean      474.048301\n",
      "std       224.179346\n",
      "min         0.000000\n",
      "25%       301.500000\n",
      "50%       427.000000\n",
      "75%       624.000000\n",
      "max      1069.000000\n",
      "Name: capec_description, dtype: float64\n"
     ]
    }
   ],
   "source": [
    "# Display general information about capecs_df\n",
    "print(\"Shape of capecs_df:\", capecs_df.shape)\n",
    "print(\"\\nColumn names:\", capecs_df.columns.tolist())\n",
    "print(\"\\nMissing values per column:\\n\", capecs_df.isnull().sum())\n",
    "print(\"\\nData types:\\n\", capecs_df.dtypes)\n",
    "print(\"\\nFirst 5 rows:\")\n",
    "display(capecs_df.head())\n",
    "print(\"\\nSummary statistics for text length in 'capec_description':\")\n",
    "desc_lengths = capecs_df['capec_description'].dropna().str.len()\n",
    "print(desc_lengths.describe())"
   ]
  },
  {
   "cell_type": "code",
   "execution_count": 36,
   "id": "24c2fc97",
   "metadata": {},
   "outputs": [
    {
     "data": {
      "text/html": [
       "<div>\n",
       "<style scoped>\n",
       "    .dataframe tbody tr th:only-of-type {\n",
       "        vertical-align: middle;\n",
       "    }\n",
       "\n",
       "    .dataframe tbody tr th {\n",
       "        vertical-align: top;\n",
       "    }\n",
       "\n",
       "    .dataframe thead th {\n",
       "        text-align: right;\n",
       "    }\n",
       "</style>\n",
       "<table border=\"1\" class=\"dataframe\">\n",
       "  <thead>\n",
       "    <tr style=\"text-align: right;\">\n",
       "      <th></th>\n",
       "      <th>CAPEC ID</th>\n",
       "      <th>capec_name</th>\n",
       "      <th>capec_description</th>\n",
       "      <th>capec_domain</th>\n",
       "      <th>summary</th>\n",
       "    </tr>\n",
       "  </thead>\n",
       "  <tbody>\n",
       "  </tbody>\n",
       "</table>\n",
       "</div>"
      ],
      "text/plain": [
       "Empty DataFrame\n",
       "Columns: [CAPEC ID, capec_name, capec_description, capec_domain, summary]\n",
       "Index: []"
      ]
     },
     "execution_count": 36,
     "metadata": {},
     "output_type": "execute_result"
    }
   ],
   "source": [
    "# show rows with missing values in 'capec_description'\n",
    "capecs_df[capecs_df['capec_description'].isnull()]"
   ]
  },
  {
   "cell_type": "code",
   "execution_count": 37,
   "id": "00bdd8c0",
   "metadata": {},
   "outputs": [
    {
     "data": {
      "text/html": [
       "<div>\n",
       "<style scoped>\n",
       "    .dataframe tbody tr th:only-of-type {\n",
       "        vertical-align: middle;\n",
       "    }\n",
       "\n",
       "    .dataframe tbody tr th {\n",
       "        vertical-align: top;\n",
       "    }\n",
       "\n",
       "    .dataframe thead th {\n",
       "        text-align: right;\n",
       "    }\n",
       "</style>\n",
       "<table border=\"1\" class=\"dataframe\">\n",
       "  <thead>\n",
       "    <tr style=\"text-align: right;\">\n",
       "      <th></th>\n",
       "      <th>CAPEC ID</th>\n",
       "      <th>capec_name</th>\n",
       "      <th>capec_description</th>\n",
       "      <th>capec_domain</th>\n",
       "      <th>summary</th>\n",
       "    </tr>\n",
       "  </thead>\n",
       "  <tbody>\n",
       "    <tr>\n",
       "      <th>81</th>\n",
       "      <td>CAPEC-699</td>\n",
       "      <td>Eavesdropping on a Monitor</td>\n",
       "      <td>An Adversary can eavesdrop on the content of an external monitor through the air without modifying any cable or installing software, just capturing this signal emitted by the cable or video port, with this the attacker will be able to impact the confidentiality of the data without being detected by traditional security tools</td>\n",
       "      <td>not given</td>\n",
       "      <td>A CAPEC with the title Eavesdropping on a Monitor. The description of this CAPEC is: An Adversary can eavesdrop on the content of an external monitor through the air without modifying any cable or installing software, just capturing this signal emitted by the cable or video port, with this the attacker will be able to impact the confidentiality of the data without being detected by traditional security tools. The Domains of this are: n, o, t,  , g, i, v, e, n</td>\n",
       "    </tr>\n",
       "  </tbody>\n",
       "</table>\n",
       "</div>"
      ],
      "text/plain": [
       "     CAPEC ID                  capec_name  \\\n",
       "81  CAPEC-699  Eavesdropping on a Monitor   \n",
       "\n",
       "                                                                                                                                                                                                                                                                                                                         capec_description  \\\n",
       "81  An Adversary can eavesdrop on the content of an external monitor through the air without modifying any cable or installing software, just capturing this signal emitted by the cable or video port, with this the attacker will be able to impact the confidentiality of the data without being detected by traditional security tools   \n",
       "\n",
       "   capec_domain  \\\n",
       "81    not given   \n",
       "\n",
       "                                                                                                                                                                                                                                                                                                                                                                                                                                                                            summary  \n",
       "81  A CAPEC with the title Eavesdropping on a Monitor. The description of this CAPEC is: An Adversary can eavesdrop on the content of an external monitor through the air without modifying any cable or installing software, just capturing this signal emitted by the cable or video port, with this the attacker will be able to impact the confidentiality of the data without being detected by traditional security tools. The Domains of this are: n, o, t,  , g, i, v, e, n  "
      ]
     },
     "execution_count": 37,
     "metadata": {},
     "output_type": "execute_result"
    }
   ],
   "source": [
    "capecs_df[capecs_df['capec_domain'] == 'not given']"
   ]
  },
  {
   "cell_type": "code",
   "execution_count": 38,
   "id": "72f1a59b",
   "metadata": {},
   "outputs": [
    {
     "data": {
      "text/plain": [
       "capec_domain\n",
       "[Software]                                                                     287\n",
       "[Communications, Software]                                                      67\n",
       "[Social Engineering]                                                            30\n",
       "[Software, Hardware]                                                            28\n",
       "[Physical Security]                                                             15\n",
       "[Communications]                                                                13\n",
       "[Software, Physical Security, Hardware]                                          9\n",
       "[Software, Software, Software]                                                   9\n",
       "[Supply Chain, Hardware]                                                         9\n",
       "[Social Engineering, Supply Chain, Software]                                     8\n",
       "[Supply Chain, Physical Security, Hardware]                                      8\n",
       "[Supply Chain, Software]                                                         8\n",
       "[Supply Chain]                                                                   7\n",
       "[Social Engineering, Software]                                                   7\n",
       "[Supply Chain, Software, Hardware]                                               7\n",
       "[Communications, Hardware]                                                       6\n",
       "[Software, Software]                                                             6\n",
       "[Communications, Software, Hardware]                                             4\n",
       "[Social Engineering, Social Engineering]                                         4\n",
       "[Software, Hardware, Software]                                                   3\n",
       "[Social Engineering, Supply Chain, Communications, Software, Hardware]           3\n",
       "[Hardware, Hardware]                                                             3\n",
       "[Communications, Software, Physical Security]                                    2\n",
       "[Social Engineering, Communications, Software, Hardware]                         2\n",
       "[Software, Physical Security]                                                    2\n",
       "[Social Engineering, Social Engineering, Software]                               2\n",
       "[Supply Chain, Software, Physical Security, Hardware]                            2\n",
       "[Social Engineering, Software, Hardware]                                         2\n",
       "[Hardware]                                                                       1\n",
       "not given                                                                        1\n",
       "[Social Engineering, Communications, Software, Physical Security, Hardware]      1\n",
       "[Social Engineering, Communications]                                             1\n",
       "[Communications, Software, Software]                                             1\n",
       "[Software, Communications, Software]                                             1\n",
       "Name: count, dtype: int64"
      ]
     },
     "execution_count": 38,
     "metadata": {},
     "output_type": "execute_result"
    }
   ],
   "source": [
    "capecs_df['capec_domain'].value_counts()"
   ]
  },
  {
   "cell_type": "code",
   "execution_count": 39,
   "id": "47d3ca57",
   "metadata": {},
   "outputs": [
    {
     "data": {
      "text/plain": [
       "capec_domain\n",
       "Software              490\n",
       "Communications        101\n",
       "Hardware               91\n",
       "Social Engineering     66\n",
       "Supply Chain           52\n",
       "Physical Security      39\n",
       "not given               1\n",
       "Name: count, dtype: int64"
      ]
     },
     "execution_count": 39,
     "metadata": {},
     "output_type": "execute_result"
    }
   ],
   "source": [
    "# value counts for 'capec_domain'\n",
    "capecs_df['capec_domain'].explode().value_counts(dropna=False)"
   ]
  },
  {
   "cell_type": "code",
   "execution_count": 40,
   "id": "4202ea6e",
   "metadata": {},
   "outputs": [
    {
     "name": "stdout",
     "output_type": "stream",
     "text": [
      "Count of rows with duplicates: 30\n",
      "25                         [Software, Software, Software]\n",
      "29                                   [Software, Software]\n",
      "54                                   [Hardware, Hardware]\n",
      "80                         [Software, Software, Software]\n",
      "81                                              not given\n",
      "86     [Social Engineering, Social Engineering, Software]\n",
      "91               [Social Engineering, Social Engineering]\n",
      "99                                   [Software, Software]\n",
      "119                        [Software, Software, Software]\n",
      "123                                  [Hardware, Hardware]\n",
      "156              [Social Engineering, Social Engineering]\n",
      "165                                  [Software, Software]\n",
      "177                        [Software, Software, Software]\n",
      "201              [Social Engineering, Social Engineering]\n",
      "225                        [Software, Software, Software]\n",
      "243                        [Software, Hardware, Software]\n",
      "262              [Social Engineering, Social Engineering]\n",
      "286                        [Software, Software, Software]\n",
      "292    [Social Engineering, Social Engineering, Software]\n",
      "363                  [Communications, Software, Software]\n",
      "388                                  [Software, Software]\n",
      "395                        [Software, Software, Software]\n",
      "431                        [Software, Software, Software]\n",
      "455                                  [Software, Software]\n",
      "469                  [Software, Communications, Software]\n",
      "493                                  [Hardware, Hardware]\n",
      "497                        [Software, Software, Software]\n",
      "509                                  [Software, Software]\n",
      "516                        [Software, Hardware, Software]\n",
      "543                        [Software, Hardware, Software]\n",
      "Name: capec_domain, dtype: object\n"
     ]
    }
   ],
   "source": [
    "duplicates = capecs_df[capecs_df['capec_domain'].apply(lambda x: len(x) != len(set(x)))]['capec_domain']\n",
    "\n",
    "print(f\"Count of rows with duplicates: {len(duplicates)}\")\n",
    "print(duplicates)\n"
   ]
  },
  {
   "cell_type": "markdown",
   "id": "e6c210c8",
   "metadata": {},
   "source": [
    "# Data Preparation"
   ]
  },
  {
   "cell_type": "markdown",
   "id": "8cc0941a",
   "metadata": {},
   "source": [
    "Merging title and description to match the form of the original orca pipeline."
   ]
  },
  {
   "cell_type": "code",
   "execution_count": 41,
   "id": "da9f8c42",
   "metadata": {},
   "outputs": [],
   "source": [
    "threats_summary_context = {'Threat title': 'A Threat with the title ', 'Threat Description': ' and the description'}\n",
    "def add_summary_to_df(input_df, coll_context, ):\n",
    "    input_df['summary'] = ''\n",
    "    for key, value in coll_context.items():\n",
    "        input_df['summary'] +=  value + input_df[key]"
   ]
  },
  {
   "cell_type": "code",
   "execution_count": 42,
   "id": "b07ccc06",
   "metadata": {},
   "outputs": [
    {
     "data": {
      "text/plain": [
       "'A Threat with the title An attacker exploits insecure designs or lack of adaption in O-RAN components and the descriptionUnauthenticated/unauthorized access to O-RAN components could possibly be achieved via the different O-RAN interfaces, depending upon the design of the hardware-software O-RAN system and how different functions are segregated within the O-RAN system. \\nO-RAN components might be vulnerable if: \\n• Outdated component from the lack of update or patch management,\\n• Poorly design architecture,\\n• Missing appropriate security hardening,\\n• Unnecessary or insecure function/protocol/component.\\nAn attacker could, in such case, either inject malwares and/or manipulate existing software, harm the O-RAN components, create a performance issue by manipulation of parameters, or reconfigure the O-RAN components and disable the security features with the purpose of eavesdropping or wiretapping on various CUS & M planes, reaching northbound systems, attack broader network to cause denial-of-service, steal unprotected private keys, certificates, hash values, or other type of breaches.\\nIn addition, O-RAN components could be software providing network functions, so they are likely to be vulnerable to software flaws: it could be possible to bypass firewall restrictions or to take advantage of a buffer overflow to execute arbitrary commands, etc.'"
      ]
     },
     "execution_count": 42,
     "metadata": {},
     "output_type": "execute_result"
    }
   ],
   "source": [
    "add_summary_to_df(df_threats, threats_summary_context)\n",
    "df_threats.loc[0, 'summary']  "
   ]
  },
  {
   "cell_type": "markdown",
   "id": "e8cf60f6",
   "metadata": {},
   "source": [
    "Data preparation for establishing a baseline, implementing the ORCA mapping."
   ]
  },
  {
   "cell_type": "markdown",
   "id": "0e327b99",
   "metadata": {},
   "source": [
    "1. Add the embedding to the threat and to to the capec data"
   ]
  },
  {
   "cell_type": "code",
   "execution_count": 43,
   "id": "16259f13",
   "metadata": {},
   "outputs": [],
   "source": [
    "model = SentenceTransformer('sentence-transformers/all-MiniLM-L12-v2')\n",
    "\n",
    "def preprocess_description(description):\n",
    "    # remove patterns not semantically relevant\n",
    "    pattern = r\"\\((http|https)\\S+\\)|['\\[\\]]+\"\n",
    "    description = re.sub(pattern, \"\", description)\n",
    "    return description\n",
    "\n",
    "def gen_embedding(description):\n",
    "    if isinstance(description, str):\n",
    "        description1 = description\n",
    "    else:\n",
    "        description1 = '\\n'.join(description)\n",
    "    description = preprocess_description(description1)\n",
    "    return model.encode(description, convert_to_numpy=True)\n",
    "\n",
    "def add_embedd_to_df(input_df, descryption_name):\n",
    "    input_df['embedding'] = input_df[descryption_name].apply(gen_embedding)"
   ]
  },
  {
   "cell_type": "code",
   "execution_count": 44,
   "id": "65e1164c",
   "metadata": {},
   "outputs": [],
   "source": [
    "# add embedding to the threats dataframe\n",
    "add_embedd_to_df(df_threats, 'summary')"
   ]
  },
  {
   "cell_type": "code",
   "execution_count": 45,
   "id": "9a66e009",
   "metadata": {},
   "outputs": [],
   "source": [
    "# add embedding to the capecs dataframe\n",
    "#capecs_with_embeddings_df = capecs_df.copy()\n",
    "#add_embedd_to_df(capecs_with_embeddings_df, 'summary')\n",
    "#capecs_with_embeddings_df.to_pickle('capec_data/capecs_with_embeddings.pk1')"
   ]
  },
  {
   "cell_type": "code",
   "execution_count": 46,
   "id": "d4b8f3ac",
   "metadata": {},
   "outputs": [],
   "source": [
    "capecs_with_embeddings_df = pd.read_pickle('capec_data/capecs_with_embeddings.pk1')"
   ]
  },
  {
   "cell_type": "markdown",
   "id": "f416d6be",
   "metadata": {},
   "source": [
    "2. generate the mapping of threats to capecs"
   ]
  },
  {
   "cell_type": "code",
   "execution_count": 47,
   "id": "fdfee626",
   "metadata": {},
   "outputs": [],
   "source": [
    "DOMAIN = \"enterprise-attack\"\n",
    "def gen_mapping(th_df, te_df):\n",
    "    maping = pd.DataFrame()\n",
    "    if 'summary' in th_df.columns:\n",
    "        th_df.rename(columns={'summary': 'summary_th_df'}, inplace=True)\n",
    "    if 'summary' in te_df.columns:\n",
    "        te_df.rename(columns={'summary': 'summary_ca_df'}, inplace=True)\n",
    "\n",
    "    for tec_index, row_techniques in te_df.iterrows():\n",
    "        for thr_index, row_threats in th_df.iterrows():\n",
    "            cosine_similarity = util.pytorch_cos_sim(torch.from_numpy(row_techniques['embedding']),\n",
    "                                                     torch.from_numpy(row_threats['embedding']))\n",
    "            comb = pd.concat([row_techniques, row_threats], axis=0)\n",
    "            comb = comb.to_frame().T\n",
    "            comb['Similarity'] = cosine_similarity\n",
    "            maping = pd.concat([maping, comb], ignore_index=True)\n",
    "\n",
    "    maping['Domain'] = DOMAIN\n",
    "    return maping"
   ]
  },
  {
   "cell_type": "code",
   "execution_count": 48,
   "id": "961117b0",
   "metadata": {},
   "outputs": [
    {
     "data": {
      "text/plain": [
       "Index(['Threat ID', 'Threat title', 'Threat Description', 'Threat type',\n",
       "       'Impact type', 'Threat agent', 'Vulnerability', 'Threatened Asset',\n",
       "       'Affected Components', 'summary', 'embedding'],\n",
       "      dtype='object')"
      ]
     },
     "execution_count": 48,
     "metadata": {},
     "output_type": "execute_result"
    }
   ],
   "source": [
    "df_threats.columns"
   ]
  },
  {
   "cell_type": "code",
   "execution_count": 49,
   "id": "fab3b91a",
   "metadata": {},
   "outputs": [
    {
     "data": {
      "text/html": [
       "<div>\n",
       "<style scoped>\n",
       "    .dataframe tbody tr th:only-of-type {\n",
       "        vertical-align: middle;\n",
       "    }\n",
       "\n",
       "    .dataframe tbody tr th {\n",
       "        vertical-align: top;\n",
       "    }\n",
       "\n",
       "    .dataframe thead th {\n",
       "        text-align: right;\n",
       "    }\n",
       "</style>\n",
       "<table border=\"1\" class=\"dataframe\">\n",
       "  <thead>\n",
       "    <tr style=\"text-align: right;\">\n",
       "      <th></th>\n",
       "      <th>Threat ID</th>\n",
       "      <th>Threat title</th>\n",
       "      <th>Threat Description</th>\n",
       "      <th>Threat type</th>\n",
       "      <th>Impact type</th>\n",
       "      <th>Threat agent</th>\n",
       "      <th>Vulnerability</th>\n",
       "      <th>Threatened Asset</th>\n",
       "      <th>Affected Components</th>\n",
       "      <th>summary</th>\n",
       "      <th>embedding</th>\n",
       "    </tr>\n",
       "  </thead>\n",
       "  <tbody>\n",
       "    <tr>\n",
       "      <th>0</th>\n",
       "      <td>T-O-RAN-01</td>\n",
       "      <td>An attacker exploits insecure designs or lack of adaption in O-RAN components</td>\n",
       "      <td>Unauthenticated/unauthorized access to O-RAN components could possibly be achieved via the different O-RAN interfaces, depending upon the design of the hardware-software O-RAN system and how different functions are segregated within the O-RAN system. \\nO-RAN components might be vulnerable if: \\n• Outdated component from the lack of update or patch management,\\n• Poorly design architecture,\\n• Missing appropriate security hardening,\\n• Unnecessary or insecure function/protocol/component.\\nAn attacker could, in such case, either inject malwares and/or manipulate existing software, harm the O-RAN components, create a performance issue by manipulation of parameters, or reconfigure the O-RAN components and disable the security features with the purpose of eavesdropping or wiretapping on various CUS &amp; M planes, reaching northbound systems, attack broader network to cause denial-of-service, steal unprotected private keys, certificates, hash values, or other type of breaches.\\nIn addition, O-RAN components could be software providing network functions, so they are likely to be vulnerable to software flaws: it could be possible to bypass firewall restrictions or to take advantage of a buffer overflow to execute arbitrary commands, etc.</td>\n",
       "      <td>None</td>\n",
       "      <td>None</td>\n",
       "      <td>All</td>\n",
       "      <td>[Outdated component from the lack of update or patch management]</td>\n",
       "      <td>[ASSET D-11, ASSET D-20, ASSET D-21, ASSET-C-02, ASSET-C-03, ASSET-C-07, ASSET-C-08, ASSET-C-09, ASSET-C-1, ASSET-C-10, ASSET-C-11, ASSET-C-12, ASSET-C-14, ASSET-C-16, ASSET-C-17, ASSET-C-18, ASSET-C-19, ASSET-C-2, ASSET-C-20, ASSET-C-21, ASSET-C-22, ASSET-C-23, ASSET-C-24, ASSET-C-25, ASSET-C-26, ASSET-C-27, ASSET-C-28, ASSET-C-3, ASSET-C-31, ASSET-C-32, ASSET-C-33, ASSET-C-34, ASSET-C-35, ASSET-C-36, ASSET-C-37, ASSET-C-38, ASSET-C-39, ASSET-C-4, ASSET-C-40, ASSET-C-42, ASSET-C-5, ASSET-C-6, ASSET-C-7, ASSET-C-8, ASSET-C-9, ASSET-D-01, ASSET-D-02, ASSET-D-03, ASSET-D-04, ASSET-D-05, ASSET-D-06, ASSET-D-07, ASSET-D-08, ASSET-D-09, ASSET-D-1, ASSET-D-10, ASSET-D-11, ASSET-D-12, ASSET-D-13, ASSET-D-14, ASSET-D-15, ASSET-D-16, ASSET-D-17, ASSET-D-18, ASSET-D-19, ASSET-D-2, ASSET-D-20, ASSET-D-21, ASSET-D-22, ASSET-D-23, ASSET-D-24, ASSET-D-25, ASSET-D-26, ASSET-D-27, ASSET-D-28, ASSET-D-29, ASSET-D-3, ASSET-D-30, ASSET-D-31, ASSET-D-32, ASSET-D-33, ASSET-D-34, ASSET-D-35, ASSET-D-36, ASSET-D-37, ASSET-D-38, ASSET-D-39, ASSET-D-4, ASSET-D-41, ASSET-D-43, ASSET-D-5, ASSET-D-6, ASSET-D-7, ASSET-D-8, ASSET-D-9]</td>\n",
       "      <td>[All]</td>\n",
       "      <td>A Threat with the title An attacker exploits insecure designs or lack of adaption in O-RAN components and the descriptionUnauthenticated/unauthorized access to O-RAN components could possibly be achieved via the different O-RAN interfaces, depending upon the design of the hardware-software O-RAN system and how different functions are segregated within the O-RAN system. \\nO-RAN components might be vulnerable if: \\n• Outdated component from the lack of update or patch management,\\n• Poorly design architecture,\\n• Missing appropriate security hardening,\\n• Unnecessary or insecure function/protocol/component.\\nAn attacker could, in such case, either inject malwares and/or manipulate existing software, harm the O-RAN components, create a performance issue by manipulation of parameters, or reconfigure the O-RAN components and disable the security features with the purpose of eavesdropping or wiretapping on various CUS &amp; M planes, reaching northbound systems, attack broader network to cause denial-of-service, steal unprotected private keys, certificates, hash values, or other type of breaches.\\nIn addition, O-RAN components could be software providing network functions, so they are likely to be vulnerable to software flaws: it could be possible to bypass firewall restrictions or to take advantage of a buffer overflow to execute arbitrary commands, etc.</td>\n",
       "      <td>[-0.010102325, -0.017270533, -0.00813448, 0.02559187, 0.050386857, -0.0069106007, -0.031579234, 0.045511425, -0.0015760451, -0.06746772, 0.014224476, -0.011267206, -0.012497124, -0.066238426, 0.0728696, -0.0049607367, 0.06156875, 0.061746944, 0.019245202, 0.033981156, -0.023934243, -0.021072073, 0.038360436, -0.05043104, -0.04977354, -0.025756506, -0.04932032, -0.037560496, 0.008229394, 0.035307486, -0.07415313, 0.07448258, -0.044878673, 0.032039754, -0.062232215, -0.07966976, 0.014991009, -0.03818046, -0.025780482, -0.024954604, -0.032835606, -0.06344969, 0.034607574, 0.047588356, -0.10460591, -0.04411524, 0.009540368, 0.0001595905, -0.06655226, -0.11953709, 0.00999927, -0.020775523, 0.05184616, -0.0009901617, -0.053097237, -0.053589307, -0.031280152, 0.036076482, -0.03585943, -0.041788768, 0.0402736, 0.030348955, -0.0029170888, -0.013315593, -0.0028420947, -0.04450618, 0.08411582, 0.014898451, 0.056238133, -0.07322954, -0.023873808, 0.016372632, -0.016805122, -0.107840255, -0.09637464, 0.05894098, -0.103519514, 0.0069127963, 0.028100621, -0.069018774, 0.06884049, 0.07469422, -0.015132693, 0.0262305, -0.09360705, 0.12704319, -0.0014904095, 0.0029233808, 0.06733692, -0.0002970356, -0.022398721, -0.063652255, 0.076292485, -0.02830382, 0.091882326, 0.002829991, -0.027176036, -0.08216479, -0.07969894, 0.058460124, ...]</td>\n",
       "    </tr>\n",
       "  </tbody>\n",
       "</table>\n",
       "</div>"
      ],
      "text/plain": [
       "    Threat ID  \\\n",
       "0  T-O-RAN-01   \n",
       "\n",
       "                                                                    Threat title  \\\n",
       "0  An attacker exploits insecure designs or lack of adaption in O-RAN components   \n",
       "\n",
       "                                                                                                                                                                                                                                                                                                                                                                                                                                                                                                                                                                                                                                                                                                                                                                                                                                                                                                                                                                                                                                                                                                                                                                                                                                                                               Threat Description  \\\n",
       "0  Unauthenticated/unauthorized access to O-RAN components could possibly be achieved via the different O-RAN interfaces, depending upon the design of the hardware-software O-RAN system and how different functions are segregated within the O-RAN system. \\nO-RAN components might be vulnerable if: \\n• Outdated component from the lack of update or patch management,\\n• Poorly design architecture,\\n• Missing appropriate security hardening,\\n• Unnecessary or insecure function/protocol/component.\\nAn attacker could, in such case, either inject malwares and/or manipulate existing software, harm the O-RAN components, create a performance issue by manipulation of parameters, or reconfigure the O-RAN components and disable the security features with the purpose of eavesdropping or wiretapping on various CUS & M planes, reaching northbound systems, attack broader network to cause denial-of-service, steal unprotected private keys, certificates, hash values, or other type of breaches.\\nIn addition, O-RAN components could be software providing network functions, so they are likely to be vulnerable to software flaws: it could be possible to bypass firewall restrictions or to take advantage of a buffer overflow to execute arbitrary commands, etc.   \n",
       "\n",
       "  Threat type Impact type Threat agent  \\\n",
       "0        None        None          All   \n",
       "\n",
       "                                                      Vulnerability  \\\n",
       "0  [Outdated component from the lack of update or patch management]   \n",
       "\n",
       "                                                                                                                                                                                                                                                                                                                                                                                                                                                                                                                                                                                                                                                                                                                                                                                                                                                                                                                                                                                                                                                                                                                                                     Threatened Asset  \\\n",
       "0  [ASSET D-11, ASSET D-20, ASSET D-21, ASSET-C-02, ASSET-C-03, ASSET-C-07, ASSET-C-08, ASSET-C-09, ASSET-C-1, ASSET-C-10, ASSET-C-11, ASSET-C-12, ASSET-C-14, ASSET-C-16, ASSET-C-17, ASSET-C-18, ASSET-C-19, ASSET-C-2, ASSET-C-20, ASSET-C-21, ASSET-C-22, ASSET-C-23, ASSET-C-24, ASSET-C-25, ASSET-C-26, ASSET-C-27, ASSET-C-28, ASSET-C-3, ASSET-C-31, ASSET-C-32, ASSET-C-33, ASSET-C-34, ASSET-C-35, ASSET-C-36, ASSET-C-37, ASSET-C-38, ASSET-C-39, ASSET-C-4, ASSET-C-40, ASSET-C-42, ASSET-C-5, ASSET-C-6, ASSET-C-7, ASSET-C-8, ASSET-C-9, ASSET-D-01, ASSET-D-02, ASSET-D-03, ASSET-D-04, ASSET-D-05, ASSET-D-06, ASSET-D-07, ASSET-D-08, ASSET-D-09, ASSET-D-1, ASSET-D-10, ASSET-D-11, ASSET-D-12, ASSET-D-13, ASSET-D-14, ASSET-D-15, ASSET-D-16, ASSET-D-17, ASSET-D-18, ASSET-D-19, ASSET-D-2, ASSET-D-20, ASSET-D-21, ASSET-D-22, ASSET-D-23, ASSET-D-24, ASSET-D-25, ASSET-D-26, ASSET-D-27, ASSET-D-28, ASSET-D-29, ASSET-D-3, ASSET-D-30, ASSET-D-31, ASSET-D-32, ASSET-D-33, ASSET-D-34, ASSET-D-35, ASSET-D-36, ASSET-D-37, ASSET-D-38, ASSET-D-39, ASSET-D-4, ASSET-D-41, ASSET-D-43, ASSET-D-5, ASSET-D-6, ASSET-D-7, ASSET-D-8, ASSET-D-9]   \n",
       "\n",
       "  Affected Components  \\\n",
       "0               [All]   \n",
       "\n",
       "                                                                                                                                                                                                                                                                                                                                                                                                                                                                                                                                                                                                                                                                                                                                                                                                                                                                                                                                                                                                                                                                                                                                                                                                                                                                                                                                                                                                                   summary  \\\n",
       "0  A Threat with the title An attacker exploits insecure designs or lack of adaption in O-RAN components and the descriptionUnauthenticated/unauthorized access to O-RAN components could possibly be achieved via the different O-RAN interfaces, depending upon the design of the hardware-software O-RAN system and how different functions are segregated within the O-RAN system. \\nO-RAN components might be vulnerable if: \\n• Outdated component from the lack of update or patch management,\\n• Poorly design architecture,\\n• Missing appropriate security hardening,\\n• Unnecessary or insecure function/protocol/component.\\nAn attacker could, in such case, either inject malwares and/or manipulate existing software, harm the O-RAN components, create a performance issue by manipulation of parameters, or reconfigure the O-RAN components and disable the security features with the purpose of eavesdropping or wiretapping on various CUS & M planes, reaching northbound systems, attack broader network to cause denial-of-service, steal unprotected private keys, certificates, hash values, or other type of breaches.\\nIn addition, O-RAN components could be software providing network functions, so they are likely to be vulnerable to software flaws: it could be possible to bypass firewall restrictions or to take advantage of a buffer overflow to execute arbitrary commands, etc.   \n",
       "\n",
       "                                                                                                                                                                                                                                                                                                                                                                                                                                                                                                                                                                                                                                                                                                                                                                                                                                                                                                                                                                                                                                                                                                                                                                                                                                                                                                                                                                                   embedding  \n",
       "0  [-0.010102325, -0.017270533, -0.00813448, 0.02559187, 0.050386857, -0.0069106007, -0.031579234, 0.045511425, -0.0015760451, -0.06746772, 0.014224476, -0.011267206, -0.012497124, -0.066238426, 0.0728696, -0.0049607367, 0.06156875, 0.061746944, 0.019245202, 0.033981156, -0.023934243, -0.021072073, 0.038360436, -0.05043104, -0.04977354, -0.025756506, -0.04932032, -0.037560496, 0.008229394, 0.035307486, -0.07415313, 0.07448258, -0.044878673, 0.032039754, -0.062232215, -0.07966976, 0.014991009, -0.03818046, -0.025780482, -0.024954604, -0.032835606, -0.06344969, 0.034607574, 0.047588356, -0.10460591, -0.04411524, 0.009540368, 0.0001595905, -0.06655226, -0.11953709, 0.00999927, -0.020775523, 0.05184616, -0.0009901617, -0.053097237, -0.053589307, -0.031280152, 0.036076482, -0.03585943, -0.041788768, 0.0402736, 0.030348955, -0.0029170888, -0.013315593, -0.0028420947, -0.04450618, 0.08411582, 0.014898451, 0.056238133, -0.07322954, -0.023873808, 0.016372632, -0.016805122, -0.107840255, -0.09637464, 0.05894098, -0.103519514, 0.0069127963, 0.028100621, -0.069018774, 0.06884049, 0.07469422, -0.015132693, 0.0262305, -0.09360705, 0.12704319, -0.0014904095, 0.0029233808, 0.06733692, -0.0002970356, -0.022398721, -0.063652255, 0.076292485, -0.02830382, 0.091882326, 0.002829991, -0.027176036, -0.08216479, -0.07969894, 0.058460124, ...]  "
      ]
     },
     "execution_count": 49,
     "metadata": {},
     "output_type": "execute_result"
    }
   ],
   "source": [
    "df_threats.head(1)"
   ]
  },
  {
   "cell_type": "code",
   "execution_count": 50,
   "id": "942bcdda",
   "metadata": {},
   "outputs": [
    {
     "data": {
      "text/plain": [
       "Index(['CAPEC ID', 'capec_name', 'capec_description', 'capec_domain',\n",
       "       'summary', 'embedding'],\n",
       "      dtype='object')"
      ]
     },
     "execution_count": 50,
     "metadata": {},
     "output_type": "execute_result"
    }
   ],
   "source": [
    "capecs_with_embeddings_df.columns"
   ]
  },
  {
   "cell_type": "code",
   "execution_count": 51,
   "id": "a2d87949",
   "metadata": {},
   "outputs": [],
   "source": [
    "capec_mapping = gen_mapping(df_threats, capecs_with_embeddings_df)"
   ]
  },
  {
   "cell_type": "markdown",
   "id": "558e7fd6",
   "metadata": {},
   "source": [
    "3. format the mapping"
   ]
  },
  {
   "cell_type": "code",
   "execution_count": 52,
   "id": "d8d3bee2",
   "metadata": {},
   "outputs": [],
   "source": [
    "COLOM_MAP = {'ID': 'Technique', 'name': 'yeet', 'Threat ID': 'Name', 'tactics': 'tactic', 'Threat title':'Description'}\n",
    "MAP_ORDER_capec = ['Name', 'Domain', 'Description', 'CAPEC ID', 'Similarity', 'summary_th_df', 'summary_ca_df']\n",
    "def format_map(ma, MAP_ORDER):\n",
    "    ma.rename(columns=COLOM_MAP, inplace=True)\n",
    "    ma = ma.loc[:, MAP_ORDER]\n",
    "    return ma"
   ]
  },
  {
   "cell_type": "code",
   "execution_count": 53,
   "id": "b20abf8c",
   "metadata": {},
   "outputs": [],
   "source": [
    "threat2capec_mapping_df = format_map(capec_mapping, MAP_ORDER_capec)"
   ]
  },
  {
   "cell_type": "code",
   "execution_count": 54,
   "id": "75581e99",
   "metadata": {},
   "outputs": [],
   "source": [
    "# save capec mappings to pickle\n",
    "#threat2capec_mapping_df.to_pickle('mapped_data/all_t2c_mappings.pk1')"
   ]
  },
  {
   "cell_type": "code",
   "execution_count": 55,
   "id": "bc0e0138",
   "metadata": {},
   "outputs": [],
   "source": [
    "threat2capec_mapping_df = pd.read_pickle('mapped_data/all_t2c_mappings.pk1')"
   ]
  },
  {
   "cell_type": "code",
   "execution_count": 56,
   "id": "b7cff321",
   "metadata": {},
   "outputs": [
    {
     "data": {
      "text/html": [
       "<div>\n",
       "<style scoped>\n",
       "    .dataframe tbody tr th:only-of-type {\n",
       "        vertical-align: middle;\n",
       "    }\n",
       "\n",
       "    .dataframe tbody tr th {\n",
       "        vertical-align: top;\n",
       "    }\n",
       "\n",
       "    .dataframe thead th {\n",
       "        text-align: right;\n",
       "    }\n",
       "</style>\n",
       "<table border=\"1\" class=\"dataframe\">\n",
       "  <thead>\n",
       "    <tr style=\"text-align: right;\">\n",
       "      <th></th>\n",
       "      <th>Name</th>\n",
       "      <th>Domain</th>\n",
       "      <th>Description</th>\n",
       "      <th>CAPEC ID</th>\n",
       "      <th>Similarity</th>\n",
       "      <th>summary_th_df</th>\n",
       "      <th>summary_ca_df</th>\n",
       "    </tr>\n",
       "  </thead>\n",
       "  <tbody>\n",
       "    <tr>\n",
       "      <th>0</th>\n",
       "      <td>T-O-RAN-01</td>\n",
       "      <td>enterprise-attack</td>\n",
       "      <td>An attacker exploits insecure designs or lack of adaption in O-RAN components</td>\n",
       "      <td>CAPEC-87</td>\n",
       "      <td>0.246462</td>\n",
       "      <td>A Threat with the title An attacker exploits insecure designs or lack of adaption in O-RAN components and the descriptionUnauthenticated/unauthorized access to O-RAN components could possibly be achieved via the different O-RAN interfaces, depending upon the design of the hardware-software O-RAN system and how different functions are segregated within the O-RAN system. \\nO-RAN components might be vulnerable if: \\n• Outdated component from the lack of update or patch management,\\n• Poorly design architecture,\\n• Missing appropriate security hardening,\\n• Unnecessary or insecure function/protocol/component.\\nAn attacker could, in such case, either inject malwares and/or manipulate existing software, harm the O-RAN components, create a performance issue by manipulation of parameters, or reconfigure the O-RAN components and disable the security features with the purpose of eavesdropping or wiretapping on various CUS &amp; M planes, reaching northbound systems, attack broader network to cause denial-of-service, steal unprotected private keys, certificates, hash values, or other type of breaches.\\nIn addition, O-RAN components could be software providing network functions, so they are likely to be vulnerable to software flaws: it could be possible to bypass firewall restrictions or to take advantage of a buffer overflow to execute arbitrary commands, etc.</td>\n",
       "      <td>A CAPEC with the title Forceful Browsing. The description of this CAPEC is: An attacker employs forceful browsing (direct URL entry) to access portions of a website that are otherwise unreachable. Usually, a front controller or similar design pattern is employed to protect access to portions of a web application. Forceful browsing enables an attacker to access information, perform privileged operations and otherwise reach sections of the web application that have been improperly protected.. The Domain of this is: Software</td>\n",
       "    </tr>\n",
       "    <tr>\n",
       "      <th>1</th>\n",
       "      <td>T-O-RAN-02</td>\n",
       "      <td>enterprise-attack</td>\n",
       "      <td>An attacker exploits misconfigured or poorly configured O-RAN components</td>\n",
       "      <td>CAPEC-87</td>\n",
       "      <td>0.270846</td>\n",
       "      <td>A Threat with the title An attacker exploits misconfigured or poorly configured O-RAN components and the descriptionUnauthenticated/unauthorized access to O-RAN components could possibly be achieved via the different O-RAN interfaces, depending upon the configuration of the hardware-software O-RAN system. \\nO-RAN components might be vulnerable if: \\n• Errors from the lack of configuration change management,\\n• Misconfigured or poorly configured O-RAN components,\\n• Improperly configured permissions,\\n• Unnecessary features are enabled (e.g. unnecessary ports, services, accounts, or privileges),\\n• Default accounts and their passwords still enabled and unchanged,\\n• Security features are disabled or not configured securely.\\nAn attacker could, in such case, either inject malwares and/or manipulate existing software, harm the O-RAN components, create a performance issue by manipulation of parameters, or reconfigure the O-RAN components and disable the security features with the purpose of eavesdropping or wiretapping on various CUS &amp; M planes, reaching northbound systems, attack broader network to cause denial-of-service, steal unprotected private keys, certificates, hash values, or other type of breaches.</td>\n",
       "      <td>A CAPEC with the title Forceful Browsing. The description of this CAPEC is: An attacker employs forceful browsing (direct URL entry) to access portions of a website that are otherwise unreachable. Usually, a front controller or similar design pattern is employed to protect access to portions of a web application. Forceful browsing enables an attacker to access information, perform privileged operations and otherwise reach sections of the web application that have been improperly protected.. The Domain of this is: Software</td>\n",
       "    </tr>\n",
       "    <tr>\n",
       "      <th>2</th>\n",
       "      <td>T-O-RAN-03</td>\n",
       "      <td>enterprise-attack</td>\n",
       "      <td>Attacks from the internet to penetrate O-RAN network boundary</td>\n",
       "      <td>CAPEC-87</td>\n",
       "      <td>0.391938</td>\n",
       "      <td>A Threat with the title Attacks from the internet to penetrate O-RAN network boundary and the descriptionWeb servers serving O-RAN functional and management services should provide adequate protection. \\nAn attacker that have access to the uncontrolled O-RAN network could:\\n• Bypass the information flow control policy implemented by the firewall,\\n• And/or attack O-RAN components in the trusted networks by taking advantage of particularities and errors in the design and implementation of the network protocols (IP, TCP, UDP, application protocols),\\n• Use of incorrect or exceeded TCP sequence numbers,\\n• Perform brute force attacks on FTP passwords,\\n• Use of improper HTTP user sessions,\\n• Etc.\\nThe effects of such attacks may include:\\n• An intrusion, meaning unauthorized access to O-RAN components,\\n• Blocking, flooding or restarting an O-RAN component causing a denial of service,\\n• Flooding of network equipment, causing a denial of service,\\n• Etc.</td>\n",
       "      <td>A CAPEC with the title Forceful Browsing. The description of this CAPEC is: An attacker employs forceful browsing (direct URL entry) to access portions of a website that are otherwise unreachable. Usually, a front controller or similar design pattern is employed to protect access to portions of a web application. Forceful browsing enables an attacker to access information, perform privileged operations and otherwise reach sections of the web application that have been improperly protected.. The Domain of this is: Software</td>\n",
       "    </tr>\n",
       "    <tr>\n",
       "      <th>3</th>\n",
       "      <td>T-O-RAN-04</td>\n",
       "      <td>enterprise-attack</td>\n",
       "      <td>An attacker attempts to jam the airlink signal through IoT devices</td>\n",
       "      <td>CAPEC-87</td>\n",
       "      <td>0.267341</td>\n",
       "      <td>A Threat with the title An attacker attempts to jam the airlink signal through IoT devices and the descriptionDDoS attacks on O-RAN systems: The 5G evolution means billions of things, collectively referred to as IoT, will be using the 5G O-RAN. Thus, IoT could increase the risk of O-RAN resource overload by way of DDoS attacks. Attackers create a botnet army by infecting many (millions/billions) IoT devices with a “remote-reboot” malware. Attackers instruct the malware to reboot all devices in a specific or targeted 5G coverage area at the same time.</td>\n",
       "      <td>A CAPEC with the title Forceful Browsing. The description of this CAPEC is: An attacker employs forceful browsing (direct URL entry) to access portions of a website that are otherwise unreachable. Usually, a front controller or similar design pattern is employed to protect access to portions of a web application. Forceful browsing enables an attacker to access information, perform privileged operations and otherwise reach sections of the web application that have been improperly protected.. The Domain of this is: Software</td>\n",
       "    </tr>\n",
       "    <tr>\n",
       "      <th>4</th>\n",
       "      <td>T-O-RAN-05</td>\n",
       "      <td>enterprise-attack</td>\n",
       "      <td>An attacker penetrates and compromises the O-RAN system through the open O-RAN’s Fronthaul, O1, O2, A1, and E2</td>\n",
       "      <td>CAPEC-87</td>\n",
       "      <td>0.373829</td>\n",
       "      <td>A Threat with the title An attacker penetrates and compromises the O-RAN system through the open O-RAN’s Fronthaul, O1, O2, A1, and E2 and the descriptionO-RAN’s Fronthaul, O1, O2, A1, and E2 management interfaces are the new open interfaces that allow software programmability of RAN. These interfaces may not be secured to industry best practices.\\nO-RAN components might be vulnerable if: \\n• Improper or missing authentication and authorization processes,\\n• Improper or missing ciphering and integrity checks of sensitive data exchanged over O-RAN interfaces,\\n• Improper or missing replay protection of sensitive data exchanged over O-RAN interfaces,\\n• Improper prevention of key reuse,\\n• Improper implementation,\\n• Improperly validate inputs, respond to error conditions in both the submitted data as well as out of sequence protocol steps.\\nAn attacker could, in such case, cause denial-of-service, data tampering or information disclosure, etc.\\nNOTE: O-RAN interfaces allow use of TLS or SSH. Industry best practices mandate the use of TLS (v1.2 or higher) or SSH certificate-based authentication. An implementation that implements TLS version lower than 1.2 or a SSH password authentication, may become the key source of vulnerability that a malicious code will exploit to compromise the O-RAN system.</td>\n",
       "      <td>A CAPEC with the title Forceful Browsing. The description of this CAPEC is: An attacker employs forceful browsing (direct URL entry) to access portions of a website that are otherwise unreachable. Usually, a front controller or similar design pattern is employed to protect access to portions of a web application. Forceful browsing enables an attacker to access information, perform privileged operations and otherwise reach sections of the web application that have been improperly protected.. The Domain of this is: Software</td>\n",
       "    </tr>\n",
       "    <tr>\n",
       "      <th>5</th>\n",
       "      <td>T-O-RAN-06</td>\n",
       "      <td>enterprise-attack</td>\n",
       "      <td>An attacker exploits insufficient/improper mechanisms for authentication and authorization to compromise O-RAN components</td>\n",
       "      <td>CAPEC-87</td>\n",
       "      <td>0.327463</td>\n",
       "      <td>A Threat with the title An attacker exploits insufficient/improper mechanisms for authentication and authorization to compromise O-RAN components and the descriptionO-RAN management and orchestration should not be used without appropriate authentication and authorization and authorization checks. \\nO-RAN components might be vulnerable if: \\n• Unauthenticated access to O-RAN functions,\\n• Improper authentication mechanisms,\\n• Use of Predefined/ default accounts,\\n• Weak or missing password policy,\\n• Lack of mutual authentication to O-RAN components and interfaces,\\n• Failure to block consecutive failed login attempts,\\n• Improper authorization and access control policy.\\nAn attacker could, in such case, either inject malwares and/or manipulate existing software, harm the O-RAN components, create a performance issue by manipulation of parameters, or reconfigure the O-RAN components and disable the security features with the purpose of eavesdropping or wiretapping on various CUS &amp; M planes, reaching northbound systems, attack broader network to cause denial-of-service, steal unprotected private keys, certificates, hash values, or other type of breaches.</td>\n",
       "      <td>A CAPEC with the title Forceful Browsing. The description of this CAPEC is: An attacker employs forceful browsing (direct URL entry) to access portions of a website that are otherwise unreachable. Usually, a front controller or similar design pattern is employed to protect access to portions of a web application. Forceful browsing enables an attacker to access information, perform privileged operations and otherwise reach sections of the web application that have been improperly protected.. The Domain of this is: Software</td>\n",
       "    </tr>\n",
       "  </tbody>\n",
       "</table>\n",
       "</div>"
      ],
      "text/plain": [
       "         Name             Domain  \\\n",
       "0  T-O-RAN-01  enterprise-attack   \n",
       "1  T-O-RAN-02  enterprise-attack   \n",
       "2  T-O-RAN-03  enterprise-attack   \n",
       "3  T-O-RAN-04  enterprise-attack   \n",
       "4  T-O-RAN-05  enterprise-attack   \n",
       "5  T-O-RAN-06  enterprise-attack   \n",
       "\n",
       "                                                                                                                 Description  \\\n",
       "0                                              An attacker exploits insecure designs or lack of adaption in O-RAN components   \n",
       "1                                                   An attacker exploits misconfigured or poorly configured O-RAN components   \n",
       "2                                                              Attacks from the internet to penetrate O-RAN network boundary   \n",
       "3                                                         An attacker attempts to jam the airlink signal through IoT devices   \n",
       "4             An attacker penetrates and compromises the O-RAN system through the open O-RAN’s Fronthaul, O1, O2, A1, and E2   \n",
       "5  An attacker exploits insufficient/improper mechanisms for authentication and authorization to compromise O-RAN components   \n",
       "\n",
       "   CAPEC ID  Similarity  \\\n",
       "0  CAPEC-87    0.246462   \n",
       "1  CAPEC-87    0.270846   \n",
       "2  CAPEC-87    0.391938   \n",
       "3  CAPEC-87    0.267341   \n",
       "4  CAPEC-87    0.373829   \n",
       "5  CAPEC-87    0.327463   \n",
       "\n",
       "                                                                                                                                                                                                                                                                                                                                                                                                                                                                                                                                                                                                                                                                                                                                                                                                                                                                                                                                                                                                                                                                                                                                                                                                                                                                                                                                                                                                             summary_th_df  \\\n",
       "0  A Threat with the title An attacker exploits insecure designs or lack of adaption in O-RAN components and the descriptionUnauthenticated/unauthorized access to O-RAN components could possibly be achieved via the different O-RAN interfaces, depending upon the design of the hardware-software O-RAN system and how different functions are segregated within the O-RAN system. \\nO-RAN components might be vulnerable if: \\n• Outdated component from the lack of update or patch management,\\n• Poorly design architecture,\\n• Missing appropriate security hardening,\\n• Unnecessary or insecure function/protocol/component.\\nAn attacker could, in such case, either inject malwares and/or manipulate existing software, harm the O-RAN components, create a performance issue by manipulation of parameters, or reconfigure the O-RAN components and disable the security features with the purpose of eavesdropping or wiretapping on various CUS & M planes, reaching northbound systems, attack broader network to cause denial-of-service, steal unprotected private keys, certificates, hash values, or other type of breaches.\\nIn addition, O-RAN components could be software providing network functions, so they are likely to be vulnerable to software flaws: it could be possible to bypass firewall restrictions or to take advantage of a buffer overflow to execute arbitrary commands, etc.   \n",
       "1                                                                                                                                                  A Threat with the title An attacker exploits misconfigured or poorly configured O-RAN components and the descriptionUnauthenticated/unauthorized access to O-RAN components could possibly be achieved via the different O-RAN interfaces, depending upon the configuration of the hardware-software O-RAN system. \\nO-RAN components might be vulnerable if: \\n• Errors from the lack of configuration change management,\\n• Misconfigured or poorly configured O-RAN components,\\n• Improperly configured permissions,\\n• Unnecessary features are enabled (e.g. unnecessary ports, services, accounts, or privileges),\\n• Default accounts and their passwords still enabled and unchanged,\\n• Security features are disabled or not configured securely.\\nAn attacker could, in such case, either inject malwares and/or manipulate existing software, harm the O-RAN components, create a performance issue by manipulation of parameters, or reconfigure the O-RAN components and disable the security features with the purpose of eavesdropping or wiretapping on various CUS & M planes, reaching northbound systems, attack broader network to cause denial-of-service, steal unprotected private keys, certificates, hash values, or other type of breaches.   \n",
       "2                                                                                                                                                                                                                                                                                                                                                                                                                   A Threat with the title Attacks from the internet to penetrate O-RAN network boundary and the descriptionWeb servers serving O-RAN functional and management services should provide adequate protection. \\nAn attacker that have access to the uncontrolled O-RAN network could:\\n• Bypass the information flow control policy implemented by the firewall,\\n• And/or attack O-RAN components in the trusted networks by taking advantage of particularities and errors in the design and implementation of the network protocols (IP, TCP, UDP, application protocols),\\n• Use of incorrect or exceeded TCP sequence numbers,\\n• Perform brute force attacks on FTP passwords,\\n• Use of improper HTTP user sessions,\\n• Etc.\\nThe effects of such attacks may include:\\n• An intrusion, meaning unauthorized access to O-RAN components,\\n• Blocking, flooding or restarting an O-RAN component causing a denial of service,\\n• Flooding of network equipment, causing a denial of service,\\n• Etc.   \n",
       "3                                                                                                                                                                                                                                                                                                                                                                                                                                                                                                                                                                                                                                                                                                                                                                                                                                             A Threat with the title An attacker attempts to jam the airlink signal through IoT devices and the descriptionDDoS attacks on O-RAN systems: The 5G evolution means billions of things, collectively referred to as IoT, will be using the 5G O-RAN. Thus, IoT could increase the risk of O-RAN resource overload by way of DDoS attacks. Attackers create a botnet army by infecting many (millions/billions) IoT devices with a “remote-reboot” malware. Attackers instruct the malware to reboot all devices in a specific or targeted 5G coverage area at the same time.   \n",
       "4                                                      A Threat with the title An attacker penetrates and compromises the O-RAN system through the open O-RAN’s Fronthaul, O1, O2, A1, and E2 and the descriptionO-RAN’s Fronthaul, O1, O2, A1, and E2 management interfaces are the new open interfaces that allow software programmability of RAN. These interfaces may not be secured to industry best practices.\\nO-RAN components might be vulnerable if: \\n• Improper or missing authentication and authorization processes,\\n• Improper or missing ciphering and integrity checks of sensitive data exchanged over O-RAN interfaces,\\n• Improper or missing replay protection of sensitive data exchanged over O-RAN interfaces,\\n• Improper prevention of key reuse,\\n• Improper implementation,\\n• Improperly validate inputs, respond to error conditions in both the submitted data as well as out of sequence protocol steps.\\nAn attacker could, in such case, cause denial-of-service, data tampering or information disclosure, etc.\\nNOTE: O-RAN interfaces allow use of TLS or SSH. Industry best practices mandate the use of TLS (v1.2 or higher) or SSH certificate-based authentication. An implementation that implements TLS version lower than 1.2 or a SSH password authentication, may become the key source of vulnerability that a malicious code will exploit to compromise the O-RAN system.   \n",
       "5                                                                                                                                                                                                       A Threat with the title An attacker exploits insufficient/improper mechanisms for authentication and authorization to compromise O-RAN components and the descriptionO-RAN management and orchestration should not be used without appropriate authentication and authorization and authorization checks. \\nO-RAN components might be vulnerable if: \\n• Unauthenticated access to O-RAN functions,\\n• Improper authentication mechanisms,\\n• Use of Predefined/ default accounts,\\n• Weak or missing password policy,\\n• Lack of mutual authentication to O-RAN components and interfaces,\\n• Failure to block consecutive failed login attempts,\\n• Improper authorization and access control policy.\\nAn attacker could, in such case, either inject malwares and/or manipulate existing software, harm the O-RAN components, create a performance issue by manipulation of parameters, or reconfigure the O-RAN components and disable the security features with the purpose of eavesdropping or wiretapping on various CUS & M planes, reaching northbound systems, attack broader network to cause denial-of-service, steal unprotected private keys, certificates, hash values, or other type of breaches.   \n",
       "\n",
       "                                                                                                                                                                                                                                                                                                                                                                                                                                                                                                                                     summary_ca_df  \n",
       "0  A CAPEC with the title Forceful Browsing. The description of this CAPEC is: An attacker employs forceful browsing (direct URL entry) to access portions of a website that are otherwise unreachable. Usually, a front controller or similar design pattern is employed to protect access to portions of a web application. Forceful browsing enables an attacker to access information, perform privileged operations and otherwise reach sections of the web application that have been improperly protected.. The Domain of this is: Software  \n",
       "1  A CAPEC with the title Forceful Browsing. The description of this CAPEC is: An attacker employs forceful browsing (direct URL entry) to access portions of a website that are otherwise unreachable. Usually, a front controller or similar design pattern is employed to protect access to portions of a web application. Forceful browsing enables an attacker to access information, perform privileged operations and otherwise reach sections of the web application that have been improperly protected.. The Domain of this is: Software  \n",
       "2  A CAPEC with the title Forceful Browsing. The description of this CAPEC is: An attacker employs forceful browsing (direct URL entry) to access portions of a website that are otherwise unreachable. Usually, a front controller or similar design pattern is employed to protect access to portions of a web application. Forceful browsing enables an attacker to access information, perform privileged operations and otherwise reach sections of the web application that have been improperly protected.. The Domain of this is: Software  \n",
       "3  A CAPEC with the title Forceful Browsing. The description of this CAPEC is: An attacker employs forceful browsing (direct URL entry) to access portions of a website that are otherwise unreachable. Usually, a front controller or similar design pattern is employed to protect access to portions of a web application. Forceful browsing enables an attacker to access information, perform privileged operations and otherwise reach sections of the web application that have been improperly protected.. The Domain of this is: Software  \n",
       "4  A CAPEC with the title Forceful Browsing. The description of this CAPEC is: An attacker employs forceful browsing (direct URL entry) to access portions of a website that are otherwise unreachable. Usually, a front controller or similar design pattern is employed to protect access to portions of a web application. Forceful browsing enables an attacker to access information, perform privileged operations and otherwise reach sections of the web application that have been improperly protected.. The Domain of this is: Software  \n",
       "5  A CAPEC with the title Forceful Browsing. The description of this CAPEC is: An attacker employs forceful browsing (direct URL entry) to access portions of a website that are otherwise unreachable. Usually, a front controller or similar design pattern is employed to protect access to portions of a web application. Forceful browsing enables an attacker to access information, perform privileged operations and otherwise reach sections of the web application that have been improperly protected.. The Domain of this is: Software  "
      ]
     },
     "execution_count": 56,
     "metadata": {},
     "output_type": "execute_result"
    }
   ],
   "source": [
    "threat2capec_mapping_df.loc[0:5]"
   ]
  },
  {
   "cell_type": "code",
   "execution_count": 57,
   "id": "b057f01e",
   "metadata": {},
   "outputs": [
    {
     "name": "stdout",
     "output_type": "stream",
     "text": [
      "Top CAPEC for Each Threat:\n",
      "\n",
      "Threat: T-A1-01\n",
      "  - CAPEC ID: CAPEC-94, Similarity: 0.5281, Description: Untrusted peering between Non-RT-RIC and Near-RT-RIC\n",
      "\n",
      "Threat: T-A1-02\n",
      "  - CAPEC ID: CAPEC-387, Similarity: 0.6099, Description: Malicious function or application monitors messaging across A1 interface\n",
      "\n",
      "Threat: T-A1-03\n",
      "  - CAPEC ID: CAPEC-387, Similarity: 0.5789, Description: Malicious function or application modifies messaging across A1 interface\n",
      "\n",
      "Threat: T-AAL-01\n",
      "  - CAPEC ID: CAPEC-440, Similarity: 0.5029, Description: Attacker exploits insecure API to gain access to hardware accelerator resources\n",
      "\n",
      "Threat: T-AAL-02\n",
      "  - CAPEC ID: CAPEC-469, Similarity: 0.4663, Description: Internal Overload DoS attack targeting AAL services\n",
      "\n",
      "Threat: T-AAL-03\n",
      "  - CAPEC ID: CAPEC-548, Similarity: 0.4826, Description: Fail to clear resources\n",
      "\n",
      "Threat: T-AAL-04\n",
      "  - CAPEC ID: CAPEC-401, Similarity: 0.4988, Description: HAM compromise\n",
      "\n",
      "Threat: T-AAL-05\n",
      "  - CAPEC ID: CAPEC-456, Similarity: 0.6088, Description: Malicious memory accesses\n",
      "\n",
      "Threat: T-AAL-06\n",
      "  - CAPEC ID: CAPEC-638, Similarity: 0.6232, Description: Firmware attacks\n",
      "\n",
      "Threat: T-ADMIN-01\n",
      "  - CAPEC ID: CAPEC-583, Similarity: 0.4209, Description: Denial of service against NFO/FOCOM\n",
      "\n",
      "Threat: T-ADMIN-02\n",
      "  - CAPEC ID: CAPEC-122, Similarity: 0.5220, Description: Abuse a O-Cloud administration service\n",
      "\n",
      "Threat: T-AppLCM-01\n",
      "  - CAPEC ID: CAPEC-669, Similarity: 0.5963, Description: Compromise of App/VNF/CNF update package integrity during onboarding\n",
      "\n",
      "Threat: T-AppLCM-02\n",
      "  - CAPEC ID: CAPEC-23, Similarity: 0.5574, Description: Compromise of App/VNF/CNF update image integrity during instantiation\n",
      "\n",
      "Threat: T-AppLCM-03\n",
      "  - CAPEC ID: CAPEC-444, Similarity: 0.4457, Description: Downgrade attack to vulnerable application version\n",
      "\n",
      "Threat: T-AppLCM-04\n",
      "  - CAPEC ID: CAPEC-180, Similarity: 0.5421, Description: Attacker exploits missing or improperly defined elements of application’s SecurityDescriptor\n",
      "\n",
      "Threat: T-AppLCM-05\n",
      "  - CAPEC ID: CAPEC-502, Similarity: 0.5442, Description: Malicious actor modifies application’s SecurityDescriptor\n",
      "\n",
      "Threat: T-AppLCM-06\n",
      "  - CAPEC ID: CAPEC-271, Similarity: 0.5144, Description: Improper decommissioning of application \n",
      "\n",
      "Threat: T-AppLCM-07\n",
      "  - CAPEC ID: CAPEC-546, Similarity: 0.6154, Description: Improper deletion of application sensitive data\n",
      "\n",
      "Threat: T-CPLANE-01\n",
      "  - CAPEC ID: CAPEC-473, Similarity: 0.5538, Description: Spoofing of DL C-plane messages\n",
      "\n",
      "Threat: T-CPLANE-02\n",
      "  - CAPEC ID: CAPEC-473, Similarity: 0.5349, Description: Spoofing of UL C-plane messages\n",
      "\n",
      "Threat: T-E2-01\n",
      "  - CAPEC ID: CAPEC-94, Similarity: 0.4994, Description: Untrusted Near-RT-RIC and E2 Nodes\n",
      "\n",
      "Threat: T-E2-02\n",
      "  - CAPEC ID: CAPEC-12, Similarity: 0.5344, Description: Malicious actor monitors messaging across E2 interface\n",
      "\n",
      "Threat: T-E3-03\n",
      "  - CAPEC ID: CAPEC-12, Similarity: 0.5092, Description: Malicious actor modifies messaging across E2 interface\n",
      "\n",
      "Threat: T-FRHAUL-01\n",
      "  - CAPEC ID: CAPEC-700, Similarity: 0.4773, Description: An attacker penetrates O-DU and beyond through O-RU or the Fronthaul interface\n",
      "\n",
      "Threat: T-FRHAUL-02\n",
      "  - CAPEC ID: CAPEC-700, Similarity: 0.4611, Description: Unauthorized access to Open Front Haul Ethernet L1 physical layer interface(s)\n",
      "\n",
      "Threat: T-GEN-01\n",
      "  - CAPEC ID: CAPEC-480, Similarity: 0.5419, Description: Software flaw attack\n",
      "\n",
      "Threat: T-GEN-02\n",
      "  - CAPEC ID: CAPEC-510, Similarity: 0.6000, Description: Malicious access to exposed services using valid accounts\n",
      "\n",
      "Threat: T-GEN-03\n",
      "  - CAPEC ID: CAPEC-480, Similarity: 0.5078, Description: Untrust binding between the different O-Cloud layers\n",
      "\n",
      "Threat: T-GEN-04\n",
      "  - CAPEC ID: CAPEC-115, Similarity: 0.4462, Description: Lack of Authentication & Authorization in interfaces between O-Cloud components\n",
      "\n",
      "Threat: T-GEN-05\n",
      "  - CAPEC ID: CAPEC-568, Similarity: 0.5195, Description: Unsecured credentials and keys\n",
      "\n",
      "Threat: T-HW-01\n",
      "  - CAPEC ID: CAPEC-480, Similarity: 0.4657, Description: Cross VM/Container side channel attacks\n",
      "\n",
      "Threat: T-HW-02\n",
      "  - CAPEC ID: CAPEC-480, Similarity: 0.5651, Description: MitM attacks on the interface between virtualization layer and hardware\n",
      "\n",
      "Threat: T-IMG-01\n",
      "  - CAPEC ID: CAPEC-480, Similarity: 0.5602, Description: VM/Container images tampering\n",
      "\n",
      "Threat: T-IMG-02\n",
      "  - CAPEC ID: CAPEC-533, Similarity: 0.4804, Description: Insecure channels with images repository\n",
      "\n",
      "Threat: T-IMG-03\n",
      "  - CAPEC ID: CAPEC-480, Similarity: 0.4461, Description: Secrets disclosure in VM/Container images\n",
      "\n",
      "Threat: T-IMG-04\n",
      "  - CAPEC ID: CAPEC-480, Similarity: 0.4159, Description: Build image on VL\n",
      "\n",
      "Threat: T-ML-01\n",
      "  - CAPEC ID: CAPEC-146, Similarity: 0.5173, Description: Poisoning the ML training data (Data poisoning attacks)\n",
      "\n",
      "Threat: T-ML-02\n",
      "  - CAPEC ID: CAPEC-153, Similarity: 0.4885, Description: Altering a machine learning model (System manipulation and compromise of ML data confidentiality ...\n",
      "\n",
      "Threat: T-ML-03\n",
      "  - CAPEC ID: CAPEC-415, Similarity: 0.4178, Description: Transfer learning attack\n",
      "\n",
      "Threat: T-MPLANE-01\n",
      "  - CAPEC ID: CAPEC-622, Similarity: 0.5112, Description: An attacker attempts to intercept the Fronthaul (MITM) over M Plane\n",
      "\n",
      "Threat: T-NEAR-RT-01\n",
      "  - CAPEC ID: CAPEC-388, Similarity: 0.5025, Description: Malicious Apps can exploit UE identification, track UE location and change UE priority\n",
      "\n",
      "Threat: T-NEAR-RT-02\n",
      "  - CAPEC ID: CAPEC-523, Similarity: 0.4649, Description: Risk of deployment of a malicious xApp on Near-RT RIC\n",
      "\n",
      "Threat: T-NEAR-RT-03\n",
      "  - CAPEC ID: CAPEC-388, Similarity: 0.5262, Description: Attackers exploit non authenticated, weakly or incorrectly authenticated Near-RT RIC APIs\n",
      "\n",
      "Threat: T-NEAR-RT-04\n",
      "  - CAPEC ID: CAPEC-388, Similarity: 0.5686, Description: Attackers exploit non authorized Near-RT RIC APIs to access to resources and services which they ...\n",
      "\n",
      "Threat: T-NEAR-RT-05\n",
      "  - CAPEC ID: CAPEC-21, Similarity: 0.5510, Description: Attackers exploit non uniquely identified xApps using a trusted xAppID to access to resources and...\n",
      "\n",
      "Threat: T-NONRTRIC-01\n",
      "  - CAPEC ID: CAPEC-180, Similarity: 0.5533, Description: An attacker gains access to the Non-RT RIC through the SMO to cause a denial of service or degrad...\n",
      "\n",
      "Threat: T-NONRTRIC-02\n",
      "  - CAPEC ID: CAPEC-272, Similarity: 0.4917, Description: An attacker gains access to the Non-RT RIC through the SMO for UE tracking\n",
      "\n",
      "Threat: T-NONRTRIC-03\n",
      "  - CAPEC ID: CAPEC-180, Similarity: 0.5328, Description: An attacker gains access to the Non-RT RIC through the SMO to cause Data Corruption/Modification\n",
      "\n",
      "Threat: T-NONRTRIC-04\n",
      "  - CAPEC ID: CAPEC-665, Similarity: 0.4906, Description: An attacker exploits non uniquely identified rApp instances using a trusted rAppID to access R1 s...\n",
      "\n",
      "Threat: T-O-CLOUD-ID-01\n",
      "  - CAPEC ID: CAPEC-546, Similarity: 0.4295, Description: ID reuse in O-Cloud's object lifecycle\n",
      "\n",
      "Threat: T-O-CLOUD-ID-02\n",
      "  - CAPEC ID: CAPEC-534, Similarity: 0.3885, Description: Node redundancy in O-Cloud deployments\n",
      "\n",
      "Threat: T-O-CLOUD-ID-03\n",
      "  - CAPEC ID: CAPEC-221, Similarity: 0.4530, Description: O-Cloud ID mismanagement\n",
      "\n",
      "Threat: T-O-RAN-01\n",
      "  - CAPEC ID: CAPEC-401, Similarity: 0.5028, Description: An attacker exploits insecure designs or lack of adaption in O-RAN components\n",
      "\n",
      "Threat: T-O-RAN-02\n",
      "  - CAPEC ID: CAPEC-401, Similarity: 0.5122, Description: An attacker exploits misconfigured or poorly configured O-RAN components\n",
      "\n",
      "Threat: T-O-RAN-03\n",
      "  - CAPEC ID: CAPEC-482, Similarity: 0.5065, Description: Attacks from the internet to penetrate O-RAN network boundary\n",
      "\n",
      "Threat: T-O-RAN-04\n",
      "  - CAPEC ID: CAPEC-604, Similarity: 0.5597, Description: An attacker attempts to jam the airlink signal through IoT devices\n",
      "\n",
      "Threat: T-O-RAN-05\n",
      "  - CAPEC ID: CAPEC-88, Similarity: 0.5189, Description: An attacker penetrates and compromises the O-RAN system through the open O-RAN’s Fronthaul, O1, O...\n",
      "\n",
      "Threat: T-O-RAN-06\n",
      "  - CAPEC ID: CAPEC-114, Similarity: 0.5898, Description: An attacker exploits insufficient/improper mechanisms for authentication and authorization to com...\n",
      "\n",
      "Threat: T-O-RAN-07\n",
      "  - CAPEC ID: CAPEC-268, Similarity: 0.6675, Description: An attacker compromises O-RAN monitoring mechanisms and log files integrity and availability\n",
      "\n",
      "Threat: T-O-RAN-08\n",
      "  - CAPEC ID: CAPEC-470, Similarity: 0.5152, Description: An attacker compromises O-RAN data integrity, confidentiality and traceability\n",
      "\n",
      "Threat: T-O-RAN-09\n",
      "  - CAPEC ID: CAPEC-440, Similarity: 0.5465, Description: An attacker compromises O-RAN components integrity and availability\n",
      "\n",
      "Threat: T-O2-01\n",
      "  - CAPEC ID: CAPEC-480, Similarity: 0.4782, Description: MitM attacks on O2 interface between O-Cloud and SMO\n",
      "\n",
      "Threat: T-OCAPI-01\n",
      "  - CAPEC ID: CAPEC-480, Similarity: 0.5004, Description: MitM attacks on O-Cloud interface between VNFs/CNFs and the virtualization layer\n",
      "\n",
      "Threat: T-OPENSRC-01\n",
      "  - CAPEC ID: CAPEC-538, Similarity: 0.6523, Description: Developers use SW components with known vulnerabilities and untrusted libraries that can be explo...\n",
      "\n",
      "Threat: T-OPENSRC-02\n",
      "  - CAPEC ID: CAPEC-538, Similarity: 0.6199, Description: A trusted developer intentionally inserts a backdoor into an open source code O-RAN component\n",
      "\n",
      "Threat: T-ORU-01\n",
      "  - CAPEC ID: CAPEC-617, Similarity: 0.5952, Description: An attacker stands up a false base station attack by attacking an O-RU\n",
      "\n",
      "Threat: T-PHYS-01\n",
      "  - CAPEC ID: CAPEC-180, Similarity: 0.5443, Description: An intruder into a site gains physical access to O-RAN components to cause damage or access sensi...\n",
      "\n",
      "Threat: T-PHYS-02\n",
      "  - CAPEC ID: CAPEC-161, Similarity: 0.4758, Description: An intruder into the exchange over the Fronthaul cable network attempts to gain electronic access...\n",
      "\n",
      "Threat: T-PNF-01\n",
      "  - CAPEC ID: CAPEC-594, Similarity: 0.4189, Description: An attacker compromises a PNF to launch reverse attacks and other attacks against VNFs/CNFs\n",
      "\n",
      "Threat: T-R1-01\n",
      "  - CAPEC ID: CAPEC-502, Similarity: 0.5132, Description: A malicious actor gains unauthorized access to R1 services\n",
      "\n",
      "Threat: T-R1-02\n",
      "  - CAPEC ID: CAPEC-12, Similarity: 0.5094, Description: Attacker modifies Service Heartbeat message to cause Denial of Service\n",
      "\n",
      "Threat: T-R1-03\n",
      "  - CAPEC ID: CAPEC-114, Similarity: 0.5409, Description: Malicious actor bypasses authentication to Request Data \n",
      "\n",
      "Threat: T-R1-04\n",
      "  - CAPEC ID: CAPEC-502, Similarity: 0.5448, Description: Malicious actor bypasses authorization to Discover Data \n",
      "\n",
      "Threat: T-R1-05\n",
      "  - CAPEC ID: CAPEC-173, Similarity: 0.6290, Description: A malicious actor gains unauthorized access to data\n",
      "\n",
      "Threat: T-R1-06\n",
      "  - CAPEC ID: CAPEC-389, Similarity: 0.5404, Description: Malicious actor modifies a Data Request\n",
      "\n",
      "Threat: T-R1-07\n",
      "  - CAPEC ID: CAPEC-389, Similarity: 0.5368, Description: Malicious actor compromises Data Delivery to the Data Consumer\n",
      "\n",
      "Threat: T-RADIO-01\n",
      "  - CAPEC ID: CAPEC-601, Similarity: 0.6549, Description: Disruption through radio jamming, sniffing and spoofing\n",
      "\n",
      "Threat: T-RADIO-02\n",
      "  - CAPEC ID: CAPEC-601, Similarity: 0.5660, Description: DoS attacks on cognitive radio networks\n",
      "\n",
      "Threat: T-SMO-01\n",
      "  - CAPEC ID: CAPEC-114, Similarity: 0.5511, Description: External attacker exploits authentication weakness on SMO\n",
      "\n",
      "Threat: T-SMO-02\n",
      "  - CAPEC ID: CAPEC-180, Similarity: 0.4848, Description: External attacker exploits authentication weakness on SMO\n",
      "\n",
      "Threat: T-SMO-03\n",
      "  - CAPEC ID: CAPEC-469, Similarity: 0.5205, Description: External Overload DoS attack targeted at SMO\n",
      "\n",
      "Threat: T-SMO-04\n",
      "  - CAPEC ID: CAPEC-114, Similarity: 0.5241, Description: Internal attacker exploits authentication weakness on a SMO function\n",
      "\n",
      "Threat: T-SMO-05\n",
      "  - CAPEC ID: CAPEC-180, Similarity: 0.4983, Description: Internal attacker exploits authorization weakness on a SMO function\n",
      "\n",
      "Threat: T-SMO-06\n",
      "  - CAPEC ID: CAPEC-100, Similarity: 0.5168, Description: Internal Overload DoS attack targeted at SMO functions\n",
      "\n",
      "Threat: T-SMO-07\n",
      "  - CAPEC ID: CAPEC-456, Similarity: 0.5018, Description: Internal DoS attack disables internal SMO function(s) or process(es)\n",
      "\n",
      "Threat: T-SMO-08\n",
      "  - CAPEC ID: CAPEC-388, Similarity: 0.5912, Description: Attacker exploits insecure API to gain access to SMO\n",
      "\n",
      "Threat: T-SMO-09\n",
      "  - CAPEC ID: CAPEC-387, Similarity: 0.5365, Description: Sensitive data in transit is exposed to an internal attacker\n",
      "\n",
      "Threat: T-SMO-10\n",
      "  - CAPEC ID: CAPEC-122, Similarity: 0.5135, Description: Sensitive data at rest is exposed to an internal attacker\n",
      "\n",
      "Threat: T-SMO-11\n",
      "  - CAPEC ID: CAPEC-456, Similarity: 0.4994, Description: AI/ML poisoning by internal attacker\n",
      "\n",
      "Threat: T-SMO-12\n",
      "  - CAPEC ID: CAPEC-221, Similarity: 0.5132, Description: AI/ML exposure on external entity\n",
      "\n",
      "Threat: T-SMO-13\n",
      "  - CAPEC ID: CAPEC-268, Similarity: 0.6297, Description: Malicious actor views local logs\n",
      "\n",
      "Threat: T-SMO-14\n",
      "  - CAPEC ID: CAPEC-268, Similarity: 0.5828, Description: Malicious actor modifies local log entries\n",
      "\n",
      "Threat: T-SMO-15\n",
      "  - CAPEC ID: CAPEC-268, Similarity: 0.5835, Description: Malicious actor deletes local logs\n",
      "\n",
      "Threat: T-SMO-16\n",
      "  - CAPEC ID: CAPEC-268, Similarity: 0.5932, Description: Malicious actor intercepts exports of local logs\n",
      "\n",
      "Threat: T-SMO-17\n",
      "  - CAPEC ID: CAPEC-268, Similarity: 0.6204, Description: Malicious external actor gains unauthorized access to logs\n",
      "\n",
      "Threat: T-SMO-18\n",
      "  - CAPEC ID: CAPEC-268, Similarity: 0.5912, Description: Malicious internal actor gains authorized access to logs\n",
      "\n",
      "Threat: T-SMO-19\n",
      "  - CAPEC ID: CAPEC-157, Similarity: 0.4940, Description: Internal attacker exploits O2 interface to view data in transit between SMO and O-Cloud\n",
      "\n",
      "Threat: T-SMO-20\n",
      "  - CAPEC ID: CAPEC-470, Similarity: 0.4867, Description: Internal attacker exploits O2 interface to modify data in transit between SMO and O-Cloud\n",
      "\n",
      "Threat: T-SMO-21\n",
      "  - CAPEC ID: CAPEC-113, Similarity: 0.5189, Description: Internal attacker uses O2 interface via SMO to exploit API vulnerability to gain access to O-Clou...\n",
      "\n",
      "Threat: T-SMO-22\n",
      "  - CAPEC ID: CAPEC-125, Similarity: 0.5531, Description: Internal attacker floods O2 interface via SMO to cause DDoS on O-Cloud infrastructure\n",
      "\n",
      "Threat: T-SMO-23\n",
      "  - CAPEC ID: CAPEC-113, Similarity: 0.5010, Description: External attacker uses O2 interface via O-Cloud to exploit API vulnerability to gain access to SMO\n",
      "\n",
      "Threat: T-SMO-24\n",
      "  - CAPEC ID: CAPEC-125, Similarity: 0.5504, Description: External attacker floods O2 interface via O-Cloud to cause DDoS on SMO\n",
      "\n",
      "Threat: T-SMO-25\n",
      "  - CAPEC ID: CAPEC-58, Similarity: 0.4740, Description: External attacker uses O2 interface via O-Cloud to gain authorized access to sensitive data-at-re...\n",
      "\n",
      "Threat: T-SMO-26\n",
      "  - CAPEC ID: CAPEC-113, Similarity: 0.5058, Description: External attacker exploits External interface to view data in transit between SMO and external se...\n",
      "\n",
      "Threat: T-SMO-27\n",
      "  - CAPEC ID: CAPEC-113, Similarity: 0.5399, Description: External attacker exploits External interface to modify data in transit between SMO and external ...\n",
      "\n",
      "Threat: T-SMO-28\n",
      "  - CAPEC ID: CAPEC-113, Similarity: 0.5379, Description: External attacker uses External interface to exploit API vulnerability to gain access to SMO\n",
      "\n",
      "Threat: T-SMO-29\n",
      "  - CAPEC ID: CAPEC-482, Similarity: 0.5764, Description: External attacker floods External interface to cause DDoS at SMO\n",
      "\n",
      "Threat: T-SMO-30\n",
      "  - CAPEC ID: CAPEC-113, Similarity: 0.4833, Description: External attacker uses External interface to gain access to sensitive data-at-rest at the SMO\n",
      "\n",
      "Threat: T-SMO-31\n",
      "  - CAPEC ID: CAPEC-221, Similarity: 0.5065, Description: External attacker poisons External AI/ML data to corrupt SMO\n",
      "\n",
      "Threat: T-SMO-32\n",
      "  - CAPEC ID: CAPEC-201, Similarity: 0.5175, Description: External attacker poisons External Enrichment Information data sources to corrupt SMO\n",
      "\n",
      "Threat: T-SPLANE-01\n",
      "  - CAPEC ID: CAPEC-469, Similarity: 0.5060, Description: DoS attack against a Master clock\n",
      "\n",
      "Threat: T-SPLANE-02\n",
      "  - CAPEC ID: CAPEC-195, Similarity: 0.5244, Description: Impersonation of a Master clock (Spoofing) within a PTP network with a fake ANNOUNCE message\n",
      "\n",
      "Threat: T-SPLANE-03\n",
      "  - CAPEC ID: CAPEC-482, Similarity: 0.4803, Description: A Rogue PTP Instance wanting to be a Grand Master\n",
      "\n",
      "Threat: T-SPLANE-04\n",
      "  - CAPEC ID: CAPEC-621, Similarity: 0.5182, Description: Selective interception and removal of PTP timing packets\n",
      "\n",
      "Threat: T-SPLANE-05\n",
      "  - CAPEC ID: CAPEC-621, Similarity: 0.5849, Description: Packet delay manipulation attack\n",
      "\n",
      "Threat: T-SharedORU-01\n",
      "  - CAPEC ID: CAPEC-480, Similarity: 0.4492, Description: O-DU Tenant accesses O-DU Host\n",
      "\n",
      "Threat: T-SharedORU-02\n",
      "  - CAPEC ID: CAPEC-480, Similarity: 0.4551, Description: O-DU Host accesses O-DU Tenant\n",
      "\n",
      "Threat: T-SharedORU-03\n",
      "  - CAPEC ID: CAPEC-546, Similarity: 0.4352, Description: O-DU Tenant accesses O-DU Tenant\n",
      "\n",
      "Threat: T-SharedORU-04\n",
      "  - CAPEC ID: CAPEC-114, Similarity: 0.4980, Description: Password Attack on OFH M-Plane\n",
      "\n",
      "Threat: T-SharedORU-05\n",
      "  - CAPEC ID: CAPEC-505, Similarity: 0.5507, Description: Untrusted peering to O-DU\n",
      "\n",
      "Threat: T-SharedORU-06\n",
      "  - CAPEC ID: CAPEC-593, Similarity: 0.5730, Description: Untrusted peering to the Shared O-RU\n",
      "\n",
      "Threat: T-SharedORU-07\n",
      "  - CAPEC ID: CAPEC-593, Similarity: 0.5991, Description: Untrusted peering to the SMO\n",
      "\n",
      "Threat: T-SharedORU-08\n",
      "  - CAPEC ID: CAPEC-114, Similarity: 0.4608, Description: SMO Tenant accesses SMO Host\n",
      "\n",
      "Threat: T-SharedORU-09\n",
      "  - CAPEC ID: CAPEC-439, Similarity: 0.4618, Description: SMO Host accesses SMO Tenant\n",
      "\n",
      "Threat: T-SharedORU-10\n",
      "  - CAPEC ID: CAPEC-480, Similarity: 0.4672, Description: O-DU Host accesses O-CU Tenant\n",
      "\n",
      "Threat: T-SharedORU-11\n",
      "  - CAPEC ID: CAPEC-480, Similarity: 0.4620, Description: O-DU Tenant accesses O-CU Host\n",
      "\n",
      "Threat: T-SharedORU-12\n",
      "  - CAPEC ID: CAPEC-122, Similarity: 0.4523, Description: O-DU Tenant accesses O-CU Tenant\n",
      "\n",
      "Threat: T-SharedORU-13\n",
      "  - CAPEC ID: CAPEC-439, Similarity: 0.4813, Description: SMO Host accesses O-CU Tenant\n",
      "\n",
      "Threat: T-SharedORU-14\n",
      "  - CAPEC ID: CAPEC-439, Similarity: 0.4748, Description: SMO Tenant accesses O-CU Host\n",
      "\n",
      "Threat: T-SharedORU-15\n",
      "  - CAPEC ID: CAPEC-300, Similarity: 0.4496, Description: Physical port access to Shared O-RU Host/Tenant\n",
      "\n",
      "Threat: T-SharedORU-16\n",
      "  - CAPEC ID: CAPEC-300, Similarity: 0.4698, Description: Physical port access to O-DU Host/Tenant\n",
      "\n",
      "Threat: T-SharedORU-17\n",
      "  - CAPEC ID: CAPEC-300, Similarity: 0.5044, Description: Physical port access to O-CU Host/Tenant\n",
      "\n",
      "Threat: T-SharedORU-18\n",
      "  - CAPEC ID: CAPEC-114, Similarity: 0.5764, Description: Malicious User Login Attempt to SMO Host/Tenant\n",
      "\n",
      "Threat: T-SharedORU-19\n",
      "  - CAPEC ID: CAPEC-114, Similarity: 0.6050, Description: Malicious User Login Attempt to O-CU Host/Tenant\n",
      "\n",
      "Threat: T-SharedORU-20\n",
      "  - CAPEC ID: CAPEC-114, Similarity: 0.5536, Description: Malicious User Login Attempt to O-DU Host/Tenant\n",
      "\n",
      "Threat: T-SharedORU-21\n",
      "  - CAPEC ID: CAPEC-114, Similarity: 0.5403, Description: Malicious User Login Attempt to Shared O-RU Host/Tenant\n",
      "\n",
      "Threat: T-SharedORU-22\n",
      "  - CAPEC ID: CAPEC-94, Similarity: 0.5038, Description: Unauthorized internal threat actor gains access to data in Shared O-RU\n",
      "\n",
      "Threat: T-SharedORU-23\n",
      "  - CAPEC ID: CAPEC-273, Similarity: 0.4909, Description: Unauthorized external threat actor gains access to data in Shared O-RU\n",
      "\n",
      "Threat: T-SharedORU-24\n",
      "  - CAPEC ID: CAPEC-221, Similarity: 0.5148, Description: Data exposure at Shared O-RU\n",
      "\n",
      "Threat: T-SharedORU-25\n",
      "  - CAPEC ID: CAPEC-562, Similarity: 0.4932, Description: Shared O-RU data exposure at SMO\n",
      "\n",
      "Threat: T-SharedORU-26\n",
      "  - CAPEC ID: CAPEC-221, Similarity: 0.4872, Description: Shared O-RU data exposure at O-DU\n",
      "\n",
      "Threat: T-SharedORU-27\n",
      "  - CAPEC ID: CAPEC-277, Similarity: 0.4905, Description: Exposed data in transit between Shared O-RU and O-DU Host/Tenant\n",
      "\n",
      "Threat: T-SharedORU-28\n",
      "  - CAPEC ID: CAPEC-277, Similarity: 0.4851, Description: Exposed data in transit between Shared O-RU and SMO Host/Tenant\n",
      "\n",
      "Threat: T-SharedORU-29\n",
      "  - CAPEC ID: CAPEC-12, Similarity: 0.5516, Description: Modify/Delete OFH C-Plane messages\n",
      "\n",
      "Threat: T-SharedORU-30\n",
      "  - CAPEC ID: CAPEC-593, Similarity: 0.4281, Description: Clock hijacking on OFH S-Plane\n",
      "\n",
      "Threat: T-SharedORU-31\n",
      "  - CAPEC ID: CAPEC-10, Similarity: 0.4324, Description: Parameter conflicts at Shared O-RU\n",
      "\n",
      "Threat: T-SharedORU-32\n",
      "  - CAPEC ID: CAPEC-594, Similarity: 0.4818, Description: Volumetric DDoS attack from O-DU targeting Shared O-RU\n",
      "\n",
      "Threat: T-SharedORU-33\n",
      "  - CAPEC ID: CAPEC-594, Similarity: 0.5190, Description: Volumetric DDoS attack from SMO targeting Shared O-RU\n",
      "\n",
      "Threat: T-SharedORU-34\n",
      "  - CAPEC ID: CAPEC-594, Similarity: 0.5137, Description: Volumetric DDoS attack targeting O-DU\n",
      "\n",
      "Threat: T-SharedORU-35\n",
      "  - CAPEC ID: CAPEC-697, Similarity: 0.5871, Description: Shared O-RU initialization hijacking by DHCP compromise\n",
      "\n",
      "Threat: T-SharedORU-36\n",
      "  - CAPEC ID: CAPEC-598, Similarity: 0.6241, Description: Shared O-RU M-plane hijacking by DNS compromise\n",
      "\n",
      "Threat: T-SharedORU-37\n",
      "  - CAPEC ID: CAPEC-180, Similarity: 0.5100, Description: Misconfiguration of MNO Host Role\n",
      "\n",
      "Threat: T-SharedORU-38\n",
      "  - CAPEC ID: CAPEC-240, Similarity: 0.5213, Description: Incorrect Assignment of Spectrum Resources\n",
      "\n",
      "Threat: T-SharedORU-39\n",
      "  - CAPEC ID: CAPEC-22, Similarity: 0.4800, Description: Chain of Trust in a Multi-Tenant Environment\n",
      "\n",
      "Threat: T-SharedORU-40\n",
      "  - CAPEC ID: CAPEC-122, Similarity: 0.5265, Description: Hijack of MNO Host Role\n",
      "\n",
      "Threat: T-SharedORU-41\n",
      "  - CAPEC ID: CAPEC-122, Similarity: 0.5066, Description: Not Released Host Role (Host Role resume)\n",
      "\n",
      "Threat: T-SharedORU-42\n",
      "  - CAPEC ID: CAPEC-122, Similarity: 0.5756, Description: Misuse of “sudo” privileges\n",
      "\n",
      "Threat: T-SharedORU-43\n",
      "  - CAPEC ID: CAPEC-180, Similarity: 0.5337, Description: Eavesdropping of unprotected CUSM-plane data within shared O-RU\n",
      "\n",
      "Threat: T-UPLANE-01\n",
      "  - CAPEC ID: CAPEC-622, Similarity: 0.5290, Description: An attacker attempts to intercept the Fronthaul (MITM) over U Plane\n",
      "\n",
      "Threat: T-VL-01\n",
      "  - CAPEC ID: CAPEC-480, Similarity: 0.5395, Description: VM/Container hyperjacking attack\n",
      "\n",
      "Threat: T-VL-02\n",
      "  - CAPEC ID: CAPEC-480, Similarity: 0.4745, Description: Boot tampering\n",
      "\n",
      "Threat: T-VL-03\n",
      "  - CAPEC ID: CAPEC-125, Similarity: 0.4468, Description: Attack internal network services\n",
      "\n",
      "Threat: T-VM-C-01\n",
      "  - CAPEC ID: CAPEC-480, Similarity: 0.6170, Description: Abuse of a privileged VM/Container\n",
      "\n",
      "Threat: T-VM-C-02\n",
      "  - CAPEC ID: CAPEC-480, Similarity: 0.5942, Description: VM/Container escape attack\n",
      "\n",
      "Threat: T-VM-C-03\n",
      "  - CAPEC ID: CAPEC-480, Similarity: 0.4898, Description: VM/Container data theft\n",
      "\n",
      "Threat: T-VM-C-04\n",
      "  - CAPEC ID: CAPEC-480, Similarity: 0.4516, Description: VM/Container migration attacks\n",
      "\n",
      "Threat: T-VM-C-05\n",
      "  - CAPEC ID: CAPEC-480, Similarity: 0.4958, Description: Changing virtualization resource without authorization\n",
      "\n",
      "Threat: T-VM-C-06\n",
      "  - CAPEC ID: CAPEC-548, Similarity: 0.5248, Description: Failed or incomplete VNF/CNF termination or releasing of resources\n",
      "\n",
      "Threat: T-Y1-01\n",
      "  - CAPEC ID: CAPEC-94, Similarity: 0.4781, Description: Untrusted Near-RT-RIC and Y1 consumers\n",
      "\n",
      "Threat: T-Y1-02\n",
      "  - CAPEC ID: CAPEC-12, Similarity: 0.5491, Description: Malicious actor monitors messaging across Y1 interface\n",
      "\n",
      "Threat: T-Y1-03\n",
      "  - CAPEC ID: CAPEC-12, Similarity: 0.5190, Description: Malicious actor modifies messaging across Y1 interface\n",
      "\n",
      "Threat: T-rAPP-01\n",
      "  - CAPEC ID: CAPEC-26, Similarity: 0.4642, Description: Conflicting rApps impact O-RAN system functions to degrade performance or trigger a DoS\n",
      "\n",
      "Threat: T-rAPP-02\n",
      "  - CAPEC ID: CAPEC-482, Similarity: 0.5618, Description: An attacker exploits rApp vulnerability for data breach or denial of service\n",
      "\n",
      "Threat: T-rAPP-03\n",
      "  - CAPEC ID: CAPEC-482, Similarity: 0.5650, Description: An attacker exploits rApps misconfiguration\n",
      "\n",
      "Threat: T-rAPP-04\n",
      "  - CAPEC ID: CAPEC-114, Similarity: 0.6247, Description: An attacker bypasses authentication and authorization\n",
      "\n",
      "Threat: T-rAPP-05\n",
      "  - CAPEC ID: CAPEC-542, Similarity: 0.4955, Description: An attacker deploys and exploits malicious rApp\n",
      "\n",
      "Threat: T-rAPP-06\n",
      "  - CAPEC ID: CAPEC-114, Similarity: 0.6263, Description: An attacker bypasses authentication and authorization using an injection attack\n",
      "\n",
      "Threat: T-rAPP-07\n",
      "  - CAPEC ID: CAPEC-482, Similarity: 0.5033, Description: rApp exploits services\n",
      "\n",
      "Threat: T-xAPP-01\n",
      "  - CAPEC ID: CAPEC-388, Similarity: 0.4750, Description: An attacker exploits xApps vulnerabilities and misconfiguration\n",
      "\n",
      "Threat: T-xAPP-02\n",
      "  - CAPEC ID: CAPEC-212, Similarity: 0.5317, Description: Conflicting xApps unintentionally or maliciously impact O-RAN system functions to degrade perform...\n",
      "\n",
      "Threat: T-xAPP-03\n",
      "  - CAPEC ID: CAPEC-84, Similarity: 0.5140, Description: An attacker compromises xApp isolation\n",
      "\n",
      "Threat: T-xApp-04\n",
      "  - CAPEC ID: CAPEC-502, Similarity: 0.5427, Description: False or malicious A1 policies modify behavior of xApps\n"
     ]
    },
    {
     "name": "stderr",
     "output_type": "stream",
     "text": [
      "/tmp/ipykernel_3718194/52619477.py:3: FutureWarning: DataFrameGroupBy.apply operated on the grouping columns. This behavior is deprecated, and in a future version of pandas the grouping columns will be excluded from the operation. Either pass `include_groups=False` to exclude the groupings or explicitly select the grouping columns after groupby to silence this warning.\n",
      "  top_capec_per_threat = threat2capec_mapping_df.groupby('Name').apply(\n"
     ]
    }
   ],
   "source": [
    "# for every threat name display the first 10 capecs with the highest similarity\n",
    "# --- Group by 'Name' (Threat Name) and get the top 5 for each ---\n",
    "top_capec_per_threat = threat2capec_mapping_df.groupby('Name').apply(\n",
    "    lambda x: x.nlargest(1, 'Similarity')\n",
    ").reset_index(drop=True)\n",
    "\n",
    "# --- Display the results ---\n",
    "print(\"Top CAPEC for Each Threat:\")\n",
    "for threat_name in top_capec_per_threat['Name'].unique():\n",
    "    print(f\"\\nThreat: {threat_name}\")\n",
    "    threat_top_capecs = top_capec_per_threat[top_capec_per_threat['Name'] == threat_name]\n",
    "    # Select relevant columns for display\n",
    "    display_cols = ['CAPEC ID', 'Similarity', 'Description'] # Assuming 'Description' is the CAPEC Description now\n",
    "    for index, row in threat_top_capecs[display_cols].iterrows():\n",
    "        # Shorten description for readability if it's the CAPEC description\n",
    "        desc = row['Description']\n",
    "        if len(desc) > 100:\n",
    "            desc = desc[:97] + \"...\"\n",
    "        print(f\"  - CAPEC ID: {row['CAPEC ID']}, Similarity: {row['Similarity']:.4f}, Description: {desc}\")"
   ]
  },
  {
   "cell_type": "code",
   "execution_count": 58,
   "id": "cb96690c",
   "metadata": {},
   "outputs": [
    {
     "data": {
      "text/plain": [
       "count    182.000000\n",
       "mean       0.522007\n",
       "std        0.053491\n",
       "min        0.388489\n",
       "25%        0.485478\n",
       "50%        0.515990\n",
       "75%        0.552747\n",
       "max        0.667489\n",
       "Name: Similarity, dtype: float64"
      ]
     },
     "execution_count": 58,
     "metadata": {},
     "output_type": "execute_result"
    }
   ],
   "source": [
    "top_capec_per_threat['Similarity'].describe()"
   ]
  },
  {
   "cell_type": "code",
   "execution_count": 59,
   "id": "53d3b48b",
   "metadata": {},
   "outputs": [
    {
     "data": {
      "text/plain": [
       "count    101738.000000\n",
       "mean          0.319840\n",
       "std           0.076961\n",
       "min           0.006636\n",
       "25%           0.269693\n",
       "50%           0.321047\n",
       "75%           0.371686\n",
       "max           0.667489\n",
       "Name: Similarity, dtype: float64"
      ]
     },
     "execution_count": 59,
     "metadata": {},
     "output_type": "execute_result"
    }
   ],
   "source": [
    "threat2capec_mapping_df['Similarity'].describe()"
   ]
  },
  {
   "cell_type": "code",
   "execution_count": 60,
   "id": "b1cde4b8",
   "metadata": {},
   "outputs": [
    {
     "name": "stdout",
     "output_type": "stream",
     "text": [
      "Threat with the highest similarity to a CAPEC:\n",
      "             Name   CAPEC ID  Similarity  \\\n",
      "70440  T-O-RAN-07  CAPEC-268    0.667489   \n",
      "\n",
      "                                                                                        Description  \n",
      "70440  An attacker compromises O-RAN monitoring mechanisms and log files integrity and availability  \n"
     ]
    }
   ],
   "source": [
    "# threat with the highest similarity to a capec\n",
    "highest_similarity = threat2capec_mapping_df['Similarity'].max()\n",
    "highest_similarity_row = threat2capec_mapping_df[threat2capec_mapping_df['Similarity'] == highest_similarity]\n",
    "print(\"Threat with the highest similarity to a CAPEC:\")\n",
    "print(highest_similarity_row[['Name', 'CAPEC ID', 'Similarity', 'Description']])    "
   ]
  },
  {
   "cell_type": "code",
   "execution_count": 61,
   "id": "af023c5e",
   "metadata": {},
   "outputs": [
    {
     "name": "stdout",
     "output_type": "stream",
     "text": [
      "Threat with the lowest similarity to a CAPEC:\n",
      "           Name   CAPEC ID  Similarity  \\\n",
      "68773  T-AAL-02  CAPEC-394    0.006636   \n",
      "\n",
      "                                               Description  \n",
      "68773  Internal Overload DoS attack targeting AAL services  \n"
     ]
    }
   ],
   "source": [
    "# lowest similarity threat to a capec\n",
    "lowest_similarity = threat2capec_mapping_df['Similarity'].min()\n",
    "lowest_similarity_row = threat2capec_mapping_df[threat2capec_mapping_df['Similarity'] == lowest_similarity]\n",
    "print(\"Threat with the lowest similarity to a CAPEC:\")\n",
    "print(lowest_similarity_row[['Name', 'CAPEC ID', 'Similarity', 'Description']])"
   ]
  },
  {
   "cell_type": "code",
   "execution_count": 62,
   "id": "83c023bc",
   "metadata": {},
   "outputs": [
    {
     "name": "stdout",
     "output_type": "stream",
     "text": [
      "Average similarity: 0.3198404\n"
     ]
    }
   ],
   "source": [
    "# average similarity overall\n",
    "average_similarity = threat2capec_mapping_df['Similarity'].mean()\n",
    "print(\"Average similarity:\", average_similarity)"
   ]
  },
  {
   "cell_type": "code",
   "execution_count": null,
   "id": "f8f8e736",
   "metadata": {},
   "outputs": [],
   "source": []
  },
  {
   "cell_type": "markdown",
   "id": "14a40055",
   "metadata": {},
   "source": [
    "4. Safe the mappings above 0.55 similarity to a csv file"
   ]
  },
  {
   "cell_type": "code",
   "execution_count": 63,
   "id": "8b6b1dfa",
   "metadata": {},
   "outputs": [],
   "source": [
    "CAPEC_CSV_FILENAME = 'general_threats_capec_mapping'\n",
    "similarity = 0.55\n",
    "def filter_threshold_hfc(df, filter_criteria, min_similarity):\n",
    "    filtered_df = df[df['Similarity'] > min_similarity]\n",
    "    filtered_df = filtered_df.reset_index(drop=True)\n",
    "    return filtered_df"
   ]
  },
  {
   "cell_type": "code",
   "execution_count": 64,
   "id": "929f451d",
   "metadata": {},
   "outputs": [],
   "source": [
    "\n",
    "#capec_mapping_hfc = filter_threshold_hfc(formatted_capec_mapping, \"Name\",similarity)\n",
    "#capec_mapping_hfc.to_csv(\"./mapped_data/hfc_\"+CAPEC_CSV_FILENAME+\"_min\"+str(similarity)+\".csv\", sep=';', index=False)"
   ]
  },
  {
   "cell_type": "markdown",
   "id": "518fecfb",
   "metadata": {},
   "source": [
    "5. Compare ORCA mappings to our mappings"
   ]
  },
  {
   "cell_type": "code",
   "execution_count": 65,
   "id": "59b9061a",
   "metadata": {},
   "outputs": [
    {
     "name": "stdout",
     "output_type": "stream",
     "text": [
      "Index(['Name', 'Domain', 'Description', 'CAPEC ID', 'Similarity'], dtype='object')\n",
      "Index(['Name', 'Domain', 'Description', 'CAPEC ID', 'Similarity',\n",
      "       'summary_th_df', 'summary_ca_df'],\n",
      "      dtype='object')\n"
     ]
    }
   ],
   "source": [
    "orca_mappings = pd.read_csv('mapped_data/ORCA_mappings_min0.55.csv', sep=';')\n",
    "our_mappings = pd.read_csv('mapped_data/hfc_general_threats_capec_mapping_min0.55.csv', sep=';')\n",
    "print(orca_mappings.columns)\n",
    "print(our_mappings.columns)"
   ]
  },
  {
   "cell_type": "code",
   "execution_count": 66,
   "id": "aa33d912",
   "metadata": {},
   "outputs": [
    {
     "data": {
      "text/plain": [
       "((190, 5), (163, 7))"
      ]
     },
     "execution_count": 66,
     "metadata": {},
     "output_type": "execute_result"
    }
   ],
   "source": [
    "orca_mappings.shape, our_mappings.shape"
   ]
  },
  {
   "cell_type": "code",
   "execution_count": 67,
   "id": "fd89a890",
   "metadata": {},
   "outputs": [
    {
     "data": {
      "text/plain": [
       "(np.float64(0.577509985631579), np.float64(0.5774983157055215))"
      ]
     },
     "execution_count": 67,
     "metadata": {},
     "output_type": "execute_result"
    }
   ],
   "source": [
    "average_similarity_orca = orca_mappings['Similarity'].mean()\n",
    "average_similarity_our = our_mappings['Similarity'].mean()\n",
    "average_similarity_orca, average_similarity_our"
   ]
  },
  {
   "cell_type": "code",
   "execution_count": 68,
   "id": "8beb2fbf",
   "metadata": {},
   "outputs": [
    {
     "name": "stdout",
     "output_type": "stream",
     "text": [
      "0.00001167\n"
     ]
    }
   ],
   "source": [
    "diff_mean = average_similarity_orca - average_similarity_our\n",
    "print(f\"{diff_mean:.8f}\")"
   ]
  },
  {
   "cell_type": "code",
   "execution_count": 69,
   "id": "4b518d6d",
   "metadata": {},
   "outputs": [
    {
     "data": {
      "text/plain": [
       "(np.float64(0.570489), np.float64(0.5698744))"
      ]
     },
     "execution_count": 69,
     "metadata": {},
     "output_type": "execute_result"
    }
   ],
   "source": [
    "median_similarity_orca = orca_mappings['Similarity'].median()\n",
    "median_similarity_our = our_mappings['Similarity'].median()\n",
    "median_similarity_orca, median_similarity_our"
   ]
  },
  {
   "cell_type": "code",
   "execution_count": 70,
   "id": "ef94597c",
   "metadata": {},
   "outputs": [
    {
     "name": "stdout",
     "output_type": "stream",
     "text": [
      "0.00061460\n"
     ]
    }
   ],
   "source": [
    "diff_med = median_similarity_orca -median_similarity_our\n",
    "print(f\"{diff_med:.8f}\")"
   ]
  },
  {
   "cell_type": "code",
   "execution_count": 71,
   "id": "9afc5456",
   "metadata": {},
   "outputs": [
    {
     "data": {
      "text/html": [
       "<div>\n",
       "<style scoped>\n",
       "    .dataframe tbody tr th:only-of-type {\n",
       "        vertical-align: middle;\n",
       "    }\n",
       "\n",
       "    .dataframe tbody tr th {\n",
       "        vertical-align: top;\n",
       "    }\n",
       "\n",
       "    .dataframe thead th {\n",
       "        text-align: right;\n",
       "    }\n",
       "</style>\n",
       "<table border=\"1\" class=\"dataframe\">\n",
       "  <thead>\n",
       "    <tr style=\"text-align: right;\">\n",
       "      <th></th>\n",
       "      <th>Name</th>\n",
       "      <th>CAPEC ID</th>\n",
       "      <th>Similarity_orca</th>\n",
       "      <th>Similarity_our</th>\n",
       "    </tr>\n",
       "  </thead>\n",
       "  <tbody>\n",
       "    <tr>\n",
       "      <th>0</th>\n",
       "      <td>T-A1-02</td>\n",
       "      <td>CAPEC-12</td>\n",
       "      <td>0.584865</td>\n",
       "      <td>0.590688</td>\n",
       "    </tr>\n",
       "    <tr>\n",
       "      <th>1</th>\n",
       "      <td>T-A1-02</td>\n",
       "      <td>CAPEC-272</td>\n",
       "      <td>NaN</td>\n",
       "      <td>0.552193</td>\n",
       "    </tr>\n",
       "    <tr>\n",
       "      <th>2</th>\n",
       "      <td>T-A1-02</td>\n",
       "      <td>CAPEC-387</td>\n",
       "      <td>0.596484</td>\n",
       "      <td>0.609855</td>\n",
       "    </tr>\n",
       "    <tr>\n",
       "      <th>3</th>\n",
       "      <td>T-A1-02</td>\n",
       "      <td>CAPEC-388</td>\n",
       "      <td>0.564509</td>\n",
       "      <td>0.583051</td>\n",
       "    </tr>\n",
       "    <tr>\n",
       "      <th>4</th>\n",
       "      <td>T-A1-02</td>\n",
       "      <td>CAPEC-502</td>\n",
       "      <td>NaN</td>\n",
       "      <td>0.556925</td>\n",
       "    </tr>\n",
       "  </tbody>\n",
       "</table>\n",
       "</div>"
      ],
      "text/plain": [
       "      Name   CAPEC ID  Similarity_orca  Similarity_our\n",
       "0  T-A1-02   CAPEC-12         0.584865        0.590688\n",
       "1  T-A1-02  CAPEC-272              NaN        0.552193\n",
       "2  T-A1-02  CAPEC-387         0.596484        0.609855\n",
       "3  T-A1-02  CAPEC-388         0.564509        0.583051\n",
       "4  T-A1-02  CAPEC-502              NaN        0.556925"
      ]
     },
     "execution_count": 71,
     "metadata": {},
     "output_type": "execute_result"
    }
   ],
   "source": [
    "# Merge ORCA and our mappings on 'Name' and 'CAPEC ID'\n",
    "merged_similarities = pd.merge(\n",
    "    orca_mappings[['Name', 'CAPEC ID', 'Similarity']],\n",
    "    our_mappings[['Name', 'CAPEC ID', 'Similarity']],\n",
    "    on=['Name', 'CAPEC ID'],\n",
    "    how='outer',\n",
    "    suffixes=('_orca', '_our')\n",
    ")\n",
    "\n",
    "# Save to CSV\n",
    "merged_similarities.to_csv('./mapped_data/merged_orca_our_similarities.csv', sep=';', index=False)\n",
    "\n",
    "# Display the first few rows for verification\n",
    "merged_similarities.head()"
   ]
  },
  {
   "cell_type": "code",
   "execution_count": 72,
   "id": "7ab1f3e0",
   "metadata": {},
   "outputs": [
    {
     "name": "stdout",
     "output_type": "stream",
     "text": [
      "Threats in ORCA mappings but not in our mappings: {'T-O-RAN-09', 'T-VL-01', 'T-PHYS-01', 'T-SMO-28', 'T-AppLCM-05', 'T-R1-03', 'T-GEN-01'}\n",
      "Threats in our mappings but not in ORCA mappings: {'T-VM-C-02', 'T-NEAR-RT-05'}\n"
     ]
    }
   ],
   "source": [
    "threats_in_orca_not_in_our = set(orca_mappings['Name']) - set(our_mappings['Name'])\n",
    "print(\"Threats in ORCA mappings but not in our mappings:\", threats_in_orca_not_in_our)\n",
    "threats_in_our_not_in_orca = set(our_mappings['Name']) - set(orca_mappings['Name'])\n",
    "print(\"Threats in our mappings but not in ORCA mappings:\", threats_in_our_not_in_orca)  "
   ]
  },
  {
   "cell_type": "code",
   "execution_count": 73,
   "id": "f3795aa9",
   "metadata": {},
   "outputs": [
    {
     "name": "stdout",
     "output_type": "stream",
     "text": [
      "Name and Capec ID combinations where one similarity is missing:\n",
      "           Name   CAPEC ID\n",
      "1       T-A1-02  CAPEC-272\n",
      "4       T-A1-02  CAPEC-502\n",
      "10      T-A1-03  CAPEC-502\n",
      "11      T-A1-03   CAPEC-94\n",
      "13     T-AAL-05  CAPEC-458\n",
      "16     T-AAL-06  CAPEC-401\n",
      "17     T-AAL-06  CAPEC-440\n",
      "18     T-AAL-06  CAPEC-452\n",
      "22  T-AppLCM-01  CAPEC-180\n",
      "24  T-AppLCM-01  CAPEC-212\n"
     ]
    }
   ],
   "source": [
    "# Name and Capec ID combinations where one similarity is missing\n",
    "missing_similarities = merged_similarities[(merged_similarities['Similarity_orca'].isnull()) | (merged_similarities['Similarity_our'].isnull())]\n",
    "print(\"Name and Capec ID combinations where one similarity is missing:\")\n",
    "print(missing_similarities[['Name', 'CAPEC ID']].head(10))  # Display first 10 for brevity"
   ]
  },
  {
   "cell_type": "code",
   "execution_count": 74,
   "id": "61df266c",
   "metadata": {},
   "outputs": [
    {
     "data": {
      "text/html": [
       "<div>\n",
       "<style scoped>\n",
       "    .dataframe tbody tr th:only-of-type {\n",
       "        vertical-align: middle;\n",
       "    }\n",
       "\n",
       "    .dataframe tbody tr th {\n",
       "        vertical-align: top;\n",
       "    }\n",
       "\n",
       "    .dataframe thead th {\n",
       "        text-align: right;\n",
       "    }\n",
       "</style>\n",
       "<table border=\"1\" class=\"dataframe\">\n",
       "  <thead>\n",
       "    <tr style=\"text-align: right;\">\n",
       "      <th></th>\n",
       "      <th>Name</th>\n",
       "      <th>CAPEC ID</th>\n",
       "      <th>Similarity_orca</th>\n",
       "      <th>Similarity_our</th>\n",
       "    </tr>\n",
       "  </thead>\n",
       "  <tbody>\n",
       "    <tr>\n",
       "      <th>0</th>\n",
       "      <td>T-A1-02</td>\n",
       "      <td>CAPEC-12</td>\n",
       "      <td>0.584865</td>\n",
       "      <td>0.590688</td>\n",
       "    </tr>\n",
       "    <tr>\n",
       "      <th>2</th>\n",
       "      <td>T-A1-02</td>\n",
       "      <td>CAPEC-387</td>\n",
       "      <td>0.596484</td>\n",
       "      <td>0.609855</td>\n",
       "    </tr>\n",
       "    <tr>\n",
       "      <th>3</th>\n",
       "      <td>T-A1-02</td>\n",
       "      <td>CAPEC-388</td>\n",
       "      <td>0.564509</td>\n",
       "      <td>0.583051</td>\n",
       "    </tr>\n",
       "    <tr>\n",
       "      <th>5</th>\n",
       "      <td>T-A1-02</td>\n",
       "      <td>CAPEC-94</td>\n",
       "      <td>0.579672</td>\n",
       "      <td>0.553981</td>\n",
       "    </tr>\n",
       "    <tr>\n",
       "      <th>6</th>\n",
       "      <td>T-A1-03</td>\n",
       "      <td>CAPEC-12</td>\n",
       "      <td>0.566429</td>\n",
       "      <td>0.561994</td>\n",
       "    </tr>\n",
       "  </tbody>\n",
       "</table>\n",
       "</div>"
      ],
      "text/plain": [
       "      Name   CAPEC ID  Similarity_orca  Similarity_our\n",
       "0  T-A1-02   CAPEC-12         0.584865        0.590688\n",
       "2  T-A1-02  CAPEC-387         0.596484        0.609855\n",
       "3  T-A1-02  CAPEC-388         0.564509        0.583051\n",
       "5  T-A1-02   CAPEC-94         0.579672        0.553981\n",
       "6  T-A1-03   CAPEC-12         0.566429        0.561994"
      ]
     },
     "execution_count": 74,
     "metadata": {},
     "output_type": "execute_result"
    }
   ],
   "source": [
    "# only keep the rows where both similarities are not null\n",
    "merged_similarities_both_similarities_exist = merged_similarities.dropna(subset=['Similarity_orca', 'Similarity_our'])\n",
    "merged_similarities_both_similarities_exist.head(5)"
   ]
  },
  {
   "cell_type": "code",
   "execution_count": 75,
   "id": "8ae838c2",
   "metadata": {},
   "outputs": [
    {
     "name": "stderr",
     "output_type": "stream",
     "text": [
      "/tmp/ipykernel_3718194/448733076.py:2: SettingWithCopyWarning: \n",
      "A value is trying to be set on a copy of a slice from a DataFrame.\n",
      "Try using .loc[row_indexer,col_indexer] = value instead\n",
      "\n",
      "See the caveats in the documentation: https://pandas.pydata.org/pandas-docs/stable/user_guide/indexing.html#returning-a-view-versus-a-copy\n",
      "  merged_similarities_both_similarities_exist['Similarity_difference'] = (merged_similarities_both_similarities_exist['Similarity_orca'] - merged_similarities_both_similarities_exist['Similarity_our']).abs()\n"
     ]
    },
    {
     "data": {
      "text/html": [
       "<div>\n",
       "<style scoped>\n",
       "    .dataframe tbody tr th:only-of-type {\n",
       "        vertical-align: middle;\n",
       "    }\n",
       "\n",
       "    .dataframe tbody tr th {\n",
       "        vertical-align: top;\n",
       "    }\n",
       "\n",
       "    .dataframe thead th {\n",
       "        text-align: right;\n",
       "    }\n",
       "</style>\n",
       "<table border=\"1\" class=\"dataframe\">\n",
       "  <thead>\n",
       "    <tr style=\"text-align: right;\">\n",
       "      <th></th>\n",
       "      <th>Name</th>\n",
       "      <th>CAPEC ID</th>\n",
       "      <th>Similarity_orca</th>\n",
       "      <th>Similarity_our</th>\n",
       "      <th>Similarity_difference</th>\n",
       "    </tr>\n",
       "  </thead>\n",
       "  <tbody>\n",
       "    <tr>\n",
       "      <th>0</th>\n",
       "      <td>T-A1-02</td>\n",
       "      <td>CAPEC-12</td>\n",
       "      <td>0.584865</td>\n",
       "      <td>0.590688</td>\n",
       "      <td>0.005823</td>\n",
       "    </tr>\n",
       "    <tr>\n",
       "      <th>2</th>\n",
       "      <td>T-A1-02</td>\n",
       "      <td>CAPEC-387</td>\n",
       "      <td>0.596484</td>\n",
       "      <td>0.609855</td>\n",
       "      <td>0.013371</td>\n",
       "    </tr>\n",
       "    <tr>\n",
       "      <th>3</th>\n",
       "      <td>T-A1-02</td>\n",
       "      <td>CAPEC-388</td>\n",
       "      <td>0.564509</td>\n",
       "      <td>0.583051</td>\n",
       "      <td>0.018542</td>\n",
       "    </tr>\n",
       "    <tr>\n",
       "      <th>5</th>\n",
       "      <td>T-A1-02</td>\n",
       "      <td>CAPEC-94</td>\n",
       "      <td>0.579672</td>\n",
       "      <td>0.553981</td>\n",
       "      <td>0.025691</td>\n",
       "    </tr>\n",
       "    <tr>\n",
       "      <th>6</th>\n",
       "      <td>T-A1-03</td>\n",
       "      <td>CAPEC-12</td>\n",
       "      <td>0.566429</td>\n",
       "      <td>0.561994</td>\n",
       "      <td>0.004435</td>\n",
       "    </tr>\n",
       "  </tbody>\n",
       "</table>\n",
       "</div>"
      ],
      "text/plain": [
       "      Name   CAPEC ID  Similarity_orca  Similarity_our  Similarity_difference\n",
       "0  T-A1-02   CAPEC-12         0.584865        0.590688               0.005823\n",
       "2  T-A1-02  CAPEC-387         0.596484        0.609855               0.013371\n",
       "3  T-A1-02  CAPEC-388         0.564509        0.583051               0.018542\n",
       "5  T-A1-02   CAPEC-94         0.579672        0.553981               0.025691\n",
       "6  T-A1-03   CAPEC-12         0.566429        0.561994               0.004435"
      ]
     },
     "execution_count": 75,
     "metadata": {},
     "output_type": "execute_result"
    }
   ],
   "source": [
    "# difference between the two similarities\n",
    "merged_similarities_both_similarities_exist['Similarity_difference'] = (merged_similarities_both_similarities_exist['Similarity_orca'] - merged_similarities_both_similarities_exist['Similarity_our']).abs()\n",
    "merged_similarities_both_similarities_exist.head(5)"
   ]
  },
  {
   "cell_type": "code",
   "execution_count": 76,
   "id": "90aa8723",
   "metadata": {},
   "outputs": [],
   "source": [
    "#merged_similarities_both_similarities_exist.to_pickle('mapped_data/merged_mappings_above_055_df.pk1')"
   ]
  },
  {
   "cell_type": "code",
   "execution_count": 77,
   "id": "1539139d",
   "metadata": {},
   "outputs": [
    {
     "name": "stdout",
     "output_type": "stream",
     "text": [
      "Average similarity difference: 0.011511884714285709\n"
     ]
    }
   ],
   "source": [
    "average_similarity_difference = merged_similarities_both_similarities_exist['Similarity_difference'].mean()\n",
    "print(\"Average similarity difference:\", average_similarity_difference)"
   ]
  },
  {
   "cell_type": "code",
   "execution_count": 78,
   "id": "91c88cdd",
   "metadata": {},
   "outputs": [
    {
     "name": "stdout",
     "output_type": "stream",
     "text": [
      "               Name   CAPEC ID  Similarity_orca  Similarity_our  \\\n",
      "163  T-SharedORU-07  CAPEC-593         0.643427        0.599111   \n",
      "\n",
      "     Similarity_difference  \n",
      "163               0.044316  \n"
     ]
    }
   ],
   "source": [
    "largest_difference_row = merged_similarities_both_similarities_exist[merged_similarities_both_similarities_exist['Similarity_difference'] == merged_similarities_both_similarities_exist['Similarity_difference'].max()]\n",
    "print(largest_difference_row)    "
   ]
  },
  {
   "cell_type": "code",
   "execution_count": 79,
   "id": "19a9a79a",
   "metadata": {},
   "outputs": [
    {
     "name": "stdout",
     "output_type": "stream",
     "text": [
      "               Name   CAPEC ID  Similarity_orca  Similarity_our  \\\n",
      "168  T-SharedORU-18  CAPEC-114         0.576321        0.576378   \n",
      "\n",
      "     Similarity_difference  \n",
      "168               0.000057  \n"
     ]
    }
   ],
   "source": [
    "smallest_difference_row = merged_similarities_both_similarities_exist[merged_similarities_both_similarities_exist['Similarity_difference'] == merged_similarities_both_similarities_exist['Similarity_difference'].min()]\n",
    "print(smallest_difference_row)"
   ]
  },
  {
   "cell_type": "code",
   "execution_count": 80,
   "id": "6144dac8",
   "metadata": {},
   "outputs": [
    {
     "name": "stdout",
     "output_type": "stream",
     "text": [
      "Standard deviation of similarity differences: 0.008790685757417642\n"
     ]
    }
   ],
   "source": [
    "standard_deviation_difference = merged_similarities_both_similarities_exist['Similarity_difference'].std()\n",
    "print(\"Standard deviation of similarity differences:\", standard_deviation_difference)"
   ]
  },
  {
   "cell_type": "code",
   "execution_count": 81,
   "id": "f61b64f9",
   "metadata": {},
   "outputs": [
    {
     "data": {
      "text/html": [
       "<div>\n",
       "<style scoped>\n",
       "    .dataframe tbody tr th:only-of-type {\n",
       "        vertical-align: middle;\n",
       "    }\n",
       "\n",
       "    .dataframe tbody tr th {\n",
       "        vertical-align: top;\n",
       "    }\n",
       "\n",
       "    .dataframe thead th {\n",
       "        text-align: right;\n",
       "    }\n",
       "</style>\n",
       "<table border=\"1\" class=\"dataframe\">\n",
       "  <thead>\n",
       "    <tr style=\"text-align: right;\">\n",
       "      <th></th>\n",
       "      <th>Name</th>\n",
       "      <th>Domain</th>\n",
       "      <th>Description</th>\n",
       "      <th>CAPEC ID</th>\n",
       "      <th>Similarity</th>\n",
       "    </tr>\n",
       "  </thead>\n",
       "  <tbody>\n",
       "    <tr>\n",
       "      <th>45</th>\n",
       "      <td>T-R1-03</td>\n",
       "      <td>enterprise-attack</td>\n",
       "      <td>Malicious actor bypasses authentication to Request Data</td>\n",
       "      <td>CAPEC-114</td>\n",
       "      <td>0.558573</td>\n",
       "    </tr>\n",
       "    <tr>\n",
       "      <th>69</th>\n",
       "      <td>T-SMO-28</td>\n",
       "      <td>enterprise-attack</td>\n",
       "      <td>External attacker uses External interface to exploit API vulnerability to gain access to SMO</td>\n",
       "      <td>CAPEC-113</td>\n",
       "      <td>0.565503</td>\n",
       "    </tr>\n",
       "    <tr>\n",
       "      <th>80</th>\n",
       "      <td>T-O-RAN-09</td>\n",
       "      <td>enterprise-attack</td>\n",
       "      <td>An attacker compromises O-RAN components integrity and availability</td>\n",
       "      <td>CAPEC-440</td>\n",
       "      <td>0.565102</td>\n",
       "    </tr>\n",
       "    <tr>\n",
       "      <th>83</th>\n",
       "      <td>T-AppLCM-05</td>\n",
       "      <td>enterprise-attack</td>\n",
       "      <td>Malicious actor modifies application’s SecurityDescriptor</td>\n",
       "      <td>CAPEC-698</td>\n",
       "      <td>0.551221</td>\n",
       "    </tr>\n",
       "    <tr>\n",
       "      <th>94</th>\n",
       "      <td>T-GEN-01</td>\n",
       "      <td>enterprise-attack</td>\n",
       "      <td>Software flaw attack</td>\n",
       "      <td>CAPEC-480</td>\n",
       "      <td>0.562108</td>\n",
       "    </tr>\n",
       "    <tr>\n",
       "      <th>97</th>\n",
       "      <td>T-VL-01</td>\n",
       "      <td>enterprise-attack</td>\n",
       "      <td>VM/Container hyperjacking attack</td>\n",
       "      <td>CAPEC-480</td>\n",
       "      <td>0.558357</td>\n",
       "    </tr>\n",
       "    <tr>\n",
       "      <th>101</th>\n",
       "      <td>T-PHYS-01</td>\n",
       "      <td>enterprise-attack</td>\n",
       "      <td>An intruder into a site gains physical access to O-RAN components to cause damage or access sensitive data</td>\n",
       "      <td>CAPEC-401</td>\n",
       "      <td>0.551274</td>\n",
       "    </tr>\n",
       "    <tr>\n",
       "      <th>141</th>\n",
       "      <td>T-AppLCM-05</td>\n",
       "      <td>enterprise-attack</td>\n",
       "      <td>Malicious actor modifies application’s SecurityDescriptor</td>\n",
       "      <td>CAPEC-502</td>\n",
       "      <td>0.579609</td>\n",
       "    </tr>\n",
       "    <tr>\n",
       "      <th>181</th>\n",
       "      <td>T-AppLCM-05</td>\n",
       "      <td>enterprise-attack</td>\n",
       "      <td>Malicious actor modifies application’s SecurityDescriptor</td>\n",
       "      <td>CAPEC-445</td>\n",
       "      <td>0.558988</td>\n",
       "    </tr>\n",
       "  </tbody>\n",
       "</table>\n",
       "</div>"
      ],
      "text/plain": [
       "            Name             Domain  \\\n",
       "45       T-R1-03  enterprise-attack   \n",
       "69      T-SMO-28  enterprise-attack   \n",
       "80    T-O-RAN-09  enterprise-attack   \n",
       "83   T-AppLCM-05  enterprise-attack   \n",
       "94      T-GEN-01  enterprise-attack   \n",
       "97       T-VL-01  enterprise-attack   \n",
       "101    T-PHYS-01  enterprise-attack   \n",
       "141  T-AppLCM-05  enterprise-attack   \n",
       "181  T-AppLCM-05  enterprise-attack   \n",
       "\n",
       "                                                                                                    Description  \\\n",
       "45                                                     Malicious actor bypasses authentication to Request Data    \n",
       "69                 External attacker uses External interface to exploit API vulnerability to gain access to SMO   \n",
       "80                                          An attacker compromises O-RAN components integrity and availability   \n",
       "83                                                    Malicious actor modifies application’s SecurityDescriptor   \n",
       "94                                                                                         Software flaw attack   \n",
       "97                                                                             VM/Container hyperjacking attack   \n",
       "101  An intruder into a site gains physical access to O-RAN components to cause damage or access sensitive data   \n",
       "141                                                   Malicious actor modifies application’s SecurityDescriptor   \n",
       "181                                                   Malicious actor modifies application’s SecurityDescriptor   \n",
       "\n",
       "      CAPEC ID  Similarity  \n",
       "45   CAPEC-114    0.558573  \n",
       "69   CAPEC-113    0.565503  \n",
       "80   CAPEC-440    0.565102  \n",
       "83   CAPEC-698    0.551221  \n",
       "94   CAPEC-480    0.562108  \n",
       "97   CAPEC-480    0.558357  \n",
       "101  CAPEC-401    0.551274  \n",
       "141  CAPEC-502    0.579609  \n",
       "181  CAPEC-445    0.558988  "
      ]
     },
     "execution_count": 81,
     "metadata": {},
     "output_type": "execute_result"
    }
   ],
   "source": [
    "threats_in_orca_not_in_our = orca_mappings[~orca_mappings['Name'].isin(our_mappings['Name'])]\n",
    "threats_in_orca_not_in_our"
   ]
  },
  {
   "cell_type": "code",
   "execution_count": 82,
   "id": "4add7ff2",
   "metadata": {},
   "outputs": [
    {
     "data": {
      "text/html": [
       "<div>\n",
       "<style scoped>\n",
       "    .dataframe tbody tr th:only-of-type {\n",
       "        vertical-align: middle;\n",
       "    }\n",
       "\n",
       "    .dataframe tbody tr th {\n",
       "        vertical-align: top;\n",
       "    }\n",
       "\n",
       "    .dataframe thead th {\n",
       "        text-align: right;\n",
       "    }\n",
       "</style>\n",
       "<table border=\"1\" class=\"dataframe\">\n",
       "  <thead>\n",
       "    <tr style=\"text-align: right;\">\n",
       "      <th></th>\n",
       "      <th>Name</th>\n",
       "      <th>Domain</th>\n",
       "      <th>Description</th>\n",
       "      <th>CAPEC ID</th>\n",
       "      <th>Similarity</th>\n",
       "      <th>summary_th_df</th>\n",
       "      <th>summary_ca_df</th>\n",
       "    </tr>\n",
       "  </thead>\n",
       "  <tbody>\n",
       "    <tr>\n",
       "      <th>25</th>\n",
       "      <td>T-NEAR-RT-05</td>\n",
       "      <td>enterprise-attack</td>\n",
       "      <td>Attackers exploit non uniquely identified xApps using a trusted xAppID to access to resources and services which they are not entitled to use.</td>\n",
       "      <td>CAPEC-21</td>\n",
       "      <td>0.551030</td>\n",
       "      <td>A Threat with the title Attackers exploit non uniquely identified xApps using a trusted xAppID to access to resources and services which they are not entitled to use. and the descriptionNot uniquely identifying xApps using a trusted xAppID potentially entails certain threats and potential attacks:\\n- A non-unique xAppID might cause misidentification of an xApp, possibly allowing a potentially malicious xApp to request certain services (theft of services), information (data leakage), or alter existing information\\n- A malicious xApp might use the xAppID assigned to a legitimate xApp to request services or information from Near-RT RIC platform\\n- A non-unique xApp ID could make it impossible to accurately assign actions to the correct xApp\\n- A non-unique xApp ID could make it difficult to recognize that a malicious xApp is in the environment</td>\n",
       "      <td>A CAPEC with the title Exploitation of Trusted Identifiers. The description of this CAPEC is:\\n            &lt;xhtml:p&gt;An adversary guesses, obtains, or \"rides\" a trusted identifier (e.g. session ID, resource ID, cookie, etc.) to perform authorized actions under the guise of an authenticated user or service.&lt;/xhtml:p&gt;\\n         . The Domain of this is: Software</td>\n",
       "    </tr>\n",
       "    <tr>\n",
       "      <th>52</th>\n",
       "      <td>T-VM-C-02</td>\n",
       "      <td>enterprise-attack</td>\n",
       "      <td>VM/Container escape attack</td>\n",
       "      <td>CAPEC-480</td>\n",
       "      <td>0.594237</td>\n",
       "      <td>A Threat with the title VM/Container escape attack and the descriptionVNF/CNF deployed on the same physical machine as tenants share the same host kernel and host OS resources. Lack of strong isolation between the VMs/Containers and the host allows for a potential risk of a rogue VM/Container escaping the VM/Container confinement and impacting other co-hosted VMs/Containers. In others, an attacker may deploy a new malicious VM/Container configured without network rules, user limitations, etc. to bypass existing defenses within O-Cloud infrastructure.\\nAttacker deploys malicious VM/Container to escapes the host (Hypervisor/Container Engine/Host OS) and reaches the server’s hardware, then the malicious VM/Container can gain root access to the whole server where it resides. This gives the malicious VM/Container full control on all the VMs/Containers hosted on the same hacked server. This could allow an attacker to undermine the confidentiality, integrity and/or availability of VNFs/CNFs resources.\\nContainers can be deployed by various means, such as via Docker's create and start APIs or via a web application such as the Kubernetes dashboard or Kubeflow. Adversaries may deploy containers based on retrieved or built malicious images or from benign images that download and execute malicious payloads at runtime.\\nWhen a malicious VM/Container escapes isolation, it can gain full control over the underlying host and cause any of the below serious threats:\\n• Attacker would gain the ability to mount attacks on the host or compromise the host functionalities\\n• Compromise the confidentiality &amp; integrity of co-hosted VMs/Containers and tenants\\n• Launch DDOS attacks on co-hosted VMs/Containers and host services thereby degrading their performance \\n• Introduce new vulnerabilities in host to be used for future attacks\\n• Lack of network segmentation could potentially expose other VMs/Containers in the environment to attack. An example of this could be reconnaissance, exploitation and subsequent lateral movement to another host within the cluster.</td>\n",
       "      <td>A CAPEC with the title Escaping Virtualization. The description of this CAPEC is:An adversary gains access to an application, service, or device with the privileges of an authorized or privileged user by escaping the confines of a virtualized environment. The adversary is then able to access resources or execute unauthorized code within the host environment, generally with the privileges of the user running the virtualized process. Successfully executing an attack of this type is often the first step in executing more complex attacks.. The Domain of this is: Software</td>\n",
       "    </tr>\n",
       "  </tbody>\n",
       "</table>\n",
       "</div>"
      ],
      "text/plain": [
       "            Name             Domain  \\\n",
       "25  T-NEAR-RT-05  enterprise-attack   \n",
       "52     T-VM-C-02  enterprise-attack   \n",
       "\n",
       "                                                                                                                                       Description  \\\n",
       "25  Attackers exploit non uniquely identified xApps using a trusted xAppID to access to resources and services which they are not entitled to use.   \n",
       "52                                                                                                                      VM/Container escape attack   \n",
       "\n",
       "     CAPEC ID  Similarity  \\\n",
       "25   CAPEC-21    0.551030   \n",
       "52  CAPEC-480    0.594237   \n",
       "\n",
       "                                                                                                                                                                                                                                                                                                                                                                                                                                                                                                                                                                                                                                                                                                                                                                                                                                                                                                                                                                                                                                                                                                                                                                                                                                                                                                                                                                                                                                                                                                                                                                                                                                                                                                                                                                                                                                                                                                                                                                                                                                                                                                                                             summary_th_df  \\\n",
       "25                                                                                                                                                                                                                                                                                                                                                                                                                                                                                                                                                                                                                                                                                                                                                                                                                                                                                                                                                                                                                                                                                                                                                                                                                                                                    A Threat with the title Attackers exploit non uniquely identified xApps using a trusted xAppID to access to resources and services which they are not entitled to use. and the descriptionNot uniquely identifying xApps using a trusted xAppID potentially entails certain threats and potential attacks:\\n- A non-unique xAppID might cause misidentification of an xApp, possibly allowing a potentially malicious xApp to request certain services (theft of services), information (data leakage), or alter existing information\\n- A malicious xApp might use the xAppID assigned to a legitimate xApp to request services or information from Near-RT RIC platform\\n- A non-unique xApp ID could make it impossible to accurately assign actions to the correct xApp\\n- A non-unique xApp ID could make it difficult to recognize that a malicious xApp is in the environment   \n",
       "52  A Threat with the title VM/Container escape attack and the descriptionVNF/CNF deployed on the same physical machine as tenants share the same host kernel and host OS resources. Lack of strong isolation between the VMs/Containers and the host allows for a potential risk of a rogue VM/Container escaping the VM/Container confinement and impacting other co-hosted VMs/Containers. In others, an attacker may deploy a new malicious VM/Container configured without network rules, user limitations, etc. to bypass existing defenses within O-Cloud infrastructure.\\nAttacker deploys malicious VM/Container to escapes the host (Hypervisor/Container Engine/Host OS) and reaches the server’s hardware, then the malicious VM/Container can gain root access to the whole server where it resides. This gives the malicious VM/Container full control on all the VMs/Containers hosted on the same hacked server. This could allow an attacker to undermine the confidentiality, integrity and/or availability of VNFs/CNFs resources.\\nContainers can be deployed by various means, such as via Docker's create and start APIs or via a web application such as the Kubernetes dashboard or Kubeflow. Adversaries may deploy containers based on retrieved or built malicious images or from benign images that download and execute malicious payloads at runtime.\\nWhen a malicious VM/Container escapes isolation, it can gain full control over the underlying host and cause any of the below serious threats:\\n• Attacker would gain the ability to mount attacks on the host or compromise the host functionalities\\n• Compromise the confidentiality & integrity of co-hosted VMs/Containers and tenants\\n• Launch DDOS attacks on co-hosted VMs/Containers and host services thereby degrading their performance \\n• Introduce new vulnerabilities in host to be used for future attacks\\n• Lack of network segmentation could potentially expose other VMs/Containers in the environment to attack. An example of this could be reconnaissance, exploitation and subsequent lateral movement to another host within the cluster.   \n",
       "\n",
       "                                                                                                                                                                                                                                                                                                                                                                                                                                                                                                                                                                                    summary_ca_df  \n",
       "25                                                                                                                                                                                                                       A CAPEC with the title Exploitation of Trusted Identifiers. The description of this CAPEC is:\\n            <xhtml:p>An adversary guesses, obtains, or \"rides\" a trusted identifier (e.g. session ID, resource ID, cookie, etc.) to perform authorized actions under the guise of an authenticated user or service.</xhtml:p>\\n         . The Domain of this is: Software  \n",
       "52  A CAPEC with the title Escaping Virtualization. The description of this CAPEC is:An adversary gains access to an application, service, or device with the privileges of an authorized or privileged user by escaping the confines of a virtualized environment. The adversary is then able to access resources or execute unauthorized code within the host environment, generally with the privileges of the user running the virtualized process. Successfully executing an attack of this type is often the first step in executing more complex attacks.. The Domain of this is: Software  "
      ]
     },
     "execution_count": 82,
     "metadata": {},
     "output_type": "execute_result"
    }
   ],
   "source": [
    "threats_in_our_not_in_orca = our_mappings[~our_mappings['Name'].isin(orca_mappings['Name'])]\n",
    "threats_in_our_not_in_orca"
   ]
  },
  {
   "cell_type": "markdown",
   "id": "ea0e5b6f",
   "metadata": {},
   "source": [
    "## Preparation for Prompt Engineering"
   ]
  },
  {
   "cell_type": "code",
   "execution_count": 83,
   "id": "4a60c611",
   "metadata": {},
   "outputs": [],
   "source": [
    "#threat_data_for_PE = df_threats[['Threat ID', 'summary_th_df']]\n",
    "##save as pickle\n",
    "#threat_data_for_PE.to_pickle('threat_data/threat_data_for_PE.pk1')"
   ]
  },
  {
   "cell_type": "code",
   "execution_count": 84,
   "id": "606894a1",
   "metadata": {},
   "outputs": [],
   "source": [
    "#capec_data_for_PE = capecs_df[['CAPEC ID', 'summary']]\n",
    "#capec_data_for_PE.to_pickle('capec_data/capec_data_for_PE.pk1')"
   ]
  },
  {
   "cell_type": "code",
   "execution_count": 85,
   "id": "ef6aa53c",
   "metadata": {},
   "outputs": [],
   "source": [
    "threat_data_for_PE = pd.read_pickle('threat_data/threat_data_for_PE.pk1')"
   ]
  },
  {
   "cell_type": "code",
   "execution_count": 86,
   "id": "4f5f5481",
   "metadata": {},
   "outputs": [],
   "source": [
    "capec_data_for_PE = pd.read_pickle('capec_data/capec_data_for_PE.pk1')"
   ]
  },
  {
   "cell_type": "markdown",
   "id": "6106938e",
   "metadata": {},
   "source": [
    "## Preparation for Retrieval Augmented Generation"
   ]
  },
  {
   "cell_type": "code",
   "execution_count": 87,
   "id": "d8cdd475",
   "metadata": {},
   "outputs": [],
   "source": [
    "client = chromadb.Client()\n",
    "\n",
    "collection = client.create_collection(name=\"capec_summaries\")"
   ]
  },
  {
   "cell_type": "code",
   "execution_count": 88,
   "id": "a874d5ac",
   "metadata": {},
   "outputs": [],
   "source": [
    "#capecs_for_rag = capecs_with_embeddings_df[['CAPEC ID', 'summary_ca_df', 'embedding']]\n",
    "#capecs_for_rag.to_pickle('capec_data/capecs_for_rag.pk1')\n"
   ]
  },
  {
   "cell_type": "code",
   "execution_count": 89,
   "id": "00cdd5ff",
   "metadata": {},
   "outputs": [
    {
     "data": {
      "text/plain": [
       "Index(['CAPEC ID', 'summary_ca_df', 'embedding'], dtype='object')"
      ]
     },
     "execution_count": 89,
     "metadata": {},
     "output_type": "execute_result"
    }
   ],
   "source": [
    "capecs_for_rag = pd.read_pickle('capec_data/capecs_for_rag.pk1')\n",
    "capecs_for_rag.columns"
   ]
  },
  {
   "cell_type": "code",
   "execution_count": 90,
   "id": "f33c4a87",
   "metadata": {},
   "outputs": [
    {
     "data": {
      "text/html": [
       "<div>\n",
       "<style scoped>\n",
       "    .dataframe tbody tr th:only-of-type {\n",
       "        vertical-align: middle;\n",
       "    }\n",
       "\n",
       "    .dataframe tbody tr th {\n",
       "        vertical-align: top;\n",
       "    }\n",
       "\n",
       "    .dataframe thead th {\n",
       "        text-align: right;\n",
       "    }\n",
       "</style>\n",
       "<table border=\"1\" class=\"dataframe\">\n",
       "  <thead>\n",
       "    <tr style=\"text-align: right;\">\n",
       "      <th></th>\n",
       "      <th>CAPEC ID</th>\n",
       "      <th>summary_ca_df</th>\n",
       "      <th>embedding</th>\n",
       "    </tr>\n",
       "  </thead>\n",
       "  <tbody>\n",
       "    <tr>\n",
       "      <th>332</th>\n",
       "      <td>CAPEC-388</td>\n",
       "      <td>A CAPEC with the title Application API Button Hijacking. The description of this CAPEC is: An attacker manipulates either egress or ingress data from a client within an application framework in order to change the destination and/or content of buttons displayed to a user within API messages. Performing this attack allows the attacker to manipulate content in such a way as to produce messages or content that looks authentic but contains buttons that point to an attacker controlled destination.. The Domains of this are: Communications, Software</td>\n",
       "      <td>[-0.09660268, -0.024990467, -0.06556756, -0.034083683, 0.08587063, -0.031270582, 0.08086327, 0.072511345, 0.026165651, 0.09382413, 0.022175195, -0.061826847, 0.08069135, 0.026079496, 0.024389252, 0.02412405, 0.0982337, -0.010384195, 0.030759046, 0.022157736, 0.04558904, 0.0008449253, 0.05094539, -0.006732292, -0.036083594, -0.083607845, -0.06550466, -0.020885358, 0.036888957, 0.029068153, 0.014549538, 0.0073131123, -0.01126702, 0.04531945, -0.035082564, -0.012772132, -0.04496509, -0.037167173, 0.010765026, -0.007192766, 0.018093435, 0.0139979, -0.018432982, 0.000637252, 0.03310593, -0.044983365, -0.096866384, 0.039721385, -0.053525906, 0.001320447, 0.006098934, -0.04691893, -0.049887553, -0.073230214, 0.05487122, -0.024749318, -0.025730837, 0.086471245, 0.0037040876, 0.0709436, 0.0544438, 0.01045356, -0.043527737, 0.073829934, 0.02150678, 0.015669808, -0.00710991, 0.04828505, 0.0632451, -0.009080141, -0.10306844, -0.07031467, -0.10045804, -0.008562676, 0.06834314, 0.013022136, -0.08599082, 0.013354747, -0.058475055, -0.012335492, -0.018924342, 0.007990964, 0.0034954553, 0.073524, -0.056690596, -0.027808208, 0.028031873, -0.08237382, 0.07927512, 0.040483832, -0.08176875, -0.08794209, 0.046366334, 0.06541974, -0.07820449, 0.0059133344, -0.05631349, -0.031175673, -0.04215153, 0.117175676, ...]</td>\n",
       "    </tr>\n",
       "  </tbody>\n",
       "</table>\n",
       "</div>"
      ],
      "text/plain": [
       "      CAPEC ID  \\\n",
       "332  CAPEC-388   \n",
       "\n",
       "                                                                                                                                                                                                                                                                                                                                                                                                                                                                                                                                                            summary_ca_df  \\\n",
       "332  A CAPEC with the title Application API Button Hijacking. The description of this CAPEC is: An attacker manipulates either egress or ingress data from a client within an application framework in order to change the destination and/or content of buttons displayed to a user within API messages. Performing this attack allows the attacker to manipulate content in such a way as to produce messages or content that looks authentic but contains buttons that point to an attacker controlled destination.. The Domains of this are: Communications, Software   \n",
       "\n",
       "                                                                                                                                                                                                                                                                                                                                                                                                                                                                                                                                                                                                                                                                                                                                                                                                                                                                                                                                                                                                                                                                                                                                                                                                                                                                                                                                                           embedding  \n",
       "332  [-0.09660268, -0.024990467, -0.06556756, -0.034083683, 0.08587063, -0.031270582, 0.08086327, 0.072511345, 0.026165651, 0.09382413, 0.022175195, -0.061826847, 0.08069135, 0.026079496, 0.024389252, 0.02412405, 0.0982337, -0.010384195, 0.030759046, 0.022157736, 0.04558904, 0.0008449253, 0.05094539, -0.006732292, -0.036083594, -0.083607845, -0.06550466, -0.020885358, 0.036888957, 0.029068153, 0.014549538, 0.0073131123, -0.01126702, 0.04531945, -0.035082564, -0.012772132, -0.04496509, -0.037167173, 0.010765026, -0.007192766, 0.018093435, 0.0139979, -0.018432982, 0.000637252, 0.03310593, -0.044983365, -0.096866384, 0.039721385, -0.053525906, 0.001320447, 0.006098934, -0.04691893, -0.049887553, -0.073230214, 0.05487122, -0.024749318, -0.025730837, 0.086471245, 0.0037040876, 0.0709436, 0.0544438, 0.01045356, -0.043527737, 0.073829934, 0.02150678, 0.015669808, -0.00710991, 0.04828505, 0.0632451, -0.009080141, -0.10306844, -0.07031467, -0.10045804, -0.008562676, 0.06834314, 0.013022136, -0.08599082, 0.013354747, -0.058475055, -0.012335492, -0.018924342, 0.007990964, 0.0034954553, 0.073524, -0.056690596, -0.027808208, 0.028031873, -0.08237382, 0.07927512, 0.040483832, -0.08176875, -0.08794209, 0.046366334, 0.06541974, -0.07820449, 0.0059133344, -0.05631349, -0.031175673, -0.04215153, 0.117175676, ...]  "
      ]
     },
     "execution_count": 90,
     "metadata": {},
     "output_type": "execute_result"
    }
   ],
   "source": [
    "capecs_for_rag[capecs_for_rag['CAPEC ID']=='CAPEC-388']"
   ]
  },
  {
   "cell_type": "code",
   "execution_count": 91,
   "id": "3a346c3c",
   "metadata": {},
   "outputs": [],
   "source": [
    "collection.add(\n",
    "    documents=capecs_for_rag['summary_ca_df'].tolist(),\n",
    "    embeddings=capecs_for_rag['embedding'].tolist(),\n",
    "    ids=capecs_for_rag['CAPEC ID'].astype(str).tolist(),\n",
    "    metadatas=capecs_for_rag[['CAPEC ID']].to_dict(orient='records')\n",
    ")"
   ]
  },
  {
   "cell_type": "code",
   "execution_count": 92,
   "id": "b49b2c49",
   "metadata": {},
   "outputs": [],
   "source": [
    "#threat_data_for_RAG = df_threats[['Threat ID', 'summary_th_df', 'embedding' ]]\n",
    "##save as pickle\n",
    "#threat_data_for_RAG.to_pickle('threat_data/threat_data_for_RAG.pk1')"
   ]
  },
  {
   "cell_type": "code",
   "execution_count": 93,
   "id": "3a66ac2f",
   "metadata": {},
   "outputs": [
    {
     "data": {
      "text/plain": [
       "Index(['Threat ID', 'summary_th_df', 'embedding'], dtype='object')"
      ]
     },
     "execution_count": 93,
     "metadata": {},
     "output_type": "execute_result"
    }
   ],
   "source": [
    "threat_data_for_RAG = pd.read_pickle('threat_data/threat_data_for_RAG.pk1')\n",
    "threat_data_for_RAG.columns"
   ]
  },
  {
   "cell_type": "markdown",
   "id": "1a081930",
   "metadata": {},
   "source": [
    "Testing the mapping with the chromadb"
   ]
  },
  {
   "cell_type": "code",
   "execution_count": 94,
   "id": "b211e915",
   "metadata": {},
   "outputs": [
    {
     "data": {
      "text/plain": [
       "Index(['Name', 'CAPEC ID', 'Similarity_orca', 'Similarity_our',\n",
       "       'Similarity_difference'],\n",
       "      dtype='object')"
      ]
     },
     "execution_count": 94,
     "metadata": {},
     "output_type": "execute_result"
    }
   ],
   "source": [
    "merged_mappings_above_055 = pd.read_pickle('mapped_data/merged_mappings_above_055_df.pk1')\n",
    "merged_mappings_above_055.columns"
   ]
  },
  {
   "cell_type": "code",
   "execution_count": 95,
   "id": "59e9f2a5",
   "metadata": {},
   "outputs": [
    {
     "data": {
      "text/plain": [
       "'T-A1-02'"
      ]
     },
     "execution_count": 95,
     "metadata": {},
     "output_type": "execute_result"
    }
   ],
   "source": [
    "#selecting a threat for the query\n",
    "id_for_query = merged_mappings_above_055.Name[0]\n",
    "id_for_query"
   ]
  },
  {
   "cell_type": "code",
   "execution_count": 96,
   "id": "c1e326a8",
   "metadata": {},
   "outputs": [
    {
     "data": {
      "text/html": [
       "<div>\n",
       "<style scoped>\n",
       "    .dataframe tbody tr th:only-of-type {\n",
       "        vertical-align: middle;\n",
       "    }\n",
       "\n",
       "    .dataframe tbody tr th {\n",
       "        vertical-align: top;\n",
       "    }\n",
       "\n",
       "    .dataframe thead th {\n",
       "        text-align: right;\n",
       "    }\n",
       "</style>\n",
       "<table border=\"1\" class=\"dataframe\">\n",
       "  <thead>\n",
       "    <tr style=\"text-align: right;\">\n",
       "      <th></th>\n",
       "      <th>Threat ID</th>\n",
       "      <th>summary_th_df</th>\n",
       "      <th>embedding</th>\n",
       "    </tr>\n",
       "  </thead>\n",
       "  <tbody>\n",
       "    <tr>\n",
       "      <th>82</th>\n",
       "      <td>T-A1-02</td>\n",
       "      <td>A Threat with the title Malicious function or application monitors messaging across A1 interface and the descriptionInternal threat actor can gain access to the messaging across the A1 interface for a MiTM attack to read policy.</td>\n",
       "      <td>[-0.027739309, 0.039540276, -0.038193483, -0.064284176, 0.088824324, -0.02560193, 0.12704141, 0.065274455, 0.054320317, 0.0046378914, 0.040495235, 0.0023881504, 0.03544273, -0.017115422, 0.016286844, 0.003277275, 0.101387314, -0.021604331, 0.018275477, 0.064627446, 0.08360575, 0.09084395, 0.023560043, -0.048624154, -0.06993853, -0.057262607, -0.04224992, 0.0016884137, 0.0075714597, -0.033969115, -0.06429448, 0.060686, -0.021285363, 0.053470537, -0.0606143, 0.033483386, 0.044285163, -0.02340873, -0.059319247, -0.057974245, -0.016330019, 0.07626063, 0.017759696, 0.022122798, -0.04441153, -0.06288382, -0.037837766, 0.04278041, -0.081336096, -0.04566745, -0.034063447, -0.037952803, 0.033880893, 0.06803568, 0.047451872, 0.00011087, 0.02009153, 0.07239538, 0.003620003, 0.060912747, 0.0074188113, -0.024893595, -7.6623866e-05, -0.009235851, -0.004327226, 0.017078962, -0.029751316, 0.029763315, 0.0029225426, -0.013260386, -0.069189, -0.039105035, -0.091323, 0.017978434, 0.028634576, 0.12855332, -0.049613547, -0.029881166, -0.018157825, -0.022697724, -0.018072657, 0.020875853, -0.019673185, 0.07867883, -0.014780375, 0.045998853, -0.021762995, -0.09158808, 0.04431891, 0.038917635, 0.0010569671, -0.08731048, 0.08533341, 0.06907569, 0.028410776, 0.048127726, -0.068348385, -0.13235407, -0.037798945, 0.12500024, ...]</td>\n",
       "    </tr>\n",
       "  </tbody>\n",
       "</table>\n",
       "</div>"
      ],
      "text/plain": [
       "   Threat ID  \\\n",
       "82   T-A1-02   \n",
       "\n",
       "                                                                                                                                                                                                                           summary_th_df  \\\n",
       "82  A Threat with the title Malicious function or application monitors messaging across A1 interface and the descriptionInternal threat actor can gain access to the messaging across the A1 interface for a MiTM attack to read policy.   \n",
       "\n",
       "                                                                                                                                                                                                                                                                                                                                                                                                                                                                                                                                                                                                                                                                                                                                                                                                                                                                                                                                                                                                                                                                                                                                                                                                                                                                                                                                                                      embedding  \n",
       "82  [-0.027739309, 0.039540276, -0.038193483, -0.064284176, 0.088824324, -0.02560193, 0.12704141, 0.065274455, 0.054320317, 0.0046378914, 0.040495235, 0.0023881504, 0.03544273, -0.017115422, 0.016286844, 0.003277275, 0.101387314, -0.021604331, 0.018275477, 0.064627446, 0.08360575, 0.09084395, 0.023560043, -0.048624154, -0.06993853, -0.057262607, -0.04224992, 0.0016884137, 0.0075714597, -0.033969115, -0.06429448, 0.060686, -0.021285363, 0.053470537, -0.0606143, 0.033483386, 0.044285163, -0.02340873, -0.059319247, -0.057974245, -0.016330019, 0.07626063, 0.017759696, 0.022122798, -0.04441153, -0.06288382, -0.037837766, 0.04278041, -0.081336096, -0.04566745, -0.034063447, -0.037952803, 0.033880893, 0.06803568, 0.047451872, 0.00011087, 0.02009153, 0.07239538, 0.003620003, 0.060912747, 0.0074188113, -0.024893595, -7.6623866e-05, -0.009235851, -0.004327226, 0.017078962, -0.029751316, 0.029763315, 0.0029225426, -0.013260386, -0.069189, -0.039105035, -0.091323, 0.017978434, 0.028634576, 0.12855332, -0.049613547, -0.029881166, -0.018157825, -0.022697724, -0.018072657, 0.020875853, -0.019673185, 0.07867883, -0.014780375, 0.045998853, -0.021762995, -0.09158808, 0.04431891, 0.038917635, 0.0010569671, -0.08731048, 0.08533341, 0.06907569, 0.028410776, 0.048127726, -0.068348385, -0.13235407, -0.037798945, 0.12500024, ...]  "
      ]
     },
     "execution_count": 96,
     "metadata": {},
     "output_type": "execute_result"
    }
   ],
   "source": [
    "chosen_threat = threat_data_for_RAG[threat_data_for_RAG['Threat ID'] == id_for_query]\n",
    "chosen_threat"
   ]
  },
  {
   "cell_type": "code",
   "execution_count": 97,
   "id": "7b034f84",
   "metadata": {},
   "outputs": [],
   "source": [
    "query = chosen_threat['summary_th_df'].tolist()[0]\n",
    "query_embedding = chosen_threat['embedding'].tolist()[0]\n"
   ]
  },
  {
   "cell_type": "code",
   "execution_count": 98,
   "id": "5d321731",
   "metadata": {},
   "outputs": [],
   "source": [
    "results = collection.query(\n",
    "    query_embeddings=[query_embedding],\n",
    "    n_results=5,\n",
    ")"
   ]
  },
  {
   "cell_type": "code",
   "execution_count": 99,
   "id": "d419775d",
   "metadata": {},
   "outputs": [
    {
     "name": "stdout",
     "output_type": "stream",
     "text": [
      "Text: A CAPEC with the title Navigation Remapping To Propagate Malicious Content. The description of this CAPEC is: An adversary manipulates either egress or ingress data from a client within an application framework in order to change the content of messages and thereby circumvent the expected application logic.. The Domains of this are: Communications, Software\n",
      "Metadata: {'CAPEC ID': 'CAPEC-387'}\n",
      "----------------------------------------\n",
      "Text: A CAPEC with the title Choosing Message Identifier. The description of this CAPEC is: This pattern of attack is defined by the selection of messages distributed via multicast or public information channels that are intended for another client by determining the parameter value assigned to that client. This attack allows the adversary to gain access to potentially privileged information, and to possibly perpetrate other attacks through the distribution means by impersonation. If the channel/message being manipulated is an input rather than output mechanism for the system, (such as a command bus), this style of attack could be used to change the adversary's identifier to more a privileged one.. The Domain of this is: Communications\n",
      "Metadata: {'CAPEC ID': 'CAPEC-12'}\n",
      "----------------------------------------\n",
      "Text: A CAPEC with the title Application API Button Hijacking. The description of this CAPEC is: An attacker manipulates either egress or ingress data from a client within an application framework in order to change the destination and/or content of buttons displayed to a user within API messages. Performing this attack allows the attacker to manipulate content in such a way as to produce messages or content that looks authentic but contains buttons that point to an attacker controlled destination.. The Domains of this are: Communications, Software\n",
      "Metadata: {'CAPEC ID': 'CAPEC-388'}\n",
      "----------------------------------------\n",
      "Text: A CAPEC with the title Intent Spoof. The description of this CAPEC is: An adversary, through a previously installed malicious application, issues an intent directed toward a specific trusted application's component in an attempt to achieve a variety of different objectives including modification of data, information disclosure, and data injection. Components that have been unintentionally exported and made public are subject to this type of an attack. If the component trusts the intent's action without verififcation, then the target application performs the functionality at the adversary's request, helping the adversary achieve the desired negative technical impact.. The Domain of this is: Software\n",
      "Metadata: {'CAPEC ID': 'CAPEC-502'}\n",
      "----------------------------------------\n",
      "Text: A CAPEC with the title Adversary in the Middle (AiTM). The description of this CAPEC is: \n",
      "            <xhtml:p>An adversary targets the communication between two components (typically client and server), in order to alter or obtain data from transactions. A general approach entails the adversary placing themself within the communication channel between the two components.</xhtml:p>\n",
      "         . The Domains of this are: Communications, Software\n",
      "Metadata: {'CAPEC ID': 'CAPEC-94'}\n",
      "----------------------------------------\n"
     ]
    }
   ],
   "source": [
    "for doc, meta in zip(results['documents'][0], results['metadatas'][0]):\n",
    "    print(\"Text:\", doc)\n",
    "    print(\"Metadata:\", meta)\n",
    "    print(\"-\" * 40)"
   ]
  },
  {
   "cell_type": "code",
   "execution_count": 100,
   "id": "8596bcbf",
   "metadata": {},
   "outputs": [
    {
     "data": {
      "text/html": [
       "<div>\n",
       "<style scoped>\n",
       "    .dataframe tbody tr th:only-of-type {\n",
       "        vertical-align: middle;\n",
       "    }\n",
       "\n",
       "    .dataframe tbody tr th {\n",
       "        vertical-align: top;\n",
       "    }\n",
       "\n",
       "    .dataframe thead th {\n",
       "        text-align: right;\n",
       "    }\n",
       "</style>\n",
       "<table border=\"1\" class=\"dataframe\">\n",
       "  <thead>\n",
       "    <tr style=\"text-align: right;\">\n",
       "      <th></th>\n",
       "      <th>Name</th>\n",
       "      <th>CAPEC ID</th>\n",
       "      <th>Similarity_orca</th>\n",
       "      <th>Similarity_our</th>\n",
       "      <th>Similarity_difference</th>\n",
       "    </tr>\n",
       "  </thead>\n",
       "  <tbody>\n",
       "    <tr>\n",
       "      <th>0</th>\n",
       "      <td>T-A1-02</td>\n",
       "      <td>CAPEC-12</td>\n",
       "      <td>0.584865</td>\n",
       "      <td>0.590688</td>\n",
       "      <td>0.005823</td>\n",
       "    </tr>\n",
       "    <tr>\n",
       "      <th>2</th>\n",
       "      <td>T-A1-02</td>\n",
       "      <td>CAPEC-387</td>\n",
       "      <td>0.596484</td>\n",
       "      <td>0.609855</td>\n",
       "      <td>0.013371</td>\n",
       "    </tr>\n",
       "    <tr>\n",
       "      <th>3</th>\n",
       "      <td>T-A1-02</td>\n",
       "      <td>CAPEC-388</td>\n",
       "      <td>0.564509</td>\n",
       "      <td>0.583051</td>\n",
       "      <td>0.018542</td>\n",
       "    </tr>\n",
       "    <tr>\n",
       "      <th>5</th>\n",
       "      <td>T-A1-02</td>\n",
       "      <td>CAPEC-94</td>\n",
       "      <td>0.579672</td>\n",
       "      <td>0.553981</td>\n",
       "      <td>0.025691</td>\n",
       "    </tr>\n",
       "  </tbody>\n",
       "</table>\n",
       "</div>"
      ],
      "text/plain": [
       "      Name   CAPEC ID  Similarity_orca  Similarity_our  Similarity_difference\n",
       "0  T-A1-02   CAPEC-12         0.584865        0.590688               0.005823\n",
       "2  T-A1-02  CAPEC-387         0.596484        0.609855               0.013371\n",
       "3  T-A1-02  CAPEC-388         0.564509        0.583051               0.018542\n",
       "5  T-A1-02   CAPEC-94         0.579672        0.553981               0.025691"
      ]
     },
     "execution_count": 100,
     "metadata": {},
     "output_type": "execute_result"
    }
   ],
   "source": [
    "merged_mappings_above_055[merged_mappings_above_055['Name'] == id_for_query]"
   ]
  },
  {
   "cell_type": "markdown",
   "id": "e761d080",
   "metadata": {},
   "source": [
    "## Preparation for Fine Tuning with LoRA"
   ]
  },
  {
   "cell_type": "code",
   "execution_count": 101,
   "id": "76706810",
   "metadata": {},
   "outputs": [],
   "source": [
    "training_data = []\n",
    "for _,row in our_mappings.iterrows():\n",
    "    prompt = f\"Threat Description: {row['summary_th_df']}\\nCAPEC Mapping:\"\n",
    "    completion = f\" {row['summary_ca_df']}\"\n",
    "    training_data.append({\"prompt\": prompt, \"completion\": completion})"
   ]
  },
  {
   "cell_type": "code",
   "execution_count": 102,
   "id": "f1d81c60",
   "metadata": {},
   "outputs": [],
   "source": [
    "# Save to JSONL format in the desired directory\n",
    "#output_path = \"mapped_data/lora_training_data.jsonl\"\n",
    "#with open(output_path, \"w\", encoding=\"utf-8\") as f:\n",
    "#    for entry in training_data:\n",
    "#        f.write(json.dumps(entry) + \"\\n\")\n",
    "#\n",
    "#print(f\"Saved {len(training_data)} training examples to '{output_path}'\")"
   ]
  },
  {
   "cell_type": "code",
   "execution_count": 103,
   "id": "73c0aea2",
   "metadata": {},
   "outputs": [],
   "source": [
    "# loading the training data from the JSONL file\n",
    "output_path = \"mapped_data/lora_training_data.jsonl\"\n",
    "with open(output_path, \"r\", encoding=\"utf-8\") as f:\n",
    "    training_data = [json.loads(line) for line in f]"
   ]
  },
  {
   "cell_type": "markdown",
   "id": "ae2613cc",
   "metadata": {},
   "source": [
    "# Modeling"
   ]
  },
  {
   "cell_type": "markdown",
   "id": "7f2a4375",
   "metadata": {},
   "source": [
    "## Prompt Engineering"
   ]
  },
  {
   "cell_type": "code",
   "execution_count": 203,
   "id": "2108f07a",
   "metadata": {},
   "outputs": [
    {
     "data": {
      "text/plain": [
       "Index(['CAPEC ID', 'summary'], dtype='object')"
      ]
     },
     "execution_count": 203,
     "metadata": {},
     "output_type": "execute_result"
    }
   ],
   "source": [
    "threat_data_for_PE = threat_data_for_PE.copy()\n",
    "capec_data_for_PE.columns"
   ]
  },
  {
   "cell_type": "code",
   "execution_count": 204,
   "id": "35322bef",
   "metadata": {},
   "outputs": [
    {
     "data": {
      "text/html": [
       "<div>\n",
       "<style scoped>\n",
       "    .dataframe tbody tr th:only-of-type {\n",
       "        vertical-align: middle;\n",
       "    }\n",
       "\n",
       "    .dataframe tbody tr th {\n",
       "        vertical-align: top;\n",
       "    }\n",
       "\n",
       "    .dataframe thead th {\n",
       "        text-align: right;\n",
       "    }\n",
       "</style>\n",
       "<table border=\"1\" class=\"dataframe\">\n",
       "  <thead>\n",
       "    <tr style=\"text-align: right;\">\n",
       "      <th></th>\n",
       "      <th>Threat ID</th>\n",
       "      <th>summary_th_df</th>\n",
       "    </tr>\n",
       "  </thead>\n",
       "  <tbody>\n",
       "    <tr>\n",
       "      <th>82</th>\n",
       "      <td>T-A1-02</td>\n",
       "      <td>A Threat with the title Malicious function or application monitors messaging across A1 interface and the descriptionInternal threat actor can gain access to the messaging across the A1 interface for a MiTM attack to read policy.</td>\n",
       "    </tr>\n",
       "  </tbody>\n",
       "</table>\n",
       "</div>"
      ],
      "text/plain": [
       "   Threat ID  \\\n",
       "82   T-A1-02   \n",
       "\n",
       "                                                                                                                                                                                                                           summary_th_df  \n",
       "82  A Threat with the title Malicious function or application monitors messaging across A1 interface and the descriptionInternal threat actor can gain access to the messaging across the A1 interface for a MiTM attack to read policy.  "
      ]
     },
     "execution_count": 204,
     "metadata": {},
     "output_type": "execute_result"
    }
   ],
   "source": [
    "# selecting a thest threat\n",
    "df = threat_data_for_PE[threat_data_for_PE['Threat ID'] == \"T-A1-02\"]\n",
    "df"
   ]
  },
  {
   "cell_type": "code",
   "execution_count": 205,
   "id": "87342b02",
   "metadata": {},
   "outputs": [
    {
     "data": {
      "text/plain": [
       "Threat ID                                                                                                                                                                                                                                     T-A1-02\n",
       "summary_th_df    A Threat with the title Malicious function or application monitors messaging across A1 interface and the descriptionInternal threat actor can gain access to the messaging across the A1 interface for a MiTM attack to read policy.\n",
       "Name: 82, dtype: object"
      ]
     },
     "execution_count": 205,
     "metadata": {},
     "output_type": "execute_result"
    }
   ],
   "source": [
    "row = df.iloc[0]\n",
    "row"
   ]
  },
  {
   "cell_type": "markdown",
   "id": "0f6ec422",
   "metadata": {},
   "source": [
    "### Small and Medium Setup code (LOCAL)"
   ]
  },
  {
   "cell_type": "code",
   "execution_count": 208,
   "id": "74932723",
   "metadata": {},
   "outputs": [],
   "source": [
    "small_models = []"
   ]
  },
  {
   "cell_type": "markdown",
   "id": "f218835b",
   "metadata": {},
   "source": [
    "Small"
   ]
  },
  {
   "cell_type": "code",
   "execution_count": 209,
   "id": "30e066de",
   "metadata": {},
   "outputs": [],
   "source": [
    "# model options for small setup\n",
    "small_models.append('deepseek-r1:1.5b')\n",
    "#model = 'qwen3:1.7b'"
   ]
  },
  {
   "cell_type": "markdown",
   "id": "78470747",
   "metadata": {},
   "source": [
    "Medium\n",
    "the bigger models in the following cell, only run on the medium setup in a reasonable time\n",
    "Uncomment a model and run the cell for choosing the model "
   ]
  },
  {
   "cell_type": "code",
   "execution_count": 210,
   "id": "e8a78c3a",
   "metadata": {},
   "outputs": [],
   "source": [
    "medium_models = []"
   ]
  },
  {
   "cell_type": "code",
   "execution_count": 211,
   "id": "8dda1a6b",
   "metadata": {},
   "outputs": [],
   "source": [
    "# model options for medium setup\n",
    "medium_models.append('deepseek-r1:32b')\n",
    "medium_models.append('deepseek-r1:8b')\n",
    "medium_models.append('deepseek-r1:70b-llama-distill-q4_K_M')"
   ]
  },
  {
   "cell_type": "code",
   "execution_count": 212,
   "id": "419c7704",
   "metadata": {},
   "outputs": [],
   "source": [
    "def run_inference_ollama(models, df, prompt_function):\n",
    "    model_outputs = {m: [] for m in models}\n",
    "\n",
    "    for idx, row in tqdm(df.iterrows(), total=len(df)):\n",
    "        for model in models:\n",
    "            try:\n",
    "                response = ollama.generate(\n",
    "                    model=model,\n",
    "                    prompt=prompt_function(row['summary_th_df']),\n",
    "                    options={'temperature': 0.0, 'seed': 42}\n",
    "                )\n",
    "            except Exception as e:\n",
    "                response = f\"[ERROR] {e}\"\n",
    "\n",
    "            model_outputs[model].append(response)\n",
    "            tqdm.write(f\"Inference for model {model} completed for threat {row['Threat ID']}\")\n",
    "\n",
    "    return model_outputs"
   ]
  },
  {
   "cell_type": "code",
   "execution_count": 189,
   "id": "33450e26",
   "metadata": {},
   "outputs": [],
   "source": [
    "def display_model_results_ollama(models, model_outputs):\n",
    "    for model in models:\n",
    "        print(\"=\" * 40)\n",
    "        print(f\"Model: {model}\")\n",
    "\n",
    "        # --- Speed & Runtime first ---\n",
    "        if not model_outputs[model]:\n",
    "            print(\"No outputs for this model.\\n\")\n",
    "            continue\n",
    "\n",
    "        resp = model_outputs[model][0]  # assumes object with eval_count and eval_duration\n",
    "        tokens_per_second = resp.eval_count / (resp.eval_duration / 1e9)\n",
    "        print(f\"Speed: {tokens_per_second:.2f} tokens/second\")\n",
    "\n",
    "        duration_s = resp.eval_duration / 1e9\n",
    "        minutes = int(duration_s // 60)\n",
    "        seconds = duration_s % 60\n",
    "        print(f\"Total runtime: {minutes:02d} m {seconds:05.2f} seconds\\n\")\n",
    "\n",
    "        # --- Then all outputs ---\n",
    "        print(\"Output:\")\n",
    "        for resp in model_outputs[model]:\n",
    "            cleaned_text = re.sub(\n",
    "                r\"<think>.*?</think>\\s*\", \n",
    "                \"\", \n",
    "                resp['response'], \n",
    "                flags=re.DOTALL\n",
    "            )\n",
    "            display(Markdown(cleaned_text))"
   ]
  },
  {
   "cell_type": "markdown",
   "id": "5360b832",
   "metadata": {},
   "source": [
    "Mappings of ORCA for comparison:"
   ]
  },
  {
   "attachments": {
    "image.png": {
     "image/png": "[encoded data removed]"
    }
   },
   "cell_type": "markdown",
   "id": "92467ce2",
   "metadata": {},
   "source": [
    "![image.png](attachment:image.png)"
   ]
  },
  {
   "cell_type": "markdown",
   "id": "fe2c8751",
   "metadata": {},
   "source": [
    "### Large Setup code (GEMINI API)"
   ]
  },
  {
   "cell_type": "markdown",
   "id": "78e43f71",
   "metadata": {},
   "source": [
    "Connecting to the Google Generative AI API to try larger models\n",
    "The context window is large, so it can handle the necessary amount of data"
   ]
  },
  {
   "cell_type": "code",
   "execution_count": null,
   "id": "e58ea7b5",
   "metadata": {},
   "outputs": [],
   "source": [
    "large_setup_models = [\"gemini-2.5-pro\", \"gemini-2.5-flash\", \"gemini-2.5-flash-lite-preview-06-17\"]\n",
    "#models = [\"gemini-2.5-flash-lite-preview-06-17\"]"
   ]
  },
  {
   "cell_type": "code",
   "execution_count": null,
   "id": "7d2bfcfa",
   "metadata": {},
   "outputs": [],
   "source": [
    "def model_inference_gemini(models, df, prompt):\n",
    "    # Initialize config and client\n",
    "    config = types.GenerateContentConfig(\n",
    "        temperature=0.0,\n",
    "        seed=42\n",
    "    )\n",
    "    client = genai.Client()\n",
    "\n",
    "    model_outputs = {m: [] for m in models}\n",
    "    model_stats = {m: [] for m in models}\n",
    "\n",
    "    for idx, row in tqdm(df.iterrows(), total=len(df)):\n",
    "        for model in models:\n",
    "            prompt = prompt\n",
    "\n",
    "            start_time = time.time()\n",
    "            response = client.models.generate_content(\n",
    "                model=model,\n",
    "                contents=prompt,\n",
    "                config=config\n",
    "            )\n",
    "            runtime = time.time() - start_time\n",
    "\n",
    "            token_count = (\n",
    "                response.usage_metadata.total_token_count +\n",
    "                response.usage_metadata.prompt_token_count\n",
    "            )\n",
    "            tokens_per_second = token_count / runtime if runtime > 0 else 0\n",
    "\n",
    "            model_outputs[model].append(response.text)\n",
    "            model_stats[model].append({\n",
    "                \"runtime\": runtime,\n",
    "                \"tokens_per_second\": tokens_per_second,\n",
    "                \"token_count\": token_count\n",
    "            })\n",
    "\n",
    "            tqdm.write(f\"Inference for model {model} completed for threat {row['Threat ID']}\")\n",
    "\n",
    "    return model_outputs, model_stats"
   ]
  },
  {
   "cell_type": "code",
   "execution_count": 194,
   "id": "df6f45f3",
   "metadata": {},
   "outputs": [],
   "source": [
    "def display_model_result_gemini(models, model_outputs, model_stats):\n",
    "    for model in models:\n",
    "        print(\"=\" * 40)\n",
    "        print(f\"Model: {model}\")\n",
    "        \n",
    "        # Ensure stats exist\n",
    "        stat = model_stats.get(model)\n",
    "        if stat and stat[\"runtime\"] is not None:\n",
    "            print(f\"Speed: {stat['tokens_per_second']:.2f} tokens/second\")\n",
    "            minutes = int(stat[\"runtime\"] // 60)\n",
    "            seconds = stat[\"runtime\"] % 60\n",
    "            print(f\"Total runtime: {minutes:02d} m {seconds:05.2f} seconds\\n\")\n",
    "        else:\n",
    "            print(\"Speed: N/A\\nTotal runtime: N/A\\nTokens: N/A\\n\")\n",
    "\n",
    "        print(\"Output:\")\n",
    "        if model in model_outputs:\n",
    "            # If multiple outputs exist for this model, iterate over them\n",
    "            outputs = model_outputs[model]\n",
    "            if isinstance(outputs, list):\n",
    "                for output in outputs:\n",
    "                    cleaned_text = re.sub(r\"<think>.*?</think>\\s*\", \"\", output, flags=re.DOTALL)\n",
    "                    display(Markdown(cleaned_text))\n",
    "            else:\n",
    "                cleaned_text = re.sub(r\"<think>.*?</think>\\s*\", \"\", outputs, flags=re.DOTALL)\n",
    "                display(Markdown(cleaned_text))\n",
    "        else:\n",
    "            print(\"No output available.\")"
   ]
  },
  {
   "cell_type": "markdown",
   "id": "80a86c5d",
   "metadata": {},
   "source": [
    "### Zero-Shot Prompt"
   ]
  },
  {
   "cell_type": "code",
   "execution_count": 214,
   "id": "8b02e78f",
   "metadata": {},
   "outputs": [],
   "source": [
    "def create_basic_zero_shot_prompt(threat_summary):\n",
    "    return f\"\"\"Given the following threat summary:\n",
    "    \n",
    "    \"{threat_summary}\"\n",
    "    \n",
    "    Provide the most relevant CAPEC IDs for this threat based on the description of each CAPEC. CAPEC stands for Common Attack Pattern Enumeration and Classification.\n",
    "    \n",
    "    As an output, provide a JSON array of CAPEC IDs that are most relevant to the threat described. Do not include any additional text or explanations, just the JSON array.\"\"\""
   ]
  },
  {
   "cell_type": "code",
   "execution_count": null,
   "id": "ec2cdbdc",
   "metadata": {},
   "outputs": [],
   "source": [
    "def create_better_zero_shot_prompt(threat_summary):\n",
    "    return f\"\"\"This task involves mapping a threat summary from the Open Radio Access Network (O-RAN) domain to relevant attack patterns.\n",
    "\n",
    "O-RAN represents a paradigm shift in Radio Access Network (RAN) design, moving from proprietary hardware to a more open, virtualized, and software-driven approach. It is used for mobile communication networks, particularly for 5G and future generations. Key principles of O-RAN include:\n",
    "- Open System: Characterized by standardized, open interfaces to foster a multi-vendor ecosystem.\n",
    "- Disaggregated RAN: Functionalities are distributed across different physical or virtual network functions.\n",
    "- Software-Driven Approach: Components are deployed on white-box appliances and accelerators.\n",
    "- Closed-Loop Control: Enabled by data-driven components deployed on RAN Intelligent Controllers (RICs).\n",
    "\n",
    "Now, based on the context above, analyze the following threat summary:\n",
    "\n",
    "\"{threat_summary}\"\n",
    "\n",
    "Provide the most relevant CAPEC IDs for this threat. CAPEC stands for Common Attack Pattern Enumeration and Classification.\n",
    "\n",
    "As an output, provide a JSON array of CAPEC IDs that are most relevant to the threat described. Do not include any additional text or explanations, just the JSON array.\"\"\""
   ]
  },
  {
   "cell_type": "code",
   "execution_count": null,
   "id": "d3612491",
   "metadata": {},
   "outputs": [],
   "source": [
    "# Build a formatted string with all CAPEC IDs and their summaries\n",
    "capec_context = \"\"\n",
    "\n",
    "for _, row in capec_data_for_PE.iterrows():\n",
    "    capec_id = row['CAPEC ID']\n",
    "    capec_summary = row['summary']\n",
    "    capec_context += f\"{capec_id}: {capec_summary}\\n\"\n",
    "\n"
   ]
  },
  {
   "cell_type": "code",
   "execution_count": null,
   "id": "edbdc05f",
   "metadata": {},
   "outputs": [],
   "source": [
    "def create_prompt_with_capec_list(threat_description, capec_context):\n",
    "    return f\"\"\"You are a cybersecurity expert.\n",
    "\n",
    "Here is a list of CAPEC attack pattern summaries:\n",
    "{capec_context}\n",
    "\n",
    "Given the following threat description:\n",
    "\n",
    "\"{threat_description}\"\n",
    "\n",
    "Which 3 CAPEC ID from the list above best match the threat based on their description? Respond only with the CAPEC ID and a brief justification.\"\"\"\n"
   ]
  },
  {
   "cell_type": "markdown",
   "id": "b3ec8007",
   "metadata": {},
   "source": [
    "Generating results"
   ]
  },
  {
   "cell_type": "code",
   "execution_count": 218,
   "id": "34989c0a",
   "metadata": {},
   "outputs": [
    {
     "name": "stderr",
     "output_type": "stream",
     "text": [
      "100%|██████████| 1/1 [00:24<00:00, 24.45s/it]"
     ]
    },
    {
     "name": "stdout",
     "output_type": "stream",
     "text": [
      "Inference for model deepseek-r1:1.5b completed for threat T-A1-02\n",
      "========================================\n",
      "Model: deepseek-r1:1.5b\n",
      "Speed: 18.98 tokens/second\n",
      "Total runtime: 00 m 24.29 seconds\n",
      "\n",
      "Output:\n"
     ]
    },
    {
     "name": "stderr",
     "output_type": "stream",
     "text": [
      "\n"
     ]
    },
    {
     "data": {
      "text/markdown": [
       "[\n",
       "    \"70-421\"\n",
       "]"
      ],
      "text/plain": [
       "<IPython.core.display.Markdown object>"
      ]
     },
     "metadata": {},
     "output_type": "display_data"
    }
   ],
   "source": [
    "basic_zero = run_inference_ollama(small_models, df, create_basic_zero_shot_prompt)\n",
    "display_model_results_ollama(small_models, basic_zero)"
   ]
  },
  {
   "cell_type": "code",
   "execution_count": null,
   "id": "d79a5c74",
   "metadata": {},
   "outputs": [],
   "source": []
  },
  {
   "cell_type": "markdown",
   "id": "dc029d30",
   "metadata": {},
   "source": [
    "### Few-Shot Prompt"
   ]
  },
  {
   "cell_type": "code",
   "execution_count": 200,
   "id": "a94e6ce1",
   "metadata": {},
   "outputs": [
    {
     "data": {
      "text/html": [
       "<div>\n",
       "<style scoped>\n",
       "    .dataframe tbody tr th:only-of-type {\n",
       "        vertical-align: middle;\n",
       "    }\n",
       "\n",
       "    .dataframe tbody tr th {\n",
       "        vertical-align: top;\n",
       "    }\n",
       "\n",
       "    .dataframe thead th {\n",
       "        text-align: right;\n",
       "    }\n",
       "</style>\n",
       "<table border=\"1\" class=\"dataframe\">\n",
       "  <thead>\n",
       "    <tr style=\"text-align: right;\">\n",
       "      <th></th>\n",
       "      <th>Name</th>\n",
       "      <th>Domain</th>\n",
       "      <th>Description</th>\n",
       "      <th>CAPEC ID</th>\n",
       "      <th>Similarity</th>\n",
       "      <th>summary_th_df</th>\n",
       "      <th>summary_ca_df</th>\n",
       "    </tr>\n",
       "  </thead>\n",
       "  <tbody>\n",
       "    <tr>\n",
       "      <th>116</th>\n",
       "      <td>T-O-RAN-07</td>\n",
       "      <td>enterprise-attack</td>\n",
       "      <td>An attacker compromises O-RAN monitoring mechanisms and log files integrity and availability</td>\n",
       "      <td>CAPEC-268</td>\n",
       "      <td>0.667489</td>\n",
       "      <td>A Threat with the title An attacker compromises O-RAN monitoring mechanisms and log files integrity and availability and the descriptionImproper / missing controls for protection of security event log files generated by O-RAN components and the lack of security events logged together with a unique system reference (e.g. host name, IP or MAC address) and the exact time the incident occurred do not allow a correct and rapid audit in case of security incident occurrence. Security restoration is delayed. Compromise of availability and integrity of security event log files could conduct to delays, wrong audit results, delays in security restoration, threats persistence.</td>\n",
       "      <td>A CAPEC with the title Audit Log Manipulation. The description of this CAPEC is:The attacker injects, manipulates, deletes, or forges malicious log entries into the log file, in an attempt to mislead an audit of the log file or cover tracks of an attack. Due to either insufficient access controls of the log files or the logging mechanism, the attacker is able to perform such actions.. The Domain of this is: Software</td>\n",
       "    </tr>\n",
       "    <tr>\n",
       "      <th>77</th>\n",
       "      <td>T-RADIO-01</td>\n",
       "      <td>enterprise-attack</td>\n",
       "      <td>Disruption through radio jamming, sniffing and spoofing</td>\n",
       "      <td>CAPEC-601</td>\n",
       "      <td>0.654919</td>\n",
       "      <td>A Threat with the title Disruption through radio jamming, sniffing and spoofing and the descriptionLike for any wireless technology, disruption through radio jamming is possible by analyzing the physical downlink and uplink control channels and signals. 5G radio network is vulnerable to:\\n• Jamming Vulnerability of Reference Signals\\n• Jamming Vulnerability of Synchronization Signal\\n• Jamming Vulnerability of the PBCH\\n• Sniffing and Spoofing Vulnerability of the PBCH\\n• Jamming Vulnerability of PDCCH\\n• Jamming Vulnerability of Physical Uplink Control Channel\\n• Jamming Vulnerability of Physical Random-Access Channel\\nNOTE 1: The O-RAN OEMs need to develop new intelligence that can proactively alert the operator when this attack is initiated so that the operator can take appropriate actions to mitigate.\\nNOTE 2: In the scenario of RF spoofing, the UE needs to be able to validate the legitimacy of the O-RU as being one owned and operated by the operator. 3GPP has proposed in a study to use Digital Signatures to mitigate this threat but there has been no agreement on this to date. The O-RAN OEMs need to develop new intelligence that can proactively alert the operator when this attack is initiated so that the operator can take appropriate actions to mitigate.</td>\n",
       "      <td>A CAPEC with the title Jamming. The description of this CAPEC is:An adversary uses radio noise or signals in an attempt to disrupt communications. By intentionally overwhelming system resources with illegitimate traffic, service is denied to the legitimate traffic of authorized users.. The Domain of this is: Communications</td>\n",
       "    </tr>\n",
       "    <tr>\n",
       "      <th>11</th>\n",
       "      <td>T-RADIO-01</td>\n",
       "      <td>enterprise-attack</td>\n",
       "      <td>Disruption through radio jamming, sniffing and spoofing</td>\n",
       "      <td>CAPEC-605</td>\n",
       "      <td>0.653919</td>\n",
       "      <td>A Threat with the title Disruption through radio jamming, sniffing and spoofing and the descriptionLike for any wireless technology, disruption through radio jamming is possible by analyzing the physical downlink and uplink control channels and signals. 5G radio network is vulnerable to:\\n• Jamming Vulnerability of Reference Signals\\n• Jamming Vulnerability of Synchronization Signal\\n• Jamming Vulnerability of the PBCH\\n• Sniffing and Spoofing Vulnerability of the PBCH\\n• Jamming Vulnerability of PDCCH\\n• Jamming Vulnerability of Physical Uplink Control Channel\\n• Jamming Vulnerability of Physical Random-Access Channel\\nNOTE 1: The O-RAN OEMs need to develop new intelligence that can proactively alert the operator when this attack is initiated so that the operator can take appropriate actions to mitigate.\\nNOTE 2: In the scenario of RF spoofing, the UE needs to be able to validate the legitimacy of the O-RU as being one owned and operated by the operator. 3GPP has proposed in a study to use Digital Signatures to mitigate this threat but there has been no agreement on this to date. The O-RAN OEMs need to develop new intelligence that can proactively alert the operator when this attack is initiated so that the operator can take appropriate actions to mitigate.</td>\n",
       "      <td>A CAPEC with the title Cellular Jamming. The description of this CAPEC is:In this attack scenario, the attacker actively transmits signals to overpower and disrupt the communication between a cellular user device and a cell tower. Several existing techniques are known in the open literature for this attack for 2G, 3G, and 4G LTE cellular technology. For example, some attacks target cell towers by overwhelming them with false status messages, while others introduce high levels of noise on signaling channels.. The Domain of this is: Communications</td>\n",
       "    </tr>\n",
       "  </tbody>\n",
       "</table>\n",
       "</div>"
      ],
      "text/plain": [
       "           Name             Domain  \\\n",
       "116  T-O-RAN-07  enterprise-attack   \n",
       "77   T-RADIO-01  enterprise-attack   \n",
       "11   T-RADIO-01  enterprise-attack   \n",
       "\n",
       "                                                                                      Description  \\\n",
       "116  An attacker compromises O-RAN monitoring mechanisms and log files integrity and availability   \n",
       "77                                        Disruption through radio jamming, sniffing and spoofing   \n",
       "11                                        Disruption through radio jamming, sniffing and spoofing   \n",
       "\n",
       "      CAPEC ID  Similarity  \\\n",
       "116  CAPEC-268    0.667489   \n",
       "77   CAPEC-601    0.654919   \n",
       "11   CAPEC-605    0.653919   \n",
       "\n",
       "                                                                                                                                                                                                                                                                                                                                                                                                                                                                                                                                                                                                                                                                                                                                                                                                                                                                                                                                                                                                                                                                                                                                                                                                                                                                                                                      summary_th_df  \\\n",
       "116                                                                                                                                                                                                                                                                                                                                                                                                                                                                                                                                                                                                                               A Threat with the title An attacker compromises O-RAN monitoring mechanisms and log files integrity and availability and the descriptionImproper / missing controls for protection of security event log files generated by O-RAN components and the lack of security events logged together with a unique system reference (e.g. host name, IP or MAC address) and the exact time the incident occurred do not allow a correct and rapid audit in case of security incident occurrence. Security restoration is delayed. Compromise of availability and integrity of security event log files could conduct to delays, wrong audit results, delays in security restoration, threats persistence.   \n",
       "77   A Threat with the title Disruption through radio jamming, sniffing and spoofing and the descriptionLike for any wireless technology, disruption through radio jamming is possible by analyzing the physical downlink and uplink control channels and signals. 5G radio network is vulnerable to:\\n• Jamming Vulnerability of Reference Signals\\n• Jamming Vulnerability of Synchronization Signal\\n• Jamming Vulnerability of the PBCH\\n• Sniffing and Spoofing Vulnerability of the PBCH\\n• Jamming Vulnerability of PDCCH\\n• Jamming Vulnerability of Physical Uplink Control Channel\\n• Jamming Vulnerability of Physical Random-Access Channel\\nNOTE 1: The O-RAN OEMs need to develop new intelligence that can proactively alert the operator when this attack is initiated so that the operator can take appropriate actions to mitigate.\\nNOTE 2: In the scenario of RF spoofing, the UE needs to be able to validate the legitimacy of the O-RU as being one owned and operated by the operator. 3GPP has proposed in a study to use Digital Signatures to mitigate this threat but there has been no agreement on this to date. The O-RAN OEMs need to develop new intelligence that can proactively alert the operator when this attack is initiated so that the operator can take appropriate actions to mitigate.   \n",
       "11   A Threat with the title Disruption through radio jamming, sniffing and spoofing and the descriptionLike for any wireless technology, disruption through radio jamming is possible by analyzing the physical downlink and uplink control channels and signals. 5G radio network is vulnerable to:\\n• Jamming Vulnerability of Reference Signals\\n• Jamming Vulnerability of Synchronization Signal\\n• Jamming Vulnerability of the PBCH\\n• Sniffing and Spoofing Vulnerability of the PBCH\\n• Jamming Vulnerability of PDCCH\\n• Jamming Vulnerability of Physical Uplink Control Channel\\n• Jamming Vulnerability of Physical Random-Access Channel\\nNOTE 1: The O-RAN OEMs need to develop new intelligence that can proactively alert the operator when this attack is initiated so that the operator can take appropriate actions to mitigate.\\nNOTE 2: In the scenario of RF spoofing, the UE needs to be able to validate the legitimacy of the O-RU as being one owned and operated by the operator. 3GPP has proposed in a study to use Digital Signatures to mitigate this threat but there has been no agreement on this to date. The O-RAN OEMs need to develop new intelligence that can proactively alert the operator when this attack is initiated so that the operator can take appropriate actions to mitigate.   \n",
       "\n",
       "                                                                                                                                                                                                                                                                                                                                                                                                                                                                                                                                                               summary_ca_df  \n",
       "116                                                                                                                                      A CAPEC with the title Audit Log Manipulation. The description of this CAPEC is:The attacker injects, manipulates, deletes, or forges malicious log entries into the log file, in an attempt to mislead an audit of the log file or cover tracks of an attack. Due to either insufficient access controls of the log files or the logging mechanism, the attacker is able to perform such actions.. The Domain of this is: Software  \n",
       "77                                                                                                                                                                                                                                      A CAPEC with the title Jamming. The description of this CAPEC is:An adversary uses radio noise or signals in an attempt to disrupt communications. By intentionally overwhelming system resources with illegitimate traffic, service is denied to the legitimate traffic of authorized users.. The Domain of this is: Communications  \n",
       "11   A CAPEC with the title Cellular Jamming. The description of this CAPEC is:In this attack scenario, the attacker actively transmits signals to overpower and disrupt the communication between a cellular user device and a cell tower. Several existing techniques are known in the open literature for this attack for 2G, 3G, and 4G LTE cellular technology. For example, some attacks target cell towers by overwhelming them with false status messages, while others introduce high levels of noise on signaling channels.. The Domain of this is: Communications  "
      ]
     },
     "execution_count": 200,
     "metadata": {},
     "output_type": "execute_result"
    }
   ],
   "source": [
    "# sort by similarity\n",
    "sorted_mappings = our_mappings.sort_values(by='Similarity', ascending=False)\n",
    "sorted_mappings.head(3)"
   ]
  },
  {
   "cell_type": "code",
   "execution_count": 201,
   "id": "1589d5f9",
   "metadata": {},
   "outputs": [],
   "source": [
    "first_few_shot_example = sorted_mappings.iloc[0]\n",
    "second_few_shot_example = sorted_mappings.iloc[1]\n",
    "third_few_shot_example = sorted_mappings.iloc[2]"
   ]
  },
  {
   "cell_type": "code",
   "execution_count": 202,
   "id": "d2c7a830",
   "metadata": {},
   "outputs": [],
   "source": [
    "def create_few_shot_prompt(threat_summary):\n",
    "    # Build the instruction part\n",
    "    base_prompt = f\"\"\"This task involves mapping a threat summary from the Open Radio Access Network (O-RAN) domain to relevant attack patterns. O-RAN represents a paradigm shift in Radio Access Network (RAN) design, moving from proprietary hardware to a more open, virtualized, and software-driven approach. It is used for mobile communication networks, particularly for 5G and future generations. Key principles of O-RAN include:\n",
    "- Open System: Characterized by standardized, open interfaces to foster a multi-vendor ecosystem.\n",
    "- Disaggregated RAN: Functionalities are distributed across different physical or virtual network functions.\n",
    "- Software-Driven Approach: Components are deployed on white-box appliances and accelerators.\n",
    "- Closed-Loop Control: Enabled by data-driven components deployed on RAN Intelligent Controllers (RICs).\n",
    "\n",
    "Now, based on the context above, analyze the following threat summary: \"{threat_summary}\"\n",
    "Provide the most relevant CAPEC IDs for this threat. CAPEC stands for Common Attack Pattern Enumeration and Classification.\n",
    "\n",
    "As an output, provide a JSON array of CAPEC IDs that are most relevant to the threat described.\n",
    "Do not include any additional text or explanations, just the JSON array.\n",
    "\n",
    "Here are some examples:\n",
    "\"\"\"\n",
    "\n",
    "    # Few-shot examples\n",
    "    examples = []\n",
    "    for example in [first_few_shot_example, second_few_shot_example, third_few_shot_example]:\n",
    "        example_text = f\"\"\"\n",
    "Example:\n",
    "Threat Name: {example['Name']}\n",
    "Threat Summary: {example['summary_th_df']}\n",
    "CAPEC Summary: {example['summary_ca_df']}\n",
    "Mapped CAPEC ID: {example['CAPEC ID']}\n",
    "Desired Output:\n",
    "[{example['CAPEC ID']}]\n",
    "\"\"\"\n",
    "        examples.append(example_text.strip())\n",
    "\n",
    "    # Combine everything\n",
    "    full_prompt = base_prompt + \"\\n\\n\".join(examples)\n",
    "    return full_prompt\n"
   ]
  },
  {
   "cell_type": "markdown",
   "id": "26509ca8",
   "metadata": {},
   "source": []
  },
  {
   "cell_type": "markdown",
   "id": "527021bd",
   "metadata": {},
   "source": [
    "## RAG"
   ]
  },
  {
   "cell_type": "code",
   "execution_count": 180,
   "id": "6bbf3240",
   "metadata": {},
   "outputs": [],
   "source": [
    "client = chromadb.Client()\n",
    "client.delete_collection('capec_summaries')\n",
    "collection = client.create_collection(name=\"capec_summaries\")"
   ]
  },
  {
   "cell_type": "code",
   "execution_count": 181,
   "id": "1a183eca",
   "metadata": {},
   "outputs": [
    {
     "data": {
      "text/plain": [
       "Index(['CAPEC ID', 'summary_ca_df', 'embedding'], dtype='object')"
      ]
     },
     "execution_count": 181,
     "metadata": {},
     "output_type": "execute_result"
    }
   ],
   "source": [
    "capecs_for_rag = pd.read_pickle('capec_data/capecs_for_rag.pk1')\n",
    "capecs_for_rag.columns"
   ]
  },
  {
   "cell_type": "code",
   "execution_count": 182,
   "id": "64de8a00",
   "metadata": {},
   "outputs": [],
   "source": [
    "collection.add(\n",
    "    documents=capecs_for_rag['summary_ca_df'].tolist(),\n",
    "    embeddings=capecs_for_rag['embedding'].tolist(),\n",
    "    ids=capecs_for_rag['CAPEC ID'].astype(str).tolist(),\n",
    "    metadatas=capecs_for_rag[['CAPEC ID']].to_dict(orient='records')\n",
    ")"
   ]
  },
  {
   "cell_type": "code",
   "execution_count": 183,
   "id": "f66c3fe9",
   "metadata": {},
   "outputs": [
    {
     "data": {
      "text/plain": [
       "Index(['Threat ID', 'summary_th_df', 'embedding'], dtype='object')"
      ]
     },
     "execution_count": 183,
     "metadata": {},
     "output_type": "execute_result"
    }
   ],
   "source": [
    "threat_data_for_RAG = pd.read_pickle('threat_data/threat_data_for_RAG.pk1')\n",
    "threat_data_for_RAG.columns"
   ]
  },
  {
   "cell_type": "code",
   "execution_count": 184,
   "id": "a4403ced",
   "metadata": {},
   "outputs": [
    {
     "data": {
      "text/plain": [
       "'A Threat with the title An attacker exploits insecure designs or lack of adaption in O-RAN components and the descriptionUnauthenticated/unauthorized access to O-RAN components could possibly be achieved via the different O-RAN interfaces, depending upon the design of the hardware-software O-RAN system and how different functions are segregated within the O-RAN system. \\nO-RAN components might be vulnerable if: \\n• Outdated component from the lack of update or patch management,\\n• Poorly design architecture,\\n• Missing appropriate security hardening,\\n• Unnecessary or insecure function/protocol/component.\\nAn attacker could, in such case, either inject malwares and/or manipulate existing software, harm the O-RAN components, create a performance issue by manipulation of parameters, or reconfigure the O-RAN components and disable the security features with the purpose of eavesdropping or wiretapping on various CUS & M planes, reaching northbound systems, attack broader network to cause denial-of-service, steal unprotected private keys, certificates, hash values, or other type of breaches.\\nIn addition, O-RAN components could be software providing network functions, so they are likely to be vulnerable to software flaws: it could be possible to bypass firewall restrictions or to take advantage of a buffer overflow to execute arbitrary commands, etc.'"
      ]
     },
     "execution_count": 184,
     "metadata": {},
     "output_type": "execute_result"
    }
   ],
   "source": [
    "threat_data_for_RAG['summary_th_df'].loc[0]"
   ]
  },
  {
   "cell_type": "code",
   "execution_count": 124,
   "id": "b20aecab",
   "metadata": {},
   "outputs": [],
   "source": [
    "id_for_query = \"T-A1-02\""
   ]
  },
  {
   "cell_type": "code",
   "execution_count": 185,
   "id": "d8a5fa26",
   "metadata": {},
   "outputs": [],
   "source": [
    "test_threat = threat_data_for_RAG[threat_data_for_RAG['Threat ID'] == id_for_query]"
   ]
  },
  {
   "cell_type": "code",
   "execution_count": 186,
   "id": "41f572c1",
   "metadata": {},
   "outputs": [
    {
     "data": {
      "text/html": [
       "<div>\n",
       "<style scoped>\n",
       "    .dataframe tbody tr th:only-of-type {\n",
       "        vertical-align: middle;\n",
       "    }\n",
       "\n",
       "    .dataframe tbody tr th {\n",
       "        vertical-align: top;\n",
       "    }\n",
       "\n",
       "    .dataframe thead th {\n",
       "        text-align: right;\n",
       "    }\n",
       "</style>\n",
       "<table border=\"1\" class=\"dataframe\">\n",
       "  <thead>\n",
       "    <tr style=\"text-align: right;\">\n",
       "      <th></th>\n",
       "      <th>Threat ID</th>\n",
       "      <th>summary_th_df</th>\n",
       "      <th>embedding</th>\n",
       "    </tr>\n",
       "  </thead>\n",
       "  <tbody>\n",
       "    <tr>\n",
       "      <th>82</th>\n",
       "      <td>T-A1-02</td>\n",
       "      <td>A Threat with the title Malicious function or application monitors messaging across A1 interface and the descriptionInternal threat actor can gain access to the messaging across the A1 interface for a MiTM attack to read policy.</td>\n",
       "      <td>[-0.027739309, 0.039540276, -0.038193483, -0.064284176, 0.088824324, -0.02560193, 0.12704141, 0.065274455, 0.054320317, 0.0046378914, 0.040495235, 0.0023881504, 0.03544273, -0.017115422, 0.016286844, 0.003277275, 0.101387314, -0.021604331, 0.018275477, 0.064627446, 0.08360575, 0.09084395, 0.023560043, -0.048624154, -0.06993853, -0.057262607, -0.04224992, 0.0016884137, 0.0075714597, -0.033969115, -0.06429448, 0.060686, -0.021285363, 0.053470537, -0.0606143, 0.033483386, 0.044285163, -0.02340873, -0.059319247, -0.057974245, -0.016330019, 0.07626063, 0.017759696, 0.022122798, -0.04441153, -0.06288382, -0.037837766, 0.04278041, -0.081336096, -0.04566745, -0.034063447, -0.037952803, 0.033880893, 0.06803568, 0.047451872, 0.00011087, 0.02009153, 0.07239538, 0.003620003, 0.060912747, 0.0074188113, -0.024893595, -7.6623866e-05, -0.009235851, -0.004327226, 0.017078962, -0.029751316, 0.029763315, 0.0029225426, -0.013260386, -0.069189, -0.039105035, -0.091323, 0.017978434, 0.028634576, 0.12855332, -0.049613547, -0.029881166, -0.018157825, -0.022697724, -0.018072657, 0.020875853, -0.019673185, 0.07867883, -0.014780375, 0.045998853, -0.021762995, -0.09158808, 0.04431891, 0.038917635, 0.0010569671, -0.08731048, 0.08533341, 0.06907569, 0.028410776, 0.048127726, -0.068348385, -0.13235407, -0.037798945, 0.12500024, ...]</td>\n",
       "    </tr>\n",
       "  </tbody>\n",
       "</table>\n",
       "</div>"
      ],
      "text/plain": [
       "   Threat ID  \\\n",
       "82   T-A1-02   \n",
       "\n",
       "                                                                                                                                                                                                                           summary_th_df  \\\n",
       "82  A Threat with the title Malicious function or application monitors messaging across A1 interface and the descriptionInternal threat actor can gain access to the messaging across the A1 interface for a MiTM attack to read policy.   \n",
       "\n",
       "                                                                                                                                                                                                                                                                                                                                                                                                                                                                                                                                                                                                                                                                                                                                                                                                                                                                                                                                                                                                                                                                                                                                                                                                                                                                                                                                                                      embedding  \n",
       "82  [-0.027739309, 0.039540276, -0.038193483, -0.064284176, 0.088824324, -0.02560193, 0.12704141, 0.065274455, 0.054320317, 0.0046378914, 0.040495235, 0.0023881504, 0.03544273, -0.017115422, 0.016286844, 0.003277275, 0.101387314, -0.021604331, 0.018275477, 0.064627446, 0.08360575, 0.09084395, 0.023560043, -0.048624154, -0.06993853, -0.057262607, -0.04224992, 0.0016884137, 0.0075714597, -0.033969115, -0.06429448, 0.060686, -0.021285363, 0.053470537, -0.0606143, 0.033483386, 0.044285163, -0.02340873, -0.059319247, -0.057974245, -0.016330019, 0.07626063, 0.017759696, 0.022122798, -0.04441153, -0.06288382, -0.037837766, 0.04278041, -0.081336096, -0.04566745, -0.034063447, -0.037952803, 0.033880893, 0.06803568, 0.047451872, 0.00011087, 0.02009153, 0.07239538, 0.003620003, 0.060912747, 0.0074188113, -0.024893595, -7.6623866e-05, -0.009235851, -0.004327226, 0.017078962, -0.029751316, 0.029763315, 0.0029225426, -0.013260386, -0.069189, -0.039105035, -0.091323, 0.017978434, 0.028634576, 0.12855332, -0.049613547, -0.029881166, -0.018157825, -0.022697724, -0.018072657, 0.020875853, -0.019673185, 0.07867883, -0.014780375, 0.045998853, -0.021762995, -0.09158808, 0.04431891, 0.038917635, 0.0010569671, -0.08731048, 0.08533341, 0.06907569, 0.028410776, 0.048127726, -0.068348385, -0.13235407, -0.037798945, 0.12500024, ...]  "
      ]
     },
     "execution_count": 186,
     "metadata": {},
     "output_type": "execute_result"
    }
   ],
   "source": [
    "test_threat"
   ]
  },
  {
   "cell_type": "code",
   "execution_count": 187,
   "id": "d2bf182c",
   "metadata": {},
   "outputs": [],
   "source": [
    "def get_relevant_informations(threat, db, n_results=3):\n",
    "    query = threat['summary_th_df'].iloc[0]\n",
    "    embedding = threat['embedding'].iloc[0]\n",
    "    results = db.query(\n",
    "        query_texts=[query],\n",
    "        query_embeddings=[embedding],\n",
    "        n_results=n_results\n",
    "    )\n",
    "    return results\n",
    "\n"
   ]
  },
  {
   "cell_type": "code",
   "execution_count": 188,
   "id": "b499bfcc",
   "metadata": {},
   "outputs": [],
   "source": [
    "relevant_infos = get_relevant_informations(test_threat, collection, 5)"
   ]
  },
  {
   "cell_type": "code",
   "execution_count": 189,
   "id": "37cf0010",
   "metadata": {},
   "outputs": [
    {
     "name": "stdout",
     "output_type": "stream",
     "text": [
      "Text: A CAPEC with the title Navigation Remapping To Propagate Malicious Content. The description of this CAPEC is: An adversary manipulates either egress or ingress data from a client within an application framework in order to change the content of messages and thereby circumvent the expected application logic.. The Domains of this are: Communications, Software\n",
      "Metadata: {'CAPEC ID': 'CAPEC-387'}\n",
      "Similarity Score: 0.7803\n",
      "----------------------------------------\n",
      "Text: A CAPEC with the title Choosing Message Identifier. The description of this CAPEC is: This pattern of attack is defined by the selection of messages distributed via multicast or public information channels that are intended for another client by determining the parameter value assigned to that client. This attack allows the adversary to gain access to potentially privileged information, and to possibly perpetrate other attacks through the distribution means by impersonation. If the channel/message being manipulated is an input rather than output mechanism for the system, (such as a command bus), this style of attack could be used to change the adversary's identifier to more a privileged one.. The Domain of this is: Communications\n",
      "Metadata: {'CAPEC ID': 'CAPEC-12'}\n",
      "Similarity Score: 0.8186\n",
      "----------------------------------------\n",
      "Text: A CAPEC with the title Application API Button Hijacking. The description of this CAPEC is: An attacker manipulates either egress or ingress data from a client within an application framework in order to change the destination and/or content of buttons displayed to a user within API messages. Performing this attack allows the attacker to manipulate content in such a way as to produce messages or content that looks authentic but contains buttons that point to an attacker controlled destination.. The Domains of this are: Communications, Software\n",
      "Metadata: {'CAPEC ID': 'CAPEC-388'}\n",
      "Similarity Score: 0.8339\n",
      "----------------------------------------\n",
      "Text: A CAPEC with the title Intent Spoof. The description of this CAPEC is: An adversary, through a previously installed malicious application, issues an intent directed toward a specific trusted application's component in an attempt to achieve a variety of different objectives including modification of data, information disclosure, and data injection. Components that have been unintentionally exported and made public are subject to this type of an attack. If the component trusts the intent's action without verififcation, then the target application performs the functionality at the adversary's request, helping the adversary achieve the desired negative technical impact.. The Domain of this is: Software\n",
      "Metadata: {'CAPEC ID': 'CAPEC-502'}\n",
      "Similarity Score: 0.8862\n",
      "----------------------------------------\n",
      "Text: A CAPEC with the title Adversary in the Middle (AiTM). The description of this CAPEC is: \n",
      "            <xhtml:p>An adversary targets the communication between two components (typically client and server), in order to alter or obtain data from transactions. A general approach entails the adversary placing themself within the communication channel between the two components.</xhtml:p>\n",
      "         . The Domains of this are: Communications, Software\n",
      "Metadata: {'CAPEC ID': 'CAPEC-94'}\n",
      "Similarity Score: 0.892\n",
      "----------------------------------------\n"
     ]
    }
   ],
   "source": [
    "for doc, meta, score in zip(\n",
    "    relevant_infos['documents'][0],\n",
    "    relevant_infos['metadatas'][0],\n",
    "    relevant_infos['distances'][0]\n",
    "):\n",
    "    print(\"Text:\", doc)\n",
    "    print(\"Metadata:\", meta)\n",
    "    print(\"Similarity Score:\", round(score, 4))\n",
    "    print(\"-\" * 40)"
   ]
  },
  {
   "cell_type": "code",
   "execution_count": 190,
   "id": "207b09c7",
   "metadata": {},
   "outputs": [
    {
     "name": "stdout",
     "output_type": "stream",
     "text": [
      "Metadata: {'CAPEC ID': 'CAPEC-387'}\n",
      "Similarity Score: 0.7803\n",
      "----------------------------------------\n",
      "Metadata: {'CAPEC ID': 'CAPEC-12'}\n",
      "Similarity Score: 0.8186\n",
      "----------------------------------------\n",
      "Metadata: {'CAPEC ID': 'CAPEC-388'}\n",
      "Similarity Score: 0.8339\n",
      "----------------------------------------\n",
      "Metadata: {'CAPEC ID': 'CAPEC-502'}\n",
      "Similarity Score: 0.8862\n",
      "----------------------------------------\n",
      "Metadata: {'CAPEC ID': 'CAPEC-94'}\n",
      "Similarity Score: 0.892\n",
      "----------------------------------------\n"
     ]
    }
   ],
   "source": [
    "for meta, score in zip(relevant_infos['metadatas'][0], relevant_infos['distances'][0]):\n",
    "    print(\"Metadata:\", meta)\n",
    "    print(\"Similarity Score:\", round(score, 4))\n",
    "    print(\"-\" * 40)\n"
   ]
  },
  {
   "cell_type": "code",
   "execution_count": 191,
   "id": "0f67ddb7",
   "metadata": {},
   "outputs": [],
   "source": [
    "def create_rag_prompt(threat, collection, n_results=5):\n",
    "    results = get_relevant_informations(threat, collection, n_results=n_results)\n",
    "\n",
    "    # Prepare CAPEC list with IDs and descriptions\n",
    "    capec_entries = []\n",
    "    for doc, meta in zip(results['documents'][0], results['metadatas'][0]):\n",
    "        capec_id = meta.get(\"CAPEC ID\", \"N/A\")\n",
    "        capec_entries.append(f\"CAPEC-{capec_id}: {doc}\")\n",
    "\n",
    "    capec_text = \"\\n\\n\".join(capec_entries)\n",
    "    threat_description = threat['summary_th_df'].iloc[0]\n",
    "\n",
    "    # Construct the full prompt with ranking requirement\n",
    "    prompt = f\"\"\"\n",
    "You are a cybersecurity analyst.\n",
    "\n",
    "Below is a description of a cyber threat followed by several CAPEC (Common Attack Pattern Enumeration and Classification) entries.\n",
    "\n",
    "Your task is to:\n",
    "\n",
    "1. Review each CAPEC entry in relation to the threat description.\n",
    "2. Classify it as:\n",
    "   ✅ **FITTING** — clearly related to the described threat scenario or technique.\n",
    "   ❌ **NON-FITTING** — not clearly related to the threat.\n",
    "3. Provide a **short, specific justification** for each CAPEC (1 sentence max).\n",
    "4. **Rank the fitting CAPECs** from most to least relevant.\n",
    "5. Use the following output format:\n",
    "\n",
    "FITTING (ranked from most to least relevant):\n",
    "- CAPEC-XXX: [justification]\n",
    "- CAPEC-YYY: [justification]\n",
    "- CAPEC-ZZZ: [justification]\n",
    "\n",
    "NON-FITTING:\n",
    "- CAPEC-AAA: [justification]\n",
    "- CAPEC-BBB: [justification]\n",
    "\n",
    "THREAT DESCRIPTION:\n",
    "\\\"\\\"\\\"{threat_description}\\\"\\\"\\\"\n",
    "\n",
    "CAPEC ENTRIES:\n",
    "{capec_text}\n",
    "\"\"\"\n",
    "\n",
    "    return prompt.strip()\n"
   ]
  },
  {
   "cell_type": "code",
   "execution_count": 192,
   "id": "bbd5fd71",
   "metadata": {},
   "outputs": [
    {
     "ename": "ValueError",
     "evalue": "Missing key inputs argument! To use the Google AI API, provide (`api_key`) arguments. To use the Google Cloud API, provide (`vertexai`, `project` & `location`) arguments.",
     "output_type": "error",
     "traceback": [
      "\u001b[31m---------------------------------------------------------------------------\u001b[39m",
      "\u001b[31mValueError\u001b[39m                                Traceback (most recent call last)",
      "\u001b[36mCell\u001b[39m\u001b[36m \u001b[39m\u001b[32mIn[192]\u001b[39m\u001b[32m, line 1\u001b[39m\n\u001b[32m----> \u001b[39m\u001b[32m1\u001b[39m client = \u001b[43mgenai\u001b[49m\u001b[43m.\u001b[49m\u001b[43mClient\u001b[49m\u001b[43m(\u001b[49m\u001b[43m)\u001b[49m\n",
      "\u001b[36mFile \u001b[39m\u001b[32m~/MasterThesis_LLM_optimization_ORCA/.venv/lib/python3.13/site-packages/google/genai/client.py:219\u001b[39m, in \u001b[36mClient.__init__\u001b[39m\u001b[34m(self, vertexai, api_key, credentials, project, location, debug_config, http_options)\u001b[39m\n\u001b[32m    216\u001b[39m   \u001b[38;5;28;01melse\u001b[39;00m:\n\u001b[32m    217\u001b[39m     http_options = HttpOptions(base_url=base_url)\n\u001b[32m--> \u001b[39m\u001b[32m219\u001b[39m \u001b[38;5;28mself\u001b[39m._api_client = \u001b[38;5;28;43mself\u001b[39;49m\u001b[43m.\u001b[49m\u001b[43m_get_api_client\u001b[49m\u001b[43m(\u001b[49m\n\u001b[32m    220\u001b[39m \u001b[43m    \u001b[49m\u001b[43mvertexai\u001b[49m\u001b[43m=\u001b[49m\u001b[43mvertexai\u001b[49m\u001b[43m,\u001b[49m\n\u001b[32m    221\u001b[39m \u001b[43m    \u001b[49m\u001b[43mapi_key\u001b[49m\u001b[43m=\u001b[49m\u001b[43mapi_key\u001b[49m\u001b[43m,\u001b[49m\n\u001b[32m    222\u001b[39m \u001b[43m    \u001b[49m\u001b[43mcredentials\u001b[49m\u001b[43m=\u001b[49m\u001b[43mcredentials\u001b[49m\u001b[43m,\u001b[49m\n\u001b[32m    223\u001b[39m \u001b[43m    \u001b[49m\u001b[43mproject\u001b[49m\u001b[43m=\u001b[49m\u001b[43mproject\u001b[49m\u001b[43m,\u001b[49m\n\u001b[32m    224\u001b[39m \u001b[43m    \u001b[49m\u001b[43mlocation\u001b[49m\u001b[43m=\u001b[49m\u001b[43mlocation\u001b[49m\u001b[43m,\u001b[49m\n\u001b[32m    225\u001b[39m \u001b[43m    \u001b[49m\u001b[43mdebug_config\u001b[49m\u001b[43m=\u001b[49m\u001b[38;5;28;43mself\u001b[39;49m\u001b[43m.\u001b[49m\u001b[43m_debug_config\u001b[49m\u001b[43m,\u001b[49m\n\u001b[32m    226\u001b[39m \u001b[43m    \u001b[49m\u001b[43mhttp_options\u001b[49m\u001b[43m=\u001b[49m\u001b[43mhttp_options\u001b[49m\u001b[43m,\u001b[49m\n\u001b[32m    227\u001b[39m \u001b[43m\u001b[49m\u001b[43m)\u001b[49m\n\u001b[32m    229\u001b[39m \u001b[38;5;28mself\u001b[39m._aio = AsyncClient(\u001b[38;5;28mself\u001b[39m._api_client)\n\u001b[32m    230\u001b[39m \u001b[38;5;28mself\u001b[39m._models = Models(\u001b[38;5;28mself\u001b[39m._api_client)\n",
      "\u001b[36mFile \u001b[39m\u001b[32m~/MasterThesis_LLM_optimization_ORCA/.venv/lib/python3.13/site-packages/google/genai/client.py:265\u001b[39m, in \u001b[36mClient._get_api_client\u001b[39m\u001b[34m(vertexai, api_key, credentials, project, location, debug_config, http_options)\u001b[39m\n\u001b[32m    248\u001b[39m \u001b[38;5;28;01mif\u001b[39;00m debug_config \u001b[38;5;129;01mand\u001b[39;00m debug_config.client_mode \u001b[38;5;129;01min\u001b[39;00m [\n\u001b[32m    249\u001b[39m     \u001b[33m'\u001b[39m\u001b[33mrecord\u001b[39m\u001b[33m'\u001b[39m,\n\u001b[32m    250\u001b[39m     \u001b[33m'\u001b[39m\u001b[33mreplay\u001b[39m\u001b[33m'\u001b[39m,\n\u001b[32m    251\u001b[39m     \u001b[33m'\u001b[39m\u001b[33mauto\u001b[39m\u001b[33m'\u001b[39m,\n\u001b[32m    252\u001b[39m ]:\n\u001b[32m    253\u001b[39m   \u001b[38;5;28;01mreturn\u001b[39;00m ReplayApiClient(\n\u001b[32m    254\u001b[39m       mode=debug_config.client_mode,  \u001b[38;5;66;03m# type: ignore[arg-type]\u001b[39;00m\n\u001b[32m    255\u001b[39m       replay_id=debug_config.replay_id,  \u001b[38;5;66;03m# type: ignore[arg-type]\u001b[39;00m\n\u001b[32m   (...)\u001b[39m\u001b[32m    262\u001b[39m       http_options=http_options,\n\u001b[32m    263\u001b[39m   )\n\u001b[32m--> \u001b[39m\u001b[32m265\u001b[39m \u001b[38;5;28;01mreturn\u001b[39;00m \u001b[43mBaseApiClient\u001b[49m\u001b[43m(\u001b[49m\n\u001b[32m    266\u001b[39m \u001b[43m    \u001b[49m\u001b[43mvertexai\u001b[49m\u001b[43m=\u001b[49m\u001b[43mvertexai\u001b[49m\u001b[43m,\u001b[49m\n\u001b[32m    267\u001b[39m \u001b[43m    \u001b[49m\u001b[43mapi_key\u001b[49m\u001b[43m=\u001b[49m\u001b[43mapi_key\u001b[49m\u001b[43m,\u001b[49m\n\u001b[32m    268\u001b[39m \u001b[43m    \u001b[49m\u001b[43mcredentials\u001b[49m\u001b[43m=\u001b[49m\u001b[43mcredentials\u001b[49m\u001b[43m,\u001b[49m\n\u001b[32m    269\u001b[39m \u001b[43m    \u001b[49m\u001b[43mproject\u001b[49m\u001b[43m=\u001b[49m\u001b[43mproject\u001b[49m\u001b[43m,\u001b[49m\n\u001b[32m    270\u001b[39m \u001b[43m    \u001b[49m\u001b[43mlocation\u001b[49m\u001b[43m=\u001b[49m\u001b[43mlocation\u001b[49m\u001b[43m,\u001b[49m\n\u001b[32m    271\u001b[39m \u001b[43m    \u001b[49m\u001b[43mhttp_options\u001b[49m\u001b[43m=\u001b[49m\u001b[43mhttp_options\u001b[49m\u001b[43m,\u001b[49m\n\u001b[32m    272\u001b[39m \u001b[43m\u001b[49m\u001b[43m)\u001b[49m\n",
      "\u001b[36mFile \u001b[39m\u001b[32m~/MasterThesis_LLM_optimization_ORCA/.venv/lib/python3.13/site-packages/google/genai/_api_client.py:544\u001b[39m, in \u001b[36mBaseApiClient.__init__\u001b[39m\u001b[34m(self, vertexai, api_key, credentials, project, location, http_options)\u001b[39m\n\u001b[32m    542\u001b[39m \u001b[38;5;28;01melse\u001b[39;00m:  \u001b[38;5;66;03m# Implicit initialization or missing arguments.\u001b[39;00m\n\u001b[32m    543\u001b[39m   \u001b[38;5;28;01mif\u001b[39;00m \u001b[38;5;129;01mnot\u001b[39;00m \u001b[38;5;28mself\u001b[39m.api_key:\n\u001b[32m--> \u001b[39m\u001b[32m544\u001b[39m     \u001b[38;5;28;01mraise\u001b[39;00m \u001b[38;5;167;01mValueError\u001b[39;00m(\n\u001b[32m    545\u001b[39m         \u001b[33m'\u001b[39m\u001b[33mMissing key inputs argument! To use the Google AI API,\u001b[39m\u001b[33m'\u001b[39m\n\u001b[32m    546\u001b[39m         \u001b[33m'\u001b[39m\u001b[33m provide (`api_key`) arguments. To use the Google Cloud API,\u001b[39m\u001b[33m'\u001b[39m\n\u001b[32m    547\u001b[39m         \u001b[33m'\u001b[39m\u001b[33m provide (`vertexai`, `project` & `location`) arguments.\u001b[39m\u001b[33m'\u001b[39m\n\u001b[32m    548\u001b[39m     )\n\u001b[32m    549\u001b[39m   \u001b[38;5;28mself\u001b[39m._http_options.base_url = \u001b[33m'\u001b[39m\u001b[33mhttps://generativelanguage.googleapis.com/\u001b[39m\u001b[33m'\u001b[39m\n\u001b[32m    550\u001b[39m   \u001b[38;5;28mself\u001b[39m._http_options.api_version = \u001b[33m'\u001b[39m\u001b[33mv1beta\u001b[39m\u001b[33m'\u001b[39m\n",
      "\u001b[31mValueError\u001b[39m: Missing key inputs argument! To use the Google AI API, provide (`api_key`) arguments. To use the Google Cloud API, provide (`vertexai`, `project` & `location`) arguments."
     ]
    }
   ],
   "source": [
    "client = genai.Client()"
   ]
  },
  {
   "cell_type": "code",
   "execution_count": 193,
   "id": "62a17d26",
   "metadata": {},
   "outputs": [],
   "source": [
    "config = types.GenerateContentConfig(\n",
    "        temperature=0.0,\n",
    "        seed = 42\n",
    "    )"
   ]
  },
  {
   "cell_type": "code",
   "execution_count": 170,
   "id": "a76d3b89",
   "metadata": {},
   "outputs": [],
   "source": [
    "models = [\"gemini-2.5-flash\"]"
   ]
  },
  {
   "cell_type": "code",
   "execution_count": 171,
   "id": "18d91f48",
   "metadata": {},
   "outputs": [],
   "source": [
    "responses = []\n",
    "prompt = create_rag_prompt(test_threat, collection, 5)\n",
    "for model in models:\n",
    "    answer = client.models.generate_content(\n",
    "    contents = prompt,\n",
    "    model = model,\n",
    "    config = config\n",
    "    )\n",
    "    responses.append(answer.text)"
   ]
  },
  {
   "cell_type": "code",
   "execution_count": 172,
   "id": "266d9f06",
   "metadata": {},
   "outputs": [
    {
     "data": {
      "text/markdown": [
       "FITTING (ranked from most to least relevant):\n",
       "- CAPEC-CAPEC-94: Directly describes the \"Adversary in the Middle\" attack, which is explicitly named as a MiTM attack in the threat description.\n",
       "- CAPEC-CAPEC-12: Describes gaining access to specific messages and privileged information, which directly aligns with the threat's goal to \"read policy.\"\n",
       "- CAPEC-CAPEC-387: Describes manipulating message content within an application framework, which is a capability often employed in a MiTM attack.\n",
       "\n",
       "NON-FITTING:\n",
       "- CAPEC-CAPEC-388: Describes a specific UI manipulation technique (button hijacking) not directly implied by a general \"MiTM attack to read policy.\"\n",
       "- CAPEC-CAPEC-502: Describes an inter-component communication attack (intent spoofing) rather than a network-level MiTM attack."
      ],
      "text/plain": [
       "<IPython.core.display.Markdown object>"
      ]
     },
     "metadata": {},
     "output_type": "display_data"
    }
   ],
   "source": [
    "display(Markdown(responses[0]))"
   ]
  },
  {
   "cell_type": "code",
   "execution_count": null,
   "id": "d5c800bf",
   "metadata": {},
   "outputs": [],
   "source": [
    "#local_model = \"deepseek-r1:1.5b\""
   ]
  },
  {
   "cell_type": "code",
   "execution_count": 219,
   "id": "4461b709",
   "metadata": {},
   "outputs": [],
   "source": [
    "local_model = \"deepseek-r1:8b\""
   ]
  },
  {
   "cell_type": "code",
   "execution_count": 201,
   "id": "ebc326e4",
   "metadata": {},
   "outputs": [],
   "source": [
    "df = test_threat"
   ]
  },
  {
   "cell_type": "code",
   "execution_count": 202,
   "id": "b2fbc917",
   "metadata": {},
   "outputs": [
    {
     "data": {
      "text/html": [
       "<div>\n",
       "<style scoped>\n",
       "    .dataframe tbody tr th:only-of-type {\n",
       "        vertical-align: middle;\n",
       "    }\n",
       "\n",
       "    .dataframe tbody tr th {\n",
       "        vertical-align: top;\n",
       "    }\n",
       "\n",
       "    .dataframe thead th {\n",
       "        text-align: right;\n",
       "    }\n",
       "</style>\n",
       "<table border=\"1\" class=\"dataframe\">\n",
       "  <thead>\n",
       "    <tr style=\"text-align: right;\">\n",
       "      <th></th>\n",
       "      <th>Threat ID</th>\n",
       "      <th>summary_th_df</th>\n",
       "      <th>embedding</th>\n",
       "    </tr>\n",
       "  </thead>\n",
       "  <tbody>\n",
       "    <tr>\n",
       "      <th>82</th>\n",
       "      <td>T-A1-02</td>\n",
       "      <td>A Threat with the title Malicious function or application monitors messaging across A1 interface and the descriptionInternal threat actor can gain access to the messaging across the A1 interface for a MiTM attack to read policy.</td>\n",
       "      <td>[-0.027739309, 0.039540276, -0.038193483, -0.064284176, 0.088824324, -0.02560193, 0.12704141, 0.065274455, 0.054320317, 0.0046378914, 0.040495235, 0.0023881504, 0.03544273, -0.017115422, 0.016286844, 0.003277275, 0.101387314, -0.021604331, 0.018275477, 0.064627446, 0.08360575, 0.09084395, 0.023560043, -0.048624154, -0.06993853, -0.057262607, -0.04224992, 0.0016884137, 0.0075714597, -0.033969115, -0.06429448, 0.060686, -0.021285363, 0.053470537, -0.0606143, 0.033483386, 0.044285163, -0.02340873, -0.059319247, -0.057974245, -0.016330019, 0.07626063, 0.017759696, 0.022122798, -0.04441153, -0.06288382, -0.037837766, 0.04278041, -0.081336096, -0.04566745, -0.034063447, -0.037952803, 0.033880893, 0.06803568, 0.047451872, 0.00011087, 0.02009153, 0.07239538, 0.003620003, 0.060912747, 0.0074188113, -0.024893595, -7.6623866e-05, -0.009235851, -0.004327226, 0.017078962, -0.029751316, 0.029763315, 0.0029225426, -0.013260386, -0.069189, -0.039105035, -0.091323, 0.017978434, 0.028634576, 0.12855332, -0.049613547, -0.029881166, -0.018157825, -0.022697724, -0.018072657, 0.020875853, -0.019673185, 0.07867883, -0.014780375, 0.045998853, -0.021762995, -0.09158808, 0.04431891, 0.038917635, 0.0010569671, -0.08731048, 0.08533341, 0.06907569, 0.028410776, 0.048127726, -0.068348385, -0.13235407, -0.037798945, 0.12500024, ...]</td>\n",
       "    </tr>\n",
       "  </tbody>\n",
       "</table>\n",
       "</div>"
      ],
      "text/plain": [
       "   Threat ID  \\\n",
       "82   T-A1-02   \n",
       "\n",
       "                                                                                                                                                                                                                           summary_th_df  \\\n",
       "82  A Threat with the title Malicious function or application monitors messaging across A1 interface and the descriptionInternal threat actor can gain access to the messaging across the A1 interface for a MiTM attack to read policy.   \n",
       "\n",
       "                                                                                                                                                                                                                                                                                                                                                                                                                                                                                                                                                                                                                                                                                                                                                                                                                                                                                                                                                                                                                                                                                                                                                                                                                                                                                                                                                                      embedding  \n",
       "82  [-0.027739309, 0.039540276, -0.038193483, -0.064284176, 0.088824324, -0.02560193, 0.12704141, 0.065274455, 0.054320317, 0.0046378914, 0.040495235, 0.0023881504, 0.03544273, -0.017115422, 0.016286844, 0.003277275, 0.101387314, -0.021604331, 0.018275477, 0.064627446, 0.08360575, 0.09084395, 0.023560043, -0.048624154, -0.06993853, -0.057262607, -0.04224992, 0.0016884137, 0.0075714597, -0.033969115, -0.06429448, 0.060686, -0.021285363, 0.053470537, -0.0606143, 0.033483386, 0.044285163, -0.02340873, -0.059319247, -0.057974245, -0.016330019, 0.07626063, 0.017759696, 0.022122798, -0.04441153, -0.06288382, -0.037837766, 0.04278041, -0.081336096, -0.04566745, -0.034063447, -0.037952803, 0.033880893, 0.06803568, 0.047451872, 0.00011087, 0.02009153, 0.07239538, 0.003620003, 0.060912747, 0.0074188113, -0.024893595, -7.6623866e-05, -0.009235851, -0.004327226, 0.017078962, -0.029751316, 0.029763315, 0.0029225426, -0.013260386, -0.069189, -0.039105035, -0.091323, 0.017978434, 0.028634576, 0.12855332, -0.049613547, -0.029881166, -0.018157825, -0.022697724, -0.018072657, 0.020875853, -0.019673185, 0.07867883, -0.014780375, 0.045998853, -0.021762995, -0.09158808, 0.04431891, 0.038917635, 0.0010569671, -0.08731048, 0.08533341, 0.06907569, 0.028410776, 0.048127726, -0.068348385, -0.13235407, -0.037798945, 0.12500024, ...]  "
      ]
     },
     "execution_count": 202,
     "metadata": {},
     "output_type": "execute_result"
    }
   ],
   "source": [
    "df"
   ]
  },
  {
   "cell_type": "code",
   "execution_count": 220,
   "id": "2778069e",
   "metadata": {},
   "outputs": [],
   "source": [
    "model_outputs = []\n",
    "\n",
    "prompt = create_rag_prompt(df, collection, n_results=5)\n",
    "\n",
    "# Call Ollama model with the prompt\n",
    "response = ollama.generate(\n",
    "    model=local_model,\n",
    "    prompt=prompt,\n",
    "    options={'temperature': 0.0, 'seed':42}\n",
    ")\n",
    "output_text = response\n",
    "    \n",
    "model_outputs.append(output_text)\n"
   ]
  },
  {
   "cell_type": "code",
   "execution_count": 221,
   "id": "0ece11d8",
   "metadata": {},
   "outputs": [
    {
     "name": "stdout",
     "output_type": "stream",
     "text": [
      "Model: deepseek-r1:8b\n",
      "Speed: 5.20 tokens/second\n",
      "Total runtime: 05 m 48.17 seconds\n"
     ]
    }
   ],
   "source": [
    "print(f\"Model: {local_model}\")\n",
    "\n",
    "tokens_per_second = model_outputs[0].eval_count / (model_outputs[0].eval_duration / 1e9)\n",
    "\n",
    "print(f\"Speed: {tokens_per_second:.2f} tokens/second\")\n",
    "\n",
    "duration_s = model_outputs[0].eval_duration / 1e9\n",
    "minutes = int(duration_s // 60)\n",
    "seconds = duration_s % 60\n",
    "\n",
    "print(f\"Total runtime: {minutes:02d} m {seconds:05.2f} seconds\")\n"
   ]
  },
  {
   "cell_type": "code",
   "execution_count": 222,
   "id": "a5f838c5",
   "metadata": {},
   "outputs": [
    {
     "data": {
      "text/markdown": [
       "Okay, here is the classification based on the provided threat description:\n",
       "\n",
       "**THREAT DESCRIPTION:**\n",
       "*A Threat with the title Malicious function or application monitors messaging across A1 interface and the descriptionInternal threat actor can gain access to the messaging across the A1 interface for a MiTM attack to read policy.*\n",
       "\n",
       "This describes an internal threat actor using the A1 interface (likely a communication channel) to intercept messages, specifically targeting Man-in-the-Middle (MiTM) attacks to eavesdrop or potentially alter data with the goal of reading policy information.\n",
       "\n",
       "**CAPEC ENTRIES:**\n",
       "\n",
       "*   **CAPEC-387:** Navigation Remapping To Propagate Malicious Content\n",
       "    *   FITTING:\n",
       "        ✅ This attack involves manipulating messages within a communication channel (like A1) to change their content or destination, which aligns with the threat actor potentially altering data during an interception.\n",
       "\n",
       "*   **CAPEC-12:** Choosing Message Identifier\n",
       "    *   FITTING:\n",
       "        ✅ This attack directly relates to intercepting and redirecting communications by manipulating message identifiers, fitting the scenario of gaining access via A1 for a MiTM attack.\n",
       "\n",
       "*   **CAPEC-388:** Application API Button Hijacking\n",
       "    *   FITTING (less direct):\n",
       "        ✅ While it involves manipulating messages or data through an interface like A1, its focus is on changing UI elements (buttons) rather than directly reading policy during interception. It's a specific type of message manipulation.\n",
       "\n",
       "*   **CAPEC-502:** Intent Spoof\n",
       "    *   NON-FITTING:\n",
       "        ❌ This attack specifically targets intent handling mechanisms in mobile platforms (like Android), which isn't mentioned or implied by the general threat description involving A1 interface monitoring for policy reading. It requires platform-specific vulnerabilities.\n",
       "\n",
       "*   **CAPEC-94:** Adversary in the Middle (AiTM)\n",
       "    *   FITTING:\n",
       "        ✅ This attack pattern explicitly describes an adversary placing themselves within a communication channel to intercept or alter messages, which is precisely what the threat scenario involves for gaining access via A1 and conducting a MiTM attack.\n",
       "\n",
       "**RANKING:**\n",
       "\n",
       "The ranking considers how directly the CAPEC entry matches the core concept of interception (MiTM) through the A1 interface specifically for reading policy. The most fitting are those that inherently involve being in the middle or intercepting messages, followed by general message manipulation techniques via an interface.\n",
       "\n",
       "*   **Most Relevant:** CAPEC-94 (Adversary in the Middle - directly describes MiTM placement)\n",
       "*   **Next Most Relevant:** CAPEC-387 (Navigation Remapping - involves altering content during transit through A1), CAPEC-12 (Choosing Message Identifier - core technique for redirection and interception via A1)\n",
       "*   **Least Relevant among Fitting:** CAPEC-388 (Button Hijacking - specific UI manipulation, less directly tied to policy reading)\n",
       "\n",
       "**Output:**\n",
       "\n",
       "FITTING (ranked from most to least relevant):\n",
       "- CAPEC-94: Directly describes an adversary placing themselves within the communication channel between components, which matches the threat's MiTM attack across A1.\n",
       "- CAPEC-387: Involves manipulating messages in transit through a communication interface like A1 to circumvent logic and alter content, fitting the interception aspect of the threat.\n",
       "- CAPEC-12: Focuses on intercepting communications by selecting specific message identifiers for redirection via an interface like A1.\n",
       "\n",
       "NON-FITTING:\n",
       "- CAPEC-502: Relates to platform-specific intent handling vulnerabilities (e.g., Android) not indicated in the general threat description involving A1.\n",
       "- CAPEC-388: While it involves manipulating messages through an API, its specific focus on UI button hijacking is less directly related to reading policy during a MiTM attack."
      ],
      "text/plain": [
       "<IPython.core.display.Markdown object>"
      ]
     },
     "metadata": {},
     "output_type": "display_data"
    }
   ],
   "source": [
    "display(Markdown(re.sub(r\"<think>.*?</think>\\s*\", \"\", model_outputs[0]['response'], flags=re.DOTALL)))"
   ]
  },
  {
   "cell_type": "code",
   "execution_count": null,
   "id": "87b8e190",
   "metadata": {},
   "outputs": [],
   "source": []
  },
  {
   "cell_type": "code",
   "execution_count": 173,
   "id": "8e6bb3f9",
   "metadata": {},
   "outputs": [],
   "source": [
    "### Fine Tuning with LoRA"
   ]
  },
  {
   "cell_type": "markdown",
   "id": "f1788469",
   "metadata": {},
   "source": [
    "# Evaluation"
   ]
  },
  {
   "cell_type": "code",
   "execution_count": null,
   "id": "35848faf",
   "metadata": {},
   "outputs": [],
   "source": []
  }
 ],
 "metadata": {
  "kernelspec": {
   "display_name": "MasterThesis_LLM_optimization_ORCA",
   "language": "python",
   "name": "python3"
  },
  "language_info": {
   "codemirror_mode": {
    "name": "ipython",
    "version": 3
   },
   "file_extension": ".py",
   "mimetype": "text/x-python",
   "name": "python",
   "nbconvert_exporter": "python",
   "pygments_lexer": "ipython3",
   "version": "3.13.2"
  }
 },
 "nbformat": 4,
 "nbformat_minor": 5
}
