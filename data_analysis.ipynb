{
 "cells": [
  {
   "cell_type": "markdown",
   "id": "afcf284f",
   "metadata": {},
   "source": [
    "# CRISP DM\n"
   ]
  },
  {
   "cell_type": "markdown",
   "id": "ba15c3be",
   "metadata": {},
   "source": [
    "# Problem Understanding:\n",
    "A central step in the ORCA pipeline is the automated mapping of natural language threat\n",
    "descriptions to structured attack patterns from the Common Attack Pattern Enumeration\n",
    "and Classification (CAPEC) framework. This process—referred to as Threat-to-CAPEC\n",
    "Mapping—aims to translate unstructured textual threat inputs into standardized, machine-\n",
    "readable representations that describe how an attacker might exploit a given vulnerability.\n",
    "This mapping is critical for enabling further steps in the security analysis process, such\n",
    "as correlating threats with known vulnerabilities (CWEs, CVEs), assessing risk using\n",
    "scoring systems like CVSS, and informing mitigation strategies. However, the task poses\n",
    "several inherent challenges:\n",
    "Ambiguity: Threat descriptions are often informal, incomplete, or context-dependent.\n",
    "Terminology mismatch: Natural language inputs may not directly align with the technical\n",
    "vocabulary used in CAPEC definitions.\n",
    "Granularity: A single threat may correspond to multiple CAPECs at varying levels of\n",
    "abstraction, requiring semantic reasoning to determine relevance.\n",
    "Solving this problem involves designing a system capable of understanding the semantics\n",
    "of threat descriptions and reliably identifying the most appropriate CAPEC entries. This\n",
    "step must balance accuracy, scalability, and interpretability to support reliable, automated\n",
    "security assessments within the broader ORCA framework."
   ]
  },
  {
   "cell_type": "markdown",
   "id": "28377b02",
   "metadata": {},
   "source": [
    "# Data Understanding"
   ]
  },
  {
   "cell_type": "code",
   "execution_count": 1,
   "id": "92b7bdae",
   "metadata": {},
   "outputs": [
    {
     "name": "stderr",
     "output_type": "stream",
     "text": [
      "/root/MasterThesis_LLM_optimization_ORCA/.venv/lib/python3.13/site-packages/tqdm/auto.py:21: TqdmWarning: IProgress not found. Please update jupyter and ipywidgets. See https://ipywidgets.readthedocs.io/en/stable/user_install.html\n",
      "  from .autonotebook import tqdm as notebook_tqdm\n"
     ]
    },
    {
     "data": {
      "text/html": [
       "\n",
       "<style>\n",
       "/* White background for output area */\n",
       ".output_area {\n",
       "    background: white !important;\n",
       "    color: black !important;\n",
       "}\n",
       "\n",
       "/* Optional: White background for DataFrame cells */\n",
       ".dataframe {\n",
       "    background-color: white !important;\n",
       "    color: black !important;\n",
       "}\n",
       "</style>\n"
      ],
      "text/plain": [
       "<IPython.core.display.HTML object>"
      ]
     },
     "metadata": {},
     "output_type": "display_data"
    }
   ],
   "source": [
    "# imports\n",
    "import pandas as pd\n",
    "import json\n",
    "import re\n",
    "import time\n",
    "from datetime import datetime\n",
    "import ollama\n",
    "from IPython.display import HTML, display\n",
    "from git import Repo, InvalidGitRepositoryError\n",
    "import os\n",
    "import shutil\n",
    "\n",
    "from stix2 import FileSystemSource\n",
    "from stix2 import Filter\n",
    "\n",
    "from sentence_transformers import SentenceTransformer, util\n",
    "import torch\n",
    "import chromadb\n",
    "from chromadb import Documents, EmbeddingFunction, Embeddings\n",
    "\n",
    "import pprint\n",
    "from pprint import pprint\n",
    "\n",
    "from tqdm import tqdm\n",
    "from google import genai\n",
    "from google.genai import types\n",
    "\n",
    "from pprint import pprint\n",
    "\n",
    "from IPython.display import HTML, Markdown, display\n",
    "\n",
    "display(HTML('''\n",
    "<style>\n",
    "/* White background for output area */\n",
    ".output_area {\n",
    "    background: white !important;\n",
    "    color: black !important;\n",
    "}\n",
    "\n",
    "/* Optional: White background for DataFrame cells */\n",
    ".dataframe {\n",
    "    background-color: white !important;\n",
    "    color: black !important;\n",
    "}\n",
    "</style>\n",
    "'''))\n",
    "\n"
   ]
  },
  {
   "cell_type": "code",
   "execution_count": 2,
   "id": "5ce09cf6",
   "metadata": {},
   "outputs": [],
   "source": [
    "# setting display options for pandas\n",
    "pd.set_option('display.max_columns', None)\n",
    "pd.set_option('display.width', None)\n",
    "pd.set_option('display.max_colwidth', None)"
   ]
  },
  {
   "cell_type": "markdown",
   "id": "88e0f901",
   "metadata": {},
   "source": [
    "Import threat data from json file"
   ]
  },
  {
   "cell_type": "code",
   "execution_count": 25,
   "id": "852276b1",
   "metadata": {},
   "outputs": [],
   "source": [
    "# Load threat data from JSON file into a DataFrame\n",
    "df_threats = pd.read_json('threat_data/all_threats.json')"
   ]
  },
  {
   "cell_type": "code",
   "execution_count": 26,
   "id": "0fde54f2",
   "metadata": {},
   "outputs": [
    {
     "name": "stdout",
     "output_type": "stream",
     "text": [
      "<class 'pandas.core.frame.DataFrame'>\n",
      "RangeIndex: 182 entries, 0 to 181\n",
      "Data columns (total 9 columns):\n",
      " #   Column               Non-Null Count  Dtype \n",
      "---  ------               --------------  ----- \n",
      " 0   Threat ID            182 non-null    object\n",
      " 1   Threat title         182 non-null    object\n",
      " 2   Threat Description   182 non-null    object\n",
      " 3   Threat type          82 non-null     object\n",
      " 4   Impact type          82 non-null     object\n",
      " 5   Threat agent         182 non-null    object\n",
      " 6   Vulnerability        182 non-null    object\n",
      " 7   Threatened Asset     182 non-null    object\n",
      " 8   Affected Components  182 non-null    object\n",
      "dtypes: object(9)\n",
      "memory usage: 12.9+ KB\n"
     ]
    }
   ],
   "source": [
    "# Display DataFrame information\n",
    "df_threats.info()"
   ]
  },
  {
   "cell_type": "markdown",
   "id": "1be67c75",
   "metadata": {},
   "source": [
    "There a 182 threats in 9 columns, each threat has a unique ID, a title, a description, a threat type, an impact type, a threat agent, one or more vulnerabilities (safed in a list), a threatened asset and a affected component"
   ]
  },
  {
   "cell_type": "code",
   "execution_count": 27,
   "id": "a797c421",
   "metadata": {},
   "outputs": [
    {
     "data": {
      "text/html": [
       "<div>\n",
       "<style scoped>\n",
       "    .dataframe tbody tr th:only-of-type {\n",
       "        vertical-align: middle;\n",
       "    }\n",
       "\n",
       "    .dataframe tbody tr th {\n",
       "        vertical-align: top;\n",
       "    }\n",
       "\n",
       "    .dataframe thead th {\n",
       "        text-align: right;\n",
       "    }\n",
       "</style>\n",
       "<table border=\"1\" class=\"dataframe\">\n",
       "  <thead>\n",
       "    <tr style=\"text-align: right;\">\n",
       "      <th></th>\n",
       "      <th>Threat ID</th>\n",
       "      <th>Threat title</th>\n",
       "      <th>Threat Description</th>\n",
       "      <th>Threat type</th>\n",
       "      <th>Impact type</th>\n",
       "      <th>Threat agent</th>\n",
       "      <th>Vulnerability</th>\n",
       "      <th>Threatened Asset</th>\n",
       "      <th>Affected Components</th>\n",
       "    </tr>\n",
       "  </thead>\n",
       "  <tbody>\n",
       "    <tr>\n",
       "      <th>count</th>\n",
       "      <td>182</td>\n",
       "      <td>182</td>\n",
       "      <td>182</td>\n",
       "      <td>82</td>\n",
       "      <td>82</td>\n",
       "      <td>182</td>\n",
       "      <td>182</td>\n",
       "      <td>182</td>\n",
       "      <td>182</td>\n",
       "    </tr>\n",
       "    <tr>\n",
       "      <th>unique</th>\n",
       "      <td>182</td>\n",
       "      <td>181</td>\n",
       "      <td>182</td>\n",
       "      <td>16</td>\n",
       "      <td>17</td>\n",
       "      <td>2</td>\n",
       "      <td>116</td>\n",
       "      <td>58</td>\n",
       "      <td>55</td>\n",
       "    </tr>\n",
       "    <tr>\n",
       "      <th>top</th>\n",
       "      <td>T-O-RAN-01</td>\n",
       "      <td>External attacker exploits authentication weakness on SMO</td>\n",
       "      <td>Unauthenticated/unauthorized access to O-RAN components could possibly be achieved via the different O-RAN interfaces, depending upon the design of the hardware-software O-RAN system and how different functions are segregated within the O-RAN system. \\nO-RAN components might be vulnerable if: \\n• Outdated component from the lack of update or patch management,\\n• Poorly design architecture,\\n• Missing appropriate security hardening,\\n• Unnecessary or insecure function/protocol/component.\\nAn attacker could, in such case, either inject malwares and/or manipulate existing software, harm the O-RAN components, create a performance issue by manipulation of parameters, or reconfigure the O-RAN components and disable the security features with the purpose of eavesdropping or wiretapping on various CUS &amp; M planes, reaching northbound systems, attack broader network to cause denial-of-service, steal unprotected private keys, certificates, hash values, or other type of breaches.\\nIn addition, O-RAN components could be software providing network functions, so they are likely to be vulnerable to software flaws: it could be possible to bypass firewall restrictions or to take advantage of a buffer overflow to execute arbitrary commands, etc.</td>\n",
       "      <td>Spoofing</td>\n",
       "      <td>Authenticity</td>\n",
       "      <td>All</td>\n",
       "      <td>[weak mutual authentication]</td>\n",
       "      <td>ASSET-D-12, ASSET-D-13, ASSET-D-14, ASSET-D-15, ASSET-D-16, ASSET-D-17, ASSET-D-18, ASSET-D-19, ASSET-D-20, ASSET-D-29, ASSET-D-31, ASSET-D-32</td>\n",
       "      <td>All</td>\n",
       "    </tr>\n",
       "    <tr>\n",
       "      <th>freq</th>\n",
       "      <td>1</td>\n",
       "      <td>2</td>\n",
       "      <td>1</td>\n",
       "      <td>28</td>\n",
       "      <td>26</td>\n",
       "      <td>178</td>\n",
       "      <td>12</td>\n",
       "      <td>24</td>\n",
       "      <td>19</td>\n",
       "    </tr>\n",
       "  </tbody>\n",
       "</table>\n",
       "</div>"
      ],
      "text/plain": [
       "         Threat ID                                               Threat title  \\\n",
       "count          182                                                        182   \n",
       "unique         182                                                        181   \n",
       "top     T-O-RAN-01  External attacker exploits authentication weakness on SMO   \n",
       "freq             1                                                          2   \n",
       "\n",
       "                                                                                                                                                                                                                                                                                                                                                                                                                                                                                                                                                                                                                                                                                                                                                                                                                                                                                                                                                                                                                                                                                                                                                                                                                                                                                    Threat Description  \\\n",
       "count                                                                                                                                                                                                                                                                                                                                                                                                                                                                                                                                                                                                                                                                                                                                                                                                                                                                                                                                                                                                                                                                                                                                                                                                                                                                                              182   \n",
       "unique                                                                                                                                                                                                                                                                                                                                                                                                                                                                                                                                                                                                                                                                                                                                                                                                                                                                                                                                                                                                                                                                                                                                                                                                                                                                                             182   \n",
       "top     Unauthenticated/unauthorized access to O-RAN components could possibly be achieved via the different O-RAN interfaces, depending upon the design of the hardware-software O-RAN system and how different functions are segregated within the O-RAN system. \\nO-RAN components might be vulnerable if: \\n• Outdated component from the lack of update or patch management,\\n• Poorly design architecture,\\n• Missing appropriate security hardening,\\n• Unnecessary or insecure function/protocol/component.\\nAn attacker could, in such case, either inject malwares and/or manipulate existing software, harm the O-RAN components, create a performance issue by manipulation of parameters, or reconfigure the O-RAN components and disable the security features with the purpose of eavesdropping or wiretapping on various CUS & M planes, reaching northbound systems, attack broader network to cause denial-of-service, steal unprotected private keys, certificates, hash values, or other type of breaches.\\nIn addition, O-RAN components could be software providing network functions, so they are likely to be vulnerable to software flaws: it could be possible to bypass firewall restrictions or to take advantage of a buffer overflow to execute arbitrary commands, etc.   \n",
       "freq                                                                                                                                                                                                                                                                                                                                                                                                                                                                                                                                                                                                                                                                                                                                                                                                                                                                                                                                                                                                                                                                                                                                                                                                                                                                                                 1   \n",
       "\n",
       "       Threat type   Impact type Threat agent                 Vulnerability  \\\n",
       "count           82            82          182                           182   \n",
       "unique          16            17            2                           116   \n",
       "top       Spoofing  Authenticity          All  [weak mutual authentication]   \n",
       "freq            28            26          178                            12   \n",
       "\n",
       "                                                                                                                                      Threatened Asset  \\\n",
       "count                                                                                                                                              182   \n",
       "unique                                                                                                                                              58   \n",
       "top     ASSET-D-12, ASSET-D-13, ASSET-D-14, ASSET-D-15, ASSET-D-16, ASSET-D-17, ASSET-D-18, ASSET-D-19, ASSET-D-20, ASSET-D-29, ASSET-D-31, ASSET-D-32   \n",
       "freq                                                                                                                                                24   \n",
       "\n",
       "       Affected Components  \n",
       "count                  182  \n",
       "unique                  55  \n",
       "top                    All  \n",
       "freq                    19  "
      ]
     },
     "execution_count": 27,
     "metadata": {},
     "output_type": "execute_result"
    }
   ],
   "source": [
    "df_threats.describe()"
   ]
  },
  {
   "cell_type": "code",
   "execution_count": 28,
   "id": "ec02ea7c",
   "metadata": {},
   "outputs": [
    {
     "data": {
      "text/plain": [
       "Threat ID                0\n",
       "Threat title             0\n",
       "Threat Description       0\n",
       "Threat type            100\n",
       "Impact type            100\n",
       "Threat agent             0\n",
       "Vulnerability            0\n",
       "Threatened Asset         0\n",
       "Affected Components      0\n",
       "dtype: int64"
      ]
     },
     "execution_count": 28,
     "metadata": {},
     "output_type": "execute_result"
    }
   ],
   "source": [
    "df_threats.isnull().sum()"
   ]
  },
  {
   "cell_type": "code",
   "execution_count": 29,
   "id": "6bbf2588",
   "metadata": {},
   "outputs": [
    {
     "data": {
      "text/plain": [
       "Index(['Threat ID', 'Threat title', 'Threat Description', 'Threat type',\n",
       "       'Impact type', 'Threat agent', 'Vulnerability', 'Threatened Asset',\n",
       "       'Affected Components'],\n",
       "      dtype='object')"
      ]
     },
     "execution_count": 29,
     "metadata": {},
     "output_type": "execute_result"
    }
   ],
   "source": [
    "df_threats.columns"
   ]
  },
  {
   "cell_type": "code",
   "execution_count": 30,
   "id": "631fabe7",
   "metadata": {},
   "outputs": [
    {
     "data": {
      "text/html": [
       "<div>\n",
       "<style scoped>\n",
       "    .dataframe tbody tr th:only-of-type {\n",
       "        vertical-align: middle;\n",
       "    }\n",
       "\n",
       "    .dataframe tbody tr th {\n",
       "        vertical-align: top;\n",
       "    }\n",
       "\n",
       "    .dataframe thead th {\n",
       "        text-align: right;\n",
       "    }\n",
       "</style>\n",
       "<table border=\"1\" class=\"dataframe\">\n",
       "  <thead>\n",
       "    <tr style=\"text-align: right;\">\n",
       "      <th></th>\n",
       "      <th>Threat type</th>\n",
       "      <th>count</th>\n",
       "    </tr>\n",
       "  </thead>\n",
       "  <tbody>\n",
       "    <tr>\n",
       "      <th>0</th>\n",
       "      <td>Spoofing</td>\n",
       "      <td>28</td>\n",
       "    </tr>\n",
       "    <tr>\n",
       "      <th>1</th>\n",
       "      <td>Denial of Service</td>\n",
       "      <td>11</td>\n",
       "    </tr>\n",
       "    <tr>\n",
       "      <th>2</th>\n",
       "      <td>Elevation of Privilege</td>\n",
       "      <td>10</td>\n",
       "    </tr>\n",
       "    <tr>\n",
       "      <th>3</th>\n",
       "      <td>Information Disclosure</td>\n",
       "      <td>9</td>\n",
       "    </tr>\n",
       "    <tr>\n",
       "      <th>4</th>\n",
       "      <td>Tampering</td>\n",
       "      <td>8</td>\n",
       "    </tr>\n",
       "    <tr>\n",
       "      <th>5</th>\n",
       "      <td>Information disclosure</td>\n",
       "      <td>4</td>\n",
       "    </tr>\n",
       "    <tr>\n",
       "      <th>6</th>\n",
       "      <td>Tampering; Denial of Service</td>\n",
       "      <td>2</td>\n",
       "    </tr>\n",
       "    <tr>\n",
       "      <th>7</th>\n",
       "      <td>Elevation of Privilege, Information Disclosure</td>\n",
       "      <td>2</td>\n",
       "    </tr>\n",
       "    <tr>\n",
       "      <th>8</th>\n",
       "      <td>Elevation of Privilege; Denial of Service</td>\n",
       "      <td>1</td>\n",
       "    </tr>\n",
       "    <tr>\n",
       "      <th>9</th>\n",
       "      <td>Denial of Service, Escalation of Privilege</td>\n",
       "      <td>1</td>\n",
       "    </tr>\n",
       "    <tr>\n",
       "      <th>10</th>\n",
       "      <td>Denial of Service, Information Disclosure</td>\n",
       "      <td>1</td>\n",
       "    </tr>\n",
       "    <tr>\n",
       "      <th>11</th>\n",
       "      <td>Denial of Service; Tampering</td>\n",
       "      <td>1</td>\n",
       "    </tr>\n",
       "    <tr>\n",
       "      <th>12</th>\n",
       "      <td>Information disclosure, Tampering</td>\n",
       "      <td>1</td>\n",
       "    </tr>\n",
       "    <tr>\n",
       "      <th>13</th>\n",
       "      <td>Information Disclosure, Denial of Service</td>\n",
       "      <td>1</td>\n",
       "    </tr>\n",
       "    <tr>\n",
       "      <th>14</th>\n",
       "      <td>Tampering, Information Disclosure, Escalation of Privilege</td>\n",
       "      <td>1</td>\n",
       "    </tr>\n",
       "    <tr>\n",
       "      <th>15</th>\n",
       "      <td>Tampering; Elevation of Privilege; Denial of Service</td>\n",
       "      <td>1</td>\n",
       "    </tr>\n",
       "  </tbody>\n",
       "</table>\n",
       "</div>"
      ],
      "text/plain": [
       "                                                   Threat type  count\n",
       "0                                                     Spoofing     28\n",
       "1                                            Denial of Service     11\n",
       "2                                       Elevation of Privilege     10\n",
       "3                                       Information Disclosure      9\n",
       "4                                                    Tampering      8\n",
       "5                                       Information disclosure      4\n",
       "6                                 Tampering; Denial of Service      2\n",
       "7               Elevation of Privilege, Information Disclosure      2\n",
       "8                    Elevation of Privilege; Denial of Service      1\n",
       "9                   Denial of Service, Escalation of Privilege      1\n",
       "10                   Denial of Service, Information Disclosure      1\n",
       "11                                Denial of Service; Tampering      1\n",
       "12                           Information disclosure, Tampering      1\n",
       "13                   Information Disclosure, Denial of Service      1\n",
       "14  Tampering, Information Disclosure, Escalation of Privilege      1\n",
       "15        Tampering; Elevation of Privilege; Denial of Service      1"
      ]
     },
     "execution_count": 30,
     "metadata": {},
     "output_type": "execute_result"
    }
   ],
   "source": [
    "df_threats.groupby('Threat type').size().reset_index(name='count').sort_values(by='count', ascending=False).reset_index(drop=True)"
   ]
  },
  {
   "cell_type": "code",
   "execution_count": 31,
   "id": "31b6e9b3",
   "metadata": {},
   "outputs": [
    {
     "data": {
      "text/plain": [
       "np.True_"
      ]
     },
     "execution_count": 31,
     "metadata": {},
     "output_type": "execute_result"
    }
   ],
   "source": [
    "(df_threats['Threat type'].isnull() == df_threats['Impact type'].isnull()).all()\n"
   ]
  },
  {
   "cell_type": "code",
   "execution_count": 32,
   "id": "d9c8d7d8",
   "metadata": {},
   "outputs": [
    {
     "data": {
      "text/plain": [
       "Threat type\n",
       "None                                                          52\n",
       "NaN                                                           48\n",
       "Spoofing                                                      28\n",
       "Denial of Service                                             11\n",
       "Elevation of Privilege                                        10\n",
       "Information Disclosure                                         9\n",
       "Tampering                                                      8\n",
       "Information disclosure                                         4\n",
       "Elevation of Privilege, Information Disclosure                 2\n",
       "Tampering; Denial of Service                                   2\n",
       "Information disclosure, Tampering                              1\n",
       "Tampering, Information Disclosure, Escalation of Privilege     1\n",
       "Denial of Service, Escalation of Privilege                     1\n",
       "Denial of Service; Tampering                                   1\n",
       "Elevation of Privilege; Denial of Service                      1\n",
       "Tampering; Elevation of Privilege; Denial of Service           1\n",
       "Denial of Service, Information Disclosure                      1\n",
       "Information Disclosure, Denial of Service                      1\n",
       "Name: count, dtype: int64"
      ]
     },
     "execution_count": 32,
     "metadata": {},
     "output_type": "execute_result"
    }
   ],
   "source": [
    "df_threats['Threat type'].value_counts(dropna=False)"
   ]
  },
  {
   "cell_type": "code",
   "execution_count": 33,
   "id": "2ac5ec87",
   "metadata": {},
   "outputs": [
    {
     "data": {
      "text/plain": [
       "Impact type\n",
       "None                                         52\n",
       "NaN                                          48\n",
       "Authenticity                                 26\n",
       "Confidentiality                              14\n",
       "Availability                                 12\n",
       "Authorization                                 9\n",
       "Integrity                                     7\n",
       "Authentication                                2\n",
       "Integrity; Availability                       2\n",
       "Authorization. Confidentiality                1\n",
       "Integrity, Confidentiality, Authorization     1\n",
       "Availability; Integrity                       1\n",
       "Confidentiality, Integrity                    1\n",
       "Authorization; Availability                   1\n",
       "Integrity; Authorization; Availability        1\n",
       "Integrity, Availability                       1\n",
       "Availability, Confidentiality                 1\n",
       "Confidentiality, Availability                 1\n",
       "Authorization, Availability                   1\n",
       "Name: count, dtype: int64"
      ]
     },
     "execution_count": 33,
     "metadata": {},
     "output_type": "execute_result"
    }
   ],
   "source": [
    "df_threats['Impact type'].value_counts(dropna=False)"
   ]
  },
  {
   "cell_type": "code",
   "execution_count": 34,
   "id": "d64cb17d",
   "metadata": {},
   "outputs": [
    {
     "data": {
      "text/plain": [
       "Vulnerability\n",
       "[weak mutual authentication]                                                                                                                                                                                                                                                     12\n",
       "[Weak authentication can be exploited by a tenant to move laterally across the deployment.]                                                                                                                                                                                       9\n",
       "[Lack of integrity verification]                                                                                                                                                                                                                                                  5\n",
       "[Lack of overload protection and rate-limiting]                                                                                                                                                                                                                                   5\n",
       "[Weak confidentiality protection exploited to view sensitive data]                                                                                                                                                                                                                5\n",
       "                                                                                                                                                                                                                                                                                 ..\n",
       "[Inaccurate inventories of open-source software, Lack of consistent Supply Chain traceability and security, Lack of coding best practices, Modules with known vulnerabilities and untrusted libraries]                                                                            1\n",
       "[Improper physical security protection of data centres, PNFs, operation areas, etc., Improper protection to power outages (power supply), Improper protection against environmental disasters, Improper maintenance and monitoring of hardware parameters, Hardware backdoor]     1\n",
       "[Bugs in open source software caused by mistakes and human error]                                                                                                                                                                                                                 1\n",
       "[Physical access to the open Fronthaul cable network]                                                                                                                                                                                                                             1\n",
       "[Use of pretrained public ML model]                                                                                                                                                                                                                                               1\n",
       "Name: count, Length: 116, dtype: int64"
      ]
     },
     "execution_count": 34,
     "metadata": {},
     "output_type": "execute_result"
    }
   ],
   "source": [
    "df_threats['Vulnerability'].value_counts(dropna=False)"
   ]
  },
  {
   "cell_type": "markdown",
   "id": "027323c9",
   "metadata": {},
   "source": [
    "## Distribution Analysis\n"
   ]
  },
  {
   "cell_type": "code",
   "execution_count": 35,
   "id": "ec629f4c",
   "metadata": {},
   "outputs": [],
   "source": [
    "# some threat types as well as impact types are seperated by a comma, while others are seperated by a semicolon or a point\n",
    "# Replace all semicolons with commas\n",
    "df_threats['Threat type'] = df_threats['Threat type'].str.replace(';', ',', regex=False)\n",
    "df_threats['Threat type'] = df_threats['Threat type'].str.replace('.', ',', regex=False)\n",
    "df_threats['Impact type'] = df_threats['Impact type'].str.replace(';', ',', regex=False)\n",
    "df_threats['Impact type'] = df_threats['Impact type'].str.replace('.', ',', regex=False)\n",
    "# in the Threatened asssets column, some values have a underscore instead of a dash\n",
    "df_threats['Threatened Asset'] = df_threats['Threatened Asset'].str.replace('_', '-', regex=False)"
   ]
  },
  {
   "cell_type": "code",
   "execution_count": 36,
   "id": "e72a3e57",
   "metadata": {},
   "outputs": [],
   "source": [
    "# removing leading and trailing whitespace from the 'Threat type','Impact type','Threatened asset' and 'Affected components' columns\n",
    "df_threats['Threat type'] = df_threats['Threat type'].apply(\n",
    "    lambda x: [t.strip() for t in x.split(',')] if isinstance(x, str) else x\n",
    ")\n",
    "df_threats['Impact type'] = df_threats['Impact type'].apply(\n",
    "    lambda x: [t.strip() for t in x.split(',')] if isinstance(x, str) else x\n",
    ")\n",
    "df_threats['Threatened Asset'] = df_threats['Threatened Asset'].apply(\n",
    "    lambda x: [t.strip() for t in x.split(',')] if isinstance(x, str) else x\n",
    ")\n",
    "df_threats['Affected Components'] = df_threats['Affected Components'].apply(\n",
    "    lambda x: [t.strip() for t in x.split(',')] if isinstance(x, str) else x\n",
    ")\n",
    "# the vulnerability column contains a list with only one string element\n",
    "# this string contains multpile vulnerabilities separated by commas\n",
    "# we convert the list to this one string element and then split the string by commas\n",
    "df_threats['Vulnerability'] = df_threats['Vulnerability'].apply(lambda x: x[0] if isinstance(x, list) else x)\n",
    "df_threats['Vulnerability'] = df_threats['Vulnerability'].apply(\n",
    "    lambda x: [t.strip() for t in x.split(',')] if isinstance(x, str) else x\n",
    ")"
   ]
  },
  {
   "cell_type": "code",
   "execution_count": 37,
   "id": "70860c6b",
   "metadata": {},
   "outputs": [
    {
     "name": "stdout",
     "output_type": "stream",
     "text": [
      "['ASSET D-11',\n",
      " 'ASSET D-20',\n",
      " 'ASSET D-21',\n",
      " 'ASSET-C-02',\n",
      " 'ASSET-C-03',\n",
      " 'ASSET-C-07',\n",
      " 'ASSET-C-08',\n",
      " 'ASSET-C-09',\n",
      " 'ASSET-C-1',\n",
      " 'ASSET-C-10',\n",
      " 'ASSET-C-11',\n",
      " 'ASSET-C-12',\n",
      " 'ASSET-C-14',\n",
      " 'ASSET-C-16',\n",
      " 'ASSET-C-17',\n",
      " 'ASSET-C-18',\n",
      " 'ASSET-C-19',\n",
      " 'ASSET-C-2',\n",
      " 'ASSET-C-20',\n",
      " 'ASSET-C-21',\n",
      " 'ASSET-C-22',\n",
      " 'ASSET-C-23',\n",
      " 'ASSET-C-24',\n",
      " 'ASSET-C-25',\n",
      " 'ASSET-C-26',\n",
      " 'ASSET-C-27',\n",
      " 'ASSET-C-28',\n",
      " 'ASSET-C-3',\n",
      " 'ASSET-C-31',\n",
      " 'ASSET-C-32',\n",
      " 'ASSET-C-33',\n",
      " 'ASSET-C-34',\n",
      " 'ASSET-C-35',\n",
      " 'ASSET-C-36',\n",
      " 'ASSET-C-37',\n",
      " 'ASSET-C-38',\n",
      " 'ASSET-C-39',\n",
      " 'ASSET-C-4',\n",
      " 'ASSET-C-40',\n",
      " 'ASSET-C-42',\n",
      " 'ASSET-C-5',\n",
      " 'ASSET-C-6',\n",
      " 'ASSET-C-7',\n",
      " 'ASSET-C-8',\n",
      " 'ASSET-C-9',\n",
      " 'ASSET-D-01',\n",
      " 'ASSET-D-02',\n",
      " 'ASSET-D-03',\n",
      " 'ASSET-D-04',\n",
      " 'ASSET-D-05',\n",
      " 'ASSET-D-06',\n",
      " 'ASSET-D-07',\n",
      " 'ASSET-D-08',\n",
      " 'ASSET-D-09',\n",
      " 'ASSET-D-1',\n",
      " 'ASSET-D-10',\n",
      " 'ASSET-D-11',\n",
      " 'ASSET-D-12',\n",
      " 'ASSET-D-13',\n",
      " 'ASSET-D-14',\n",
      " 'ASSET-D-15',\n",
      " 'ASSET-D-16',\n",
      " 'ASSET-D-17',\n",
      " 'ASSET-D-18',\n",
      " 'ASSET-D-19',\n",
      " 'ASSET-D-2',\n",
      " 'ASSET-D-20',\n",
      " 'ASSET-D-21',\n",
      " 'ASSET-D-22',\n",
      " 'ASSET-D-23',\n",
      " 'ASSET-D-24',\n",
      " 'ASSET-D-25',\n",
      " 'ASSET-D-26',\n",
      " 'ASSET-D-27',\n",
      " 'ASSET-D-28',\n",
      " 'ASSET-D-29',\n",
      " 'ASSET-D-3',\n",
      " 'ASSET-D-30',\n",
      " 'ASSET-D-31',\n",
      " 'ASSET-D-32',\n",
      " 'ASSET-D-33',\n",
      " 'ASSET-D-34',\n",
      " 'ASSET-D-35',\n",
      " 'ASSET-D-36',\n",
      " 'ASSET-D-37',\n",
      " 'ASSET-D-38',\n",
      " 'ASSET-D-39',\n",
      " 'ASSET-D-4',\n",
      " 'ASSET-D-41',\n",
      " 'ASSET-D-43',\n",
      " 'ASSET-D-5',\n",
      " 'ASSET-D-6',\n",
      " 'ASSET-D-7',\n",
      " 'ASSET-D-8',\n",
      " 'ASSET-D-9']\n"
     ]
    }
   ],
   "source": [
    "# the 'Threatened Asset' column contains values like 'All' or 'ASSET-D-33 to ASSET-D-38', we solve this by manually turning this into the correct list\n",
    "\n",
    "\n",
    "# Example: start from your DataFrame\n",
    "# df_threats = pd.read_json(...)  # or however you're loading it\n",
    "\n",
    "# Step 1: Drop NaNs\n",
    "asset_entries = df_threats['Threatened Asset'].dropna()\n",
    "\n",
    "# Step 2: Function to expand ranges like 'ASSET-D-33 to ASSET-D-38'\n",
    "def expand_range(entry):\n",
    "    match = re.match(r\"(ASSET-[A-Z]-)(\\d+)\\s+to\\s+ASSET-[A-Z]-(\\d+)\", entry.strip())\n",
    "    if match:\n",
    "        prefix, start, end = match.groups()\n",
    "        return [f\"{prefix}{i}\" for i in range(int(start), int(end) + 1)]\n",
    "    return [entry.strip()]\n",
    "\n",
    "# Step 3: Build the set of unique assets\n",
    "all_assets = set()\n",
    "\n",
    "for entry in asset_entries:\n",
    "    # If entry is a list, turn it into a string\n",
    "    if isinstance(entry, list):\n",
    "        entry = ', '.join(entry)\n",
    "    \n",
    "    # Ensure it's a string before splitting\n",
    "    if isinstance(entry, str):\n",
    "        parts = [p.strip() for p in entry.split(',')]\n",
    "        for part in parts:\n",
    "            if part.lower() == 'all':\n",
    "                continue  # or expand to full known asset list if desired\n",
    "            elif 'to' in part:\n",
    "                expanded = expand_range(part)\n",
    "                all_assets.update(expanded)\n",
    "            else:\n",
    "                all_assets.add(part.strip())\n",
    "\n",
    "# Step 4: Show all unique asset names sorted\n",
    "all_assets = sorted(all_assets)\n",
    "pprint(all_assets)\n",
    "\n",
    "\n"
   ]
  },
  {
   "cell_type": "code",
   "execution_count": 38,
   "id": "0be8fa62",
   "metadata": {},
   "outputs": [],
   "source": [
    "def normalize_assets(value):\n",
    "    # Convert list to string if needed\n",
    "    if isinstance(value, list):\n",
    "        value = ', '.join(value)\n",
    "    \n",
    "    if isinstance(value, str):\n",
    "        value = value.strip()\n",
    "        if value.lower() == 'all':\n",
    "            return all_assets\n",
    "        elif 'to' in value:\n",
    "            return expand_range(value)\n",
    "        else:\n",
    "            # handle comma-separated list like 'ASSET-D-15, ASSET-C-17'\n",
    "            return [v.strip() for v in value.split(',')]\n",
    "    \n",
    "    return value  # leave as-is if unexpected\n",
    "\n",
    "df_threats['Threatened Asset'] = df_threats['Threatened Asset'].apply(normalize_assets)\n",
    "\n"
   ]
  },
  {
   "cell_type": "code",
   "execution_count": 39,
   "id": "659cdc4d",
   "metadata": {},
   "outputs": [
    {
     "data": {
      "text/plain": [
       "0     [ASSET D-11, ASSET D-20, ASSET D-21, ASSET-C-02, ASSET-C-03, ASSET-C-07, ASSET-C-08, ASSET-C-09, ASSET-C-1, ASSET-C-10, ASSET-C-11, ASSET-C-12, ASSET-C-14, ASSET-C-16, ASSET-C-17, ASSET-C-18, ASSET-C-19, ASSET-C-2, ASSET-C-20, ASSET-C-21, ASSET-C-22, ASSET-C-23, ASSET-C-24, ASSET-C-25, ASSET-C-26, ASSET-C-27, ASSET-C-28, ASSET-C-3, ASSET-C-31, ASSET-C-32, ASSET-C-33, ASSET-C-34, ASSET-C-35, ASSET-C-36, ASSET-C-37, ASSET-C-38, ASSET-C-39, ASSET-C-4, ASSET-C-40, ASSET-C-42, ASSET-C-5, ASSET-C-6, ASSET-C-7, ASSET-C-8, ASSET-C-9, ASSET-D-01, ASSET-D-02, ASSET-D-03, ASSET-D-04, ASSET-D-05, ASSET-D-06, ASSET-D-07, ASSET-D-08, ASSET-D-09, ASSET-D-1, ASSET-D-10, ASSET-D-11, ASSET-D-12, ASSET-D-13, ASSET-D-14, ASSET-D-15, ASSET-D-16, ASSET-D-17, ASSET-D-18, ASSET-D-19, ASSET-D-2, ASSET-D-20, ASSET-D-21, ASSET-D-22, ASSET-D-23, ASSET-D-24, ASSET-D-25, ASSET-D-26, ASSET-D-27, ASSET-D-28, ASSET-D-29, ASSET-D-3, ASSET-D-30, ASSET-D-31, ASSET-D-32, ASSET-D-33, ASSET-D-34, ASSET-D-35, ASSET-D-36, ASSET-D-37, ASSET-D-38, ASSET-D-39, ASSET-D-4, ASSET-D-41, ASSET-D-43, ASSET-D-5, ASSET-D-6, ASSET-D-7, ASSET-D-8, ASSET-D-9]\n",
       "1     [ASSET D-11, ASSET D-20, ASSET D-21, ASSET-C-02, ASSET-C-03, ASSET-C-07, ASSET-C-08, ASSET-C-09, ASSET-C-1, ASSET-C-10, ASSET-C-11, ASSET-C-12, ASSET-C-14, ASSET-C-16, ASSET-C-17, ASSET-C-18, ASSET-C-19, ASSET-C-2, ASSET-C-20, ASSET-C-21, ASSET-C-22, ASSET-C-23, ASSET-C-24, ASSET-C-25, ASSET-C-26, ASSET-C-27, ASSET-C-28, ASSET-C-3, ASSET-C-31, ASSET-C-32, ASSET-C-33, ASSET-C-34, ASSET-C-35, ASSET-C-36, ASSET-C-37, ASSET-C-38, ASSET-C-39, ASSET-C-4, ASSET-C-40, ASSET-C-42, ASSET-C-5, ASSET-C-6, ASSET-C-7, ASSET-C-8, ASSET-C-9, ASSET-D-01, ASSET-D-02, ASSET-D-03, ASSET-D-04, ASSET-D-05, ASSET-D-06, ASSET-D-07, ASSET-D-08, ASSET-D-09, ASSET-D-1, ASSET-D-10, ASSET-D-11, ASSET-D-12, ASSET-D-13, ASSET-D-14, ASSET-D-15, ASSET-D-16, ASSET-D-17, ASSET-D-18, ASSET-D-19, ASSET-D-2, ASSET-D-20, ASSET-D-21, ASSET-D-22, ASSET-D-23, ASSET-D-24, ASSET-D-25, ASSET-D-26, ASSET-D-27, ASSET-D-28, ASSET-D-29, ASSET-D-3, ASSET-D-30, ASSET-D-31, ASSET-D-32, ASSET-D-33, ASSET-D-34, ASSET-D-35, ASSET-D-36, ASSET-D-37, ASSET-D-38, ASSET-D-39, ASSET-D-4, ASSET-D-41, ASSET-D-43, ASSET-D-5, ASSET-D-6, ASSET-D-7, ASSET-D-8, ASSET-D-9]\n",
       "2     [ASSET D-11, ASSET D-20, ASSET D-21, ASSET-C-02, ASSET-C-03, ASSET-C-07, ASSET-C-08, ASSET-C-09, ASSET-C-1, ASSET-C-10, ASSET-C-11, ASSET-C-12, ASSET-C-14, ASSET-C-16, ASSET-C-17, ASSET-C-18, ASSET-C-19, ASSET-C-2, ASSET-C-20, ASSET-C-21, ASSET-C-22, ASSET-C-23, ASSET-C-24, ASSET-C-25, ASSET-C-26, ASSET-C-27, ASSET-C-28, ASSET-C-3, ASSET-C-31, ASSET-C-32, ASSET-C-33, ASSET-C-34, ASSET-C-35, ASSET-C-36, ASSET-C-37, ASSET-C-38, ASSET-C-39, ASSET-C-4, ASSET-C-40, ASSET-C-42, ASSET-C-5, ASSET-C-6, ASSET-C-7, ASSET-C-8, ASSET-C-9, ASSET-D-01, ASSET-D-02, ASSET-D-03, ASSET-D-04, ASSET-D-05, ASSET-D-06, ASSET-D-07, ASSET-D-08, ASSET-D-09, ASSET-D-1, ASSET-D-10, ASSET-D-11, ASSET-D-12, ASSET-D-13, ASSET-D-14, ASSET-D-15, ASSET-D-16, ASSET-D-17, ASSET-D-18, ASSET-D-19, ASSET-D-2, ASSET-D-20, ASSET-D-21, ASSET-D-22, ASSET-D-23, ASSET-D-24, ASSET-D-25, ASSET-D-26, ASSET-D-27, ASSET-D-28, ASSET-D-29, ASSET-D-3, ASSET-D-30, ASSET-D-31, ASSET-D-32, ASSET-D-33, ASSET-D-34, ASSET-D-35, ASSET-D-36, ASSET-D-37, ASSET-D-38, ASSET-D-39, ASSET-D-4, ASSET-D-41, ASSET-D-43, ASSET-D-5, ASSET-D-6, ASSET-D-7, ASSET-D-8, ASSET-D-9]\n",
       "3                                                                                                                                                                                                                                                                                                                                                                                                                                                                                                                                                                                                                                                                                                                                                                                                                                                                                                                                                                                                                                                                                                                                               [ASSET-D-06, ASSET-D-18]\n",
       "4     [ASSET D-11, ASSET D-20, ASSET D-21, ASSET-C-02, ASSET-C-03, ASSET-C-07, ASSET-C-08, ASSET-C-09, ASSET-C-1, ASSET-C-10, ASSET-C-11, ASSET-C-12, ASSET-C-14, ASSET-C-16, ASSET-C-17, ASSET-C-18, ASSET-C-19, ASSET-C-2, ASSET-C-20, ASSET-C-21, ASSET-C-22, ASSET-C-23, ASSET-C-24, ASSET-C-25, ASSET-C-26, ASSET-C-27, ASSET-C-28, ASSET-C-3, ASSET-C-31, ASSET-C-32, ASSET-C-33, ASSET-C-34, ASSET-C-35, ASSET-C-36, ASSET-C-37, ASSET-C-38, ASSET-C-39, ASSET-C-4, ASSET-C-40, ASSET-C-42, ASSET-C-5, ASSET-C-6, ASSET-C-7, ASSET-C-8, ASSET-C-9, ASSET-D-01, ASSET-D-02, ASSET-D-03, ASSET-D-04, ASSET-D-05, ASSET-D-06, ASSET-D-07, ASSET-D-08, ASSET-D-09, ASSET-D-1, ASSET-D-10, ASSET-D-11, ASSET-D-12, ASSET-D-13, ASSET-D-14, ASSET-D-15, ASSET-D-16, ASSET-D-17, ASSET-D-18, ASSET-D-19, ASSET-D-2, ASSET-D-20, ASSET-D-21, ASSET-D-22, ASSET-D-23, ASSET-D-24, ASSET-D-25, ASSET-D-26, ASSET-D-27, ASSET-D-28, ASSET-D-29, ASSET-D-3, ASSET-D-30, ASSET-D-31, ASSET-D-32, ASSET-D-33, ASSET-D-34, ASSET-D-35, ASSET-D-36, ASSET-D-37, ASSET-D-38, ASSET-D-39, ASSET-D-4, ASSET-D-41, ASSET-D-43, ASSET-D-5, ASSET-D-6, ASSET-D-7, ASSET-D-8, ASSET-D-9]\n",
       "5     [ASSET D-11, ASSET D-20, ASSET D-21, ASSET-C-02, ASSET-C-03, ASSET-C-07, ASSET-C-08, ASSET-C-09, ASSET-C-1, ASSET-C-10, ASSET-C-11, ASSET-C-12, ASSET-C-14, ASSET-C-16, ASSET-C-17, ASSET-C-18, ASSET-C-19, ASSET-C-2, ASSET-C-20, ASSET-C-21, ASSET-C-22, ASSET-C-23, ASSET-C-24, ASSET-C-25, ASSET-C-26, ASSET-C-27, ASSET-C-28, ASSET-C-3, ASSET-C-31, ASSET-C-32, ASSET-C-33, ASSET-C-34, ASSET-C-35, ASSET-C-36, ASSET-C-37, ASSET-C-38, ASSET-C-39, ASSET-C-4, ASSET-C-40, ASSET-C-42, ASSET-C-5, ASSET-C-6, ASSET-C-7, ASSET-C-8, ASSET-C-9, ASSET-D-01, ASSET-D-02, ASSET-D-03, ASSET-D-04, ASSET-D-05, ASSET-D-06, ASSET-D-07, ASSET-D-08, ASSET-D-09, ASSET-D-1, ASSET-D-10, ASSET-D-11, ASSET-D-12, ASSET-D-13, ASSET-D-14, ASSET-D-15, ASSET-D-16, ASSET-D-17, ASSET-D-18, ASSET-D-19, ASSET-D-2, ASSET-D-20, ASSET-D-21, ASSET-D-22, ASSET-D-23, ASSET-D-24, ASSET-D-25, ASSET-D-26, ASSET-D-27, ASSET-D-28, ASSET-D-29, ASSET-D-3, ASSET-D-30, ASSET-D-31, ASSET-D-32, ASSET-D-33, ASSET-D-34, ASSET-D-35, ASSET-D-36, ASSET-D-37, ASSET-D-38, ASSET-D-39, ASSET-D-4, ASSET-D-41, ASSET-D-43, ASSET-D-5, ASSET-D-6, ASSET-D-7, ASSET-D-8, ASSET-D-9]\n",
       "6                                                                                                                                                                                                                                                                                                                                                                                                                                                                                                                                                                                                                                                                                                                                                                                                                                                                                                                                                                                                                                                                                                                                                           [ASSET-D-29]\n",
       "7                                                                                                                                                                                                                                                                                                                                                                                                                                                                                                                                                                                                                                                                                                                                                                                                                    [ASSET-D-1, ASSET-D-2, ASSET-D-3, ASSET-D-4, ASSET-D-5, ASSET-D-6, ASSET-D-7, ASSET-D-8, ASSET-D-9, ASSET-D-10, ASSET-D-11, ASSET-D-12, ASSET-D-13, ASSET-D-14, ASSET-D-15, ASSET-D-16, ASSET-D-17, ASSET-D-18, ASSET-D-19, ASSET-D-20, ASSET-D-21, ASSET-D-22, ASSET-D-23, ASSET-D-24, ASSET-D-25, ASSET-D-26, ASSET-D-27, ASSET-D-28, ASSET-D-29]\n",
       "8                                                                                                                                                                                                                                                                                                                                                                                                                                                                                                                                                                                                                                                                                                                                                                                                                                                                                                                                                                                                                                [ASSET-C-1, ASSET-C-2, ASSET-C-3, ASSET-C-4, ASSET-C-5, ASSET-C-6, ASSET-C-7, ASSET-C-8, ASSET-C-9, ASSET-C-10, ASSET-C-11, ASSET-C-12]\n",
       "9                                                                                                                                                                                                                                                                                                                                                                                                                                                                                                                                                                                                                                                                                                                                                                                                                                                                                                                                                                                                                                                                                                                       [ASSET-D-01, ASSET-D-02, ASSET-D-04, ASSET-D-05]\n",
       "10                                                                                                                                                                                                                                                                                                                                                                                                                                                                                                                                                                                                                                                                                                                                                                                                                                                                                                                                                                                                                                                                                                                      [ASSET-D-01, ASSET-D-02, ASSET-D-04, ASSET-D-05]\n",
       "11                                                                                                                                                                                                                                                                                                                                                                                                                                                                                                                                                                                                                                                                                                                                                                                                                                                                                                                                                                                                                                                                                                                                              [ASSET-D-02, ASSET-D-03]\n",
       "12                                                                                                                                                                                                                                                                                                                                                                                                                                                                                                                                                                                                                                                                                                                                                                                                                                                                                                                                                                                                                                                                                                                                                          [ASSET-D-01]\n",
       "13                                                                                                                                                                                                                                                                                                                                                                                                                                                                                                                                                                                                                                                                                                                                                                                                                                                                                                                                                                                                                                                                                                                                                          [ASSET-D-01]\n",
       "14                                                                                                                                                                                                                                                                                                                                                                                                                                                                                                                                                                                                                                                                                                                                                                                                                                                                                                                                                                                                                                                                                                                                                          [ASSET-D-01]\n",
       "15                                                                                                                                                                                                                                                                                                                                                                                                                                                                                                                                                                                                                                                                                                                                                                                                                                                                                                                                                                                                                                                                                                                                                          [ASSET-D-01]\n",
       "16                                                                                                                                                                                                                                                                                                                                                                                                                                                                                                                                                                                                                                                                                                                                                                                                                                                                                                                                                                                                                                                                                                                                                          [ASSET-D-01]\n",
       "17                                                                                                                                                                                                                                                                                                                                                                                                                                                                                                                                                                                                                                                                                                                                                                                                                                                                                                                                                                                                                                                                                                                                                          [ASSET-D-04]\n",
       "18                                                                                                                                                                                                                                                                                                                                                                                                                                                                                                                                                                                                                                                                                                                                                                                                                                                                                                                                                                                                                                                                                                                                                          [ASSET-D-04]\n",
       "19                                                                                                                                                                                                                                                                                                                                                                                                                                                                                                                                                                                                                                                                                                                                                                                                                                                                                                                                                                                                                                                                                                                                                          [ASSET-D-05]\n",
       "Name: Threatened Asset, dtype: object"
      ]
     },
     "execution_count": 39,
     "metadata": {},
     "output_type": "execute_result"
    }
   ],
   "source": [
    "df_threats['Threatened Asset'].head(20)"
   ]
  },
  {
   "cell_type": "code",
   "execution_count": 40,
   "id": "a5b4f2ce",
   "metadata": {},
   "outputs": [
    {
     "data": {
      "text/plain": [
       "Threat type\n",
       "Spoofing                   28\n",
       "Denial of Service          19\n",
       "Elevation of Privilege     14\n",
       "Information Disclosure     14\n",
       "Tampering                  14\n",
       "Information disclosure      5\n",
       "Escalation of Privilege     2\n",
       "Name: count, dtype: int64"
      ]
     },
     "execution_count": 40,
     "metadata": {},
     "output_type": "execute_result"
    }
   ],
   "source": [
    "df_threats['Threat type'].explode().value_counts()\n",
    "# The most common threat type is Spoofing, which occurs 28 times"
   ]
  },
  {
   "cell_type": "code",
   "execution_count": 41,
   "id": "045de193",
   "metadata": {},
   "outputs": [
    {
     "data": {
      "text/plain": [
       "Vulnerability\n",
       "lack of authentication                                                                       17\n",
       "weak mutual authentication                                                                   12\n",
       "weak authentication can be exploited by a tenant to move laterally across the deployment.     9\n",
       "missing or improperly configured authorization                                                6\n",
       "lack of integrity verification                                                                6\n",
       "                                                                                             ..\n",
       "pnfs                                                                                          1\n",
       "etc.                                                                                          1\n",
       "operation areas                                                                               1\n",
       "physical access to the open fronthaul cable network                                           1\n",
       "use of pretrained public ml model                                                             1\n",
       "Name: count, Length: 139, dtype: int64"
      ]
     },
     "execution_count": 41,
     "metadata": {},
     "output_type": "execute_result"
    }
   ],
   "source": [
    "df_threats['Vulnerability'].explode().str.lower().value_counts()\n",
    "# The most common vulnerability is 'lack of authentication', which occurs 17 times,\n",
    "# followed by 'lack of authentication' with 12 occurences."
   ]
  },
  {
   "cell_type": "code",
   "execution_count": 42,
   "id": "94047f2a",
   "metadata": {},
   "outputs": [
    {
     "data": {
      "text/plain": [
       "Threatened Asset\n",
       "ASSET-D-15    43\n",
       "ASSET-C-17    41\n",
       "ASSET-D-29    40\n",
       "ASSET-D-18    38\n",
       "ASSET-D-14    37\n",
       "ASSET-C-31    35\n",
       "ASSET-D-17    35\n",
       "ASSET-D-16    35\n",
       "ASSET-D-12    34\n",
       "ASSET-D-13    34\n",
       "ASSET-D-19    34\n",
       "ASSET-D-20    34\n",
       "ASSET-D-32    34\n",
       "ASSET-D-31    33\n",
       "ASSET-C-11    33\n",
       "ASSET-C-18    22\n",
       "ASSET-C-10    21\n",
       "ASSET-C-08    19\n",
       "ASSET-C-35    18\n",
       "ASSET-D-01    18\n",
       "ASSET-C-34    17\n",
       "ASSET-C-26    17\n",
       "ASSET-C-19    16\n",
       "ASSET-C-16    16\n",
       "ASSET-C-20    16\n",
       "ASSET-C-21    16\n",
       "ASSET-C-23    16\n",
       "ASSET-C-09    16\n",
       "ASSET-D-04    15\n",
       "ASSET-D-26    15\n",
       "ASSET-D-25    15\n",
       "ASSET-C-37    15\n",
       "ASSET-D-37    15\n",
       "ASSET-D-34    15\n",
       "ASSET-D-33    15\n",
       "ASSET-D-36    15\n",
       "ASSET-D-35    15\n",
       "ASSET-D-38    15\n",
       "ASSET-C-25    14\n",
       "ASSET-C-36    14\n",
       "ASSET-D-21    14\n",
       "ASSET-D-02    14\n",
       "ASSET-D-05    14\n",
       "ASSET-D-27    13\n",
       "ASSET-D-28    13\n",
       "ASSET-D-06    13\n",
       "ASSET-D-10    13\n",
       "ASSET-D-22    13\n",
       "ASSET-C-02    12\n",
       "ASSET-D-43    12\n",
       "Name: count, dtype: int64"
      ]
     },
     "execution_count": 42,
     "metadata": {},
     "output_type": "execute_result"
    }
   ],
   "source": [
    "# Step 3: Explode the list so each asset appears in its own row\n",
    "asset_flat = df_threats.explode('Threatened Asset')\n",
    "\n",
    "# Step 4: Count how often each asset appears\n",
    "asset_counts = asset_flat['Threatened Asset'].value_counts()\n",
    "asset_counts.head(50)"
   ]
  },
  {
   "cell_type": "code",
   "execution_count": 43,
   "id": "bbca85d8",
   "metadata": {},
   "outputs": [
    {
     "data": {
      "text/plain": [
       "Impact type\n",
       "Authenticity       26\n",
       "Availability       21\n",
       "Confidentiality    19\n",
       "Authorization      14\n",
       "Integrity          14\n",
       "Authentication      2\n",
       "Name: count, dtype: int64"
      ]
     },
     "execution_count": 43,
     "metadata": {},
     "output_type": "execute_result"
    }
   ],
   "source": [
    "df_threats['Impact type'].explode().value_counts()"
   ]
  },
  {
   "cell_type": "code",
   "execution_count": 44,
   "id": "d8d4f0d6",
   "metadata": {},
   "outputs": [
    {
     "data": {
      "text/plain": [
       "Threat type\n",
       "Spoofing                   28\n",
       "Denial of Service          19\n",
       "Elevation of Privilege     14\n",
       "Information Disclosure     14\n",
       "Tampering                  14\n",
       "Information disclosure      5\n",
       "Escalation of Privilege     2\n",
       "Name: count, dtype: int64"
      ]
     },
     "execution_count": 44,
     "metadata": {},
     "output_type": "execute_result"
    }
   ],
   "source": [
    "df_threats['Threat type'].explode().value_counts()"
   ]
  },
  {
   "cell_type": "code",
   "execution_count": 45,
   "id": "21e4860d",
   "metadata": {},
   "outputs": [
    {
     "name": "stdout",
     "output_type": "stream",
     "text": [
      "{'All except Script kiddies', 'All'}\n"
     ]
    }
   ],
   "source": [
    "print(set(df_threats['Threat agent']))"
   ]
  },
  {
   "cell_type": "code",
   "execution_count": 46,
   "id": "c2471d40",
   "metadata": {},
   "outputs": [
    {
     "data": {
      "text/plain": [
       "Threat agent\n",
       "All                          178\n",
       "All except Script kiddies      4\n",
       "Name: count, dtype: int64"
      ]
     },
     "execution_count": 46,
     "metadata": {},
     "output_type": "execute_result"
    }
   ],
   "source": [
    "df_threats['Threat agent'].value_counts()"
   ]
  },
  {
   "cell_type": "code",
   "execution_count": 47,
   "id": "c66e47c7",
   "metadata": {},
   "outputs": [
    {
     "data": {
      "text/plain": [
       "Affected Components\n",
       "O-Cloud                  30\n",
       "Non-RT RIC               29\n",
       "Shared O-RU              26\n",
       "Apps/VNFs/CNFs           22\n",
       "All                      19\n",
       "O-DU                     17\n",
       "O-RU                     16\n",
       "rApps                    16\n",
       "Near-RT RIC              16\n",
       "SMO                      14\n",
       "xApps                    12\n",
       "O-DU Tenant              10\n",
       "SMO Framework            10\n",
       "O-DU Host                 9\n",
       "O-CU                      8\n",
       "O2 interface              7\n",
       "External interfaces       7\n",
       "R1 interface              7\n",
       "UE                        7\n",
       "SMO Functions             6\n",
       "ASSET-C-29                6\n",
       "ASSET-C-30                6\n",
       "O-CU Tenant               6\n",
       "CUS-Plane                 5\n",
       "Apps/VNFs/CNFs images     5\n",
       "O-CU Host                 5\n",
       "ASSET-C-08                3\n",
       "A1 interface              3\n",
       "E2 interface              3\n",
       "M-Plane                   3\n",
       "SMO Host                  3\n",
       "SMO Tenant                3\n",
       "xAPPs                     3\n",
       "Y1 interface              2\n",
       "O2                        2\n",
       "O1                        2\n",
       "NFO/FOCOM                 2\n",
       "airlink with UE           1\n",
       "SMO Froamework            1\n",
       "Y1interface               1\n",
       "Name: count, dtype: int64"
      ]
     },
     "execution_count": 47,
     "metadata": {},
     "output_type": "execute_result"
    }
   ],
   "source": [
    "df_threats['Affected Components'].explode().value_counts() "
   ]
  },
  {
   "cell_type": "code",
   "execution_count": 48,
   "id": "f45b5c85",
   "metadata": {},
   "outputs": [
    {
     "data": {
      "text/plain": [
       "Index(['Threat ID', 'Threat title', 'Threat Description', 'Threat type',\n",
       "       'Impact type', 'Threat agent', 'Vulnerability', 'Threatened Asset',\n",
       "       'Affected Components'],\n",
       "      dtype='object')"
      ]
     },
     "execution_count": 48,
     "metadata": {},
     "output_type": "execute_result"
    }
   ],
   "source": [
    "df_threats.columns"
   ]
  },
  {
   "cell_type": "markdown",
   "id": "a9be188a",
   "metadata": {},
   "source": [
    "## Text analysis"
   ]
  },
  {
   "cell_type": "code",
   "execution_count": 49,
   "id": "f6229cff",
   "metadata": {},
   "outputs": [
    {
     "name": "stdout",
     "output_type": "stream",
     "text": [
      "count     182.000000\n",
      "mean      528.818681\n",
      "std       491.740145\n",
      "min        76.000000\n",
      "25%       187.250000\n",
      "50%       319.000000\n",
      "75%       756.250000\n",
      "max      2668.000000\n",
      "Name: Threat Description, dtype: float64\n",
      "The average character length of the threat descriptions is 528.8186813186813\n",
      "The standard deviation of the character length of the threat descriptions is 491.74014505307065\n"
     ]
    }
   ],
   "source": [
    "length_of_threat_descriptions = df_threats['Threat Description'].str.len()\n",
    "print(length_of_threat_descriptions.describe())\n",
    "print(\"The average character length of the threat descriptions is\", length_of_threat_descriptions.mean())\n",
    "# the average length og the threat descriptions is 528.2 characters\n",
    "\n",
    "standard_deviation = length_of_threat_descriptions.std()\n",
    "print(\"The standard deviation of the character length of the threat descriptions is\", standard_deviation)"
   ]
  },
  {
   "cell_type": "code",
   "execution_count": 50,
   "id": "aa3ec36c",
   "metadata": {},
   "outputs": [
    {
     "name": "stdout",
     "output_type": "stream",
     "text": [
      "count    182.00000\n",
      "mean      57.10989\n",
      "std       27.82580\n",
      "min       14.00000\n",
      "25%       34.00000\n",
      "50%       54.00000\n",
      "75%       70.00000\n",
      "max      148.00000\n",
      "Name: Threat title, dtype: float64\n",
      "The average character length of the threat titles is 57.10989010989011\n",
      "The standard deviation of the character length of the threat titles is 27.825800083090165\n"
     ]
    }
   ],
   "source": [
    "length_of_threat_titles = df_threats['Threat title'].str.len()\n",
    "print(length_of_threat_titles.describe())\n",
    "print(\"The average character length of the threat titles is\", length_of_threat_titles.mean())\n",
    "print(\"The standard deviation of the character length of the threat titles is\", length_of_threat_titles.std())"
   ]
  },
  {
   "cell_type": "code",
   "execution_count": 51,
   "id": "70fbafca",
   "metadata": {},
   "outputs": [
    {
     "name": "stdout",
     "output_type": "stream",
     "text": [
      "Threat Description\n",
      "Unauthenticated/unauthorized access to O-RAN components could possibly be achieved via the different O-RAN interfaces, depending upon the design of the hardware-software O-RAN system and how different functions are segregated within the O-RAN system. \\nO-RAN components might be vulnerable if: \\n• Outdated component from the lack of update or patch management,\\n• Poorly design architecture,\\n• Missing appropriate security hardening,\\n• Unnecessary or insecure function/protocol/component.\\nAn attacker could, in such case, either inject malwares and/or manipulate existing software, harm the O-RAN components, create a performance issue by manipulation of parameters, or reconfigure the O-RAN components and disable the security features with the purpose of eavesdropping or wiretapping on various CUS & M planes, reaching northbound systems, attack broader network to cause denial-of-service, steal unprotected private keys, certificates, hash values, or other type of breaches.\\nIn addition, O-RAN components could be software providing network functions, so they are likely to be vulnerable to software flaws: it could be possible to bypass firewall restrictions or to take advantage of a buffer overflow to execute arbitrary commands, etc.    1\n",
      "Unauthenticated/unauthorized access to O-RAN components could possibly be achieved via the different O-RAN interfaces, depending upon the configuration of the hardware-software O-RAN system. \\nO-RAN components might be vulnerable if: \\n• Errors from the lack of configuration change management,\\n• Misconfigured or poorly configured O-RAN components,\\n• Improperly configured permissions,\\n• Unnecessary features are enabled (e.g. unnecessary ports, services, accounts, or privileges),\\n• Default accounts and their passwords still enabled and unchanged,\\n• Security features are disabled or not configured securely.\\nAn attacker could, in such case, either inject malwares and/or manipulate existing software, harm the O-RAN components, create a performance issue by manipulation of parameters, or reconfigure the O-RAN components and disable the security features with the purpose of eavesdropping or wiretapping on various CUS & M planes, reaching northbound systems, attack broader network to cause denial-of-service, steal unprotected private keys, certificates, hash values, or other type of breaches.                                                                                                                                               1\n",
      "Name: count, dtype: int64\n",
      "Threat title\n",
      "External attacker exploits authentication weakness on SMO                   2\n",
      "An attacker exploits misconfigured or poorly configured O-RAN components    1\n",
      "Name: count, dtype: int64\n"
     ]
    }
   ],
   "source": [
    "\n",
    "print(df_threats['Threat Description'].value_counts().head(2))\n",
    "print(df_threats['Threat title'].value_counts().head(2))"
   ]
  },
  {
   "cell_type": "code",
   "execution_count": 52,
   "id": "e32f93bc",
   "metadata": {},
   "outputs": [
    {
     "data": {
      "text/html": [
       "<div>\n",
       "<style scoped>\n",
       "    .dataframe tbody tr th:only-of-type {\n",
       "        vertical-align: middle;\n",
       "    }\n",
       "\n",
       "    .dataframe tbody tr th {\n",
       "        vertical-align: top;\n",
       "    }\n",
       "\n",
       "    .dataframe thead th {\n",
       "        text-align: right;\n",
       "    }\n",
       "</style>\n",
       "<table border=\"1\" class=\"dataframe\">\n",
       "  <thead>\n",
       "    <tr style=\"text-align: right;\">\n",
       "      <th></th>\n",
       "      <th>Threat ID</th>\n",
       "      <th>Threat title</th>\n",
       "      <th>Threat Description</th>\n",
       "      <th>Threat type</th>\n",
       "      <th>Impact type</th>\n",
       "      <th>Threat agent</th>\n",
       "      <th>Vulnerability</th>\n",
       "      <th>Threatened Asset</th>\n",
       "      <th>Affected Components</th>\n",
       "    </tr>\n",
       "  </thead>\n",
       "  <tbody>\n",
       "    <tr>\n",
       "      <th>42</th>\n",
       "      <td>T-SMO-01</td>\n",
       "      <td>External attacker exploits authentication weakness on SMO</td>\n",
       "      <td>An external attacker can exploit the improper/missing authentication weakness on SMO functions. If the authentication of O-RAN subjects on A1, O1, O2, and External interfaces on SMO is not supported or not properly implemented, those interfaces without proper credentials could be exploited to gain access to the SMO.</td>\n",
       "      <td>[Spoofing]</td>\n",
       "      <td>[Authenticity]</td>\n",
       "      <td>All</td>\n",
       "      <td>[Missing or improperly configured authentication]</td>\n",
       "      <td>[ASSET-C-11, ASSET-C-17]</td>\n",
       "      <td>[Non-RT RIC, SMO Framework]</td>\n",
       "    </tr>\n",
       "    <tr>\n",
       "      <th>43</th>\n",
       "      <td>T-SMO-02</td>\n",
       "      <td>External attacker exploits authentication weakness on SMO</td>\n",
       "      <td>An external attacker can exploit the improper/missing authorization weakness on SMO functions.  A malicious external entity on A1, O1, O2, and External interfaces without authorization or with an incorrect access token may invoke the SMO functions. The data at rest related to that function will be leaked to the attacker. In addition, an attacker can be able to perform certain actions, e.g.  disclose O-RAN sensitive information or alter O-RAN components.</td>\n",
       "      <td>[Elevation of Privilege, Information Disclosure]</td>\n",
       "      <td>[Authorization, Confidentiality]</td>\n",
       "      <td>All</td>\n",
       "      <td>[Missing or improperly configured authorization]</td>\n",
       "      <td>[ASSET-C-11, ASSET-C-17]</td>\n",
       "      <td>[Non-RT RIC, SMO Framework]</td>\n",
       "    </tr>\n",
       "  </tbody>\n",
       "</table>\n",
       "</div>"
      ],
      "text/plain": [
       "   Threat ID                                               Threat title  \\\n",
       "42  T-SMO-01  External attacker exploits authentication weakness on SMO   \n",
       "43  T-SMO-02  External attacker exploits authentication weakness on SMO   \n",
       "\n",
       "                                                                                                                                                                                                                                                                                                                                                                                                                                                           Threat Description  \\\n",
       "42                                                                                                                                              An external attacker can exploit the improper/missing authentication weakness on SMO functions. If the authentication of O-RAN subjects on A1, O1, O2, and External interfaces on SMO is not supported or not properly implemented, those interfaces without proper credentials could be exploited to gain access to the SMO.   \n",
       "43  An external attacker can exploit the improper/missing authorization weakness on SMO functions.  A malicious external entity on A1, O1, O2, and External interfaces without authorization or with an incorrect access token may invoke the SMO functions. The data at rest related to that function will be leaked to the attacker. In addition, an attacker can be able to perform certain actions, e.g.  disclose O-RAN sensitive information or alter O-RAN components.   \n",
       "\n",
       "                                         Threat type  \\\n",
       "42                                        [Spoofing]   \n",
       "43  [Elevation of Privilege, Information Disclosure]   \n",
       "\n",
       "                         Impact type Threat agent  \\\n",
       "42                    [Authenticity]          All   \n",
       "43  [Authorization, Confidentiality]          All   \n",
       "\n",
       "                                        Vulnerability  \\\n",
       "42  [Missing or improperly configured authentication]   \n",
       "43   [Missing or improperly configured authorization]   \n",
       "\n",
       "            Threatened Asset          Affected Components  \n",
       "42  [ASSET-C-11, ASSET-C-17]  [Non-RT RIC, SMO Framework]  \n",
       "43  [ASSET-C-11, ASSET-C-17]  [Non-RT RIC, SMO Framework]  "
      ]
     },
     "execution_count": 52,
     "metadata": {},
     "output_type": "execute_result"
    }
   ],
   "source": [
    "df_threats[df_threats['Threat title'] == 'External attacker exploits authentication weakness on SMO']\n"
   ]
  },
  {
   "cell_type": "code",
   "execution_count": 63,
   "id": "6bdde40a",
   "metadata": {},
   "outputs": [],
   "source": [
    "threat_data_after_data_understanding = df_threats.copy()"
   ]
  },
  {
   "cell_type": "code",
   "execution_count": 64,
   "id": "80d79048",
   "metadata": {},
   "outputs": [],
   "source": [
    "threat_data_after_data_understanding.to_pickle('threat_data/threats_after_data_understanding.pk1')"
   ]
  },
  {
   "cell_type": "markdown",
   "id": "8a145a5f",
   "metadata": {},
   "source": [
    "## Data understanding of CAPEC data"
   ]
  },
  {
   "cell_type": "code",
   "execution_count": 53,
   "id": "abaf4734",
   "metadata": {},
   "outputs": [],
   "source": [
    "from git import Repo, InvalidGitRepositoryError\n",
    "import os\n",
    "import shutil\n",
    "\n",
    "from stix2 import FileSystemSource\n",
    "from stix2 import Filter"
   ]
  },
  {
   "cell_type": "code",
   "execution_count": 54,
   "id": "f738c8ef",
   "metadata": {},
   "outputs": [],
   "source": [
    "def pull_clone_gitrepo(directory, repo):\n",
    "    # Check if the data direcory exists\n",
    "    if not os.path.isdir(directory):\n",
    "        Repo.clone_from(repo, directory)\n",
    "    else:\n",
    "        try:\n",
    "            # Check if the data directory is actually a repositry then pull the canges\n",
    "            repo = Repo(directory)\n",
    "            repo.remotes.origin.pull()\n",
    "        except InvalidGitRepositoryError:\n",
    "            # If not then remove the folder\n",
    "            shutil.rmtree(directory)\n",
    "            Repo.clone_from(repo, directory)\n",
    "\n",
    "def prepare_capecs_df():\n",
    "    pull_clone_gitrepo('./data', 'https://github.com/mitre/cti')\n",
    "    fs = FileSystemSource('./data/capec/2.1')\n",
    "    filt = Filter('type', '=', 'attack-pattern')\n",
    "\n",
    "    attack_patterns = fs.query([filt])\n",
    "\n",
    "    data_array = []\n",
    "    for pattern in attack_patterns:\n",
    "        if not pattern.x_capec_status == \"Deprecated\":\n",
    "            info = []\n",
    "            result = [obj for obj in pattern.external_references if obj['source_name'] == \"capec\"]\n",
    "            info.append(result[0].external_id)\n",
    "            info.append(pattern.name)\n",
    "            info.append(pattern.description)\n",
    "            if \"x_capec_domains\" in pattern:\n",
    "                info.append(pattern.x_capec_domains)\n",
    "            else:\n",
    "                info.append(\"not given\")\n",
    "            data_array.append(info)\n",
    "\n",
    "    columns = ['CAPEC ID', 'capec_name', 'capec_description', 'capec_domain']\n",
    "    df = pd.DataFrame(data_array, columns=columns)\n",
    "\n",
    "    df['summary'] = ''\n",
    "    for index, row in df.iterrows():\n",
    "        if len(row['capec_domain']) > 1:\n",
    "            domains_string = \". The Domains of this are: \"+', '.join(row['capec_domain'])\n",
    "        else:\n",
    "            domains_string = \". The Domain of this is: \"+row['capec_domain'][0]\n",
    "\n",
    "        summary = 'A CAPEC with the title '+row['capec_name']+\\\n",
    "                    '. The description of this CAPEC is: '+row['capec_description']+\\\n",
    "                    domains_string\n",
    "        \n",
    "        df.at[index, 'summary'] = summary\n",
    "    return df\n"
   ]
  },
  {
   "cell_type": "code",
   "execution_count": 55,
   "id": "4ef09d5b",
   "metadata": {},
   "outputs": [],
   "source": [
    "#generate the capecs_df\n",
    "#capecs_df = prepare_capecs_df()\n",
    "##safe capecs data to pickle\n",
    "#capecs_df.to_pickle('capec_data/capecs.pk1')"
   ]
  },
  {
   "cell_type": "code",
   "execution_count": 56,
   "id": "fdbc6980",
   "metadata": {},
   "outputs": [],
   "source": [
    "#load capecs data from pickle\n",
    "capecs_df = pd.read_pickle('capec_data/capecs.pk1')"
   ]
  },
  {
   "cell_type": "code",
   "execution_count": 57,
   "id": "44d8cf81",
   "metadata": {},
   "outputs": [
    {
     "name": "stdout",
     "output_type": "stream",
     "text": [
      "Shape of capecs_df: (559, 5)\n",
      "\n",
      "Column names: ['CAPEC ID', 'capec_name', 'capec_description', 'capec_domain', 'summary']\n",
      "\n",
      "Missing values per column:\n",
      " CAPEC ID             0\n",
      "capec_name           0\n",
      "capec_description    0\n",
      "capec_domain         0\n",
      "summary              0\n",
      "dtype: int64\n",
      "\n",
      "Data types:\n",
      " CAPEC ID             object\n",
      "capec_name           object\n",
      "capec_description    object\n",
      "capec_domain         object\n",
      "summary              object\n",
      "dtype: object\n",
      "\n",
      "First 5 rows:\n"
     ]
    },
    {
     "data": {
      "text/html": [
       "<div>\n",
       "<style scoped>\n",
       "    .dataframe tbody tr th:only-of-type {\n",
       "        vertical-align: middle;\n",
       "    }\n",
       "\n",
       "    .dataframe tbody tr th {\n",
       "        vertical-align: top;\n",
       "    }\n",
       "\n",
       "    .dataframe thead th {\n",
       "        text-align: right;\n",
       "    }\n",
       "</style>\n",
       "<table border=\"1\" class=\"dataframe\">\n",
       "  <thead>\n",
       "    <tr style=\"text-align: right;\">\n",
       "      <th></th>\n",
       "      <th>CAPEC ID</th>\n",
       "      <th>capec_name</th>\n",
       "      <th>capec_description</th>\n",
       "      <th>capec_domain</th>\n",
       "      <th>summary</th>\n",
       "    </tr>\n",
       "  </thead>\n",
       "  <tbody>\n",
       "    <tr>\n",
       "      <th>0</th>\n",
       "      <td>CAPEC-87</td>\n",
       "      <td>Forceful Browsing</td>\n",
       "      <td>An attacker employs forceful browsing (direct URL entry) to access portions of a website that are otherwise unreachable. Usually, a front controller or similar design pattern is employed to protect access to portions of a web application. Forceful browsing enables an attacker to access information, perform privileged operations and otherwise reach sections of the web application that have been improperly protected.</td>\n",
       "      <td>[Software]</td>\n",
       "      <td>A CAPEC with the title Forceful Browsing. The description of this CAPEC is: An attacker employs forceful browsing (direct URL entry) to access portions of a website that are otherwise unreachable. Usually, a front controller or similar design pattern is employed to protect access to portions of a web application. Forceful browsing enables an attacker to access information, perform privileged operations and otherwise reach sections of the web application that have been improperly protected.. The Domain of this is: Software</td>\n",
       "    </tr>\n",
       "    <tr>\n",
       "      <th>1</th>\n",
       "      <td>CAPEC-391</td>\n",
       "      <td>Bypassing Physical Locks</td>\n",
       "      <td>An attacker uses techniques and methods to bypass physical security measures of a building or facility. Physical locks may range from traditional lock and key mechanisms, cable locks used to secure laptops or servers, locks on server cases, or other such devices. Techniques such as lock bumping, lock forcing via snap guns, or lock picking can be employed to bypass those locks and gain access to the facilities or devices they protect, although stealth, evidence of tampering, and the integrity of the lock following an attack, are considerations that may determine the method employed. Physical locks are limited by the complexity of the locking mechanism. While some locks may offer protections such as shock resistant foam to prevent bumping or lock forcing methods, many commonly employed locks offer no such countermeasures.</td>\n",
       "      <td>[Physical Security]</td>\n",
       "      <td>A CAPEC with the title Bypassing Physical Locks. The description of this CAPEC is: An attacker uses techniques and methods to bypass physical security measures of a building or facility. Physical locks may range from traditional lock and key mechanisms, cable locks used to secure laptops or servers, locks on server cases, or other such devices. Techniques such as lock bumping, lock forcing via snap guns, or lock picking can be employed to bypass those locks and gain access to the facilities or devices they protect, although stealth, evidence of tampering, and the integrity of the lock following an attack, are considerations that may determine the method employed. Physical locks are limited by the complexity of the locking mechanism. While some locks may offer protections such as shock resistant foam to prevent bumping or lock forcing methods, many commonly employed locks offer no such countermeasures.. The Domain of this is: Physical Security</td>\n",
       "    </tr>\n",
       "    <tr>\n",
       "      <th>2</th>\n",
       "      <td>CAPEC-4</td>\n",
       "      <td>Using Alternative IP Address Encodings</td>\n",
       "      <td>This attack relies on the adversary using unexpected formats for representing IP addresses. Networked applications may expect network location information in a specific format, such as fully qualified domains names (FQDNs), URL, IP address, or IP Address ranges. If the location information is not validated against a variety of different possible encodings and formats, the adversary can use an alternate format to bypass application access control.</td>\n",
       "      <td>[Software]</td>\n",
       "      <td>A CAPEC with the title Using Alternative IP Address Encodings. The description of this CAPEC is: This attack relies on the adversary using unexpected formats for representing IP addresses. Networked applications may expect network location information in a specific format, such as fully qualified domains names (FQDNs), URL, IP address, or IP Address ranges. If the location information is not validated against a variety of different possible encodings and formats, the adversary can use an alternate format to bypass application access control.. The Domain of this is: Software</td>\n",
       "    </tr>\n",
       "    <tr>\n",
       "      <th>3</th>\n",
       "      <td>CAPEC-185</td>\n",
       "      <td>Malicious Software Download</td>\n",
       "      <td>An attacker uses deceptive methods to cause a user or an automated process to download and install dangerous code that originates from an attacker controlled source. There are several variations to this strategy of attack.</td>\n",
       "      <td>[Software]</td>\n",
       "      <td>A CAPEC with the title Malicious Software Download. The description of this CAPEC is: An attacker uses deceptive methods to cause a user or an automated process to download and install dangerous code that originates from an attacker controlled source. There are several variations to this strategy of attack.. The Domain of this is: Software</td>\n",
       "    </tr>\n",
       "    <tr>\n",
       "      <th>4</th>\n",
       "      <td>CAPEC-226</td>\n",
       "      <td>Session Credential Falsification through Manipulation</td>\n",
       "      <td>An attacker manipulates an existing credential in order to gain access to a target application. Session credentials allow users to identify themselves to a service after an initial authentication without needing to resend the authentication information (usually a username and password) with every message. An attacker may be able to manipulate a credential sniffed from an existing connection in order to gain access to a target server.</td>\n",
       "      <td>[Software]</td>\n",
       "      <td>A CAPEC with the title Session Credential Falsification through Manipulation. The description of this CAPEC is: An attacker manipulates an existing credential in order to gain access to a target application. Session credentials allow users to identify themselves to a service after an initial authentication without needing to resend the authentication information (usually a username and password) with every message. An attacker may be able to manipulate a credential sniffed from an existing connection in order to gain access to a target server.. The Domain of this is: Software</td>\n",
       "    </tr>\n",
       "  </tbody>\n",
       "</table>\n",
       "</div>"
      ],
      "text/plain": [
       "    CAPEC ID                                             capec_name  \\\n",
       "0   CAPEC-87                                      Forceful Browsing   \n",
       "1  CAPEC-391                               Bypassing Physical Locks   \n",
       "2    CAPEC-4                 Using Alternative IP Address Encodings   \n",
       "3  CAPEC-185                            Malicious Software Download   \n",
       "4  CAPEC-226  Session Credential Falsification through Manipulation   \n",
       "\n",
       "                                                                                                                                                                                                                                                                                                                                                                                                                                                                                                                                                                                                                                                                                                                                                                                                                                                 capec_description  \\\n",
       "0                                                                                                                                                                                                                                                                                                                                                                                                                               An attacker employs forceful browsing (direct URL entry) to access portions of a website that are otherwise unreachable. Usually, a front controller or similar design pattern is employed to protect access to portions of a web application. Forceful browsing enables an attacker to access information, perform privileged operations and otherwise reach sections of the web application that have been improperly protected.   \n",
       "1  An attacker uses techniques and methods to bypass physical security measures of a building or facility. Physical locks may range from traditional lock and key mechanisms, cable locks used to secure laptops or servers, locks on server cases, or other such devices. Techniques such as lock bumping, lock forcing via snap guns, or lock picking can be employed to bypass those locks and gain access to the facilities or devices they protect, although stealth, evidence of tampering, and the integrity of the lock following an attack, are considerations that may determine the method employed. Physical locks are limited by the complexity of the locking mechanism. While some locks may offer protections such as shock resistant foam to prevent bumping or lock forcing methods, many commonly employed locks offer no such countermeasures.   \n",
       "2                                                                                                                                                                                                                                                                                                                                                                                               This attack relies on the adversary using unexpected formats for representing IP addresses. Networked applications may expect network location information in a specific format, such as fully qualified domains names (FQDNs), URL, IP address, or IP Address ranges. If the location information is not validated against a variety of different possible encodings and formats, the adversary can use an alternate format to bypass application access control.   \n",
       "3                                                                                                                                                                                                                                                                                                                                                                                                                                                                                                                                                                                                                                   An attacker uses deceptive methods to cause a user or an automated process to download and install dangerous code that originates from an attacker controlled source. There are several variations to this strategy of attack.   \n",
       "4                                                                                                                                                                                                                                                                                                                                                                                                            An attacker manipulates an existing credential in order to gain access to a target application. Session credentials allow users to identify themselves to a service after an initial authentication without needing to resend the authentication information (usually a username and password) with every message. An attacker may be able to manipulate a credential sniffed from an existing connection in order to gain access to a target server.   \n",
       "\n",
       "          capec_domain  \\\n",
       "0           [Software]   \n",
       "1  [Physical Security]   \n",
       "2           [Software]   \n",
       "3           [Software]   \n",
       "4           [Software]   \n",
       "\n",
       "                                                                                                                                                                                                                                                                                                                                                                                                                                                                                                                                                                                                                                                                                                                                                                                                                                                                                                                                                                                        summary  \n",
       "0                                                                                                                                                                                                                                                                                                                                                                                                                                               A CAPEC with the title Forceful Browsing. The description of this CAPEC is: An attacker employs forceful browsing (direct URL entry) to access portions of a website that are otherwise unreachable. Usually, a front controller or similar design pattern is employed to protect access to portions of a web application. Forceful browsing enables an attacker to access information, perform privileged operations and otherwise reach sections of the web application that have been improperly protected.. The Domain of this is: Software  \n",
       "1  A CAPEC with the title Bypassing Physical Locks. The description of this CAPEC is: An attacker uses techniques and methods to bypass physical security measures of a building or facility. Physical locks may range from traditional lock and key mechanisms, cable locks used to secure laptops or servers, locks on server cases, or other such devices. Techniques such as lock bumping, lock forcing via snap guns, or lock picking can be employed to bypass those locks and gain access to the facilities or devices they protect, although stealth, evidence of tampering, and the integrity of the lock following an attack, are considerations that may determine the method employed. Physical locks are limited by the complexity of the locking mechanism. While some locks may offer protections such as shock resistant foam to prevent bumping or lock forcing methods, many commonly employed locks offer no such countermeasures.. The Domain of this is: Physical Security  \n",
       "2                                                                                                                                                                                                                                                                                                                                                                                          A CAPEC with the title Using Alternative IP Address Encodings. The description of this CAPEC is: This attack relies on the adversary using unexpected formats for representing IP addresses. Networked applications may expect network location information in a specific format, such as fully qualified domains names (FQDNs), URL, IP address, or IP Address ranges. If the location information is not validated against a variety of different possible encodings and formats, the adversary can use an alternate format to bypass application access control.. The Domain of this is: Software  \n",
       "3                                                                                                                                                                                                                                                                                                                                                                                                                                                                                                                                                                                                                                         A CAPEC with the title Malicious Software Download. The description of this CAPEC is: An attacker uses deceptive methods to cause a user or an automated process to download and install dangerous code that originates from an attacker controlled source. There are several variations to this strategy of attack.. The Domain of this is: Software  \n",
       "4                                                                                                                                                                                                                                                                                                                                                                                        A CAPEC with the title Session Credential Falsification through Manipulation. The description of this CAPEC is: An attacker manipulates an existing credential in order to gain access to a target application. Session credentials allow users to identify themselves to a service after an initial authentication without needing to resend the authentication information (usually a username and password) with every message. An attacker may be able to manipulate a credential sniffed from an existing connection in order to gain access to a target server.. The Domain of this is: Software  "
      ]
     },
     "metadata": {},
     "output_type": "display_data"
    },
    {
     "name": "stdout",
     "output_type": "stream",
     "text": [
      "\n",
      "Summary statistics for text length in 'capec_description':\n",
      "count     559.000000\n",
      "mean      474.048301\n",
      "std       224.179346\n",
      "min         0.000000\n",
      "25%       301.500000\n",
      "50%       427.000000\n",
      "75%       624.000000\n",
      "max      1069.000000\n",
      "Name: capec_description, dtype: float64\n"
     ]
    }
   ],
   "source": [
    "# Display general information about capecs_df\n",
    "print(\"Shape of capecs_df:\", capecs_df.shape)\n",
    "print(\"\\nColumn names:\", capecs_df.columns.tolist())\n",
    "print(\"\\nMissing values per column:\\n\", capecs_df.isnull().sum())\n",
    "print(\"\\nData types:\\n\", capecs_df.dtypes)\n",
    "print(\"\\nFirst 5 rows:\")\n",
    "display(capecs_df.head())\n",
    "print(\"\\nSummary statistics for text length in 'capec_description':\")\n",
    "desc_lengths = capecs_df['capec_description'].dropna().str.len()\n",
    "print(desc_lengths.describe())"
   ]
  },
  {
   "cell_type": "code",
   "execution_count": 58,
   "id": "24c2fc97",
   "metadata": {},
   "outputs": [
    {
     "data": {
      "text/html": [
       "<div>\n",
       "<style scoped>\n",
       "    .dataframe tbody tr th:only-of-type {\n",
       "        vertical-align: middle;\n",
       "    }\n",
       "\n",
       "    .dataframe tbody tr th {\n",
       "        vertical-align: top;\n",
       "    }\n",
       "\n",
       "    .dataframe thead th {\n",
       "        text-align: right;\n",
       "    }\n",
       "</style>\n",
       "<table border=\"1\" class=\"dataframe\">\n",
       "  <thead>\n",
       "    <tr style=\"text-align: right;\">\n",
       "      <th></th>\n",
       "      <th>CAPEC ID</th>\n",
       "      <th>capec_name</th>\n",
       "      <th>capec_description</th>\n",
       "      <th>capec_domain</th>\n",
       "      <th>summary</th>\n",
       "    </tr>\n",
       "  </thead>\n",
       "  <tbody>\n",
       "  </tbody>\n",
       "</table>\n",
       "</div>"
      ],
      "text/plain": [
       "Empty DataFrame\n",
       "Columns: [CAPEC ID, capec_name, capec_description, capec_domain, summary]\n",
       "Index: []"
      ]
     },
     "execution_count": 58,
     "metadata": {},
     "output_type": "execute_result"
    }
   ],
   "source": [
    "# show rows with missing values in 'capec_description'\n",
    "capecs_df[capecs_df['capec_description'].isnull()]"
   ]
  },
  {
   "cell_type": "code",
   "execution_count": 59,
   "id": "00bdd8c0",
   "metadata": {},
   "outputs": [
    {
     "data": {
      "text/html": [
       "<div>\n",
       "<style scoped>\n",
       "    .dataframe tbody tr th:only-of-type {\n",
       "        vertical-align: middle;\n",
       "    }\n",
       "\n",
       "    .dataframe tbody tr th {\n",
       "        vertical-align: top;\n",
       "    }\n",
       "\n",
       "    .dataframe thead th {\n",
       "        text-align: right;\n",
       "    }\n",
       "</style>\n",
       "<table border=\"1\" class=\"dataframe\">\n",
       "  <thead>\n",
       "    <tr style=\"text-align: right;\">\n",
       "      <th></th>\n",
       "      <th>CAPEC ID</th>\n",
       "      <th>capec_name</th>\n",
       "      <th>capec_description</th>\n",
       "      <th>capec_domain</th>\n",
       "      <th>summary</th>\n",
       "    </tr>\n",
       "  </thead>\n",
       "  <tbody>\n",
       "    <tr>\n",
       "      <th>81</th>\n",
       "      <td>CAPEC-699</td>\n",
       "      <td>Eavesdropping on a Monitor</td>\n",
       "      <td>An Adversary can eavesdrop on the content of an external monitor through the air without modifying any cable or installing software, just capturing this signal emitted by the cable or video port, with this the attacker will be able to impact the confidentiality of the data without being detected by traditional security tools</td>\n",
       "      <td>not given</td>\n",
       "      <td>A CAPEC with the title Eavesdropping on a Monitor. The description of this CAPEC is: An Adversary can eavesdrop on the content of an external monitor through the air without modifying any cable or installing software, just capturing this signal emitted by the cable or video port, with this the attacker will be able to impact the confidentiality of the data without being detected by traditional security tools. The Domains of this are: n, o, t,  , g, i, v, e, n</td>\n",
       "    </tr>\n",
       "  </tbody>\n",
       "</table>\n",
       "</div>"
      ],
      "text/plain": [
       "     CAPEC ID                  capec_name  \\\n",
       "81  CAPEC-699  Eavesdropping on a Monitor   \n",
       "\n",
       "                                                                                                                                                                                                                                                                                                                         capec_description  \\\n",
       "81  An Adversary can eavesdrop on the content of an external monitor through the air without modifying any cable or installing software, just capturing this signal emitted by the cable or video port, with this the attacker will be able to impact the confidentiality of the data without being detected by traditional security tools   \n",
       "\n",
       "   capec_domain  \\\n",
       "81    not given   \n",
       "\n",
       "                                                                                                                                                                                                                                                                                                                                                                                                                                                                            summary  \n",
       "81  A CAPEC with the title Eavesdropping on a Monitor. The description of this CAPEC is: An Adversary can eavesdrop on the content of an external monitor through the air without modifying any cable or installing software, just capturing this signal emitted by the cable or video port, with this the attacker will be able to impact the confidentiality of the data without being detected by traditional security tools. The Domains of this are: n, o, t,  , g, i, v, e, n  "
      ]
     },
     "execution_count": 59,
     "metadata": {},
     "output_type": "execute_result"
    }
   ],
   "source": [
    "capecs_df[capecs_df['capec_domain'] == 'not given']"
   ]
  },
  {
   "cell_type": "code",
   "execution_count": 60,
   "id": "72f1a59b",
   "metadata": {},
   "outputs": [
    {
     "data": {
      "text/plain": [
       "capec_domain\n",
       "[Software]                                                                     287\n",
       "[Communications, Software]                                                      67\n",
       "[Social Engineering]                                                            30\n",
       "[Software, Hardware]                                                            28\n",
       "[Physical Security]                                                             15\n",
       "[Communications]                                                                13\n",
       "[Software, Physical Security, Hardware]                                          9\n",
       "[Software, Software, Software]                                                   9\n",
       "[Supply Chain, Hardware]                                                         9\n",
       "[Social Engineering, Supply Chain, Software]                                     8\n",
       "[Supply Chain, Physical Security, Hardware]                                      8\n",
       "[Supply Chain, Software]                                                         8\n",
       "[Supply Chain]                                                                   7\n",
       "[Social Engineering, Software]                                                   7\n",
       "[Supply Chain, Software, Hardware]                                               7\n",
       "[Communications, Hardware]                                                       6\n",
       "[Software, Software]                                                             6\n",
       "[Communications, Software, Hardware]                                             4\n",
       "[Social Engineering, Social Engineering]                                         4\n",
       "[Software, Hardware, Software]                                                   3\n",
       "[Social Engineering, Supply Chain, Communications, Software, Hardware]           3\n",
       "[Hardware, Hardware]                                                             3\n",
       "[Communications, Software, Physical Security]                                    2\n",
       "[Social Engineering, Communications, Software, Hardware]                         2\n",
       "[Software, Physical Security]                                                    2\n",
       "[Social Engineering, Social Engineering, Software]                               2\n",
       "[Supply Chain, Software, Physical Security, Hardware]                            2\n",
       "[Social Engineering, Software, Hardware]                                         2\n",
       "[Hardware]                                                                       1\n",
       "not given                                                                        1\n",
       "[Social Engineering, Communications, Software, Physical Security, Hardware]      1\n",
       "[Social Engineering, Communications]                                             1\n",
       "[Communications, Software, Software]                                             1\n",
       "[Software, Communications, Software]                                             1\n",
       "Name: count, dtype: int64"
      ]
     },
     "execution_count": 60,
     "metadata": {},
     "output_type": "execute_result"
    }
   ],
   "source": [
    "capecs_df['capec_domain'].value_counts()"
   ]
  },
  {
   "cell_type": "code",
   "execution_count": 61,
   "id": "47d3ca57",
   "metadata": {},
   "outputs": [
    {
     "data": {
      "text/plain": [
       "capec_domain\n",
       "Software              490\n",
       "Communications        101\n",
       "Hardware               91\n",
       "Social Engineering     66\n",
       "Supply Chain           52\n",
       "Physical Security      39\n",
       "not given               1\n",
       "Name: count, dtype: int64"
      ]
     },
     "execution_count": 61,
     "metadata": {},
     "output_type": "execute_result"
    }
   ],
   "source": [
    "# value counts for 'capec_domain'\n",
    "capecs_df['capec_domain'].explode().value_counts(dropna=False)"
   ]
  },
  {
   "cell_type": "code",
   "execution_count": 62,
   "id": "4202ea6e",
   "metadata": {},
   "outputs": [
    {
     "name": "stdout",
     "output_type": "stream",
     "text": [
      "Count of rows with duplicates: 30\n",
      "25                         [Software, Software, Software]\n",
      "29                                   [Software, Software]\n",
      "54                                   [Hardware, Hardware]\n",
      "80                         [Software, Software, Software]\n",
      "81                                              not given\n",
      "86     [Social Engineering, Social Engineering, Software]\n",
      "91               [Social Engineering, Social Engineering]\n",
      "99                                   [Software, Software]\n",
      "119                        [Software, Software, Software]\n",
      "123                                  [Hardware, Hardware]\n",
      "156              [Social Engineering, Social Engineering]\n",
      "165                                  [Software, Software]\n",
      "177                        [Software, Software, Software]\n",
      "201              [Social Engineering, Social Engineering]\n",
      "225                        [Software, Software, Software]\n",
      "243                        [Software, Hardware, Software]\n",
      "262              [Social Engineering, Social Engineering]\n",
      "286                        [Software, Software, Software]\n",
      "292    [Social Engineering, Social Engineering, Software]\n",
      "363                  [Communications, Software, Software]\n",
      "388                                  [Software, Software]\n",
      "395                        [Software, Software, Software]\n",
      "431                        [Software, Software, Software]\n",
      "455                                  [Software, Software]\n",
      "469                  [Software, Communications, Software]\n",
      "493                                  [Hardware, Hardware]\n",
      "497                        [Software, Software, Software]\n",
      "509                                  [Software, Software]\n",
      "516                        [Software, Hardware, Software]\n",
      "543                        [Software, Hardware, Software]\n",
      "Name: capec_domain, dtype: object\n"
     ]
    }
   ],
   "source": [
    "duplicates = capecs_df[capecs_df['capec_domain'].apply(lambda x: len(x) != len(set(x)))]['capec_domain']\n",
    "\n",
    "print(f\"Count of rows with duplicates: {len(duplicates)}\")\n",
    "print(duplicates)\n"
   ]
  },
  {
   "cell_type": "markdown",
   "id": "e6c210c8",
   "metadata": {},
   "source": [
    "# Data Preparation"
   ]
  },
  {
   "cell_type": "markdown",
   "id": "8cc0941a",
   "metadata": {},
   "source": [
    "Merging title and description to match the form of the original orca pipeline."
   ]
  },
  {
   "cell_type": "code",
   "execution_count": 65,
   "id": "99e5a717",
   "metadata": {},
   "outputs": [],
   "source": [
    "df_threats = pd.read_pickle('threat_data/threats_after_data_understanding.pk1')"
   ]
  },
  {
   "cell_type": "code",
   "execution_count": 66,
   "id": "da9f8c42",
   "metadata": {},
   "outputs": [],
   "source": [
    "threats_summary_context = {'Threat title': 'A Threat with the title ', 'Threat Description': ' and the description '}\n",
    "def add_summary_to_df(input_df, coll_context, ):\n",
    "    input_df['summary'] = ''\n",
    "    for key, value in coll_context.items():\n",
    "        input_df['summary'] +=  value + input_df[key]"
   ]
  },
  {
   "cell_type": "code",
   "execution_count": 67,
   "id": "b07ccc06",
   "metadata": {},
   "outputs": [
    {
     "data": {
      "text/plain": [
       "'A Threat with the title An attacker exploits insecure designs or lack of adaption in O-RAN components and the description Unauthenticated/unauthorized access to O-RAN components could possibly be achieved via the different O-RAN interfaces, depending upon the design of the hardware-software O-RAN system and how different functions are segregated within the O-RAN system. \\nO-RAN components might be vulnerable if: \\n• Outdated component from the lack of update or patch management,\\n• Poorly design architecture,\\n• Missing appropriate security hardening,\\n• Unnecessary or insecure function/protocol/component.\\nAn attacker could, in such case, either inject malwares and/or manipulate existing software, harm the O-RAN components, create a performance issue by manipulation of parameters, or reconfigure the O-RAN components and disable the security features with the purpose of eavesdropping or wiretapping on various CUS & M planes, reaching northbound systems, attack broader network to cause denial-of-service, steal unprotected private keys, certificates, hash values, or other type of breaches.\\nIn addition, O-RAN components could be software providing network functions, so they are likely to be vulnerable to software flaws: it could be possible to bypass firewall restrictions or to take advantage of a buffer overflow to execute arbitrary commands, etc.'"
      ]
     },
     "execution_count": 67,
     "metadata": {},
     "output_type": "execute_result"
    }
   ],
   "source": [
    "add_summary_to_df(df_threats, threats_summary_context)\n",
    "df_threats.loc[0, 'summary']  "
   ]
  },
  {
   "cell_type": "markdown",
   "id": "e8cf60f6",
   "metadata": {},
   "source": [
    "Data preparation for establishing a baseline, implementing the ORCA mapping."
   ]
  },
  {
   "cell_type": "markdown",
   "id": "0e327b99",
   "metadata": {},
   "source": [
    "1. Add the embedding to the threat and to to the capec data"
   ]
  },
  {
   "cell_type": "code",
   "execution_count": 68,
   "id": "16259f13",
   "metadata": {},
   "outputs": [],
   "source": [
    "models = SentenceTransformer('sentence-transformers/all-MiniLM-L12-v2')\n",
    "\n",
    "def preprocess_description(description):\n",
    "    # remove patterns not semantically relevant\n",
    "    pattern = r\"\\((http|https)\\S+\\)|['\\[\\]]+\"\n",
    "    description = re.sub(pattern, \"\", description)\n",
    "    return description\n",
    "\n",
    "def gen_embedding(description):\n",
    "    if isinstance(description, str):\n",
    "        description1 = description\n",
    "    else:\n",
    "        description1 = '\\n'.join(description)\n",
    "    description = preprocess_description(description1)\n",
    "    return models.encode(description, convert_to_numpy=True)\n",
    "\n",
    "def add_embedd_to_df(input_df, descryption_name):\n",
    "    input_df['embedding'] = input_df[descryption_name].apply(gen_embedding)"
   ]
  },
  {
   "cell_type": "code",
   "execution_count": 69,
   "id": "65e1164c",
   "metadata": {},
   "outputs": [],
   "source": [
    "# add embedding to the threats dataframe\n",
    "add_embedd_to_df(df_threats, 'summary')"
   ]
  },
  {
   "cell_type": "code",
   "execution_count": 71,
   "id": "9609367e",
   "metadata": {},
   "outputs": [],
   "source": [
    "#threats_with_embeddings = df_threats.copy()\n",
    "#threats_with_embeddings.to_pickle('threat_data/threats_with_embeddings.pk1')\n",
    "threats_with_embeddings = pd.read_pickle('threat_data/threats_with_embeddings.pk1')"
   ]
  },
  {
   "cell_type": "code",
   "execution_count": 50,
   "id": "9a66e009",
   "metadata": {},
   "outputs": [],
   "source": [
    "# add embedding to the capecs dataframe\n",
    "#capecs_with_embeddings_df = capecs_df.copy()\n",
    "#add_embedd_to_df(capecs_with_embeddings_df, 'summary')\n",
    "#capecs_with_embeddings_df.to_pickle('capec_data/capecs_with_embeddings.pk1')"
   ]
  },
  {
   "cell_type": "code",
   "execution_count": 24,
   "id": "d4b8f3ac",
   "metadata": {},
   "outputs": [],
   "source": [
    "capecs_with_embeddings_df = pd.read_pickle('capec_data/capecs_with_embeddings.pk1')"
   ]
  },
  {
   "cell_type": "markdown",
   "id": "f416d6be",
   "metadata": {},
   "source": [
    "2. generate the mapping of threats to capecs"
   ]
  },
  {
   "cell_type": "code",
   "execution_count": 23,
   "id": "fdfee626",
   "metadata": {},
   "outputs": [],
   "source": [
    "DOMAIN = \"enterprise-attack\"\n",
    "def gen_mapping(th_df, ca_df):\n",
    "    maping = pd.DataFrame()\n",
    "    if 'summary' in th_df.columns:\n",
    "        th_df.rename(columns={'summary': 'summary_th_df'}, inplace=True)\n",
    "    if 'summary' in ca_df.columns:\n",
    "        ca_df.rename(columns={'summary': 'summary_ca_df'}, inplace=True)\n",
    "\n",
    "    for ca_index, row_techniques in ca_df.iterrows():\n",
    "        for thr_index, row_threats in th_df.iterrows():\n",
    "            cosine_similarity = util.pytorch_cos_sim(torch.from_numpy(row_techniques['embedding']),\n",
    "                                                     torch.from_numpy(row_threats['embedding']))\n",
    "            comb = pd.concat([row_techniques, row_threats], axis=0)\n",
    "            comb = comb.to_frame().T\n",
    "            comb['Similarity'] = cosine_similarity\n",
    "            maping = pd.concat([maping, comb], ignore_index=True)\n",
    "\n",
    "    maping['Domain'] = DOMAIN\n",
    "    return maping"
   ]
  },
  {
   "cell_type": "code",
   "execution_count": 58,
   "id": "961117b0",
   "metadata": {},
   "outputs": [
    {
     "data": {
      "text/plain": [
       "Index(['Threat ID', 'Threat title', 'Threat Description', 'Threat type',\n",
       "       'Impact type', 'Threat agent', 'Vulnerability', 'Threatened Asset',\n",
       "       'Affected Components', 'summary_th_df', 'embedding'],\n",
       "      dtype='object')"
      ]
     },
     "execution_count": 58,
     "metadata": {},
     "output_type": "execute_result"
    }
   ],
   "source": [
    "df_threats.columns"
   ]
  },
  {
   "cell_type": "code",
   "execution_count": 59,
   "id": "fab3b91a",
   "metadata": {},
   "outputs": [
    {
     "data": {
      "text/html": [
       "<div>\n",
       "<style scoped>\n",
       "    .dataframe tbody tr th:only-of-type {\n",
       "        vertical-align: middle;\n",
       "    }\n",
       "\n",
       "    .dataframe tbody tr th {\n",
       "        vertical-align: top;\n",
       "    }\n",
       "\n",
       "    .dataframe thead th {\n",
       "        text-align: right;\n",
       "    }\n",
       "</style>\n",
       "<table border=\"1\" class=\"dataframe\">\n",
       "  <thead>\n",
       "    <tr style=\"text-align: right;\">\n",
       "      <th></th>\n",
       "      <th>Threat ID</th>\n",
       "      <th>Threat title</th>\n",
       "      <th>Threat Description</th>\n",
       "      <th>Threat type</th>\n",
       "      <th>Impact type</th>\n",
       "      <th>Threat agent</th>\n",
       "      <th>Vulnerability</th>\n",
       "      <th>Threatened Asset</th>\n",
       "      <th>Affected Components</th>\n",
       "      <th>summary_th_df</th>\n",
       "      <th>embedding</th>\n",
       "    </tr>\n",
       "  </thead>\n",
       "  <tbody>\n",
       "    <tr>\n",
       "      <th>0</th>\n",
       "      <td>T-O-RAN-01</td>\n",
       "      <td>An attacker exploits insecure designs or lack of adaption in O-RAN components</td>\n",
       "      <td>Unauthenticated/unauthorized access to O-RAN components could possibly be achieved via the different O-RAN interfaces, depending upon the design of the hardware-software O-RAN system and how different functions are segregated within the O-RAN system. \\nO-RAN components might be vulnerable if: \\n• Outdated component from the lack of update or patch management,\\n• Poorly design architecture,\\n• Missing appropriate security hardening,\\n• Unnecessary or insecure function/protocol/component.\\nAn attacker could, in such case, either inject malwares and/or manipulate existing software, harm the O-RAN components, create a performance issue by manipulation of parameters, or reconfigure the O-RAN components and disable the security features with the purpose of eavesdropping or wiretapping on various CUS &amp; M planes, reaching northbound systems, attack broader network to cause denial-of-service, steal unprotected private keys, certificates, hash values, or other type of breaches.\\nIn addition, O-RAN components could be software providing network functions, so they are likely to be vulnerable to software flaws: it could be possible to bypass firewall restrictions or to take advantage of a buffer overflow to execute arbitrary commands, etc.</td>\n",
       "      <td>None</td>\n",
       "      <td>None</td>\n",
       "      <td>All</td>\n",
       "      <td>[Outdated component from the lack of update or patch management]</td>\n",
       "      <td>[ASSET D-11, ASSET D-20, ASSET D-21, ASSET-C-02, ASSET-C-03, ASSET-C-07, ASSET-C-08, ASSET-C-09, ASSET-C-1, ASSET-C-10, ASSET-C-11, ASSET-C-12, ASSET-C-14, ASSET-C-16, ASSET-C-17, ASSET-C-18, ASSET-C-19, ASSET-C-2, ASSET-C-20, ASSET-C-21, ASSET-C-22, ASSET-C-23, ASSET-C-24, ASSET-C-25, ASSET-C-26, ASSET-C-27, ASSET-C-28, ASSET-C-3, ASSET-C-31, ASSET-C-32, ASSET-C-33, ASSET-C-34, ASSET-C-35, ASSET-C-36, ASSET-C-37, ASSET-C-38, ASSET-C-39, ASSET-C-4, ASSET-C-40, ASSET-C-42, ASSET-C-5, ASSET-C-6, ASSET-C-7, ASSET-C-8, ASSET-C-9, ASSET-D-01, ASSET-D-02, ASSET-D-03, ASSET-D-04, ASSET-D-05, ASSET-D-06, ASSET-D-07, ASSET-D-08, ASSET-D-09, ASSET-D-1, ASSET-D-10, ASSET-D-11, ASSET-D-12, ASSET-D-13, ASSET-D-14, ASSET-D-15, ASSET-D-16, ASSET-D-17, ASSET-D-18, ASSET-D-19, ASSET-D-2, ASSET-D-20, ASSET-D-21, ASSET-D-22, ASSET-D-23, ASSET-D-24, ASSET-D-25, ASSET-D-26, ASSET-D-27, ASSET-D-28, ASSET-D-29, ASSET-D-3, ASSET-D-30, ASSET-D-31, ASSET-D-32, ASSET-D-33, ASSET-D-34, ASSET-D-35, ASSET-D-36, ASSET-D-37, ASSET-D-38, ASSET-D-39, ASSET-D-4, ASSET-D-41, ASSET-D-43, ASSET-D-5, ASSET-D-6, ASSET-D-7, ASSET-D-8, ASSET-D-9]</td>\n",
       "      <td>[All]</td>\n",
       "      <td>A Threat with the title An attacker exploits insecure designs or lack of adaption in O-RAN components and the description Unauthenticated/unauthorized access to O-RAN components could possibly be achieved via the different O-RAN interfaces, depending upon the design of the hardware-software O-RAN system and how different functions are segregated within the O-RAN system. \\nO-RAN components might be vulnerable if: \\n• Outdated component from the lack of update or patch management,\\n• Poorly design architecture,\\n• Missing appropriate security hardening,\\n• Unnecessary or insecure function/protocol/component.\\nAn attacker could, in such case, either inject malwares and/or manipulate existing software, harm the O-RAN components, create a performance issue by manipulation of parameters, or reconfigure the O-RAN components and disable the security features with the purpose of eavesdropping or wiretapping on various CUS &amp; M planes, reaching northbound systems, attack broader network to cause denial-of-service, steal unprotected private keys, certificates, hash values, or other type of breaches.\\nIn addition, O-RAN components could be software providing network functions, so they are likely to be vulnerable to software flaws: it could be possible to bypass firewall restrictions or to take advantage of a buffer overflow to execute arbitrary commands, etc.</td>\n",
       "      <td>[-0.024182335, -0.017894462, -0.016494107, 0.032714378, 0.055944026, -0.0070741954, -0.03134582, 0.042047128, -0.003014518, -0.07276965, 0.015318671, -0.013765871, -0.012040511, -0.06684316, 0.0712765, -0.0028529556, 0.054805882, 0.056034748, 0.0150890015, 0.035735235, -0.023036812, -0.01563314, 0.041243088, -0.055322185, -0.042470373, -0.025964046, -0.051097155, -0.027850369, 0.009753188, 0.033874065, -0.07739675, 0.06796128, -0.051971495, 0.03289672, -0.046105787, -0.08713522, 0.015054593, -0.039817583, -0.02016989, -0.021029806, -0.034519818, -0.064377174, 0.038905844, 0.051088545, -0.10244205, -0.039250705, 0.005759941, -0.004276076, -0.06270287, -0.12196382, 0.013097793, -0.024138236, 0.038756657, -0.00071160606, -0.04798233, -0.049363337, -0.023848219, 0.033207767, -0.031070733, -0.047250506, 0.041181155, 0.029480122, 0.0018857886, -0.010001538, -0.006578094, -0.043490417, 0.07990314, 0.01563736, 0.053809695, -0.06906356, -0.019088821, 0.018136924, -0.017202474, -0.095450856, -0.09217281, 0.061415683, -0.10140314, 0.01192272, 0.022908108, -0.06299471, 0.06684854, 0.06867783, -0.02050442, 0.027195027, -0.08646986, 0.123953655, -0.001004425, 0.010408173, 0.07101609, -0.010027461, -0.023261964, -0.062686935, 0.07685944, -0.02573287, 0.09436945, -0.004574478, -0.029952675, -0.084723756, -0.08645773, 0.060313366, ...]</td>\n",
       "    </tr>\n",
       "  </tbody>\n",
       "</table>\n",
       "</div>"
      ],
      "text/plain": [
       "    Threat ID  \\\n",
       "0  T-O-RAN-01   \n",
       "\n",
       "                                                                    Threat title  \\\n",
       "0  An attacker exploits insecure designs or lack of adaption in O-RAN components   \n",
       "\n",
       "                                                                                                                                                                                                                                                                                                                                                                                                                                                                                                                                                                                                                                                                                                                                                                                                                                                                                                                                                                                                                                                                                                                                                                                                                                                                               Threat Description  \\\n",
       "0  Unauthenticated/unauthorized access to O-RAN components could possibly be achieved via the different O-RAN interfaces, depending upon the design of the hardware-software O-RAN system and how different functions are segregated within the O-RAN system. \\nO-RAN components might be vulnerable if: \\n• Outdated component from the lack of update or patch management,\\n• Poorly design architecture,\\n• Missing appropriate security hardening,\\n• Unnecessary or insecure function/protocol/component.\\nAn attacker could, in such case, either inject malwares and/or manipulate existing software, harm the O-RAN components, create a performance issue by manipulation of parameters, or reconfigure the O-RAN components and disable the security features with the purpose of eavesdropping or wiretapping on various CUS & M planes, reaching northbound systems, attack broader network to cause denial-of-service, steal unprotected private keys, certificates, hash values, or other type of breaches.\\nIn addition, O-RAN components could be software providing network functions, so they are likely to be vulnerable to software flaws: it could be possible to bypass firewall restrictions or to take advantage of a buffer overflow to execute arbitrary commands, etc.   \n",
       "\n",
       "  Threat type Impact type Threat agent  \\\n",
       "0        None        None          All   \n",
       "\n",
       "                                                      Vulnerability  \\\n",
       "0  [Outdated component from the lack of update or patch management]   \n",
       "\n",
       "                                                                                                                                                                                                                                                                                                                                                                                                                                                                                                                                                                                                                                                                                                                                                                                                                                                                                                                                                                                                                                                                                                                                                     Threatened Asset  \\\n",
       "0  [ASSET D-11, ASSET D-20, ASSET D-21, ASSET-C-02, ASSET-C-03, ASSET-C-07, ASSET-C-08, ASSET-C-09, ASSET-C-1, ASSET-C-10, ASSET-C-11, ASSET-C-12, ASSET-C-14, ASSET-C-16, ASSET-C-17, ASSET-C-18, ASSET-C-19, ASSET-C-2, ASSET-C-20, ASSET-C-21, ASSET-C-22, ASSET-C-23, ASSET-C-24, ASSET-C-25, ASSET-C-26, ASSET-C-27, ASSET-C-28, ASSET-C-3, ASSET-C-31, ASSET-C-32, ASSET-C-33, ASSET-C-34, ASSET-C-35, ASSET-C-36, ASSET-C-37, ASSET-C-38, ASSET-C-39, ASSET-C-4, ASSET-C-40, ASSET-C-42, ASSET-C-5, ASSET-C-6, ASSET-C-7, ASSET-C-8, ASSET-C-9, ASSET-D-01, ASSET-D-02, ASSET-D-03, ASSET-D-04, ASSET-D-05, ASSET-D-06, ASSET-D-07, ASSET-D-08, ASSET-D-09, ASSET-D-1, ASSET-D-10, ASSET-D-11, ASSET-D-12, ASSET-D-13, ASSET-D-14, ASSET-D-15, ASSET-D-16, ASSET-D-17, ASSET-D-18, ASSET-D-19, ASSET-D-2, ASSET-D-20, ASSET-D-21, ASSET-D-22, ASSET-D-23, ASSET-D-24, ASSET-D-25, ASSET-D-26, ASSET-D-27, ASSET-D-28, ASSET-D-29, ASSET-D-3, ASSET-D-30, ASSET-D-31, ASSET-D-32, ASSET-D-33, ASSET-D-34, ASSET-D-35, ASSET-D-36, ASSET-D-37, ASSET-D-38, ASSET-D-39, ASSET-D-4, ASSET-D-41, ASSET-D-43, ASSET-D-5, ASSET-D-6, ASSET-D-7, ASSET-D-8, ASSET-D-9]   \n",
       "\n",
       "  Affected Components  \\\n",
       "0               [All]   \n",
       "\n",
       "                                                                                                                                                                                                                                                                                                                                                                                                                                                                                                                                                                                                                                                                                                                                                                                                                                                                                                                                                                                                                                                                                                                                                                                                                                                                                                                                                                                                              summary_th_df  \\\n",
       "0  A Threat with the title An attacker exploits insecure designs or lack of adaption in O-RAN components and the description Unauthenticated/unauthorized access to O-RAN components could possibly be achieved via the different O-RAN interfaces, depending upon the design of the hardware-software O-RAN system and how different functions are segregated within the O-RAN system. \\nO-RAN components might be vulnerable if: \\n• Outdated component from the lack of update or patch management,\\n• Poorly design architecture,\\n• Missing appropriate security hardening,\\n• Unnecessary or insecure function/protocol/component.\\nAn attacker could, in such case, either inject malwares and/or manipulate existing software, harm the O-RAN components, create a performance issue by manipulation of parameters, or reconfigure the O-RAN components and disable the security features with the purpose of eavesdropping or wiretapping on various CUS & M planes, reaching northbound systems, attack broader network to cause denial-of-service, steal unprotected private keys, certificates, hash values, or other type of breaches.\\nIn addition, O-RAN components could be software providing network functions, so they are likely to be vulnerable to software flaws: it could be possible to bypass firewall restrictions or to take advantage of a buffer overflow to execute arbitrary commands, etc.   \n",
       "\n",
       "                                                                                                                                                                                                                                                                                                                                                                                                                                                                                                                                                                                                                                                                                                                                                                                                                                                                                                                                                                                                                                                                                                                                                                                                                                                                                                                                                                                      embedding  \n",
       "0  [-0.024182335, -0.017894462, -0.016494107, 0.032714378, 0.055944026, -0.0070741954, -0.03134582, 0.042047128, -0.003014518, -0.07276965, 0.015318671, -0.013765871, -0.012040511, -0.06684316, 0.0712765, -0.0028529556, 0.054805882, 0.056034748, 0.0150890015, 0.035735235, -0.023036812, -0.01563314, 0.041243088, -0.055322185, -0.042470373, -0.025964046, -0.051097155, -0.027850369, 0.009753188, 0.033874065, -0.07739675, 0.06796128, -0.051971495, 0.03289672, -0.046105787, -0.08713522, 0.015054593, -0.039817583, -0.02016989, -0.021029806, -0.034519818, -0.064377174, 0.038905844, 0.051088545, -0.10244205, -0.039250705, 0.005759941, -0.004276076, -0.06270287, -0.12196382, 0.013097793, -0.024138236, 0.038756657, -0.00071160606, -0.04798233, -0.049363337, -0.023848219, 0.033207767, -0.031070733, -0.047250506, 0.041181155, 0.029480122, 0.0018857886, -0.010001538, -0.006578094, -0.043490417, 0.07990314, 0.01563736, 0.053809695, -0.06906356, -0.019088821, 0.018136924, -0.017202474, -0.095450856, -0.09217281, 0.061415683, -0.10140314, 0.01192272, 0.022908108, -0.06299471, 0.06684854, 0.06867783, -0.02050442, 0.027195027, -0.08646986, 0.123953655, -0.001004425, 0.010408173, 0.07101609, -0.010027461, -0.023261964, -0.062686935, 0.07685944, -0.02573287, 0.09436945, -0.004574478, -0.029952675, -0.084723756, -0.08645773, 0.060313366, ...]  "
      ]
     },
     "execution_count": 59,
     "metadata": {},
     "output_type": "execute_result"
    }
   ],
   "source": [
    "df_threats.head(1)"
   ]
  },
  {
   "cell_type": "code",
   "execution_count": 60,
   "id": "942bcdda",
   "metadata": {},
   "outputs": [
    {
     "data": {
      "text/plain": [
       "Index(['CAPEC ID', 'capec_name', 'capec_description', 'capec_domain',\n",
       "       'summary_ca_df', 'embedding'],\n",
       "      dtype='object')"
      ]
     },
     "execution_count": 60,
     "metadata": {},
     "output_type": "execute_result"
    }
   ],
   "source": [
    "capecs_with_embeddings_df.columns"
   ]
  },
  {
   "cell_type": "code",
   "execution_count": 72,
   "id": "a2d87949",
   "metadata": {},
   "outputs": [],
   "source": [
    "capec_mapping = gen_mapping(threats_with_embeddings, capecs_with_embeddings_df)"
   ]
  },
  {
   "cell_type": "code",
   "execution_count": null,
   "id": "913ea0de",
   "metadata": {},
   "outputs": [],
   "source": []
  },
  {
   "cell_type": "markdown",
   "id": "558e7fd6",
   "metadata": {},
   "source": [
    "3. format the mapping"
   ]
  },
  {
   "cell_type": "code",
   "execution_count": 74,
   "id": "d8d3bee2",
   "metadata": {},
   "outputs": [],
   "source": [
    "COLOM_MAP = {'ID': 'Technique', 'name': 'yeet', 'Threat ID': 'Name', 'tactics': 'tactic', 'Threat title':'Description'}\n",
    "MAP_ORDER_capec = ['Name', 'Domain', 'Description', 'CAPEC ID', 'Similarity', 'summary_th_df', 'summary_ca_df']\n",
    "def format_map(ma, MAP_ORDER):\n",
    "    ma.rename(columns=COLOM_MAP, inplace=True)\n",
    "    ma = ma.loc[:, MAP_ORDER]\n",
    "    return ma"
   ]
  },
  {
   "cell_type": "code",
   "execution_count": 75,
   "id": "b20abf8c",
   "metadata": {},
   "outputs": [],
   "source": [
    "threat2capec_mapping_df = format_map(capec_mapping, MAP_ORDER_capec)"
   ]
  },
  {
   "cell_type": "code",
   "execution_count": null,
   "id": "75581e99",
   "metadata": {},
   "outputs": [],
   "source": [
    "# save capec mappings to pickle\n",
    "#threat2capec_mapping_df.to_pickle('mapped_data/all_t2c_mappings.pk1')"
   ]
  },
  {
   "cell_type": "code",
   "execution_count": 76,
   "id": "bc0e0138",
   "metadata": {},
   "outputs": [],
   "source": [
    "threat2capec_mapping_df = pd.read_pickle('mapped_data/all_t2c_mappings.pk1')"
   ]
  },
  {
   "cell_type": "code",
   "execution_count": 68,
   "id": "b7cff321",
   "metadata": {},
   "outputs": [
    {
     "data": {
      "text/html": [
       "<div>\n",
       "<style scoped>\n",
       "    .dataframe tbody tr th:only-of-type {\n",
       "        vertical-align: middle;\n",
       "    }\n",
       "\n",
       "    .dataframe tbody tr th {\n",
       "        vertical-align: top;\n",
       "    }\n",
       "\n",
       "    .dataframe thead th {\n",
       "        text-align: right;\n",
       "    }\n",
       "</style>\n",
       "<table border=\"1\" class=\"dataframe\">\n",
       "  <thead>\n",
       "    <tr style=\"text-align: right;\">\n",
       "      <th></th>\n",
       "      <th>Name</th>\n",
       "      <th>Domain</th>\n",
       "      <th>Description</th>\n",
       "      <th>CAPEC ID</th>\n",
       "      <th>Similarity</th>\n",
       "      <th>summary_th_df</th>\n",
       "      <th>summary_ca_df</th>\n",
       "    </tr>\n",
       "  </thead>\n",
       "  <tbody>\n",
       "    <tr>\n",
       "      <th>0</th>\n",
       "      <td>T-O-RAN-01</td>\n",
       "      <td>enterprise-attack</td>\n",
       "      <td>An attacker exploits insecure designs or lack of adaption in O-RAN components</td>\n",
       "      <td>CAPEC-87</td>\n",
       "      <td>0.246589</td>\n",
       "      <td>A Threat with the title An attacker exploits insecure designs or lack of adaption in O-RAN components and the description Unauthenticated/unauthorized access to O-RAN components could possibly be achieved via the different O-RAN interfaces, depending upon the design of the hardware-software O-RAN system and how different functions are segregated within the O-RAN system. \\nO-RAN components might be vulnerable if: \\n• Outdated component from the lack of update or patch management,\\n• Poorly design architecture,\\n• Missing appropriate security hardening,\\n• Unnecessary or insecure function/protocol/component.\\nAn attacker could, in such case, either inject malwares and/or manipulate existing software, harm the O-RAN components, create a performance issue by manipulation of parameters, or reconfigure the O-RAN components and disable the security features with the purpose of eavesdropping or wiretapping on various CUS &amp; M planes, reaching northbound systems, attack broader network to cause denial-of-service, steal unprotected private keys, certificates, hash values, or other type of breaches.\\nIn addition, O-RAN components could be software providing network functions, so they are likely to be vulnerable to software flaws: it could be possible to bypass firewall restrictions or to take advantage of a buffer overflow to execute arbitrary commands, etc.</td>\n",
       "      <td>A CAPEC with the title Forceful Browsing. The description of this CAPEC is: An attacker employs forceful browsing (direct URL entry) to access portions of a website that are otherwise unreachable. Usually, a front controller or similar design pattern is employed to protect access to portions of a web application. Forceful browsing enables an attacker to access information, perform privileged operations and otherwise reach sections of the web application that have been improperly protected.. The Domain of this is: Software</td>\n",
       "    </tr>\n",
       "    <tr>\n",
       "      <th>1</th>\n",
       "      <td>T-O-RAN-02</td>\n",
       "      <td>enterprise-attack</td>\n",
       "      <td>An attacker exploits misconfigured or poorly configured O-RAN components</td>\n",
       "      <td>CAPEC-87</td>\n",
       "      <td>0.269296</td>\n",
       "      <td>A Threat with the title An attacker exploits misconfigured or poorly configured O-RAN components and the description Unauthenticated/unauthorized access to O-RAN components could possibly be achieved via the different O-RAN interfaces, depending upon the configuration of the hardware-software O-RAN system. \\nO-RAN components might be vulnerable if: \\n• Errors from the lack of configuration change management,\\n• Misconfigured or poorly configured O-RAN components,\\n• Improperly configured permissions,\\n• Unnecessary features are enabled (e.g. unnecessary ports, services, accounts, or privileges),\\n• Default accounts and their passwords still enabled and unchanged,\\n• Security features are disabled or not configured securely.\\nAn attacker could, in such case, either inject malwares and/or manipulate existing software, harm the O-RAN components, create a performance issue by manipulation of parameters, or reconfigure the O-RAN components and disable the security features with the purpose of eavesdropping or wiretapping on various CUS &amp; M planes, reaching northbound systems, attack broader network to cause denial-of-service, steal unprotected private keys, certificates, hash values, or other type of breaches.</td>\n",
       "      <td>A CAPEC with the title Forceful Browsing. The description of this CAPEC is: An attacker employs forceful browsing (direct URL entry) to access portions of a website that are otherwise unreachable. Usually, a front controller or similar design pattern is employed to protect access to portions of a web application. Forceful browsing enables an attacker to access information, perform privileged operations and otherwise reach sections of the web application that have been improperly protected.. The Domain of this is: Software</td>\n",
       "    </tr>\n",
       "    <tr>\n",
       "      <th>2</th>\n",
       "      <td>T-O-RAN-03</td>\n",
       "      <td>enterprise-attack</td>\n",
       "      <td>Attacks from the internet to penetrate O-RAN network boundary</td>\n",
       "      <td>CAPEC-87</td>\n",
       "      <td>0.414978</td>\n",
       "      <td>A Threat with the title Attacks from the internet to penetrate O-RAN network boundary and the description Web servers serving O-RAN functional and management services should provide adequate protection. \\nAn attacker that have access to the uncontrolled O-RAN network could:\\n• Bypass the information flow control policy implemented by the firewall,\\n• And/or attack O-RAN components in the trusted networks by taking advantage of particularities and errors in the design and implementation of the network protocols (IP, TCP, UDP, application protocols),\\n• Use of incorrect or exceeded TCP sequence numbers,\\n• Perform brute force attacks on FTP passwords,\\n• Use of improper HTTP user sessions,\\n• Etc.\\nThe effects of such attacks may include:\\n• An intrusion, meaning unauthorized access to O-RAN components,\\n• Blocking, flooding or restarting an O-RAN component causing a denial of service,\\n• Flooding of network equipment, causing a denial of service,\\n• Etc.</td>\n",
       "      <td>A CAPEC with the title Forceful Browsing. The description of this CAPEC is: An attacker employs forceful browsing (direct URL entry) to access portions of a website that are otherwise unreachable. Usually, a front controller or similar design pattern is employed to protect access to portions of a web application. Forceful browsing enables an attacker to access information, perform privileged operations and otherwise reach sections of the web application that have been improperly protected.. The Domain of this is: Software</td>\n",
       "    </tr>\n",
       "    <tr>\n",
       "      <th>3</th>\n",
       "      <td>T-O-RAN-04</td>\n",
       "      <td>enterprise-attack</td>\n",
       "      <td>An attacker attempts to jam the airlink signal through IoT devices</td>\n",
       "      <td>CAPEC-87</td>\n",
       "      <td>0.274226</td>\n",
       "      <td>A Threat with the title An attacker attempts to jam the airlink signal through IoT devices and the description DDoS attacks on O-RAN systems: The 5G evolution means billions of things, collectively referred to as IoT, will be using the 5G O-RAN. Thus, IoT could increase the risk of O-RAN resource overload by way of DDoS attacks. Attackers create a botnet army by infecting many (millions/billions) IoT devices with a “remote-reboot” malware. Attackers instruct the malware to reboot all devices in a specific or targeted 5G coverage area at the same time.</td>\n",
       "      <td>A CAPEC with the title Forceful Browsing. The description of this CAPEC is: An attacker employs forceful browsing (direct URL entry) to access portions of a website that are otherwise unreachable. Usually, a front controller or similar design pattern is employed to protect access to portions of a web application. Forceful browsing enables an attacker to access information, perform privileged operations and otherwise reach sections of the web application that have been improperly protected.. The Domain of this is: Software</td>\n",
       "    </tr>\n",
       "    <tr>\n",
       "      <th>4</th>\n",
       "      <td>T-O-RAN-05</td>\n",
       "      <td>enterprise-attack</td>\n",
       "      <td>An attacker penetrates and compromises the O-RAN system through the open O-RAN’s Fronthaul, O1, O2, A1, and E2</td>\n",
       "      <td>CAPEC-87</td>\n",
       "      <td>0.375388</td>\n",
       "      <td>A Threat with the title An attacker penetrates and compromises the O-RAN system through the open O-RAN’s Fronthaul, O1, O2, A1, and E2 and the description O-RAN’s Fronthaul, O1, O2, A1, and E2 management interfaces are the new open interfaces that allow software programmability of RAN. These interfaces may not be secured to industry best practices.\\nO-RAN components might be vulnerable if: \\n• Improper or missing authentication and authorization processes,\\n• Improper or missing ciphering and integrity checks of sensitive data exchanged over O-RAN interfaces,\\n• Improper or missing replay protection of sensitive data exchanged over O-RAN interfaces,\\n• Improper prevention of key reuse,\\n• Improper implementation,\\n• Improperly validate inputs, respond to error conditions in both the submitted data as well as out of sequence protocol steps.\\nAn attacker could, in such case, cause denial-of-service, data tampering or information disclosure, etc.\\nNOTE: O-RAN interfaces allow use of TLS or SSH. Industry best practices mandate the use of TLS (v1.2 or higher) or SSH certificate-based authentication. An implementation that implements TLS version lower than 1.2 or a SSH password authentication, may become the key source of vulnerability that a malicious code will exploit to compromise the O-RAN system.</td>\n",
       "      <td>A CAPEC with the title Forceful Browsing. The description of this CAPEC is: An attacker employs forceful browsing (direct URL entry) to access portions of a website that are otherwise unreachable. Usually, a front controller or similar design pattern is employed to protect access to portions of a web application. Forceful browsing enables an attacker to access information, perform privileged operations and otherwise reach sections of the web application that have been improperly protected.. The Domain of this is: Software</td>\n",
       "    </tr>\n",
       "    <tr>\n",
       "      <th>5</th>\n",
       "      <td>T-O-RAN-06</td>\n",
       "      <td>enterprise-attack</td>\n",
       "      <td>An attacker exploits insufficient/improper mechanisms for authentication and authorization to compromise O-RAN components</td>\n",
       "      <td>CAPEC-87</td>\n",
       "      <td>0.329903</td>\n",
       "      <td>A Threat with the title An attacker exploits insufficient/improper mechanisms for authentication and authorization to compromise O-RAN components and the description O-RAN management and orchestration should not be used without appropriate authentication and authorization and authorization checks. \\nO-RAN components might be vulnerable if: \\n• Unauthenticated access to O-RAN functions,\\n• Improper authentication mechanisms,\\n• Use of Predefined/ default accounts,\\n• Weak or missing password policy,\\n• Lack of mutual authentication to O-RAN components and interfaces,\\n• Failure to block consecutive failed login attempts,\\n• Improper authorization and access control policy.\\nAn attacker could, in such case, either inject malwares and/or manipulate existing software, harm the O-RAN components, create a performance issue by manipulation of parameters, or reconfigure the O-RAN components and disable the security features with the purpose of eavesdropping or wiretapping on various CUS &amp; M planes, reaching northbound systems, attack broader network to cause denial-of-service, steal unprotected private keys, certificates, hash values, or other type of breaches.</td>\n",
       "      <td>A CAPEC with the title Forceful Browsing. The description of this CAPEC is: An attacker employs forceful browsing (direct URL entry) to access portions of a website that are otherwise unreachable. Usually, a front controller or similar design pattern is employed to protect access to portions of a web application. Forceful browsing enables an attacker to access information, perform privileged operations and otherwise reach sections of the web application that have been improperly protected.. The Domain of this is: Software</td>\n",
       "    </tr>\n",
       "  </tbody>\n",
       "</table>\n",
       "</div>"
      ],
      "text/plain": [
       "         Name             Domain  \\\n",
       "0  T-O-RAN-01  enterprise-attack   \n",
       "1  T-O-RAN-02  enterprise-attack   \n",
       "2  T-O-RAN-03  enterprise-attack   \n",
       "3  T-O-RAN-04  enterprise-attack   \n",
       "4  T-O-RAN-05  enterprise-attack   \n",
       "5  T-O-RAN-06  enterprise-attack   \n",
       "\n",
       "                                                                                                                 Description  \\\n",
       "0                                              An attacker exploits insecure designs or lack of adaption in O-RAN components   \n",
       "1                                                   An attacker exploits misconfigured or poorly configured O-RAN components   \n",
       "2                                                              Attacks from the internet to penetrate O-RAN network boundary   \n",
       "3                                                         An attacker attempts to jam the airlink signal through IoT devices   \n",
       "4             An attacker penetrates and compromises the O-RAN system through the open O-RAN’s Fronthaul, O1, O2, A1, and E2   \n",
       "5  An attacker exploits insufficient/improper mechanisms for authentication and authorization to compromise O-RAN components   \n",
       "\n",
       "   CAPEC ID  Similarity  \\\n",
       "0  CAPEC-87    0.246589   \n",
       "1  CAPEC-87    0.269296   \n",
       "2  CAPEC-87    0.414978   \n",
       "3  CAPEC-87    0.274226   \n",
       "4  CAPEC-87    0.375388   \n",
       "5  CAPEC-87    0.329903   \n",
       "\n",
       "                                                                                                                                                                                                                                                                                                                                                                                                                                                                                                                                                                                                                                                                                                                                                                                                                                                                                                                                                                                                                                                                                                                                                                                                                                                                                                                                                                                                              summary_th_df  \\\n",
       "0  A Threat with the title An attacker exploits insecure designs or lack of adaption in O-RAN components and the description Unauthenticated/unauthorized access to O-RAN components could possibly be achieved via the different O-RAN interfaces, depending upon the design of the hardware-software O-RAN system and how different functions are segregated within the O-RAN system. \\nO-RAN components might be vulnerable if: \\n• Outdated component from the lack of update or patch management,\\n• Poorly design architecture,\\n• Missing appropriate security hardening,\\n• Unnecessary or insecure function/protocol/component.\\nAn attacker could, in such case, either inject malwares and/or manipulate existing software, harm the O-RAN components, create a performance issue by manipulation of parameters, or reconfigure the O-RAN components and disable the security features with the purpose of eavesdropping or wiretapping on various CUS & M planes, reaching northbound systems, attack broader network to cause denial-of-service, steal unprotected private keys, certificates, hash values, or other type of breaches.\\nIn addition, O-RAN components could be software providing network functions, so they are likely to be vulnerable to software flaws: it could be possible to bypass firewall restrictions or to take advantage of a buffer overflow to execute arbitrary commands, etc.   \n",
       "1                                                                                                                                                  A Threat with the title An attacker exploits misconfigured or poorly configured O-RAN components and the description Unauthenticated/unauthorized access to O-RAN components could possibly be achieved via the different O-RAN interfaces, depending upon the configuration of the hardware-software O-RAN system. \\nO-RAN components might be vulnerable if: \\n• Errors from the lack of configuration change management,\\n• Misconfigured or poorly configured O-RAN components,\\n• Improperly configured permissions,\\n• Unnecessary features are enabled (e.g. unnecessary ports, services, accounts, or privileges),\\n• Default accounts and their passwords still enabled and unchanged,\\n• Security features are disabled or not configured securely.\\nAn attacker could, in such case, either inject malwares and/or manipulate existing software, harm the O-RAN components, create a performance issue by manipulation of parameters, or reconfigure the O-RAN components and disable the security features with the purpose of eavesdropping or wiretapping on various CUS & M planes, reaching northbound systems, attack broader network to cause denial-of-service, steal unprotected private keys, certificates, hash values, or other type of breaches.   \n",
       "2                                                                                                                                                                                                                                                                                                                                                                                                                   A Threat with the title Attacks from the internet to penetrate O-RAN network boundary and the description Web servers serving O-RAN functional and management services should provide adequate protection. \\nAn attacker that have access to the uncontrolled O-RAN network could:\\n• Bypass the information flow control policy implemented by the firewall,\\n• And/or attack O-RAN components in the trusted networks by taking advantage of particularities and errors in the design and implementation of the network protocols (IP, TCP, UDP, application protocols),\\n• Use of incorrect or exceeded TCP sequence numbers,\\n• Perform brute force attacks on FTP passwords,\\n• Use of improper HTTP user sessions,\\n• Etc.\\nThe effects of such attacks may include:\\n• An intrusion, meaning unauthorized access to O-RAN components,\\n• Blocking, flooding or restarting an O-RAN component causing a denial of service,\\n• Flooding of network equipment, causing a denial of service,\\n• Etc.   \n",
       "3                                                                                                                                                                                                                                                                                                                                                                                                                                                                                                                                                                                                                                                                                                                                                                                                                                             A Threat with the title An attacker attempts to jam the airlink signal through IoT devices and the description DDoS attacks on O-RAN systems: The 5G evolution means billions of things, collectively referred to as IoT, will be using the 5G O-RAN. Thus, IoT could increase the risk of O-RAN resource overload by way of DDoS attacks. Attackers create a botnet army by infecting many (millions/billions) IoT devices with a “remote-reboot” malware. Attackers instruct the malware to reboot all devices in a specific or targeted 5G coverage area at the same time.   \n",
       "4                                                      A Threat with the title An attacker penetrates and compromises the O-RAN system through the open O-RAN’s Fronthaul, O1, O2, A1, and E2 and the description O-RAN’s Fronthaul, O1, O2, A1, and E2 management interfaces are the new open interfaces that allow software programmability of RAN. These interfaces may not be secured to industry best practices.\\nO-RAN components might be vulnerable if: \\n• Improper or missing authentication and authorization processes,\\n• Improper or missing ciphering and integrity checks of sensitive data exchanged over O-RAN interfaces,\\n• Improper or missing replay protection of sensitive data exchanged over O-RAN interfaces,\\n• Improper prevention of key reuse,\\n• Improper implementation,\\n• Improperly validate inputs, respond to error conditions in both the submitted data as well as out of sequence protocol steps.\\nAn attacker could, in such case, cause denial-of-service, data tampering or information disclosure, etc.\\nNOTE: O-RAN interfaces allow use of TLS or SSH. Industry best practices mandate the use of TLS (v1.2 or higher) or SSH certificate-based authentication. An implementation that implements TLS version lower than 1.2 or a SSH password authentication, may become the key source of vulnerability that a malicious code will exploit to compromise the O-RAN system.   \n",
       "5                                                                                                                                                                                                       A Threat with the title An attacker exploits insufficient/improper mechanisms for authentication and authorization to compromise O-RAN components and the description O-RAN management and orchestration should not be used without appropriate authentication and authorization and authorization checks. \\nO-RAN components might be vulnerable if: \\n• Unauthenticated access to O-RAN functions,\\n• Improper authentication mechanisms,\\n• Use of Predefined/ default accounts,\\n• Weak or missing password policy,\\n• Lack of mutual authentication to O-RAN components and interfaces,\\n• Failure to block consecutive failed login attempts,\\n• Improper authorization and access control policy.\\nAn attacker could, in such case, either inject malwares and/or manipulate existing software, harm the O-RAN components, create a performance issue by manipulation of parameters, or reconfigure the O-RAN components and disable the security features with the purpose of eavesdropping or wiretapping on various CUS & M planes, reaching northbound systems, attack broader network to cause denial-of-service, steal unprotected private keys, certificates, hash values, or other type of breaches.   \n",
       "\n",
       "                                                                                                                                                                                                                                                                                                                                                                                                                                                                                                                                     summary_ca_df  \n",
       "0  A CAPEC with the title Forceful Browsing. The description of this CAPEC is: An attacker employs forceful browsing (direct URL entry) to access portions of a website that are otherwise unreachable. Usually, a front controller or similar design pattern is employed to protect access to portions of a web application. Forceful browsing enables an attacker to access information, perform privileged operations and otherwise reach sections of the web application that have been improperly protected.. The Domain of this is: Software  \n",
       "1  A CAPEC with the title Forceful Browsing. The description of this CAPEC is: An attacker employs forceful browsing (direct URL entry) to access portions of a website that are otherwise unreachable. Usually, a front controller or similar design pattern is employed to protect access to portions of a web application. Forceful browsing enables an attacker to access information, perform privileged operations and otherwise reach sections of the web application that have been improperly protected.. The Domain of this is: Software  \n",
       "2  A CAPEC with the title Forceful Browsing. The description of this CAPEC is: An attacker employs forceful browsing (direct URL entry) to access portions of a website that are otherwise unreachable. Usually, a front controller or similar design pattern is employed to protect access to portions of a web application. Forceful browsing enables an attacker to access information, perform privileged operations and otherwise reach sections of the web application that have been improperly protected.. The Domain of this is: Software  \n",
       "3  A CAPEC with the title Forceful Browsing. The description of this CAPEC is: An attacker employs forceful browsing (direct URL entry) to access portions of a website that are otherwise unreachable. Usually, a front controller or similar design pattern is employed to protect access to portions of a web application. Forceful browsing enables an attacker to access information, perform privileged operations and otherwise reach sections of the web application that have been improperly protected.. The Domain of this is: Software  \n",
       "4  A CAPEC with the title Forceful Browsing. The description of this CAPEC is: An attacker employs forceful browsing (direct URL entry) to access portions of a website that are otherwise unreachable. Usually, a front controller or similar design pattern is employed to protect access to portions of a web application. Forceful browsing enables an attacker to access information, perform privileged operations and otherwise reach sections of the web application that have been improperly protected.. The Domain of this is: Software  \n",
       "5  A CAPEC with the title Forceful Browsing. The description of this CAPEC is: An attacker employs forceful browsing (direct URL entry) to access portions of a website that are otherwise unreachable. Usually, a front controller or similar design pattern is employed to protect access to portions of a web application. Forceful browsing enables an attacker to access information, perform privileged operations and otherwise reach sections of the web application that have been improperly protected.. The Domain of this is: Software  "
      ]
     },
     "execution_count": 68,
     "metadata": {},
     "output_type": "execute_result"
    }
   ],
   "source": [
    "threat2capec_mapping_df.loc[0:5]"
   ]
  },
  {
   "cell_type": "code",
   "execution_count": 69,
   "id": "b057f01e",
   "metadata": {},
   "outputs": [
    {
     "name": "stdout",
     "output_type": "stream",
     "text": [
      "Top CAPEC for Each Threat:\n",
      "\n",
      "Threat: T-A1-01\n",
      "  - CAPEC ID: CAPEC-94, Similarity: 0.5257, Description: Untrusted peering between Non-RT-RIC and Near-RT-RIC\n",
      "\n",
      "Threat: T-A1-02\n",
      "  - CAPEC ID: CAPEC-387, Similarity: 0.6062, Description: Malicious function or application monitors messaging across A1 interface\n",
      "\n",
      "Threat: T-A1-03\n",
      "  - CAPEC ID: CAPEC-387, Similarity: 0.5743, Description: Malicious function or application modifies messaging across A1 interface\n",
      "\n",
      "Threat: T-AAL-01\n",
      "  - CAPEC ID: CAPEC-440, Similarity: 0.5106, Description: Attacker exploits insecure API to gain access to hardware accelerator resources\n",
      "\n",
      "Threat: T-AAL-02\n",
      "  - CAPEC ID: CAPEC-469, Similarity: 0.4672, Description: Internal Overload DoS attack targeting AAL services\n",
      "\n",
      "Threat: T-AAL-03\n",
      "  - CAPEC ID: CAPEC-663, Similarity: 0.4982, Description: Fail to clear resources\n",
      "\n",
      "Threat: T-AAL-04\n",
      "  - CAPEC ID: CAPEC-401, Similarity: 0.5316, Description: HAM compromise\n",
      "\n",
      "Threat: T-AAL-05\n",
      "  - CAPEC ID: CAPEC-456, Similarity: 0.5835, Description: Malicious memory accesses\n",
      "\n",
      "Threat: T-AAL-06\n",
      "  - CAPEC ID: CAPEC-638, Similarity: 0.6034, Description: Firmware attacks\n",
      "\n",
      "Threat: T-ADMIN-01\n",
      "  - CAPEC ID: CAPEC-125, Similarity: 0.4459, Description: Denial of service against NFO/FOCOM\n",
      "\n",
      "Threat: T-ADMIN-02\n",
      "  - CAPEC ID: CAPEC-122, Similarity: 0.5252, Description: Abuse a O-Cloud administration service\n",
      "\n",
      "Threat: T-AppLCM-01\n",
      "  - CAPEC ID: CAPEC-669, Similarity: 0.6202, Description: Compromise of App/VNF/CNF update package integrity during onboarding\n",
      "\n",
      "Threat: T-AppLCM-02\n",
      "  - CAPEC ID: CAPEC-23, Similarity: 0.5726, Description: Compromise of App/VNF/CNF update image integrity during instantiation\n",
      "\n",
      "Threat: T-AppLCM-03\n",
      "  - CAPEC ID: CAPEC-187, Similarity: 0.4592, Description: Downgrade attack to vulnerable application version\n",
      "\n",
      "Threat: T-AppLCM-04\n",
      "  - CAPEC ID: CAPEC-180, Similarity: 0.5344, Description: Attacker exploits missing or improperly defined elements of application’s SecurityDescriptor\n",
      "\n",
      "Threat: T-AppLCM-05\n",
      "  - CAPEC ID: CAPEC-502, Similarity: 0.5422, Description: Malicious actor modifies application’s SecurityDescriptor\n",
      "\n",
      "Threat: T-AppLCM-06\n",
      "  - CAPEC ID: CAPEC-271, Similarity: 0.5195, Description: Improper decommissioning of application \n",
      "\n",
      "Threat: T-AppLCM-07\n",
      "  - CAPEC ID: CAPEC-546, Similarity: 0.6256, Description: Improper deletion of application sensitive data\n",
      "\n",
      "Threat: T-CPLANE-01\n",
      "  - CAPEC ID: CAPEC-473, Similarity: 0.5426, Description: Spoofing of DL C-plane messages\n",
      "\n",
      "Threat: T-CPLANE-02\n",
      "  - CAPEC ID: CAPEC-473, Similarity: 0.5234, Description: Spoofing of UL C-plane messages\n",
      "\n",
      "Threat: T-E2-01\n",
      "  - CAPEC ID: CAPEC-94, Similarity: 0.5228, Description: Untrusted Near-RT-RIC and E2 Nodes\n",
      "\n",
      "Threat: T-E2-02\n",
      "  - CAPEC ID: CAPEC-12, Similarity: 0.5341, Description: Malicious actor monitors messaging across E2 interface\n",
      "\n",
      "Threat: T-E3-03\n",
      "  - CAPEC ID: CAPEC-94, Similarity: 0.5129, Description: Malicious actor modifies messaging across E2 interface\n",
      "\n",
      "Threat: T-FRHAUL-01\n",
      "  - CAPEC ID: CAPEC-700, Similarity: 0.4717, Description: An attacker penetrates O-DU and beyond through O-RU or the Fronthaul interface\n",
      "\n",
      "Threat: T-FRHAUL-02\n",
      "  - CAPEC ID: CAPEC-700, Similarity: 0.4548, Description: Unauthorized access to Open Front Haul Ethernet L1 physical layer interface(s)\n",
      "\n",
      "Threat: T-GEN-01\n",
      "  - CAPEC ID: CAPEC-480, Similarity: 0.5447, Description: Software flaw attack\n",
      "\n",
      "Threat: T-GEN-02\n",
      "  - CAPEC ID: CAPEC-510, Similarity: 0.5971, Description: Malicious access to exposed services using valid accounts\n",
      "\n",
      "Threat: T-GEN-03\n",
      "  - CAPEC ID: CAPEC-480, Similarity: 0.4441, Description: Untrust binding between the different O-Cloud layers\n",
      "\n",
      "Threat: T-GEN-04\n",
      "  - CAPEC ID: CAPEC-115, Similarity: 0.4424, Description: Lack of Authentication & Authorization in interfaces between O-Cloud components\n",
      "\n",
      "Threat: T-GEN-05\n",
      "  - CAPEC ID: CAPEC-568, Similarity: 0.5236, Description: Unsecured credentials and keys\n",
      "\n",
      "Threat: T-HW-01\n",
      "  - CAPEC ID: CAPEC-480, Similarity: 0.4617, Description: Cross VM/Container side channel attacks\n",
      "\n",
      "Threat: T-HW-02\n",
      "  - CAPEC ID: CAPEC-480, Similarity: 0.5688, Description: MitM attacks on the interface between virtualization layer and hardware\n",
      "\n",
      "Threat: T-IMG-01\n",
      "  - CAPEC ID: CAPEC-480, Similarity: 0.5751, Description: VM/Container images tampering\n",
      "\n",
      "Threat: T-IMG-02\n",
      "  - CAPEC ID: CAPEC-533, Similarity: 0.4852, Description: Insecure channels with images repository\n",
      "\n",
      "Threat: T-IMG-03\n",
      "  - CAPEC ID: CAPEC-480, Similarity: 0.4551, Description: Secrets disclosure in VM/Container images\n",
      "\n",
      "Threat: T-IMG-04\n",
      "  - CAPEC ID: CAPEC-480, Similarity: 0.4095, Description: Build image on VL\n",
      "\n",
      "Threat: T-ML-01\n",
      "  - CAPEC ID: CAPEC-146, Similarity: 0.5150, Description: Poisoning the ML training data (Data poisoning attacks)\n",
      "\n",
      "Threat: T-ML-02\n",
      "  - CAPEC ID: CAPEC-153, Similarity: 0.5018, Description: Altering a machine learning model (System manipulation and compromise of ML data confidentiality ...\n",
      "\n",
      "Threat: T-ML-03\n",
      "  - CAPEC ID: CAPEC-240, Similarity: 0.4164, Description: Transfer learning attack\n",
      "\n",
      "Threat: T-MPLANE-01\n",
      "  - CAPEC ID: CAPEC-622, Similarity: 0.5092, Description: An attacker attempts to intercept the Fronthaul (MITM) over M Plane\n",
      "\n",
      "Threat: T-NEAR-RT-01\n",
      "  - CAPEC ID: CAPEC-388, Similarity: 0.4785, Description: Malicious Apps can exploit UE identification, track UE location and change UE priority\n",
      "\n",
      "Threat: T-NEAR-RT-02\n",
      "  - CAPEC ID: CAPEC-523, Similarity: 0.4649, Description: Risk of deployment of a malicious xApp on Near-RT RIC\n",
      "\n",
      "Threat: T-NEAR-RT-03\n",
      "  - CAPEC ID: CAPEC-388, Similarity: 0.5190, Description: Attackers exploit non authenticated, weakly or incorrectly authenticated Near-RT RIC APIs\n",
      "\n",
      "Threat: T-NEAR-RT-04\n",
      "  - CAPEC ID: CAPEC-388, Similarity: 0.5553, Description: Attackers exploit non authorized Near-RT RIC APIs to access to resources and services which they ...\n",
      "\n",
      "Threat: T-NEAR-RT-05\n",
      "  - CAPEC ID: CAPEC-21, Similarity: 0.5439, Description: Attackers exploit non uniquely identified xApps using a trusted xAppID to access to resources and...\n",
      "\n",
      "Threat: T-NONRTRIC-01\n",
      "  - CAPEC ID: CAPEC-180, Similarity: 0.5514, Description: An attacker gains access to the Non-RT RIC through the SMO to cause a denial of service or degrad...\n",
      "\n",
      "Threat: T-NONRTRIC-02\n",
      "  - CAPEC ID: CAPEC-407, Similarity: 0.4842, Description: An attacker gains access to the Non-RT RIC through the SMO for UE tracking\n",
      "\n",
      "Threat: T-NONRTRIC-03\n",
      "  - CAPEC ID: CAPEC-407, Similarity: 0.5263, Description: An attacker gains access to the Non-RT RIC through the SMO to cause Data Corruption/Modification\n",
      "\n",
      "Threat: T-NONRTRIC-04\n",
      "  - CAPEC ID: CAPEC-665, Similarity: 0.4911, Description: An attacker exploits non uniquely identified rApp instances using a trusted rAppID to access R1 s...\n",
      "\n",
      "Threat: T-O-CLOUD-ID-01\n",
      "  - CAPEC ID: CAPEC-546, Similarity: 0.4272, Description: ID reuse in O-Cloud's object lifecycle\n",
      "\n",
      "Threat: T-O-CLOUD-ID-02\n",
      "  - CAPEC ID: CAPEC-534, Similarity: 0.3946, Description: Node redundancy in O-Cloud deployments\n",
      "\n",
      "Threat: T-O-CLOUD-ID-03\n",
      "  - CAPEC ID: CAPEC-318, Similarity: 0.4499, Description: O-Cloud ID mismanagement\n",
      "\n",
      "Threat: T-O-RAN-01\n",
      "  - CAPEC ID: CAPEC-401, Similarity: 0.5147, Description: An attacker exploits insecure designs or lack of adaption in O-RAN components\n",
      "\n",
      "Threat: T-O-RAN-02\n",
      "  - CAPEC ID: CAPEC-401, Similarity: 0.5298, Description: An attacker exploits misconfigured or poorly configured O-RAN components\n",
      "\n",
      "Threat: T-O-RAN-03\n",
      "  - CAPEC ID: CAPEC-482, Similarity: 0.5126, Description: Attacks from the internet to penetrate O-RAN network boundary\n",
      "\n",
      "Threat: T-O-RAN-04\n",
      "  - CAPEC ID: CAPEC-604, Similarity: 0.5516, Description: An attacker attempts to jam the airlink signal through IoT devices\n",
      "\n",
      "Threat: T-O-RAN-05\n",
      "  - CAPEC ID: CAPEC-88, Similarity: 0.5098, Description: An attacker penetrates and compromises the O-RAN system through the open O-RAN’s Fronthaul, O1, O...\n",
      "\n",
      "Threat: T-O-RAN-06\n",
      "  - CAPEC ID: CAPEC-114, Similarity: 0.5888, Description: An attacker exploits insufficient/improper mechanisms for authentication and authorization to com...\n",
      "\n",
      "Threat: T-O-RAN-07\n",
      "  - CAPEC ID: CAPEC-268, Similarity: 0.6590, Description: An attacker compromises O-RAN monitoring mechanisms and log files integrity and availability\n",
      "\n",
      "Threat: T-O-RAN-08\n",
      "  - CAPEC ID: CAPEC-470, Similarity: 0.5037, Description: An attacker compromises O-RAN data integrity, confidentiality and traceability\n",
      "\n",
      "Threat: T-O-RAN-09\n",
      "  - CAPEC ID: CAPEC-440, Similarity: 0.5609, Description: An attacker compromises O-RAN components integrity and availability\n",
      "\n",
      "Threat: T-O2-01\n",
      "  - CAPEC ID: CAPEC-480, Similarity: 0.4591, Description: MitM attacks on O2 interface between O-Cloud and SMO\n",
      "\n",
      "Threat: T-OCAPI-01\n",
      "  - CAPEC ID: CAPEC-480, Similarity: 0.5098, Description: MitM attacks on O-Cloud interface between VNFs/CNFs and the virtualization layer\n",
      "\n",
      "Threat: T-OPENSRC-01\n",
      "  - CAPEC ID: CAPEC-538, Similarity: 0.6603, Description: Developers use SW components with known vulnerabilities and untrusted libraries that can be explo...\n",
      "\n",
      "Threat: T-OPENSRC-02\n",
      "  - CAPEC ID: CAPEC-538, Similarity: 0.6342, Description: A trusted developer intentionally inserts a backdoor into an open source code O-RAN component\n",
      "\n",
      "Threat: T-ORU-01\n",
      "  - CAPEC ID: CAPEC-617, Similarity: 0.5935, Description: An attacker stands up a false base station attack by attacking an O-RU\n",
      "\n",
      "Threat: T-PHYS-01\n",
      "  - CAPEC ID: CAPEC-401, Similarity: 0.5466, Description: An intruder into a site gains physical access to O-RAN components to cause damage or access sensi...\n",
      "\n",
      "Threat: T-PHYS-02\n",
      "  - CAPEC ID: CAPEC-161, Similarity: 0.4522, Description: An intruder into the exchange over the Fronthaul cable network attempts to gain electronic access...\n",
      "\n",
      "Threat: T-PNF-01\n",
      "  - CAPEC ID: CAPEC-594, Similarity: 0.4553, Description: An attacker compromises a PNF to launch reverse attacks and other attacks against VNFs/CNFs\n",
      "\n",
      "Threat: T-R1-01\n",
      "  - CAPEC ID: CAPEC-502, Similarity: 0.5132, Description: A malicious actor gains unauthorized access to R1 services\n",
      "\n",
      "Threat: T-R1-02\n",
      "  - CAPEC ID: CAPEC-594, Similarity: 0.5388, Description: Attacker modifies Service Heartbeat message to cause Denial of Service\n",
      "\n",
      "Threat: T-R1-03\n",
      "  - CAPEC ID: CAPEC-114, Similarity: 0.5586, Description: Malicious actor bypasses authentication to Request Data \n",
      "\n",
      "Threat: T-R1-04\n",
      "  - CAPEC ID: CAPEC-502, Similarity: 0.5448, Description: Malicious actor bypasses authorization to Discover Data \n",
      "\n",
      "Threat: T-R1-05\n",
      "  - CAPEC ID: CAPEC-173, Similarity: 0.6158, Description: A malicious actor gains unauthorized access to data\n",
      "\n",
      "Threat: T-R1-06\n",
      "  - CAPEC ID: CAPEC-389, Similarity: 0.5313, Description: Malicious actor modifies a Data Request\n",
      "\n",
      "Threat: T-R1-07\n",
      "  - CAPEC ID: CAPEC-389, Similarity: 0.5265, Description: Malicious actor compromises Data Delivery to the Data Consumer\n",
      "\n",
      "Threat: T-RADIO-01\n",
      "  - CAPEC ID: CAPEC-605, Similarity: 0.6525, Description: Disruption through radio jamming, sniffing and spoofing\n",
      "\n",
      "Threat: T-RADIO-02\n",
      "  - CAPEC ID: CAPEC-601, Similarity: 0.5614, Description: DoS attacks on cognitive radio networks\n",
      "\n",
      "Threat: T-SMO-01\n",
      "  - CAPEC ID: CAPEC-114, Similarity: 0.5539, Description: External attacker exploits authentication weakness on SMO\n",
      "\n",
      "Threat: T-SMO-02\n",
      "  - CAPEC ID: CAPEC-180, Similarity: 0.4922, Description: External attacker exploits authentication weakness on SMO\n",
      "\n",
      "Threat: T-SMO-03\n",
      "  - CAPEC ID: CAPEC-469, Similarity: 0.5256, Description: External Overload DoS attack targeted at SMO\n",
      "\n",
      "Threat: T-SMO-04\n",
      "  - CAPEC ID: CAPEC-114, Similarity: 0.5261, Description: Internal attacker exploits authentication weakness on a SMO function\n",
      "\n",
      "Threat: T-SMO-05\n",
      "  - CAPEC ID: CAPEC-180, Similarity: 0.4998, Description: Internal attacker exploits authorization weakness on a SMO function\n",
      "\n",
      "Threat: T-SMO-06\n",
      "  - CAPEC ID: CAPEC-100, Similarity: 0.5260, Description: Internal Overload DoS attack targeted at SMO functions\n",
      "\n",
      "Threat: T-SMO-07\n",
      "  - CAPEC ID: CAPEC-456, Similarity: 0.4968, Description: Internal DoS attack disables internal SMO function(s) or process(es)\n",
      "\n",
      "Threat: T-SMO-08\n",
      "  - CAPEC ID: CAPEC-114, Similarity: 0.5983, Description: Attacker exploits insecure API to gain access to SMO\n",
      "\n",
      "Threat: T-SMO-09\n",
      "  - CAPEC ID: CAPEC-387, Similarity: 0.5477, Description: Sensitive data in transit is exposed to an internal attacker\n",
      "\n",
      "Threat: T-SMO-10\n",
      "  - CAPEC ID: CAPEC-122, Similarity: 0.5191, Description: Sensitive data at rest is exposed to an internal attacker\n",
      "\n",
      "Threat: T-SMO-11\n",
      "  - CAPEC ID: CAPEC-456, Similarity: 0.4936, Description: AI/ML poisoning by internal attacker\n",
      "\n",
      "Threat: T-SMO-12\n",
      "  - CAPEC ID: CAPEC-221, Similarity: 0.5208, Description: AI/ML exposure on external entity\n",
      "\n",
      "Threat: T-SMO-13\n",
      "  - CAPEC ID: CAPEC-268, Similarity: 0.6201, Description: Malicious actor views local logs\n",
      "\n",
      "Threat: T-SMO-14\n",
      "  - CAPEC ID: CAPEC-268, Similarity: 0.5824, Description: Malicious actor modifies local log entries\n",
      "\n",
      "Threat: T-SMO-15\n",
      "  - CAPEC ID: CAPEC-268, Similarity: 0.5802, Description: Malicious actor deletes local logs\n",
      "\n",
      "Threat: T-SMO-16\n",
      "  - CAPEC ID: CAPEC-268, Similarity: 0.5848, Description: Malicious actor intercepts exports of local logs\n",
      "\n",
      "Threat: T-SMO-17\n",
      "  - CAPEC ID: CAPEC-268, Similarity: 0.6281, Description: Malicious external actor gains unauthorized access to logs\n",
      "\n",
      "Threat: T-SMO-18\n",
      "  - CAPEC ID: CAPEC-268, Similarity: 0.6103, Description: Malicious internal actor gains authorized access to logs\n",
      "\n",
      "Threat: T-SMO-19\n",
      "  - CAPEC ID: CAPEC-157, Similarity: 0.4886, Description: Internal attacker exploits O2 interface to view data in transit between SMO and O-Cloud\n",
      "\n",
      "Threat: T-SMO-20\n",
      "  - CAPEC ID: CAPEC-470, Similarity: 0.4895, Description: Internal attacker exploits O2 interface to modify data in transit between SMO and O-Cloud\n",
      "\n",
      "Threat: T-SMO-21\n",
      "  - CAPEC ID: CAPEC-113, Similarity: 0.5166, Description: Internal attacker uses O2 interface via SMO to exploit API vulnerability to gain access to O-Clou...\n",
      "\n",
      "Threat: T-SMO-22\n",
      "  - CAPEC ID: CAPEC-482, Similarity: 0.5495, Description: Internal attacker floods O2 interface via SMO to cause DDoS on O-Cloud infrastructure\n",
      "\n",
      "Threat: T-SMO-23\n",
      "  - CAPEC ID: CAPEC-113, Similarity: 0.4981, Description: External attacker uses O2 interface via O-Cloud to exploit API vulnerability to gain access to SMO\n",
      "\n",
      "Threat: T-SMO-24\n",
      "  - CAPEC ID: CAPEC-125, Similarity: 0.5450, Description: External attacker floods O2 interface via O-Cloud to cause DDoS on SMO\n",
      "\n",
      "Threat: T-SMO-25\n",
      "  - CAPEC ID: CAPEC-58, Similarity: 0.4833, Description: External attacker uses O2 interface via O-Cloud to gain authorized access to sensitive data-at-re...\n",
      "\n",
      "Threat: T-SMO-26\n",
      "  - CAPEC ID: CAPEC-161, Similarity: 0.5123, Description: External attacker exploits External interface to view data in transit between SMO and external se...\n",
      "\n",
      "Threat: T-SMO-27\n",
      "  - CAPEC ID: CAPEC-113, Similarity: 0.5472, Description: External attacker exploits External interface to modify data in transit between SMO and external ...\n",
      "\n",
      "Threat: T-SMO-28\n",
      "  - CAPEC ID: CAPEC-113, Similarity: 0.5624, Description: External attacker uses External interface to exploit API vulnerability to gain access to SMO\n",
      "\n",
      "Threat: T-SMO-29\n",
      "  - CAPEC ID: CAPEC-482, Similarity: 0.5854, Description: External attacker floods External interface to cause DDoS at SMO\n",
      "\n",
      "Threat: T-SMO-30\n",
      "  - CAPEC ID: CAPEC-113, Similarity: 0.4866, Description: External attacker uses External interface to gain access to sensitive data-at-rest at the SMO\n",
      "\n",
      "Threat: T-SMO-31\n",
      "  - CAPEC ID: CAPEC-201, Similarity: 0.5080, Description: External attacker poisons External AI/ML data to corrupt SMO\n",
      "\n",
      "Threat: T-SMO-32\n",
      "  - CAPEC ID: CAPEC-201, Similarity: 0.5179, Description: External attacker poisons External Enrichment Information data sources to corrupt SMO\n",
      "\n",
      "Threat: T-SPLANE-01\n",
      "  - CAPEC ID: CAPEC-469, Similarity: 0.5197, Description: DoS attack against a Master clock\n",
      "\n",
      "Threat: T-SPLANE-02\n",
      "  - CAPEC ID: CAPEC-195, Similarity: 0.5317, Description: Impersonation of a Master clock (Spoofing) within a PTP network with a fake ANNOUNCE message\n",
      "\n",
      "Threat: T-SPLANE-03\n",
      "  - CAPEC ID: CAPEC-482, Similarity: 0.4730, Description: A Rogue PTP Instance wanting to be a Grand Master\n",
      "\n",
      "Threat: T-SPLANE-04\n",
      "  - CAPEC ID: CAPEC-621, Similarity: 0.5220, Description: Selective interception and removal of PTP timing packets\n",
      "\n",
      "Threat: T-SPLANE-05\n",
      "  - CAPEC ID: CAPEC-621, Similarity: 0.5786, Description: Packet delay manipulation attack\n",
      "\n",
      "Threat: T-SharedORU-01\n",
      "  - CAPEC ID: CAPEC-480, Similarity: 0.4394, Description: O-DU Tenant accesses O-DU Host\n",
      "\n",
      "Threat: T-SharedORU-02\n",
      "  - CAPEC ID: CAPEC-480, Similarity: 0.4435, Description: O-DU Host accesses O-DU Tenant\n",
      "\n",
      "Threat: T-SharedORU-03\n",
      "  - CAPEC ID: CAPEC-546, Similarity: 0.4346, Description: O-DU Tenant accesses O-DU Tenant\n",
      "\n",
      "Threat: T-SharedORU-04\n",
      "  - CAPEC ID: CAPEC-114, Similarity: 0.4856, Description: Password Attack on OFH M-Plane\n",
      "\n",
      "Threat: T-SharedORU-05\n",
      "  - CAPEC ID: CAPEC-593, Similarity: 0.5545, Description: Untrusted peering to O-DU\n",
      "\n",
      "Threat: T-SharedORU-06\n",
      "  - CAPEC ID: CAPEC-593, Similarity: 0.5959, Description: Untrusted peering to the Shared O-RU\n",
      "\n",
      "Threat: T-SharedORU-07\n",
      "  - CAPEC ID: CAPEC-593, Similarity: 0.6315, Description: Untrusted peering to the SMO\n",
      "\n",
      "Threat: T-SharedORU-08\n",
      "  - CAPEC ID: CAPEC-439, Similarity: 0.4633, Description: SMO Tenant accesses SMO Host\n",
      "\n",
      "Threat: T-SharedORU-09\n",
      "  - CAPEC ID: CAPEC-480, Similarity: 0.4625, Description: SMO Host accesses SMO Tenant\n",
      "\n",
      "Threat: T-SharedORU-10\n",
      "  - CAPEC ID: CAPEC-480, Similarity: 0.4606, Description: O-DU Host accesses O-CU Tenant\n",
      "\n",
      "Threat: T-SharedORU-11\n",
      "  - CAPEC ID: CAPEC-480, Similarity: 0.4542, Description: O-DU Tenant accesses O-CU Host\n",
      "\n",
      "Threat: T-SharedORU-12\n",
      "  - CAPEC ID: CAPEC-505, Similarity: 0.4506, Description: O-DU Tenant accesses O-CU Tenant\n",
      "\n",
      "Threat: T-SharedORU-13\n",
      "  - CAPEC ID: CAPEC-439, Similarity: 0.4836, Description: SMO Host accesses O-CU Tenant\n",
      "\n",
      "Threat: T-SharedORU-14\n",
      "  - CAPEC ID: CAPEC-439, Similarity: 0.4793, Description: SMO Tenant accesses O-CU Host\n",
      "\n",
      "Threat: T-SharedORU-15\n",
      "  - CAPEC ID: CAPEC-300, Similarity: 0.5006, Description: Physical port access to Shared O-RU Host/Tenant\n",
      "\n",
      "Threat: T-SharedORU-16\n",
      "  - CAPEC ID: CAPEC-300, Similarity: 0.5179, Description: Physical port access to O-DU Host/Tenant\n",
      "\n",
      "Threat: T-SharedORU-17\n",
      "  - CAPEC ID: CAPEC-401, Similarity: 0.5455, Description: Physical port access to O-CU Host/Tenant\n",
      "\n",
      "Threat: T-SharedORU-18\n",
      "  - CAPEC ID: CAPEC-114, Similarity: 0.5729, Description: Malicious User Login Attempt to SMO Host/Tenant\n",
      "\n",
      "Threat: T-SharedORU-19\n",
      "  - CAPEC ID: CAPEC-114, Similarity: 0.6015, Description: Malicious User Login Attempt to O-CU Host/Tenant\n",
      "\n",
      "Threat: T-SharedORU-20\n",
      "  - CAPEC ID: CAPEC-114, Similarity: 0.5495, Description: Malicious User Login Attempt to O-DU Host/Tenant\n",
      "\n",
      "Threat: T-SharedORU-21\n",
      "  - CAPEC ID: CAPEC-114, Similarity: 0.5420, Description: Malicious User Login Attempt to Shared O-RU Host/Tenant\n",
      "\n",
      "Threat: T-SharedORU-22\n",
      "  - CAPEC ID: CAPEC-529, Similarity: 0.5136, Description: Unauthorized internal threat actor gains access to data in Shared O-RU\n",
      "\n",
      "Threat: T-SharedORU-23\n",
      "  - CAPEC ID: CAPEC-273, Similarity: 0.5008, Description: Unauthorized external threat actor gains access to data in Shared O-RU\n",
      "\n",
      "Threat: T-SharedORU-24\n",
      "  - CAPEC ID: CAPEC-221, Similarity: 0.5067, Description: Data exposure at Shared O-RU\n",
      "\n",
      "Threat: T-SharedORU-25\n",
      "  - CAPEC ID: CAPEC-57, Similarity: 0.4847, Description: Shared O-RU data exposure at SMO\n",
      "\n",
      "Threat: T-SharedORU-26\n",
      "  - CAPEC ID: CAPEC-546, Similarity: 0.4893, Description: Shared O-RU data exposure at O-DU\n",
      "\n",
      "Threat: T-SharedORU-27\n",
      "  - CAPEC ID: CAPEC-277, Similarity: 0.4869, Description: Exposed data in transit between Shared O-RU and O-DU Host/Tenant\n",
      "\n",
      "Threat: T-SharedORU-28\n",
      "  - CAPEC ID: CAPEC-277, Similarity: 0.4848, Description: Exposed data in transit between Shared O-RU and SMO Host/Tenant\n",
      "\n",
      "Threat: T-SharedORU-29\n",
      "  - CAPEC ID: CAPEC-12, Similarity: 0.5698, Description: Modify/Delete OFH C-Plane messages\n",
      "\n",
      "Threat: T-SharedORU-30\n",
      "  - CAPEC ID: CAPEC-593, Similarity: 0.4433, Description: Clock hijacking on OFH S-Plane\n",
      "\n",
      "Threat: T-SharedORU-31\n",
      "  - CAPEC ID: CAPEC-10, Similarity: 0.4212, Description: Parameter conflicts at Shared O-RU\n",
      "\n",
      "Threat: T-SharedORU-32\n",
      "  - CAPEC ID: CAPEC-594, Similarity: 0.4762, Description: Volumetric DDoS attack from O-DU targeting Shared O-RU\n",
      "\n",
      "Threat: T-SharedORU-33\n",
      "  - CAPEC ID: CAPEC-594, Similarity: 0.5016, Description: Volumetric DDoS attack from SMO targeting Shared O-RU\n",
      "\n",
      "Threat: T-SharedORU-34\n",
      "  - CAPEC ID: CAPEC-594, Similarity: 0.5070, Description: Volumetric DDoS attack targeting O-DU\n",
      "\n",
      "Threat: T-SharedORU-35\n",
      "  - CAPEC ID: CAPEC-697, Similarity: 0.5877, Description: Shared O-RU initialization hijacking by DHCP compromise\n",
      "\n",
      "Threat: T-SharedORU-36\n",
      "  - CAPEC ID: CAPEC-598, Similarity: 0.6173, Description: Shared O-RU M-plane hijacking by DNS compromise\n",
      "\n",
      "Threat: T-SharedORU-37\n",
      "  - CAPEC ID: CAPEC-180, Similarity: 0.5034, Description: Misconfiguration of MNO Host Role\n",
      "\n",
      "Threat: T-SharedORU-38\n",
      "  - CAPEC ID: CAPEC-216, Similarity: 0.4954, Description: Incorrect Assignment of Spectrum Resources\n",
      "\n",
      "Threat: T-SharedORU-39\n",
      "  - CAPEC ID: CAPEC-22, Similarity: 0.5086, Description: Chain of Trust in a Multi-Tenant Environment\n",
      "\n",
      "Threat: T-SharedORU-40\n",
      "  - CAPEC ID: CAPEC-122, Similarity: 0.5345, Description: Hijack of MNO Host Role\n",
      "\n",
      "Threat: T-SharedORU-41\n",
      "  - CAPEC ID: CAPEC-414, Similarity: 0.4768, Description: Not Released Host Role (Host Role resume)\n",
      "\n",
      "Threat: T-SharedORU-42\n",
      "  - CAPEC ID: CAPEC-122, Similarity: 0.5479, Description: Misuse of “sudo” privileges\n",
      "\n",
      "Threat: T-SharedORU-43\n",
      "  - CAPEC ID: CAPEC-180, Similarity: 0.5368, Description: Eavesdropping of unprotected CUSM-plane data within shared O-RU\n",
      "\n",
      "Threat: T-UPLANE-01\n",
      "  - CAPEC ID: CAPEC-622, Similarity: 0.5117, Description: An attacker attempts to intercept the Fronthaul (MITM) over U Plane\n",
      "\n",
      "Threat: T-VL-01\n",
      "  - CAPEC ID: CAPEC-480, Similarity: 0.5370, Description: VM/Container hyperjacking attack\n",
      "\n",
      "Threat: T-VL-02\n",
      "  - CAPEC ID: CAPEC-480, Similarity: 0.4448, Description: Boot tampering\n",
      "\n",
      "Threat: T-VL-03\n",
      "  - CAPEC ID: CAPEC-125, Similarity: 0.4601, Description: Attack internal network services\n",
      "\n",
      "Threat: T-VM-C-01\n",
      "  - CAPEC ID: CAPEC-480, Similarity: 0.6078, Description: Abuse of a privileged VM/Container\n",
      "\n",
      "Threat: T-VM-C-02\n",
      "  - CAPEC ID: CAPEC-480, Similarity: 0.5509, Description: VM/Container escape attack\n",
      "\n",
      "Threat: T-VM-C-03\n",
      "  - CAPEC ID: CAPEC-480, Similarity: 0.4775, Description: VM/Container data theft\n",
      "\n",
      "Threat: T-VM-C-04\n",
      "  - CAPEC ID: CAPEC-480, Similarity: 0.4469, Description: VM/Container migration attacks\n",
      "\n",
      "Threat: T-VM-C-05\n",
      "  - CAPEC ID: CAPEC-480, Similarity: 0.4913, Description: Changing virtualization resource without authorization\n",
      "\n",
      "Threat: T-VM-C-06\n",
      "  - CAPEC ID: CAPEC-548, Similarity: 0.5285, Description: Failed or incomplete VNF/CNF termination or releasing of resources\n",
      "\n",
      "Threat: T-Y1-01\n",
      "  - CAPEC ID: CAPEC-22, Similarity: 0.5028, Description: Untrusted Near-RT-RIC and Y1 consumers\n",
      "\n",
      "Threat: T-Y1-02\n",
      "  - CAPEC ID: CAPEC-12, Similarity: 0.5458, Description: Malicious actor monitors messaging across Y1 interface\n",
      "\n",
      "Threat: T-Y1-03\n",
      "  - CAPEC ID: CAPEC-12, Similarity: 0.5155, Description: Malicious actor modifies messaging across Y1 interface\n",
      "\n",
      "Threat: T-rAPP-01\n",
      "  - CAPEC ID: CAPEC-26, Similarity: 0.4659, Description: Conflicting rApps impact O-RAN system functions to degrade performance or trigger a DoS\n",
      "\n",
      "Threat: T-rAPP-02\n",
      "  - CAPEC ID: CAPEC-482, Similarity: 0.5574, Description: An attacker exploits rApp vulnerability for data breach or denial of service\n",
      "\n",
      "Threat: T-rAPP-03\n",
      "  - CAPEC ID: CAPEC-482, Similarity: 0.5534, Description: An attacker exploits rApps misconfiguration\n",
      "\n",
      "Threat: T-rAPP-04\n",
      "  - CAPEC ID: CAPEC-114, Similarity: 0.6207, Description: An attacker bypasses authentication and authorization\n",
      "\n",
      "Threat: T-rAPP-05\n",
      "  - CAPEC ID: CAPEC-523, Similarity: 0.5033, Description: An attacker deploys and exploits malicious rApp\n",
      "\n",
      "Threat: T-rAPP-06\n",
      "  - CAPEC ID: CAPEC-114, Similarity: 0.6362, Description: An attacker bypasses authentication and authorization using an injection attack\n",
      "\n",
      "Threat: T-rAPP-07\n",
      "  - CAPEC ID: CAPEC-482, Similarity: 0.5188, Description: rApp exploits services\n",
      "\n",
      "Threat: T-xAPP-01\n",
      "  - CAPEC ID: CAPEC-388, Similarity: 0.4733, Description: An attacker exploits xApps vulnerabilities and misconfiguration\n",
      "\n",
      "Threat: T-xAPP-02\n",
      "  - CAPEC ID: CAPEC-212, Similarity: 0.5215, Description: Conflicting xApps unintentionally or maliciously impact O-RAN system functions to degrade perform...\n",
      "\n",
      "Threat: T-xAPP-03\n",
      "  - CAPEC ID: CAPEC-480, Similarity: 0.5092, Description: An attacker compromises xApp isolation\n",
      "\n",
      "Threat: T-xApp-04\n",
      "  - CAPEC ID: CAPEC-502, Similarity: 0.5500, Description: False or malicious A1 policies modify behavior of xApps\n"
     ]
    },
    {
     "name": "stderr",
     "output_type": "stream",
     "text": [
      "/tmp/ipykernel_19687/52619477.py:3: FutureWarning: DataFrameGroupBy.apply operated on the grouping columns. This behavior is deprecated, and in a future version of pandas the grouping columns will be excluded from the operation. Either pass `include_groups=False` to exclude the groupings or explicitly select the grouping columns after groupby to silence this warning.\n",
      "  top_capec_per_threat = threat2capec_mapping_df.groupby('Name').apply(\n"
     ]
    }
   ],
   "source": [
    "# for every threat name display the first 10 capecs with the highest similarity\n",
    "# --- Group by 'Name' (Threat Name) and get the top 5 for each ---\n",
    "top_capec_per_threat = threat2capec_mapping_df.groupby('Name').apply(\n",
    "    lambda x: x.nlargest(1, 'Similarity')\n",
    ").reset_index(drop=True)\n",
    "\n",
    "# --- Display the results ---\n",
    "print(\"Top CAPEC for Each Threat:\")\n",
    "for threat_name in top_capec_per_threat['Name'].unique():\n",
    "    print(f\"\\nThreat: {threat_name}\")\n",
    "    threat_top_capecs = top_capec_per_threat[top_capec_per_threat['Name'] == threat_name]\n",
    "    # Select relevant columns for display\n",
    "    display_cols = ['CAPEC ID', 'Similarity', 'Description'] # Assuming 'Description' is the CAPEC Description now\n",
    "    for index, row in threat_top_capecs[display_cols].iterrows():\n",
    "        # Shorten description for readability if it's the CAPEC description\n",
    "        desc = row['Description']\n",
    "        if len(desc) > 100:\n",
    "            desc = desc[:97] + \"...\"\n",
    "        print(f\"  - CAPEC ID: {row['CAPEC ID']}, Similarity: {row['Similarity']:.4f}, Description: {desc}\")"
   ]
  },
  {
   "cell_type": "code",
   "execution_count": 70,
   "id": "cb96690c",
   "metadata": {},
   "outputs": [
    {
     "data": {
      "text/plain": [
       "count    182.000000\n",
       "mean       0.522769\n",
       "std        0.053539\n",
       "min        0.394582\n",
       "25%        0.485878\n",
       "50%        0.519037\n",
       "75%        0.551577\n",
       "max        0.660303\n",
       "Name: Similarity, dtype: float64"
      ]
     },
     "execution_count": 70,
     "metadata": {},
     "output_type": "execute_result"
    }
   ],
   "source": [
    "top_capec_per_threat['Similarity'].describe()"
   ]
  },
  {
   "cell_type": "code",
   "execution_count": 72,
   "id": "53d3b48b",
   "metadata": {},
   "outputs": [
    {
     "data": {
      "text/plain": [
       "count    101738.000000\n",
       "mean          0.322094\n",
       "std           0.076980\n",
       "min           0.010134\n",
       "25%           0.271916\n",
       "50%           0.323729\n",
       "75%           0.374085\n",
       "max           0.660303\n",
       "Name: Similarity, dtype: float64"
      ]
     },
     "execution_count": 72,
     "metadata": {},
     "output_type": "execute_result"
    }
   ],
   "source": [
    "threat2capec_mapping_df['Similarity'].describe()"
   ]
  },
  {
   "cell_type": "code",
   "execution_count": 73,
   "id": "b1cde4b8",
   "metadata": {},
   "outputs": [
    {
     "name": "stdout",
     "output_type": "stream",
     "text": [
      "Threat with the highest similarity to a CAPEC:\n",
      "               Name   CAPEC ID  Similarity  \\\n",
      "79883  T-OPENSRC-01  CAPEC-538    0.660303   \n",
      "\n",
      "                                                                                                                                          Description  \n",
      "79883  Developers use SW components with known vulnerabilities and untrusted libraries that can be exploited by an attacker through a backdoor attack  \n"
     ]
    }
   ],
   "source": [
    "# threat with the highest similarity to a capec\n",
    "highest_similarity = threat2capec_mapping_df['Similarity'].max()\n",
    "highest_similarity_row = threat2capec_mapping_df[threat2capec_mapping_df['Similarity'] == highest_similarity]\n",
    "print(\"Threat with the highest similarity to a CAPEC:\")\n",
    "print(highest_similarity_row[['Name', 'CAPEC ID', 'Similarity', 'Description']])    "
   ]
  },
  {
   "cell_type": "code",
   "execution_count": 74,
   "id": "af023c5e",
   "metadata": {},
   "outputs": [
    {
     "name": "stdout",
     "output_type": "stream",
     "text": [
      "Threat with the lowest similarity to a CAPEC:\n",
      "           Name   CAPEC ID  Similarity  \\\n",
      "68773  T-AAL-02  CAPEC-394    0.010134   \n",
      "\n",
      "                                               Description  \n",
      "68773  Internal Overload DoS attack targeting AAL services  \n"
     ]
    }
   ],
   "source": [
    "# lowest similarity threat to a capec\n",
    "lowest_similarity = threat2capec_mapping_df['Similarity'].min()\n",
    "lowest_similarity_row = threat2capec_mapping_df[threat2capec_mapping_df['Similarity'] == lowest_similarity]\n",
    "print(\"Threat with the lowest similarity to a CAPEC:\")\n",
    "print(lowest_similarity_row[['Name', 'CAPEC ID', 'Similarity', 'Description']])"
   ]
  },
  {
   "cell_type": "code",
   "execution_count": 75,
   "id": "83c023bc",
   "metadata": {},
   "outputs": [
    {
     "name": "stdout",
     "output_type": "stream",
     "text": [
      "Average similarity: 0.32209402\n"
     ]
    }
   ],
   "source": [
    "# average similarity overall\n",
    "average_similarity = threat2capec_mapping_df['Similarity'].mean()\n",
    "print(\"Average similarity:\", average_similarity)"
   ]
  },
  {
   "cell_type": "code",
   "execution_count": null,
   "id": "f8f8e736",
   "metadata": {},
   "outputs": [],
   "source": []
  },
  {
   "cell_type": "markdown",
   "id": "14a40055",
   "metadata": {},
   "source": [
    "4. Safe the mappings above 0.55 similarity to a csv file"
   ]
  },
  {
   "cell_type": "code",
   "execution_count": 77,
   "id": "8b6b1dfa",
   "metadata": {},
   "outputs": [],
   "source": [
    "CAPEC_CSV_FILENAME = 'general_threats_capec_mapping'\n",
    "similarity = 0.55\n",
    "def filter_threshold_hfc(df, filter_criteria, min_similarity):\n",
    "    filtered_df = df[df['Similarity'] > min_similarity]\n",
    "    filtered_df = filtered_df.reset_index(drop=True)\n",
    "    return filtered_df"
   ]
  },
  {
   "cell_type": "code",
   "execution_count": null,
   "id": "929f451d",
   "metadata": {},
   "outputs": [],
   "source": [
    "\n",
    "#capec_mapping_hfc = filter_threshold_hfc(threat2capec_mapping_df, \"Name\",similarity)\n",
    "#capec_mapping_hfc.to_csv(\"./mapped_data/hfc_\"+CAPEC_CSV_FILENAME+\"_min\"+str(similarity)+\".csv\", sep=';', index=False)"
   ]
  },
  {
   "cell_type": "markdown",
   "id": "518fecfb",
   "metadata": {},
   "source": [
    "5. Compare ORCA mappings to our mappings"
   ]
  },
  {
   "cell_type": "code",
   "execution_count": 82,
   "id": "59b9061a",
   "metadata": {},
   "outputs": [
    {
     "name": "stdout",
     "output_type": "stream",
     "text": [
      "Index(['Name', 'Domain', 'Description', 'CAPEC ID', 'Similarity'], dtype='object') (190, 5)\n",
      "Index(['Name', 'Domain', 'Description', 'CAPEC ID', 'Similarity',\n",
      "       'summary_th_df', 'summary_ca_df'],\n",
      "      dtype='object') (176, 7)\n"
     ]
    }
   ],
   "source": [
    "orca_mappings = pd.read_csv('mapped_data/ORCA_mappings_min0.55.csv', sep=';')\n",
    "our_mappings = pd.read_csv('mapped_data/hfc_general_threats_capec_mapping_min0.55.csv', sep=';')\n",
    "print(orca_mappings.columns, orca_mappings.shape)\n",
    "print(our_mappings.columns, our_mappings.shape)"
   ]
  },
  {
   "cell_type": "code",
   "execution_count": 82,
   "id": "fd89a890",
   "metadata": {},
   "outputs": [
    {
     "data": {
      "text/plain": [
       "(np.float64(0.577509985631579), np.float64(0.5765717128409091))"
      ]
     },
     "execution_count": 82,
     "metadata": {},
     "output_type": "execute_result"
    }
   ],
   "source": [
    "average_similarity_orca = orca_mappings['Similarity'].mean()\n",
    "average_similarity_our = our_mappings['Similarity'].mean()\n",
    "average_similarity_orca, average_similarity_our"
   ]
  },
  {
   "cell_type": "code",
   "execution_count": 83,
   "id": "8beb2fbf",
   "metadata": {},
   "outputs": [
    {
     "name": "stdout",
     "output_type": "stream",
     "text": [
      "0.00093827\n"
     ]
    }
   ],
   "source": [
    "diff_mean = average_similarity_orca - average_similarity_our\n",
    "print(f\"{diff_mean:.8f}\")"
   ]
  },
  {
   "cell_type": "code",
   "execution_count": 84,
   "id": "4b518d6d",
   "metadata": {},
   "outputs": [
    {
     "data": {
      "text/plain": [
       "(np.float64(0.570489), np.float64(0.569787415))"
      ]
     },
     "execution_count": 84,
     "metadata": {},
     "output_type": "execute_result"
    }
   ],
   "source": [
    "median_similarity_orca = orca_mappings['Similarity'].median()\n",
    "median_similarity_our = our_mappings['Similarity'].median()\n",
    "median_similarity_orca, median_similarity_our"
   ]
  },
  {
   "cell_type": "code",
   "execution_count": 85,
   "id": "ef94597c",
   "metadata": {},
   "outputs": [
    {
     "name": "stdout",
     "output_type": "stream",
     "text": [
      "0.00070159\n"
     ]
    }
   ],
   "source": [
    "diff_med = median_similarity_orca -median_similarity_our\n",
    "print(f\"{diff_med:.8f}\")"
   ]
  },
  {
   "cell_type": "code",
   "execution_count": 86,
   "id": "9afc5456",
   "metadata": {},
   "outputs": [
    {
     "data": {
      "text/html": [
       "<div>\n",
       "<style scoped>\n",
       "    .dataframe tbody tr th:only-of-type {\n",
       "        vertical-align: middle;\n",
       "    }\n",
       "\n",
       "    .dataframe tbody tr th {\n",
       "        vertical-align: top;\n",
       "    }\n",
       "\n",
       "    .dataframe thead th {\n",
       "        text-align: right;\n",
       "    }\n",
       "</style>\n",
       "<table border=\"1\" class=\"dataframe\">\n",
       "  <thead>\n",
       "    <tr style=\"text-align: right;\">\n",
       "      <th></th>\n",
       "      <th>Name</th>\n",
       "      <th>CAPEC ID</th>\n",
       "      <th>Similarity_orca</th>\n",
       "      <th>Similarity_our</th>\n",
       "    </tr>\n",
       "  </thead>\n",
       "  <tbody>\n",
       "    <tr>\n",
       "      <th>0</th>\n",
       "      <td>T-A1-02</td>\n",
       "      <td>CAPEC-12</td>\n",
       "      <td>0.584865</td>\n",
       "      <td>0.592353</td>\n",
       "    </tr>\n",
       "    <tr>\n",
       "      <th>1</th>\n",
       "      <td>T-A1-02</td>\n",
       "      <td>CAPEC-387</td>\n",
       "      <td>0.596484</td>\n",
       "      <td>0.606208</td>\n",
       "    </tr>\n",
       "    <tr>\n",
       "      <th>2</th>\n",
       "      <td>T-A1-02</td>\n",
       "      <td>CAPEC-388</td>\n",
       "      <td>0.564509</td>\n",
       "      <td>0.577323</td>\n",
       "    </tr>\n",
       "    <tr>\n",
       "      <th>3</th>\n",
       "      <td>T-A1-02</td>\n",
       "      <td>CAPEC-94</td>\n",
       "      <td>0.579672</td>\n",
       "      <td>0.569238</td>\n",
       "    </tr>\n",
       "    <tr>\n",
       "      <th>4</th>\n",
       "      <td>T-A1-03</td>\n",
       "      <td>CAPEC-12</td>\n",
       "      <td>0.566429</td>\n",
       "      <td>0.565207</td>\n",
       "    </tr>\n",
       "  </tbody>\n",
       "</table>\n",
       "</div>"
      ],
      "text/plain": [
       "      Name   CAPEC ID  Similarity_orca  Similarity_our\n",
       "0  T-A1-02   CAPEC-12         0.584865        0.592353\n",
       "1  T-A1-02  CAPEC-387         0.596484        0.606208\n",
       "2  T-A1-02  CAPEC-388         0.564509        0.577323\n",
       "3  T-A1-02   CAPEC-94         0.579672        0.569238\n",
       "4  T-A1-03   CAPEC-12         0.566429        0.565207"
      ]
     },
     "execution_count": 86,
     "metadata": {},
     "output_type": "execute_result"
    }
   ],
   "source": [
    "# Merge ORCA and our mappings on 'Name' and 'CAPEC ID'\n",
    "merged_similarities = pd.merge(\n",
    "    orca_mappings[['Name', 'CAPEC ID', 'Similarity']],\n",
    "    our_mappings[['Name', 'CAPEC ID', 'Similarity']],\n",
    "    on=['Name', 'CAPEC ID'],\n",
    "    how='outer',\n",
    "    suffixes=('_orca', '_our')\n",
    ")\n",
    "\n",
    "# Save to CSV\n",
    "merged_similarities.to_csv('./mapped_data/merged_orca_our_similarities.csv', sep=';', index=False)\n",
    "\n",
    "# Display the first few rows for verification\n",
    "merged_similarities.head()"
   ]
  },
  {
   "cell_type": "code",
   "execution_count": 87,
   "id": "7ab1f3e0",
   "metadata": {},
   "outputs": [
    {
     "name": "stdout",
     "output_type": "stream",
     "text": [
      "Threats in ORCA mappings but not in our mappings: {'T-SharedORU-42', 'T-SMO-24', 'T-PHYS-01', 'T-SharedORU-20', 'T-AppLCM-05', 'T-CPLANE-01', 'T-VL-01', 'T-SMO-22', 'T-GEN-01'}\n",
      "Threats in our mappings but not in ORCA mappings: {'T-VM-C-02', 'T-xApp-04'}\n"
     ]
    }
   ],
   "source": [
    "threats_in_orca_not_in_our = set(orca_mappings['Name']) - set(our_mappings['Name'])\n",
    "print(\"Threats in ORCA mappings but not in our mappings:\", threats_in_orca_not_in_our)\n",
    "threats_in_our_not_in_orca = set(our_mappings['Name']) - set(orca_mappings['Name'])\n",
    "print(\"Threats in our mappings but not in ORCA mappings:\", threats_in_our_not_in_orca)  "
   ]
  },
  {
   "cell_type": "code",
   "execution_count": 88,
   "id": "f3795aa9",
   "metadata": {},
   "outputs": [
    {
     "name": "stdout",
     "output_type": "stream",
     "text": [
      "Name and Capec ID combinations where one similarity is missing:\n",
      "           Name   CAPEC ID\n",
      "5       T-A1-03  CAPEC-272\n",
      "21  T-AppLCM-01  CAPEC-387\n",
      "22  T-AppLCM-01  CAPEC-441\n",
      "33  T-AppLCM-02  CAPEC-441\n",
      "34  T-AppLCM-02  CAPEC-480\n",
      "35  T-AppLCM-02  CAPEC-502\n",
      "36  T-AppLCM-02  CAPEC-669\n",
      "37  T-AppLCM-05  CAPEC-445\n",
      "38  T-AppLCM-05  CAPEC-502\n",
      "39  T-AppLCM-05  CAPEC-698\n"
     ]
    }
   ],
   "source": [
    "# Name and Capec ID combinations where one similarity is missing\n",
    "missing_similarities = merged_similarities[(merged_similarities['Similarity_orca'].isnull()) | (merged_similarities['Similarity_our'].isnull())]\n",
    "print(\"Name and Capec ID combinations where one similarity is missing:\")\n",
    "print(missing_similarities[['Name', 'CAPEC ID']].head(10))  # Display first 10 for brevity"
   ]
  },
  {
   "cell_type": "code",
   "execution_count": 89,
   "id": "61df266c",
   "metadata": {},
   "outputs": [
    {
     "data": {
      "text/html": [
       "<div>\n",
       "<style scoped>\n",
       "    .dataframe tbody tr th:only-of-type {\n",
       "        vertical-align: middle;\n",
       "    }\n",
       "\n",
       "    .dataframe tbody tr th {\n",
       "        vertical-align: top;\n",
       "    }\n",
       "\n",
       "    .dataframe thead th {\n",
       "        text-align: right;\n",
       "    }\n",
       "</style>\n",
       "<table border=\"1\" class=\"dataframe\">\n",
       "  <thead>\n",
       "    <tr style=\"text-align: right;\">\n",
       "      <th></th>\n",
       "      <th>Name</th>\n",
       "      <th>CAPEC ID</th>\n",
       "      <th>Similarity_orca</th>\n",
       "      <th>Similarity_our</th>\n",
       "    </tr>\n",
       "  </thead>\n",
       "  <tbody>\n",
       "    <tr>\n",
       "      <th>0</th>\n",
       "      <td>T-A1-02</td>\n",
       "      <td>CAPEC-12</td>\n",
       "      <td>0.584865</td>\n",
       "      <td>0.592353</td>\n",
       "    </tr>\n",
       "    <tr>\n",
       "      <th>1</th>\n",
       "      <td>T-A1-02</td>\n",
       "      <td>CAPEC-387</td>\n",
       "      <td>0.596484</td>\n",
       "      <td>0.606208</td>\n",
       "    </tr>\n",
       "    <tr>\n",
       "      <th>2</th>\n",
       "      <td>T-A1-02</td>\n",
       "      <td>CAPEC-388</td>\n",
       "      <td>0.564509</td>\n",
       "      <td>0.577323</td>\n",
       "    </tr>\n",
       "    <tr>\n",
       "      <th>3</th>\n",
       "      <td>T-A1-02</td>\n",
       "      <td>CAPEC-94</td>\n",
       "      <td>0.579672</td>\n",
       "      <td>0.569238</td>\n",
       "    </tr>\n",
       "    <tr>\n",
       "      <th>4</th>\n",
       "      <td>T-A1-03</td>\n",
       "      <td>CAPEC-12</td>\n",
       "      <td>0.566429</td>\n",
       "      <td>0.565207</td>\n",
       "    </tr>\n",
       "  </tbody>\n",
       "</table>\n",
       "</div>"
      ],
      "text/plain": [
       "      Name   CAPEC ID  Similarity_orca  Similarity_our\n",
       "0  T-A1-02   CAPEC-12         0.584865        0.592353\n",
       "1  T-A1-02  CAPEC-387         0.596484        0.606208\n",
       "2  T-A1-02  CAPEC-388         0.564509        0.577323\n",
       "3  T-A1-02   CAPEC-94         0.579672        0.569238\n",
       "4  T-A1-03   CAPEC-12         0.566429        0.565207"
      ]
     },
     "execution_count": 89,
     "metadata": {},
     "output_type": "execute_result"
    }
   ],
   "source": [
    "# only keep the rows where both similarities are not null\n",
    "merged_similarities_both_similarities_exist = merged_similarities.dropna(subset=['Similarity_orca', 'Similarity_our'])\n",
    "merged_similarities_both_similarities_exist.head(5)"
   ]
  },
  {
   "cell_type": "code",
   "execution_count": 90,
   "id": "8ae838c2",
   "metadata": {},
   "outputs": [
    {
     "name": "stderr",
     "output_type": "stream",
     "text": [
      "/tmp/ipykernel_19687/448733076.py:2: SettingWithCopyWarning: \n",
      "A value is trying to be set on a copy of a slice from a DataFrame.\n",
      "Try using .loc[row_indexer,col_indexer] = value instead\n",
      "\n",
      "See the caveats in the documentation: https://pandas.pydata.org/pandas-docs/stable/user_guide/indexing.html#returning-a-view-versus-a-copy\n",
      "  merged_similarities_both_similarities_exist['Similarity_difference'] = (merged_similarities_both_similarities_exist['Similarity_orca'] - merged_similarities_both_similarities_exist['Similarity_our']).abs()\n"
     ]
    },
    {
     "data": {
      "text/html": [
       "<div>\n",
       "<style scoped>\n",
       "    .dataframe tbody tr th:only-of-type {\n",
       "        vertical-align: middle;\n",
       "    }\n",
       "\n",
       "    .dataframe tbody tr th {\n",
       "        vertical-align: top;\n",
       "    }\n",
       "\n",
       "    .dataframe thead th {\n",
       "        text-align: right;\n",
       "    }\n",
       "</style>\n",
       "<table border=\"1\" class=\"dataframe\">\n",
       "  <thead>\n",
       "    <tr style=\"text-align: right;\">\n",
       "      <th></th>\n",
       "      <th>Name</th>\n",
       "      <th>CAPEC ID</th>\n",
       "      <th>Similarity_orca</th>\n",
       "      <th>Similarity_our</th>\n",
       "      <th>Similarity_difference</th>\n",
       "    </tr>\n",
       "  </thead>\n",
       "  <tbody>\n",
       "    <tr>\n",
       "      <th>0</th>\n",
       "      <td>T-A1-02</td>\n",
       "      <td>CAPEC-12</td>\n",
       "      <td>0.584865</td>\n",
       "      <td>0.592353</td>\n",
       "      <td>0.007487</td>\n",
       "    </tr>\n",
       "    <tr>\n",
       "      <th>1</th>\n",
       "      <td>T-A1-02</td>\n",
       "      <td>CAPEC-387</td>\n",
       "      <td>0.596484</td>\n",
       "      <td>0.606208</td>\n",
       "      <td>0.009724</td>\n",
       "    </tr>\n",
       "    <tr>\n",
       "      <th>2</th>\n",
       "      <td>T-A1-02</td>\n",
       "      <td>CAPEC-388</td>\n",
       "      <td>0.564509</td>\n",
       "      <td>0.577323</td>\n",
       "      <td>0.012814</td>\n",
       "    </tr>\n",
       "    <tr>\n",
       "      <th>3</th>\n",
       "      <td>T-A1-02</td>\n",
       "      <td>CAPEC-94</td>\n",
       "      <td>0.579672</td>\n",
       "      <td>0.569238</td>\n",
       "      <td>0.010433</td>\n",
       "    </tr>\n",
       "    <tr>\n",
       "      <th>4</th>\n",
       "      <td>T-A1-03</td>\n",
       "      <td>CAPEC-12</td>\n",
       "      <td>0.566429</td>\n",
       "      <td>0.565207</td>\n",
       "      <td>0.001222</td>\n",
       "    </tr>\n",
       "  </tbody>\n",
       "</table>\n",
       "</div>"
      ],
      "text/plain": [
       "      Name   CAPEC ID  Similarity_orca  Similarity_our  Similarity_difference\n",
       "0  T-A1-02   CAPEC-12         0.584865        0.592353               0.007487\n",
       "1  T-A1-02  CAPEC-387         0.596484        0.606208               0.009724\n",
       "2  T-A1-02  CAPEC-388         0.564509        0.577323               0.012814\n",
       "3  T-A1-02   CAPEC-94         0.579672        0.569238               0.010433\n",
       "4  T-A1-03   CAPEC-12         0.566429        0.565207               0.001222"
      ]
     },
     "execution_count": 90,
     "metadata": {},
     "output_type": "execute_result"
    }
   ],
   "source": [
    "# difference between the two similarities\n",
    "merged_similarities_both_similarities_exist['Similarity_difference'] = (merged_similarities_both_similarities_exist['Similarity_orca'] - merged_similarities_both_similarities_exist['Similarity_our']).abs()\n",
    "merged_similarities_both_similarities_exist.head(5)"
   ]
  },
  {
   "cell_type": "code",
   "execution_count": 93,
   "id": "90aa8723",
   "metadata": {},
   "outputs": [],
   "source": [
    "#merged_similarities_both_similarities_exist.to_pickle('mapped_data/merged_mappings_above_055_df.pk1')"
   ]
  },
  {
   "cell_type": "code",
   "execution_count": 94,
   "id": "1539139d",
   "metadata": {},
   "outputs": [
    {
     "name": "stdout",
     "output_type": "stream",
     "text": [
      "Average similarity difference: 0.0075198472151898725\n"
     ]
    }
   ],
   "source": [
    "average_similarity_difference = merged_similarities_both_similarities_exist['Similarity_difference'].mean()\n",
    "print(\"Average similarity difference:\", average_similarity_difference)"
   ]
  },
  {
   "cell_type": "code",
   "execution_count": 95,
   "id": "91c88cdd",
   "metadata": {},
   "outputs": [
    {
     "name": "stdout",
     "output_type": "stream",
     "text": [
      "       Name   CAPEC ID  Similarity_orca  Similarity_our  Similarity_difference\n",
      "9  T-AAL-05  CAPEC-456         0.615896        0.583511               0.032385\n"
     ]
    }
   ],
   "source": [
    "largest_difference_row = merged_similarities_both_similarities_exist[merged_similarities_both_similarities_exist['Similarity_difference'] == merged_similarities_both_similarities_exist['Similarity_difference'].max()]\n",
    "print(largest_difference_row)    "
   ]
  },
  {
   "cell_type": "code",
   "execution_count": 96,
   "id": "19a9a79a",
   "metadata": {},
   "outputs": [
    {
     "name": "stdout",
     "output_type": "stream",
     "text": [
      "            Name   CAPEC ID  Similarity_orca  Similarity_our  \\\n",
      "56  T-NEAR-RT-04  CAPEC-388         0.555342        0.555342   \n",
      "\n",
      "    Similarity_difference  \n",
      "56           1.000000e-07  \n"
     ]
    }
   ],
   "source": [
    "smallest_difference_row = merged_similarities_both_similarities_exist[merged_similarities_both_similarities_exist['Similarity_difference'] == merged_similarities_both_similarities_exist['Similarity_difference'].min()]\n",
    "print(smallest_difference_row)"
   ]
  },
  {
   "cell_type": "code",
   "execution_count": 97,
   "id": "6144dac8",
   "metadata": {},
   "outputs": [
    {
     "name": "stdout",
     "output_type": "stream",
     "text": [
      "Standard deviation of similarity differences: 0.006716251239927797\n"
     ]
    }
   ],
   "source": [
    "standard_deviation_difference = merged_similarities_both_similarities_exist['Similarity_difference'].std()\n",
    "print(\"Standard deviation of similarity differences:\", standard_deviation_difference)"
   ]
  },
  {
   "cell_type": "code",
   "execution_count": 98,
   "id": "f61b64f9",
   "metadata": {},
   "outputs": [
    {
     "data": {
      "text/html": [
       "<div>\n",
       "<style scoped>\n",
       "    .dataframe tbody tr th:only-of-type {\n",
       "        vertical-align: middle;\n",
       "    }\n",
       "\n",
       "    .dataframe tbody tr th {\n",
       "        vertical-align: top;\n",
       "    }\n",
       "\n",
       "    .dataframe thead th {\n",
       "        text-align: right;\n",
       "    }\n",
       "</style>\n",
       "<table border=\"1\" class=\"dataframe\">\n",
       "  <thead>\n",
       "    <tr style=\"text-align: right;\">\n",
       "      <th></th>\n",
       "      <th>Name</th>\n",
       "      <th>Domain</th>\n",
       "      <th>Description</th>\n",
       "      <th>CAPEC ID</th>\n",
       "      <th>Similarity</th>\n",
       "    </tr>\n",
       "  </thead>\n",
       "  <tbody>\n",
       "    <tr>\n",
       "      <th>15</th>\n",
       "      <td>T-SharedORU-42</td>\n",
       "      <td>enterprise-attack</td>\n",
       "      <td>Misuse of “sudo” privileges</td>\n",
       "      <td>CAPEC-122</td>\n",
       "      <td>0.565546</td>\n",
       "    </tr>\n",
       "    <tr>\n",
       "      <th>27</th>\n",
       "      <td>T-SMO-22</td>\n",
       "      <td>enterprise-attack</td>\n",
       "      <td>Internal attacker floods O2 interface via SMO to cause DDoS on O-Cloud infrastructure</td>\n",
       "      <td>CAPEC-125</td>\n",
       "      <td>0.554157</td>\n",
       "    </tr>\n",
       "    <tr>\n",
       "      <th>28</th>\n",
       "      <td>T-SMO-24</td>\n",
       "      <td>enterprise-attack</td>\n",
       "      <td>External attacker floods O2 interface via O-Cloud to cause DDoS on SMO</td>\n",
       "      <td>CAPEC-125</td>\n",
       "      <td>0.551914</td>\n",
       "    </tr>\n",
       "    <tr>\n",
       "      <th>49</th>\n",
       "      <td>T-SharedORU-20</td>\n",
       "      <td>enterprise-attack</td>\n",
       "      <td>Malicious User Login Attempt to O-DU Host/Tenant</td>\n",
       "      <td>CAPEC-114</td>\n",
       "      <td>0.552419</td>\n",
       "    </tr>\n",
       "    <tr>\n",
       "      <th>83</th>\n",
       "      <td>T-AppLCM-05</td>\n",
       "      <td>enterprise-attack</td>\n",
       "      <td>Malicious actor modifies application’s SecurityDescriptor</td>\n",
       "      <td>CAPEC-698</td>\n",
       "      <td>0.551221</td>\n",
       "    </tr>\n",
       "    <tr>\n",
       "      <th>90</th>\n",
       "      <td>T-CPLANE-01</td>\n",
       "      <td>enterprise-attack</td>\n",
       "      <td>Spoofing of DL C-plane messages</td>\n",
       "      <td>CAPEC-473</td>\n",
       "      <td>0.567711</td>\n",
       "    </tr>\n",
       "    <tr>\n",
       "      <th>94</th>\n",
       "      <td>T-GEN-01</td>\n",
       "      <td>enterprise-attack</td>\n",
       "      <td>Software flaw attack</td>\n",
       "      <td>CAPEC-480</td>\n",
       "      <td>0.562108</td>\n",
       "    </tr>\n",
       "    <tr>\n",
       "      <th>97</th>\n",
       "      <td>T-VL-01</td>\n",
       "      <td>enterprise-attack</td>\n",
       "      <td>VM/Container hyperjacking attack</td>\n",
       "      <td>CAPEC-480</td>\n",
       "      <td>0.558357</td>\n",
       "    </tr>\n",
       "    <tr>\n",
       "      <th>101</th>\n",
       "      <td>T-PHYS-01</td>\n",
       "      <td>enterprise-attack</td>\n",
       "      <td>An intruder into a site gains physical access to O-RAN components to cause damage or access sensitive data</td>\n",
       "      <td>CAPEC-401</td>\n",
       "      <td>0.551274</td>\n",
       "    </tr>\n",
       "    <tr>\n",
       "      <th>141</th>\n",
       "      <td>T-AppLCM-05</td>\n",
       "      <td>enterprise-attack</td>\n",
       "      <td>Malicious actor modifies application’s SecurityDescriptor</td>\n",
       "      <td>CAPEC-502</td>\n",
       "      <td>0.579609</td>\n",
       "    </tr>\n",
       "    <tr>\n",
       "      <th>181</th>\n",
       "      <td>T-AppLCM-05</td>\n",
       "      <td>enterprise-attack</td>\n",
       "      <td>Malicious actor modifies application’s SecurityDescriptor</td>\n",
       "      <td>CAPEC-445</td>\n",
       "      <td>0.558988</td>\n",
       "    </tr>\n",
       "  </tbody>\n",
       "</table>\n",
       "</div>"
      ],
      "text/plain": [
       "               Name             Domain  \\\n",
       "15   T-SharedORU-42  enterprise-attack   \n",
       "27         T-SMO-22  enterprise-attack   \n",
       "28         T-SMO-24  enterprise-attack   \n",
       "49   T-SharedORU-20  enterprise-attack   \n",
       "83      T-AppLCM-05  enterprise-attack   \n",
       "90      T-CPLANE-01  enterprise-attack   \n",
       "94         T-GEN-01  enterprise-attack   \n",
       "97          T-VL-01  enterprise-attack   \n",
       "101       T-PHYS-01  enterprise-attack   \n",
       "141     T-AppLCM-05  enterprise-attack   \n",
       "181     T-AppLCM-05  enterprise-attack   \n",
       "\n",
       "                                                                                                    Description  \\\n",
       "15                                                                                  Misuse of “sudo” privileges   \n",
       "27                        Internal attacker floods O2 interface via SMO to cause DDoS on O-Cloud infrastructure   \n",
       "28                                       External attacker floods O2 interface via O-Cloud to cause DDoS on SMO   \n",
       "49                                                             Malicious User Login Attempt to O-DU Host/Tenant   \n",
       "83                                                    Malicious actor modifies application’s SecurityDescriptor   \n",
       "90                                                                              Spoofing of DL C-plane messages   \n",
       "94                                                                                         Software flaw attack   \n",
       "97                                                                             VM/Container hyperjacking attack   \n",
       "101  An intruder into a site gains physical access to O-RAN components to cause damage or access sensitive data   \n",
       "141                                                   Malicious actor modifies application’s SecurityDescriptor   \n",
       "181                                                   Malicious actor modifies application’s SecurityDescriptor   \n",
       "\n",
       "      CAPEC ID  Similarity  \n",
       "15   CAPEC-122    0.565546  \n",
       "27   CAPEC-125    0.554157  \n",
       "28   CAPEC-125    0.551914  \n",
       "49   CAPEC-114    0.552419  \n",
       "83   CAPEC-698    0.551221  \n",
       "90   CAPEC-473    0.567711  \n",
       "94   CAPEC-480    0.562108  \n",
       "97   CAPEC-480    0.558357  \n",
       "101  CAPEC-401    0.551274  \n",
       "141  CAPEC-502    0.579609  \n",
       "181  CAPEC-445    0.558988  "
      ]
     },
     "execution_count": 98,
     "metadata": {},
     "output_type": "execute_result"
    }
   ],
   "source": [
    "threats_in_orca_not_in_our = orca_mappings[~orca_mappings['Name'].isin(our_mappings['Name'])]\n",
    "threats_in_orca_not_in_our"
   ]
  },
  {
   "cell_type": "code",
   "execution_count": 99,
   "id": "4add7ff2",
   "metadata": {},
   "outputs": [
    {
     "data": {
      "text/html": [
       "<div>\n",
       "<style scoped>\n",
       "    .dataframe tbody tr th:only-of-type {\n",
       "        vertical-align: middle;\n",
       "    }\n",
       "\n",
       "    .dataframe tbody tr th {\n",
       "        vertical-align: top;\n",
       "    }\n",
       "\n",
       "    .dataframe thead th {\n",
       "        text-align: right;\n",
       "    }\n",
       "</style>\n",
       "<table border=\"1\" class=\"dataframe\">\n",
       "  <thead>\n",
       "    <tr style=\"text-align: right;\">\n",
       "      <th></th>\n",
       "      <th>Name</th>\n",
       "      <th>Domain</th>\n",
       "      <th>Description</th>\n",
       "      <th>CAPEC ID</th>\n",
       "      <th>Similarity</th>\n",
       "      <th>summary_th_df</th>\n",
       "      <th>summary_ca_df</th>\n",
       "    </tr>\n",
       "  </thead>\n",
       "  <tbody>\n",
       "    <tr>\n",
       "      <th>59</th>\n",
       "      <td>T-VM-C-02</td>\n",
       "      <td>enterprise-attack</td>\n",
       "      <td>VM/Container escape attack</td>\n",
       "      <td>CAPEC-480</td>\n",
       "      <td>0.550919</td>\n",
       "      <td>A Threat with the title VM/Container escape attack and the description VNF/CNF deployed on the same physical machine as tenants share the same host kernel and host OS resources. Lack of strong isolation between the VMs/Containers and the host allows for a potential risk of a rogue VM/Container escaping the VM/Container confinement and impacting other co-hosted VMs/Containers. In others, an attacker may deploy a new malicious VM/Container configured without network rules, user limitations, etc. to bypass existing defenses within O-Cloud infrastructure.\\nAttacker deploys malicious VM/Container to escapes the host (Hypervisor/Container Engine/Host OS) and reaches the server’s hardware, then the malicious VM/Container can gain root access to the whole server where it resides. This gives the malicious VM/Container full control on all the VMs/Containers hosted on the same hacked server. This could allow an attacker to undermine the confidentiality, integrity and/or availability of VNFs/CNFs resources.\\nContainers can be deployed by various means, such as via Docker's create and start APIs or via a web application such as the Kubernetes dashboard or Kubeflow. Adversaries may deploy containers based on retrieved or built malicious images or from benign images that download and execute malicious payloads at runtime.\\nWhen a malicious VM/Container escapes isolation, it can gain full control over the underlying host and cause any of the below serious threats:\\n• Attacker would gain the ability to mount attacks on the host or compromise the host functionalities\\n• Compromise the confidentiality &amp; integrity of co-hosted VMs/Containers and tenants\\n• Launch DDOS attacks on co-hosted VMs/Containers and host services thereby degrading their performance \\n• Introduce new vulnerabilities in host to be used for future attacks\\n• Lack of network segmentation could potentially expose other VMs/Containers in the environment to attack. An example of this could be reconnaissance, exploitation and subsequent lateral movement to another host within the cluster.</td>\n",
       "      <td>A CAPEC with the title Escaping Virtualization. The description of this CAPEC is: An adversary gains access to an application, service, or device with the privileges of an authorized or privileged user by escaping the confines of a virtualized environment. The adversary is then able to access resources or execute unauthorized code within the host environment, generally with the privileges of the user running the virtualized process. Successfully executing an attack of this type is often the first step in executing more complex attacks.. The Domain of this is: Software</td>\n",
       "    </tr>\n",
       "    <tr>\n",
       "      <th>126</th>\n",
       "      <td>T-xApp-04</td>\n",
       "      <td>enterprise-attack</td>\n",
       "      <td>False or malicious A1 policies modify behavior of xApps</td>\n",
       "      <td>CAPEC-502</td>\n",
       "      <td>0.550044</td>\n",
       "      <td>A Threat with the title False or malicious A1 policies modify behavior of xApps and the description Unauthorized access to the Non-RT RIC enables the creation of ‘false policies’ that can be issued to the Near-RT RIC for enforcement. Existing Near-RT RIC policies could also be modified to achieve a false policy. False policies passed to the Near-RT RIC would be persistent until they were modified or deleted by the Non-RT RIC or the Near-RT RIC power cycles.\\nFalse policies can be created to have numerous impacts to the normal performance of the RAN. A single false A1 policy can target a specific UE, groups of UEs, or an entire cell. A false policy could influence the Near-RT RIC to configure the O-DU and O-RU functions to support Denial of Service (DoS) attacks by using feedback data to degrade RAN performance. \\nFalse policies could also be used for the purpose of locating a subscriber or group of subscribers. In this case, the false policy would cause the Near-RT RIC to isolate a subscriber in the O-CU. The Near-RT RIC could also use MIMO beamforming in the O-DU and O-RU to isolate a user onto a single beam. The data feedback from the RAN can include UE location or trajectory information from GPS data. The subscriber location would be attained from access to the Non-RT RIC in the SMO function.\\nThe Near-RT RIC is capable of steering traffic to achieve optimal QoS or QoE performance. A false policy could notionally cause the Near-RT RIC to steer user data to isolate the data in order to facilitate a cyber-attack.</td>\n",
       "      <td>A CAPEC with the title Intent Spoof. The description of this CAPEC is: An adversary, through a previously installed malicious application, issues an intent directed toward a specific trusted application's component in an attempt to achieve a variety of different objectives including modification of data, information disclosure, and data injection. Components that have been unintentionally exported and made public are subject to this type of an attack. If the component trusts the intent's action without verififcation, then the target application performs the functionality at the adversary's request, helping the adversary achieve the desired negative technical impact.. The Domain of this is: Software</td>\n",
       "    </tr>\n",
       "  </tbody>\n",
       "</table>\n",
       "</div>"
      ],
      "text/plain": [
       "          Name             Domain  \\\n",
       "59   T-VM-C-02  enterprise-attack   \n",
       "126  T-xApp-04  enterprise-attack   \n",
       "\n",
       "                                                 Description   CAPEC ID  \\\n",
       "59                                VM/Container escape attack  CAPEC-480   \n",
       "126  False or malicious A1 policies modify behavior of xApps  CAPEC-502   \n",
       "\n",
       "     Similarity  \\\n",
       "59     0.550919   \n",
       "126    0.550044   \n",
       "\n",
       "                                                                                                                                                                                                                                                                                                                                                                                                                                                                                                                                                                                                                                                                                                                                                                                                                                                                                                                                                                                                                                                                                                                                                                                                                                                                                                                                                                                                                                                                                                                                                                                                                                                                                                                                                                                                                                                                                                                                                                                                                                                                                                                                               summary_th_df  \\\n",
       "59   A Threat with the title VM/Container escape attack and the description VNF/CNF deployed on the same physical machine as tenants share the same host kernel and host OS resources. Lack of strong isolation between the VMs/Containers and the host allows for a potential risk of a rogue VM/Container escaping the VM/Container confinement and impacting other co-hosted VMs/Containers. In others, an attacker may deploy a new malicious VM/Container configured without network rules, user limitations, etc. to bypass existing defenses within O-Cloud infrastructure.\\nAttacker deploys malicious VM/Container to escapes the host (Hypervisor/Container Engine/Host OS) and reaches the server’s hardware, then the malicious VM/Container can gain root access to the whole server where it resides. This gives the malicious VM/Container full control on all the VMs/Containers hosted on the same hacked server. This could allow an attacker to undermine the confidentiality, integrity and/or availability of VNFs/CNFs resources.\\nContainers can be deployed by various means, such as via Docker's create and start APIs or via a web application such as the Kubernetes dashboard or Kubeflow. Adversaries may deploy containers based on retrieved or built malicious images or from benign images that download and execute malicious payloads at runtime.\\nWhen a malicious VM/Container escapes isolation, it can gain full control over the underlying host and cause any of the below serious threats:\\n• Attacker would gain the ability to mount attacks on the host or compromise the host functionalities\\n• Compromise the confidentiality & integrity of co-hosted VMs/Containers and tenants\\n• Launch DDOS attacks on co-hosted VMs/Containers and host services thereby degrading their performance \\n• Introduce new vulnerabilities in host to be used for future attacks\\n• Lack of network segmentation could potentially expose other VMs/Containers in the environment to attack. An example of this could be reconnaissance, exploitation and subsequent lateral movement to another host within the cluster.   \n",
       "126                                                                                                                                                                                                                                                                                                                                                                                                                                                                                                                                                      A Threat with the title False or malicious A1 policies modify behavior of xApps and the description Unauthorized access to the Non-RT RIC enables the creation of ‘false policies’ that can be issued to the Near-RT RIC for enforcement. Existing Near-RT RIC policies could also be modified to achieve a false policy. False policies passed to the Near-RT RIC would be persistent until they were modified or deleted by the Non-RT RIC or the Near-RT RIC power cycles.\\nFalse policies can be created to have numerous impacts to the normal performance of the RAN. A single false A1 policy can target a specific UE, groups of UEs, or an entire cell. A false policy could influence the Near-RT RIC to configure the O-DU and O-RU functions to support Denial of Service (DoS) attacks by using feedback data to degrade RAN performance. \\nFalse policies could also be used for the purpose of locating a subscriber or group of subscribers. In this case, the false policy would cause the Near-RT RIC to isolate a subscriber in the O-CU. The Near-RT RIC could also use MIMO beamforming in the O-DU and O-RU to isolate a user onto a single beam. The data feedback from the RAN can include UE location or trajectory information from GPS data. The subscriber location would be attained from access to the Non-RT RIC in the SMO function.\\nThe Near-RT RIC is capable of steering traffic to achieve optimal QoS or QoE performance. A false policy could notionally cause the Near-RT RIC to steer user data to isolate the data in order to facilitate a cyber-attack.   \n",
       "\n",
       "                                                                                                                                                                                                                                                                                                                                                                                                                                                                                                                                                                                                                                                                                                                           summary_ca_df  \n",
       "59                                                                                                                                        A CAPEC with the title Escaping Virtualization. The description of this CAPEC is: An adversary gains access to an application, service, or device with the privileges of an authorized or privileged user by escaping the confines of a virtualized environment. The adversary is then able to access resources or execute unauthorized code within the host environment, generally with the privileges of the user running the virtualized process. Successfully executing an attack of this type is often the first step in executing more complex attacks.. The Domain of this is: Software  \n",
       "126  A CAPEC with the title Intent Spoof. The description of this CAPEC is: An adversary, through a previously installed malicious application, issues an intent directed toward a specific trusted application's component in an attempt to achieve a variety of different objectives including modification of data, information disclosure, and data injection. Components that have been unintentionally exported and made public are subject to this type of an attack. If the component trusts the intent's action without verififcation, then the target application performs the functionality at the adversary's request, helping the adversary achieve the desired negative technical impact.. The Domain of this is: Software  "
      ]
     },
     "execution_count": 99,
     "metadata": {},
     "output_type": "execute_result"
    }
   ],
   "source": [
    "threats_in_our_not_in_orca = our_mappings[~our_mappings['Name'].isin(orca_mappings['Name'])]\n",
    "threats_in_our_not_in_orca"
   ]
  },
  {
   "cell_type": "markdown",
   "id": "ea0e5b6f",
   "metadata": {},
   "source": [
    "## Preparation for Prompt Engineering"
   ]
  },
  {
   "cell_type": "code",
   "execution_count": null,
   "id": "4a60c611",
   "metadata": {},
   "outputs": [],
   "source": [
    "#threat_data_for_PE = df_threats[['Threat ID', 'summary_th_df']]\n",
    "##save as pickle\n",
    "#threat_data_for_PE.to_pickle('threat_data/threat_data_for_PE.pk1')"
   ]
  },
  {
   "cell_type": "code",
   "execution_count": 105,
   "id": "606894a1",
   "metadata": {},
   "outputs": [],
   "source": [
    "#capec_data_for_PE = capecs_df[['CAPEC ID', 'summary']]\n",
    "#capec_data_for_PE.to_pickle('capec_data/capec_data_for_PE.pk1')"
   ]
  },
  {
   "cell_type": "code",
   "execution_count": 225,
   "id": "ef6aa53c",
   "metadata": {},
   "outputs": [],
   "source": [
    "threat_data_for_PE = pd.read_pickle('threat_data/threat_data_for_PE.pk1')"
   ]
  },
  {
   "cell_type": "code",
   "execution_count": 14,
   "id": "4f5f5481",
   "metadata": {},
   "outputs": [],
   "source": [
    "capec_data_for_PE = pd.read_pickle('capec_data/capec_data_for_PE.pk1')"
   ]
  },
  {
   "cell_type": "markdown",
   "id": "6106938e",
   "metadata": {},
   "source": [
    "## Preparation for Retrieval Augmented Generation"
   ]
  },
  {
   "cell_type": "code",
   "execution_count": 83,
   "id": "d8cdd475",
   "metadata": {},
   "outputs": [],
   "source": [
    "client = chromadb.Client()\n",
    "\n",
    "collection = client.create_collection(name=\"capec_summaries\")"
   ]
  },
  {
   "cell_type": "code",
   "execution_count": 111,
   "id": "a874d5ac",
   "metadata": {},
   "outputs": [],
   "source": [
    "#capecs_for_rag = capecs_with_embeddings_df[['CAPEC ID', 'summary_ca_df', 'embedding']]\n",
    "#capecs_for_rag.to_pickle('capec_data/capecs_for_rag.pk1')\n"
   ]
  },
  {
   "cell_type": "code",
   "execution_count": 84,
   "id": "00cdd5ff",
   "metadata": {},
   "outputs": [
    {
     "data": {
      "text/plain": [
       "Index(['CAPEC ID', 'summary_ca_df', 'embedding'], dtype='object')"
      ]
     },
     "execution_count": 84,
     "metadata": {},
     "output_type": "execute_result"
    }
   ],
   "source": [
    "capecs_for_rag = pd.read_pickle('capec_data/capecs_for_rag.pk1')\n",
    "capecs_for_rag.columns"
   ]
  },
  {
   "cell_type": "code",
   "execution_count": 85,
   "id": "f33c4a87",
   "metadata": {},
   "outputs": [
    {
     "data": {
      "text/html": [
       "<div>\n",
       "<style scoped>\n",
       "    .dataframe tbody tr th:only-of-type {\n",
       "        vertical-align: middle;\n",
       "    }\n",
       "\n",
       "    .dataframe tbody tr th {\n",
       "        vertical-align: top;\n",
       "    }\n",
       "\n",
       "    .dataframe thead th {\n",
       "        text-align: right;\n",
       "    }\n",
       "</style>\n",
       "<table border=\"1\" class=\"dataframe\">\n",
       "  <thead>\n",
       "    <tr style=\"text-align: right;\">\n",
       "      <th></th>\n",
       "      <th>CAPEC ID</th>\n",
       "      <th>summary_ca_df</th>\n",
       "      <th>embedding</th>\n",
       "    </tr>\n",
       "  </thead>\n",
       "  <tbody>\n",
       "    <tr>\n",
       "      <th>332</th>\n",
       "      <td>CAPEC-388</td>\n",
       "      <td>A CAPEC with the title Application API Button Hijacking. The description of this CAPEC is: An attacker manipulates either egress or ingress data from a client within an application framework in order to change the destination and/or content of buttons displayed to a user within API messages. Performing this attack allows the attacker to manipulate content in such a way as to produce messages or content that looks authentic but contains buttons that point to an attacker controlled destination.. The Domains of this are: Communications, Software</td>\n",
       "      <td>[-0.09660262, -0.024990475, -0.06556756, -0.03408362, 0.08587068, -0.03127065, 0.0808633, 0.07251131, 0.02616566, 0.09382414, 0.022175178, -0.06182681, 0.08069142, 0.026079485, 0.024389163, 0.024124086, 0.09823374, -0.010384251, 0.030759051, 0.022157758, 0.04558903, 0.0008449152, 0.05094535, -0.0067322855, -0.03608363, -0.08360784, -0.0655046, -0.020885358, 0.03688891, 0.029068094, 0.014549472, 0.007313153, -0.011266998, 0.04531953, -0.03508254, -0.012772105, -0.044965085, -0.03716714, 0.010765043, -0.007192745, 0.018093457, 0.013997869, -0.018432932, 0.0006372588, 0.03310592, -0.044983376, -0.09686643, 0.03972142, -0.053525936, 0.0013204737, 0.0060989, -0.04691895, -0.04988756, -0.07323022, 0.054871235, -0.02474934, -0.025730854, 0.08647126, 0.0037040482, 0.07094355, 0.054443818, 0.010453565, -0.04352776, 0.07382994, 0.021506809, 0.015669793, -0.007109866, 0.048285037, 0.0632451, -0.009080118, -0.10306842, -0.07031468, -0.100458056, -0.008562658, 0.06834313, 0.013022135, -0.08599083, 0.013354741, -0.058475036, -0.012335544, -0.018924356, 0.007990913, 0.0034954632, 0.07352395, -0.056690596, -0.027808214, 0.028031917, -0.08237379, 0.07927512, 0.04048383, -0.08176878, -0.0879421, 0.046366353, 0.065419696, -0.078204505, 0.005913302, -0.056313537, -0.031175721, -0.042151544, 0.11717575, ...]</td>\n",
       "    </tr>\n",
       "  </tbody>\n",
       "</table>\n",
       "</div>"
      ],
      "text/plain": [
       "      CAPEC ID  \\\n",
       "332  CAPEC-388   \n",
       "\n",
       "                                                                                                                                                                                                                                                                                                                                                                                                                                                                                                                                                            summary_ca_df  \\\n",
       "332  A CAPEC with the title Application API Button Hijacking. The description of this CAPEC is: An attacker manipulates either egress or ingress data from a client within an application framework in order to change the destination and/or content of buttons displayed to a user within API messages. Performing this attack allows the attacker to manipulate content in such a way as to produce messages or content that looks authentic but contains buttons that point to an attacker controlled destination.. The Domains of this are: Communications, Software   \n",
       "\n",
       "                                                                                                                                                                                                                                                                                                                                                                                                                                                                                                                                                                                                                                                                                                                                                                                                                                                                                                                                                                                                                                                                                                                                                                                                                                                                                                                                                        embedding  \n",
       "332  [-0.09660262, -0.024990475, -0.06556756, -0.03408362, 0.08587068, -0.03127065, 0.0808633, 0.07251131, 0.02616566, 0.09382414, 0.022175178, -0.06182681, 0.08069142, 0.026079485, 0.024389163, 0.024124086, 0.09823374, -0.010384251, 0.030759051, 0.022157758, 0.04558903, 0.0008449152, 0.05094535, -0.0067322855, -0.03608363, -0.08360784, -0.0655046, -0.020885358, 0.03688891, 0.029068094, 0.014549472, 0.007313153, -0.011266998, 0.04531953, -0.03508254, -0.012772105, -0.044965085, -0.03716714, 0.010765043, -0.007192745, 0.018093457, 0.013997869, -0.018432932, 0.0006372588, 0.03310592, -0.044983376, -0.09686643, 0.03972142, -0.053525936, 0.0013204737, 0.0060989, -0.04691895, -0.04988756, -0.07323022, 0.054871235, -0.02474934, -0.025730854, 0.08647126, 0.0037040482, 0.07094355, 0.054443818, 0.010453565, -0.04352776, 0.07382994, 0.021506809, 0.015669793, -0.007109866, 0.048285037, 0.0632451, -0.009080118, -0.10306842, -0.07031468, -0.100458056, -0.008562658, 0.06834313, 0.013022135, -0.08599083, 0.013354741, -0.058475036, -0.012335544, -0.018924356, 0.007990913, 0.0034954632, 0.07352395, -0.056690596, -0.027808214, 0.028031917, -0.08237379, 0.07927512, 0.04048383, -0.08176878, -0.0879421, 0.046366353, 0.065419696, -0.078204505, 0.005913302, -0.056313537, -0.031175721, -0.042151544, 0.11717575, ...]  "
      ]
     },
     "execution_count": 85,
     "metadata": {},
     "output_type": "execute_result"
    }
   ],
   "source": [
    "capecs_for_rag[capecs_for_rag['CAPEC ID']=='CAPEC-388']"
   ]
  },
  {
   "cell_type": "code",
   "execution_count": 86,
   "id": "3a346c3c",
   "metadata": {},
   "outputs": [],
   "source": [
    "collection.add(\n",
    "    documents=capecs_for_rag['summary_ca_df'].tolist(),\n",
    "    embeddings=capecs_for_rag['embedding'].tolist(),\n",
    "    ids=capecs_for_rag['CAPEC ID'].astype(str).tolist(),\n",
    "    metadatas=capecs_for_rag[['CAPEC ID']].to_dict(orient='records')\n",
    ")"
   ]
  },
  {
   "cell_type": "code",
   "execution_count": 117,
   "id": "b49b2c49",
   "metadata": {},
   "outputs": [],
   "source": [
    "#threat_data_for_RAG = df_threats[['Threat ID', 'summary_th_df', 'embedding' ]]\n",
    "##save as pickle\n",
    "#threat_data_for_RAG.to_pickle('threat_data/threat_data_for_RAG.pk1')"
   ]
  },
  {
   "cell_type": "code",
   "execution_count": 87,
   "id": "3a66ac2f",
   "metadata": {},
   "outputs": [
    {
     "data": {
      "text/plain": [
       "Index(['Threat ID', 'summary_th_df', 'embedding'], dtype='object')"
      ]
     },
     "execution_count": 87,
     "metadata": {},
     "output_type": "execute_result"
    }
   ],
   "source": [
    "threat_data_for_RAG = pd.read_pickle('threat_data/threat_data_for_RAG.pk1')\n",
    "threat_data_for_RAG.columns"
   ]
  },
  {
   "cell_type": "markdown",
   "id": "1a081930",
   "metadata": {},
   "source": [
    "Testing the mapping with the chromadb"
   ]
  },
  {
   "cell_type": "code",
   "execution_count": 93,
   "id": "0f500ab7",
   "metadata": {},
   "outputs": [],
   "source": [
    "id_for_query = 'T-A1-02'"
   ]
  },
  {
   "cell_type": "code",
   "execution_count": 224,
   "id": "c1e326a8",
   "metadata": {},
   "outputs": [
    {
     "data": {
      "text/html": [
       "<div>\n",
       "<style scoped>\n",
       "    .dataframe tbody tr th:only-of-type {\n",
       "        vertical-align: middle;\n",
       "    }\n",
       "\n",
       "    .dataframe tbody tr th {\n",
       "        vertical-align: top;\n",
       "    }\n",
       "\n",
       "    .dataframe thead th {\n",
       "        text-align: right;\n",
       "    }\n",
       "</style>\n",
       "<table border=\"1\" class=\"dataframe\">\n",
       "  <thead>\n",
       "    <tr style=\"text-align: right;\">\n",
       "      <th></th>\n",
       "      <th>Threat ID</th>\n",
       "      <th>summary_th_df</th>\n",
       "      <th>embedding</th>\n",
       "    </tr>\n",
       "  </thead>\n",
       "  <tbody>\n",
       "    <tr>\n",
       "      <th>82</th>\n",
       "      <td>T-A1-02</td>\n",
       "      <td>A Threat with the title Malicious function or application monitors messaging across A1 interface and the description Internal threat actor can gain access to the messaging across the A1 interface for a MiTM attack to read policy.</td>\n",
       "      <td>[-0.022620711, 0.030083442, -0.053240065, -0.07003313, 0.099638656, -0.033062465, 0.118017256, 0.060991373, 0.050662365, 0.0044041723, 0.052033562, 0.00036436127, 0.03321257, -0.008540476, 0.023396136, 0.0017152323, 0.09174036, -0.03632503, 0.022281194, 0.05669235, 0.07531323, 0.07695808, 0.013747662, -0.058864783, -0.06371496, -0.052700922, -0.034420777, 0.003955471, 0.0048012407, -0.04158128, -0.06839854, 0.06041121, -0.028966647, 0.041668177, -0.05545633, 0.037674572, 0.053951018, -0.035915814, -0.06698455, -0.051288914, -0.011022979, 0.07584844, 0.020030476, 0.023962926, -0.04353449, -0.06320226, -0.042425357, 0.04305226, -0.09453632, -0.04972866, -0.035640556, -0.041038293, 0.03433417, 0.07820756, 0.04848625, -0.0050980053, 0.026246356, 0.07176132, 0.012795818, 0.054206356, 0.015000252, -0.01656557, 0.0035595011, -0.012659887, -0.0041696043, 0.012311607, -0.028769698, 0.032711767, 0.005295903, -0.013154538, -0.06512177, -0.04096362, -0.08946048, 0.008416432, 0.032877274, 0.12735058, -0.050369017, -0.02744275, -0.012921762, -0.01614451, -0.015096548, 0.03488829, -0.012132809, 0.07794108, -0.002108607, 0.05019531, -0.019831121, -0.10529871, 0.06404344, 0.038214736, 0.00040895646, -0.088727176, 0.08004229, 0.07741963, 0.03880629, 0.047975555, -0.07208863, -0.13432705, -0.034065716, 0.12073365, ...]</td>\n",
       "    </tr>\n",
       "  </tbody>\n",
       "</table>\n",
       "</div>"
      ],
      "text/plain": [
       "   Threat ID  \\\n",
       "82   T-A1-02   \n",
       "\n",
       "                                                                                                                                                                                                                            summary_th_df  \\\n",
       "82  A Threat with the title Malicious function or application monitors messaging across A1 interface and the description Internal threat actor can gain access to the messaging across the A1 interface for a MiTM attack to read policy.   \n",
       "\n",
       "                                                                                                                                                                                                                                                                                                                                                                                                                                                                                                                                                                                                                                                                                                                                                                                                                                                                                                                                                                                                                                                                                                                                                                                                                                                                                                                                                                    embedding  \n",
       "82  [-0.022620711, 0.030083442, -0.053240065, -0.07003313, 0.099638656, -0.033062465, 0.118017256, 0.060991373, 0.050662365, 0.0044041723, 0.052033562, 0.00036436127, 0.03321257, -0.008540476, 0.023396136, 0.0017152323, 0.09174036, -0.03632503, 0.022281194, 0.05669235, 0.07531323, 0.07695808, 0.013747662, -0.058864783, -0.06371496, -0.052700922, -0.034420777, 0.003955471, 0.0048012407, -0.04158128, -0.06839854, 0.06041121, -0.028966647, 0.041668177, -0.05545633, 0.037674572, 0.053951018, -0.035915814, -0.06698455, -0.051288914, -0.011022979, 0.07584844, 0.020030476, 0.023962926, -0.04353449, -0.06320226, -0.042425357, 0.04305226, -0.09453632, -0.04972866, -0.035640556, -0.041038293, 0.03433417, 0.07820756, 0.04848625, -0.0050980053, 0.026246356, 0.07176132, 0.012795818, 0.054206356, 0.015000252, -0.01656557, 0.0035595011, -0.012659887, -0.0041696043, 0.012311607, -0.028769698, 0.032711767, 0.005295903, -0.013154538, -0.06512177, -0.04096362, -0.08946048, 0.008416432, 0.032877274, 0.12735058, -0.050369017, -0.02744275, -0.012921762, -0.01614451, -0.015096548, 0.03488829, -0.012132809, 0.07794108, -0.002108607, 0.05019531, -0.019831121, -0.10529871, 0.06404344, 0.038214736, 0.00040895646, -0.088727176, 0.08004229, 0.07741963, 0.03880629, 0.047975555, -0.07208863, -0.13432705, -0.034065716, 0.12073365, ...]  "
      ]
     },
     "execution_count": 224,
     "metadata": {},
     "output_type": "execute_result"
    }
   ],
   "source": [
    "chosen_threat = threat_data_for_RAG[threat_data_for_RAG['Threat ID'] == id_for_query]\n",
    "chosen_threat"
   ]
  },
  {
   "cell_type": "code",
   "execution_count": 95,
   "id": "7b034f84",
   "metadata": {},
   "outputs": [],
   "source": [
    "query = chosen_threat['summary_th_df'].tolist()[0]\n",
    "query_embedding = chosen_threat['embedding'].tolist()[0]\n"
   ]
  },
  {
   "cell_type": "code",
   "execution_count": 96,
   "id": "5d321731",
   "metadata": {},
   "outputs": [],
   "source": [
    "results = collection.query(\n",
    "    query_embeddings=[query_embedding],\n",
    "    n_results=5,\n",
    ")"
   ]
  },
  {
   "cell_type": "code",
   "execution_count": 97,
   "id": "d419775d",
   "metadata": {},
   "outputs": [
    {
     "name": "stdout",
     "output_type": "stream",
     "text": [
      "Text: A CAPEC with the title Navigation Remapping To Propagate Malicious Content. The description of this CAPEC is: An adversary manipulates either egress or ingress data from a client within an application framework in order to change the content of messages and thereby circumvent the expected application logic.. The Domains of this are: Communications, Software\n",
      "Metadata: {'CAPEC ID': 'CAPEC-387'}\n",
      "----------------------------------------\n",
      "Text: A CAPEC with the title Choosing Message Identifier. The description of this CAPEC is: This pattern of attack is defined by the selection of messages distributed via multicast or public information channels that are intended for another client by determining the parameter value assigned to that client. This attack allows the adversary to gain access to potentially privileged information, and to possibly perpetrate other attacks through the distribution means by impersonation. If the channel/message being manipulated is an input rather than output mechanism for the system, (such as a command bus), this style of attack could be used to change the adversary's identifier to more a privileged one.. The Domain of this is: Communications\n",
      "Metadata: {'CAPEC ID': 'CAPEC-12'}\n",
      "----------------------------------------\n",
      "Text: A CAPEC with the title Application API Button Hijacking. The description of this CAPEC is: An attacker manipulates either egress or ingress data from a client within an application framework in order to change the destination and/or content of buttons displayed to a user within API messages. Performing this attack allows the attacker to manipulate content in such a way as to produce messages or content that looks authentic but contains buttons that point to an attacker controlled destination.. The Domains of this are: Communications, Software\n",
      "Metadata: {'CAPEC ID': 'CAPEC-388'}\n",
      "----------------------------------------\n",
      "Text: A CAPEC with the title Adversary in the Middle (AiTM). The description of this CAPEC is: \n",
      "            <xhtml:p>An adversary targets the communication between two components (typically client and server), in order to alter or obtain data from transactions. A general approach entails the adversary placing themself within the communication channel between the two components.</xhtml:p>\n",
      "         . The Domains of this are: Communications, Software\n",
      "Metadata: {'CAPEC ID': 'CAPEC-94'}\n",
      "----------------------------------------\n",
      "Text: A CAPEC with the title Protocol Manipulation. The description of this CAPEC is: An adversary subverts a communications protocol to perform an attack. This type of attack can allow an adversary to impersonate others, discover sensitive information, control the outcome of a session, or perform other attacks. This type of attack targets invalid assumptions that may be inherent in implementers of the protocol, incorrect implementations of the protocol, or vulnerabilities in the protocol itself.. The Domains of this are: Communications, Software\n",
      "Metadata: {'CAPEC ID': 'CAPEC-272'}\n",
      "----------------------------------------\n"
     ]
    }
   ],
   "source": [
    "for doc, meta in zip(results['documents'][0], results['metadatas'][0]):\n",
    "    print(\"Text:\", doc)\n",
    "    print(\"Metadata:\", meta)\n",
    "    print(\"-\" * 40)"
   ]
  },
  {
   "cell_type": "code",
   "execution_count": 98,
   "id": "8596bcbf",
   "metadata": {},
   "outputs": [
    {
     "data": {
      "text/html": [
       "<div>\n",
       "<style scoped>\n",
       "    .dataframe tbody tr th:only-of-type {\n",
       "        vertical-align: middle;\n",
       "    }\n",
       "\n",
       "    .dataframe tbody tr th {\n",
       "        vertical-align: top;\n",
       "    }\n",
       "\n",
       "    .dataframe thead th {\n",
       "        text-align: right;\n",
       "    }\n",
       "</style>\n",
       "<table border=\"1\" class=\"dataframe\">\n",
       "  <thead>\n",
       "    <tr style=\"text-align: right;\">\n",
       "      <th></th>\n",
       "      <th>Name</th>\n",
       "      <th>Domain</th>\n",
       "      <th>Description</th>\n",
       "      <th>CAPEC ID</th>\n",
       "      <th>Similarity</th>\n",
       "      <th>summary_th_df</th>\n",
       "      <th>summary_ca_df</th>\n",
       "    </tr>\n",
       "  </thead>\n",
       "  <tbody>\n",
       "    <tr>\n",
       "      <th>42</th>\n",
       "      <td>T-A1-02</td>\n",
       "      <td>enterprise-attack</td>\n",
       "      <td>Malicious function or application monitors messaging across A1 interface</td>\n",
       "      <td>CAPEC-94</td>\n",
       "      <td>0.569238</td>\n",
       "      <td>A Threat with the title Malicious function or application monitors messaging across A1 interface and the description Internal threat actor can gain access to the messaging across the A1 interface for a MiTM attack to read policy.</td>\n",
       "      <td>A CAPEC with the title Adversary in the Middle (AiTM). The description of this CAPEC is: \\n            &lt;xhtml:p&gt;An adversary targets the communication between two components (typically client and server), in order to alter or obtain data from transactions. A general approach entails the adversary placing themself within the communication channel between the two components.&lt;/xhtml:p&gt;\\n         . The Domains of this are: Communications, Software</td>\n",
       "    </tr>\n",
       "    <tr>\n",
       "      <th>53</th>\n",
       "      <td>T-A1-02</td>\n",
       "      <td>enterprise-attack</td>\n",
       "      <td>Malicious function or application monitors messaging across A1 interface</td>\n",
       "      <td>CAPEC-387</td>\n",
       "      <td>0.606208</td>\n",
       "      <td>A Threat with the title Malicious function or application monitors messaging across A1 interface and the description Internal threat actor can gain access to the messaging across the A1 interface for a MiTM attack to read policy.</td>\n",
       "      <td>A CAPEC with the title Navigation Remapping To Propagate Malicious Content. The description of this CAPEC is: An adversary manipulates either egress or ingress data from a client within an application framework in order to change the content of messages and thereby circumvent the expected application logic.. The Domains of this are: Communications, Software</td>\n",
       "    </tr>\n",
       "    <tr>\n",
       "      <th>113</th>\n",
       "      <td>T-A1-02</td>\n",
       "      <td>enterprise-attack</td>\n",
       "      <td>Malicious function or application monitors messaging across A1 interface</td>\n",
       "      <td>CAPEC-388</td>\n",
       "      <td>0.577323</td>\n",
       "      <td>A Threat with the title Malicious function or application monitors messaging across A1 interface and the description Internal threat actor can gain access to the messaging across the A1 interface for a MiTM attack to read policy.</td>\n",
       "      <td>A CAPEC with the title Application API Button Hijacking. The description of this CAPEC is: An attacker manipulates either egress or ingress data from a client within an application framework in order to change the destination and/or content of buttons displayed to a user within API messages. Performing this attack allows the attacker to manipulate content in such a way as to produce messages or content that looks authentic but contains buttons that point to an attacker controlled destination.. The Domains of this are: Communications, Software</td>\n",
       "    </tr>\n",
       "    <tr>\n",
       "      <th>154</th>\n",
       "      <td>T-A1-02</td>\n",
       "      <td>enterprise-attack</td>\n",
       "      <td>Malicious function or application monitors messaging across A1 interface</td>\n",
       "      <td>CAPEC-12</td>\n",
       "      <td>0.592353</td>\n",
       "      <td>A Threat with the title Malicious function or application monitors messaging across A1 interface and the description Internal threat actor can gain access to the messaging across the A1 interface for a MiTM attack to read policy.</td>\n",
       "      <td>A CAPEC with the title Choosing Message Identifier. The description of this CAPEC is: This pattern of attack is defined by the selection of messages distributed via multicast or public information channels that are intended for another client by determining the parameter value assigned to that client. This attack allows the adversary to gain access to potentially privileged information, and to possibly perpetrate other attacks through the distribution means by impersonation. If the channel/message being manipulated is an input rather than output mechanism for the system, (such as a command bus), this style of attack could be used to change the adversary's identifier to more a privileged one.. The Domain of this is: Communications</td>\n",
       "    </tr>\n",
       "  </tbody>\n",
       "</table>\n",
       "</div>"
      ],
      "text/plain": [
       "        Name             Domain  \\\n",
       "42   T-A1-02  enterprise-attack   \n",
       "53   T-A1-02  enterprise-attack   \n",
       "113  T-A1-02  enterprise-attack   \n",
       "154  T-A1-02  enterprise-attack   \n",
       "\n",
       "                                                                  Description  \\\n",
       "42   Malicious function or application monitors messaging across A1 interface   \n",
       "53   Malicious function or application monitors messaging across A1 interface   \n",
       "113  Malicious function or application monitors messaging across A1 interface   \n",
       "154  Malicious function or application monitors messaging across A1 interface   \n",
       "\n",
       "      CAPEC ID  Similarity  \\\n",
       "42    CAPEC-94    0.569238   \n",
       "53   CAPEC-387    0.606208   \n",
       "113  CAPEC-388    0.577323   \n",
       "154   CAPEC-12    0.592353   \n",
       "\n",
       "                                                                                                                                                                                                                             summary_th_df  \\\n",
       "42   A Threat with the title Malicious function or application monitors messaging across A1 interface and the description Internal threat actor can gain access to the messaging across the A1 interface for a MiTM attack to read policy.   \n",
       "53   A Threat with the title Malicious function or application monitors messaging across A1 interface and the description Internal threat actor can gain access to the messaging across the A1 interface for a MiTM attack to read policy.   \n",
       "113  A Threat with the title Malicious function or application monitors messaging across A1 interface and the description Internal threat actor can gain access to the messaging across the A1 interface for a MiTM attack to read policy.   \n",
       "154  A Threat with the title Malicious function or application monitors messaging across A1 interface and the description Internal threat actor can gain access to the messaging across the A1 interface for a MiTM attack to read policy.   \n",
       "\n",
       "                                                                                                                                                                                                                                                                                                                                                                                                                                                                                                                                                                                                                                                                                                                                                           summary_ca_df  \n",
       "42                                                                                                                                                                                                                                                                                                       A CAPEC with the title Adversary in the Middle (AiTM). The description of this CAPEC is: \\n            <xhtml:p>An adversary targets the communication between two components (typically client and server), in order to alter or obtain data from transactions. A general approach entails the adversary placing themself within the communication channel between the two components.</xhtml:p>\\n         . The Domains of this are: Communications, Software  \n",
       "53                                                                                                                                                                                                                                                                                                                                                                                               A CAPEC with the title Navigation Remapping To Propagate Malicious Content. The description of this CAPEC is: An adversary manipulates either egress or ingress data from a client within an application framework in order to change the content of messages and thereby circumvent the expected application logic.. The Domains of this are: Communications, Software  \n",
       "113                                                                                                                                                                                                 A CAPEC with the title Application API Button Hijacking. The description of this CAPEC is: An attacker manipulates either egress or ingress data from a client within an application framework in order to change the destination and/or content of buttons displayed to a user within API messages. Performing this attack allows the attacker to manipulate content in such a way as to produce messages or content that looks authentic but contains buttons that point to an attacker controlled destination.. The Domains of this are: Communications, Software  \n",
       "154  A CAPEC with the title Choosing Message Identifier. The description of this CAPEC is: This pattern of attack is defined by the selection of messages distributed via multicast or public information channels that are intended for another client by determining the parameter value assigned to that client. This attack allows the adversary to gain access to potentially privileged information, and to possibly perpetrate other attacks through the distribution means by impersonation. If the channel/message being manipulated is an input rather than output mechanism for the system, (such as a command bus), this style of attack could be used to change the adversary's identifier to more a privileged one.. The Domain of this is: Communications  "
      ]
     },
     "execution_count": 98,
     "metadata": {},
     "output_type": "execute_result"
    }
   ],
   "source": [
    "our_mappings[our_mappings['Name'] == id_for_query]"
   ]
  },
  {
   "cell_type": "markdown",
   "id": "e761d080",
   "metadata": {},
   "source": [
    "## Preparation for Fine Tuning with LoRA"
   ]
  },
  {
   "cell_type": "code",
   "execution_count": null,
   "id": "9a5e35af",
   "metadata": {},
   "outputs": [
    {
     "name": "stdout",
     "output_type": "stream",
     "text": [
      "Original data size: 163\n",
      "Training data size: 130\n",
      "Test data size: 33\n"
     ]
    }
   ],
   "source": [
    "#from sklearn.model_selection import train_test_split\n",
    "#\n",
    "## Assuming 'our_mappings' is your original pandas DataFrame\n",
    "#\n",
    "## 1. Split the DataFrame into 80% for training and 20% for testing\n",
    "#train_df, test_df = train_test_split(\n",
    "#    our_mappings,\n",
    "#    test_size=0.2,      # 20% of the data will be used for the test set\n",
    "#    random_state=42     # Ensures the split is the same every time you run the code\n",
    "#)\n",
    "#\n",
    "## 2. Build the training_data list ONLY from the training portion (train_df)\n",
    "#training_data = []\n",
    "#for _, row in train_df.iterrows():\n",
    "#    prompt = f\"Threat Summary: {row['summary_th_df']}\"\n",
    "#    # Note: The comma at the end of the next line creates a tuple.\n",
    "#    # You might want to remove it to get just the string.\n",
    "#    completion = f\"{row['summary_ca_df']}\" # Removed trailing comma\n",
    "#    capec_id = row['CAPEC ID']\n",
    "#    training_data.append({\"threat\": prompt, \"mapped_capec\": completion, \"capec_id\": capec_id})\n",
    "#\n",
    "## Now 'training_data' is built from the 80% split,\n",
    "## and 'test_df' holds the remaining 20% for evaluation.\n",
    "#print(f\"Original data size: {len(our_mappings)}\")\n",
    "#print(f\"Training data size: {len(train_df)}\")\n",
    "#print(f\"Test data size: {len(test_df)}\")"
   ]
  },
  {
   "cell_type": "code",
   "execution_count": 6,
   "id": "f1d81c60",
   "metadata": {},
   "outputs": [
    {
     "name": "stdout",
     "output_type": "stream",
     "text": [
      "Saved 130 training examples to 'mapped_data/lora_training_data.jsonl'\n"
     ]
    }
   ],
   "source": [
    "# Save to JSONL format in the desired directory\n",
    "output_path = \"mapped_data/lora_training_data.jsonl\"\n",
    "with open(output_path, \"w\", encoding=\"utf-8\") as f:\n",
    "    for entry in training_data:\n",
    "        f.write(json.dumps(entry) + \"\\n\")\n",
    "\n",
    "print(f\"Saved {len(training_data)} training examples to '{output_path}'\")"
   ]
  },
  {
   "cell_type": "code",
   "execution_count": 7,
   "id": "73c0aea2",
   "metadata": {},
   "outputs": [],
   "source": [
    "# loading the training data from the JSONL file\n",
    "output_path = \"mapped_data/lora_training_data.jsonl\"\n",
    "with open(output_path, \"r\", encoding=\"utf-8\") as f:\n",
    "    training_data = [json.loads(line) for line in f]"
   ]
  },
  {
   "cell_type": "code",
   "execution_count": 125,
   "id": "311c8777",
   "metadata": {},
   "outputs": [
    {
     "ename": "NameError",
     "evalue": "name 'training_data' is not defined",
     "output_type": "error",
     "traceback": [
      "\u001b[31m---------------------------------------------------------------------------\u001b[39m",
      "\u001b[31mNameError\u001b[39m                                 Traceback (most recent call last)",
      "\u001b[36mCell\u001b[39m\u001b[36m \u001b[39m\u001b[32mIn[125]\u001b[39m\u001b[32m, line 1\u001b[39m\n\u001b[32m----> \u001b[39m\u001b[32m1\u001b[39m \u001b[43mtraining_data\u001b[49m[\u001b[32m0\u001b[39m]\n",
      "\u001b[31mNameError\u001b[39m: name 'training_data' is not defined"
     ]
    }
   ],
   "source": [
    "training_data[0]"
   ]
  },
  {
   "cell_type": "markdown",
   "id": "ae2613cc",
   "metadata": {},
   "source": [
    "# Modeling"
   ]
  },
  {
   "cell_type": "markdown",
   "id": "7f2a4375",
   "metadata": {},
   "source": [
    "## Prompt Engineering"
   ]
  },
  {
   "cell_type": "code",
   "execution_count": 15,
   "id": "2108f07a",
   "metadata": {},
   "outputs": [
    {
     "data": {
      "text/plain": [
       "Index(['CAPEC ID', 'summary'], dtype='object')"
      ]
     },
     "execution_count": 15,
     "metadata": {},
     "output_type": "execute_result"
    }
   ],
   "source": [
    "threat_data_for_PE = threat_data_for_PE.copy()\n",
    "capec_data_for_PE.columns"
   ]
  },
  {
   "cell_type": "code",
   "execution_count": 230,
   "id": "35322bef",
   "metadata": {},
   "outputs": [
    {
     "data": {
      "text/html": [
       "<div>\n",
       "<style scoped>\n",
       "    .dataframe tbody tr th:only-of-type {\n",
       "        vertical-align: middle;\n",
       "    }\n",
       "\n",
       "    .dataframe tbody tr th {\n",
       "        vertical-align: top;\n",
       "    }\n",
       "\n",
       "    .dataframe thead th {\n",
       "        text-align: right;\n",
       "    }\n",
       "</style>\n",
       "<table border=\"1\" class=\"dataframe\">\n",
       "  <thead>\n",
       "    <tr style=\"text-align: right;\">\n",
       "      <th></th>\n",
       "      <th>Threat ID</th>\n",
       "      <th>summary_th_df</th>\n",
       "    </tr>\n",
       "  </thead>\n",
       "  <tbody>\n",
       "    <tr>\n",
       "      <th>82</th>\n",
       "      <td>T-A1-02</td>\n",
       "      <td>A Threat with the title Malicious function or application monitors messaging across A1 interface and the description Internal threat actor can gain access to the messaging across the A1 interface for a MiTM attack to read policy.</td>\n",
       "    </tr>\n",
       "  </tbody>\n",
       "</table>\n",
       "</div>"
      ],
      "text/plain": [
       "   Threat ID  \\\n",
       "82   T-A1-02   \n",
       "\n",
       "                                                                                                                                                                                                                            summary_th_df  \n",
       "82  A Threat with the title Malicious function or application monitors messaging across A1 interface and the description Internal threat actor can gain access to the messaging across the A1 interface for a MiTM attack to read policy.  "
      ]
     },
     "execution_count": 230,
     "metadata": {},
     "output_type": "execute_result"
    }
   ],
   "source": [
    "# selecting a thest threat\n",
    "df = threat_data_for_PE[threat_data_for_PE['Threat ID'] == \"T-A1-02\"]\n",
    "df"
   ]
  },
  {
   "cell_type": "code",
   "execution_count": 128,
   "id": "87342b02",
   "metadata": {},
   "outputs": [
    {
     "data": {
      "text/plain": [
       "Threat ID                                                                                                                                                                                                                                      T-A1-02\n",
       "summary_th_df    A Threat with the title Malicious function or application monitors messaging across A1 interface and the description Internal threat actor can gain access to the messaging across the A1 interface for a MiTM attack to read policy.\n",
       "Name: 82, dtype: object"
      ]
     },
     "execution_count": 128,
     "metadata": {},
     "output_type": "execute_result"
    }
   ],
   "source": [
    "row = df.iloc[0]\n",
    "row"
   ]
  },
  {
   "cell_type": "markdown",
   "id": "0f6ec422",
   "metadata": {},
   "source": [
    "### Small and Medium Setup code (LOCAL)"
   ]
  },
  {
   "cell_type": "code",
   "execution_count": 5,
   "id": "74932723",
   "metadata": {},
   "outputs": [],
   "source": [
    "small_models = []"
   ]
  },
  {
   "cell_type": "markdown",
   "id": "f218835b",
   "metadata": {},
   "source": [
    "Small"
   ]
  },
  {
   "cell_type": "code",
   "execution_count": 6,
   "id": "30e066de",
   "metadata": {},
   "outputs": [],
   "source": [
    "# model options for small setup\n",
    "small_models.append('deepseek-r1:1.5b')\n",
    "#model = 'qwen3:1.7b'"
   ]
  },
  {
   "cell_type": "markdown",
   "id": "78470747",
   "metadata": {},
   "source": [
    "Medium\n",
    "the bigger models in the following cell, only run on the medium setup in a reasonable time\n",
    "Uncomment a model and run the cell for choosing the model "
   ]
  },
  {
   "cell_type": "code",
   "execution_count": 131,
   "id": "e8a78c3a",
   "metadata": {},
   "outputs": [],
   "source": [
    "medium_models = []"
   ]
  },
  {
   "cell_type": "code",
   "execution_count": 133,
   "id": "8dda1a6b",
   "metadata": {},
   "outputs": [],
   "source": [
    "# model options for medium setup\n",
    "#medium_models.append('deepseek-r1:32b')\n",
    "medium_models.append('deepseek-r1:8b')\n",
    "#medium_models.append('deepseek-r1:70b-llama-distill-q4_K_M')"
   ]
  },
  {
   "cell_type": "code",
   "execution_count": 284,
   "id": "419c7704",
   "metadata": {},
   "outputs": [],
   "source": [
    "def model_inference_ollama(models, df, prompt_function):\n",
    "    model_outputs = {m: [] for m in models}\n",
    "\n",
    "    \n",
    "    for model in models:\n",
    "        try:\n",
    "            response = ollama.generate(\n",
    "                model=model,\n",
    "                prompt=prompt_function(df),\n",
    "                options={'temperature': 0.0, 'seed': 42}\n",
    "            )\n",
    "            print(prompt_function(df))\n",
    "        except Exception as e:\n",
    "            response = f\"[ERROR] {e}\"\n",
    "        model_outputs[model].append(response)\n",
    "    \n",
    "    return model_outputs"
   ]
  },
  {
   "cell_type": "code",
   "execution_count": 99,
   "id": "33450e26",
   "metadata": {},
   "outputs": [],
   "source": [
    "def display_model_results_ollama(models, model_outputs):\n",
    "    for model in models:\n",
    "        print(\"=\" * 40)\n",
    "        print(f\"Model: {model}\")\n",
    "\n",
    "        # --- Speed & Runtime first ---\n",
    "        if not model_outputs[model]:\n",
    "            print(\"No outputs for this model.\\n\")\n",
    "            continue\n",
    "        \n",
    "        resp = model_outputs[model][0]  # assumes object with eval_count and eval_duration\n",
    "        tokens_per_second = resp.eval_count / (resp.eval_duration / 1e9)\n",
    "        print(f\"Speed: {tokens_per_second:.2f} tokens/second\")\n",
    "\n",
    "        duration_s = resp.eval_duration / 1e9\n",
    "        minutes = int(duration_s // 60)\n",
    "        seconds = duration_s % 60\n",
    "        print(f\"Total runtime: {minutes:02d} m {seconds:05.2f} seconds\\n\")\n",
    "\n",
    "        # --- Then all outputs ---\n",
    "        print(\"Output:\")\n",
    "        for resp in model_outputs[model]:\n",
    "            cleaned_text = re.sub(\n",
    "                r\"<think>.*?</think>\\s*\", \n",
    "                \"\", \n",
    "                resp['response'], \n",
    "                flags=re.DOTALL\n",
    "            )\n",
    "            display(Markdown(cleaned_text))"
   ]
  },
  {
   "cell_type": "markdown",
   "id": "5360b832",
   "metadata": {},
   "source": [
    "Mappings of ORCA for comparison:"
   ]
  },
  {
   "attachments": {
    "image.png": {
     "image/png": "[encoded data removed]"
    }
   },
   "cell_type": "markdown",
   "id": "92467ce2",
   "metadata": {},
   "source": [
    "![image.png](attachment:image.png)"
   ]
  },
  {
   "cell_type": "markdown",
   "id": "fe2c8751",
   "metadata": {},
   "source": [
    "### Large Setup code (GEMINI API)"
   ]
  },
  {
   "cell_type": "markdown",
   "id": "78e43f71",
   "metadata": {},
   "source": [
    "Connecting to the Google Generative AI API to try larger models\n",
    "The context window is large, so it can handle the necessary amount of data"
   ]
  },
  {
   "cell_type": "code",
   "execution_count": 136,
   "id": "e58ea7b5",
   "metadata": {},
   "outputs": [],
   "source": [
    "large_setup_models = [\"gemini-2.5-pro\", \"gemini-2.5-flash\", \"gemini-2.5-flash-lite-preview-06-17\"]\n",
    "#models = [\"gemini-2.5-flash-lite-preview-06-17\"]"
   ]
  },
  {
   "cell_type": "code",
   "execution_count": 138,
   "id": "7d2bfcfa",
   "metadata": {},
   "outputs": [],
   "source": [
    "def model_inference_gemini(models, df, prompt):\n",
    "    # Initialize config and client\n",
    "    config = types.GenerateContentConfig(\n",
    "        temperature=0.0,\n",
    "        seed=42\n",
    "    )\n",
    "    client = genai.Client()\n",
    "\n",
    "    model_outputs = {m: [] for m in models}\n",
    "    model_stats = {m: [] for m in models}\n",
    "\n",
    "    for idx, row in tqdm(df.iterrows(), total=len(df)):\n",
    "        for model in models:\n",
    "            prompt = prompt\n",
    "\n",
    "            start_time = time.time()\n",
    "            response = client.models.generate_content(\n",
    "                model=model,\n",
    "                contents=prompt,\n",
    "                config=config\n",
    "            )\n",
    "            runtime = time.time() - start_time\n",
    "\n",
    "            token_count = (\n",
    "                response.usage_metadata.total_token_count +\n",
    "                response.usage_metadata.prompt_token_count\n",
    "            )\n",
    "            tokens_per_second = token_count / runtime if runtime > 0 else 0\n",
    "\n",
    "            model_outputs[model].append(response.text)\n",
    "            model_stats[model].append({\n",
    "                \"runtime\": runtime,\n",
    "                \"tokens_per_second\": tokens_per_second,\n",
    "                \"token_count\": token_count\n",
    "            })\n",
    "\n",
    "            tqdm.write(f\"Inference for model {model} completed for threat {row['Threat ID']}\")\n",
    "\n",
    "    return model_outputs, model_stats"
   ]
  },
  {
   "cell_type": "code",
   "execution_count": 139,
   "id": "df6f45f3",
   "metadata": {},
   "outputs": [],
   "source": [
    "def display_model_result_gemini(models, model_outputs, model_stats):\n",
    "    for model in models:\n",
    "        print(\"=\" * 40)\n",
    "        print(f\"Model: {model}\")\n",
    "        \n",
    "        # Ensure stats exist\n",
    "        stat = model_stats.get(model)\n",
    "        if stat and stat[\"runtime\"] is not None:\n",
    "            print(f\"Speed: {stat['tokens_per_second']:.2f} tokens/second\")\n",
    "            minutes = int(stat[\"runtime\"] // 60)\n",
    "            seconds = stat[\"runtime\"] % 60\n",
    "            print(f\"Total runtime: {minutes:02d} m {seconds:05.2f} seconds\\n\")\n",
    "        else:\n",
    "            print(\"Speed: N/A\\nTotal runtime: N/A\\nTokens: N/A\\n\")\n",
    "\n",
    "        print(\"Output:\")\n",
    "        if model in model_outputs:\n",
    "            # If multiple outputs exist for this model, iterate over them\n",
    "            outputs = model_outputs[model]\n",
    "            if isinstance(outputs, list):\n",
    "                for output in outputs:\n",
    "                    cleaned_text = re.sub(r\"<think>.*?</think>\\s*\", \"\", output, flags=re.DOTALL)\n",
    "                    display(Markdown(cleaned_text))\n",
    "            else:\n",
    "                cleaned_text = re.sub(r\"<think>.*?</think>\\s*\", \"\", outputs, flags=re.DOTALL)\n",
    "                display(Markdown(cleaned_text))\n",
    "        else:\n",
    "            print(\"No output available.\")"
   ]
  },
  {
   "cell_type": "markdown",
   "id": "80a86c5d",
   "metadata": {},
   "source": [
    "### Zero-Shot Prompt"
   ]
  },
  {
   "cell_type": "code",
   "execution_count": 173,
   "id": "8b02e78f",
   "metadata": {},
   "outputs": [],
   "source": [
    "def create_basic_zero_shot_prompt(threat_summary):\n",
    "    return f\"\"\"Given the following threat summary:\n",
    "    \n",
    "    \"{threat_summary}\"\n",
    "    \n",
    "    Provide the most relevant CAPEC IDs for this threat based on the description of each CAPEC. CAPEC stands for Common Attack Pattern Enumeration and Classification.\n",
    "    \n",
    "    As an output, provide a JSON array of CAPEC IDs that are most relevant to the threat described. Do not include any additional text or explanations, just the JSON array.\"\"\""
   ]
  },
  {
   "cell_type": "code",
   "execution_count": 211,
   "id": "ec2cdbdc",
   "metadata": {},
   "outputs": [],
   "source": [
    "def create_better_zero_shot_prompt(threat):\n",
    "    return f\"\"\"This task involves mapping a threat summary from the Open Radio Access Network (O-RAN) domain to relevant attack patterns.\n",
    "\n",
    "O-RAN represents a paradigm shift in Radio Access Network (RAN) design, moving from proprietary hardware to a more open, virtualized, and software-driven approach. It is used for mobile communication networks, particularly for 5G and future generations. Key principles of O-RAN include:\n",
    "- Open System: Characterized by standardized, open interfaces to foster a multi-vendor ecosystem.\n",
    "- Disaggregated RAN: Functionalities are distributed across different physical or virtual network functions.\n",
    "- Software-Driven Approach: Components are deployed on white-box appliances and accelerators.\n",
    "- Closed-Loop Control: Enabled by data-driven components deployed on RAN Intelligent Controllers (RICs).\n",
    "\n",
    "Now, based on the context above, analyze the following threat summary:\n",
    "\n",
    "\"{threat}\"\n",
    "\n",
    "Provide the most relevant CAPEC IDs for this threat. CAPEC stands for Common Attack Pattern Enumeration and Classification.\n",
    "\n",
    "As an output, provide a JSON array of CAPEC IDs that are most relevant to the threat described. Do not include any additional text or explanations, just the JSON array.\"\"\""
   ]
  },
  {
   "cell_type": "code",
   "execution_count": 142,
   "id": "d3612491",
   "metadata": {},
   "outputs": [],
   "source": [
    "# Build a formatted string with all CAPEC IDs and their summaries\n",
    "capec_context = \"\"\n",
    "\n",
    "for _, row in capec_data_for_PE.iterrows():\n",
    "    capec_id = row['CAPEC ID']\n",
    "    capec_summary = row['summary']\n",
    "    capec_context += f\"{capec_id}: {capec_summary}\\n\"\n",
    "\n"
   ]
  },
  {
   "cell_type": "code",
   "execution_count": 143,
   "id": "edbdc05f",
   "metadata": {},
   "outputs": [],
   "source": [
    "def create_prompt_with_capec_list(threat, capec_context):\n",
    "    return f\"\"\"You are a cybersecurity expert.\n",
    "\n",
    "Here is a list of CAPEC attack pattern summaries:\n",
    "{capec_context}\n",
    "\n",
    "Given the following threat description:\n",
    "\n",
    "\"{threat['summary_th_df'].iloc[0]}\"\n",
    "\n",
    "Which 3 CAPEC ID from the list above best match the threat based on their description? Respond only with the CAPEC ID and a brief justification.\"\"\"\n"
   ]
  },
  {
   "cell_type": "markdown",
   "id": "b3ec8007",
   "metadata": {},
   "source": [
    "Generating results"
   ]
  },
  {
   "cell_type": "code",
   "execution_count": 147,
   "id": "34989c0a",
   "metadata": {},
   "outputs": [
    {
     "name": "stderr",
     "output_type": "stream",
     "text": [
      "100%|██████████| 1/1 [01:02<00:00, 62.24s/it]"
     ]
    },
    {
     "name": "stdout",
     "output_type": "stream",
     "text": [
      "Inference for model deepseek-r1:1.5b completed for threat T-A1-02\n",
      "========================================\n",
      "Model: deepseek-r1:1.5b\n",
      "model='deepseek-r1:1.5b' created_at='2025-08-06T14:20:43.975160131Z' done=True done_reason='stop' total_duration=62101929870 load_duration=26447917001 prompt_eval_count=120 prompt_eval_duration=1359976586 eval_count=619 eval_duration=34292854634 response='<think>\\nOkay, so I need to figure out which CAPEC IDs apply to this threat summary. Let me start by understanding what each part means.\\n\\nThe threat is about a malicious function or application monitoring messaging across the A1 interface and being able to access it for a MiTM (multi-threat) attack to read policies. So, the main elements here are:\\n\\n1. Malicious function or application\\n2. Monitoring messaging across A1 interface\\n3. Access to messaging data\\n4. Potential threat through a multi-threat attack\\n\\nNow, CAPEC stands for Common Attack Pattern Enumeration and Classification. Each CAPEC ID has specific categories that define different types of threats. I remember that the main categories are:\\n\\n- **C** - Cybersecurity (e.g., access control)\\n- **M** - Misinformation/Spam/Malware\\n- **T** - Threats/Trojan attacks\\n- **A** - Attack vectors\\n\\nSo, let\\'s break down each part of the threat and see which CAPEC category it falls into.\\n\\n1. **Malicious function or application**: This is definitely related to cybersecurity because it involves malicious software that can cause harm.\\n2. **Monitoring messaging across A1 interface**: This suggests that the system is tracking or intercepting communications, which ties into access control mechanisms.\\n3. **Access to messaging data**: If an attacker can read policies from this data, they might be able to manipulate or spread information, which relates to misinformation or spam.\\n\\nNow, looking at each CAPEC category:\\n\\n- **C (Cybersecurity)**: This is relevant because the threat involves monitoring and accessing sensitive data. The malicious function could be using access control measures.\\n  \\n- **M (Misinformation/Spam/Malware)**: While the threat involves access to data, it\\'s more about the content being misused rather than spreading malware itself.\\n\\n- **T (Threats/Trojan attacks)**: This fits because the threat is a multi-threat scenario where an application can be used to spread information or manipulate policies.\\n\\nPutting this together, the most relevant CAPEC IDs would include both Cybersecurity and Threat categories. However, looking at the options provided earlier, I think the primary ones are:\\n\\n- **C (Cybersecurity)**\\n- **T (Threats/Trojan attacks)**\\n\\nBut wait, the initial response included C, M, T. Let me double-check that.\\n\\nWait, in the initial thought process, I considered that the threat involves access control and misinformation. So, Cybersecurity is definitely relevant because of the monitoring and access. Misinformation might be a secondary concern here, but it\\'s still part of the broader threat landscape.\\n\\nSo, considering all this, the most relevant CAPEC IDs would be **C (Cybersecurity)** and **T (Threats/Trojan attacks)**. The mention of misinformation is more about the content being manipulated rather than directly a threat category.\\n</think>\\n\\n```json\\n[\\n  \"C\",\\n  \"T\"\\n]\\n```' thinking=None context=[151644, 22043, 279, 2701, 5899, 12126, 1447, 262, 330, 32, 52335, 448, 279, 2265, 8394, 9627, 729, 476, 3766, 36477, 29522, 3941, 362, 16, 3749, 323, 279, 4008, 15412, 5899, 12089, 646, 8722, 2615, 311, 279, 29522, 3941, 279, 362, 16, 3749, 369, 264, 20740, 22034, 3359, 311, 1349, 4842, 2217, 262, 39565, 279, 1429, 9760, 9183, 10943, 28360, 369, 419, 5899, 3118, 389, 279, 4008, 315, 1817, 9183, 10943, 13, 9183, 10943, 13352, 369, 7718, 20790, 18834, 77125, 323, 54882, 382, 262, 1634, 458, 2550, 11, 3410, 264, 4718, 1334, 315, 9183, 10943, 28360, 429, 525, 1429, 9760, 311, 279, 5899, 7481, 13, 3155, 537, 2924, 894, 5107, 1467, 476, 40841, 11, 1101, 279, 4718, 1334, 13, 151645, 151648, 198, 32313, 11, 773, 358, 1184, 311, 7071, 700, 892, 9183, 10943, 28360, 3796, 311, 419, 5899, 12126, 13, 6771, 752, 1191, 553, 8660, 1128, 1817, 949, 3363, 382, 785, 5899, 374, 911, 264, 38170, 729, 476, 3766, 16558, 29522, 3941, 279, 362, 16, 3749, 323, 1660, 2952, 311, 2615, 432, 369, 264, 20740, 22034, 320, 26268, 55744, 8, 3359, 311, 1349, 10186, 13, 2055, 11, 279, 1887, 5424, 1588, 525, 1447, 16, 13, 8394, 9627, 729, 476, 3766, 198, 17, 13, 50703, 29522, 3941, 362, 16, 3749, 198, 18, 13, 9549, 311, 29522, 821, 198, 19, 13, 53957, 5899, 1526, 264, 7299, 55744, 3359, 271, 7039, 11, 9183, 10943, 13352, 369, 7718, 20790, 18834, 77125, 323, 54882, 13, 8886, 9183, 10943, 3034, 702, 3151, 11059, 429, 6979, 2155, 4494, 315, 17736, 13, 358, 6099, 429, 279, 1887, 11059, 525, 1447, 12, 3070, 34, 334, 481, 33611, 17039, 320, 68, 1302, 2572, 2615, 2524, 340, 12, 3070, 44, 334, 481, 32559, 25069, 14, 6406, 309, 10270, 278, 1664, 198, 12, 3070, 51, 334, 481, 52335, 82, 16731, 299, 22838, 8776, 198, 12, 3070, 32, 334, 481, 20790, 22879, 271, 4416, 11, 1077, 594, 1438, 1495, 1817, 949, 315, 279, 5899, 323, 1490, 892, 9183, 10943, 5582, 432, 17066, 1119, 382, 16, 13, 3070, 29600, 9627, 729, 476, 3766, 95518, 1096, 374, 8491, 5435, 311, 61442, 1576, 432, 17601, 38170, 3162, 429, 646, 5240, 11428, 624, 17, 13, 3070, 98062, 29522, 3941, 362, 16, 3749, 95518, 1096, 13230, 429, 279, 1849, 374, 14849, 476, 28639, 287, 16893, 11, 892, 19818, 1119, 2615, 2524, 23783, 624, 18, 13, 3070, 6054, 311, 29522, 821, 95518, 1416, 458, 30710, 646, 1349, 10186, 504, 419, 821, 11, 807, 2578, 387, 2952, 311, 36635, 476, 8865, 1995, 11, 892, 35616, 311, 74059, 476, 25328, 382, 7039, 11, 3330, 518, 1817, 9183, 10943, 5582, 1447, 12, 3070, 34, 320, 56715, 652, 17039, 32295, 25, 1096, 374, 9760, 1576, 279, 5899, 17601, 16558, 323, 31788, 16216, 821, 13, 576, 38170, 729, 1410, 387, 1667, 2615, 2524, 10953, 624, 2303, 12, 3070, 44, 320, 83159, 25069, 14, 6406, 309, 10270, 278, 1664, 32295, 25, 5976, 279, 5899, 17601, 2615, 311, 821, 11, 432, 594, 803, 911, 279, 2213, 1660, 5786, 2591, 4751, 1091, 30035, 39731, 5086, 382, 12, 3070, 51, 320, 1001, 1222, 82, 16731, 299, 22838, 8776, 32295, 25, 1096, 18304, 1576, 279, 5899, 374, 264, 7299, 55744, 15048, 1380, 458, 3766, 646, 387, 1483, 311, 8865, 1995, 476, 36635, 10186, 382, 97904, 419, 3786, 11, 279, 1429, 9760, 9183, 10943, 28360, 1035, 2924, 2176, 33611, 17039, 323, 52335, 11059, 13, 4354, 11, 3330, 518, 279, 2606, 3897, 6788, 11, 358, 1744, 279, 6028, 6174, 525, 1447, 12, 3070, 34, 320, 56715, 652, 17039, 8, 1019, 12, 3070, 51, 320, 1001, 1222, 82, 16731, 299, 22838, 8776, 32295, 271, 3983, 3783, 11, 279, 2856, 2033, 5230, 356, 11, 386, 11, 350, 13, 6771, 752, 1990, 15934, 429, 382, 14190, 11, 304, 279, 2856, 3381, 1882, 11, 358, 6509, 429, 279, 5899, 17601, 2615, 2524, 323, 74059, 13, 2055, 11, 33611, 17039, 374, 8491, 9760, 1576, 315, 279, 16558, 323, 2615, 13, 32559, 25069, 2578, 387, 264, 14246, 4643, 1588, 11, 714, 432, 594, 2058, 949, 315, 279, 26829, 5899, 18414, 382, 4416, 11, 12831, 678, 419, 11, 279, 1429, 9760, 9183, 10943, 28360, 1035, 387, 3070, 34, 320, 56715, 652, 17039, 32295, 323, 3070, 51, 320, 1001, 1222, 82, 16731, 299, 22838, 8776, 32295, 13, 576, 6286, 315, 74059, 374, 803, 911, 279, 2213, 1660, 54215, 4751, 1091, 5961, 264, 5899, 5582, 624, 151649, 271, 73594, 2236, 198, 9640, 220, 330, 34, 756, 220, 330, 51, 698, 921, 73594]\n",
      "Speed: 18.05 tokens/second\n",
      "Total runtime: 00 m 34.29 seconds\n",
      "\n",
      "Output:\n"
     ]
    },
    {
     "name": "stderr",
     "output_type": "stream",
     "text": [
      "\n"
     ]
    },
    {
     "data": {
      "text/markdown": [
       "```json\n",
       "[\n",
       "  \"C\",\n",
       "  \"T\"\n",
       "]\n",
       "```"
      ],
      "text/plain": [
       "<IPython.core.display.Markdown object>"
      ]
     },
     "metadata": {},
     "output_type": "display_data"
    }
   ],
   "source": [
    "basic_zero = model_inference_ollama(small_models, df, create_basic_zero_shot_prompt)\n",
    "\n"
   ]
  },
  {
   "cell_type": "code",
   "execution_count": 151,
   "id": "d79a5c74",
   "metadata": {},
   "outputs": [
    {
     "name": "stdout",
     "output_type": "stream",
     "text": [
      "========================================\n",
      "Model: deepseek-r1:1.5b\n",
      "Speed: 18.05 tokens/second\n",
      "Total runtime: 00 m 34.29 seconds\n",
      "\n",
      "Output:\n"
     ]
    },
    {
     "data": {
      "text/markdown": [
       "```json\n",
       "[\n",
       "  \"C\",\n",
       "  \"T\"\n",
       "]\n",
       "```"
      ],
      "text/plain": [
       "<IPython.core.display.Markdown object>"
      ]
     },
     "metadata": {},
     "output_type": "display_data"
    }
   ],
   "source": [
    "display_model_results_ollama(small_models, basic_zero)"
   ]
  },
  {
   "cell_type": "markdown",
   "id": "dc029d30",
   "metadata": {},
   "source": [
    "### Few-Shot Prompt"
   ]
  },
  {
   "cell_type": "code",
   "execution_count": 152,
   "id": "a94e6ce1",
   "metadata": {},
   "outputs": [
    {
     "data": {
      "text/html": [
       "<div>\n",
       "<style scoped>\n",
       "    .dataframe tbody tr th:only-of-type {\n",
       "        vertical-align: middle;\n",
       "    }\n",
       "\n",
       "    .dataframe tbody tr th {\n",
       "        vertical-align: top;\n",
       "    }\n",
       "\n",
       "    .dataframe thead th {\n",
       "        text-align: right;\n",
       "    }\n",
       "</style>\n",
       "<table border=\"1\" class=\"dataframe\">\n",
       "  <thead>\n",
       "    <tr style=\"text-align: right;\">\n",
       "      <th></th>\n",
       "      <th>Name</th>\n",
       "      <th>Domain</th>\n",
       "      <th>Description</th>\n",
       "      <th>CAPEC ID</th>\n",
       "      <th>Similarity</th>\n",
       "      <th>summary_th_df</th>\n",
       "      <th>summary_ca_df</th>\n",
       "    </tr>\n",
       "  </thead>\n",
       "  <tbody>\n",
       "    <tr>\n",
       "      <th>149</th>\n",
       "      <td>T-OPENSRC-01</td>\n",
       "      <td>enterprise-attack</td>\n",
       "      <td>Developers use SW components with known vulnerabilities and untrusted libraries that can be exploited by an attacker through a backdoor attack</td>\n",
       "      <td>CAPEC-538</td>\n",
       "      <td>0.660303</td>\n",
       "      <td>A Threat with the title Developers use SW components with known vulnerabilities and untrusted libraries that can be exploited by an attacker through a backdoor attack and the description The O-RAN Software Community is a Linux Foundation project, supported and funded by O-RAN to lead the implementation of the O-RAN specifications in Open Source. Industry has recognized that Open Source code introduces security risks. Open Source vulnerabilities are publicly available on the National Vulnerability Database (NVD). While this is intended for developers to disclose vulnerabilities, it is also used by hackers to exploit those vulnerabilities. Vulnerabilities frequently propagate as developers re-use free open source code enabling backdoors to attacks. There have been notable vulnerabilities from downloading open source libraries and dependencies, as well as supply chain risks when downloading Open Source code from untrusted repositories.\\nSome O-RAN vendors and operators may not have accurate inventories of open-source software dependencies used by their different applications, or a process to receive and manage notifications concerning discovered vulnerabilities or available patches from the community supporting the open-source.\\nSome O-RAN vendors may not have a lack of consistent Supply Chain traceability and security, and a lack of coding best practices conflicts with Security-by-Design principles.\\nDevelopers may use modules with known vulnerabilities and untrusted libraries that can be exploited by an attacker through a backdoor attack.\\nAttackers can exploit a vulnerability on the open source code and infects a hypervisor, operating system, VM or container with a malware.</td>\n",
       "      <td>A CAPEC with the title Open-Source Library Manipulation. The description of this CAPEC is: Adversaries implant malicious code in open source software (OSS) libraries to have it widely distributed, as OSS is commonly downloaded by developers and other users to incorporate into software development projects. The adversary can have a particular system in mind to target, or the implantation can be the first stage of follow-on attacks on many systems.. The Domain of this is: Software</td>\n",
       "    </tr>\n",
       "    <tr>\n",
       "      <th>132</th>\n",
       "      <td>T-O-RAN-07</td>\n",
       "      <td>enterprise-attack</td>\n",
       "      <td>An attacker compromises O-RAN monitoring mechanisms and log files integrity and availability</td>\n",
       "      <td>CAPEC-268</td>\n",
       "      <td>0.658977</td>\n",
       "      <td>A Threat with the title An attacker compromises O-RAN monitoring mechanisms and log files integrity and availability and the description Improper / missing controls for protection of security event log files generated by O-RAN components and the lack of security events logged together with a unique system reference (e.g. host name, IP or MAC address) and the exact time the incident occurred do not allow a correct and rapid audit in case of security incident occurrence. Security restoration is delayed. Compromise of availability and integrity of security event log files could conduct to delays, wrong audit results, delays in security restoration, threats persistence.</td>\n",
       "      <td>A CAPEC with the title Audit Log Manipulation. The description of this CAPEC is: The attacker injects, manipulates, deletes, or forges malicious log entries into the log file, in an attempt to mislead an audit of the log file or cover tracks of an attack. Due to either insufficient access controls of the log files or the logging mechanism, the attacker is able to perform such actions.. The Domain of this is: Software</td>\n",
       "    </tr>\n",
       "    <tr>\n",
       "      <th>14</th>\n",
       "      <td>T-RADIO-01</td>\n",
       "      <td>enterprise-attack</td>\n",
       "      <td>Disruption through radio jamming, sniffing and spoofing</td>\n",
       "      <td>CAPEC-605</td>\n",
       "      <td>0.652461</td>\n",
       "      <td>A Threat with the title Disruption through radio jamming, sniffing and spoofing and the description Like for any wireless technology, disruption through radio jamming is possible by analyzing the physical downlink and uplink control channels and signals. 5G radio network is vulnerable to:\\n• Jamming Vulnerability of Reference Signals\\n• Jamming Vulnerability of Synchronization Signal\\n• Jamming Vulnerability of the PBCH\\n• Sniffing and Spoofing Vulnerability of the PBCH\\n• Jamming Vulnerability of PDCCH\\n• Jamming Vulnerability of Physical Uplink Control Channel\\n• Jamming Vulnerability of Physical Random-Access Channel\\nNOTE 1: The O-RAN OEMs need to develop new intelligence that can proactively alert the operator when this attack is initiated so that the operator can take appropriate actions to mitigate.\\nNOTE 2: In the scenario of RF spoofing, the UE needs to be able to validate the legitimacy of the O-RU as being one owned and operated by the operator. 3GPP has proposed in a study to use Digital Signatures to mitigate this threat but there has been no agreement on this to date. The O-RAN OEMs need to develop new intelligence that can proactively alert the operator when this attack is initiated so that the operator can take appropriate actions to mitigate.</td>\n",
       "      <td>A CAPEC with the title Cellular Jamming. The description of this CAPEC is: In this attack scenario, the attacker actively transmits signals to overpower and disrupt the communication between a cellular user device and a cell tower. Several existing techniques are known in the open literature for this attack for 2G, 3G, and 4G LTE cellular technology. For example, some attacks target cell towers by overwhelming them with false status messages, while others introduce high levels of noise on signaling channels.. The Domain of this is: Communications</td>\n",
       "    </tr>\n",
       "  </tbody>\n",
       "</table>\n",
       "</div>"
      ],
      "text/plain": [
       "             Name             Domain  \\\n",
       "149  T-OPENSRC-01  enterprise-attack   \n",
       "132    T-O-RAN-07  enterprise-attack   \n",
       "14     T-RADIO-01  enterprise-attack   \n",
       "\n",
       "                                                                                                                                        Description  \\\n",
       "149  Developers use SW components with known vulnerabilities and untrusted libraries that can be exploited by an attacker through a backdoor attack   \n",
       "132                                                    An attacker compromises O-RAN monitoring mechanisms and log files integrity and availability   \n",
       "14                                                                                          Disruption through radio jamming, sniffing and spoofing   \n",
       "\n",
       "      CAPEC ID  Similarity  \\\n",
       "149  CAPEC-538    0.660303   \n",
       "132  CAPEC-268    0.658977   \n",
       "14   CAPEC-605    0.652461   \n",
       "\n",
       "                                                                                                                                                                                                                                                                                                                                                                                                                                                                                                                                                                                                                                                                                                                                                                                                                                                                                                                                                                                                                                                                                                                                                                                                                                                                                                                                                                                                                                                                                                                                                                                                                                                                                                                                                              summary_th_df  \\\n",
       "149  A Threat with the title Developers use SW components with known vulnerabilities and untrusted libraries that can be exploited by an attacker through a backdoor attack and the description The O-RAN Software Community is a Linux Foundation project, supported and funded by O-RAN to lead the implementation of the O-RAN specifications in Open Source. Industry has recognized that Open Source code introduces security risks. Open Source vulnerabilities are publicly available on the National Vulnerability Database (NVD). While this is intended for developers to disclose vulnerabilities, it is also used by hackers to exploit those vulnerabilities. Vulnerabilities frequently propagate as developers re-use free open source code enabling backdoors to attacks. There have been notable vulnerabilities from downloading open source libraries and dependencies, as well as supply chain risks when downloading Open Source code from untrusted repositories.\\nSome O-RAN vendors and operators may not have accurate inventories of open-source software dependencies used by their different applications, or a process to receive and manage notifications concerning discovered vulnerabilities or available patches from the community supporting the open-source.\\nSome O-RAN vendors may not have a lack of consistent Supply Chain traceability and security, and a lack of coding best practices conflicts with Security-by-Design principles.\\nDevelopers may use modules with known vulnerabilities and untrusted libraries that can be exploited by an attacker through a backdoor attack.\\nAttackers can exploit a vulnerability on the open source code and infects a hypervisor, operating system, VM or container with a malware.   \n",
       "132                                                                                                                                                                                                                                                                                                                                                                                                                                                                                                                                                                                                                                                                                                                                                                                                                                                                                                                                                                                                                                                                      A Threat with the title An attacker compromises O-RAN monitoring mechanisms and log files integrity and availability and the description Improper / missing controls for protection of security event log files generated by O-RAN components and the lack of security events logged together with a unique system reference (e.g. host name, IP or MAC address) and the exact time the incident occurred do not allow a correct and rapid audit in case of security incident occurrence. Security restoration is delayed. Compromise of availability and integrity of security event log files could conduct to delays, wrong audit results, delays in security restoration, threats persistence.   \n",
       "14                                                                                                                                                                                                                                                                                                                                                                                                                                          A Threat with the title Disruption through radio jamming, sniffing and spoofing and the description Like for any wireless technology, disruption through radio jamming is possible by analyzing the physical downlink and uplink control channels and signals. 5G radio network is vulnerable to:\\n• Jamming Vulnerability of Reference Signals\\n• Jamming Vulnerability of Synchronization Signal\\n• Jamming Vulnerability of the PBCH\\n• Sniffing and Spoofing Vulnerability of the PBCH\\n• Jamming Vulnerability of PDCCH\\n• Jamming Vulnerability of Physical Uplink Control Channel\\n• Jamming Vulnerability of Physical Random-Access Channel\\nNOTE 1: The O-RAN OEMs need to develop new intelligence that can proactively alert the operator when this attack is initiated so that the operator can take appropriate actions to mitigate.\\nNOTE 2: In the scenario of RF spoofing, the UE needs to be able to validate the legitimacy of the O-RU as being one owned and operated by the operator. 3GPP has proposed in a study to use Digital Signatures to mitigate this threat but there has been no agreement on this to date. The O-RAN OEMs need to develop new intelligence that can proactively alert the operator when this attack is initiated so that the operator can take appropriate actions to mitigate.   \n",
       "\n",
       "                                                                                                                                                                                                                                                                                                                                                                                                                                                                                                                                                                summary_ca_df  \n",
       "149                                                                       A CAPEC with the title Open-Source Library Manipulation. The description of this CAPEC is: Adversaries implant malicious code in open source software (OSS) libraries to have it widely distributed, as OSS is commonly downloaded by developers and other users to incorporate into software development projects. The adversary can have a particular system in mind to target, or the implantation can be the first stage of follow-on attacks on many systems.. The Domain of this is: Software  \n",
       "132                                                                                                                                      A CAPEC with the title Audit Log Manipulation. The description of this CAPEC is: The attacker injects, manipulates, deletes, or forges malicious log entries into the log file, in an attempt to mislead an audit of the log file or cover tracks of an attack. Due to either insufficient access controls of the log files or the logging mechanism, the attacker is able to perform such actions.. The Domain of this is: Software  \n",
       "14   A CAPEC with the title Cellular Jamming. The description of this CAPEC is: In this attack scenario, the attacker actively transmits signals to overpower and disrupt the communication between a cellular user device and a cell tower. Several existing techniques are known in the open literature for this attack for 2G, 3G, and 4G LTE cellular technology. For example, some attacks target cell towers by overwhelming them with false status messages, while others introduce high levels of noise on signaling channels.. The Domain of this is: Communications  "
      ]
     },
     "execution_count": 152,
     "metadata": {},
     "output_type": "execute_result"
    }
   ],
   "source": [
    "# sort by similarity\n",
    "sorted_mappings = our_mappings.sort_values(by='Similarity', ascending=False)\n",
    "sorted_mappings.head(3)"
   ]
  },
  {
   "cell_type": "code",
   "execution_count": 153,
   "id": "1589d5f9",
   "metadata": {},
   "outputs": [],
   "source": [
    "first_few_shot_example = sorted_mappings.iloc[0]\n",
    "second_few_shot_example = sorted_mappings.iloc[1]\n",
    "third_few_shot_example = sorted_mappings.iloc[2]"
   ]
  },
  {
   "cell_type": "code",
   "execution_count": 154,
   "id": "d2c7a830",
   "metadata": {},
   "outputs": [],
   "source": [
    "def create_few_shot_prompt(threat_summary):\n",
    "    # Build the instruction part\n",
    "    base_prompt = f\"\"\"This task involves mapping a threat summary from the Open Radio Access Network (O-RAN) domain to relevant attack patterns. O-RAN represents a paradigm shift in Radio Access Network (RAN) design, moving from proprietary hardware to a more open, virtualized, and software-driven approach. It is used for mobile communication networks, particularly for 5G and future generations. Key principles of O-RAN include:\n",
    "- Open System: Characterized by standardized, open interfaces to foster a multi-vendor ecosystem.\n",
    "- Disaggregated RAN: Functionalities are distributed across different physical or virtual network functions.\n",
    "- Software-Driven Approach: Components are deployed on white-box appliances and accelerators.\n",
    "- Closed-Loop Control: Enabled by data-driven components deployed on RAN Intelligent Controllers (RICs).\n",
    "\n",
    "Now, based on the context above, analyze the following threat summary: \"{threat_summary}\"\n",
    "Provide the most relevant CAPEC IDs for this threat. CAPEC stands for Common Attack Pattern Enumeration and Classification.\n",
    "\n",
    "As an output, provide a JSON array of CAPEC IDs that are most relevant to the threat described.\n",
    "Do not include any additional text or explanations, just the JSON array.\n",
    "\n",
    "Here are some examples:\n",
    "\"\"\"\n",
    "\n",
    "    # Few-shot examples\n",
    "    examples = []\n",
    "    for example in [first_few_shot_example, second_few_shot_example, third_few_shot_example]:\n",
    "        example_text = f\"\"\"\n",
    "Example:\n",
    "Threat Name: {example['Name']}\n",
    "Threat Summary: {example['summary_th_df']}\n",
    "CAPEC Summary: {example['summary_ca_df']}\n",
    "Mapped CAPEC ID: {example['CAPEC ID']}\n",
    "Desired Output:\n",
    "[{example['CAPEC ID']}]\n",
    "\"\"\"\n",
    "        examples.append(example_text.strip())\n",
    "\n",
    "    # Combine everything\n",
    "    full_prompt = base_prompt + \"\\n\\n\".join(examples)\n",
    "    return full_prompt\n"
   ]
  },
  {
   "cell_type": "markdown",
   "id": "26509ca8",
   "metadata": {},
   "source": []
  },
  {
   "cell_type": "markdown",
   "id": "527021bd",
   "metadata": {},
   "source": [
    "## RAG"
   ]
  },
  {
   "cell_type": "code",
   "execution_count": 101,
   "id": "6bbf3240",
   "metadata": {},
   "outputs": [],
   "source": [
    "client = chromadb.Client()\n",
    "client.delete_collection('capec_summaries')\n",
    "collection = client.create_collection(name=\"capec_summaries\", configuration={'hnsw': {'space': 'cosine'}})"
   ]
  },
  {
   "cell_type": "code",
   "execution_count": 102,
   "id": "1a183eca",
   "metadata": {},
   "outputs": [
    {
     "data": {
      "text/plain": [
       "Index(['CAPEC ID', 'summary_ca_df', 'embedding'], dtype='object')"
      ]
     },
     "execution_count": 102,
     "metadata": {},
     "output_type": "execute_result"
    }
   ],
   "source": [
    "capecs_for_rag = pd.read_pickle('capec_data/capecs_for_rag.pk1')\n",
    "capecs_for_rag.columns"
   ]
  },
  {
   "cell_type": "code",
   "execution_count": 103,
   "id": "64de8a00",
   "metadata": {},
   "outputs": [],
   "source": [
    "collection.add(\n",
    "    documents=capecs_for_rag['summary_ca_df'].tolist(),\n",
    "    embeddings=capecs_for_rag['embedding'].tolist(),\n",
    "    ids=capecs_for_rag['CAPEC ID'].astype(str).tolist(),\n",
    "    metadatas=capecs_for_rag[['CAPEC ID']].to_dict(orient='records')\n",
    ")"
   ]
  },
  {
   "cell_type": "code",
   "execution_count": 104,
   "id": "f66c3fe9",
   "metadata": {},
   "outputs": [
    {
     "data": {
      "text/plain": [
       "Index(['Threat ID', 'summary_th_df', 'embedding'], dtype='object')"
      ]
     },
     "execution_count": 104,
     "metadata": {},
     "output_type": "execute_result"
    }
   ],
   "source": [
    "threat_data_for_RAG = pd.read_pickle('threat_data/threat_data_for_RAG.pk1')\n",
    "threat_data_for_RAG.columns"
   ]
  },
  {
   "cell_type": "code",
   "execution_count": 105,
   "id": "a4403ced",
   "metadata": {},
   "outputs": [
    {
     "data": {
      "text/plain": [
       "'A Threat with the title An attacker exploits insecure designs or lack of adaption in O-RAN components and the description Unauthenticated/unauthorized access to O-RAN components could possibly be achieved via the different O-RAN interfaces, depending upon the design of the hardware-software O-RAN system and how different functions are segregated within the O-RAN system. \\nO-RAN components might be vulnerable if: \\n• Outdated component from the lack of update or patch management,\\n• Poorly design architecture,\\n• Missing appropriate security hardening,\\n• Unnecessary or insecure function/protocol/component.\\nAn attacker could, in such case, either inject malwares and/or manipulate existing software, harm the O-RAN components, create a performance issue by manipulation of parameters, or reconfigure the O-RAN components and disable the security features with the purpose of eavesdropping or wiretapping on various CUS & M planes, reaching northbound systems, attack broader network to cause denial-of-service, steal unprotected private keys, certificates, hash values, or other type of breaches.\\nIn addition, O-RAN components could be software providing network functions, so they are likely to be vulnerable to software flaws: it could be possible to bypass firewall restrictions or to take advantage of a buffer overflow to execute arbitrary commands, etc.'"
      ]
     },
     "execution_count": 105,
     "metadata": {},
     "output_type": "execute_result"
    }
   ],
   "source": [
    "threat_data_for_RAG['summary_th_df'].loc[0]"
   ]
  },
  {
   "cell_type": "code",
   "execution_count": 106,
   "id": "b20aecab",
   "metadata": {},
   "outputs": [],
   "source": [
    "id_for_query = \"T-A1-02\""
   ]
  },
  {
   "cell_type": "code",
   "execution_count": 107,
   "id": "d8a5fa26",
   "metadata": {},
   "outputs": [],
   "source": [
    "test_threat = threat_data_for_RAG[threat_data_for_RAG['Threat ID'] == id_for_query]"
   ]
  },
  {
   "cell_type": "code",
   "execution_count": 108,
   "id": "41f572c1",
   "metadata": {},
   "outputs": [
    {
     "data": {
      "text/html": [
       "<div>\n",
       "<style scoped>\n",
       "    .dataframe tbody tr th:only-of-type {\n",
       "        vertical-align: middle;\n",
       "    }\n",
       "\n",
       "    .dataframe tbody tr th {\n",
       "        vertical-align: top;\n",
       "    }\n",
       "\n",
       "    .dataframe thead th {\n",
       "        text-align: right;\n",
       "    }\n",
       "</style>\n",
       "<table border=\"1\" class=\"dataframe\">\n",
       "  <thead>\n",
       "    <tr style=\"text-align: right;\">\n",
       "      <th></th>\n",
       "      <th>Threat ID</th>\n",
       "      <th>summary_th_df</th>\n",
       "      <th>embedding</th>\n",
       "    </tr>\n",
       "  </thead>\n",
       "  <tbody>\n",
       "    <tr>\n",
       "      <th>82</th>\n",
       "      <td>T-A1-02</td>\n",
       "      <td>A Threat with the title Malicious function or application monitors messaging across A1 interface and the description Internal threat actor can gain access to the messaging across the A1 interface for a MiTM attack to read policy.</td>\n",
       "      <td>[-0.022620711, 0.030083442, -0.053240065, -0.07003313, 0.099638656, -0.033062465, 0.118017256, 0.060991373, 0.050662365, 0.0044041723, 0.052033562, 0.00036436127, 0.03321257, -0.008540476, 0.023396136, 0.0017152323, 0.09174036, -0.03632503, 0.022281194, 0.05669235, 0.07531323, 0.07695808, 0.013747662, -0.058864783, -0.06371496, -0.052700922, -0.034420777, 0.003955471, 0.0048012407, -0.04158128, -0.06839854, 0.06041121, -0.028966647, 0.041668177, -0.05545633, 0.037674572, 0.053951018, -0.035915814, -0.06698455, -0.051288914, -0.011022979, 0.07584844, 0.020030476, 0.023962926, -0.04353449, -0.06320226, -0.042425357, 0.04305226, -0.09453632, -0.04972866, -0.035640556, -0.041038293, 0.03433417, 0.07820756, 0.04848625, -0.0050980053, 0.026246356, 0.07176132, 0.012795818, 0.054206356, 0.015000252, -0.01656557, 0.0035595011, -0.012659887, -0.0041696043, 0.012311607, -0.028769698, 0.032711767, 0.005295903, -0.013154538, -0.06512177, -0.04096362, -0.08946048, 0.008416432, 0.032877274, 0.12735058, -0.050369017, -0.02744275, -0.012921762, -0.01614451, -0.015096548, 0.03488829, -0.012132809, 0.07794108, -0.002108607, 0.05019531, -0.019831121, -0.10529871, 0.06404344, 0.038214736, 0.00040895646, -0.088727176, 0.08004229, 0.07741963, 0.03880629, 0.047975555, -0.07208863, -0.13432705, -0.034065716, 0.12073365, ...]</td>\n",
       "    </tr>\n",
       "  </tbody>\n",
       "</table>\n",
       "</div>"
      ],
      "text/plain": [
       "   Threat ID  \\\n",
       "82   T-A1-02   \n",
       "\n",
       "                                                                                                                                                                                                                            summary_th_df  \\\n",
       "82  A Threat with the title Malicious function or application monitors messaging across A1 interface and the description Internal threat actor can gain access to the messaging across the A1 interface for a MiTM attack to read policy.   \n",
       "\n",
       "                                                                                                                                                                                                                                                                                                                                                                                                                                                                                                                                                                                                                                                                                                                                                                                                                                                                                                                                                                                                                                                                                                                                                                                                                                                                                                                                                                    embedding  \n",
       "82  [-0.022620711, 0.030083442, -0.053240065, -0.07003313, 0.099638656, -0.033062465, 0.118017256, 0.060991373, 0.050662365, 0.0044041723, 0.052033562, 0.00036436127, 0.03321257, -0.008540476, 0.023396136, 0.0017152323, 0.09174036, -0.03632503, 0.022281194, 0.05669235, 0.07531323, 0.07695808, 0.013747662, -0.058864783, -0.06371496, -0.052700922, -0.034420777, 0.003955471, 0.0048012407, -0.04158128, -0.06839854, 0.06041121, -0.028966647, 0.041668177, -0.05545633, 0.037674572, 0.053951018, -0.035915814, -0.06698455, -0.051288914, -0.011022979, 0.07584844, 0.020030476, 0.023962926, -0.04353449, -0.06320226, -0.042425357, 0.04305226, -0.09453632, -0.04972866, -0.035640556, -0.041038293, 0.03433417, 0.07820756, 0.04848625, -0.0050980053, 0.026246356, 0.07176132, 0.012795818, 0.054206356, 0.015000252, -0.01656557, 0.0035595011, -0.012659887, -0.0041696043, 0.012311607, -0.028769698, 0.032711767, 0.005295903, -0.013154538, -0.06512177, -0.04096362, -0.08946048, 0.008416432, 0.032877274, 0.12735058, -0.050369017, -0.02744275, -0.012921762, -0.01614451, -0.015096548, 0.03488829, -0.012132809, 0.07794108, -0.002108607, 0.05019531, -0.019831121, -0.10529871, 0.06404344, 0.038214736, 0.00040895646, -0.088727176, 0.08004229, 0.07741963, 0.03880629, 0.047975555, -0.07208863, -0.13432705, -0.034065716, 0.12073365, ...]  "
      ]
     },
     "execution_count": 108,
     "metadata": {},
     "output_type": "execute_result"
    }
   ],
   "source": [
    "test_threat"
   ]
  },
  {
   "cell_type": "code",
   "execution_count": 109,
   "id": "d2bf182c",
   "metadata": {},
   "outputs": [],
   "source": [
    "def get_relevant_informations(threat, db, n_results=3):\n",
    "    query = threat['summary_th_df']\n",
    "    embedding = threat['embedding']\n",
    "    results = db.query(\n",
    "        query_texts=[query],\n",
    "        query_embeddings=[embedding],\n",
    "        n_results=n_results\n",
    "    )\n",
    "    return results\n",
    "\n"
   ]
  },
  {
   "cell_type": "code",
   "execution_count": 110,
   "id": "b499bfcc",
   "metadata": {},
   "outputs": [],
   "source": [
    "relevant_infos = get_relevant_informations(test_threat.iloc[0], collection, 10)"
   ]
  },
  {
   "cell_type": "code",
   "execution_count": 113,
   "id": "37cf0010",
   "metadata": {},
   "outputs": [
    {
     "name": "stdout",
     "output_type": "stream",
     "text": [
      "Text: A CAPEC with the title Navigation Remapping To Propagate Malicious Content. The description of this CAPEC is: An adversary manipulates either egress or ingress data from a client within an application framework in order to change the content of messages and thereby circumvent the expected application logic.. The Domains of this are: Communications, Software\n",
      "Metadata: {'CAPEC ID': 'CAPEC-387'}\n",
      "Similarity Score: 0.6062\n",
      "----------------------------------------\n",
      "Text: A CAPEC with the title Choosing Message Identifier. The description of this CAPEC is: This pattern of attack is defined by the selection of messages distributed via multicast or public information channels that are intended for another client by determining the parameter value assigned to that client. This attack allows the adversary to gain access to potentially privileged information, and to possibly perpetrate other attacks through the distribution means by impersonation. If the channel/message being manipulated is an input rather than output mechanism for the system, (such as a command bus), this style of attack could be used to change the adversary's identifier to more a privileged one.. The Domain of this is: Communications\n",
      "Metadata: {'CAPEC ID': 'CAPEC-12'}\n",
      "Similarity Score: 0.5924\n",
      "----------------------------------------\n",
      "Text: A CAPEC with the title Application API Button Hijacking. The description of this CAPEC is: An attacker manipulates either egress or ingress data from a client within an application framework in order to change the destination and/or content of buttons displayed to a user within API messages. Performing this attack allows the attacker to manipulate content in such a way as to produce messages or content that looks authentic but contains buttons that point to an attacker controlled destination.. The Domains of this are: Communications, Software\n",
      "Metadata: {'CAPEC ID': 'CAPEC-388'}\n",
      "Similarity Score: 0.5773\n",
      "----------------------------------------\n",
      "Text: A CAPEC with the title Adversary in the Middle (AiTM). The description of this CAPEC is: \n",
      "            <xhtml:p>An adversary targets the communication between two components (typically client and server), in order to alter or obtain data from transactions. A general approach entails the adversary placing themself within the communication channel between the two components.</xhtml:p>\n",
      "         . The Domains of this are: Communications, Software\n",
      "Metadata: {'CAPEC ID': 'CAPEC-94'}\n",
      "Similarity Score: 0.5692\n",
      "----------------------------------------\n",
      "Text: A CAPEC with the title Protocol Manipulation. The description of this CAPEC is: An adversary subverts a communications protocol to perform an attack. This type of attack can allow an adversary to impersonate others, discover sensitive information, control the outcome of a session, or perform other attacks. This type of attack targets invalid assumptions that may be inherent in implementers of the protocol, incorrect implementations of the protocol, or vulnerabilities in the protocol itself.. The Domains of this are: Communications, Software\n",
      "Metadata: {'CAPEC ID': 'CAPEC-272'}\n",
      "Similarity Score: 0.5487\n",
      "----------------------------------------\n",
      "Text: A CAPEC with the title Intent Spoof. The description of this CAPEC is: An adversary, through a previously installed malicious application, issues an intent directed toward a specific trusted application's component in an attempt to achieve a variety of different objectives including modification of data, information disclosure, and data injection. Components that have been unintentionally exported and made public are subject to this type of an attack. If the component trusts the intent's action without verififcation, then the target application performs the functionality at the adversary's request, helping the adversary achieve the desired negative technical impact.. The Domain of this is: Software\n",
      "Metadata: {'CAPEC ID': 'CAPEC-502'}\n",
      "Similarity Score: 0.5475\n",
      "----------------------------------------\n",
      "Text: A CAPEC with the title Using Meta-characters in E-mail Headers to Inject Malicious Payloads. The description of this CAPEC is: This type of attack involves an attacker leveraging meta-characters in email headers to inject improper behavior into email programs. Email software has become increasingly sophisticated and feature-rich. In addition, email applications are ubiquitous and connected directly to the Web making them ideal targets to launch and propagate attacks. As the user demand for new functionality in email applications grows, they become more like browsers with complex rendering and plug in routines. As more email functionality is included and abstracted from the user, this creates opportunities for attackers. Virtually all email applications do not list email header information by default, however the email header contains valuable attacker vectors for the attacker to exploit particularly if the behavior of the email client application is known. Meta-characters are hidden from the user, but can contain scripts, enumerations, probes, and other attacks against the user's system.. The Domains of this are: Software, Software\n",
      "Metadata: {'CAPEC ID': 'CAPEC-41'}\n",
      "Similarity Score: 0.5369\n",
      "----------------------------------------\n",
      "Text: A CAPEC with the title Android Intent Intercept. The description of this CAPEC is: An adversary, through a previously installed malicious application, intercepts messages from a trusted Android-based application in an attempt to achieve a variety of different objectives including denial of service, information disclosure, and data injection. An implicit intent sent from a trusted application can be received by any application that has declared an appropriate intent filter. If the intent is not protected by a permission that the malicious application lacks, then the attacker can gain access to the data contained within the intent. Further, the intent can be either blocked from reaching the intended destination, or modified and potentially forwarded along.. The Domain of this is: Software\n",
      "Metadata: {'CAPEC ID': 'CAPEC-499'}\n",
      "Similarity Score: 0.5356\n",
      "----------------------------------------\n",
      "Text: A CAPEC with the title Scheme Squatting. The description of this CAPEC is: An adversary, through a previously installed malicious application, registers for a URL scheme intended for a target application that has not been installed. Thereafter, messages intended for the target application are handled by the malicious application. Upon receiving a message, the malicious application displays a screen that mimics the target application, thereby convincing the user to enter sensitive information. This type of attack is most often used to obtain sensitive information (e.g., credentials) from the user as they think that they are interacting with the intended target application.. The Domain of this is: Social Engineering\n",
      "Metadata: {'CAPEC ID': 'CAPEC-505'}\n",
      "Similarity Score: 0.5353\n",
      "----------------------------------------\n",
      "Text: A CAPEC with the title Infected Memory. The description of this CAPEC is: An adversary inserts malicious logic into memory enabling them to achieve a negative impact. This logic is often hidden from the user of the system and works behind the scenes to achieve negative impacts. This pattern of attack focuses on systems already fielded and used in operation as opposed to systems that are still under development and part of the supply chain.. The Domains of this are: Software, Hardware\n",
      "Metadata: {'CAPEC ID': 'CAPEC-456'}\n",
      "Similarity Score: 0.5295\n",
      "----------------------------------------\n"
     ]
    }
   ],
   "source": [
    "for doc, meta, score in zip(\n",
    "    relevant_infos['documents'][0],\n",
    "    relevant_infos['metadatas'][0],\n",
    "    relevant_infos['distances'][0]\n",
    "):\n",
    "    print(\"Text:\", doc)\n",
    "    print(\"Metadata:\", meta)\n",
    "    print(\"Similarity Score:\", round(1-score, 4))\n",
    "    print(\"-\" * 40)"
   ]
  },
  {
   "cell_type": "code",
   "execution_count": 112,
   "id": "207b09c7",
   "metadata": {},
   "outputs": [
    {
     "name": "stdout",
     "output_type": "stream",
     "text": [
      "Metadata: {'CAPEC ID': 'CAPEC-387'}\n",
      "Similarity Score: 0.6062\n",
      "----------------------------------------\n",
      "Metadata: {'CAPEC ID': 'CAPEC-12'}\n",
      "Similarity Score: 0.5924\n",
      "----------------------------------------\n",
      "Metadata: {'CAPEC ID': 'CAPEC-388'}\n",
      "Similarity Score: 0.5773\n",
      "----------------------------------------\n",
      "Metadata: {'CAPEC ID': 'CAPEC-94'}\n",
      "Similarity Score: 0.5692\n",
      "----------------------------------------\n",
      "Metadata: {'CAPEC ID': 'CAPEC-272'}\n",
      "Similarity Score: 0.5487\n",
      "----------------------------------------\n",
      "Metadata: {'CAPEC ID': 'CAPEC-502'}\n",
      "Similarity Score: 0.5475\n",
      "----------------------------------------\n",
      "Metadata: {'CAPEC ID': 'CAPEC-41'}\n",
      "Similarity Score: 0.5369\n",
      "----------------------------------------\n",
      "Metadata: {'CAPEC ID': 'CAPEC-499'}\n",
      "Similarity Score: 0.5356\n",
      "----------------------------------------\n",
      "Metadata: {'CAPEC ID': 'CAPEC-505'}\n",
      "Similarity Score: 0.5353\n",
      "----------------------------------------\n",
      "Metadata: {'CAPEC ID': 'CAPEC-456'}\n",
      "Similarity Score: 0.5295\n",
      "----------------------------------------\n"
     ]
    }
   ],
   "source": [
    "for meta, score in zip(relevant_infos['metadatas'][0], relevant_infos['distances'][0]):\n",
    "    print(\"Metadata:\", meta)\n",
    "    print(\"Similarity Score:\", round(1-score, 4))\n",
    "    print(\"-\" * 40)\n"
   ]
  },
  {
   "cell_type": "code",
   "execution_count": 114,
   "id": "beb43042",
   "metadata": {},
   "outputs": [
    {
     "data": {
      "text/plain": [
       "Index(['Name', 'Domain', 'Description', 'CAPEC ID', 'Similarity',\n",
       "       'summary_th_df', 'summary_ca_df'],\n",
       "      dtype='object')"
      ]
     },
     "execution_count": 114,
     "metadata": {},
     "output_type": "execute_result"
    }
   ],
   "source": [
    "threat2capec_mapping_df = pd.read_pickle('mapped_data/all_t2c_mappings.pk1')\n",
    "threat2capec_mapping_df.columns"
   ]
  },
  {
   "cell_type": "code",
   "execution_count": 115,
   "id": "3b7aa25c",
   "metadata": {},
   "outputs": [
    {
     "data": {
      "text/plain": [
       "(101738, 7)"
      ]
     },
     "execution_count": 115,
     "metadata": {},
     "output_type": "execute_result"
    }
   ],
   "source": [
    "threat2capec_mapping_df.shape"
   ]
  },
  {
   "cell_type": "code",
   "execution_count": 116,
   "id": "4fd5fc62",
   "metadata": {},
   "outputs": [],
   "source": [
    "\n",
    "comparison = threat2capec_mapping_df[threat2capec_mapping_df.Name == id_for_query]"
   ]
  },
  {
   "cell_type": "code",
   "execution_count": 117,
   "id": "124652d2",
   "metadata": {},
   "outputs": [
    {
     "data": {
      "text/html": [
       "<div>\n",
       "<style scoped>\n",
       "    .dataframe tbody tr th:only-of-type {\n",
       "        vertical-align: middle;\n",
       "    }\n",
       "\n",
       "    .dataframe tbody tr th {\n",
       "        vertical-align: top;\n",
       "    }\n",
       "\n",
       "    .dataframe thead th {\n",
       "        text-align: right;\n",
       "    }\n",
       "</style>\n",
       "<table border=\"1\" class=\"dataframe\">\n",
       "  <thead>\n",
       "    <tr style=\"text-align: right;\">\n",
       "      <th></th>\n",
       "      <th>CAPEC ID</th>\n",
       "      <th>Similarity</th>\n",
       "    </tr>\n",
       "  </thead>\n",
       "  <tbody>\n",
       "    <tr>\n",
       "      <th>26472</th>\n",
       "      <td>CAPEC-387</td>\n",
       "      <td>0.606208</td>\n",
       "    </tr>\n",
       "    <tr>\n",
       "      <th>85622</th>\n",
       "      <td>CAPEC-12</td>\n",
       "      <td>0.592353</td>\n",
       "    </tr>\n",
       "    <tr>\n",
       "      <th>60506</th>\n",
       "      <td>CAPEC-388</td>\n",
       "      <td>0.577323</td>\n",
       "    </tr>\n",
       "    <tr>\n",
       "      <th>21558</th>\n",
       "      <td>CAPEC-94</td>\n",
       "      <td>0.569238</td>\n",
       "    </tr>\n",
       "    <tr>\n",
       "      <th>12458</th>\n",
       "      <td>CAPEC-272</td>\n",
       "      <td>0.548653</td>\n",
       "    </tr>\n",
       "  </tbody>\n",
       "</table>\n",
       "</div>"
      ],
      "text/plain": [
       "        CAPEC ID  Similarity\n",
       "26472  CAPEC-387    0.606208\n",
       "85622   CAPEC-12    0.592353\n",
       "60506  CAPEC-388    0.577323\n",
       "21558   CAPEC-94    0.569238\n",
       "12458  CAPEC-272    0.548653"
      ]
     },
     "execution_count": 117,
     "metadata": {},
     "output_type": "execute_result"
    }
   ],
   "source": [
    "comparison[['CAPEC ID', 'Similarity']].sort_values('Similarity', ascending=False).head(5)"
   ]
  },
  {
   "cell_type": "code",
   "execution_count": 118,
   "id": "56ff15ce",
   "metadata": {},
   "outputs": [
    {
     "name": "stdout",
     "output_type": "stream",
     "text": [
      "49\n"
     ]
    },
    {
     "data": {
      "image/png": "[encoded data removed]",
      "text/plain": [
       "<Figure size 800x500 with 1 Axes>"
      ]
     },
     "metadata": {},
     "output_type": "display_data"
    }
   ],
   "source": [
    "import matplotlib.pyplot as plt\n",
    "\n",
    "# Filter by similarity\n",
    "filtered_df = threat2capec_mapping_df[threat2capec_mapping_df[\"Similarity\"] > 0.55]\n",
    "\n",
    "# Count CAPECs per threat\n",
    "capec_counts = filtered_df.groupby(\"Name\")[\"CAPEC ID\"].nunique()\n",
    "print(len(capec_counts))\n",
    "# Plot histogram\n",
    "plt.figure(figsize=(8, 5))\n",
    "plt.hist(capec_counts, bins=range(1, capec_counts.max() + 2), edgecolor='black', alpha=0.7)\n",
    "plt.title(\"Distribution of CAPEC counts per threat (similarity > 0.55)\")\n",
    "plt.xlabel(\"Number of CAPECs per threat\")\n",
    "plt.ylabel(\"Number of threats\")\n",
    "plt.grid(axis='y', linestyle='--', alpha=0.7)\n",
    "plt.tight_layout()\n",
    "plt.show()\n",
    "\n"
   ]
  },
  {
   "cell_type": "code",
   "execution_count": 139,
   "id": "2079c47c",
   "metadata": {},
   "outputs": [
    {
     "data": {
      "text/plain": [
       "Name\n",
       "T-AppLCM-01     14\n",
       "T-OPENSRC-02    19\n",
       "T-rAPP-06       22\n",
       "Name: CAPEC ID, dtype: int64"
      ]
     },
     "execution_count": 139,
     "metadata": {},
     "output_type": "execute_result"
    }
   ],
   "source": [
    "capec_counts[capec_counts >= 14]"
   ]
  },
  {
   "cell_type": "code",
   "execution_count": 119,
   "id": "ec3020f4",
   "metadata": {},
   "outputs": [
    {
     "data": {
      "text/plain": [
       "count    176.000000\n",
       "mean       0.576572\n",
       "std        0.025154\n",
       "min        0.550044\n",
       "25%        0.557217\n",
       "50%        0.569787\n",
       "75%        0.585756\n",
       "max        0.660303\n",
       "Name: Similarity, dtype: float64"
      ]
     },
     "execution_count": 119,
     "metadata": {},
     "output_type": "execute_result"
    }
   ],
   "source": [
    "filtered_df.Similarity.describe()"
   ]
  },
  {
   "cell_type": "code",
   "execution_count": 120,
   "id": "8856e1b0",
   "metadata": {},
   "outputs": [
    {
     "data": {
      "text/plain": [
       "'A Threat with the title An attacker bypasses authentication and authorization using an injection attack and the description It is possible that an attacker to submit requests without prior authentication and authorization by executing an injection attack to manipulate configurations, access logs, perform remote code execution, etc.'"
      ]
     },
     "execution_count": 120,
     "metadata": {},
     "output_type": "execute_result"
    }
   ],
   "source": [
    "threat2capec_mapping_df[threat2capec_mapping_df['Name'] == \"T-rAPP-06\"]['summary_th_df'].values[0]"
   ]
  },
  {
   "cell_type": "code",
   "execution_count": 121,
   "id": "4fdcd70b",
   "metadata": {},
   "outputs": [
    {
     "data": {
      "text/plain": [
       "count    49.000000\n",
       "mean      3.591837\n",
       "std       4.559415\n",
       "min       1.000000\n",
       "25%       1.000000\n",
       "50%       2.000000\n",
       "75%       4.000000\n",
       "max      22.000000\n",
       "Name: CAPEC ID, dtype: float64"
      ]
     },
     "execution_count": 121,
     "metadata": {},
     "output_type": "execute_result"
    }
   ],
   "source": [
    "capec_counts.describe()"
   ]
  },
  {
   "cell_type": "code",
   "execution_count": 123,
   "id": "f34f3415",
   "metadata": {},
   "outputs": [
    {
     "data": {
      "text/plain": [
       "np.float64(2.0)"
      ]
     },
     "execution_count": 123,
     "metadata": {},
     "output_type": "execute_result"
    }
   ],
   "source": [
    "capec_counts.median()"
   ]
  },
  {
   "cell_type": "code",
   "execution_count": 122,
   "id": "6b1a9fc7",
   "metadata": {},
   "outputs": [],
   "source": [
    "import numpy as np"
   ]
  },
  {
   "cell_type": "code",
   "execution_count": 125,
   "id": "0f67ddb7",
   "metadata": {},
   "outputs": [],
   "source": [
    "def create_rag_prompt(threat):\n",
    "    n_results = 10\n",
    "    results = get_relevant_informations(threat, collection, n_results=n_results)\n",
    "\n",
    "    # Prepare CAPEC list with IDs and summaries\n",
    "    capec_entries = []\n",
    "    for doc, meta in zip(results['documents'][0], results['metadatas'][0]):\n",
    "        capec_id = meta.get(\"CAPEC ID\", \"N/A\")\n",
    "        capec_entries.append(f\"{capec_id}: {doc}\")\n",
    "\n",
    "    capec_information = \"\\n\".join(capec_entries)\n",
    "    threat_description = threat['summary_th_df']\n",
    "\n",
    "    # Build the RAG prompt\n",
    "    prompt = f\"\"\"\n",
    "This task involves mapping a threat summary from the Open Radio Access Network (O-RAN) domain to relevant attack patterns.\n",
    "O-RAN represents a paradigm shift in Radio Access Network (RAN) design, moving from proprietary hardware to a more open,\n",
    "virtualized, and software-driven approach. It is used for mobile communication networks, particularly for 5G and future\n",
    "generations. Key principles of O-RAN include:\n",
    "- Open System: Characterized by standardized, open interfaces to foster a multi-vendor ecosystem.\n",
    "- Disaggregated RAN: Functionalities are distributed across different physical or virtual network functions.\n",
    "- Software-Driven Approach: Components are deployed on white-box appliances and accelerators.\n",
    "- Closed-Loop Control: Enabled by data-driven components deployed on RAN Intelligent Controllers (RICs).\n",
    "\n",
    "Now, based on the context above, analyze the following threat summary:\n",
    "{threat_description}\n",
    "\n",
    "Additionally, consider the following list of candidate CAPEC entries that were retrieved from a vector database as the 20\n",
    "most similar attack patterns to the given threat summary:\n",
    "\n",
    "{capec_information}\n",
    "\n",
    "From this list, identify which CAPEC IDs are most relevant to the described threat.\n",
    "\n",
    "As an output, provide only a JSON array containing the selected CAPEC IDs.\n",
    "Do not include any explanations or additional text, only the JSON array.\n",
    "\"\"\"\n",
    "    return prompt.strip()\n"
   ]
  },
  {
   "cell_type": "code",
   "execution_count": 127,
   "id": "0a4eae05",
   "metadata": {},
   "outputs": [],
   "source": [
    "small_models = ['deepseek-r1:1.5b']"
   ]
  },
  {
   "cell_type": "code",
   "execution_count": 128,
   "id": "87b8e190",
   "metadata": {},
   "outputs": [
    {
     "name": "stderr",
     "output_type": "stream",
     "text": [
      "100%|██████████| 1/1 [01:14<00:00, 74.44s/it]"
     ]
    },
    {
     "name": "stdout",
     "output_type": "stream",
     "text": [
      "Inference for model deepseek-r1:1.5b completed for threat T-A1-02\n"
     ]
    },
    {
     "name": "stderr",
     "output_type": "stream",
     "text": [
      "\n"
     ]
    }
   ],
   "source": [
    "rag_test = model_inference_ollama(small_models, test_threat, create_rag_prompt)"
   ]
  },
  {
   "cell_type": "code",
   "execution_count": 129,
   "id": "64d32df9",
   "metadata": {},
   "outputs": [
    {
     "name": "stdout",
     "output_type": "stream",
     "text": [
      "========================================\n",
      "Model: deepseek-r1:1.5b\n",
      "Speed: 13.18 tokens/second\n",
      "Total runtime: 00 m 50.08 seconds\n",
      "\n",
      "Output:\n"
     ]
    },
    {
     "data": {
      "text/markdown": [
       "[\n",
       "  {\n",
       "    \"capec_id\": \"94\"\n",
       "  }\n",
       "]"
      ],
      "text/plain": [
       "<IPython.core.display.Markdown object>"
      ]
     },
     "metadata": {},
     "output_type": "display_data"
    }
   ],
   "source": [
    "display_model_results_ollama(small_models, rag_test)"
   ]
  },
  {
   "cell_type": "code",
   "execution_count": 130,
   "id": "3493e2f8",
   "metadata": {},
   "outputs": [],
   "source": [
    "medium_models = ['deepseek-r1:8b']"
   ]
  },
  {
   "cell_type": "code",
   "execution_count": 131,
   "id": "38b4afa3",
   "metadata": {},
   "outputs": [
    {
     "name": "stderr",
     "output_type": "stream",
     "text": [
      "100%|██████████| 1/1 [06:42<00:00, 402.17s/it]"
     ]
    },
    {
     "name": "stdout",
     "output_type": "stream",
     "text": [
      "Inference for model deepseek-r1:8b completed for threat T-A1-02\n"
     ]
    },
    {
     "name": "stderr",
     "output_type": "stream",
     "text": [
      "\n"
     ]
    }
   ],
   "source": [
    "rag_test_medium = model_inference_ollama(medium_models, test_threat, create_rag_prompt)"
   ]
  },
  {
   "cell_type": "code",
   "execution_count": 132,
   "id": "5fc597ff",
   "metadata": {},
   "outputs": [
    {
     "name": "stdout",
     "output_type": "stream",
     "text": [
      "========================================\n",
      "Model: deepseek-r1:8b\n",
      "Speed: 4.44 tokens/second\n",
      "Total runtime: 02 m 48.55 seconds\n",
      "\n",
      "Output:\n"
     ]
    },
    {
     "data": {
      "text/markdown": [
       "```json\n",
       "[\"CAPEC-94\", \"CAPEC-272\"]\n",
       "```"
      ],
      "text/plain": [
       "<IPython.core.display.Markdown object>"
      ]
     },
     "metadata": {},
     "output_type": "display_data"
    }
   ],
   "source": [
    "display_model_results_ollama(medium_models, rag_test_medium)"
   ]
  },
  {
   "cell_type": "markdown",
   "id": "b149fd32",
   "metadata": {},
   "source": [
    "## Fine Tuning with LoRA"
   ]
  },
  {
   "cell_type": "code",
   "execution_count": 9,
   "id": "8e6bb3f9",
   "metadata": {},
   "outputs": [
    {
     "name": "stderr",
     "output_type": "stream",
     "text": [
      "/tmp/ipykernel_3837/4019501768.py:1: UserWarning: WARNING: Unsloth should be imported before transformers, peft to ensure all optimizations are applied. Your code may run slower or encounter memory issues without these optimizations.\n",
      "\n",
      "Please restructure your imports with 'import unsloth' at the top of your file.\n",
      "  from unsloth import FastLanguageModel, is_bfloat16_supported\n"
     ]
    },
    {
     "name": "stdout",
     "output_type": "stream",
     "text": [
      "🦥 Unsloth: Will patch your computer to enable 2x faster free finetuning.\n",
      "🦥 Unsloth Zoo will now patch everything to make training faster!\n"
     ]
    }
   ],
   "source": [
    "from unsloth import FastLanguageModel, is_bfloat16_supported\n",
    "from transformers import TrainingArguments\n",
    "from trl import SFTTrainer\n",
    "import wandb\n"
   ]
  },
  {
   "cell_type": "code",
   "execution_count": 14,
   "id": "e131f8f5",
   "metadata": {},
   "outputs": [],
   "source": [
    "wnb_token = os.getenv(\"WNB_TOKEN\")"
   ]
  },
  {
   "cell_type": "code",
   "execution_count": null,
   "id": "0ddced48",
   "metadata": {},
   "outputs": [
    {
     "ename": "SyntaxError",
     "evalue": "closing parenthesis '}' does not match opening parenthesis '(' on line 2 (651126383.py, line 16)",
     "output_type": "error",
     "traceback": [
      "  \u001b[36mCell\u001b[39m\u001b[36m \u001b[39m\u001b[32mIn[16]\u001b[39m\u001b[32m, line 16\u001b[39m\n\u001b[31m    \u001b[39m\u001b[31m})\u001b[39m\n    ^\n\u001b[31mSyntaxError\u001b[39m\u001b[31m:\u001b[39m closing parenthesis '}' does not match opening parenthesis '(' on line 2\n"
     ]
    }
   ],
   "source": [
    "wandb.login(key=wnb_token)\n",
    "run = wandb.init(\n",
    "    project=\"capec-mapping\",\n",
    "    job_type=\"training\",\n",
    "    anonymous=\"allow\",\n",
    "        )\n",
    "    # config={\n",
    "    #     \"model_name\": \"deepseek-r1:8b\",\n",
    "    #     \"dataset\": \"mapped_data/lora_training_data.jsonl\",\n",
    "    #     \"batch_size\": 4,\n",
    "    #     \"learning_rate\": 2e-5,\n",
    "    #     \"num_train_epochs\": 3,\n",
    "    #     \"gradient_accumulation_steps\": 1,\n",
    "    #     \"logging_steps\": 10,\n",
    "    #     \"save_steps\": 1000,\n",
    "    # \n",
    "\n"
   ]
  },
  {
   "cell_type": "code",
   "execution_count": 12,
   "id": "1a70b0e6",
   "metadata": {},
   "outputs": [
    {
     "name": "stdout",
     "output_type": "stream",
     "text": [
      "{'capec_id': 'CAPEC-533',\n",
      " 'mapped_capec': 'A CAPEC with the title Malicious Manual Software Update. The '\n",
      "                 'description of this CAPEC is:An attacker introduces '\n",
      "                 \"malicious code to the victim's system by altering the \"\n",
      "                 'payload of a software update, allowing for additional '\n",
      "                 'compromise or site disruption at the victim location. These '\n",
      "                 'manual, or user-assisted attacks, vary from requiring the '\n",
      "                 'user to download and run an executable, to as streamlined as '\n",
      "                 'tricking the user to click a URL. Attacks which aim at '\n",
      "                 'penetrating a specific network infrastructure often rely '\n",
      "                 'upon secondary attack methods to achieve the desired impact. '\n",
      "                 'Spamming, for example, is a common method employed as an '\n",
      "                 'secondary attack vector. Thus the attacker has in their '\n",
      "                 'arsenal a choice of initial attack vectors ranging from '\n",
      "                 'traditional SMTP/POP/IMAP spamming and its varieties, to '\n",
      "                 'web-application mechanisms which commonly implement both '\n",
      "                 'chat and rich HTML messaging within the user interface.. The '\n",
      "                 'Domains of this are: Social Engineering, Supply Chain, '\n",
      "                 'Software',\n",
      " 'threat': 'Threat Summary: A Threat with the title Attacker exploits insecure '\n",
      "           'API to gain access to SMO and the descriptionAn insecure API may '\n",
      "           'allow access to a system for an attacker to conduct remote code '\n",
      "           'execution or an advanced persistent threat'}\n"
     ]
    }
   ],
   "source": [
    "import json\n",
    "\n",
    "file_path = 'mapped_data/lora_training_data.jsonl'\n",
    "\n",
    "# Use a list comprehension to load each line as a separate JSON object\n",
    "data = [json.loads(line) for line in open(file_path, 'r', encoding='utf-8')]\n",
    "\n",
    "# 'data' is now a list of dictionaries, one for each line in your file.\n",
    "pprint(data[0]) # To see the first item"
   ]
  },
  {
   "cell_type": "markdown",
   "id": "f1788469",
   "metadata": {},
   "source": [
    "# Evaluation"
   ]
  },
  {
   "cell_type": "code",
   "execution_count": 276,
   "id": "35848faf",
   "metadata": {},
   "outputs": [],
   "source": [
    "import time\n",
    "from datetime import datetime\n",
    "\n",
    "def run_and_log(func, *args, models, threat_id, environment=None, optimization=None, **kwargs):\n",
    "    \"\"\"\n",
    "    Runs the specified function and logs its runtime, environment,\n",
    "    optimization info, and timestamp to a model-suffix-specific evaluation.md file.\n",
    "    \"\"\"\n",
    "    # Normalize model name and suffix\n",
    "    model = models[0] if isinstance(models, list) else models\n",
    "    model_suffix = model.split(\":\")[-1] if \":\" in model else model\n",
    "\n",
    "    # Run the function and measure time\n",
    "    start_time = time.time()\n",
    "    result = func(models=models, *args, **kwargs)\n",
    "    runtime = time.time() - start_time\n",
    "\n",
    "    # Prepare runtime info\n",
    "    minutes, seconds = divmod(runtime, 60)\n",
    "    timestamp = datetime.now().isoformat()\n",
    "\n",
    "    # Build Markdown log\n",
    "    md_lines = [\n",
    "        f\"\\n## Runtime Information for `{environment}`\",\n",
    "        f\"- **Timestamp:** {timestamp}\",\n",
    "        f\"- **Execution Time:** {int(minutes)} minutes {seconds:.2f} seconds\",\n",
    "    ]\n",
    "\n",
    "    # Add optimization/model speed info if available\n",
    "    if optimization:\n",
    "        resp = result[model][0]  # expects eval_count and eval_duration attributes\n",
    "        tokens_per_second = resp.eval_count / (resp.eval_duration / 1e9)\n",
    "        md_lines.extend([\n",
    "            f\"- **Model:** {model}\",\n",
    "            f\"- **Optimization Technique:** {optimization}\",\n",
    "            f\"- **Model speed:** {tokens_per_second:.2f} tokens/second\"\n",
    "        ])\n",
    "\n",
    "            # Extract and clean the model output\n",
    "        # This assumes 'resp' is a dictionary containing the model's response\n",
    "        if 'response' in resp:\n",
    "            # Use re.sub to remove everything before '```json'\n",
    "            cleaned_text = re.sub(\n",
    "                r\"^[\\s\\S]*?```json\\s*([\\s\\S]*?)\\s*```[\\s\\S]*$\", \n",
    "                r\"\\1\", \n",
    "                resp['response'], \n",
    "                flags=re.DOTALL\n",
    "            )\n",
    "            \n",
    "            md_lines.extend([\n",
    "                f\"- **Model Output for {threat_id}:** {cleaned_text.strip() if cleaned_text else 'No output available.'}\",\n",
    "                \n",
    "            ])\n",
    "\n",
    "    # Append to evaluation file\n",
    "    filename = f\"evaluation_{model_suffix}.md\"\n",
    "    with open(filename, \"a\") as f:\n",
    "        f.write(\"\\n\".join(md_lines) + \"\\n\")\n",
    "\n",
    "    return result\n"
   ]
  },
  {
   "cell_type": "code",
   "execution_count": 280,
   "id": "af21160f",
   "metadata": {},
   "outputs": [],
   "source": [
    "id ='T-MPLANE-01'"
   ]
  },
  {
   "cell_type": "code",
   "execution_count": 281,
   "id": "f7faed0a",
   "metadata": {},
   "outputs": [
    {
     "data": {
      "text/html": [
       "<div>\n",
       "<style scoped>\n",
       "    .dataframe tbody tr th:only-of-type {\n",
       "        vertical-align: middle;\n",
       "    }\n",
       "\n",
       "    .dataframe tbody tr th {\n",
       "        vertical-align: top;\n",
       "    }\n",
       "\n",
       "    .dataframe thead th {\n",
       "        text-align: right;\n",
       "    }\n",
       "</style>\n",
       "<table border=\"1\" class=\"dataframe\">\n",
       "  <thead>\n",
       "    <tr style=\"text-align: right;\">\n",
       "      <th></th>\n",
       "      <th>Threat ID</th>\n",
       "      <th>summary_th_df</th>\n",
       "    </tr>\n",
       "  </thead>\n",
       "  <tbody>\n",
       "    <tr>\n",
       "      <th>11</th>\n",
       "      <td>T-MPLANE-01</td>\n",
       "      <td>A Threat with the title An attacker attempts to intercept the Fronthaul (MITM) over M Plane and the description The High bit rate Fronthaul interface impose strict performance requirements ((bandwidth, latency, fronthaul transport link length, etc.) that limit the use of some security features, due to the increased processing delay. This opens the risk of Man-in-the-Middle (MITM) attacks over the fronthaul interface or O1 to intercept the M plane.\\nFor the transported Management-Plane data over the fronthaul interface or O1, an Attacker could potentially do threats, such as passive wiretapping and denial of service, but would need to break M-Plane Security prior to gain OAM access.</td>\n",
       "    </tr>\n",
       "  </tbody>\n",
       "</table>\n",
       "</div>"
      ],
      "text/plain": [
       "      Threat ID  \\\n",
       "11  T-MPLANE-01   \n",
       "\n",
       "                                                                                                                                                                                                                                                                                                                                                                                                                                                                                                                                                                                                                                                                                                         summary_th_df  \n",
       "11  A Threat with the title An attacker attempts to intercept the Fronthaul (MITM) over M Plane and the description The High bit rate Fronthaul interface impose strict performance requirements ((bandwidth, latency, fronthaul transport link length, etc.) that limit the use of some security features, due to the increased processing delay. This opens the risk of Man-in-the-Middle (MITM) attacks over the fronthaul interface or O1 to intercept the M plane.\\nFor the transported Management-Plane data over the fronthaul interface or O1, an Attacker could potentially do threats, such as passive wiretapping and denial of service, but would need to break M-Plane Security prior to gain OAM access.  "
      ]
     },
     "execution_count": 281,
     "metadata": {},
     "output_type": "execute_result"
    }
   ],
   "source": [
    "threat_data_for_PE[threat_data_for_PE['Threat ID'] == id]"
   ]
  },
  {
   "cell_type": "code",
   "execution_count": 283,
   "id": "7192f88f",
   "metadata": {},
   "outputs": [
    {
     "data": {
      "text/html": [
       "<div>\n",
       "<style scoped>\n",
       "    .dataframe tbody tr th:only-of-type {\n",
       "        vertical-align: middle;\n",
       "    }\n",
       "\n",
       "    .dataframe tbody tr th {\n",
       "        vertical-align: top;\n",
       "    }\n",
       "\n",
       "    .dataframe thead th {\n",
       "        text-align: right;\n",
       "    }\n",
       "</style>\n",
       "<table border=\"1\" class=\"dataframe\">\n",
       "  <thead>\n",
       "    <tr style=\"text-align: right;\">\n",
       "      <th></th>\n",
       "      <th>Threat ID</th>\n",
       "      <th>summary_th_df</th>\n",
       "    </tr>\n",
       "  </thead>\n",
       "  <tbody>\n",
       "    <tr>\n",
       "      <th>10</th>\n",
       "      <td>T-FRHAUL-02</td>\n",
       "      <td>A Threat with the title Unauthorized access to Open Front Haul Ethernet L1 physical layer interface(s) and the description The Open Front Haul Ethernet L1 physical interface comprises one or more coaxial cables, twisted pairs, or optical fibers. Each end of the Open Front Haul Ethernet L1 physical interface comprises a physical connection (colloquially known as an Ethernet Port) to physical O-RAN network elements, e.g., O-DU, O-RU, etc.\\nUnauthorized access to the Open Front Haul Ethernet L1 physical layer interface (cables and connections) provides a means to launch attacks on the availability, integrity, and confidentiality of the Open Front Haul system.\\nPotential loss of availability on the Open Front Haul interface can occur from one or more of the following threats:\\n• An unauthorized device on the Ethernet L1 Interface can flood the L1 interface with unintended network traffic causing disruption or degradation of authorized network elements on the Open Front Haul interface.\\n• An unauthorized device on the Ethernet L1 Interface can send L2 messages to authorized network devices causing disruption, denial, or degradation of the Open Front Haul interface.\\n• An attacker (person) gains access to the Open Front Haul Ethernet L1 interface(s) and denies the Open Front Haul services by disabling a physical connection to a network element either by removing an Ethernet port connection or cutting the physical interface (coaxial cable, twisted pair, or optical fiber). \\n\\nPotential loss of availability, confidentiality, and/or integrity on the Open Front Haul interface can occur from one or more of the following threats:\\n• An unauthorized device on the Ethernet L1 Interface has access to U-Plane traffic on the Open Front Hall Interface.\\n• An unauthorized device on the Ethernet L1 Interface has access to S-Plane traffic on the Open Front Hall Interface.\\n• An unauthorized device on the Ethernet L1 Interface has access to C-Plane traffic on the Open Front Hall Interface.\\n• An unauthorized device on the Ethernet L1 Interface has access to M-Plane traffic on the Open Front Hall Interface.</td>\n",
       "    </tr>\n",
       "    <tr>\n",
       "      <th>11</th>\n",
       "      <td>T-MPLANE-01</td>\n",
       "      <td>A Threat with the title An attacker attempts to intercept the Fronthaul (MITM) over M Plane and the description The High bit rate Fronthaul interface impose strict performance requirements ((bandwidth, latency, fronthaul transport link length, etc.) that limit the use of some security features, due to the increased processing delay. This opens the risk of Man-in-the-Middle (MITM) attacks over the fronthaul interface or O1 to intercept the M plane.\\nFor the transported Management-Plane data over the fronthaul interface or O1, an Attacker could potentially do threats, such as passive wiretapping and denial of service, but would need to break M-Plane Security prior to gain OAM access.</td>\n",
       "    </tr>\n",
       "    <tr>\n",
       "      <th>12</th>\n",
       "      <td>T-SPLANE-01</td>\n",
       "      <td>A Threat with the title DoS attack against a Master clock and the description A denial of service (DoS) attack towards a Master clock of the timing network used by the open Fronthaul to maintain the availability and accuracy of the Master clock. An attacker can attack a master clock by sending an excessive number of time protocol packets or impersonate a legitimate clock, a slave, or an intermediate clock, by sending malicious messages to the master, thus degrading the victim’s performance.\\nThe attacker may be residing either within the attacked network (insider) or on an external network connected to the attacked network.\\nThis attack results in a situation where the clock service is interrupted completely or the timing protocol is operational but slaves are being provided inaccurate timing information due the degraded performance of the Master clock.\\nThis clock service disruption or degradation in the accuracy of time may cause DoS to applications on all the RUs that rely on accurate time, potentially bringing down the cell.\\nA cell outage caused by misaligned time, may further impact performance in connected neighboring cells.</td>\n",
       "    </tr>\n",
       "    <tr>\n",
       "      <th>13</th>\n",
       "      <td>T-SPLANE-02</td>\n",
       "      <td>A Threat with the title Impersonation of a Master clock (Spoofing) within a PTP network with a fake ANNOUNCE message and the description An attacker within the PTP network can impersonate the master clock’s grandmasterIdentity value and propose himself as a grandmaster candidate by sending fake ANNOUNCE messages declaring him to be the best clock in the network. The attacker may be residing either within the attacked network (insider) or on an external network connected to the attacked network.\\nThis attack results in a situation where the attacker clock becomes a GM, PTP is operational, all clocks are synchronized, but the malicious GM provides intentionally inaccurate timing information.\\nThis degradation in the accuracy of time may cause DoS to applications on all the RUs that rely on accurate time, potentially bringing down the cell.\\nA cell outage caused by misaligned time, may further impact performance in connected neighboring cells.</td>\n",
       "    </tr>\n",
       "    <tr>\n",
       "      <th>14</th>\n",
       "      <td>T-SPLANE-03</td>\n",
       "      <td>A Threat with the title A Rogue PTP Instance wanting to be a Grand Master and the description An attacker can propose himself as a grandmaster candidate by sending manipulated/malicious ANNOUNCE messages declaring him to be the best clock in the network. The attacker causes other nodes in the network to believe it is a legitimate master. The attacker is internal to the attacked PTP network and could launch this attack by either modification of in-flight protocol packets or injecting fake ANNOUNCE messages to the PTP network. It is assumed that an MITM attacker has physical access to a segment of the network or has gained control of one of the nodes in the network. This attack results in a situation where the time protocol is operational but slaves are being provided intentionally inaccurate timing information.\\nThis degradation in the accuracy of time may cause DoS to applications on all the RUs that rely on accurate time, potentially bringing down the cell.\\nA cell outage caused by misaligned time, may further impact performance in connected neighboring cells.</td>\n",
       "    </tr>\n",
       "  </tbody>\n",
       "</table>\n",
       "</div>"
      ],
      "text/plain": [
       "      Threat ID  \\\n",
       "10  T-FRHAUL-02   \n",
       "11  T-MPLANE-01   \n",
       "12  T-SPLANE-01   \n",
       "13  T-SPLANE-02   \n",
       "14  T-SPLANE-03   \n",
       "\n",
       "                                                                                                                                                                                                                                                                                                                                                                                                                                                                                                                                                                                                                                                                                                                                                                                                                                                                                                                                                                                                                                                                                                                                                                                                                                                                                                                                                                                                                                                                                                                                                                                                                                                                                                                                                                                                                                                                                                                                                                                                                                                                                                                                                                                                summary_th_df  \n",
       "10  A Threat with the title Unauthorized access to Open Front Haul Ethernet L1 physical layer interface(s) and the description The Open Front Haul Ethernet L1 physical interface comprises one or more coaxial cables, twisted pairs, or optical fibers. Each end of the Open Front Haul Ethernet L1 physical interface comprises a physical connection (colloquially known as an Ethernet Port) to physical O-RAN network elements, e.g., O-DU, O-RU, etc.\\nUnauthorized access to the Open Front Haul Ethernet L1 physical layer interface (cables and connections) provides a means to launch attacks on the availability, integrity, and confidentiality of the Open Front Haul system.\\nPotential loss of availability on the Open Front Haul interface can occur from one or more of the following threats:\\n• An unauthorized device on the Ethernet L1 Interface can flood the L1 interface with unintended network traffic causing disruption or degradation of authorized network elements on the Open Front Haul interface.\\n• An unauthorized device on the Ethernet L1 Interface can send L2 messages to authorized network devices causing disruption, denial, or degradation of the Open Front Haul interface.\\n• An attacker (person) gains access to the Open Front Haul Ethernet L1 interface(s) and denies the Open Front Haul services by disabling a physical connection to a network element either by removing an Ethernet port connection or cutting the physical interface (coaxial cable, twisted pair, or optical fiber). \\n\\nPotential loss of availability, confidentiality, and/or integrity on the Open Front Haul interface can occur from one or more of the following threats:\\n• An unauthorized device on the Ethernet L1 Interface has access to U-Plane traffic on the Open Front Hall Interface.\\n• An unauthorized device on the Ethernet L1 Interface has access to S-Plane traffic on the Open Front Hall Interface.\\n• An unauthorized device on the Ethernet L1 Interface has access to C-Plane traffic on the Open Front Hall Interface.\\n• An unauthorized device on the Ethernet L1 Interface has access to M-Plane traffic on the Open Front Hall Interface.  \n",
       "11                                                                                                                                                                                                                                                                                                                                                                                                                                                                                                                                                                                                                                                                                                                                                                                                                                                                                                                                                                                                                                                                                                                                                                                                                                                                                                                                                                                                                                                                                         A Threat with the title An attacker attempts to intercept the Fronthaul (MITM) over M Plane and the description The High bit rate Fronthaul interface impose strict performance requirements ((bandwidth, latency, fronthaul transport link length, etc.) that limit the use of some security features, due to the increased processing delay. This opens the risk of Man-in-the-Middle (MITM) attacks over the fronthaul interface or O1 to intercept the M plane.\\nFor the transported Management-Plane data over the fronthaul interface or O1, an Attacker could potentially do threats, such as passive wiretapping and denial of service, but would need to break M-Plane Security prior to gain OAM access.  \n",
       "12                                                                                                                                                                                                                                                                                                                                                                                                                                                                                                                                                                                                                                                                                                                                                                                                                                                                                                                                                                                                              A Threat with the title DoS attack against a Master clock and the description A denial of service (DoS) attack towards a Master clock of the timing network used by the open Fronthaul to maintain the availability and accuracy of the Master clock. An attacker can attack a master clock by sending an excessive number of time protocol packets or impersonate a legitimate clock, a slave, or an intermediate clock, by sending malicious messages to the master, thus degrading the victim’s performance.\\nThe attacker may be residing either within the attacked network (insider) or on an external network connected to the attacked network.\\nThis attack results in a situation where the clock service is interrupted completely or the timing protocol is operational but slaves are being provided inaccurate timing information due the degraded performance of the Master clock.\\nThis clock service disruption or degradation in the accuracy of time may cause DoS to applications on all the RUs that rely on accurate time, potentially bringing down the cell.\\nA cell outage caused by misaligned time, may further impact performance in connected neighboring cells.  \n",
       "13                                                                                                                                                                                                                                                                                                                                                                                                                                                                                                                                                                                                                                                                                                                                                                                                                                                                                                                                                                                                                                                                                                                                                                                                                 A Threat with the title Impersonation of a Master clock (Spoofing) within a PTP network with a fake ANNOUNCE message and the description An attacker within the PTP network can impersonate the master clock’s grandmasterIdentity value and propose himself as a grandmaster candidate by sending fake ANNOUNCE messages declaring him to be the best clock in the network. The attacker may be residing either within the attacked network (insider) or on an external network connected to the attacked network.\\nThis attack results in a situation where the attacker clock becomes a GM, PTP is operational, all clocks are synchronized, but the malicious GM provides intentionally inaccurate timing information.\\nThis degradation in the accuracy of time may cause DoS to applications on all the RUs that rely on accurate time, potentially bringing down the cell.\\nA cell outage caused by misaligned time, may further impact performance in connected neighboring cells.  \n",
       "14                                                                                                                                                                                                                                                                                                                                                                                                                                                                                                                                                                                                                                                                                                                                                                                                                                                                                                                                                                                                                                                                                      A Threat with the title A Rogue PTP Instance wanting to be a Grand Master and the description An attacker can propose himself as a grandmaster candidate by sending manipulated/malicious ANNOUNCE messages declaring him to be the best clock in the network. The attacker causes other nodes in the network to believe it is a legitimate master. The attacker is internal to the attacked PTP network and could launch this attack by either modification of in-flight protocol packets or injecting fake ANNOUNCE messages to the PTP network. It is assumed that an MITM attacker has physical access to a segment of the network or has gained control of one of the nodes in the network. This attack results in a situation where the time protocol is operational but slaves are being provided intentionally inaccurate timing information.\\nThis degradation in the accuracy of time may cause DoS to applications on all the RUs that rely on accurate time, potentially bringing down the cell.\\nA cell outage caused by misaligned time, may further impact performance in connected neighboring cells.  "
      ]
     },
     "execution_count": 283,
     "metadata": {},
     "output_type": "execute_result"
    }
   ],
   "source": [
    "threat_data_for_PE[10:15]"
   ]
  },
  {
   "cell_type": "markdown",
   "id": "83871807",
   "metadata": {},
   "source": [
    "### Prompt Engineering"
   ]
  },
  {
   "cell_type": "code",
   "execution_count": 227,
   "id": "b60255fe",
   "metadata": {},
   "outputs": [],
   "source": [
    "models = ['deepseek-r1:1.5b']"
   ]
  },
  {
   "cell_type": "code",
   "execution_count": 286,
   "id": "d0df601d",
   "metadata": {},
   "outputs": [
    {
     "name": "stdout",
     "output_type": "stream",
     "text": [
      "Threat 0: T-O-RAN-01\n",
      "Given the following threat summary:\n",
      "\n",
      "    \"A Threat with the title An attacker exploits insecure designs or lack of adaption in O-RAN components and the description Unauthenticated/unauthorized access to O-RAN components could possibly be achieved via the different O-RAN interfaces, depending upon the design of the hardware-software O-RAN system and how different functions are segregated within the O-RAN system. \n",
      "O-RAN components might be vulnerable if: \n",
      "• Outdated component from the lack of update or patch management,\n",
      "• Poorly design architecture,\n",
      "• Missing appropriate security hardening,\n",
      "• Unnecessary or insecure function/protocol/component.\n",
      "An attacker could, in such case, either inject malwares and/or manipulate existing software, harm the O-RAN components, create a performance issue by manipulation of parameters, or reconfigure the O-RAN components and disable the security features with the purpose of eavesdropping or wiretapping on various CUS & M planes, reaching northbound systems, attack broader network to cause denial-of-service, steal unprotected private keys, certificates, hash values, or other type of breaches.\n",
      "In addition, O-RAN components could be software providing network functions, so they are likely to be vulnerable to software flaws: it could be possible to bypass firewall restrictions or to take advantage of a buffer overflow to execute arbitrary commands, etc.\"\n",
      "\n",
      "    Provide the most relevant CAPEC IDs for this threat based on the description of each CAPEC. CAPEC stands for Common Attack Pattern Enumeration and Classification.\n",
      "\n",
      "    As an output, provide a JSON array of CAPEC IDs that are most relevant to the threat described. Do not include any additional text or explanations, just the JSON array.\n",
      "Threat 1: T-O-RAN-02\n",
      "Given the following threat summary:\n",
      "\n",
      "    \"A Threat with the title An attacker exploits misconfigured or poorly configured O-RAN components and the description Unauthenticated/unauthorized access to O-RAN components could possibly be achieved via the different O-RAN interfaces, depending upon the configuration of the hardware-software O-RAN system. \n",
      "O-RAN components might be vulnerable if: \n",
      "• Errors from the lack of configuration change management,\n",
      "• Misconfigured or poorly configured O-RAN components,\n",
      "• Improperly configured permissions,\n",
      "• Unnecessary features are enabled (e.g. unnecessary ports, services, accounts, or privileges),\n",
      "• Default accounts and their passwords still enabled and unchanged,\n",
      "• Security features are disabled or not configured securely.\n",
      "An attacker could, in such case, either inject malwares and/or manipulate existing software, harm the O-RAN components, create a performance issue by manipulation of parameters, or reconfigure the O-RAN components and disable the security features with the purpose of eavesdropping or wiretapping on various CUS & M planes, reaching northbound systems, attack broader network to cause denial-of-service, steal unprotected private keys, certificates, hash values, or other type of breaches.\"\n",
      "\n",
      "    Provide the most relevant CAPEC IDs for this threat based on the description of each CAPEC. CAPEC stands for Common Attack Pattern Enumeration and Classification.\n",
      "\n",
      "    As an output, provide a JSON array of CAPEC IDs that are most relevant to the threat described. Do not include any additional text or explanations, just the JSON array.\n",
      "Threat 2: T-O-RAN-03\n",
      "Given the following threat summary:\n",
      "\n",
      "    \"A Threat with the title Attacks from the internet to penetrate O-RAN network boundary and the description Web servers serving O-RAN functional and management services should provide adequate protection. \n",
      "An attacker that have access to the uncontrolled O-RAN network could:\n",
      "• Bypass the information flow control policy implemented by the firewall,\n",
      "• And/or attack O-RAN components in the trusted networks by taking advantage of particularities and errors in the design and implementation of the network protocols (IP, TCP, UDP, application protocols),\n",
      "• Use of incorrect or exceeded TCP sequence numbers,\n",
      "• Perform brute force attacks on FTP passwords,\n",
      "• Use of improper HTTP user sessions,\n",
      "• Etc.\n",
      "The effects of such attacks may include:\n",
      "• An intrusion, meaning unauthorized access to O-RAN components,\n",
      "• Blocking, flooding or restarting an O-RAN component causing a denial of service,\n",
      "• Flooding of network equipment, causing a denial of service,\n",
      "• Etc.\"\n",
      "\n",
      "    Provide the most relevant CAPEC IDs for this threat based on the description of each CAPEC. CAPEC stands for Common Attack Pattern Enumeration and Classification.\n",
      "\n",
      "    As an output, provide a JSON array of CAPEC IDs that are most relevant to the threat described. Do not include any additional text or explanations, just the JSON array.\n",
      "Threat 3: T-O-RAN-04\n",
      "Given the following threat summary:\n",
      "\n",
      "    \"A Threat with the title An attacker attempts to jam the airlink signal through IoT devices and the description DDoS attacks on O-RAN systems: The 5G evolution means billions of things, collectively referred to as IoT, will be using the 5G O-RAN. Thus, IoT could increase the risk of O-RAN resource overload by way of DDoS attacks. Attackers create a botnet army by infecting many (millions/billions) IoT devices with a “remote-reboot” malware. Attackers instruct the malware to reboot all devices in a specific or targeted 5G coverage area at the same time.\"\n",
      "\n",
      "    Provide the most relevant CAPEC IDs for this threat based on the description of each CAPEC. CAPEC stands for Common Attack Pattern Enumeration and Classification.\n",
      "\n",
      "    As an output, provide a JSON array of CAPEC IDs that are most relevant to the threat described. Do not include any additional text or explanations, just the JSON array.\n",
      "Threat 4: T-O-RAN-05\n",
      "Given the following threat summary:\n",
      "\n",
      "    \"A Threat with the title An attacker penetrates and compromises the O-RAN system through the open O-RAN’s Fronthaul, O1, O2, A1, and E2 and the description O-RAN’s Fronthaul, O1, O2, A1, and E2 management interfaces are the new open interfaces that allow software programmability of RAN. These interfaces may not be secured to industry best practices.\n",
      "O-RAN components might be vulnerable if: \n",
      "• Improper or missing authentication and authorization processes,\n",
      "• Improper or missing ciphering and integrity checks of sensitive data exchanged over O-RAN interfaces,\n",
      "• Improper or missing replay protection of sensitive data exchanged over O-RAN interfaces,\n",
      "• Improper prevention of key reuse,\n",
      "• Improper implementation,\n",
      "• Improperly validate inputs, respond to error conditions in both the submitted data as well as out of sequence protocol steps.\n",
      "An attacker could, in such case, cause denial-of-service, data tampering or information disclosure, etc.\n",
      "NOTE: O-RAN interfaces allow use of TLS or SSH. Industry best practices mandate the use of TLS (v1.2 or higher) or SSH certificate-based authentication. An implementation that implements TLS version lower than 1.2 or a SSH password authentication, may become the key source of vulnerability that a malicious code will exploit to compromise the O-RAN system.\"\n",
      "\n",
      "    Provide the most relevant CAPEC IDs for this threat based on the description of each CAPEC. CAPEC stands for Common Attack Pattern Enumeration and Classification.\n",
      "\n",
      "    As an output, provide a JSON array of CAPEC IDs that are most relevant to the threat described. Do not include any additional text or explanations, just the JSON array.\n",
      "Threat 5: T-O-RAN-06\n",
      "Given the following threat summary:\n",
      "\n",
      "    \"A Threat with the title An attacker exploits insufficient/improper mechanisms for authentication and authorization to compromise O-RAN components and the description O-RAN management and orchestration should not be used without appropriate authentication and authorization and authorization checks. \n",
      "O-RAN components might be vulnerable if: \n",
      "• Unauthenticated access to O-RAN functions,\n",
      "• Improper authentication mechanisms,\n",
      "• Use of Predefined/ default accounts,\n",
      "• Weak or missing password policy,\n",
      "• Lack of mutual authentication to O-RAN components and interfaces,\n",
      "• Failure to block consecutive failed login attempts,\n",
      "• Improper authorization and access control policy.\n",
      "An attacker could, in such case, either inject malwares and/or manipulate existing software, harm the O-RAN components, create a performance issue by manipulation of parameters, or reconfigure the O-RAN components and disable the security features with the purpose of eavesdropping or wiretapping on various CUS & M planes, reaching northbound systems, attack broader network to cause denial-of-service, steal unprotected private keys, certificates, hash values, or other type of breaches.\"\n",
      "\n",
      "    Provide the most relevant CAPEC IDs for this threat based on the description of each CAPEC. CAPEC stands for Common Attack Pattern Enumeration and Classification.\n",
      "\n",
      "    As an output, provide a JSON array of CAPEC IDs that are most relevant to the threat described. Do not include any additional text or explanations, just the JSON array.\n",
      "Threat 6: T-O-RAN-07\n",
      "Given the following threat summary:\n",
      "\n",
      "    \"A Threat with the title An attacker compromises O-RAN monitoring mechanisms and log files integrity and availability and the description Improper / missing controls for protection of security event log files generated by O-RAN components and the lack of security events logged together with a unique system reference (e.g. host name, IP or MAC address) and the exact time the incident occurred do not allow a correct and rapid audit in case of security incident occurrence. Security restoration is delayed. Compromise of availability and integrity of security event log files could conduct to delays, wrong audit results, delays in security restoration, threats persistence.\"\n",
      "\n",
      "    Provide the most relevant CAPEC IDs for this threat based on the description of each CAPEC. CAPEC stands for Common Attack Pattern Enumeration and Classification.\n",
      "\n",
      "    As an output, provide a JSON array of CAPEC IDs that are most relevant to the threat described. Do not include any additional text or explanations, just the JSON array.\n",
      "Threat 7: T-O-RAN-08\n",
      "Given the following threat summary:\n",
      "\n",
      "    \"A Threat with the title An attacker compromises O-RAN data integrity, confidentiality and traceability and the description O-RAN components may not be secured to industry best practices. Adequate security controls are needed for protecting sensitive data stored, processed and transferred by O-RAN components. \n",
      "O-RAN components might be vulnerable if: \n",
      "• Improper or missing ciphering of sensitive data in storage or in transfer,\n",
      "• Improper or missing integrity mechanisms to protect sensitive data in storage or in transfer,\n",
      "• Presence of active function(s) that reveal confidential internal data in the clear to administrators. Such functions could be, for example, local or remote OAM CLI or GUI, logging messages, alarms, configuration file exports etc.\n",
      "• No traceability (logging) of access to personal data.\n",
      "An attacker could, in such case, cause denial-of-service, data tampering, information disclosure, spoofing identity, elevation of privilege, etc.\"\n",
      "\n",
      "    Provide the most relevant CAPEC IDs for this threat based on the description of each CAPEC. CAPEC stands for Common Attack Pattern Enumeration and Classification.\n",
      "\n",
      "    As an output, provide a JSON array of CAPEC IDs that are most relevant to the threat described. Do not include any additional text or explanations, just the JSON array.\n",
      "Threat 8: T-O-RAN-09\n",
      "Given the following threat summary:\n",
      "\n",
      "    \"A Threat with the title An attacker compromises O-RAN components integrity and availability and the description Overload situation could appear in the case of DoS attack or increased traffic. Inability to deal with such events affects availability of information or security functionalities of O-RAN components.\n",
      "O-RAN components may boot from unauthorized memory devices. Inability to deal with such events affects integrity of information or security functionalities of O-RAN components.\n",
      "Insufficient assurance of O-RAN software package integrity could affect CIA of data, services, hardware and policies during installation or upgrade phases for O-RAN components.\n",
      "An attacker could, in such case, cause denial-of-service, data tampering, information disclosure, spoofing identity, etc.\"\n",
      "\n",
      "    Provide the most relevant CAPEC IDs for this threat based on the description of each CAPEC. CAPEC stands for Common Attack Pattern Enumeration and Classification.\n",
      "\n",
      "    As an output, provide a JSON array of CAPEC IDs that are most relevant to the threat described. Do not include any additional text or explanations, just the JSON array.\n",
      "Threat 9: T-FRHAUL-01\n",
      "Given the following threat summary:\n",
      "\n",
      "    \"A Threat with the title An attacker penetrates O-DU and beyond through O-RU or the Fronthaul interface and the description When having two different vendors, the O-RU and the O-DU needs to be managed as different entities and may have heterogeneous security levels. Instead, the O-DU will have to bridge the management traffic between the management system and the O-RU. Hence the possibilities to reach the northbound systems beyond the O-DU through the Open Fronthaul interface become a possible attack vector in this split architecture.\"\n",
      "\n",
      "    Provide the most relevant CAPEC IDs for this threat based on the description of each CAPEC. CAPEC stands for Common Attack Pattern Enumeration and Classification.\n",
      "\n",
      "    As an output, provide a JSON array of CAPEC IDs that are most relevant to the threat described. Do not include any additional text or explanations, just the JSON array.\n",
      "Threat 10: T-FRHAUL-02\n",
      "Given the following threat summary:\n",
      "\n",
      "    \"A Threat with the title Unauthorized access to Open Front Haul Ethernet L1 physical layer interface(s) and the description The Open Front Haul Ethernet L1 physical interface comprises one or more coaxial cables, twisted pairs, or optical fibers. Each end of the Open Front Haul Ethernet L1 physical interface comprises a physical connection (colloquially known as an Ethernet Port) to physical O-RAN network elements, e.g., O-DU, O-RU, etc.\n",
      "Unauthorized access to the Open Front Haul Ethernet L1 physical layer interface (cables and connections) provides a means to launch attacks on the availability, integrity, and confidentiality of the Open Front Haul system.\n",
      "Potential loss of availability on the Open Front Haul interface can occur from one or more of the following threats:\n",
      "• An unauthorized device on the Ethernet L1 Interface can flood the L1 interface with unintended network traffic causing disruption or degradation of authorized network elements on the Open Front Haul interface.\n",
      "• An unauthorized device on the Ethernet L1 Interface can send L2 messages to authorized network devices causing disruption, denial, or degradation of the Open Front Haul interface.\n",
      "• An attacker (person) gains access to the Open Front Haul Ethernet L1 interface(s) and denies the Open Front Haul services by disabling a physical connection to a network element either by removing an Ethernet port connection or cutting the physical interface (coaxial cable, twisted pair, or optical fiber). \n",
      "\n",
      "Potential loss of availability, confidentiality, and/or integrity on the Open Front Haul interface can occur from one or more of the following threats:\n",
      "• An unauthorized device on the Ethernet L1 Interface has access to U-Plane traffic on the Open Front Hall Interface.\n",
      "• An unauthorized device on the Ethernet L1 Interface has access to S-Plane traffic on the Open Front Hall Interface.\n",
      "• An unauthorized device on the Ethernet L1 Interface has access to C-Plane traffic on the Open Front Hall Interface.\n",
      "• An unauthorized device on the Ethernet L1 Interface has access to M-Plane traffic on the Open Front Hall Interface.\"\n",
      "\n",
      "    Provide the most relevant CAPEC IDs for this threat based on the description of each CAPEC. CAPEC stands for Common Attack Pattern Enumeration and Classification.\n",
      "\n",
      "    As an output, provide a JSON array of CAPEC IDs that are most relevant to the threat described. Do not include any additional text or explanations, just the JSON array.\n",
      "Threat 11: T-MPLANE-01\n",
      "Given the following threat summary:\n",
      "\n",
      "    \"A Threat with the title An attacker attempts to intercept the Fronthaul (MITM) over M Plane and the description The High bit rate Fronthaul interface impose strict performance requirements ((bandwidth, latency, fronthaul transport link length, etc.) that limit the use of some security features, due to the increased processing delay. This opens the risk of Man-in-the-Middle (MITM) attacks over the fronthaul interface or O1 to intercept the M plane.\n",
      "For the transported Management-Plane data over the fronthaul interface or O1, an Attacker could potentially do threats, such as passive wiretapping and denial of service, but would need to break M-Plane Security prior to gain OAM access.\"\n",
      "\n",
      "    Provide the most relevant CAPEC IDs for this threat based on the description of each CAPEC. CAPEC stands for Common Attack Pattern Enumeration and Classification.\n",
      "\n",
      "    As an output, provide a JSON array of CAPEC IDs that are most relevant to the threat described. Do not include any additional text or explanations, just the JSON array.\n",
      "Threat 12: T-SPLANE-01\n",
      "Given the following threat summary:\n",
      "\n",
      "    \"A Threat with the title DoS attack against a Master clock and the description A denial of service (DoS) attack towards a Master clock of the timing network used by the open Fronthaul to maintain the availability and accuracy of the Master clock. An attacker can attack a master clock by sending an excessive number of time protocol packets or impersonate a legitimate clock, a slave, or an intermediate clock, by sending malicious messages to the master, thus degrading the victim’s performance.\n",
      "The attacker may be residing either within the attacked network (insider) or on an external network connected to the attacked network.\n",
      "This attack results in a situation where the clock service is interrupted completely or the timing protocol is operational but slaves are being provided inaccurate timing information due the degraded performance of the Master clock.\n",
      "This clock service disruption or degradation in the accuracy of time may cause DoS to applications on all the RUs that rely on accurate time, potentially bringing down the cell.\n",
      "A cell outage caused by misaligned time, may further impact performance in connected neighboring cells.\"\n",
      "\n",
      "    Provide the most relevant CAPEC IDs for this threat based on the description of each CAPEC. CAPEC stands for Common Attack Pattern Enumeration and Classification.\n",
      "\n",
      "    As an output, provide a JSON array of CAPEC IDs that are most relevant to the threat described. Do not include any additional text or explanations, just the JSON array.\n",
      "Threat 13: T-SPLANE-02\n",
      "Given the following threat summary:\n",
      "\n",
      "    \"A Threat with the title Impersonation of a Master clock (Spoofing) within a PTP network with a fake ANNOUNCE message and the description An attacker within the PTP network can impersonate the master clock’s grandmasterIdentity value and propose himself as a grandmaster candidate by sending fake ANNOUNCE messages declaring him to be the best clock in the network. The attacker may be residing either within the attacked network (insider) or on an external network connected to the attacked network.\n",
      "This attack results in a situation where the attacker clock becomes a GM, PTP is operational, all clocks are synchronized, but the malicious GM provides intentionally inaccurate timing information.\n",
      "This degradation in the accuracy of time may cause DoS to applications on all the RUs that rely on accurate time, potentially bringing down the cell.\n",
      "A cell outage caused by misaligned time, may further impact performance in connected neighboring cells.\"\n",
      "\n",
      "    Provide the most relevant CAPEC IDs for this threat based on the description of each CAPEC. CAPEC stands for Common Attack Pattern Enumeration and Classification.\n",
      "\n",
      "    As an output, provide a JSON array of CAPEC IDs that are most relevant to the threat described. Do not include any additional text or explanations, just the JSON array.\n"
     ]
    },
    {
     "ename": "TypeError",
     "evalue": "unsupported operand type(s) for /: 'NoneType' and 'float'",
     "output_type": "error",
     "traceback": [
      "\u001b[31m---------------------------------------------------------------------------\u001b[39m",
      "\u001b[31mTypeError\u001b[39m                                 Traceback (most recent call last)",
      "\u001b[36mCell\u001b[39m\u001b[36m \u001b[39m\u001b[32mIn[286]\u001b[39m\u001b[32m, line 4\u001b[39m\n\u001b[32m      2\u001b[39m \u001b[38;5;28mprint\u001b[39m(\u001b[33mf\u001b[39m\u001b[33m\"\u001b[39m\u001b[33mThreat \u001b[39m\u001b[38;5;132;01m{\u001b[39;00midx\u001b[38;5;132;01m}\u001b[39;00m\u001b[33m: \u001b[39m\u001b[38;5;132;01m{\u001b[39;00mthreat[\u001b[33m'\u001b[39m\u001b[33mThreat ID\u001b[39m\u001b[33m'\u001b[39m]\u001b[38;5;132;01m}\u001b[39;00m\u001b[33m\"\u001b[39m)\n\u001b[32m      3\u001b[39m single_threat_df = pd.DataFrame(threat).T\n\u001b[32m----> \u001b[39m\u001b[32m4\u001b[39m \u001b[43mrun_and_log\u001b[49m\u001b[43m(\u001b[49m\n\u001b[32m      5\u001b[39m \u001b[43m    \u001b[49m\u001b[43mfunc\u001b[49m\u001b[43m=\u001b[49m\u001b[43mmodel_inference_ollama\u001b[49m\u001b[43m,\u001b[49m\n\u001b[32m      6\u001b[39m \u001b[43m    \u001b[49m\u001b[43mmodels\u001b[49m\u001b[43m=\u001b[49m\u001b[43mmodels\u001b[49m\u001b[43m,\u001b[49m\n\u001b[32m      7\u001b[39m \u001b[43m    \u001b[49m\u001b[43mthreat_id\u001b[49m\u001b[43m=\u001b[49m\u001b[43mthreat\u001b[49m\u001b[43m[\u001b[49m\u001b[33;43m'\u001b[39;49m\u001b[33;43mThreat ID\u001b[39;49m\u001b[33;43m'\u001b[39;49m\u001b[43m]\u001b[49m\u001b[43m,\u001b[49m\n\u001b[32m      8\u001b[39m \u001b[43m    \u001b[49m\u001b[43mdf\u001b[49m\u001b[43m=\u001b[49m\u001b[43msingle_threat_df\u001b[49m\u001b[43m[\u001b[49m\u001b[33;43m'\u001b[39;49m\u001b[33;43msummary_th_df\u001b[39;49m\u001b[33;43m'\u001b[39;49m\u001b[43m]\u001b[49m\u001b[43m.\u001b[49m\u001b[43mvalues\u001b[49m\u001b[43m[\u001b[49m\u001b[32;43m0\u001b[39;49m\u001b[43m]\u001b[49m\u001b[43m,\u001b[49m\n\u001b[32m      9\u001b[39m \u001b[43m    \u001b[49m\u001b[43mprompt_function\u001b[49m\u001b[43m=\u001b[49m\u001b[43mcreate_basic_zero_shot_prompt\u001b[49m\u001b[43m,\u001b[49m\n\u001b[32m     10\u001b[39m \u001b[43m    \u001b[49m\u001b[43menvironment\u001b[49m\u001b[43m=\u001b[49m\u001b[33;43m\"\u001b[39;49m\u001b[33;43mMedium\u001b[39;49m\u001b[33;43m\"\u001b[39;49m\u001b[43m,\u001b[49m\n\u001b[32m     11\u001b[39m \u001b[43m    \u001b[49m\u001b[43moptimization\u001b[49m\u001b[43m=\u001b[49m\u001b[33;43m'\u001b[39;49m\u001b[33;43mPrompt Engineering - Basic Zero Shot\u001b[39;49m\u001b[33;43m'\u001b[39;49m\n\u001b[32m     12\u001b[39m \u001b[43m\u001b[49m\u001b[43m)\u001b[49m\n",
      "\u001b[36mCell\u001b[39m\u001b[36m \u001b[39m\u001b[32mIn[276]\u001b[39m\u001b[32m, line 32\u001b[39m, in \u001b[36mrun_and_log\u001b[39m\u001b[34m(func, models, threat_id, environment, optimization, *args, **kwargs)\u001b[39m\n\u001b[32m     30\u001b[39m \u001b[38;5;28;01mif\u001b[39;00m optimization:\n\u001b[32m     31\u001b[39m     resp = result[model][\u001b[32m0\u001b[39m]  \u001b[38;5;66;03m# expects eval_count and eval_duration attributes\u001b[39;00m\n\u001b[32m---> \u001b[39m\u001b[32m32\u001b[39m     tokens_per_second = resp.eval_count / (\u001b[43mresp\u001b[49m\u001b[43m.\u001b[49m\u001b[43meval_duration\u001b[49m\u001b[43m \u001b[49m\u001b[43m/\u001b[49m\u001b[43m \u001b[49m\u001b[32;43m1e9\u001b[39;49m)\n\u001b[32m     33\u001b[39m     md_lines.extend([\n\u001b[32m     34\u001b[39m         \u001b[33mf\u001b[39m\u001b[33m\"\u001b[39m\u001b[33m- **Model:** \u001b[39m\u001b[38;5;132;01m{\u001b[39;00mmodel\u001b[38;5;132;01m}\u001b[39;00m\u001b[33m\"\u001b[39m,\n\u001b[32m     35\u001b[39m         \u001b[33mf\u001b[39m\u001b[33m\"\u001b[39m\u001b[33m- **Optimization Technique:** \u001b[39m\u001b[38;5;132;01m{\u001b[39;00moptimization\u001b[38;5;132;01m}\u001b[39;00m\u001b[33m\"\u001b[39m,\n\u001b[32m     36\u001b[39m         \u001b[33mf\u001b[39m\u001b[33m\"\u001b[39m\u001b[33m- **Model speed:** \u001b[39m\u001b[38;5;132;01m{\u001b[39;00mtokens_per_second\u001b[38;5;132;01m:\u001b[39;00m\u001b[33m.2f\u001b[39m\u001b[38;5;132;01m}\u001b[39;00m\u001b[33m tokens/second\u001b[39m\u001b[33m\"\u001b[39m\n\u001b[32m     37\u001b[39m     ])\n\u001b[32m     39\u001b[39m         \u001b[38;5;66;03m# Extract and clean the model output\u001b[39;00m\n\u001b[32m     40\u001b[39m     \u001b[38;5;66;03m# This assumes 'resp' is a dictionary containing the model's response\u001b[39;00m\n",
      "\u001b[31mTypeError\u001b[39m: unsupported operand type(s) for /: 'NoneType' and 'float'"
     ]
    }
   ],
   "source": [
    "for idx, threat in threat_data_for_PE.iterrows():\n",
    "    print(f\"Threat {idx+1}: {threat['Threat ID']}\")\n",
    "    single_threat_df = pd.DataFrame(threat).T\n",
    "    run_and_log(\n",
    "        func=model_inference_ollama,\n",
    "        models=models,\n",
    "        threat_id=threat['Threat ID'],\n",
    "        df=single_threat_df['summary_th_df'].values[0],\n",
    "        prompt_function=create_basic_zero_shot_prompt,\n",
    "        environment=\"Medium\",\n",
    "        optimization='Prompt Engineering - Basic Zero Shot'\n",
    "    )\n",
    "  "
   ]
  },
  {
   "cell_type": "code",
   "execution_count": 168,
   "id": "a3c4a551",
   "metadata": {},
   "outputs": [
    {
     "data": {
      "text/html": [
       "<div>\n",
       "<style scoped>\n",
       "    .dataframe tbody tr th:only-of-type {\n",
       "        vertical-align: middle;\n",
       "    }\n",
       "\n",
       "    .dataframe tbody tr th {\n",
       "        vertical-align: top;\n",
       "    }\n",
       "\n",
       "    .dataframe thead th {\n",
       "        text-align: right;\n",
       "    }\n",
       "</style>\n",
       "<table border=\"1\" class=\"dataframe\">\n",
       "  <thead>\n",
       "    <tr style=\"text-align: right;\">\n",
       "      <th></th>\n",
       "      <th>Threat ID</th>\n",
       "      <th>summary_th_df</th>\n",
       "    </tr>\n",
       "  </thead>\n",
       "  <tbody>\n",
       "    <tr>\n",
       "      <th>0</th>\n",
       "      <td>T-O-RAN-01</td>\n",
       "      <td>A Threat with the title An attacker exploits insecure designs or lack of adaption in O-RAN components and the description Unauthenticated/unauthorized access to O-RAN components could possibly be achieved via the different O-RAN interfaces, depending upon the design of the hardware-software O-RAN system and how different functions are segregated within the O-RAN system. \\nO-RAN components might be vulnerable if: \\n• Outdated component from the lack of update or patch management,\\n• Poorly design architecture,\\n• Missing appropriate security hardening,\\n• Unnecessary or insecure function/protocol/component.\\nAn attacker could, in such case, either inject malwares and/or manipulate existing software, harm the O-RAN components, create a performance issue by manipulation of parameters, or reconfigure the O-RAN components and disable the security features with the purpose of eavesdropping or wiretapping on various CUS &amp; M planes, reaching northbound systems, attack broader network to cause denial-of-service, steal unprotected private keys, certificates, hash values, or other type of breaches.\\nIn addition, O-RAN components could be software providing network functions, so they are likely to be vulnerable to software flaws: it could be possible to bypass firewall restrictions or to take advantage of a buffer overflow to execute arbitrary commands, etc.</td>\n",
       "    </tr>\n",
       "  </tbody>\n",
       "</table>\n",
       "</div>"
      ],
      "text/plain": [
       "    Threat ID  \\\n",
       "0  T-O-RAN-01   \n",
       "\n",
       "                                                                                                                                                                                                                                                                                                                                                                                                                                                                                                                                                                                                                                                                                                                                                                                                                                                                                                                                                                                                                                                                                                                                                                                                                                                                                                                                                                                                              summary_th_df  \n",
       "0  A Threat with the title An attacker exploits insecure designs or lack of adaption in O-RAN components and the description Unauthenticated/unauthorized access to O-RAN components could possibly be achieved via the different O-RAN interfaces, depending upon the design of the hardware-software O-RAN system and how different functions are segregated within the O-RAN system. \\nO-RAN components might be vulnerable if: \\n• Outdated component from the lack of update or patch management,\\n• Poorly design architecture,\\n• Missing appropriate security hardening,\\n• Unnecessary or insecure function/protocol/component.\\nAn attacker could, in such case, either inject malwares and/or manipulate existing software, harm the O-RAN components, create a performance issue by manipulation of parameters, or reconfigure the O-RAN components and disable the security features with the purpose of eavesdropping or wiretapping on various CUS & M planes, reaching northbound systems, attack broader network to cause denial-of-service, steal unprotected private keys, certificates, hash values, or other type of breaches.\\nIn addition, O-RAN components could be software providing network functions, so they are likely to be vulnerable to software flaws: it could be possible to bypass firewall restrictions or to take advantage of a buffer overflow to execute arbitrary commands, etc.  "
      ]
     },
     "execution_count": 168,
     "metadata": {},
     "output_type": "execute_result"
    }
   ],
   "source": [
    "single_threat_df"
   ]
  },
  {
   "cell_type": "code",
   "execution_count": 197,
   "id": "d962c0fc",
   "metadata": {},
   "outputs": [
    {
     "data": {
      "text/plain": [
       "{'deepseek-r1:8b': [GenerateResponse(model='deepseek-r1:8b', created_at='2025-08-11T12:55:37.509949628Z', done=True, done_reason='stop', total_duration=7478924117, load_duration=2848720760, prompt_eval_count=202, prompt_eval_duration=205876185, eval_count=350, eval_duration=4423001913, response='<think>\\nOkay, let\\'s tackle this problem step by step. The user provided a list of threats with their respective CAPEC IDs and descriptions, but there seems to be some confusion in how they presented it. They mentioned \"T-SharedORU-36\", which might be a typo or miscommunication since the standard CAPEC IDs are three-digit numbers like T-XXX-01.\\n\\nFirst, I need to clarify what exactly is being asked here. The user wants me to provide relevant CAPEC IDs based on threat descriptions, but they didn\\'t specify any particular threat details beyond listing some existing CAPEC entries. Without specific threat names or descriptions from the user\\'s input (since their provided list seems more like existing CAPEC references than actual threats), I can\\'t directly map these to attack patterns.\\n\\nThe user might be trying to understand how different types of attacks relate to each other, but without clear examples or context about what kind of threats they\\'re referring to, it\\'s challenging. Maybe they meant for me to analyze a specific threat scenario and find matching CAPEC IDs? But as presented now, I don\\'t have enough information.\\n\\nI should consider that the user might be working with some internal classification system where \"T-SharedORU-36\" is their own identifier rather than standard CAPEC. If so, they\\'d need to provide more details about what each threat represents or how it relates to known attack patterns.\\n\\nWithout specific threat descriptions from the user (only seeing references like T-XXX), I can\\'t perform an accurate mapping to CAPEC IDs. The best approach would be for the user to clarify which threats they want analyzed and describe them properly, matching standard CAPEC terminology.\\n</think>\\n```json\\n[]\\n```', thinking=None, context=[151669, 22043, 279, 2701, 5899, 12126, 1447, 262, 330, 15, 414, 350, 12, 16997, 868, 52, 12, 18, 21, 198, 16, 260, 350, 12, 2164, 8556, 44, 12, 15, 16, 198, 17, 286, 350, 12, 3067, 20359, 7380, 12, 15, 17, 198, 18, 310, 350, 12, 11085, 12, 15, 17, 198, 19, 310, 350, 12, 11085, 12, 15, 17, 198, 310, 2503, 6926, 16, 22, 16, 688, 350, 6222, 10531, 12, 15, 23, 198, 16, 22, 17, 1843, 350, 10911, 16, 12, 15, 20, 198, 16, 22, 18, 688, 350, 12, 11085, 12, 15, 17, 198, 16, 22, 19, 688, 350, 6691, 969, 12, 15, 21, 198, 16, 22, 20, 688, 350, 12, 868, 52, 12, 15, 16, 198, 675, 25, 3988, 11, 17287, 25, 220, 16, 22, 21, 11, 13231, 25, 1633, 1837, 262, 39565, 279, 1429, 9760, 9183, 10943, 28360, 369, 419, 5899, 3118, 389, 279, 4008, 315, 1817, 9183, 10943, 13, 9183, 10943, 13352, 369, 7718, 20790, 18834, 77125, 323, 54882, 382, 262, 1634, 458, 2550, 11, 3410, 264, 4718, 1334, 315, 9183, 10943, 28360, 429, 525, 1429, 9760, 311, 279, 5899, 7481, 13, 3155, 537, 2924, 894, 5107, 1467, 476, 40841, 11, 1101, 279, 4718, 1334, 13, 151670, 151667, 198, 32313, 11, 1077, 594, 21403, 419, 3491, 3019, 553, 3019, 13, 576, 1196, 3897, 264, 1140, 315, 17736, 448, 862, 19511, 9183, 10943, 28360, 323, 27787, 11, 714, 1052, 4977, 311, 387, 1045, 21340, 304, 1246, 807, 10449, 432, 13, 2379, 9733, 330, 51, 12, 16997, 868, 52, 12, 18, 21, 497, 892, 2578, 387, 264, 85105, 476, 5786, 50171, 2474, 279, 5297, 9183, 10943, 28360, 525, 2326, 48342, 5109, 1075, 350, 12, 30100, 12, 15, 16, 382, 5338, 11, 358, 1184, 311, 37163, 1128, 6896, 374, 1660, 4588, 1588, 13, 576, 1196, 6801, 752, 311, 3410, 9760, 9183, 10943, 28360, 3118, 389, 5899, 27787, 11, 714, 807, 3207, 944, 13837, 894, 3953, 5899, 3565, 7797, 14838, 1045, 6350, 9183, 10943, 10695, 13, 17147, 3151, 5899, 5036, 476, 27787, 504, 279, 1196, 594, 1946, 320, 11284, 862, 3897, 1140, 4977, 803, 1075, 6350, 9183, 10943, 15057, 1091, 5042, 17736, 701, 358, 646, 944, 5961, 2415, 1493, 311, 3359, 12624, 382, 785, 1196, 2578, 387, 4460, 311, 3535, 1246, 2155, 4494, 315, 8776, 28143, 311, 1817, 1008, 11, 714, 2041, 2797, 10295, 476, 2266, 911, 1128, 3093, 315, 17736, 807, 2299, 22023, 311, 11, 432, 594, 17003, 13, 10696, 807, 8791, 369, 752, 311, 23643, 264, 3151, 5899, 15048, 323, 1477, 12579, 9183, 10943, 28360, 30, 1988, 438, 10449, 1431, 11, 358, 1513, 944, 614, 3322, 1995, 382, 40, 1265, 2908, 429, 279, 1196, 2578, 387, 3238, 448, 1045, 5306, 23850, 1849, 1380, 330, 51, 12, 16997, 868, 52, 12, 18, 21, 1, 374, 862, 1828, 12816, 4751, 1091, 5297, 9183, 10943, 13, 1416, 773, 11, 807, 4172, 1184, 311, 3410, 803, 3565, 911, 1128, 1817, 5899, 10868, 476, 1246, 432, 35616, 311, 3881, 3359, 12624, 382, 26040, 3151, 5899, 27787, 504, 279, 1196, 320, 3243, 9120, 15057, 1075, 350, 12, 30100, 701, 358, 646, 944, 2736, 458, 13382, 12731, 311, 9183, 10943, 28360, 13, 576, 1850, 5486, 1035, 387, 369, 279, 1196, 311, 37163, 892, 17736, 807, 1366, 29139, 323, 7512, 1105, 10277, 11, 12579, 5297, 9183, 10943, 56626, 624, 151668, 198, 73594, 2236, 198, 19536, 73594])]}"
      ]
     },
     "execution_count": 197,
     "metadata": {},
     "output_type": "execute_result"
    }
   ],
   "source": [
    "run_and_log(func = model_inference_ollama, models=models, df = df, prompt_function=create_basic_zero_shot_prompt, environment=\"Medium\", optimization='Prompt Engineering - Basic Zero Shot') "
   ]
  },
  {
   "cell_type": "code",
   "execution_count": null,
   "id": "debf07d3",
   "metadata": {},
   "outputs": [],
   "source": []
  },
  {
   "cell_type": "code",
   "execution_count": 196,
   "id": "e7081092",
   "metadata": {},
   "outputs": [
    {
     "ename": "AttributeError",
     "evalue": "'str' object has no attribute 'eval_count'",
     "output_type": "error",
     "traceback": [
      "\u001b[31m---------------------------------------------------------------------------\u001b[39m",
      "\u001b[31mAttributeError\u001b[39m                            Traceback (most recent call last)",
      "\u001b[36mCell\u001b[39m\u001b[36m \u001b[39m\u001b[32mIn[196]\u001b[39m\u001b[32m, line 1\u001b[39m\n\u001b[32m----> \u001b[39m\u001b[32m1\u001b[39m \u001b[43mrun_and_log\u001b[49m\u001b[43m(\u001b[49m\u001b[43mfunc\u001b[49m\u001b[43m \u001b[49m\u001b[43m=\u001b[49m\u001b[43m \u001b[49m\u001b[43mmodel_inference_ollama\u001b[49m\u001b[43m,\u001b[49m\u001b[43m \u001b[49m\u001b[43mmodels\u001b[49m\u001b[43m \u001b[49m\u001b[43m=\u001b[49m\u001b[43m \u001b[49m\u001b[43mmodels\u001b[49m\u001b[43m,\u001b[49m\u001b[43m \u001b[49m\u001b[43mdf\u001b[49m\u001b[43m \u001b[49m\u001b[43m=\u001b[49m\u001b[43m \u001b[49m\u001b[43mdf\u001b[49m\u001b[43m,\u001b[49m\u001b[43m \u001b[49m\u001b[43mprompt_function\u001b[49m\u001b[43m \u001b[49m\u001b[43m=\u001b[49m\u001b[43m \u001b[49m\u001b[43mcreate_better_zero_shot_prompt\u001b[49m\u001b[43m,\u001b[49m\u001b[43m \u001b[49m\u001b[43menvironment\u001b[49m\u001b[43m=\u001b[49m\u001b[33;43m\"\u001b[39;49m\u001b[33;43mMedium\u001b[39;49m\u001b[33;43m\"\u001b[39;49m\u001b[43m,\u001b[49m\u001b[43m \u001b[49m\u001b[43moptimization\u001b[49m\u001b[43m \u001b[49m\u001b[43m=\u001b[49m\u001b[43m \u001b[49m\u001b[33;43m\"\u001b[39;49m\u001b[33;43mPrompt Engineering - Better Zero Shot\u001b[39;49m\u001b[33;43m\"\u001b[39;49m\u001b[43m)\u001b[49m\n",
      "\u001b[36mCell\u001b[39m\u001b[36m \u001b[39m\u001b[32mIn[190]\u001b[39m\u001b[32m, line 32\u001b[39m, in \u001b[36mrun_and_log\u001b[39m\u001b[34m(func, models, environment, optimization, *args, **kwargs)\u001b[39m\n\u001b[32m     30\u001b[39m \u001b[38;5;28;01mif\u001b[39;00m optimization:\n\u001b[32m     31\u001b[39m     resp = result[model][\u001b[32m0\u001b[39m]  \u001b[38;5;66;03m# expects eval_count and eval_duration attributes\u001b[39;00m\n\u001b[32m---> \u001b[39m\u001b[32m32\u001b[39m     tokens_per_second = \u001b[43mresp\u001b[49m\u001b[43m.\u001b[49m\u001b[43meval_count\u001b[49m / (resp.eval_duration / \u001b[32m1e9\u001b[39m)\n\u001b[32m     33\u001b[39m     md_lines.extend([\n\u001b[32m     34\u001b[39m         \u001b[33mf\u001b[39m\u001b[33m\"\u001b[39m\u001b[33m- **Model:** \u001b[39m\u001b[38;5;132;01m{\u001b[39;00mmodel\u001b[38;5;132;01m}\u001b[39;00m\u001b[33m\"\u001b[39m,\n\u001b[32m     35\u001b[39m         \u001b[33mf\u001b[39m\u001b[33m\"\u001b[39m\u001b[33m- **Optimization Technique:** \u001b[39m\u001b[38;5;132;01m{\u001b[39;00moptimization\u001b[38;5;132;01m}\u001b[39;00m\u001b[33m\"\u001b[39m,\n\u001b[32m     36\u001b[39m         \u001b[33mf\u001b[39m\u001b[33m\"\u001b[39m\u001b[33m- **Model speed:** \u001b[39m\u001b[38;5;132;01m{\u001b[39;00mtokens_per_second\u001b[38;5;132;01m:\u001b[39;00m\u001b[33m.2f\u001b[39m\u001b[38;5;132;01m}\u001b[39;00m\u001b[33m tokens/second\u001b[39m\u001b[33m\"\u001b[39m\n\u001b[32m     37\u001b[39m     ])\n\u001b[32m     39\u001b[39m \u001b[38;5;66;03m# Append to evaluation file\u001b[39;00m\n",
      "\u001b[31mAttributeError\u001b[39m: 'str' object has no attribute 'eval_count'"
     ]
    }
   ],
   "source": [
    "run_and_log(func = model_inference_ollama, models = models, df = df, prompt_function = create_better_zero_shot_prompt, environment=\"Medium\", optimization = \"Prompt Engineering - Better Zero Shot\")"
   ]
  },
  {
   "cell_type": "code",
   "execution_count": 245,
   "id": "95db633c",
   "metadata": {},
   "outputs": [],
   "source": [
    "models = ['deepseek-r1:8b']"
   ]
  },
  {
   "cell_type": "code",
   "execution_count": 240,
   "id": "2b47ea29",
   "metadata": {},
   "outputs": [
    {
     "ename": "KeyboardInterrupt",
     "evalue": "",
     "output_type": "error",
     "traceback": [
      "\u001b[31m---------------------------------------------------------------------------\u001b[39m",
      "\u001b[31mKeyboardInterrupt\u001b[39m                         Traceback (most recent call last)",
      "\u001b[36mCell\u001b[39m\u001b[36m \u001b[39m\u001b[32mIn[240]\u001b[39m\u001b[32m, line 1\u001b[39m\n\u001b[32m----> \u001b[39m\u001b[32m1\u001b[39m res  = \u001b[43mrun_and_log\u001b[49m\u001b[43m(\u001b[49m\u001b[43mfunc\u001b[49m\u001b[43m \u001b[49m\u001b[43m=\u001b[49m\u001b[43m \u001b[49m\u001b[43mmodel_inference_ollama\u001b[49m\u001b[43m,\u001b[49m\u001b[43m \u001b[49m\u001b[43mmodels\u001b[49m\u001b[43m=\u001b[49m\u001b[43mmodels\u001b[49m\u001b[43m,\u001b[49m\u001b[43m \u001b[49m\u001b[43mdf\u001b[49m\u001b[43m \u001b[49m\u001b[43m=\u001b[49m\u001b[43m \u001b[49m\u001b[43mdf\u001b[49m\u001b[43m,\u001b[49m\u001b[43m \u001b[49m\u001b[43mprompt_function\u001b[49m\u001b[43m=\u001b[49m\u001b[43mcreate_basic_zero_shot_prompt\u001b[49m\u001b[43m,\u001b[49m\u001b[43m \u001b[49m\u001b[43menvironment\u001b[49m\u001b[43m=\u001b[49m\u001b[33;43m\"\u001b[39;49m\u001b[33;43mMedium\u001b[39;49m\u001b[33;43m\"\u001b[39;49m\u001b[43m,\u001b[49m\u001b[43m \u001b[49m\u001b[43moptimization\u001b[49m\u001b[43m=\u001b[49m\u001b[33;43m'\u001b[39;49m\u001b[33;43mPrompt Engineering - Basic Zero Shot\u001b[39;49m\u001b[33;43m'\u001b[39;49m\u001b[43m)\u001b[49m \n",
      "\u001b[36mCell\u001b[39m\u001b[36m \u001b[39m\u001b[32mIn[190]\u001b[39m\u001b[32m, line 15\u001b[39m, in \u001b[36mrun_and_log\u001b[39m\u001b[34m(func, models, environment, optimization, *args, **kwargs)\u001b[39m\n\u001b[32m     13\u001b[39m \u001b[38;5;66;03m# Run the function and measure time\u001b[39;00m\n\u001b[32m     14\u001b[39m start_time = time.time()\n\u001b[32m---> \u001b[39m\u001b[32m15\u001b[39m result = \u001b[43mfunc\u001b[49m\u001b[43m(\u001b[49m\u001b[43mmodels\u001b[49m\u001b[43m=\u001b[49m\u001b[43mmodels\u001b[49m\u001b[43m,\u001b[49m\u001b[43m \u001b[49m\u001b[43m*\u001b[49m\u001b[43margs\u001b[49m\u001b[43m,\u001b[49m\u001b[43m \u001b[49m\u001b[43m*\u001b[49m\u001b[43m*\u001b[49m\u001b[43mkwargs\u001b[49m\u001b[43m)\u001b[49m\n\u001b[32m     16\u001b[39m runtime = time.time() - start_time\n\u001b[32m     18\u001b[39m \u001b[38;5;66;03m# Prepare runtime info\u001b[39;00m\n",
      "\u001b[36mCell\u001b[39m\u001b[36m \u001b[39m\u001b[32mIn[220]\u001b[39m\u001b[32m, line 7\u001b[39m, in \u001b[36mmodel_inference_ollama\u001b[39m\u001b[34m(models, df, prompt_function)\u001b[39m\n\u001b[32m      5\u001b[39m \u001b[38;5;28;01mfor\u001b[39;00m model \u001b[38;5;129;01min\u001b[39;00m models:\n\u001b[32m      6\u001b[39m     \u001b[38;5;28;01mtry\u001b[39;00m:\n\u001b[32m----> \u001b[39m\u001b[32m7\u001b[39m         response = \u001b[43mollama\u001b[49m\u001b[43m.\u001b[49m\u001b[43mgenerate\u001b[49m\u001b[43m(\u001b[49m\n\u001b[32m      8\u001b[39m \u001b[43m            \u001b[49m\u001b[43mmodel\u001b[49m\u001b[43m=\u001b[49m\u001b[43mmodel\u001b[49m\u001b[43m,\u001b[49m\n\u001b[32m      9\u001b[39m \u001b[43m            \u001b[49m\u001b[43mprompt\u001b[49m\u001b[43m=\u001b[49m\u001b[43mprompt_function\u001b[49m\u001b[43m(\u001b[49m\u001b[43mdf\u001b[49m\u001b[43m)\u001b[49m\u001b[43m,\u001b[49m\n\u001b[32m     10\u001b[39m \u001b[43m            \u001b[49m\u001b[43moptions\u001b[49m\u001b[43m=\u001b[49m\u001b[43m{\u001b[49m\u001b[33;43m'\u001b[39;49m\u001b[33;43mtemperature\u001b[39;49m\u001b[33;43m'\u001b[39;49m\u001b[43m:\u001b[49m\u001b[43m \u001b[49m\u001b[32;43m0.0\u001b[39;49m\u001b[43m,\u001b[49m\u001b[43m \u001b[49m\u001b[33;43m'\u001b[39;49m\u001b[33;43mseed\u001b[39;49m\u001b[33;43m'\u001b[39;49m\u001b[43m:\u001b[49m\u001b[43m \u001b[49m\u001b[32;43m42\u001b[39;49m\u001b[43m}\u001b[49m\n\u001b[32m     11\u001b[39m \u001b[43m        \u001b[49m\u001b[43m)\u001b[49m\n\u001b[32m     12\u001b[39m         \u001b[38;5;28mprint\u001b[39m(prompt_function(df))\n\u001b[32m     13\u001b[39m     \u001b[38;5;28;01mexcept\u001b[39;00m \u001b[38;5;167;01mException\u001b[39;00m \u001b[38;5;28;01mas\u001b[39;00m e:\n",
      "\u001b[36mFile \u001b[39m\u001b[32m~/MasterThesis_LLM_optimization_ORCA/.venv/lib/python3.13/site-packages/ollama/_client.py:247\u001b[39m, in \u001b[36mClient.generate\u001b[39m\u001b[34m(self, model, prompt, suffix, system, template, context, stream, think, raw, format, images, options, keep_alive)\u001b[39m\n\u001b[32m    220\u001b[39m \u001b[38;5;28;01mdef\u001b[39;00m\u001b[38;5;250m \u001b[39m\u001b[34mgenerate\u001b[39m(\n\u001b[32m    221\u001b[39m   \u001b[38;5;28mself\u001b[39m,\n\u001b[32m    222\u001b[39m   model: \u001b[38;5;28mstr\u001b[39m = \u001b[33m'\u001b[39m\u001b[33m'\u001b[39m,\n\u001b[32m   (...)\u001b[39m\u001b[32m    235\u001b[39m   keep_alive: Optional[Union[\u001b[38;5;28mfloat\u001b[39m, \u001b[38;5;28mstr\u001b[39m]] = \u001b[38;5;28;01mNone\u001b[39;00m,\n\u001b[32m    236\u001b[39m ) -> Union[GenerateResponse, Iterator[GenerateResponse]]:\n\u001b[32m    237\u001b[39m \u001b[38;5;250m  \u001b[39m\u001b[33;03m\"\"\"\u001b[39;00m\n\u001b[32m    238\u001b[39m \u001b[33;03m  Create a response using the requested model.\u001b[39;00m\n\u001b[32m    239\u001b[39m \n\u001b[32m   (...)\u001b[39m\u001b[32m    244\u001b[39m \u001b[33;03m  Returns `GenerateResponse` if `stream` is `False`, otherwise returns a `GenerateResponse` generator.\u001b[39;00m\n\u001b[32m    245\u001b[39m \u001b[33;03m  \"\"\"\u001b[39;00m\n\u001b[32m--> \u001b[39m\u001b[32m247\u001b[39m   \u001b[38;5;28;01mreturn\u001b[39;00m \u001b[38;5;28;43mself\u001b[39;49m\u001b[43m.\u001b[49m\u001b[43m_request\u001b[49m\u001b[43m(\u001b[49m\n\u001b[32m    248\u001b[39m \u001b[43m    \u001b[49m\u001b[43mGenerateResponse\u001b[49m\u001b[43m,\u001b[49m\n\u001b[32m    249\u001b[39m \u001b[43m    \u001b[49m\u001b[33;43m'\u001b[39;49m\u001b[33;43mPOST\u001b[39;49m\u001b[33;43m'\u001b[39;49m\u001b[43m,\u001b[49m\n\u001b[32m    250\u001b[39m \u001b[43m    \u001b[49m\u001b[33;43m'\u001b[39;49m\u001b[33;43m/api/generate\u001b[39;49m\u001b[33;43m'\u001b[39;49m\u001b[43m,\u001b[49m\n\u001b[32m    251\u001b[39m \u001b[43m    \u001b[49m\u001b[43mjson\u001b[49m\u001b[43m=\u001b[49m\u001b[43mGenerateRequest\u001b[49m\u001b[43m(\u001b[49m\n\u001b[32m    252\u001b[39m \u001b[43m      \u001b[49m\u001b[43mmodel\u001b[49m\u001b[43m=\u001b[49m\u001b[43mmodel\u001b[49m\u001b[43m,\u001b[49m\n\u001b[32m    253\u001b[39m \u001b[43m      \u001b[49m\u001b[43mprompt\u001b[49m\u001b[43m=\u001b[49m\u001b[43mprompt\u001b[49m\u001b[43m,\u001b[49m\n\u001b[32m    254\u001b[39m \u001b[43m      \u001b[49m\u001b[43msuffix\u001b[49m\u001b[43m=\u001b[49m\u001b[43msuffix\u001b[49m\u001b[43m,\u001b[49m\n\u001b[32m    255\u001b[39m \u001b[43m      \u001b[49m\u001b[43msystem\u001b[49m\u001b[43m=\u001b[49m\u001b[43msystem\u001b[49m\u001b[43m,\u001b[49m\n\u001b[32m    256\u001b[39m \u001b[43m      \u001b[49m\u001b[43mtemplate\u001b[49m\u001b[43m=\u001b[49m\u001b[43mtemplate\u001b[49m\u001b[43m,\u001b[49m\n\u001b[32m    257\u001b[39m \u001b[43m      \u001b[49m\u001b[43mcontext\u001b[49m\u001b[43m=\u001b[49m\u001b[43mcontext\u001b[49m\u001b[43m,\u001b[49m\n\u001b[32m    258\u001b[39m \u001b[43m      \u001b[49m\u001b[43mstream\u001b[49m\u001b[43m=\u001b[49m\u001b[43mstream\u001b[49m\u001b[43m,\u001b[49m\n\u001b[32m    259\u001b[39m \u001b[43m      \u001b[49m\u001b[43mthink\u001b[49m\u001b[43m=\u001b[49m\u001b[43mthink\u001b[49m\u001b[43m,\u001b[49m\n\u001b[32m    260\u001b[39m \u001b[43m      \u001b[49m\u001b[43mraw\u001b[49m\u001b[43m=\u001b[49m\u001b[43mraw\u001b[49m\u001b[43m,\u001b[49m\n\u001b[32m    261\u001b[39m \u001b[43m      \u001b[49m\u001b[38;5;28;43mformat\u001b[39;49m\u001b[43m=\u001b[49m\u001b[38;5;28;43mformat\u001b[39;49m\u001b[43m,\u001b[49m\n\u001b[32m    262\u001b[39m \u001b[43m      \u001b[49m\u001b[43mimages\u001b[49m\u001b[43m=\u001b[49m\u001b[38;5;28;43mlist\u001b[39;49m\u001b[43m(\u001b[49m\u001b[43m_copy_images\u001b[49m\u001b[43m(\u001b[49m\u001b[43mimages\u001b[49m\u001b[43m)\u001b[49m\u001b[43m)\u001b[49m\u001b[43m \u001b[49m\u001b[38;5;28;43;01mif\u001b[39;49;00m\u001b[43m \u001b[49m\u001b[43mimages\u001b[49m\u001b[43m \u001b[49m\u001b[38;5;28;43;01melse\u001b[39;49;00m\u001b[43m \u001b[49m\u001b[38;5;28;43;01mNone\u001b[39;49;00m\u001b[43m,\u001b[49m\n\u001b[32m    263\u001b[39m \u001b[43m      \u001b[49m\u001b[43moptions\u001b[49m\u001b[43m=\u001b[49m\u001b[43moptions\u001b[49m\u001b[43m,\u001b[49m\n\u001b[32m    264\u001b[39m \u001b[43m      \u001b[49m\u001b[43mkeep_alive\u001b[49m\u001b[43m=\u001b[49m\u001b[43mkeep_alive\u001b[49m\u001b[43m,\u001b[49m\n\u001b[32m    265\u001b[39m \u001b[43m    \u001b[49m\u001b[43m)\u001b[49m\u001b[43m.\u001b[49m\u001b[43mmodel_dump\u001b[49m\u001b[43m(\u001b[49m\u001b[43mexclude_none\u001b[49m\u001b[43m=\u001b[49m\u001b[38;5;28;43;01mTrue\u001b[39;49;00m\u001b[43m)\u001b[49m\u001b[43m,\u001b[49m\n\u001b[32m    266\u001b[39m \u001b[43m    \u001b[49m\u001b[43mstream\u001b[49m\u001b[43m=\u001b[49m\u001b[43mstream\u001b[49m\u001b[43m,\u001b[49m\n\u001b[32m    267\u001b[39m \u001b[43m  \u001b[49m\u001b[43m)\u001b[49m\n",
      "\u001b[36mFile \u001b[39m\u001b[32m~/MasterThesis_LLM_optimization_ORCA/.venv/lib/python3.13/site-packages/ollama/_client.py:180\u001b[39m, in \u001b[36mClient._request\u001b[39m\u001b[34m(self, cls, stream, *args, **kwargs)\u001b[39m\n\u001b[32m    176\u001b[39m         \u001b[38;5;28;01myield\u001b[39;00m \u001b[38;5;28mcls\u001b[39m(**part)\n\u001b[32m    178\u001b[39m   \u001b[38;5;28;01mreturn\u001b[39;00m inner()\n\u001b[32m--> \u001b[39m\u001b[32m180\u001b[39m \u001b[38;5;28;01mreturn\u001b[39;00m \u001b[38;5;28mcls\u001b[39m(**\u001b[38;5;28;43mself\u001b[39;49m\u001b[43m.\u001b[49m\u001b[43m_request_raw\u001b[49m\u001b[43m(\u001b[49m\u001b[43m*\u001b[49m\u001b[43margs\u001b[49m\u001b[43m,\u001b[49m\u001b[43m \u001b[49m\u001b[43m*\u001b[49m\u001b[43m*\u001b[49m\u001b[43mkwargs\u001b[49m\u001b[43m)\u001b[49m.json())\n",
      "\u001b[36mFile \u001b[39m\u001b[32m~/MasterThesis_LLM_optimization_ORCA/.venv/lib/python3.13/site-packages/ollama/_client.py:120\u001b[39m, in \u001b[36mClient._request_raw\u001b[39m\u001b[34m(self, *args, **kwargs)\u001b[39m\n\u001b[32m    118\u001b[39m \u001b[38;5;28;01mdef\u001b[39;00m\u001b[38;5;250m \u001b[39m\u001b[34m_request_raw\u001b[39m(\u001b[38;5;28mself\u001b[39m, *args, **kwargs):\n\u001b[32m    119\u001b[39m   \u001b[38;5;28;01mtry\u001b[39;00m:\n\u001b[32m--> \u001b[39m\u001b[32m120\u001b[39m     r = \u001b[38;5;28;43mself\u001b[39;49m\u001b[43m.\u001b[49m\u001b[43m_client\u001b[49m\u001b[43m.\u001b[49m\u001b[43mrequest\u001b[49m\u001b[43m(\u001b[49m\u001b[43m*\u001b[49m\u001b[43margs\u001b[49m\u001b[43m,\u001b[49m\u001b[43m \u001b[49m\u001b[43m*\u001b[49m\u001b[43m*\u001b[49m\u001b[43mkwargs\u001b[49m\u001b[43m)\u001b[49m\n\u001b[32m    121\u001b[39m     r.raise_for_status()\n\u001b[32m    122\u001b[39m     \u001b[38;5;28;01mreturn\u001b[39;00m r\n",
      "\u001b[36mFile \u001b[39m\u001b[32m~/MasterThesis_LLM_optimization_ORCA/.venv/lib/python3.13/site-packages/httpx/_client.py:825\u001b[39m, in \u001b[36mClient.request\u001b[39m\u001b[34m(self, method, url, content, data, files, json, params, headers, cookies, auth, follow_redirects, timeout, extensions)\u001b[39m\n\u001b[32m    810\u001b[39m     warnings.warn(message, \u001b[38;5;167;01mDeprecationWarning\u001b[39;00m, stacklevel=\u001b[32m2\u001b[39m)\n\u001b[32m    812\u001b[39m request = \u001b[38;5;28mself\u001b[39m.build_request(\n\u001b[32m    813\u001b[39m     method=method,\n\u001b[32m    814\u001b[39m     url=url,\n\u001b[32m   (...)\u001b[39m\u001b[32m    823\u001b[39m     extensions=extensions,\n\u001b[32m    824\u001b[39m )\n\u001b[32m--> \u001b[39m\u001b[32m825\u001b[39m \u001b[38;5;28;01mreturn\u001b[39;00m \u001b[38;5;28;43mself\u001b[39;49m\u001b[43m.\u001b[49m\u001b[43msend\u001b[49m\u001b[43m(\u001b[49m\u001b[43mrequest\u001b[49m\u001b[43m,\u001b[49m\u001b[43m \u001b[49m\u001b[43mauth\u001b[49m\u001b[43m=\u001b[49m\u001b[43mauth\u001b[49m\u001b[43m,\u001b[49m\u001b[43m \u001b[49m\u001b[43mfollow_redirects\u001b[49m\u001b[43m=\u001b[49m\u001b[43mfollow_redirects\u001b[49m\u001b[43m)\u001b[49m\n",
      "\u001b[36mFile \u001b[39m\u001b[32m~/MasterThesis_LLM_optimization_ORCA/.venv/lib/python3.13/site-packages/httpx/_client.py:914\u001b[39m, in \u001b[36mClient.send\u001b[39m\u001b[34m(self, request, stream, auth, follow_redirects)\u001b[39m\n\u001b[32m    910\u001b[39m \u001b[38;5;28mself\u001b[39m._set_timeout(request)\n\u001b[32m    912\u001b[39m auth = \u001b[38;5;28mself\u001b[39m._build_request_auth(request, auth)\n\u001b[32m--> \u001b[39m\u001b[32m914\u001b[39m response = \u001b[38;5;28;43mself\u001b[39;49m\u001b[43m.\u001b[49m\u001b[43m_send_handling_auth\u001b[49m\u001b[43m(\u001b[49m\n\u001b[32m    915\u001b[39m \u001b[43m    \u001b[49m\u001b[43mrequest\u001b[49m\u001b[43m,\u001b[49m\n\u001b[32m    916\u001b[39m \u001b[43m    \u001b[49m\u001b[43mauth\u001b[49m\u001b[43m=\u001b[49m\u001b[43mauth\u001b[49m\u001b[43m,\u001b[49m\n\u001b[32m    917\u001b[39m \u001b[43m    \u001b[49m\u001b[43mfollow_redirects\u001b[49m\u001b[43m=\u001b[49m\u001b[43mfollow_redirects\u001b[49m\u001b[43m,\u001b[49m\n\u001b[32m    918\u001b[39m \u001b[43m    \u001b[49m\u001b[43mhistory\u001b[49m\u001b[43m=\u001b[49m\u001b[43m[\u001b[49m\u001b[43m]\u001b[49m\u001b[43m,\u001b[49m\n\u001b[32m    919\u001b[39m \u001b[43m\u001b[49m\u001b[43m)\u001b[49m\n\u001b[32m    920\u001b[39m \u001b[38;5;28;01mtry\u001b[39;00m:\n\u001b[32m    921\u001b[39m     \u001b[38;5;28;01mif\u001b[39;00m \u001b[38;5;129;01mnot\u001b[39;00m stream:\n",
      "\u001b[36mFile \u001b[39m\u001b[32m~/MasterThesis_LLM_optimization_ORCA/.venv/lib/python3.13/site-packages/httpx/_client.py:942\u001b[39m, in \u001b[36mClient._send_handling_auth\u001b[39m\u001b[34m(self, request, auth, follow_redirects, history)\u001b[39m\n\u001b[32m    939\u001b[39m request = \u001b[38;5;28mnext\u001b[39m(auth_flow)\n\u001b[32m    941\u001b[39m \u001b[38;5;28;01mwhile\u001b[39;00m \u001b[38;5;28;01mTrue\u001b[39;00m:\n\u001b[32m--> \u001b[39m\u001b[32m942\u001b[39m     response = \u001b[38;5;28;43mself\u001b[39;49m\u001b[43m.\u001b[49m\u001b[43m_send_handling_redirects\u001b[49m\u001b[43m(\u001b[49m\n\u001b[32m    943\u001b[39m \u001b[43m        \u001b[49m\u001b[43mrequest\u001b[49m\u001b[43m,\u001b[49m\n\u001b[32m    944\u001b[39m \u001b[43m        \u001b[49m\u001b[43mfollow_redirects\u001b[49m\u001b[43m=\u001b[49m\u001b[43mfollow_redirects\u001b[49m\u001b[43m,\u001b[49m\n\u001b[32m    945\u001b[39m \u001b[43m        \u001b[49m\u001b[43mhistory\u001b[49m\u001b[43m=\u001b[49m\u001b[43mhistory\u001b[49m\u001b[43m,\u001b[49m\n\u001b[32m    946\u001b[39m \u001b[43m    \u001b[49m\u001b[43m)\u001b[49m\n\u001b[32m    947\u001b[39m     \u001b[38;5;28;01mtry\u001b[39;00m:\n\u001b[32m    948\u001b[39m         \u001b[38;5;28;01mtry\u001b[39;00m:\n",
      "\u001b[36mFile \u001b[39m\u001b[32m~/MasterThesis_LLM_optimization_ORCA/.venv/lib/python3.13/site-packages/httpx/_client.py:979\u001b[39m, in \u001b[36mClient._send_handling_redirects\u001b[39m\u001b[34m(self, request, follow_redirects, history)\u001b[39m\n\u001b[32m    976\u001b[39m \u001b[38;5;28;01mfor\u001b[39;00m hook \u001b[38;5;129;01min\u001b[39;00m \u001b[38;5;28mself\u001b[39m._event_hooks[\u001b[33m\"\u001b[39m\u001b[33mrequest\u001b[39m\u001b[33m\"\u001b[39m]:\n\u001b[32m    977\u001b[39m     hook(request)\n\u001b[32m--> \u001b[39m\u001b[32m979\u001b[39m response = \u001b[38;5;28;43mself\u001b[39;49m\u001b[43m.\u001b[49m\u001b[43m_send_single_request\u001b[49m\u001b[43m(\u001b[49m\u001b[43mrequest\u001b[49m\u001b[43m)\u001b[49m\n\u001b[32m    980\u001b[39m \u001b[38;5;28;01mtry\u001b[39;00m:\n\u001b[32m    981\u001b[39m     \u001b[38;5;28;01mfor\u001b[39;00m hook \u001b[38;5;129;01min\u001b[39;00m \u001b[38;5;28mself\u001b[39m._event_hooks[\u001b[33m\"\u001b[39m\u001b[33mresponse\u001b[39m\u001b[33m\"\u001b[39m]:\n",
      "\u001b[36mFile \u001b[39m\u001b[32m~/MasterThesis_LLM_optimization_ORCA/.venv/lib/python3.13/site-packages/httpx/_client.py:1014\u001b[39m, in \u001b[36mClient._send_single_request\u001b[39m\u001b[34m(self, request)\u001b[39m\n\u001b[32m   1009\u001b[39m     \u001b[38;5;28;01mraise\u001b[39;00m \u001b[38;5;167;01mRuntimeError\u001b[39;00m(\n\u001b[32m   1010\u001b[39m         \u001b[33m\"\u001b[39m\u001b[33mAttempted to send an async request with a sync Client instance.\u001b[39m\u001b[33m\"\u001b[39m\n\u001b[32m   1011\u001b[39m     )\n\u001b[32m   1013\u001b[39m \u001b[38;5;28;01mwith\u001b[39;00m request_context(request=request):\n\u001b[32m-> \u001b[39m\u001b[32m1014\u001b[39m     response = \u001b[43mtransport\u001b[49m\u001b[43m.\u001b[49m\u001b[43mhandle_request\u001b[49m\u001b[43m(\u001b[49m\u001b[43mrequest\u001b[49m\u001b[43m)\u001b[49m\n\u001b[32m   1016\u001b[39m \u001b[38;5;28;01massert\u001b[39;00m \u001b[38;5;28misinstance\u001b[39m(response.stream, SyncByteStream)\n\u001b[32m   1018\u001b[39m response.request = request\n",
      "\u001b[36mFile \u001b[39m\u001b[32m~/MasterThesis_LLM_optimization_ORCA/.venv/lib/python3.13/site-packages/httpx/_transports/default.py:250\u001b[39m, in \u001b[36mHTTPTransport.handle_request\u001b[39m\u001b[34m(self, request)\u001b[39m\n\u001b[32m    237\u001b[39m req = httpcore.Request(\n\u001b[32m    238\u001b[39m     method=request.method,\n\u001b[32m    239\u001b[39m     url=httpcore.URL(\n\u001b[32m   (...)\u001b[39m\u001b[32m    247\u001b[39m     extensions=request.extensions,\n\u001b[32m    248\u001b[39m )\n\u001b[32m    249\u001b[39m \u001b[38;5;28;01mwith\u001b[39;00m map_httpcore_exceptions():\n\u001b[32m--> \u001b[39m\u001b[32m250\u001b[39m     resp = \u001b[38;5;28;43mself\u001b[39;49m\u001b[43m.\u001b[49m\u001b[43m_pool\u001b[49m\u001b[43m.\u001b[49m\u001b[43mhandle_request\u001b[49m\u001b[43m(\u001b[49m\u001b[43mreq\u001b[49m\u001b[43m)\u001b[49m\n\u001b[32m    252\u001b[39m \u001b[38;5;28;01massert\u001b[39;00m \u001b[38;5;28misinstance\u001b[39m(resp.stream, typing.Iterable)\n\u001b[32m    254\u001b[39m \u001b[38;5;28;01mreturn\u001b[39;00m Response(\n\u001b[32m    255\u001b[39m     status_code=resp.status,\n\u001b[32m    256\u001b[39m     headers=resp.headers,\n\u001b[32m    257\u001b[39m     stream=ResponseStream(resp.stream),\n\u001b[32m    258\u001b[39m     extensions=resp.extensions,\n\u001b[32m    259\u001b[39m )\n",
      "\u001b[36mFile \u001b[39m\u001b[32m~/MasterThesis_LLM_optimization_ORCA/.venv/lib/python3.13/site-packages/httpcore/_sync/connection_pool.py:256\u001b[39m, in \u001b[36mConnectionPool.handle_request\u001b[39m\u001b[34m(self, request)\u001b[39m\n\u001b[32m    253\u001b[39m         closing = \u001b[38;5;28mself\u001b[39m._assign_requests_to_connections()\n\u001b[32m    255\u001b[39m     \u001b[38;5;28mself\u001b[39m._close_connections(closing)\n\u001b[32m--> \u001b[39m\u001b[32m256\u001b[39m     \u001b[38;5;28;01mraise\u001b[39;00m exc \u001b[38;5;28;01mfrom\u001b[39;00m\u001b[38;5;250m \u001b[39m\u001b[38;5;28;01mNone\u001b[39;00m\n\u001b[32m    258\u001b[39m \u001b[38;5;66;03m# Return the response. Note that in this case we still have to manage\u001b[39;00m\n\u001b[32m    259\u001b[39m \u001b[38;5;66;03m# the point at which the response is closed.\u001b[39;00m\n\u001b[32m    260\u001b[39m \u001b[38;5;28;01massert\u001b[39;00m \u001b[38;5;28misinstance\u001b[39m(response.stream, typing.Iterable)\n",
      "\u001b[36mFile \u001b[39m\u001b[32m~/MasterThesis_LLM_optimization_ORCA/.venv/lib/python3.13/site-packages/httpcore/_sync/connection_pool.py:236\u001b[39m, in \u001b[36mConnectionPool.handle_request\u001b[39m\u001b[34m(self, request)\u001b[39m\n\u001b[32m    232\u001b[39m connection = pool_request.wait_for_connection(timeout=timeout)\n\u001b[32m    234\u001b[39m \u001b[38;5;28;01mtry\u001b[39;00m:\n\u001b[32m    235\u001b[39m     \u001b[38;5;66;03m# Send the request on the assigned connection.\u001b[39;00m\n\u001b[32m--> \u001b[39m\u001b[32m236\u001b[39m     response = \u001b[43mconnection\u001b[49m\u001b[43m.\u001b[49m\u001b[43mhandle_request\u001b[49m\u001b[43m(\u001b[49m\n\u001b[32m    237\u001b[39m \u001b[43m        \u001b[49m\u001b[43mpool_request\u001b[49m\u001b[43m.\u001b[49m\u001b[43mrequest\u001b[49m\n\u001b[32m    238\u001b[39m \u001b[43m    \u001b[49m\u001b[43m)\u001b[49m\n\u001b[32m    239\u001b[39m \u001b[38;5;28;01mexcept\u001b[39;00m ConnectionNotAvailable:\n\u001b[32m    240\u001b[39m     \u001b[38;5;66;03m# In some cases a connection may initially be available to\u001b[39;00m\n\u001b[32m    241\u001b[39m     \u001b[38;5;66;03m# handle a request, but then become unavailable.\u001b[39;00m\n\u001b[32m    242\u001b[39m     \u001b[38;5;66;03m#\u001b[39;00m\n\u001b[32m    243\u001b[39m     \u001b[38;5;66;03m# In this case we clear the connection and try again.\u001b[39;00m\n\u001b[32m    244\u001b[39m     pool_request.clear_connection()\n",
      "\u001b[36mFile \u001b[39m\u001b[32m~/MasterThesis_LLM_optimization_ORCA/.venv/lib/python3.13/site-packages/httpcore/_sync/connection.py:103\u001b[39m, in \u001b[36mHTTPConnection.handle_request\u001b[39m\u001b[34m(self, request)\u001b[39m\n\u001b[32m    100\u001b[39m     \u001b[38;5;28mself\u001b[39m._connect_failed = \u001b[38;5;28;01mTrue\u001b[39;00m\n\u001b[32m    101\u001b[39m     \u001b[38;5;28;01mraise\u001b[39;00m exc\n\u001b[32m--> \u001b[39m\u001b[32m103\u001b[39m \u001b[38;5;28;01mreturn\u001b[39;00m \u001b[38;5;28;43mself\u001b[39;49m\u001b[43m.\u001b[49m\u001b[43m_connection\u001b[49m\u001b[43m.\u001b[49m\u001b[43mhandle_request\u001b[49m\u001b[43m(\u001b[49m\u001b[43mrequest\u001b[49m\u001b[43m)\u001b[49m\n",
      "\u001b[36mFile \u001b[39m\u001b[32m~/MasterThesis_LLM_optimization_ORCA/.venv/lib/python3.13/site-packages/httpcore/_sync/http11.py:136\u001b[39m, in \u001b[36mHTTP11Connection.handle_request\u001b[39m\u001b[34m(self, request)\u001b[39m\n\u001b[32m    134\u001b[39m     \u001b[38;5;28;01mwith\u001b[39;00m Trace(\u001b[33m\"\u001b[39m\u001b[33mresponse_closed\u001b[39m\u001b[33m\"\u001b[39m, logger, request) \u001b[38;5;28;01mas\u001b[39;00m trace:\n\u001b[32m    135\u001b[39m         \u001b[38;5;28mself\u001b[39m._response_closed()\n\u001b[32m--> \u001b[39m\u001b[32m136\u001b[39m \u001b[38;5;28;01mraise\u001b[39;00m exc\n",
      "\u001b[36mFile \u001b[39m\u001b[32m~/MasterThesis_LLM_optimization_ORCA/.venv/lib/python3.13/site-packages/httpcore/_sync/http11.py:106\u001b[39m, in \u001b[36mHTTP11Connection.handle_request\u001b[39m\u001b[34m(self, request)\u001b[39m\n\u001b[32m     95\u001b[39m     \u001b[38;5;28;01mpass\u001b[39;00m\n\u001b[32m     97\u001b[39m \u001b[38;5;28;01mwith\u001b[39;00m Trace(\n\u001b[32m     98\u001b[39m     \u001b[33m\"\u001b[39m\u001b[33mreceive_response_headers\u001b[39m\u001b[33m\"\u001b[39m, logger, request, kwargs\n\u001b[32m     99\u001b[39m ) \u001b[38;5;28;01mas\u001b[39;00m trace:\n\u001b[32m    100\u001b[39m     (\n\u001b[32m    101\u001b[39m         http_version,\n\u001b[32m    102\u001b[39m         status,\n\u001b[32m    103\u001b[39m         reason_phrase,\n\u001b[32m    104\u001b[39m         headers,\n\u001b[32m    105\u001b[39m         trailing_data,\n\u001b[32m--> \u001b[39m\u001b[32m106\u001b[39m     ) = \u001b[38;5;28;43mself\u001b[39;49m\u001b[43m.\u001b[49m\u001b[43m_receive_response_headers\u001b[49m\u001b[43m(\u001b[49m\u001b[43m*\u001b[49m\u001b[43m*\u001b[49m\u001b[43mkwargs\u001b[49m\u001b[43m)\u001b[49m\n\u001b[32m    107\u001b[39m     trace.return_value = (\n\u001b[32m    108\u001b[39m         http_version,\n\u001b[32m    109\u001b[39m         status,\n\u001b[32m    110\u001b[39m         reason_phrase,\n\u001b[32m    111\u001b[39m         headers,\n\u001b[32m    112\u001b[39m     )\n\u001b[32m    114\u001b[39m network_stream = \u001b[38;5;28mself\u001b[39m._network_stream\n",
      "\u001b[36mFile \u001b[39m\u001b[32m~/MasterThesis_LLM_optimization_ORCA/.venv/lib/python3.13/site-packages/httpcore/_sync/http11.py:177\u001b[39m, in \u001b[36mHTTP11Connection._receive_response_headers\u001b[39m\u001b[34m(self, request)\u001b[39m\n\u001b[32m    174\u001b[39m timeout = timeouts.get(\u001b[33m\"\u001b[39m\u001b[33mread\u001b[39m\u001b[33m\"\u001b[39m, \u001b[38;5;28;01mNone\u001b[39;00m)\n\u001b[32m    176\u001b[39m \u001b[38;5;28;01mwhile\u001b[39;00m \u001b[38;5;28;01mTrue\u001b[39;00m:\n\u001b[32m--> \u001b[39m\u001b[32m177\u001b[39m     event = \u001b[38;5;28;43mself\u001b[39;49m\u001b[43m.\u001b[49m\u001b[43m_receive_event\u001b[49m\u001b[43m(\u001b[49m\u001b[43mtimeout\u001b[49m\u001b[43m=\u001b[49m\u001b[43mtimeout\u001b[49m\u001b[43m)\u001b[49m\n\u001b[32m    178\u001b[39m     \u001b[38;5;28;01mif\u001b[39;00m \u001b[38;5;28misinstance\u001b[39m(event, h11.Response):\n\u001b[32m    179\u001b[39m         \u001b[38;5;28;01mbreak\u001b[39;00m\n",
      "\u001b[36mFile \u001b[39m\u001b[32m~/MasterThesis_LLM_optimization_ORCA/.venv/lib/python3.13/site-packages/httpcore/_sync/http11.py:217\u001b[39m, in \u001b[36mHTTP11Connection._receive_event\u001b[39m\u001b[34m(self, timeout)\u001b[39m\n\u001b[32m    214\u001b[39m     event = \u001b[38;5;28mself\u001b[39m._h11_state.next_event()\n\u001b[32m    216\u001b[39m \u001b[38;5;28;01mif\u001b[39;00m event \u001b[38;5;129;01mis\u001b[39;00m h11.NEED_DATA:\n\u001b[32m--> \u001b[39m\u001b[32m217\u001b[39m     data = \u001b[38;5;28;43mself\u001b[39;49m\u001b[43m.\u001b[49m\u001b[43m_network_stream\u001b[49m\u001b[43m.\u001b[49m\u001b[43mread\u001b[49m\u001b[43m(\u001b[49m\n\u001b[32m    218\u001b[39m \u001b[43m        \u001b[49m\u001b[38;5;28;43mself\u001b[39;49m\u001b[43m.\u001b[49m\u001b[43mREAD_NUM_BYTES\u001b[49m\u001b[43m,\u001b[49m\u001b[43m \u001b[49m\u001b[43mtimeout\u001b[49m\u001b[43m=\u001b[49m\u001b[43mtimeout\u001b[49m\n\u001b[32m    219\u001b[39m \u001b[43m    \u001b[49m\u001b[43m)\u001b[49m\n\u001b[32m    221\u001b[39m     \u001b[38;5;66;03m# If we feed this case through h11 we'll raise an exception like:\u001b[39;00m\n\u001b[32m    222\u001b[39m     \u001b[38;5;66;03m#\u001b[39;00m\n\u001b[32m    223\u001b[39m     \u001b[38;5;66;03m#     httpcore.RemoteProtocolError: can't handle event type\u001b[39;00m\n\u001b[32m   (...)\u001b[39m\u001b[32m    227\u001b[39m     \u001b[38;5;66;03m# perspective. Instead we handle this case distinctly and treat\u001b[39;00m\n\u001b[32m    228\u001b[39m     \u001b[38;5;66;03m# it as a ConnectError.\u001b[39;00m\n\u001b[32m    229\u001b[39m     \u001b[38;5;28;01mif\u001b[39;00m data == \u001b[33mb\u001b[39m\u001b[33m\"\u001b[39m\u001b[33m\"\u001b[39m \u001b[38;5;129;01mand\u001b[39;00m \u001b[38;5;28mself\u001b[39m._h11_state.their_state == h11.SEND_RESPONSE:\n",
      "\u001b[36mFile \u001b[39m\u001b[32m~/MasterThesis_LLM_optimization_ORCA/.venv/lib/python3.13/site-packages/httpcore/_backends/sync.py:128\u001b[39m, in \u001b[36mSyncStream.read\u001b[39m\u001b[34m(self, max_bytes, timeout)\u001b[39m\n\u001b[32m    126\u001b[39m \u001b[38;5;28;01mwith\u001b[39;00m map_exceptions(exc_map):\n\u001b[32m    127\u001b[39m     \u001b[38;5;28mself\u001b[39m._sock.settimeout(timeout)\n\u001b[32m--> \u001b[39m\u001b[32m128\u001b[39m     \u001b[38;5;28;01mreturn\u001b[39;00m \u001b[38;5;28;43mself\u001b[39;49m\u001b[43m.\u001b[49m\u001b[43m_sock\u001b[49m\u001b[43m.\u001b[49m\u001b[43mrecv\u001b[49m\u001b[43m(\u001b[49m\u001b[43mmax_bytes\u001b[49m\u001b[43m)\u001b[49m\n",
      "\u001b[31mKeyboardInterrupt\u001b[39m: "
     ]
    }
   ],
   "source": [
    "res  = run_and_log(func = model_inference_ollama, models=models, df = df, prompt_function=create_basic_zero_shot_prompt, environment=\"Medium\", optimization='Prompt Engineering - Basic Zero Shot') "
   ]
  },
  {
   "cell_type": "code",
   "execution_count": 243,
   "id": "ae4d62fb",
   "metadata": {},
   "outputs": [
    {
     "name": "stdout",
     "output_type": "stream",
     "text": [
      "Given the following threat summary:\n",
      "\n",
      "    \"A Threat with the title Malicious function or application monitors messaging across A1 interface and the description Internal threat actor can gain access to the messaging across the A1 interface for a MiTM attack to read policy.\"\n",
      "\n",
      "    Provide the most relevant CAPEC IDs for this threat based on the description of each CAPEC. CAPEC stands for Common Attack Pattern Enumeration and Classification.\n",
      "\n",
      "    As an output, provide a JSON array of CAPEC IDs that are most relevant to the threat described. Do not include any additional text or explanations, just the JSON array.\n"
     ]
    }
   ],
   "source": [
    "res = model_inference_ollama(models, df['summary_th_df'].values[0], create_basic_zero_shot_prompt)"
   ]
  },
  {
   "cell_type": "code",
   "execution_count": 244,
   "id": "0698d25a",
   "metadata": {},
   "outputs": [
    {
     "name": "stdout",
     "output_type": "stream",
     "text": [
      "========================================\n",
      "Model: deepseek-r1:32b\n",
      "Speed: 27.37 tokens/second\n",
      "Total runtime: 00 m 21.78 seconds\n",
      "\n",
      "Output:\n"
     ]
    },
    {
     "data": {
      "text/markdown": [
       "```json\n",
       "[\n",
       "    \"CAPEC-73\",\n",
       "    \"CAPEC-458\",\n",
       "    \"CAPEC-10\",\n",
       "    \"CAPEC-275\"\n",
       "]\n",
       "```"
      ],
      "text/plain": [
       "<IPython.core.display.Markdown object>"
      ]
     },
     "metadata": {},
     "output_type": "display_data"
    }
   ],
   "source": [
    "display_model_results_ollama(models, res)"
   ]
  },
  {
   "cell_type": "code",
   "execution_count": 77,
   "id": "0b5711af",
   "metadata": {},
   "outputs": [
    {
     "name": "stderr",
     "output_type": "stream",
     "text": [
      "100%|██████████| 1/1 [01:00<00:00, 60.44s/it]"
     ]
    },
    {
     "name": "stdout",
     "output_type": "stream",
     "text": [
      "Inference for model deepseek-r1:8b completed for threat T-A1-02\n"
     ]
    },
    {
     "name": "stderr",
     "output_type": "stream",
     "text": [
      "\n"
     ]
    }
   ],
   "source": [
    "res  = run_and_log(func = model_inference_ollama, models = models, df = df, prompt_function = create_better_zero_shot_prompt, environment=\"Medium\", optimization = \"Prompt Engineering - Better Zero Shot\")"
   ]
  },
  {
   "cell_type": "code",
   "execution_count": 242,
   "id": "9ae46b92",
   "metadata": {},
   "outputs": [],
   "source": [
    "models = ['deepseek-r1:32b']"
   ]
  },
  {
   "cell_type": "code",
   "execution_count": 20,
   "id": "f9b3aea3",
   "metadata": {},
   "outputs": [
    {
     "name": "stderr",
     "output_type": "stream",
     "text": [
      "100%|██████████| 1/1 [05:01<00:00, 301.44s/it]"
     ]
    },
    {
     "name": "stdout",
     "output_type": "stream",
     "text": [
      "Inference for model deepseek-r1:32b completed for threat T-A1-02\n",
      "{'deepseek-r1:32b': ['[ERROR] timed out waiting for llama runner to start - progress 0.00 -  (status code: 500)']}\n"
     ]
    },
    {
     "name": "stderr",
     "output_type": "stream",
     "text": [
      "\n"
     ]
    },
    {
     "ename": "AttributeError",
     "evalue": "'str' object has no attribute 'eval_count'",
     "output_type": "error",
     "traceback": [
      "\u001b[31m---------------------------------------------------------------------------\u001b[39m",
      "\u001b[31mAttributeError\u001b[39m                            Traceback (most recent call last)",
      "\u001b[36mCell\u001b[39m\u001b[36m \u001b[39m\u001b[32mIn[20]\u001b[39m\u001b[32m, line 1\u001b[39m\n\u001b[32m----> \u001b[39m\u001b[32m1\u001b[39m res  = \u001b[43mrun_and_log\u001b[49m\u001b[43m(\u001b[49m\u001b[43mfunc\u001b[49m\u001b[43m \u001b[49m\u001b[43m=\u001b[49m\u001b[43m \u001b[49m\u001b[43mmodel_inference_ollama\u001b[49m\u001b[43m,\u001b[49m\u001b[43m \u001b[49m\u001b[43mmodels\u001b[49m\u001b[43m=\u001b[49m\u001b[43mmodels\u001b[49m\u001b[43m,\u001b[49m\u001b[43m \u001b[49m\u001b[43mdf\u001b[49m\u001b[43m \u001b[49m\u001b[43m=\u001b[49m\u001b[43m \u001b[49m\u001b[43mdf\u001b[49m\u001b[43m,\u001b[49m\u001b[43m \u001b[49m\u001b[43mprompt_function\u001b[49m\u001b[43m=\u001b[49m\u001b[43mcreate_basic_zero_shot_prompt\u001b[49m\u001b[43m,\u001b[49m\u001b[43m \u001b[49m\u001b[43menvironment\u001b[49m\u001b[43m=\u001b[49m\u001b[33;43m\"\u001b[39;49m\u001b[33;43mMedium\u001b[39;49m\u001b[33;43m\"\u001b[39;49m\u001b[43m,\u001b[49m\u001b[43m \u001b[49m\u001b[43moptimization\u001b[49m\u001b[43m=\u001b[49m\u001b[33;43m'\u001b[39;49m\u001b[33;43mPrompt Engineering - Basic Zero Shot\u001b[39;49m\u001b[33;43m'\u001b[39;49m\u001b[43m)\u001b[49m \n",
      "\u001b[36mCell\u001b[39m\u001b[36m \u001b[39m\u001b[32mIn[3]\u001b[39m\u001b[32m, line 29\u001b[39m, in \u001b[36mrun_and_log\u001b[39m\u001b[34m(func, models, environment, optimization, *args, **kwargs)\u001b[39m\n\u001b[32m     27\u001b[39m \u001b[38;5;28mprint\u001b[39m(result)\n\u001b[32m     28\u001b[39m resp = result[model][\u001b[32m0\u001b[39m]  \u001b[38;5;66;03m# assumes object with eval_count and eval_duration\u001b[39;00m\n\u001b[32m---> \u001b[39m\u001b[32m29\u001b[39m tokens_per_second = \u001b[43mresp\u001b[49m\u001b[43m.\u001b[49m\u001b[43meval_count\u001b[49m / (resp.eval_duration / \u001b[32m1e9\u001b[39m)\n\u001b[32m     31\u001b[39m md_lines.append(\u001b[33mf\u001b[39m\u001b[33m\"\u001b[39m\u001b[33m- **Model:** \u001b[39m\u001b[38;5;132;01m{\u001b[39;00mmodel\u001b[38;5;132;01m}\u001b[39;00m\u001b[33m\"\u001b[39m)\n\u001b[32m     32\u001b[39m md_lines.append(\u001b[33mf\u001b[39m\u001b[33m\"\u001b[39m\u001b[33m- **Optimization Technique:** \u001b[39m\u001b[38;5;132;01m{\u001b[39;00moptimization\u001b[38;5;132;01m}\u001b[39;00m\u001b[33m\"\u001b[39m)\n",
      "\u001b[31mAttributeError\u001b[39m: 'str' object has no attribute 'eval_count'"
     ]
    }
   ],
   "source": [
    "res  = run_and_log(func = model_inference_ollama, models=models, df = df, prompt_function=create_basic_zero_shot_prompt, environment=\"Medium\", optimization='Prompt Engineering - Basic Zero Shot') "
   ]
  },
  {
   "cell_type": "code",
   "execution_count": 94,
   "id": "484c37a4",
   "metadata": {},
   "outputs": [
    {
     "name": "stderr",
     "output_type": "stream",
     "text": [
      "100%|██████████| 1/1 [05:01<00:00, 301.16s/it]"
     ]
    },
    {
     "name": "stdout",
     "output_type": "stream",
     "text": [
      "Inference for model deepseek-r1:70b-llama-distill-q4_K_M completed for threat T-A1-02\n",
      "{'deepseek-r1:70b-llama-distill-q4_K_M': ['[ERROR] timed out waiting for llama runner to start - progress 0.00 -  (status code: 500)']}\n"
     ]
    },
    {
     "name": "stderr",
     "output_type": "stream",
     "text": [
      "\n"
     ]
    },
    {
     "ename": "AttributeError",
     "evalue": "'str' object has no attribute 'eval_count'",
     "output_type": "error",
     "traceback": [
      "\u001b[31m---------------------------------------------------------------------------\u001b[39m",
      "\u001b[31mAttributeError\u001b[39m                            Traceback (most recent call last)",
      "\u001b[36mCell\u001b[39m\u001b[36m \u001b[39m\u001b[32mIn[94]\u001b[39m\u001b[32m, line 1\u001b[39m\n\u001b[32m----> \u001b[39m\u001b[32m1\u001b[39m res  = \u001b[43mrun_and_log\u001b[49m\u001b[43m(\u001b[49m\u001b[43mfunc\u001b[49m\u001b[43m \u001b[49m\u001b[43m=\u001b[49m\u001b[43m \u001b[49m\u001b[43mmodel_inference_ollama\u001b[49m\u001b[43m,\u001b[49m\u001b[43m \u001b[49m\u001b[43mmodels\u001b[49m\u001b[43m \u001b[49m\u001b[43m=\u001b[49m\u001b[43m \u001b[49m\u001b[43mmodels\u001b[49m\u001b[43m,\u001b[49m\u001b[43m \u001b[49m\u001b[43mdf\u001b[49m\u001b[43m \u001b[49m\u001b[43m=\u001b[49m\u001b[43m \u001b[49m\u001b[43mdf\u001b[49m\u001b[43m,\u001b[49m\u001b[43m \u001b[49m\u001b[43mprompt_function\u001b[49m\u001b[43m \u001b[49m\u001b[43m=\u001b[49m\u001b[43m \u001b[49m\u001b[43mcreate_better_zero_shot_prompt\u001b[49m\u001b[43m,\u001b[49m\u001b[43m \u001b[49m\u001b[43menvironment\u001b[49m\u001b[43m=\u001b[49m\u001b[33;43m\"\u001b[39;49m\u001b[33;43mMedium\u001b[39;49m\u001b[33;43m\"\u001b[39;49m\u001b[43m,\u001b[49m\u001b[43m \u001b[49m\u001b[43moptimization\u001b[49m\u001b[43m \u001b[49m\u001b[43m=\u001b[49m\u001b[43m \u001b[49m\u001b[33;43m\"\u001b[39;49m\u001b[33;43mPrompt Engineering - Better Zero Shot\u001b[39;49m\u001b[33;43m\"\u001b[39;49m\u001b[43m)\u001b[49m\n",
      "\u001b[36mCell\u001b[39m\u001b[36m \u001b[39m\u001b[32mIn[83]\u001b[39m\u001b[32m, line 29\u001b[39m, in \u001b[36mrun_and_log\u001b[39m\u001b[34m(func, models, environment, optimization, *args, **kwargs)\u001b[39m\n\u001b[32m     27\u001b[39m \u001b[38;5;28mprint\u001b[39m(result)\n\u001b[32m     28\u001b[39m resp = result[model][\u001b[32m0\u001b[39m]  \u001b[38;5;66;03m# assumes object with eval_count and eval_duration\u001b[39;00m\n\u001b[32m---> \u001b[39m\u001b[32m29\u001b[39m tokens_per_second = \u001b[43mresp\u001b[49m\u001b[43m.\u001b[49m\u001b[43meval_count\u001b[49m / (resp.eval_duration / \u001b[32m1e9\u001b[39m)\n\u001b[32m     31\u001b[39m md_lines.append(\u001b[33mf\u001b[39m\u001b[33m\"\u001b[39m\u001b[33m- **Model:** \u001b[39m\u001b[38;5;132;01m{\u001b[39;00mmodel\u001b[38;5;132;01m}\u001b[39;00m\u001b[33m\"\u001b[39m)\n\u001b[32m     32\u001b[39m md_lines.append(\u001b[33mf\u001b[39m\u001b[33m\"\u001b[39m\u001b[33m- **Optimization Technique:** \u001b[39m\u001b[38;5;132;01m{\u001b[39;00moptimization\u001b[38;5;132;01m}\u001b[39;00m\u001b[33m\"\u001b[39m)\n",
      "\u001b[31mAttributeError\u001b[39m: 'str' object has no attribute 'eval_count'"
     ]
    }
   ],
   "source": [
    "res  = run_and_log(func = model_inference_ollama, models = models, df = df, prompt_function = create_better_zero_shot_prompt, environment=\"Medium\", optimization = \"Prompt Engineering - Better Zero Shot\")"
   ]
  },
  {
   "cell_type": "code",
   "execution_count": 4,
   "id": "63fd145c",
   "metadata": {},
   "outputs": [],
   "source": [
    "models = ['deepseek-r1:70b-llama-distill-q4_K_M']"
   ]
  },
  {
   "cell_type": "code",
   "execution_count": 5,
   "id": "d6f1d490",
   "metadata": {},
   "outputs": [
    {
     "ename": "NameError",
     "evalue": "name 'model_inference_ollama' is not defined",
     "output_type": "error",
     "traceback": [
      "\u001b[31m---------------------------------------------------------------------------\u001b[39m",
      "\u001b[31mNameError\u001b[39m                                 Traceback (most recent call last)",
      "\u001b[36mCell\u001b[39m\u001b[36m \u001b[39m\u001b[32mIn[5]\u001b[39m\u001b[32m, line 1\u001b[39m\n\u001b[32m----> \u001b[39m\u001b[32m1\u001b[39m res  = run_and_log(func = \u001b[43mmodel_inference_ollama\u001b[49m, models=models, df = df, prompt_function=create_basic_zero_shot_prompt, environment=\u001b[33m\"\u001b[39m\u001b[33mMedium\u001b[39m\u001b[33m\"\u001b[39m, optimization=\u001b[33m'\u001b[39m\u001b[33mPrompt Engineering - Basic Zero Shot\u001b[39m\u001b[33m'\u001b[39m) \n",
      "\u001b[31mNameError\u001b[39m: name 'model_inference_ollama' is not defined"
     ]
    }
   ],
   "source": [
    "res  = run_and_log(func = model_inference_ollama, models=models, df = df, prompt_function=create_basic_zero_shot_prompt, environment=\"Medium\", optimization='Prompt Engineering - Basic Zero Shot') "
   ]
  },
  {
   "cell_type": "code",
   "execution_count": 93,
   "id": "ed0b696e",
   "metadata": {},
   "outputs": [
    {
     "name": "stdout",
     "output_type": "stream",
     "text": [
      "========================================\n",
      "Model: deepseek-r1:70b-llama-distill-q4_K_M\n"
     ]
    },
    {
     "ename": "KeyError",
     "evalue": "'deepseek-r1:70b-llama-distill-q4_K_M'",
     "output_type": "error",
     "traceback": [
      "\u001b[31m---------------------------------------------------------------------------\u001b[39m",
      "\u001b[31mKeyError\u001b[39m                                  Traceback (most recent call last)",
      "\u001b[36mCell\u001b[39m\u001b[36m \u001b[39m\u001b[32mIn[93]\u001b[39m\u001b[32m, line 1\u001b[39m\n\u001b[32m----> \u001b[39m\u001b[32m1\u001b[39m \u001b[43mdisplay_model_results_ollama\u001b[49m\u001b[43m(\u001b[49m\u001b[43mmodels\u001b[49m\u001b[43m,\u001b[49m\u001b[43m \u001b[49m\u001b[43mres\u001b[49m\u001b[43m)\u001b[49m\n",
      "\u001b[36mCell\u001b[39m\u001b[36m \u001b[39m\u001b[32mIn[30]\u001b[39m\u001b[32m, line 7\u001b[39m, in \u001b[36mdisplay_model_results_ollama\u001b[39m\u001b[34m(models, model_outputs)\u001b[39m\n\u001b[32m      4\u001b[39m \u001b[38;5;28mprint\u001b[39m(\u001b[33mf\u001b[39m\u001b[33m\"\u001b[39m\u001b[33mModel: \u001b[39m\u001b[38;5;132;01m{\u001b[39;00mmodel\u001b[38;5;132;01m}\u001b[39;00m\u001b[33m\"\u001b[39m)\n\u001b[32m      6\u001b[39m \u001b[38;5;66;03m# --- Speed & Runtime first ---\u001b[39;00m\n\u001b[32m----> \u001b[39m\u001b[32m7\u001b[39m \u001b[38;5;28;01mif\u001b[39;00m \u001b[38;5;129;01mnot\u001b[39;00m \u001b[43mmodel_outputs\u001b[49m\u001b[43m[\u001b[49m\u001b[43mmodel\u001b[49m\u001b[43m]\u001b[49m:\n\u001b[32m      8\u001b[39m     \u001b[38;5;28mprint\u001b[39m(\u001b[33m\"\u001b[39m\u001b[33mNo outputs for this model.\u001b[39m\u001b[38;5;130;01m\\n\u001b[39;00m\u001b[33m\"\u001b[39m)\n\u001b[32m      9\u001b[39m     \u001b[38;5;28;01mcontinue\u001b[39;00m\n",
      "\u001b[31mKeyError\u001b[39m: 'deepseek-r1:70b-llama-distill-q4_K_M'"
     ]
    }
   ],
   "source": [
    "display_model_results_ollama(models, res)"
   ]
  },
  {
   "cell_type": "markdown",
   "id": "f5569560",
   "metadata": {},
   "source": [
    "### Testing Ollama"
   ]
  },
  {
   "cell_type": "code",
   "execution_count": 35,
   "id": "b9cabbda",
   "metadata": {},
   "outputs": [],
   "source": [
    "def ask_ollama(prompt: str, model: str = \"deepseek-r1:8b\") -> str:\n",
    "    \"\"\"\n",
    "    Sends a prompt to the Ollama generate endpoint and returns the model's response.\n",
    "    \n",
    "    Args:\n",
    "        prompt (str): The text prompt to send to the model.\n",
    "        model (str): The model to use\n",
    "        \n",
    "    Returns:\n",
    "        str: The generated text from the model.\n",
    "    \"\"\"\n",
    "    response = ollama.generate(\n",
    "        model=model,\n",
    "        prompt=prompt,\n",
    "        options={\n",
    "            \"seed\": 42,\n",
    "            \"temperature\": 0,\n",
    "            \"top_k\": 1,\n",
    "            \"top_p\": 1,\n",
    "        }\n",
    "    )\n",
    "    return response[\"response\"]"
   ]
  },
  {
   "cell_type": "code",
   "execution_count": 32,
   "id": "fc75959a",
   "metadata": {},
   "outputs": [
    {
     "name": "stdout",
     "output_type": "stream",
     "text": [
      "<think>\n",
      "Okay, the user asked \"What is AI?\" which seems pretty straightforward. But I should think about why they're asking this. Maybe they just heard the term and want a basic understanding, or perhaps they're curious about how it works beyond the surface level.\n",
      "\n",
      "First, I need to define AI clearly but not too technically. They might be someone new to the topic, like a student or a person encountering AI in daily life through tools like chatbots. It's important to explain that AI isn't just one thing—it includes different approaches and goals.\n",
      "\n",
      "I should start with the simple definition: artificial intelligence is making machines smart. Then break it down into categories like narrow vs general AI. That helps differentiate current tech from sci-fi concepts. Examples would make it relatable, so mentioning things like Siri or self-driving cars could help them connect theory to real-world applications.\n",
      "\n",
      "They might also wonder about how AI works without knowing the specifics of algorithms and data. Explaining that it's more about enabling intelligence than creating a mind is key here. Emphasizing machine learning as part of AI but not the whole thing can prevent confusion between the two terms.\n",
      "\n",
      "The user could have deeper needs, like understanding if AI will replace humans or how it affects their job. But since they didn't ask, maybe stick to explaining what AI is and its scope. However, touching on goals like problem-solving and learning might address those unspoken concerns indirectly by showing AI's capabilities in a positive light.\n",
      "\n",
      "Also, considering the ethical implications briefly could be useful if they're thinking about broader impacts. Mentioning that it's not just about making machines smart but also about how they can help or harm people adds depth without overwhelming them.\n",
      "\n",
      "I should check if my explanation covers both technical aspects and practical examples. Making sure to highlight machine learning as a subset of AI, so the user knows there are different methods. Maybe avoid jargon unless necessary, and use terms like \"pattern recognition\" instead of complex math.\n",
      "\n",
      "Overall, keeping it simple but comprehensive. Ensuring they grasp that AI is about simulating human intelligence in machines for specific tasks, not creating sentient beings. That distinction is crucial to manage expectations and provide accurate information.\n",
      "</think>\n",
      "Okay, let's break down Artificial Intelligence (AI).\n",
      "\n",
      "**At its simplest:** AI is the idea of making machines smart – capable of performing tasks that normally require human intelligence.\n",
      "\n",
      "## More precisely:\n",
      "Artificial Intelligence refers to systems or machines that mimic cognitive functions that humans associate with the **human mind**, such as learning and reasoning, problem solving, perception, understanding language, etc. The goal is to create entities (usually computer programs) that can think and act intelligently in ways similar to humans.\n",
      "\n",
      "## Key aspects include:\n",
      "\n",
      "1.  **Learning:** AI systems can learn from data, experiences, and examples without being explicitly programmed for every scenario.\n",
      "2.  **Reasoning & Problem Solving:** They can use logic and existing knowledge to draw conclusions or find solutions to problems.\n",
      "3.  **Perception:** Some AI can interpret sensory information (like images, sounds) similar to how humans do.\n",
      "4.  **Language Understanding:** Many systems can understand, process, and generate human language.\n",
      "\n",
      "## Types of AI\n",
      "\n",
      "*   **Narrow AI (or Weak AI):** This is the most common type today. These systems are designed for specific tasks like recognizing speech, answering questions in chatbots (like me!), playing games (e.g., chess), or analyzing medical images. They excel at one thing but lack general intelligence.\n",
      "    *   *Examples:* Siri, Alexa, Google Search suggestions, recommendation algorithms on Netflix/Spotify, spam filters, self-driving cars for specific driving conditions, image classifiers.\n",
      "*   **General AI (or Artificial General Intelligence - AGI) / Strong AI:** This is the hypothetical form of AI that possesses the ability to understand, learn, and apply reasoning in any way that a human being can. It's not currently achieved and is more like science fiction. Current AI research often focuses on achieving capabilities close to this for specific domains.\n",
      "*   **Machine Learning (ML):** While related and often used interchangeably with AI, ML is actually a *subset* of AI. Machine learning specifically refers to systems that learn from data without being explicitly programmed for the task. Many AI systems rely heavily on machine learning techniques.\n",
      "\n",
      "## How it's achieved\n",
      "\n",
      "AI isn't just about making machines smart; it involves complex methods:\n",
      "\n",
      "*   **Machine Learning:** Training algorithms using vast amounts of data so they can recognize patterns and make predictions or decisions.\n",
      "*   **Deep Learning:** A subset of ML that uses artificial neural networks (inspired by the human brain) with many layers to learn complex patterns, often from large datasets. This powers much of today's advanced image recognition and natural language processing.\n",
      "*   **Rule-based systems:** Older AI approaches where programmers explicitly define rules for the machine to follow.\n",
      "\n",
      "## The Goal\n",
      "\n",
      "The ultimate goal varies:\n",
      "\n",
      "*   To automate tasks that were previously thought to require human intelligence (like complex calculations, data analysis).\n",
      "*   To create tools that can augment human capabilities or provide assistance in areas like customer service, healthcare diagnosis, logistics.\n",
      "*   Some aim towards creating truly intelligent machines with general cognitive abilities.\n",
      "\n",
      "**In short:** AI is the broad field focused on building smart machines. It uses techniques like machine learning and deep learning to enable computers to perform tasks requiring human-like intelligence (learning, problem solving, etc.), most commonly in specific applications today rather than achieving general human-level intelligence.\n"
     ]
    }
   ],
   "source": [
    "print(ask_ollama(\"What is AI?\"))"
   ]
  },
  {
   "cell_type": "code",
   "execution_count": 34,
   "id": "fd6d6fbc",
   "metadata": {},
   "outputs": [
    {
     "name": "stdout",
     "output_type": "stream",
     "text": [
      "<think>\n",
      "Okay, the user asked \"What is AI?\" which seems pretty straightforward. But I should think about why they're asking this. Maybe they just heard the term and want a basic understanding, or perhaps they're curious about how it works beyond the surface level.\n",
      "\n",
      "First, I need to define AI clearly but not too technically. They might be someone new to the topic, like a student or a person encountering AI in daily life through tools like chatbots. It's important to explain that AI isn't just one thing—it includes different approaches and goals.\n",
      "\n",
      "I should start with the simple definition: artificial intelligence is making machines smart. Then break it down into categories like narrow vs general AI. That helps differentiate current tech from sci-fi concepts. Examples would make it relatable, so mentioning things like Siri or self-driving cars could help them connect theory to practice.\n",
      "\n",
      "Wait, they might also be interested in how AI works under the hood. Should I explain machine learning? Yeah, because most modern AI uses ML, but not all. Maybe mention that some systems use rule-based programming too. But keep it simple—maybe just say \"AI can mean different things\" and then list supervised/unsupervised learning briefly.\n",
      "\n",
      "Also, considering their possible deeper needs: they might want to know if AI is trustworthy or what ethical concerns are. Or maybe they're looking for career opportunities in AI. I should touch on the goals of AI without getting into jargon—automation, problem-solving, decision-making. That gives a broader context.\n",
      "\n",
      "I need to make sure my answer isn't too long but covers enough ground. Start with basics, then elaborate on types and examples. Highlighting that AI is already around them could spark interest or reassure them it's not just theoretical.\n",
      "\n",
      "Check if there are any common misconceptions to address. For instance, people might think AI means robots taking over, so clarifying the difference between narrow AI and AGI here would help. Also, mentioning machine learning as a subset but integral part of modern AI avoids confusion.\n",
      "\n",
      "Finally, wrap up with why it's important now—automation in various fields, decision-making tools. That ties back to their potential interest in relevance or applications. Keep the tone friendly and informative without overwhelming them.\n",
      "</think>\n",
      "Okay, let's break down Artificial Intelligence (AI).\n",
      "\n",
      "**At its simplest:** AI is the idea of making machines \"smart\" – capable of performing tasks that normally require human intelligence.\n",
      "\n",
      "## More formally:\n",
      "Artificial Intelligence refers to the **theory and development** of computer systems or robots that exhibit traits like:\n",
      "\n",
      "1.  **Learning:** The ability to learn from experience (data, user interactions).\n",
      "2.  **Problem Solving:** Finding solutions to complex issues.\n",
      "3.  **Perception:** Interpreting sensory information (like images or sounds).\n",
      "4.  **Natural Language Processing (NLP):** Understanding and generating human language.\n",
      "5.  **Reasoning & Decision Making:** Using logic to draw conclusions or make choices.\n",
      "\n",
      "## Key Concepts\n",
      "\n",
      "*   **Machine Learning (ML):** This is a *subset* of AI where systems learn patterns from data without being explicitly programmed for every scenario. It's the most common approach today and forms the basis for many AI applications.\n",
      "    *   Think: Training an image classifier on thousands of cat and dog photos so it can later recognize cats in new pictures.\n",
      "*   **Deep Learning:** A further subset of ML using artificial neural networks (inspired by the human brain) with multiple layers to analyze complex data, like images or language. It's responsible for breakthroughs in areas like computer vision and natural language processing.\n",
      "\n",
      "## Types of AI\n",
      "\n",
      "AI isn't just one thing; it encompasses different approaches:\n",
      "\n",
      "1.  **Narrow AI / Weak AI:** This is the type we interact with most often (like Siri, Alexa, Google Search). These systems are designed to perform a limited set of tasks in a specific domain (e.g., recognizing faces, translating text, playing chess). They don't possess general intelligence.\n",
      "2.  **General AI / Strong AI:** (This is more theoretical and the goal for many researchers) This would be an AI system with human-like cognitive abilities – understanding context, learning new things across different domains, reasoning about anything, like a human. We don't have this yet.\n",
      "\n",
      "## Goals of AI\n",
      "\n",
      "The ultimate aim of much AI research is to create systems that can:\n",
      "\n",
      "*   Automate complex tasks.\n",
      "*   Solve problems previously thought to require human insight or creativity.\n",
      "*   Make decisions based on vast amounts of data and context.\n",
      "*   Interact with humans in a natural, intelligent way.\n",
      "\n",
      "## In short\n",
      "\n",
      "AI is the broad field focused on creating computer programs and systems that can perform tasks normally requiring human intelligence. The most prominent technique today involves **machine learning**, where computers learn from data to make predictions or decisions without being directly programmed for every instance.\n"
     ]
    }
   ],
   "source": [
    "print(ask_ollama(\"What is AI?\"))"
   ]
  },
  {
   "cell_type": "code",
   "execution_count": null,
   "id": "2f61cf4c",
   "metadata": {},
   "outputs": [],
   "source": []
  }
 ],
 "metadata": {
  "kernelspec": {
   "display_name": "MasterThesis_LLM_optimization_ORCA",
   "language": "python",
   "name": "python3"
  },
  "language_info": {
   "codemirror_mode": {
    "name": "ipython",
    "version": 3
   },
   "file_extension": ".py",
   "mimetype": "text/x-python",
   "name": "python",
   "nbconvert_exporter": "python",
   "pygments_lexer": "ipython3",
   "version": "3.13.2"
  }
 },
 "nbformat": 4,
 "nbformat_minor": 5
}
