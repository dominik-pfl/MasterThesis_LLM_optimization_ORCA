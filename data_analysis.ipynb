{
 "cells": [
  {
   "cell_type": "markdown",
   "id": "afcf284f",
   "metadata": {},
   "source": [
    "# CRISP DM\n"
   ]
  },
  {
   "cell_type": "markdown",
   "id": "ba15c3be",
   "metadata": {},
   "source": [
    "# Problem Understanding:\n",
    "A central step in the ORCA pipeline is the automated mapping of natural language threat\n",
    "descriptions to structured attack patterns from the Common Attack Pattern Enumeration\n",
    "and Classification (CAPEC) framework. This process—referred to as Threat-to-CAPEC\n",
    "Mapping—aims to translate unstructured textual threat inputs into standardized, machine-\n",
    "readable representations that describe how an attacker might exploit a given vulnerability.\n",
    "This mapping is critical for enabling further steps in the security analysis process, such\n",
    "as correlating threats with known vulnerabilities (CWEs, CVEs), assessing risk using\n",
    "scoring systems like CVSS, and informing mitigation strategies. However, the task poses\n",
    "several inherent challenges:\n",
    "Ambiguity: Threat descriptions are often informal, incomplete, or context-dependent.\n",
    "Terminology mismatch: Natural language inputs may not directly align with the technical\n",
    "vocabulary used in CAPEC definitions.\n",
    "Granularity: A single threat may correspond to multiple CAPECs at varying levels of\n",
    "abstraction, requiring semantic reasoning to determine relevance.\n",
    "Solving this problem involves designing a system capable of understanding the semantics\n",
    "of threat descriptions and reliably identifying the most appropriate CAPEC entries. This\n",
    "step must balance accuracy, scalability, and interpretability to support reliable, automated\n",
    "security assessments within the broader ORCA framework."
   ]
  },
  {
   "cell_type": "markdown",
   "id": "28377b02",
   "metadata": {},
   "source": [
    "# Data Understanding"
   ]
  },
  {
   "cell_type": "code",
   "execution_count": 1,
   "id": "92b7bdae",
   "metadata": {},
   "outputs": [
    {
     "name": "stderr",
     "output_type": "stream",
     "text": [
      "/root/MasterThesis_LLM_optimization_ORCA/.venv/lib/python3.13/site-packages/tqdm/auto.py:21: TqdmWarning: IProgress not found. Please update jupyter and ipywidgets. See https://ipywidgets.readthedocs.io/en/stable/user_install.html\n",
      "  from .autonotebook import tqdm as notebook_tqdm\n"
     ]
    },
    {
     "data": {
      "text/html": [
       "\n",
       "<style>\n",
       "/* White background for output area */\n",
       ".output_area {\n",
       "    background: white !important;\n",
       "    color: black !important;\n",
       "}\n",
       "\n",
       "/* Optional: White background for DataFrame cells */\n",
       ".dataframe {\n",
       "    background-color: white !important;\n",
       "    color: black !important;\n",
       "}\n",
       "</style>\n"
      ],
      "text/plain": [
       "<IPython.core.display.HTML object>"
      ]
     },
     "metadata": {},
     "output_type": "display_data"
    }
   ],
   "source": [
    "# imports\n",
    "import pandas as pd\n",
    "import json\n",
    "import re\n",
    "import time\n",
    "import ollama\n",
    "from IPython.display import HTML, display\n",
    "from git import Repo, InvalidGitRepositoryError\n",
    "import os\n",
    "import shutil\n",
    "\n",
    "from stix2 import FileSystemSource\n",
    "from stix2 import Filter\n",
    "\n",
    "from sentence_transformers import SentenceTransformer, util\n",
    "import torch\n",
    "import chromadb\n",
    "from chromadb import Documents, EmbeddingFunction, Embeddings\n",
    "\n",
    "import pprint\n",
    "from pprint import pprint\n",
    "\n",
    "from tqdm import tqdm\n",
    "from google import genai\n",
    "from google.genai import types\n",
    "\n",
    "from pprint import pprint\n",
    "\n",
    "from IPython.display import HTML, Markdown, display\n",
    "\n",
    "display(HTML('''\n",
    "<style>\n",
    "/* White background for output area */\n",
    ".output_area {\n",
    "    background: white !important;\n",
    "    color: black !important;\n",
    "}\n",
    "\n",
    "/* Optional: White background for DataFrame cells */\n",
    ".dataframe {\n",
    "    background-color: white !important;\n",
    "    color: black !important;\n",
    "}\n",
    "</style>\n",
    "'''))\n",
    "\n"
   ]
  },
  {
   "cell_type": "code",
   "execution_count": 2,
   "id": "5ce09cf6",
   "metadata": {},
   "outputs": [],
   "source": [
    "# setting display options for pandas\n",
    "pd.set_option('display.max_columns', None)\n",
    "pd.set_option('display.width', None)\n",
    "pd.set_option('display.max_colwidth', None)"
   ]
  },
  {
   "cell_type": "markdown",
   "id": "88e0f901",
   "metadata": {},
   "source": [
    "Import threat data from json file"
   ]
  },
  {
   "cell_type": "code",
   "execution_count": 3,
   "id": "852276b1",
   "metadata": {},
   "outputs": [
    {
     "data": {
      "text/html": [
       "<div>\n",
       "<style scoped>\n",
       "    .dataframe tbody tr th:only-of-type {\n",
       "        vertical-align: middle;\n",
       "    }\n",
       "\n",
       "    .dataframe tbody tr th {\n",
       "        vertical-align: top;\n",
       "    }\n",
       "\n",
       "    .dataframe thead th {\n",
       "        text-align: right;\n",
       "    }\n",
       "</style>\n",
       "<table border=\"1\" class=\"dataframe\">\n",
       "  <thead>\n",
       "    <tr style=\"text-align: right;\">\n",
       "      <th></th>\n",
       "      <th>Threat ID</th>\n",
       "      <th>Threat title</th>\n",
       "      <th>Threat Description</th>\n",
       "      <th>Threat type</th>\n",
       "      <th>Impact type</th>\n",
       "      <th>Threat agent</th>\n",
       "      <th>Vulnerability</th>\n",
       "      <th>Threatened Asset</th>\n",
       "      <th>Affected Components</th>\n",
       "    </tr>\n",
       "  </thead>\n",
       "  <tbody>\n",
       "    <tr>\n",
       "      <th>0</th>\n",
       "      <td>T-O-RAN-01</td>\n",
       "      <td>An attacker exploits insecure designs or lack of adaption in O-RAN components</td>\n",
       "      <td>Unauthenticated/unauthorized access to O-RAN components could possibly be achieved via the different O-RAN interfaces, depending upon the design of the hardware-software O-RAN system and how different functions are segregated within the O-RAN system. \\nO-RAN components might be vulnerable if: \\n• Outdated component from the lack of update or patch management,\\n• Poorly design architecture,\\n• Missing appropriate security hardening,\\n• Unnecessary or insecure function/protocol/component.\\nAn attacker could, in such case, either inject malwares and/or manipulate existing software, harm the O-RAN components, create a performance issue by manipulation of parameters, or reconfigure the O-RAN components and disable the security features with the purpose of eavesdropping or wiretapping on various CUS &amp; M planes, reaching northbound systems, attack broader network to cause denial-of-service, steal unprotected private keys, certificates, hash values, or other type of breaches.\\nIn addition, O-RAN components could be software providing network functions, so they are likely to be vulnerable to software flaws: it could be possible to bypass firewall restrictions or to take advantage of a buffer overflow to execute arbitrary commands, etc.</td>\n",
       "      <td>None</td>\n",
       "      <td>None</td>\n",
       "      <td>All</td>\n",
       "      <td>[Outdated component from the lack of update or patch management, Poorly design architecture, Missing appropriate security hardening, Unnecessary or insecure function/protocol/component]</td>\n",
       "      <td>All</td>\n",
       "      <td>All</td>\n",
       "    </tr>\n",
       "    <tr>\n",
       "      <th>1</th>\n",
       "      <td>T-O-RAN-02</td>\n",
       "      <td>An attacker exploits misconfigured or poorly configured O-RAN components</td>\n",
       "      <td>Unauthenticated/unauthorized access to O-RAN components could possibly be achieved via the different O-RAN interfaces, depending upon the configuration of the hardware-software O-RAN system. \\nO-RAN components might be vulnerable if: \\n• Errors from the lack of configuration change management,\\n• Misconfigured or poorly configured O-RAN components,\\n• Improperly configured permissions,\\n• Unnecessary features are enabled (e.g. unnecessary ports, services, accounts, or privileges),\\n• Default accounts and their passwords still enabled and unchanged,\\n• Security features are disabled or not configured securely.\\nAn attacker could, in such case, either inject malwares and/or manipulate existing software, harm the O-RAN components, create a performance issue by manipulation of parameters, or reconfigure the O-RAN components and disable the security features with the purpose of eavesdropping or wiretapping on various CUS &amp; M planes, reaching northbound systems, attack broader network to cause denial-of-service, steal unprotected private keys, certificates, hash values, or other type of breaches.</td>\n",
       "      <td>None</td>\n",
       "      <td>None</td>\n",
       "      <td>All</td>\n",
       "      <td>[Errors from the lack of configuration change management, Misconfigured or poorly configured O-RAN components, Improperly configured permissions, Unnecessary features are enabled (e.g. unnecessary ports, services, accounts, or privileges), Default accounts and their passwords still enabled and unchanged, Security features are disabled or not configured securely]</td>\n",
       "      <td>All</td>\n",
       "      <td>All</td>\n",
       "    </tr>\n",
       "    <tr>\n",
       "      <th>2</th>\n",
       "      <td>T-O-RAN-03</td>\n",
       "      <td>Attacks from the internet to penetrate O-RAN network boundary</td>\n",
       "      <td>Web servers serving O-RAN functional and management services should provide adequate protection. \\nAn attacker that have access to the uncontrolled O-RAN network could:\\n• Bypass the information flow control policy implemented by the firewall,\\n• And/or attack O-RAN components in the trusted networks by taking advantage of particularities and errors in the design and implementation of the network protocols (IP, TCP, UDP, application protocols),\\n• Use of incorrect or exceeded TCP sequence numbers,\\n• Perform brute force attacks on FTP passwords,\\n• Use of improper HTTP user sessions,\\n• Etc.\\nThe effects of such attacks may include:\\n• An intrusion, meaning unauthorized access to O-RAN components,\\n• Blocking, flooding or restarting an O-RAN component causing a denial of service,\\n• Flooding of network equipment, causing a denial of service,\\n• Etc.</td>\n",
       "      <td>None</td>\n",
       "      <td>None</td>\n",
       "      <td>All</td>\n",
       "      <td>[Errors in the design and implementation of the network protocols (HTTP, P, TCP, UDP, application protocols)]</td>\n",
       "      <td>All</td>\n",
       "      <td>All</td>\n",
       "    </tr>\n",
       "    <tr>\n",
       "      <th>3</th>\n",
       "      <td>T-O-RAN-04</td>\n",
       "      <td>An attacker attempts to jam the airlink signal through IoT devices</td>\n",
       "      <td>DDoS attacks on O-RAN systems: The 5G evolution means billions of things, collectively referred to as IoT, will be using the 5G O-RAN. Thus, IoT could increase the risk of O-RAN resource overload by way of DDoS attacks. Attackers create a botnet army by infecting many (millions/billions) IoT devices with a “remote-reboot” malware. Attackers instruct the malware to reboot all devices in a specific or targeted 5G coverage area at the same time.</td>\n",
       "      <td>None</td>\n",
       "      <td>None</td>\n",
       "      <td>All</td>\n",
       "      <td>[Failure to address overload situations]</td>\n",
       "      <td>ASSET-D-06, ASSET-D-18</td>\n",
       "      <td>O-RU, airlink with UE, O-DU</td>\n",
       "    </tr>\n",
       "    <tr>\n",
       "      <th>4</th>\n",
       "      <td>T-O-RAN-05</td>\n",
       "      <td>An attacker penetrates and compromises the O-RAN system through the open O-RAN’s Fronthaul, O1, O2, A1, and E2</td>\n",
       "      <td>O-RAN’s Fronthaul, O1, O2, A1, and E2 management interfaces are the new open interfaces that allow software programmability of RAN. These interfaces may not be secured to industry best practices.\\nO-RAN components might be vulnerable if: \\n• Improper or missing authentication and authorization processes,\\n• Improper or missing ciphering and integrity checks of sensitive data exchanged over O-RAN interfaces,\\n• Improper or missing replay protection of sensitive data exchanged over O-RAN interfaces,\\n• Improper prevention of key reuse,\\n• Improper implementation,\\n• Improperly validate inputs, respond to error conditions in both the submitted data as well as out of sequence protocol steps.\\nAn attacker could, in such case, cause denial-of-service, data tampering or information disclosure, etc.\\nNOTE: O-RAN interfaces allow use of TLS or SSH. Industry best practices mandate the use of TLS (v1.2 or higher) or SSH certificate-based authentication. An implementation that implements TLS version lower than 1.2 or a SSH password authentication, may become the key source of vulnerability that a malicious code will exploit to compromise the O-RAN system.</td>\n",
       "      <td>None</td>\n",
       "      <td>None</td>\n",
       "      <td>All</td>\n",
       "      <td>[Improper or missing authentication and authorization processes, Improper prevention of key reuse, Improper or missing replay protection of sensitive data exchanged over O-RAN interfaces, Improper or missing ciphering and integrity checks of sensitive data exchanged over O-RAN interfaces]</td>\n",
       "      <td>All</td>\n",
       "      <td>rApps, xApps, O-RU, O-DU, O-CU, Near-RT RIC, Non-RT RIC</td>\n",
       "    </tr>\n",
       "  </tbody>\n",
       "</table>\n",
       "</div>"
      ],
      "text/plain": [
       "    Threat ID  \\\n",
       "0  T-O-RAN-01   \n",
       "1  T-O-RAN-02   \n",
       "2  T-O-RAN-03   \n",
       "3  T-O-RAN-04   \n",
       "4  T-O-RAN-05   \n",
       "\n",
       "                                                                                                     Threat title  \\\n",
       "0                                   An attacker exploits insecure designs or lack of adaption in O-RAN components   \n",
       "1                                        An attacker exploits misconfigured or poorly configured O-RAN components   \n",
       "2                                                   Attacks from the internet to penetrate O-RAN network boundary   \n",
       "3                                              An attacker attempts to jam the airlink signal through IoT devices   \n",
       "4  An attacker penetrates and compromises the O-RAN system through the open O-RAN’s Fronthaul, O1, O2, A1, and E2   \n",
       "\n",
       "                                                                                                                                                                                                                                                                                                                                                                                                                                                                                                                                                                                                                                                                                                                                                                                                                                                                                                                                                                                                                                                                                                                                                                                                                                                                               Threat Description  \\\n",
       "0  Unauthenticated/unauthorized access to O-RAN components could possibly be achieved via the different O-RAN interfaces, depending upon the design of the hardware-software O-RAN system and how different functions are segregated within the O-RAN system. \\nO-RAN components might be vulnerable if: \\n• Outdated component from the lack of update or patch management,\\n• Poorly design architecture,\\n• Missing appropriate security hardening,\\n• Unnecessary or insecure function/protocol/component.\\nAn attacker could, in such case, either inject malwares and/or manipulate existing software, harm the O-RAN components, create a performance issue by manipulation of parameters, or reconfigure the O-RAN components and disable the security features with the purpose of eavesdropping or wiretapping on various CUS & M planes, reaching northbound systems, attack broader network to cause denial-of-service, steal unprotected private keys, certificates, hash values, or other type of breaches.\\nIn addition, O-RAN components could be software providing network functions, so they are likely to be vulnerable to software flaws: it could be possible to bypass firewall restrictions or to take advantage of a buffer overflow to execute arbitrary commands, etc.   \n",
       "1                                                                                                                                             Unauthenticated/unauthorized access to O-RAN components could possibly be achieved via the different O-RAN interfaces, depending upon the configuration of the hardware-software O-RAN system. \\nO-RAN components might be vulnerable if: \\n• Errors from the lack of configuration change management,\\n• Misconfigured or poorly configured O-RAN components,\\n• Improperly configured permissions,\\n• Unnecessary features are enabled (e.g. unnecessary ports, services, accounts, or privileges),\\n• Default accounts and their passwords still enabled and unchanged,\\n• Security features are disabled or not configured securely.\\nAn attacker could, in such case, either inject malwares and/or manipulate existing software, harm the O-RAN components, create a performance issue by manipulation of parameters, or reconfigure the O-RAN components and disable the security features with the purpose of eavesdropping or wiretapping on various CUS & M planes, reaching northbound systems, attack broader network to cause denial-of-service, steal unprotected private keys, certificates, hash values, or other type of breaches.   \n",
       "2                                                                                                                                                                                                                                                                                                                                                                                                   Web servers serving O-RAN functional and management services should provide adequate protection. \\nAn attacker that have access to the uncontrolled O-RAN network could:\\n• Bypass the information flow control policy implemented by the firewall,\\n• And/or attack O-RAN components in the trusted networks by taking advantage of particularities and errors in the design and implementation of the network protocols (IP, TCP, UDP, application protocols),\\n• Use of incorrect or exceeded TCP sequence numbers,\\n• Perform brute force attacks on FTP passwords,\\n• Use of improper HTTP user sessions,\\n• Etc.\\nThe effects of such attacks may include:\\n• An intrusion, meaning unauthorized access to O-RAN components,\\n• Blocking, flooding or restarting an O-RAN component causing a denial of service,\\n• Flooding of network equipment, causing a denial of service,\\n• Etc.   \n",
       "3                                                                                                                                                                                                                                                                                                                                                                                                                                                                                                                                                                                                                                                                                                                                                                                                                                  DDoS attacks on O-RAN systems: The 5G evolution means billions of things, collectively referred to as IoT, will be using the 5G O-RAN. Thus, IoT could increase the risk of O-RAN resource overload by way of DDoS attacks. Attackers create a botnet army by infecting many (millions/billions) IoT devices with a “remote-reboot” malware. Attackers instruct the malware to reboot all devices in a specific or targeted 5G coverage area at the same time.   \n",
       "4                                                                                       O-RAN’s Fronthaul, O1, O2, A1, and E2 management interfaces are the new open interfaces that allow software programmability of RAN. These interfaces may not be secured to industry best practices.\\nO-RAN components might be vulnerable if: \\n• Improper or missing authentication and authorization processes,\\n• Improper or missing ciphering and integrity checks of sensitive data exchanged over O-RAN interfaces,\\n• Improper or missing replay protection of sensitive data exchanged over O-RAN interfaces,\\n• Improper prevention of key reuse,\\n• Improper implementation,\\n• Improperly validate inputs, respond to error conditions in both the submitted data as well as out of sequence protocol steps.\\nAn attacker could, in such case, cause denial-of-service, data tampering or information disclosure, etc.\\nNOTE: O-RAN interfaces allow use of TLS or SSH. Industry best practices mandate the use of TLS (v1.2 or higher) or SSH certificate-based authentication. An implementation that implements TLS version lower than 1.2 or a SSH password authentication, may become the key source of vulnerability that a malicious code will exploit to compromise the O-RAN system.   \n",
       "\n",
       "  Threat type Impact type Threat agent  \\\n",
       "0        None        None          All   \n",
       "1        None        None          All   \n",
       "2        None        None          All   \n",
       "3        None        None          All   \n",
       "4        None        None          All   \n",
       "\n",
       "                                                                                                                                                                                                                                                                                                                                                                  Vulnerability  \\\n",
       "0                                                                                                                                                                                     [Outdated component from the lack of update or patch management, Poorly design architecture, Missing appropriate security hardening, Unnecessary or insecure function/protocol/component]   \n",
       "1  [Errors from the lack of configuration change management, Misconfigured or poorly configured O-RAN components, Improperly configured permissions, Unnecessary features are enabled (e.g. unnecessary ports, services, accounts, or privileges), Default accounts and their passwords still enabled and unchanged, Security features are disabled or not configured securely]   \n",
       "2                                                                                                                                                                                                                                                                 [Errors in the design and implementation of the network protocols (HTTP, P, TCP, UDP, application protocols)]   \n",
       "3                                                                                                                                                                                                                                                                                                                                      [Failure to address overload situations]   \n",
       "4                                                                             [Improper or missing authentication and authorization processes, Improper prevention of key reuse, Improper or missing replay protection of sensitive data exchanged over O-RAN interfaces, Improper or missing ciphering and integrity checks of sensitive data exchanged over O-RAN interfaces]   \n",
       "\n",
       "         Threatened Asset  \\\n",
       "0                     All   \n",
       "1                     All   \n",
       "2                     All   \n",
       "3  ASSET-D-06, ASSET-D-18   \n",
       "4                     All   \n",
       "\n",
       "                                       Affected Components  \n",
       "0                                                      All  \n",
       "1                                                      All  \n",
       "2                                                      All  \n",
       "3                              O-RU, airlink with UE, O-DU  \n",
       "4  rApps, xApps, O-RU, O-DU, O-CU, Near-RT RIC, Non-RT RIC  "
      ]
     },
     "execution_count": 3,
     "metadata": {},
     "output_type": "execute_result"
    }
   ],
   "source": [
    "# Load threat data from JSON file into a DataFrame\n",
    "df_threats = pd.read_json('threat_data/all_threats.json')\n",
    "df_threats.head(5)"
   ]
  },
  {
   "cell_type": "code",
   "execution_count": 4,
   "id": "0fde54f2",
   "metadata": {},
   "outputs": [
    {
     "name": "stdout",
     "output_type": "stream",
     "text": [
      "<class 'pandas.core.frame.DataFrame'>\n",
      "RangeIndex: 182 entries, 0 to 181\n",
      "Data columns (total 9 columns):\n",
      " #   Column               Non-Null Count  Dtype \n",
      "---  ------               --------------  ----- \n",
      " 0   Threat ID            182 non-null    object\n",
      " 1   Threat title         182 non-null    object\n",
      " 2   Threat Description   182 non-null    object\n",
      " 3   Threat type          82 non-null     object\n",
      " 4   Impact type          82 non-null     object\n",
      " 5   Threat agent         182 non-null    object\n",
      " 6   Vulnerability        182 non-null    object\n",
      " 7   Threatened Asset     182 non-null    object\n",
      " 8   Affected Components  182 non-null    object\n",
      "dtypes: object(9)\n",
      "memory usage: 12.9+ KB\n"
     ]
    }
   ],
   "source": [
    "# Display DataFrame information\n",
    "df_threats.info()"
   ]
  },
  {
   "cell_type": "markdown",
   "id": "1be67c75",
   "metadata": {},
   "source": [
    "There a 182 threats in 9 columns, each threat has a unique ID, a title, a description, a threat type, an impact type, a threat agent, one or more vulnerabilities (safed in a list), a threatened asset and a affected component"
   ]
  },
  {
   "cell_type": "code",
   "execution_count": 5,
   "id": "a797c421",
   "metadata": {},
   "outputs": [
    {
     "data": {
      "text/html": [
       "<div>\n",
       "<style scoped>\n",
       "    .dataframe tbody tr th:only-of-type {\n",
       "        vertical-align: middle;\n",
       "    }\n",
       "\n",
       "    .dataframe tbody tr th {\n",
       "        vertical-align: top;\n",
       "    }\n",
       "\n",
       "    .dataframe thead th {\n",
       "        text-align: right;\n",
       "    }\n",
       "</style>\n",
       "<table border=\"1\" class=\"dataframe\">\n",
       "  <thead>\n",
       "    <tr style=\"text-align: right;\">\n",
       "      <th></th>\n",
       "      <th>Threat ID</th>\n",
       "      <th>Threat title</th>\n",
       "      <th>Threat Description</th>\n",
       "      <th>Threat type</th>\n",
       "      <th>Impact type</th>\n",
       "      <th>Threat agent</th>\n",
       "      <th>Vulnerability</th>\n",
       "      <th>Threatened Asset</th>\n",
       "      <th>Affected Components</th>\n",
       "    </tr>\n",
       "  </thead>\n",
       "  <tbody>\n",
       "    <tr>\n",
       "      <th>count</th>\n",
       "      <td>182</td>\n",
       "      <td>182</td>\n",
       "      <td>182</td>\n",
       "      <td>82</td>\n",
       "      <td>82</td>\n",
       "      <td>182</td>\n",
       "      <td>182</td>\n",
       "      <td>182</td>\n",
       "      <td>182</td>\n",
       "    </tr>\n",
       "    <tr>\n",
       "      <th>unique</th>\n",
       "      <td>182</td>\n",
       "      <td>181</td>\n",
       "      <td>182</td>\n",
       "      <td>16</td>\n",
       "      <td>17</td>\n",
       "      <td>2</td>\n",
       "      <td>116</td>\n",
       "      <td>58</td>\n",
       "      <td>55</td>\n",
       "    </tr>\n",
       "    <tr>\n",
       "      <th>top</th>\n",
       "      <td>T-O-RAN-01</td>\n",
       "      <td>External attacker exploits authentication weakness on SMO</td>\n",
       "      <td>Unauthenticated/unauthorized access to O-RAN components could possibly be achieved via the different O-RAN interfaces, depending upon the design of the hardware-software O-RAN system and how different functions are segregated within the O-RAN system. \\nO-RAN components might be vulnerable if: \\n• Outdated component from the lack of update or patch management,\\n• Poorly design architecture,\\n• Missing appropriate security hardening,\\n• Unnecessary or insecure function/protocol/component.\\nAn attacker could, in such case, either inject malwares and/or manipulate existing software, harm the O-RAN components, create a performance issue by manipulation of parameters, or reconfigure the O-RAN components and disable the security features with the purpose of eavesdropping or wiretapping on various CUS &amp; M planes, reaching northbound systems, attack broader network to cause denial-of-service, steal unprotected private keys, certificates, hash values, or other type of breaches.\\nIn addition, O-RAN components could be software providing network functions, so they are likely to be vulnerable to software flaws: it could be possible to bypass firewall restrictions or to take advantage of a buffer overflow to execute arbitrary commands, etc.</td>\n",
       "      <td>Spoofing</td>\n",
       "      <td>Authenticity</td>\n",
       "      <td>All</td>\n",
       "      <td>[weak mutual authentication]</td>\n",
       "      <td>ASSET-D-12, ASSET-D-13, ASSET-D-14, ASSET-D-15, ASSET-D-16, ASSET-D-17, ASSET-D-18, ASSET-D-19, ASSET-D-20, ASSET-D-29, ASSET-D-31, ASSET-D-32</td>\n",
       "      <td>All</td>\n",
       "    </tr>\n",
       "    <tr>\n",
       "      <th>freq</th>\n",
       "      <td>1</td>\n",
       "      <td>2</td>\n",
       "      <td>1</td>\n",
       "      <td>28</td>\n",
       "      <td>26</td>\n",
       "      <td>178</td>\n",
       "      <td>12</td>\n",
       "      <td>24</td>\n",
       "      <td>19</td>\n",
       "    </tr>\n",
       "  </tbody>\n",
       "</table>\n",
       "</div>"
      ],
      "text/plain": [
       "         Threat ID                                               Threat title  \\\n",
       "count          182                                                        182   \n",
       "unique         182                                                        181   \n",
       "top     T-O-RAN-01  External attacker exploits authentication weakness on SMO   \n",
       "freq             1                                                          2   \n",
       "\n",
       "                                                                                                                                                                                                                                                                                                                                                                                                                                                                                                                                                                                                                                                                                                                                                                                                                                                                                                                                                                                                                                                                                                                                                                                                                                                                                    Threat Description  \\\n",
       "count                                                                                                                                                                                                                                                                                                                                                                                                                                                                                                                                                                                                                                                                                                                                                                                                                                                                                                                                                                                                                                                                                                                                                                                                                                                                                              182   \n",
       "unique                                                                                                                                                                                                                                                                                                                                                                                                                                                                                                                                                                                                                                                                                                                                                                                                                                                                                                                                                                                                                                                                                                                                                                                                                                                                                             182   \n",
       "top     Unauthenticated/unauthorized access to O-RAN components could possibly be achieved via the different O-RAN interfaces, depending upon the design of the hardware-software O-RAN system and how different functions are segregated within the O-RAN system. \\nO-RAN components might be vulnerable if: \\n• Outdated component from the lack of update or patch management,\\n• Poorly design architecture,\\n• Missing appropriate security hardening,\\n• Unnecessary or insecure function/protocol/component.\\nAn attacker could, in such case, either inject malwares and/or manipulate existing software, harm the O-RAN components, create a performance issue by manipulation of parameters, or reconfigure the O-RAN components and disable the security features with the purpose of eavesdropping or wiretapping on various CUS & M planes, reaching northbound systems, attack broader network to cause denial-of-service, steal unprotected private keys, certificates, hash values, or other type of breaches.\\nIn addition, O-RAN components could be software providing network functions, so they are likely to be vulnerable to software flaws: it could be possible to bypass firewall restrictions or to take advantage of a buffer overflow to execute arbitrary commands, etc.   \n",
       "freq                                                                                                                                                                                                                                                                                                                                                                                                                                                                                                                                                                                                                                                                                                                                                                                                                                                                                                                                                                                                                                                                                                                                                                                                                                                                                                 1   \n",
       "\n",
       "       Threat type   Impact type Threat agent                 Vulnerability  \\\n",
       "count           82            82          182                           182   \n",
       "unique          16            17            2                           116   \n",
       "top       Spoofing  Authenticity          All  [weak mutual authentication]   \n",
       "freq            28            26          178                            12   \n",
       "\n",
       "                                                                                                                                      Threatened Asset  \\\n",
       "count                                                                                                                                              182   \n",
       "unique                                                                                                                                              58   \n",
       "top     ASSET-D-12, ASSET-D-13, ASSET-D-14, ASSET-D-15, ASSET-D-16, ASSET-D-17, ASSET-D-18, ASSET-D-19, ASSET-D-20, ASSET-D-29, ASSET-D-31, ASSET-D-32   \n",
       "freq                                                                                                                                                24   \n",
       "\n",
       "       Affected Components  \n",
       "count                  182  \n",
       "unique                  55  \n",
       "top                    All  \n",
       "freq                    19  "
      ]
     },
     "execution_count": 5,
     "metadata": {},
     "output_type": "execute_result"
    }
   ],
   "source": [
    "df_threats.describe()"
   ]
  },
  {
   "cell_type": "code",
   "execution_count": 6,
   "id": "ec02ea7c",
   "metadata": {},
   "outputs": [
    {
     "data": {
      "text/plain": [
       "Threat ID                0\n",
       "Threat title             0\n",
       "Threat Description       0\n",
       "Threat type            100\n",
       "Impact type            100\n",
       "Threat agent             0\n",
       "Vulnerability            0\n",
       "Threatened Asset         0\n",
       "Affected Components      0\n",
       "dtype: int64"
      ]
     },
     "execution_count": 6,
     "metadata": {},
     "output_type": "execute_result"
    }
   ],
   "source": [
    "df_threats.isnull().sum()"
   ]
  },
  {
   "cell_type": "code",
   "execution_count": 7,
   "id": "6bbf2588",
   "metadata": {},
   "outputs": [
    {
     "data": {
      "text/plain": [
       "Index(['Threat ID', 'Threat title', 'Threat Description', 'Threat type',\n",
       "       'Impact type', 'Threat agent', 'Vulnerability', 'Threatened Asset',\n",
       "       'Affected Components'],\n",
       "      dtype='object')"
      ]
     },
     "execution_count": 7,
     "metadata": {},
     "output_type": "execute_result"
    }
   ],
   "source": [
    "df_threats.columns"
   ]
  },
  {
   "cell_type": "code",
   "execution_count": 8,
   "id": "631fabe7",
   "metadata": {},
   "outputs": [
    {
     "data": {
      "text/html": [
       "<div>\n",
       "<style scoped>\n",
       "    .dataframe tbody tr th:only-of-type {\n",
       "        vertical-align: middle;\n",
       "    }\n",
       "\n",
       "    .dataframe tbody tr th {\n",
       "        vertical-align: top;\n",
       "    }\n",
       "\n",
       "    .dataframe thead th {\n",
       "        text-align: right;\n",
       "    }\n",
       "</style>\n",
       "<table border=\"1\" class=\"dataframe\">\n",
       "  <thead>\n",
       "    <tr style=\"text-align: right;\">\n",
       "      <th></th>\n",
       "      <th>Threat type</th>\n",
       "      <th>count</th>\n",
       "    </tr>\n",
       "  </thead>\n",
       "  <tbody>\n",
       "    <tr>\n",
       "      <th>0</th>\n",
       "      <td>Spoofing</td>\n",
       "      <td>28</td>\n",
       "    </tr>\n",
       "    <tr>\n",
       "      <th>1</th>\n",
       "      <td>Denial of Service</td>\n",
       "      <td>11</td>\n",
       "    </tr>\n",
       "    <tr>\n",
       "      <th>2</th>\n",
       "      <td>Elevation of Privilege</td>\n",
       "      <td>10</td>\n",
       "    </tr>\n",
       "    <tr>\n",
       "      <th>3</th>\n",
       "      <td>Information Disclosure</td>\n",
       "      <td>9</td>\n",
       "    </tr>\n",
       "    <tr>\n",
       "      <th>4</th>\n",
       "      <td>Tampering</td>\n",
       "      <td>8</td>\n",
       "    </tr>\n",
       "    <tr>\n",
       "      <th>5</th>\n",
       "      <td>Information disclosure</td>\n",
       "      <td>4</td>\n",
       "    </tr>\n",
       "    <tr>\n",
       "      <th>6</th>\n",
       "      <td>Tampering; Denial of Service</td>\n",
       "      <td>2</td>\n",
       "    </tr>\n",
       "    <tr>\n",
       "      <th>7</th>\n",
       "      <td>Elevation of Privilege, Information Disclosure</td>\n",
       "      <td>2</td>\n",
       "    </tr>\n",
       "    <tr>\n",
       "      <th>8</th>\n",
       "      <td>Elevation of Privilege; Denial of Service</td>\n",
       "      <td>1</td>\n",
       "    </tr>\n",
       "    <tr>\n",
       "      <th>9</th>\n",
       "      <td>Denial of Service, Escalation of Privilege</td>\n",
       "      <td>1</td>\n",
       "    </tr>\n",
       "    <tr>\n",
       "      <th>10</th>\n",
       "      <td>Denial of Service, Information Disclosure</td>\n",
       "      <td>1</td>\n",
       "    </tr>\n",
       "    <tr>\n",
       "      <th>11</th>\n",
       "      <td>Denial of Service; Tampering</td>\n",
       "      <td>1</td>\n",
       "    </tr>\n",
       "    <tr>\n",
       "      <th>12</th>\n",
       "      <td>Information disclosure, Tampering</td>\n",
       "      <td>1</td>\n",
       "    </tr>\n",
       "    <tr>\n",
       "      <th>13</th>\n",
       "      <td>Information Disclosure, Denial of Service</td>\n",
       "      <td>1</td>\n",
       "    </tr>\n",
       "    <tr>\n",
       "      <th>14</th>\n",
       "      <td>Tampering, Information Disclosure, Escalation of Privilege</td>\n",
       "      <td>1</td>\n",
       "    </tr>\n",
       "    <tr>\n",
       "      <th>15</th>\n",
       "      <td>Tampering; Elevation of Privilege; Denial of Service</td>\n",
       "      <td>1</td>\n",
       "    </tr>\n",
       "  </tbody>\n",
       "</table>\n",
       "</div>"
      ],
      "text/plain": [
       "                                                   Threat type  count\n",
       "0                                                     Spoofing     28\n",
       "1                                            Denial of Service     11\n",
       "2                                       Elevation of Privilege     10\n",
       "3                                       Information Disclosure      9\n",
       "4                                                    Tampering      8\n",
       "5                                       Information disclosure      4\n",
       "6                                 Tampering; Denial of Service      2\n",
       "7               Elevation of Privilege, Information Disclosure      2\n",
       "8                    Elevation of Privilege; Denial of Service      1\n",
       "9                   Denial of Service, Escalation of Privilege      1\n",
       "10                   Denial of Service, Information Disclosure      1\n",
       "11                                Denial of Service; Tampering      1\n",
       "12                           Information disclosure, Tampering      1\n",
       "13                   Information Disclosure, Denial of Service      1\n",
       "14  Tampering, Information Disclosure, Escalation of Privilege      1\n",
       "15        Tampering; Elevation of Privilege; Denial of Service      1"
      ]
     },
     "execution_count": 8,
     "metadata": {},
     "output_type": "execute_result"
    }
   ],
   "source": [
    "df_threats.groupby('Threat type').size().reset_index(name='count').sort_values(by='count', ascending=False).reset_index(drop=True)"
   ]
  },
  {
   "cell_type": "code",
   "execution_count": 9,
   "id": "31b6e9b3",
   "metadata": {},
   "outputs": [
    {
     "data": {
      "text/plain": [
       "np.True_"
      ]
     },
     "execution_count": 9,
     "metadata": {},
     "output_type": "execute_result"
    }
   ],
   "source": [
    "(df_threats['Threat type'].isnull() == df_threats['Impact type'].isnull()).all()\n"
   ]
  },
  {
   "cell_type": "code",
   "execution_count": 10,
   "id": "d9c8d7d8",
   "metadata": {},
   "outputs": [
    {
     "data": {
      "text/plain": [
       "Threat type\n",
       "None                                                          52\n",
       "NaN                                                           48\n",
       "Spoofing                                                      28\n",
       "Denial of Service                                             11\n",
       "Elevation of Privilege                                        10\n",
       "Information Disclosure                                         9\n",
       "Tampering                                                      8\n",
       "Information disclosure                                         4\n",
       "Elevation of Privilege, Information Disclosure                 2\n",
       "Tampering; Denial of Service                                   2\n",
       "Information disclosure, Tampering                              1\n",
       "Tampering, Information Disclosure, Escalation of Privilege     1\n",
       "Denial of Service, Escalation of Privilege                     1\n",
       "Denial of Service; Tampering                                   1\n",
       "Elevation of Privilege; Denial of Service                      1\n",
       "Tampering; Elevation of Privilege; Denial of Service           1\n",
       "Denial of Service, Information Disclosure                      1\n",
       "Information Disclosure, Denial of Service                      1\n",
       "Name: count, dtype: int64"
      ]
     },
     "execution_count": 10,
     "metadata": {},
     "output_type": "execute_result"
    }
   ],
   "source": [
    "df_threats['Threat type'].value_counts(dropna=False)"
   ]
  },
  {
   "cell_type": "code",
   "execution_count": 11,
   "id": "2ac5ec87",
   "metadata": {},
   "outputs": [
    {
     "data": {
      "text/plain": [
       "Impact type\n",
       "None                                         52\n",
       "NaN                                          48\n",
       "Authenticity                                 26\n",
       "Confidentiality                              14\n",
       "Availability                                 12\n",
       "Authorization                                 9\n",
       "Integrity                                     7\n",
       "Authentication                                2\n",
       "Integrity; Availability                       2\n",
       "Authorization. Confidentiality                1\n",
       "Integrity, Confidentiality, Authorization     1\n",
       "Availability; Integrity                       1\n",
       "Confidentiality, Integrity                    1\n",
       "Authorization; Availability                   1\n",
       "Integrity; Authorization; Availability        1\n",
       "Integrity, Availability                       1\n",
       "Availability, Confidentiality                 1\n",
       "Confidentiality, Availability                 1\n",
       "Authorization, Availability                   1\n",
       "Name: count, dtype: int64"
      ]
     },
     "execution_count": 11,
     "metadata": {},
     "output_type": "execute_result"
    }
   ],
   "source": [
    "df_threats['Impact type'].value_counts(dropna=False)"
   ]
  },
  {
   "cell_type": "code",
   "execution_count": 12,
   "id": "d64cb17d",
   "metadata": {},
   "outputs": [
    {
     "data": {
      "text/plain": [
       "Vulnerability\n",
       "[weak mutual authentication]                                                                                                                                                                                                                                                     12\n",
       "[Weak authentication can be exploited by a tenant to move laterally across the deployment.]                                                                                                                                                                                       9\n",
       "[Lack of integrity verification]                                                                                                                                                                                                                                                  5\n",
       "[Lack of overload protection and rate-limiting]                                                                                                                                                                                                                                   5\n",
       "[Weak confidentiality protection exploited to view sensitive data]                                                                                                                                                                                                                5\n",
       "                                                                                                                                                                                                                                                                                 ..\n",
       "[Inaccurate inventories of open-source software, Lack of consistent Supply Chain traceability and security, Lack of coding best practices, Modules with known vulnerabilities and untrusted libraries]                                                                            1\n",
       "[Improper physical security protection of data centres, PNFs, operation areas, etc., Improper protection to power outages (power supply), Improper protection against environmental disasters, Improper maintenance and monitoring of hardware parameters, Hardware backdoor]     1\n",
       "[Bugs in open source software caused by mistakes and human error]                                                                                                                                                                                                                 1\n",
       "[Physical access to the open Fronthaul cable network]                                                                                                                                                                                                                             1\n",
       "[Use of pretrained public ML model]                                                                                                                                                                                                                                               1\n",
       "Name: count, Length: 116, dtype: int64"
      ]
     },
     "execution_count": 12,
     "metadata": {},
     "output_type": "execute_result"
    }
   ],
   "source": [
    "df_threats['Vulnerability'].value_counts(dropna=False)"
   ]
  },
  {
   "cell_type": "markdown",
   "id": "027323c9",
   "metadata": {},
   "source": [
    "## Distribution Analysis\n"
   ]
  },
  {
   "cell_type": "code",
   "execution_count": 13,
   "id": "ec629f4c",
   "metadata": {},
   "outputs": [],
   "source": [
    "# some threat types as well as impact types are seperated by a comma, while others are seperated by a semicolon or a point\n",
    "# Replace all semicolons with commas\n",
    "df_threats['Threat type'] = df_threats['Threat type'].str.replace(';', ',', regex=False)\n",
    "df_threats['Threat type'] = df_threats['Threat type'].str.replace('.', ',', regex=False)\n",
    "df_threats['Impact type'] = df_threats['Impact type'].str.replace(';', ',', regex=False)\n",
    "df_threats['Impact type'] = df_threats['Impact type'].str.replace('.', ',', regex=False)\n",
    "# in the Threatened asssets column, some values have a underscore instead of a dash\n",
    "df_threats['Threatened Asset'] = df_threats['Threatened Asset'].str.replace('_', '-', regex=False)"
   ]
  },
  {
   "cell_type": "code",
   "execution_count": 14,
   "id": "e72a3e57",
   "metadata": {},
   "outputs": [],
   "source": [
    "# removing leading and trailing whitespace from the 'Threat type','Impact type','Threatened asset' and 'Affected components' columns\n",
    "df_threats['Threat type'] = df_threats['Threat type'].apply(\n",
    "    lambda x: [t.strip() for t in x.split(',')] if isinstance(x, str) else x\n",
    ")\n",
    "df_threats['Impact type'] = df_threats['Impact type'].apply(\n",
    "    lambda x: [t.strip() for t in x.split(',')] if isinstance(x, str) else x\n",
    ")\n",
    "df_threats['Threatened Asset'] = df_threats['Threatened Asset'].apply(\n",
    "    lambda x: [t.strip() for t in x.split(',')] if isinstance(x, str) else x\n",
    ")\n",
    "df_threats['Affected Components'] = df_threats['Affected Components'].apply(\n",
    "    lambda x: [t.strip() for t in x.split(',')] if isinstance(x, str) else x\n",
    ")\n",
    "# the vulnerability column contains a list with only one string element\n",
    "# this string contains multpile vulnerabilities separated by commas\n",
    "# we convert the list to this one string element and then split the string by commas\n",
    "df_threats['Vulnerability'] = df_threats['Vulnerability'].apply(lambda x: x[0] if isinstance(x, list) else x)\n",
    "df_threats['Vulnerability'] = df_threats['Vulnerability'].apply(\n",
    "    lambda x: [t.strip() for t in x.split(',')] if isinstance(x, str) else x\n",
    ")"
   ]
  },
  {
   "cell_type": "code",
   "execution_count": 15,
   "id": "70860c6b",
   "metadata": {},
   "outputs": [
    {
     "name": "stdout",
     "output_type": "stream",
     "text": [
      "['ASSET D-11',\n",
      " 'ASSET D-20',\n",
      " 'ASSET D-21',\n",
      " 'ASSET-C-02',\n",
      " 'ASSET-C-03',\n",
      " 'ASSET-C-07',\n",
      " 'ASSET-C-08',\n",
      " 'ASSET-C-09',\n",
      " 'ASSET-C-1',\n",
      " 'ASSET-C-10',\n",
      " 'ASSET-C-11',\n",
      " 'ASSET-C-12',\n",
      " 'ASSET-C-14',\n",
      " 'ASSET-C-16',\n",
      " 'ASSET-C-17',\n",
      " 'ASSET-C-18',\n",
      " 'ASSET-C-19',\n",
      " 'ASSET-C-2',\n",
      " 'ASSET-C-20',\n",
      " 'ASSET-C-21',\n",
      " 'ASSET-C-22',\n",
      " 'ASSET-C-23',\n",
      " 'ASSET-C-24',\n",
      " 'ASSET-C-25',\n",
      " 'ASSET-C-26',\n",
      " 'ASSET-C-27',\n",
      " 'ASSET-C-28',\n",
      " 'ASSET-C-3',\n",
      " 'ASSET-C-31',\n",
      " 'ASSET-C-32',\n",
      " 'ASSET-C-33',\n",
      " 'ASSET-C-34',\n",
      " 'ASSET-C-35',\n",
      " 'ASSET-C-36',\n",
      " 'ASSET-C-37',\n",
      " 'ASSET-C-38',\n",
      " 'ASSET-C-39',\n",
      " 'ASSET-C-4',\n",
      " 'ASSET-C-40',\n",
      " 'ASSET-C-42',\n",
      " 'ASSET-C-5',\n",
      " 'ASSET-C-6',\n",
      " 'ASSET-C-7',\n",
      " 'ASSET-C-8',\n",
      " 'ASSET-C-9',\n",
      " 'ASSET-D-01',\n",
      " 'ASSET-D-02',\n",
      " 'ASSET-D-03',\n",
      " 'ASSET-D-04',\n",
      " 'ASSET-D-05',\n",
      " 'ASSET-D-06',\n",
      " 'ASSET-D-07',\n",
      " 'ASSET-D-08',\n",
      " 'ASSET-D-09',\n",
      " 'ASSET-D-1',\n",
      " 'ASSET-D-10',\n",
      " 'ASSET-D-11',\n",
      " 'ASSET-D-12',\n",
      " 'ASSET-D-13',\n",
      " 'ASSET-D-14',\n",
      " 'ASSET-D-15',\n",
      " 'ASSET-D-16',\n",
      " 'ASSET-D-17',\n",
      " 'ASSET-D-18',\n",
      " 'ASSET-D-19',\n",
      " 'ASSET-D-2',\n",
      " 'ASSET-D-20',\n",
      " 'ASSET-D-21',\n",
      " 'ASSET-D-22',\n",
      " 'ASSET-D-23',\n",
      " 'ASSET-D-24',\n",
      " 'ASSET-D-25',\n",
      " 'ASSET-D-26',\n",
      " 'ASSET-D-27',\n",
      " 'ASSET-D-28',\n",
      " 'ASSET-D-29',\n",
      " 'ASSET-D-3',\n",
      " 'ASSET-D-30',\n",
      " 'ASSET-D-31',\n",
      " 'ASSET-D-32',\n",
      " 'ASSET-D-33',\n",
      " 'ASSET-D-34',\n",
      " 'ASSET-D-35',\n",
      " 'ASSET-D-36',\n",
      " 'ASSET-D-37',\n",
      " 'ASSET-D-38',\n",
      " 'ASSET-D-39',\n",
      " 'ASSET-D-4',\n",
      " 'ASSET-D-41',\n",
      " 'ASSET-D-43',\n",
      " 'ASSET-D-5',\n",
      " 'ASSET-D-6',\n",
      " 'ASSET-D-7',\n",
      " 'ASSET-D-8',\n",
      " 'ASSET-D-9']\n"
     ]
    }
   ],
   "source": [
    "# the 'Threatened Asset' column contains values like 'All' or 'ASSET-D-33 to ASSET-D-38', we solve this by manually turning this into the correct list\n",
    "\n",
    "\n",
    "# Example: start from your DataFrame\n",
    "# df_threats = pd.read_json(...)  # or however you're loading it\n",
    "\n",
    "# Step 1: Drop NaNs\n",
    "asset_entries = df_threats['Threatened Asset'].dropna()\n",
    "\n",
    "# Step 2: Function to expand ranges like 'ASSET-D-33 to ASSET-D-38'\n",
    "def expand_range(entry):\n",
    "    match = re.match(r\"(ASSET-[A-Z]-)(\\d+)\\s+to\\s+ASSET-[A-Z]-(\\d+)\", entry.strip())\n",
    "    if match:\n",
    "        prefix, start, end = match.groups()\n",
    "        return [f\"{prefix}{i}\" for i in range(int(start), int(end) + 1)]\n",
    "    return [entry.strip()]\n",
    "\n",
    "# Step 3: Build the set of unique assets\n",
    "all_assets = set()\n",
    "\n",
    "for entry in asset_entries:\n",
    "    # If entry is a list, turn it into a string\n",
    "    if isinstance(entry, list):\n",
    "        entry = ', '.join(entry)\n",
    "    \n",
    "    # Ensure it's a string before splitting\n",
    "    if isinstance(entry, str):\n",
    "        parts = [p.strip() for p in entry.split(',')]\n",
    "        for part in parts:\n",
    "            if part.lower() == 'all':\n",
    "                continue  # or expand to full known asset list if desired\n",
    "            elif 'to' in part:\n",
    "                expanded = expand_range(part)\n",
    "                all_assets.update(expanded)\n",
    "            else:\n",
    "                all_assets.add(part.strip())\n",
    "\n",
    "# Step 4: Show all unique asset names sorted\n",
    "all_assets = sorted(all_assets)\n",
    "pprint(all_assets)\n",
    "\n",
    "\n"
   ]
  },
  {
   "cell_type": "code",
   "execution_count": 16,
   "id": "0be8fa62",
   "metadata": {},
   "outputs": [],
   "source": [
    "def normalize_assets(value):\n",
    "    # Convert list to string if needed\n",
    "    if isinstance(value, list):\n",
    "        value = ', '.join(value)\n",
    "    \n",
    "    if isinstance(value, str):\n",
    "        value = value.strip()\n",
    "        if value.lower() == 'all':\n",
    "            return all_assets\n",
    "        elif 'to' in value:\n",
    "            return expand_range(value)\n",
    "        else:\n",
    "            # handle comma-separated list like 'ASSET-D-15, ASSET-C-17'\n",
    "            return [v.strip() for v in value.split(',')]\n",
    "    \n",
    "    return value  # leave as-is if unexpected\n",
    "\n",
    "df_threats['Threatened Asset'] = df_threats['Threatened Asset'].apply(normalize_assets)\n",
    "\n"
   ]
  },
  {
   "cell_type": "code",
   "execution_count": 17,
   "id": "659cdc4d",
   "metadata": {},
   "outputs": [
    {
     "data": {
      "text/plain": [
       "0     [ASSET D-11, ASSET D-20, ASSET D-21, ASSET-C-02, ASSET-C-03, ASSET-C-07, ASSET-C-08, ASSET-C-09, ASSET-C-1, ASSET-C-10, ASSET-C-11, ASSET-C-12, ASSET-C-14, ASSET-C-16, ASSET-C-17, ASSET-C-18, ASSET-C-19, ASSET-C-2, ASSET-C-20, ASSET-C-21, ASSET-C-22, ASSET-C-23, ASSET-C-24, ASSET-C-25, ASSET-C-26, ASSET-C-27, ASSET-C-28, ASSET-C-3, ASSET-C-31, ASSET-C-32, ASSET-C-33, ASSET-C-34, ASSET-C-35, ASSET-C-36, ASSET-C-37, ASSET-C-38, ASSET-C-39, ASSET-C-4, ASSET-C-40, ASSET-C-42, ASSET-C-5, ASSET-C-6, ASSET-C-7, ASSET-C-8, ASSET-C-9, ASSET-D-01, ASSET-D-02, ASSET-D-03, ASSET-D-04, ASSET-D-05, ASSET-D-06, ASSET-D-07, ASSET-D-08, ASSET-D-09, ASSET-D-1, ASSET-D-10, ASSET-D-11, ASSET-D-12, ASSET-D-13, ASSET-D-14, ASSET-D-15, ASSET-D-16, ASSET-D-17, ASSET-D-18, ASSET-D-19, ASSET-D-2, ASSET-D-20, ASSET-D-21, ASSET-D-22, ASSET-D-23, ASSET-D-24, ASSET-D-25, ASSET-D-26, ASSET-D-27, ASSET-D-28, ASSET-D-29, ASSET-D-3, ASSET-D-30, ASSET-D-31, ASSET-D-32, ASSET-D-33, ASSET-D-34, ASSET-D-35, ASSET-D-36, ASSET-D-37, ASSET-D-38, ASSET-D-39, ASSET-D-4, ASSET-D-41, ASSET-D-43, ASSET-D-5, ASSET-D-6, ASSET-D-7, ASSET-D-8, ASSET-D-9]\n",
       "1     [ASSET D-11, ASSET D-20, ASSET D-21, ASSET-C-02, ASSET-C-03, ASSET-C-07, ASSET-C-08, ASSET-C-09, ASSET-C-1, ASSET-C-10, ASSET-C-11, ASSET-C-12, ASSET-C-14, ASSET-C-16, ASSET-C-17, ASSET-C-18, ASSET-C-19, ASSET-C-2, ASSET-C-20, ASSET-C-21, ASSET-C-22, ASSET-C-23, ASSET-C-24, ASSET-C-25, ASSET-C-26, ASSET-C-27, ASSET-C-28, ASSET-C-3, ASSET-C-31, ASSET-C-32, ASSET-C-33, ASSET-C-34, ASSET-C-35, ASSET-C-36, ASSET-C-37, ASSET-C-38, ASSET-C-39, ASSET-C-4, ASSET-C-40, ASSET-C-42, ASSET-C-5, ASSET-C-6, ASSET-C-7, ASSET-C-8, ASSET-C-9, ASSET-D-01, ASSET-D-02, ASSET-D-03, ASSET-D-04, ASSET-D-05, ASSET-D-06, ASSET-D-07, ASSET-D-08, ASSET-D-09, ASSET-D-1, ASSET-D-10, ASSET-D-11, ASSET-D-12, ASSET-D-13, ASSET-D-14, ASSET-D-15, ASSET-D-16, ASSET-D-17, ASSET-D-18, ASSET-D-19, ASSET-D-2, ASSET-D-20, ASSET-D-21, ASSET-D-22, ASSET-D-23, ASSET-D-24, ASSET-D-25, ASSET-D-26, ASSET-D-27, ASSET-D-28, ASSET-D-29, ASSET-D-3, ASSET-D-30, ASSET-D-31, ASSET-D-32, ASSET-D-33, ASSET-D-34, ASSET-D-35, ASSET-D-36, ASSET-D-37, ASSET-D-38, ASSET-D-39, ASSET-D-4, ASSET-D-41, ASSET-D-43, ASSET-D-5, ASSET-D-6, ASSET-D-7, ASSET-D-8, ASSET-D-9]\n",
       "2     [ASSET D-11, ASSET D-20, ASSET D-21, ASSET-C-02, ASSET-C-03, ASSET-C-07, ASSET-C-08, ASSET-C-09, ASSET-C-1, ASSET-C-10, ASSET-C-11, ASSET-C-12, ASSET-C-14, ASSET-C-16, ASSET-C-17, ASSET-C-18, ASSET-C-19, ASSET-C-2, ASSET-C-20, ASSET-C-21, ASSET-C-22, ASSET-C-23, ASSET-C-24, ASSET-C-25, ASSET-C-26, ASSET-C-27, ASSET-C-28, ASSET-C-3, ASSET-C-31, ASSET-C-32, ASSET-C-33, ASSET-C-34, ASSET-C-35, ASSET-C-36, ASSET-C-37, ASSET-C-38, ASSET-C-39, ASSET-C-4, ASSET-C-40, ASSET-C-42, ASSET-C-5, ASSET-C-6, ASSET-C-7, ASSET-C-8, ASSET-C-9, ASSET-D-01, ASSET-D-02, ASSET-D-03, ASSET-D-04, ASSET-D-05, ASSET-D-06, ASSET-D-07, ASSET-D-08, ASSET-D-09, ASSET-D-1, ASSET-D-10, ASSET-D-11, ASSET-D-12, ASSET-D-13, ASSET-D-14, ASSET-D-15, ASSET-D-16, ASSET-D-17, ASSET-D-18, ASSET-D-19, ASSET-D-2, ASSET-D-20, ASSET-D-21, ASSET-D-22, ASSET-D-23, ASSET-D-24, ASSET-D-25, ASSET-D-26, ASSET-D-27, ASSET-D-28, ASSET-D-29, ASSET-D-3, ASSET-D-30, ASSET-D-31, ASSET-D-32, ASSET-D-33, ASSET-D-34, ASSET-D-35, ASSET-D-36, ASSET-D-37, ASSET-D-38, ASSET-D-39, ASSET-D-4, ASSET-D-41, ASSET-D-43, ASSET-D-5, ASSET-D-6, ASSET-D-7, ASSET-D-8, ASSET-D-9]\n",
       "3                                                                                                                                                                                                                                                                                                                                                                                                                                                                                                                                                                                                                                                                                                                                                                                                                                                                                                                                                                                                                                                                                                                                               [ASSET-D-06, ASSET-D-18]\n",
       "4     [ASSET D-11, ASSET D-20, ASSET D-21, ASSET-C-02, ASSET-C-03, ASSET-C-07, ASSET-C-08, ASSET-C-09, ASSET-C-1, ASSET-C-10, ASSET-C-11, ASSET-C-12, ASSET-C-14, ASSET-C-16, ASSET-C-17, ASSET-C-18, ASSET-C-19, ASSET-C-2, ASSET-C-20, ASSET-C-21, ASSET-C-22, ASSET-C-23, ASSET-C-24, ASSET-C-25, ASSET-C-26, ASSET-C-27, ASSET-C-28, ASSET-C-3, ASSET-C-31, ASSET-C-32, ASSET-C-33, ASSET-C-34, ASSET-C-35, ASSET-C-36, ASSET-C-37, ASSET-C-38, ASSET-C-39, ASSET-C-4, ASSET-C-40, ASSET-C-42, ASSET-C-5, ASSET-C-6, ASSET-C-7, ASSET-C-8, ASSET-C-9, ASSET-D-01, ASSET-D-02, ASSET-D-03, ASSET-D-04, ASSET-D-05, ASSET-D-06, ASSET-D-07, ASSET-D-08, ASSET-D-09, ASSET-D-1, ASSET-D-10, ASSET-D-11, ASSET-D-12, ASSET-D-13, ASSET-D-14, ASSET-D-15, ASSET-D-16, ASSET-D-17, ASSET-D-18, ASSET-D-19, ASSET-D-2, ASSET-D-20, ASSET-D-21, ASSET-D-22, ASSET-D-23, ASSET-D-24, ASSET-D-25, ASSET-D-26, ASSET-D-27, ASSET-D-28, ASSET-D-29, ASSET-D-3, ASSET-D-30, ASSET-D-31, ASSET-D-32, ASSET-D-33, ASSET-D-34, ASSET-D-35, ASSET-D-36, ASSET-D-37, ASSET-D-38, ASSET-D-39, ASSET-D-4, ASSET-D-41, ASSET-D-43, ASSET-D-5, ASSET-D-6, ASSET-D-7, ASSET-D-8, ASSET-D-9]\n",
       "5     [ASSET D-11, ASSET D-20, ASSET D-21, ASSET-C-02, ASSET-C-03, ASSET-C-07, ASSET-C-08, ASSET-C-09, ASSET-C-1, ASSET-C-10, ASSET-C-11, ASSET-C-12, ASSET-C-14, ASSET-C-16, ASSET-C-17, ASSET-C-18, ASSET-C-19, ASSET-C-2, ASSET-C-20, ASSET-C-21, ASSET-C-22, ASSET-C-23, ASSET-C-24, ASSET-C-25, ASSET-C-26, ASSET-C-27, ASSET-C-28, ASSET-C-3, ASSET-C-31, ASSET-C-32, ASSET-C-33, ASSET-C-34, ASSET-C-35, ASSET-C-36, ASSET-C-37, ASSET-C-38, ASSET-C-39, ASSET-C-4, ASSET-C-40, ASSET-C-42, ASSET-C-5, ASSET-C-6, ASSET-C-7, ASSET-C-8, ASSET-C-9, ASSET-D-01, ASSET-D-02, ASSET-D-03, ASSET-D-04, ASSET-D-05, ASSET-D-06, ASSET-D-07, ASSET-D-08, ASSET-D-09, ASSET-D-1, ASSET-D-10, ASSET-D-11, ASSET-D-12, ASSET-D-13, ASSET-D-14, ASSET-D-15, ASSET-D-16, ASSET-D-17, ASSET-D-18, ASSET-D-19, ASSET-D-2, ASSET-D-20, ASSET-D-21, ASSET-D-22, ASSET-D-23, ASSET-D-24, ASSET-D-25, ASSET-D-26, ASSET-D-27, ASSET-D-28, ASSET-D-29, ASSET-D-3, ASSET-D-30, ASSET-D-31, ASSET-D-32, ASSET-D-33, ASSET-D-34, ASSET-D-35, ASSET-D-36, ASSET-D-37, ASSET-D-38, ASSET-D-39, ASSET-D-4, ASSET-D-41, ASSET-D-43, ASSET-D-5, ASSET-D-6, ASSET-D-7, ASSET-D-8, ASSET-D-9]\n",
       "6                                                                                                                                                                                                                                                                                                                                                                                                                                                                                                                                                                                                                                                                                                                                                                                                                                                                                                                                                                                                                                                                                                                                                           [ASSET-D-29]\n",
       "7                                                                                                                                                                                                                                                                                                                                                                                                                                                                                                                                                                                                                                                                                                                                                                                                                    [ASSET-D-1, ASSET-D-2, ASSET-D-3, ASSET-D-4, ASSET-D-5, ASSET-D-6, ASSET-D-7, ASSET-D-8, ASSET-D-9, ASSET-D-10, ASSET-D-11, ASSET-D-12, ASSET-D-13, ASSET-D-14, ASSET-D-15, ASSET-D-16, ASSET-D-17, ASSET-D-18, ASSET-D-19, ASSET-D-20, ASSET-D-21, ASSET-D-22, ASSET-D-23, ASSET-D-24, ASSET-D-25, ASSET-D-26, ASSET-D-27, ASSET-D-28, ASSET-D-29]\n",
       "8                                                                                                                                                                                                                                                                                                                                                                                                                                                                                                                                                                                                                                                                                                                                                                                                                                                                                                                                                                                                                                [ASSET-C-1, ASSET-C-2, ASSET-C-3, ASSET-C-4, ASSET-C-5, ASSET-C-6, ASSET-C-7, ASSET-C-8, ASSET-C-9, ASSET-C-10, ASSET-C-11, ASSET-C-12]\n",
       "9                                                                                                                                                                                                                                                                                                                                                                                                                                                                                                                                                                                                                                                                                                                                                                                                                                                                                                                                                                                                                                                                                                                       [ASSET-D-01, ASSET-D-02, ASSET-D-04, ASSET-D-05]\n",
       "10                                                                                                                                                                                                                                                                                                                                                                                                                                                                                                                                                                                                                                                                                                                                                                                                                                                                                                                                                                                                                                                                                                                      [ASSET-D-01, ASSET-D-02, ASSET-D-04, ASSET-D-05]\n",
       "11                                                                                                                                                                                                                                                                                                                                                                                                                                                                                                                                                                                                                                                                                                                                                                                                                                                                                                                                                                                                                                                                                                                                              [ASSET-D-02, ASSET-D-03]\n",
       "12                                                                                                                                                                                                                                                                                                                                                                                                                                                                                                                                                                                                                                                                                                                                                                                                                                                                                                                                                                                                                                                                                                                                                          [ASSET-D-01]\n",
       "13                                                                                                                                                                                                                                                                                                                                                                                                                                                                                                                                                                                                                                                                                                                                                                                                                                                                                                                                                                                                                                                                                                                                                          [ASSET-D-01]\n",
       "14                                                                                                                                                                                                                                                                                                                                                                                                                                                                                                                                                                                                                                                                                                                                                                                                                                                                                                                                                                                                                                                                                                                                                          [ASSET-D-01]\n",
       "15                                                                                                                                                                                                                                                                                                                                                                                                                                                                                                                                                                                                                                                                                                                                                                                                                                                                                                                                                                                                                                                                                                                                                          [ASSET-D-01]\n",
       "16                                                                                                                                                                                                                                                                                                                                                                                                                                                                                                                                                                                                                                                                                                                                                                                                                                                                                                                                                                                                                                                                                                                                                          [ASSET-D-01]\n",
       "17                                                                                                                                                                                                                                                                                                                                                                                                                                                                                                                                                                                                                                                                                                                                                                                                                                                                                                                                                                                                                                                                                                                                                          [ASSET-D-04]\n",
       "18                                                                                                                                                                                                                                                                                                                                                                                                                                                                                                                                                                                                                                                                                                                                                                                                                                                                                                                                                                                                                                                                                                                                                          [ASSET-D-04]\n",
       "19                                                                                                                                                                                                                                                                                                                                                                                                                                                                                                                                                                                                                                                                                                                                                                                                                                                                                                                                                                                                                                                                                                                                                          [ASSET-D-05]\n",
       "Name: Threatened Asset, dtype: object"
      ]
     },
     "execution_count": 17,
     "metadata": {},
     "output_type": "execute_result"
    }
   ],
   "source": [
    "df_threats['Threatened Asset'].head(20)"
   ]
  },
  {
   "cell_type": "code",
   "execution_count": 18,
   "id": "a5b4f2ce",
   "metadata": {},
   "outputs": [
    {
     "data": {
      "text/plain": [
       "Threat type\n",
       "Spoofing                   28\n",
       "Denial of Service          19\n",
       "Elevation of Privilege     14\n",
       "Information Disclosure     14\n",
       "Tampering                  14\n",
       "Information disclosure      5\n",
       "Escalation of Privilege     2\n",
       "Name: count, dtype: int64"
      ]
     },
     "execution_count": 18,
     "metadata": {},
     "output_type": "execute_result"
    }
   ],
   "source": [
    "df_threats['Threat type'].explode().value_counts()\n",
    "# The most common threat type is Spoofing, which occurs 28 times"
   ]
  },
  {
   "cell_type": "code",
   "execution_count": 19,
   "id": "045de193",
   "metadata": {},
   "outputs": [
    {
     "data": {
      "text/plain": [
       "Vulnerability\n",
       "lack of authentication                                                                       17\n",
       "weak mutual authentication                                                                   12\n",
       "weak authentication can be exploited by a tenant to move laterally across the deployment.     9\n",
       "missing or improperly configured authorization                                                6\n",
       "lack of integrity verification                                                                6\n",
       "                                                                                             ..\n",
       "pnfs                                                                                          1\n",
       "etc.                                                                                          1\n",
       "operation areas                                                                               1\n",
       "physical access to the open fronthaul cable network                                           1\n",
       "use of pretrained public ml model                                                             1\n",
       "Name: count, Length: 139, dtype: int64"
      ]
     },
     "execution_count": 19,
     "metadata": {},
     "output_type": "execute_result"
    }
   ],
   "source": [
    "df_threats['Vulnerability'].explode().str.lower().value_counts()\n",
    "# The most common vulnerability is 'lack of authentication', which occurs 17 times,\n",
    "# followed by 'lack of authentication' with 12 occurences."
   ]
  },
  {
   "cell_type": "code",
   "execution_count": 20,
   "id": "94047f2a",
   "metadata": {},
   "outputs": [
    {
     "data": {
      "text/plain": [
       "Threatened Asset\n",
       "ASSET-D-15    43\n",
       "ASSET-C-17    41\n",
       "ASSET-D-29    40\n",
       "ASSET-D-18    38\n",
       "ASSET-D-14    37\n",
       "ASSET-C-31    35\n",
       "ASSET-D-17    35\n",
       "ASSET-D-16    35\n",
       "ASSET-D-12    34\n",
       "ASSET-D-13    34\n",
       "ASSET-D-19    34\n",
       "ASSET-D-20    34\n",
       "ASSET-D-32    34\n",
       "ASSET-D-31    33\n",
       "ASSET-C-11    33\n",
       "ASSET-C-18    22\n",
       "ASSET-C-10    21\n",
       "ASSET-C-08    19\n",
       "ASSET-C-35    18\n",
       "ASSET-D-01    18\n",
       "ASSET-C-34    17\n",
       "ASSET-C-26    17\n",
       "ASSET-C-19    16\n",
       "ASSET-C-16    16\n",
       "ASSET-C-20    16\n",
       "ASSET-C-21    16\n",
       "ASSET-C-23    16\n",
       "ASSET-C-09    16\n",
       "ASSET-D-04    15\n",
       "ASSET-D-26    15\n",
       "ASSET-D-25    15\n",
       "ASSET-C-37    15\n",
       "ASSET-D-37    15\n",
       "ASSET-D-34    15\n",
       "ASSET-D-33    15\n",
       "ASSET-D-36    15\n",
       "ASSET-D-35    15\n",
       "ASSET-D-38    15\n",
       "ASSET-C-25    14\n",
       "ASSET-C-36    14\n",
       "ASSET-D-21    14\n",
       "ASSET-D-02    14\n",
       "ASSET-D-05    14\n",
       "ASSET-D-27    13\n",
       "ASSET-D-28    13\n",
       "ASSET-D-06    13\n",
       "ASSET-D-10    13\n",
       "ASSET-D-22    13\n",
       "ASSET-C-02    12\n",
       "ASSET-D-43    12\n",
       "Name: count, dtype: int64"
      ]
     },
     "execution_count": 20,
     "metadata": {},
     "output_type": "execute_result"
    }
   ],
   "source": [
    "# Step 3: Explode the list so each asset appears in its own row\n",
    "asset_flat = df_threats.explode('Threatened Asset')\n",
    "\n",
    "# Step 4: Count how often each asset appears\n",
    "asset_counts = asset_flat['Threatened Asset'].value_counts()\n",
    "asset_counts.head(50)"
   ]
  },
  {
   "cell_type": "code",
   "execution_count": 21,
   "id": "bbca85d8",
   "metadata": {},
   "outputs": [
    {
     "data": {
      "text/plain": [
       "Impact type\n",
       "Authenticity       26\n",
       "Availability       21\n",
       "Confidentiality    19\n",
       "Authorization      14\n",
       "Integrity          14\n",
       "Authentication      2\n",
       "Name: count, dtype: int64"
      ]
     },
     "execution_count": 21,
     "metadata": {},
     "output_type": "execute_result"
    }
   ],
   "source": [
    "df_threats['Impact type'].explode().value_counts()"
   ]
  },
  {
   "cell_type": "code",
   "execution_count": 22,
   "id": "d8d4f0d6",
   "metadata": {},
   "outputs": [
    {
     "data": {
      "text/plain": [
       "Threat type\n",
       "Spoofing                   28\n",
       "Denial of Service          19\n",
       "Elevation of Privilege     14\n",
       "Information Disclosure     14\n",
       "Tampering                  14\n",
       "Information disclosure      5\n",
       "Escalation of Privilege     2\n",
       "Name: count, dtype: int64"
      ]
     },
     "execution_count": 22,
     "metadata": {},
     "output_type": "execute_result"
    }
   ],
   "source": [
    "df_threats['Threat type'].explode().value_counts()"
   ]
  },
  {
   "cell_type": "code",
   "execution_count": 23,
   "id": "21e4860d",
   "metadata": {},
   "outputs": [
    {
     "name": "stdout",
     "output_type": "stream",
     "text": [
      "{'All', 'All except Script kiddies'}\n"
     ]
    }
   ],
   "source": [
    "print(set(df_threats['Threat agent']))"
   ]
  },
  {
   "cell_type": "code",
   "execution_count": 24,
   "id": "c2471d40",
   "metadata": {},
   "outputs": [
    {
     "data": {
      "text/plain": [
       "Threat agent\n",
       "All                          178\n",
       "All except Script kiddies      4\n",
       "Name: count, dtype: int64"
      ]
     },
     "execution_count": 24,
     "metadata": {},
     "output_type": "execute_result"
    }
   ],
   "source": [
    "df_threats['Threat agent'].value_counts()"
   ]
  },
  {
   "cell_type": "code",
   "execution_count": 25,
   "id": "c66e47c7",
   "metadata": {},
   "outputs": [
    {
     "data": {
      "text/plain": [
       "Affected Components\n",
       "O-Cloud                  30\n",
       "Non-RT RIC               29\n",
       "Shared O-RU              26\n",
       "Apps/VNFs/CNFs           22\n",
       "All                      19\n",
       "O-DU                     17\n",
       "O-RU                     16\n",
       "rApps                    16\n",
       "Near-RT RIC              16\n",
       "SMO                      14\n",
       "xApps                    12\n",
       "O-DU Tenant              10\n",
       "SMO Framework            10\n",
       "O-DU Host                 9\n",
       "O-CU                      8\n",
       "O2 interface              7\n",
       "External interfaces       7\n",
       "R1 interface              7\n",
       "UE                        7\n",
       "SMO Functions             6\n",
       "ASSET-C-29                6\n",
       "ASSET-C-30                6\n",
       "O-CU Tenant               6\n",
       "CUS-Plane                 5\n",
       "Apps/VNFs/CNFs images     5\n",
       "O-CU Host                 5\n",
       "ASSET-C-08                3\n",
       "A1 interface              3\n",
       "E2 interface              3\n",
       "M-Plane                   3\n",
       "SMO Host                  3\n",
       "SMO Tenant                3\n",
       "xAPPs                     3\n",
       "Y1 interface              2\n",
       "O2                        2\n",
       "O1                        2\n",
       "NFO/FOCOM                 2\n",
       "airlink with UE           1\n",
       "SMO Froamework            1\n",
       "Y1interface               1\n",
       "Name: count, dtype: int64"
      ]
     },
     "execution_count": 25,
     "metadata": {},
     "output_type": "execute_result"
    }
   ],
   "source": [
    "df_threats['Affected Components'].explode().value_counts() "
   ]
  },
  {
   "cell_type": "code",
   "execution_count": 26,
   "id": "f45b5c85",
   "metadata": {},
   "outputs": [
    {
     "data": {
      "text/plain": [
       "Index(['Threat ID', 'Threat title', 'Threat Description', 'Threat type',\n",
       "       'Impact type', 'Threat agent', 'Vulnerability', 'Threatened Asset',\n",
       "       'Affected Components'],\n",
       "      dtype='object')"
      ]
     },
     "execution_count": 26,
     "metadata": {},
     "output_type": "execute_result"
    }
   ],
   "source": [
    "df_threats.columns"
   ]
  },
  {
   "cell_type": "markdown",
   "id": "a9be188a",
   "metadata": {},
   "source": [
    "## Text analysis"
   ]
  },
  {
   "cell_type": "code",
   "execution_count": 27,
   "id": "f6229cff",
   "metadata": {},
   "outputs": [
    {
     "name": "stdout",
     "output_type": "stream",
     "text": [
      "count     182.000000\n",
      "mean      528.818681\n",
      "std       491.740145\n",
      "min        76.000000\n",
      "25%       187.250000\n",
      "50%       319.000000\n",
      "75%       756.250000\n",
      "max      2668.000000\n",
      "Name: Threat Description, dtype: float64\n",
      "The average character length of the threat descriptions is 528.8186813186813\n",
      "The standard deviation of the character length of the threat descriptions is 491.74014505307065\n"
     ]
    }
   ],
   "source": [
    "length_of_threat_descriptions = df_threats['Threat Description'].str.len()\n",
    "print(length_of_threat_descriptions.describe())\n",
    "print(\"The average character length of the threat descriptions is\", length_of_threat_descriptions.mean())\n",
    "# the average length og the threat descriptions is 528.2 characters\n",
    "\n",
    "standard_deviation = length_of_threat_descriptions.std()\n",
    "print(\"The standard deviation of the character length of the threat descriptions is\", standard_deviation)"
   ]
  },
  {
   "cell_type": "code",
   "execution_count": 28,
   "id": "aa3ec36c",
   "metadata": {},
   "outputs": [
    {
     "name": "stdout",
     "output_type": "stream",
     "text": [
      "count    182.00000\n",
      "mean      57.10989\n",
      "std       27.82580\n",
      "min       14.00000\n",
      "25%       34.00000\n",
      "50%       54.00000\n",
      "75%       70.00000\n",
      "max      148.00000\n",
      "Name: Threat title, dtype: float64\n",
      "The average character length of the threat titles is 57.10989010989011\n",
      "The standard deviation of the character length of the threat titles is 27.825800083090165\n"
     ]
    }
   ],
   "source": [
    "length_of_threat_titles = df_threats['Threat title'].str.len()\n",
    "print(length_of_threat_titles.describe())\n",
    "print(\"The average character length of the threat titles is\", length_of_threat_titles.mean())\n",
    "print(\"The standard deviation of the character length of the threat titles is\", length_of_threat_titles.std())"
   ]
  },
  {
   "cell_type": "code",
   "execution_count": 29,
   "id": "70fbafca",
   "metadata": {},
   "outputs": [
    {
     "name": "stdout",
     "output_type": "stream",
     "text": [
      "Threat Description\n",
      "Unauthenticated/unauthorized access to O-RAN components could possibly be achieved via the different O-RAN interfaces, depending upon the design of the hardware-software O-RAN system and how different functions are segregated within the O-RAN system. \\nO-RAN components might be vulnerable if: \\n• Outdated component from the lack of update or patch management,\\n• Poorly design architecture,\\n• Missing appropriate security hardening,\\n• Unnecessary or insecure function/protocol/component.\\nAn attacker could, in such case, either inject malwares and/or manipulate existing software, harm the O-RAN components, create a performance issue by manipulation of parameters, or reconfigure the O-RAN components and disable the security features with the purpose of eavesdropping or wiretapping on various CUS & M planes, reaching northbound systems, attack broader network to cause denial-of-service, steal unprotected private keys, certificates, hash values, or other type of breaches.\\nIn addition, O-RAN components could be software providing network functions, so they are likely to be vulnerable to software flaws: it could be possible to bypass firewall restrictions or to take advantage of a buffer overflow to execute arbitrary commands, etc.    1\n",
      "Unauthenticated/unauthorized access to O-RAN components could possibly be achieved via the different O-RAN interfaces, depending upon the configuration of the hardware-software O-RAN system. \\nO-RAN components might be vulnerable if: \\n• Errors from the lack of configuration change management,\\n• Misconfigured or poorly configured O-RAN components,\\n• Improperly configured permissions,\\n• Unnecessary features are enabled (e.g. unnecessary ports, services, accounts, or privileges),\\n• Default accounts and their passwords still enabled and unchanged,\\n• Security features are disabled or not configured securely.\\nAn attacker could, in such case, either inject malwares and/or manipulate existing software, harm the O-RAN components, create a performance issue by manipulation of parameters, or reconfigure the O-RAN components and disable the security features with the purpose of eavesdropping or wiretapping on various CUS & M planes, reaching northbound systems, attack broader network to cause denial-of-service, steal unprotected private keys, certificates, hash values, or other type of breaches.                                                                                                                                               1\n",
      "Name: count, dtype: int64\n",
      "Threat title\n",
      "External attacker exploits authentication weakness on SMO                   2\n",
      "An attacker exploits misconfigured or poorly configured O-RAN components    1\n",
      "Name: count, dtype: int64\n"
     ]
    }
   ],
   "source": [
    "\n",
    "print(df_threats['Threat Description'].value_counts().head(2))\n",
    "print(df_threats['Threat title'].value_counts().head(2))"
   ]
  },
  {
   "cell_type": "code",
   "execution_count": 30,
   "id": "e32f93bc",
   "metadata": {},
   "outputs": [
    {
     "data": {
      "text/html": [
       "<div>\n",
       "<style scoped>\n",
       "    .dataframe tbody tr th:only-of-type {\n",
       "        vertical-align: middle;\n",
       "    }\n",
       "\n",
       "    .dataframe tbody tr th {\n",
       "        vertical-align: top;\n",
       "    }\n",
       "\n",
       "    .dataframe thead th {\n",
       "        text-align: right;\n",
       "    }\n",
       "</style>\n",
       "<table border=\"1\" class=\"dataframe\">\n",
       "  <thead>\n",
       "    <tr style=\"text-align: right;\">\n",
       "      <th></th>\n",
       "      <th>Threat ID</th>\n",
       "      <th>Threat title</th>\n",
       "      <th>Threat Description</th>\n",
       "      <th>Threat type</th>\n",
       "      <th>Impact type</th>\n",
       "      <th>Threat agent</th>\n",
       "      <th>Vulnerability</th>\n",
       "      <th>Threatened Asset</th>\n",
       "      <th>Affected Components</th>\n",
       "    </tr>\n",
       "  </thead>\n",
       "  <tbody>\n",
       "    <tr>\n",
       "      <th>42</th>\n",
       "      <td>T-SMO-01</td>\n",
       "      <td>External attacker exploits authentication weakness on SMO</td>\n",
       "      <td>An external attacker can exploit the improper/missing authentication weakness on SMO functions. If the authentication of O-RAN subjects on A1, O1, O2, and External interfaces on SMO is not supported or not properly implemented, those interfaces without proper credentials could be exploited to gain access to the SMO.</td>\n",
       "      <td>[Spoofing]</td>\n",
       "      <td>[Authenticity]</td>\n",
       "      <td>All</td>\n",
       "      <td>[Missing or improperly configured authentication]</td>\n",
       "      <td>[ASSET-C-11, ASSET-C-17]</td>\n",
       "      <td>[Non-RT RIC, SMO Framework]</td>\n",
       "    </tr>\n",
       "    <tr>\n",
       "      <th>43</th>\n",
       "      <td>T-SMO-02</td>\n",
       "      <td>External attacker exploits authentication weakness on SMO</td>\n",
       "      <td>An external attacker can exploit the improper/missing authorization weakness on SMO functions.  A malicious external entity on A1, O1, O2, and External interfaces without authorization or with an incorrect access token may invoke the SMO functions. The data at rest related to that function will be leaked to the attacker. In addition, an attacker can be able to perform certain actions, e.g.  disclose O-RAN sensitive information or alter O-RAN components.</td>\n",
       "      <td>[Elevation of Privilege, Information Disclosure]</td>\n",
       "      <td>[Authorization, Confidentiality]</td>\n",
       "      <td>All</td>\n",
       "      <td>[Missing or improperly configured authorization]</td>\n",
       "      <td>[ASSET-C-11, ASSET-C-17]</td>\n",
       "      <td>[Non-RT RIC, SMO Framework]</td>\n",
       "    </tr>\n",
       "  </tbody>\n",
       "</table>\n",
       "</div>"
      ],
      "text/plain": [
       "   Threat ID                                               Threat title  \\\n",
       "42  T-SMO-01  External attacker exploits authentication weakness on SMO   \n",
       "43  T-SMO-02  External attacker exploits authentication weakness on SMO   \n",
       "\n",
       "                                                                                                                                                                                                                                                                                                                                                                                                                                                           Threat Description  \\\n",
       "42                                                                                                                                              An external attacker can exploit the improper/missing authentication weakness on SMO functions. If the authentication of O-RAN subjects on A1, O1, O2, and External interfaces on SMO is not supported or not properly implemented, those interfaces without proper credentials could be exploited to gain access to the SMO.   \n",
       "43  An external attacker can exploit the improper/missing authorization weakness on SMO functions.  A malicious external entity on A1, O1, O2, and External interfaces without authorization or with an incorrect access token may invoke the SMO functions. The data at rest related to that function will be leaked to the attacker. In addition, an attacker can be able to perform certain actions, e.g.  disclose O-RAN sensitive information or alter O-RAN components.   \n",
       "\n",
       "                                         Threat type  \\\n",
       "42                                        [Spoofing]   \n",
       "43  [Elevation of Privilege, Information Disclosure]   \n",
       "\n",
       "                         Impact type Threat agent  \\\n",
       "42                    [Authenticity]          All   \n",
       "43  [Authorization, Confidentiality]          All   \n",
       "\n",
       "                                        Vulnerability  \\\n",
       "42  [Missing or improperly configured authentication]   \n",
       "43   [Missing or improperly configured authorization]   \n",
       "\n",
       "            Threatened Asset          Affected Components  \n",
       "42  [ASSET-C-11, ASSET-C-17]  [Non-RT RIC, SMO Framework]  \n",
       "43  [ASSET-C-11, ASSET-C-17]  [Non-RT RIC, SMO Framework]  "
      ]
     },
     "execution_count": 30,
     "metadata": {},
     "output_type": "execute_result"
    }
   ],
   "source": [
    "df_threats[df_threats['Threat title'] == 'External attacker exploits authentication weakness on SMO']\n"
   ]
  },
  {
   "cell_type": "markdown",
   "id": "8a145a5f",
   "metadata": {},
   "source": [
    "## Data understanding of CAPEC data"
   ]
  },
  {
   "cell_type": "code",
   "execution_count": 31,
   "id": "abaf4734",
   "metadata": {},
   "outputs": [],
   "source": [
    "from git import Repo, InvalidGitRepositoryError\n",
    "import os\n",
    "import shutil\n",
    "\n",
    "from stix2 import FileSystemSource\n",
    "from stix2 import Filter"
   ]
  },
  {
   "cell_type": "code",
   "execution_count": 32,
   "id": "f738c8ef",
   "metadata": {},
   "outputs": [],
   "source": [
    "def pull_clone_gitrepo(directory, repo):\n",
    "    # Check if the data direcory exists\n",
    "    if not os.path.isdir(directory):\n",
    "        Repo.clone_from(repo, directory)\n",
    "    else:\n",
    "        try:\n",
    "            # Check if the data directory is actually a repositry then pull the canges\n",
    "            repo = Repo(directory)\n",
    "            repo.remotes.origin.pull()\n",
    "        except InvalidGitRepositoryError:\n",
    "            # If not then remove the folder\n",
    "            shutil.rmtree(directory)\n",
    "            Repo.clone_from(repo, directory)\n",
    "\n",
    "def prepare_capecs_df():\n",
    "    pull_clone_gitrepo('./data', 'https://github.com/mitre/cti')\n",
    "    fs = FileSystemSource('./data/capec/2.1')\n",
    "    filt = Filter('type', '=', 'attack-pattern')\n",
    "\n",
    "    attack_patterns = fs.query([filt])\n",
    "\n",
    "    data_array = []\n",
    "    for pattern in attack_patterns:\n",
    "        if not pattern.x_capec_status == \"Deprecated\":\n",
    "            info = []\n",
    "            result = [obj for obj in pattern.external_references if obj['source_name'] == \"capec\"]\n",
    "            info.append(result[0].external_id)\n",
    "            info.append(pattern.name)\n",
    "            info.append(pattern.description)\n",
    "            if \"x_capec_domains\" in pattern:\n",
    "                info.append(pattern.x_capec_domains)\n",
    "            else:\n",
    "                info.append(\"not given\")\n",
    "            data_array.append(info)\n",
    "\n",
    "    columns = ['CAPEC ID', 'capec_name', 'capec_description', 'capec_domain']\n",
    "    df = pd.DataFrame(data_array, columns=columns)\n",
    "\n",
    "    df['summary'] = ''\n",
    "    for index, row in df.iterrows():\n",
    "        if len(row['capec_domain']) > 1:\n",
    "            domains_string = \". The Domains of this are: \"+', '.join(row['capec_domain'])\n",
    "        else:\n",
    "            domains_string = \". The Domain of this is: \"+row['capec_domain'][0]\n",
    "\n",
    "        summary = 'A CAPEC with the title '+row['capec_name']+\\\n",
    "                    '. The description of this CAPEC is: '+row['capec_description']+\\\n",
    "                    domains_string\n",
    "        \n",
    "        df.at[index, 'summary'] = summary\n",
    "    return df\n"
   ]
  },
  {
   "cell_type": "code",
   "execution_count": 33,
   "id": "4ef09d5b",
   "metadata": {},
   "outputs": [],
   "source": [
    "#generate the capecs_df\n",
    "#capecs_df = prepare_capecs_df()\n",
    "##safe capecs data to pickle\n",
    "#capecs_df.to_pickle('capec_data/capecs.pk1')"
   ]
  },
  {
   "cell_type": "code",
   "execution_count": 34,
   "id": "fdbc6980",
   "metadata": {},
   "outputs": [],
   "source": [
    "#load capecs data from pickle\n",
    "capecs_df = pd.read_pickle('capec_data/capecs.pk1')"
   ]
  },
  {
   "cell_type": "code",
   "execution_count": 35,
   "id": "44d8cf81",
   "metadata": {},
   "outputs": [
    {
     "name": "stdout",
     "output_type": "stream",
     "text": [
      "Shape of capecs_df: (559, 5)\n",
      "\n",
      "Column names: ['CAPEC ID', 'capec_name', 'capec_description', 'capec_domain', 'summary']\n",
      "\n",
      "Missing values per column:\n",
      " CAPEC ID             0\n",
      "capec_name           0\n",
      "capec_description    0\n",
      "capec_domain         0\n",
      "summary              0\n",
      "dtype: int64\n",
      "\n",
      "Data types:\n",
      " CAPEC ID             object\n",
      "capec_name           object\n",
      "capec_description    object\n",
      "capec_domain         object\n",
      "summary              object\n",
      "dtype: object\n",
      "\n",
      "First 5 rows:\n"
     ]
    },
    {
     "data": {
      "text/html": [
       "<div>\n",
       "<style scoped>\n",
       "    .dataframe tbody tr th:only-of-type {\n",
       "        vertical-align: middle;\n",
       "    }\n",
       "\n",
       "    .dataframe tbody tr th {\n",
       "        vertical-align: top;\n",
       "    }\n",
       "\n",
       "    .dataframe thead th {\n",
       "        text-align: right;\n",
       "    }\n",
       "</style>\n",
       "<table border=\"1\" class=\"dataframe\">\n",
       "  <thead>\n",
       "    <tr style=\"text-align: right;\">\n",
       "      <th></th>\n",
       "      <th>CAPEC ID</th>\n",
       "      <th>capec_name</th>\n",
       "      <th>capec_description</th>\n",
       "      <th>capec_domain</th>\n",
       "      <th>summary</th>\n",
       "    </tr>\n",
       "  </thead>\n",
       "  <tbody>\n",
       "    <tr>\n",
       "      <th>0</th>\n",
       "      <td>CAPEC-87</td>\n",
       "      <td>Forceful Browsing</td>\n",
       "      <td>An attacker employs forceful browsing (direct URL entry) to access portions of a website that are otherwise unreachable. Usually, a front controller or similar design pattern is employed to protect access to portions of a web application. Forceful browsing enables an attacker to access information, perform privileged operations and otherwise reach sections of the web application that have been improperly protected.</td>\n",
       "      <td>[Software]</td>\n",
       "      <td>A CAPEC with the title Forceful Browsing. The description of this CAPEC is: An attacker employs forceful browsing (direct URL entry) to access portions of a website that are otherwise unreachable. Usually, a front controller or similar design pattern is employed to protect access to portions of a web application. Forceful browsing enables an attacker to access information, perform privileged operations and otherwise reach sections of the web application that have been improperly protected.. The Domain of this is: Software</td>\n",
       "    </tr>\n",
       "    <tr>\n",
       "      <th>1</th>\n",
       "      <td>CAPEC-391</td>\n",
       "      <td>Bypassing Physical Locks</td>\n",
       "      <td>An attacker uses techniques and methods to bypass physical security measures of a building or facility. Physical locks may range from traditional lock and key mechanisms, cable locks used to secure laptops or servers, locks on server cases, or other such devices. Techniques such as lock bumping, lock forcing via snap guns, or lock picking can be employed to bypass those locks and gain access to the facilities or devices they protect, although stealth, evidence of tampering, and the integrity of the lock following an attack, are considerations that may determine the method employed. Physical locks are limited by the complexity of the locking mechanism. While some locks may offer protections such as shock resistant foam to prevent bumping or lock forcing methods, many commonly employed locks offer no such countermeasures.</td>\n",
       "      <td>[Physical Security]</td>\n",
       "      <td>A CAPEC with the title Bypassing Physical Locks. The description of this CAPEC is: An attacker uses techniques and methods to bypass physical security measures of a building or facility. Physical locks may range from traditional lock and key mechanisms, cable locks used to secure laptops or servers, locks on server cases, or other such devices. Techniques such as lock bumping, lock forcing via snap guns, or lock picking can be employed to bypass those locks and gain access to the facilities or devices they protect, although stealth, evidence of tampering, and the integrity of the lock following an attack, are considerations that may determine the method employed. Physical locks are limited by the complexity of the locking mechanism. While some locks may offer protections such as shock resistant foam to prevent bumping or lock forcing methods, many commonly employed locks offer no such countermeasures.. The Domain of this is: Physical Security</td>\n",
       "    </tr>\n",
       "    <tr>\n",
       "      <th>2</th>\n",
       "      <td>CAPEC-4</td>\n",
       "      <td>Using Alternative IP Address Encodings</td>\n",
       "      <td>This attack relies on the adversary using unexpected formats for representing IP addresses. Networked applications may expect network location information in a specific format, such as fully qualified domains names (FQDNs), URL, IP address, or IP Address ranges. If the location information is not validated against a variety of different possible encodings and formats, the adversary can use an alternate format to bypass application access control.</td>\n",
       "      <td>[Software]</td>\n",
       "      <td>A CAPEC with the title Using Alternative IP Address Encodings. The description of this CAPEC is: This attack relies on the adversary using unexpected formats for representing IP addresses. Networked applications may expect network location information in a specific format, such as fully qualified domains names (FQDNs), URL, IP address, or IP Address ranges. If the location information is not validated against a variety of different possible encodings and formats, the adversary can use an alternate format to bypass application access control.. The Domain of this is: Software</td>\n",
       "    </tr>\n",
       "    <tr>\n",
       "      <th>3</th>\n",
       "      <td>CAPEC-185</td>\n",
       "      <td>Malicious Software Download</td>\n",
       "      <td>An attacker uses deceptive methods to cause a user or an automated process to download and install dangerous code that originates from an attacker controlled source. There are several variations to this strategy of attack.</td>\n",
       "      <td>[Software]</td>\n",
       "      <td>A CAPEC with the title Malicious Software Download. The description of this CAPEC is: An attacker uses deceptive methods to cause a user or an automated process to download and install dangerous code that originates from an attacker controlled source. There are several variations to this strategy of attack.. The Domain of this is: Software</td>\n",
       "    </tr>\n",
       "    <tr>\n",
       "      <th>4</th>\n",
       "      <td>CAPEC-226</td>\n",
       "      <td>Session Credential Falsification through Manipulation</td>\n",
       "      <td>An attacker manipulates an existing credential in order to gain access to a target application. Session credentials allow users to identify themselves to a service after an initial authentication without needing to resend the authentication information (usually a username and password) with every message. An attacker may be able to manipulate a credential sniffed from an existing connection in order to gain access to a target server.</td>\n",
       "      <td>[Software]</td>\n",
       "      <td>A CAPEC with the title Session Credential Falsification through Manipulation. The description of this CAPEC is: An attacker manipulates an existing credential in order to gain access to a target application. Session credentials allow users to identify themselves to a service after an initial authentication without needing to resend the authentication information (usually a username and password) with every message. An attacker may be able to manipulate a credential sniffed from an existing connection in order to gain access to a target server.. The Domain of this is: Software</td>\n",
       "    </tr>\n",
       "  </tbody>\n",
       "</table>\n",
       "</div>"
      ],
      "text/plain": [
       "    CAPEC ID                                             capec_name  \\\n",
       "0   CAPEC-87                                      Forceful Browsing   \n",
       "1  CAPEC-391                               Bypassing Physical Locks   \n",
       "2    CAPEC-4                 Using Alternative IP Address Encodings   \n",
       "3  CAPEC-185                            Malicious Software Download   \n",
       "4  CAPEC-226  Session Credential Falsification through Manipulation   \n",
       "\n",
       "                                                                                                                                                                                                                                                                                                                                                                                                                                                                                                                                                                                                                                                                                                                                                                                                                                                 capec_description  \\\n",
       "0                                                                                                                                                                                                                                                                                                                                                                                                                               An attacker employs forceful browsing (direct URL entry) to access portions of a website that are otherwise unreachable. Usually, a front controller or similar design pattern is employed to protect access to portions of a web application. Forceful browsing enables an attacker to access information, perform privileged operations and otherwise reach sections of the web application that have been improperly protected.   \n",
       "1  An attacker uses techniques and methods to bypass physical security measures of a building or facility. Physical locks may range from traditional lock and key mechanisms, cable locks used to secure laptops or servers, locks on server cases, or other such devices. Techniques such as lock bumping, lock forcing via snap guns, or lock picking can be employed to bypass those locks and gain access to the facilities or devices they protect, although stealth, evidence of tampering, and the integrity of the lock following an attack, are considerations that may determine the method employed. Physical locks are limited by the complexity of the locking mechanism. While some locks may offer protections such as shock resistant foam to prevent bumping or lock forcing methods, many commonly employed locks offer no such countermeasures.   \n",
       "2                                                                                                                                                                                                                                                                                                                                                                                               This attack relies on the adversary using unexpected formats for representing IP addresses. Networked applications may expect network location information in a specific format, such as fully qualified domains names (FQDNs), URL, IP address, or IP Address ranges. If the location information is not validated against a variety of different possible encodings and formats, the adversary can use an alternate format to bypass application access control.   \n",
       "3                                                                                                                                                                                                                                                                                                                                                                                                                                                                                                                                                                                                                                   An attacker uses deceptive methods to cause a user or an automated process to download and install dangerous code that originates from an attacker controlled source. There are several variations to this strategy of attack.   \n",
       "4                                                                                                                                                                                                                                                                                                                                                                                                            An attacker manipulates an existing credential in order to gain access to a target application. Session credentials allow users to identify themselves to a service after an initial authentication without needing to resend the authentication information (usually a username and password) with every message. An attacker may be able to manipulate a credential sniffed from an existing connection in order to gain access to a target server.   \n",
       "\n",
       "          capec_domain  \\\n",
       "0           [Software]   \n",
       "1  [Physical Security]   \n",
       "2           [Software]   \n",
       "3           [Software]   \n",
       "4           [Software]   \n",
       "\n",
       "                                                                                                                                                                                                                                                                                                                                                                                                                                                                                                                                                                                                                                                                                                                                                                                                                                                                                                                                                                                        summary  \n",
       "0                                                                                                                                                                                                                                                                                                                                                                                                                                               A CAPEC with the title Forceful Browsing. The description of this CAPEC is: An attacker employs forceful browsing (direct URL entry) to access portions of a website that are otherwise unreachable. Usually, a front controller or similar design pattern is employed to protect access to portions of a web application. Forceful browsing enables an attacker to access information, perform privileged operations and otherwise reach sections of the web application that have been improperly protected.. The Domain of this is: Software  \n",
       "1  A CAPEC with the title Bypassing Physical Locks. The description of this CAPEC is: An attacker uses techniques and methods to bypass physical security measures of a building or facility. Physical locks may range from traditional lock and key mechanisms, cable locks used to secure laptops or servers, locks on server cases, or other such devices. Techniques such as lock bumping, lock forcing via snap guns, or lock picking can be employed to bypass those locks and gain access to the facilities or devices they protect, although stealth, evidence of tampering, and the integrity of the lock following an attack, are considerations that may determine the method employed. Physical locks are limited by the complexity of the locking mechanism. While some locks may offer protections such as shock resistant foam to prevent bumping or lock forcing methods, many commonly employed locks offer no such countermeasures.. The Domain of this is: Physical Security  \n",
       "2                                                                                                                                                                                                                                                                                                                                                                                          A CAPEC with the title Using Alternative IP Address Encodings. The description of this CAPEC is: This attack relies on the adversary using unexpected formats for representing IP addresses. Networked applications may expect network location information in a specific format, such as fully qualified domains names (FQDNs), URL, IP address, or IP Address ranges. If the location information is not validated against a variety of different possible encodings and formats, the adversary can use an alternate format to bypass application access control.. The Domain of this is: Software  \n",
       "3                                                                                                                                                                                                                                                                                                                                                                                                                                                                                                                                                                                                                                         A CAPEC with the title Malicious Software Download. The description of this CAPEC is: An attacker uses deceptive methods to cause a user or an automated process to download and install dangerous code that originates from an attacker controlled source. There are several variations to this strategy of attack.. The Domain of this is: Software  \n",
       "4                                                                                                                                                                                                                                                                                                                                                                                        A CAPEC with the title Session Credential Falsification through Manipulation. The description of this CAPEC is: An attacker manipulates an existing credential in order to gain access to a target application. Session credentials allow users to identify themselves to a service after an initial authentication without needing to resend the authentication information (usually a username and password) with every message. An attacker may be able to manipulate a credential sniffed from an existing connection in order to gain access to a target server.. The Domain of this is: Software  "
      ]
     },
     "metadata": {},
     "output_type": "display_data"
    },
    {
     "name": "stdout",
     "output_type": "stream",
     "text": [
      "\n",
      "Summary statistics for text length in 'capec_description':\n",
      "count     559.000000\n",
      "mean      474.048301\n",
      "std       224.179346\n",
      "min         0.000000\n",
      "25%       301.500000\n",
      "50%       427.000000\n",
      "75%       624.000000\n",
      "max      1069.000000\n",
      "Name: capec_description, dtype: float64\n"
     ]
    }
   ],
   "source": [
    "# Display general information about capecs_df\n",
    "print(\"Shape of capecs_df:\", capecs_df.shape)\n",
    "print(\"\\nColumn names:\", capecs_df.columns.tolist())\n",
    "print(\"\\nMissing values per column:\\n\", capecs_df.isnull().sum())\n",
    "print(\"\\nData types:\\n\", capecs_df.dtypes)\n",
    "print(\"\\nFirst 5 rows:\")\n",
    "display(capecs_df.head())\n",
    "print(\"\\nSummary statistics for text length in 'capec_description':\")\n",
    "desc_lengths = capecs_df['capec_description'].dropna().str.len()\n",
    "print(desc_lengths.describe())"
   ]
  },
  {
   "cell_type": "code",
   "execution_count": 36,
   "id": "24c2fc97",
   "metadata": {},
   "outputs": [
    {
     "data": {
      "text/html": [
       "<div>\n",
       "<style scoped>\n",
       "    .dataframe tbody tr th:only-of-type {\n",
       "        vertical-align: middle;\n",
       "    }\n",
       "\n",
       "    .dataframe tbody tr th {\n",
       "        vertical-align: top;\n",
       "    }\n",
       "\n",
       "    .dataframe thead th {\n",
       "        text-align: right;\n",
       "    }\n",
       "</style>\n",
       "<table border=\"1\" class=\"dataframe\">\n",
       "  <thead>\n",
       "    <tr style=\"text-align: right;\">\n",
       "      <th></th>\n",
       "      <th>CAPEC ID</th>\n",
       "      <th>capec_name</th>\n",
       "      <th>capec_description</th>\n",
       "      <th>capec_domain</th>\n",
       "      <th>summary</th>\n",
       "    </tr>\n",
       "  </thead>\n",
       "  <tbody>\n",
       "  </tbody>\n",
       "</table>\n",
       "</div>"
      ],
      "text/plain": [
       "Empty DataFrame\n",
       "Columns: [CAPEC ID, capec_name, capec_description, capec_domain, summary]\n",
       "Index: []"
      ]
     },
     "execution_count": 36,
     "metadata": {},
     "output_type": "execute_result"
    }
   ],
   "source": [
    "# show rows with missing values in 'capec_description'\n",
    "capecs_df[capecs_df['capec_description'].isnull()]"
   ]
  },
  {
   "cell_type": "code",
   "execution_count": 37,
   "id": "00bdd8c0",
   "metadata": {},
   "outputs": [
    {
     "data": {
      "text/html": [
       "<div>\n",
       "<style scoped>\n",
       "    .dataframe tbody tr th:only-of-type {\n",
       "        vertical-align: middle;\n",
       "    }\n",
       "\n",
       "    .dataframe tbody tr th {\n",
       "        vertical-align: top;\n",
       "    }\n",
       "\n",
       "    .dataframe thead th {\n",
       "        text-align: right;\n",
       "    }\n",
       "</style>\n",
       "<table border=\"1\" class=\"dataframe\">\n",
       "  <thead>\n",
       "    <tr style=\"text-align: right;\">\n",
       "      <th></th>\n",
       "      <th>CAPEC ID</th>\n",
       "      <th>capec_name</th>\n",
       "      <th>capec_description</th>\n",
       "      <th>capec_domain</th>\n",
       "      <th>summary</th>\n",
       "    </tr>\n",
       "  </thead>\n",
       "  <tbody>\n",
       "    <tr>\n",
       "      <th>81</th>\n",
       "      <td>CAPEC-699</td>\n",
       "      <td>Eavesdropping on a Monitor</td>\n",
       "      <td>An Adversary can eavesdrop on the content of an external monitor through the air without modifying any cable or installing software, just capturing this signal emitted by the cable or video port, with this the attacker will be able to impact the confidentiality of the data without being detected by traditional security tools</td>\n",
       "      <td>not given</td>\n",
       "      <td>A CAPEC with the title Eavesdropping on a Monitor. The description of this CAPEC is: An Adversary can eavesdrop on the content of an external monitor through the air without modifying any cable or installing software, just capturing this signal emitted by the cable or video port, with this the attacker will be able to impact the confidentiality of the data without being detected by traditional security tools. The Domains of this are: n, o, t,  , g, i, v, e, n</td>\n",
       "    </tr>\n",
       "  </tbody>\n",
       "</table>\n",
       "</div>"
      ],
      "text/plain": [
       "     CAPEC ID                  capec_name  \\\n",
       "81  CAPEC-699  Eavesdropping on a Monitor   \n",
       "\n",
       "                                                                                                                                                                                                                                                                                                                         capec_description  \\\n",
       "81  An Adversary can eavesdrop on the content of an external monitor through the air without modifying any cable or installing software, just capturing this signal emitted by the cable or video port, with this the attacker will be able to impact the confidentiality of the data without being detected by traditional security tools   \n",
       "\n",
       "   capec_domain  \\\n",
       "81    not given   \n",
       "\n",
       "                                                                                                                                                                                                                                                                                                                                                                                                                                                                            summary  \n",
       "81  A CAPEC with the title Eavesdropping on a Monitor. The description of this CAPEC is: An Adversary can eavesdrop on the content of an external monitor through the air without modifying any cable or installing software, just capturing this signal emitted by the cable or video port, with this the attacker will be able to impact the confidentiality of the data without being detected by traditional security tools. The Domains of this are: n, o, t,  , g, i, v, e, n  "
      ]
     },
     "execution_count": 37,
     "metadata": {},
     "output_type": "execute_result"
    }
   ],
   "source": [
    "capecs_df[capecs_df['capec_domain'] == 'not given']"
   ]
  },
  {
   "cell_type": "code",
   "execution_count": 38,
   "id": "72f1a59b",
   "metadata": {},
   "outputs": [
    {
     "data": {
      "text/plain": [
       "capec_domain\n",
       "[Software]                                                                     287\n",
       "[Communications, Software]                                                      67\n",
       "[Social Engineering]                                                            30\n",
       "[Software, Hardware]                                                            28\n",
       "[Physical Security]                                                             15\n",
       "[Communications]                                                                13\n",
       "[Software, Physical Security, Hardware]                                          9\n",
       "[Software, Software, Software]                                                   9\n",
       "[Supply Chain, Hardware]                                                         9\n",
       "[Social Engineering, Supply Chain, Software]                                     8\n",
       "[Supply Chain, Physical Security, Hardware]                                      8\n",
       "[Supply Chain, Software]                                                         8\n",
       "[Supply Chain]                                                                   7\n",
       "[Social Engineering, Software]                                                   7\n",
       "[Supply Chain, Software, Hardware]                                               7\n",
       "[Communications, Hardware]                                                       6\n",
       "[Software, Software]                                                             6\n",
       "[Communications, Software, Hardware]                                             4\n",
       "[Social Engineering, Social Engineering]                                         4\n",
       "[Software, Hardware, Software]                                                   3\n",
       "[Social Engineering, Supply Chain, Communications, Software, Hardware]           3\n",
       "[Hardware, Hardware]                                                             3\n",
       "[Communications, Software, Physical Security]                                    2\n",
       "[Social Engineering, Communications, Software, Hardware]                         2\n",
       "[Software, Physical Security]                                                    2\n",
       "[Social Engineering, Social Engineering, Software]                               2\n",
       "[Supply Chain, Software, Physical Security, Hardware]                            2\n",
       "[Social Engineering, Software, Hardware]                                         2\n",
       "[Hardware]                                                                       1\n",
       "not given                                                                        1\n",
       "[Social Engineering, Communications, Software, Physical Security, Hardware]      1\n",
       "[Social Engineering, Communications]                                             1\n",
       "[Communications, Software, Software]                                             1\n",
       "[Software, Communications, Software]                                             1\n",
       "Name: count, dtype: int64"
      ]
     },
     "execution_count": 38,
     "metadata": {},
     "output_type": "execute_result"
    }
   ],
   "source": [
    "capecs_df['capec_domain'].value_counts()"
   ]
  },
  {
   "cell_type": "code",
   "execution_count": 39,
   "id": "47d3ca57",
   "metadata": {},
   "outputs": [
    {
     "data": {
      "text/plain": [
       "capec_domain\n",
       "Software              490\n",
       "Communications        101\n",
       "Hardware               91\n",
       "Social Engineering     66\n",
       "Supply Chain           52\n",
       "Physical Security      39\n",
       "not given               1\n",
       "Name: count, dtype: int64"
      ]
     },
     "execution_count": 39,
     "metadata": {},
     "output_type": "execute_result"
    }
   ],
   "source": [
    "# value counts for 'capec_domain'\n",
    "capecs_df['capec_domain'].explode().value_counts(dropna=False)"
   ]
  },
  {
   "cell_type": "code",
   "execution_count": 40,
   "id": "4202ea6e",
   "metadata": {},
   "outputs": [
    {
     "name": "stdout",
     "output_type": "stream",
     "text": [
      "Count of rows with duplicates: 30\n",
      "25                         [Software, Software, Software]\n",
      "29                                   [Software, Software]\n",
      "54                                   [Hardware, Hardware]\n",
      "80                         [Software, Software, Software]\n",
      "81                                              not given\n",
      "86     [Social Engineering, Social Engineering, Software]\n",
      "91               [Social Engineering, Social Engineering]\n",
      "99                                   [Software, Software]\n",
      "119                        [Software, Software, Software]\n",
      "123                                  [Hardware, Hardware]\n",
      "156              [Social Engineering, Social Engineering]\n",
      "165                                  [Software, Software]\n",
      "177                        [Software, Software, Software]\n",
      "201              [Social Engineering, Social Engineering]\n",
      "225                        [Software, Software, Software]\n",
      "243                        [Software, Hardware, Software]\n",
      "262              [Social Engineering, Social Engineering]\n",
      "286                        [Software, Software, Software]\n",
      "292    [Social Engineering, Social Engineering, Software]\n",
      "363                  [Communications, Software, Software]\n",
      "388                                  [Software, Software]\n",
      "395                        [Software, Software, Software]\n",
      "431                        [Software, Software, Software]\n",
      "455                                  [Software, Software]\n",
      "469                  [Software, Communications, Software]\n",
      "493                                  [Hardware, Hardware]\n",
      "497                        [Software, Software, Software]\n",
      "509                                  [Software, Software]\n",
      "516                        [Software, Hardware, Software]\n",
      "543                        [Software, Hardware, Software]\n",
      "Name: capec_domain, dtype: object\n"
     ]
    }
   ],
   "source": [
    "duplicates = capecs_df[capecs_df['capec_domain'].apply(lambda x: len(x) != len(set(x)))]['capec_domain']\n",
    "\n",
    "print(f\"Count of rows with duplicates: {len(duplicates)}\")\n",
    "print(duplicates)\n"
   ]
  },
  {
   "cell_type": "markdown",
   "id": "e6c210c8",
   "metadata": {},
   "source": [
    "# Data Preparation"
   ]
  },
  {
   "cell_type": "markdown",
   "id": "8cc0941a",
   "metadata": {},
   "source": [
    "Merging title and description to match the form of the original orca pipeline."
   ]
  },
  {
   "cell_type": "code",
   "execution_count": 41,
   "id": "da9f8c42",
   "metadata": {},
   "outputs": [],
   "source": [
    "threats_summary_context = {'Threat title': 'A Threat with the title ', 'Threat Description': ' and the description'}\n",
    "def add_summary_to_df(input_df, coll_context, ):\n",
    "    input_df['summary'] = ''\n",
    "    for key, value in coll_context.items():\n",
    "        input_df['summary'] +=  value + input_df[key]"
   ]
  },
  {
   "cell_type": "code",
   "execution_count": 42,
   "id": "b07ccc06",
   "metadata": {},
   "outputs": [
    {
     "data": {
      "text/plain": [
       "'A Threat with the title An attacker exploits insecure designs or lack of adaption in O-RAN components and the descriptionUnauthenticated/unauthorized access to O-RAN components could possibly be achieved via the different O-RAN interfaces, depending upon the design of the hardware-software O-RAN system and how different functions are segregated within the O-RAN system. \\nO-RAN components might be vulnerable if: \\n• Outdated component from the lack of update or patch management,\\n• Poorly design architecture,\\n• Missing appropriate security hardening,\\n• Unnecessary or insecure function/protocol/component.\\nAn attacker could, in such case, either inject malwares and/or manipulate existing software, harm the O-RAN components, create a performance issue by manipulation of parameters, or reconfigure the O-RAN components and disable the security features with the purpose of eavesdropping or wiretapping on various CUS & M planes, reaching northbound systems, attack broader network to cause denial-of-service, steal unprotected private keys, certificates, hash values, or other type of breaches.\\nIn addition, O-RAN components could be software providing network functions, so they are likely to be vulnerable to software flaws: it could be possible to bypass firewall restrictions or to take advantage of a buffer overflow to execute arbitrary commands, etc.'"
      ]
     },
     "execution_count": 42,
     "metadata": {},
     "output_type": "execute_result"
    }
   ],
   "source": [
    "add_summary_to_df(df_threats, threats_summary_context)\n",
    "df_threats.loc[0, 'summary']  "
   ]
  },
  {
   "cell_type": "markdown",
   "id": "e8cf60f6",
   "metadata": {},
   "source": [
    "Data preparation for establishing a baseline, implementing the ORCA mapping."
   ]
  },
  {
   "cell_type": "markdown",
   "id": "0e327b99",
   "metadata": {},
   "source": [
    "1. Add the embedding to the threat and to to the capec data"
   ]
  },
  {
   "cell_type": "code",
   "execution_count": 43,
   "id": "16259f13",
   "metadata": {},
   "outputs": [],
   "source": [
    "model = SentenceTransformer('sentence-transformers/all-MiniLM-L12-v2')\n",
    "\n",
    "def preprocess_description(description):\n",
    "    # remove patterns not semantically relevant\n",
    "    pattern = r\"\\((http|https)\\S+\\)|['\\[\\]]+\"\n",
    "    description = re.sub(pattern, \"\", description)\n",
    "    return description\n",
    "\n",
    "def gen_embedding(description):\n",
    "    if isinstance(description, str):\n",
    "        description1 = description\n",
    "    else:\n",
    "        description1 = '\\n'.join(description)\n",
    "    description = preprocess_description(description1)\n",
    "    return model.encode(description, convert_to_numpy=True)\n",
    "\n",
    "def add_embedd_to_df(input_df, descryption_name):\n",
    "    input_df['embedding'] = input_df[descryption_name].apply(gen_embedding)"
   ]
  },
  {
   "cell_type": "code",
   "execution_count": 44,
   "id": "65e1164c",
   "metadata": {},
   "outputs": [],
   "source": [
    "# add embedding to the threats dataframe\n",
    "add_embedd_to_df(df_threats, 'summary')"
   ]
  },
  {
   "cell_type": "code",
   "execution_count": 45,
   "id": "9a66e009",
   "metadata": {},
   "outputs": [],
   "source": [
    "# add embedding to the capecs dataframe\n",
    "#capecs_with_embeddings_df = capecs_df.copy()\n",
    "#add_embedd_to_df(capecs_with_embeddings_df, 'summary')\n",
    "#capecs_with_embeddings_df.to_pickle('capec_data/capecs_with_embeddings.pk1')"
   ]
  },
  {
   "cell_type": "code",
   "execution_count": 46,
   "id": "d4b8f3ac",
   "metadata": {},
   "outputs": [],
   "source": [
    "capecs_with_embeddings_df = pd.read_pickle('capec_data/capecs_with_embeddings.pk1')"
   ]
  },
  {
   "cell_type": "markdown",
   "id": "f416d6be",
   "metadata": {},
   "source": [
    "2. generate the mapping of threats to capecs"
   ]
  },
  {
   "cell_type": "code",
   "execution_count": 47,
   "id": "fdfee626",
   "metadata": {},
   "outputs": [],
   "source": [
    "DOMAIN = \"enterprise-attack\"\n",
    "def gen_mapping(th_df, te_df):\n",
    "    maping = pd.DataFrame()\n",
    "    if 'summary' in th_df.columns:\n",
    "        th_df.rename(columns={'summary': 'summary_th_df'}, inplace=True)\n",
    "    if 'summary' in te_df.columns:\n",
    "        te_df.rename(columns={'summary': 'summary_ca_df'}, inplace=True)\n",
    "\n",
    "    for tec_index, row_techniques in te_df.iterrows():\n",
    "        for thr_index, row_threats in th_df.iterrows():\n",
    "            cosine_similarity = util.pytorch_cos_sim(torch.from_numpy(row_techniques['embedding']),\n",
    "                                                     torch.from_numpy(row_threats['embedding']))\n",
    "            comb = pd.concat([row_techniques, row_threats], axis=0)\n",
    "            comb = comb.to_frame().T\n",
    "            comb['Similarity'] = cosine_similarity\n",
    "            maping = pd.concat([maping, comb], ignore_index=True)\n",
    "\n",
    "    maping['Domain'] = DOMAIN\n",
    "    return maping"
   ]
  },
  {
   "cell_type": "code",
   "execution_count": 48,
   "id": "961117b0",
   "metadata": {},
   "outputs": [
    {
     "data": {
      "text/plain": [
       "Index(['Threat ID', 'Threat title', 'Threat Description', 'Threat type',\n",
       "       'Impact type', 'Threat agent', 'Vulnerability', 'Threatened Asset',\n",
       "       'Affected Components', 'summary', 'embedding'],\n",
       "      dtype='object')"
      ]
     },
     "execution_count": 48,
     "metadata": {},
     "output_type": "execute_result"
    }
   ],
   "source": [
    "df_threats.columns"
   ]
  },
  {
   "cell_type": "code",
   "execution_count": 49,
   "id": "fab3b91a",
   "metadata": {},
   "outputs": [
    {
     "data": {
      "text/html": [
       "<div>\n",
       "<style scoped>\n",
       "    .dataframe tbody tr th:only-of-type {\n",
       "        vertical-align: middle;\n",
       "    }\n",
       "\n",
       "    .dataframe tbody tr th {\n",
       "        vertical-align: top;\n",
       "    }\n",
       "\n",
       "    .dataframe thead th {\n",
       "        text-align: right;\n",
       "    }\n",
       "</style>\n",
       "<table border=\"1\" class=\"dataframe\">\n",
       "  <thead>\n",
       "    <tr style=\"text-align: right;\">\n",
       "      <th></th>\n",
       "      <th>Threat ID</th>\n",
       "      <th>Threat title</th>\n",
       "      <th>Threat Description</th>\n",
       "      <th>Threat type</th>\n",
       "      <th>Impact type</th>\n",
       "      <th>Threat agent</th>\n",
       "      <th>Vulnerability</th>\n",
       "      <th>Threatened Asset</th>\n",
       "      <th>Affected Components</th>\n",
       "      <th>summary</th>\n",
       "      <th>embedding</th>\n",
       "    </tr>\n",
       "  </thead>\n",
       "  <tbody>\n",
       "    <tr>\n",
       "      <th>0</th>\n",
       "      <td>T-O-RAN-01</td>\n",
       "      <td>An attacker exploits insecure designs or lack of adaption in O-RAN components</td>\n",
       "      <td>Unauthenticated/unauthorized access to O-RAN components could possibly be achieved via the different O-RAN interfaces, depending upon the design of the hardware-software O-RAN system and how different functions are segregated within the O-RAN system. \\nO-RAN components might be vulnerable if: \\n• Outdated component from the lack of update or patch management,\\n• Poorly design architecture,\\n• Missing appropriate security hardening,\\n• Unnecessary or insecure function/protocol/component.\\nAn attacker could, in such case, either inject malwares and/or manipulate existing software, harm the O-RAN components, create a performance issue by manipulation of parameters, or reconfigure the O-RAN components and disable the security features with the purpose of eavesdropping or wiretapping on various CUS &amp; M planes, reaching northbound systems, attack broader network to cause denial-of-service, steal unprotected private keys, certificates, hash values, or other type of breaches.\\nIn addition, O-RAN components could be software providing network functions, so they are likely to be vulnerable to software flaws: it could be possible to bypass firewall restrictions or to take advantage of a buffer overflow to execute arbitrary commands, etc.</td>\n",
       "      <td>None</td>\n",
       "      <td>None</td>\n",
       "      <td>All</td>\n",
       "      <td>[Outdated component from the lack of update or patch management]</td>\n",
       "      <td>[ASSET D-11, ASSET D-20, ASSET D-21, ASSET-C-02, ASSET-C-03, ASSET-C-07, ASSET-C-08, ASSET-C-09, ASSET-C-1, ASSET-C-10, ASSET-C-11, ASSET-C-12, ASSET-C-14, ASSET-C-16, ASSET-C-17, ASSET-C-18, ASSET-C-19, ASSET-C-2, ASSET-C-20, ASSET-C-21, ASSET-C-22, ASSET-C-23, ASSET-C-24, ASSET-C-25, ASSET-C-26, ASSET-C-27, ASSET-C-28, ASSET-C-3, ASSET-C-31, ASSET-C-32, ASSET-C-33, ASSET-C-34, ASSET-C-35, ASSET-C-36, ASSET-C-37, ASSET-C-38, ASSET-C-39, ASSET-C-4, ASSET-C-40, ASSET-C-42, ASSET-C-5, ASSET-C-6, ASSET-C-7, ASSET-C-8, ASSET-C-9, ASSET-D-01, ASSET-D-02, ASSET-D-03, ASSET-D-04, ASSET-D-05, ASSET-D-06, ASSET-D-07, ASSET-D-08, ASSET-D-09, ASSET-D-1, ASSET-D-10, ASSET-D-11, ASSET-D-12, ASSET-D-13, ASSET-D-14, ASSET-D-15, ASSET-D-16, ASSET-D-17, ASSET-D-18, ASSET-D-19, ASSET-D-2, ASSET-D-20, ASSET-D-21, ASSET-D-22, ASSET-D-23, ASSET-D-24, ASSET-D-25, ASSET-D-26, ASSET-D-27, ASSET-D-28, ASSET-D-29, ASSET-D-3, ASSET-D-30, ASSET-D-31, ASSET-D-32, ASSET-D-33, ASSET-D-34, ASSET-D-35, ASSET-D-36, ASSET-D-37, ASSET-D-38, ASSET-D-39, ASSET-D-4, ASSET-D-41, ASSET-D-43, ASSET-D-5, ASSET-D-6, ASSET-D-7, ASSET-D-8, ASSET-D-9]</td>\n",
       "      <td>[All]</td>\n",
       "      <td>A Threat with the title An attacker exploits insecure designs or lack of adaption in O-RAN components and the descriptionUnauthenticated/unauthorized access to O-RAN components could possibly be achieved via the different O-RAN interfaces, depending upon the design of the hardware-software O-RAN system and how different functions are segregated within the O-RAN system. \\nO-RAN components might be vulnerable if: \\n• Outdated component from the lack of update or patch management,\\n• Poorly design architecture,\\n• Missing appropriate security hardening,\\n• Unnecessary or insecure function/protocol/component.\\nAn attacker could, in such case, either inject malwares and/or manipulate existing software, harm the O-RAN components, create a performance issue by manipulation of parameters, or reconfigure the O-RAN components and disable the security features with the purpose of eavesdropping or wiretapping on various CUS &amp; M planes, reaching northbound systems, attack broader network to cause denial-of-service, steal unprotected private keys, certificates, hash values, or other type of breaches.\\nIn addition, O-RAN components could be software providing network functions, so they are likely to be vulnerable to software flaws: it could be possible to bypass firewall restrictions or to take advantage of a buffer overflow to execute arbitrary commands, etc.</td>\n",
       "      <td>[-0.010102284, -0.017270535, -0.008134456, 0.025591845, 0.050386827, -0.0069105914, -0.031579264, 0.045511406, -0.0015760148, -0.06746772, 0.014224441, -0.011267179, -0.012497151, -0.06623844, 0.0728696, -0.0049607446, 0.061568722, 0.061746914, 0.019245192, 0.03398114, -0.023934241, -0.021072078, 0.038360443, -0.050431035, -0.049773563, -0.02575647, -0.049320325, -0.03756049, 0.008229405, 0.035307504, -0.07415312, 0.07448257, -0.0448787, 0.032039747, -0.062232234, -0.07966976, 0.014991017, -0.038180437, -0.02578048, -0.024954587, -0.032835606, -0.06344968, 0.034607597, 0.047588345, -0.10460588, -0.044115216, 0.009540353, 0.00015958559, -0.06655222, -0.1195371, 0.00999927, -0.020775514, 0.05184617, -0.000990168, -0.053097207, -0.0535893, -0.031280152, 0.036076486, -0.035859406, -0.041788753, 0.040273584, 0.030348971, -0.002917093, -0.013315618, -0.0028420861, -0.044506192, 0.08411583, 0.014898472, 0.056238174, -0.073229544, -0.023873774, 0.016372595, -0.016805124, -0.10784028, -0.096374646, 0.058940977, -0.10351955, 0.006912776, 0.028100628, -0.069018744, 0.068840496, 0.07469425, -0.015132672, 0.026230508, -0.09360705, 0.12704317, -0.0014903748, 0.002923393, 0.06733695, -0.0002970418, -0.022398695, -0.06365227, 0.076292455, -0.028303828, 0.09188232, 0.002830008, -0.027176064, -0.08216475, -0.07969891, 0.05846007, ...]</td>\n",
       "    </tr>\n",
       "  </tbody>\n",
       "</table>\n",
       "</div>"
      ],
      "text/plain": [
       "    Threat ID  \\\n",
       "0  T-O-RAN-01   \n",
       "\n",
       "                                                                    Threat title  \\\n",
       "0  An attacker exploits insecure designs or lack of adaption in O-RAN components   \n",
       "\n",
       "                                                                                                                                                                                                                                                                                                                                                                                                                                                                                                                                                                                                                                                                                                                                                                                                                                                                                                                                                                                                                                                                                                                                                                                                                                                                               Threat Description  \\\n",
       "0  Unauthenticated/unauthorized access to O-RAN components could possibly be achieved via the different O-RAN interfaces, depending upon the design of the hardware-software O-RAN system and how different functions are segregated within the O-RAN system. \\nO-RAN components might be vulnerable if: \\n• Outdated component from the lack of update or patch management,\\n• Poorly design architecture,\\n• Missing appropriate security hardening,\\n• Unnecessary or insecure function/protocol/component.\\nAn attacker could, in such case, either inject malwares and/or manipulate existing software, harm the O-RAN components, create a performance issue by manipulation of parameters, or reconfigure the O-RAN components and disable the security features with the purpose of eavesdropping or wiretapping on various CUS & M planes, reaching northbound systems, attack broader network to cause denial-of-service, steal unprotected private keys, certificates, hash values, or other type of breaches.\\nIn addition, O-RAN components could be software providing network functions, so they are likely to be vulnerable to software flaws: it could be possible to bypass firewall restrictions or to take advantage of a buffer overflow to execute arbitrary commands, etc.   \n",
       "\n",
       "  Threat type Impact type Threat agent  \\\n",
       "0        None        None          All   \n",
       "\n",
       "                                                      Vulnerability  \\\n",
       "0  [Outdated component from the lack of update or patch management]   \n",
       "\n",
       "                                                                                                                                                                                                                                                                                                                                                                                                                                                                                                                                                                                                                                                                                                                                                                                                                                                                                                                                                                                                                                                                                                                                                     Threatened Asset  \\\n",
       "0  [ASSET D-11, ASSET D-20, ASSET D-21, ASSET-C-02, ASSET-C-03, ASSET-C-07, ASSET-C-08, ASSET-C-09, ASSET-C-1, ASSET-C-10, ASSET-C-11, ASSET-C-12, ASSET-C-14, ASSET-C-16, ASSET-C-17, ASSET-C-18, ASSET-C-19, ASSET-C-2, ASSET-C-20, ASSET-C-21, ASSET-C-22, ASSET-C-23, ASSET-C-24, ASSET-C-25, ASSET-C-26, ASSET-C-27, ASSET-C-28, ASSET-C-3, ASSET-C-31, ASSET-C-32, ASSET-C-33, ASSET-C-34, ASSET-C-35, ASSET-C-36, ASSET-C-37, ASSET-C-38, ASSET-C-39, ASSET-C-4, ASSET-C-40, ASSET-C-42, ASSET-C-5, ASSET-C-6, ASSET-C-7, ASSET-C-8, ASSET-C-9, ASSET-D-01, ASSET-D-02, ASSET-D-03, ASSET-D-04, ASSET-D-05, ASSET-D-06, ASSET-D-07, ASSET-D-08, ASSET-D-09, ASSET-D-1, ASSET-D-10, ASSET-D-11, ASSET-D-12, ASSET-D-13, ASSET-D-14, ASSET-D-15, ASSET-D-16, ASSET-D-17, ASSET-D-18, ASSET-D-19, ASSET-D-2, ASSET-D-20, ASSET-D-21, ASSET-D-22, ASSET-D-23, ASSET-D-24, ASSET-D-25, ASSET-D-26, ASSET-D-27, ASSET-D-28, ASSET-D-29, ASSET-D-3, ASSET-D-30, ASSET-D-31, ASSET-D-32, ASSET-D-33, ASSET-D-34, ASSET-D-35, ASSET-D-36, ASSET-D-37, ASSET-D-38, ASSET-D-39, ASSET-D-4, ASSET-D-41, ASSET-D-43, ASSET-D-5, ASSET-D-6, ASSET-D-7, ASSET-D-8, ASSET-D-9]   \n",
       "\n",
       "  Affected Components  \\\n",
       "0               [All]   \n",
       "\n",
       "                                                                                                                                                                                                                                                                                                                                                                                                                                                                                                                                                                                                                                                                                                                                                                                                                                                                                                                                                                                                                                                                                                                                                                                                                                                                                                                                                                                                                   summary  \\\n",
       "0  A Threat with the title An attacker exploits insecure designs or lack of adaption in O-RAN components and the descriptionUnauthenticated/unauthorized access to O-RAN components could possibly be achieved via the different O-RAN interfaces, depending upon the design of the hardware-software O-RAN system and how different functions are segregated within the O-RAN system. \\nO-RAN components might be vulnerable if: \\n• Outdated component from the lack of update or patch management,\\n• Poorly design architecture,\\n• Missing appropriate security hardening,\\n• Unnecessary or insecure function/protocol/component.\\nAn attacker could, in such case, either inject malwares and/or manipulate existing software, harm the O-RAN components, create a performance issue by manipulation of parameters, or reconfigure the O-RAN components and disable the security features with the purpose of eavesdropping or wiretapping on various CUS & M planes, reaching northbound systems, attack broader network to cause denial-of-service, steal unprotected private keys, certificates, hash values, or other type of breaches.\\nIn addition, O-RAN components could be software providing network functions, so they are likely to be vulnerable to software flaws: it could be possible to bypass firewall restrictions or to take advantage of a buffer overflow to execute arbitrary commands, etc.   \n",
       "\n",
       "                                                                                                                                                                                                                                                                                                                                                                                                                                                                                                                                                                                                                                                                                                                                                                                                                                                                                                                                                                                                                                                                                                                                                                                                                                                                                                                                                                                    embedding  \n",
       "0  [-0.010102284, -0.017270535, -0.008134456, 0.025591845, 0.050386827, -0.0069105914, -0.031579264, 0.045511406, -0.0015760148, -0.06746772, 0.014224441, -0.011267179, -0.012497151, -0.06623844, 0.0728696, -0.0049607446, 0.061568722, 0.061746914, 0.019245192, 0.03398114, -0.023934241, -0.021072078, 0.038360443, -0.050431035, -0.049773563, -0.02575647, -0.049320325, -0.03756049, 0.008229405, 0.035307504, -0.07415312, 0.07448257, -0.0448787, 0.032039747, -0.062232234, -0.07966976, 0.014991017, -0.038180437, -0.02578048, -0.024954587, -0.032835606, -0.06344968, 0.034607597, 0.047588345, -0.10460588, -0.044115216, 0.009540353, 0.00015958559, -0.06655222, -0.1195371, 0.00999927, -0.020775514, 0.05184617, -0.000990168, -0.053097207, -0.0535893, -0.031280152, 0.036076486, -0.035859406, -0.041788753, 0.040273584, 0.030348971, -0.002917093, -0.013315618, -0.0028420861, -0.044506192, 0.08411583, 0.014898472, 0.056238174, -0.073229544, -0.023873774, 0.016372595, -0.016805124, -0.10784028, -0.096374646, 0.058940977, -0.10351955, 0.006912776, 0.028100628, -0.069018744, 0.068840496, 0.07469425, -0.015132672, 0.026230508, -0.09360705, 0.12704317, -0.0014903748, 0.002923393, 0.06733695, -0.0002970418, -0.022398695, -0.06365227, 0.076292455, -0.028303828, 0.09188232, 0.002830008, -0.027176064, -0.08216475, -0.07969891, 0.05846007, ...]  "
      ]
     },
     "execution_count": 49,
     "metadata": {},
     "output_type": "execute_result"
    }
   ],
   "source": [
    "df_threats.head(1)"
   ]
  },
  {
   "cell_type": "code",
   "execution_count": 50,
   "id": "942bcdda",
   "metadata": {},
   "outputs": [
    {
     "data": {
      "text/plain": [
       "Index(['CAPEC ID', 'capec_name', 'capec_description', 'capec_domain',\n",
       "       'summary', 'embedding'],\n",
       "      dtype='object')"
      ]
     },
     "execution_count": 50,
     "metadata": {},
     "output_type": "execute_result"
    }
   ],
   "source": [
    "capecs_with_embeddings_df.columns"
   ]
  },
  {
   "cell_type": "code",
   "execution_count": 51,
   "id": "a2d87949",
   "metadata": {},
   "outputs": [],
   "source": [
    "capec_mapping = gen_mapping(df_threats, capecs_with_embeddings_df)"
   ]
  },
  {
   "cell_type": "markdown",
   "id": "558e7fd6",
   "metadata": {},
   "source": [
    "3. format the mapping"
   ]
  },
  {
   "cell_type": "code",
   "execution_count": 52,
   "id": "d8d3bee2",
   "metadata": {},
   "outputs": [],
   "source": [
    "COLOM_MAP = {'ID': 'Technique', 'name': 'yeet', 'Threat ID': 'Name', 'tactics': 'tactic', 'Threat title':'Description'}\n",
    "MAP_ORDER_capec = ['Name', 'Domain', 'Description', 'CAPEC ID', 'Similarity', 'summary_th_df', 'summary_ca_df']\n",
    "def format_map(ma, MAP_ORDER):\n",
    "    ma.rename(columns=COLOM_MAP, inplace=True)\n",
    "    ma = ma.loc[:, MAP_ORDER]\n",
    "    return ma"
   ]
  },
  {
   "cell_type": "code",
   "execution_count": 53,
   "id": "b20abf8c",
   "metadata": {},
   "outputs": [],
   "source": [
    "threat2capec_mapping_df = format_map(capec_mapping, MAP_ORDER_capec)"
   ]
  },
  {
   "cell_type": "code",
   "execution_count": 54,
   "id": "75581e99",
   "metadata": {},
   "outputs": [],
   "source": [
    "# save capec mappings to pickle\n",
    "#threat2capec_mapping_df.to_pickle('mapped_data/all_t2c_mappings.pk1')"
   ]
  },
  {
   "cell_type": "code",
   "execution_count": 55,
   "id": "bc0e0138",
   "metadata": {},
   "outputs": [],
   "source": [
    "threat2capec_mapping_df = pd.read_pickle('mapped_data/all_t2c_mappings.pk1')"
   ]
  },
  {
   "cell_type": "code",
   "execution_count": 56,
   "id": "b7cff321",
   "metadata": {},
   "outputs": [
    {
     "data": {
      "text/html": [
       "<div>\n",
       "<style scoped>\n",
       "    .dataframe tbody tr th:only-of-type {\n",
       "        vertical-align: middle;\n",
       "    }\n",
       "\n",
       "    .dataframe tbody tr th {\n",
       "        vertical-align: top;\n",
       "    }\n",
       "\n",
       "    .dataframe thead th {\n",
       "        text-align: right;\n",
       "    }\n",
       "</style>\n",
       "<table border=\"1\" class=\"dataframe\">\n",
       "  <thead>\n",
       "    <tr style=\"text-align: right;\">\n",
       "      <th></th>\n",
       "      <th>Name</th>\n",
       "      <th>Domain</th>\n",
       "      <th>Description</th>\n",
       "      <th>CAPEC ID</th>\n",
       "      <th>Similarity</th>\n",
       "      <th>summary_th_df</th>\n",
       "      <th>summary_ca_df</th>\n",
       "    </tr>\n",
       "  </thead>\n",
       "  <tbody>\n",
       "    <tr>\n",
       "      <th>0</th>\n",
       "      <td>T-O-RAN-01</td>\n",
       "      <td>enterprise-attack</td>\n",
       "      <td>An attacker exploits insecure designs or lack of adaption in O-RAN components</td>\n",
       "      <td>CAPEC-87</td>\n",
       "      <td>0.246462</td>\n",
       "      <td>A Threat with the title An attacker exploits insecure designs or lack of adaption in O-RAN components and the descriptionUnauthenticated/unauthorized access to O-RAN components could possibly be achieved via the different O-RAN interfaces, depending upon the design of the hardware-software O-RAN system and how different functions are segregated within the O-RAN system. \\nO-RAN components might be vulnerable if: \\n• Outdated component from the lack of update or patch management,\\n• Poorly design architecture,\\n• Missing appropriate security hardening,\\n• Unnecessary or insecure function/protocol/component.\\nAn attacker could, in such case, either inject malwares and/or manipulate existing software, harm the O-RAN components, create a performance issue by manipulation of parameters, or reconfigure the O-RAN components and disable the security features with the purpose of eavesdropping or wiretapping on various CUS &amp; M planes, reaching northbound systems, attack broader network to cause denial-of-service, steal unprotected private keys, certificates, hash values, or other type of breaches.\\nIn addition, O-RAN components could be software providing network functions, so they are likely to be vulnerable to software flaws: it could be possible to bypass firewall restrictions or to take advantage of a buffer overflow to execute arbitrary commands, etc.</td>\n",
       "      <td>A CAPEC with the title Forceful Browsing. The description of this CAPEC is: An attacker employs forceful browsing (direct URL entry) to access portions of a website that are otherwise unreachable. Usually, a front controller or similar design pattern is employed to protect access to portions of a web application. Forceful browsing enables an attacker to access information, perform privileged operations and otherwise reach sections of the web application that have been improperly protected.. The Domain of this is: Software</td>\n",
       "    </tr>\n",
       "    <tr>\n",
       "      <th>1</th>\n",
       "      <td>T-O-RAN-02</td>\n",
       "      <td>enterprise-attack</td>\n",
       "      <td>An attacker exploits misconfigured or poorly configured O-RAN components</td>\n",
       "      <td>CAPEC-87</td>\n",
       "      <td>0.270846</td>\n",
       "      <td>A Threat with the title An attacker exploits misconfigured or poorly configured O-RAN components and the descriptionUnauthenticated/unauthorized access to O-RAN components could possibly be achieved via the different O-RAN interfaces, depending upon the configuration of the hardware-software O-RAN system. \\nO-RAN components might be vulnerable if: \\n• Errors from the lack of configuration change management,\\n• Misconfigured or poorly configured O-RAN components,\\n• Improperly configured permissions,\\n• Unnecessary features are enabled (e.g. unnecessary ports, services, accounts, or privileges),\\n• Default accounts and their passwords still enabled and unchanged,\\n• Security features are disabled or not configured securely.\\nAn attacker could, in such case, either inject malwares and/or manipulate existing software, harm the O-RAN components, create a performance issue by manipulation of parameters, or reconfigure the O-RAN components and disable the security features with the purpose of eavesdropping or wiretapping on various CUS &amp; M planes, reaching northbound systems, attack broader network to cause denial-of-service, steal unprotected private keys, certificates, hash values, or other type of breaches.</td>\n",
       "      <td>A CAPEC with the title Forceful Browsing. The description of this CAPEC is: An attacker employs forceful browsing (direct URL entry) to access portions of a website that are otherwise unreachable. Usually, a front controller or similar design pattern is employed to protect access to portions of a web application. Forceful browsing enables an attacker to access information, perform privileged operations and otherwise reach sections of the web application that have been improperly protected.. The Domain of this is: Software</td>\n",
       "    </tr>\n",
       "    <tr>\n",
       "      <th>2</th>\n",
       "      <td>T-O-RAN-03</td>\n",
       "      <td>enterprise-attack</td>\n",
       "      <td>Attacks from the internet to penetrate O-RAN network boundary</td>\n",
       "      <td>CAPEC-87</td>\n",
       "      <td>0.391938</td>\n",
       "      <td>A Threat with the title Attacks from the internet to penetrate O-RAN network boundary and the descriptionWeb servers serving O-RAN functional and management services should provide adequate protection. \\nAn attacker that have access to the uncontrolled O-RAN network could:\\n• Bypass the information flow control policy implemented by the firewall,\\n• And/or attack O-RAN components in the trusted networks by taking advantage of particularities and errors in the design and implementation of the network protocols (IP, TCP, UDP, application protocols),\\n• Use of incorrect or exceeded TCP sequence numbers,\\n• Perform brute force attacks on FTP passwords,\\n• Use of improper HTTP user sessions,\\n• Etc.\\nThe effects of such attacks may include:\\n• An intrusion, meaning unauthorized access to O-RAN components,\\n• Blocking, flooding or restarting an O-RAN component causing a denial of service,\\n• Flooding of network equipment, causing a denial of service,\\n• Etc.</td>\n",
       "      <td>A CAPEC with the title Forceful Browsing. The description of this CAPEC is: An attacker employs forceful browsing (direct URL entry) to access portions of a website that are otherwise unreachable. Usually, a front controller or similar design pattern is employed to protect access to portions of a web application. Forceful browsing enables an attacker to access information, perform privileged operations and otherwise reach sections of the web application that have been improperly protected.. The Domain of this is: Software</td>\n",
       "    </tr>\n",
       "    <tr>\n",
       "      <th>3</th>\n",
       "      <td>T-O-RAN-04</td>\n",
       "      <td>enterprise-attack</td>\n",
       "      <td>An attacker attempts to jam the airlink signal through IoT devices</td>\n",
       "      <td>CAPEC-87</td>\n",
       "      <td>0.267341</td>\n",
       "      <td>A Threat with the title An attacker attempts to jam the airlink signal through IoT devices and the descriptionDDoS attacks on O-RAN systems: The 5G evolution means billions of things, collectively referred to as IoT, will be using the 5G O-RAN. Thus, IoT could increase the risk of O-RAN resource overload by way of DDoS attacks. Attackers create a botnet army by infecting many (millions/billions) IoT devices with a “remote-reboot” malware. Attackers instruct the malware to reboot all devices in a specific or targeted 5G coverage area at the same time.</td>\n",
       "      <td>A CAPEC with the title Forceful Browsing. The description of this CAPEC is: An attacker employs forceful browsing (direct URL entry) to access portions of a website that are otherwise unreachable. Usually, a front controller or similar design pattern is employed to protect access to portions of a web application. Forceful browsing enables an attacker to access information, perform privileged operations and otherwise reach sections of the web application that have been improperly protected.. The Domain of this is: Software</td>\n",
       "    </tr>\n",
       "    <tr>\n",
       "      <th>4</th>\n",
       "      <td>T-O-RAN-05</td>\n",
       "      <td>enterprise-attack</td>\n",
       "      <td>An attacker penetrates and compromises the O-RAN system through the open O-RAN’s Fronthaul, O1, O2, A1, and E2</td>\n",
       "      <td>CAPEC-87</td>\n",
       "      <td>0.373829</td>\n",
       "      <td>A Threat with the title An attacker penetrates and compromises the O-RAN system through the open O-RAN’s Fronthaul, O1, O2, A1, and E2 and the descriptionO-RAN’s Fronthaul, O1, O2, A1, and E2 management interfaces are the new open interfaces that allow software programmability of RAN. These interfaces may not be secured to industry best practices.\\nO-RAN components might be vulnerable if: \\n• Improper or missing authentication and authorization processes,\\n• Improper or missing ciphering and integrity checks of sensitive data exchanged over O-RAN interfaces,\\n• Improper or missing replay protection of sensitive data exchanged over O-RAN interfaces,\\n• Improper prevention of key reuse,\\n• Improper implementation,\\n• Improperly validate inputs, respond to error conditions in both the submitted data as well as out of sequence protocol steps.\\nAn attacker could, in such case, cause denial-of-service, data tampering or information disclosure, etc.\\nNOTE: O-RAN interfaces allow use of TLS or SSH. Industry best practices mandate the use of TLS (v1.2 or higher) or SSH certificate-based authentication. An implementation that implements TLS version lower than 1.2 or a SSH password authentication, may become the key source of vulnerability that a malicious code will exploit to compromise the O-RAN system.</td>\n",
       "      <td>A CAPEC with the title Forceful Browsing. The description of this CAPEC is: An attacker employs forceful browsing (direct URL entry) to access portions of a website that are otherwise unreachable. Usually, a front controller or similar design pattern is employed to protect access to portions of a web application. Forceful browsing enables an attacker to access information, perform privileged operations and otherwise reach sections of the web application that have been improperly protected.. The Domain of this is: Software</td>\n",
       "    </tr>\n",
       "    <tr>\n",
       "      <th>5</th>\n",
       "      <td>T-O-RAN-06</td>\n",
       "      <td>enterprise-attack</td>\n",
       "      <td>An attacker exploits insufficient/improper mechanisms for authentication and authorization to compromise O-RAN components</td>\n",
       "      <td>CAPEC-87</td>\n",
       "      <td>0.327463</td>\n",
       "      <td>A Threat with the title An attacker exploits insufficient/improper mechanisms for authentication and authorization to compromise O-RAN components and the descriptionO-RAN management and orchestration should not be used without appropriate authentication and authorization and authorization checks. \\nO-RAN components might be vulnerable if: \\n• Unauthenticated access to O-RAN functions,\\n• Improper authentication mechanisms,\\n• Use of Predefined/ default accounts,\\n• Weak or missing password policy,\\n• Lack of mutual authentication to O-RAN components and interfaces,\\n• Failure to block consecutive failed login attempts,\\n• Improper authorization and access control policy.\\nAn attacker could, in such case, either inject malwares and/or manipulate existing software, harm the O-RAN components, create a performance issue by manipulation of parameters, or reconfigure the O-RAN components and disable the security features with the purpose of eavesdropping or wiretapping on various CUS &amp; M planes, reaching northbound systems, attack broader network to cause denial-of-service, steal unprotected private keys, certificates, hash values, or other type of breaches.</td>\n",
       "      <td>A CAPEC with the title Forceful Browsing. The description of this CAPEC is: An attacker employs forceful browsing (direct URL entry) to access portions of a website that are otherwise unreachable. Usually, a front controller or similar design pattern is employed to protect access to portions of a web application. Forceful browsing enables an attacker to access information, perform privileged operations and otherwise reach sections of the web application that have been improperly protected.. The Domain of this is: Software</td>\n",
       "    </tr>\n",
       "  </tbody>\n",
       "</table>\n",
       "</div>"
      ],
      "text/plain": [
       "         Name             Domain  \\\n",
       "0  T-O-RAN-01  enterprise-attack   \n",
       "1  T-O-RAN-02  enterprise-attack   \n",
       "2  T-O-RAN-03  enterprise-attack   \n",
       "3  T-O-RAN-04  enterprise-attack   \n",
       "4  T-O-RAN-05  enterprise-attack   \n",
       "5  T-O-RAN-06  enterprise-attack   \n",
       "\n",
       "                                                                                                                 Description  \\\n",
       "0                                              An attacker exploits insecure designs or lack of adaption in O-RAN components   \n",
       "1                                                   An attacker exploits misconfigured or poorly configured O-RAN components   \n",
       "2                                                              Attacks from the internet to penetrate O-RAN network boundary   \n",
       "3                                                         An attacker attempts to jam the airlink signal through IoT devices   \n",
       "4             An attacker penetrates and compromises the O-RAN system through the open O-RAN’s Fronthaul, O1, O2, A1, and E2   \n",
       "5  An attacker exploits insufficient/improper mechanisms for authentication and authorization to compromise O-RAN components   \n",
       "\n",
       "   CAPEC ID  Similarity  \\\n",
       "0  CAPEC-87    0.246462   \n",
       "1  CAPEC-87    0.270846   \n",
       "2  CAPEC-87    0.391938   \n",
       "3  CAPEC-87    0.267341   \n",
       "4  CAPEC-87    0.373829   \n",
       "5  CAPEC-87    0.327463   \n",
       "\n",
       "                                                                                                                                                                                                                                                                                                                                                                                                                                                                                                                                                                                                                                                                                                                                                                                                                                                                                                                                                                                                                                                                                                                                                                                                                                                                                                                                                                                                             summary_th_df  \\\n",
       "0  A Threat with the title An attacker exploits insecure designs or lack of adaption in O-RAN components and the descriptionUnauthenticated/unauthorized access to O-RAN components could possibly be achieved via the different O-RAN interfaces, depending upon the design of the hardware-software O-RAN system and how different functions are segregated within the O-RAN system. \\nO-RAN components might be vulnerable if: \\n• Outdated component from the lack of update or patch management,\\n• Poorly design architecture,\\n• Missing appropriate security hardening,\\n• Unnecessary or insecure function/protocol/component.\\nAn attacker could, in such case, either inject malwares and/or manipulate existing software, harm the O-RAN components, create a performance issue by manipulation of parameters, or reconfigure the O-RAN components and disable the security features with the purpose of eavesdropping or wiretapping on various CUS & M planes, reaching northbound systems, attack broader network to cause denial-of-service, steal unprotected private keys, certificates, hash values, or other type of breaches.\\nIn addition, O-RAN components could be software providing network functions, so they are likely to be vulnerable to software flaws: it could be possible to bypass firewall restrictions or to take advantage of a buffer overflow to execute arbitrary commands, etc.   \n",
       "1                                                                                                                                                  A Threat with the title An attacker exploits misconfigured or poorly configured O-RAN components and the descriptionUnauthenticated/unauthorized access to O-RAN components could possibly be achieved via the different O-RAN interfaces, depending upon the configuration of the hardware-software O-RAN system. \\nO-RAN components might be vulnerable if: \\n• Errors from the lack of configuration change management,\\n• Misconfigured or poorly configured O-RAN components,\\n• Improperly configured permissions,\\n• Unnecessary features are enabled (e.g. unnecessary ports, services, accounts, or privileges),\\n• Default accounts and their passwords still enabled and unchanged,\\n• Security features are disabled or not configured securely.\\nAn attacker could, in such case, either inject malwares and/or manipulate existing software, harm the O-RAN components, create a performance issue by manipulation of parameters, or reconfigure the O-RAN components and disable the security features with the purpose of eavesdropping or wiretapping on various CUS & M planes, reaching northbound systems, attack broader network to cause denial-of-service, steal unprotected private keys, certificates, hash values, or other type of breaches.   \n",
       "2                                                                                                                                                                                                                                                                                                                                                                                                                   A Threat with the title Attacks from the internet to penetrate O-RAN network boundary and the descriptionWeb servers serving O-RAN functional and management services should provide adequate protection. \\nAn attacker that have access to the uncontrolled O-RAN network could:\\n• Bypass the information flow control policy implemented by the firewall,\\n• And/or attack O-RAN components in the trusted networks by taking advantage of particularities and errors in the design and implementation of the network protocols (IP, TCP, UDP, application protocols),\\n• Use of incorrect or exceeded TCP sequence numbers,\\n• Perform brute force attacks on FTP passwords,\\n• Use of improper HTTP user sessions,\\n• Etc.\\nThe effects of such attacks may include:\\n• An intrusion, meaning unauthorized access to O-RAN components,\\n• Blocking, flooding or restarting an O-RAN component causing a denial of service,\\n• Flooding of network equipment, causing a denial of service,\\n• Etc.   \n",
       "3                                                                                                                                                                                                                                                                                                                                                                                                                                                                                                                                                                                                                                                                                                                                                                                                                                             A Threat with the title An attacker attempts to jam the airlink signal through IoT devices and the descriptionDDoS attacks on O-RAN systems: The 5G evolution means billions of things, collectively referred to as IoT, will be using the 5G O-RAN. Thus, IoT could increase the risk of O-RAN resource overload by way of DDoS attacks. Attackers create a botnet army by infecting many (millions/billions) IoT devices with a “remote-reboot” malware. Attackers instruct the malware to reboot all devices in a specific or targeted 5G coverage area at the same time.   \n",
       "4                                                      A Threat with the title An attacker penetrates and compromises the O-RAN system through the open O-RAN’s Fronthaul, O1, O2, A1, and E2 and the descriptionO-RAN’s Fronthaul, O1, O2, A1, and E2 management interfaces are the new open interfaces that allow software programmability of RAN. These interfaces may not be secured to industry best practices.\\nO-RAN components might be vulnerable if: \\n• Improper or missing authentication and authorization processes,\\n• Improper or missing ciphering and integrity checks of sensitive data exchanged over O-RAN interfaces,\\n• Improper or missing replay protection of sensitive data exchanged over O-RAN interfaces,\\n• Improper prevention of key reuse,\\n• Improper implementation,\\n• Improperly validate inputs, respond to error conditions in both the submitted data as well as out of sequence protocol steps.\\nAn attacker could, in such case, cause denial-of-service, data tampering or information disclosure, etc.\\nNOTE: O-RAN interfaces allow use of TLS or SSH. Industry best practices mandate the use of TLS (v1.2 or higher) or SSH certificate-based authentication. An implementation that implements TLS version lower than 1.2 or a SSH password authentication, may become the key source of vulnerability that a malicious code will exploit to compromise the O-RAN system.   \n",
       "5                                                                                                                                                                                                       A Threat with the title An attacker exploits insufficient/improper mechanisms for authentication and authorization to compromise O-RAN components and the descriptionO-RAN management and orchestration should not be used without appropriate authentication and authorization and authorization checks. \\nO-RAN components might be vulnerable if: \\n• Unauthenticated access to O-RAN functions,\\n• Improper authentication mechanisms,\\n• Use of Predefined/ default accounts,\\n• Weak or missing password policy,\\n• Lack of mutual authentication to O-RAN components and interfaces,\\n• Failure to block consecutive failed login attempts,\\n• Improper authorization and access control policy.\\nAn attacker could, in such case, either inject malwares and/or manipulate existing software, harm the O-RAN components, create a performance issue by manipulation of parameters, or reconfigure the O-RAN components and disable the security features with the purpose of eavesdropping or wiretapping on various CUS & M planes, reaching northbound systems, attack broader network to cause denial-of-service, steal unprotected private keys, certificates, hash values, or other type of breaches.   \n",
       "\n",
       "                                                                                                                                                                                                                                                                                                                                                                                                                                                                                                                                     summary_ca_df  \n",
       "0  A CAPEC with the title Forceful Browsing. The description of this CAPEC is: An attacker employs forceful browsing (direct URL entry) to access portions of a website that are otherwise unreachable. Usually, a front controller or similar design pattern is employed to protect access to portions of a web application. Forceful browsing enables an attacker to access information, perform privileged operations and otherwise reach sections of the web application that have been improperly protected.. The Domain of this is: Software  \n",
       "1  A CAPEC with the title Forceful Browsing. The description of this CAPEC is: An attacker employs forceful browsing (direct URL entry) to access portions of a website that are otherwise unreachable. Usually, a front controller or similar design pattern is employed to protect access to portions of a web application. Forceful browsing enables an attacker to access information, perform privileged operations and otherwise reach sections of the web application that have been improperly protected.. The Domain of this is: Software  \n",
       "2  A CAPEC with the title Forceful Browsing. The description of this CAPEC is: An attacker employs forceful browsing (direct URL entry) to access portions of a website that are otherwise unreachable. Usually, a front controller or similar design pattern is employed to protect access to portions of a web application. Forceful browsing enables an attacker to access information, perform privileged operations and otherwise reach sections of the web application that have been improperly protected.. The Domain of this is: Software  \n",
       "3  A CAPEC with the title Forceful Browsing. The description of this CAPEC is: An attacker employs forceful browsing (direct URL entry) to access portions of a website that are otherwise unreachable. Usually, a front controller or similar design pattern is employed to protect access to portions of a web application. Forceful browsing enables an attacker to access information, perform privileged operations and otherwise reach sections of the web application that have been improperly protected.. The Domain of this is: Software  \n",
       "4  A CAPEC with the title Forceful Browsing. The description of this CAPEC is: An attacker employs forceful browsing (direct URL entry) to access portions of a website that are otherwise unreachable. Usually, a front controller or similar design pattern is employed to protect access to portions of a web application. Forceful browsing enables an attacker to access information, perform privileged operations and otherwise reach sections of the web application that have been improperly protected.. The Domain of this is: Software  \n",
       "5  A CAPEC with the title Forceful Browsing. The description of this CAPEC is: An attacker employs forceful browsing (direct URL entry) to access portions of a website that are otherwise unreachable. Usually, a front controller or similar design pattern is employed to protect access to portions of a web application. Forceful browsing enables an attacker to access information, perform privileged operations and otherwise reach sections of the web application that have been improperly protected.. The Domain of this is: Software  "
      ]
     },
     "execution_count": 56,
     "metadata": {},
     "output_type": "execute_result"
    }
   ],
   "source": [
    "threat2capec_mapping_df.loc[0:5]"
   ]
  },
  {
   "cell_type": "code",
   "execution_count": 57,
   "id": "b057f01e",
   "metadata": {},
   "outputs": [
    {
     "name": "stdout",
     "output_type": "stream",
     "text": [
      "Top CAPEC for Each Threat:\n",
      "\n",
      "Threat: T-A1-01\n",
      "  - CAPEC ID: CAPEC-94, Similarity: 0.5281, Description: Untrusted peering between Non-RT-RIC and Near-RT-RIC\n",
      "\n",
      "Threat: T-A1-02\n",
      "  - CAPEC ID: CAPEC-387, Similarity: 0.6099, Description: Malicious function or application monitors messaging across A1 interface\n",
      "\n",
      "Threat: T-A1-03\n",
      "  - CAPEC ID: CAPEC-387, Similarity: 0.5789, Description: Malicious function or application modifies messaging across A1 interface\n",
      "\n",
      "Threat: T-AAL-01\n",
      "  - CAPEC ID: CAPEC-440, Similarity: 0.5029, Description: Attacker exploits insecure API to gain access to hardware accelerator resources\n",
      "\n",
      "Threat: T-AAL-02\n",
      "  - CAPEC ID: CAPEC-469, Similarity: 0.4663, Description: Internal Overload DoS attack targeting AAL services\n",
      "\n",
      "Threat: T-AAL-03\n",
      "  - CAPEC ID: CAPEC-548, Similarity: 0.4826, Description: Fail to clear resources\n",
      "\n",
      "Threat: T-AAL-04\n",
      "  - CAPEC ID: CAPEC-401, Similarity: 0.4988, Description: HAM compromise\n",
      "\n",
      "Threat: T-AAL-05\n",
      "  - CAPEC ID: CAPEC-456, Similarity: 0.6088, Description: Malicious memory accesses\n",
      "\n",
      "Threat: T-AAL-06\n",
      "  - CAPEC ID: CAPEC-638, Similarity: 0.6232, Description: Firmware attacks\n",
      "\n",
      "Threat: T-ADMIN-01\n",
      "  - CAPEC ID: CAPEC-583, Similarity: 0.4209, Description: Denial of service against NFO/FOCOM\n",
      "\n",
      "Threat: T-ADMIN-02\n",
      "  - CAPEC ID: CAPEC-122, Similarity: 0.5220, Description: Abuse a O-Cloud administration service\n",
      "\n",
      "Threat: T-AppLCM-01\n",
      "  - CAPEC ID: CAPEC-669, Similarity: 0.5963, Description: Compromise of App/VNF/CNF update package integrity during onboarding\n",
      "\n",
      "Threat: T-AppLCM-02\n",
      "  - CAPEC ID: CAPEC-23, Similarity: 0.5574, Description: Compromise of App/VNF/CNF update image integrity during instantiation\n",
      "\n",
      "Threat: T-AppLCM-03\n",
      "  - CAPEC ID: CAPEC-444, Similarity: 0.4457, Description: Downgrade attack to vulnerable application version\n",
      "\n",
      "Threat: T-AppLCM-04\n",
      "  - CAPEC ID: CAPEC-180, Similarity: 0.5421, Description: Attacker exploits missing or improperly defined elements of application’s SecurityDescriptor\n",
      "\n",
      "Threat: T-AppLCM-05\n",
      "  - CAPEC ID: CAPEC-502, Similarity: 0.5442, Description: Malicious actor modifies application’s SecurityDescriptor\n",
      "\n",
      "Threat: T-AppLCM-06\n",
      "  - CAPEC ID: CAPEC-271, Similarity: 0.5144, Description: Improper decommissioning of application \n",
      "\n",
      "Threat: T-AppLCM-07\n",
      "  - CAPEC ID: CAPEC-546, Similarity: 0.6154, Description: Improper deletion of application sensitive data\n",
      "\n",
      "Threat: T-CPLANE-01\n",
      "  - CAPEC ID: CAPEC-473, Similarity: 0.5538, Description: Spoofing of DL C-plane messages\n",
      "\n",
      "Threat: T-CPLANE-02\n",
      "  - CAPEC ID: CAPEC-473, Similarity: 0.5349, Description: Spoofing of UL C-plane messages\n",
      "\n",
      "Threat: T-E2-01\n",
      "  - CAPEC ID: CAPEC-94, Similarity: 0.4994, Description: Untrusted Near-RT-RIC and E2 Nodes\n",
      "\n",
      "Threat: T-E2-02\n",
      "  - CAPEC ID: CAPEC-12, Similarity: 0.5344, Description: Malicious actor monitors messaging across E2 interface\n",
      "\n",
      "Threat: T-E3-03\n",
      "  - CAPEC ID: CAPEC-12, Similarity: 0.5092, Description: Malicious actor modifies messaging across E2 interface\n",
      "\n",
      "Threat: T-FRHAUL-01\n",
      "  - CAPEC ID: CAPEC-700, Similarity: 0.4773, Description: An attacker penetrates O-DU and beyond through O-RU or the Fronthaul interface\n",
      "\n",
      "Threat: T-FRHAUL-02\n",
      "  - CAPEC ID: CAPEC-700, Similarity: 0.4611, Description: Unauthorized access to Open Front Haul Ethernet L1 physical layer interface(s)\n",
      "\n",
      "Threat: T-GEN-01\n",
      "  - CAPEC ID: CAPEC-480, Similarity: 0.5419, Description: Software flaw attack\n",
      "\n",
      "Threat: T-GEN-02\n",
      "  - CAPEC ID: CAPEC-510, Similarity: 0.6000, Description: Malicious access to exposed services using valid accounts\n",
      "\n",
      "Threat: T-GEN-03\n",
      "  - CAPEC ID: CAPEC-480, Similarity: 0.5078, Description: Untrust binding between the different O-Cloud layers\n",
      "\n",
      "Threat: T-GEN-04\n",
      "  - CAPEC ID: CAPEC-115, Similarity: 0.4462, Description: Lack of Authentication & Authorization in interfaces between O-Cloud components\n",
      "\n",
      "Threat: T-GEN-05\n",
      "  - CAPEC ID: CAPEC-568, Similarity: 0.5195, Description: Unsecured credentials and keys\n",
      "\n",
      "Threat: T-HW-01\n",
      "  - CAPEC ID: CAPEC-480, Similarity: 0.4657, Description: Cross VM/Container side channel attacks\n",
      "\n",
      "Threat: T-HW-02\n",
      "  - CAPEC ID: CAPEC-480, Similarity: 0.5651, Description: MitM attacks on the interface between virtualization layer and hardware\n",
      "\n",
      "Threat: T-IMG-01\n",
      "  - CAPEC ID: CAPEC-480, Similarity: 0.5602, Description: VM/Container images tampering\n",
      "\n",
      "Threat: T-IMG-02\n",
      "  - CAPEC ID: CAPEC-533, Similarity: 0.4804, Description: Insecure channels with images repository\n",
      "\n",
      "Threat: T-IMG-03\n",
      "  - CAPEC ID: CAPEC-480, Similarity: 0.4461, Description: Secrets disclosure in VM/Container images\n",
      "\n",
      "Threat: T-IMG-04\n",
      "  - CAPEC ID: CAPEC-480, Similarity: 0.4159, Description: Build image on VL\n",
      "\n",
      "Threat: T-ML-01\n",
      "  - CAPEC ID: CAPEC-146, Similarity: 0.5173, Description: Poisoning the ML training data (Data poisoning attacks)\n",
      "\n",
      "Threat: T-ML-02\n",
      "  - CAPEC ID: CAPEC-153, Similarity: 0.4885, Description: Altering a machine learning model (System manipulation and compromise of ML data confidentiality ...\n",
      "\n",
      "Threat: T-ML-03\n",
      "  - CAPEC ID: CAPEC-415, Similarity: 0.4178, Description: Transfer learning attack\n",
      "\n",
      "Threat: T-MPLANE-01\n",
      "  - CAPEC ID: CAPEC-622, Similarity: 0.5112, Description: An attacker attempts to intercept the Fronthaul (MITM) over M Plane\n",
      "\n",
      "Threat: T-NEAR-RT-01\n",
      "  - CAPEC ID: CAPEC-388, Similarity: 0.5025, Description: Malicious Apps can exploit UE identification, track UE location and change UE priority\n",
      "\n",
      "Threat: T-NEAR-RT-02\n",
      "  - CAPEC ID: CAPEC-523, Similarity: 0.4649, Description: Risk of deployment of a malicious xApp on Near-RT RIC\n",
      "\n",
      "Threat: T-NEAR-RT-03\n",
      "  - CAPEC ID: CAPEC-388, Similarity: 0.5262, Description: Attackers exploit non authenticated, weakly or incorrectly authenticated Near-RT RIC APIs\n",
      "\n",
      "Threat: T-NEAR-RT-04\n",
      "  - CAPEC ID: CAPEC-388, Similarity: 0.5686, Description: Attackers exploit non authorized Near-RT RIC APIs to access to resources and services which they ...\n",
      "\n",
      "Threat: T-NEAR-RT-05\n",
      "  - CAPEC ID: CAPEC-21, Similarity: 0.5510, Description: Attackers exploit non uniquely identified xApps using a trusted xAppID to access to resources and...\n",
      "\n",
      "Threat: T-NONRTRIC-01\n",
      "  - CAPEC ID: CAPEC-180, Similarity: 0.5533, Description: An attacker gains access to the Non-RT RIC through the SMO to cause a denial of service or degrad...\n",
      "\n",
      "Threat: T-NONRTRIC-02\n",
      "  - CAPEC ID: CAPEC-272, Similarity: 0.4917, Description: An attacker gains access to the Non-RT RIC through the SMO for UE tracking\n",
      "\n",
      "Threat: T-NONRTRIC-03\n",
      "  - CAPEC ID: CAPEC-180, Similarity: 0.5328, Description: An attacker gains access to the Non-RT RIC through the SMO to cause Data Corruption/Modification\n",
      "\n",
      "Threat: T-NONRTRIC-04\n",
      "  - CAPEC ID: CAPEC-665, Similarity: 0.4906, Description: An attacker exploits non uniquely identified rApp instances using a trusted rAppID to access R1 s...\n",
      "\n",
      "Threat: T-O-CLOUD-ID-01\n",
      "  - CAPEC ID: CAPEC-546, Similarity: 0.4295, Description: ID reuse in O-Cloud's object lifecycle\n",
      "\n",
      "Threat: T-O-CLOUD-ID-02\n",
      "  - CAPEC ID: CAPEC-534, Similarity: 0.3885, Description: Node redundancy in O-Cloud deployments\n",
      "\n",
      "Threat: T-O-CLOUD-ID-03\n",
      "  - CAPEC ID: CAPEC-221, Similarity: 0.4530, Description: O-Cloud ID mismanagement\n",
      "\n",
      "Threat: T-O-RAN-01\n",
      "  - CAPEC ID: CAPEC-401, Similarity: 0.5028, Description: An attacker exploits insecure designs or lack of adaption in O-RAN components\n",
      "\n",
      "Threat: T-O-RAN-02\n",
      "  - CAPEC ID: CAPEC-401, Similarity: 0.5122, Description: An attacker exploits misconfigured or poorly configured O-RAN components\n",
      "\n",
      "Threat: T-O-RAN-03\n",
      "  - CAPEC ID: CAPEC-482, Similarity: 0.5065, Description: Attacks from the internet to penetrate O-RAN network boundary\n",
      "\n",
      "Threat: T-O-RAN-04\n",
      "  - CAPEC ID: CAPEC-604, Similarity: 0.5597, Description: An attacker attempts to jam the airlink signal through IoT devices\n",
      "\n",
      "Threat: T-O-RAN-05\n",
      "  - CAPEC ID: CAPEC-88, Similarity: 0.5189, Description: An attacker penetrates and compromises the O-RAN system through the open O-RAN’s Fronthaul, O1, O...\n",
      "\n",
      "Threat: T-O-RAN-06\n",
      "  - CAPEC ID: CAPEC-114, Similarity: 0.5898, Description: An attacker exploits insufficient/improper mechanisms for authentication and authorization to com...\n",
      "\n",
      "Threat: T-O-RAN-07\n",
      "  - CAPEC ID: CAPEC-268, Similarity: 0.6675, Description: An attacker compromises O-RAN monitoring mechanisms and log files integrity and availability\n",
      "\n",
      "Threat: T-O-RAN-08\n",
      "  - CAPEC ID: CAPEC-470, Similarity: 0.5152, Description: An attacker compromises O-RAN data integrity, confidentiality and traceability\n",
      "\n",
      "Threat: T-O-RAN-09\n",
      "  - CAPEC ID: CAPEC-440, Similarity: 0.5465, Description: An attacker compromises O-RAN components integrity and availability\n",
      "\n",
      "Threat: T-O2-01\n",
      "  - CAPEC ID: CAPEC-480, Similarity: 0.4782, Description: MitM attacks on O2 interface between O-Cloud and SMO\n",
      "\n",
      "Threat: T-OCAPI-01\n",
      "  - CAPEC ID: CAPEC-480, Similarity: 0.5004, Description: MitM attacks on O-Cloud interface between VNFs/CNFs and the virtualization layer\n",
      "\n",
      "Threat: T-OPENSRC-01\n",
      "  - CAPEC ID: CAPEC-538, Similarity: 0.6523, Description: Developers use SW components with known vulnerabilities and untrusted libraries that can be explo...\n",
      "\n",
      "Threat: T-OPENSRC-02\n",
      "  - CAPEC ID: CAPEC-538, Similarity: 0.6199, Description: A trusted developer intentionally inserts a backdoor into an open source code O-RAN component\n",
      "\n",
      "Threat: T-ORU-01\n",
      "  - CAPEC ID: CAPEC-617, Similarity: 0.5952, Description: An attacker stands up a false base station attack by attacking an O-RU\n",
      "\n",
      "Threat: T-PHYS-01\n",
      "  - CAPEC ID: CAPEC-180, Similarity: 0.5443, Description: An intruder into a site gains physical access to O-RAN components to cause damage or access sensi...\n",
      "\n",
      "Threat: T-PHYS-02\n",
      "  - CAPEC ID: CAPEC-161, Similarity: 0.4758, Description: An intruder into the exchange over the Fronthaul cable network attempts to gain electronic access...\n",
      "\n",
      "Threat: T-PNF-01\n",
      "  - CAPEC ID: CAPEC-594, Similarity: 0.4189, Description: An attacker compromises a PNF to launch reverse attacks and other attacks against VNFs/CNFs\n",
      "\n",
      "Threat: T-R1-01\n",
      "  - CAPEC ID: CAPEC-502, Similarity: 0.5132, Description: A malicious actor gains unauthorized access to R1 services\n",
      "\n",
      "Threat: T-R1-02\n",
      "  - CAPEC ID: CAPEC-12, Similarity: 0.5094, Description: Attacker modifies Service Heartbeat message to cause Denial of Service\n",
      "\n",
      "Threat: T-R1-03\n",
      "  - CAPEC ID: CAPEC-114, Similarity: 0.5409, Description: Malicious actor bypasses authentication to Request Data \n",
      "\n",
      "Threat: T-R1-04\n",
      "  - CAPEC ID: CAPEC-502, Similarity: 0.5448, Description: Malicious actor bypasses authorization to Discover Data \n",
      "\n",
      "Threat: T-R1-05\n",
      "  - CAPEC ID: CAPEC-173, Similarity: 0.6290, Description: A malicious actor gains unauthorized access to data\n",
      "\n",
      "Threat: T-R1-06\n",
      "  - CAPEC ID: CAPEC-389, Similarity: 0.5404, Description: Malicious actor modifies a Data Request\n",
      "\n",
      "Threat: T-R1-07\n",
      "  - CAPEC ID: CAPEC-389, Similarity: 0.5368, Description: Malicious actor compromises Data Delivery to the Data Consumer\n",
      "\n",
      "Threat: T-RADIO-01\n",
      "  - CAPEC ID: CAPEC-601, Similarity: 0.6549, Description: Disruption through radio jamming, sniffing and spoofing\n",
      "\n",
      "Threat: T-RADIO-02\n",
      "  - CAPEC ID: CAPEC-601, Similarity: 0.5660, Description: DoS attacks on cognitive radio networks\n",
      "\n",
      "Threat: T-SMO-01\n",
      "  - CAPEC ID: CAPEC-114, Similarity: 0.5511, Description: External attacker exploits authentication weakness on SMO\n",
      "\n",
      "Threat: T-SMO-02\n",
      "  - CAPEC ID: CAPEC-180, Similarity: 0.4848, Description: External attacker exploits authentication weakness on SMO\n",
      "\n",
      "Threat: T-SMO-03\n",
      "  - CAPEC ID: CAPEC-469, Similarity: 0.5205, Description: External Overload DoS attack targeted at SMO\n",
      "\n",
      "Threat: T-SMO-04\n",
      "  - CAPEC ID: CAPEC-114, Similarity: 0.5241, Description: Internal attacker exploits authentication weakness on a SMO function\n",
      "\n",
      "Threat: T-SMO-05\n",
      "  - CAPEC ID: CAPEC-180, Similarity: 0.4983, Description: Internal attacker exploits authorization weakness on a SMO function\n",
      "\n",
      "Threat: T-SMO-06\n",
      "  - CAPEC ID: CAPEC-100, Similarity: 0.5168, Description: Internal Overload DoS attack targeted at SMO functions\n",
      "\n",
      "Threat: T-SMO-07\n",
      "  - CAPEC ID: CAPEC-456, Similarity: 0.5018, Description: Internal DoS attack disables internal SMO function(s) or process(es)\n",
      "\n",
      "Threat: T-SMO-08\n",
      "  - CAPEC ID: CAPEC-388, Similarity: 0.5912, Description: Attacker exploits insecure API to gain access to SMO\n",
      "\n",
      "Threat: T-SMO-09\n",
      "  - CAPEC ID: CAPEC-387, Similarity: 0.5365, Description: Sensitive data in transit is exposed to an internal attacker\n",
      "\n",
      "Threat: T-SMO-10\n",
      "  - CAPEC ID: CAPEC-122, Similarity: 0.5135, Description: Sensitive data at rest is exposed to an internal attacker\n",
      "\n",
      "Threat: T-SMO-11\n",
      "  - CAPEC ID: CAPEC-456, Similarity: 0.4994, Description: AI/ML poisoning by internal attacker\n",
      "\n",
      "Threat: T-SMO-12\n",
      "  - CAPEC ID: CAPEC-221, Similarity: 0.5132, Description: AI/ML exposure on external entity\n",
      "\n",
      "Threat: T-SMO-13\n",
      "  - CAPEC ID: CAPEC-268, Similarity: 0.6297, Description: Malicious actor views local logs\n",
      "\n",
      "Threat: T-SMO-14\n",
      "  - CAPEC ID: CAPEC-268, Similarity: 0.5828, Description: Malicious actor modifies local log entries\n",
      "\n",
      "Threat: T-SMO-15\n",
      "  - CAPEC ID: CAPEC-268, Similarity: 0.5835, Description: Malicious actor deletes local logs\n",
      "\n",
      "Threat: T-SMO-16\n",
      "  - CAPEC ID: CAPEC-268, Similarity: 0.5932, Description: Malicious actor intercepts exports of local logs\n",
      "\n",
      "Threat: T-SMO-17\n",
      "  - CAPEC ID: CAPEC-268, Similarity: 0.6204, Description: Malicious external actor gains unauthorized access to logs\n",
      "\n",
      "Threat: T-SMO-18\n",
      "  - CAPEC ID: CAPEC-268, Similarity: 0.5912, Description: Malicious internal actor gains authorized access to logs\n",
      "\n",
      "Threat: T-SMO-19\n",
      "  - CAPEC ID: CAPEC-157, Similarity: 0.4940, Description: Internal attacker exploits O2 interface to view data in transit between SMO and O-Cloud\n",
      "\n",
      "Threat: T-SMO-20\n",
      "  - CAPEC ID: CAPEC-470, Similarity: 0.4867, Description: Internal attacker exploits O2 interface to modify data in transit between SMO and O-Cloud\n",
      "\n",
      "Threat: T-SMO-21\n",
      "  - CAPEC ID: CAPEC-113, Similarity: 0.5189, Description: Internal attacker uses O2 interface via SMO to exploit API vulnerability to gain access to O-Clou...\n",
      "\n",
      "Threat: T-SMO-22\n",
      "  - CAPEC ID: CAPEC-125, Similarity: 0.5531, Description: Internal attacker floods O2 interface via SMO to cause DDoS on O-Cloud infrastructure\n",
      "\n",
      "Threat: T-SMO-23\n",
      "  - CAPEC ID: CAPEC-113, Similarity: 0.5010, Description: External attacker uses O2 interface via O-Cloud to exploit API vulnerability to gain access to SMO\n",
      "\n",
      "Threat: T-SMO-24\n",
      "  - CAPEC ID: CAPEC-125, Similarity: 0.5504, Description: External attacker floods O2 interface via O-Cloud to cause DDoS on SMO\n",
      "\n",
      "Threat: T-SMO-25\n",
      "  - CAPEC ID: CAPEC-58, Similarity: 0.4740, Description: External attacker uses O2 interface via O-Cloud to gain authorized access to sensitive data-at-re...\n",
      "\n",
      "Threat: T-SMO-26\n",
      "  - CAPEC ID: CAPEC-113, Similarity: 0.5058, Description: External attacker exploits External interface to view data in transit between SMO and external se...\n",
      "\n",
      "Threat: T-SMO-27\n",
      "  - CAPEC ID: CAPEC-113, Similarity: 0.5399, Description: External attacker exploits External interface to modify data in transit between SMO and external ...\n",
      "\n",
      "Threat: T-SMO-28\n",
      "  - CAPEC ID: CAPEC-113, Similarity: 0.5379, Description: External attacker uses External interface to exploit API vulnerability to gain access to SMO\n",
      "\n",
      "Threat: T-SMO-29\n",
      "  - CAPEC ID: CAPEC-482, Similarity: 0.5764, Description: External attacker floods External interface to cause DDoS at SMO\n",
      "\n",
      "Threat: T-SMO-30\n",
      "  - CAPEC ID: CAPEC-113, Similarity: 0.4833, Description: External attacker uses External interface to gain access to sensitive data-at-rest at the SMO\n",
      "\n",
      "Threat: T-SMO-31\n",
      "  - CAPEC ID: CAPEC-221, Similarity: 0.5065, Description: External attacker poisons External AI/ML data to corrupt SMO\n",
      "\n",
      "Threat: T-SMO-32\n",
      "  - CAPEC ID: CAPEC-201, Similarity: 0.5175, Description: External attacker poisons External Enrichment Information data sources to corrupt SMO\n",
      "\n",
      "Threat: T-SPLANE-01\n",
      "  - CAPEC ID: CAPEC-469, Similarity: 0.5060, Description: DoS attack against a Master clock\n",
      "\n",
      "Threat: T-SPLANE-02\n",
      "  - CAPEC ID: CAPEC-195, Similarity: 0.5244, Description: Impersonation of a Master clock (Spoofing) within a PTP network with a fake ANNOUNCE message\n",
      "\n",
      "Threat: T-SPLANE-03\n",
      "  - CAPEC ID: CAPEC-482, Similarity: 0.4803, Description: A Rogue PTP Instance wanting to be a Grand Master\n",
      "\n",
      "Threat: T-SPLANE-04\n",
      "  - CAPEC ID: CAPEC-621, Similarity: 0.5182, Description: Selective interception and removal of PTP timing packets\n",
      "\n",
      "Threat: T-SPLANE-05\n",
      "  - CAPEC ID: CAPEC-621, Similarity: 0.5849, Description: Packet delay manipulation attack\n",
      "\n",
      "Threat: T-SharedORU-01\n",
      "  - CAPEC ID: CAPEC-480, Similarity: 0.4492, Description: O-DU Tenant accesses O-DU Host\n",
      "\n",
      "Threat: T-SharedORU-02\n",
      "  - CAPEC ID: CAPEC-480, Similarity: 0.4551, Description: O-DU Host accesses O-DU Tenant\n",
      "\n",
      "Threat: T-SharedORU-03\n",
      "  - CAPEC ID: CAPEC-546, Similarity: 0.4352, Description: O-DU Tenant accesses O-DU Tenant\n",
      "\n",
      "Threat: T-SharedORU-04\n",
      "  - CAPEC ID: CAPEC-114, Similarity: 0.4980, Description: Password Attack on OFH M-Plane\n",
      "\n",
      "Threat: T-SharedORU-05\n",
      "  - CAPEC ID: CAPEC-505, Similarity: 0.5507, Description: Untrusted peering to O-DU\n",
      "\n",
      "Threat: T-SharedORU-06\n",
      "  - CAPEC ID: CAPEC-593, Similarity: 0.5730, Description: Untrusted peering to the Shared O-RU\n",
      "\n",
      "Threat: T-SharedORU-07\n",
      "  - CAPEC ID: CAPEC-593, Similarity: 0.5991, Description: Untrusted peering to the SMO\n",
      "\n",
      "Threat: T-SharedORU-08\n",
      "  - CAPEC ID: CAPEC-114, Similarity: 0.4608, Description: SMO Tenant accesses SMO Host\n",
      "\n",
      "Threat: T-SharedORU-09\n",
      "  - CAPEC ID: CAPEC-439, Similarity: 0.4618, Description: SMO Host accesses SMO Tenant\n",
      "\n",
      "Threat: T-SharedORU-10\n",
      "  - CAPEC ID: CAPEC-480, Similarity: 0.4672, Description: O-DU Host accesses O-CU Tenant\n",
      "\n",
      "Threat: T-SharedORU-11\n",
      "  - CAPEC ID: CAPEC-480, Similarity: 0.4620, Description: O-DU Tenant accesses O-CU Host\n",
      "\n",
      "Threat: T-SharedORU-12\n",
      "  - CAPEC ID: CAPEC-122, Similarity: 0.4523, Description: O-DU Tenant accesses O-CU Tenant\n",
      "\n",
      "Threat: T-SharedORU-13\n",
      "  - CAPEC ID: CAPEC-439, Similarity: 0.4813, Description: SMO Host accesses O-CU Tenant\n",
      "\n",
      "Threat: T-SharedORU-14\n",
      "  - CAPEC ID: CAPEC-439, Similarity: 0.4748, Description: SMO Tenant accesses O-CU Host\n",
      "\n",
      "Threat: T-SharedORU-15\n",
      "  - CAPEC ID: CAPEC-300, Similarity: 0.4496, Description: Physical port access to Shared O-RU Host/Tenant\n",
      "\n",
      "Threat: T-SharedORU-16\n",
      "  - CAPEC ID: CAPEC-300, Similarity: 0.4698, Description: Physical port access to O-DU Host/Tenant\n",
      "\n",
      "Threat: T-SharedORU-17\n",
      "  - CAPEC ID: CAPEC-300, Similarity: 0.5044, Description: Physical port access to O-CU Host/Tenant\n",
      "\n",
      "Threat: T-SharedORU-18\n",
      "  - CAPEC ID: CAPEC-114, Similarity: 0.5764, Description: Malicious User Login Attempt to SMO Host/Tenant\n",
      "\n",
      "Threat: T-SharedORU-19\n",
      "  - CAPEC ID: CAPEC-114, Similarity: 0.6050, Description: Malicious User Login Attempt to O-CU Host/Tenant\n",
      "\n",
      "Threat: T-SharedORU-20\n",
      "  - CAPEC ID: CAPEC-114, Similarity: 0.5536, Description: Malicious User Login Attempt to O-DU Host/Tenant\n",
      "\n",
      "Threat: T-SharedORU-21\n",
      "  - CAPEC ID: CAPEC-114, Similarity: 0.5403, Description: Malicious User Login Attempt to Shared O-RU Host/Tenant\n",
      "\n",
      "Threat: T-SharedORU-22\n",
      "  - CAPEC ID: CAPEC-94, Similarity: 0.5038, Description: Unauthorized internal threat actor gains access to data in Shared O-RU\n",
      "\n",
      "Threat: T-SharedORU-23\n",
      "  - CAPEC ID: CAPEC-273, Similarity: 0.4909, Description: Unauthorized external threat actor gains access to data in Shared O-RU\n",
      "\n",
      "Threat: T-SharedORU-24\n",
      "  - CAPEC ID: CAPEC-221, Similarity: 0.5148, Description: Data exposure at Shared O-RU\n",
      "\n",
      "Threat: T-SharedORU-25\n",
      "  - CAPEC ID: CAPEC-562, Similarity: 0.4932, Description: Shared O-RU data exposure at SMO\n",
      "\n",
      "Threat: T-SharedORU-26\n",
      "  - CAPEC ID: CAPEC-221, Similarity: 0.4872, Description: Shared O-RU data exposure at O-DU\n",
      "\n",
      "Threat: T-SharedORU-27\n",
      "  - CAPEC ID: CAPEC-277, Similarity: 0.4905, Description: Exposed data in transit between Shared O-RU and O-DU Host/Tenant\n",
      "\n",
      "Threat: T-SharedORU-28\n",
      "  - CAPEC ID: CAPEC-277, Similarity: 0.4851, Description: Exposed data in transit between Shared O-RU and SMO Host/Tenant\n",
      "\n",
      "Threat: T-SharedORU-29\n",
      "  - CAPEC ID: CAPEC-12, Similarity: 0.5516, Description: Modify/Delete OFH C-Plane messages\n",
      "\n",
      "Threat: T-SharedORU-30\n",
      "  - CAPEC ID: CAPEC-593, Similarity: 0.4281, Description: Clock hijacking on OFH S-Plane\n",
      "\n",
      "Threat: T-SharedORU-31\n",
      "  - CAPEC ID: CAPEC-10, Similarity: 0.4324, Description: Parameter conflicts at Shared O-RU\n",
      "\n",
      "Threat: T-SharedORU-32\n",
      "  - CAPEC ID: CAPEC-594, Similarity: 0.4818, Description: Volumetric DDoS attack from O-DU targeting Shared O-RU\n",
      "\n",
      "Threat: T-SharedORU-33\n",
      "  - CAPEC ID: CAPEC-594, Similarity: 0.5190, Description: Volumetric DDoS attack from SMO targeting Shared O-RU\n",
      "\n",
      "Threat: T-SharedORU-34\n",
      "  - CAPEC ID: CAPEC-594, Similarity: 0.5137, Description: Volumetric DDoS attack targeting O-DU\n",
      "\n",
      "Threat: T-SharedORU-35\n",
      "  - CAPEC ID: CAPEC-697, Similarity: 0.5871, Description: Shared O-RU initialization hijacking by DHCP compromise\n",
      "\n",
      "Threat: T-SharedORU-36\n",
      "  - CAPEC ID: CAPEC-598, Similarity: 0.6241, Description: Shared O-RU M-plane hijacking by DNS compromise\n",
      "\n",
      "Threat: T-SharedORU-37\n",
      "  - CAPEC ID: CAPEC-180, Similarity: 0.5100, Description: Misconfiguration of MNO Host Role\n",
      "\n",
      "Threat: T-SharedORU-38\n",
      "  - CAPEC ID: CAPEC-240, Similarity: 0.5213, Description: Incorrect Assignment of Spectrum Resources\n",
      "\n",
      "Threat: T-SharedORU-39\n",
      "  - CAPEC ID: CAPEC-22, Similarity: 0.4800, Description: Chain of Trust in a Multi-Tenant Environment\n",
      "\n",
      "Threat: T-SharedORU-40\n",
      "  - CAPEC ID: CAPEC-122, Similarity: 0.5265, Description: Hijack of MNO Host Role\n",
      "\n",
      "Threat: T-SharedORU-41\n",
      "  - CAPEC ID: CAPEC-122, Similarity: 0.5066, Description: Not Released Host Role (Host Role resume)\n",
      "\n",
      "Threat: T-SharedORU-42\n",
      "  - CAPEC ID: CAPEC-122, Similarity: 0.5756, Description: Misuse of “sudo” privileges\n",
      "\n",
      "Threat: T-SharedORU-43\n",
      "  - CAPEC ID: CAPEC-180, Similarity: 0.5337, Description: Eavesdropping of unprotected CUSM-plane data within shared O-RU\n",
      "\n",
      "Threat: T-UPLANE-01\n",
      "  - CAPEC ID: CAPEC-622, Similarity: 0.5290, Description: An attacker attempts to intercept the Fronthaul (MITM) over U Plane\n",
      "\n",
      "Threat: T-VL-01\n",
      "  - CAPEC ID: CAPEC-480, Similarity: 0.5395, Description: VM/Container hyperjacking attack\n",
      "\n",
      "Threat: T-VL-02\n",
      "  - CAPEC ID: CAPEC-480, Similarity: 0.4745, Description: Boot tampering\n",
      "\n",
      "Threat: T-VL-03\n",
      "  - CAPEC ID: CAPEC-125, Similarity: 0.4468, Description: Attack internal network services\n",
      "\n",
      "Threat: T-VM-C-01\n",
      "  - CAPEC ID: CAPEC-480, Similarity: 0.6170, Description: Abuse of a privileged VM/Container\n",
      "\n",
      "Threat: T-VM-C-02\n",
      "  - CAPEC ID: CAPEC-480, Similarity: 0.5942, Description: VM/Container escape attack\n",
      "\n",
      "Threat: T-VM-C-03\n",
      "  - CAPEC ID: CAPEC-480, Similarity: 0.4898, Description: VM/Container data theft\n",
      "\n",
      "Threat: T-VM-C-04\n",
      "  - CAPEC ID: CAPEC-480, Similarity: 0.4516, Description: VM/Container migration attacks\n",
      "\n",
      "Threat: T-VM-C-05\n",
      "  - CAPEC ID: CAPEC-480, Similarity: 0.4958, Description: Changing virtualization resource without authorization\n",
      "\n",
      "Threat: T-VM-C-06\n",
      "  - CAPEC ID: CAPEC-548, Similarity: 0.5248, Description: Failed or incomplete VNF/CNF termination or releasing of resources\n",
      "\n",
      "Threat: T-Y1-01\n",
      "  - CAPEC ID: CAPEC-94, Similarity: 0.4781, Description: Untrusted Near-RT-RIC and Y1 consumers\n",
      "\n",
      "Threat: T-Y1-02\n",
      "  - CAPEC ID: CAPEC-12, Similarity: 0.5491, Description: Malicious actor monitors messaging across Y1 interface\n",
      "\n",
      "Threat: T-Y1-03\n",
      "  - CAPEC ID: CAPEC-12, Similarity: 0.5190, Description: Malicious actor modifies messaging across Y1 interface\n",
      "\n",
      "Threat: T-rAPP-01\n",
      "  - CAPEC ID: CAPEC-26, Similarity: 0.4642, Description: Conflicting rApps impact O-RAN system functions to degrade performance or trigger a DoS\n",
      "\n",
      "Threat: T-rAPP-02\n",
      "  - CAPEC ID: CAPEC-482, Similarity: 0.5618, Description: An attacker exploits rApp vulnerability for data breach or denial of service\n",
      "\n",
      "Threat: T-rAPP-03\n",
      "  - CAPEC ID: CAPEC-482, Similarity: 0.5650, Description: An attacker exploits rApps misconfiguration\n",
      "\n",
      "Threat: T-rAPP-04\n",
      "  - CAPEC ID: CAPEC-114, Similarity: 0.6247, Description: An attacker bypasses authentication and authorization\n",
      "\n",
      "Threat: T-rAPP-05\n",
      "  - CAPEC ID: CAPEC-542, Similarity: 0.4955, Description: An attacker deploys and exploits malicious rApp\n",
      "\n",
      "Threat: T-rAPP-06\n",
      "  - CAPEC ID: CAPEC-114, Similarity: 0.6263, Description: An attacker bypasses authentication and authorization using an injection attack\n",
      "\n",
      "Threat: T-rAPP-07\n",
      "  - CAPEC ID: CAPEC-482, Similarity: 0.5033, Description: rApp exploits services\n",
      "\n",
      "Threat: T-xAPP-01\n",
      "  - CAPEC ID: CAPEC-388, Similarity: 0.4750, Description: An attacker exploits xApps vulnerabilities and misconfiguration\n",
      "\n",
      "Threat: T-xAPP-02\n",
      "  - CAPEC ID: CAPEC-212, Similarity: 0.5317, Description: Conflicting xApps unintentionally or maliciously impact O-RAN system functions to degrade perform...\n",
      "\n",
      "Threat: T-xAPP-03\n",
      "  - CAPEC ID: CAPEC-84, Similarity: 0.5140, Description: An attacker compromises xApp isolation\n",
      "\n",
      "Threat: T-xApp-04\n",
      "  - CAPEC ID: CAPEC-502, Similarity: 0.5427, Description: False or malicious A1 policies modify behavior of xApps\n"
     ]
    },
    {
     "name": "stderr",
     "output_type": "stream",
     "text": [
      "/tmp/ipykernel_3718194/52619477.py:3: FutureWarning: DataFrameGroupBy.apply operated on the grouping columns. This behavior is deprecated, and in a future version of pandas the grouping columns will be excluded from the operation. Either pass `include_groups=False` to exclude the groupings or explicitly select the grouping columns after groupby to silence this warning.\n",
      "  top_capec_per_threat = threat2capec_mapping_df.groupby('Name').apply(\n"
     ]
    }
   ],
   "source": [
    "# for every threat name display the first 10 capecs with the highest similarity\n",
    "# --- Group by 'Name' (Threat Name) and get the top 5 for each ---\n",
    "top_capec_per_threat = threat2capec_mapping_df.groupby('Name').apply(\n",
    "    lambda x: x.nlargest(1, 'Similarity')\n",
    ").reset_index(drop=True)\n",
    "\n",
    "# --- Display the results ---\n",
    "print(\"Top CAPEC for Each Threat:\")\n",
    "for threat_name in top_capec_per_threat['Name'].unique():\n",
    "    print(f\"\\nThreat: {threat_name}\")\n",
    "    threat_top_capecs = top_capec_per_threat[top_capec_per_threat['Name'] == threat_name]\n",
    "    # Select relevant columns for display\n",
    "    display_cols = ['CAPEC ID', 'Similarity', 'Description'] # Assuming 'Description' is the CAPEC Description now\n",
    "    for index, row in threat_top_capecs[display_cols].iterrows():\n",
    "        # Shorten description for readability if it's the CAPEC description\n",
    "        desc = row['Description']\n",
    "        if len(desc) > 100:\n",
    "            desc = desc[:97] + \"...\"\n",
    "        print(f\"  - CAPEC ID: {row['CAPEC ID']}, Similarity: {row['Similarity']:.4f}, Description: {desc}\")"
   ]
  },
  {
   "cell_type": "code",
   "execution_count": 58,
   "id": "cb96690c",
   "metadata": {},
   "outputs": [
    {
     "data": {
      "text/plain": [
       "count    182.000000\n",
       "mean       0.522007\n",
       "std        0.053491\n",
       "min        0.388489\n",
       "25%        0.485478\n",
       "50%        0.515990\n",
       "75%        0.552747\n",
       "max        0.667489\n",
       "Name: Similarity, dtype: float64"
      ]
     },
     "execution_count": 58,
     "metadata": {},
     "output_type": "execute_result"
    }
   ],
   "source": [
    "top_capec_per_threat['Similarity'].describe()"
   ]
  },
  {
   "cell_type": "code",
   "execution_count": 59,
   "id": "53d3b48b",
   "metadata": {},
   "outputs": [
    {
     "data": {
      "text/plain": [
       "count    101738.000000\n",
       "mean          0.319840\n",
       "std           0.076961\n",
       "min           0.006636\n",
       "25%           0.269693\n",
       "50%           0.321047\n",
       "75%           0.371686\n",
       "max           0.667489\n",
       "Name: Similarity, dtype: float64"
      ]
     },
     "execution_count": 59,
     "metadata": {},
     "output_type": "execute_result"
    }
   ],
   "source": [
    "threat2capec_mapping_df['Similarity'].describe()"
   ]
  },
  {
   "cell_type": "code",
   "execution_count": 60,
   "id": "b1cde4b8",
   "metadata": {},
   "outputs": [
    {
     "name": "stdout",
     "output_type": "stream",
     "text": [
      "Threat with the highest similarity to a CAPEC:\n",
      "             Name   CAPEC ID  Similarity  \\\n",
      "70440  T-O-RAN-07  CAPEC-268    0.667489   \n",
      "\n",
      "                                                                                        Description  \n",
      "70440  An attacker compromises O-RAN monitoring mechanisms and log files integrity and availability  \n"
     ]
    }
   ],
   "source": [
    "# threat with the highest similarity to a capec\n",
    "highest_similarity = threat2capec_mapping_df['Similarity'].max()\n",
    "highest_similarity_row = threat2capec_mapping_df[threat2capec_mapping_df['Similarity'] == highest_similarity]\n",
    "print(\"Threat with the highest similarity to a CAPEC:\")\n",
    "print(highest_similarity_row[['Name', 'CAPEC ID', 'Similarity', 'Description']])    "
   ]
  },
  {
   "cell_type": "code",
   "execution_count": 61,
   "id": "af023c5e",
   "metadata": {},
   "outputs": [
    {
     "name": "stdout",
     "output_type": "stream",
     "text": [
      "Threat with the lowest similarity to a CAPEC:\n",
      "           Name   CAPEC ID  Similarity  \\\n",
      "68773  T-AAL-02  CAPEC-394    0.006636   \n",
      "\n",
      "                                               Description  \n",
      "68773  Internal Overload DoS attack targeting AAL services  \n"
     ]
    }
   ],
   "source": [
    "# lowest similarity threat to a capec\n",
    "lowest_similarity = threat2capec_mapping_df['Similarity'].min()\n",
    "lowest_similarity_row = threat2capec_mapping_df[threat2capec_mapping_df['Similarity'] == lowest_similarity]\n",
    "print(\"Threat with the lowest similarity to a CAPEC:\")\n",
    "print(lowest_similarity_row[['Name', 'CAPEC ID', 'Similarity', 'Description']])"
   ]
  },
  {
   "cell_type": "code",
   "execution_count": 62,
   "id": "83c023bc",
   "metadata": {},
   "outputs": [
    {
     "name": "stdout",
     "output_type": "stream",
     "text": [
      "Average similarity: 0.3198404\n"
     ]
    }
   ],
   "source": [
    "# average similarity overall\n",
    "average_similarity = threat2capec_mapping_df['Similarity'].mean()\n",
    "print(\"Average similarity:\", average_similarity)"
   ]
  },
  {
   "cell_type": "code",
   "execution_count": null,
   "id": "f8f8e736",
   "metadata": {},
   "outputs": [],
   "source": []
  },
  {
   "cell_type": "markdown",
   "id": "14a40055",
   "metadata": {},
   "source": [
    "4. Safe the mappings above 0.55 similarity to a csv file"
   ]
  },
  {
   "cell_type": "code",
   "execution_count": 63,
   "id": "8b6b1dfa",
   "metadata": {},
   "outputs": [],
   "source": [
    "CAPEC_CSV_FILENAME = 'general_threats_capec_mapping'\n",
    "similarity = 0.55\n",
    "def filter_threshold_hfc(df, filter_criteria, min_similarity):\n",
    "    filtered_df = df[df['Similarity'] > min_similarity]\n",
    "    filtered_df = filtered_df.reset_index(drop=True)\n",
    "    return filtered_df"
   ]
  },
  {
   "cell_type": "code",
   "execution_count": 64,
   "id": "929f451d",
   "metadata": {},
   "outputs": [],
   "source": [
    "\n",
    "#capec_mapping_hfc = filter_threshold_hfc(formatted_capec_mapping, \"Name\",similarity)\n",
    "#capec_mapping_hfc.to_csv(\"./mapped_data/hfc_\"+CAPEC_CSV_FILENAME+\"_min\"+str(similarity)+\".csv\", sep=';', index=False)"
   ]
  },
  {
   "cell_type": "markdown",
   "id": "518fecfb",
   "metadata": {},
   "source": [
    "5. Compare ORCA mappings to our mappings"
   ]
  },
  {
   "cell_type": "code",
   "execution_count": 3,
   "id": "59b9061a",
   "metadata": {},
   "outputs": [
    {
     "name": "stdout",
     "output_type": "stream",
     "text": [
      "Index(['Name', 'Domain', 'Description', 'CAPEC ID', 'Similarity'], dtype='object')\n",
      "Index(['Name', 'Domain', 'Description', 'CAPEC ID', 'Similarity',\n",
      "       'summary_th_df', 'summary_ca_df'],\n",
      "      dtype='object')\n"
     ]
    }
   ],
   "source": [
    "orca_mappings = pd.read_csv('mapped_data/ORCA_mappings_min0.55.csv', sep=';')\n",
    "our_mappings = pd.read_csv('mapped_data/hfc_general_threats_capec_mapping_min0.55.csv', sep=';')\n",
    "print(orca_mappings.columns)\n",
    "print(our_mappings.columns)"
   ]
  },
  {
   "cell_type": "code",
   "execution_count": 66,
   "id": "aa33d912",
   "metadata": {},
   "outputs": [
    {
     "data": {
      "text/plain": [
       "((190, 5), (163, 7))"
      ]
     },
     "execution_count": 66,
     "metadata": {},
     "output_type": "execute_result"
    }
   ],
   "source": [
    "orca_mappings.shape, our_mappings.shape"
   ]
  },
  {
   "cell_type": "code",
   "execution_count": 67,
   "id": "fd89a890",
   "metadata": {},
   "outputs": [
    {
     "data": {
      "text/plain": [
       "(np.float64(0.577509985631579), np.float64(0.5774983157055215))"
      ]
     },
     "execution_count": 67,
     "metadata": {},
     "output_type": "execute_result"
    }
   ],
   "source": [
    "average_similarity_orca = orca_mappings['Similarity'].mean()\n",
    "average_similarity_our = our_mappings['Similarity'].mean()\n",
    "average_similarity_orca, average_similarity_our"
   ]
  },
  {
   "cell_type": "code",
   "execution_count": 68,
   "id": "8beb2fbf",
   "metadata": {},
   "outputs": [
    {
     "name": "stdout",
     "output_type": "stream",
     "text": [
      "0.00001167\n"
     ]
    }
   ],
   "source": [
    "diff_mean = average_similarity_orca - average_similarity_our\n",
    "print(f\"{diff_mean:.8f}\")"
   ]
  },
  {
   "cell_type": "code",
   "execution_count": 69,
   "id": "4b518d6d",
   "metadata": {},
   "outputs": [
    {
     "data": {
      "text/plain": [
       "(np.float64(0.570489), np.float64(0.5698744))"
      ]
     },
     "execution_count": 69,
     "metadata": {},
     "output_type": "execute_result"
    }
   ],
   "source": [
    "median_similarity_orca = orca_mappings['Similarity'].median()\n",
    "median_similarity_our = our_mappings['Similarity'].median()\n",
    "median_similarity_orca, median_similarity_our"
   ]
  },
  {
   "cell_type": "code",
   "execution_count": 70,
   "id": "ef94597c",
   "metadata": {},
   "outputs": [
    {
     "name": "stdout",
     "output_type": "stream",
     "text": [
      "0.00061460\n"
     ]
    }
   ],
   "source": [
    "diff_med = median_similarity_orca -median_similarity_our\n",
    "print(f\"{diff_med:.8f}\")"
   ]
  },
  {
   "cell_type": "code",
   "execution_count": 71,
   "id": "9afc5456",
   "metadata": {},
   "outputs": [
    {
     "data": {
      "text/html": [
       "<div>\n",
       "<style scoped>\n",
       "    .dataframe tbody tr th:only-of-type {\n",
       "        vertical-align: middle;\n",
       "    }\n",
       "\n",
       "    .dataframe tbody tr th {\n",
       "        vertical-align: top;\n",
       "    }\n",
       "\n",
       "    .dataframe thead th {\n",
       "        text-align: right;\n",
       "    }\n",
       "</style>\n",
       "<table border=\"1\" class=\"dataframe\">\n",
       "  <thead>\n",
       "    <tr style=\"text-align: right;\">\n",
       "      <th></th>\n",
       "      <th>Name</th>\n",
       "      <th>CAPEC ID</th>\n",
       "      <th>Similarity_orca</th>\n",
       "      <th>Similarity_our</th>\n",
       "    </tr>\n",
       "  </thead>\n",
       "  <tbody>\n",
       "    <tr>\n",
       "      <th>0</th>\n",
       "      <td>T-A1-02</td>\n",
       "      <td>CAPEC-12</td>\n",
       "      <td>0.584865</td>\n",
       "      <td>0.590688</td>\n",
       "    </tr>\n",
       "    <tr>\n",
       "      <th>1</th>\n",
       "      <td>T-A1-02</td>\n",
       "      <td>CAPEC-272</td>\n",
       "      <td>NaN</td>\n",
       "      <td>0.552193</td>\n",
       "    </tr>\n",
       "    <tr>\n",
       "      <th>2</th>\n",
       "      <td>T-A1-02</td>\n",
       "      <td>CAPEC-387</td>\n",
       "      <td>0.596484</td>\n",
       "      <td>0.609855</td>\n",
       "    </tr>\n",
       "    <tr>\n",
       "      <th>3</th>\n",
       "      <td>T-A1-02</td>\n",
       "      <td>CAPEC-388</td>\n",
       "      <td>0.564509</td>\n",
       "      <td>0.583051</td>\n",
       "    </tr>\n",
       "    <tr>\n",
       "      <th>4</th>\n",
       "      <td>T-A1-02</td>\n",
       "      <td>CAPEC-502</td>\n",
       "      <td>NaN</td>\n",
       "      <td>0.556925</td>\n",
       "    </tr>\n",
       "  </tbody>\n",
       "</table>\n",
       "</div>"
      ],
      "text/plain": [
       "      Name   CAPEC ID  Similarity_orca  Similarity_our\n",
       "0  T-A1-02   CAPEC-12         0.584865        0.590688\n",
       "1  T-A1-02  CAPEC-272              NaN        0.552193\n",
       "2  T-A1-02  CAPEC-387         0.596484        0.609855\n",
       "3  T-A1-02  CAPEC-388         0.564509        0.583051\n",
       "4  T-A1-02  CAPEC-502              NaN        0.556925"
      ]
     },
     "execution_count": 71,
     "metadata": {},
     "output_type": "execute_result"
    }
   ],
   "source": [
    "# Merge ORCA and our mappings on 'Name' and 'CAPEC ID'\n",
    "merged_similarities = pd.merge(\n",
    "    orca_mappings[['Name', 'CAPEC ID', 'Similarity']],\n",
    "    our_mappings[['Name', 'CAPEC ID', 'Similarity']],\n",
    "    on=['Name', 'CAPEC ID'],\n",
    "    how='outer',\n",
    "    suffixes=('_orca', '_our')\n",
    ")\n",
    "\n",
    "# Save to CSV\n",
    "merged_similarities.to_csv('./mapped_data/merged_orca_our_similarities.csv', sep=';', index=False)\n",
    "\n",
    "# Display the first few rows for verification\n",
    "merged_similarities.head()"
   ]
  },
  {
   "cell_type": "code",
   "execution_count": 72,
   "id": "7ab1f3e0",
   "metadata": {},
   "outputs": [
    {
     "name": "stdout",
     "output_type": "stream",
     "text": [
      "Threats in ORCA mappings but not in our mappings: {'T-O-RAN-09', 'T-VL-01', 'T-PHYS-01', 'T-SMO-28', 'T-AppLCM-05', 'T-R1-03', 'T-GEN-01'}\n",
      "Threats in our mappings but not in ORCA mappings: {'T-VM-C-02', 'T-NEAR-RT-05'}\n"
     ]
    }
   ],
   "source": [
    "threats_in_orca_not_in_our = set(orca_mappings['Name']) - set(our_mappings['Name'])\n",
    "print(\"Threats in ORCA mappings but not in our mappings:\", threats_in_orca_not_in_our)\n",
    "threats_in_our_not_in_orca = set(our_mappings['Name']) - set(orca_mappings['Name'])\n",
    "print(\"Threats in our mappings but not in ORCA mappings:\", threats_in_our_not_in_orca)  "
   ]
  },
  {
   "cell_type": "code",
   "execution_count": 73,
   "id": "f3795aa9",
   "metadata": {},
   "outputs": [
    {
     "name": "stdout",
     "output_type": "stream",
     "text": [
      "Name and Capec ID combinations where one similarity is missing:\n",
      "           Name   CAPEC ID\n",
      "1       T-A1-02  CAPEC-272\n",
      "4       T-A1-02  CAPEC-502\n",
      "10      T-A1-03  CAPEC-502\n",
      "11      T-A1-03   CAPEC-94\n",
      "13     T-AAL-05  CAPEC-458\n",
      "16     T-AAL-06  CAPEC-401\n",
      "17     T-AAL-06  CAPEC-440\n",
      "18     T-AAL-06  CAPEC-452\n",
      "22  T-AppLCM-01  CAPEC-180\n",
      "24  T-AppLCM-01  CAPEC-212\n"
     ]
    }
   ],
   "source": [
    "# Name and Capec ID combinations where one similarity is missing\n",
    "missing_similarities = merged_similarities[(merged_similarities['Similarity_orca'].isnull()) | (merged_similarities['Similarity_our'].isnull())]\n",
    "print(\"Name and Capec ID combinations where one similarity is missing:\")\n",
    "print(missing_similarities[['Name', 'CAPEC ID']].head(10))  # Display first 10 for brevity"
   ]
  },
  {
   "cell_type": "code",
   "execution_count": 74,
   "id": "61df266c",
   "metadata": {},
   "outputs": [
    {
     "data": {
      "text/html": [
       "<div>\n",
       "<style scoped>\n",
       "    .dataframe tbody tr th:only-of-type {\n",
       "        vertical-align: middle;\n",
       "    }\n",
       "\n",
       "    .dataframe tbody tr th {\n",
       "        vertical-align: top;\n",
       "    }\n",
       "\n",
       "    .dataframe thead th {\n",
       "        text-align: right;\n",
       "    }\n",
       "</style>\n",
       "<table border=\"1\" class=\"dataframe\">\n",
       "  <thead>\n",
       "    <tr style=\"text-align: right;\">\n",
       "      <th></th>\n",
       "      <th>Name</th>\n",
       "      <th>CAPEC ID</th>\n",
       "      <th>Similarity_orca</th>\n",
       "      <th>Similarity_our</th>\n",
       "    </tr>\n",
       "  </thead>\n",
       "  <tbody>\n",
       "    <tr>\n",
       "      <th>0</th>\n",
       "      <td>T-A1-02</td>\n",
       "      <td>CAPEC-12</td>\n",
       "      <td>0.584865</td>\n",
       "      <td>0.590688</td>\n",
       "    </tr>\n",
       "    <tr>\n",
       "      <th>2</th>\n",
       "      <td>T-A1-02</td>\n",
       "      <td>CAPEC-387</td>\n",
       "      <td>0.596484</td>\n",
       "      <td>0.609855</td>\n",
       "    </tr>\n",
       "    <tr>\n",
       "      <th>3</th>\n",
       "      <td>T-A1-02</td>\n",
       "      <td>CAPEC-388</td>\n",
       "      <td>0.564509</td>\n",
       "      <td>0.583051</td>\n",
       "    </tr>\n",
       "    <tr>\n",
       "      <th>5</th>\n",
       "      <td>T-A1-02</td>\n",
       "      <td>CAPEC-94</td>\n",
       "      <td>0.579672</td>\n",
       "      <td>0.553981</td>\n",
       "    </tr>\n",
       "    <tr>\n",
       "      <th>6</th>\n",
       "      <td>T-A1-03</td>\n",
       "      <td>CAPEC-12</td>\n",
       "      <td>0.566429</td>\n",
       "      <td>0.561994</td>\n",
       "    </tr>\n",
       "  </tbody>\n",
       "</table>\n",
       "</div>"
      ],
      "text/plain": [
       "      Name   CAPEC ID  Similarity_orca  Similarity_our\n",
       "0  T-A1-02   CAPEC-12         0.584865        0.590688\n",
       "2  T-A1-02  CAPEC-387         0.596484        0.609855\n",
       "3  T-A1-02  CAPEC-388         0.564509        0.583051\n",
       "5  T-A1-02   CAPEC-94         0.579672        0.553981\n",
       "6  T-A1-03   CAPEC-12         0.566429        0.561994"
      ]
     },
     "execution_count": 74,
     "metadata": {},
     "output_type": "execute_result"
    }
   ],
   "source": [
    "# only keep the rows where both similarities are not null\n",
    "merged_similarities_both_similarities_exist = merged_similarities.dropna(subset=['Similarity_orca', 'Similarity_our'])\n",
    "merged_similarities_both_similarities_exist.head(5)"
   ]
  },
  {
   "cell_type": "code",
   "execution_count": 75,
   "id": "8ae838c2",
   "metadata": {},
   "outputs": [
    {
     "name": "stderr",
     "output_type": "stream",
     "text": [
      "/tmp/ipykernel_3718194/448733076.py:2: SettingWithCopyWarning: \n",
      "A value is trying to be set on a copy of a slice from a DataFrame.\n",
      "Try using .loc[row_indexer,col_indexer] = value instead\n",
      "\n",
      "See the caveats in the documentation: https://pandas.pydata.org/pandas-docs/stable/user_guide/indexing.html#returning-a-view-versus-a-copy\n",
      "  merged_similarities_both_similarities_exist['Similarity_difference'] = (merged_similarities_both_similarities_exist['Similarity_orca'] - merged_similarities_both_similarities_exist['Similarity_our']).abs()\n"
     ]
    },
    {
     "data": {
      "text/html": [
       "<div>\n",
       "<style scoped>\n",
       "    .dataframe tbody tr th:only-of-type {\n",
       "        vertical-align: middle;\n",
       "    }\n",
       "\n",
       "    .dataframe tbody tr th {\n",
       "        vertical-align: top;\n",
       "    }\n",
       "\n",
       "    .dataframe thead th {\n",
       "        text-align: right;\n",
       "    }\n",
       "</style>\n",
       "<table border=\"1\" class=\"dataframe\">\n",
       "  <thead>\n",
       "    <tr style=\"text-align: right;\">\n",
       "      <th></th>\n",
       "      <th>Name</th>\n",
       "      <th>CAPEC ID</th>\n",
       "      <th>Similarity_orca</th>\n",
       "      <th>Similarity_our</th>\n",
       "      <th>Similarity_difference</th>\n",
       "    </tr>\n",
       "  </thead>\n",
       "  <tbody>\n",
       "    <tr>\n",
       "      <th>0</th>\n",
       "      <td>T-A1-02</td>\n",
       "      <td>CAPEC-12</td>\n",
       "      <td>0.584865</td>\n",
       "      <td>0.590688</td>\n",
       "      <td>0.005823</td>\n",
       "    </tr>\n",
       "    <tr>\n",
       "      <th>2</th>\n",
       "      <td>T-A1-02</td>\n",
       "      <td>CAPEC-387</td>\n",
       "      <td>0.596484</td>\n",
       "      <td>0.609855</td>\n",
       "      <td>0.013371</td>\n",
       "    </tr>\n",
       "    <tr>\n",
       "      <th>3</th>\n",
       "      <td>T-A1-02</td>\n",
       "      <td>CAPEC-388</td>\n",
       "      <td>0.564509</td>\n",
       "      <td>0.583051</td>\n",
       "      <td>0.018542</td>\n",
       "    </tr>\n",
       "    <tr>\n",
       "      <th>5</th>\n",
       "      <td>T-A1-02</td>\n",
       "      <td>CAPEC-94</td>\n",
       "      <td>0.579672</td>\n",
       "      <td>0.553981</td>\n",
       "      <td>0.025691</td>\n",
       "    </tr>\n",
       "    <tr>\n",
       "      <th>6</th>\n",
       "      <td>T-A1-03</td>\n",
       "      <td>CAPEC-12</td>\n",
       "      <td>0.566429</td>\n",
       "      <td>0.561994</td>\n",
       "      <td>0.004435</td>\n",
       "    </tr>\n",
       "  </tbody>\n",
       "</table>\n",
       "</div>"
      ],
      "text/plain": [
       "      Name   CAPEC ID  Similarity_orca  Similarity_our  Similarity_difference\n",
       "0  T-A1-02   CAPEC-12         0.584865        0.590688               0.005823\n",
       "2  T-A1-02  CAPEC-387         0.596484        0.609855               0.013371\n",
       "3  T-A1-02  CAPEC-388         0.564509        0.583051               0.018542\n",
       "5  T-A1-02   CAPEC-94         0.579672        0.553981               0.025691\n",
       "6  T-A1-03   CAPEC-12         0.566429        0.561994               0.004435"
      ]
     },
     "execution_count": 75,
     "metadata": {},
     "output_type": "execute_result"
    }
   ],
   "source": [
    "# difference between the two similarities\n",
    "merged_similarities_both_similarities_exist['Similarity_difference'] = (merged_similarities_both_similarities_exist['Similarity_orca'] - merged_similarities_both_similarities_exist['Similarity_our']).abs()\n",
    "merged_similarities_both_similarities_exist.head(5)"
   ]
  },
  {
   "cell_type": "code",
   "execution_count": 76,
   "id": "90aa8723",
   "metadata": {},
   "outputs": [],
   "source": [
    "#merged_similarities_both_similarities_exist.to_pickle('mapped_data/merged_mappings_above_055_df.pk1')"
   ]
  },
  {
   "cell_type": "code",
   "execution_count": 77,
   "id": "1539139d",
   "metadata": {},
   "outputs": [
    {
     "name": "stdout",
     "output_type": "stream",
     "text": [
      "Average similarity difference: 0.011511884714285709\n"
     ]
    }
   ],
   "source": [
    "average_similarity_difference = merged_similarities_both_similarities_exist['Similarity_difference'].mean()\n",
    "print(\"Average similarity difference:\", average_similarity_difference)"
   ]
  },
  {
   "cell_type": "code",
   "execution_count": 78,
   "id": "91c88cdd",
   "metadata": {},
   "outputs": [
    {
     "name": "stdout",
     "output_type": "stream",
     "text": [
      "               Name   CAPEC ID  Similarity_orca  Similarity_our  \\\n",
      "163  T-SharedORU-07  CAPEC-593         0.643427        0.599111   \n",
      "\n",
      "     Similarity_difference  \n",
      "163               0.044316  \n"
     ]
    }
   ],
   "source": [
    "largest_difference_row = merged_similarities_both_similarities_exist[merged_similarities_both_similarities_exist['Similarity_difference'] == merged_similarities_both_similarities_exist['Similarity_difference'].max()]\n",
    "print(largest_difference_row)    "
   ]
  },
  {
   "cell_type": "code",
   "execution_count": 79,
   "id": "19a9a79a",
   "metadata": {},
   "outputs": [
    {
     "name": "stdout",
     "output_type": "stream",
     "text": [
      "               Name   CAPEC ID  Similarity_orca  Similarity_our  \\\n",
      "168  T-SharedORU-18  CAPEC-114         0.576321        0.576378   \n",
      "\n",
      "     Similarity_difference  \n",
      "168               0.000057  \n"
     ]
    }
   ],
   "source": [
    "smallest_difference_row = merged_similarities_both_similarities_exist[merged_similarities_both_similarities_exist['Similarity_difference'] == merged_similarities_both_similarities_exist['Similarity_difference'].min()]\n",
    "print(smallest_difference_row)"
   ]
  },
  {
   "cell_type": "code",
   "execution_count": 80,
   "id": "6144dac8",
   "metadata": {},
   "outputs": [
    {
     "name": "stdout",
     "output_type": "stream",
     "text": [
      "Standard deviation of similarity differences: 0.008790685757417642\n"
     ]
    }
   ],
   "source": [
    "standard_deviation_difference = merged_similarities_both_similarities_exist['Similarity_difference'].std()\n",
    "print(\"Standard deviation of similarity differences:\", standard_deviation_difference)"
   ]
  },
  {
   "cell_type": "code",
   "execution_count": 81,
   "id": "f61b64f9",
   "metadata": {},
   "outputs": [
    {
     "data": {
      "text/html": [
       "<div>\n",
       "<style scoped>\n",
       "    .dataframe tbody tr th:only-of-type {\n",
       "        vertical-align: middle;\n",
       "    }\n",
       "\n",
       "    .dataframe tbody tr th {\n",
       "        vertical-align: top;\n",
       "    }\n",
       "\n",
       "    .dataframe thead th {\n",
       "        text-align: right;\n",
       "    }\n",
       "</style>\n",
       "<table border=\"1\" class=\"dataframe\">\n",
       "  <thead>\n",
       "    <tr style=\"text-align: right;\">\n",
       "      <th></th>\n",
       "      <th>Name</th>\n",
       "      <th>Domain</th>\n",
       "      <th>Description</th>\n",
       "      <th>CAPEC ID</th>\n",
       "      <th>Similarity</th>\n",
       "    </tr>\n",
       "  </thead>\n",
       "  <tbody>\n",
       "    <tr>\n",
       "      <th>45</th>\n",
       "      <td>T-R1-03</td>\n",
       "      <td>enterprise-attack</td>\n",
       "      <td>Malicious actor bypasses authentication to Request Data</td>\n",
       "      <td>CAPEC-114</td>\n",
       "      <td>0.558573</td>\n",
       "    </tr>\n",
       "    <tr>\n",
       "      <th>69</th>\n",
       "      <td>T-SMO-28</td>\n",
       "      <td>enterprise-attack</td>\n",
       "      <td>External attacker uses External interface to exploit API vulnerability to gain access to SMO</td>\n",
       "      <td>CAPEC-113</td>\n",
       "      <td>0.565503</td>\n",
       "    </tr>\n",
       "    <tr>\n",
       "      <th>80</th>\n",
       "      <td>T-O-RAN-09</td>\n",
       "      <td>enterprise-attack</td>\n",
       "      <td>An attacker compromises O-RAN components integrity and availability</td>\n",
       "      <td>CAPEC-440</td>\n",
       "      <td>0.565102</td>\n",
       "    </tr>\n",
       "    <tr>\n",
       "      <th>83</th>\n",
       "      <td>T-AppLCM-05</td>\n",
       "      <td>enterprise-attack</td>\n",
       "      <td>Malicious actor modifies application’s SecurityDescriptor</td>\n",
       "      <td>CAPEC-698</td>\n",
       "      <td>0.551221</td>\n",
       "    </tr>\n",
       "    <tr>\n",
       "      <th>94</th>\n",
       "      <td>T-GEN-01</td>\n",
       "      <td>enterprise-attack</td>\n",
       "      <td>Software flaw attack</td>\n",
       "      <td>CAPEC-480</td>\n",
       "      <td>0.562108</td>\n",
       "    </tr>\n",
       "    <tr>\n",
       "      <th>97</th>\n",
       "      <td>T-VL-01</td>\n",
       "      <td>enterprise-attack</td>\n",
       "      <td>VM/Container hyperjacking attack</td>\n",
       "      <td>CAPEC-480</td>\n",
       "      <td>0.558357</td>\n",
       "    </tr>\n",
       "    <tr>\n",
       "      <th>101</th>\n",
       "      <td>T-PHYS-01</td>\n",
       "      <td>enterprise-attack</td>\n",
       "      <td>An intruder into a site gains physical access to O-RAN components to cause damage or access sensitive data</td>\n",
       "      <td>CAPEC-401</td>\n",
       "      <td>0.551274</td>\n",
       "    </tr>\n",
       "    <tr>\n",
       "      <th>141</th>\n",
       "      <td>T-AppLCM-05</td>\n",
       "      <td>enterprise-attack</td>\n",
       "      <td>Malicious actor modifies application’s SecurityDescriptor</td>\n",
       "      <td>CAPEC-502</td>\n",
       "      <td>0.579609</td>\n",
       "    </tr>\n",
       "    <tr>\n",
       "      <th>181</th>\n",
       "      <td>T-AppLCM-05</td>\n",
       "      <td>enterprise-attack</td>\n",
       "      <td>Malicious actor modifies application’s SecurityDescriptor</td>\n",
       "      <td>CAPEC-445</td>\n",
       "      <td>0.558988</td>\n",
       "    </tr>\n",
       "  </tbody>\n",
       "</table>\n",
       "</div>"
      ],
      "text/plain": [
       "            Name             Domain  \\\n",
       "45       T-R1-03  enterprise-attack   \n",
       "69      T-SMO-28  enterprise-attack   \n",
       "80    T-O-RAN-09  enterprise-attack   \n",
       "83   T-AppLCM-05  enterprise-attack   \n",
       "94      T-GEN-01  enterprise-attack   \n",
       "97       T-VL-01  enterprise-attack   \n",
       "101    T-PHYS-01  enterprise-attack   \n",
       "141  T-AppLCM-05  enterprise-attack   \n",
       "181  T-AppLCM-05  enterprise-attack   \n",
       "\n",
       "                                                                                                    Description  \\\n",
       "45                                                     Malicious actor bypasses authentication to Request Data    \n",
       "69                 External attacker uses External interface to exploit API vulnerability to gain access to SMO   \n",
       "80                                          An attacker compromises O-RAN components integrity and availability   \n",
       "83                                                    Malicious actor modifies application’s SecurityDescriptor   \n",
       "94                                                                                         Software flaw attack   \n",
       "97                                                                             VM/Container hyperjacking attack   \n",
       "101  An intruder into a site gains physical access to O-RAN components to cause damage or access sensitive data   \n",
       "141                                                   Malicious actor modifies application’s SecurityDescriptor   \n",
       "181                                                   Malicious actor modifies application’s SecurityDescriptor   \n",
       "\n",
       "      CAPEC ID  Similarity  \n",
       "45   CAPEC-114    0.558573  \n",
       "69   CAPEC-113    0.565503  \n",
       "80   CAPEC-440    0.565102  \n",
       "83   CAPEC-698    0.551221  \n",
       "94   CAPEC-480    0.562108  \n",
       "97   CAPEC-480    0.558357  \n",
       "101  CAPEC-401    0.551274  \n",
       "141  CAPEC-502    0.579609  \n",
       "181  CAPEC-445    0.558988  "
      ]
     },
     "execution_count": 81,
     "metadata": {},
     "output_type": "execute_result"
    }
   ],
   "source": [
    "threats_in_orca_not_in_our = orca_mappings[~orca_mappings['Name'].isin(our_mappings['Name'])]\n",
    "threats_in_orca_not_in_our"
   ]
  },
  {
   "cell_type": "code",
   "execution_count": 82,
   "id": "4add7ff2",
   "metadata": {},
   "outputs": [
    {
     "data": {
      "text/html": [
       "<div>\n",
       "<style scoped>\n",
       "    .dataframe tbody tr th:only-of-type {\n",
       "        vertical-align: middle;\n",
       "    }\n",
       "\n",
       "    .dataframe tbody tr th {\n",
       "        vertical-align: top;\n",
       "    }\n",
       "\n",
       "    .dataframe thead th {\n",
       "        text-align: right;\n",
       "    }\n",
       "</style>\n",
       "<table border=\"1\" class=\"dataframe\">\n",
       "  <thead>\n",
       "    <tr style=\"text-align: right;\">\n",
       "      <th></th>\n",
       "      <th>Name</th>\n",
       "      <th>Domain</th>\n",
       "      <th>Description</th>\n",
       "      <th>CAPEC ID</th>\n",
       "      <th>Similarity</th>\n",
       "      <th>summary_th_df</th>\n",
       "      <th>summary_ca_df</th>\n",
       "    </tr>\n",
       "  </thead>\n",
       "  <tbody>\n",
       "    <tr>\n",
       "      <th>25</th>\n",
       "      <td>T-NEAR-RT-05</td>\n",
       "      <td>enterprise-attack</td>\n",
       "      <td>Attackers exploit non uniquely identified xApps using a trusted xAppID to access to resources and services which they are not entitled to use.</td>\n",
       "      <td>CAPEC-21</td>\n",
       "      <td>0.551030</td>\n",
       "      <td>A Threat with the title Attackers exploit non uniquely identified xApps using a trusted xAppID to access to resources and services which they are not entitled to use. and the descriptionNot uniquely identifying xApps using a trusted xAppID potentially entails certain threats and potential attacks:\\n- A non-unique xAppID might cause misidentification of an xApp, possibly allowing a potentially malicious xApp to request certain services (theft of services), information (data leakage), or alter existing information\\n- A malicious xApp might use the xAppID assigned to a legitimate xApp to request services or information from Near-RT RIC platform\\n- A non-unique xApp ID could make it impossible to accurately assign actions to the correct xApp\\n- A non-unique xApp ID could make it difficult to recognize that a malicious xApp is in the environment</td>\n",
       "      <td>A CAPEC with the title Exploitation of Trusted Identifiers. The description of this CAPEC is:\\n            &lt;xhtml:p&gt;An adversary guesses, obtains, or \"rides\" a trusted identifier (e.g. session ID, resource ID, cookie, etc.) to perform authorized actions under the guise of an authenticated user or service.&lt;/xhtml:p&gt;\\n         . The Domain of this is: Software</td>\n",
       "    </tr>\n",
       "    <tr>\n",
       "      <th>52</th>\n",
       "      <td>T-VM-C-02</td>\n",
       "      <td>enterprise-attack</td>\n",
       "      <td>VM/Container escape attack</td>\n",
       "      <td>CAPEC-480</td>\n",
       "      <td>0.594237</td>\n",
       "      <td>A Threat with the title VM/Container escape attack and the descriptionVNF/CNF deployed on the same physical machine as tenants share the same host kernel and host OS resources. Lack of strong isolation between the VMs/Containers and the host allows for a potential risk of a rogue VM/Container escaping the VM/Container confinement and impacting other co-hosted VMs/Containers. In others, an attacker may deploy a new malicious VM/Container configured without network rules, user limitations, etc. to bypass existing defenses within O-Cloud infrastructure.\\nAttacker deploys malicious VM/Container to escapes the host (Hypervisor/Container Engine/Host OS) and reaches the server’s hardware, then the malicious VM/Container can gain root access to the whole server where it resides. This gives the malicious VM/Container full control on all the VMs/Containers hosted on the same hacked server. This could allow an attacker to undermine the confidentiality, integrity and/or availability of VNFs/CNFs resources.\\nContainers can be deployed by various means, such as via Docker's create and start APIs or via a web application such as the Kubernetes dashboard or Kubeflow. Adversaries may deploy containers based on retrieved or built malicious images or from benign images that download and execute malicious payloads at runtime.\\nWhen a malicious VM/Container escapes isolation, it can gain full control over the underlying host and cause any of the below serious threats:\\n• Attacker would gain the ability to mount attacks on the host or compromise the host functionalities\\n• Compromise the confidentiality &amp; integrity of co-hosted VMs/Containers and tenants\\n• Launch DDOS attacks on co-hosted VMs/Containers and host services thereby degrading their performance \\n• Introduce new vulnerabilities in host to be used for future attacks\\n• Lack of network segmentation could potentially expose other VMs/Containers in the environment to attack. An example of this could be reconnaissance, exploitation and subsequent lateral movement to another host within the cluster.</td>\n",
       "      <td>A CAPEC with the title Escaping Virtualization. The description of this CAPEC is:An adversary gains access to an application, service, or device with the privileges of an authorized or privileged user by escaping the confines of a virtualized environment. The adversary is then able to access resources or execute unauthorized code within the host environment, generally with the privileges of the user running the virtualized process. Successfully executing an attack of this type is often the first step in executing more complex attacks.. The Domain of this is: Software</td>\n",
       "    </tr>\n",
       "  </tbody>\n",
       "</table>\n",
       "</div>"
      ],
      "text/plain": [
       "            Name             Domain  \\\n",
       "25  T-NEAR-RT-05  enterprise-attack   \n",
       "52     T-VM-C-02  enterprise-attack   \n",
       "\n",
       "                                                                                                                                       Description  \\\n",
       "25  Attackers exploit non uniquely identified xApps using a trusted xAppID to access to resources and services which they are not entitled to use.   \n",
       "52                                                                                                                      VM/Container escape attack   \n",
       "\n",
       "     CAPEC ID  Similarity  \\\n",
       "25   CAPEC-21    0.551030   \n",
       "52  CAPEC-480    0.594237   \n",
       "\n",
       "                                                                                                                                                                                                                                                                                                                                                                                                                                                                                                                                                                                                                                                                                                                                                                                                                                                                                                                                                                                                                                                                                                                                                                                                                                                                                                                                                                                                                                                                                                                                                                                                                                                                                                                                                                                                                                                                                                                                                                                                                                                                                                                                             summary_th_df  \\\n",
       "25                                                                                                                                                                                                                                                                                                                                                                                                                                                                                                                                                                                                                                                                                                                                                                                                                                                                                                                                                                                                                                                                                                                                                                                                                                                                    A Threat with the title Attackers exploit non uniquely identified xApps using a trusted xAppID to access to resources and services which they are not entitled to use. and the descriptionNot uniquely identifying xApps using a trusted xAppID potentially entails certain threats and potential attacks:\\n- A non-unique xAppID might cause misidentification of an xApp, possibly allowing a potentially malicious xApp to request certain services (theft of services), information (data leakage), or alter existing information\\n- A malicious xApp might use the xAppID assigned to a legitimate xApp to request services or information from Near-RT RIC platform\\n- A non-unique xApp ID could make it impossible to accurately assign actions to the correct xApp\\n- A non-unique xApp ID could make it difficult to recognize that a malicious xApp is in the environment   \n",
       "52  A Threat with the title VM/Container escape attack and the descriptionVNF/CNF deployed on the same physical machine as tenants share the same host kernel and host OS resources. Lack of strong isolation between the VMs/Containers and the host allows for a potential risk of a rogue VM/Container escaping the VM/Container confinement and impacting other co-hosted VMs/Containers. In others, an attacker may deploy a new malicious VM/Container configured without network rules, user limitations, etc. to bypass existing defenses within O-Cloud infrastructure.\\nAttacker deploys malicious VM/Container to escapes the host (Hypervisor/Container Engine/Host OS) and reaches the server’s hardware, then the malicious VM/Container can gain root access to the whole server where it resides. This gives the malicious VM/Container full control on all the VMs/Containers hosted on the same hacked server. This could allow an attacker to undermine the confidentiality, integrity and/or availability of VNFs/CNFs resources.\\nContainers can be deployed by various means, such as via Docker's create and start APIs or via a web application such as the Kubernetes dashboard or Kubeflow. Adversaries may deploy containers based on retrieved or built malicious images or from benign images that download and execute malicious payloads at runtime.\\nWhen a malicious VM/Container escapes isolation, it can gain full control over the underlying host and cause any of the below serious threats:\\n• Attacker would gain the ability to mount attacks on the host or compromise the host functionalities\\n• Compromise the confidentiality & integrity of co-hosted VMs/Containers and tenants\\n• Launch DDOS attacks on co-hosted VMs/Containers and host services thereby degrading their performance \\n• Introduce new vulnerabilities in host to be used for future attacks\\n• Lack of network segmentation could potentially expose other VMs/Containers in the environment to attack. An example of this could be reconnaissance, exploitation and subsequent lateral movement to another host within the cluster.   \n",
       "\n",
       "                                                                                                                                                                                                                                                                                                                                                                                                                                                                                                                                                                                    summary_ca_df  \n",
       "25                                                                                                                                                                                                                       A CAPEC with the title Exploitation of Trusted Identifiers. The description of this CAPEC is:\\n            <xhtml:p>An adversary guesses, obtains, or \"rides\" a trusted identifier (e.g. session ID, resource ID, cookie, etc.) to perform authorized actions under the guise of an authenticated user or service.</xhtml:p>\\n         . The Domain of this is: Software  \n",
       "52  A CAPEC with the title Escaping Virtualization. The description of this CAPEC is:An adversary gains access to an application, service, or device with the privileges of an authorized or privileged user by escaping the confines of a virtualized environment. The adversary is then able to access resources or execute unauthorized code within the host environment, generally with the privileges of the user running the virtualized process. Successfully executing an attack of this type is often the first step in executing more complex attacks.. The Domain of this is: Software  "
      ]
     },
     "execution_count": 82,
     "metadata": {},
     "output_type": "execute_result"
    }
   ],
   "source": [
    "threats_in_our_not_in_orca = our_mappings[~our_mappings['Name'].isin(orca_mappings['Name'])]\n",
    "threats_in_our_not_in_orca"
   ]
  },
  {
   "cell_type": "markdown",
   "id": "ea0e5b6f",
   "metadata": {},
   "source": [
    "## Preparation for Prompt Engineering"
   ]
  },
  {
   "cell_type": "code",
   "execution_count": 83,
   "id": "4a60c611",
   "metadata": {},
   "outputs": [],
   "source": [
    "#threat_data_for_PE = df_threats[['Threat ID', 'summary_th_df']]\n",
    "##save as pickle\n",
    "#threat_data_for_PE.to_pickle('threat_data/threat_data_for_PE.pk1')"
   ]
  },
  {
   "cell_type": "code",
   "execution_count": 84,
   "id": "606894a1",
   "metadata": {},
   "outputs": [],
   "source": [
    "#capec_data_for_PE = capecs_df[['CAPEC ID', 'summary']]\n",
    "#capec_data_for_PE.to_pickle('capec_data/capec_data_for_PE.pk1')"
   ]
  },
  {
   "cell_type": "code",
   "execution_count": 74,
   "id": "ef6aa53c",
   "metadata": {},
   "outputs": [],
   "source": [
    "threat_data_for_PE = pd.read_pickle('threat_data/threat_data_for_PE.pk1')"
   ]
  },
  {
   "cell_type": "code",
   "execution_count": 75,
   "id": "4f5f5481",
   "metadata": {},
   "outputs": [],
   "source": [
    "capec_data_for_PE = pd.read_pickle('capec_data/capec_data_for_PE.pk1')"
   ]
  },
  {
   "cell_type": "markdown",
   "id": "6106938e",
   "metadata": {},
   "source": [
    "## Preparation for Retrieval Augmented Generation"
   ]
  },
  {
   "cell_type": "code",
   "execution_count": 3,
   "id": "d8cdd475",
   "metadata": {},
   "outputs": [],
   "source": [
    "client = chromadb.Client()\n",
    "\n",
    "collection = client.create_collection(name=\"capec_summaries\")"
   ]
  },
  {
   "cell_type": "code",
   "execution_count": 88,
   "id": "a874d5ac",
   "metadata": {},
   "outputs": [],
   "source": [
    "#capecs_for_rag = capecs_with_embeddings_df[['CAPEC ID', 'summary_ca_df', 'embedding']]\n",
    "#capecs_for_rag.to_pickle('capec_data/capecs_for_rag.pk1')\n"
   ]
  },
  {
   "cell_type": "code",
   "execution_count": 4,
   "id": "00cdd5ff",
   "metadata": {},
   "outputs": [
    {
     "data": {
      "text/plain": [
       "Index(['CAPEC ID', 'summary_ca_df', 'embedding'], dtype='object')"
      ]
     },
     "execution_count": 4,
     "metadata": {},
     "output_type": "execute_result"
    }
   ],
   "source": [
    "capecs_for_rag = pd.read_pickle('capec_data/capecs_for_rag.pk1')\n",
    "capecs_for_rag.columns"
   ]
  },
  {
   "cell_type": "code",
   "execution_count": 5,
   "id": "f33c4a87",
   "metadata": {},
   "outputs": [
    {
     "data": {
      "text/html": [
       "<div>\n",
       "<style scoped>\n",
       "    .dataframe tbody tr th:only-of-type {\n",
       "        vertical-align: middle;\n",
       "    }\n",
       "\n",
       "    .dataframe tbody tr th {\n",
       "        vertical-align: top;\n",
       "    }\n",
       "\n",
       "    .dataframe thead th {\n",
       "        text-align: right;\n",
       "    }\n",
       "</style>\n",
       "<table border=\"1\" class=\"dataframe\">\n",
       "  <thead>\n",
       "    <tr style=\"text-align: right;\">\n",
       "      <th></th>\n",
       "      <th>CAPEC ID</th>\n",
       "      <th>summary_ca_df</th>\n",
       "      <th>embedding</th>\n",
       "    </tr>\n",
       "  </thead>\n",
       "  <tbody>\n",
       "    <tr>\n",
       "      <th>332</th>\n",
       "      <td>CAPEC-388</td>\n",
       "      <td>A CAPEC with the title Application API Button Hijacking. The description of this CAPEC is: An attacker manipulates either egress or ingress data from a client within an application framework in order to change the destination and/or content of buttons displayed to a user within API messages. Performing this attack allows the attacker to manipulate content in such a way as to produce messages or content that looks authentic but contains buttons that point to an attacker controlled destination.. The Domains of this are: Communications, Software</td>\n",
       "      <td>[-0.09660268, -0.024990467, -0.06556756, -0.034083683, 0.08587063, -0.031270582, 0.08086327, 0.072511345, 0.026165651, 0.09382413, 0.022175195, -0.061826847, 0.08069135, 0.026079496, 0.024389252, 0.02412405, 0.0982337, -0.010384195, 0.030759046, 0.022157736, 0.04558904, 0.0008449253, 0.05094539, -0.006732292, -0.036083594, -0.083607845, -0.06550466, -0.020885358, 0.036888957, 0.029068153, 0.014549538, 0.0073131123, -0.01126702, 0.04531945, -0.035082564, -0.012772132, -0.04496509, -0.037167173, 0.010765026, -0.007192766, 0.018093435, 0.0139979, -0.018432982, 0.000637252, 0.03310593, -0.044983365, -0.096866384, 0.039721385, -0.053525906, 0.001320447, 0.006098934, -0.04691893, -0.049887553, -0.073230214, 0.05487122, -0.024749318, -0.025730837, 0.086471245, 0.0037040876, 0.0709436, 0.0544438, 0.01045356, -0.043527737, 0.073829934, 0.02150678, 0.015669808, -0.00710991, 0.04828505, 0.0632451, -0.009080141, -0.10306844, -0.07031467, -0.10045804, -0.008562676, 0.06834314, 0.013022136, -0.08599082, 0.013354747, -0.058475055, -0.012335492, -0.018924342, 0.007990964, 0.0034954553, 0.073524, -0.056690596, -0.027808208, 0.028031873, -0.08237382, 0.07927512, 0.040483832, -0.08176875, -0.08794209, 0.046366334, 0.06541974, -0.07820449, 0.0059133344, -0.05631349, -0.031175673, -0.04215153, 0.117175676, ...]</td>\n",
       "    </tr>\n",
       "  </tbody>\n",
       "</table>\n",
       "</div>"
      ],
      "text/plain": [
       "      CAPEC ID  \\\n",
       "332  CAPEC-388   \n",
       "\n",
       "                                                                                                                                                                                                                                                                                                                                                                                                                                                                                                                                                            summary_ca_df  \\\n",
       "332  A CAPEC with the title Application API Button Hijacking. The description of this CAPEC is: An attacker manipulates either egress or ingress data from a client within an application framework in order to change the destination and/or content of buttons displayed to a user within API messages. Performing this attack allows the attacker to manipulate content in such a way as to produce messages or content that looks authentic but contains buttons that point to an attacker controlled destination.. The Domains of this are: Communications, Software   \n",
       "\n",
       "                                                                                                                                                                                                                                                                                                                                                                                                                                                                                                                                                                                                                                                                                                                                                                                                                                                                                                                                                                                                                                                                                                                                                                                                                                                                                                                                                           embedding  \n",
       "332  [-0.09660268, -0.024990467, -0.06556756, -0.034083683, 0.08587063, -0.031270582, 0.08086327, 0.072511345, 0.026165651, 0.09382413, 0.022175195, -0.061826847, 0.08069135, 0.026079496, 0.024389252, 0.02412405, 0.0982337, -0.010384195, 0.030759046, 0.022157736, 0.04558904, 0.0008449253, 0.05094539, -0.006732292, -0.036083594, -0.083607845, -0.06550466, -0.020885358, 0.036888957, 0.029068153, 0.014549538, 0.0073131123, -0.01126702, 0.04531945, -0.035082564, -0.012772132, -0.04496509, -0.037167173, 0.010765026, -0.007192766, 0.018093435, 0.0139979, -0.018432982, 0.000637252, 0.03310593, -0.044983365, -0.096866384, 0.039721385, -0.053525906, 0.001320447, 0.006098934, -0.04691893, -0.049887553, -0.073230214, 0.05487122, -0.024749318, -0.025730837, 0.086471245, 0.0037040876, 0.0709436, 0.0544438, 0.01045356, -0.043527737, 0.073829934, 0.02150678, 0.015669808, -0.00710991, 0.04828505, 0.0632451, -0.009080141, -0.10306844, -0.07031467, -0.10045804, -0.008562676, 0.06834314, 0.013022136, -0.08599082, 0.013354747, -0.058475055, -0.012335492, -0.018924342, 0.007990964, 0.0034954553, 0.073524, -0.056690596, -0.027808208, 0.028031873, -0.08237382, 0.07927512, 0.040483832, -0.08176875, -0.08794209, 0.046366334, 0.06541974, -0.07820449, 0.0059133344, -0.05631349, -0.031175673, -0.04215153, 0.117175676, ...]  "
      ]
     },
     "execution_count": 5,
     "metadata": {},
     "output_type": "execute_result"
    }
   ],
   "source": [
    "capecs_for_rag[capecs_for_rag['CAPEC ID']=='CAPEC-388']"
   ]
  },
  {
   "cell_type": "code",
   "execution_count": 6,
   "id": "3a346c3c",
   "metadata": {},
   "outputs": [],
   "source": [
    "collection.add(\n",
    "    documents=capecs_for_rag['summary_ca_df'].tolist(),\n",
    "    embeddings=capecs_for_rag['embedding'].tolist(),\n",
    "    ids=capecs_for_rag['CAPEC ID'].astype(str).tolist(),\n",
    "    metadatas=capecs_for_rag[['CAPEC ID']].to_dict(orient='records')\n",
    ")"
   ]
  },
  {
   "cell_type": "code",
   "execution_count": 92,
   "id": "b49b2c49",
   "metadata": {},
   "outputs": [],
   "source": [
    "#threat_data_for_RAG = df_threats[['Threat ID', 'summary_th_df', 'embedding' ]]\n",
    "##save as pickle\n",
    "#threat_data_for_RAG.to_pickle('threat_data/threat_data_for_RAG.pk1')"
   ]
  },
  {
   "cell_type": "code",
   "execution_count": 7,
   "id": "3a66ac2f",
   "metadata": {},
   "outputs": [
    {
     "data": {
      "text/plain": [
       "Index(['Threat ID', 'summary_th_df', 'embedding'], dtype='object')"
      ]
     },
     "execution_count": 7,
     "metadata": {},
     "output_type": "execute_result"
    }
   ],
   "source": [
    "threat_data_for_RAG = pd.read_pickle('threat_data/threat_data_for_RAG.pk1')\n",
    "threat_data_for_RAG.columns"
   ]
  },
  {
   "cell_type": "markdown",
   "id": "1a081930",
   "metadata": {},
   "source": [
    "Testing the mapping with the chromadb"
   ]
  },
  {
   "cell_type": "code",
   "execution_count": 8,
   "id": "b211e915",
   "metadata": {},
   "outputs": [
    {
     "data": {
      "text/plain": [
       "Index(['Name', 'CAPEC ID', 'Similarity_orca', 'Similarity_our',\n",
       "       'Similarity_difference'],\n",
       "      dtype='object')"
      ]
     },
     "execution_count": 8,
     "metadata": {},
     "output_type": "execute_result"
    }
   ],
   "source": [
    "merged_mappings_above_055 = pd.read_pickle('mapped_data/merged_mappings_above_055_df.pk1')\n",
    "merged_mappings_above_055.columns"
   ]
  },
  {
   "cell_type": "code",
   "execution_count": 9,
   "id": "59e9f2a5",
   "metadata": {},
   "outputs": [
    {
     "data": {
      "text/plain": [
       "'T-A1-02'"
      ]
     },
     "execution_count": 9,
     "metadata": {},
     "output_type": "execute_result"
    }
   ],
   "source": [
    "#selecting a threat for the query\n",
    "id_for_query = merged_mappings_above_055.Name[0]\n",
    "id_for_query"
   ]
  },
  {
   "cell_type": "code",
   "execution_count": 10,
   "id": "c1e326a8",
   "metadata": {},
   "outputs": [
    {
     "data": {
      "text/html": [
       "<div>\n",
       "<style scoped>\n",
       "    .dataframe tbody tr th:only-of-type {\n",
       "        vertical-align: middle;\n",
       "    }\n",
       "\n",
       "    .dataframe tbody tr th {\n",
       "        vertical-align: top;\n",
       "    }\n",
       "\n",
       "    .dataframe thead th {\n",
       "        text-align: right;\n",
       "    }\n",
       "</style>\n",
       "<table border=\"1\" class=\"dataframe\">\n",
       "  <thead>\n",
       "    <tr style=\"text-align: right;\">\n",
       "      <th></th>\n",
       "      <th>Threat ID</th>\n",
       "      <th>summary_th_df</th>\n",
       "      <th>embedding</th>\n",
       "    </tr>\n",
       "  </thead>\n",
       "  <tbody>\n",
       "    <tr>\n",
       "      <th>82</th>\n",
       "      <td>T-A1-02</td>\n",
       "      <td>A Threat with the title Malicious function or application monitors messaging across A1 interface and the descriptionInternal threat actor can gain access to the messaging across the A1 interface for a MiTM attack to read policy.</td>\n",
       "      <td>[-0.027739309, 0.039540276, -0.038193483, -0.064284176, 0.088824324, -0.02560193, 0.12704141, 0.065274455, 0.054320317, 0.0046378914, 0.040495235, 0.0023881504, 0.03544273, -0.017115422, 0.016286844, 0.003277275, 0.101387314, -0.021604331, 0.018275477, 0.064627446, 0.08360575, 0.09084395, 0.023560043, -0.048624154, -0.06993853, -0.057262607, -0.04224992, 0.0016884137, 0.0075714597, -0.033969115, -0.06429448, 0.060686, -0.021285363, 0.053470537, -0.0606143, 0.033483386, 0.044285163, -0.02340873, -0.059319247, -0.057974245, -0.016330019, 0.07626063, 0.017759696, 0.022122798, -0.04441153, -0.06288382, -0.037837766, 0.04278041, -0.081336096, -0.04566745, -0.034063447, -0.037952803, 0.033880893, 0.06803568, 0.047451872, 0.00011087, 0.02009153, 0.07239538, 0.003620003, 0.060912747, 0.0074188113, -0.024893595, -7.6623866e-05, -0.009235851, -0.004327226, 0.017078962, -0.029751316, 0.029763315, 0.0029225426, -0.013260386, -0.069189, -0.039105035, -0.091323, 0.017978434, 0.028634576, 0.12855332, -0.049613547, -0.029881166, -0.018157825, -0.022697724, -0.018072657, 0.020875853, -0.019673185, 0.07867883, -0.014780375, 0.045998853, -0.021762995, -0.09158808, 0.04431891, 0.038917635, 0.0010569671, -0.08731048, 0.08533341, 0.06907569, 0.028410776, 0.048127726, -0.068348385, -0.13235407, -0.037798945, 0.12500024, ...]</td>\n",
       "    </tr>\n",
       "  </tbody>\n",
       "</table>\n",
       "</div>"
      ],
      "text/plain": [
       "   Threat ID  \\\n",
       "82   T-A1-02   \n",
       "\n",
       "                                                                                                                                                                                                                           summary_th_df  \\\n",
       "82  A Threat with the title Malicious function or application monitors messaging across A1 interface and the descriptionInternal threat actor can gain access to the messaging across the A1 interface for a MiTM attack to read policy.   \n",
       "\n",
       "                                                                                                                                                                                                                                                                                                                                                                                                                                                                                                                                                                                                                                                                                                                                                                                                                                                                                                                                                                                                                                                                                                                                                                                                                                                                                                                                                                      embedding  \n",
       "82  [-0.027739309, 0.039540276, -0.038193483, -0.064284176, 0.088824324, -0.02560193, 0.12704141, 0.065274455, 0.054320317, 0.0046378914, 0.040495235, 0.0023881504, 0.03544273, -0.017115422, 0.016286844, 0.003277275, 0.101387314, -0.021604331, 0.018275477, 0.064627446, 0.08360575, 0.09084395, 0.023560043, -0.048624154, -0.06993853, -0.057262607, -0.04224992, 0.0016884137, 0.0075714597, -0.033969115, -0.06429448, 0.060686, -0.021285363, 0.053470537, -0.0606143, 0.033483386, 0.044285163, -0.02340873, -0.059319247, -0.057974245, -0.016330019, 0.07626063, 0.017759696, 0.022122798, -0.04441153, -0.06288382, -0.037837766, 0.04278041, -0.081336096, -0.04566745, -0.034063447, -0.037952803, 0.033880893, 0.06803568, 0.047451872, 0.00011087, 0.02009153, 0.07239538, 0.003620003, 0.060912747, 0.0074188113, -0.024893595, -7.6623866e-05, -0.009235851, -0.004327226, 0.017078962, -0.029751316, 0.029763315, 0.0029225426, -0.013260386, -0.069189, -0.039105035, -0.091323, 0.017978434, 0.028634576, 0.12855332, -0.049613547, -0.029881166, -0.018157825, -0.022697724, -0.018072657, 0.020875853, -0.019673185, 0.07867883, -0.014780375, 0.045998853, -0.021762995, -0.09158808, 0.04431891, 0.038917635, 0.0010569671, -0.08731048, 0.08533341, 0.06907569, 0.028410776, 0.048127726, -0.068348385, -0.13235407, -0.037798945, 0.12500024, ...]  "
      ]
     },
     "execution_count": 10,
     "metadata": {},
     "output_type": "execute_result"
    }
   ],
   "source": [
    "chosen_threat = threat_data_for_RAG[threat_data_for_RAG['Threat ID'] == id_for_query]\n",
    "chosen_threat"
   ]
  },
  {
   "cell_type": "code",
   "execution_count": 11,
   "id": "7b034f84",
   "metadata": {},
   "outputs": [],
   "source": [
    "query = chosen_threat['summary_th_df'].tolist()[0]\n",
    "query_embedding = chosen_threat['embedding'].tolist()[0]\n"
   ]
  },
  {
   "cell_type": "code",
   "execution_count": 12,
   "id": "5d321731",
   "metadata": {},
   "outputs": [],
   "source": [
    "results = collection.query(\n",
    "    query_embeddings=[query_embedding],\n",
    "    n_results=5,\n",
    ")"
   ]
  },
  {
   "cell_type": "code",
   "execution_count": 13,
   "id": "d419775d",
   "metadata": {},
   "outputs": [
    {
     "name": "stdout",
     "output_type": "stream",
     "text": [
      "Text: A CAPEC with the title Navigation Remapping To Propagate Malicious Content. The description of this CAPEC is: An adversary manipulates either egress or ingress data from a client within an application framework in order to change the content of messages and thereby circumvent the expected application logic.. The Domains of this are: Communications, Software\n",
      "Metadata: {'CAPEC ID': 'CAPEC-387'}\n",
      "----------------------------------------\n",
      "Text: A CAPEC with the title Choosing Message Identifier. The description of this CAPEC is: This pattern of attack is defined by the selection of messages distributed via multicast or public information channels that are intended for another client by determining the parameter value assigned to that client. This attack allows the adversary to gain access to potentially privileged information, and to possibly perpetrate other attacks through the distribution means by impersonation. If the channel/message being manipulated is an input rather than output mechanism for the system, (such as a command bus), this style of attack could be used to change the adversary's identifier to more a privileged one.. The Domain of this is: Communications\n",
      "Metadata: {'CAPEC ID': 'CAPEC-12'}\n",
      "----------------------------------------\n",
      "Text: A CAPEC with the title Application API Button Hijacking. The description of this CAPEC is: An attacker manipulates either egress or ingress data from a client within an application framework in order to change the destination and/or content of buttons displayed to a user within API messages. Performing this attack allows the attacker to manipulate content in such a way as to produce messages or content that looks authentic but contains buttons that point to an attacker controlled destination.. The Domains of this are: Communications, Software\n",
      "Metadata: {'CAPEC ID': 'CAPEC-388'}\n",
      "----------------------------------------\n",
      "Text: A CAPEC with the title Intent Spoof. The description of this CAPEC is: An adversary, through a previously installed malicious application, issues an intent directed toward a specific trusted application's component in an attempt to achieve a variety of different objectives including modification of data, information disclosure, and data injection. Components that have been unintentionally exported and made public are subject to this type of an attack. If the component trusts the intent's action without verififcation, then the target application performs the functionality at the adversary's request, helping the adversary achieve the desired negative technical impact.. The Domain of this is: Software\n",
      "Metadata: {'CAPEC ID': 'CAPEC-502'}\n",
      "----------------------------------------\n",
      "Text: A CAPEC with the title Adversary in the Middle (AiTM). The description of this CAPEC is: \n",
      "            <xhtml:p>An adversary targets the communication between two components (typically client and server), in order to alter or obtain data from transactions. A general approach entails the adversary placing themself within the communication channel between the two components.</xhtml:p>\n",
      "         . The Domains of this are: Communications, Software\n",
      "Metadata: {'CAPEC ID': 'CAPEC-94'}\n",
      "----------------------------------------\n"
     ]
    }
   ],
   "source": [
    "for doc, meta in zip(results['documents'][0], results['metadatas'][0]):\n",
    "    print(\"Text:\", doc)\n",
    "    print(\"Metadata:\", meta)\n",
    "    print(\"-\" * 40)"
   ]
  },
  {
   "cell_type": "code",
   "execution_count": 14,
   "id": "8596bcbf",
   "metadata": {},
   "outputs": [
    {
     "data": {
      "text/html": [
       "<div>\n",
       "<style scoped>\n",
       "    .dataframe tbody tr th:only-of-type {\n",
       "        vertical-align: middle;\n",
       "    }\n",
       "\n",
       "    .dataframe tbody tr th {\n",
       "        vertical-align: top;\n",
       "    }\n",
       "\n",
       "    .dataframe thead th {\n",
       "        text-align: right;\n",
       "    }\n",
       "</style>\n",
       "<table border=\"1\" class=\"dataframe\">\n",
       "  <thead>\n",
       "    <tr style=\"text-align: right;\">\n",
       "      <th></th>\n",
       "      <th>Name</th>\n",
       "      <th>CAPEC ID</th>\n",
       "      <th>Similarity_orca</th>\n",
       "      <th>Similarity_our</th>\n",
       "      <th>Similarity_difference</th>\n",
       "    </tr>\n",
       "  </thead>\n",
       "  <tbody>\n",
       "    <tr>\n",
       "      <th>0</th>\n",
       "      <td>T-A1-02</td>\n",
       "      <td>CAPEC-12</td>\n",
       "      <td>0.584865</td>\n",
       "      <td>0.590688</td>\n",
       "      <td>0.005823</td>\n",
       "    </tr>\n",
       "    <tr>\n",
       "      <th>2</th>\n",
       "      <td>T-A1-02</td>\n",
       "      <td>CAPEC-387</td>\n",
       "      <td>0.596484</td>\n",
       "      <td>0.609855</td>\n",
       "      <td>0.013371</td>\n",
       "    </tr>\n",
       "    <tr>\n",
       "      <th>3</th>\n",
       "      <td>T-A1-02</td>\n",
       "      <td>CAPEC-388</td>\n",
       "      <td>0.564509</td>\n",
       "      <td>0.583051</td>\n",
       "      <td>0.018542</td>\n",
       "    </tr>\n",
       "    <tr>\n",
       "      <th>5</th>\n",
       "      <td>T-A1-02</td>\n",
       "      <td>CAPEC-94</td>\n",
       "      <td>0.579672</td>\n",
       "      <td>0.553981</td>\n",
       "      <td>0.025691</td>\n",
       "    </tr>\n",
       "  </tbody>\n",
       "</table>\n",
       "</div>"
      ],
      "text/plain": [
       "      Name   CAPEC ID  Similarity_orca  Similarity_our  Similarity_difference\n",
       "0  T-A1-02   CAPEC-12         0.584865        0.590688               0.005823\n",
       "2  T-A1-02  CAPEC-387         0.596484        0.609855               0.013371\n",
       "3  T-A1-02  CAPEC-388         0.564509        0.583051               0.018542\n",
       "5  T-A1-02   CAPEC-94         0.579672        0.553981               0.025691"
      ]
     },
     "execution_count": 14,
     "metadata": {},
     "output_type": "execute_result"
    }
   ],
   "source": [
    "merged_mappings_above_055[merged_mappings_above_055['Name'] == id_for_query]"
   ]
  },
  {
   "cell_type": "markdown",
   "id": "e761d080",
   "metadata": {},
   "source": [
    "## Preparation for Fine Tuning with LoRA"
   ]
  },
  {
   "cell_type": "code",
   "execution_count": null,
   "id": "9a5e35af",
   "metadata": {},
   "outputs": [
    {
     "name": "stdout",
     "output_type": "stream",
     "text": [
      "Original data size: 163\n",
      "Training data size: 130\n",
      "Test data size: 33\n"
     ]
    }
   ],
   "source": [
    "#from sklearn.model_selection import train_test_split\n",
    "#\n",
    "## Assuming 'our_mappings' is your original pandas DataFrame\n",
    "#\n",
    "## 1. Split the DataFrame into 80% for training and 20% for testing\n",
    "#train_df, test_df = train_test_split(\n",
    "#    our_mappings,\n",
    "#    test_size=0.2,      # 20% of the data will be used for the test set\n",
    "#    random_state=42     # Ensures the split is the same every time you run the code\n",
    "#)\n",
    "#\n",
    "## 2. Build the training_data list ONLY from the training portion (train_df)\n",
    "#training_data = []\n",
    "#for _, row in train_df.iterrows():\n",
    "#    prompt = f\"Threat Summary: {row['summary_th_df']}\"\n",
    "#    # Note: The comma at the end of the next line creates a tuple.\n",
    "#    # You might want to remove it to get just the string.\n",
    "#    completion = f\"{row['summary_ca_df']}\" # Removed trailing comma\n",
    "#    capec_id = row['CAPEC ID']\n",
    "#    training_data.append({\"threat\": prompt, \"mapped_capec\": completion, \"capec_id\": capec_id})\n",
    "#\n",
    "## Now 'training_data' is built from the 80% split,\n",
    "## and 'test_df' holds the remaining 20% for evaluation.\n",
    "#print(f\"Original data size: {len(our_mappings)}\")\n",
    "#print(f\"Training data size: {len(train_df)}\")\n",
    "#print(f\"Test data size: {len(test_df)}\")"
   ]
  },
  {
   "cell_type": "code",
   "execution_count": null,
   "id": "8ce6c3c9",
   "metadata": {},
   "outputs": [],
   "source": []
  },
  {
   "cell_type": "code",
   "execution_count": 6,
   "id": "f1d81c60",
   "metadata": {},
   "outputs": [
    {
     "name": "stdout",
     "output_type": "stream",
     "text": [
      "Saved 130 training examples to 'mapped_data/lora_training_data.jsonl'\n"
     ]
    }
   ],
   "source": [
    "# Save to JSONL format in the desired directory\n",
    "output_path = \"mapped_data/lora_training_data.jsonl\"\n",
    "with open(output_path, \"w\", encoding=\"utf-8\") as f:\n",
    "    for entry in training_data:\n",
    "        f.write(json.dumps(entry) + \"\\n\")\n",
    "\n",
    "print(f\"Saved {len(training_data)} training examples to '{output_path}'\")"
   ]
  },
  {
   "cell_type": "code",
   "execution_count": 7,
   "id": "73c0aea2",
   "metadata": {},
   "outputs": [],
   "source": [
    "# loading the training data from the JSONL file\n",
    "output_path = \"mapped_data/lora_training_data.jsonl\"\n",
    "with open(output_path, \"r\", encoding=\"utf-8\") as f:\n",
    "    training_data = [json.loads(line) for line in f]"
   ]
  },
  {
   "cell_type": "code",
   "execution_count": 8,
   "id": "311c8777",
   "metadata": {},
   "outputs": [
    {
     "data": {
      "text/plain": [
       "{'threat': 'Threat Summary: A Threat with the title Attacker exploits insecure API to gain access to SMO and the descriptionAn insecure API may allow access to a system for an attacker to conduct remote code execution or an advanced persistent threat',\n",
       " 'mapped_capec': \"A CAPEC with the title Malicious Manual Software Update. The description of this CAPEC is:An attacker introduces malicious code to the victim's system by altering the payload of a software update, allowing for additional compromise or site disruption at the victim location. These manual, or user-assisted attacks, vary from requiring the user to download and run an executable, to as streamlined as tricking the user to click a URL. Attacks which aim at penetrating a specific network infrastructure often rely upon secondary attack methods to achieve the desired impact. Spamming, for example, is a common method employed as an secondary attack vector. Thus the attacker has in their arsenal a choice of initial attack vectors ranging from traditional SMTP/POP/IMAP spamming and its varieties, to web-application mechanisms which commonly implement both chat and rich HTML messaging within the user interface.. The Domains of this are: Social Engineering, Supply Chain, Software\",\n",
       " 'capec_id': 'CAPEC-533'}"
      ]
     },
     "execution_count": 8,
     "metadata": {},
     "output_type": "execute_result"
    }
   ],
   "source": [
    "training_data[0]"
   ]
  },
  {
   "cell_type": "markdown",
   "id": "ae2613cc",
   "metadata": {},
   "source": [
    "# Modeling"
   ]
  },
  {
   "cell_type": "markdown",
   "id": "7f2a4375",
   "metadata": {},
   "source": [
    "## Prompt Engineering"
   ]
  },
  {
   "cell_type": "code",
   "execution_count": 76,
   "id": "2108f07a",
   "metadata": {},
   "outputs": [
    {
     "data": {
      "text/plain": [
       "Index(['CAPEC ID', 'summary'], dtype='object')"
      ]
     },
     "execution_count": 76,
     "metadata": {},
     "output_type": "execute_result"
    }
   ],
   "source": [
    "threat_data_for_PE = threat_data_for_PE.copy()\n",
    "capec_data_for_PE.columns"
   ]
  },
  {
   "cell_type": "code",
   "execution_count": 77,
   "id": "35322bef",
   "metadata": {},
   "outputs": [
    {
     "data": {
      "text/html": [
       "<div>\n",
       "<style scoped>\n",
       "    .dataframe tbody tr th:only-of-type {\n",
       "        vertical-align: middle;\n",
       "    }\n",
       "\n",
       "    .dataframe tbody tr th {\n",
       "        vertical-align: top;\n",
       "    }\n",
       "\n",
       "    .dataframe thead th {\n",
       "        text-align: right;\n",
       "    }\n",
       "</style>\n",
       "<table border=\"1\" class=\"dataframe\">\n",
       "  <thead>\n",
       "    <tr style=\"text-align: right;\">\n",
       "      <th></th>\n",
       "      <th>Threat ID</th>\n",
       "      <th>summary_th_df</th>\n",
       "    </tr>\n",
       "  </thead>\n",
       "  <tbody>\n",
       "    <tr>\n",
       "      <th>82</th>\n",
       "      <td>T-A1-02</td>\n",
       "      <td>A Threat with the title Malicious function or ...</td>\n",
       "    </tr>\n",
       "  </tbody>\n",
       "</table>\n",
       "</div>"
      ],
      "text/plain": [
       "   Threat ID                                      summary_th_df\n",
       "82   T-A1-02  A Threat with the title Malicious function or ..."
      ]
     },
     "execution_count": 77,
     "metadata": {},
     "output_type": "execute_result"
    }
   ],
   "source": [
    "# selecting a thest threat\n",
    "df = threat_data_for_PE[threat_data_for_PE['Threat ID'] == \"T-A1-02\"]\n",
    "df"
   ]
  },
  {
   "cell_type": "code",
   "execution_count": 78,
   "id": "87342b02",
   "metadata": {},
   "outputs": [
    {
     "data": {
      "text/plain": [
       "Threat ID                                                  T-A1-02\n",
       "summary_th_df    A Threat with the title Malicious function or ...\n",
       "Name: 82, dtype: object"
      ]
     },
     "execution_count": 78,
     "metadata": {},
     "output_type": "execute_result"
    }
   ],
   "source": [
    "row = df.iloc[0]\n",
    "row"
   ]
  },
  {
   "cell_type": "markdown",
   "id": "0f6ec422",
   "metadata": {},
   "source": [
    "### Small and Medium Setup code (LOCAL)"
   ]
  },
  {
   "cell_type": "code",
   "execution_count": 45,
   "id": "74932723",
   "metadata": {},
   "outputs": [],
   "source": [
    "small_models = []"
   ]
  },
  {
   "cell_type": "markdown",
   "id": "f218835b",
   "metadata": {},
   "source": [
    "Small"
   ]
  },
  {
   "cell_type": "code",
   "execution_count": 46,
   "id": "30e066de",
   "metadata": {},
   "outputs": [],
   "source": [
    "# model options for small setup\n",
    "small_models.append('deepseek-r1:1.5b')\n",
    "#model = 'qwen3:1.7b'"
   ]
  },
  {
   "cell_type": "markdown",
   "id": "78470747",
   "metadata": {},
   "source": [
    "Medium\n",
    "the bigger models in the following cell, only run on the medium setup in a reasonable time\n",
    "Uncomment a model and run the cell for choosing the model "
   ]
  },
  {
   "cell_type": "code",
   "execution_count": 47,
   "id": "e8a78c3a",
   "metadata": {},
   "outputs": [],
   "source": [
    "medium_models = []"
   ]
  },
  {
   "cell_type": "code",
   "execution_count": 48,
   "id": "8dda1a6b",
   "metadata": {},
   "outputs": [],
   "source": [
    "# model options for medium setup\n",
    "medium_models.append('deepseek-r1:32b')\n",
    "medium_models.append('deepseek-r1:8b')\n",
    "#medium_models.append('deepseek-r1:70b-llama-distill-q4_K_M')"
   ]
  },
  {
   "cell_type": "code",
   "execution_count": 52,
   "id": "419c7704",
   "metadata": {},
   "outputs": [],
   "source": [
    "def model_inference_ollama(models, df, prompt_function):\n",
    "    model_outputs = {m: [] for m in models}\n",
    "\n",
    "    for idx, row in tqdm(df.iterrows(), total=len(df)):\n",
    "        for model in models:\n",
    "            try:\n",
    "                response = ollama.generate(\n",
    "                    model=model,\n",
    "                    prompt=prompt_function(row),\n",
    "                    options={'temperature': 0.0, 'seed': 42}\n",
    "                )\n",
    "                \n",
    "            except Exception as e:\n",
    "                response = f\"[ERROR] {e}\"\n",
    "\n",
    "            model_outputs[model].append(response)\n",
    "            tqdm.write(f\"Inference for model {model} completed for threat {row['Threat ID']}\")\n",
    "\n",
    "    return model_outputs"
   ]
  },
  {
   "cell_type": "code",
   "execution_count": 53,
   "id": "33450e26",
   "metadata": {},
   "outputs": [],
   "source": [
    "def display_model_results_ollama(models, model_outputs):\n",
    "    for model in models:\n",
    "        print(\"=\" * 40)\n",
    "        print(f\"Model: {model}\")\n",
    "\n",
    "        # --- Speed & Runtime first ---\n",
    "        if not model_outputs[model]:\n",
    "            print(\"No outputs for this model.\\n\")\n",
    "            continue\n",
    "\n",
    "        resp = model_outputs[model][0]  # assumes object with eval_count and eval_duration\n",
    "        tokens_per_second = resp.eval_count / (resp.eval_duration / 1e9)\n",
    "        print(f\"Speed: {tokens_per_second:.2f} tokens/second\")\n",
    "\n",
    "        duration_s = resp.eval_duration / 1e9\n",
    "        minutes = int(duration_s // 60)\n",
    "        seconds = duration_s % 60\n",
    "        print(f\"Total runtime: {minutes:02d} m {seconds:05.2f} seconds\\n\")\n",
    "\n",
    "        # --- Then all outputs ---\n",
    "        print(\"Output:\")\n",
    "        for resp in model_outputs[model]:\n",
    "            cleaned_text = re.sub(\n",
    "                r\"<think>.*?</think>\\s*\", \n",
    "                \"\", \n",
    "                resp['response'], \n",
    "                flags=re.DOTALL\n",
    "            )\n",
    "            display(Markdown(cleaned_text))"
   ]
  },
  {
   "cell_type": "markdown",
   "id": "5360b832",
   "metadata": {},
   "source": [
    "Mappings of ORCA for comparison:"
   ]
  },
  {
   "attachments": {
    "image.png": {
     "image/png": "[encoded data removed]"
    }
   },
   "cell_type": "markdown",
   "id": "92467ce2",
   "metadata": {},
   "source": [
    "![image.png](attachment:image.png)"
   ]
  },
  {
   "cell_type": "markdown",
   "id": "fe2c8751",
   "metadata": {},
   "source": [
    "### Large Setup code (GEMINI API)"
   ]
  },
  {
   "cell_type": "markdown",
   "id": "78e43f71",
   "metadata": {},
   "source": [
    "Connecting to the Google Generative AI API to try larger models\n",
    "The context window is large, so it can handle the necessary amount of data"
   ]
  },
  {
   "cell_type": "code",
   "execution_count": 54,
   "id": "e58ea7b5",
   "metadata": {},
   "outputs": [],
   "source": [
    "large_setup_models = [\"gemini-2.5-pro\", \"gemini-2.5-flash\", \"gemini-2.5-flash-lite-preview-06-17\"]\n",
    "#models = [\"gemini-2.5-flash-lite-preview-06-17\"]"
   ]
  },
  {
   "cell_type": "code",
   "execution_count": 55,
   "id": "7d2bfcfa",
   "metadata": {},
   "outputs": [],
   "source": [
    "def model_inference_gemini(models, df, prompt):\n",
    "    # Initialize config and client\n",
    "    config = types.GenerateContentConfig(\n",
    "        temperature=0.0,\n",
    "        seed=42\n",
    "    )\n",
    "    client = genai.Client()\n",
    "\n",
    "    model_outputs = {m: [] for m in models}\n",
    "    model_stats = {m: [] for m in models}\n",
    "\n",
    "    for idx, row in tqdm(df.iterrows(), total=len(df)):\n",
    "        for model in models:\n",
    "            prompt = prompt\n",
    "\n",
    "            start_time = time.time()\n",
    "            response = client.models.generate_content(\n",
    "                model=model,\n",
    "                contents=prompt,\n",
    "                config=config\n",
    "            )\n",
    "            runtime = time.time() - start_time\n",
    "\n",
    "            token_count = (\n",
    "                response.usage_metadata.total_token_count +\n",
    "                response.usage_metadata.prompt_token_count\n",
    "            )\n",
    "            tokens_per_second = token_count / runtime if runtime > 0 else 0\n",
    "\n",
    "            model_outputs[model].append(response.text)\n",
    "            model_stats[model].append({\n",
    "                \"runtime\": runtime,\n",
    "                \"tokens_per_second\": tokens_per_second,\n",
    "                \"token_count\": token_count\n",
    "            })\n",
    "\n",
    "            tqdm.write(f\"Inference for model {model} completed for threat {row['Threat ID']}\")\n",
    "\n",
    "    return model_outputs, model_stats"
   ]
  },
  {
   "cell_type": "code",
   "execution_count": 56,
   "id": "df6f45f3",
   "metadata": {},
   "outputs": [],
   "source": [
    "def display_model_result_gemini(models, model_outputs, model_stats):\n",
    "    for model in models:\n",
    "        print(\"=\" * 40)\n",
    "        print(f\"Model: {model}\")\n",
    "        \n",
    "        # Ensure stats exist\n",
    "        stat = model_stats.get(model)\n",
    "        if stat and stat[\"runtime\"] is not None:\n",
    "            print(f\"Speed: {stat['tokens_per_second']:.2f} tokens/second\")\n",
    "            minutes = int(stat[\"runtime\"] // 60)\n",
    "            seconds = stat[\"runtime\"] % 60\n",
    "            print(f\"Total runtime: {minutes:02d} m {seconds:05.2f} seconds\\n\")\n",
    "        else:\n",
    "            print(\"Speed: N/A\\nTotal runtime: N/A\\nTokens: N/A\\n\")\n",
    "\n",
    "        print(\"Output:\")\n",
    "        if model in model_outputs:\n",
    "            # If multiple outputs exist for this model, iterate over them\n",
    "            outputs = model_outputs[model]\n",
    "            if isinstance(outputs, list):\n",
    "                for output in outputs:\n",
    "                    cleaned_text = re.sub(r\"<think>.*?</think>\\s*\", \"\", output, flags=re.DOTALL)\n",
    "                    display(Markdown(cleaned_text))\n",
    "            else:\n",
    "                cleaned_text = re.sub(r\"<think>.*?</think>\\s*\", \"\", outputs, flags=re.DOTALL)\n",
    "                display(Markdown(cleaned_text))\n",
    "        else:\n",
    "            print(\"No output available.\")"
   ]
  },
  {
   "cell_type": "markdown",
   "id": "80a86c5d",
   "metadata": {},
   "source": [
    "### Zero-Shot Prompt"
   ]
  },
  {
   "cell_type": "code",
   "execution_count": 88,
   "id": "8b02e78f",
   "metadata": {},
   "outputs": [],
   "source": [
    "def create_basic_zero_shot_prompt(threat):\n",
    "    return f\"\"\"Given the following threat summary:\n",
    "    \n",
    "    \"{threat['summary_th_df']}\"\n",
    "    \n",
    "    Provide the most relevant CAPEC IDs for this threat based on the description of each CAPEC. CAPEC stands for Common Attack Pattern Enumeration and Classification.\n",
    "    \n",
    "    As an output, provide a JSON array of CAPEC IDs that are most relevant to the threat described. Do not include any additional text or explanations, just the JSON array.\"\"\""
   ]
  },
  {
   "cell_type": "code",
   "execution_count": 83,
   "id": "ec2cdbdc",
   "metadata": {},
   "outputs": [],
   "source": [
    "def create_better_zero_shot_prompt(threat):\n",
    "    return f\"\"\"This task involves mapping a threat summary from the Open Radio Access Network (O-RAN) domain to relevant attack patterns.\n",
    "\n",
    "O-RAN represents a paradigm shift in Radio Access Network (RAN) design, moving from proprietary hardware to a more open, virtualized, and software-driven approach. It is used for mobile communication networks, particularly for 5G and future generations. Key principles of O-RAN include:\n",
    "- Open System: Characterized by standardized, open interfaces to foster a multi-vendor ecosystem.\n",
    "- Disaggregated RAN: Functionalities are distributed across different physical or virtual network functions.\n",
    "- Software-Driven Approach: Components are deployed on white-box appliances and accelerators.\n",
    "- Closed-Loop Control: Enabled by data-driven components deployed on RAN Intelligent Controllers (RICs).\n",
    "\n",
    "Now, based on the context above, analyze the following threat summary:\n",
    "\n",
    "\"{threat['summary_th_df'].iloc[0]}\"\n",
    "\n",
    "Provide the most relevant CAPEC IDs for this threat. CAPEC stands for Common Attack Pattern Enumeration and Classification.\n",
    "\n",
    "As an output, provide a JSON array of CAPEC IDs that are most relevant to the threat described. Do not include any additional text or explanations, just the JSON array.\"\"\""
   ]
  },
  {
   "cell_type": "code",
   "execution_count": null,
   "id": "d3612491",
   "metadata": {},
   "outputs": [],
   "source": [
    "# Build a formatted string with all CAPEC IDs and their summaries\n",
    "capec_context = \"\"\n",
    "\n",
    "for _, row in capec_data_for_PE.iterrows():\n",
    "    capec_id = row['CAPEC ID']\n",
    "    capec_summary = row['summary']\n",
    "    capec_context += f\"{capec_id}: {capec_summary}\\n\"\n",
    "\n"
   ]
  },
  {
   "cell_type": "code",
   "execution_count": 84,
   "id": "edbdc05f",
   "metadata": {},
   "outputs": [],
   "source": [
    "def create_prompt_with_capec_list(threat, capec_context):\n",
    "    return f\"\"\"You are a cybersecurity expert.\n",
    "\n",
    "Here is a list of CAPEC attack pattern summaries:\n",
    "{capec_context}\n",
    "\n",
    "Given the following threat description:\n",
    "\n",
    "\"{threat['summary_th_df'].iloc[0]}\"\n",
    "\n",
    "Which 3 CAPEC ID from the list above best match the threat based on their description? Respond only with the CAPEC ID and a brief justification.\"\"\"\n"
   ]
  },
  {
   "cell_type": "markdown",
   "id": "b3ec8007",
   "metadata": {},
   "source": [
    "Generating results"
   ]
  },
  {
   "cell_type": "code",
   "execution_count": null,
   "id": "34989c0a",
   "metadata": {},
   "outputs": [
    {
     "name": "stderr",
     "output_type": "stream",
     "text": [
      "100%|██████████| 1/1 [00:48<00:00, 48.08s/it]"
     ]
    },
    {
     "name": "stdout",
     "output_type": "stream",
     "text": [
      "Inference for model deepseek-r1:1.5b completed for threat T-A1-02. Prompt: Given the following threat summary:\n",
      "\n",
      "    \"A Threat with the title Malicious function or application monitors messaging across A1 interface and the descriptionInternal threat actor can gain access to the messaging across the A1 interface for a MiTM attack to read policy.\"\n",
      "\n",
      "    Provide the most relevant CAPEC IDs for this threat based on the description of each CAPEC. CAPEC stands for Common Attack Pattern Enumeration and Classification.\n",
      "\n",
      "    As an output, provide a JSON array of CAPEC IDs that are most relevant to the threat described. Do not include any additional text or explanations, just the JSON array.\n"
     ]
    },
    {
     "name": "stderr",
     "output_type": "stream",
     "text": [
      "\n"
     ]
    },
    {
     "data": {
      "text/plain": [
       "{'deepseek-r1:1.5b': [GenerateResponse(model='deepseek-r1:1.5b', created_at='2025-07-28T08:10:50.281604536Z', done=True, done_reason='stop', total_duration=48051331988, load_duration=16160277745, prompt_eval_count=120, prompt_eval_duration=2931639318, eval_count=461, eval_duration=28957309016, response='<think>\\nOkay, so I need to figure out which CAPEC IDs apply to this threat summary. Let me start by understanding what each CAPEC stands for and how they classify threats.\\n\\nFirst, the threat is about a malicious function or application monitoring messaging across the A1 interface. The description says it can gain access to messaging for a MiTM attack to read policies. So, the main issue here is unauthorized access to sensitive data through an interface, which leads to a misuse of information.\\n\\nNow, CAPECs are used to classify threats based on their nature and impact. I remember that there\\'s a section in the Common Vulnerability and Exposures database called \"Threat Vectors\" where each threat can be classified into a specific CAPEC.\\n\\nLooking at the description, it mentions unauthorized access to messaging across an interface for reading policies. That sounds like a penetration attack because it involves unauthorized access to sensitive data. Penetration attacks are categorized under the \"Access Control\" section of CAPECs.\\n\\nI think the relevant CAPEC here would be 70-421. Let me check that. Yes, 70-421 is for Access Control and Access Control Mechanisms. It covers unauthorized access to sensitive data through various channels, which fits because the threat involves accessing messaging across an interface.\\n\\nWait, are there other CAPECs that might apply? Maybe 65-300 or 65-301? Let me think. 65-300 is about unauthorized access to information stored in systems, and 65-301 is about unauthorized access to data stored on devices. But the threat here is more about accessing data through an interface rather than directly storing it in a system or device.\\n\\nSo, 70-421 seems like the best fit because it\\'s specifically about unauthorized access to sensitive data across various channels, including messaging interfaces. The mention of reading policies adds another layer, but I think that\\'s covered under the same category since policies are sensitive information.\\n\\nI don\\'t recall any other CAPECs that would cover this scenario. So, 70-421 should be the primary CAPEC for this threat.\\n</think>\\n\\n[\\n    \"70-421\"\\n]', thinking=None, context=[151644, 22043, 279, 2701, 5899, 12126, 1447, 262, 330, 32, 52335, 448, 279, 2265, 8394, 9627, 729, 476, 3766, 36477, 29522, 3941, 362, 16, 3749, 323, 279, 4008, 11569, 5899, 12089, 646, 8722, 2615, 311, 279, 29522, 3941, 279, 362, 16, 3749, 369, 264, 20740, 22034, 3359, 311, 1349, 4842, 2217, 262, 39565, 279, 1429, 9760, 9183, 10943, 28360, 369, 419, 5899, 3118, 389, 279, 4008, 315, 1817, 9183, 10943, 13, 9183, 10943, 13352, 369, 7718, 20790, 18834, 77125, 323, 54882, 382, 262, 1634, 458, 2550, 11, 3410, 264, 4718, 1334, 315, 9183, 10943, 28360, 429, 525, 1429, 9760, 311, 279, 5899, 7481, 13, 3155, 537, 2924, 894, 5107, 1467, 476, 40841, 11, 1101, 279, 4718, 1334, 13, 151645, 151648, 198, 32313, 11, 773, 358, 1184, 311, 7071, 700, 892, 9183, 10943, 28360, 3796, 311, 419, 5899, 12126, 13, 6771, 752, 1191, 553, 8660, 1128, 1817, 9183, 10943, 13352, 369, 323, 1246, 807, 48129, 17736, 382, 5338, 11, 279, 5899, 374, 911, 264, 38170, 729, 476, 3766, 16558, 29522, 3941, 279, 362, 16, 3749, 13, 576, 4008, 2727, 432, 646, 8722, 2615, 311, 29522, 369, 264, 20740, 22034, 3359, 311, 1349, 10186, 13, 2055, 11, 279, 1887, 4265, 1588, 374, 44471, 2615, 311, 16216, 821, 1526, 458, 3749, 11, 892, 11508, 311, 264, 61751, 315, 1995, 382, 7039, 11, 9183, 10943, 82, 525, 1483, 311, 48129, 17736, 3118, 389, 862, 6993, 323, 5421, 13, 358, 6099, 429, 1052, 594, 264, 3772, 304, 279, 7718, 80111, 2897, 323, 1374, 966, 1413, 4625, 2598, 330, 1001, 1222, 647, 10605, 1, 1380, 1817, 5899, 646, 387, 21091, 1119, 264, 3151, 9183, 10943, 382, 22464, 518, 279, 4008, 11, 432, 33845, 44471, 2615, 311, 29522, 3941, 458, 3749, 369, 5290, 10186, 13, 2938, 10362, 1075, 264, 43496, 3359, 1576, 432, 17601, 44471, 2615, 311, 16216, 821, 13, 13294, 73854, 8776, 525, 70874, 1212, 279, 330, 6054, 7779, 1, 3772, 315, 9183, 10943, 82, 382, 40, 1744, 279, 9760, 9183, 10943, 1588, 1035, 387, 220, 22, 15, 12, 19, 17, 16, 13, 6771, 752, 1779, 429, 13, 7414, 11, 220, 22, 15, 12, 19, 17, 16, 374, 369, 9549, 7779, 323, 9549, 7779, 27801, 13664, 13, 1084, 14521, 44471, 2615, 311, 16216, 821, 1526, 5257, 11744, 11, 892, 18304, 1576, 279, 5899, 17601, 31788, 29522, 3941, 458, 3749, 382, 14190, 11, 525, 1052, 1008, 9183, 10943, 82, 429, 2578, 3796, 30, 10696, 220, 21, 20, 12, 18, 15, 15, 476, 220, 21, 20, 12, 18, 15, 16, 30, 6771, 752, 1744, 13, 220, 21, 20, 12, 18, 15, 15, 374, 911, 44471, 2615, 311, 1995, 9768, 304, 5942, 11, 323, 220, 21, 20, 12, 18, 15, 16, 374, 911, 44471, 2615, 311, 821, 9768, 389, 7611, 13, 1988, 279, 5899, 1588, 374, 803, 911, 31788, 821, 1526, 458, 3749, 4751, 1091, 5961, 27572, 432, 304, 264, 1849, 476, 3671, 382, 4416, 11, 220, 22, 15, 12, 19, 17, 16, 4977, 1075, 279, 1850, 4946, 1576, 432, 594, 11689, 911, 44471, 2615, 311, 16216, 821, 3941, 5257, 11744, 11, 2670, 29522, 24099, 13, 576, 6286, 315, 5290, 10186, 11367, 2441, 6193, 11, 714, 358, 1744, 429, 594, 9761, 1212, 279, 1852, 5582, 2474, 10186, 525, 16216, 1995, 382, 40, 1513, 944, 19091, 894, 1008, 9183, 10943, 82, 429, 1035, 3421, 419, 15048, 13, 2055, 11, 220, 22, 15, 12, 19, 17, 16, 1265, 387, 279, 6028, 9183, 10943, 369, 419, 5899, 624, 151649, 271, 9640, 262, 330, 22, 15, 12, 19, 17, 16, 698, 60])]}"
      ]
     },
     "execution_count": 94,
     "metadata": {},
     "output_type": "execute_result"
    }
   ],
   "source": [
    "basic_zero = model_inference_ollama(small_models, df, create_basic_zero_shot_prompt)\n",
    "display_model_results_ollama(small_models, basic_zero)\n"
   ]
  },
  {
   "cell_type": "code",
   "execution_count": 95,
   "id": "d79a5c74",
   "metadata": {},
   "outputs": [
    {
     "name": "stdout",
     "output_type": "stream",
     "text": [
      "========================================\n",
      "Model: deepseek-r1:1.5b\n",
      "Speed: 15.92 tokens/second\n",
      "Total runtime: 00 m 28.96 seconds\n",
      "\n",
      "Output:\n"
     ]
    },
    {
     "data": {
      "text/markdown": [
       "[\n",
       "    \"70-421\"\n",
       "]"
      ],
      "text/plain": [
       "<IPython.core.display.Markdown object>"
      ]
     },
     "metadata": {},
     "output_type": "display_data"
    }
   ],
   "source": [
    "display_model_results_ollama(small_models, basic_zero)"
   ]
  },
  {
   "cell_type": "markdown",
   "id": "dc029d30",
   "metadata": {},
   "source": [
    "### Few-Shot Prompt"
   ]
  },
  {
   "cell_type": "code",
   "execution_count": 200,
   "id": "a94e6ce1",
   "metadata": {},
   "outputs": [
    {
     "data": {
      "text/html": [
       "<div>\n",
       "<style scoped>\n",
       "    .dataframe tbody tr th:only-of-type {\n",
       "        vertical-align: middle;\n",
       "    }\n",
       "\n",
       "    .dataframe tbody tr th {\n",
       "        vertical-align: top;\n",
       "    }\n",
       "\n",
       "    .dataframe thead th {\n",
       "        text-align: right;\n",
       "    }\n",
       "</style>\n",
       "<table border=\"1\" class=\"dataframe\">\n",
       "  <thead>\n",
       "    <tr style=\"text-align: right;\">\n",
       "      <th></th>\n",
       "      <th>Name</th>\n",
       "      <th>Domain</th>\n",
       "      <th>Description</th>\n",
       "      <th>CAPEC ID</th>\n",
       "      <th>Similarity</th>\n",
       "      <th>summary_th_df</th>\n",
       "      <th>summary_ca_df</th>\n",
       "    </tr>\n",
       "  </thead>\n",
       "  <tbody>\n",
       "    <tr>\n",
       "      <th>116</th>\n",
       "      <td>T-O-RAN-07</td>\n",
       "      <td>enterprise-attack</td>\n",
       "      <td>An attacker compromises O-RAN monitoring mechanisms and log files integrity and availability</td>\n",
       "      <td>CAPEC-268</td>\n",
       "      <td>0.667489</td>\n",
       "      <td>A Threat with the title An attacker compromises O-RAN monitoring mechanisms and log files integrity and availability and the descriptionImproper / missing controls for protection of security event log files generated by O-RAN components and the lack of security events logged together with a unique system reference (e.g. host name, IP or MAC address) and the exact time the incident occurred do not allow a correct and rapid audit in case of security incident occurrence. Security restoration is delayed. Compromise of availability and integrity of security event log files could conduct to delays, wrong audit results, delays in security restoration, threats persistence.</td>\n",
       "      <td>A CAPEC with the title Audit Log Manipulation. The description of this CAPEC is:The attacker injects, manipulates, deletes, or forges malicious log entries into the log file, in an attempt to mislead an audit of the log file or cover tracks of an attack. Due to either insufficient access controls of the log files or the logging mechanism, the attacker is able to perform such actions.. The Domain of this is: Software</td>\n",
       "    </tr>\n",
       "    <tr>\n",
       "      <th>77</th>\n",
       "      <td>T-RADIO-01</td>\n",
       "      <td>enterprise-attack</td>\n",
       "      <td>Disruption through radio jamming, sniffing and spoofing</td>\n",
       "      <td>CAPEC-601</td>\n",
       "      <td>0.654919</td>\n",
       "      <td>A Threat with the title Disruption through radio jamming, sniffing and spoofing and the descriptionLike for any wireless technology, disruption through radio jamming is possible by analyzing the physical downlink and uplink control channels and signals. 5G radio network is vulnerable to:\\n• Jamming Vulnerability of Reference Signals\\n• Jamming Vulnerability of Synchronization Signal\\n• Jamming Vulnerability of the PBCH\\n• Sniffing and Spoofing Vulnerability of the PBCH\\n• Jamming Vulnerability of PDCCH\\n• Jamming Vulnerability of Physical Uplink Control Channel\\n• Jamming Vulnerability of Physical Random-Access Channel\\nNOTE 1: The O-RAN OEMs need to develop new intelligence that can proactively alert the operator when this attack is initiated so that the operator can take appropriate actions to mitigate.\\nNOTE 2: In the scenario of RF spoofing, the UE needs to be able to validate the legitimacy of the O-RU as being one owned and operated by the operator. 3GPP has proposed in a study to use Digital Signatures to mitigate this threat but there has been no agreement on this to date. The O-RAN OEMs need to develop new intelligence that can proactively alert the operator when this attack is initiated so that the operator can take appropriate actions to mitigate.</td>\n",
       "      <td>A CAPEC with the title Jamming. The description of this CAPEC is:An adversary uses radio noise or signals in an attempt to disrupt communications. By intentionally overwhelming system resources with illegitimate traffic, service is denied to the legitimate traffic of authorized users.. The Domain of this is: Communications</td>\n",
       "    </tr>\n",
       "    <tr>\n",
       "      <th>11</th>\n",
       "      <td>T-RADIO-01</td>\n",
       "      <td>enterprise-attack</td>\n",
       "      <td>Disruption through radio jamming, sniffing and spoofing</td>\n",
       "      <td>CAPEC-605</td>\n",
       "      <td>0.653919</td>\n",
       "      <td>A Threat with the title Disruption through radio jamming, sniffing and spoofing and the descriptionLike for any wireless technology, disruption through radio jamming is possible by analyzing the physical downlink and uplink control channels and signals. 5G radio network is vulnerable to:\\n• Jamming Vulnerability of Reference Signals\\n• Jamming Vulnerability of Synchronization Signal\\n• Jamming Vulnerability of the PBCH\\n• Sniffing and Spoofing Vulnerability of the PBCH\\n• Jamming Vulnerability of PDCCH\\n• Jamming Vulnerability of Physical Uplink Control Channel\\n• Jamming Vulnerability of Physical Random-Access Channel\\nNOTE 1: The O-RAN OEMs need to develop new intelligence that can proactively alert the operator when this attack is initiated so that the operator can take appropriate actions to mitigate.\\nNOTE 2: In the scenario of RF spoofing, the UE needs to be able to validate the legitimacy of the O-RU as being one owned and operated by the operator. 3GPP has proposed in a study to use Digital Signatures to mitigate this threat but there has been no agreement on this to date. The O-RAN OEMs need to develop new intelligence that can proactively alert the operator when this attack is initiated so that the operator can take appropriate actions to mitigate.</td>\n",
       "      <td>A CAPEC with the title Cellular Jamming. The description of this CAPEC is:In this attack scenario, the attacker actively transmits signals to overpower and disrupt the communication between a cellular user device and a cell tower. Several existing techniques are known in the open literature for this attack for 2G, 3G, and 4G LTE cellular technology. For example, some attacks target cell towers by overwhelming them with false status messages, while others introduce high levels of noise on signaling channels.. The Domain of this is: Communications</td>\n",
       "    </tr>\n",
       "  </tbody>\n",
       "</table>\n",
       "</div>"
      ],
      "text/plain": [
       "           Name             Domain  \\\n",
       "116  T-O-RAN-07  enterprise-attack   \n",
       "77   T-RADIO-01  enterprise-attack   \n",
       "11   T-RADIO-01  enterprise-attack   \n",
       "\n",
       "                                                                                      Description  \\\n",
       "116  An attacker compromises O-RAN monitoring mechanisms and log files integrity and availability   \n",
       "77                                        Disruption through radio jamming, sniffing and spoofing   \n",
       "11                                        Disruption through radio jamming, sniffing and spoofing   \n",
       "\n",
       "      CAPEC ID  Similarity  \\\n",
       "116  CAPEC-268    0.667489   \n",
       "77   CAPEC-601    0.654919   \n",
       "11   CAPEC-605    0.653919   \n",
       "\n",
       "                                                                                                                                                                                                                                                                                                                                                                                                                                                                                                                                                                                                                                                                                                                                                                                                                                                                                                                                                                                                                                                                                                                                                                                                                                                                                                                      summary_th_df  \\\n",
       "116                                                                                                                                                                                                                                                                                                                                                                                                                                                                                                                                                                                                                               A Threat with the title An attacker compromises O-RAN monitoring mechanisms and log files integrity and availability and the descriptionImproper / missing controls for protection of security event log files generated by O-RAN components and the lack of security events logged together with a unique system reference (e.g. host name, IP or MAC address) and the exact time the incident occurred do not allow a correct and rapid audit in case of security incident occurrence. Security restoration is delayed. Compromise of availability and integrity of security event log files could conduct to delays, wrong audit results, delays in security restoration, threats persistence.   \n",
       "77   A Threat with the title Disruption through radio jamming, sniffing and spoofing and the descriptionLike for any wireless technology, disruption through radio jamming is possible by analyzing the physical downlink and uplink control channels and signals. 5G radio network is vulnerable to:\\n• Jamming Vulnerability of Reference Signals\\n• Jamming Vulnerability of Synchronization Signal\\n• Jamming Vulnerability of the PBCH\\n• Sniffing and Spoofing Vulnerability of the PBCH\\n• Jamming Vulnerability of PDCCH\\n• Jamming Vulnerability of Physical Uplink Control Channel\\n• Jamming Vulnerability of Physical Random-Access Channel\\nNOTE 1: The O-RAN OEMs need to develop new intelligence that can proactively alert the operator when this attack is initiated so that the operator can take appropriate actions to mitigate.\\nNOTE 2: In the scenario of RF spoofing, the UE needs to be able to validate the legitimacy of the O-RU as being one owned and operated by the operator. 3GPP has proposed in a study to use Digital Signatures to mitigate this threat but there has been no agreement on this to date. The O-RAN OEMs need to develop new intelligence that can proactively alert the operator when this attack is initiated so that the operator can take appropriate actions to mitigate.   \n",
       "11   A Threat with the title Disruption through radio jamming, sniffing and spoofing and the descriptionLike for any wireless technology, disruption through radio jamming is possible by analyzing the physical downlink and uplink control channels and signals. 5G radio network is vulnerable to:\\n• Jamming Vulnerability of Reference Signals\\n• Jamming Vulnerability of Synchronization Signal\\n• Jamming Vulnerability of the PBCH\\n• Sniffing and Spoofing Vulnerability of the PBCH\\n• Jamming Vulnerability of PDCCH\\n• Jamming Vulnerability of Physical Uplink Control Channel\\n• Jamming Vulnerability of Physical Random-Access Channel\\nNOTE 1: The O-RAN OEMs need to develop new intelligence that can proactively alert the operator when this attack is initiated so that the operator can take appropriate actions to mitigate.\\nNOTE 2: In the scenario of RF spoofing, the UE needs to be able to validate the legitimacy of the O-RU as being one owned and operated by the operator. 3GPP has proposed in a study to use Digital Signatures to mitigate this threat but there has been no agreement on this to date. The O-RAN OEMs need to develop new intelligence that can proactively alert the operator when this attack is initiated so that the operator can take appropriate actions to mitigate.   \n",
       "\n",
       "                                                                                                                                                                                                                                                                                                                                                                                                                                                                                                                                                               summary_ca_df  \n",
       "116                                                                                                                                      A CAPEC with the title Audit Log Manipulation. The description of this CAPEC is:The attacker injects, manipulates, deletes, or forges malicious log entries into the log file, in an attempt to mislead an audit of the log file or cover tracks of an attack. Due to either insufficient access controls of the log files or the logging mechanism, the attacker is able to perform such actions.. The Domain of this is: Software  \n",
       "77                                                                                                                                                                                                                                      A CAPEC with the title Jamming. The description of this CAPEC is:An adversary uses radio noise or signals in an attempt to disrupt communications. By intentionally overwhelming system resources with illegitimate traffic, service is denied to the legitimate traffic of authorized users.. The Domain of this is: Communications  \n",
       "11   A CAPEC with the title Cellular Jamming. The description of this CAPEC is:In this attack scenario, the attacker actively transmits signals to overpower and disrupt the communication between a cellular user device and a cell tower. Several existing techniques are known in the open literature for this attack for 2G, 3G, and 4G LTE cellular technology. For example, some attacks target cell towers by overwhelming them with false status messages, while others introduce high levels of noise on signaling channels.. The Domain of this is: Communications  "
      ]
     },
     "execution_count": 200,
     "metadata": {},
     "output_type": "execute_result"
    }
   ],
   "source": [
    "# sort by similarity\n",
    "sorted_mappings = our_mappings.sort_values(by='Similarity', ascending=False)\n",
    "sorted_mappings.head(3)"
   ]
  },
  {
   "cell_type": "code",
   "execution_count": 201,
   "id": "1589d5f9",
   "metadata": {},
   "outputs": [],
   "source": [
    "first_few_shot_example = sorted_mappings.iloc[0]\n",
    "second_few_shot_example = sorted_mappings.iloc[1]\n",
    "third_few_shot_example = sorted_mappings.iloc[2]"
   ]
  },
  {
   "cell_type": "code",
   "execution_count": 202,
   "id": "d2c7a830",
   "metadata": {},
   "outputs": [],
   "source": [
    "def create_few_shot_prompt(threat_summary):\n",
    "    # Build the instruction part\n",
    "    base_prompt = f\"\"\"This task involves mapping a threat summary from the Open Radio Access Network (O-RAN) domain to relevant attack patterns. O-RAN represents a paradigm shift in Radio Access Network (RAN) design, moving from proprietary hardware to a more open, virtualized, and software-driven approach. It is used for mobile communication networks, particularly for 5G and future generations. Key principles of O-RAN include:\n",
    "- Open System: Characterized by standardized, open interfaces to foster a multi-vendor ecosystem.\n",
    "- Disaggregated RAN: Functionalities are distributed across different physical or virtual network functions.\n",
    "- Software-Driven Approach: Components are deployed on white-box appliances and accelerators.\n",
    "- Closed-Loop Control: Enabled by data-driven components deployed on RAN Intelligent Controllers (RICs).\n",
    "\n",
    "Now, based on the context above, analyze the following threat summary: \"{threat_summary}\"\n",
    "Provide the most relevant CAPEC IDs for this threat. CAPEC stands for Common Attack Pattern Enumeration and Classification.\n",
    "\n",
    "As an output, provide a JSON array of CAPEC IDs that are most relevant to the threat described.\n",
    "Do not include any additional text or explanations, just the JSON array.\n",
    "\n",
    "Here are some examples:\n",
    "\"\"\"\n",
    "\n",
    "    # Few-shot examples\n",
    "    examples = []\n",
    "    for example in [first_few_shot_example, second_few_shot_example, third_few_shot_example]:\n",
    "        example_text = f\"\"\"\n",
    "Example:\n",
    "Threat Name: {example['Name']}\n",
    "Threat Summary: {example['summary_th_df']}\n",
    "CAPEC Summary: {example['summary_ca_df']}\n",
    "Mapped CAPEC ID: {example['CAPEC ID']}\n",
    "Desired Output:\n",
    "[{example['CAPEC ID']}]\n",
    "\"\"\"\n",
    "        examples.append(example_text.strip())\n",
    "\n",
    "    # Combine everything\n",
    "    full_prompt = base_prompt + \"\\n\\n\".join(examples)\n",
    "    return full_prompt\n"
   ]
  },
  {
   "cell_type": "markdown",
   "id": "26509ca8",
   "metadata": {},
   "source": []
  },
  {
   "cell_type": "markdown",
   "id": "527021bd",
   "metadata": {},
   "source": [
    "## RAG"
   ]
  },
  {
   "cell_type": "code",
   "execution_count": 16,
   "id": "1d56540e",
   "metadata": {},
   "outputs": [
    {
     "data": {
      "text/plain": [
       "Index(['Threat ID', 'summary_th_df', 'embedding'], dtype='object')"
      ]
     },
     "execution_count": 16,
     "metadata": {},
     "output_type": "execute_result"
    }
   ],
   "source": [
    "threat_data_for_RAG.columns"
   ]
  },
  {
   "cell_type": "code",
   "execution_count": 19,
   "id": "6bbf3240",
   "metadata": {},
   "outputs": [],
   "source": [
    "client = chromadb.Client()\n",
    "client.delete_collection('capec_summaries')\n",
    "collection = client.create_collection(name=\"capec_summaries\", configuration={'hnsw': {'space': 'cosine'}})"
   ]
  },
  {
   "cell_type": "code",
   "execution_count": 20,
   "id": "1a183eca",
   "metadata": {},
   "outputs": [
    {
     "data": {
      "text/plain": [
       "Index(['CAPEC ID', 'summary_ca_df', 'embedding'], dtype='object')"
      ]
     },
     "execution_count": 20,
     "metadata": {},
     "output_type": "execute_result"
    }
   ],
   "source": [
    "capecs_for_rag = pd.read_pickle('capec_data/capecs_for_rag.pk1')\n",
    "capecs_for_rag.columns"
   ]
  },
  {
   "cell_type": "code",
   "execution_count": 21,
   "id": "64de8a00",
   "metadata": {},
   "outputs": [],
   "source": [
    "collection.add(\n",
    "    documents=capecs_for_rag['summary_ca_df'].tolist(),\n",
    "    embeddings=capecs_for_rag['embedding'].tolist(),\n",
    "    ids=capecs_for_rag['CAPEC ID'].astype(str).tolist(),\n",
    "    metadatas=capecs_for_rag[['CAPEC ID']].to_dict(orient='records')\n",
    ")"
   ]
  },
  {
   "cell_type": "code",
   "execution_count": 22,
   "id": "f66c3fe9",
   "metadata": {},
   "outputs": [
    {
     "data": {
      "text/plain": [
       "Index(['Threat ID', 'summary_th_df', 'embedding'], dtype='object')"
      ]
     },
     "execution_count": 22,
     "metadata": {},
     "output_type": "execute_result"
    }
   ],
   "source": [
    "threat_data_for_RAG = pd.read_pickle('threat_data/threat_data_for_RAG.pk1')\n",
    "threat_data_for_RAG.columns"
   ]
  },
  {
   "cell_type": "code",
   "execution_count": 24,
   "id": "a4403ced",
   "metadata": {},
   "outputs": [
    {
     "data": {
      "text/plain": [
       "'A Threat with the title An attacker exploits insecure designs or lack of adaption in O-RAN components and the descriptionUnauthenticated/unauthorized access to O-RAN components could possibly be achieved via the different O-RAN interfaces, depending upon the design of the hardware-software O-RAN system and how different functions are segregated within the O-RAN system. \\nO-RAN components might be vulnerable if: \\n• Outdated component from the lack of update or patch management,\\n• Poorly design architecture,\\n• Missing appropriate security hardening,\\n• Unnecessary or insecure function/protocol/component.\\nAn attacker could, in such case, either inject malwares and/or manipulate existing software, harm the O-RAN components, create a performance issue by manipulation of parameters, or reconfigure the O-RAN components and disable the security features with the purpose of eavesdropping or wiretapping on various CUS & M planes, reaching northbound systems, attack broader network to cause denial-of-service, steal unprotected private keys, certificates, hash values, or other type of breaches.\\nIn addition, O-RAN components could be software providing network functions, so they are likely to be vulnerable to software flaws: it could be possible to bypass firewall restrictions or to take advantage of a buffer overflow to execute arbitrary commands, etc.'"
      ]
     },
     "execution_count": 24,
     "metadata": {},
     "output_type": "execute_result"
    }
   ],
   "source": [
    "threat_data_for_RAG['summary_th_df'].loc[0]"
   ]
  },
  {
   "cell_type": "code",
   "execution_count": 25,
   "id": "b20aecab",
   "metadata": {},
   "outputs": [],
   "source": [
    "id_for_query = \"T-A1-02\""
   ]
  },
  {
   "cell_type": "code",
   "execution_count": 26,
   "id": "d8a5fa26",
   "metadata": {},
   "outputs": [],
   "source": [
    "test_threat = threat_data_for_RAG[threat_data_for_RAG['Threat ID'] == id_for_query]"
   ]
  },
  {
   "cell_type": "code",
   "execution_count": 27,
   "id": "41f572c1",
   "metadata": {},
   "outputs": [
    {
     "data": {
      "text/html": [
       "<div>\n",
       "<style scoped>\n",
       "    .dataframe tbody tr th:only-of-type {\n",
       "        vertical-align: middle;\n",
       "    }\n",
       "\n",
       "    .dataframe tbody tr th {\n",
       "        vertical-align: top;\n",
       "    }\n",
       "\n",
       "    .dataframe thead th {\n",
       "        text-align: right;\n",
       "    }\n",
       "</style>\n",
       "<table border=\"1\" class=\"dataframe\">\n",
       "  <thead>\n",
       "    <tr style=\"text-align: right;\">\n",
       "      <th></th>\n",
       "      <th>Threat ID</th>\n",
       "      <th>summary_th_df</th>\n",
       "      <th>embedding</th>\n",
       "    </tr>\n",
       "  </thead>\n",
       "  <tbody>\n",
       "    <tr>\n",
       "      <th>82</th>\n",
       "      <td>T-A1-02</td>\n",
       "      <td>A Threat with the title Malicious function or application monitors messaging across A1 interface and the descriptionInternal threat actor can gain access to the messaging across the A1 interface for a MiTM attack to read policy.</td>\n",
       "      <td>[-0.027739309, 0.039540276, -0.038193483, -0.064284176, 0.088824324, -0.02560193, 0.12704141, 0.065274455, 0.054320317, 0.0046378914, 0.040495235, 0.0023881504, 0.03544273, -0.017115422, 0.016286844, 0.003277275, 0.101387314, -0.021604331, 0.018275477, 0.064627446, 0.08360575, 0.09084395, 0.023560043, -0.048624154, -0.06993853, -0.057262607, -0.04224992, 0.0016884137, 0.0075714597, -0.033969115, -0.06429448, 0.060686, -0.021285363, 0.053470537, -0.0606143, 0.033483386, 0.044285163, -0.02340873, -0.059319247, -0.057974245, -0.016330019, 0.07626063, 0.017759696, 0.022122798, -0.04441153, -0.06288382, -0.037837766, 0.04278041, -0.081336096, -0.04566745, -0.034063447, -0.037952803, 0.033880893, 0.06803568, 0.047451872, 0.00011087, 0.02009153, 0.07239538, 0.003620003, 0.060912747, 0.0074188113, -0.024893595, -7.6623866e-05, -0.009235851, -0.004327226, 0.017078962, -0.029751316, 0.029763315, 0.0029225426, -0.013260386, -0.069189, -0.039105035, -0.091323, 0.017978434, 0.028634576, 0.12855332, -0.049613547, -0.029881166, -0.018157825, -0.022697724, -0.018072657, 0.020875853, -0.019673185, 0.07867883, -0.014780375, 0.045998853, -0.021762995, -0.09158808, 0.04431891, 0.038917635, 0.0010569671, -0.08731048, 0.08533341, 0.06907569, 0.028410776, 0.048127726, -0.068348385, -0.13235407, -0.037798945, 0.12500024, ...]</td>\n",
       "    </tr>\n",
       "  </tbody>\n",
       "</table>\n",
       "</div>"
      ],
      "text/plain": [
       "   Threat ID  \\\n",
       "82   T-A1-02   \n",
       "\n",
       "                                                                                                                                                                                                                           summary_th_df  \\\n",
       "82  A Threat with the title Malicious function or application monitors messaging across A1 interface and the descriptionInternal threat actor can gain access to the messaging across the A1 interface for a MiTM attack to read policy.   \n",
       "\n",
       "                                                                                                                                                                                                                                                                                                                                                                                                                                                                                                                                                                                                                                                                                                                                                                                                                                                                                                                                                                                                                                                                                                                                                                                                                                                                                                                                                                      embedding  \n",
       "82  [-0.027739309, 0.039540276, -0.038193483, -0.064284176, 0.088824324, -0.02560193, 0.12704141, 0.065274455, 0.054320317, 0.0046378914, 0.040495235, 0.0023881504, 0.03544273, -0.017115422, 0.016286844, 0.003277275, 0.101387314, -0.021604331, 0.018275477, 0.064627446, 0.08360575, 0.09084395, 0.023560043, -0.048624154, -0.06993853, -0.057262607, -0.04224992, 0.0016884137, 0.0075714597, -0.033969115, -0.06429448, 0.060686, -0.021285363, 0.053470537, -0.0606143, 0.033483386, 0.044285163, -0.02340873, -0.059319247, -0.057974245, -0.016330019, 0.07626063, 0.017759696, 0.022122798, -0.04441153, -0.06288382, -0.037837766, 0.04278041, -0.081336096, -0.04566745, -0.034063447, -0.037952803, 0.033880893, 0.06803568, 0.047451872, 0.00011087, 0.02009153, 0.07239538, 0.003620003, 0.060912747, 0.0074188113, -0.024893595, -7.6623866e-05, -0.009235851, -0.004327226, 0.017078962, -0.029751316, 0.029763315, 0.0029225426, -0.013260386, -0.069189, -0.039105035, -0.091323, 0.017978434, 0.028634576, 0.12855332, -0.049613547, -0.029881166, -0.018157825, -0.022697724, -0.018072657, 0.020875853, -0.019673185, 0.07867883, -0.014780375, 0.045998853, -0.021762995, -0.09158808, 0.04431891, 0.038917635, 0.0010569671, -0.08731048, 0.08533341, 0.06907569, 0.028410776, 0.048127726, -0.068348385, -0.13235407, -0.037798945, 0.12500024, ...]  "
      ]
     },
     "execution_count": 27,
     "metadata": {},
     "output_type": "execute_result"
    }
   ],
   "source": [
    "test_threat"
   ]
  },
  {
   "cell_type": "code",
   "execution_count": 28,
   "id": "d2bf182c",
   "metadata": {},
   "outputs": [],
   "source": [
    "def get_relevant_informations(threat, db, n_results=3):\n",
    "    query = threat['summary_th_df']\n",
    "    embedding = threat['embedding']\n",
    "    results = db.query(\n",
    "        query_texts=[query],\n",
    "        query_embeddings=[embedding],\n",
    "        n_results=n_results\n",
    "    )\n",
    "    return results\n",
    "\n"
   ]
  },
  {
   "cell_type": "code",
   "execution_count": 29,
   "id": "b499bfcc",
   "metadata": {},
   "outputs": [],
   "source": [
    "relevant_infos = get_relevant_informations(test_threat.iloc[0], collection, 10)"
   ]
  },
  {
   "cell_type": "code",
   "execution_count": 30,
   "id": "37cf0010",
   "metadata": {},
   "outputs": [
    {
     "name": "stdout",
     "output_type": "stream",
     "text": [
      "Text: A CAPEC with the title Navigation Remapping To Propagate Malicious Content. The description of this CAPEC is: An adversary manipulates either egress or ingress data from a client within an application framework in order to change the content of messages and thereby circumvent the expected application logic.. The Domains of this are: Communications, Software\n",
      "Metadata: {'CAPEC ID': 'CAPEC-387'}\n",
      "Similarity Score: 0.3901\n",
      "----------------------------------------\n",
      "Text: A CAPEC with the title Choosing Message Identifier. The description of this CAPEC is: This pattern of attack is defined by the selection of messages distributed via multicast or public information channels that are intended for another client by determining the parameter value assigned to that client. This attack allows the adversary to gain access to potentially privileged information, and to possibly perpetrate other attacks through the distribution means by impersonation. If the channel/message being manipulated is an input rather than output mechanism for the system, (such as a command bus), this style of attack could be used to change the adversary's identifier to more a privileged one.. The Domain of this is: Communications\n",
      "Metadata: {'CAPEC ID': 'CAPEC-12'}\n",
      "Similarity Score: 0.4093\n",
      "----------------------------------------\n",
      "Text: A CAPEC with the title Application API Button Hijacking. The description of this CAPEC is: An attacker manipulates either egress or ingress data from a client within an application framework in order to change the destination and/or content of buttons displayed to a user within API messages. Performing this attack allows the attacker to manipulate content in such a way as to produce messages or content that looks authentic but contains buttons that point to an attacker controlled destination.. The Domains of this are: Communications, Software\n",
      "Metadata: {'CAPEC ID': 'CAPEC-388'}\n",
      "Similarity Score: 0.4169\n",
      "----------------------------------------\n",
      "Text: A CAPEC with the title Intent Spoof. The description of this CAPEC is: An adversary, through a previously installed malicious application, issues an intent directed toward a specific trusted application's component in an attempt to achieve a variety of different objectives including modification of data, information disclosure, and data injection. Components that have been unintentionally exported and made public are subject to this type of an attack. If the component trusts the intent's action without verififcation, then the target application performs the functionality at the adversary's request, helping the adversary achieve the desired negative technical impact.. The Domain of this is: Software\n",
      "Metadata: {'CAPEC ID': 'CAPEC-502'}\n",
      "Similarity Score: 0.4431\n",
      "----------------------------------------\n",
      "Text: A CAPEC with the title Adversary in the Middle (AiTM). The description of this CAPEC is: \n",
      "            <xhtml:p>An adversary targets the communication between two components (typically client and server), in order to alter or obtain data from transactions. A general approach entails the adversary placing themself within the communication channel between the two components.</xhtml:p>\n",
      "         . The Domains of this are: Communications, Software\n",
      "Metadata: {'CAPEC ID': 'CAPEC-94'}\n",
      "Similarity Score: 0.446\n",
      "----------------------------------------\n",
      "Text: A CAPEC with the title Protocol Manipulation. The description of this CAPEC is: An adversary subverts a communications protocol to perform an attack. This type of attack can allow an adversary to impersonate others, discover sensitive information, control the outcome of a session, or perform other attacks. This type of attack targets invalid assumptions that may be inherent in implementers of the protocol, incorrect implementations of the protocol, or vulnerabilities in the protocol itself.. The Domains of this are: Communications, Software\n",
      "Metadata: {'CAPEC ID': 'CAPEC-272'}\n",
      "Similarity Score: 0.4478\n",
      "----------------------------------------\n",
      "Text: A CAPEC with the title Using Meta-characters in E-mail Headers to Inject Malicious Payloads. The description of this CAPEC is: This type of attack involves an attacker leveraging meta-characters in email headers to inject improper behavior into email programs. Email software has become increasingly sophisticated and feature-rich. In addition, email applications are ubiquitous and connected directly to the Web making them ideal targets to launch and propagate attacks. As the user demand for new functionality in email applications grows, they become more like browsers with complex rendering and plug in routines. As more email functionality is included and abstracted from the user, this creates opportunities for attackers. Virtually all email applications do not list email header information by default, however the email header contains valuable attacker vectors for the attacker to exploit particularly if the behavior of the email client application is known. Meta-characters are hidden from the user, but can contain scripts, enumerations, probes, and other attacks against the user's system.. The Domains of this are: Software, Software\n",
      "Metadata: {'CAPEC ID': 'CAPEC-41'}\n",
      "Similarity Score: 0.4543\n",
      "----------------------------------------\n",
      "Text: A CAPEC with the title Android Intent Intercept. The description of this CAPEC is: An adversary, through a previously installed malicious application, intercepts messages from a trusted Android-based application in an attempt to achieve a variety of different objectives including denial of service, information disclosure, and data injection. An implicit intent sent from a trusted application can be received by any application that has declared an appropriate intent filter. If the intent is not protected by a permission that the malicious application lacks, then the attacker can gain access to the data contained within the intent. Further, the intent can be either blocked from reaching the intended destination, or modified and potentially forwarded along.. The Domain of this is: Software\n",
      "Metadata: {'CAPEC ID': 'CAPEC-499'}\n",
      "Similarity Score: 0.4568\n",
      "----------------------------------------\n",
      "Text: A CAPEC with the title Scheme Squatting. The description of this CAPEC is: An adversary, through a previously installed malicious application, registers for a URL scheme intended for a target application that has not been installed. Thereafter, messages intended for the target application are handled by the malicious application. Upon receiving a message, the malicious application displays a screen that mimics the target application, thereby convincing the user to enter sensitive information. This type of attack is most often used to obtain sensitive information (e.g., credentials) from the user as they think that they are interacting with the intended target application.. The Domain of this is: Social Engineering\n",
      "Metadata: {'CAPEC ID': 'CAPEC-505'}\n",
      "Similarity Score: 0.4581\n",
      "----------------------------------------\n",
      "Text: A CAPEC with the title Email Injection. The description of this CAPEC is: An adversary manipulates the headers and content of an email message by injecting data via the use of delimiter characters native to the protocol.. The Domain of this is: Software\n",
      "Metadata: {'CAPEC ID': 'CAPEC-134'}\n",
      "Similarity Score: 0.4704\n",
      "----------------------------------------\n"
     ]
    }
   ],
   "source": [
    "for doc, meta, score in zip(\n",
    "    relevant_infos['documents'][0],\n",
    "    relevant_infos['metadatas'][0],\n",
    "    relevant_infos['distances'][0]\n",
    "):\n",
    "    print(\"Text:\", doc)\n",
    "    print(\"Metadata:\", meta)\n",
    "    print(\"Similarity Score:\", round(score, 4))\n",
    "    print(\"-\" * 40)"
   ]
  },
  {
   "cell_type": "code",
   "execution_count": 31,
   "id": "207b09c7",
   "metadata": {},
   "outputs": [
    {
     "name": "stdout",
     "output_type": "stream",
     "text": [
      "Metadata: {'CAPEC ID': 'CAPEC-387'}\n",
      "Similarity Score: 0.6099\n",
      "----------------------------------------\n",
      "Metadata: {'CAPEC ID': 'CAPEC-12'}\n",
      "Similarity Score: 0.5907\n",
      "----------------------------------------\n",
      "Metadata: {'CAPEC ID': 'CAPEC-388'}\n",
      "Similarity Score: 0.5831\n",
      "----------------------------------------\n",
      "Metadata: {'CAPEC ID': 'CAPEC-502'}\n",
      "Similarity Score: 0.5569\n",
      "----------------------------------------\n",
      "Metadata: {'CAPEC ID': 'CAPEC-94'}\n",
      "Similarity Score: 0.554\n",
      "----------------------------------------\n",
      "Metadata: {'CAPEC ID': 'CAPEC-272'}\n",
      "Similarity Score: 0.5522\n",
      "----------------------------------------\n",
      "Metadata: {'CAPEC ID': 'CAPEC-41'}\n",
      "Similarity Score: 0.5457\n",
      "----------------------------------------\n",
      "Metadata: {'CAPEC ID': 'CAPEC-499'}\n",
      "Similarity Score: 0.5432\n",
      "----------------------------------------\n",
      "Metadata: {'CAPEC ID': 'CAPEC-505'}\n",
      "Similarity Score: 0.5419\n",
      "----------------------------------------\n",
      "Metadata: {'CAPEC ID': 'CAPEC-134'}\n",
      "Similarity Score: 0.5296\n",
      "----------------------------------------\n"
     ]
    }
   ],
   "source": [
    "for meta, score in zip(relevant_infos['metadatas'][0], relevant_infos['distances'][0]):\n",
    "    print(\"Metadata:\", meta)\n",
    "    print(\"Similarity Score:\", round(1-score, 4))\n",
    "    print(\"-\" * 40)\n"
   ]
  },
  {
   "cell_type": "code",
   "execution_count": 2,
   "id": "beb43042",
   "metadata": {},
   "outputs": [
    {
     "data": {
      "text/plain": [
       "Index(['Name', 'Domain', 'Description', 'CAPEC ID', 'Similarity',\n",
       "       'summary_th_df', 'summary_ca_df'],\n",
       "      dtype='object')"
      ]
     },
     "execution_count": 2,
     "metadata": {},
     "output_type": "execute_result"
    }
   ],
   "source": [
    "threat2capec_mapping_df = pd.read_pickle('mapped_data/all_t2c_mappings.pk1')\n",
    "threat2capec_mapping_df.columns"
   ]
  },
  {
   "cell_type": "code",
   "execution_count": 3,
   "id": "3b7aa25c",
   "metadata": {},
   "outputs": [
    {
     "data": {
      "text/plain": [
       "(101738, 7)"
      ]
     },
     "execution_count": 3,
     "metadata": {},
     "output_type": "execute_result"
    }
   ],
   "source": [
    "threat2capec_mapping_df.shape"
   ]
  },
  {
   "cell_type": "code",
   "execution_count": 34,
   "id": "4fd5fc62",
   "metadata": {},
   "outputs": [],
   "source": [
    "\n",
    "comparison = threat2capec_mapping_df[threat2capec_mapping_df.Name == id_for_query]"
   ]
  },
  {
   "cell_type": "code",
   "execution_count": 35,
   "id": "124652d2",
   "metadata": {},
   "outputs": [
    {
     "data": {
      "text/html": [
       "<div>\n",
       "<style scoped>\n",
       "    .dataframe tbody tr th:only-of-type {\n",
       "        vertical-align: middle;\n",
       "    }\n",
       "\n",
       "    .dataframe tbody tr th {\n",
       "        vertical-align: top;\n",
       "    }\n",
       "\n",
       "    .dataframe thead th {\n",
       "        text-align: right;\n",
       "    }\n",
       "</style>\n",
       "<table border=\"1\" class=\"dataframe\">\n",
       "  <thead>\n",
       "    <tr style=\"text-align: right;\">\n",
       "      <th></th>\n",
       "      <th>CAPEC ID</th>\n",
       "      <th>Similarity</th>\n",
       "    </tr>\n",
       "  </thead>\n",
       "  <tbody>\n",
       "    <tr>\n",
       "      <th>26472</th>\n",
       "      <td>CAPEC-387</td>\n",
       "      <td>0.609855</td>\n",
       "    </tr>\n",
       "    <tr>\n",
       "      <th>85622</th>\n",
       "      <td>CAPEC-12</td>\n",
       "      <td>0.590688</td>\n",
       "    </tr>\n",
       "    <tr>\n",
       "      <th>60506</th>\n",
       "      <td>CAPEC-388</td>\n",
       "      <td>0.583051</td>\n",
       "    </tr>\n",
       "    <tr>\n",
       "      <th>70334</th>\n",
       "      <td>CAPEC-502</td>\n",
       "      <td>0.556925</td>\n",
       "    </tr>\n",
       "    <tr>\n",
       "      <th>21558</th>\n",
       "      <td>CAPEC-94</td>\n",
       "      <td>0.553981</td>\n",
       "    </tr>\n",
       "  </tbody>\n",
       "</table>\n",
       "</div>"
      ],
      "text/plain": [
       "        CAPEC ID  Similarity\n",
       "26472  CAPEC-387    0.609855\n",
       "85622   CAPEC-12    0.590688\n",
       "60506  CAPEC-388    0.583051\n",
       "70334  CAPEC-502    0.556925\n",
       "21558   CAPEC-94    0.553981"
      ]
     },
     "execution_count": 35,
     "metadata": {},
     "output_type": "execute_result"
    }
   ],
   "source": [
    "comparison[['CAPEC ID', 'Similarity']].sort_values('Similarity', ascending=False).head(5)"
   ]
  },
  {
   "cell_type": "code",
   "execution_count": 4,
   "id": "56ff15ce",
   "metadata": {},
   "outputs": [
    {
     "name": "stdout",
     "output_type": "stream",
     "text": [
      "51\n"
     ]
    },
    {
     "data": {
      "image/png": "[encoded data removed]",
      "text/plain": [
       "<Figure size 800x500 with 1 Axes>"
      ]
     },
     "metadata": {},
     "output_type": "display_data"
    }
   ],
   "source": [
    "import matplotlib.pyplot as plt\n",
    "\n",
    "# Filter by similarity\n",
    "filtered_df = threat2capec_mapping_df[threat2capec_mapping_df[\"Similarity\"] > 0.55]\n",
    "\n",
    "# Count CAPECs per threat\n",
    "capec_counts = filtered_df.groupby(\"Name\")[\"CAPEC ID\"].nunique()\n",
    "print(len(capec_counts))\n",
    "# Plot histogram\n",
    "plt.figure(figsize=(8, 5))\n",
    "plt.hist(capec_counts, bins=range(1, capec_counts.max() + 2), edgecolor='black', alpha=0.7)\n",
    "plt.title(\"Distribution of CAPEC counts per threat (similarity > 0.55)\")\n",
    "plt.xlabel(\"Number of CAPECs per threat\")\n",
    "plt.ylabel(\"Number of threats\")\n",
    "plt.grid(axis='y', linestyle='--', alpha=0.7)\n",
    "plt.tight_layout()\n",
    "plt.show()\n",
    "\n"
   ]
  },
  {
   "cell_type": "code",
   "execution_count": 7,
   "id": "ec3020f4",
   "metadata": {},
   "outputs": [
    {
     "data": {
      "text/plain": [
       "count    163.000000\n",
       "mean       0.577498\n",
       "std        0.025743\n",
       "min        0.550371\n",
       "25%        0.557160\n",
       "50%        0.569874\n",
       "75%        0.589652\n",
       "max        0.667489\n",
       "Name: Similarity, dtype: float64"
      ]
     },
     "execution_count": 7,
     "metadata": {},
     "output_type": "execute_result"
    }
   ],
   "source": [
    "filtered_df.Similarity.describe()"
   ]
  },
  {
   "cell_type": "code",
   "execution_count": 37,
   "id": "8856e1b0",
   "metadata": {},
   "outputs": [
    {
     "data": {
      "text/plain": [
       "'A Threat with the title An attacker bypasses authentication and authorization using an injection attack and the descriptionIt is possible that an attacker to submit requests without prior authentication and authorization by executing an injection attack to manipulate configurations, access logs, perform remote code execution, etc.'"
      ]
     },
     "execution_count": 37,
     "metadata": {},
     "output_type": "execute_result"
    }
   ],
   "source": [
    "threat2capec_mapping_df[threat2capec_mapping_df['Name'] == \"T-rAPP-06\"]['summary_th_df'].values[0]"
   ]
  },
  {
   "cell_type": "code",
   "execution_count": 38,
   "id": "4fdcd70b",
   "metadata": {},
   "outputs": [
    {
     "data": {
      "text/plain": [
       "count    51.000000\n",
       "mean      3.196078\n",
       "std       3.810615\n",
       "min       1.000000\n",
       "25%       1.000000\n",
       "50%       2.000000\n",
       "75%       4.000000\n",
       "max      19.000000\n",
       "Name: CAPEC ID, dtype: float64"
      ]
     },
     "execution_count": 38,
     "metadata": {},
     "output_type": "execute_result"
    }
   ],
   "source": [
    "capec_counts.describe()"
   ]
  },
  {
   "cell_type": "code",
   "execution_count": 39,
   "id": "f34f3415",
   "metadata": {},
   "outputs": [
    {
     "data": {
      "text/plain": [
       "np.float64(2.0)"
      ]
     },
     "execution_count": 39,
     "metadata": {},
     "output_type": "execute_result"
    }
   ],
   "source": [
    "capec_counts.median()"
   ]
  },
  {
   "cell_type": "code",
   "execution_count": 40,
   "id": "6b1a9fc7",
   "metadata": {},
   "outputs": [],
   "source": [
    "import numpy as np"
   ]
  },
  {
   "cell_type": "code",
   "execution_count": 41,
   "id": "610cdc87",
   "metadata": {},
   "outputs": [
    {
     "name": "stdout",
     "output_type": "stream",
     "text": [
      "10 corresponds to approximately the 94.12th percentile.\n"
     ]
    }
   ],
   "source": [
    "percentile_for_10 = (np.sum(capec_counts <= 10) / len(capec_counts)) * 100\n",
    "print(f\"10 corresponds to approximately the {percentile_for_10:.2f}th percentile.\")"
   ]
  },
  {
   "cell_type": "code",
   "execution_count": 42,
   "id": "8f4a1652",
   "metadata": {},
   "outputs": [
    {
     "data": {
      "text/plain": [
       "tensor([[0.5540]])"
      ]
     },
     "execution_count": 42,
     "metadata": {},
     "output_type": "execute_result"
    }
   ],
   "source": [
    "cosine_similarity = util.pytorch_cos_sim(\n",
    "    torch.from_numpy(test_threat['embedding'].iloc[0]),\n",
    "    torch.from_numpy(capecs_for_rag[capecs_for_rag['CAPEC ID'] == 'CAPEC-94']['embedding'].iloc[0])\n",
    ")\n",
    "cosine_similarity"
   ]
  },
  {
   "cell_type": "code",
   "execution_count": null,
   "id": "0f67ddb7",
   "metadata": {},
   "outputs": [],
   "source": [
    "def create_rag_prompt(threat):\n",
    "    n_results = 10\n",
    "    results = get_relevant_informations(threat, collection, n_results=n_results)\n",
    "\n",
    "    # Prepare CAPEC list with IDs and summaries\n",
    "    capec_entries = []\n",
    "    for doc, meta in zip(results['documents'][0], results['metadatas'][0]):\n",
    "        capec_id = meta.get(\"CAPEC ID\", \"N/A\")\n",
    "        capec_entries.append(f\"{capec_id}: {doc}\")\n",
    "\n",
    "    capec_information = \"\\n\".join(capec_entries)\n",
    "    threat_description = threat['summary_th_df']\n",
    "\n",
    "    # Build the RAG prompt\n",
    "    prompt = f\"\"\"\n",
    "This task involves mapping a threat summary from the Open Radio Access Network (O-RAN) domain to relevant attack patterns.\n",
    "O-RAN represents a paradigm shift in Radio Access Network (RAN) design, moving from proprietary hardware to a more open,\n",
    "virtualized, and software-driven approach. It is used for mobile communication networks, particularly for 5G and future\n",
    "generations. Key principles of O-RAN include:\n",
    "- Open System: Characterized by standardized, open interfaces to foster a multi-vendor ecosystem.\n",
    "- Disaggregated RAN: Functionalities are distributed across different physical or virtual network functions.\n",
    "- Software-Driven Approach: Components are deployed on white-box appliances and accelerators.\n",
    "- Closed-Loop Control: Enabled by data-driven components deployed on RAN Intelligent Controllers (RICs).\n",
    "\n",
    "Now, based on the context above, analyze the following threat summary:\n",
    "{threat_description}\n",
    "\n",
    "Additionally, consider the following list of candidate CAPEC entries that were retrieved from a vector database as the 20\n",
    "most similar attack patterns to the given threat summary:\n",
    "\n",
    "{capec_information}\n",
    "\n",
    "From this list, identify which CAPEC IDs are most relevant to the described threat.\n",
    "\n",
    "As an output, provide only a JSON array containing the selected CAPEC IDs.\n",
    "Do not include any explanations or additional text, only the JSON array.\n",
    "\"\"\"\n",
    "    return prompt.strip()\n"
   ]
  },
  {
   "cell_type": "code",
   "execution_count": 49,
   "id": "0a4eae05",
   "metadata": {},
   "outputs": [
    {
     "data": {
      "text/plain": [
       "['deepseek-r1:1.5b']"
      ]
     },
     "execution_count": 49,
     "metadata": {},
     "output_type": "execute_result"
    }
   ],
   "source": [
    "small_models"
   ]
  },
  {
   "cell_type": "code",
   "execution_count": 63,
   "id": "87b8e190",
   "metadata": {},
   "outputs": [
    {
     "name": "stderr",
     "output_type": "stream",
     "text": [
      "100%|██████████| 1/1 [01:07<00:00, 67.59s/it]"
     ]
    },
    {
     "name": "stdout",
     "output_type": "stream",
     "text": [
      "Inference for model deepseek-r1:1.5b completed for threat T-A1-02\n"
     ]
    },
    {
     "name": "stderr",
     "output_type": "stream",
     "text": [
      "\n"
     ]
    }
   ],
   "source": [
    "rag_test = model_inference_ollama(small_models, test_threat, create_rag_prompt)"
   ]
  },
  {
   "cell_type": "code",
   "execution_count": 65,
   "id": "64d32df9",
   "metadata": {},
   "outputs": [
    {
     "name": "stdout",
     "output_type": "stream",
     "text": [
      "========================================\n",
      "Model: deepseek-r1:1.5b\n",
      "Speed: 14.33 tokens/second\n",
      "Total runtime: 01 m 06.85 seconds\n",
      "\n",
      "Output:\n"
     ]
    },
    {
     "data": {
      "text/markdown": [
       "```json\n",
       "[\n",
       "  \"CAPEC-12\",\n",
       "  \"CAPEC-388\",\n",
       "  \"CAPEC-502\",\n",
       "  \"CAPEC-272\",\n",
       "  \"CAPEC-41\",\n",
       "  \"CAPEC-499\"\n",
       "]\n",
       "```"
      ],
      "text/plain": [
       "<IPython.core.display.Markdown object>"
      ]
     },
     "metadata": {},
     "output_type": "display_data"
    }
   ],
   "source": [
    "display_model_results_ollama(small_models, rag_test)"
   ]
  },
  {
   "cell_type": "code",
   "execution_count": 68,
   "id": "3493e2f8",
   "metadata": {},
   "outputs": [],
   "source": [
    "medium_models = ['deepseek-r1:8b']"
   ]
  },
  {
   "cell_type": "code",
   "execution_count": 70,
   "id": "38b4afa3",
   "metadata": {},
   "outputs": [
    {
     "name": "stderr",
     "output_type": "stream",
     "text": [
      "100%|██████████| 1/1 [06:29<00:00, 389.86s/it]"
     ]
    },
    {
     "name": "stdout",
     "output_type": "stream",
     "text": [
      "Inference for model deepseek-r1:8b completed for threat T-A1-02\n"
     ]
    },
    {
     "name": "stderr",
     "output_type": "stream",
     "text": [
      "\n"
     ]
    }
   ],
   "source": [
    "rag_test_medium = model_inference_ollama(medium_models, test_threat, create_rag_prompt)"
   ]
  },
  {
   "cell_type": "code",
   "execution_count": 71,
   "id": "5fc597ff",
   "metadata": {},
   "outputs": [
    {
     "name": "stdout",
     "output_type": "stream",
     "text": [
      "========================================\n",
      "Model: deepseek-r1:8b\n",
      "Speed: 3.70 tokens/second\n",
      "Total runtime: 03 m 24.75 seconds\n",
      "\n",
      "Output:\n"
     ]
    },
    {
     "data": {
      "text/markdown": [
       "[\"CAPEC-94\", \"CAPEC-502\"]"
      ],
      "text/plain": [
       "<IPython.core.display.Markdown object>"
      ]
     },
     "metadata": {},
     "output_type": "display_data"
    }
   ],
   "source": [
    "display_model_results_ollama(medium_models, rag_test_medium)"
   ]
  },
  {
   "cell_type": "markdown",
   "id": "b149fd32",
   "metadata": {},
   "source": [
    "## Fine Tuning with LoRA"
   ]
  },
  {
   "cell_type": "code",
   "execution_count": 9,
   "id": "8e6bb3f9",
   "metadata": {},
   "outputs": [
    {
     "name": "stderr",
     "output_type": "stream",
     "text": [
      "/tmp/ipykernel_3837/4019501768.py:1: UserWarning: WARNING: Unsloth should be imported before transformers, peft to ensure all optimizations are applied. Your code may run slower or encounter memory issues without these optimizations.\n",
      "\n",
      "Please restructure your imports with 'import unsloth' at the top of your file.\n",
      "  from unsloth import FastLanguageModel, is_bfloat16_supported\n"
     ]
    },
    {
     "name": "stdout",
     "output_type": "stream",
     "text": [
      "🦥 Unsloth: Will patch your computer to enable 2x faster free finetuning.\n",
      "🦥 Unsloth Zoo will now patch everything to make training faster!\n"
     ]
    }
   ],
   "source": [
    "from unsloth import FastLanguageModel, is_bfloat16_supported\n",
    "from transformers import TrainingArguments\n",
    "from trl import SFTTrainer\n",
    "import wandb\n"
   ]
  },
  {
   "cell_type": "code",
   "execution_count": 14,
   "id": "e131f8f5",
   "metadata": {},
   "outputs": [],
   "source": [
    "wnb_token = os.getenv(\"WNB_TOKEN\")"
   ]
  },
  {
   "cell_type": "code",
   "execution_count": null,
   "id": "0ddced48",
   "metadata": {},
   "outputs": [
    {
     "ename": "SyntaxError",
     "evalue": "closing parenthesis '}' does not match opening parenthesis '(' on line 2 (651126383.py, line 16)",
     "output_type": "error",
     "traceback": [
      "  \u001b[36mCell\u001b[39m\u001b[36m \u001b[39m\u001b[32mIn[16]\u001b[39m\u001b[32m, line 16\u001b[39m\n\u001b[31m    \u001b[39m\u001b[31m})\u001b[39m\n    ^\n\u001b[31mSyntaxError\u001b[39m\u001b[31m:\u001b[39m closing parenthesis '}' does not match opening parenthesis '(' on line 2\n"
     ]
    }
   ],
   "source": [
    "wandb.login(key=wnb_token)\n",
    "run = wandb.init(\n",
    "    project=\"capec-mapping\",\n",
    "    job_type=\"training\",\n",
    "    anonymous=\"allow\",\n",
    "        )\n",
    "    # config={\n",
    "    #     \"model_name\": \"deepseek-r1:8b\",\n",
    "    #     \"dataset\": \"mapped_data/lora_training_data.jsonl\",\n",
    "    #     \"batch_size\": 4,\n",
    "    #     \"learning_rate\": 2e-5,\n",
    "    #     \"num_train_epochs\": 3,\n",
    "    #     \"gradient_accumulation_steps\": 1,\n",
    "    #     \"logging_steps\": 10,\n",
    "    #     \"save_steps\": 1000,\n",
    "    # \n",
    "\n"
   ]
  },
  {
   "cell_type": "code",
   "execution_count": 12,
   "id": "1a70b0e6",
   "metadata": {},
   "outputs": [
    {
     "name": "stdout",
     "output_type": "stream",
     "text": [
      "{'capec_id': 'CAPEC-533',\n",
      " 'mapped_capec': 'A CAPEC with the title Malicious Manual Software Update. The '\n",
      "                 'description of this CAPEC is:An attacker introduces '\n",
      "                 \"malicious code to the victim's system by altering the \"\n",
      "                 'payload of a software update, allowing for additional '\n",
      "                 'compromise or site disruption at the victim location. These '\n",
      "                 'manual, or user-assisted attacks, vary from requiring the '\n",
      "                 'user to download and run an executable, to as streamlined as '\n",
      "                 'tricking the user to click a URL. Attacks which aim at '\n",
      "                 'penetrating a specific network infrastructure often rely '\n",
      "                 'upon secondary attack methods to achieve the desired impact. '\n",
      "                 'Spamming, for example, is a common method employed as an '\n",
      "                 'secondary attack vector. Thus the attacker has in their '\n",
      "                 'arsenal a choice of initial attack vectors ranging from '\n",
      "                 'traditional SMTP/POP/IMAP spamming and its varieties, to '\n",
      "                 'web-application mechanisms which commonly implement both '\n",
      "                 'chat and rich HTML messaging within the user interface.. The '\n",
      "                 'Domains of this are: Social Engineering, Supply Chain, '\n",
      "                 'Software',\n",
      " 'threat': 'Threat Summary: A Threat with the title Attacker exploits insecure '\n",
      "           'API to gain access to SMO and the descriptionAn insecure API may '\n",
      "           'allow access to a system for an attacker to conduct remote code '\n",
      "           'execution or an advanced persistent threat'}\n"
     ]
    }
   ],
   "source": [
    "import json\n",
    "\n",
    "file_path = 'mapped_data/lora_training_data.jsonl'\n",
    "\n",
    "# Use a list comprehension to load each line as a separate JSON object\n",
    "data = [json.loads(line) for line in open(file_path, 'r', encoding='utf-8')]\n",
    "\n",
    "# 'data' is now a list of dictionaries, one for each line in your file.\n",
    "pprint(data[0]) # To see the first item"
   ]
  },
  {
   "cell_type": "markdown",
   "id": "f1788469",
   "metadata": {},
   "source": [
    "# Evaluation"
   ]
  },
  {
   "cell_type": "code",
   "execution_count": null,
   "id": "35848faf",
   "metadata": {},
   "outputs": [],
   "source": []
  }
 ],
 "metadata": {
  "kernelspec": {
   "display_name": "MasterThesis_LLM_optimization_ORCA",
   "language": "python",
   "name": "python3"
  },
  "language_info": {
   "codemirror_mode": {
    "name": "ipython",
    "version": 3
   },
   "file_extension": ".py",
   "mimetype": "text/x-python",
   "name": "python",
   "nbconvert_exporter": "python",
   "pygments_lexer": "ipython3",
   "version": "3.13.2"
  }
 },
 "nbformat": 4,
 "nbformat_minor": 5
}
